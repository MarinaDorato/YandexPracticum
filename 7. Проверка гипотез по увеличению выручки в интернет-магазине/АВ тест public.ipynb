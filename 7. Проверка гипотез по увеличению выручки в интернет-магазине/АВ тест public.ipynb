{
 "cells": [
  {
   "cell_type": "markdown",
   "id": "c8ac10d0",
   "metadata": {
    "toc": true
   },
   "source": [
    "<h1>Table of Contents<span class=\"tocSkip\"></span></h1>\n",
    "<div class=\"toc\"><ul class=\"toc-item\"><li><span><a href=\"#Инструкция\" data-toc-modified-id=\"Инструкция-1\"><span class=\"toc-item-num\">1&nbsp;&nbsp;</span>Инструкция</a></span><ul class=\"toc-item\"><li><span><a href=\"#Изучение-и-подготовка-данных.\" data-toc-modified-id=\"Изучение-и-подготовка-данных.-1.1\"><span class=\"toc-item-num\">1.1&nbsp;&nbsp;</span>Изучение и подготовка данных.</a></span></li><li><span><a href=\"#Обзор-проведённой-подготовительной-работы.\" data-toc-modified-id=\"Обзор-проведённой-подготовительной-работы.-1.2\"><span class=\"toc-item-num\">1.2&nbsp;&nbsp;</span>Обзор проведённой подготовительной работы.</a></span></li><li><span><a href=\"#Первичные-наблюдения.\" data-toc-modified-id=\"Первичные-наблюдения.-1.3\"><span class=\"toc-item-num\">1.3&nbsp;&nbsp;</span>Первичные наблюдения.</a></span></li></ul></li><li><span><a href=\"#Часть-1.-Приоритизация-гипотез.\" data-toc-modified-id=\"Часть-1.-Приоритизация-гипотез.-2\"><span class=\"toc-item-num\">2&nbsp;&nbsp;</span>Часть 1. Приоритизация гипотез.</a></span><ul class=\"toc-item\"><li><span><a href=\"#Применить-фреймворк-ICE-для-приоритизации-гипотез.-Отсортировать-их-по-убыванию-приоритета.\" data-toc-modified-id=\"Применить-фреймворк-ICE-для-приоритизации-гипотез.-Отсортировать-их-по-убыванию-приоритета.-2.1\"><span class=\"toc-item-num\">2.1&nbsp;&nbsp;</span>Применить фреймворк ICE для приоритизации гипотез. Отсортировать их по убыванию приоритета.</a></span></li><li><span><a href=\"#Применить-фреймворк-RICE-для-приоритизации-гипотез.-Отсортировать-их-по-убыванию-приоритета.\" data-toc-modified-id=\"Применить-фреймворк-RICE-для-приоритизации-гипотез.-Отсортировать-их-по-убыванию-приоритета.-2.2\"><span class=\"toc-item-num\">2.2&nbsp;&nbsp;</span>Применить фреймворк RICE для приоритизации гипотез. Отсортировать их по убыванию приоритета.</a></span></li><li><span><a href=\"#Указать,-как-изменилась-приоритизация-гипотез-при-применении-RICE-вместо-ICE.-Объяснить-причины.\" data-toc-modified-id=\"Указать,-как-изменилась-приоритизация-гипотез-при-применении-RICE-вместо-ICE.-Объяснить-причины.-2.3\"><span class=\"toc-item-num\">2.3&nbsp;&nbsp;</span>Указать, как изменилась приоритизация гипотез при применении RICE вместо ICE. Объяснить причины.</a></span></li></ul></li><li><span><a href=\"#Часть-2.-Анализ-A/B-теста.\" data-toc-modified-id=\"Часть-2.-Анализ-A/B-теста.-3\"><span class=\"toc-item-num\">3&nbsp;&nbsp;</span>Часть 2. Анализ A/B-теста.</a></span><ul class=\"toc-item\"><li><span><a href=\"#Построение-графика-кумулятивной-выручки-по-группам.\" data-toc-modified-id=\"Построение-графика-кумулятивной-выручки-по-группам.-3.1\"><span class=\"toc-item-num\">3.1&nbsp;&nbsp;</span>Построение графика кумулятивной выручки по группам.</a></span><ul class=\"toc-item\"><li><span><a href=\"#Выводы.\" data-toc-modified-id=\"Выводы.-3.1.1\"><span class=\"toc-item-num\">3.1.1&nbsp;&nbsp;</span>Выводы.</a></span></li><li><span><a href=\"#Вывод.\" data-toc-modified-id=\"Вывод.-3.1.2\"><span class=\"toc-item-num\">3.1.2&nbsp;&nbsp;</span>Вывод.</a></span></li></ul></li><li><span><a href=\"#Построение-графика-относительного-изменения-кумулятивного-среднего-чека-группы-B-к-группе-A.\" data-toc-modified-id=\"Построение-графика-относительного-изменения-кумулятивного-среднего-чека-группы-B-к-группе-A.-3.2\"><span class=\"toc-item-num\">3.2&nbsp;&nbsp;</span>Построение графика относительного изменения кумулятивного среднего чека группы B к группе A.</a></span><ul class=\"toc-item\"><li><span><a href=\"#Выводы.\" data-toc-modified-id=\"Выводы.-3.2.1\"><span class=\"toc-item-num\">3.2.1&nbsp;&nbsp;</span>Выводы.</a></span></li></ul></li><li><span><a href=\"#Построение-графика-кумулятивной-конверсии-по-группам.\" data-toc-modified-id=\"Построение-графика-кумулятивной-конверсии-по-группам.-3.3\"><span class=\"toc-item-num\">3.3&nbsp;&nbsp;</span>Построение графика кумулятивной конверсии по группам.</a></span><ul class=\"toc-item\"><li><span><a href=\"#Выводы.\" data-toc-modified-id=\"Выводы.-3.3.1\"><span class=\"toc-item-num\">3.3.1&nbsp;&nbsp;</span>Выводы.</a></span></li></ul></li><li><span><a href=\"#Построение-графика-относительного-изменения-кумулятивной-конверсии-группы-B-к-группе-A.\" data-toc-modified-id=\"Построение-графика-относительного-изменения-кумулятивной-конверсии-группы-B-к-группе-A.-3.4\"><span class=\"toc-item-num\">3.4&nbsp;&nbsp;</span>Построение графика относительного изменения кумулятивной конверсии группы B к группе A.</a></span><ul class=\"toc-item\"><li><span><a href=\"#Выводы.\" data-toc-modified-id=\"Выводы.-3.4.1\"><span class=\"toc-item-num\">3.4.1&nbsp;&nbsp;</span>Выводы.</a></span></li></ul></li><li><span><a href=\"#Построение-точечного-графика-количества-заказов-по-пользователям.\" data-toc-modified-id=\"Построение-точечного-графика-количества-заказов-по-пользователям.-3.5\"><span class=\"toc-item-num\">3.5&nbsp;&nbsp;</span>Построение точечного графика количества заказов по пользователям.</a></span><ul class=\"toc-item\"><li><span><a href=\"#Выводы.\" data-toc-modified-id=\"Выводы.-3.5.1\"><span class=\"toc-item-num\">3.5.1&nbsp;&nbsp;</span>Выводы.</a></span></li></ul></li><li><span><a href=\"#Посчитаем-95-й-и-99-й-перцентили-количества-заказов-на-пользователя.\" data-toc-modified-id=\"Посчитаем-95-й-и-99-й-перцентили-количества-заказов-на-пользователя.-3.6\"><span class=\"toc-item-num\">3.6&nbsp;&nbsp;</span>Посчитаем 95-й и 99-й перцентили количества заказов на пользователя.</a></span><ul class=\"toc-item\"><li><span><a href=\"#Граница-для-определения-аномальных-пользователей.\" data-toc-modified-id=\"Граница-для-определения-аномальных-пользователей.-3.6.1\"><span class=\"toc-item-num\">3.6.1&nbsp;&nbsp;</span>Граница для определения аномальных пользователей.</a></span></li></ul></li><li><span><a href=\"#Построение-точечного-графика-стоимостей-заказов.\" data-toc-modified-id=\"Построение-точечного-графика-стоимостей-заказов.-3.7\"><span class=\"toc-item-num\">3.7&nbsp;&nbsp;</span>Построение точечного графика стоимостей заказов.</a></span><ul class=\"toc-item\"><li><span><a href=\"#Выводы.\" data-toc-modified-id=\"Выводы.-3.7.1\"><span class=\"toc-item-num\">3.7.1&nbsp;&nbsp;</span>Выводы.</a></span></li></ul></li><li><span><a href=\"#Посчитаем-95-й-и-99-й-перцентили-стоимости-заказов.\" data-toc-modified-id=\"Посчитаем-95-й-и-99-й-перцентили-стоимости-заказов.-3.8\"><span class=\"toc-item-num\">3.8&nbsp;&nbsp;</span>Посчитаем 95-й и 99-й перцентили стоимости заказов.</a></span><ul class=\"toc-item\"><li><span><a href=\"#Граница-для-определения-аномальных-заказов.\" data-toc-modified-id=\"Граница-для-определения-аномальных-заказов.-3.8.1\"><span class=\"toc-item-num\">3.8.1&nbsp;&nbsp;</span>Граница для определения аномальных заказов.</a></span></li></ul></li><li><span><a href=\"#Посчитаем-статистическую-значимость-различий-в-конверсии-между-группами-по-«сырым»-данным.\" data-toc-modified-id=\"Посчитаем-статистическую-значимость-различий-в-конверсии-между-группами-по-«сырым»-данным.-3.9\"><span class=\"toc-item-num\">3.9&nbsp;&nbsp;</span>Посчитаем статистическую значимость различий в конверсии между группами по «сырым» данным.</a></span><ul class=\"toc-item\"><li><span><a href=\"#Выводы--по-конверсии-по-&quot;сырым&quot;-данным.\" data-toc-modified-id=\"Выводы--по-конверсии-по-&quot;сырым&quot;-данным.-3.9.1\"><span class=\"toc-item-num\">3.9.1&nbsp;&nbsp;</span>Выводы  по конверсии по \"сырым\" данным.</a></span></li></ul></li><li><span><a href=\"#Посчитаем-статистическую-значимость-различий-в-среднем-чеке-заказа-между-группами-по-«сырым»-данным.\" data-toc-modified-id=\"Посчитаем-статистическую-значимость-различий-в-среднем-чеке-заказа-между-группами-по-«сырым»-данным.-3.10\"><span class=\"toc-item-num\">3.10&nbsp;&nbsp;</span>Посчитаем статистическую значимость различий в среднем чеке заказа между группами по «сырым» данным.</a></span><ul class=\"toc-item\"><li><span><a href=\"#Выводы-по-среднему-чеку-по-&quot;сырым&quot;-данным.\" data-toc-modified-id=\"Выводы-по-среднему-чеку-по-&quot;сырым&quot;-данным.-3.10.1\"><span class=\"toc-item-num\">3.10.1&nbsp;&nbsp;</span>Выводы по среднему чеку по \"сырым\" данным.</a></span></li></ul></li><li><span><a href=\"#Посчитаем-статистическую-значимость-различий-в-конверсии-между-группами-по-«очищенным»-данным.\" data-toc-modified-id=\"Посчитаем-статистическую-значимость-различий-в-конверсии-между-группами-по-«очищенным»-данным.-3.11\"><span class=\"toc-item-num\">3.11&nbsp;&nbsp;</span>Посчитаем статистическую значимость различий в конверсии между группами по «очищенным» данным.</a></span><ul class=\"toc-item\"><li><span><a href=\"#Выводы-по-конверсии-по-очищенным-данным.\" data-toc-modified-id=\"Выводы-по-конверсии-по-очищенным-данным.-3.11.1\"><span class=\"toc-item-num\">3.11.1&nbsp;&nbsp;</span>Выводы по конверсии по очищенным данным.</a></span></li></ul></li><li><span><a href=\"#Посчитаем-статистическую-значимость-различий-в-среднем-чеке-заказа-между-группами-по-«очищенным»-данным.-Сделаем-выводы-и-предположения.\" data-toc-modified-id=\"Посчитаем-статистическую-значимость-различий-в-среднем-чеке-заказа-между-группами-по-«очищенным»-данным.-Сделаем-выводы-и-предположения.-3.12\"><span class=\"toc-item-num\">3.12&nbsp;&nbsp;</span>Посчитаем статистическую значимость различий в среднем чеке заказа между группами по «очищенным» данным. Сделаем выводы и предположения.</a></span><ul class=\"toc-item\"><li><span><a href=\"#Выводы-по-среднему-чеку-по-очищенным-данным.\" data-toc-modified-id=\"Выводы-по-среднему-чеку-по-очищенным-данным.-3.12.1\"><span class=\"toc-item-num\">3.12.1&nbsp;&nbsp;</span>Выводы по среднему чеку по очищенным данным.</a></span></li></ul></li><li><span><a href=\"#Выводы-по-результатам-теста.\" data-toc-modified-id=\"Выводы-по-результатам-теста.-3.13\"><span class=\"toc-item-num\">3.13&nbsp;&nbsp;</span>Выводы по результатам теста.</a></span></li></ul></li><li><span><a href=\"#Общие-выводы.\" data-toc-modified-id=\"Общие-выводы.-4\"><span class=\"toc-item-num\">4&nbsp;&nbsp;</span>Общие выводы.</a></span><ul class=\"toc-item\"><li><span><a href=\"#Обзор-проведённой-подготовительной-работы.\" data-toc-modified-id=\"Обзор-проведённой-подготовительной-работы.-4.1\"><span class=\"toc-item-num\">4.1&nbsp;&nbsp;</span>Обзор проведённой подготовительной работы.</a></span></li><li><span><a href=\"#Первичные-наблюдения.\" data-toc-modified-id=\"Первичные-наблюдения.-4.2\"><span class=\"toc-item-num\">4.2&nbsp;&nbsp;</span>Первичные наблюдения.</a></span></li><li><span><a href=\"#Часть-1.-Приоритизация-гипотез.\" data-toc-modified-id=\"Часть-1.-Приоритизация-гипотез.-4.3\"><span class=\"toc-item-num\">4.3&nbsp;&nbsp;</span>Часть 1. Приоритизация гипотез.</a></span></li><li><span><a href=\"#Часть-2.-Анализ-A/B-теста.\" data-toc-modified-id=\"Часть-2.-Анализ-A/B-теста.-4.4\"><span class=\"toc-item-num\">4.4&nbsp;&nbsp;</span>Часть 2. Анализ A/B-теста.</a></span></li><li><span><a href=\"#Решение-на-основании-выводов-А/В-теста.\" data-toc-modified-id=\"Решение-на-основании-выводов-А/В-теста.-4.5\"><span class=\"toc-item-num\">4.5&nbsp;&nbsp;</span>Решение на основании выводов А/В теста.</a></span></li></ul></li></ul></div>"
   ]
  },
  {
   "cell_type": "markdown",
   "id": "32e90f6b",
   "metadata": {},
   "source": [
    "# \"ICE ADVICE\""
   ]
  },
  {
   "cell_type": "markdown",
   "id": "886b43d6",
   "metadata": {},
   "source": [
    "**Совместно с  отделом маркетинга крупного интернет-магазина аналитический отдел подготовил список гипотез для увеличения выручки. Будем приоритизировать гипотезы, запускать A/B-тест и проанализировать результаты.**"
   ]
  },
  {
   "cell_type": "markdown",
   "id": "70d82288",
   "metadata": {},
   "source": [
    "### Изучение и подготовка данных."
   ]
  },
  {
   "cell_type": "code",
   "execution_count": 1,
   "id": "e1108f0e",
   "metadata": {},
   "outputs": [],
   "source": [
    "import pandas as pd\n",
    "import numpy as np\n",
    "import time\n",
    "from datetime import datetime\n",
    "from datetime import date, timedelta as td\n",
    "from matplotlib import pyplot as plt\n",
    "import seaborn as sns\n",
    "from tqdm import tqdm\n",
    "%matplotlib inline\n",
    "\n",
    "import scipy.stats as stats\n",
    "from pandas.plotting import register_matplotlib_converters\n",
    "import warnings\n"
   ]
  },
  {
   "cell_type": "code",
   "execution_count": 2,
   "id": "2abb7062",
   "metadata": {},
   "outputs": [],
   "source": [
    "# конвертеры, которые позволяют использовать типы pandas в matplotlib  \n",
    "register_matplotlib_converters()"
   ]
  },
  {
   "cell_type": "code",
   "execution_count": 3,
   "id": "083852e4",
   "metadata": {},
   "outputs": [],
   "source": [
    "#снижает размерность чисел для вывода на экран на всем проекте + помогает с экспоненциальной записью чисел\n",
    "pd.set_option(\"display.float_format\", \"{:.2f}\".format);"
   ]
  },
  {
   "cell_type": "code",
   "execution_count": 7,
   "id": "3aa312a2",
   "metadata": {},
   "outputs": [],
   "source": [
    "# Создам копии первичных датафреймов.\n",
    "hypothesis = data_hypothesis.copy()\n",
    "visitors = data_visitors.copy()\n",
    "orders = data_orders.copy()"
   ]
  },
  {
   "cell_type": "markdown",
   "id": "d65e7ac1",
   "metadata": {},
   "source": [
    "Для первой части нужен датафрейм hypothesis, с него начну"
   ]
  },
  {
   "cell_type": "code",
   "execution_count": 8,
   "id": "bd796b40",
   "metadata": {},
   "outputs": [
    {
     "data": {
      "text/html": [
       "<div>\n",
       "<style scoped>\n",
       "    .dataframe tbody tr th:only-of-type {\n",
       "        vertical-align: middle;\n",
       "    }\n",
       "\n",
       "    .dataframe tbody tr th {\n",
       "        vertical-align: top;\n",
       "    }\n",
       "\n",
       "    .dataframe thead th {\n",
       "        text-align: right;\n",
       "    }\n",
       "</style>\n",
       "<table border=\"1\" class=\"dataframe\">\n",
       "  <thead>\n",
       "    <tr style=\"text-align: right;\">\n",
       "      <th></th>\n",
       "      <th>Hypothesis</th>\n",
       "      <th>Reach</th>\n",
       "      <th>Impact</th>\n",
       "      <th>Confidence</th>\n",
       "      <th>Efforts</th>\n",
       "    </tr>\n",
       "  </thead>\n",
       "  <tbody>\n",
       "    <tr>\n",
       "      <th>0</th>\n",
       "      <td>Добавить два новых канала привлечения трафика, что позволит привлекать на 30% больше пользователей</td>\n",
       "      <td>3</td>\n",
       "      <td>10</td>\n",
       "      <td>8</td>\n",
       "      <td>6</td>\n",
       "    </tr>\n",
       "    <tr>\n",
       "      <th>1</th>\n",
       "      <td>Запустить собственную службу доставки, что сократит срок доставки заказов</td>\n",
       "      <td>2</td>\n",
       "      <td>5</td>\n",
       "      <td>4</td>\n",
       "      <td>10</td>\n",
       "    </tr>\n",
       "    <tr>\n",
       "      <th>2</th>\n",
       "      <td>Добавить блоки рекомендаций товаров на сайт интернет магазина, чтобы повысить конверсию и средний чек заказа</td>\n",
       "      <td>8</td>\n",
       "      <td>3</td>\n",
       "      <td>7</td>\n",
       "      <td>3</td>\n",
       "    </tr>\n",
       "    <tr>\n",
       "      <th>3</th>\n",
       "      <td>Изменить структура категорий, что увеличит конверсию, т.к. пользователи быстрее найдут нужный товар</td>\n",
       "      <td>8</td>\n",
       "      <td>3</td>\n",
       "      <td>3</td>\n",
       "      <td>8</td>\n",
       "    </tr>\n",
       "    <tr>\n",
       "      <th>4</th>\n",
       "      <td>Изменить цвет фона главной страницы, чтобы увеличить вовлеченность пользователей</td>\n",
       "      <td>3</td>\n",
       "      <td>1</td>\n",
       "      <td>1</td>\n",
       "      <td>1</td>\n",
       "    </tr>\n",
       "    <tr>\n",
       "      <th>5</th>\n",
       "      <td>Добавить страницу отзывов клиентов о магазине, что позволит увеличить количество заказов</td>\n",
       "      <td>3</td>\n",
       "      <td>2</td>\n",
       "      <td>2</td>\n",
       "      <td>3</td>\n",
       "    </tr>\n",
       "    <tr>\n",
       "      <th>6</th>\n",
       "      <td>Показать на главной странице баннеры с актуальными акциями и распродажами, чтобы увеличить конверсию</td>\n",
       "      <td>5</td>\n",
       "      <td>3</td>\n",
       "      <td>8</td>\n",
       "      <td>3</td>\n",
       "    </tr>\n",
       "    <tr>\n",
       "      <th>7</th>\n",
       "      <td>Добавить форму подписки на все основные страницы, чтобы собрать базу клиентов для email-рассылок</td>\n",
       "      <td>10</td>\n",
       "      <td>7</td>\n",
       "      <td>8</td>\n",
       "      <td>5</td>\n",
       "    </tr>\n",
       "    <tr>\n",
       "      <th>8</th>\n",
       "      <td>Запустить акцию, дающую скидку на товар в день рождения</td>\n",
       "      <td>1</td>\n",
       "      <td>9</td>\n",
       "      <td>9</td>\n",
       "      <td>5</td>\n",
       "    </tr>\n",
       "  </tbody>\n",
       "</table>\n",
       "</div>"
      ],
      "text/plain": [
       "                                                                                                     Hypothesis  \\\n",
       "0            Добавить два новых канала привлечения трафика, что позволит привлекать на 30% больше пользователей   \n",
       "1                                     Запустить собственную службу доставки, что сократит срок доставки заказов   \n",
       "2  Добавить блоки рекомендаций товаров на сайт интернет магазина, чтобы повысить конверсию и средний чек заказа   \n",
       "3           Изменить структура категорий, что увеличит конверсию, т.к. пользователи быстрее найдут нужный товар   \n",
       "4                              Изменить цвет фона главной страницы, чтобы увеличить вовлеченность пользователей   \n",
       "5                      Добавить страницу отзывов клиентов о магазине, что позволит увеличить количество заказов   \n",
       "6          Показать на главной странице баннеры с актуальными акциями и распродажами, чтобы увеличить конверсию   \n",
       "7              Добавить форму подписки на все основные страницы, чтобы собрать базу клиентов для email-рассылок   \n",
       "8                                                       Запустить акцию, дающую скидку на товар в день рождения   \n",
       "\n",
       "   Reach  Impact  Confidence  Efforts  \n",
       "0      3      10           8        6  \n",
       "1      2       5           4       10  \n",
       "2      8       3           7        3  \n",
       "3      8       3           3        8  \n",
       "4      3       1           1        1  \n",
       "5      3       2           2        3  \n",
       "6      5       3           8        3  \n",
       "7     10       7           8        5  \n",
       "8      1       9           9        5  "
      ]
     },
     "execution_count": 8,
     "metadata": {},
     "output_type": "execute_result"
    }
   ],
   "source": [
    "#1. датафрейм, содержащий формулировки гипотез и их оценочные показатели\n",
    "pd.options.display.max_colwidth = 400\n",
    "hypothesis"
   ]
  },
  {
   "cell_type": "code",
   "execution_count": 9,
   "id": "0065fb79",
   "metadata": {},
   "outputs": [
    {
     "data": {
      "text/plain": [
       "Hypothesis    0\n",
       "Reach         0\n",
       "Impact        0\n",
       "Confidence    0\n",
       "Efforts       0\n",
       "dtype: int64"
      ]
     },
     "execution_count": 9,
     "metadata": {},
     "output_type": "execute_result"
    }
   ],
   "source": [
    "# поиск пропусков.\n",
    "hypothesis.isna().sum()"
   ]
  },
  {
   "cell_type": "code",
   "execution_count": 10,
   "id": "cec99efa",
   "metadata": {},
   "outputs": [
    {
     "data": {
      "text/plain": [
       "0"
      ]
     },
     "execution_count": 10,
     "metadata": {},
     "output_type": "execute_result"
    }
   ],
   "source": [
    "# поиск дубликатов.\n",
    "hypothesis.duplicated(keep = False).sum()"
   ]
  },
  {
   "cell_type": "code",
   "execution_count": 11,
   "id": "857dc174",
   "metadata": {},
   "outputs": [],
   "source": [
    "# изменение регистра\n",
    "hypothesis.columns = hypothesis.columns.str.lower()"
   ]
  },
  {
   "cell_type": "code",
   "execution_count": 12,
   "id": "487f9ad1",
   "metadata": {},
   "outputs": [
    {
     "name": "stdout",
     "output_type": "stream",
     "text": [
      "<class 'pandas.core.frame.DataFrame'>\n",
      "RangeIndex: 9 entries, 0 to 8\n",
      "Data columns (total 5 columns):\n",
      " #   Column      Non-Null Count  Dtype \n",
      "---  ------      --------------  ----- \n",
      " 0   hypothesis  9 non-null      object\n",
      " 1   reach       9 non-null      int64 \n",
      " 2   impact      9 non-null      int64 \n",
      " 3   confidence  9 non-null      int64 \n",
      " 4   efforts     9 non-null      int64 \n",
      "dtypes: int64(4), object(1)\n",
      "memory usage: 488.0+ bytes\n"
     ]
    }
   ],
   "source": [
    "hypothesis.info()"
   ]
  },
  {
   "cell_type": "code",
   "execution_count": 13,
   "id": "479b5e36",
   "metadata": {},
   "outputs": [
    {
     "name": "stdout",
     "output_type": "stream",
     "text": [
      "<class 'pandas.core.frame.DataFrame'>\n",
      "RangeIndex: 1197 entries, 0 to 1196\n",
      "Data columns (total 5 columns):\n",
      " #   Column         Non-Null Count  Dtype \n",
      "---  ------         --------------  ----- \n",
      " 0   transactionId  1197 non-null   int64 \n",
      " 1   visitorId      1197 non-null   int64 \n",
      " 2   date           1197 non-null   object\n",
      " 3   revenue        1197 non-null   int64 \n",
      " 4   group          1197 non-null   object\n",
      "dtypes: int64(3), object(2)\n",
      "memory usage: 46.9+ KB\n"
     ]
    }
   ],
   "source": [
    "#2. датафрейм, содержащий данные о заказах\n",
    "orders.info()"
   ]
  },
  {
   "cell_type": "code",
   "execution_count": 14,
   "id": "cfdc2a85",
   "metadata": {},
   "outputs": [
    {
     "data": {
      "text/html": [
       "<div>\n",
       "<style scoped>\n",
       "    .dataframe tbody tr th:only-of-type {\n",
       "        vertical-align: middle;\n",
       "    }\n",
       "\n",
       "    .dataframe tbody tr th {\n",
       "        vertical-align: top;\n",
       "    }\n",
       "\n",
       "    .dataframe thead th {\n",
       "        text-align: right;\n",
       "    }\n",
       "</style>\n",
       "<table border=\"1\" class=\"dataframe\">\n",
       "  <thead>\n",
       "    <tr style=\"text-align: right;\">\n",
       "      <th></th>\n",
       "      <th>transactionId</th>\n",
       "      <th>visitorId</th>\n",
       "      <th>date</th>\n",
       "      <th>revenue</th>\n",
       "      <th>group</th>\n",
       "    </tr>\n",
       "  </thead>\n",
       "  <tbody>\n",
       "    <tr>\n",
       "      <th>0</th>\n",
       "      <td>3667963787</td>\n",
       "      <td>3312258926</td>\n",
       "      <td>2019-08-15</td>\n",
       "      <td>1650</td>\n",
       "      <td>B</td>\n",
       "    </tr>\n",
       "    <tr>\n",
       "      <th>1</th>\n",
       "      <td>2804400009</td>\n",
       "      <td>3642806036</td>\n",
       "      <td>2019-08-15</td>\n",
       "      <td>730</td>\n",
       "      <td>B</td>\n",
       "    </tr>\n",
       "    <tr>\n",
       "      <th>2</th>\n",
       "      <td>2961555356</td>\n",
       "      <td>4069496402</td>\n",
       "      <td>2019-08-15</td>\n",
       "      <td>400</td>\n",
       "      <td>A</td>\n",
       "    </tr>\n",
       "    <tr>\n",
       "      <th>3</th>\n",
       "      <td>3797467345</td>\n",
       "      <td>1196621759</td>\n",
       "      <td>2019-08-15</td>\n",
       "      <td>9759</td>\n",
       "      <td>B</td>\n",
       "    </tr>\n",
       "    <tr>\n",
       "      <th>4</th>\n",
       "      <td>2282983706</td>\n",
       "      <td>2322279887</td>\n",
       "      <td>2019-08-15</td>\n",
       "      <td>2308</td>\n",
       "      <td>B</td>\n",
       "    </tr>\n",
       "    <tr>\n",
       "      <th>...</th>\n",
       "      <td>...</td>\n",
       "      <td>...</td>\n",
       "      <td>...</td>\n",
       "      <td>...</td>\n",
       "      <td>...</td>\n",
       "    </tr>\n",
       "    <tr>\n",
       "      <th>1192</th>\n",
       "      <td>2662137336</td>\n",
       "      <td>3733762160</td>\n",
       "      <td>2019-08-14</td>\n",
       "      <td>6490</td>\n",
       "      <td>B</td>\n",
       "    </tr>\n",
       "    <tr>\n",
       "      <th>1193</th>\n",
       "      <td>2203539145</td>\n",
       "      <td>370388673</td>\n",
       "      <td>2019-08-14</td>\n",
       "      <td>3190</td>\n",
       "      <td>A</td>\n",
       "    </tr>\n",
       "    <tr>\n",
       "      <th>1194</th>\n",
       "      <td>1807773912</td>\n",
       "      <td>573423106</td>\n",
       "      <td>2019-08-14</td>\n",
       "      <td>10550</td>\n",
       "      <td>A</td>\n",
       "    </tr>\n",
       "    <tr>\n",
       "      <th>1195</th>\n",
       "      <td>1947021204</td>\n",
       "      <td>1614305549</td>\n",
       "      <td>2019-08-14</td>\n",
       "      <td>100</td>\n",
       "      <td>A</td>\n",
       "    </tr>\n",
       "    <tr>\n",
       "      <th>1196</th>\n",
       "      <td>3936777065</td>\n",
       "      <td>2108080724</td>\n",
       "      <td>2019-08-15</td>\n",
       "      <td>202740</td>\n",
       "      <td>B</td>\n",
       "    </tr>\n",
       "  </tbody>\n",
       "</table>\n",
       "<p>1197 rows × 5 columns</p>\n",
       "</div>"
      ],
      "text/plain": [
       "      transactionId   visitorId        date  revenue group\n",
       "0        3667963787  3312258926  2019-08-15     1650     B\n",
       "1        2804400009  3642806036  2019-08-15      730     B\n",
       "2        2961555356  4069496402  2019-08-15      400     A\n",
       "3        3797467345  1196621759  2019-08-15     9759     B\n",
       "4        2282983706  2322279887  2019-08-15     2308     B\n",
       "...             ...         ...         ...      ...   ...\n",
       "1192     2662137336  3733762160  2019-08-14     6490     B\n",
       "1193     2203539145   370388673  2019-08-14     3190     A\n",
       "1194     1807773912   573423106  2019-08-14    10550     A\n",
       "1195     1947021204  1614305549  2019-08-14      100     A\n",
       "1196     3936777065  2108080724  2019-08-15   202740     B\n",
       "\n",
       "[1197 rows x 5 columns]"
      ]
     },
     "execution_count": 14,
     "metadata": {},
     "output_type": "execute_result"
    }
   ],
   "source": [
    "orders"
   ]
  },
  {
   "cell_type": "code",
   "execution_count": 15,
   "id": "fccd524b",
   "metadata": {},
   "outputs": [
    {
     "data": {
      "text/plain": [
       "transactionId    0\n",
       "visitorId        0\n",
       "date             0\n",
       "revenue          0\n",
       "group            0\n",
       "dtype: int64"
      ]
     },
     "execution_count": 15,
     "metadata": {},
     "output_type": "execute_result"
    }
   ],
   "source": [
    "# поиск пропусков.\n",
    "orders.isna().sum()"
   ]
  },
  {
   "cell_type": "code",
   "execution_count": 16,
   "id": "0c920d74",
   "metadata": {},
   "outputs": [
    {
     "data": {
      "text/plain": [
       "0"
      ]
     },
     "execution_count": 16,
     "metadata": {},
     "output_type": "execute_result"
    }
   ],
   "source": [
    "# поиск дубликатов.\n",
    "orders.duplicated(keep = False).sum()"
   ]
  },
  {
   "cell_type": "code",
   "execution_count": 17,
   "id": "a95c12a5",
   "metadata": {},
   "outputs": [],
   "source": [
    "# замена типа данных столбца date\n",
    "orders['date'] = pd.to_datetime(orders['date'], format=\"%Y-%m-%d\")"
   ]
  },
  {
   "cell_type": "code",
   "execution_count": 18,
   "id": "61bb9ec1",
   "metadata": {},
   "outputs": [
    {
     "data": {
      "text/plain": [
       "260"
      ]
     },
     "execution_count": 18,
     "metadata": {},
     "output_type": "execute_result"
    }
   ],
   "source": [
    "orders.duplicated(['visitorId'],keep = False).sum()"
   ]
  },
  {
   "cell_type": "code",
   "execution_count": 19,
   "id": "af439748",
   "metadata": {},
   "outputs": [
    {
     "name": "stdout",
     "output_type": "stream",
     "text": [
      "       visitorId\n",
      "group           \n",
      "A            503\n",
      "B            586\n"
     ]
    }
   ],
   "source": [
    "# исследуем состав групп для уникальных ID\n",
    "groupAB = orders.pivot_table(index='group', values = 'visitorId', aggfunc='nunique')\n",
    "print(groupAB)"
   ]
  },
  {
   "cell_type": "markdown",
   "id": "70d39f94",
   "metadata": {},
   "source": [
    "В группе А - 503 уникальных visitorId, в группе В - 586"
   ]
  },
  {
   "cell_type": "code",
   "execution_count": 20,
   "id": "27cec8a0",
   "metadata": {},
   "outputs": [
    {
     "data": {
      "text/plain": [
       "count      1197.00\n",
       "mean       8348.01\n",
       "std       39191.13\n",
       "min          50.00\n",
       "25%        1220.00\n",
       "50%        2978.00\n",
       "75%        8290.00\n",
       "max     1294500.00\n",
       "Name: revenue, dtype: float64"
      ]
     },
     "execution_count": 20,
     "metadata": {},
     "output_type": "execute_result"
    }
   ],
   "source": [
    "# исследую данные столбца о выручке\n",
    "orders['revenue'].describe()"
   ]
  },
  {
   "cell_type": "markdown",
   "id": "71cc70ed",
   "metadata": {},
   "source": [
    "При средней стоиомости заказа в 8348, имеется значитальное отклонение"
   ]
  },
  {
   "cell_type": "code",
   "execution_count": 21,
   "id": "f86ade8d",
   "metadata": {},
   "outputs": [
    {
     "data": {
      "image/png": "[encoded data removed]",
      "text/plain": [
       "<Figure size 432x288 with 1 Axes>"
      ]
     },
     "metadata": {
      "needs_background": "light"
     },
     "output_type": "display_data"
    }
   ],
   "source": [
    "# Оценим стоимость заказов:\n",
    "x_values = pd.Series(range(0,len(orders['revenue'])));\n",
    "plt.scatter(x_values, orders['revenue']); \n",
    "plt.title('Распределение стоимости заказов', fontsize=14)\n",
    "plt.xlabel('частота');\n",
    "plt.ylabel('у.е.');\n",
    "plt.xticks(rotation=0,fontsize=8);"
   ]
  },
  {
   "cell_type": "markdown",
   "id": "46cfabff",
   "metadata": {},
   "source": [
    "Имеются два явных сплеска, при том, что общая группа не переходит черту в 20000. Принято отсеивать от 1% до 5% наблюдений с крайними значениями. Необходимо определиться где лежит граница."
   ]
  },
  {
   "cell_type": "code",
   "execution_count": 22,
   "id": "08b6797e",
   "metadata": {},
   "outputs": [
    {
     "name": "stdout",
     "output_type": "stream",
     "text": [
      "[18168.  28000.  58233.2]\n"
     ]
    }
   ],
   "source": [
    "# Определим 90, 95 и 99 перцентили среднего чека в выборке для выявления аномальных значений\n",
    "print(np.percentile(orders['revenue'], [90, 95, 99])) "
   ]
  },
  {
   "cell_type": "markdown",
   "id": "c931e41c",
   "metadata": {},
   "source": [
    "Не более 5% заказов дороже 28 000 и не более 1% дороже 58 233."
   ]
  },
  {
   "cell_type": "markdown",
   "id": "eb00e7cb",
   "metadata": {},
   "source": [
    "Подсчитаем количество заказов по пользователям и посмотрим на результат:"
   ]
  },
  {
   "cell_type": "code",
   "execution_count": 23,
   "id": "0c9148e9",
   "metadata": {},
   "outputs": [
    {
     "name": "stdout",
     "output_type": "stream",
     "text": [
      "       visitorId  orders\n",
      "1023  4256040402      11\n",
      "591   2458001652      11\n",
      "569   2378935119       9\n",
      "487   2038680547       8\n",
      "44     199603092       5\n",
      "744   3062433592       5\n",
      "55     237748145       5\n",
      "917   3803269165       5\n",
      "299   1230306981       5\n",
      "897   3717692402       5\n"
     ]
    }
   ],
   "source": [
    "ordersByUsers = (orders.groupby('visitorId', as_index=False).agg({'transactionId': 'nunique'}))\n",
    "ordersByUsers.columns = ['visitorId', 'orders']\n",
    "print(ordersByUsers.sort_values(by='orders', ascending=False).head(10))"
   ]
  },
  {
   "cell_type": "code",
   "execution_count": 24,
   "id": "97284b65",
   "metadata": {},
   "outputs": [
    {
     "data": {
      "image/png": "[encoded data removed]",
      "text/plain": [
       "<Figure size 432x288 with 1 Axes>"
      ]
     },
     "metadata": {
      "needs_background": "light"
     },
     "output_type": "display_data"
    }
   ],
   "source": [
    "# Построим гистограмму распределения числа заказов по пользователям методом hist().\n",
    "plt.hist(ordersByUsers['orders']);\n",
    "plt.title('Распределение числа заказов по пользователям', fontsize=14)\n",
    "plt.xlabel('количество заказов');\n",
    "plt.ylabel('частота');\n",
    "plt.xticks(rotation=0,fontsize=12);"
   ]
  },
  {
   "cell_type": "markdown",
   "id": "219c9296",
   "metadata": {},
   "source": [
    "Большинство пользователей совершило 1 заказ.\n",
    "Построим точечную диаграмму числа заказов на одного пользователя:"
   ]
  },
  {
   "cell_type": "code",
   "execution_count": 25,
   "id": "3fe5f35c",
   "metadata": {},
   "outputs": [
    {
     "data": {
      "image/png": "[encoded data removed]",
      "text/plain": [
       "<Figure size 432x288 with 1 Axes>"
      ]
     },
     "metadata": {
      "needs_background": "light"
     },
     "output_type": "display_data"
    }
   ],
   "source": [
    "x_values = pd.Series(range(0, len(ordersByUsers)));\n",
    "plt.scatter(x_values, ordersByUsers['orders']);\n",
    "plt.title('Диаграмма числа заказов на одного пользователя', fontsize=14)\n",
    "plt.xlabel('частота');\n",
    "plt.ylabel('количество заказов');\n",
    "plt.xticks(rotation=0,fontsize=12);"
   ]
  },
  {
   "cell_type": "markdown",
   "id": "bf7dcf5b",
   "metadata": {},
   "source": [
    "Большая часть покупателей совершала 1-2 покупки. Посчитаем 90-й, 95-й и 99-й выборочные перцентили количества заказов по пользователям методом np.percentile(), чтобы понять где именно лежит граница нормальности для количества заказов"
   ]
  },
  {
   "cell_type": "code",
   "execution_count": 26,
   "id": "7a633fdb",
   "metadata": {},
   "outputs": [
    {
     "name": "stdout",
     "output_type": "stream",
     "text": [
      "[1. 2. 4.]\n"
     ]
    }
   ],
   "source": [
    "print(np.percentile(ordersByUsers['orders'], [90, 95, 99]))"
   ]
  },
  {
   "cell_type": "markdown",
   "id": "76d4d352",
   "metadata": {},
   "source": [
    "Не более 5% покупателей осуществляли больше 2 заказов и не более 1% дороже более 4."
   ]
  },
  {
   "cell_type": "code",
   "execution_count": 27,
   "id": "ab270451",
   "metadata": {},
   "outputs": [
    {
     "name": "stdout",
     "output_type": "stream",
     "text": [
      "       visitorId\n",
      "group           \n",
      "A            557\n",
      "B            640\n"
     ]
    }
   ],
   "source": [
    "# всего в состав групп входит записей с неуникальными ID\n",
    "groupA_B = orders.pivot_table(index='group', values = 'visitorId', aggfunc='count')\n",
    "print(groupA_B)"
   ]
  },
  {
   "cell_type": "code",
   "execution_count": 28,
   "id": "bcbc4f41",
   "metadata": {},
   "outputs": [
    {
     "data": {
      "text/html": [
       "<div>\n",
       "<style scoped>\n",
       "    .dataframe tbody tr th:only-of-type {\n",
       "        vertical-align: middle;\n",
       "    }\n",
       "\n",
       "    .dataframe tbody tr th {\n",
       "        vertical-align: top;\n",
       "    }\n",
       "\n",
       "    .dataframe thead th {\n",
       "        text-align: right;\n",
       "    }\n",
       "</style>\n",
       "<table border=\"1\" class=\"dataframe\">\n",
       "  <thead>\n",
       "    <tr style=\"text-align: right;\">\n",
       "      <th></th>\n",
       "      <th>transactionId</th>\n",
       "      <th>visitorId</th>\n",
       "      <th>date</th>\n",
       "      <th>revenue</th>\n",
       "      <th>group</th>\n",
       "    </tr>\n",
       "  </thead>\n",
       "  <tbody>\n",
       "    <tr>\n",
       "      <th>2</th>\n",
       "      <td>2961555356</td>\n",
       "      <td>4069496402</td>\n",
       "      <td>2019-08-15</td>\n",
       "      <td>400</td>\n",
       "      <td>A</td>\n",
       "    </tr>\n",
       "    <tr>\n",
       "      <th>7</th>\n",
       "      <td>2626614568</td>\n",
       "      <td>78758296</td>\n",
       "      <td>2019-08-15</td>\n",
       "      <td>1044</td>\n",
       "      <td>A</td>\n",
       "    </tr>\n",
       "    <tr>\n",
       "      <th>8</th>\n",
       "      <td>1576988021</td>\n",
       "      <td>295230930</td>\n",
       "      <td>2019-08-15</td>\n",
       "      <td>13710</td>\n",
       "      <td>A</td>\n",
       "    </tr>\n",
       "    <tr>\n",
       "      <th>10</th>\n",
       "      <td>3649131742</td>\n",
       "      <td>879864040</td>\n",
       "      <td>2019-08-15</td>\n",
       "      <td>4008</td>\n",
       "      <td>A</td>\n",
       "    </tr>\n",
       "    <tr>\n",
       "      <th>12</th>\n",
       "      <td>2809384911</td>\n",
       "      <td>3213223594</td>\n",
       "      <td>2019-08-15</td>\n",
       "      <td>7370</td>\n",
       "      <td>A</td>\n",
       "    </tr>\n",
       "    <tr>\n",
       "      <th>...</th>\n",
       "      <td>...</td>\n",
       "      <td>...</td>\n",
       "      <td>...</td>\n",
       "      <td>...</td>\n",
       "      <td>...</td>\n",
       "    </tr>\n",
       "    <tr>\n",
       "      <th>1187</th>\n",
       "      <td>2274188238</td>\n",
       "      <td>132143192</td>\n",
       "      <td>2019-08-14</td>\n",
       "      <td>750</td>\n",
       "      <td>A</td>\n",
       "    </tr>\n",
       "    <tr>\n",
       "      <th>1188</th>\n",
       "      <td>1692103379</td>\n",
       "      <td>1022829655</td>\n",
       "      <td>2019-08-14</td>\n",
       "      <td>112</td>\n",
       "      <td>A</td>\n",
       "    </tr>\n",
       "    <tr>\n",
       "      <th>1193</th>\n",
       "      <td>2203539145</td>\n",
       "      <td>370388673</td>\n",
       "      <td>2019-08-14</td>\n",
       "      <td>3190</td>\n",
       "      <td>A</td>\n",
       "    </tr>\n",
       "    <tr>\n",
       "      <th>1194</th>\n",
       "      <td>1807773912</td>\n",
       "      <td>573423106</td>\n",
       "      <td>2019-08-14</td>\n",
       "      <td>10550</td>\n",
       "      <td>A</td>\n",
       "    </tr>\n",
       "    <tr>\n",
       "      <th>1195</th>\n",
       "      <td>1947021204</td>\n",
       "      <td>1614305549</td>\n",
       "      <td>2019-08-14</td>\n",
       "      <td>100</td>\n",
       "      <td>A</td>\n",
       "    </tr>\n",
       "  </tbody>\n",
       "</table>\n",
       "<p>557 rows × 5 columns</p>\n",
       "</div>"
      ],
      "text/plain": [
       "      transactionId   visitorId       date  revenue group\n",
       "2        2961555356  4069496402 2019-08-15      400     A\n",
       "7        2626614568    78758296 2019-08-15     1044     A\n",
       "8        1576988021   295230930 2019-08-15    13710     A\n",
       "10       3649131742   879864040 2019-08-15     4008     A\n",
       "12       2809384911  3213223594 2019-08-15     7370     A\n",
       "...             ...         ...        ...      ...   ...\n",
       "1187     2274188238   132143192 2019-08-14      750     A\n",
       "1188     1692103379  1022829655 2019-08-14      112     A\n",
       "1193     2203539145   370388673 2019-08-14     3190     A\n",
       "1194     1807773912   573423106 2019-08-14    10550     A\n",
       "1195     1947021204  1614305549 2019-08-14      100     A\n",
       "\n",
       "[557 rows x 5 columns]"
      ]
     },
     "execution_count": 28,
     "metadata": {},
     "output_type": "execute_result"
    }
   ],
   "source": [
    "# всего в состав группы А входит записей с неуникальными ID\n",
    "groupA=orders.query('group==\"A\"')\n",
    "groupA"
   ]
  },
  {
   "cell_type": "code",
   "execution_count": 29,
   "id": "38d133f6",
   "metadata": {},
   "outputs": [
    {
     "data": {
      "text/plain": [
       "4084803"
      ]
     },
     "execution_count": 29,
     "metadata": {},
     "output_type": "execute_result"
    }
   ],
   "source": [
    "groupA['revenue'].sum()"
   ]
  },
  {
   "cell_type": "code",
   "execution_count": 30,
   "id": "78f19ff2",
   "metadata": {},
   "outputs": [
    {
     "data": {
      "text/plain": [
       "count     557.00\n",
       "mean     7333.58\n",
       "std     11847.55\n",
       "min        50.00\n",
       "25%      1188.00\n",
       "50%      3000.00\n",
       "75%      8280.00\n",
       "max     93940.00\n",
       "Name: revenue, dtype: float64"
      ]
     },
     "execution_count": 30,
     "metadata": {},
     "output_type": "execute_result"
    }
   ],
   "source": [
    "groupA['revenue'].describe()"
   ]
  },
  {
   "cell_type": "code",
   "execution_count": 31,
   "id": "a0cefffd",
   "metadata": {},
   "outputs": [
    {
     "data": {
      "text/plain": [
       "date\n",
       "2019-08-01    148579\n",
       "2019-08-02     93822\n",
       "2019-08-03    112473\n",
       "2019-08-04     70825\n",
       "2019-08-05    124218\n",
       "2019-08-06     48484\n",
       "2019-08-07    142417\n",
       "2019-08-08     96279\n",
       "2019-08-09    188506\n",
       "2019-08-10    210495\n",
       "2019-08-11     77585\n",
       "2019-08-12    249190\n",
       "2019-08-13    263638\n",
       "2019-08-14     64341\n",
       "2019-08-15     88205\n",
       "2019-08-16     99851\n",
       "2019-08-17     50861\n",
       "2019-08-18     72398\n",
       "2019-08-19    189743\n",
       "2019-08-20     77619\n",
       "2019-08-21    174309\n",
       "2019-08-22    112741\n",
       "2019-08-23    117788\n",
       "2019-08-24    127703\n",
       "2019-08-25     68634\n",
       "2019-08-26    157214\n",
       "2019-08-27    286780\n",
       "2019-08-28    101122\n",
       "2019-08-29    320690\n",
       "2019-08-30     86460\n",
       "2019-08-31     61833\n",
       "Name: revenue, dtype: int64"
      ]
     },
     "execution_count": 31,
     "metadata": {},
     "output_type": "execute_result"
    }
   ],
   "source": [
    "groupA.groupby('date')['revenue'].sum()"
   ]
  },
  {
   "cell_type": "code",
   "execution_count": 32,
   "id": "ed66f80c",
   "metadata": {},
   "outputs": [
    {
     "data": {
      "image/png": "[encoded data removed]",
      "text/plain": [
       "<Figure size 432x288 with 1 Axes>"
      ]
     },
     "metadata": {
      "needs_background": "light"
     },
     "output_type": "display_data"
    }
   ],
   "source": [
    "(groupA.groupby('date')['revenue'].sum()).plot();\n",
    "plt.title('Динамика выручки группы А', fontsize=14)\n",
    "plt.xlabel('дата');\n",
    "plt.ylabel('у.е.');\n",
    "plt.xticks(rotation=0,fontsize=12);"
   ]
  },
  {
   "cell_type": "markdown",
   "id": "92b4383a",
   "metadata": {},
   "source": [
    "Пиковые значения выручки приходились на 10, 12, 13, 27, 29 числа"
   ]
  },
  {
   "cell_type": "code",
   "execution_count": 33,
   "id": "7eb3cabd",
   "metadata": {},
   "outputs": [
    {
     "data": {
      "image/png": "[encoded data removed]",
      "text/plain": [
       "<Figure size 432x288 with 1 Axes>"
      ]
     },
     "metadata": {
      "needs_background": "light"
     },
     "output_type": "display_data"
    }
   ],
   "source": [
    "groupA.boxplot('revenue') \n",
    "plt.ylim(0, 100000);\n",
    "plt.title('Диаграмма размаха группы А', fontsize=14)\n",
    "plt.xlabel('частота');\n",
    "plt.ylabel('у.е.');\n",
    "plt.xticks(rotation=0,fontsize=12);"
   ]
  },
  {
   "cell_type": "markdown",
   "id": "3eb3c8e4",
   "metadata": {},
   "source": [
    "Диаграмма размаха имеет значительный хвост, в среднем выручка группы находится в [1000:9000]"
   ]
  },
  {
   "cell_type": "code",
   "execution_count": 34,
   "id": "00ecfea7",
   "metadata": {},
   "outputs": [
    {
     "data": {
      "text/html": [
       "<div>\n",
       "<style scoped>\n",
       "    .dataframe tbody tr th:only-of-type {\n",
       "        vertical-align: middle;\n",
       "    }\n",
       "\n",
       "    .dataframe tbody tr th {\n",
       "        vertical-align: top;\n",
       "    }\n",
       "\n",
       "    .dataframe thead th {\n",
       "        text-align: right;\n",
       "    }\n",
       "</style>\n",
       "<table border=\"1\" class=\"dataframe\">\n",
       "  <thead>\n",
       "    <tr style=\"text-align: right;\">\n",
       "      <th></th>\n",
       "      <th>transactionId</th>\n",
       "      <th>visitorId</th>\n",
       "      <th>date</th>\n",
       "      <th>revenue</th>\n",
       "      <th>group</th>\n",
       "    </tr>\n",
       "  </thead>\n",
       "  <tbody>\n",
       "    <tr>\n",
       "      <th>0</th>\n",
       "      <td>3667963787</td>\n",
       "      <td>3312258926</td>\n",
       "      <td>2019-08-15</td>\n",
       "      <td>1650</td>\n",
       "      <td>B</td>\n",
       "    </tr>\n",
       "    <tr>\n",
       "      <th>1</th>\n",
       "      <td>2804400009</td>\n",
       "      <td>3642806036</td>\n",
       "      <td>2019-08-15</td>\n",
       "      <td>730</td>\n",
       "      <td>B</td>\n",
       "    </tr>\n",
       "    <tr>\n",
       "      <th>3</th>\n",
       "      <td>3797467345</td>\n",
       "      <td>1196621759</td>\n",
       "      <td>2019-08-15</td>\n",
       "      <td>9759</td>\n",
       "      <td>B</td>\n",
       "    </tr>\n",
       "    <tr>\n",
       "      <th>4</th>\n",
       "      <td>2282983706</td>\n",
       "      <td>2322279887</td>\n",
       "      <td>2019-08-15</td>\n",
       "      <td>2308</td>\n",
       "      <td>B</td>\n",
       "    </tr>\n",
       "    <tr>\n",
       "      <th>5</th>\n",
       "      <td>182168103</td>\n",
       "      <td>935554773</td>\n",
       "      <td>2019-08-15</td>\n",
       "      <td>2210</td>\n",
       "      <td>B</td>\n",
       "    </tr>\n",
       "    <tr>\n",
       "      <th>...</th>\n",
       "      <td>...</td>\n",
       "      <td>...</td>\n",
       "      <td>...</td>\n",
       "      <td>...</td>\n",
       "      <td>...</td>\n",
       "    </tr>\n",
       "    <tr>\n",
       "      <th>1189</th>\n",
       "      <td>4082620617</td>\n",
       "      <td>393266494</td>\n",
       "      <td>2019-08-14</td>\n",
       "      <td>31550</td>\n",
       "      <td>B</td>\n",
       "    </tr>\n",
       "    <tr>\n",
       "      <th>1190</th>\n",
       "      <td>38478481</td>\n",
       "      <td>1197745035</td>\n",
       "      <td>2019-08-14</td>\n",
       "      <td>8600</td>\n",
       "      <td>B</td>\n",
       "    </tr>\n",
       "    <tr>\n",
       "      <th>1191</th>\n",
       "      <td>3592955527</td>\n",
       "      <td>608641596</td>\n",
       "      <td>2019-08-14</td>\n",
       "      <td>16490</td>\n",
       "      <td>B</td>\n",
       "    </tr>\n",
       "    <tr>\n",
       "      <th>1192</th>\n",
       "      <td>2662137336</td>\n",
       "      <td>3733762160</td>\n",
       "      <td>2019-08-14</td>\n",
       "      <td>6490</td>\n",
       "      <td>B</td>\n",
       "    </tr>\n",
       "    <tr>\n",
       "      <th>1196</th>\n",
       "      <td>3936777065</td>\n",
       "      <td>2108080724</td>\n",
       "      <td>2019-08-15</td>\n",
       "      <td>202740</td>\n",
       "      <td>B</td>\n",
       "    </tr>\n",
       "  </tbody>\n",
       "</table>\n",
       "<p>640 rows × 5 columns</p>\n",
       "</div>"
      ],
      "text/plain": [
       "      transactionId   visitorId       date  revenue group\n",
       "0        3667963787  3312258926 2019-08-15     1650     B\n",
       "1        2804400009  3642806036 2019-08-15      730     B\n",
       "3        3797467345  1196621759 2019-08-15     9759     B\n",
       "4        2282983706  2322279887 2019-08-15     2308     B\n",
       "5         182168103   935554773 2019-08-15     2210     B\n",
       "...             ...         ...        ...      ...   ...\n",
       "1189     4082620617   393266494 2019-08-14    31550     B\n",
       "1190       38478481  1197745035 2019-08-14     8600     B\n",
       "1191     3592955527   608641596 2019-08-14    16490     B\n",
       "1192     2662137336  3733762160 2019-08-14     6490     B\n",
       "1196     3936777065  2108080724 2019-08-15   202740     B\n",
       "\n",
       "[640 rows x 5 columns]"
      ]
     },
     "execution_count": 34,
     "metadata": {},
     "output_type": "execute_result"
    }
   ],
   "source": [
    "# всего в состав группы В входит записей с неуникальными ID\n",
    "groupB=orders.query('group==\"B\"')\n",
    "groupB"
   ]
  },
  {
   "cell_type": "code",
   "execution_count": 35,
   "id": "6bc1cf48",
   "metadata": {},
   "outputs": [
    {
     "data": {
      "text/plain": [
       "5907760"
      ]
     },
     "execution_count": 35,
     "metadata": {},
     "output_type": "execute_result"
    }
   ],
   "source": [
    "groupB['revenue'].sum()"
   ]
  },
  {
   "cell_type": "code",
   "execution_count": 36,
   "id": "48b5ce0b",
   "metadata": {},
   "outputs": [
    {
     "data": {
      "text/plain": [
       "count       640.00\n",
       "mean       9230.88\n",
       "std       52449.77\n",
       "min          50.00\n",
       "25%        1312.50\n",
       "50%        2965.00\n",
       "75%        8355.25\n",
       "max     1294500.00\n",
       "Name: revenue, dtype: float64"
      ]
     },
     "execution_count": 36,
     "metadata": {},
     "output_type": "execute_result"
    }
   ],
   "source": [
    "groupB['revenue'].describe()"
   ]
  },
  {
   "cell_type": "code",
   "execution_count": 37,
   "id": "ebff4164",
   "metadata": {},
   "outputs": [
    {
     "data": {
      "text/plain": [
       "date\n",
       "2019-08-01    148579\n",
       "2019-08-02     93822\n",
       "2019-08-03    112473\n",
       "2019-08-04     70825\n",
       "2019-08-05    124218\n",
       "2019-08-06     48484\n",
       "2019-08-07    142417\n",
       "2019-08-08     96279\n",
       "2019-08-09    188506\n",
       "2019-08-10    210495\n",
       "2019-08-11     77585\n",
       "2019-08-12    249190\n",
       "2019-08-13    263638\n",
       "2019-08-14     64341\n",
       "2019-08-15     88205\n",
       "2019-08-16     99851\n",
       "2019-08-17     50861\n",
       "2019-08-18     72398\n",
       "2019-08-19    189743\n",
       "2019-08-20     77619\n",
       "2019-08-21    174309\n",
       "2019-08-22    112741\n",
       "2019-08-23    117788\n",
       "2019-08-24    127703\n",
       "2019-08-25     68634\n",
       "2019-08-26    157214\n",
       "2019-08-27    286780\n",
       "2019-08-28    101122\n",
       "2019-08-29    320690\n",
       "2019-08-30     86460\n",
       "2019-08-31     61833\n",
       "Name: revenue, dtype: int64"
      ]
     },
     "execution_count": 37,
     "metadata": {},
     "output_type": "execute_result"
    }
   ],
   "source": [
    "groupA.groupby('date')['revenue'].sum()"
   ]
  },
  {
   "cell_type": "code",
   "execution_count": 38,
   "id": "3bb32c3c",
   "metadata": {},
   "outputs": [
    {
     "data": {
      "image/png": "[encoded data removed]",
      "text/plain": [
       "<Figure size 432x288 with 1 Axes>"
      ]
     },
     "metadata": {
      "needs_background": "light"
     },
     "output_type": "display_data"
    }
   ],
   "source": [
    "(groupB.groupby('date')['revenue'].sum()).plot();\n",
    "plt.title('Динамика выручки группы В', fontsize=14)\n",
    "plt.xlabel('дата');\n",
    "plt.ylabel('у.е.');\n",
    "plt.xticks(rotation=0,fontsize=12);"
   ]
  },
  {
   "cell_type": "markdown",
   "id": "4d4c9b44",
   "metadata": {},
   "source": [
    " Для группы В пиковые значения выручки приходились на 19 число."
   ]
  },
  {
   "cell_type": "code",
   "execution_count": 39,
   "id": "b3844548",
   "metadata": {},
   "outputs": [
    {
     "data": {
      "image/png": "[encoded data removed]",
      "text/plain": [
       "<Figure size 432x288 with 1 Axes>"
      ]
     },
     "metadata": {
      "needs_background": "light"
     },
     "output_type": "display_data"
    }
   ],
   "source": [
    "groupB.boxplot('revenue') \n",
    "plt.ylim(0, 100000);\n",
    "plt.title('Диаграмма размаха группы В', fontsize=14)\n",
    "plt.xlabel('частота');\n",
    "plt.ylabel('у.е.');\n",
    "plt.xticks(rotation=0,fontsize=12);"
   ]
  },
  {
   "cell_type": "markdown",
   "id": "d624f1fe",
   "metadata": {},
   "source": [
    "Диаграмма размаха имеет значительный хвост, в среднем выручка группы находится в [1000:9000]"
   ]
  },
  {
   "cell_type": "markdown",
   "id": "6e19cfe1",
   "metadata": {},
   "source": [
    "**Анализом датафрейма, содержащего данные о заказах установлено следующее:**\n",
    "\n",
    "1. пользователи входят в состав двух групп: А неуникальных записей  557, В - 640.\n",
    "2. В группе А - 503 уникальных visitorId, в группе В - 586.\n",
    "3. Максимальный показатель выручки для группы А - 93 940, средний -  7 333, общий объём - 4 084 803.\n",
    "4. Максимальный показатель выручки для группы В - 1 294 500, средний -  9231, общий объём - 5 907 760.\n",
    "5. Данные представлены за август 2019г.\n",
    "6. Для группы А пиковые значения выручки приходились на 10, 12, 13, 27, 29 числа. Диаграмма размаха имеет значительный хвост, в среднем выручка группы находится в [1000:9000]\n",
    "7. Для группы В пиковые значения выручки приходились на 19 число. Диаграмма размаха имеет значительный хвост, в среднем выручка группы находится в [1000:9000]"
   ]
  },
  {
   "cell_type": "code",
   "execution_count": 40,
   "id": "df83af15",
   "metadata": {},
   "outputs": [
    {
     "data": {
      "text/html": [
       "<div>\n",
       "<style scoped>\n",
       "    .dataframe tbody tr th:only-of-type {\n",
       "        vertical-align: middle;\n",
       "    }\n",
       "\n",
       "    .dataframe tbody tr th {\n",
       "        vertical-align: top;\n",
       "    }\n",
       "\n",
       "    .dataframe thead th {\n",
       "        text-align: right;\n",
       "    }\n",
       "</style>\n",
       "<table border=\"1\" class=\"dataframe\">\n",
       "  <thead>\n",
       "    <tr style=\"text-align: right;\">\n",
       "      <th></th>\n",
       "      <th>date</th>\n",
       "      <th>group</th>\n",
       "      <th>visitors</th>\n",
       "    </tr>\n",
       "  </thead>\n",
       "  <tbody>\n",
       "    <tr>\n",
       "      <th>0</th>\n",
       "      <td>2019-08-01</td>\n",
       "      <td>A</td>\n",
       "      <td>719</td>\n",
       "    </tr>\n",
       "    <tr>\n",
       "      <th>1</th>\n",
       "      <td>2019-08-02</td>\n",
       "      <td>A</td>\n",
       "      <td>619</td>\n",
       "    </tr>\n",
       "    <tr>\n",
       "      <th>2</th>\n",
       "      <td>2019-08-03</td>\n",
       "      <td>A</td>\n",
       "      <td>507</td>\n",
       "    </tr>\n",
       "    <tr>\n",
       "      <th>3</th>\n",
       "      <td>2019-08-04</td>\n",
       "      <td>A</td>\n",
       "      <td>717</td>\n",
       "    </tr>\n",
       "    <tr>\n",
       "      <th>4</th>\n",
       "      <td>2019-08-05</td>\n",
       "      <td>A</td>\n",
       "      <td>756</td>\n",
       "    </tr>\n",
       "    <tr>\n",
       "      <th>...</th>\n",
       "      <td>...</td>\n",
       "      <td>...</td>\n",
       "      <td>...</td>\n",
       "    </tr>\n",
       "    <tr>\n",
       "      <th>57</th>\n",
       "      <td>2019-08-27</td>\n",
       "      <td>B</td>\n",
       "      <td>720</td>\n",
       "    </tr>\n",
       "    <tr>\n",
       "      <th>58</th>\n",
       "      <td>2019-08-28</td>\n",
       "      <td>B</td>\n",
       "      <td>654</td>\n",
       "    </tr>\n",
       "    <tr>\n",
       "      <th>59</th>\n",
       "      <td>2019-08-29</td>\n",
       "      <td>B</td>\n",
       "      <td>531</td>\n",
       "    </tr>\n",
       "    <tr>\n",
       "      <th>60</th>\n",
       "      <td>2019-08-30</td>\n",
       "      <td>B</td>\n",
       "      <td>490</td>\n",
       "    </tr>\n",
       "    <tr>\n",
       "      <th>61</th>\n",
       "      <td>2019-08-31</td>\n",
       "      <td>B</td>\n",
       "      <td>718</td>\n",
       "    </tr>\n",
       "  </tbody>\n",
       "</table>\n",
       "<p>62 rows × 3 columns</p>\n",
       "</div>"
      ],
      "text/plain": [
       "          date group  visitors\n",
       "0   2019-08-01     A       719\n",
       "1   2019-08-02     A       619\n",
       "2   2019-08-03     A       507\n",
       "3   2019-08-04     A       717\n",
       "4   2019-08-05     A       756\n",
       "..         ...   ...       ...\n",
       "57  2019-08-27     B       720\n",
       "58  2019-08-28     B       654\n",
       "59  2019-08-29     B       531\n",
       "60  2019-08-30     B       490\n",
       "61  2019-08-31     B       718\n",
       "\n",
       "[62 rows x 3 columns]"
      ]
     },
     "execution_count": 40,
     "metadata": {},
     "output_type": "execute_result"
    }
   ],
   "source": [
    "#3. датафрейм, содержащий данные о посетителях\n",
    "visitors"
   ]
  },
  {
   "cell_type": "code",
   "execution_count": 41,
   "id": "2eb14120",
   "metadata": {},
   "outputs": [
    {
     "name": "stdout",
     "output_type": "stream",
     "text": [
      "<class 'pandas.core.frame.DataFrame'>\n",
      "RangeIndex: 62 entries, 0 to 61\n",
      "Data columns (total 3 columns):\n",
      " #   Column    Non-Null Count  Dtype \n",
      "---  ------    --------------  ----- \n",
      " 0   date      62 non-null     object\n",
      " 1   group     62 non-null     object\n",
      " 2   visitors  62 non-null     int64 \n",
      "dtypes: int64(1), object(2)\n",
      "memory usage: 1.6+ KB\n"
     ]
    }
   ],
   "source": [
    "visitors.info()"
   ]
  },
  {
   "cell_type": "code",
   "execution_count": 42,
   "id": "4ee5aa61",
   "metadata": {},
   "outputs": [
    {
     "data": {
      "text/plain": [
       "date        0\n",
       "group       0\n",
       "visitors    0\n",
       "dtype: int64"
      ]
     },
     "execution_count": 42,
     "metadata": {},
     "output_type": "execute_result"
    }
   ],
   "source": [
    "visitors.isna().sum()"
   ]
  },
  {
   "cell_type": "code",
   "execution_count": 43,
   "id": "8293e05d",
   "metadata": {},
   "outputs": [
    {
     "data": {
      "text/plain": [
       "0"
      ]
     },
     "execution_count": 43,
     "metadata": {},
     "output_type": "execute_result"
    }
   ],
   "source": [
    "visitors.duplicated().sum()"
   ]
  },
  {
   "cell_type": "code",
   "execution_count": 44,
   "id": "66c71e26",
   "metadata": {},
   "outputs": [],
   "source": [
    "visitors['date']=pd.to_datetime(visitors['date'], format = '%Y-%m-%d')"
   ]
  },
  {
   "cell_type": "code",
   "execution_count": 45,
   "id": "96137f6d",
   "metadata": {},
   "outputs": [
    {
     "name": "stdout",
     "output_type": "stream",
     "text": [
      "<class 'pandas.core.frame.DataFrame'>\n",
      "RangeIndex: 62 entries, 0 to 61\n",
      "Data columns (total 3 columns):\n",
      " #   Column    Non-Null Count  Dtype         \n",
      "---  ------    --------------  -----         \n",
      " 0   date      62 non-null     datetime64[ns]\n",
      " 1   group     62 non-null     object        \n",
      " 2   visitors  62 non-null     int64         \n",
      "dtypes: datetime64[ns](1), int64(1), object(1)\n",
      "memory usage: 1.6+ KB\n"
     ]
    }
   ],
   "source": [
    "visitors.info()"
   ]
  },
  {
   "cell_type": "code",
   "execution_count": 46,
   "id": "261e5a3f",
   "metadata": {},
   "outputs": [
    {
     "data": {
      "text/html": [
       "<div>\n",
       "<style scoped>\n",
       "    .dataframe tbody tr th:only-of-type {\n",
       "        vertical-align: middle;\n",
       "    }\n",
       "\n",
       "    .dataframe tbody tr th {\n",
       "        vertical-align: top;\n",
       "    }\n",
       "\n",
       "    .dataframe thead th {\n",
       "        text-align: right;\n",
       "    }\n",
       "</style>\n",
       "<table border=\"1\" class=\"dataframe\">\n",
       "  <thead>\n",
       "    <tr style=\"text-align: right;\">\n",
       "      <th></th>\n",
       "      <th>date</th>\n",
       "      <th>group</th>\n",
       "      <th>visitors</th>\n",
       "    </tr>\n",
       "  </thead>\n",
       "  <tbody>\n",
       "    <tr>\n",
       "      <th>0</th>\n",
       "      <td>2019-08-01</td>\n",
       "      <td>A</td>\n",
       "      <td>719</td>\n",
       "    </tr>\n",
       "    <tr>\n",
       "      <th>1</th>\n",
       "      <td>2019-08-02</td>\n",
       "      <td>A</td>\n",
       "      <td>619</td>\n",
       "    </tr>\n",
       "    <tr>\n",
       "      <th>2</th>\n",
       "      <td>2019-08-03</td>\n",
       "      <td>A</td>\n",
       "      <td>507</td>\n",
       "    </tr>\n",
       "    <tr>\n",
       "      <th>3</th>\n",
       "      <td>2019-08-04</td>\n",
       "      <td>A</td>\n",
       "      <td>717</td>\n",
       "    </tr>\n",
       "    <tr>\n",
       "      <th>4</th>\n",
       "      <td>2019-08-05</td>\n",
       "      <td>A</td>\n",
       "      <td>756</td>\n",
       "    </tr>\n",
       "    <tr>\n",
       "      <th>5</th>\n",
       "      <td>2019-08-06</td>\n",
       "      <td>A</td>\n",
       "      <td>667</td>\n",
       "    </tr>\n",
       "    <tr>\n",
       "      <th>6</th>\n",
       "      <td>2019-08-07</td>\n",
       "      <td>A</td>\n",
       "      <td>644</td>\n",
       "    </tr>\n",
       "    <tr>\n",
       "      <th>7</th>\n",
       "      <td>2019-08-08</td>\n",
       "      <td>A</td>\n",
       "      <td>610</td>\n",
       "    </tr>\n",
       "    <tr>\n",
       "      <th>8</th>\n",
       "      <td>2019-08-09</td>\n",
       "      <td>A</td>\n",
       "      <td>617</td>\n",
       "    </tr>\n",
       "    <tr>\n",
       "      <th>9</th>\n",
       "      <td>2019-08-10</td>\n",
       "      <td>A</td>\n",
       "      <td>406</td>\n",
       "    </tr>\n",
       "    <tr>\n",
       "      <th>10</th>\n",
       "      <td>2019-08-11</td>\n",
       "      <td>A</td>\n",
       "      <td>718</td>\n",
       "    </tr>\n",
       "    <tr>\n",
       "      <th>11</th>\n",
       "      <td>2019-08-12</td>\n",
       "      <td>A</td>\n",
       "      <td>595</td>\n",
       "    </tr>\n",
       "    <tr>\n",
       "      <th>12</th>\n",
       "      <td>2019-08-13</td>\n",
       "      <td>A</td>\n",
       "      <td>748</td>\n",
       "    </tr>\n",
       "    <tr>\n",
       "      <th>13</th>\n",
       "      <td>2019-08-14</td>\n",
       "      <td>A</td>\n",
       "      <td>735</td>\n",
       "    </tr>\n",
       "    <tr>\n",
       "      <th>14</th>\n",
       "      <td>2019-08-15</td>\n",
       "      <td>A</td>\n",
       "      <td>628</td>\n",
       "    </tr>\n",
       "    <tr>\n",
       "      <th>15</th>\n",
       "      <td>2019-08-16</td>\n",
       "      <td>A</td>\n",
       "      <td>361</td>\n",
       "    </tr>\n",
       "    <tr>\n",
       "      <th>16</th>\n",
       "      <td>2019-08-17</td>\n",
       "      <td>A</td>\n",
       "      <td>412</td>\n",
       "    </tr>\n",
       "    <tr>\n",
       "      <th>17</th>\n",
       "      <td>2019-08-18</td>\n",
       "      <td>A</td>\n",
       "      <td>668</td>\n",
       "    </tr>\n",
       "    <tr>\n",
       "      <th>18</th>\n",
       "      <td>2019-08-19</td>\n",
       "      <td>A</td>\n",
       "      <td>502</td>\n",
       "    </tr>\n",
       "    <tr>\n",
       "      <th>19</th>\n",
       "      <td>2019-08-20</td>\n",
       "      <td>A</td>\n",
       "      <td>575</td>\n",
       "    </tr>\n",
       "    <tr>\n",
       "      <th>20</th>\n",
       "      <td>2019-08-21</td>\n",
       "      <td>A</td>\n",
       "      <td>646</td>\n",
       "    </tr>\n",
       "    <tr>\n",
       "      <th>21</th>\n",
       "      <td>2019-08-22</td>\n",
       "      <td>A</td>\n",
       "      <td>609</td>\n",
       "    </tr>\n",
       "    <tr>\n",
       "      <th>22</th>\n",
       "      <td>2019-08-23</td>\n",
       "      <td>A</td>\n",
       "      <td>468</td>\n",
       "    </tr>\n",
       "    <tr>\n",
       "      <th>23</th>\n",
       "      <td>2019-08-24</td>\n",
       "      <td>A</td>\n",
       "      <td>395</td>\n",
       "    </tr>\n",
       "    <tr>\n",
       "      <th>24</th>\n",
       "      <td>2019-08-25</td>\n",
       "      <td>A</td>\n",
       "      <td>621</td>\n",
       "    </tr>\n",
       "    <tr>\n",
       "      <th>25</th>\n",
       "      <td>2019-08-26</td>\n",
       "      <td>A</td>\n",
       "      <td>722</td>\n",
       "    </tr>\n",
       "    <tr>\n",
       "      <th>26</th>\n",
       "      <td>2019-08-27</td>\n",
       "      <td>A</td>\n",
       "      <td>711</td>\n",
       "    </tr>\n",
       "    <tr>\n",
       "      <th>27</th>\n",
       "      <td>2019-08-28</td>\n",
       "      <td>A</td>\n",
       "      <td>594</td>\n",
       "    </tr>\n",
       "    <tr>\n",
       "      <th>28</th>\n",
       "      <td>2019-08-29</td>\n",
       "      <td>A</td>\n",
       "      <td>577</td>\n",
       "    </tr>\n",
       "    <tr>\n",
       "      <th>29</th>\n",
       "      <td>2019-08-30</td>\n",
       "      <td>A</td>\n",
       "      <td>490</td>\n",
       "    </tr>\n",
       "    <tr>\n",
       "      <th>30</th>\n",
       "      <td>2019-08-31</td>\n",
       "      <td>A</td>\n",
       "      <td>699</td>\n",
       "    </tr>\n",
       "  </tbody>\n",
       "</table>\n",
       "</div>"
      ],
      "text/plain": [
       "         date group  visitors\n",
       "0  2019-08-01     A       719\n",
       "1  2019-08-02     A       619\n",
       "2  2019-08-03     A       507\n",
       "3  2019-08-04     A       717\n",
       "4  2019-08-05     A       756\n",
       "5  2019-08-06     A       667\n",
       "6  2019-08-07     A       644\n",
       "7  2019-08-08     A       610\n",
       "8  2019-08-09     A       617\n",
       "9  2019-08-10     A       406\n",
       "10 2019-08-11     A       718\n",
       "11 2019-08-12     A       595\n",
       "12 2019-08-13     A       748\n",
       "13 2019-08-14     A       735\n",
       "14 2019-08-15     A       628\n",
       "15 2019-08-16     A       361\n",
       "16 2019-08-17     A       412\n",
       "17 2019-08-18     A       668\n",
       "18 2019-08-19     A       502\n",
       "19 2019-08-20     A       575\n",
       "20 2019-08-21     A       646\n",
       "21 2019-08-22     A       609\n",
       "22 2019-08-23     A       468\n",
       "23 2019-08-24     A       395\n",
       "24 2019-08-25     A       621\n",
       "25 2019-08-26     A       722\n",
       "26 2019-08-27     A       711\n",
       "27 2019-08-28     A       594\n",
       "28 2019-08-29     A       577\n",
       "29 2019-08-30     A       490\n",
       "30 2019-08-31     A       699"
      ]
     },
     "execution_count": 46,
     "metadata": {},
     "output_type": "execute_result"
    }
   ],
   "source": [
    "# всего в состав группы A входит записей о посещении\n",
    "group_vizA=visitors.query('group==\"A\"')\n",
    "group_vizA"
   ]
  },
  {
   "cell_type": "code",
   "execution_count": 47,
   "id": "0741466f",
   "metadata": {},
   "outputs": [
    {
     "data": {
      "image/png": "[encoded data removed]",
      "text/plain": [
       "<Figure size 432x288 with 1 Axes>"
      ]
     },
     "metadata": {
      "needs_background": "light"
     },
     "output_type": "display_data"
    }
   ],
   "source": [
    "# Динамика группы A \n",
    "group_vizA = group_vizA.pivot_table(index = ['date'], values = 'visitors',aggfunc='sum')\n",
    "group_vizA.plot();\n",
    "plt.title('Динамика посещений группы А', fontsize=14)\n",
    "plt.xlabel('дата');\n",
    "plt.ylabel('количество');\n",
    "plt.xticks(rotation=0,fontsize=12);"
   ]
  },
  {
   "cell_type": "code",
   "execution_count": 48,
   "id": "c27815d7",
   "metadata": {},
   "outputs": [
    {
     "data": {
      "text/plain": [
       "count    31.00\n",
       "mean    604.39\n",
       "std     112.40\n",
       "min     361.00\n",
       "25%     541.00\n",
       "50%     619.00\n",
       "75%     705.00\n",
       "max     756.00\n",
       "Name: visitors, dtype: float64"
      ]
     },
     "execution_count": 48,
     "metadata": {},
     "output_type": "execute_result"
    }
   ],
   "source": [
    "group_vizA['visitors'].describe()"
   ]
  },
  {
   "cell_type": "markdown",
   "id": "49343e37",
   "metadata": {},
   "source": [
    "Для группы А максимальное количество посещений - 756, среднее - 604. Положительные пики 5,11,13,18,21,26,30."
   ]
  },
  {
   "cell_type": "code",
   "execution_count": 49,
   "id": "66810955",
   "metadata": {},
   "outputs": [
    {
     "data": {
      "text/html": [
       "<div>\n",
       "<style scoped>\n",
       "    .dataframe tbody tr th:only-of-type {\n",
       "        vertical-align: middle;\n",
       "    }\n",
       "\n",
       "    .dataframe tbody tr th {\n",
       "        vertical-align: top;\n",
       "    }\n",
       "\n",
       "    .dataframe thead th {\n",
       "        text-align: right;\n",
       "    }\n",
       "</style>\n",
       "<table border=\"1\" class=\"dataframe\">\n",
       "  <thead>\n",
       "    <tr style=\"text-align: right;\">\n",
       "      <th></th>\n",
       "      <th>date</th>\n",
       "      <th>group</th>\n",
       "      <th>visitors</th>\n",
       "    </tr>\n",
       "  </thead>\n",
       "  <tbody>\n",
       "    <tr>\n",
       "      <th>31</th>\n",
       "      <td>2019-08-01</td>\n",
       "      <td>B</td>\n",
       "      <td>713</td>\n",
       "    </tr>\n",
       "    <tr>\n",
       "      <th>32</th>\n",
       "      <td>2019-08-02</td>\n",
       "      <td>B</td>\n",
       "      <td>581</td>\n",
       "    </tr>\n",
       "    <tr>\n",
       "      <th>33</th>\n",
       "      <td>2019-08-03</td>\n",
       "      <td>B</td>\n",
       "      <td>509</td>\n",
       "    </tr>\n",
       "    <tr>\n",
       "      <th>34</th>\n",
       "      <td>2019-08-04</td>\n",
       "      <td>B</td>\n",
       "      <td>770</td>\n",
       "    </tr>\n",
       "    <tr>\n",
       "      <th>35</th>\n",
       "      <td>2019-08-05</td>\n",
       "      <td>B</td>\n",
       "      <td>707</td>\n",
       "    </tr>\n",
       "    <tr>\n",
       "      <th>36</th>\n",
       "      <td>2019-08-06</td>\n",
       "      <td>B</td>\n",
       "      <td>655</td>\n",
       "    </tr>\n",
       "    <tr>\n",
       "      <th>37</th>\n",
       "      <td>2019-08-07</td>\n",
       "      <td>B</td>\n",
       "      <td>709</td>\n",
       "    </tr>\n",
       "    <tr>\n",
       "      <th>38</th>\n",
       "      <td>2019-08-08</td>\n",
       "      <td>B</td>\n",
       "      <td>654</td>\n",
       "    </tr>\n",
       "    <tr>\n",
       "      <th>39</th>\n",
       "      <td>2019-08-09</td>\n",
       "      <td>B</td>\n",
       "      <td>610</td>\n",
       "    </tr>\n",
       "    <tr>\n",
       "      <th>40</th>\n",
       "      <td>2019-08-10</td>\n",
       "      <td>B</td>\n",
       "      <td>369</td>\n",
       "    </tr>\n",
       "    <tr>\n",
       "      <th>41</th>\n",
       "      <td>2019-08-11</td>\n",
       "      <td>B</td>\n",
       "      <td>721</td>\n",
       "    </tr>\n",
       "    <tr>\n",
       "      <th>42</th>\n",
       "      <td>2019-08-12</td>\n",
       "      <td>B</td>\n",
       "      <td>543</td>\n",
       "    </tr>\n",
       "    <tr>\n",
       "      <th>43</th>\n",
       "      <td>2019-08-13</td>\n",
       "      <td>B</td>\n",
       "      <td>769</td>\n",
       "    </tr>\n",
       "    <tr>\n",
       "      <th>44</th>\n",
       "      <td>2019-08-14</td>\n",
       "      <td>B</td>\n",
       "      <td>746</td>\n",
       "    </tr>\n",
       "    <tr>\n",
       "      <th>45</th>\n",
       "      <td>2019-08-15</td>\n",
       "      <td>B</td>\n",
       "      <td>544</td>\n",
       "    </tr>\n",
       "    <tr>\n",
       "      <th>46</th>\n",
       "      <td>2019-08-16</td>\n",
       "      <td>B</td>\n",
       "      <td>413</td>\n",
       "    </tr>\n",
       "    <tr>\n",
       "      <th>47</th>\n",
       "      <td>2019-08-17</td>\n",
       "      <td>B</td>\n",
       "      <td>421</td>\n",
       "    </tr>\n",
       "    <tr>\n",
       "      <th>48</th>\n",
       "      <td>2019-08-18</td>\n",
       "      <td>B</td>\n",
       "      <td>737</td>\n",
       "    </tr>\n",
       "    <tr>\n",
       "      <th>49</th>\n",
       "      <td>2019-08-19</td>\n",
       "      <td>B</td>\n",
       "      <td>487</td>\n",
       "    </tr>\n",
       "    <tr>\n",
       "      <th>50</th>\n",
       "      <td>2019-08-20</td>\n",
       "      <td>B</td>\n",
       "      <td>560</td>\n",
       "    </tr>\n",
       "    <tr>\n",
       "      <th>51</th>\n",
       "      <td>2019-08-21</td>\n",
       "      <td>B</td>\n",
       "      <td>656</td>\n",
       "    </tr>\n",
       "    <tr>\n",
       "      <th>52</th>\n",
       "      <td>2019-08-22</td>\n",
       "      <td>B</td>\n",
       "      <td>650</td>\n",
       "    </tr>\n",
       "    <tr>\n",
       "      <th>53</th>\n",
       "      <td>2019-08-23</td>\n",
       "      <td>B</td>\n",
       "      <td>546</td>\n",
       "    </tr>\n",
       "    <tr>\n",
       "      <th>54</th>\n",
       "      <td>2019-08-24</td>\n",
       "      <td>B</td>\n",
       "      <td>378</td>\n",
       "    </tr>\n",
       "    <tr>\n",
       "      <th>55</th>\n",
       "      <td>2019-08-25</td>\n",
       "      <td>B</td>\n",
       "      <td>679</td>\n",
       "    </tr>\n",
       "    <tr>\n",
       "      <th>56</th>\n",
       "      <td>2019-08-26</td>\n",
       "      <td>B</td>\n",
       "      <td>676</td>\n",
       "    </tr>\n",
       "    <tr>\n",
       "      <th>57</th>\n",
       "      <td>2019-08-27</td>\n",
       "      <td>B</td>\n",
       "      <td>720</td>\n",
       "    </tr>\n",
       "    <tr>\n",
       "      <th>58</th>\n",
       "      <td>2019-08-28</td>\n",
       "      <td>B</td>\n",
       "      <td>654</td>\n",
       "    </tr>\n",
       "    <tr>\n",
       "      <th>59</th>\n",
       "      <td>2019-08-29</td>\n",
       "      <td>B</td>\n",
       "      <td>531</td>\n",
       "    </tr>\n",
       "    <tr>\n",
       "      <th>60</th>\n",
       "      <td>2019-08-30</td>\n",
       "      <td>B</td>\n",
       "      <td>490</td>\n",
       "    </tr>\n",
       "    <tr>\n",
       "      <th>61</th>\n",
       "      <td>2019-08-31</td>\n",
       "      <td>B</td>\n",
       "      <td>718</td>\n",
       "    </tr>\n",
       "  </tbody>\n",
       "</table>\n",
       "</div>"
      ],
      "text/plain": [
       "         date group  visitors\n",
       "31 2019-08-01     B       713\n",
       "32 2019-08-02     B       581\n",
       "33 2019-08-03     B       509\n",
       "34 2019-08-04     B       770\n",
       "35 2019-08-05     B       707\n",
       "36 2019-08-06     B       655\n",
       "37 2019-08-07     B       709\n",
       "38 2019-08-08     B       654\n",
       "39 2019-08-09     B       610\n",
       "40 2019-08-10     B       369\n",
       "41 2019-08-11     B       721\n",
       "42 2019-08-12     B       543\n",
       "43 2019-08-13     B       769\n",
       "44 2019-08-14     B       746\n",
       "45 2019-08-15     B       544\n",
       "46 2019-08-16     B       413\n",
       "47 2019-08-17     B       421\n",
       "48 2019-08-18     B       737\n",
       "49 2019-08-19     B       487\n",
       "50 2019-08-20     B       560\n",
       "51 2019-08-21     B       656\n",
       "52 2019-08-22     B       650\n",
       "53 2019-08-23     B       546\n",
       "54 2019-08-24     B       378\n",
       "55 2019-08-25     B       679\n",
       "56 2019-08-26     B       676\n",
       "57 2019-08-27     B       720\n",
       "58 2019-08-28     B       654\n",
       "59 2019-08-29     B       531\n",
       "60 2019-08-30     B       490\n",
       "61 2019-08-31     B       718"
      ]
     },
     "execution_count": 49,
     "metadata": {},
     "output_type": "execute_result"
    }
   ],
   "source": [
    "# всего в состав группы В входит записей о посещении\n",
    "group_vizB=visitors.query('group==\"B\"')\n",
    "group_vizB"
   ]
  },
  {
   "cell_type": "code",
   "execution_count": 50,
   "id": "1d1035e2",
   "metadata": {},
   "outputs": [
    {
     "data": {
      "text/plain": [
       "count    31.00\n",
       "mean    610.19\n",
       "std     118.16\n",
       "min     369.00\n",
       "25%     537.00\n",
       "50%     654.00\n",
       "75%     711.00\n",
       "max     770.00\n",
       "Name: visitors, dtype: float64"
      ]
     },
     "execution_count": 50,
     "metadata": {},
     "output_type": "execute_result"
    }
   ],
   "source": [
    "group_vizB['visitors'].describe()"
   ]
  },
  {
   "cell_type": "code",
   "execution_count": 51,
   "id": "42c70413",
   "metadata": {},
   "outputs": [
    {
     "data": {
      "image/png": "[encoded data removed]",
      "text/plain": [
       "<Figure size 432x288 with 1 Axes>"
      ]
     },
     "metadata": {
      "needs_background": "light"
     },
     "output_type": "display_data"
    }
   ],
   "source": [
    "# Динамика группы В\n",
    "group_vizB = group_vizB.pivot_table(index = ['date'], values = 'visitors',aggfunc='sum')\n",
    "group_vizB.plot();\n",
    "plt.title('Динамика посещений группы В', fontsize=14)\n",
    "plt.xlabel('дата');\n",
    "plt.ylabel('количество');\n",
    "plt.xticks(rotation=0,fontsize=12);"
   ]
  },
  {
   "cell_type": "markdown",
   "id": "55a5e141",
   "metadata": {},
   "source": [
    "Для группы B максимальное количество посещений - 770, среднее - 610. Положительные пики 5,8,11,13,18,20,25,27,30."
   ]
  },
  {
   "cell_type": "markdown",
   "id": "0221df95",
   "metadata": {},
   "source": [
    "**При анализе датафрейма с информацией о посещениях получены следующие данные:**\n",
    "\n",
    "1. Данные представлены за август 2019г.\n",
    "2. Для группы А максимальное количество посещений - 756, среднее - 604. Положительные пики 5,11,13,18,21,26,30.\n",
    "3. Для группы B максимальное количество посещений - 770, среднее - 610. Положительные пики 5,8,11,13,18,20,25,27,30."
   ]
  },
  {
   "cell_type": "markdown",
   "id": "55f8f4de",
   "metadata": {},
   "source": [
    "### Обзор проведённой подготовительной работы.\n",
    "\n",
    "1. Созданы копии датафреймов: hypothesis, visitors,orders\n",
    "2. В hypothesis содержится 9 строк и 5 колонок, произведена замена регистра в заголовках.\n",
    "3. В orders содержится 1197 строк и 5 колонок, произведена замена типа данных столбца date.\n",
    "4. В visitors содержится 62 строки и 3 колонки, произведена замена типа данных столбца date.\n",
    "5. Пропуски, дубликаты не обнаружены.\n",
    "\n",
    "### Первичные наблюдения.\n",
    "\n",
    "**Анализом датафрейма, содержащего данные о заказах установлено следующее:**\n",
    "\n",
    "1. пользователи входят в состав двух групп: А неуникальных записей  557, В - 640.\n",
    "2. В группе А - 503 уникальных visitorId, в группе В - 586.\n",
    "3. Максимальный показатель выручки для группы А - 93 940, средний -  7 333, общий объём - 4 084 803.\n",
    "4. Максимальный показатель выручки для группы В - 1 294 500, средний -  9231, общий объём - 5 907 760.\n",
    "5. Данные представлены за август 2019г.\n",
    "6. Для группы А пиковые значения выручки приходились на 10, 12, 13, 27, 29 числа. Диаграмма размаха имеет значительный хвост, в среднем выручка группы находится в [1000:9000]\n",
    "7. Для группы В пиковые значения выручки приходились на 19 число. Диаграмма размаха имеет значительный хвост, в среднем выручка группы находится в [1000:9000]\n",
    "\n",
    "**При анализе датафрейма с информацией о посещениях получены следующие данные:**\n",
    "\n",
    "1. Данные представлены за август 2019г.\n",
    "2. Для группы А максимальное количество посещений - 756, среднее - 604. Положительные пики 5,11,13,18,21,26,30.\n",
    "3. Для группы B максимальное количество посещений - 770, среднее - 610. Положительные пики 5,8,11,13,18,20,25,27,30.\n",
    "\n"
   ]
  },
  {
   "cell_type": "markdown",
   "id": "7de2fdef",
   "metadata": {},
   "source": [
    "## Часть 1. Приоритизация гипотез.\n",
    "\n",
    "### Применить фреймворк ICE для приоритизации гипотез. Отсортировать их по убыванию приоритета."
   ]
  },
  {
   "cell_type": "markdown",
   "id": "e40522f7",
   "metadata": {},
   "source": [
    "**ICE**(от англ. impact, confidence, effort /ease «влияние, уверенность, усилия / простота») — один из самых популярных способов приоритизации задач.\n",
    "\n",
    "Аббревиатура включает 3 фактора, которые менеджер продукта может использовать для оценки и приоритизации:\n",
    "\n",
    "Impact — влияние.\n",
    "\n",
    "Confidence — уверенность в вашей оценке охвата, влияния и трудозатрат.\n",
    "\n",
    "Effort — трудозатраты.\n",
    "\n",
    "Приоритетность гипотезы определяется как результат от деления произведения Impact — влияния и Confidence — уверенности в вашей оценке охвата на Effort — трудозатраты."
   ]
  },
  {
   "cell_type": "code",
   "execution_count": 52,
   "id": "b067f189",
   "metadata": {},
   "outputs": [
    {
     "data": {
      "text/html": [
       "<div>\n",
       "<style scoped>\n",
       "    .dataframe tbody tr th:only-of-type {\n",
       "        vertical-align: middle;\n",
       "    }\n",
       "\n",
       "    .dataframe tbody tr th {\n",
       "        vertical-align: top;\n",
       "    }\n",
       "\n",
       "    .dataframe thead th {\n",
       "        text-align: right;\n",
       "    }\n",
       "</style>\n",
       "<table border=\"1\" class=\"dataframe\">\n",
       "  <thead>\n",
       "    <tr style=\"text-align: right;\">\n",
       "      <th></th>\n",
       "      <th>hypothesis</th>\n",
       "      <th>reach</th>\n",
       "      <th>impact</th>\n",
       "      <th>confidence</th>\n",
       "      <th>efforts</th>\n",
       "    </tr>\n",
       "  </thead>\n",
       "  <tbody>\n",
       "    <tr>\n",
       "      <th>0</th>\n",
       "      <td>Добавить два новых канала привлечения трафика, что позволит привлекать на 30% больше пользователей</td>\n",
       "      <td>3</td>\n",
       "      <td>10</td>\n",
       "      <td>8</td>\n",
       "      <td>6</td>\n",
       "    </tr>\n",
       "    <tr>\n",
       "      <th>1</th>\n",
       "      <td>Запустить собственную службу доставки, что сократит срок доставки заказов</td>\n",
       "      <td>2</td>\n",
       "      <td>5</td>\n",
       "      <td>4</td>\n",
       "      <td>10</td>\n",
       "    </tr>\n",
       "    <tr>\n",
       "      <th>2</th>\n",
       "      <td>Добавить блоки рекомендаций товаров на сайт интернет магазина, чтобы повысить конверсию и средний чек заказа</td>\n",
       "      <td>8</td>\n",
       "      <td>3</td>\n",
       "      <td>7</td>\n",
       "      <td>3</td>\n",
       "    </tr>\n",
       "    <tr>\n",
       "      <th>3</th>\n",
       "      <td>Изменить структура категорий, что увеличит конверсию, т.к. пользователи быстрее найдут нужный товар</td>\n",
       "      <td>8</td>\n",
       "      <td>3</td>\n",
       "      <td>3</td>\n",
       "      <td>8</td>\n",
       "    </tr>\n",
       "    <tr>\n",
       "      <th>4</th>\n",
       "      <td>Изменить цвет фона главной страницы, чтобы увеличить вовлеченность пользователей</td>\n",
       "      <td>3</td>\n",
       "      <td>1</td>\n",
       "      <td>1</td>\n",
       "      <td>1</td>\n",
       "    </tr>\n",
       "    <tr>\n",
       "      <th>5</th>\n",
       "      <td>Добавить страницу отзывов клиентов о магазине, что позволит увеличить количество заказов</td>\n",
       "      <td>3</td>\n",
       "      <td>2</td>\n",
       "      <td>2</td>\n",
       "      <td>3</td>\n",
       "    </tr>\n",
       "    <tr>\n",
       "      <th>6</th>\n",
       "      <td>Показать на главной странице баннеры с актуальными акциями и распродажами, чтобы увеличить конверсию</td>\n",
       "      <td>5</td>\n",
       "      <td>3</td>\n",
       "      <td>8</td>\n",
       "      <td>3</td>\n",
       "    </tr>\n",
       "    <tr>\n",
       "      <th>7</th>\n",
       "      <td>Добавить форму подписки на все основные страницы, чтобы собрать базу клиентов для email-рассылок</td>\n",
       "      <td>10</td>\n",
       "      <td>7</td>\n",
       "      <td>8</td>\n",
       "      <td>5</td>\n",
       "    </tr>\n",
       "    <tr>\n",
       "      <th>8</th>\n",
       "      <td>Запустить акцию, дающую скидку на товар в день рождения</td>\n",
       "      <td>1</td>\n",
       "      <td>9</td>\n",
       "      <td>9</td>\n",
       "      <td>5</td>\n",
       "    </tr>\n",
       "  </tbody>\n",
       "</table>\n",
       "</div>"
      ],
      "text/plain": [
       "                                                                                                     hypothesis  \\\n",
       "0            Добавить два новых канала привлечения трафика, что позволит привлекать на 30% больше пользователей   \n",
       "1                                     Запустить собственную службу доставки, что сократит срок доставки заказов   \n",
       "2  Добавить блоки рекомендаций товаров на сайт интернет магазина, чтобы повысить конверсию и средний чек заказа   \n",
       "3           Изменить структура категорий, что увеличит конверсию, т.к. пользователи быстрее найдут нужный товар   \n",
       "4                              Изменить цвет фона главной страницы, чтобы увеличить вовлеченность пользователей   \n",
       "5                      Добавить страницу отзывов клиентов о магазине, что позволит увеличить количество заказов   \n",
       "6          Показать на главной странице баннеры с актуальными акциями и распродажами, чтобы увеличить конверсию   \n",
       "7              Добавить форму подписки на все основные страницы, чтобы собрать базу клиентов для email-рассылок   \n",
       "8                                                       Запустить акцию, дающую скидку на товар в день рождения   \n",
       "\n",
       "   reach  impact  confidence  efforts  \n",
       "0      3      10           8        6  \n",
       "1      2       5           4       10  \n",
       "2      8       3           7        3  \n",
       "3      8       3           3        8  \n",
       "4      3       1           1        1  \n",
       "5      3       2           2        3  \n",
       "6      5       3           8        3  \n",
       "7     10       7           8        5  \n",
       "8      1       9           9        5  "
      ]
     },
     "execution_count": 52,
     "metadata": {},
     "output_type": "execute_result"
    }
   ],
   "source": [
    "hypothesis\n"
   ]
  },
  {
   "cell_type": "code",
   "execution_count": 53,
   "id": "00215545",
   "metadata": {},
   "outputs": [
    {
     "name": "stdout",
     "output_type": "stream",
     "text": [
      "                                                                                                     hypothesis  \\\n",
      "8                                                       Запустить акцию, дающую скидку на товар в день рождения   \n",
      "0            Добавить два новых канала привлечения трафика, что позволит привлекать на 30% больше пользователей   \n",
      "7              Добавить форму подписки на все основные страницы, чтобы собрать базу клиентов для email-рассылок   \n",
      "6          Показать на главной странице баннеры с актуальными акциями и распродажами, чтобы увеличить конверсию   \n",
      "2  Добавить блоки рекомендаций товаров на сайт интернет магазина, чтобы повысить конверсию и средний чек заказа   \n",
      "1                                     Запустить собственную службу доставки, что сократит срок доставки заказов   \n",
      "5                      Добавить страницу отзывов клиентов о магазине, что позволит увеличить количество заказов   \n",
      "3           Изменить структура категорий, что увеличит конверсию, т.к. пользователи быстрее найдут нужный товар   \n",
      "4                              Изменить цвет фона главной страницы, чтобы увеличить вовлеченность пользователей   \n",
      "\n",
      "    ice  \n",
      "8 16.20  \n",
      "0 13.33  \n",
      "7 11.20  \n",
      "6  8.00  \n",
      "2  7.00  \n",
      "1  2.00  \n",
      "5  1.33  \n",
      "3  1.12  \n",
      "4  1.00  \n"
     ]
    }
   ],
   "source": [
    "# в датафрейм hypothesis будет добавлен столбец с результатом расчёта\n",
    "hypothesis['ice']=hypothesis['impact']*hypothesis['confidence']/hypothesis['efforts']\n",
    "print(hypothesis[['hypothesis','ice']].sort_values(by='ice', ascending=False))"
   ]
  },
  {
   "cell_type": "code",
   "execution_count": 54,
   "id": "3c7e5426",
   "metadata": {},
   "outputs": [
    {
     "data": {
      "text/html": [
       "<div>\n",
       "<style scoped>\n",
       "    .dataframe tbody tr th:only-of-type {\n",
       "        vertical-align: middle;\n",
       "    }\n",
       "\n",
       "    .dataframe tbody tr th {\n",
       "        vertical-align: top;\n",
       "    }\n",
       "\n",
       "    .dataframe thead th {\n",
       "        text-align: right;\n",
       "    }\n",
       "</style>\n",
       "<table border=\"1\" class=\"dataframe\">\n",
       "  <thead>\n",
       "    <tr style=\"text-align: right;\">\n",
       "      <th></th>\n",
       "      <th>hypothesis</th>\n",
       "      <th>reach</th>\n",
       "      <th>impact</th>\n",
       "      <th>confidence</th>\n",
       "      <th>efforts</th>\n",
       "      <th>ice</th>\n",
       "    </tr>\n",
       "  </thead>\n",
       "  <tbody>\n",
       "    <tr>\n",
       "      <th>0</th>\n",
       "      <td>Добавить два новых канала привлечения трафика, что позволит привлекать на 30% больше пользователей</td>\n",
       "      <td>3</td>\n",
       "      <td>10</td>\n",
       "      <td>8</td>\n",
       "      <td>6</td>\n",
       "      <td>13.33</td>\n",
       "    </tr>\n",
       "    <tr>\n",
       "      <th>1</th>\n",
       "      <td>Запустить собственную службу доставки, что сократит срок доставки заказов</td>\n",
       "      <td>2</td>\n",
       "      <td>5</td>\n",
       "      <td>4</td>\n",
       "      <td>10</td>\n",
       "      <td>2.00</td>\n",
       "    </tr>\n",
       "    <tr>\n",
       "      <th>2</th>\n",
       "      <td>Добавить блоки рекомендаций товаров на сайт интернет магазина, чтобы повысить конверсию и средний чек заказа</td>\n",
       "      <td>8</td>\n",
       "      <td>3</td>\n",
       "      <td>7</td>\n",
       "      <td>3</td>\n",
       "      <td>7.00</td>\n",
       "    </tr>\n",
       "    <tr>\n",
       "      <th>3</th>\n",
       "      <td>Изменить структура категорий, что увеличит конверсию, т.к. пользователи быстрее найдут нужный товар</td>\n",
       "      <td>8</td>\n",
       "      <td>3</td>\n",
       "      <td>3</td>\n",
       "      <td>8</td>\n",
       "      <td>1.12</td>\n",
       "    </tr>\n",
       "    <tr>\n",
       "      <th>4</th>\n",
       "      <td>Изменить цвет фона главной страницы, чтобы увеличить вовлеченность пользователей</td>\n",
       "      <td>3</td>\n",
       "      <td>1</td>\n",
       "      <td>1</td>\n",
       "      <td>1</td>\n",
       "      <td>1.00</td>\n",
       "    </tr>\n",
       "    <tr>\n",
       "      <th>5</th>\n",
       "      <td>Добавить страницу отзывов клиентов о магазине, что позволит увеличить количество заказов</td>\n",
       "      <td>3</td>\n",
       "      <td>2</td>\n",
       "      <td>2</td>\n",
       "      <td>3</td>\n",
       "      <td>1.33</td>\n",
       "    </tr>\n",
       "    <tr>\n",
       "      <th>6</th>\n",
       "      <td>Показать на главной странице баннеры с актуальными акциями и распродажами, чтобы увеличить конверсию</td>\n",
       "      <td>5</td>\n",
       "      <td>3</td>\n",
       "      <td>8</td>\n",
       "      <td>3</td>\n",
       "      <td>8.00</td>\n",
       "    </tr>\n",
       "    <tr>\n",
       "      <th>7</th>\n",
       "      <td>Добавить форму подписки на все основные страницы, чтобы собрать базу клиентов для email-рассылок</td>\n",
       "      <td>10</td>\n",
       "      <td>7</td>\n",
       "      <td>8</td>\n",
       "      <td>5</td>\n",
       "      <td>11.20</td>\n",
       "    </tr>\n",
       "    <tr>\n",
       "      <th>8</th>\n",
       "      <td>Запустить акцию, дающую скидку на товар в день рождения</td>\n",
       "      <td>1</td>\n",
       "      <td>9</td>\n",
       "      <td>9</td>\n",
       "      <td>5</td>\n",
       "      <td>16.20</td>\n",
       "    </tr>\n",
       "  </tbody>\n",
       "</table>\n",
       "</div>"
      ],
      "text/plain": [
       "                                                                                                     hypothesis  \\\n",
       "0            Добавить два новых канала привлечения трафика, что позволит привлекать на 30% больше пользователей   \n",
       "1                                     Запустить собственную службу доставки, что сократит срок доставки заказов   \n",
       "2  Добавить блоки рекомендаций товаров на сайт интернет магазина, чтобы повысить конверсию и средний чек заказа   \n",
       "3           Изменить структура категорий, что увеличит конверсию, т.к. пользователи быстрее найдут нужный товар   \n",
       "4                              Изменить цвет фона главной страницы, чтобы увеличить вовлеченность пользователей   \n",
       "5                      Добавить страницу отзывов клиентов о магазине, что позволит увеличить количество заказов   \n",
       "6          Показать на главной странице баннеры с актуальными акциями и распродажами, чтобы увеличить конверсию   \n",
       "7              Добавить форму подписки на все основные страницы, чтобы собрать базу клиентов для email-рассылок   \n",
       "8                                                       Запустить акцию, дающую скидку на товар в день рождения   \n",
       "\n",
       "   reach  impact  confidence  efforts   ice  \n",
       "0      3      10           8        6 13.33  \n",
       "1      2       5           4       10  2.00  \n",
       "2      8       3           7        3  7.00  \n",
       "3      8       3           3        8  1.12  \n",
       "4      3       1           1        1  1.00  \n",
       "5      3       2           2        3  1.33  \n",
       "6      5       3           8        3  8.00  \n",
       "7     10       7           8        5 11.20  \n",
       "8      1       9           9        5 16.20  "
      ]
     },
     "execution_count": 54,
     "metadata": {},
     "output_type": "execute_result"
    }
   ],
   "source": [
    "hypothesis"
   ]
  },
  {
   "cell_type": "markdown",
   "id": "1ba9b8cf",
   "metadata": {},
   "source": [
    "Согласно методу ICE гипотезы №8,0,7,6,2 имееют первые пять позиций"
   ]
  },
  {
   "cell_type": "markdown",
   "id": "6c607fde",
   "metadata": {},
   "source": [
    "### Применить фреймворк RICE для приоритизации гипотез. Отсортировать их по убыванию приоритета."
   ]
  },
  {
   "cell_type": "markdown",
   "id": "9e99a978",
   "metadata": {},
   "source": [
    "**Модификация метода ICE - RICE.**\n",
    "\n",
    "Аббревиатура включает 4 фактора:\n",
    "\n",
    "Reach — это охват.\n",
    "\n",
    "Impact — влияние.\n",
    "\n",
    "Confidence — уверенность в вашей оценке охвата, влияния и трудозатрат.\n",
    "\n",
    "Effort — трудозатраты\n",
    "\n",
    "Приоритетность гипотезы определяется как результат от деления произведения Reach — охвата, Impact — влияния и Confidence — уверенности в вашей оценке охвата на Effort — трудозатраты."
   ]
  },
  {
   "cell_type": "code",
   "execution_count": 55,
   "id": "e3aeaa2b",
   "metadata": {},
   "outputs": [
    {
     "name": "stdout",
     "output_type": "stream",
     "text": [
      "                                                                                                     hypothesis  \\\n",
      "7              Добавить форму подписки на все основные страницы, чтобы собрать базу клиентов для email-рассылок   \n",
      "2  Добавить блоки рекомендаций товаров на сайт интернет магазина, чтобы повысить конверсию и средний чек заказа   \n",
      "0            Добавить два новых канала привлечения трафика, что позволит привлекать на 30% больше пользователей   \n",
      "6          Показать на главной странице баннеры с актуальными акциями и распродажами, чтобы увеличить конверсию   \n",
      "8                                                       Запустить акцию, дающую скидку на товар в день рождения   \n",
      "3           Изменить структура категорий, что увеличит конверсию, т.к. пользователи быстрее найдут нужный товар   \n",
      "1                                     Запустить собственную службу доставки, что сократит срок доставки заказов   \n",
      "5                      Добавить страницу отзывов клиентов о магазине, что позволит увеличить количество заказов   \n",
      "4                              Изменить цвет фона главной страницы, чтобы увеличить вовлеченность пользователей   \n",
      "\n",
      "    rice  \n",
      "7 112.00  \n",
      "2  56.00  \n",
      "0  40.00  \n",
      "6  40.00  \n",
      "8  16.20  \n",
      "3   9.00  \n",
      "1   4.00  \n",
      "5   4.00  \n",
      "4   3.00  \n"
     ]
    }
   ],
   "source": [
    "# в датафрейм hypothesis будет добавлен столбец с результатом расчёта\n",
    "hypothesis['rice']=hypothesis['reach']*hypothesis['impact']*hypothesis['confidence']/hypothesis['efforts']\n",
    "print(hypothesis[['hypothesis','rice']].sort_values(by='rice', ascending = False))"
   ]
  },
  {
   "cell_type": "code",
   "execution_count": 56,
   "id": "9a1c1667",
   "metadata": {},
   "outputs": [
    {
     "data": {
      "text/html": [
       "<div>\n",
       "<style scoped>\n",
       "    .dataframe tbody tr th:only-of-type {\n",
       "        vertical-align: middle;\n",
       "    }\n",
       "\n",
       "    .dataframe tbody tr th {\n",
       "        vertical-align: top;\n",
       "    }\n",
       "\n",
       "    .dataframe thead th {\n",
       "        text-align: right;\n",
       "    }\n",
       "</style>\n",
       "<table border=\"1\" class=\"dataframe\">\n",
       "  <thead>\n",
       "    <tr style=\"text-align: right;\">\n",
       "      <th></th>\n",
       "      <th>hypothesis</th>\n",
       "      <th>reach</th>\n",
       "      <th>impact</th>\n",
       "      <th>confidence</th>\n",
       "      <th>efforts</th>\n",
       "      <th>ice</th>\n",
       "      <th>rice</th>\n",
       "    </tr>\n",
       "  </thead>\n",
       "  <tbody>\n",
       "    <tr>\n",
       "      <th>7</th>\n",
       "      <td>Добавить форму подписки на все основные страницы, чтобы собрать базу клиентов для email-рассылок</td>\n",
       "      <td>10</td>\n",
       "      <td>7</td>\n",
       "      <td>8</td>\n",
       "      <td>5</td>\n",
       "      <td>11.20</td>\n",
       "      <td>112.00</td>\n",
       "    </tr>\n",
       "    <tr>\n",
       "      <th>2</th>\n",
       "      <td>Добавить блоки рекомендаций товаров на сайт интернет магазина, чтобы повысить конверсию и средний чек заказа</td>\n",
       "      <td>8</td>\n",
       "      <td>3</td>\n",
       "      <td>7</td>\n",
       "      <td>3</td>\n",
       "      <td>7.00</td>\n",
       "      <td>56.00</td>\n",
       "    </tr>\n",
       "    <tr>\n",
       "      <th>3</th>\n",
       "      <td>Изменить структура категорий, что увеличит конверсию, т.к. пользователи быстрее найдут нужный товар</td>\n",
       "      <td>8</td>\n",
       "      <td>3</td>\n",
       "      <td>3</td>\n",
       "      <td>8</td>\n",
       "      <td>1.12</td>\n",
       "      <td>9.00</td>\n",
       "    </tr>\n",
       "    <tr>\n",
       "      <th>6</th>\n",
       "      <td>Показать на главной странице баннеры с актуальными акциями и распродажами, чтобы увеличить конверсию</td>\n",
       "      <td>5</td>\n",
       "      <td>3</td>\n",
       "      <td>8</td>\n",
       "      <td>3</td>\n",
       "      <td>8.00</td>\n",
       "      <td>40.00</td>\n",
       "    </tr>\n",
       "    <tr>\n",
       "      <th>0</th>\n",
       "      <td>Добавить два новых канала привлечения трафика, что позволит привлекать на 30% больше пользователей</td>\n",
       "      <td>3</td>\n",
       "      <td>10</td>\n",
       "      <td>8</td>\n",
       "      <td>6</td>\n",
       "      <td>13.33</td>\n",
       "      <td>40.00</td>\n",
       "    </tr>\n",
       "    <tr>\n",
       "      <th>4</th>\n",
       "      <td>Изменить цвет фона главной страницы, чтобы увеличить вовлеченность пользователей</td>\n",
       "      <td>3</td>\n",
       "      <td>1</td>\n",
       "      <td>1</td>\n",
       "      <td>1</td>\n",
       "      <td>1.00</td>\n",
       "      <td>3.00</td>\n",
       "    </tr>\n",
       "    <tr>\n",
       "      <th>5</th>\n",
       "      <td>Добавить страницу отзывов клиентов о магазине, что позволит увеличить количество заказов</td>\n",
       "      <td>3</td>\n",
       "      <td>2</td>\n",
       "      <td>2</td>\n",
       "      <td>3</td>\n",
       "      <td>1.33</td>\n",
       "      <td>4.00</td>\n",
       "    </tr>\n",
       "    <tr>\n",
       "      <th>1</th>\n",
       "      <td>Запустить собственную службу доставки, что сократит срок доставки заказов</td>\n",
       "      <td>2</td>\n",
       "      <td>5</td>\n",
       "      <td>4</td>\n",
       "      <td>10</td>\n",
       "      <td>2.00</td>\n",
       "      <td>4.00</td>\n",
       "    </tr>\n",
       "    <tr>\n",
       "      <th>8</th>\n",
       "      <td>Запустить акцию, дающую скидку на товар в день рождения</td>\n",
       "      <td>1</td>\n",
       "      <td>9</td>\n",
       "      <td>9</td>\n",
       "      <td>5</td>\n",
       "      <td>16.20</td>\n",
       "      <td>16.20</td>\n",
       "    </tr>\n",
       "  </tbody>\n",
       "</table>\n",
       "</div>"
      ],
      "text/plain": [
       "                                                                                                     hypothesis  \\\n",
       "7              Добавить форму подписки на все основные страницы, чтобы собрать базу клиентов для email-рассылок   \n",
       "2  Добавить блоки рекомендаций товаров на сайт интернет магазина, чтобы повысить конверсию и средний чек заказа   \n",
       "3           Изменить структура категорий, что увеличит конверсию, т.к. пользователи быстрее найдут нужный товар   \n",
       "6          Показать на главной странице баннеры с актуальными акциями и распродажами, чтобы увеличить конверсию   \n",
       "0            Добавить два новых канала привлечения трафика, что позволит привлекать на 30% больше пользователей   \n",
       "4                              Изменить цвет фона главной страницы, чтобы увеличить вовлеченность пользователей   \n",
       "5                      Добавить страницу отзывов клиентов о магазине, что позволит увеличить количество заказов   \n",
       "1                                     Запустить собственную службу доставки, что сократит срок доставки заказов   \n",
       "8                                                       Запустить акцию, дающую скидку на товар в день рождения   \n",
       "\n",
       "   reach  impact  confidence  efforts   ice   rice  \n",
       "7     10       7           8        5 11.20 112.00  \n",
       "2      8       3           7        3  7.00  56.00  \n",
       "3      8       3           3        8  1.12   9.00  \n",
       "6      5       3           8        3  8.00  40.00  \n",
       "0      3      10           8        6 13.33  40.00  \n",
       "4      3       1           1        1  1.00   3.00  \n",
       "5      3       2           2        3  1.33   4.00  \n",
       "1      2       5           4       10  2.00   4.00  \n",
       "8      1       9           9        5 16.20  16.20  "
      ]
     },
     "execution_count": 56,
     "metadata": {},
     "output_type": "execute_result"
    }
   ],
   "source": [
    "hypothesis.sort_values(by='reach', ascending = False)"
   ]
  },
  {
   "cell_type": "markdown",
   "id": "a7e4653e",
   "metadata": {},
   "source": [
    "Наиболее перспективные гипотезы: 7,2,0,6,8. Максимальные данные по параметру охвата у гипотез 7,2,3"
   ]
  },
  {
   "cell_type": "markdown",
   "id": "9035d81e",
   "metadata": {},
   "source": [
    "### Указать, как изменилась приоритизация гипотез при применении RICE вместо ICE. Объяснить причины."
   ]
  },
  {
   "cell_type": "markdown",
   "id": "eef80ac2",
   "metadata": {},
   "source": [
    "Согласно методу ICE гипотезы №8,0,7,6,2 имееют первые пять позиций.\n",
    "\n",
    "Наиболее перспективные гипотезы методу RICE: 7,2,0,6,8. Расширение количества применяемых параметров приводит к тому, что максимальные данные по параметру охвата у гипотез 7,2,3, влияют на итоги расчёта.   "
   ]
  },
  {
   "cell_type": "code",
   "execution_count": 57,
   "id": "3f310f16",
   "metadata": {},
   "outputs": [
    {
     "data": {
      "image/png": "[encoded data removed]",
      "text/plain": [
       "<Figure size 432x288 with 1 Axes>"
      ]
     },
     "metadata": {
      "needs_background": "light"
     },
     "output_type": "display_data"
    }
   ],
   "source": [
    "# визуализация\n",
    "hypothesis[['hypothesis','ice','rice']].plot.bar(rot=0);\n",
    "plt.title('Приоритизация гипотез из датафрейма', fontsize=14)\n",
    "plt.xlabel('порядковый номер гипотезы из датафрейма');\n",
    "plt.ylabel('баллы по методам');"
   ]
  },
  {
   "cell_type": "code",
   "execution_count": 58,
   "id": "dab56f5a",
   "metadata": {},
   "outputs": [
    {
     "name": "stdout",
     "output_type": "stream",
     "text": [
      "                                                                                                     hypothesis  \\\n",
      "0            Добавить два новых канала привлечения трафика, что позволит привлекать на 30% больше пользователей   \n",
      "1                                     Запустить собственную службу доставки, что сократит срок доставки заказов   \n",
      "2  Добавить блоки рекомендаций товаров на сайт интернет магазина, чтобы повысить конверсию и средний чек заказа   \n",
      "3           Изменить структура категорий, что увеличит конверсию, т.к. пользователи быстрее найдут нужный товар   \n",
      "4                              Изменить цвет фона главной страницы, чтобы увеличить вовлеченность пользователей   \n",
      "5                      Добавить страницу отзывов клиентов о магазине, что позволит увеличить количество заказов   \n",
      "6          Показать на главной странице баннеры с актуальными акциями и распродажами, чтобы увеличить конверсию   \n",
      "7              Добавить форму подписки на все основные страницы, чтобы собрать базу клиентов для email-рассылок   \n",
      "8                                                       Запустить акцию, дающую скидку на товар в день рождения   \n",
      "\n",
      "    ice   rice  \n",
      "0 13.33  40.00  \n",
      "1  2.00   4.00  \n",
      "2  7.00  56.00  \n",
      "3  1.12   9.00  \n",
      "4  1.00   3.00  \n",
      "5  1.33   4.00  \n",
      "6  8.00  40.00  \n",
      "7 11.20 112.00  \n",
      "8 16.20  16.20  \n"
     ]
    }
   ],
   "source": [
    "# выведем итоговую таблицу гипотез с оценками\n",
    "print(hypothesis[['hypothesis','ice','rice']].sort_index())"
   ]
  },
  {
   "cell_type": "markdown",
   "id": "495dea18",
   "metadata": {},
   "source": [
    "Высокий уровень приоритета по обоим методам имеют следующие гипотезы: 0, 2, 6, 7, 8. \n",
    "\n",
    "**Предлагается провести исследование в отношении гипотез 7 -\"Добавить форму подписки на все основные страницы, чтобы собрать базу клиентов для email-рассылок\" и 0 - \"Добавить два новых канала привлечения трафика, что позволит привлекать на 30% больше пользователей\", являющихся явными лидерами.** "
   ]
  },
  {
   "cell_type": "markdown",
   "id": "6543c3c9",
   "metadata": {},
   "source": [
    "## Часть 2. Анализ A/B-теста."
   ]
  },
  {
   "cell_type": "code",
   "execution_count": 59,
   "id": "ff335085",
   "metadata": {},
   "outputs": [
    {
     "data": {
      "text/plain": [
       "group      58\n",
       "revenue    58\n",
       "dtype: int64"
      ]
     },
     "execution_count": 59,
     "metadata": {},
     "output_type": "execute_result"
    }
   ],
   "source": [
    "# оценим участие пользователей в группах\n",
    "users_both = orders.groupby('visitorId').agg({'group':'nunique', 'revenue':'sum'})\n",
    "users_both.query('group > 1').count()"
   ]
  },
  {
   "cell_type": "code",
   "execution_count": 60,
   "id": "5c05f5c2",
   "metadata": {},
   "outputs": [
    {
     "data": {
      "text/html": [
       "<div>\n",
       "<style scoped>\n",
       "    .dataframe tbody tr th:only-of-type {\n",
       "        vertical-align: middle;\n",
       "    }\n",
       "\n",
       "    .dataframe tbody tr th {\n",
       "        vertical-align: top;\n",
       "    }\n",
       "\n",
       "    .dataframe thead th {\n",
       "        text-align: right;\n",
       "    }\n",
       "</style>\n",
       "<table border=\"1\" class=\"dataframe\">\n",
       "  <thead>\n",
       "    <tr style=\"text-align: right;\">\n",
       "      <th></th>\n",
       "      <th>group</th>\n",
       "      <th>revenue</th>\n",
       "    </tr>\n",
       "    <tr>\n",
       "      <th>visitorId</th>\n",
       "      <th></th>\n",
       "      <th></th>\n",
       "    </tr>\n",
       "  </thead>\n",
       "  <tbody>\n",
       "    <tr>\n",
       "      <th>8300375</th>\n",
       "      <td>2</td>\n",
       "      <td>12300</td>\n",
       "    </tr>\n",
       "    <tr>\n",
       "      <th>199603092</th>\n",
       "      <td>2</td>\n",
       "      <td>23180</td>\n",
       "    </tr>\n",
       "    <tr>\n",
       "      <th>232979603</th>\n",
       "      <td>2</td>\n",
       "      <td>2700</td>\n",
       "    </tr>\n",
       "    <tr>\n",
       "      <th>237748145</th>\n",
       "      <td>2</td>\n",
       "      <td>10810</td>\n",
       "    </tr>\n",
       "    <tr>\n",
       "      <th>276558944</th>\n",
       "      <td>2</td>\n",
       "      <td>17400</td>\n",
       "    </tr>\n",
       "    <tr>\n",
       "      <th>351125977</th>\n",
       "      <td>2</td>\n",
       "      <td>19670</td>\n",
       "    </tr>\n",
       "    <tr>\n",
       "      <th>393266494</th>\n",
       "      <td>2</td>\n",
       "      <td>55290</td>\n",
       "    </tr>\n",
       "    <tr>\n",
       "      <th>457167155</th>\n",
       "      <td>2</td>\n",
       "      <td>9857</td>\n",
       "    </tr>\n",
       "    <tr>\n",
       "      <th>471551937</th>\n",
       "      <td>2</td>\n",
       "      <td>26410</td>\n",
       "    </tr>\n",
       "    <tr>\n",
       "      <th>477780734</th>\n",
       "      <td>2</td>\n",
       "      <td>10950</td>\n",
       "    </tr>\n",
       "    <tr>\n",
       "      <th>818047933</th>\n",
       "      <td>2</td>\n",
       "      <td>3860</td>\n",
       "    </tr>\n",
       "    <tr>\n",
       "      <th>963407295</th>\n",
       "      <td>2</td>\n",
       "      <td>5240</td>\n",
       "    </tr>\n",
       "    <tr>\n",
       "      <th>1230306981</th>\n",
       "      <td>2</td>\n",
       "      <td>31280</td>\n",
       "    </tr>\n",
       "    <tr>\n",
       "      <th>1294878855</th>\n",
       "      <td>2</td>\n",
       "      <td>31040</td>\n",
       "    </tr>\n",
       "    <tr>\n",
       "      <th>1316129916</th>\n",
       "      <td>2</td>\n",
       "      <td>94770</td>\n",
       "    </tr>\n",
       "    <tr>\n",
       "      <th>1333886533</th>\n",
       "      <td>2</td>\n",
       "      <td>4410</td>\n",
       "    </tr>\n",
       "    <tr>\n",
       "      <th>1404934699</th>\n",
       "      <td>2</td>\n",
       "      <td>43960</td>\n",
       "    </tr>\n",
       "    <tr>\n",
       "      <th>1602967004</th>\n",
       "      <td>2</td>\n",
       "      <td>8780</td>\n",
       "    </tr>\n",
       "    <tr>\n",
       "      <th>1614305549</th>\n",
       "      <td>2</td>\n",
       "      <td>12060</td>\n",
       "    </tr>\n",
       "    <tr>\n",
       "      <th>1648269707</th>\n",
       "      <td>2</td>\n",
       "      <td>1150</td>\n",
       "    </tr>\n",
       "    <tr>\n",
       "      <th>1668030113</th>\n",
       "      <td>2</td>\n",
       "      <td>8960</td>\n",
       "    </tr>\n",
       "    <tr>\n",
       "      <th>1738359350</th>\n",
       "      <td>2</td>\n",
       "      <td>5960</td>\n",
       "    </tr>\n",
       "    <tr>\n",
       "      <th>1801183820</th>\n",
       "      <td>2</td>\n",
       "      <td>490</td>\n",
       "    </tr>\n",
       "    <tr>\n",
       "      <th>1959144690</th>\n",
       "      <td>2</td>\n",
       "      <td>32960</td>\n",
       "    </tr>\n",
       "    <tr>\n",
       "      <th>2038680547</th>\n",
       "      <td>2</td>\n",
       "      <td>15470</td>\n",
       "    </tr>\n",
       "    <tr>\n",
       "      <th>2044997962</th>\n",
       "      <td>2</td>\n",
       "      <td>9620</td>\n",
       "    </tr>\n",
       "    <tr>\n",
       "      <th>2378935119</th>\n",
       "      <td>2</td>\n",
       "      <td>142939</td>\n",
       "    </tr>\n",
       "    <tr>\n",
       "      <th>2458001652</th>\n",
       "      <td>2</td>\n",
       "      <td>62098</td>\n",
       "    </tr>\n",
       "    <tr>\n",
       "      <th>2579882178</th>\n",
       "      <td>2</td>\n",
       "      <td>21460</td>\n",
       "    </tr>\n",
       "    <tr>\n",
       "      <th>2587333274</th>\n",
       "      <td>2</td>\n",
       "      <td>22240</td>\n",
       "    </tr>\n",
       "    <tr>\n",
       "      <th>2600415354</th>\n",
       "      <td>2</td>\n",
       "      <td>4320</td>\n",
       "    </tr>\n",
       "    <tr>\n",
       "      <th>2654030115</th>\n",
       "      <td>2</td>\n",
       "      <td>3960</td>\n",
       "    </tr>\n",
       "    <tr>\n",
       "      <th>2686716486</th>\n",
       "      <td>2</td>\n",
       "      <td>45300</td>\n",
       "    </tr>\n",
       "    <tr>\n",
       "      <th>2712142231</th>\n",
       "      <td>2</td>\n",
       "      <td>3280</td>\n",
       "    </tr>\n",
       "    <tr>\n",
       "      <th>2716752286</th>\n",
       "      <td>2</td>\n",
       "      <td>10210</td>\n",
       "    </tr>\n",
       "    <tr>\n",
       "      <th>2780786433</th>\n",
       "      <td>2</td>\n",
       "      <td>3320</td>\n",
       "    </tr>\n",
       "    <tr>\n",
       "      <th>2927087541</th>\n",
       "      <td>2</td>\n",
       "      <td>29740</td>\n",
       "    </tr>\n",
       "    <tr>\n",
       "      <th>2949041841</th>\n",
       "      <td>2</td>\n",
       "      <td>10570</td>\n",
       "    </tr>\n",
       "    <tr>\n",
       "      <th>2954449915</th>\n",
       "      <td>2</td>\n",
       "      <td>13861</td>\n",
       "    </tr>\n",
       "    <tr>\n",
       "      <th>3062433592</th>\n",
       "      <td>2</td>\n",
       "      <td>75459</td>\n",
       "    </tr>\n",
       "    <tr>\n",
       "      <th>3202540741</th>\n",
       "      <td>2</td>\n",
       "      <td>8600</td>\n",
       "    </tr>\n",
       "    <tr>\n",
       "      <th>3234906277</th>\n",
       "      <td>2</td>\n",
       "      <td>15110</td>\n",
       "    </tr>\n",
       "    <tr>\n",
       "      <th>3656415546</th>\n",
       "      <td>2</td>\n",
       "      <td>3095</td>\n",
       "    </tr>\n",
       "    <tr>\n",
       "      <th>3717692402</th>\n",
       "      <td>2</td>\n",
       "      <td>11420</td>\n",
       "    </tr>\n",
       "    <tr>\n",
       "      <th>3766097110</th>\n",
       "      <td>2</td>\n",
       "      <td>1340</td>\n",
       "    </tr>\n",
       "    <tr>\n",
       "      <th>3803269165</th>\n",
       "      <td>2</td>\n",
       "      <td>11053</td>\n",
       "    </tr>\n",
       "    <tr>\n",
       "      <th>3891541246</th>\n",
       "      <td>2</td>\n",
       "      <td>6490</td>\n",
       "    </tr>\n",
       "    <tr>\n",
       "      <th>3941795274</th>\n",
       "      <td>2</td>\n",
       "      <td>2310</td>\n",
       "    </tr>\n",
       "    <tr>\n",
       "      <th>3951559397</th>\n",
       "      <td>2</td>\n",
       "      <td>33480</td>\n",
       "    </tr>\n",
       "    <tr>\n",
       "      <th>3957174400</th>\n",
       "      <td>2</td>\n",
       "      <td>4960</td>\n",
       "    </tr>\n",
       "    <tr>\n",
       "      <th>3963646447</th>\n",
       "      <td>2</td>\n",
       "      <td>13870</td>\n",
       "    </tr>\n",
       "    <tr>\n",
       "      <th>3972127743</th>\n",
       "      <td>2</td>\n",
       "      <td>16840</td>\n",
       "    </tr>\n",
       "    <tr>\n",
       "      <th>3984495233</th>\n",
       "      <td>2</td>\n",
       "      <td>54933</td>\n",
       "    </tr>\n",
       "    <tr>\n",
       "      <th>4069496402</th>\n",
       "      <td>2</td>\n",
       "      <td>1040</td>\n",
       "    </tr>\n",
       "    <tr>\n",
       "      <th>4120364173</th>\n",
       "      <td>2</td>\n",
       "      <td>55300</td>\n",
       "    </tr>\n",
       "    <tr>\n",
       "      <th>4186807279</th>\n",
       "      <td>2</td>\n",
       "      <td>37290</td>\n",
       "    </tr>\n",
       "    <tr>\n",
       "      <th>4256040402</th>\n",
       "      <td>2</td>\n",
       "      <td>176490</td>\n",
       "    </tr>\n",
       "    <tr>\n",
       "      <th>4266935830</th>\n",
       "      <td>2</td>\n",
       "      <td>157980</td>\n",
       "    </tr>\n",
       "  </tbody>\n",
       "</table>\n",
       "</div>"
      ],
      "text/plain": [
       "            group  revenue\n",
       "visitorId                 \n",
       "8300375         2    12300\n",
       "199603092       2    23180\n",
       "232979603       2     2700\n",
       "237748145       2    10810\n",
       "276558944       2    17400\n",
       "351125977       2    19670\n",
       "393266494       2    55290\n",
       "457167155       2     9857\n",
       "471551937       2    26410\n",
       "477780734       2    10950\n",
       "818047933       2     3860\n",
       "963407295       2     5240\n",
       "1230306981      2    31280\n",
       "1294878855      2    31040\n",
       "1316129916      2    94770\n",
       "1333886533      2     4410\n",
       "1404934699      2    43960\n",
       "1602967004      2     8780\n",
       "1614305549      2    12060\n",
       "1648269707      2     1150\n",
       "1668030113      2     8960\n",
       "1738359350      2     5960\n",
       "1801183820      2      490\n",
       "1959144690      2    32960\n",
       "2038680547      2    15470\n",
       "2044997962      2     9620\n",
       "2378935119      2   142939\n",
       "2458001652      2    62098\n",
       "2579882178      2    21460\n",
       "2587333274      2    22240\n",
       "2600415354      2     4320\n",
       "2654030115      2     3960\n",
       "2686716486      2    45300\n",
       "2712142231      2     3280\n",
       "2716752286      2    10210\n",
       "2780786433      2     3320\n",
       "2927087541      2    29740\n",
       "2949041841      2    10570\n",
       "2954449915      2    13861\n",
       "3062433592      2    75459\n",
       "3202540741      2     8600\n",
       "3234906277      2    15110\n",
       "3656415546      2     3095\n",
       "3717692402      2    11420\n",
       "3766097110      2     1340\n",
       "3803269165      2    11053\n",
       "3891541246      2     6490\n",
       "3941795274      2     2310\n",
       "3951559397      2    33480\n",
       "3957174400      2     4960\n",
       "3963646447      2    13870\n",
       "3972127743      2    16840\n",
       "3984495233      2    54933\n",
       "4069496402      2     1040\n",
       "4120364173      2    55300\n",
       "4186807279      2    37290\n",
       "4256040402      2   176490\n",
       "4266935830      2   157980"
      ]
     },
     "execution_count": 60,
     "metadata": {},
     "output_type": "execute_result"
    }
   ],
   "source": [
    "# просмотрим участников обеих групп\n",
    "users_both = orders.groupby('visitorId').agg({'group':'nunique', 'revenue':'sum'})\n",
    "users_both = users_both.query('group > 1')\n",
    "users_both"
   ]
  },
  {
   "cell_type": "code",
   "execution_count": 61,
   "id": "ed35e20f",
   "metadata": {},
   "outputs": [
    {
     "data": {
      "text/plain": [
       "1558935"
      ]
     },
     "execution_count": 61,
     "metadata": {},
     "output_type": "execute_result"
    }
   ],
   "source": [
    "# сумма заказов участников обеих групп\n",
    "users_both['revenue'].sum()"
   ]
  },
  {
   "cell_type": "markdown",
   "id": "4752a4c9",
   "metadata": {},
   "source": [
    "При анализе установлено следующее: 58 участников находятся в двух группах сразу. Это примерно 10% каждой группы по численности и по стоимости заказов.Я предлагаю не удалять данные, оставить как есть."
   ]
  },
  {
   "cell_type": "markdown",
   "id": "28c1841b",
   "metadata": {},
   "source": [
    "### Построение графика кумулятивной выручки по группам."
   ]
  },
  {
   "cell_type": "code",
   "execution_count": 62,
   "id": "a7b1a92f",
   "metadata": {},
   "outputs": [
    {
     "data": {
      "text/html": [
       "<div>\n",
       "<style scoped>\n",
       "    .dataframe tbody tr th:only-of-type {\n",
       "        vertical-align: middle;\n",
       "    }\n",
       "\n",
       "    .dataframe tbody tr th {\n",
       "        vertical-align: top;\n",
       "    }\n",
       "\n",
       "    .dataframe thead th {\n",
       "        text-align: right;\n",
       "    }\n",
       "</style>\n",
       "<table border=\"1\" class=\"dataframe\">\n",
       "  <thead>\n",
       "    <tr style=\"text-align: right;\">\n",
       "      <th></th>\n",
       "      <th>date</th>\n",
       "      <th>group</th>\n",
       "    </tr>\n",
       "  </thead>\n",
       "  <tbody>\n",
       "    <tr>\n",
       "      <th>0</th>\n",
       "      <td>2019-08-15</td>\n",
       "      <td>B</td>\n",
       "    </tr>\n",
       "    <tr>\n",
       "      <th>2</th>\n",
       "      <td>2019-08-15</td>\n",
       "      <td>A</td>\n",
       "    </tr>\n",
       "    <tr>\n",
       "      <th>45</th>\n",
       "      <td>2019-08-16</td>\n",
       "      <td>A</td>\n",
       "    </tr>\n",
       "    <tr>\n",
       "      <th>47</th>\n",
       "      <td>2019-08-16</td>\n",
       "      <td>B</td>\n",
       "    </tr>\n",
       "    <tr>\n",
       "      <th>55</th>\n",
       "      <td>2019-08-01</td>\n",
       "      <td>A</td>\n",
       "    </tr>\n",
       "    <tr>\n",
       "      <th>...</th>\n",
       "      <td>...</td>\n",
       "      <td>...</td>\n",
       "    </tr>\n",
       "    <tr>\n",
       "      <th>1068</th>\n",
       "      <td>2019-08-12</td>\n",
       "      <td>A</td>\n",
       "    </tr>\n",
       "    <tr>\n",
       "      <th>1114</th>\n",
       "      <td>2019-08-13</td>\n",
       "      <td>B</td>\n",
       "    </tr>\n",
       "    <tr>\n",
       "      <th>1116</th>\n",
       "      <td>2019-08-13</td>\n",
       "      <td>A</td>\n",
       "    </tr>\n",
       "    <tr>\n",
       "      <th>1149</th>\n",
       "      <td>2019-08-14</td>\n",
       "      <td>B</td>\n",
       "    </tr>\n",
       "    <tr>\n",
       "      <th>1150</th>\n",
       "      <td>2019-08-14</td>\n",
       "      <td>A</td>\n",
       "    </tr>\n",
       "  </tbody>\n",
       "</table>\n",
       "<p>62 rows × 2 columns</p>\n",
       "</div>"
      ],
      "text/plain": [
       "           date group\n",
       "0    2019-08-15     B\n",
       "2    2019-08-15     A\n",
       "45   2019-08-16     A\n",
       "47   2019-08-16     B\n",
       "55   2019-08-01     A\n",
       "...         ...   ...\n",
       "1068 2019-08-12     A\n",
       "1114 2019-08-13     B\n",
       "1116 2019-08-13     A\n",
       "1149 2019-08-14     B\n",
       "1150 2019-08-14     A\n",
       "\n",
       "[62 rows x 2 columns]"
      ]
     },
     "execution_count": 62,
     "metadata": {},
     "output_type": "execute_result"
    }
   ],
   "source": [
    "# создаем массив уникальных пар значений дат и групп теста\n",
    "datesGroups = orders[['date','group']].drop_duplicates()\n",
    "datesGroups"
   ]
  },
  {
   "cell_type": "code",
   "execution_count": 63,
   "id": "4d29cbe3",
   "metadata": {},
   "outputs": [
    {
     "data": {
      "text/html": [
       "<div>\n",
       "<style scoped>\n",
       "    .dataframe tbody tr th:only-of-type {\n",
       "        vertical-align: middle;\n",
       "    }\n",
       "\n",
       "    .dataframe tbody tr th {\n",
       "        vertical-align: top;\n",
       "    }\n",
       "\n",
       "    .dataframe thead th {\n",
       "        text-align: right;\n",
       "    }\n",
       "</style>\n",
       "<table border=\"1\" class=\"dataframe\">\n",
       "  <thead>\n",
       "    <tr style=\"text-align: right;\">\n",
       "      <th></th>\n",
       "      <th>date</th>\n",
       "      <th>group</th>\n",
       "      <th>transactionId</th>\n",
       "      <th>visitorId</th>\n",
       "      <th>revenue</th>\n",
       "    </tr>\n",
       "  </thead>\n",
       "  <tbody>\n",
       "    <tr>\n",
       "      <th>55</th>\n",
       "      <td>2019-08-01</td>\n",
       "      <td>A</td>\n",
       "      <td>24</td>\n",
       "      <td>20</td>\n",
       "      <td>148579</td>\n",
       "    </tr>\n",
       "    <tr>\n",
       "      <th>66</th>\n",
       "      <td>2019-08-01</td>\n",
       "      <td>B</td>\n",
       "      <td>21</td>\n",
       "      <td>20</td>\n",
       "      <td>101217</td>\n",
       "    </tr>\n",
       "    <tr>\n",
       "      <th>175</th>\n",
       "      <td>2019-08-02</td>\n",
       "      <td>A</td>\n",
       "      <td>44</td>\n",
       "      <td>38</td>\n",
       "      <td>242401</td>\n",
       "    </tr>\n",
       "    <tr>\n",
       "      <th>173</th>\n",
       "      <td>2019-08-02</td>\n",
       "      <td>B</td>\n",
       "      <td>45</td>\n",
       "      <td>43</td>\n",
       "      <td>266748</td>\n",
       "    </tr>\n",
       "    <tr>\n",
       "      <th>291</th>\n",
       "      <td>2019-08-03</td>\n",
       "      <td>A</td>\n",
       "      <td>68</td>\n",
       "      <td>62</td>\n",
       "      <td>354874</td>\n",
       "    </tr>\n",
       "    <tr>\n",
       "      <th>...</th>\n",
       "      <td>...</td>\n",
       "      <td>...</td>\n",
       "      <td>...</td>\n",
       "      <td>...</td>\n",
       "      <td>...</td>\n",
       "    </tr>\n",
       "    <tr>\n",
       "      <th>496</th>\n",
       "      <td>2019-08-29</td>\n",
       "      <td>B</td>\n",
       "      <td>596</td>\n",
       "      <td>544</td>\n",
       "      <td>5559398</td>\n",
       "    </tr>\n",
       "    <tr>\n",
       "      <th>730</th>\n",
       "      <td>2019-08-30</td>\n",
       "      <td>A</td>\n",
       "      <td>545</td>\n",
       "      <td>493</td>\n",
       "      <td>4022970</td>\n",
       "    </tr>\n",
       "    <tr>\n",
       "      <th>690</th>\n",
       "      <td>2019-08-30</td>\n",
       "      <td>B</td>\n",
       "      <td>620</td>\n",
       "      <td>567</td>\n",
       "      <td>5774631</td>\n",
       "    </tr>\n",
       "    <tr>\n",
       "      <th>958</th>\n",
       "      <td>2019-08-31</td>\n",
       "      <td>A</td>\n",
       "      <td>557</td>\n",
       "      <td>503</td>\n",
       "      <td>4084803</td>\n",
       "    </tr>\n",
       "    <tr>\n",
       "      <th>930</th>\n",
       "      <td>2019-08-31</td>\n",
       "      <td>B</td>\n",
       "      <td>640</td>\n",
       "      <td>586</td>\n",
       "      <td>5907760</td>\n",
       "    </tr>\n",
       "  </tbody>\n",
       "</table>\n",
       "<p>62 rows × 5 columns</p>\n",
       "</div>"
      ],
      "text/plain": [
       "          date group  transactionId  visitorId  revenue\n",
       "55  2019-08-01     A             24         20   148579\n",
       "66  2019-08-01     B             21         20   101217\n",
       "175 2019-08-02     A             44         38   242401\n",
       "173 2019-08-02     B             45         43   266748\n",
       "291 2019-08-03     A             68         62   354874\n",
       "..         ...   ...            ...        ...      ...\n",
       "496 2019-08-29     B            596        544  5559398\n",
       "730 2019-08-30     A            545        493  4022970\n",
       "690 2019-08-30     B            620        567  5774631\n",
       "958 2019-08-31     A            557        503  4084803\n",
       "930 2019-08-31     B            640        586  5907760\n",
       "\n",
       "[62 rows x 5 columns]"
      ]
     },
     "execution_count": 63,
     "metadata": {},
     "output_type": "execute_result"
    }
   ],
   "source": [
    "# получаем агрегированные кумулятивные по дням данные о заказах \n",
    "ordersAggregated = datesGroups.apply(lambda x: orders[np.logical_and(orders['date'] <= x['date'], orders['group'] == x['group'])]\n",
    "                                     .agg({'date' : 'max', 'group' : 'max', 'transactionId' : 'nunique', 'visitorId' : 'nunique', 'revenue' : 'sum'}), axis=1).sort_values(by=['date','group'])\n",
    "ordersAggregated"
   ]
  },
  {
   "cell_type": "code",
   "execution_count": 64,
   "id": "4a0664ac",
   "metadata": {},
   "outputs": [
    {
     "data": {
      "text/html": [
       "<div>\n",
       "<style scoped>\n",
       "    .dataframe tbody tr th:only-of-type {\n",
       "        vertical-align: middle;\n",
       "    }\n",
       "\n",
       "    .dataframe tbody tr th {\n",
       "        vertical-align: top;\n",
       "    }\n",
       "\n",
       "    .dataframe thead th {\n",
       "        text-align: right;\n",
       "    }\n",
       "</style>\n",
       "<table border=\"1\" class=\"dataframe\">\n",
       "  <thead>\n",
       "    <tr style=\"text-align: right;\">\n",
       "      <th></th>\n",
       "      <th>date</th>\n",
       "      <th>group</th>\n",
       "      <th>visitors</th>\n",
       "    </tr>\n",
       "  </thead>\n",
       "  <tbody>\n",
       "    <tr>\n",
       "      <th>55</th>\n",
       "      <td>2019-08-01</td>\n",
       "      <td>A</td>\n",
       "      <td>719</td>\n",
       "    </tr>\n",
       "    <tr>\n",
       "      <th>66</th>\n",
       "      <td>2019-08-01</td>\n",
       "      <td>B</td>\n",
       "      <td>713</td>\n",
       "    </tr>\n",
       "    <tr>\n",
       "      <th>175</th>\n",
       "      <td>2019-08-02</td>\n",
       "      <td>A</td>\n",
       "      <td>1338</td>\n",
       "    </tr>\n",
       "    <tr>\n",
       "      <th>173</th>\n",
       "      <td>2019-08-02</td>\n",
       "      <td>B</td>\n",
       "      <td>1294</td>\n",
       "    </tr>\n",
       "    <tr>\n",
       "      <th>291</th>\n",
       "      <td>2019-08-03</td>\n",
       "      <td>A</td>\n",
       "      <td>1845</td>\n",
       "    </tr>\n",
       "    <tr>\n",
       "      <th>...</th>\n",
       "      <td>...</td>\n",
       "      <td>...</td>\n",
       "      <td>...</td>\n",
       "    </tr>\n",
       "    <tr>\n",
       "      <th>496</th>\n",
       "      <td>2019-08-29</td>\n",
       "      <td>B</td>\n",
       "      <td>17708</td>\n",
       "    </tr>\n",
       "    <tr>\n",
       "      <th>730</th>\n",
       "      <td>2019-08-30</td>\n",
       "      <td>A</td>\n",
       "      <td>18037</td>\n",
       "    </tr>\n",
       "    <tr>\n",
       "      <th>690</th>\n",
       "      <td>2019-08-30</td>\n",
       "      <td>B</td>\n",
       "      <td>18198</td>\n",
       "    </tr>\n",
       "    <tr>\n",
       "      <th>958</th>\n",
       "      <td>2019-08-31</td>\n",
       "      <td>A</td>\n",
       "      <td>18736</td>\n",
       "    </tr>\n",
       "    <tr>\n",
       "      <th>930</th>\n",
       "      <td>2019-08-31</td>\n",
       "      <td>B</td>\n",
       "      <td>18916</td>\n",
       "    </tr>\n",
       "  </tbody>\n",
       "</table>\n",
       "<p>62 rows × 3 columns</p>\n",
       "</div>"
      ],
      "text/plain": [
       "          date group  visitors\n",
       "55  2019-08-01     A       719\n",
       "66  2019-08-01     B       713\n",
       "175 2019-08-02     A      1338\n",
       "173 2019-08-02     B      1294\n",
       "291 2019-08-03     A      1845\n",
       "..         ...   ...       ...\n",
       "496 2019-08-29     B     17708\n",
       "730 2019-08-30     A     18037\n",
       "690 2019-08-30     B     18198\n",
       "958 2019-08-31     A     18736\n",
       "930 2019-08-31     B     18916\n",
       "\n",
       "[62 rows x 3 columns]"
      ]
     },
     "execution_count": 64,
     "metadata": {},
     "output_type": "execute_result"
    }
   ],
   "source": [
    "# получаем агрегированные кумулятивные по дням данные о посетителях интернет-магазина \n",
    "visitorsAggregated = datesGroups.apply(lambda x: visitors[np.logical_and(visitors['date'] <= x['date'], visitors['group'] == x['group'])]\n",
    "                                       .agg({'date' : 'max', 'group' : 'max', 'visitors' : 'sum'}), axis=1).sort_values(by=['date','group'])\n",
    "visitorsAggregated"
   ]
  },
  {
   "cell_type": "code",
   "execution_count": 65,
   "id": "ab9e08a4",
   "metadata": {},
   "outputs": [
    {
     "name": "stdout",
     "output_type": "stream",
     "text": [
      "        date group  orders  buyers  revenue  visitors\n",
      "0 2019-08-01     A      24      20   148579       719\n",
      "1 2019-08-01     B      21      20   101217       713\n",
      "2 2019-08-02     A      44      38   242401      1338\n",
      "3 2019-08-02     B      45      43   266748      1294\n",
      "4 2019-08-03     A      68      62   354874      1845\n"
     ]
    }
   ],
   "source": [
    "# объединяем кумулятивные данные в одной таблице и присваиваем ее столбцам понятные названия\n",
    "cumulativeData = ordersAggregated.merge(visitorsAggregated, left_on=['date', 'group'], right_on=['date', 'group'])\n",
    "cumulativeData.columns = ['date', 'group', 'orders', 'buyers', 'revenue', 'visitors']\n",
    "\n",
    "print(cumulativeData.head(5)) "
   ]
  },
  {
   "cell_type": "code",
   "execution_count": 66,
   "id": "4a2413aa",
   "metadata": {},
   "outputs": [],
   "source": [
    "# датафрейм с кумулятивным количеством заказов и кумулятивной выручкой по дням в группе А\n",
    "cumulativeRevenueA = cumulativeData[cumulativeData['group']=='A'][['date','revenue', 'orders']]"
   ]
  },
  {
   "cell_type": "code",
   "execution_count": 67,
   "id": "bfca8bb8",
   "metadata": {},
   "outputs": [],
   "source": [
    "# датафрейм с кумулятивным количеством заказов и кумулятивной выручкой по дням в группе B\n",
    "cumulativeRevenueB = cumulativeData[cumulativeData['group']=='B'][['date','revenue', 'orders']]"
   ]
  },
  {
   "cell_type": "code",
   "execution_count": 68,
   "id": "adee32e2",
   "metadata": {},
   "outputs": [
    {
     "data": {
      "image/png": "[encoded data removed]",
      "text/plain": [
       "<Figure size 432x288 with 1 Axes>"
      ]
     },
     "metadata": {
      "needs_background": "light"
     },
     "output_type": "display_data"
    }
   ],
   "source": [
    "plt.plot(cumulativeRevenueA['date'], cumulativeRevenueA['revenue'], label='A');\n",
    "plt.plot(cumulativeRevenueB['date'], cumulativeRevenueB['revenue'], label='B');\n",
    "plt.title('Графики выручки обеих групп', fontsize=14)\n",
    "plt.xlabel('даты');\n",
    "plt.ylabel('Объём выручки');\n",
    "plt.legend();\n",
    "plt.xticks(rotation=50,fontsize=8);"
   ]
  },
  {
   "cell_type": "markdown",
   "id": "fea827c6",
   "metadata": {},
   "source": [
    "####  Выводы.\n",
    "\n",
    "В разделе первичные наблюдения отражена информация:\n",
    "\n",
    "Максимальный показатель выручки для группы А - 93 940, средний -  7 333, общий объём - 4 084 803.\n",
    "\n",
    "Максимальный показатель выручки для группы В - 1 294 500, средний -  9231, общий объём - 5 907 760.\n",
    "\n",
    "Графики кумулятивной выручки подтвердили эти факты - динамика группы В намного ярче, прирост быстрый, имеется скачок - 19.08., который может говорить о совершении заказа значительной стоимости. Динамика графика группы А носит поступательный характер."
   ]
  },
  {
   "cell_type": "code",
   "execution_count": 69,
   "id": "5ffc84ef",
   "metadata": {},
   "outputs": [
    {
     "data": {
      "image/png": "[encoded data removed]",
      "text/plain": [
       "<Figure size 432x288 with 1 Axes>"
      ]
     },
     "metadata": {
      "needs_background": "light"
     },
     "output_type": "display_data"
    }
   ],
   "source": [
    "plt.plot(cumulativeRevenueA['date'], cumulativeRevenueA['revenue']/cumulativeRevenueA['orders'], label='A');\n",
    "plt.plot(cumulativeRevenueB['date'], cumulativeRevenueB['revenue']/cumulativeRevenueB['orders'], label='B');\n",
    "plt.legend(); \n",
    "plt.title('График кумулятивного среднего чека по группам', fontsize=14)\n",
    "plt.xlabel('даты');\n",
    "plt.ylabel('у.е.');\n",
    "plt.legend();\n",
    "plt.xticks(rotation=60,fontsize=8);"
   ]
  },
  {
   "cell_type": "markdown",
   "id": "b32342b5",
   "metadata": {},
   "source": [
    "#### Вывод.\n",
    "\n",
    "График среднего чека для группы А имеет ярко выраженный провал 06.08. и всплеск 13.08. после чего происходит корректировка и стабилизация."
   ]
  },
  {
   "cell_type": "markdown",
   "id": "0fbf43e9",
   "metadata": {},
   "source": [
    "### Построение графика относительного изменения кумулятивного среднего чека группы B к группе A. "
   ]
  },
  {
   "cell_type": "code",
   "execution_count": 70,
   "id": "a8f2687c",
   "metadata": {},
   "outputs": [
    {
     "data": {
      "text/html": [
       "<div>\n",
       "<style scoped>\n",
       "    .dataframe tbody tr th:only-of-type {\n",
       "        vertical-align: middle;\n",
       "    }\n",
       "\n",
       "    .dataframe tbody tr th {\n",
       "        vertical-align: top;\n",
       "    }\n",
       "\n",
       "    .dataframe thead th {\n",
       "        text-align: right;\n",
       "    }\n",
       "</style>\n",
       "<table border=\"1\" class=\"dataframe\">\n",
       "  <thead>\n",
       "    <tr style=\"text-align: right;\">\n",
       "      <th></th>\n",
       "      <th>date</th>\n",
       "      <th>revenueA</th>\n",
       "      <th>ordersA</th>\n",
       "      <th>revenueB</th>\n",
       "      <th>ordersB</th>\n",
       "    </tr>\n",
       "  </thead>\n",
       "  <tbody>\n",
       "    <tr>\n",
       "      <th>0</th>\n",
       "      <td>2019-08-01</td>\n",
       "      <td>148579</td>\n",
       "      <td>24</td>\n",
       "      <td>101217</td>\n",
       "      <td>21</td>\n",
       "    </tr>\n",
       "    <tr>\n",
       "      <th>1</th>\n",
       "      <td>2019-08-02</td>\n",
       "      <td>242401</td>\n",
       "      <td>44</td>\n",
       "      <td>266748</td>\n",
       "      <td>45</td>\n",
       "    </tr>\n",
       "    <tr>\n",
       "      <th>2</th>\n",
       "      <td>2019-08-03</td>\n",
       "      <td>354874</td>\n",
       "      <td>68</td>\n",
       "      <td>380996</td>\n",
       "      <td>61</td>\n",
       "    </tr>\n",
       "    <tr>\n",
       "      <th>3</th>\n",
       "      <td>2019-08-04</td>\n",
       "      <td>425699</td>\n",
       "      <td>84</td>\n",
       "      <td>489567</td>\n",
       "      <td>78</td>\n",
       "    </tr>\n",
       "    <tr>\n",
       "      <th>4</th>\n",
       "      <td>2019-08-05</td>\n",
       "      <td>549917</td>\n",
       "      <td>109</td>\n",
       "      <td>581995</td>\n",
       "      <td>101</td>\n",
       "    </tr>\n",
       "  </tbody>\n",
       "</table>\n",
       "</div>"
      ],
      "text/plain": [
       "        date  revenueA  ordersA  revenueB  ordersB\n",
       "0 2019-08-01    148579       24    101217       21\n",
       "1 2019-08-02    242401       44    266748       45\n",
       "2 2019-08-03    354874       68    380996       61\n",
       "3 2019-08-04    425699       84    489567       78\n",
       "4 2019-08-05    549917      109    581995      101"
      ]
     },
     "execution_count": 70,
     "metadata": {},
     "output_type": "execute_result"
    }
   ],
   "source": [
    "# Построим график относительного различия для среднего чека. Собираем данные в одном датафрейме\n",
    "mergedCumulativeRevenue = cumulativeRevenueA.merge(cumulativeRevenueB, left_on='date', right_on='date', how='left', suffixes=['A', 'B'])\n",
    "mergedCumulativeRevenue.head()"
   ]
  },
  {
   "cell_type": "code",
   "execution_count": 71,
   "id": "1ae42161",
   "metadata": {},
   "outputs": [
    {
     "data": {
      "image/png": "[encoded data removed]",
      "text/plain": [
       "<Figure size 432x288 with 1 Axes>"
      ]
     },
     "metadata": {
      "needs_background": "light"
     },
     "output_type": "display_data"
    }
   ],
   "source": [
    "# cтроим отношение средних чеков\n",
    "plt.plot(mergedCumulativeRevenue['date'], (mergedCumulativeRevenue['revenueB']/mergedCumulativeRevenue['ordersB'])/(mergedCumulativeRevenue['revenueA']/mergedCumulativeRevenue['ordersA'])-1);\n",
    "# добавляем ось X\n",
    "plt.axhline(y=0, color='black', linestyle='--');\n",
    "plt.title('Относительное изменение кумулятивного среднего чека группы B к группе A', fontsize=14)\n",
    "plt.xlabel('даты');\n",
    "plt.ylabel('у.е.');\n",
    "plt.xticks(rotation=50,fontsize=8);"
   ]
  },
  {
   "cell_type": "markdown",
   "id": "3717311e",
   "metadata": {},
   "source": [
    "#### Выводы.\n",
    "\n",
    "На графике относительного изменения кумулятивного среднего чека группы В к группе А видно 3 относительно невысоких пика и значительный всплеск около 20-х чисел. С 11.08-16.08 наблюдается отрицательная область."
   ]
  },
  {
   "cell_type": "markdown",
   "id": "7feab3c0",
   "metadata": {},
   "source": [
    "### Построение графика кумулятивной конверсии по группам. "
   ]
  },
  {
   "cell_type": "code",
   "execution_count": 72,
   "id": "a99b6233",
   "metadata": {},
   "outputs": [
    {
     "data": {
      "text/html": [
       "<div>\n",
       "<style scoped>\n",
       "    .dataframe tbody tr th:only-of-type {\n",
       "        vertical-align: middle;\n",
       "    }\n",
       "\n",
       "    .dataframe tbody tr th {\n",
       "        vertical-align: top;\n",
       "    }\n",
       "\n",
       "    .dataframe thead th {\n",
       "        text-align: right;\n",
       "    }\n",
       "</style>\n",
       "<table border=\"1\" class=\"dataframe\">\n",
       "  <thead>\n",
       "    <tr style=\"text-align: right;\">\n",
       "      <th></th>\n",
       "      <th>date</th>\n",
       "      <th>group</th>\n",
       "      <th>orders</th>\n",
       "      <th>buyers</th>\n",
       "      <th>revenue</th>\n",
       "      <th>visitors</th>\n",
       "      <th>conversion</th>\n",
       "    </tr>\n",
       "  </thead>\n",
       "  <tbody>\n",
       "    <tr>\n",
       "      <th>0</th>\n",
       "      <td>2019-08-01</td>\n",
       "      <td>A</td>\n",
       "      <td>24</td>\n",
       "      <td>20</td>\n",
       "      <td>148579</td>\n",
       "      <td>719</td>\n",
       "      <td>0.03</td>\n",
       "    </tr>\n",
       "    <tr>\n",
       "      <th>1</th>\n",
       "      <td>2019-08-01</td>\n",
       "      <td>B</td>\n",
       "      <td>21</td>\n",
       "      <td>20</td>\n",
       "      <td>101217</td>\n",
       "      <td>713</td>\n",
       "      <td>0.03</td>\n",
       "    </tr>\n",
       "    <tr>\n",
       "      <th>2</th>\n",
       "      <td>2019-08-02</td>\n",
       "      <td>A</td>\n",
       "      <td>44</td>\n",
       "      <td>38</td>\n",
       "      <td>242401</td>\n",
       "      <td>1338</td>\n",
       "      <td>0.03</td>\n",
       "    </tr>\n",
       "    <tr>\n",
       "      <th>3</th>\n",
       "      <td>2019-08-02</td>\n",
       "      <td>B</td>\n",
       "      <td>45</td>\n",
       "      <td>43</td>\n",
       "      <td>266748</td>\n",
       "      <td>1294</td>\n",
       "      <td>0.03</td>\n",
       "    </tr>\n",
       "    <tr>\n",
       "      <th>4</th>\n",
       "      <td>2019-08-03</td>\n",
       "      <td>A</td>\n",
       "      <td>68</td>\n",
       "      <td>62</td>\n",
       "      <td>354874</td>\n",
       "      <td>1845</td>\n",
       "      <td>0.04</td>\n",
       "    </tr>\n",
       "  </tbody>\n",
       "</table>\n",
       "</div>"
      ],
      "text/plain": [
       "        date group  orders  buyers  revenue  visitors  conversion\n",
       "0 2019-08-01     A      24      20   148579       719        0.03\n",
       "1 2019-08-01     B      21      20   101217       713        0.03\n",
       "2 2019-08-02     A      44      38   242401      1338        0.03\n",
       "3 2019-08-02     B      45      43   266748      1294        0.03\n",
       "4 2019-08-03     A      68      62   354874      1845        0.04"
      ]
     },
     "execution_count": 72,
     "metadata": {},
     "output_type": "execute_result"
    }
   ],
   "source": [
    "# считаем кумулятивную конверсию\n",
    "cumulativeData['conversion'] = cumulativeData['orders']/cumulativeData['visitors']\n",
    "cumulativeData.head()"
   ]
  },
  {
   "cell_type": "code",
   "execution_count": 73,
   "id": "a29489a4",
   "metadata": {},
   "outputs": [
    {
     "data": {
      "text/html": [
       "<div>\n",
       "<style scoped>\n",
       "    .dataframe tbody tr th:only-of-type {\n",
       "        vertical-align: middle;\n",
       "    }\n",
       "\n",
       "    .dataframe tbody tr th {\n",
       "        vertical-align: top;\n",
       "    }\n",
       "\n",
       "    .dataframe thead th {\n",
       "        text-align: right;\n",
       "    }\n",
       "</style>\n",
       "<table border=\"1\" class=\"dataframe\">\n",
       "  <thead>\n",
       "    <tr style=\"text-align: right;\">\n",
       "      <th></th>\n",
       "      <th>date</th>\n",
       "      <th>group</th>\n",
       "      <th>orders</th>\n",
       "      <th>buyers</th>\n",
       "      <th>revenue</th>\n",
       "      <th>visitors</th>\n",
       "      <th>conversion</th>\n",
       "    </tr>\n",
       "  </thead>\n",
       "  <tbody>\n",
       "    <tr>\n",
       "      <th>0</th>\n",
       "      <td>2019-08-01</td>\n",
       "      <td>A</td>\n",
       "      <td>24</td>\n",
       "      <td>20</td>\n",
       "      <td>148579</td>\n",
       "      <td>719</td>\n",
       "      <td>0.03</td>\n",
       "    </tr>\n",
       "    <tr>\n",
       "      <th>2</th>\n",
       "      <td>2019-08-02</td>\n",
       "      <td>A</td>\n",
       "      <td>44</td>\n",
       "      <td>38</td>\n",
       "      <td>242401</td>\n",
       "      <td>1338</td>\n",
       "      <td>0.03</td>\n",
       "    </tr>\n",
       "    <tr>\n",
       "      <th>4</th>\n",
       "      <td>2019-08-03</td>\n",
       "      <td>A</td>\n",
       "      <td>68</td>\n",
       "      <td>62</td>\n",
       "      <td>354874</td>\n",
       "      <td>1845</td>\n",
       "      <td>0.04</td>\n",
       "    </tr>\n",
       "    <tr>\n",
       "      <th>6</th>\n",
       "      <td>2019-08-04</td>\n",
       "      <td>A</td>\n",
       "      <td>84</td>\n",
       "      <td>77</td>\n",
       "      <td>425699</td>\n",
       "      <td>2562</td>\n",
       "      <td>0.03</td>\n",
       "    </tr>\n",
       "    <tr>\n",
       "      <th>8</th>\n",
       "      <td>2019-08-05</td>\n",
       "      <td>A</td>\n",
       "      <td>109</td>\n",
       "      <td>100</td>\n",
       "      <td>549917</td>\n",
       "      <td>3318</td>\n",
       "      <td>0.03</td>\n",
       "    </tr>\n",
       "  </tbody>\n",
       "</table>\n",
       "</div>"
      ],
      "text/plain": [
       "        date group  orders  buyers  revenue  visitors  conversion\n",
       "0 2019-08-01     A      24      20   148579       719        0.03\n",
       "2 2019-08-02     A      44      38   242401      1338        0.03\n",
       "4 2019-08-03     A      68      62   354874      1845        0.04\n",
       "6 2019-08-04     A      84      77   425699      2562        0.03\n",
       "8 2019-08-05     A     109     100   549917      3318        0.03"
      ]
     },
     "execution_count": 73,
     "metadata": {},
     "output_type": "execute_result"
    }
   ],
   "source": [
    "# отделяем данные по группе A\n",
    "cumulativeDataA = cumulativeData[cumulativeData['group']=='A']\n",
    "cumulativeDataA.head() "
   ]
  },
  {
   "cell_type": "code",
   "execution_count": 74,
   "id": "6394342b",
   "metadata": {},
   "outputs": [
    {
     "data": {
      "text/html": [
       "<div>\n",
       "<style scoped>\n",
       "    .dataframe tbody tr th:only-of-type {\n",
       "        vertical-align: middle;\n",
       "    }\n",
       "\n",
       "    .dataframe tbody tr th {\n",
       "        vertical-align: top;\n",
       "    }\n",
       "\n",
       "    .dataframe thead th {\n",
       "        text-align: right;\n",
       "    }\n",
       "</style>\n",
       "<table border=\"1\" class=\"dataframe\">\n",
       "  <thead>\n",
       "    <tr style=\"text-align: right;\">\n",
       "      <th></th>\n",
       "      <th>date</th>\n",
       "      <th>group</th>\n",
       "      <th>orders</th>\n",
       "      <th>buyers</th>\n",
       "      <th>revenue</th>\n",
       "      <th>visitors</th>\n",
       "      <th>conversion</th>\n",
       "    </tr>\n",
       "  </thead>\n",
       "  <tbody>\n",
       "    <tr>\n",
       "      <th>1</th>\n",
       "      <td>2019-08-01</td>\n",
       "      <td>B</td>\n",
       "      <td>21</td>\n",
       "      <td>20</td>\n",
       "      <td>101217</td>\n",
       "      <td>713</td>\n",
       "      <td>0.03</td>\n",
       "    </tr>\n",
       "    <tr>\n",
       "      <th>3</th>\n",
       "      <td>2019-08-02</td>\n",
       "      <td>B</td>\n",
       "      <td>45</td>\n",
       "      <td>43</td>\n",
       "      <td>266748</td>\n",
       "      <td>1294</td>\n",
       "      <td>0.03</td>\n",
       "    </tr>\n",
       "    <tr>\n",
       "      <th>5</th>\n",
       "      <td>2019-08-03</td>\n",
       "      <td>B</td>\n",
       "      <td>61</td>\n",
       "      <td>59</td>\n",
       "      <td>380996</td>\n",
       "      <td>1803</td>\n",
       "      <td>0.03</td>\n",
       "    </tr>\n",
       "    <tr>\n",
       "      <th>7</th>\n",
       "      <td>2019-08-04</td>\n",
       "      <td>B</td>\n",
       "      <td>78</td>\n",
       "      <td>75</td>\n",
       "      <td>489567</td>\n",
       "      <td>2573</td>\n",
       "      <td>0.03</td>\n",
       "    </tr>\n",
       "    <tr>\n",
       "      <th>9</th>\n",
       "      <td>2019-08-05</td>\n",
       "      <td>B</td>\n",
       "      <td>101</td>\n",
       "      <td>98</td>\n",
       "      <td>581995</td>\n",
       "      <td>3280</td>\n",
       "      <td>0.03</td>\n",
       "    </tr>\n",
       "  </tbody>\n",
       "</table>\n",
       "</div>"
      ],
      "text/plain": [
       "        date group  orders  buyers  revenue  visitors  conversion\n",
       "1 2019-08-01     B      21      20   101217       713        0.03\n",
       "3 2019-08-02     B      45      43   266748      1294        0.03\n",
       "5 2019-08-03     B      61      59   380996      1803        0.03\n",
       "7 2019-08-04     B      78      75   489567      2573        0.03\n",
       "9 2019-08-05     B     101      98   581995      3280        0.03"
      ]
     },
     "execution_count": 74,
     "metadata": {},
     "output_type": "execute_result"
    }
   ],
   "source": [
    "# отделяем данные по группе B\n",
    "cumulativeDataB = cumulativeData[cumulativeData['group']=='B']\n",
    "cumulativeDataB.head() "
   ]
  },
  {
   "cell_type": "code",
   "execution_count": 75,
   "id": "cdd7101e",
   "metadata": {},
   "outputs": [],
   "source": [
    "# конвертеры, которые позволяют использовать типы pandas в matplotlib  \n",
    "register_matplotlib_converters()"
   ]
  },
  {
   "cell_type": "code",
   "execution_count": 76,
   "id": "226830cf",
   "metadata": {},
   "outputs": [
    {
     "data": {
      "image/png": "[encoded data removed]",
      "text/plain": [
       "<Figure size 432x288 with 1 Axes>"
      ]
     },
     "metadata": {
      "needs_background": "light"
     },
     "output_type": "display_data"
    }
   ],
   "source": [
    "# строим график\n",
    "plt.plot(cumulativeDataA['date'], cumulativeDataA['conversion'], label='A')\n",
    "plt.plot(cumulativeDataB['date'], cumulativeDataB['conversion'], label='B')\n",
    "plt.legend()\n",
    "plt.axis([\"2019-08-01\", \"2019-08-31\", 0, 0.1]); # задаем масштаб осей\n",
    "plt.title('Кумулятивная конверсия по группам', fontsize=14)\n",
    "plt.xlabel('даты');\n",
    "plt.ylabel('конверсия');\n",
    "plt.xticks(rotation=50,fontsize=8);"
   ]
  },
  {
   "cell_type": "markdown",
   "id": "06527386",
   "metadata": {},
   "source": [
    "#### Выводы.\n",
    "\n",
    "Графики кумулятивной конверсии по группам колебались около одного значения. 03.08. группа А имела преимущество, но после 06.08. конверсия группы В заняла главенствующую позицию и зафиксировалась, график кумулятивной конверсии группы А просел и также зафиксировался."
   ]
  },
  {
   "cell_type": "markdown",
   "id": "7a9f8eed",
   "metadata": {},
   "source": [
    "### Построение графика относительного изменения кумулятивной конверсии группы B к группе A. "
   ]
  },
  {
   "cell_type": "code",
   "execution_count": 77,
   "id": "6a81e83b",
   "metadata": {},
   "outputs": [
    {
     "data": {
      "image/png": "[encoded data removed]",
      "text/plain": [
       "<Figure size 432x288 with 1 Axes>"
      ]
     },
     "metadata": {
      "needs_background": "light"
     },
     "output_type": "display_data"
    }
   ],
   "source": [
    "# Собираем данные в одном датафрейме.\n",
    "mergedCumulativeConversions = cumulativeDataA[['date','conversion']].merge(cumulativeDataB[['date','conversion']], left_on='date', right_on='date', how='left', suffixes=['A', 'B'])\n",
    "plt.plot(mergedCumulativeConversions['date'], mergedCumulativeConversions['conversionB']/mergedCumulativeConversions['conversionA']-1, label=\"Относительный прирост конверсии группы B относительно группы A\")\n",
    "plt.legend(bbox_to_anchor=(2, 1));\n",
    "plt.axhline(y=0, color='black', linestyle='--');\n",
    "plt.axhline(y=-0.1, color='grey', linestyle='--');\n",
    "plt.axis([\"2019-08-01\", \"2019-08-31\", -0.2, 0.3]); # задаем масштаб осей\n",
    "plt.title('Относительное изменение кумулятивной конверсии группы B к группе A', fontsize=14)\n",
    "plt.xlabel('даты');\n",
    "plt.ylabel('конверсия');\n",
    "plt.xticks(rotation=60,fontsize=8);"
   ]
  },
  {
   "cell_type": "markdown",
   "id": "c419d9bc",
   "metadata": {},
   "source": [
    "#### Выводы.\n",
    "\n",
    "Группа В демонстрирует стабильную положительную динамику, имея отрицательные значения только в начале периода."
   ]
  },
  {
   "cell_type": "markdown",
   "id": "0b40d121",
   "metadata": {},
   "source": [
    "### Построение точечного графика количества заказов по пользователям. "
   ]
  },
  {
   "cell_type": "code",
   "execution_count": 78,
   "id": "b0421779",
   "metadata": {},
   "outputs": [
    {
     "name": "stdout",
     "output_type": "stream",
     "text": [
      "          userId  orders\n",
      "1023  4256040402      11\n",
      "591   2458001652      11\n",
      "569   2378935119       9\n",
      "487   2038680547       8\n",
      "44     199603092       5\n",
      "744   3062433592       5\n",
      "55     237748145       5\n",
      "917   3803269165       5\n",
      "299   1230306981       5\n",
      "897   3717692402       5\n"
     ]
    }
   ],
   "source": [
    "# Подсчитаем количество заказов по пользователям и посмотрим на результат:\n",
    "ordersByUsers = (\n",
    "    orders.groupby('visitorId', as_index=False)\n",
    "    .agg({'transactionId': 'nunique'})\n",
    ")\n",
    "# переименую колонки для удобства:\n",
    "ordersByUsers.columns = ['userId', 'orders']\n",
    "\n",
    "print(ordersByUsers.sort_values(by='orders', ascending=False).head(10)) \n"
   ]
  },
  {
   "cell_type": "code",
   "execution_count": 79,
   "id": "59ef8d16",
   "metadata": {},
   "outputs": [
    {
     "data": {
      "image/png": "[encoded data removed]",
      "text/plain": [
       "<Figure size 432x288 with 1 Axes>"
      ]
     },
     "metadata": {
      "needs_background": "light"
     },
     "output_type": "display_data"
    }
   ],
   "source": [
    "# Построим гистограмму распределения числа заказов по пользователям методом hist().\n",
    "plt.hist(ordersByUsers['orders']);\n",
    "plt.title('Распределение числа заказов по пользователям', fontsize=14)\n",
    "plt.xlabel('количество заказов');\n",
    "plt.ylabel('частота');\n",
    "plt.xticks(rotation=0,fontsize=12);"
   ]
  },
  {
   "cell_type": "markdown",
   "id": "99a5653e",
   "metadata": {},
   "source": [
    "Очевидно, что бОльшая часть покупателей совершала 1 заказ, однако, имееются всплески в 11 и 9."
   ]
  },
  {
   "cell_type": "code",
   "execution_count": 80,
   "id": "e919e5c8",
   "metadata": {},
   "outputs": [
    {
     "data": {
      "image/png": "[encoded data removed]",
      "text/plain": [
       "<Figure size 432x288 with 1 Axes>"
      ]
     },
     "metadata": {
      "needs_background": "light"
     },
     "output_type": "display_data"
    }
   ],
   "source": [
    "x_values = pd.Series(range(0,len(ordersByUsers)));\n",
    "\n",
    "plt.scatter(x_values, ordersByUsers['orders']); \n",
    "plt.title('Распределение числа заказов по пользователям', fontsize=14)\n",
    "plt.xlabel('частота');\n",
    "plt.ylabel('число заказов');\n",
    "plt.xticks(rotation=0,fontsize=12);"
   ]
  },
  {
   "cell_type": "markdown",
   "id": "9464304b",
   "metadata": {},
   "source": [
    "#### Выводы. \n",
    "\n",
    "Подавляющая масса пользователей совершала 1-2 заказа, следующая группа относится к диапазону [3:5] заказов."
   ]
  },
  {
   "cell_type": "markdown",
   "id": "ff499b9f",
   "metadata": {},
   "source": [
    "### Посчитаем 95-й и 99-й перцентили количества заказов на пользователя."
   ]
  },
  {
   "cell_type": "code",
   "execution_count": 81,
   "id": "c9b52980",
   "metadata": {},
   "outputs": [
    {
     "name": "stdout",
     "output_type": "stream",
     "text": [
      "[1. 2. 4.]\n"
     ]
    }
   ],
   "source": [
    "# Посчитаем выборочные перцентили количества заказов на одного пользователя:\n",
    "print(np.percentile(ordersByUsers['orders'], [90, 95, 99])) "
   ]
  },
  {
   "cell_type": "markdown",
   "id": "5d8605fe",
   "metadata": {},
   "source": [
    "####  Граница для определения аномальных пользователей.\n",
    "Не более 5% покупателей осуществляли больше 2 заказов и не более 1% совершали более 4-х заказов."
   ]
  },
  {
   "cell_type": "markdown",
   "id": "eaf273e3",
   "metadata": {},
   "source": [
    "### Построение точечного графика стоимостей заказов."
   ]
  },
  {
   "cell_type": "code",
   "execution_count": 82,
   "id": "96e1a773",
   "metadata": {},
   "outputs": [
    {
     "data": {
      "image/png": "[encoded data removed]",
      "text/plain": [
       "<Figure size 432x288 with 1 Axes>"
      ]
     },
     "metadata": {
      "needs_background": "light"
     },
     "output_type": "display_data"
    }
   ],
   "source": [
    "x_values = pd.Series(range(0,len(orders['revenue'])))\n",
    "plt.scatter(x_values, orders['revenue']) \n",
    "plt.title('Распределение стоимости заказов по пользователям', fontsize=14)\n",
    "plt.xlabel('частота');\n",
    "plt.ylabel('стоимость');\n",
    "plt.xticks(rotation=0,fontsize=12);"
   ]
  },
  {
   "cell_type": "markdown",
   "id": "7d8894c1",
   "metadata": {},
   "source": [
    "#### Выводы.\n",
    "\n",
    "Большая часть заказов не превышала 20 000 и сконцентрирована в одной зоне. Продолжим изыскания"
   ]
  },
  {
   "cell_type": "markdown",
   "id": "73c6f2fa",
   "metadata": {},
   "source": [
    "### Посчитаем 95-й и 99-й перцентили стоимости заказов. "
   ]
  },
  {
   "cell_type": "code",
   "execution_count": 83,
   "id": "7e89243e",
   "metadata": {},
   "outputs": [
    {
     "name": "stdout",
     "output_type": "stream",
     "text": [
      "[18168.  28000.  58233.2]\n"
     ]
    }
   ],
   "source": [
    "# Определим 90, 95 и 99 перцентили среднего чека в выборке для выявления аномальных значений\n",
    "print(np.percentile(orders['revenue'], [90, 95, 99])) "
   ]
  },
  {
   "cell_type": "markdown",
   "id": "0b039c02",
   "metadata": {},
   "source": [
    "#### Граница для определения аномальных заказов.\n",
    "\n",
    "Не более 5% заказов дороже 28 000 и не более 1% дороже 58 233."
   ]
  },
  {
   "cell_type": "markdown",
   "id": "70cdb158",
   "metadata": {},
   "source": [
    "###\tПосчитаем статистическую значимость различий в конверсии между группами по «сырым» данным. \n"
   ]
  },
  {
   "cell_type": "markdown",
   "id": "0fb9367b",
   "metadata": {},
   "source": [
    "Посчитаем статистическую значимость различий в конверсии и среднем чеке между группами по «сырым» данным — без удаления аномальных пользователей. Необходимо выполнить подготовительную работу.\n",
    "Сформулируем гипотезы. \n",
    "\n",
    "Нулевая: различий в конверсии между группами нет. \n",
    "\n",
    "Альтернативная: различия в конверсии между группами есть."
   ]
  },
  {
   "cell_type": "code",
   "execution_count": 84,
   "id": "47e1c6c7",
   "metadata": {},
   "outputs": [
    {
     "data": {
      "text/html": [
       "<div>\n",
       "<style scoped>\n",
       "    .dataframe tbody tr th:only-of-type {\n",
       "        vertical-align: middle;\n",
       "    }\n",
       "\n",
       "    .dataframe tbody tr th {\n",
       "        vertical-align: top;\n",
       "    }\n",
       "\n",
       "    .dataframe thead th {\n",
       "        text-align: right;\n",
       "    }\n",
       "</style>\n",
       "<table border=\"1\" class=\"dataframe\">\n",
       "  <thead>\n",
       "    <tr style=\"text-align: right;\">\n",
       "      <th></th>\n",
       "      <th>date</th>\n",
       "      <th>ordersPerDateA</th>\n",
       "      <th>revenuePerDateA</th>\n",
       "      <th>ordersPerDateB</th>\n",
       "      <th>revenuePerDateB</th>\n",
       "      <th>ordersCummulativeA</th>\n",
       "      <th>revenueCummulativeA</th>\n",
       "      <th>ordersCummulativeB</th>\n",
       "      <th>revenueCummulativeB</th>\n",
       "      <th>visitorsPerDateA</th>\n",
       "      <th>visitorsPerDateB</th>\n",
       "      <th>visitorsCummulativeA</th>\n",
       "      <th>visitorsCummulativeB</th>\n",
       "    </tr>\n",
       "  </thead>\n",
       "  <tbody>\n",
       "    <tr>\n",
       "      <th>0</th>\n",
       "      <td>2019-08-01</td>\n",
       "      <td>24</td>\n",
       "      <td>148579</td>\n",
       "      <td>21</td>\n",
       "      <td>101217</td>\n",
       "      <td>24</td>\n",
       "      <td>148579</td>\n",
       "      <td>21</td>\n",
       "      <td>101217</td>\n",
       "      <td>719</td>\n",
       "      <td>713</td>\n",
       "      <td>719</td>\n",
       "      <td>713</td>\n",
       "    </tr>\n",
       "    <tr>\n",
       "      <th>1</th>\n",
       "      <td>2019-08-02</td>\n",
       "      <td>20</td>\n",
       "      <td>93822</td>\n",
       "      <td>24</td>\n",
       "      <td>165531</td>\n",
       "      <td>44</td>\n",
       "      <td>242401</td>\n",
       "      <td>45</td>\n",
       "      <td>266748</td>\n",
       "      <td>619</td>\n",
       "      <td>581</td>\n",
       "      <td>1338</td>\n",
       "      <td>1294</td>\n",
       "    </tr>\n",
       "    <tr>\n",
       "      <th>2</th>\n",
       "      <td>2019-08-03</td>\n",
       "      <td>24</td>\n",
       "      <td>112473</td>\n",
       "      <td>16</td>\n",
       "      <td>114248</td>\n",
       "      <td>68</td>\n",
       "      <td>354874</td>\n",
       "      <td>61</td>\n",
       "      <td>380996</td>\n",
       "      <td>507</td>\n",
       "      <td>509</td>\n",
       "      <td>1845</td>\n",
       "      <td>1803</td>\n",
       "    </tr>\n",
       "    <tr>\n",
       "      <th>3</th>\n",
       "      <td>2019-08-04</td>\n",
       "      <td>16</td>\n",
       "      <td>70825</td>\n",
       "      <td>17</td>\n",
       "      <td>108571</td>\n",
       "      <td>84</td>\n",
       "      <td>425699</td>\n",
       "      <td>78</td>\n",
       "      <td>489567</td>\n",
       "      <td>717</td>\n",
       "      <td>770</td>\n",
       "      <td>2562</td>\n",
       "      <td>2573</td>\n",
       "    </tr>\n",
       "    <tr>\n",
       "      <th>4</th>\n",
       "      <td>2019-08-05</td>\n",
       "      <td>25</td>\n",
       "      <td>124218</td>\n",
       "      <td>23</td>\n",
       "      <td>92428</td>\n",
       "      <td>109</td>\n",
       "      <td>549917</td>\n",
       "      <td>101</td>\n",
       "      <td>581995</td>\n",
       "      <td>756</td>\n",
       "      <td>707</td>\n",
       "      <td>3318</td>\n",
       "      <td>3280</td>\n",
       "    </tr>\n",
       "  </tbody>\n",
       "</table>\n",
       "</div>"
      ],
      "text/plain": [
       "        date  ordersPerDateA  revenuePerDateA  ordersPerDateB  \\\n",
       "0 2019-08-01              24           148579              21   \n",
       "1 2019-08-02              20            93822              24   \n",
       "2 2019-08-03              24           112473              16   \n",
       "3 2019-08-04              16            70825              17   \n",
       "4 2019-08-05              25           124218              23   \n",
       "\n",
       "   revenuePerDateB  ordersCummulativeA  revenueCummulativeA  \\\n",
       "0           101217                  24               148579   \n",
       "1           165531                  44               242401   \n",
       "2           114248                  68               354874   \n",
       "3           108571                  84               425699   \n",
       "4            92428                 109               549917   \n",
       "\n",
       "   ordersCummulativeB  revenueCummulativeB  visitorsPerDateA  \\\n",
       "0                  21               101217               719   \n",
       "1                  45               266748               619   \n",
       "2                  61               380996               507   \n",
       "3                  78               489567               717   \n",
       "4                 101               581995               756   \n",
       "\n",
       "   visitorsPerDateB  visitorsCummulativeA  visitorsCummulativeB  \n",
       "0               713                   719                   713  \n",
       "1               581                  1338                  1294  \n",
       "2               509                  1845                  1803  \n",
       "3               770                  2562                  2573  \n",
       "4               707                  3318                  3280  "
      ]
     },
     "execution_count": 84,
     "metadata": {},
     "output_type": "execute_result"
    }
   ],
   "source": [
    "# получаем агрегированные и кумулятивные по дням данные о посетителях группы А\n",
    "visitorsADaily = visitors[visitors['group'] == 'A'][['date', 'visitors']]\n",
    "visitorsADaily.columns = ['date', 'visitorsPerDateA']\n",
    "\n",
    "visitorsACummulative = visitorsADaily.apply(\n",
    "    lambda x: visitorsADaily[visitorsADaily['date'] <= x['date']].agg(\n",
    "        {'date': 'max', 'visitorsPerDateA': 'sum'}\n",
    "    ),\n",
    "    axis=1,\n",
    ")\n",
    "visitorsACummulative.columns = ['date', 'visitorsCummulativeA']\n",
    "\n",
    "# получаем агрегированные и кумулятивные по дням данные о посетителях группы В\n",
    "visitorsBDaily = visitors[visitors['group'] == 'B'][['date', 'visitors']]\n",
    "visitorsBDaily.columns = ['date', 'visitorsPerDateB']\n",
    "\n",
    "visitorsBCummulative = visitorsBDaily.apply(\n",
    "    lambda x: visitorsBDaily[visitorsBDaily['date'] <= x['date']].agg(\n",
    "        {'date': 'max', 'visitorsPerDateB': 'sum'}\n",
    "    ),\n",
    "    axis=1,\n",
    ")\n",
    "visitorsBCummulative.columns = ['date', 'visitorsCummulativeB']\n",
    "\n",
    "# получаем агрегированные по дням данные о заказах и выручке группы А\n",
    "ordersADaily = (\n",
    "    orders[orders['group'] == 'A'][['date', 'transactionId', 'visitorId', 'revenue']]\n",
    "    .groupby('date', as_index=False)\n",
    "    .agg({'transactionId': pd.Series.nunique, 'revenue': 'sum'})\n",
    ")\n",
    "ordersADaily.columns = ['date', 'ordersPerDateA', 'revenuePerDateA']\n",
    "\n",
    "# получаем кумулятивные по дням данные о заказах и выручке группы А\n",
    "ordersACummulative = ordersADaily.apply(\n",
    "    lambda x: ordersADaily[ordersADaily['date'] <= x['date']].agg(\n",
    "        {'date': 'max', 'ordersPerDateA': 'sum', 'revenuePerDateA': 'sum'}\n",
    "    ),\n",
    "    axis=1,\n",
    ").sort_values(by=['date'])\n",
    "ordersACummulative.columns = [\n",
    "    'date',\n",
    "    'ordersCummulativeA',\n",
    "    'revenueCummulativeA',\n",
    "]\n",
    "# получаем агрегированные по дням данные о заказах и выручке группы В\n",
    "ordersBDaily = (\n",
    "    orders[orders['group'] == 'B'][['date', 'transactionId', 'visitorId', 'revenue']]\n",
    "    .groupby('date', as_index=False)\n",
    "    .agg({'transactionId': pd.Series.nunique, 'revenue': 'sum'})\n",
    ")\n",
    "ordersBDaily.columns = ['date', 'ordersPerDateB', 'revenuePerDateB']\n",
    "\n",
    "# получаем кумулятивные по дням данные о заказах и выручке группы В\n",
    "ordersBCummulative = ordersBDaily.apply(\n",
    "    lambda x: ordersBDaily[ordersBDaily['date'] <= x['date']].agg(\n",
    "        {'date': 'max', 'ordersPerDateB': 'sum', 'revenuePerDateB': 'sum'}\n",
    "    ),\n",
    "    axis=1,\n",
    ").sort_values(by=['date'])\n",
    "ordersBCummulative.columns = [\n",
    "    'date',\n",
    "    'ordersCummulativeB',\n",
    "    'revenueCummulativeB',\n",
    "]\n",
    "\n",
    "# Объединяем по дате все полученные в один датафрейм\n",
    "data = (\n",
    "    ordersADaily.merge(\n",
    "        ordersBDaily, left_on='date', right_on='date', how='left'\n",
    "    )\n",
    "    .merge(ordersACummulative, left_on='date', right_on='date', how='left')\n",
    "    .merge(ordersBCummulative, left_on='date', right_on='date', how='left')\n",
    "    .merge(visitorsADaily, left_on='date', right_on='date', how='left')\n",
    "    .merge(visitorsBDaily, left_on='date', right_on='date', how='left')\n",
    "    .merge(visitorsACummulative, left_on='date', right_on='date', how='left')\n",
    "    .merge(visitorsBCummulative, left_on='date', right_on='date', how='left')\n",
    ")\n",
    "\n",
    "data.head(5)\n"
   ]
  },
  {
   "cell_type": "markdown",
   "id": "f92911d4",
   "metadata": {},
   "source": [
    "Получен датафрейм, отражающий всю полноту данных для каждой группы.\n",
    "\n",
    "Названия столбцов данных:\n",
    "\n",
    "•\tdate — дата;\n",
    "\n",
    "•\tordersPerDateA — количество заказов в выбранную дату в группе A;\n",
    "\n",
    "•\trevenuePerDateA — суммарная выручка в выбранную дату в группе A;\n",
    "\n",
    "•\tordersPerDateB — количество заказов в выбранную дату в группе B;\n",
    "\n",
    "•\trevenuePerDateB — суммарная выручка в выбранную дату в группе B;\n",
    "\n",
    "•\tordersCummulativeA — суммарное число заказов до выбранной даты включительно в группе A;\n",
    "\n",
    "•\trevenueCummulativeA — суммарная выручка до выбранной даты включительно в группе A;\n",
    "\n",
    "•\tordersCummulativeB — суммарное количество заказов до выбранной даты включительно в группе B;\n",
    "\n",
    "•\trevenueCummulativeB — суммарная выручка до выбранной даты включительно в группе B;\n",
    "\n",
    "•\tvisitorsPerDateA — количество пользователей в выбранную дату в группе A;\n",
    "\n",
    "•\tvisitorsPerDateB — количество пользователей в выбранную дату в группе B;\n",
    "\n",
    "•\tvisitorsCummulativeA — количество пользователей до выбранной даты включительно в группе A;\n",
    "\n",
    "•\tvisitorsCummulativeB — количество пользователей до выбранной даты включительно в группе B.\n"
   ]
  },
  {
   "cell_type": "code",
   "execution_count": 85,
   "id": "9806a261",
   "metadata": {},
   "outputs": [
    {
     "data": {
      "text/html": [
       "<div>\n",
       "<style scoped>\n",
       "    .dataframe tbody tr th:only-of-type {\n",
       "        vertical-align: middle;\n",
       "    }\n",
       "\n",
       "    .dataframe tbody tr th {\n",
       "        vertical-align: top;\n",
       "    }\n",
       "\n",
       "    .dataframe thead th {\n",
       "        text-align: right;\n",
       "    }\n",
       "</style>\n",
       "<table border=\"1\" class=\"dataframe\">\n",
       "  <thead>\n",
       "    <tr style=\"text-align: right;\">\n",
       "      <th></th>\n",
       "      <th>userId</th>\n",
       "      <th>orders</th>\n",
       "    </tr>\n",
       "  </thead>\n",
       "  <tbody>\n",
       "    <tr>\n",
       "      <th>0</th>\n",
       "      <td>8300375</td>\n",
       "      <td>1</td>\n",
       "    </tr>\n",
       "    <tr>\n",
       "      <th>1</th>\n",
       "      <td>11685486</td>\n",
       "      <td>1</td>\n",
       "    </tr>\n",
       "    <tr>\n",
       "      <th>2</th>\n",
       "      <td>54447517</td>\n",
       "      <td>1</td>\n",
       "    </tr>\n",
       "    <tr>\n",
       "      <th>3</th>\n",
       "      <td>66685450</td>\n",
       "      <td>1</td>\n",
       "    </tr>\n",
       "    <tr>\n",
       "      <th>4</th>\n",
       "      <td>78758296</td>\n",
       "      <td>1</td>\n",
       "    </tr>\n",
       "    <tr>\n",
       "      <th>...</th>\n",
       "      <td>...</td>\n",
       "      <td>...</td>\n",
       "    </tr>\n",
       "    <tr>\n",
       "      <th>498</th>\n",
       "      <td>4243832526</td>\n",
       "      <td>1</td>\n",
       "    </tr>\n",
       "    <tr>\n",
       "      <th>499</th>\n",
       "      <td>4256040402</td>\n",
       "      <td>7</td>\n",
       "    </tr>\n",
       "    <tr>\n",
       "      <th>500</th>\n",
       "      <td>4259830713</td>\n",
       "      <td>1</td>\n",
       "    </tr>\n",
       "    <tr>\n",
       "      <th>501</th>\n",
       "      <td>4266935830</td>\n",
       "      <td>1</td>\n",
       "    </tr>\n",
       "    <tr>\n",
       "      <th>502</th>\n",
       "      <td>4278982564</td>\n",
       "      <td>1</td>\n",
       "    </tr>\n",
       "  </tbody>\n",
       "</table>\n",
       "<p>503 rows × 2 columns</p>\n",
       "</div>"
      ],
      "text/plain": [
       "         userId  orders\n",
       "0       8300375       1\n",
       "1      11685486       1\n",
       "2      54447517       1\n",
       "3      66685450       1\n",
       "4      78758296       1\n",
       "..          ...     ...\n",
       "498  4243832526       1\n",
       "499  4256040402       7\n",
       "500  4259830713       1\n",
       "501  4266935830       1\n",
       "502  4278982564       1\n",
       "\n",
       "[503 rows x 2 columns]"
      ]
     },
     "execution_count": 85,
     "metadata": {},
     "output_type": "execute_result"
    }
   ],
   "source": [
    "# Посчитаем статистическую значимость различия в конверсии между группами.\n",
    "# Создадим переменные ordersByUsersA и ordersByUsersB со столбцами ['userId', 'orders']. \n",
    "# В них для пользователей, которые заказывали хотя бы 1 раз, укажем число совершённых заказов.\n",
    "\n",
    "ordersByUsersA = (\n",
    "    orders[orders['group'] == 'A']\n",
    "    .groupby('visitorId', as_index=False)\n",
    "    .agg({'transactionId': pd.Series.nunique})\n",
    ")\n",
    "ordersByUsersA.columns = ['userId', 'orders']\n",
    "ordersByUsersA"
   ]
  },
  {
   "cell_type": "code",
   "execution_count": 86,
   "id": "02fc3359",
   "metadata": {},
   "outputs": [
    {
     "data": {
      "text/html": [
       "<div>\n",
       "<style scoped>\n",
       "    .dataframe tbody tr th:only-of-type {\n",
       "        vertical-align: middle;\n",
       "    }\n",
       "\n",
       "    .dataframe tbody tr th {\n",
       "        vertical-align: top;\n",
       "    }\n",
       "\n",
       "    .dataframe thead th {\n",
       "        text-align: right;\n",
       "    }\n",
       "</style>\n",
       "<table border=\"1\" class=\"dataframe\">\n",
       "  <thead>\n",
       "    <tr style=\"text-align: right;\">\n",
       "      <th></th>\n",
       "      <th>userId</th>\n",
       "      <th>orders</th>\n",
       "    </tr>\n",
       "  </thead>\n",
       "  <tbody>\n",
       "    <tr>\n",
       "      <th>0</th>\n",
       "      <td>5114589</td>\n",
       "      <td>1</td>\n",
       "    </tr>\n",
       "    <tr>\n",
       "      <th>1</th>\n",
       "      <td>6958315</td>\n",
       "      <td>1</td>\n",
       "    </tr>\n",
       "    <tr>\n",
       "      <th>2</th>\n",
       "      <td>8300375</td>\n",
       "      <td>1</td>\n",
       "    </tr>\n",
       "    <tr>\n",
       "      <th>3</th>\n",
       "      <td>39475350</td>\n",
       "      <td>1</td>\n",
       "    </tr>\n",
       "    <tr>\n",
       "      <th>4</th>\n",
       "      <td>47206413</td>\n",
       "      <td>1</td>\n",
       "    </tr>\n",
       "    <tr>\n",
       "      <th>...</th>\n",
       "      <td>...</td>\n",
       "      <td>...</td>\n",
       "    </tr>\n",
       "    <tr>\n",
       "      <th>581</th>\n",
       "      <td>4258103007</td>\n",
       "      <td>1</td>\n",
       "    </tr>\n",
       "    <tr>\n",
       "      <th>582</th>\n",
       "      <td>4266935830</td>\n",
       "      <td>1</td>\n",
       "    </tr>\n",
       "    <tr>\n",
       "      <th>583</th>\n",
       "      <td>4279090005</td>\n",
       "      <td>1</td>\n",
       "    </tr>\n",
       "    <tr>\n",
       "      <th>584</th>\n",
       "      <td>4281247801</td>\n",
       "      <td>1</td>\n",
       "    </tr>\n",
       "    <tr>\n",
       "      <th>585</th>\n",
       "      <td>4283872382</td>\n",
       "      <td>1</td>\n",
       "    </tr>\n",
       "  </tbody>\n",
       "</table>\n",
       "<p>586 rows × 2 columns</p>\n",
       "</div>"
      ],
      "text/plain": [
       "         userId  orders\n",
       "0       5114589       1\n",
       "1       6958315       1\n",
       "2       8300375       1\n",
       "3      39475350       1\n",
       "4      47206413       1\n",
       "..          ...     ...\n",
       "581  4258103007       1\n",
       "582  4266935830       1\n",
       "583  4279090005       1\n",
       "584  4281247801       1\n",
       "585  4283872382       1\n",
       "\n",
       "[586 rows x 2 columns]"
      ]
     },
     "execution_count": 86,
     "metadata": {},
     "output_type": "execute_result"
    }
   ],
   "source": [
    "ordersByUsersB = (\n",
    "    orders[orders['group'] == 'B']\n",
    "    .groupby('visitorId', as_index=False)\n",
    "    .agg({'transactionId': pd.Series.nunique})\n",
    ")\n",
    "ordersByUsersB.columns = ['userId', 'orders'] \n",
    "\n",
    "ordersByUsersB"
   ]
  },
  {
   "cell_type": "markdown",
   "id": "c4c271ec",
   "metadata": {},
   "source": [
    "Объявим переменные **sampleA и sampleB**, в которых пользователям из разных групп **будет соответствовать количество заказов**. Тем, кто ничего не заказал, будут соответствовать нули. Это нужно, чтобы подготовить выборки к проверке критерием Манна-Уитни.\n",
    "\n",
    "Переменная sampleA должна состоять из двух частей:\n",
    "\n",
    "1.\tСписок с количеством заказов для каждого из пользователей: ordersByUsersA['orders'].\n",
    "\n",
    "2.\tНули для пользователей, которые ничего не заказывали. Их количество равно разнице между суммой посетителей и количеством записей о заказах: data['visitorsPerDateA'].sum() - len(ordersByUsersA['orders'])."
   ]
  },
  {
   "cell_type": "code",
   "execution_count": 87,
   "id": "df70a321",
   "metadata": {},
   "outputs": [
    {
     "data": {
      "text/plain": [
       "0        1\n",
       "1        1\n",
       "2        1\n",
       "3        1\n",
       "4        1\n",
       "        ..\n",
       "18228    0\n",
       "18229    0\n",
       "18230    0\n",
       "18231    0\n",
       "18232    0\n",
       "Name: orders, Length: 18736, dtype: int64"
      ]
     },
     "execution_count": 87,
     "metadata": {},
     "output_type": "execute_result"
    }
   ],
   "source": [
    "sampleA = pd.concat([ordersByUsersA['orders'],pd.Series(0, index=np.arange(data['visitorsPerDateA']\n",
    "                                                                           .sum() - len(ordersByUsersA['orders'])), name='orders')],axis=0)\n",
    "\n",
    "sampleA"
   ]
  },
  {
   "cell_type": "code",
   "execution_count": 88,
   "id": "47b92aed",
   "metadata": {},
   "outputs": [
    {
     "data": {
      "text/plain": [
       "0        1\n",
       "1        1\n",
       "2        1\n",
       "3        1\n",
       "4        1\n",
       "        ..\n",
       "18325    0\n",
       "18326    0\n",
       "18327    0\n",
       "18328    0\n",
       "18329    0\n",
       "Name: orders, Length: 18916, dtype: int64"
      ]
     },
     "execution_count": 88,
     "metadata": {},
     "output_type": "execute_result"
    }
   ],
   "source": [
    "sampleB = pd.concat([ordersByUsersB['orders'],pd.Series(0, index=np.arange(data['visitorsPerDateB']\n",
    "                                                                           .sum() - len(ordersByUsersB['orders'])), name='orders')],axis=0) \n",
    "sampleB"
   ]
  },
  {
   "cell_type": "markdown",
   "id": "b22fc1f9",
   "metadata": {},
   "source": [
    "Применим критерий и отформатируем p-value, округлив его до трёх знаков после запятой.\n",
    "\n",
    "Напомним, что в sampleA сохранили выборку, где каждый элемент — число заказов определённого пользователя, в том числе ноль. Значит, число элементов sampleA — это количество пользователей, сумма всех элементов — количество заказов. Чтобы получить конверсию в группе, поделим сумму заказов на число пользователей — найдём среднее в выборке sampleA методом mean(). Аналогично найдём конверсию группы B: SampleB.mean().\n",
    "\n",
    "Выведем относительный прирост конверсии группы B: конверсия группы B / конверсия группы A - 1. Округлим до трёх знаков после запятой.\n"
   ]
  },
  {
   "cell_type": "code",
   "execution_count": 89,
   "id": "0c52845d",
   "metadata": {},
   "outputs": [
    {
     "name": "stdout",
     "output_type": "stream",
     "text": [
      "0.017\n",
      "0.138\n"
     ]
    }
   ],
   "source": [
    "print(\"{0:.3f}\".format(stats.mannwhitneyu(sampleA, sampleB)[1]))\n",
    "\n",
    "print(\"{0:.3f}\".format(sampleB.mean() / sampleA.mean() - 1))\n"
   ]
  },
  {
   "cell_type": "markdown",
   "id": "d2a4ea6d",
   "metadata": {},
   "source": [
    "#### Выводы  по конверсии по \"сырым\" данным.\n",
    "\n",
    "Первое число — p-value = 0.017 меньше 0.05. \n",
    "\n",
    "Нулевая гипотеза: различий в конверсии между группами нет - не подтверждена. \n",
    "\n",
    "**Анализ \"сырых\" данных сообщает, что в конверсии между группами есть статистически значимые различия. Отдельный прирост конверсии группы В к конверсии группы А равен 13.8%.**"
   ]
  },
  {
   "cell_type": "markdown",
   "id": "f70f3266",
   "metadata": {},
   "source": [
    "### Посчитаем статистическую значимость различий в среднем чеке заказа между группами по «сырым» данным. "
   ]
  },
  {
   "cell_type": "markdown",
   "id": "87c4dee6",
   "metadata": {},
   "source": [
    "Нулевая гипотеза: различий в среднем чеке между группами нет. \n",
    "\n",
    "Альтернативная гипотеза: различия в среднем чеке между группами есть.\n",
    "\n",
    "Чтобы рассчитать статистическую значимость различий в среднем чеке, передадим критерию mannwhitneyu() данные о выручке с заказов. А ещё найдём относительные различия в среднем чеке между группами:"
   ]
  },
  {
   "cell_type": "code",
   "execution_count": 90,
   "id": "b9679a61",
   "metadata": {},
   "outputs": [
    {
     "name": "stdout",
     "output_type": "stream",
     "text": [
      "0.729\n",
      "0.259\n"
     ]
    }
   ],
   "source": [
    "print('{0:.3f}'.format(stats.mannwhitneyu(orders[orders['group']=='A']['revenue'], orders[orders['group']=='B']['revenue'])[1]))\n",
    "print('{0:.3f}'.format(orders[orders['group']=='B']['revenue'].mean()/orders[orders['group']=='A']['revenue'].mean()-1)) "
   ]
  },
  {
   "cell_type": "markdown",
   "id": "5341ed98",
   "metadata": {},
   "source": [
    "#### Выводы по среднему чеку по \"сырым\" данным.\n",
    "\n",
    "P-value = 0,729 значительно больше 0.05. \n",
    "\n",
    "Значит, **причин отвергать нулевую гипотезу нет.**\n",
    "\n",
    "Нулевая гипотеза: **различий в среднем чеке между группами нет.**\n",
    "\n",
    "Отдельный прирост в сумме среднего чека группы В к среднему чеку группы А равен 25,9%. Наблюдаемое различие не является статистически значимым."
   ]
  },
  {
   "cell_type": "markdown",
   "id": "6f7828b4",
   "metadata": {},
   "source": [
    "### Посчитаем статистическую значимость различий в конверсии между группами по «очищенным» данным. "
   ]
  },
  {
   "cell_type": "markdown",
   "id": "6a6a3fe9",
   "metadata": {},
   "source": [
    "Примем за аномальных пользователей тех, кто совершил от 2 заказов или совершил заказ дороже 28 000. \n",
    "\n",
    "Так мы уберём 5% пользователей с наибольшим числом заказов и от 1% до 5% пользователей с дорогими заказами. "
   ]
  },
  {
   "cell_type": "markdown",
   "id": "b7dafd32",
   "metadata": {},
   "source": [
    "Сделаем срезы пользователей с числом заказов больше 2 — usersWithManyOrders. "
   ]
  },
  {
   "cell_type": "code",
   "execution_count": 91,
   "id": "3bd38cdc",
   "metadata": {},
   "outputs": [
    {
     "data": {
      "text/plain": [
       "18      199603092\n",
       "23      237748145\n",
       "68      611059232\n",
       "146    1230306981\n",
       "189    1614305549\n",
       "Name: userId, dtype: int64"
      ]
     },
     "execution_count": 91,
     "metadata": {},
     "output_type": "execute_result"
    }
   ],
   "source": [
    "usersWithManyOrders = pd.concat(\n",
    "    [\n",
    "        ordersByUsersA[ordersByUsersA['orders'] > 2]['userId'],\n",
    "        ordersByUsersB[ordersByUsersB['orders'] > 2]['userId'],\n",
    "    ],\n",
    "    axis=0,\n",
    ")\n",
    "usersWithManyOrders.head()"
   ]
  },
  {
   "cell_type": "markdown",
   "id": "bff80f49",
   "metadata": {},
   "source": [
    "Сделаем срезы пользователей, совершивших заказы дороже 28 000 — usersWithExpensiveOrders."
   ]
  },
  {
   "cell_type": "code",
   "execution_count": 92,
   "id": "ea0ff26d",
   "metadata": {},
   "outputs": [
    {
     "data": {
      "text/plain": [
       "60     4256040402\n",
       "73     2947100995\n",
       "77      787824685\n",
       "78     3288820196\n",
       "131    2254586615\n",
       "Name: visitorId, dtype: int64"
      ]
     },
     "execution_count": 92,
     "metadata": {},
     "output_type": "execute_result"
    }
   ],
   "source": [
    "usersWithExpensiveOrders = orders[orders['revenue'] > 28000]['visitorId']\n",
    "usersWithExpensiveOrders.head()"
   ]
  },
  {
   "cell_type": "code",
   "execution_count": 93,
   "id": "e76bf054",
   "metadata": {},
   "outputs": [
    {
     "data": {
      "text/plain": [
       "60     4256040402\n",
       "73     2947100995\n",
       "77      787824685\n",
       "78     3288820196\n",
       "131    2254586615\n",
       "Name: visitorId, dtype: int64"
      ]
     },
     "execution_count": 93,
     "metadata": {},
     "output_type": "execute_result"
    }
   ],
   "source": [
    "revenue_lim = np.percentile(orders['revenue'], 95)\n",
    "usersWithExpensiveOrders = orders[orders['revenue'] > revenue_lim]['visitorId']\n",
    "usersWithExpensiveOrders.head()"
   ]
  },
  {
   "cell_type": "code",
   "execution_count": 94,
   "id": "440b1134",
   "metadata": {},
   "outputs": [
    {
     "data": {
      "text/plain": [
       "60     4256040402\n",
       "73     2947100995\n",
       "77      787824685\n",
       "78     3288820196\n",
       "131    2254586615\n",
       "Name: visitorId, dtype: int64"
      ]
     },
     "execution_count": 94,
     "metadata": {},
     "output_type": "execute_result"
    }
   ],
   "source": [
    "revenue_lim = 28000\n",
    "usersWithExpensiveOrders = orders[orders['revenue'] > revenue_lim]['visitorId']\n",
    "usersWithExpensiveOrders.head()"
   ]
  },
  {
   "cell_type": "markdown",
   "id": "dc82a9e8",
   "metadata": {},
   "source": [
    "Объединим их в таблице abnormalUsers."
   ]
  },
  {
   "cell_type": "code",
   "execution_count": 95,
   "id": "9822be6a",
   "metadata": {},
   "outputs": [
    {
     "name": "stdout",
     "output_type": "stream",
     "text": [
      "1099    148427295\n",
      "18      199603092\n",
      "928     204675465\n",
      "23      237748145\n",
      "37      249864742\n",
      "dtype: int64\n",
      "74\n"
     ]
    }
   ],
   "source": [
    "abnormalUsers = (\n",
    "    pd.concat([usersWithManyOrders, usersWithExpensiveOrders], axis=0)\n",
    "    .drop_duplicates()\n",
    "    .sort_values()\n",
    ")\n",
    "print(abnormalUsers.head(5))\n",
    "print(abnormalUsers.shape[0]) \n"
   ]
  },
  {
   "cell_type": "markdown",
   "id": "7d2b5321",
   "metadata": {},
   "source": [
    "Всего 74 аномальных пользователя.\n",
    "\n",
    "Узнаем, как их действия повлияли на результаты теста. \n",
    "\n",
    "Посчитаем статистическую значимость различий в конверсии между группами теста по очищенным данным. \n",
    "\n",
    "Сначала подготовим выборки количества заказов по пользователям по группам теста."
   ]
  },
  {
   "cell_type": "code",
   "execution_count": 96,
   "id": "2e2a952a",
   "metadata": {},
   "outputs": [],
   "source": [
    "sampleAFiltered = pd.concat(\n",
    "    [\n",
    "        ordersByUsersA[\n",
    "            np.logical_not(ordersByUsersA['userId'].isin(abnormalUsers))\n",
    "        ]['orders'],\n",
    "        pd.Series(\n",
    "            0,\n",
    "            index=np.arange(\n",
    "                data['visitorsPerDateA'].sum() - len(ordersByUsersA['orders'])\n",
    "            ),\n",
    "            name='orders',\n",
    "        ),\n",
    "    ],\n",
    "    axis=0,\n",
    ")\n",
    "\n",
    "sampleBFiltered = pd.concat(\n",
    "    [\n",
    "        ordersByUsersB[\n",
    "            np.logical_not(ordersByUsersB['userId'].isin(abnormalUsers))\n",
    "        ]['orders'],\n",
    "        pd.Series(\n",
    "            0,\n",
    "            index=np.arange(\n",
    "                data['visitorsPerDateB'].sum() - len(ordersByUsersB['orders'])\n",
    "            ),\n",
    "            name='orders',\n",
    "        ),\n",
    "    ],\n",
    "    axis=0,\n",
    ") \n"
   ]
  },
  {
   "cell_type": "code",
   "execution_count": 97,
   "id": "d6e278b8",
   "metadata": {},
   "outputs": [
    {
     "name": "stdout",
     "output_type": "stream",
     "text": [
      "0.013\n",
      "0.173\n"
     ]
    }
   ],
   "source": [
    "# Применим статистический критерий Манна-Уитни к полученным выборкам:\n",
    "print('{0:.3f}'.format(stats.mannwhitneyu(sampleAFiltered, sampleBFiltered)[1]))\n",
    "print('{0:.3f}'.format(sampleBFiltered.mean()/sampleAFiltered.mean()-1)) "
   ]
  },
  {
   "cell_type": "markdown",
   "id": "3997b11d",
   "metadata": {},
   "source": [
    "#### Выводы по конверсии по очищенным данным.\n",
    "\n",
    "P-value = 0,013, что меньше 0.05. \n",
    "\n",
    "Значит, **нулевую гипотезу не подтвердили.**\n",
    "\n",
    "**Анализ очищенных данных сообщает, что в конверсии между группами есть статистически значимые различия. Отдельный прирост конверсии группы В к конверсии группы А равен 17.3%.**"
   ]
  },
  {
   "cell_type": "markdown",
   "id": "5295cf5a",
   "metadata": {},
   "source": [
    "### Посчитаем статистическую значимость различий в среднем чеке заказа между группами по «очищенным» данным. Сделаем выводы и предположения."
   ]
  },
  {
   "cell_type": "code",
   "execution_count": 98,
   "id": "91da6795",
   "metadata": {},
   "outputs": [
    {
     "name": "stdout",
     "output_type": "stream",
     "text": [
      "0.738\n",
      "-0.020\n"
     ]
    }
   ],
   "source": [
    "# Результаты по конверсии практически не изменились. Произошло ли что-нибудь с результатами по среднему чеку?\n",
    "print(\n",
    "    '{0:.3f}'.format(\n",
    "        stats.mannwhitneyu(\n",
    "            orders[\n",
    "                np.logical_and(\n",
    "                    orders['group'] == 'A',\n",
    "                    np.logical_not(orders['visitorId'].isin(abnormalUsers)),\n",
    "                )\n",
    "            ]['revenue'],\n",
    "            orders[\n",
    "                np.logical_and(\n",
    "                    orders['group'] == 'B',\n",
    "                    np.logical_not(orders['visitorId'].isin(abnormalUsers)),\n",
    "                )\n",
    "            ]['revenue'],\n",
    "        )[1]\n",
    "    )\n",
    ")\n",
    "\n",
    "print(\n",
    "    \"{0:.3f}\".format(\n",
    "        orders[\n",
    "            np.logical_and(\n",
    "                orders['group'] == 'B',\n",
    "                np.logical_not(orders['visitorId'].isin(abnormalUsers)),\n",
    "            )\n",
    "        ]['revenue'].mean()\n",
    "        / orders[\n",
    "            np.logical_and(\n",
    "                orders['group'] == 'A',\n",
    "                np.logical_not(orders['visitorId'].isin(abnormalUsers)),\n",
    "            )\n",
    "        ]['revenue'].mean()\n",
    "        - 1\n",
    "    )\n",
    ")"
   ]
  },
  {
   "cell_type": "markdown",
   "id": "cf677b93",
   "metadata": {},
   "source": [
    "#### Выводы по среднему чеку по очищенным данным.\n",
    "\n",
    "P-value = 0,738 - значительно больше 0.05. \n",
    "\n",
    "Значит, **причин отвергать нулевую гипотезу нет.**\n",
    "\n",
    "Нулевая гипотеза: **различий в среднем чеке между группами нет.**\n",
    "\n",
    "\n",
    "**Анализ очищенных данных сообщает, что в среднем чеке между группами статистически значимые различия отсутствуют.**\n",
    "Отдельное снижение в сумме среднего чека группы В к среднему чеку группы А равен 2% - не обладает статистической значимостью."
   ]
  },
  {
   "cell_type": "markdown",
   "id": "f4d759da",
   "metadata": {},
   "source": [
    "### Выводы по результатам теста.\n",
    "\n",
    "**Анализ \"сырых\" и очищенных данных сообщает, что в конверсии между группами есть статистически значимые различия. Результат группы B лучше группы A - зафиксировался около среднего значения (в 13%), после удаления аномалий - 17.3%.**\n",
    "\n",
    "**Анализ \"сырых\" и очищенных данных сообщает, что в среднем чеке между группами статистически значимые различия отсутствуют.** \n",
    "\n",
    "После очистки данных от аномалий - конверсия статистически значима. А разницы в чеках так же нет. Что может объясняться совершением более мелких заказов.\n",
    "\n",
    "\n",
    "**Решение на основании выводов А/В теста**\n",
    "\n",
    "Установлено наличие статистически значимого различия в уровне конверсии между группами, при отсутствии статистически значимого различия по среднему чеку. Отдельный прирост конверсии группы В к конверсии группы А равен 17.3%. Тест рекомендуется остановить, так как значения метрик стабилизировались, признать преимущество группы В, т.к. конверсия больше, при одинаковом среднем чеке, соответственно данная группа приносит больше денежных средств бизнесу."
   ]
  },
  {
   "cell_type": "markdown",
   "id": "46b0e31c",
   "metadata": {},
   "source": [
    "## Общие выводы."
   ]
  },
  {
   "cell_type": "markdown",
   "id": "20bceaa6",
   "metadata": {},
   "source": [
    "### Обзор проведённой подготовительной работы.\n",
    "1. Созданы копии датафреймов: hypothesis, visitors,orders\n",
    "2. В hypothesis содержится 9 строк и 5 колонок, произведена замена регистра в заголовках.\n",
    "3. В orders содержится 1197 строк и 5 колонок, произведена замена типа данных столбца date.\n",
    "4. В visitors содержится 62 строки и 3 колонки, произведена замена типа данных столбца date.\n",
    "5. Пропуски, дубликаты не обнаружены."
   ]
  },
  {
   "cell_type": "markdown",
   "id": "877e10d3",
   "metadata": {},
   "source": [
    "### Первичные наблюдения.\n",
    "\n",
    "**Анализом датафрейма, содержащего данные о заказах установлено следующее:**\n",
    "1. пользователи входят в состав двух групп: А неуникальных записей  557, В - 640.\n",
    "2. В группе А - 503 уникальных visitorId, в группе В - 586.\n",
    "3. Максимальный показатель выручки для группы А - 93 940, средний -  7 333, общий объём - 4 084 803.\n",
    "4. Максимальный показатель выручки для группы В - 1 294 500, средний -  9231, общий объём - 5 907 760.\n",
    "5. Данные представлены за август 2019г.\n",
    "6. Для группы А пиковые значения выручки приходились на 10, 12, 13, 27, 29 числа. Диаграмма размаха имеет значительный хвост, в среднем выручка группы находится в [1000:9000]\n",
    "7. Для группы В пиковые значения выручки приходились на 19 число. Диаграмма размаха имеет значительный хвост, в среднем выручка группы находится в [1000:9000]\n",
    "\n",
    "**При анализе датафрейма с информацией о посещениях получены следующие данные:**\n",
    "1. Данные представлены за август 2019г.\n",
    "2. Для группы А максимальное количество посещений - 756, среднее - 604. Положительные пики 5,11,13,18,21,26,30.\n",
    "3. Для группы B максимальное количество посещений - 770, среднее - 610. Положительные пики 5,8,11,13,18,20,25,27,30.\n"
   ]
  },
  {
   "cell_type": "markdown",
   "id": "439aee44",
   "metadata": {},
   "source": [
    "### Часть 1. Приоритизация гипотез.\n",
    "\n",
    "**Предлагается провести исследование в отношении гипотез 7 -\"Добавить форму подписки на все основные страницы, чтобы собрать базу клиентов для email-рассылок\" и 0 - \"Добавить два новых канала привлечения трафика, что позволит привлекать на 30% больше пользователей\", являющихся явными лидерами.**"
   ]
  },
  {
   "cell_type": "markdown",
   "id": "84d2bb6d",
   "metadata": {},
   "source": [
    "### Часть 2. Анализ A/B-теста.\n",
    "\n",
    "1. Динамика группы В намного ярче, прирост быстрый, имеется скачок - 19.08., который может говорить о совершении заказа значительной стоимости. Динамика графика группы А носит поступательный характер.\n",
    "\n",
    "2. График среднего чека для группы А имеет ярко выраженный провал 06.08. и всплеск 13.08. после чего происходит корректировка и стабилизация.\n",
    "\n",
    "3. На графике относительного изменения кумулятивного среднего чека группы В к группе А видно 3 относительно невысоких пика и значительный всплеск около 20-х чисел. С 11.08-16.08 наблюдается отрицательная область.\n",
    "\n",
    "4. Графики кумулятивной конверсии по группам колебались около одного значения. 03.08. группа А имела преимущество, но после 06.08. конверсия группы В заняла главенствующую позицию и зафиксировалась, график кумулятивной конверсии группы А просел и также зафиксировался.\n",
    "\n",
    "5. Группа В демонстрирует стабильную положительную динамику, имея отрицательные значения только в начале периода.\n",
    "\n",
    "6. Подавляющая масса пользователей совершала 1-2 заказа.\n",
    "\n",
    "7. Граница для определения аномальных пользователей. Не более 5% покупателей осуществляли больше 2 заказов и не более 1% совершали более 4-х заказов.\n",
    "\n",
    "8. Большая часть заказов не превышала 20 000.\n",
    "\n",
    "9. Граница для определения аномальных заказов. Не более 5% заказов дороже 28 000 и не более 1% дороже 58 233.\n",
    "\n",
    "10. Выводы по результатам теста.\n",
    "\n",
    "**Анализ \"сырых\" и очищенных данных сообщает, что в конверсии между группами есть статистически значимые различия. Результат группы B лучше группы A - зафиксировался около среднего значения (в 13%), после удаления аномалий - 17.3%.**\n",
    "\n",
    "**Анализ \"сырых\" и очищенных данных сообщает, что в среднем чеке между группами статистически значимые различия отсутствуют.** \n",
    "\n",
    "После очистки данных от аномалий - конверсия статистически значима. А разницы в чеках так же нет. Что может объясняться совершением более мелких заказов."
   ]
  },
  {
   "cell_type": "markdown",
   "id": "cb0dec6d",
   "metadata": {},
   "source": [
    "### Решение на основании выводов А/В теста. \n",
    "\n",
    "Установлено наличие статистически значимого различия в уровне конверсии между группами, при отсутствии статистически значимого различия по среднему чеку. Отдельный прирост конверсии группы В к конверсии группы А равен 17.3%. \n",
    "\n",
    "Тест рекомендуется остановить, значения метрик стабилизировались.\n",
    "Рекомендуется признать **преимущество группы В**, т.к. конверсия больше, при одинаковом среднем чеке, соответственно данная группа приносит больше денежных средств бизнесу."
   ]
  }
 ],
 "metadata": {
  "ExecuteTimeLog": [
   {
    "duration": 1886,
    "start_time": "2022-05-04T10:36:55.857Z"
   },
   {
    "duration": 18,
    "start_time": "2022-05-04T10:36:57.747Z"
   },
   {
    "duration": 9,
    "start_time": "2022-05-04T10:36:57.767Z"
   },
   {
    "duration": 42,
    "start_time": "2022-05-04T10:36:57.779Z"
   },
   {
    "duration": 27,
    "start_time": "2022-05-04T10:36:57.839Z"
   },
   {
    "duration": 27,
    "start_time": "2022-05-04T10:36:57.871Z"
   },
   {
    "duration": 6,
    "start_time": "2022-05-04T10:36:57.901Z"
   },
   {
    "duration": 17,
    "start_time": "2022-05-04T10:36:57.914Z"
   },
   {
    "duration": 8,
    "start_time": "2022-05-04T10:36:57.933Z"
   },
   {
    "duration": 10,
    "start_time": "2022-05-04T10:36:57.945Z"
   },
   {
    "duration": 5,
    "start_time": "2022-05-04T10:36:57.957Z"
   },
   {
    "duration": 54,
    "start_time": "2022-05-04T10:36:57.964Z"
   },
   {
    "duration": 29,
    "start_time": "2022-05-04T10:36:58.021Z"
   },
   {
    "duration": 23,
    "start_time": "2022-05-04T10:36:58.052Z"
   },
   {
    "duration": 12,
    "start_time": "2022-05-04T10:36:58.078Z"
   },
   {
    "duration": 7,
    "start_time": "2022-05-04T10:36:58.110Z"
   },
   {
    "duration": 7,
    "start_time": "2022-05-04T10:36:58.121Z"
   },
   {
    "duration": 8,
    "start_time": "2022-05-04T10:36:58.132Z"
   },
   {
    "duration": 17,
    "start_time": "2022-05-04T10:36:58.144Z"
   },
   {
    "duration": 50,
    "start_time": "2022-05-04T10:36:58.165Z"
   },
   {
    "duration": 274,
    "start_time": "2022-05-04T10:36:58.218Z"
   },
   {
    "duration": 14,
    "start_time": "2022-05-04T10:36:58.494Z"
   },
   {
    "duration": 24,
    "start_time": "2022-05-04T10:36:58.510Z"
   },
   {
    "duration": 234,
    "start_time": "2022-05-04T10:36:58.536Z"
   },
   {
    "duration": 234,
    "start_time": "2022-05-04T10:36:58.773Z"
   },
   {
    "duration": 5,
    "start_time": "2022-05-04T10:36:59.010Z"
   },
   {
    "duration": 17,
    "start_time": "2022-05-04T10:36:59.019Z"
   },
   {
    "duration": 24,
    "start_time": "2022-05-04T10:36:59.043Z"
   },
   {
    "duration": 5,
    "start_time": "2022-05-04T10:36:59.070Z"
   },
   {
    "duration": 13,
    "start_time": "2022-05-04T10:36:59.108Z"
   },
   {
    "duration": 11,
    "start_time": "2022-05-04T10:36:59.123Z"
   },
   {
    "duration": 326,
    "start_time": "2022-05-04T10:36:59.136Z"
   },
   {
    "duration": 194,
    "start_time": "2022-05-04T10:36:59.464Z"
   },
   {
    "duration": 23,
    "start_time": "2022-05-04T10:36:59.660Z"
   },
   {
    "duration": 6,
    "start_time": "2022-05-04T10:36:59.685Z"
   },
   {
    "duration": 15,
    "start_time": "2022-05-04T10:36:59.708Z"
   },
   {
    "duration": 11,
    "start_time": "2022-05-04T10:36:59.725Z"
   },
   {
    "duration": 371,
    "start_time": "2022-05-04T10:36:59.739Z"
   },
   {
    "duration": 209,
    "start_time": "2022-05-04T10:37:00.112Z"
   },
   {
    "duration": 34,
    "start_time": "2022-05-04T10:37:00.324Z"
   },
   {
    "duration": 17,
    "start_time": "2022-05-04T10:37:00.362Z"
   },
   {
    "duration": 40,
    "start_time": "2022-05-04T10:37:00.382Z"
   },
   {
    "duration": 50,
    "start_time": "2022-05-04T10:37:00.424Z"
   },
   {
    "duration": 12,
    "start_time": "2022-05-04T10:37:00.481Z"
   },
   {
    "duration": 18,
    "start_time": "2022-05-04T10:37:00.496Z"
   },
   {
    "duration": 27,
    "start_time": "2022-05-04T10:37:00.516Z"
   },
   {
    "duration": 450,
    "start_time": "2022-05-04T10:37:00.545Z"
   },
   {
    "duration": 15,
    "start_time": "2022-05-04T10:37:00.998Z"
   },
   {
    "duration": 36,
    "start_time": "2022-05-04T10:37:01.015Z"
   },
   {
    "duration": 28,
    "start_time": "2022-05-04T10:37:01.053Z"
   },
   {
    "duration": 342,
    "start_time": "2022-05-04T10:37:01.084Z"
   },
   {
    "duration": 14,
    "start_time": "2022-05-04T10:37:01.428Z"
   },
   {
    "duration": 15,
    "start_time": "2022-05-04T10:37:01.444Z"
   },
   {
    "duration": 16,
    "start_time": "2022-05-04T10:37:01.461Z"
   },
   {
    "duration": 37,
    "start_time": "2022-05-04T10:37:01.480Z"
   },
   {
    "duration": 16,
    "start_time": "2022-05-04T10:37:01.520Z"
   },
   {
    "duration": 296,
    "start_time": "2022-05-04T10:37:01.539Z"
   },
   {
    "duration": 9,
    "start_time": "2022-05-04T10:37:01.838Z"
   },
   {
    "duration": 18,
    "start_time": "2022-05-04T10:37:01.850Z"
   },
   {
    "duration": 294,
    "start_time": "2022-05-04T10:37:01.872Z"
   },
   {
    "duration": 201,
    "start_time": "2022-05-04T10:37:02.168Z"
   },
   {
    "duration": 14,
    "start_time": "2022-05-04T10:37:02.371Z"
   },
   {
    "duration": 26,
    "start_time": "2022-05-04T10:37:02.387Z"
   },
   {
    "duration": 12,
    "start_time": "2022-05-04T10:37:02.416Z"
   },
   {
    "duration": 451,
    "start_time": "2022-05-04T10:37:02.431Z"
   },
   {
    "duration": 297,
    "start_time": "2022-05-04T10:37:02.884Z"
   },
   {
    "duration": 310,
    "start_time": "2022-05-04T10:37:03.184Z"
   },
   {
    "duration": 316,
    "start_time": "2022-05-04T10:37:03.497Z"
   },
   {
    "duration": 24,
    "start_time": "2022-05-04T10:37:03.815Z"
   },
   {
    "duration": 486,
    "start_time": "2022-05-04T10:37:03.845Z"
   },
   {
    "duration": 14,
    "start_time": "2022-05-04T10:37:04.334Z"
   },
   {
    "duration": 14,
    "start_time": "2022-05-04T10:37:04.350Z"
   },
   {
    "duration": 14,
    "start_time": "2022-05-04T10:37:04.366Z"
   },
   {
    "duration": 523,
    "start_time": "2022-05-04T10:37:04.408Z"
   },
   {
    "duration": 0,
    "start_time": "2022-05-04T10:37:04.934Z"
   },
   {
    "duration": 0,
    "start_time": "2022-05-04T10:37:04.935Z"
   },
   {
    "duration": 0,
    "start_time": "2022-05-04T10:37:04.937Z"
   },
   {
    "duration": 0,
    "start_time": "2022-05-04T10:37:04.938Z"
   },
   {
    "duration": 0,
    "start_time": "2022-05-04T10:37:04.939Z"
   },
   {
    "duration": 0,
    "start_time": "2022-05-04T10:37:04.941Z"
   },
   {
    "duration": 0,
    "start_time": "2022-05-04T10:37:04.942Z"
   },
   {
    "duration": 0,
    "start_time": "2022-05-04T10:37:04.943Z"
   },
   {
    "duration": 0,
    "start_time": "2022-05-04T10:37:04.944Z"
   },
   {
    "duration": 0,
    "start_time": "2022-05-04T10:37:04.946Z"
   },
   {
    "duration": 0,
    "start_time": "2022-05-04T10:37:04.948Z"
   },
   {
    "duration": 0,
    "start_time": "2022-05-04T10:37:04.950Z"
   },
   {
    "duration": 0,
    "start_time": "2022-05-04T10:37:04.951Z"
   },
   {
    "duration": 0,
    "start_time": "2022-05-04T10:37:04.952Z"
   },
   {
    "duration": 0,
    "start_time": "2022-05-04T10:37:04.953Z"
   },
   {
    "duration": 0,
    "start_time": "2022-05-04T10:37:04.955Z"
   },
   {
    "duration": 0,
    "start_time": "2022-05-04T10:37:04.956Z"
   },
   {
    "duration": 0,
    "start_time": "2022-05-04T10:37:04.961Z"
   },
   {
    "duration": 0,
    "start_time": "2022-05-04T10:37:04.965Z"
   },
   {
    "duration": 0,
    "start_time": "2022-05-04T10:37:04.966Z"
   },
   {
    "duration": 67,
    "start_time": "2022-05-04T10:37:40.803Z"
   },
   {
    "duration": 66,
    "start_time": "2022-05-04T10:43:22.423Z"
   },
   {
    "duration": 435,
    "start_time": "2022-05-04T10:45:28.174Z"
   },
   {
    "duration": 12,
    "start_time": "2022-05-04T10:45:33.030Z"
   },
   {
    "duration": 321,
    "start_time": "2022-05-04T10:45:34.919Z"
   },
   {
    "duration": 216,
    "start_time": "2022-05-04T10:45:35.522Z"
   },
   {
    "duration": 5,
    "start_time": "2022-05-04T10:45:36.046Z"
   },
   {
    "duration": 213,
    "start_time": "2022-05-04T10:45:36.882Z"
   },
   {
    "duration": 8,
    "start_time": "2022-05-04T10:45:37.746Z"
   },
   {
    "duration": 359,
    "start_time": "2022-05-04T10:45:39.758Z"
   },
   {
    "duration": 95,
    "start_time": "2022-05-04T10:45:40.441Z"
   },
   {
    "duration": 135,
    "start_time": "2022-05-04T10:45:40.795Z"
   },
   {
    "duration": 11,
    "start_time": "2022-05-04T10:45:41.533Z"
   },
   {
    "duration": 9,
    "start_time": "2022-05-04T10:45:41.942Z"
   },
   {
    "duration": 41,
    "start_time": "2022-05-04T10:45:43.043Z"
   },
   {
    "duration": 17,
    "start_time": "2022-05-04T10:45:45.384Z"
   },
   {
    "duration": 10,
    "start_time": "2022-05-04T10:45:46.787Z"
   },
   {
    "duration": 7,
    "start_time": "2022-05-04T10:45:47.619Z"
   },
   {
    "duration": 8,
    "start_time": "2022-05-04T10:45:48.340Z"
   },
   {
    "duration": 11,
    "start_time": "2022-05-04T10:45:49.381Z"
   },
   {
    "duration": 41,
    "start_time": "2022-05-04T10:45:49.901Z"
   },
   {
    "duration": 23,
    "start_time": "2022-05-04T10:45:51.256Z"
   },
   {
    "duration": 50,
    "start_time": "2022-05-04T12:15:18.909Z"
   },
   {
    "duration": 1420,
    "start_time": "2022-05-04T12:15:33.942Z"
   },
   {
    "duration": 8,
    "start_time": "2022-05-04T12:15:35.364Z"
   },
   {
    "duration": 3,
    "start_time": "2022-05-04T12:15:35.374Z"
   },
   {
    "duration": 42,
    "start_time": "2022-05-04T12:15:36.428Z"
   },
   {
    "duration": 22,
    "start_time": "2022-05-04T12:15:36.976Z"
   },
   {
    "duration": 20,
    "start_time": "2022-05-04T12:15:37.994Z"
   },
   {
    "duration": 3,
    "start_time": "2022-05-04T12:15:39.013Z"
   },
   {
    "duration": 12,
    "start_time": "2022-05-04T12:15:39.846Z"
   },
   {
    "duration": 6,
    "start_time": "2022-05-04T12:15:42.124Z"
   },
   {
    "duration": 5,
    "start_time": "2022-05-04T12:15:42.380Z"
   },
   {
    "duration": 2,
    "start_time": "2022-05-04T12:15:58.490Z"
   },
   {
    "duration": 8,
    "start_time": "2022-05-04T12:16:12.749Z"
   },
   {
    "duration": 8,
    "start_time": "2022-05-04T12:16:23.537Z"
   },
   {
    "duration": 6,
    "start_time": "2022-05-04T12:16:24.095Z"
   },
   {
    "duration": 5,
    "start_time": "2022-05-04T12:16:24.743Z"
   },
   {
    "duration": 4,
    "start_time": "2022-05-04T12:16:25.394Z"
   },
   {
    "duration": 11,
    "start_time": "2022-05-04T12:16:25.829Z"
   },
   {
    "duration": 11,
    "start_time": "2022-05-04T12:16:26.432Z"
   },
   {
    "duration": 12,
    "start_time": "2022-05-04T12:16:27.061Z"
   },
   {
    "duration": 6,
    "start_time": "2022-05-04T12:16:27.716Z"
   },
   {
    "duration": 7,
    "start_time": "2022-05-04T12:16:28.355Z"
   },
   {
    "duration": 5,
    "start_time": "2022-05-04T12:16:29.053Z"
   },
   {
    "duration": 6,
    "start_time": "2022-05-04T12:16:29.699Z"
   },
   {
    "duration": 13,
    "start_time": "2022-05-04T12:16:30.285Z"
   },
   {
    "duration": 8,
    "start_time": "2022-05-04T12:16:31.492Z"
   },
   {
    "duration": 155,
    "start_time": "2022-05-04T12:16:32.772Z"
   },
   {
    "duration": 4,
    "start_time": "2022-05-04T12:16:34.068Z"
   },
   {
    "duration": 11,
    "start_time": "2022-05-04T12:16:35.955Z"
   },
   {
    "duration": 128,
    "start_time": "2022-05-04T12:16:36.621Z"
   },
   {
    "duration": 134,
    "start_time": "2022-05-04T12:16:37.878Z"
   },
   {
    "duration": 4,
    "start_time": "2022-05-04T12:16:39.135Z"
   },
   {
    "duration": 10,
    "start_time": "2022-05-04T12:16:40.398Z"
   },
   {
    "duration": 16,
    "start_time": "2022-05-04T12:16:41.078Z"
   },
   {
    "duration": 4,
    "start_time": "2022-05-04T12:16:41.722Z"
   },
   {
    "duration": 8,
    "start_time": "2022-05-04T12:16:42.421Z"
   },
   {
    "duration": 7,
    "start_time": "2022-05-04T12:16:43.045Z"
   },
   {
    "duration": 199,
    "start_time": "2022-05-04T12:16:43.679Z"
   },
   {
    "duration": 111,
    "start_time": "2022-05-04T12:16:44.906Z"
   },
   {
    "duration": 15,
    "start_time": "2022-05-04T12:16:45.988Z"
   },
   {
    "duration": 4,
    "start_time": "2022-05-04T12:16:46.445Z"
   },
   {
    "duration": 8,
    "start_time": "2022-05-04T12:16:46.843Z"
   },
   {
    "duration": 7,
    "start_time": "2022-05-04T12:16:47.187Z"
   },
   {
    "duration": 205,
    "start_time": "2022-05-04T12:16:47.792Z"
   },
   {
    "duration": 118,
    "start_time": "2022-05-04T12:16:48.464Z"
   },
   {
    "duration": 10,
    "start_time": "2022-05-04T12:16:49.563Z"
   },
   {
    "duration": 11,
    "start_time": "2022-05-04T12:16:49.925Z"
   },
   {
    "duration": 6,
    "start_time": "2022-05-04T12:16:50.321Z"
   },
   {
    "duration": 6,
    "start_time": "2022-05-04T12:16:50.726Z"
   },
   {
    "duration": 3,
    "start_time": "2022-05-04T12:16:51.089Z"
   },
   {
    "duration": 11,
    "start_time": "2022-05-04T12:16:51.412Z"
   },
   {
    "duration": 11,
    "start_time": "2022-05-04T12:16:51.754Z"
   },
   {
    "duration": 294,
    "start_time": "2022-05-04T12:16:52.063Z"
   },
   {
    "duration": 8,
    "start_time": "2022-05-04T12:16:52.362Z"
   },
   {
    "duration": 12,
    "start_time": "2022-05-04T12:16:54.318Z"
   },
   {
    "duration": 16,
    "start_time": "2022-05-04T12:16:54.332Z"
   },
   {
    "duration": 242,
    "start_time": "2022-05-04T12:16:54.350Z"
   },
   {
    "duration": 3,
    "start_time": "2022-05-04T12:16:58.719Z"
   },
   {
    "duration": 7,
    "start_time": "2022-05-04T12:17:05.033Z"
   },
   {
    "duration": 7,
    "start_time": "2022-05-04T12:17:12.772Z"
   },
   {
    "duration": 8,
    "start_time": "2022-05-04T12:17:13.554Z"
   },
   {
    "duration": 9,
    "start_time": "2022-05-04T12:17:21.266Z"
   },
   {
    "duration": 10,
    "start_time": "2022-05-04T12:17:25.285Z"
   },
   {
    "duration": 10,
    "start_time": "2022-05-04T12:17:27.072Z"
   },
   {
    "duration": 8,
    "start_time": "2022-05-04T12:27:28.932Z"
   },
   {
    "duration": 10,
    "start_time": "2022-05-04T12:27:30.465Z"
   },
   {
    "duration": 181,
    "start_time": "2022-05-04T12:27:33.385Z"
   },
   {
    "duration": 7,
    "start_time": "2022-05-04T12:27:34.211Z"
   },
   {
    "duration": 1461,
    "start_time": "2022-05-04T12:34:59.435Z"
   },
   {
    "duration": 8,
    "start_time": "2022-05-04T12:35:00.898Z"
   },
   {
    "duration": 3,
    "start_time": "2022-05-04T12:35:00.908Z"
   },
   {
    "duration": 63,
    "start_time": "2022-05-04T12:35:00.913Z"
   },
   {
    "duration": 21,
    "start_time": "2022-05-04T12:35:00.978Z"
   },
   {
    "duration": 22,
    "start_time": "2022-05-04T12:35:01.001Z"
   },
   {
    "duration": 3,
    "start_time": "2022-05-04T12:35:01.025Z"
   },
   {
    "duration": 17,
    "start_time": "2022-05-04T12:35:01.030Z"
   },
   {
    "duration": 12,
    "start_time": "2022-05-04T12:35:01.049Z"
   },
   {
    "duration": 14,
    "start_time": "2022-05-04T12:35:01.064Z"
   },
   {
    "duration": 11,
    "start_time": "2022-05-04T12:35:01.080Z"
   },
   {
    "duration": 48,
    "start_time": "2022-05-04T12:35:01.093Z"
   },
   {
    "duration": 22,
    "start_time": "2022-05-04T12:35:01.143Z"
   },
   {
    "duration": 28,
    "start_time": "2022-05-04T12:35:01.166Z"
   },
   {
    "duration": 32,
    "start_time": "2022-05-04T12:35:01.196Z"
   },
   {
    "duration": 32,
    "start_time": "2022-05-04T12:35:01.229Z"
   },
   {
    "duration": 26,
    "start_time": "2022-05-04T12:35:01.263Z"
   },
   {
    "duration": 15,
    "start_time": "2022-05-04T12:35:01.290Z"
   },
   {
    "duration": 33,
    "start_time": "2022-05-04T12:35:01.307Z"
   },
   {
    "duration": 16,
    "start_time": "2022-05-04T12:35:01.342Z"
   },
   {
    "duration": 176,
    "start_time": "2022-05-04T12:35:01.359Z"
   },
   {
    "duration": 4,
    "start_time": "2022-05-04T12:35:01.537Z"
   },
   {
    "duration": 26,
    "start_time": "2022-05-04T12:35:01.543Z"
   },
   {
    "duration": 156,
    "start_time": "2022-05-04T12:35:01.571Z"
   },
   {
    "duration": 147,
    "start_time": "2022-05-04T12:35:01.733Z"
   },
   {
    "duration": 4,
    "start_time": "2022-05-04T12:35:01.882Z"
   },
   {
    "duration": 23,
    "start_time": "2022-05-04T12:35:01.887Z"
   },
   {
    "duration": 26,
    "start_time": "2022-05-04T12:35:01.915Z"
   },
   {
    "duration": 14,
    "start_time": "2022-05-04T12:35:01.943Z"
   },
   {
    "duration": 13,
    "start_time": "2022-05-04T12:35:01.959Z"
   },
   {
    "duration": 112,
    "start_time": "2022-05-04T12:35:01.974Z"
   },
   {
    "duration": 235,
    "start_time": "2022-05-04T12:35:02.089Z"
   },
   {
    "duration": 126,
    "start_time": "2022-05-04T12:35:02.326Z"
   },
   {
    "duration": 16,
    "start_time": "2022-05-04T12:35:02.454Z"
   },
   {
    "duration": 15,
    "start_time": "2022-05-04T12:35:02.471Z"
   },
   {
    "duration": 21,
    "start_time": "2022-05-04T12:35:02.487Z"
   },
   {
    "duration": 17,
    "start_time": "2022-05-04T12:35:02.510Z"
   },
   {
    "duration": 239,
    "start_time": "2022-05-04T12:35:02.534Z"
   },
   {
    "duration": 124,
    "start_time": "2022-05-04T12:35:02.776Z"
   },
   {
    "duration": 11,
    "start_time": "2022-05-04T12:35:02.903Z"
   },
   {
    "duration": 24,
    "start_time": "2022-05-04T12:35:02.916Z"
   },
   {
    "duration": 12,
    "start_time": "2022-05-04T12:35:02.942Z"
   },
   {
    "duration": 10,
    "start_time": "2022-05-04T12:35:02.956Z"
   },
   {
    "duration": 9,
    "start_time": "2022-05-04T12:35:02.967Z"
   },
   {
    "duration": 16,
    "start_time": "2022-05-04T12:35:02.978Z"
   },
   {
    "duration": 39,
    "start_time": "2022-05-04T12:35:02.996Z"
   },
   {
    "duration": 297,
    "start_time": "2022-05-04T12:35:03.036Z"
   },
   {
    "duration": 8,
    "start_time": "2022-05-04T12:35:03.335Z"
   },
   {
    "duration": 17,
    "start_time": "2022-05-04T12:35:03.344Z"
   },
   {
    "duration": 15,
    "start_time": "2022-05-04T12:35:03.362Z"
   },
   {
    "duration": 243,
    "start_time": "2022-05-04T12:35:03.379Z"
   },
   {
    "duration": 13,
    "start_time": "2022-05-04T12:35:03.624Z"
   },
   {
    "duration": 12,
    "start_time": "2022-05-04T12:35:03.639Z"
   },
   {
    "duration": 15,
    "start_time": "2022-05-04T12:35:03.652Z"
   },
   {
    "duration": 11,
    "start_time": "2022-05-04T12:35:03.668Z"
   },
   {
    "duration": 16,
    "start_time": "2022-05-04T12:35:03.681Z"
   },
   {
    "duration": 204,
    "start_time": "2022-05-04T12:35:03.699Z"
   },
   {
    "duration": 6,
    "start_time": "2022-05-04T12:35:03.905Z"
   },
   {
    "duration": 23,
    "start_time": "2022-05-04T12:35:03.913Z"
   },
   {
    "duration": 175,
    "start_time": "2022-05-04T12:35:03.938Z"
   },
   {
    "duration": 152,
    "start_time": "2022-05-04T12:35:04.115Z"
   },
   {
    "duration": 10,
    "start_time": "2022-05-04T12:35:04.269Z"
   },
   {
    "duration": 9,
    "start_time": "2022-05-04T12:35:04.280Z"
   },
   {
    "duration": 8,
    "start_time": "2022-05-04T12:35:04.290Z"
   },
   {
    "duration": 292,
    "start_time": "2022-05-04T12:35:04.300Z"
   },
   {
    "duration": 193,
    "start_time": "2022-05-04T12:35:04.593Z"
   },
   {
    "duration": 198,
    "start_time": "2022-05-04T12:35:04.788Z"
   },
   {
    "duration": 204,
    "start_time": "2022-05-04T12:35:04.988Z"
   },
   {
    "duration": 12,
    "start_time": "2022-05-04T12:35:05.193Z"
   },
   {
    "duration": 338,
    "start_time": "2022-05-04T12:35:05.206Z"
   },
   {
    "duration": 11,
    "start_time": "2022-05-04T12:35:05.545Z"
   },
   {
    "duration": 15,
    "start_time": "2022-05-04T12:35:05.558Z"
   },
   {
    "duration": 16,
    "start_time": "2022-05-04T12:35:05.574Z"
   },
   {
    "duration": 327,
    "start_time": "2022-05-04T12:35:05.592Z"
   },
   {
    "duration": 0,
    "start_time": "2022-05-04T12:35:05.921Z"
   },
   {
    "duration": 0,
    "start_time": "2022-05-04T12:35:05.922Z"
   },
   {
    "duration": 0,
    "start_time": "2022-05-04T12:35:05.923Z"
   },
   {
    "duration": 0,
    "start_time": "2022-05-04T12:35:05.934Z"
   },
   {
    "duration": 0,
    "start_time": "2022-05-04T12:35:05.935Z"
   },
   {
    "duration": 0,
    "start_time": "2022-05-04T12:35:05.936Z"
   },
   {
    "duration": 0,
    "start_time": "2022-05-04T12:35:05.937Z"
   },
   {
    "duration": 0,
    "start_time": "2022-05-04T12:35:05.938Z"
   },
   {
    "duration": 0,
    "start_time": "2022-05-04T12:35:05.939Z"
   },
   {
    "duration": 0,
    "start_time": "2022-05-04T12:35:05.940Z"
   },
   {
    "duration": 0,
    "start_time": "2022-05-04T12:35:05.941Z"
   },
   {
    "duration": 0,
    "start_time": "2022-05-04T12:35:05.942Z"
   },
   {
    "duration": 0,
    "start_time": "2022-05-04T12:35:05.942Z"
   },
   {
    "duration": 0,
    "start_time": "2022-05-04T12:35:05.943Z"
   },
   {
    "duration": 0,
    "start_time": "2022-05-04T12:35:05.945Z"
   },
   {
    "duration": 0,
    "start_time": "2022-05-04T12:35:05.946Z"
   },
   {
    "duration": 0,
    "start_time": "2022-05-04T12:35:05.948Z"
   },
   {
    "duration": 0,
    "start_time": "2022-05-04T12:35:05.950Z"
   },
   {
    "duration": 0,
    "start_time": "2022-05-04T12:35:05.951Z"
   },
   {
    "duration": 0,
    "start_time": "2022-05-04T12:35:05.952Z"
   },
   {
    "duration": 16,
    "start_time": "2022-05-04T12:36:10.942Z"
   },
   {
    "duration": 943,
    "start_time": "2022-05-04T12:37:01.807Z"
   },
   {
    "duration": 13,
    "start_time": "2022-05-04T12:37:16.918Z"
   },
   {
    "duration": 8,
    "start_time": "2022-05-04T12:39:28.325Z"
   },
   {
    "duration": 15,
    "start_time": "2022-05-04T12:39:37.163Z"
   },
   {
    "duration": 12,
    "start_time": "2022-05-04T12:39:40.949Z"
   },
   {
    "duration": 11,
    "start_time": "2022-05-04T12:39:47.837Z"
   },
   {
    "duration": 6,
    "start_time": "2022-05-04T12:40:58.797Z"
   },
   {
    "duration": 10,
    "start_time": "2022-05-04T12:41:14.837Z"
   },
   {
    "duration": 15,
    "start_time": "2022-05-04T12:49:03.400Z"
   },
   {
    "duration": 11,
    "start_time": "2022-05-04T12:51:57.905Z"
   },
   {
    "duration": 11,
    "start_time": "2022-05-04T12:52:01.990Z"
   },
   {
    "duration": 9,
    "start_time": "2022-05-04T12:52:35.600Z"
   },
   {
    "duration": 15,
    "start_time": "2022-05-04T12:52:44.773Z"
   },
   {
    "duration": 11,
    "start_time": "2022-05-04T12:53:06.139Z"
   },
   {
    "duration": 15,
    "start_time": "2022-05-04T12:54:38.944Z"
   },
   {
    "duration": 2,
    "start_time": "2022-05-04T12:57:46.320Z"
   },
   {
    "duration": 182,
    "start_time": "2022-05-04T12:57:47.387Z"
   },
   {
    "duration": 1221,
    "start_time": "2022-05-04T13:06:45.027Z"
   },
   {
    "duration": 7,
    "start_time": "2022-05-04T13:06:46.250Z"
   },
   {
    "duration": 10,
    "start_time": "2022-05-04T13:06:46.259Z"
   },
   {
    "duration": 73,
    "start_time": "2022-05-04T13:06:46.271Z"
   },
   {
    "duration": 24,
    "start_time": "2022-05-04T13:06:46.346Z"
   },
   {
    "duration": 24,
    "start_time": "2022-05-04T13:06:46.372Z"
   },
   {
    "duration": 4,
    "start_time": "2022-05-04T13:06:46.398Z"
   },
   {
    "duration": 23,
    "start_time": "2022-05-04T13:06:46.404Z"
   },
   {
    "duration": 23,
    "start_time": "2022-05-04T13:06:46.429Z"
   },
   {
    "duration": 8,
    "start_time": "2022-05-04T13:06:46.455Z"
   },
   {
    "duration": 26,
    "start_time": "2022-05-04T13:06:46.465Z"
   },
   {
    "duration": 18,
    "start_time": "2022-05-04T13:06:46.493Z"
   },
   {
    "duration": 25,
    "start_time": "2022-05-04T13:06:46.513Z"
   },
   {
    "duration": 25,
    "start_time": "2022-05-04T13:06:46.540Z"
   },
   {
    "duration": 22,
    "start_time": "2022-05-04T13:06:46.567Z"
   },
   {
    "duration": 26,
    "start_time": "2022-05-04T13:06:46.590Z"
   },
   {
    "duration": 23,
    "start_time": "2022-05-04T13:06:46.618Z"
   },
   {
    "duration": 12,
    "start_time": "2022-05-04T13:06:46.643Z"
   },
   {
    "duration": 23,
    "start_time": "2022-05-04T13:06:46.657Z"
   },
   {
    "duration": 19,
    "start_time": "2022-05-04T13:06:46.681Z"
   },
   {
    "duration": 166,
    "start_time": "2022-05-04T13:06:46.701Z"
   },
   {
    "duration": 4,
    "start_time": "2022-05-04T13:06:46.869Z"
   },
   {
    "duration": 35,
    "start_time": "2022-05-04T13:06:46.875Z"
   },
   {
    "duration": 133,
    "start_time": "2022-05-04T13:06:46.911Z"
   },
   {
    "duration": 140,
    "start_time": "2022-05-04T13:06:47.045Z"
   },
   {
    "duration": 4,
    "start_time": "2022-05-04T13:06:47.187Z"
   },
   {
    "duration": 12,
    "start_time": "2022-05-04T13:06:47.193Z"
   },
   {
    "duration": 33,
    "start_time": "2022-05-04T13:06:47.211Z"
   },
   {
    "duration": 5,
    "start_time": "2022-05-04T13:06:47.246Z"
   },
   {
    "duration": 9,
    "start_time": "2022-05-04T13:06:47.253Z"
   },
   {
    "duration": 7,
    "start_time": "2022-05-04T13:06:47.264Z"
   },
   {
    "duration": 229,
    "start_time": "2022-05-04T13:06:47.274Z"
   },
   {
    "duration": 116,
    "start_time": "2022-05-04T13:06:47.505Z"
   },
   {
    "duration": 19,
    "start_time": "2022-05-04T13:06:47.623Z"
   },
   {
    "duration": 6,
    "start_time": "2022-05-04T13:06:47.644Z"
   },
   {
    "duration": 10,
    "start_time": "2022-05-04T13:06:47.652Z"
   },
   {
    "duration": 7,
    "start_time": "2022-05-04T13:06:47.665Z"
   },
   {
    "duration": 220,
    "start_time": "2022-05-04T13:06:47.673Z"
   },
   {
    "duration": 120,
    "start_time": "2022-05-04T13:06:47.895Z"
   },
   {
    "duration": 17,
    "start_time": "2022-05-04T13:06:48.017Z"
   },
   {
    "duration": 14,
    "start_time": "2022-05-04T13:06:48.036Z"
   },
   {
    "duration": 6,
    "start_time": "2022-05-04T13:06:48.052Z"
   },
   {
    "duration": 7,
    "start_time": "2022-05-04T13:06:48.060Z"
   },
   {
    "duration": 5,
    "start_time": "2022-05-04T13:06:48.068Z"
   },
   {
    "duration": 13,
    "start_time": "2022-05-04T13:06:48.075Z"
   },
   {
    "duration": 12,
    "start_time": "2022-05-04T13:06:48.090Z"
   },
   {
    "duration": 308,
    "start_time": "2022-05-04T13:06:48.134Z"
   },
   {
    "duration": 8,
    "start_time": "2022-05-04T13:06:48.444Z"
   },
   {
    "duration": 14,
    "start_time": "2022-05-04T13:06:48.453Z"
   },
   {
    "duration": 9,
    "start_time": "2022-05-04T13:06:48.469Z"
   },
   {
    "duration": 245,
    "start_time": "2022-05-04T13:06:48.480Z"
   },
   {
    "duration": 14,
    "start_time": "2022-05-04T13:06:48.727Z"
   },
   {
    "duration": 10,
    "start_time": "2022-05-04T13:06:48.743Z"
   },
   {
    "duration": 11,
    "start_time": "2022-05-04T13:06:48.755Z"
   },
   {
    "duration": 11,
    "start_time": "2022-05-04T13:06:48.768Z"
   },
   {
    "duration": 12,
    "start_time": "2022-05-04T13:06:48.781Z"
   },
   {
    "duration": 228,
    "start_time": "2022-05-04T13:06:48.795Z"
   },
   {
    "duration": 12,
    "start_time": "2022-05-04T13:06:49.025Z"
   },
   {
    "duration": 16,
    "start_time": "2022-05-04T13:06:49.039Z"
   },
   {
    "duration": 15,
    "start_time": "2022-05-04T13:06:49.057Z"
   },
   {
    "duration": 5,
    "start_time": "2022-05-04T13:06:49.074Z"
   },
   {
    "duration": 14,
    "start_time": "2022-05-04T13:06:49.080Z"
   },
   {
    "duration": 213,
    "start_time": "2022-05-04T13:06:49.096Z"
   },
   {
    "duration": 136,
    "start_time": "2022-05-04T13:06:49.311Z"
   },
   {
    "duration": 10,
    "start_time": "2022-05-04T13:06:49.449Z"
   },
   {
    "duration": 10,
    "start_time": "2022-05-04T13:06:49.461Z"
   },
   {
    "duration": 8,
    "start_time": "2022-05-04T13:06:49.472Z"
   },
   {
    "duration": 294,
    "start_time": "2022-05-04T13:06:49.482Z"
   },
   {
    "duration": 213,
    "start_time": "2022-05-04T13:06:49.778Z"
   },
   {
    "duration": 13,
    "start_time": "2022-05-04T13:06:49.992Z"
   },
   {
    "duration": 339,
    "start_time": "2022-05-04T13:06:50.007Z"
   },
   {
    "duration": 12,
    "start_time": "2022-05-04T13:06:50.348Z"
   },
   {
    "duration": 12,
    "start_time": "2022-05-04T13:06:50.362Z"
   },
   {
    "duration": 11,
    "start_time": "2022-05-04T13:06:50.376Z"
   },
   {
    "duration": 13,
    "start_time": "2022-05-04T13:06:50.389Z"
   },
   {
    "duration": 203,
    "start_time": "2022-05-04T13:06:50.404Z"
   },
   {
    "duration": 360,
    "start_time": "2022-05-04T13:06:50.609Z"
   },
   {
    "duration": 9,
    "start_time": "2022-05-04T13:06:50.971Z"
   },
   {
    "duration": 139,
    "start_time": "2022-05-04T13:06:50.982Z"
   },
   {
    "duration": 139,
    "start_time": "2022-05-04T13:06:51.123Z"
   },
   {
    "duration": 4,
    "start_time": "2022-05-04T13:06:51.264Z"
   },
   {
    "duration": 237,
    "start_time": "2022-05-04T13:06:51.273Z"
   },
   {
    "duration": 5,
    "start_time": "2022-05-04T13:06:51.511Z"
   },
   {
    "duration": 219,
    "start_time": "2022-05-04T13:06:51.518Z"
   },
   {
    "duration": 68,
    "start_time": "2022-05-04T13:06:51.739Z"
   },
   {
    "duration": 102,
    "start_time": "2022-05-04T13:06:51.809Z"
   },
   {
    "duration": 25,
    "start_time": "2022-05-04T13:06:51.912Z"
   },
   {
    "duration": 8,
    "start_time": "2022-05-04T13:06:51.939Z"
   },
   {
    "duration": 24,
    "start_time": "2022-05-04T13:06:51.949Z"
   },
   {
    "duration": 10,
    "start_time": "2022-05-04T13:06:51.974Z"
   },
   {
    "duration": 7,
    "start_time": "2022-05-04T13:06:51.986Z"
   },
   {
    "duration": 42,
    "start_time": "2022-05-04T13:06:51.995Z"
   },
   {
    "duration": 13,
    "start_time": "2022-05-04T13:06:52.038Z"
   },
   {
    "duration": 9,
    "start_time": "2022-05-04T13:06:52.052Z"
   },
   {
    "duration": 24,
    "start_time": "2022-05-04T13:06:52.062Z"
   },
   {
    "duration": 14,
    "start_time": "2022-05-04T13:06:52.087Z"
   },
   {
    "duration": 240,
    "start_time": "2022-05-04T13:14:49.908Z"
   },
   {
    "duration": 229,
    "start_time": "2022-05-04T13:33:25.236Z"
   },
   {
    "duration": 4,
    "start_time": "2022-05-04T13:40:01.339Z"
   },
   {
    "duration": 5,
    "start_time": "2022-05-04T13:40:16.699Z"
   },
   {
    "duration": 7,
    "start_time": "2022-05-04T13:40:29.209Z"
   },
   {
    "duration": 7,
    "start_time": "2022-05-04T13:40:52.792Z"
   },
   {
    "duration": 203,
    "start_time": "2022-05-04T13:41:16.739Z"
   },
   {
    "duration": 5,
    "start_time": "2022-05-04T13:41:20.584Z"
   },
   {
    "duration": 6,
    "start_time": "2022-05-04T13:41:33.045Z"
   },
   {
    "duration": 1230,
    "start_time": "2022-05-04T13:50:41.945Z"
   },
   {
    "duration": 8,
    "start_time": "2022-05-04T13:50:43.178Z"
   },
   {
    "duration": 33,
    "start_time": "2022-05-04T13:50:43.187Z"
   },
   {
    "duration": 94,
    "start_time": "2022-05-04T13:50:43.222Z"
   },
   {
    "duration": 21,
    "start_time": "2022-05-04T13:50:43.317Z"
   },
   {
    "duration": 27,
    "start_time": "2022-05-04T13:50:43.339Z"
   },
   {
    "duration": 20,
    "start_time": "2022-05-04T13:50:43.368Z"
   },
   {
    "duration": 30,
    "start_time": "2022-05-04T13:50:43.390Z"
   },
   {
    "duration": 23,
    "start_time": "2022-05-04T13:50:43.422Z"
   },
   {
    "duration": 23,
    "start_time": "2022-05-04T13:50:43.448Z"
   },
   {
    "duration": 22,
    "start_time": "2022-05-04T13:50:43.473Z"
   },
   {
    "duration": 30,
    "start_time": "2022-05-04T13:50:43.497Z"
   },
   {
    "duration": 21,
    "start_time": "2022-05-04T13:50:43.529Z"
   },
   {
    "duration": 38,
    "start_time": "2022-05-04T13:50:43.552Z"
   },
   {
    "duration": 19,
    "start_time": "2022-05-04T13:50:43.592Z"
   },
   {
    "duration": 27,
    "start_time": "2022-05-04T13:50:43.612Z"
   },
   {
    "duration": 20,
    "start_time": "2022-05-04T13:50:43.641Z"
   },
   {
    "duration": 35,
    "start_time": "2022-05-04T13:50:43.663Z"
   },
   {
    "duration": 26,
    "start_time": "2022-05-04T13:50:43.700Z"
   },
   {
    "duration": 12,
    "start_time": "2022-05-04T13:50:43.727Z"
   },
   {
    "duration": 178,
    "start_time": "2022-05-04T13:50:43.741Z"
   },
   {
    "duration": 5,
    "start_time": "2022-05-04T13:50:43.920Z"
   },
   {
    "duration": 26,
    "start_time": "2022-05-04T13:50:43.933Z"
   },
   {
    "duration": 167,
    "start_time": "2022-05-04T13:50:43.960Z"
   },
   {
    "duration": 142,
    "start_time": "2022-05-04T13:50:44.129Z"
   },
   {
    "duration": 4,
    "start_time": "2022-05-04T13:50:44.273Z"
   },
   {
    "duration": 20,
    "start_time": "2022-05-04T13:50:44.278Z"
   },
   {
    "duration": 26,
    "start_time": "2022-05-04T13:50:44.302Z"
   },
   {
    "duration": 27,
    "start_time": "2022-05-04T13:50:44.333Z"
   },
   {
    "duration": 32,
    "start_time": "2022-05-04T13:50:44.361Z"
   },
   {
    "duration": 19,
    "start_time": "2022-05-04T13:50:44.395Z"
   },
   {
    "duration": 225,
    "start_time": "2022-05-04T13:50:44.416Z"
   },
   {
    "duration": 130,
    "start_time": "2022-05-04T13:50:44.643Z"
   },
   {
    "duration": 14,
    "start_time": "2022-05-04T13:50:44.775Z"
   },
   {
    "duration": 24,
    "start_time": "2022-05-04T13:50:44.791Z"
   },
   {
    "duration": 33,
    "start_time": "2022-05-04T13:50:44.817Z"
   },
   {
    "duration": 33,
    "start_time": "2022-05-04T13:50:44.852Z"
   },
   {
    "duration": 251,
    "start_time": "2022-05-04T13:50:44.887Z"
   },
   {
    "duration": 118,
    "start_time": "2022-05-04T13:50:45.140Z"
   },
   {
    "duration": 10,
    "start_time": "2022-05-04T13:50:45.260Z"
   },
   {
    "duration": 50,
    "start_time": "2022-05-04T13:50:45.272Z"
   },
   {
    "duration": 44,
    "start_time": "2022-05-04T13:50:45.324Z"
   },
   {
    "duration": 33,
    "start_time": "2022-05-04T13:50:45.370Z"
   },
   {
    "duration": 29,
    "start_time": "2022-05-04T13:50:45.404Z"
   },
   {
    "duration": 35,
    "start_time": "2022-05-04T13:50:45.435Z"
   },
   {
    "duration": 22,
    "start_time": "2022-05-04T13:50:45.472Z"
   },
   {
    "duration": 329,
    "start_time": "2022-05-04T13:50:45.496Z"
   },
   {
    "duration": 11,
    "start_time": "2022-05-04T13:50:45.828Z"
   },
   {
    "duration": 36,
    "start_time": "2022-05-04T13:50:45.841Z"
   },
   {
    "duration": 40,
    "start_time": "2022-05-04T13:50:45.879Z"
   },
   {
    "duration": 239,
    "start_time": "2022-05-04T13:50:45.920Z"
   },
   {
    "duration": 8,
    "start_time": "2022-05-04T13:50:46.161Z"
   },
   {
    "duration": 30,
    "start_time": "2022-05-04T13:50:46.170Z"
   },
   {
    "duration": 22,
    "start_time": "2022-05-04T13:50:46.201Z"
   },
   {
    "duration": 33,
    "start_time": "2022-05-04T13:50:46.225Z"
   },
   {
    "duration": 27,
    "start_time": "2022-05-04T13:50:46.260Z"
   },
   {
    "duration": 198,
    "start_time": "2022-05-04T13:50:46.289Z"
   },
   {
    "duration": 7,
    "start_time": "2022-05-04T13:50:46.489Z"
   },
   {
    "duration": 33,
    "start_time": "2022-05-04T13:50:46.497Z"
   },
   {
    "duration": 23,
    "start_time": "2022-05-04T13:50:46.531Z"
   },
   {
    "duration": 25,
    "start_time": "2022-05-04T13:50:46.555Z"
   },
   {
    "duration": 27,
    "start_time": "2022-05-04T13:50:46.582Z"
   },
   {
    "duration": 189,
    "start_time": "2022-05-04T13:50:46.611Z"
   },
   {
    "duration": 145,
    "start_time": "2022-05-04T13:50:46.801Z"
   },
   {
    "duration": 10,
    "start_time": "2022-05-04T13:50:46.947Z"
   },
   {
    "duration": 20,
    "start_time": "2022-05-04T13:50:46.959Z"
   },
   {
    "duration": 20,
    "start_time": "2022-05-04T13:50:46.981Z"
   },
   {
    "duration": 279,
    "start_time": "2022-05-04T13:50:47.003Z"
   },
   {
    "duration": 193,
    "start_time": "2022-05-04T13:50:47.283Z"
   },
   {
    "duration": 12,
    "start_time": "2022-05-04T13:50:47.478Z"
   },
   {
    "duration": 347,
    "start_time": "2022-05-04T13:50:47.492Z"
   },
   {
    "duration": 12,
    "start_time": "2022-05-04T13:50:47.841Z"
   },
   {
    "duration": 11,
    "start_time": "2022-05-04T13:50:47.854Z"
   },
   {
    "duration": 14,
    "start_time": "2022-05-04T13:50:47.867Z"
   },
   {
    "duration": 5,
    "start_time": "2022-05-04T13:50:47.883Z"
   },
   {
    "duration": 199,
    "start_time": "2022-05-04T13:50:47.889Z"
   },
   {
    "duration": 312,
    "start_time": "2022-05-04T13:50:48.090Z"
   },
   {
    "duration": 8,
    "start_time": "2022-05-04T13:50:48.404Z"
   },
   {
    "duration": 145,
    "start_time": "2022-05-04T13:50:48.414Z"
   },
   {
    "duration": 144,
    "start_time": "2022-05-04T13:50:48.560Z"
   },
   {
    "duration": 4,
    "start_time": "2022-05-04T13:50:48.706Z"
   },
   {
    "duration": 248,
    "start_time": "2022-05-04T13:50:48.716Z"
   },
   {
    "duration": 4,
    "start_time": "2022-05-04T13:50:48.966Z"
   },
   {
    "duration": 235,
    "start_time": "2022-05-04T13:50:48.972Z"
   },
   {
    "duration": 108,
    "start_time": "2022-05-04T13:50:49.209Z"
   },
   {
    "duration": 94,
    "start_time": "2022-05-04T13:50:49.319Z"
   },
   {
    "duration": 20,
    "start_time": "2022-05-04T13:50:49.414Z"
   },
   {
    "duration": 7,
    "start_time": "2022-05-04T13:50:49.435Z"
   },
   {
    "duration": 23,
    "start_time": "2022-05-04T13:50:49.444Z"
   },
   {
    "duration": 11,
    "start_time": "2022-05-04T13:50:49.468Z"
   },
   {
    "duration": 7,
    "start_time": "2022-05-04T13:50:49.481Z"
   },
   {
    "duration": 44,
    "start_time": "2022-05-04T13:50:49.490Z"
   },
   {
    "duration": 10,
    "start_time": "2022-05-04T13:50:49.536Z"
   },
   {
    "duration": 12,
    "start_time": "2022-05-04T13:50:49.547Z"
   },
   {
    "duration": 8,
    "start_time": "2022-05-04T13:50:49.560Z"
   },
   {
    "duration": 9,
    "start_time": "2022-05-04T13:50:49.570Z"
   },
   {
    "duration": 30,
    "start_time": "2022-05-04T13:50:49.581Z"
   },
   {
    "duration": 31,
    "start_time": "2022-05-04T13:50:49.613Z"
   },
   {
    "duration": 1303,
    "start_time": "2022-05-04T13:53:11.522Z"
   },
   {
    "duration": 8,
    "start_time": "2022-05-04T13:53:12.834Z"
   },
   {
    "duration": 3,
    "start_time": "2022-05-04T13:53:12.843Z"
   },
   {
    "duration": 54,
    "start_time": "2022-05-04T13:53:12.848Z"
   },
   {
    "duration": 22,
    "start_time": "2022-05-04T13:53:12.904Z"
   },
   {
    "duration": 21,
    "start_time": "2022-05-04T13:53:12.928Z"
   },
   {
    "duration": 3,
    "start_time": "2022-05-04T13:53:12.951Z"
   },
   {
    "duration": 19,
    "start_time": "2022-05-04T13:53:12.956Z"
   },
   {
    "duration": 7,
    "start_time": "2022-05-04T13:53:12.977Z"
   },
   {
    "duration": 7,
    "start_time": "2022-05-04T13:53:12.987Z"
   },
   {
    "duration": 6,
    "start_time": "2022-05-04T13:53:12.996Z"
   },
   {
    "duration": 34,
    "start_time": "2022-05-04T13:53:13.004Z"
   },
   {
    "duration": 14,
    "start_time": "2022-05-04T13:53:13.040Z"
   },
   {
    "duration": 12,
    "start_time": "2022-05-04T13:53:13.056Z"
   },
   {
    "duration": 10,
    "start_time": "2022-05-04T13:53:13.070Z"
   },
   {
    "duration": 8,
    "start_time": "2022-05-04T13:53:13.082Z"
   },
   {
    "duration": 9,
    "start_time": "2022-05-04T13:53:13.092Z"
   },
   {
    "duration": 36,
    "start_time": "2022-05-04T13:53:13.102Z"
   },
   {
    "duration": 15,
    "start_time": "2022-05-04T13:53:13.139Z"
   },
   {
    "duration": 8,
    "start_time": "2022-05-04T13:53:13.155Z"
   },
   {
    "duration": 173,
    "start_time": "2022-05-04T13:53:13.164Z"
   },
   {
    "duration": 5,
    "start_time": "2022-05-04T13:53:13.339Z"
   },
   {
    "duration": 15,
    "start_time": "2022-05-04T13:53:13.346Z"
   },
   {
    "duration": 155,
    "start_time": "2022-05-04T13:53:13.363Z"
   },
   {
    "duration": 146,
    "start_time": "2022-05-04T13:53:13.520Z"
   },
   {
    "duration": 4,
    "start_time": "2022-05-04T13:53:13.668Z"
   },
   {
    "duration": 14,
    "start_time": "2022-05-04T13:53:13.674Z"
   },
   {
    "duration": 16,
    "start_time": "2022-05-04T13:53:13.693Z"
   },
   {
    "duration": 26,
    "start_time": "2022-05-04T13:53:13.711Z"
   },
   {
    "duration": 11,
    "start_time": "2022-05-04T13:53:13.739Z"
   },
   {
    "duration": 11,
    "start_time": "2022-05-04T13:53:13.751Z"
   },
   {
    "duration": 231,
    "start_time": "2022-05-04T13:53:13.764Z"
   },
   {
    "duration": 126,
    "start_time": "2022-05-04T13:53:13.997Z"
   },
   {
    "duration": 16,
    "start_time": "2022-05-04T13:53:14.133Z"
   },
   {
    "duration": 5,
    "start_time": "2022-05-04T13:53:14.152Z"
   },
   {
    "duration": 11,
    "start_time": "2022-05-04T13:53:14.159Z"
   },
   {
    "duration": 10,
    "start_time": "2022-05-04T13:53:14.172Z"
   },
   {
    "duration": 254,
    "start_time": "2022-05-04T13:53:14.184Z"
   },
   {
    "duration": 135,
    "start_time": "2022-05-04T13:53:14.439Z"
   },
   {
    "duration": 11,
    "start_time": "2022-05-04T13:53:14.576Z"
   },
   {
    "duration": 13,
    "start_time": "2022-05-04T13:53:14.588Z"
   },
   {
    "duration": 9,
    "start_time": "2022-05-04T13:53:14.602Z"
   },
   {
    "duration": 7,
    "start_time": "2022-05-04T13:53:14.634Z"
   },
   {
    "duration": 12,
    "start_time": "2022-05-04T13:53:14.643Z"
   },
   {
    "duration": 20,
    "start_time": "2022-05-04T13:53:14.657Z"
   },
   {
    "duration": 20,
    "start_time": "2022-05-04T13:53:14.680Z"
   },
   {
    "duration": 331,
    "start_time": "2022-05-04T13:53:14.702Z"
   },
   {
    "duration": 9,
    "start_time": "2022-05-04T13:53:15.035Z"
   },
   {
    "duration": 21,
    "start_time": "2022-05-04T13:53:15.047Z"
   },
   {
    "duration": 16,
    "start_time": "2022-05-04T13:53:15.070Z"
   },
   {
    "duration": 264,
    "start_time": "2022-05-04T13:53:15.087Z"
   },
   {
    "duration": 8,
    "start_time": "2022-05-04T13:53:15.353Z"
   },
   {
    "duration": 12,
    "start_time": "2022-05-04T13:53:15.362Z"
   },
   {
    "duration": 15,
    "start_time": "2022-05-04T13:53:15.375Z"
   },
   {
    "duration": 12,
    "start_time": "2022-05-04T13:53:15.392Z"
   },
   {
    "duration": 30,
    "start_time": "2022-05-04T13:53:15.406Z"
   },
   {
    "duration": 199,
    "start_time": "2022-05-04T13:53:15.438Z"
   },
   {
    "duration": 7,
    "start_time": "2022-05-04T13:53:15.639Z"
   },
   {
    "duration": 15,
    "start_time": "2022-05-04T13:53:15.647Z"
   },
   {
    "duration": 15,
    "start_time": "2022-05-04T13:53:15.664Z"
   },
   {
    "duration": 4,
    "start_time": "2022-05-04T13:53:15.681Z"
   },
   {
    "duration": 18,
    "start_time": "2022-05-04T13:53:15.686Z"
   },
   {
    "duration": 203,
    "start_time": "2022-05-04T13:53:15.705Z"
   },
   {
    "duration": 162,
    "start_time": "2022-05-04T13:53:15.910Z"
   },
   {
    "duration": 10,
    "start_time": "2022-05-04T13:53:16.073Z"
   },
   {
    "duration": 8,
    "start_time": "2022-05-04T13:53:16.085Z"
   },
   {
    "duration": 7,
    "start_time": "2022-05-04T13:53:16.095Z"
   },
   {
    "duration": 304,
    "start_time": "2022-05-04T13:53:16.104Z"
   },
   {
    "duration": 217,
    "start_time": "2022-05-04T13:53:16.410Z"
   },
   {
    "duration": 12,
    "start_time": "2022-05-04T13:53:16.634Z"
   },
   {
    "duration": 327,
    "start_time": "2022-05-04T13:53:16.648Z"
   },
   {
    "duration": 11,
    "start_time": "2022-05-04T13:53:16.978Z"
   },
   {
    "duration": 24,
    "start_time": "2022-05-04T13:53:16.991Z"
   },
   {
    "duration": 18,
    "start_time": "2022-05-04T13:53:17.017Z"
   },
   {
    "duration": 8,
    "start_time": "2022-05-04T13:53:17.036Z"
   },
   {
    "duration": 205,
    "start_time": "2022-05-04T13:53:17.046Z"
   },
   {
    "duration": 315,
    "start_time": "2022-05-04T13:53:17.253Z"
   },
   {
    "duration": 10,
    "start_time": "2022-05-04T13:53:17.570Z"
   },
   {
    "duration": 144,
    "start_time": "2022-05-04T13:53:17.582Z"
   },
   {
    "duration": 168,
    "start_time": "2022-05-04T13:53:17.729Z"
   },
   {
    "duration": 4,
    "start_time": "2022-05-04T13:53:17.898Z"
   },
   {
    "duration": 250,
    "start_time": "2022-05-04T13:53:17.908Z"
   },
   {
    "duration": 5,
    "start_time": "2022-05-04T13:53:18.160Z"
   },
   {
    "duration": 251,
    "start_time": "2022-05-04T13:53:18.167Z"
   },
   {
    "duration": 94,
    "start_time": "2022-05-04T13:53:18.420Z"
   },
   {
    "duration": 98,
    "start_time": "2022-05-04T13:53:18.515Z"
   },
   {
    "duration": 21,
    "start_time": "2022-05-04T13:53:18.614Z"
   },
   {
    "duration": 26,
    "start_time": "2022-05-04T13:53:18.637Z"
   },
   {
    "duration": 38,
    "start_time": "2022-05-04T13:53:18.664Z"
   },
   {
    "duration": 11,
    "start_time": "2022-05-04T13:53:18.704Z"
   },
   {
    "duration": 15,
    "start_time": "2022-05-04T13:53:18.717Z"
   },
   {
    "duration": 21,
    "start_time": "2022-05-04T13:53:18.733Z"
   },
   {
    "duration": 21,
    "start_time": "2022-05-04T13:53:18.755Z"
   },
   {
    "duration": 14,
    "start_time": "2022-05-04T13:53:18.778Z"
   },
   {
    "duration": 32,
    "start_time": "2022-05-04T13:53:18.794Z"
   },
   {
    "duration": 13,
    "start_time": "2022-05-04T13:53:18.828Z"
   },
   {
    "duration": 44,
    "start_time": "2022-05-04T13:53:18.843Z"
   },
   {
    "duration": 16,
    "start_time": "2022-05-04T13:53:18.889Z"
   },
   {
    "duration": 1263,
    "start_time": "2022-05-05T07:11:19.342Z"
   },
   {
    "duration": 8,
    "start_time": "2022-05-05T07:11:20.607Z"
   },
   {
    "duration": 3,
    "start_time": "2022-05-05T07:11:20.616Z"
   },
   {
    "duration": 73,
    "start_time": "2022-05-05T07:11:20.633Z"
   },
   {
    "duration": 24,
    "start_time": "2022-05-05T07:11:20.708Z"
   },
   {
    "duration": 21,
    "start_time": "2022-05-05T07:11:20.734Z"
   },
   {
    "duration": 3,
    "start_time": "2022-05-05T07:11:20.757Z"
   },
   {
    "duration": 25,
    "start_time": "2022-05-05T07:11:20.762Z"
   },
   {
    "duration": 7,
    "start_time": "2022-05-05T07:11:20.789Z"
   },
   {
    "duration": 7,
    "start_time": "2022-05-05T07:11:20.798Z"
   },
   {
    "duration": 6,
    "start_time": "2022-05-05T07:11:20.807Z"
   },
   {
    "duration": 25,
    "start_time": "2022-05-05T07:11:20.815Z"
   },
   {
    "duration": 11,
    "start_time": "2022-05-05T07:11:20.842Z"
   },
   {
    "duration": 16,
    "start_time": "2022-05-05T07:11:20.855Z"
   },
   {
    "duration": 9,
    "start_time": "2022-05-05T07:11:20.872Z"
   },
   {
    "duration": 8,
    "start_time": "2022-05-05T07:11:20.882Z"
   },
   {
    "duration": 6,
    "start_time": "2022-05-05T07:11:20.892Z"
   },
   {
    "duration": 36,
    "start_time": "2022-05-05T07:11:20.900Z"
   },
   {
    "duration": 12,
    "start_time": "2022-05-05T07:11:20.938Z"
   },
   {
    "duration": 8,
    "start_time": "2022-05-05T07:11:20.952Z"
   },
   {
    "duration": 177,
    "start_time": "2022-05-05T07:11:20.962Z"
   },
   {
    "duration": 4,
    "start_time": "2022-05-05T07:11:21.141Z"
   },
   {
    "duration": 14,
    "start_time": "2022-05-05T07:11:21.147Z"
   },
   {
    "duration": 147,
    "start_time": "2022-05-05T07:11:21.163Z"
   },
   {
    "duration": 142,
    "start_time": "2022-05-05T07:11:21.311Z"
   },
   {
    "duration": 4,
    "start_time": "2022-05-05T07:11:21.455Z"
   },
   {
    "duration": 14,
    "start_time": "2022-05-05T07:11:21.461Z"
   },
   {
    "duration": 24,
    "start_time": "2022-05-05T07:11:21.480Z"
   },
   {
    "duration": 7,
    "start_time": "2022-05-05T07:11:21.506Z"
   },
   {
    "duration": 26,
    "start_time": "2022-05-05T07:11:21.514Z"
   },
   {
    "duration": 9,
    "start_time": "2022-05-05T07:11:21.541Z"
   },
   {
    "duration": 210,
    "start_time": "2022-05-05T07:11:21.551Z"
   },
   {
    "duration": 125,
    "start_time": "2022-05-05T07:11:21.763Z"
   },
   {
    "duration": 16,
    "start_time": "2022-05-05T07:11:21.889Z"
   },
   {
    "duration": 15,
    "start_time": "2022-05-05T07:11:21.907Z"
   },
   {
    "duration": 15,
    "start_time": "2022-05-05T07:11:21.924Z"
   },
   {
    "duration": 8,
    "start_time": "2022-05-05T07:11:21.941Z"
   },
   {
    "duration": 219,
    "start_time": "2022-05-05T07:11:21.950Z"
   },
   {
    "duration": 127,
    "start_time": "2022-05-05T07:11:22.171Z"
   },
   {
    "duration": 10,
    "start_time": "2022-05-05T07:11:22.299Z"
   },
   {
    "duration": 24,
    "start_time": "2022-05-05T07:11:22.311Z"
   },
   {
    "duration": 8,
    "start_time": "2022-05-05T07:11:22.337Z"
   },
   {
    "duration": 7,
    "start_time": "2022-05-05T07:11:22.347Z"
   },
   {
    "duration": 6,
    "start_time": "2022-05-05T07:11:22.355Z"
   },
   {
    "duration": 13,
    "start_time": "2022-05-05T07:11:22.363Z"
   },
   {
    "duration": 15,
    "start_time": "2022-05-05T07:11:22.378Z"
   },
   {
    "duration": 335,
    "start_time": "2022-05-05T07:11:22.395Z"
   },
   {
    "duration": 9,
    "start_time": "2022-05-05T07:11:22.731Z"
   },
   {
    "duration": 14,
    "start_time": "2022-05-05T07:11:22.742Z"
   },
   {
    "duration": 11,
    "start_time": "2022-05-05T07:11:22.758Z"
   },
   {
    "duration": 240,
    "start_time": "2022-05-05T07:11:22.771Z"
   },
   {
    "duration": 8,
    "start_time": "2022-05-05T07:11:23.013Z"
   },
   {
    "duration": 17,
    "start_time": "2022-05-05T07:11:23.023Z"
   },
   {
    "duration": 16,
    "start_time": "2022-05-05T07:11:23.042Z"
   },
   {
    "duration": 12,
    "start_time": "2022-05-05T07:11:23.059Z"
   },
   {
    "duration": 17,
    "start_time": "2022-05-05T07:11:23.073Z"
   },
   {
    "duration": 199,
    "start_time": "2022-05-05T07:11:23.091Z"
   },
   {
    "duration": 7,
    "start_time": "2022-05-05T07:11:23.291Z"
   },
   {
    "duration": 14,
    "start_time": "2022-05-05T07:11:23.299Z"
   },
   {
    "duration": 32,
    "start_time": "2022-05-05T07:11:23.314Z"
   },
   {
    "duration": 5,
    "start_time": "2022-05-05T07:11:23.347Z"
   },
   {
    "duration": 19,
    "start_time": "2022-05-05T07:11:23.353Z"
   },
   {
    "duration": 190,
    "start_time": "2022-05-05T07:11:23.373Z"
   },
   {
    "duration": 138,
    "start_time": "2022-05-05T07:11:23.564Z"
   },
   {
    "duration": 9,
    "start_time": "2022-05-05T07:11:23.703Z"
   },
   {
    "duration": 20,
    "start_time": "2022-05-05T07:11:23.714Z"
   },
   {
    "duration": 11,
    "start_time": "2022-05-05T07:11:23.735Z"
   },
   {
    "duration": 272,
    "start_time": "2022-05-05T07:11:23.747Z"
   },
   {
    "duration": 208,
    "start_time": "2022-05-05T07:11:24.021Z"
   },
   {
    "duration": 12,
    "start_time": "2022-05-05T07:11:24.233Z"
   },
   {
    "duration": 320,
    "start_time": "2022-05-05T07:11:24.247Z"
   },
   {
    "duration": 11,
    "start_time": "2022-05-05T07:11:24.569Z"
   },
   {
    "duration": 12,
    "start_time": "2022-05-05T07:11:24.582Z"
   },
   {
    "duration": 15,
    "start_time": "2022-05-05T07:11:24.595Z"
   },
   {
    "duration": 23,
    "start_time": "2022-05-05T07:11:24.612Z"
   },
   {
    "duration": 191,
    "start_time": "2022-05-05T07:11:24.636Z"
   },
   {
    "duration": 340,
    "start_time": "2022-05-05T07:11:24.833Z"
   },
   {
    "duration": 9,
    "start_time": "2022-05-05T07:11:25.175Z"
   },
   {
    "duration": 144,
    "start_time": "2022-05-05T07:11:25.186Z"
   },
   {
    "duration": 132,
    "start_time": "2022-05-05T07:11:25.333Z"
   },
   {
    "duration": 4,
    "start_time": "2022-05-05T07:11:25.467Z"
   },
   {
    "duration": 258,
    "start_time": "2022-05-05T07:11:25.477Z"
   },
   {
    "duration": 4,
    "start_time": "2022-05-05T07:11:25.737Z"
   },
   {
    "duration": 246,
    "start_time": "2022-05-05T07:11:25.743Z"
   },
   {
    "duration": 86,
    "start_time": "2022-05-05T07:11:25.991Z"
   },
   {
    "duration": 99,
    "start_time": "2022-05-05T07:11:26.079Z"
   },
   {
    "duration": 9,
    "start_time": "2022-05-05T07:11:26.180Z"
   },
   {
    "duration": 15,
    "start_time": "2022-05-05T07:11:26.191Z"
   },
   {
    "duration": 43,
    "start_time": "2022-05-05T07:11:26.208Z"
   },
   {
    "duration": 11,
    "start_time": "2022-05-05T07:11:26.253Z"
   },
   {
    "duration": 7,
    "start_time": "2022-05-05T07:11:26.266Z"
   },
   {
    "duration": 8,
    "start_time": "2022-05-05T07:11:26.275Z"
   },
   {
    "duration": 11,
    "start_time": "2022-05-05T07:11:26.285Z"
   },
   {
    "duration": 40,
    "start_time": "2022-05-05T07:11:26.298Z"
   },
   {
    "duration": 8,
    "start_time": "2022-05-05T07:11:26.339Z"
   },
   {
    "duration": 16,
    "start_time": "2022-05-05T07:11:26.348Z"
   },
   {
    "duration": 31,
    "start_time": "2022-05-05T07:11:26.365Z"
   },
   {
    "duration": 35,
    "start_time": "2022-05-05T07:11:26.398Z"
   },
   {
    "duration": 1206,
    "start_time": "2022-05-05T07:12:18.241Z"
   },
   {
    "duration": 8,
    "start_time": "2022-05-05T07:12:19.449Z"
   },
   {
    "duration": 3,
    "start_time": "2022-05-05T07:12:19.459Z"
   },
   {
    "duration": 63,
    "start_time": "2022-05-05T07:12:19.464Z"
   },
   {
    "duration": 22,
    "start_time": "2022-05-05T07:12:19.529Z"
   },
   {
    "duration": 22,
    "start_time": "2022-05-05T07:12:19.553Z"
   },
   {
    "duration": 4,
    "start_time": "2022-05-05T07:12:19.577Z"
   },
   {
    "duration": 14,
    "start_time": "2022-05-05T07:12:19.583Z"
   },
   {
    "duration": 6,
    "start_time": "2022-05-05T07:12:19.599Z"
   },
   {
    "duration": 12,
    "start_time": "2022-05-05T07:12:19.608Z"
   },
   {
    "duration": 12,
    "start_time": "2022-05-05T07:12:19.621Z"
   },
   {
    "duration": 11,
    "start_time": "2022-05-05T07:12:19.635Z"
   },
   {
    "duration": 11,
    "start_time": "2022-05-05T07:12:19.648Z"
   },
   {
    "duration": 13,
    "start_time": "2022-05-05T07:12:19.661Z"
   },
   {
    "duration": 7,
    "start_time": "2022-05-05T07:12:19.676Z"
   },
   {
    "duration": 11,
    "start_time": "2022-05-05T07:12:19.685Z"
   },
   {
    "duration": 37,
    "start_time": "2022-05-05T07:12:19.698Z"
   },
   {
    "duration": 10,
    "start_time": "2022-05-05T07:12:19.736Z"
   },
   {
    "duration": 12,
    "start_time": "2022-05-05T07:12:19.747Z"
   },
   {
    "duration": 8,
    "start_time": "2022-05-05T07:12:19.761Z"
   },
   {
    "duration": 177,
    "start_time": "2022-05-05T07:12:19.770Z"
   },
   {
    "duration": 4,
    "start_time": "2022-05-05T07:12:19.949Z"
   },
   {
    "duration": 16,
    "start_time": "2022-05-05T07:12:19.955Z"
   },
   {
    "duration": 148,
    "start_time": "2022-05-05T07:12:19.973Z"
   },
   {
    "duration": 143,
    "start_time": "2022-05-05T07:12:20.123Z"
   },
   {
    "duration": 4,
    "start_time": "2022-05-05T07:12:20.267Z"
   },
   {
    "duration": 16,
    "start_time": "2022-05-05T07:12:20.273Z"
   },
   {
    "duration": 14,
    "start_time": "2022-05-05T07:12:20.293Z"
   },
   {
    "duration": 26,
    "start_time": "2022-05-05T07:12:20.309Z"
   },
   {
    "duration": 10,
    "start_time": "2022-05-05T07:12:20.338Z"
   },
   {
    "duration": 8,
    "start_time": "2022-05-05T07:12:20.350Z"
   },
   {
    "duration": 214,
    "start_time": "2022-05-05T07:12:20.360Z"
   },
   {
    "duration": 116,
    "start_time": "2022-05-05T07:12:20.577Z"
   },
   {
    "duration": 15,
    "start_time": "2022-05-05T07:12:20.695Z"
   },
   {
    "duration": 23,
    "start_time": "2022-05-05T07:12:20.712Z"
   },
   {
    "duration": 12,
    "start_time": "2022-05-05T07:12:20.737Z"
   },
   {
    "duration": 7,
    "start_time": "2022-05-05T07:12:20.751Z"
   },
   {
    "duration": 224,
    "start_time": "2022-05-05T07:12:20.760Z"
   },
   {
    "duration": 120,
    "start_time": "2022-05-05T07:12:20.986Z"
   },
   {
    "duration": 25,
    "start_time": "2022-05-05T07:12:21.109Z"
   },
   {
    "duration": 12,
    "start_time": "2022-05-05T07:12:21.135Z"
   },
   {
    "duration": 10,
    "start_time": "2022-05-05T07:12:21.149Z"
   },
   {
    "duration": 8,
    "start_time": "2022-05-05T07:12:21.161Z"
   },
   {
    "duration": 7,
    "start_time": "2022-05-05T07:12:21.171Z"
   },
   {
    "duration": 18,
    "start_time": "2022-05-05T07:12:21.180Z"
   },
   {
    "duration": 39,
    "start_time": "2022-05-05T07:12:21.200Z"
   },
   {
    "duration": 298,
    "start_time": "2022-05-05T07:12:21.241Z"
   },
   {
    "duration": 8,
    "start_time": "2022-05-05T07:12:21.541Z"
   },
   {
    "duration": 20,
    "start_time": "2022-05-05T07:12:21.551Z"
   },
   {
    "duration": 11,
    "start_time": "2022-05-05T07:12:21.573Z"
   },
   {
    "duration": 247,
    "start_time": "2022-05-05T07:12:21.586Z"
   },
   {
    "duration": 9,
    "start_time": "2022-05-05T07:12:21.835Z"
   },
   {
    "duration": 15,
    "start_time": "2022-05-05T07:12:21.845Z"
   },
   {
    "duration": 15,
    "start_time": "2022-05-05T07:12:21.861Z"
   },
   {
    "duration": 12,
    "start_time": "2022-05-05T07:12:21.877Z"
   },
   {
    "duration": 17,
    "start_time": "2022-05-05T07:12:21.891Z"
   },
   {
    "duration": 201,
    "start_time": "2022-05-05T07:12:21.909Z"
   },
   {
    "duration": 6,
    "start_time": "2022-05-05T07:12:22.112Z"
   },
   {
    "duration": 24,
    "start_time": "2022-05-05T07:12:22.120Z"
   },
   {
    "duration": 14,
    "start_time": "2022-05-05T07:12:22.146Z"
   },
   {
    "duration": 4,
    "start_time": "2022-05-05T07:12:22.162Z"
   },
   {
    "duration": 18,
    "start_time": "2022-05-05T07:12:22.167Z"
   },
   {
    "duration": 200,
    "start_time": "2022-05-05T07:12:22.187Z"
   },
   {
    "duration": 146,
    "start_time": "2022-05-05T07:12:22.388Z"
   },
   {
    "duration": 10,
    "start_time": "2022-05-05T07:12:22.536Z"
   },
   {
    "duration": 8,
    "start_time": "2022-05-05T07:12:22.547Z"
   },
   {
    "duration": 8,
    "start_time": "2022-05-05T07:12:22.557Z"
   },
   {
    "duration": 282,
    "start_time": "2022-05-05T07:12:22.567Z"
   },
   {
    "duration": 202,
    "start_time": "2022-05-05T07:12:22.851Z"
   },
   {
    "duration": 12,
    "start_time": "2022-05-05T07:12:23.055Z"
   },
   {
    "duration": 294,
    "start_time": "2022-05-05T07:12:23.069Z"
   },
   {
    "duration": 11,
    "start_time": "2022-05-05T07:12:23.365Z"
   },
   {
    "duration": 17,
    "start_time": "2022-05-05T07:12:23.378Z"
   },
   {
    "duration": 14,
    "start_time": "2022-05-05T07:12:23.397Z"
   },
   {
    "duration": 6,
    "start_time": "2022-05-05T07:12:23.413Z"
   },
   {
    "duration": 185,
    "start_time": "2022-05-05T07:12:23.434Z"
   },
   {
    "duration": 335,
    "start_time": "2022-05-05T07:12:23.621Z"
   },
   {
    "duration": 10,
    "start_time": "2022-05-05T07:12:23.958Z"
   },
   {
    "duration": 138,
    "start_time": "2022-05-05T07:12:23.969Z"
   },
   {
    "duration": 149,
    "start_time": "2022-05-05T07:12:24.109Z"
   },
   {
    "duration": 4,
    "start_time": "2022-05-05T07:12:24.260Z"
   },
   {
    "duration": 260,
    "start_time": "2022-05-05T07:12:24.270Z"
   },
   {
    "duration": 4,
    "start_time": "2022-05-05T07:12:24.532Z"
   },
   {
    "duration": 229,
    "start_time": "2022-05-05T07:12:24.537Z"
   },
   {
    "duration": 85,
    "start_time": "2022-05-05T07:12:24.768Z"
   },
   {
    "duration": 94,
    "start_time": "2022-05-05T07:12:24.855Z"
   },
   {
    "duration": 7,
    "start_time": "2022-05-05T07:12:24.951Z"
   },
   {
    "duration": 6,
    "start_time": "2022-05-05T07:12:24.959Z"
   },
   {
    "duration": 23,
    "start_time": "2022-05-05T07:12:24.967Z"
   },
   {
    "duration": 11,
    "start_time": "2022-05-05T07:12:24.992Z"
   },
   {
    "duration": 8,
    "start_time": "2022-05-05T07:12:25.033Z"
   },
   {
    "duration": 11,
    "start_time": "2022-05-05T07:12:25.043Z"
   },
   {
    "duration": 9,
    "start_time": "2022-05-05T07:12:25.056Z"
   },
   {
    "duration": 10,
    "start_time": "2022-05-05T07:12:25.066Z"
   },
   {
    "duration": 7,
    "start_time": "2022-05-05T07:12:25.078Z"
   },
   {
    "duration": 10,
    "start_time": "2022-05-05T07:12:25.087Z"
   },
   {
    "duration": 49,
    "start_time": "2022-05-05T07:12:25.098Z"
   },
   {
    "duration": 14,
    "start_time": "2022-05-05T07:12:25.148Z"
   }
  ],
  "kernelspec": {
   "display_name": "Python 3 (ipykernel)",
   "language": "python",
   "name": "python3"
  },
  "language_info": {
   "codemirror_mode": {
    "name": "ipython",
    "version": 3
   },
   "file_extension": ".py",
   "mimetype": "text/x-python",
   "name": "python",
   "nbconvert_exporter": "python",
   "pygments_lexer": "ipython3",
   "version": "3.9.7"
  },
  "toc": {
   "base_numbering": 1,
   "nav_menu": {},
   "number_sections": true,
   "sideBar": true,
   "skip_h1_title": true,
   "title_cell": "Table of Contents",
   "title_sidebar": "Contents",
   "toc_cell": true,
   "toc_position": {
    "height": "calc(100% - 180px)",
    "left": "10px",
    "top": "150px",
    "width": "165px"
   },
   "toc_section_display": true,
   "toc_window_display": true
  }
 },
 "nbformat": 4,
 "nbformat_minor": 5
}
