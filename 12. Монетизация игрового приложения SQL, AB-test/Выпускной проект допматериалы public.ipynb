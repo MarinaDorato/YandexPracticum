{
 "cells": [
  {
   "cell_type": "markdown",
   "id": "2c17aba5",
   "metadata": {
    "toc": true
   },
   "source": [
    "<h1>Table of Contents<span class=\"tocSkip\"></span></h1>\n",
    "<div class=\"toc\"><ul class=\"toc-item\"><li><span><a href=\"#Задача\" data-toc-modified-id=\"Задача-1\"><span class=\"toc-item-num\">1&nbsp;&nbsp;</span>Задача</a></span></li><li><span><a href=\"#Описание-ситуации-и-постановка-задачи.\" data-toc-modified-id=\"Описание-ситуации-и-постановка-задачи.-2\"><span class=\"toc-item-num\">2&nbsp;&nbsp;</span>Описание ситуации и постановка задачи.</a></span><ul class=\"toc-item\"><li><span><a href=\"#Первичное-знакомство-с-данными\" data-toc-modified-id=\"Первичное-знакомство-с-данными-2.1\"><span class=\"toc-item-num\">2.1&nbsp;&nbsp;</span>Первичное знакомство с данными</a></span></li><li><span><a href=\"#Мероприятия-по-подготовке-данных\" data-toc-modified-id=\"Мероприятия-по-подготовке-данных-2.2\"><span class=\"toc-item-num\">2.2&nbsp;&nbsp;</span>Мероприятия по подготовке данных</a></span></li></ul></li><li><span><a href=\"#Основной-датафрем-с-активностью-пользователей\" data-toc-modified-id=\"Основной-датафрем-с-активностью-пользователей-3\"><span class=\"toc-item-num\">3&nbsp;&nbsp;</span>Основной датафрем с активностью пользователей</a></span></li><li><span><a href=\"#Сведения-об-источниках,-с-которых-пришёл-пользователь,-установивший-приложение\" data-toc-modified-id=\"Сведения-об-источниках,-с-которых-пришёл-пользователь,-установивший-приложение-4\"><span class=\"toc-item-num\">4&nbsp;&nbsp;</span>Сведения об источниках, с которых пришёл пользователь, установивший приложение</a></span></li><li><span><a href=\"#Датафрейм-со-стоимостью-кликов\" data-toc-modified-id=\"Датафрейм-со-стоимостью-кликов-5\"><span class=\"toc-item-num\">5&nbsp;&nbsp;</span>Датафрейм со стоимостью кликов</a></span></li><li><span><a href=\"#Результат-подготовки-данных.\" data-toc-modified-id=\"Результат-подготовки-данных.-6\"><span class=\"toc-item-num\">6&nbsp;&nbsp;</span>Результат подготовки данных.</a></span></li><li><span><a href=\"#Расчёт-и-анализ-показателей\" data-toc-modified-id=\"Расчёт-и-анализ-показателей-7\"><span class=\"toc-item-num\">7&nbsp;&nbsp;</span>Расчёт и анализ показателей</a></span><ul class=\"toc-item\"><li><span><a href=\"#количество-пользователей-и-количество-событий-в-исследуемом-периоде;\" data-toc-modified-id=\"количество-пользователей-и-количество-событий-в-исследуемом-периоде;-7.1\"><span class=\"toc-item-num\">7.1&nbsp;&nbsp;</span>количество пользователей и количество событий в исследуемом периоде;</a></span></li><li><span><a href=\"#количество-пользователей,-завершивших-игру-в-целом;\" data-toc-modified-id=\"количество-пользователей,-завершивших-игру-в-целом;-7.2\"><span class=\"toc-item-num\">7.2&nbsp;&nbsp;</span>количество пользователей, завершивших игру в целом;</a></span></li><li><span><a href=\"#анализ-событий-в-игре;\" data-toc-modified-id=\"анализ-событий-в-игре;-7.3\"><span class=\"toc-item-num\">7.3&nbsp;&nbsp;</span>анализ событий в игре;</a></span></li><li><span><a href=\"#количество-построенных-объектов-за-весь-период;\" data-toc-modified-id=\"количество-построенных-объектов-за-весь-период;-7.4\"><span class=\"toc-item-num\">7.4&nbsp;&nbsp;</span>количество построенных объектов за весь период;</a></span></li><li><span><a href=\"#анализ-источников-трафика;\" data-toc-modified-id=\"анализ-источников-трафика;-7.5\"><span class=\"toc-item-num\">7.5&nbsp;&nbsp;</span>анализ источников трафика;</a></span></li><li><span><a href=\"#исследование-активности-пользователей-во-времени;\" data-toc-modified-id=\"исследование-активности-пользователей-во-времени;-7.6\"><span class=\"toc-item-num\">7.6&nbsp;&nbsp;</span>исследование активности пользователей во времени;</a></span></li><li><span><a href=\"#Выводы--раздела-Исследовательский-анализ\" data-toc-modified-id=\"Выводы--раздела-Исследовательский-анализ-7.7\"><span class=\"toc-item-num\">7.7&nbsp;&nbsp;</span>Выводы  раздела Исследовательский анализ</a></span></li></ul></li><li><span><a href=\"#Расчет-метрик\" data-toc-modified-id=\"Расчет-метрик-8\"><span class=\"toc-item-num\">8&nbsp;&nbsp;</span>Расчет метрик</a></span><ul class=\"toc-item\"><li><span><a href=\"#расчёт-доходной-части;\" data-toc-modified-id=\"расчёт-доходной-части;-8.1\"><span class=\"toc-item-num\">8.1&nbsp;&nbsp;</span>расчёт доходной части;</a></span></li><li><span><a href=\"#активность-игроков-в-исследуемом-периоде;\" data-toc-modified-id=\"активность-игроков-в-исследуемом-периоде;-8.2\"><span class=\"toc-item-num\">8.2&nbsp;&nbsp;</span>активность игроков в исследуемом периоде;</a></span></li><li><span><a href=\"#CAC\" data-toc-modified-id=\"CAC-8.3\"><span class=\"toc-item-num\">8.3&nbsp;&nbsp;</span>CAC</a></span></li><li><span><a href=\"#ROMI\" data-toc-modified-id=\"ROMI-8.4\"><span class=\"toc-item-num\">8.4&nbsp;&nbsp;</span>ROMI</a></span></li><li><span><a href=\"#Вывод-по-исследованию-эффективности-рекламной-кампании.\" data-toc-modified-id=\"Вывод-по-исследованию-эффективности-рекламной-кампании.-8.5\"><span class=\"toc-item-num\">8.5&nbsp;&nbsp;</span>Вывод по исследованию эффективности рекламной кампании.</a></span></li></ul></li><li><span><a href=\"#Анализ-стратегий-в-разрезе-времени.\" data-toc-modified-id=\"Анализ-стратегий-в-разрезе-времени.-9\"><span class=\"toc-item-num\">9&nbsp;&nbsp;</span>Анализ стратегий в разрезе времени.</a></span><ul class=\"toc-item\"><li><span><a href=\"#Выводы-из-анализа-стратегий-по-времени\" data-toc-modified-id=\"Выводы-из-анализа-стратегий-по-времени-9.1\"><span class=\"toc-item-num\">9.1&nbsp;&nbsp;</span>Выводы из анализа стратегий по времени</a></span></li></ul></li><li><span><a href=\"#Менеджером-представлена-к-анализу-гипотеза-различия-времени-прохождения-уровня-между-пользователями,-которые-заканчивают-уровень-через-реализацию-проекта,-и-пользователями,-которые-заканчивают-уровень-победой-над-другим-игроком.\" data-toc-modified-id=\"Менеджером-представлена-к-анализу-гипотеза-различия-времени-прохождения-уровня-между-пользователями,-которые-заканчивают-уровень-через-реализацию-проекта,-и-пользователями,-которые-заканчивают-уровень-победой-над-другим-игроком.-10\"><span class=\"toc-item-num\">10&nbsp;&nbsp;</span><strong>Менеджером представлена к анализу гипотеза</strong> различия времени прохождения уровня между пользователями, которые заканчивают уровень через реализацию проекта, и пользователями, которые заканчивают уровень победой над другим игроком.</a></span></li><li><span><a href=\"#Дополнительная-гипотеза-для-анализа:-различие-в-количестве-построенных-объектов-между-пользователями,-которые-заканчивают-уровень-через-реализацию-проекта,-и-пользователями,-которые-заканчивают-уровень-победой-над-другим-игроком.\" data-toc-modified-id=\"Дополнительная-гипотеза-для-анализа:-различие-в-количестве-построенных-объектов-между-пользователями,-которые-заканчивают-уровень-через-реализацию-проекта,-и-пользователями,-которые-заканчивают-уровень-победой-над-другим-игроком.-11\"><span class=\"toc-item-num\">11&nbsp;&nbsp;</span><strong>Дополнительная гипотеза для анализа:</strong> различие в количестве построенных объектов между пользователями, которые заканчивают уровень через реализацию проекта, и пользователями, которые заканчивают уровень победой над другим игроком.</a></span></li><li><span><a href=\"#Вывод\" data-toc-modified-id=\"Вывод-12\"><span class=\"toc-item-num\">12&nbsp;&nbsp;</span>Вывод</a></span></li></ul></div>"
   ]
  },
  {
   "cell_type": "markdown",
   "id": "9af209d4",
   "metadata": {},
   "source": [
    "# 🎲 Формирование модели монетизации"
   ]
  },
  {
   "cell_type": "markdown",
   "id": "f381558a",
   "metadata": {
    "tags": []
   },
   "source": [
    "<a id = id_1></a>\n",
    "## Задача\n",
    "\n",
    "**сформировать модель монетизации игрового приложения.**"
   ]
  },
  {
   "cell_type": "markdown",
   "id": "44baeaae",
   "metadata": {},
   "source": [
    "**Какой способ монетизации выбрать для стартапа.** \n",
    "\n",
    "Уже на стадии идеи фаундер должен понимать, как можно на ней заработать. Монетизация формулирует ответ на ключевой вопрос — кто и за что платит стартапу. Чем скорее проект начинает зарабатывать, тем быстрее он развивается. Рост стартапа представляет собой своеобразный симбиоз: как потребители должны чувствовать ценность продукта, так и фаундер должен получать от них равнозначную ценность.\n",
    "\n",
    "**Реклама.**\n",
    "\n",
    "Источником дохода при реализации модели является размещение рекламы на ресурсе стартапа или с его помощью. Основная сложность способа монетизации заключается в том, что часто проект привлекает одну аудиторию, а зарабатывать вынужден на другой. Чтобы рекламодатели вкладывали в свои кампании большие бюджеты, необходимо стремиться к доминированию в конкретной нише, что достаточно трудно начинающему стартапу.\n",
    "\n",
    "Одной из разновидностей рекламной модели является **лидогенерация — источником дохода в этом случае выступает комиссия за целевое действие посетителя ресурса стартапа:** звонок поставщику товаров или услуг, заявка на покупку, подписка на рассылку, передача контактных данных и так далее.\n",
    "\n",
    "Этот способ монетизации, на первый взгляд, схож с транзакционной моделью, где стартап выступает посредником. Но между ними есть принципиальное различие: транзакция предусматривает обязательное совершение сделки, в случае с лидами клиент является потенциальным («подогретым»), он только проявляет интерес и неизвестно, станет ли фактическим покупателем.\n",
    "\n",
    "Примеры компаний, применяющих рекламную модель:\n",
    "\n",
    "поисковые системы («Яндекс», Google, Mail.Ru);\n",
    "соцсети (Instagram, vk, Facebook, «Одноклассники»);\n",
    "агрегаторы информации — лидогенераторы, сайты, приложения (Banki.ru. «Сравни.ру», «КупонГид», информационные ресурсы на определенную тематику);\n",
    "платформы с объявлениями («Авито»).\n",
    "\n",
    "**Преимущества:**\n",
    "\n",
    "1. первая прибыль появляется быстро;\n",
    "2. реализация модели не требует высоких начальных вложений, проста в исполнении;\n",
    "3. при лидерстве среди конкурентов рекламная модель высокорентабельна;\n",
    "4. автоматизированный режим демонстрации рекламы.\n",
    "\n",
    "**Недостатки:**\n",
    "\n",
    "1. требуется наращивать обширную аудиторию, чтобы представлять интерес для рекламодателей;\n",
    "2. необходимо большое количество тестов и экспериментов;\n",
    "3. невысокий доход.\n",
    "\n",
    "Источник: https://admitad.pro/ru/blog/monetizatsiya-startapa"
   ]
  },
  {
   "cell_type": "markdown",
   "id": "9e997f1c",
   "metadata": {},
   "source": [
    "## Описание ситуации и постановка задачи.\n",
    "\n",
    "Заказчик - менеджер продукта.\n",
    "\n",
    "В настоящее время в игре рекламы нет. Менеджером уже предлагается модель монетизации. Стоимость одного показа фиксирована - 0,07 условного цента. Предполагается, что в приложении будет происходить показ рекламы на экране с выбором типа объекта для постройки:\n",
    "\n",
    "- `building_type` — один из трёх типов здания:\n",
    "    1. `assembly_shop` — сборочный цех,\n",
    "    2. `spaceport` — космопорт,\n",
    "    3. `research_center` — исследовательский центр.\n",
    "    \n",
    "В датасете представлены данные по игре пользователей на первом уровне. Завершение первого уровня требует от игрока выполнения одного из двух условий:\n",
    "\n",
    "- Победа над первым врагом\n",
    "- Реализация проекта - разработка орбитальной сборки спутников\n",
    "\n",
    "В датасете содержатся данные первых пользователей приложения — когорты пользователей, которые начали пользоваться приложением в период с 4 по 10 мая включительно. Известно, что отдел маркетинга производит авансовые платежи, поэтому присутствет разрыв в датировках. Не существует варианта убить и пройти. Строительство обязательно.    \n",
    "\n",
    "Незавершение уровня - не означает отток, так как срез данных относится только к первому уровню.\n",
    "\n",
    "Наибольший интерес представляет переход к следующему уровню. **Целевое действие** - переход на второй уровень.\n",
    "\n",
    "Стоят задачи:\n",
    "\n",
    "1. подтвердить либо не подтвердить в процессе исследования предложенную заказчиком стратегию и гипотезу. Представить анализ собственной гипотезы.\n",
    "\n",
    "**Менеджером представлена к анализу гипотеза** различия времени прохождения уровня между пользователями, которые заканчивают уровень через реализацию проекта, и пользователями, которые заканчивают уровень победой над другим игроком.\n",
    "\n",
    "**Дополнительная гипотезе для анализа:** различие в количестве построенных объектов между пользователями, которые заканчивают уровень через реализацию проекта, и пользователями, которые заканчивают уровень победой над другим игроком.\n",
    "\n",
    "2. необходимо охарактеризовать пользователя. По возможности дать рекомендации по удержанию."
   ]
  },
  {
   "cell_type": "markdown",
   "id": "009e3124",
   "metadata": {},
   "source": [
    "<a id = id_1></a>\n",
    "### Первичное знакомство с данными"
   ]
  },
  {
   "cell_type": "code",
   "execution_count": 1,
   "id": "d998fe16",
   "metadata": {},
   "outputs": [],
   "source": [
    "# импорт библиотек\n",
    "import plotly.express as px\n",
    "from plotly import graph_objects as go\n",
    "import pandas as pd\n",
    "import numpy as np\n",
    "import math\n",
    "import time\n",
    "from datetime import datetime\n",
    "from datetime import date, timedelta as td\n",
    "from matplotlib import pyplot as plt\n",
    "import seaborn as sns\n",
    "from tqdm import tqdm\n",
    "%matplotlib inline\n",
    "import re\n",
    "import scipy.stats as stats\n",
    "from pandas.plotting import register_matplotlib_converters\n",
    "import os\n",
    "from scipy import stats as st\n",
    "import warnings\n",
    "warnings.filterwarnings(\"ignore\")"
   ]
  },
  {
   "cell_type": "code",
   "execution_count": 2,
   "id": "63e24ce4-f3fc-478c-b5e6-c6e600c3564c",
   "metadata": {},
   "outputs": [],
   "source": [
    "pd.options.mode.chained_assignment = None "
   ]
  },
  {
   "cell_type": "code",
   "execution_count": 3,
   "id": "d8434a7c-7b0b-4a7e-96ed-ee4290d2e8c0",
   "metadata": {},
   "outputs": [],
   "source": [
    "pd.options.display.max_colwidth = 600"
   ]
  },
  {
   "cell_type": "code",
   "execution_count": 4,
   "id": "d90462a3-dc25-40b7-97ad-aeb894347a27",
   "metadata": {},
   "outputs": [],
   "source": [
    "pd.set_option('display.max_columns', None)\n",
    "pd.options.display.float_format = '{:,.2f}'.format"
   ]
  },
  {
   "cell_type": "markdown",
   "id": "c85801d2",
   "metadata": {},
   "source": [
    "Ознакомимся с данными, прочтём все датафреймы"
   ]
  },
  {
   "cell_type": "code",
   "execution_count": 5,
   "id": "cda08ffc",
   "metadata": {},
   "outputs": [],
   "source": [
    "data_game_actions = pd.read_csv('/datasets/game_actions.csv')"
   ]
  },
  {
   "cell_type": "code",
   "execution_count": 6,
   "id": "1d348c66",
   "metadata": {},
   "outputs": [],
   "source": [
    "data_ad_costs = pd.read_csv('/datasets/ad_costs.csv')"
   ]
  },
  {
   "cell_type": "code",
   "execution_count": 7,
   "id": "b4896619",
   "metadata": {},
   "outputs": [],
   "source": [
    "data_user_source = pd.read_csv('/datasets/user_source.csv')"
   ]
  },
  {
   "cell_type": "markdown",
   "id": "d0eb8b17",
   "metadata": {},
   "source": [
    "Каждый блок рассмотрим отдельно, составим рекомендации для анализа"
   ]
  },
  {
   "cell_type": "code",
   "execution_count": 8,
   "id": "debab238",
   "metadata": {},
   "outputs": [
    {
     "name": "stdout",
     "output_type": "stream",
     "text": [
      "<class 'pandas.core.frame.DataFrame'>\n",
      "RangeIndex: 135640 entries, 0 to 135639\n",
      "Data columns (total 5 columns):\n",
      " #   Column          Non-Null Count   Dtype \n",
      "---  ------          --------------   ----- \n",
      " 0   event_datetime  135640 non-null  object\n",
      " 1   event           135640 non-null  object\n",
      " 2   building_type   127957 non-null  object\n",
      " 3   user_id         135640 non-null  object\n",
      " 4   project_type    1866 non-null    object\n",
      "dtypes: object(5)\n",
      "memory usage: 5.2+ MB\n"
     ]
    }
   ],
   "source": [
    "# 1 данные о событиях, совершенных в игровом приложении.\n",
    "data_game_actions.info()"
   ]
  },
  {
   "cell_type": "markdown",
   "id": "1272870f",
   "metadata": {},
   "source": [
    "Основной датасет содержит данные о событиях, совершенных в мобильной игре.\n",
    "\n",
    "Основная монетизация игры — только планируется. Но предполагается, что в приложении будет происходить показ рекламы на экране с выбором типа объекта для постройки.\n",
    "\n",
    "В датасете представлены данные по игре пользователей на первом уровне. Завершение первого уровня требует от игрока выполнения одного из двух условий:\n",
    "\n",
    "- Победа над первым врагом\n",
    "- Реализация проекта - разработка орбитальной сборки спутников\n",
    "\n",
    "В датасете содержатся данные первых пользователей приложения — когорты пользователей, которые начали пользоваться приложением в период с 4 по 10 мая включительно.\n",
    "\n",
    "- `event_datetime` — время события;\n",
    "- `event` — одно из трёх событий:\n",
    "    1. `building` — объект построен,\n",
    "    2. `finished_stage_1` — первый уровень завершён,\n",
    "    3. `project` — проект завершён;\n",
    "- `building_type` — один из трёх типов здания:\n",
    "    1. `assembly_shop` — сборочный цех,\n",
    "    2. `spaceport` — космопорт,\n",
    "    3. `research_center` — исследовательский центр;\n",
    "- `user_id` — идентификатор пользователя;\n",
    "- `project_type` — тип реализованного проекта;"
   ]
  },
  {
   "cell_type": "markdown",
   "id": "d877b174",
   "metadata": {},
   "source": [
    "**Датафрейм с действиями пользователей** содержит 135640 строк и 5 столбцов. Данные представлены за период 04.05.2020-05.06.2020"
   ]
  },
  {
   "cell_type": "code",
   "execution_count": 9,
   "id": "d2e1d4d2",
   "metadata": {},
   "outputs": [
    {
     "name": "stdout",
     "output_type": "stream",
     "text": [
      "<class 'pandas.core.frame.DataFrame'>\n",
      "RangeIndex: 13576 entries, 0 to 13575\n",
      "Data columns (total 2 columns):\n",
      " #   Column   Non-Null Count  Dtype \n",
      "---  ------   --------------  ----- \n",
      " 0   user_id  13576 non-null  object\n",
      " 1   source   13576 non-null  object\n",
      "dtypes: object(2)\n",
      "memory usage: 212.2+ KB\n"
     ]
    }
   ],
   "source": [
    "#2 Сведения об источниках, с которых пришёл пользователь, установивший приложение\n",
    "data_user_source.info()"
   ]
  },
  {
   "cell_type": "markdown",
   "id": "05854179",
   "metadata": {},
   "source": [
    "Датасет user_source.csv содержит колонки:\n",
    "\n",
    "- `user_id` - идентификатор пользователя\n",
    "- `source` - источников, с которого пришёл пользователь, установивший приложение."
   ]
  },
  {
   "cell_type": "markdown",
   "id": "fb27a294",
   "metadata": {},
   "source": [
    "Датафрейм со сведениями об источниках, с которых пришёл пользователь, содержит 13576 строк и 2 колонки. "
   ]
  },
  {
   "cell_type": "code",
   "execution_count": 10,
   "id": "4d1cef04",
   "metadata": {
    "scrolled": true
   },
   "outputs": [
    {
     "name": "stdout",
     "output_type": "stream",
     "text": [
      "<class 'pandas.core.frame.DataFrame'>\n",
      "RangeIndex: 28 entries, 0 to 27\n",
      "Data columns (total 3 columns):\n",
      " #   Column  Non-Null Count  Dtype  \n",
      "---  ------  --------------  -----  \n",
      " 0   source  28 non-null     object \n",
      " 1   day     28 non-null     object \n",
      " 2   cost    28 non-null     float64\n",
      "dtypes: float64(1), object(2)\n",
      "memory usage: 800.0+ bytes\n"
     ]
    }
   ],
   "source": [
    "# 3 информация о кликах\n",
    "data_ad_costs.info()"
   ]
  },
  {
   "cell_type": "markdown",
   "id": "37854137",
   "metadata": {},
   "source": [
    "Датасет *ad_cost.csv* содержит колонки:\n",
    "\n",
    "- `day` - день, в который был совершен клик по объявлению\n",
    "- `source` - источник трафика\n",
    "- `cost` - стоимость кликов"
   ]
  },
  {
   "cell_type": "markdown",
   "id": "f9a69542",
   "metadata": {},
   "source": [
    "**Датафрейм с информацией о стоимости кликов содержит 28 строк и 3 колонки.** Данные представлены с 03.05.2020 - 09.05.2020г. "
   ]
  },
  {
   "cell_type": "markdown",
   "id": "31315d02",
   "metadata": {},
   "source": [
    "<a id = id_1></a>\n",
    "### Мероприятия по подготовке данных\n",
    "\n",
    "**Датафрейм с действиями пользователей**. Требуется замена типа данных и работа с пропусками. Проверка дубликатов не выявлены. event_datetime замена типа данных на даты. Пропуски содержатся в building_type(Missing\t7683, Missing (%)\t5.7%), project_type (Missing\t133774, Missing (%)\t98.6%) данные свидетельствуют о выполнении отдельных стадий миссии, отсутствие данных - \"не построено здание, не указан тип\". Предлагаю вместо пропусков проставить показатели \"неисполнения\". event_datetime выделить дату.\n",
    "\n",
    "**Датафрейм со сведениями об источниках, с которых пришёл пользователь** - действий не требуется.\n",
    "\n",
    "**Датафрейм с информацией о стоимости кликов.** Требуется замена типа данных day на дату."
   ]
  },
  {
   "cell_type": "markdown",
   "id": "cb801911-c8e3-4ae5-ae09-b080032475cd",
   "metadata": {},
   "source": [
    "<a id = id_1></a>\n",
    "# Подготовка данных:"
   ]
  },
  {
   "cell_type": "markdown",
   "id": "08286922-5822-4b47-9fb3-51226124222b",
   "metadata": {},
   "source": [
    "## Основной датафрем с активностью пользователей"
   ]
  },
  {
   "cell_type": "markdown",
   "id": "baace51e-8dec-4885-a7f9-a43e780fe0fd",
   "metadata": {},
   "source": [
    "Работа с пропусками"
   ]
  },
  {
   "cell_type": "code",
   "execution_count": 11,
   "id": "ce88dd14-52d1-4a2c-bad4-2838f8c1d17f",
   "metadata": {},
   "outputs": [
    {
     "data": {
      "text/plain": [
       "event_datetime         0\n",
       "event                  0\n",
       "building_type       7683\n",
       "user_id                0\n",
       "project_type      133774\n",
       "dtype: int64"
      ]
     },
     "execution_count": 11,
     "metadata": {},
     "output_type": "execute_result"
    }
   ],
   "source": [
    "# просмотрим пропуски\n",
    "data_game_actions.isna().sum()"
   ]
  },
  {
   "cell_type": "markdown",
   "id": "91ab3369-c643-4b36-b00e-754afde89baf",
   "metadata": {},
   "source": [
    "В данном случае, отсутствие информации говорит об остановке пользователя на определённом этапе, и тоже является свидетельством о прогрессе. Произведу замену на обозначение 'none'."
   ]
  },
  {
   "cell_type": "code",
   "execution_count": 12,
   "id": "d73d0894-51b6-461e-bd55-506d55aeaa7f",
   "metadata": {},
   "outputs": [],
   "source": [
    "data_game_actions['building_type'] = data_game_actions['building_type'].fillna('no_building')"
   ]
  },
  {
   "cell_type": "code",
   "execution_count": 13,
   "id": "4c9aa95b-b736-4548-8e82-117a61db4d2f",
   "metadata": {},
   "outputs": [],
   "source": [
    "data_game_actions['project_type'] = data_game_actions['project_type'].fillna('no_finished_project')"
   ]
  },
  {
   "cell_type": "code",
   "execution_count": 14,
   "id": "863e877a-d55c-451a-8ea6-7cb2f2a2ef8a",
   "metadata": {},
   "outputs": [
    {
     "data": {
      "text/plain": [
       "event_datetime    0\n",
       "event             0\n",
       "building_type     0\n",
       "user_id           0\n",
       "project_type      0\n",
       "dtype: int64"
      ]
     },
     "execution_count": 14,
     "metadata": {},
     "output_type": "execute_result"
    }
   ],
   "source": [
    "data_game_actions.isna().sum()"
   ]
  },
  {
   "cell_type": "markdown",
   "id": "b57631a4-9dfd-4335-9e8c-612cbfbe9503",
   "metadata": {},
   "source": [
    "Работа с дубликатами"
   ]
  },
  {
   "cell_type": "code",
   "execution_count": 15,
   "id": "3e4b119b-6c32-4495-973a-debaf360ef3c",
   "metadata": {},
   "outputs": [
    {
     "data": {
      "text/plain": [
       "1"
      ]
     },
     "execution_count": 15,
     "metadata": {},
     "output_type": "execute_result"
    }
   ],
   "source": [
    "# поищем дубликаты\n",
    "data_game_actions.duplicated().sum()"
   ]
  },
  {
   "cell_type": "code",
   "execution_count": 16,
   "id": "44179c85-85ef-4250-b4a4-dba02d679416",
   "metadata": {},
   "outputs": [
    {
     "data": {
      "text/html": [
       "<div>\n",
       "<style scoped>\n",
       "    .dataframe tbody tr th:only-of-type {\n",
       "        vertical-align: middle;\n",
       "    }\n",
       "\n",
       "    .dataframe tbody tr th {\n",
       "        vertical-align: top;\n",
       "    }\n",
       "\n",
       "    .dataframe thead th {\n",
       "        text-align: right;\n",
       "    }\n",
       "</style>\n",
       "<table border=\"1\" class=\"dataframe\">\n",
       "  <thead>\n",
       "    <tr style=\"text-align: right;\">\n",
       "      <th></th>\n",
       "      <th>event_datetime</th>\n",
       "      <th>event</th>\n",
       "      <th>building_type</th>\n",
       "      <th>user_id</th>\n",
       "      <th>project_type</th>\n",
       "    </tr>\n",
       "  </thead>\n",
       "  <tbody>\n",
       "    <tr>\n",
       "      <th>74890</th>\n",
       "      <td>2020-05-10 18:41:56</td>\n",
       "      <td>building</td>\n",
       "      <td>research_center</td>\n",
       "      <td>c9af55d2-b0ae-4bb4-b3d5-f32aa9ac03af</td>\n",
       "      <td>no_finished_project</td>\n",
       "    </tr>\n",
       "    <tr>\n",
       "      <th>74891</th>\n",
       "      <td>2020-05-10 18:41:56</td>\n",
       "      <td>building</td>\n",
       "      <td>research_center</td>\n",
       "      <td>c9af55d2-b0ae-4bb4-b3d5-f32aa9ac03af</td>\n",
       "      <td>no_finished_project</td>\n",
       "    </tr>\n",
       "  </tbody>\n",
       "</table>\n",
       "</div>"
      ],
      "text/plain": [
       "            event_datetime     event    building_type  \\\n",
       "74890  2020-05-10 18:41:56  building  research_center   \n",
       "74891  2020-05-10 18:41:56  building  research_center   \n",
       "\n",
       "                                    user_id         project_type  \n",
       "74890  c9af55d2-b0ae-4bb4-b3d5-f32aa9ac03af  no_finished_project  \n",
       "74891  c9af55d2-b0ae-4bb4-b3d5-f32aa9ac03af  no_finished_project  "
      ]
     },
     "execution_count": 16,
     "metadata": {},
     "output_type": "execute_result"
    }
   ],
   "source": [
    "# рассмотрим дубликат поближе\n",
    "data_game_actions[data_game_actions.duplicated(keep=False)]"
   ]
  },
  {
   "cell_type": "markdown",
   "id": "42bf4dfb-410f-44a6-a449-8d5b9b8fb836",
   "metadata": {},
   "source": [
    "Полная копия, единичный случай, думаю можно удалить."
   ]
  },
  {
   "cell_type": "code",
   "execution_count": 17,
   "id": "378f5c84-8855-4792-b251-a4670a1dc45a",
   "metadata": {},
   "outputs": [],
   "source": [
    "data_game_actions = data_game_actions.drop_duplicates()"
   ]
  },
  {
   "cell_type": "code",
   "execution_count": 18,
   "id": "9fb7c85e-6a5b-450d-b49a-d091cc57d6eb",
   "metadata": {},
   "outputs": [
    {
     "data": {
      "text/plain": [
       "0"
      ]
     },
     "execution_count": 18,
     "metadata": {},
     "output_type": "execute_result"
    }
   ],
   "source": [
    "# проверка\n",
    "data_game_actions.duplicated().sum()"
   ]
  },
  {
   "cell_type": "markdown",
   "id": "9c4a0a22-3c8d-48bb-8a21-47313a1f34a1",
   "metadata": {},
   "source": [
    "Замена формата данных"
   ]
  },
  {
   "cell_type": "code",
   "execution_count": 19,
   "id": "497cd446-1e06-450c-973a-959b9fd49259",
   "metadata": {},
   "outputs": [],
   "source": [
    "# замена формата данных\n",
    "data_game_actions['event_datetime'] = pd.to_datetime(data_game_actions['event_datetime'])"
   ]
  },
  {
   "cell_type": "code",
   "execution_count": 20,
   "id": "a03925e2-2065-4cc1-8748-d6728325eadd",
   "metadata": {},
   "outputs": [],
   "source": [
    "# создание столбца с датой\n",
    "data_game_actions['day'] = pd.to_datetime(data_game_actions['event_datetime']).dt.date"
   ]
  },
  {
   "cell_type": "code",
   "execution_count": 21,
   "id": "d5319bd9-ddf0-4b8e-8689-da824d81dbcd",
   "metadata": {},
   "outputs": [
    {
     "name": "stdout",
     "output_type": "stream",
     "text": [
      "<class 'pandas.core.frame.DataFrame'>\n",
      "Int64Index: 135639 entries, 0 to 135639\n",
      "Data columns (total 6 columns):\n",
      " #   Column          Non-Null Count   Dtype         \n",
      "---  ------          --------------   -----         \n",
      " 0   event_datetime  135639 non-null  datetime64[ns]\n",
      " 1   event           135639 non-null  object        \n",
      " 2   building_type   135639 non-null  object        \n",
      " 3   user_id         135639 non-null  object        \n",
      " 4   project_type    135639 non-null  object        \n",
      " 5   day             135639 non-null  object        \n",
      "dtypes: datetime64[ns](1), object(5)\n",
      "memory usage: 7.2+ MB\n"
     ]
    }
   ],
   "source": [
    "data_game_actions.info()"
   ]
  },
  {
   "cell_type": "code",
   "execution_count": 22,
   "id": "a872e455-4dae-4408-bbe0-9addc90eced3",
   "metadata": {},
   "outputs": [],
   "source": [
    "# замена формата данных\n",
    "data_game_actions['day'] = pd.to_datetime(data_game_actions['day'])"
   ]
  },
  {
   "cell_type": "code",
   "execution_count": 23,
   "id": "1c95a34f-697a-489c-adf0-236c4c228c07",
   "metadata": {},
   "outputs": [
    {
     "name": "stdout",
     "output_type": "stream",
     "text": [
      "<class 'pandas.core.frame.DataFrame'>\n",
      "Int64Index: 135639 entries, 0 to 135639\n",
      "Data columns (total 6 columns):\n",
      " #   Column          Non-Null Count   Dtype         \n",
      "---  ------          --------------   -----         \n",
      " 0   event_datetime  135639 non-null  datetime64[ns]\n",
      " 1   event           135639 non-null  object        \n",
      " 2   building_type   135639 non-null  object        \n",
      " 3   user_id         135639 non-null  object        \n",
      " 4   project_type    135639 non-null  object        \n",
      " 5   day             135639 non-null  datetime64[ns]\n",
      "dtypes: datetime64[ns](2), object(4)\n",
      "memory usage: 7.2+ MB\n"
     ]
    }
   ],
   "source": [
    "# проверка\n",
    "data_game_actions.info()"
   ]
  },
  {
   "cell_type": "code",
   "execution_count": 24,
   "id": "166874b6-c086-4e6f-8683-2227511565bf",
   "metadata": {},
   "outputs": [
    {
     "name": "stdout",
     "output_type": "stream",
     "text": [
      "Начальная дата из иссследуемых 2020-05-04 00:00:00\n"
     ]
    }
   ],
   "source": [
    "print(\"Начальная дата из иссследуемых\", data_game_actions['day'].min())"
   ]
  },
  {
   "cell_type": "code",
   "execution_count": 25,
   "id": "ca8ba78a-09c2-463d-9e97-d00a374ad608",
   "metadata": {},
   "outputs": [
    {
     "name": "stdout",
     "output_type": "stream",
     "text": [
      "Конечная дата из иссследуемых 2020-06-05 00:00:00\n"
     ]
    }
   ],
   "source": [
    "print(\"Конечная дата из иссследуемых\", data_game_actions['day'].max())"
   ]
  },
  {
   "cell_type": "markdown",
   "id": "e47a99e1-b3e1-4701-8b93-dd9e3c9a89f3",
   "metadata": {},
   "source": [
    "Проведена работа по выявлению и корректировке пропущенных значений. Пропуски заменены на позиции, свидетельствующие о неисполнении. Удалён 1 дубликат. Скорректирован тпи данных."
   ]
  },
  {
   "cell_type": "markdown",
   "id": "941c6937-8ff3-4f7a-8bf9-6798a85a0bcd",
   "metadata": {},
   "source": [
    "## Сведения об источниках, с которых пришёл пользователь, установивший приложение"
   ]
  },
  {
   "cell_type": "code",
   "execution_count": 26,
   "id": "503e28e5-1591-48ee-a228-e080d8acbb72",
   "metadata": {},
   "outputs": [
    {
     "name": "stdout",
     "output_type": "stream",
     "text": [
      "<class 'pandas.core.frame.DataFrame'>\n",
      "RangeIndex: 13576 entries, 0 to 13575\n",
      "Data columns (total 2 columns):\n",
      " #   Column   Non-Null Count  Dtype \n",
      "---  ------   --------------  ----- \n",
      " 0   user_id  13576 non-null  object\n",
      " 1   source   13576 non-null  object\n",
      "dtypes: object(2)\n",
      "memory usage: 212.2+ KB\n"
     ]
    }
   ],
   "source": [
    "#2 Сведения об источниках, с которых пришёл пользователь, установивший приложение\n",
    "data_user_source.info()"
   ]
  },
  {
   "cell_type": "code",
   "execution_count": 27,
   "id": "28d06a3b-f217-4247-a853-0ac063643e6e",
   "metadata": {},
   "outputs": [
    {
     "data": {
      "text/html": [
       "<div>\n",
       "<style scoped>\n",
       "    .dataframe tbody tr th:only-of-type {\n",
       "        vertical-align: middle;\n",
       "    }\n",
       "\n",
       "    .dataframe tbody tr th {\n",
       "        vertical-align: top;\n",
       "    }\n",
       "\n",
       "    .dataframe thead th {\n",
       "        text-align: right;\n",
       "    }\n",
       "</style>\n",
       "<table border=\"1\" class=\"dataframe\">\n",
       "  <thead>\n",
       "    <tr style=\"text-align: right;\">\n",
       "      <th></th>\n",
       "      <th>user_id</th>\n",
       "      <th>source</th>\n",
       "    </tr>\n",
       "  </thead>\n",
       "  <tbody>\n",
       "    <tr>\n",
       "      <th>0</th>\n",
       "      <td>0001f83c-c6ac-4621-b7f0-8a28b283ac30</td>\n",
       "      <td>facebook_ads</td>\n",
       "    </tr>\n",
       "    <tr>\n",
       "      <th>1</th>\n",
       "      <td>00151b4f-ba38-44a8-a650-d7cf130a0105</td>\n",
       "      <td>yandex_direct</td>\n",
       "    </tr>\n",
       "    <tr>\n",
       "      <th>2</th>\n",
       "      <td>001aaea6-3d14-43f1-8ca8-7f48820f17aa</td>\n",
       "      <td>youtube_channel_reklama</td>\n",
       "    </tr>\n",
       "    <tr>\n",
       "      <th>3</th>\n",
       "      <td>001d39dc-366c-4021-9604-6a3b9ff01e25</td>\n",
       "      <td>instagram_new_adverts</td>\n",
       "    </tr>\n",
       "    <tr>\n",
       "      <th>4</th>\n",
       "      <td>002f508f-67b6-479f-814b-b05f00d4e995</td>\n",
       "      <td>facebook_ads</td>\n",
       "    </tr>\n",
       "  </tbody>\n",
       "</table>\n",
       "</div>"
      ],
      "text/plain": [
       "                                user_id                   source\n",
       "0  0001f83c-c6ac-4621-b7f0-8a28b283ac30             facebook_ads\n",
       "1  00151b4f-ba38-44a8-a650-d7cf130a0105            yandex_direct\n",
       "2  001aaea6-3d14-43f1-8ca8-7f48820f17aa  youtube_channel_reklama\n",
       "3  001d39dc-366c-4021-9604-6a3b9ff01e25    instagram_new_adverts\n",
       "4  002f508f-67b6-479f-814b-b05f00d4e995             facebook_ads"
      ]
     },
     "execution_count": 27,
     "metadata": {},
     "output_type": "execute_result"
    }
   ],
   "source": [
    "data_user_source.head()"
   ]
  },
  {
   "cell_type": "code",
   "execution_count": 28,
   "id": "29cf54c6-1857-4e35-9cd2-3f0504eaf211",
   "metadata": {},
   "outputs": [
    {
     "data": {
      "text/plain": [
       "user_id    0\n",
       "source     0\n",
       "dtype: int64"
      ]
     },
     "execution_count": 28,
     "metadata": {},
     "output_type": "execute_result"
    }
   ],
   "source": [
    "# просмотрим пропуски\n",
    "data_user_source.isna().sum()"
   ]
  },
  {
   "cell_type": "code",
   "execution_count": 29,
   "id": "2511b5dc-5006-48bc-945c-b13e318cfe9f",
   "metadata": {},
   "outputs": [
    {
     "data": {
      "text/plain": [
       "0"
      ]
     },
     "execution_count": 29,
     "metadata": {},
     "output_type": "execute_result"
    }
   ],
   "source": [
    "# поищем дубликаты\n",
    "data_user_source.duplicated().sum()"
   ]
  },
  {
   "cell_type": "code",
   "execution_count": 30,
   "id": "a57d273f-48de-4599-b311-8c00135eeea2",
   "metadata": {},
   "outputs": [
    {
     "data": {
      "text/plain": [
       "source\n",
       "youtube_channel_reklama    2686\n",
       "facebook_ads               2726\n",
       "instagram_new_adverts      3347\n",
       "yandex_direct              4817\n",
       "Name: source, dtype: int64"
      ]
     },
     "execution_count": 30,
     "metadata": {},
     "output_type": "execute_result"
    }
   ],
   "source": [
    "data_user_source.groupby('source')['source'].count().sort_values()"
   ]
  },
  {
   "cell_type": "markdown",
   "id": "c6340fcb-5940-4b2a-b07b-12dd529bf021",
   "metadata": {},
   "source": [
    "Исследуются 4 источника трафика, yandex_direct \"привёл\" наибольшее количество пользователей, youtube_channel_reklama - наименьшее."
   ]
  },
  {
   "cell_type": "markdown",
   "id": "30e98dcc-aecc-43d2-aaa3-bf40c057adff",
   "metadata": {},
   "source": [
    "## Датафрейм со стоимостью кликов"
   ]
  },
  {
   "cell_type": "code",
   "execution_count": 31,
   "id": "d38a62a6-9618-4946-affc-3515bb493d7d",
   "metadata": {},
   "outputs": [
    {
     "name": "stdout",
     "output_type": "stream",
     "text": [
      "<class 'pandas.core.frame.DataFrame'>\n",
      "RangeIndex: 28 entries, 0 to 27\n",
      "Data columns (total 3 columns):\n",
      " #   Column  Non-Null Count  Dtype  \n",
      "---  ------  --------------  -----  \n",
      " 0   source  28 non-null     object \n",
      " 1   day     28 non-null     object \n",
      " 2   cost    28 non-null     float64\n",
      "dtypes: float64(1), object(2)\n",
      "memory usage: 800.0+ bytes\n"
     ]
    }
   ],
   "source": [
    "# 3 информация о кликах\n",
    "data_ad_costs.info()"
   ]
  },
  {
   "cell_type": "markdown",
   "id": "3a097291-4bbf-45a3-95f5-0bde43305295",
   "metadata": {},
   "source": [
    "Замена типа данных"
   ]
  },
  {
   "cell_type": "code",
   "execution_count": 32,
   "id": "efe9e802-de4a-4042-a0a3-caf87abd2804",
   "metadata": {},
   "outputs": [],
   "source": [
    "# замена формата данных\n",
    "data_ad_costs['day'] = pd.to_datetime(data_ad_costs['day'], format='%Y-%m-%d')"
   ]
  },
  {
   "cell_type": "code",
   "execution_count": 33,
   "id": "c1a112c1-4cd0-4c59-aad0-cb8e4e454748",
   "metadata": {},
   "outputs": [
    {
     "name": "stdout",
     "output_type": "stream",
     "text": [
      "<class 'pandas.core.frame.DataFrame'>\n",
      "RangeIndex: 28 entries, 0 to 27\n",
      "Data columns (total 3 columns):\n",
      " #   Column  Non-Null Count  Dtype         \n",
      "---  ------  --------------  -----         \n",
      " 0   source  28 non-null     object        \n",
      " 1   day     28 non-null     datetime64[ns]\n",
      " 2   cost    28 non-null     float64       \n",
      "dtypes: datetime64[ns](1), float64(1), object(1)\n",
      "memory usage: 800.0+ bytes\n"
     ]
    }
   ],
   "source": [
    "data_ad_costs.info()"
   ]
  },
  {
   "cell_type": "markdown",
   "id": "271c27a7-ff00-4c9f-ad3b-02f83833a2d7",
   "metadata": {},
   "source": [
    "Работа с пропусками и дубликатами"
   ]
  },
  {
   "cell_type": "code",
   "execution_count": 34,
   "id": "be1168b2-ac83-426d-bc25-bbd580d7fdba",
   "metadata": {},
   "outputs": [
    {
     "data": {
      "text/plain": [
       "source    0\n",
       "day       0\n",
       "cost      0\n",
       "dtype: int64"
      ]
     },
     "execution_count": 34,
     "metadata": {},
     "output_type": "execute_result"
    }
   ],
   "source": [
    "# просмотрим пропуски\n",
    "data_ad_costs.isna().sum()"
   ]
  },
  {
   "cell_type": "code",
   "execution_count": 35,
   "id": "4877308f-52bf-4476-80ae-aa15b024e617",
   "metadata": {},
   "outputs": [
    {
     "data": {
      "text/plain": [
       "0"
      ]
     },
     "execution_count": 35,
     "metadata": {},
     "output_type": "execute_result"
    }
   ],
   "source": [
    "# поищем дубликаты\n",
    "data_ad_costs.duplicated().sum()"
   ]
  },
  {
   "cell_type": "code",
   "execution_count": 36,
   "id": "69246072-9c94-4afd-af87-249f9f1b2d11",
   "metadata": {},
   "outputs": [
    {
     "data": {
      "text/plain": [
       "day\n",
       "2020-05-03    4\n",
       "2020-05-04    4\n",
       "2020-05-05    4\n",
       "2020-05-06    4\n",
       "2020-05-07    4\n",
       "2020-05-08    4\n",
       "2020-05-09    4\n",
       "Name: source, dtype: int64"
      ]
     },
     "execution_count": 36,
     "metadata": {},
     "output_type": "execute_result"
    }
   ],
   "source": [
    "data_ad_costs.groupby('day')['source'].count()"
   ]
  },
  {
   "cell_type": "code",
   "execution_count": 37,
   "id": "608c3548-0878-4d96-8042-05bcd0595a60",
   "metadata": {},
   "outputs": [
    {
     "data": {
      "text/plain": [
       "source\n",
       "youtube_channel_reklama   1,068.12\n",
       "facebook_ads              2,140.90\n",
       "instagram_new_adverts     2,161.44\n",
       "yandex_direct             2,233.11\n",
       "Name: cost, dtype: float64"
      ]
     },
     "execution_count": 37,
     "metadata": {},
     "output_type": "execute_result"
    }
   ],
   "source": [
    "data_ad_costs.groupby('source')['cost'].sum().sort_values()"
   ]
  },
  {
   "cell_type": "code",
   "execution_count": 38,
   "id": "dd7989a5-323b-4a43-a140-446e2ee55280",
   "metadata": {},
   "outputs": [
    {
     "data": {
      "text/html": [
       "<div>\n",
       "<style scoped>\n",
       "    .dataframe tbody tr th:only-of-type {\n",
       "        vertical-align: middle;\n",
       "    }\n",
       "\n",
       "    .dataframe tbody tr th {\n",
       "        vertical-align: top;\n",
       "    }\n",
       "\n",
       "    .dataframe thead th {\n",
       "        text-align: right;\n",
       "    }\n",
       "</style>\n",
       "<table border=\"1\" class=\"dataframe\">\n",
       "  <thead>\n",
       "    <tr style=\"text-align: right;\">\n",
       "      <th></th>\n",
       "      <th>source</th>\n",
       "      <th>day</th>\n",
       "      <th>cost</th>\n",
       "    </tr>\n",
       "  </thead>\n",
       "  <tbody>\n",
       "    <tr>\n",
       "      <th>14</th>\n",
       "      <td>yandex_direct</td>\n",
       "      <td>2020-05-03</td>\n",
       "      <td>969.14</td>\n",
       "    </tr>\n",
       "    <tr>\n",
       "      <th>15</th>\n",
       "      <td>yandex_direct</td>\n",
       "      <td>2020-05-04</td>\n",
       "      <td>554.65</td>\n",
       "    </tr>\n",
       "    <tr>\n",
       "      <th>16</th>\n",
       "      <td>yandex_direct</td>\n",
       "      <td>2020-05-05</td>\n",
       "      <td>308.23</td>\n",
       "    </tr>\n",
       "    <tr>\n",
       "      <th>17</th>\n",
       "      <td>yandex_direct</td>\n",
       "      <td>2020-05-06</td>\n",
       "      <td>180.92</td>\n",
       "    </tr>\n",
       "    <tr>\n",
       "      <th>18</th>\n",
       "      <td>yandex_direct</td>\n",
       "      <td>2020-05-07</td>\n",
       "      <td>114.43</td>\n",
       "    </tr>\n",
       "    <tr>\n",
       "      <th>19</th>\n",
       "      <td>yandex_direct</td>\n",
       "      <td>2020-05-08</td>\n",
       "      <td>62.96</td>\n",
       "    </tr>\n",
       "    <tr>\n",
       "      <th>20</th>\n",
       "      <td>yandex_direct</td>\n",
       "      <td>2020-05-09</td>\n",
       "      <td>42.78</td>\n",
       "    </tr>\n",
       "  </tbody>\n",
       "</table>\n",
       "</div>"
      ],
      "text/plain": [
       "           source        day   cost\n",
       "14  yandex_direct 2020-05-03 969.14\n",
       "15  yandex_direct 2020-05-04 554.65\n",
       "16  yandex_direct 2020-05-05 308.23\n",
       "17  yandex_direct 2020-05-06 180.92\n",
       "18  yandex_direct 2020-05-07 114.43\n",
       "19  yandex_direct 2020-05-08  62.96\n",
       "20  yandex_direct 2020-05-09  42.78"
      ]
     },
     "execution_count": 38,
     "metadata": {},
     "output_type": "execute_result"
    }
   ],
   "source": [
    "(data_ad_costs.query('source == \"yandex_direct\"'))"
   ]
  },
  {
   "cell_type": "code",
   "execution_count": 39,
   "id": "deef3d71-b0b0-47f9-94ed-9409edbdb95a",
   "metadata": {},
   "outputs": [
    {
     "name": "stdout",
     "output_type": "stream",
     "text": [
      "Конечная дата из иссследуемых в расходах 2020-05-09 00:00:00\n"
     ]
    }
   ],
   "source": [
    "print(\"Конечная дата из иссследуемых в расходах\", data_ad_costs['day'].max())"
   ]
  },
  {
   "cell_type": "code",
   "execution_count": 40,
   "id": "5f3f44b4-8fc0-4760-aaf4-bf82552fb5b5",
   "metadata": {},
   "outputs": [
    {
     "name": "stdout",
     "output_type": "stream",
     "text": [
      "Начальная дата из иссследуемых в расходах 2020-05-03 00:00:00\n"
     ]
    }
   ],
   "source": [
    "print(\"Начальная дата из иссследуемых в расходах\", data_ad_costs['day'].min())"
   ]
  },
  {
   "cell_type": "markdown",
   "id": "bcfd3d45-3c57-4d84-8c0c-bcfef83063ea",
   "metadata": {},
   "source": [
    "Замена типа данных произведена. Анализируется 7-мидневный период: начальная дата из исследуемых в расходах 2020-05-03, конечная дата из иссследуемых в расходах 2020-05-09. Каждый из 4 источников был активен. Наибольшая стоимость у yandex_direct, наименьшая -  youtube_channel_reklama."
   ]
  },
  {
   "cell_type": "markdown",
   "id": "c4ede774-4acd-4320-a67d-e2cfd03e5bdb",
   "metadata": {},
   "source": [
    "## Результат подготовки данных.\n",
    "\n",
    "Обобщение информации по пункту «Подготовка данных»:\n",
    "\n",
    "Датафрейм с активностью пользователей: проведена работа по выявлению и корректировке пропущенных значений. Пропуски заменены, так как являются информативными для дальнейших целей исследования. Удалён 1 дубликат. Начальная дата из исследуемых 2020-05-04, конечная дата из исследуемых 2020-06-05.\n",
    "\n",
    "Сведения об источниках, с которых пришёл пользователь, установивший приложение: пропуски, дубликаты, необходимость замены типа данных не выявлены. Исследуются 4 источника трафика, yandex_direct \"привёл\" наибольшее количество пользователей, youtube_channel_reklama - наименьшее.\n",
    "\n",
    "Датафрейм со стоимостью кликов: пропуски, дубликаты, необходимость замены типа данных не выявлены. Анализируется 7-мидневный период: начальная дата из исследуемых в расходах 2020-05-03, конечная дата из исследуемых в расходах 2020-05-09. Каждый из 4 источников был активен. Наибольшая стоимость у yandex_direct, наименьшая -  youtube_channel_reklama."
   ]
  },
  {
   "cell_type": "markdown",
   "id": "dc1a7b4e-5a2e-4206-8929-2ee69158df51",
   "metadata": {},
   "source": [
    "# Исследовательский анализ данных"
   ]
  },
  {
   "cell_type": "markdown",
   "id": "0dede7fe-ba77-44f2-b758-03735a7843a6",
   "metadata": {},
   "source": [
    "## Расчёт и анализ показателей"
   ]
  },
  {
   "cell_type": "markdown",
   "id": "74d5b752-d4c9-45f4-a2ca-a055a12593d8",
   "metadata": {},
   "source": [
    "### количество пользователей и количество событий в исследуемом периоде;"
   ]
  },
  {
   "cell_type": "code",
   "execution_count": 41,
   "id": "47950157-3d22-4237-a50c-47c06e7bee31",
   "metadata": {},
   "outputs": [
    {
     "data": {
      "text/html": [
       "<div>\n",
       "<style scoped>\n",
       "    .dataframe tbody tr th:only-of-type {\n",
       "        vertical-align: middle;\n",
       "    }\n",
       "\n",
       "    .dataframe tbody tr th {\n",
       "        vertical-align: top;\n",
       "    }\n",
       "\n",
       "    .dataframe thead th {\n",
       "        text-align: right;\n",
       "    }\n",
       "</style>\n",
       "<table border=\"1\" class=\"dataframe\">\n",
       "  <thead>\n",
       "    <tr style=\"text-align: right;\">\n",
       "      <th></th>\n",
       "      <th>event_datetime</th>\n",
       "      <th>event</th>\n",
       "      <th>building_type</th>\n",
       "      <th>user_id</th>\n",
       "      <th>project_type</th>\n",
       "      <th>day</th>\n",
       "    </tr>\n",
       "  </thead>\n",
       "  <tbody>\n",
       "    <tr>\n",
       "      <th>0</th>\n",
       "      <td>2020-05-04 00:00:01</td>\n",
       "      <td>building</td>\n",
       "      <td>assembly_shop</td>\n",
       "      <td>55e92310-cb8e-4754-b622-597e124b03de</td>\n",
       "      <td>no_finished_project</td>\n",
       "      <td>2020-05-04</td>\n",
       "    </tr>\n",
       "    <tr>\n",
       "      <th>1</th>\n",
       "      <td>2020-05-04 00:00:03</td>\n",
       "      <td>building</td>\n",
       "      <td>assembly_shop</td>\n",
       "      <td>c07b1c10-f477-44dc-81dc-ec82254b1347</td>\n",
       "      <td>no_finished_project</td>\n",
       "      <td>2020-05-04</td>\n",
       "    </tr>\n",
       "  </tbody>\n",
       "</table>\n",
       "</div>"
      ],
      "text/plain": [
       "       event_datetime     event  building_type  \\\n",
       "0 2020-05-04 00:00:01  building  assembly_shop   \n",
       "1 2020-05-04 00:00:03  building  assembly_shop   \n",
       "\n",
       "                                user_id         project_type        day  \n",
       "0  55e92310-cb8e-4754-b622-597e124b03de  no_finished_project 2020-05-04  \n",
       "1  c07b1c10-f477-44dc-81dc-ec82254b1347  no_finished_project 2020-05-04  "
      ]
     },
     "execution_count": 41,
     "metadata": {},
     "output_type": "execute_result"
    }
   ],
   "source": [
    "data_game_actions.head(2)"
   ]
  },
  {
   "cell_type": "code",
   "execution_count": 42,
   "id": "6fe12fc5-cb76-4d14-87ec-aeb30e437fe5",
   "metadata": {},
   "outputs": [
    {
     "name": "stdout",
     "output_type": "stream",
     "text": [
      "Количество уникальных пользователей в исследуемом периоде: 13576\n"
     ]
    }
   ],
   "source": [
    "print(\"Количество уникальных пользователей в исследуемом периоде:\",(data_game_actions['user_id'].nunique()))"
   ]
  },
  {
   "cell_type": "code",
   "execution_count": 43,
   "id": "d7621f5b-bdbd-4b34-97c3-e157d4ca8ae6",
   "metadata": {},
   "outputs": [
    {
     "name": "stdout",
     "output_type": "stream",
     "text": [
      "Количество событий в исследуемом периоде: 135639\n"
     ]
    }
   ],
   "source": [
    "print(\"Количество событий в исследуемом периоде:\",data_game_actions['event_datetime'].count())"
   ]
  },
  {
   "cell_type": "markdown",
   "id": "1761c261-91f9-4cdf-b95a-25d28dda9ac4",
   "metadata": {},
   "source": [
    "### количество пользователей, завершивших игру в целом;"
   ]
  },
  {
   "cell_type": "markdown",
   "id": "4aa75e66-01d1-460a-8fe6-bf556f3d0943",
   "metadata": {},
   "source": [
    "Завершение первого уровня требует от игрока выполнения одного из двух условий:\n",
    "\n",
    "- Победа над первым врагом - агрессивная стретегия - aggressive_strategyaggressive_strategy.\n",
    "- Реализация проекта - разработка орбитальной сборки спутников - стратегия проекта - project_strategy."
   ]
  },
  {
   "cell_type": "code",
   "execution_count": 44,
   "id": "d3ccfafc-f95b-4254-92eb-dd3730aa99ac",
   "metadata": {},
   "outputs": [
    {
     "name": "stdout",
     "output_type": "stream",
     "text": [
      "<class 'pandas.core.frame.DataFrame'>\n",
      "Int64Index: 7683 entries, 6659 to 135639\n",
      "Data columns (total 6 columns):\n",
      " #   Column          Non-Null Count  Dtype         \n",
      "---  ------          --------------  -----         \n",
      " 0   event_datetime  7683 non-null   datetime64[ns]\n",
      " 1   event           7683 non-null   object        \n",
      " 2   building_type   7683 non-null   object        \n",
      " 3   user_id         7683 non-null   object        \n",
      " 4   project_type    7683 non-null   object        \n",
      " 5   day             7683 non-null   datetime64[ns]\n",
      "dtypes: datetime64[ns](2), object(4)\n",
      "memory usage: 420.2+ KB\n"
     ]
    }
   ],
   "source": [
    "# датафрейм с данными об игроках, завершивших уровень\n",
    "game_finished = data_game_actions.query('event != \"building\"')\n",
    "game_finished.info()"
   ]
  },
  {
   "cell_type": "code",
   "execution_count": 45,
   "id": "64c37bb7-382a-42f7-af05-d6225dee191c",
   "metadata": {},
   "outputs": [],
   "source": [
    "# датафрейм, содержащий сведения о стратегиях\n",
    "finish = game_finished.groupby('event')['user_id'].count().reset_index()"
   ]
  },
  {
   "cell_type": "code",
   "execution_count": 46,
   "id": "943d7810-8836-431f-aa8b-82e880c545f1",
   "metadata": {},
   "outputs": [
    {
     "data": {
      "text/html": [
       "<div>\n",
       "<style scoped>\n",
       "    .dataframe tbody tr th:only-of-type {\n",
       "        vertical-align: middle;\n",
       "    }\n",
       "\n",
       "    .dataframe tbody tr th {\n",
       "        vertical-align: top;\n",
       "    }\n",
       "\n",
       "    .dataframe thead th {\n",
       "        text-align: right;\n",
       "    }\n",
       "</style>\n",
       "<table border=\"1\" class=\"dataframe\">\n",
       "  <thead>\n",
       "    <tr style=\"text-align: right;\">\n",
       "      <th></th>\n",
       "      <th>event</th>\n",
       "      <th>user_id</th>\n",
       "    </tr>\n",
       "  </thead>\n",
       "  <tbody>\n",
       "    <tr>\n",
       "      <th>0</th>\n",
       "      <td>finished_stage_1</td>\n",
       "      <td>5817</td>\n",
       "    </tr>\n",
       "    <tr>\n",
       "      <th>1</th>\n",
       "      <td>project</td>\n",
       "      <td>1866</td>\n",
       "    </tr>\n",
       "  </tbody>\n",
       "</table>\n",
       "</div>"
      ],
      "text/plain": [
       "              event  user_id\n",
       "0  finished_stage_1     5817\n",
       "1           project     1866"
      ]
     },
     "execution_count": 46,
     "metadata": {},
     "output_type": "execute_result"
    }
   ],
   "source": [
    "finish"
   ]
  },
  {
   "cell_type": "code",
   "execution_count": 47,
   "id": "0d330f27-f89c-4330-bfdc-e829650a9be8",
   "metadata": {},
   "outputs": [],
   "source": [
    "# для расчёта: игроки, завершившие игру\n",
    "finished = game_finished.loc[game_finished.loc[:,'event'] == 'finished_stage_1']['event'].count()"
   ]
  },
  {
   "cell_type": "code",
   "execution_count": 48,
   "id": "2cac242f-6642-4486-ac59-2f05246870ea",
   "metadata": {},
   "outputs": [
    {
     "name": "stdout",
     "output_type": "stream",
     "text": [
      "Завершивших уровень игры: 5817\n"
     ]
    }
   ],
   "source": [
    "print(\"Завершивших уровень игры:\", finished)"
   ]
  },
  {
   "cell_type": "code",
   "execution_count": 49,
   "id": "5f3d5371-3850-4d42-8f2e-56b7d99fe061",
   "metadata": {},
   "outputs": [
    {
     "data": {
      "text/html": [
       "<div>\n",
       "<style scoped>\n",
       "    .dataframe tbody tr th:only-of-type {\n",
       "        vertical-align: middle;\n",
       "    }\n",
       "\n",
       "    .dataframe tbody tr th {\n",
       "        vertical-align: top;\n",
       "    }\n",
       "\n",
       "    .dataframe thead th {\n",
       "        text-align: right;\n",
       "    }\n",
       "</style>\n",
       "<table border=\"1\" class=\"dataframe\">\n",
       "  <thead>\n",
       "    <tr style=\"text-align: right;\">\n",
       "      <th></th>\n",
       "      <th>users</th>\n",
       "      <th>count</th>\n",
       "    </tr>\n",
       "  </thead>\n",
       "  <tbody>\n",
       "    <tr>\n",
       "      <th>0</th>\n",
       "      <td>finish</td>\n",
       "      <td>5817</td>\n",
       "    </tr>\n",
       "    <tr>\n",
       "      <th>1</th>\n",
       "      <td>not_finish</td>\n",
       "      <td>7759</td>\n",
       "    </tr>\n",
       "    <tr>\n",
       "      <th>2</th>\n",
       "      <td>total</td>\n",
       "      <td>13576</td>\n",
       "    </tr>\n",
       "  </tbody>\n",
       "</table>\n",
       "</div>"
      ],
      "text/plain": [
       "        users  count\n",
       "0      finish   5817\n",
       "1  not_finish   7759\n",
       "2       total  13576"
      ]
     },
     "execution_count": 49,
     "metadata": {},
     "output_type": "execute_result"
    }
   ],
   "source": [
    "# датафрейм для визуализации\n",
    "game = pd.DataFrame({'users': ['finish', 'not_finish', 'total'],\n",
    "                           'count': [finished,\n",
    "                                     data_game_actions['user_id'].nunique() - finished,\n",
    "                                     data_game_actions['user_id'].nunique()]})\n",
    "game"
   ]
  },
  {
   "cell_type": "code",
   "execution_count": 50,
   "id": "aeee8128-aaf5-4ae7-aac9-369f3469db3c",
   "metadata": {},
   "outputs": [
    {
     "data": {
      "image/png": "[encoded data removed]",
      "text/plain": [
       "<Figure size 720x720 with 1 Axes>"
      ]
     },
     "metadata": {},
     "output_type": "display_data"
    }
   ],
   "source": [
    "game.iloc[:2].set_index('users').plot.pie(autopct=\"%.1f%%\", subplots = True, figsize=(10, 10),\n",
    "                                                title='Процентное соотношение групп игроков', fontsize=30)\n",
    "plt.show()"
   ]
  },
  {
   "cell_type": "code",
   "execution_count": 51,
   "id": "011028e7-0cf1-465b-853b-ad92990b2d12",
   "metadata": {},
   "outputs": [
    {
     "data": {
      "text/plain": [
       "3951"
      ]
     },
     "execution_count": 51,
     "metadata": {},
     "output_type": "execute_result"
    }
   ],
   "source": [
    "# расчёт количества игроков с агрессивной стратегией\n",
    "project_strategy = game_finished.loc[game_finished.loc[:,'event'] == 'project']['event'].count()\n",
    "aggressive_strategy = finished-project_strategy\n",
    "aggressive_strategy"
   ]
  },
  {
   "cell_type": "code",
   "execution_count": 52,
   "id": "95836005-0e10-4430-9245-8f4bde00c920",
   "metadata": {},
   "outputs": [
    {
     "name": "stdout",
     "output_type": "stream",
     "text": [
      "Завершивших уровень игры, применив проектную стратегию: 1866\n"
     ]
    }
   ],
   "source": [
    "print(\"Завершивших уровень игры, применив проектную стратегию:\", project_strategy)"
   ]
  },
  {
   "cell_type": "code",
   "execution_count": 53,
   "id": "45cc521f-efe2-4588-b57b-77d9fb7efdca",
   "metadata": {},
   "outputs": [
    {
     "name": "stdout",
     "output_type": "stream",
     "text": [
      "Завершивших уровень игры, применив агрессивную стратегию: 3951\n"
     ]
    }
   ],
   "source": [
    "print(\"Завершивших уровень игры, применив агрессивную стратегию:\", aggressive_strategy)"
   ]
  },
  {
   "cell_type": "code",
   "execution_count": 54,
   "id": "31494134-a748-41fe-81ee-e1c968877bb9",
   "metadata": {},
   "outputs": [
    {
     "data": {
      "text/html": [
       "<div>\n",
       "<style scoped>\n",
       "    .dataframe tbody tr th:only-of-type {\n",
       "        vertical-align: middle;\n",
       "    }\n",
       "\n",
       "    .dataframe tbody tr th {\n",
       "        vertical-align: top;\n",
       "    }\n",
       "\n",
       "    .dataframe thead th {\n",
       "        text-align: right;\n",
       "    }\n",
       "</style>\n",
       "<table border=\"1\" class=\"dataframe\">\n",
       "  <thead>\n",
       "    <tr style=\"text-align: right;\">\n",
       "      <th></th>\n",
       "      <th>event</th>\n",
       "      <th>user_id</th>\n",
       "    </tr>\n",
       "  </thead>\n",
       "  <tbody>\n",
       "    <tr>\n",
       "      <th>0</th>\n",
       "      <td>finished_stage_1</td>\n",
       "      <td>5817</td>\n",
       "    </tr>\n",
       "    <tr>\n",
       "      <th>1</th>\n",
       "      <td>project_strategy</td>\n",
       "      <td>1866</td>\n",
       "    </tr>\n",
       "  </tbody>\n",
       "</table>\n",
       "</div>"
      ],
      "text/plain": [
       "              event  user_id\n",
       "0  finished_stage_1     5817\n",
       "1  project_strategy     1866"
      ]
     },
     "execution_count": 54,
     "metadata": {},
     "output_type": "execute_result"
    }
   ],
   "source": [
    "# для визуализации задам названия стратегий\n",
    "finish['event'] = finish['event'].replace(to_replace=\"project\", value=\"project_strategy\") \n",
    "finish"
   ]
  },
  {
   "cell_type": "code",
   "execution_count": 55,
   "id": "b33afc88-dca0-425c-a2b2-51dd60328f8b",
   "metadata": {},
   "outputs": [
    {
     "data": {
      "text/html": [
       "<div>\n",
       "<style scoped>\n",
       "    .dataframe tbody tr th:only-of-type {\n",
       "        vertical-align: middle;\n",
       "    }\n",
       "\n",
       "    .dataframe tbody tr th {\n",
       "        vertical-align: top;\n",
       "    }\n",
       "\n",
       "    .dataframe thead th {\n",
       "        text-align: right;\n",
       "    }\n",
       "</style>\n",
       "<table border=\"1\" class=\"dataframe\">\n",
       "  <thead>\n",
       "    <tr style=\"text-align: right;\">\n",
       "      <th></th>\n",
       "      <th>event</th>\n",
       "      <th>user_id</th>\n",
       "    </tr>\n",
       "  </thead>\n",
       "  <tbody>\n",
       "    <tr>\n",
       "      <th>0</th>\n",
       "      <td>finished_stage_1</td>\n",
       "      <td>5817</td>\n",
       "    </tr>\n",
       "    <tr>\n",
       "      <th>1</th>\n",
       "      <td>project_strategy</td>\n",
       "      <td>1866</td>\n",
       "    </tr>\n",
       "    <tr>\n",
       "      <th>0</th>\n",
       "      <td>aggressive_strategy</td>\n",
       "      <td>3951</td>\n",
       "    </tr>\n",
       "  </tbody>\n",
       "</table>\n",
       "</div>"
      ],
      "text/plain": [
       "                 event  user_id\n",
       "0     finished_stage_1     5817\n",
       "1     project_strategy     1866\n",
       "0  aggressive_strategy     3951"
      ]
     },
     "execution_count": 55,
     "metadata": {},
     "output_type": "execute_result"
    }
   ],
   "source": [
    "finish = pd.concat([finish, pd.DataFrame({'event':['aggressive_strategy'], 'user_id':aggressive_strategy})])\n",
    "\n",
    "finish "
   ]
  },
  {
   "cell_type": "code",
   "execution_count": 56,
   "id": "a86ff90e-bc14-4ce4-80bb-334087ebda43",
   "metadata": {},
   "outputs": [
    {
     "data": {
      "text/html": [
       "<div>\n",
       "<style scoped>\n",
       "    .dataframe tbody tr th:only-of-type {\n",
       "        vertical-align: middle;\n",
       "    }\n",
       "\n",
       "    .dataframe tbody tr th {\n",
       "        vertical-align: top;\n",
       "    }\n",
       "\n",
       "    .dataframe thead th {\n",
       "        text-align: right;\n",
       "    }\n",
       "</style>\n",
       "<table border=\"1\" class=\"dataframe\">\n",
       "  <thead>\n",
       "    <tr style=\"text-align: right;\">\n",
       "      <th></th>\n",
       "      <th>event</th>\n",
       "      <th>user_id</th>\n",
       "    </tr>\n",
       "  </thead>\n",
       "  <tbody>\n",
       "    <tr>\n",
       "      <th>1</th>\n",
       "      <td>project_strategy</td>\n",
       "      <td>1866</td>\n",
       "    </tr>\n",
       "    <tr>\n",
       "      <th>0</th>\n",
       "      <td>aggressive_strategy</td>\n",
       "      <td>3951</td>\n",
       "    </tr>\n",
       "  </tbody>\n",
       "</table>\n",
       "</div>"
      ],
      "text/plain": [
       "                 event  user_id\n",
       "1     project_strategy     1866\n",
       "0  aggressive_strategy     3951"
      ]
     },
     "execution_count": 56,
     "metadata": {},
     "output_type": "execute_result"
    }
   ],
   "source": [
    "finish.loc[1:]\n"
   ]
  },
  {
   "cell_type": "code",
   "execution_count": 57,
   "id": "533d22f7-a727-48f0-896f-a2737b104dd8",
   "metadata": {},
   "outputs": [
    {
     "data": {
      "image/png": "[encoded data removed]",
      "text/plain": [
       "<Figure size 720x720 with 1 Axes>"
      ]
     },
     "metadata": {},
     "output_type": "display_data"
    }
   ],
   "source": [
    "finish.loc[1:].set_index('event').plot.pie(autopct=\"%.1f%%\", subplots = True, figsize=(10, 10), title='Доля каждой стратегии игроков, завершивших уровень', fontsize=30)\n",
    "plt.show()"
   ]
  },
  {
   "cell_type": "markdown",
   "id": "b5644dbd-97c3-4144-958d-ae6c77561431",
   "metadata": {},
   "source": [
    "Количество пользователей, завершивших игру в целом: 5817, количество завершённых проектов - 1866, т.е. игроков, реализовавших проектную стратегию. Количество игроков, выбравших агрессивную стратегию - 3951."
   ]
  },
  {
   "cell_type": "code",
   "execution_count": 58,
   "id": "2d61bfd6",
   "metadata": {},
   "outputs": [
    {
     "data": {
      "text/html": [
       "<div>\n",
       "<style scoped>\n",
       "    .dataframe tbody tr th:only-of-type {\n",
       "        vertical-align: middle;\n",
       "    }\n",
       "\n",
       "    .dataframe tbody tr th {\n",
       "        vertical-align: top;\n",
       "    }\n",
       "\n",
       "    .dataframe thead th {\n",
       "        text-align: right;\n",
       "    }\n",
       "</style>\n",
       "<table border=\"1\" class=\"dataframe\">\n",
       "  <thead>\n",
       "    <tr style=\"text-align: right;\">\n",
       "      <th></th>\n",
       "      <th>user_id</th>\n",
       "      <th>event_datetime</th>\n",
       "    </tr>\n",
       "    <tr>\n",
       "      <th>event</th>\n",
       "      <th></th>\n",
       "      <th></th>\n",
       "    </tr>\n",
       "  </thead>\n",
       "  <tbody>\n",
       "    <tr>\n",
       "      <th>building</th>\n",
       "      <td>1866</td>\n",
       "      <td>23601</td>\n",
       "    </tr>\n",
       "    <tr>\n",
       "      <th>finished_stage_1</th>\n",
       "      <td>1866</td>\n",
       "      <td>1866</td>\n",
       "    </tr>\n",
       "    <tr>\n",
       "      <th>project</th>\n",
       "      <td>1866</td>\n",
       "      <td>1866</td>\n",
       "    </tr>\n",
       "  </tbody>\n",
       "</table>\n",
       "</div>"
      ],
      "text/plain": [
       "                  user_id  event_datetime\n",
       "event                                    \n",
       "building             1866           23601\n",
       "finished_stage_1     1866            1866\n",
       "project              1866            1866"
      ]
     },
     "metadata": {},
     "output_type": "display_data"
    },
    {
     "data": {
      "text/html": [
       "<div>\n",
       "<style scoped>\n",
       "    .dataframe tbody tr th:only-of-type {\n",
       "        vertical-align: middle;\n",
       "    }\n",
       "\n",
       "    .dataframe tbody tr th {\n",
       "        vertical-align: top;\n",
       "    }\n",
       "\n",
       "    .dataframe thead th {\n",
       "        text-align: right;\n",
       "    }\n",
       "</style>\n",
       "<table border=\"1\" class=\"dataframe\">\n",
       "  <thead>\n",
       "    <tr style=\"text-align: right;\">\n",
       "      <th></th>\n",
       "      <th>user_id</th>\n",
       "      <th>event_datetime</th>\n",
       "    </tr>\n",
       "    <tr>\n",
       "      <th>event</th>\n",
       "      <th></th>\n",
       "      <th></th>\n",
       "    </tr>\n",
       "  </thead>\n",
       "  <tbody>\n",
       "    <tr>\n",
       "      <th>building</th>\n",
       "      <td>3951</td>\n",
       "      <td>37185</td>\n",
       "    </tr>\n",
       "    <tr>\n",
       "      <th>finished_stage_1</th>\n",
       "      <td>3951</td>\n",
       "      <td>3951</td>\n",
       "    </tr>\n",
       "  </tbody>\n",
       "</table>\n",
       "</div>"
      ],
      "text/plain": [
       "                  user_id  event_datetime\n",
       "event                                    \n",
       "building             3951           37185\n",
       "finished_stage_1     3951            3951"
      ]
     },
     "metadata": {},
     "output_type": "display_data"
    },
    {
     "data": {
      "text/html": [
       "<div>\n",
       "<style scoped>\n",
       "    .dataframe tbody tr th:only-of-type {\n",
       "        vertical-align: middle;\n",
       "    }\n",
       "\n",
       "    .dataframe tbody tr th {\n",
       "        vertical-align: top;\n",
       "    }\n",
       "\n",
       "    .dataframe thead th {\n",
       "        text-align: right;\n",
       "    }\n",
       "</style>\n",
       "<table border=\"1\" class=\"dataframe\">\n",
       "  <thead>\n",
       "    <tr style=\"text-align: right;\">\n",
       "      <th></th>\n",
       "      <th>user_id</th>\n",
       "      <th>event_datetime</th>\n",
       "    </tr>\n",
       "    <tr>\n",
       "      <th>event</th>\n",
       "      <th></th>\n",
       "      <th></th>\n",
       "    </tr>\n",
       "  </thead>\n",
       "  <tbody>\n",
       "    <tr>\n",
       "      <th>building</th>\n",
       "      <td>7759</td>\n",
       "      <td>67170</td>\n",
       "    </tr>\n",
       "  </tbody>\n",
       "</table>\n",
       "</div>"
      ],
      "text/plain": [
       "          user_id  event_datetime\n",
       "event                            \n",
       "building     7759           67170"
      ]
     },
     "metadata": {},
     "output_type": "display_data"
    }
   ],
   "source": [
    "#мы знаем, что у нас есть 3 группы пользователей. Агрессивные, миролюбивые и оттекшие. \n",
    "#посмотрим, какие действия совершала каждая группа, чтобы понять необходимый набор событий для каждой\n",
    "\n",
    "#выбираем только пользователей с проектов (они проще)\n",
    "user_proj_ex = data_game_actions.loc[data_game_actions['event'] == 'project']['user_id'].unique()\n",
    "#дальше смотрим агрессивных пользователей\n",
    "user_agr_ex = data_game_actions.loc[(data_game_actions['event'] == 'finished_stage_1')\n",
    "                                   & (~data_game_actions['user_id'].isin(user_proj_ex))]['user_id'].unique()\n",
    "#дальше смотрим не завершивших пользователей (вдруг есть те, кто создал проект, но не прошел уровень)\n",
    "user_not_ex = data_game_actions.loc[(~data_game_actions['user_id'].isin(user_agr_ex))\n",
    "                                   & (~data_game_actions['user_id'].isin(user_proj_ex))]['user_id'].unique()\n",
    "\n",
    "\n",
    "#смотрим, что есть в логах каждой группы \n",
    "for users in [user_proj_ex, user_agr_ex, user_not_ex]:\n",
    "    display(data_game_actions.loc[data_game_actions['user_id'].isin(users)] \\\n",
    "        .groupby(['event']).agg({'user_id' : 'nunique', 'event_datetime' : 'count'}))"
   ]
  },
  {
   "cell_type": "markdown",
   "id": "f2db2fde-5d32-4465-a09e-4c58bab629e4",
   "metadata": {},
   "source": [
    "### анализ событий в игре;"
   ]
  },
  {
   "cell_type": "code",
   "execution_count": 59,
   "id": "d07be06c-efbc-408e-b8ce-e149acc9db3f",
   "metadata": {},
   "outputs": [
    {
     "data": {
      "text/html": [
       "<style type=\"text/css\">\n",
       "</style>\n",
       "<table id=\"T_475f8_\">\n",
       "  <thead>\n",
       "    <tr>\n",
       "      <th class=\"blank level0\" >&nbsp;</th>\n",
       "      <th class=\"col_heading level0 col0\" >0</th>\n",
       "    </tr>\n",
       "    <tr>\n",
       "      <th class=\"index_name level0\" >event</th>\n",
       "      <th class=\"blank col0\" >&nbsp;</th>\n",
       "    </tr>\n",
       "  </thead>\n",
       "  <tbody>\n",
       "    <tr>\n",
       "      <th id=\"T_475f8_level0_row0\" class=\"row_heading level0 row0\" >building</th>\n",
       "      <td id=\"T_475f8_row0_col0\" class=\"data row0 col0\" >94%</td>\n",
       "    </tr>\n",
       "    <tr>\n",
       "      <th id=\"T_475f8_level0_row1\" class=\"row_heading level0 row1\" >finished_stage_1</th>\n",
       "      <td id=\"T_475f8_row1_col0\" class=\"data row1 col0\" >4%</td>\n",
       "    </tr>\n",
       "    <tr>\n",
       "      <th id=\"T_475f8_level0_row2\" class=\"row_heading level0 row2\" >project</th>\n",
       "      <td id=\"T_475f8_row2_col0\" class=\"data row2 col0\" >1%</td>\n",
       "    </tr>\n",
       "  </tbody>\n",
       "</table>\n"
      ],
      "text/plain": [
       "<pandas.io.formats.style.Styler at 0x21273ab1370>"
      ]
     },
     "execution_count": 59,
     "metadata": {},
     "output_type": "execute_result"
    }
   ],
   "source": [
    "(data_game_actions.groupby(data_game_actions['event']).size() / len(data_game_actions['event'])).to_frame().style.format('{:.0%}')"
   ]
  },
  {
   "cell_type": "markdown",
   "id": "2b38cef1-328e-4194-8f6e-010fca65ed7e",
   "metadata": {},
   "source": [
    "Самое популярное событие - building — объект построен - 94%, завершили первый уровень 5 817 игроков (4%), project — проект завершён у 1866 игроков (1%). "
   ]
  },
  {
   "cell_type": "markdown",
   "id": "a8f296f2-0cd8-49be-a8d2-08233797f025",
   "metadata": {},
   "source": [
    "### количество построенных объектов за весь период;"
   ]
  },
  {
   "cell_type": "code",
   "execution_count": 60,
   "id": "e4eff06a-ab15-408c-8701-d3cecf9e04fb",
   "metadata": {},
   "outputs": [
    {
     "data": {
      "text/plain": [
       "127956"
      ]
     },
     "execution_count": 60,
     "metadata": {},
     "output_type": "execute_result"
    }
   ],
   "source": [
    "# для определения количества построек отберу данные\n",
    "buildings_total = data_game_actions.loc[data_game_actions.loc[:,'building_type'] != 'no_building']\n",
    "buildings_total['building_type'].count()"
   ]
  },
  {
   "cell_type": "code",
   "execution_count": 61,
   "id": "62967649-e58a-4d01-99f1-7a435c693fc3",
   "metadata": {},
   "outputs": [
    {
     "name": "stdout",
     "output_type": "stream",
     "text": [
      "Количество постороеных объектов за весь период: 127956\n"
     ]
    }
   ],
   "source": [
    "print(\"Количество постороеных объектов за весь период:\",data_game_actions.loc[data_game_actions.loc[:,'building_type'] != 'no_building']['building_type'].count())"
   ]
  },
  {
   "cell_type": "code",
   "execution_count": 62,
   "id": "f40b57c2-f482-416e-84e9-dc1f7b3a2720",
   "metadata": {},
   "outputs": [
    {
     "data": {
      "image/png": "[encoded data removed]",
      "text/plain": [
       "<Figure size 432x288 with 1 Axes>"
      ]
     },
     "metadata": {
      "needs_background": "light"
     },
     "output_type": "display_data"
    }
   ],
   "source": [
    "buildings_total['building_type'].value_counts().plot.barh();\n",
    "plt.title('Типы зданий',fontsize=16);\n",
    "plt.xlabel('количество');\n",
    "plt.ylabel('тип ');\n",
    "plt.yticks(rotation=0,fontsize=12);"
   ]
  },
  {
   "cell_type": "markdown",
   "id": "796ac270-fff6-43e6-871f-51e0cda62c16",
   "metadata": {},
   "source": [
    "Исследую стройку в разрезе стратегий."
   ]
  },
  {
   "cell_type": "code",
   "execution_count": 63,
   "id": "f73cd04a-1c70-4995-9910-e4a793d21888",
   "metadata": {},
   "outputs": [
    {
     "data": {
      "text/html": [
       "<div>\n",
       "<style scoped>\n",
       "    .dataframe tbody tr th:only-of-type {\n",
       "        vertical-align: middle;\n",
       "    }\n",
       "\n",
       "    .dataframe tbody tr th {\n",
       "        vertical-align: top;\n",
       "    }\n",
       "\n",
       "    .dataframe thead th {\n",
       "        text-align: right;\n",
       "    }\n",
       "</style>\n",
       "<table border=\"1\" class=\"dataframe\">\n",
       "  <thead>\n",
       "    <tr style=\"text-align: right;\">\n",
       "      <th></th>\n",
       "      <th>event_datetime</th>\n",
       "      <th>event</th>\n",
       "      <th>building_type</th>\n",
       "      <th>user_id</th>\n",
       "      <th>project_type</th>\n",
       "      <th>day</th>\n",
       "    </tr>\n",
       "  </thead>\n",
       "  <tbody>\n",
       "    <tr>\n",
       "      <th>0</th>\n",
       "      <td>2020-05-04 19:47:29</td>\n",
       "      <td>finished_stage_1</td>\n",
       "      <td>no_building</td>\n",
       "      <td>ced7b368-818f-48f6-9461-2346de0892c5</td>\n",
       "      <td>no_finished_project</td>\n",
       "      <td>2020-05-04</td>\n",
       "    </tr>\n",
       "    <tr>\n",
       "      <th>1</th>\n",
       "      <td>2020-05-05 13:22:09</td>\n",
       "      <td>finished_stage_1</td>\n",
       "      <td>no_building</td>\n",
       "      <td>7ef7fc89-2779-46ea-b328-9e5035b83af5</td>\n",
       "      <td>no_finished_project</td>\n",
       "      <td>2020-05-05</td>\n",
       "    </tr>\n",
       "    <tr>\n",
       "      <th>2</th>\n",
       "      <td>2020-05-05 18:54:37</td>\n",
       "      <td>finished_stage_1</td>\n",
       "      <td>no_building</td>\n",
       "      <td>70db22b3-c2f4-43bc-94ea-51c8d2904a29</td>\n",
       "      <td>no_finished_project</td>\n",
       "      <td>2020-05-05</td>\n",
       "    </tr>\n",
       "    <tr>\n",
       "      <th>3</th>\n",
       "      <td>2020-05-05 21:27:29</td>\n",
       "      <td>finished_stage_1</td>\n",
       "      <td>no_building</td>\n",
       "      <td>903fc9ef-ba97-4b12-9d5c-ac8d602fbd8b</td>\n",
       "      <td>no_finished_project</td>\n",
       "      <td>2020-05-05</td>\n",
       "    </tr>\n",
       "    <tr>\n",
       "      <th>4</th>\n",
       "      <td>2020-05-06 06:02:22</td>\n",
       "      <td>finished_stage_1</td>\n",
       "      <td>no_building</td>\n",
       "      <td>58e077ba-feb1-4556-a5a0-d96bd04efa39</td>\n",
       "      <td>no_finished_project</td>\n",
       "      <td>2020-05-06</td>\n",
       "    </tr>\n",
       "  </tbody>\n",
       "</table>\n",
       "</div>"
      ],
      "text/plain": [
       "       event_datetime             event building_type  \\\n",
       "0 2020-05-04 19:47:29  finished_stage_1   no_building   \n",
       "1 2020-05-05 13:22:09  finished_stage_1   no_building   \n",
       "2 2020-05-05 18:54:37  finished_stage_1   no_building   \n",
       "3 2020-05-05 21:27:29  finished_stage_1   no_building   \n",
       "4 2020-05-06 06:02:22  finished_stage_1   no_building   \n",
       "\n",
       "                                user_id         project_type        day  \n",
       "0  ced7b368-818f-48f6-9461-2346de0892c5  no_finished_project 2020-05-04  \n",
       "1  7ef7fc89-2779-46ea-b328-9e5035b83af5  no_finished_project 2020-05-05  \n",
       "2  70db22b3-c2f4-43bc-94ea-51c8d2904a29  no_finished_project 2020-05-05  \n",
       "3  903fc9ef-ba97-4b12-9d5c-ac8d602fbd8b  no_finished_project 2020-05-05  \n",
       "4  58e077ba-feb1-4556-a5a0-d96bd04efa39  no_finished_project 2020-05-06  "
      ]
     },
     "execution_count": 63,
     "metadata": {},
     "output_type": "execute_result"
    }
   ],
   "source": [
    "# выделим пользователей, которые окончили уровень\n",
    "users_finishing = data_game_actions[data_game_actions['event'] == 'finished_stage_1'].reset_index(drop=True)\n",
    "users_finishing.head()"
   ]
  },
  {
   "cell_type": "code",
   "execution_count": 64,
   "id": "41de7e99-a9ee-4c8f-af1f-c3b397a4c05d",
   "metadata": {},
   "outputs": [
    {
     "data": {
      "text/plain": [
       "0       e3c66498-9d45-4000-9392-f81e6796e7da\n",
       "1       936e7af6-8338-4703-a1df-fc6c3f5b8e34\n",
       "2       a4491c86-c498-4f74-a56e-65c136d0e9a1\n",
       "3       85d9e675-562b-4329-8bbd-14d3b39096be\n",
       "4       1889ca71-3c57-4e61-9ea6-a711971bbf0a\n",
       "                        ...                 \n",
       "1861    9d98001c-7e14-40d7-896e-46b3047365fd\n",
       "1862    df4a1e13-eba9-4928-a7cf-ee303d6f80f9\n",
       "1863    82e46f34-e243-4728-8e20-2e171fc33ea4\n",
       "1864    fe032991-71e0-48c5-889f-4c3805ba4c9b\n",
       "1865    d477dde8-7c22-4f23-9c4f-4ec31a1aa4c8\n",
       "Name: user_id, Length: 1866, dtype: object"
      ]
     },
     "execution_count": 64,
     "metadata": {},
     "output_type": "execute_result"
    }
   ],
   "source": [
    "# выделим пользователей, которые окончили уровень через проект\n",
    "users_project = data_game_actions[data_game_actions['event'] == 'project'].reset_index(drop=True)\n",
    "# создам список id пользователей, завершивших уровень, применив проектную стратегию\n",
    "users_project_list = users_project['user_id']\n",
    "users_project_list "
   ]
  },
  {
   "cell_type": "code",
   "execution_count": 65,
   "id": "1922468a-9b09-450f-9a93-320344192ecc",
   "metadata": {},
   "outputs": [
    {
     "data": {
      "text/plain": [
       "0       ced7b368-818f-48f6-9461-2346de0892c5\n",
       "1       7ef7fc89-2779-46ea-b328-9e5035b83af5\n",
       "2       70db22b3-c2f4-43bc-94ea-51c8d2904a29\n",
       "3       903fc9ef-ba97-4b12-9d5c-ac8d602fbd8b\n",
       "4       58e077ba-feb1-4556-a5a0-d96bd04efa39\n",
       "                        ...                 \n",
       "3946    18fc6a86-00e7-4f3e-96da-bdb6d550415c\n",
       "3947    22cce310-fe10-41a2-941b-9c3d63327fea\n",
       "3948    515c1952-99aa-4bca-a7ea-d0449eb5385a\n",
       "3949    32572adb-900f-4b5d-a453-1eb1e6d88d8b\n",
       "3950    f21d179f-1c4b-437e-b9c6-ab1976907195\n",
       "Name: user_id, Length: 3951, dtype: object"
      ]
     },
     "execution_count": 65,
     "metadata": {},
     "output_type": "execute_result"
    }
   ],
   "source": [
    "# выделю пользователей, завершивших уровень, применив агрессивную стратегию\n",
    "users_aggressive_list_1 = users_finishing.query('user_id not in @users_project_list').reset_index(drop=True)\n",
    "# создам список id пользователей, завершивших уровень, применив агрессивную стратегию\n",
    "users_aggressive_list_2 = users_aggressive_list_1['user_id']\n",
    "users_aggressive_list_2"
   ]
  },
  {
   "cell_type": "code",
   "execution_count": 66,
   "id": "5b3a66de-a68f-4cbe-b2eb-4369479846bd",
   "metadata": {},
   "outputs": [
    {
     "data": {
      "text/plain": [
       "3951"
      ]
     },
     "execution_count": 66,
     "metadata": {},
     "output_type": "execute_result"
    }
   ],
   "source": [
    "len(set(users_aggressive_list_2))"
   ]
  },
  {
   "cell_type": "code",
   "execution_count": 67,
   "id": "be0d618c-9a21-4c04-804a-14f986760a1e",
   "metadata": {},
   "outputs": [
    {
     "data": {
      "text/plain": [
       "5817"
      ]
     },
     "execution_count": 67,
     "metadata": {},
     "output_type": "execute_result"
    }
   ],
   "source": [
    "# итоговый лист с id, завершивших уровень\n",
    "total_list = [*users_project_list, *users_aggressive_list_2]\n",
    "len(total_list)"
   ]
  },
  {
   "cell_type": "code",
   "execution_count": 68,
   "id": "ba61413e-f58d-4cf1-93c0-a0d23ddf8414",
   "metadata": {},
   "outputs": [
    {
     "data": {
      "text/html": [
       "<div>\n",
       "<style scoped>\n",
       "    .dataframe tbody tr th:only-of-type {\n",
       "        vertical-align: middle;\n",
       "    }\n",
       "\n",
       "    .dataframe tbody tr th {\n",
       "        vertical-align: top;\n",
       "    }\n",
       "\n",
       "    .dataframe thead th {\n",
       "        text-align: right;\n",
       "    }\n",
       "</style>\n",
       "<table border=\"1\" class=\"dataframe\">\n",
       "  <thead>\n",
       "    <tr style=\"text-align: right;\">\n",
       "      <th></th>\n",
       "      <th>event_datetime</th>\n",
       "      <th>event</th>\n",
       "      <th>building_type</th>\n",
       "      <th>user_id</th>\n",
       "      <th>project_type</th>\n",
       "      <th>day</th>\n",
       "    </tr>\n",
       "  </thead>\n",
       "  <tbody>\n",
       "    <tr>\n",
       "      <th>0</th>\n",
       "      <td>2020-05-04 00:00:03</td>\n",
       "      <td>building</td>\n",
       "      <td>assembly_shop</td>\n",
       "      <td>c07b1c10-f477-44dc-81dc-ec82254b1347</td>\n",
       "      <td>no_finished_project</td>\n",
       "      <td>2020-05-04</td>\n",
       "    </tr>\n",
       "  </tbody>\n",
       "</table>\n",
       "</div>"
      ],
      "text/plain": [
       "       event_datetime     event  building_type  \\\n",
       "0 2020-05-04 00:00:03  building  assembly_shop   \n",
       "\n",
       "                                user_id         project_type        day  \n",
       "0  c07b1c10-f477-44dc-81dc-ec82254b1347  no_finished_project 2020-05-04  "
      ]
     },
     "execution_count": 68,
     "metadata": {},
     "output_type": "execute_result"
    }
   ],
   "source": [
    "# пользователи, завершившие уровень будут иметь id из списка total_list\n",
    "finished = data_game_actions.query('user_id in @total_list').reset_index(drop=True)\n",
    "finished.head(1)"
   ]
  },
  {
   "cell_type": "code",
   "execution_count": 69,
   "id": "da13e09e-cb68-4cf7-afcb-13b91f2d0de2",
   "metadata": {},
   "outputs": [
    {
     "data": {
      "text/html": [
       "<div>\n",
       "<style scoped>\n",
       "    .dataframe tbody tr th:only-of-type {\n",
       "        vertical-align: middle;\n",
       "    }\n",
       "\n",
       "    .dataframe tbody tr th {\n",
       "        vertical-align: top;\n",
       "    }\n",
       "\n",
       "    .dataframe thead th {\n",
       "        text-align: right;\n",
       "    }\n",
       "</style>\n",
       "<table border=\"1\" class=\"dataframe\">\n",
       "  <thead>\n",
       "    <tr style=\"text-align: right;\">\n",
       "      <th></th>\n",
       "      <th>event_datetime</th>\n",
       "      <th>event</th>\n",
       "      <th>building_type</th>\n",
       "      <th>user_id</th>\n",
       "      <th>project_type</th>\n",
       "      <th>day</th>\n",
       "    </tr>\n",
       "  </thead>\n",
       "  <tbody>\n",
       "    <tr>\n",
       "      <th>3606</th>\n",
       "      <td>2020-05-04 22:59:02</td>\n",
       "      <td>building</td>\n",
       "      <td>assembly_shop</td>\n",
       "      <td>fc396e21-d3e9-4bb3-930c-62130fb54e58</td>\n",
       "      <td>no_finished_project</td>\n",
       "      <td>2020-05-04</td>\n",
       "    </tr>\n",
       "  </tbody>\n",
       "</table>\n",
       "</div>"
      ],
      "text/plain": [
       "          event_datetime     event  building_type  \\\n",
       "3606 2020-05-04 22:59:02  building  assembly_shop   \n",
       "\n",
       "                                   user_id         project_type        day  \n",
       "3606  fc396e21-d3e9-4bb3-930c-62130fb54e58  no_finished_project 2020-05-04  "
      ]
     },
     "execution_count": 69,
     "metadata": {},
     "output_type": "execute_result"
    }
   ],
   "source": [
    "# данные о постройках\n",
    "finished_com = finished[finished['event'] == 'building'].reset_index(drop=True)\n",
    "finished_com.sample()"
   ]
  },
  {
   "cell_type": "code",
   "execution_count": 70,
   "id": "6e118c8b-c018-4f8d-8622-413b1e50af05",
   "metadata": {},
   "outputs": [],
   "source": [
    "# датафрейм с постройками игроков из \"проектного\" списка\n",
    "building_project_1 = finished_com.query('user_id in @users_project_list').reset_index(drop=True)\n"
   ]
  },
  {
   "cell_type": "code",
   "execution_count": 71,
   "id": "f8dba64c-ffdd-4986-9aca-b0486cecd466",
   "metadata": {},
   "outputs": [],
   "source": [
    "# датафрейм с постройками игроков из \"агрессивного\" списка\n",
    "building_aggress_1 = finished_com.query('user_id not in @users_project_list').reset_index(drop=True)\n"
   ]
  },
  {
   "cell_type": "code",
   "execution_count": 72,
   "id": "89605a7d-845d-4263-b162-e2d6d2f423f5",
   "metadata": {},
   "outputs": [],
   "source": [
    "# постройки игроков, незавершивших уровень\n",
    "building_not_finish_level = data_game_actions.query('user_id not in @total_list').reset_index(drop=True)"
   ]
  },
  {
   "cell_type": "code",
   "execution_count": 73,
   "id": "f2722d23-6ca6-4943-bc8a-fdf824991f18",
   "metadata": {},
   "outputs": [],
   "source": [
    "# постройки игроков из \"агрессивного\" списка\n",
    "aggress_build_1 = building_aggress_1.groupby('user_id')['event'].count()"
   ]
  },
  {
   "cell_type": "code",
   "execution_count": 74,
   "id": "246130e2-eb13-45ef-b22b-6c18f165eb9b",
   "metadata": {},
   "outputs": [
    {
     "name": "stdout",
     "output_type": "stream",
     "text": [
      "Среднее количество построек для игроков с агрессивной стратегией: 10.0\n"
     ]
    }
   ],
   "source": [
    "print(\"Среднее количество построек для игроков с агрессивной стратегией:\",np.ceil(aggress_build_1.mean()))"
   ]
  },
  {
   "cell_type": "code",
   "execution_count": 75,
   "id": "cc960632-fad4-43f3-9f79-69d5925a0088",
   "metadata": {},
   "outputs": [],
   "source": [
    "project_build_1 = building_project_1.groupby('user_id')['event'].count()"
   ]
  },
  {
   "cell_type": "code",
   "execution_count": 76,
   "id": "8344cf46-fbfd-4196-a684-c02b89731a03",
   "metadata": {},
   "outputs": [
    {
     "name": "stdout",
     "output_type": "stream",
     "text": [
      "Среднее количество построек для игроков с проектной стратегией: 13.0\n"
     ]
    }
   ],
   "source": [
    "print(\"Среднее количество построек для игроков с проектной стратегией:\",np.ceil(project_build_1.mean()))"
   ]
  },
  {
   "cell_type": "code",
   "execution_count": 77,
   "id": "82d48d02-f8a8-4a74-b30f-7fd8e0c2e9d0",
   "metadata": {},
   "outputs": [],
   "source": [
    "# id игроков, незавершивших уровень\n",
    "not_finish_build = building_not_finish_level.groupby('user_id')['event'].count()\n"
   ]
  },
  {
   "cell_type": "code",
   "execution_count": 78,
   "id": "9219d306-9a01-49d0-924f-9f5f695e7244",
   "metadata": {},
   "outputs": [
    {
     "name": "stdout",
     "output_type": "stream",
     "text": [
      "Среднее количество построек для игроков, незавершивших уровень: 9.0\n"
     ]
    }
   ],
   "source": [
    "print(\"Среднее количество построек для игроков, незавершивших уровень:\",np.ceil(not_finish_build.mean()))"
   ]
  },
  {
   "cell_type": "code",
   "execution_count": 79,
   "id": "a34066a2",
   "metadata": {},
   "outputs": [
    {
     "data": {
      "text/plain": [
       "5817"
      ]
     },
     "execution_count": 79,
     "metadata": {},
     "output_type": "execute_result"
    }
   ],
   "source": [
    "#код тимлида\n",
    "len(set(total_list))"
   ]
  },
  {
   "cell_type": "code",
   "execution_count": 80,
   "id": "664503c9",
   "metadata": {},
   "outputs": [
    {
     "data": {
      "text/plain": [
       "5817"
      ]
     },
     "execution_count": 80,
     "metadata": {},
     "output_type": "execute_result"
    }
   ],
   "source": [
    "#код тимлида\n",
    "finished['user_id'].nunique()"
   ]
  },
  {
   "cell_type": "markdown",
   "id": "6f93fef7-280c-4ce1-9cb3-1fd4e7414fc1",
   "metadata": {},
   "source": [
    "Количество построенных объектов за весь период: 127956. Среднее количество построек для игроков с проектной стратегией: 13. Среднее количество построек для игроков с агрессивной стратегией: 10. Незакончившие уровень игроки строили в среднем 9 объектов."
   ]
  },
  {
   "cell_type": "markdown",
   "id": "954117b5-fe78-49ae-af60-42c5c791cff2",
   "metadata": {},
   "source": [
    "### анализ источников трафика;"
   ]
  },
  {
   "cell_type": "code",
   "execution_count": 81,
   "id": "299848db-c001-490b-b7f9-fbe4c9c4436a",
   "metadata": {},
   "outputs": [
    {
     "name": "stdout",
     "output_type": "stream",
     "text": [
      "Количество использованных источников трафика: 4\n"
     ]
    }
   ],
   "source": [
    "print(\"Количество использованных источников трафика:\",data_ad_costs['source'].nunique())"
   ]
  },
  {
   "cell_type": "markdown",
   "id": "24c0639e-f916-4e0b-84c9-858164680172",
   "metadata": {},
   "source": [
    "Стоимость кликов для каждого источника трафика"
   ]
  },
  {
   "cell_type": "code",
   "execution_count": 82,
   "id": "e5ed3817-74ac-43c6-bec9-738eaf048446",
   "metadata": {},
   "outputs": [
    {
     "data": {
      "text/plain": [
       "source\n",
       "yandex_direct             2,233.11\n",
       "instagram_new_adverts     2,161.44\n",
       "facebook_ads              2,140.90\n",
       "youtube_channel_reklama   1,068.12\n",
       "Name: cost, dtype: float64"
      ]
     },
     "execution_count": 82,
     "metadata": {},
     "output_type": "execute_result"
    }
   ],
   "source": [
    "data_ad_costs.groupby('source')['cost'].sum().sort_values(ascending = False)"
   ]
  },
  {
   "cell_type": "code",
   "execution_count": 83,
   "id": "c5af3ea4-6d4e-4919-a143-3e1500e5c41c",
   "metadata": {},
   "outputs": [
    {
     "data": {
      "image/png": "[encoded data removed]",
      "text/plain": [
       "<Figure size 432x288 with 1 Axes>"
      ]
     },
     "metadata": {
      "needs_background": "light"
     },
     "output_type": "display_data"
    }
   ],
   "source": [
    "# визуализация данных по источникам\n",
    "data_ad_costs.groupby('source')['cost'].sum().sort_values().plot.barh();\n",
    "plt.title('Стоимость источников трафика',fontsize=16);\n",
    "plt.xlabel('стоимость кликов для каждого источника трафика');\n",
    "plt.ylabel('наименование');\n",
    "plt.yticks(rotation=0,fontsize=12);"
   ]
  },
  {
   "cell_type": "markdown",
   "id": "434424b3-19b7-464d-a364-2f8650b18789",
   "metadata": {},
   "source": [
    "Количество пользователей, пришедших с каждого источника трафика"
   ]
  },
  {
   "cell_type": "code",
   "execution_count": 84,
   "id": "669eac5b-9cc2-4cfe-a5f6-25aa74773255",
   "metadata": {},
   "outputs": [
    {
     "data": {
      "text/html": [
       "<div>\n",
       "<style scoped>\n",
       "    .dataframe tbody tr th:only-of-type {\n",
       "        vertical-align: middle;\n",
       "    }\n",
       "\n",
       "    .dataframe tbody tr th {\n",
       "        vertical-align: top;\n",
       "    }\n",
       "\n",
       "    .dataframe thead th {\n",
       "        text-align: right;\n",
       "    }\n",
       "</style>\n",
       "<table border=\"1\" class=\"dataframe\">\n",
       "  <thead>\n",
       "    <tr style=\"text-align: right;\">\n",
       "      <th></th>\n",
       "      <th>source</th>\n",
       "      <th>user_id</th>\n",
       "    </tr>\n",
       "  </thead>\n",
       "  <tbody>\n",
       "    <tr>\n",
       "      <th>2</th>\n",
       "      <td>yandex_direct</td>\n",
       "      <td>4817</td>\n",
       "    </tr>\n",
       "    <tr>\n",
       "      <th>1</th>\n",
       "      <td>instagram_new_adverts</td>\n",
       "      <td>3347</td>\n",
       "    </tr>\n",
       "    <tr>\n",
       "      <th>0</th>\n",
       "      <td>facebook_ads</td>\n",
       "      <td>2726</td>\n",
       "    </tr>\n",
       "    <tr>\n",
       "      <th>3</th>\n",
       "      <td>youtube_channel_reklama</td>\n",
       "      <td>2686</td>\n",
       "    </tr>\n",
       "  </tbody>\n",
       "</table>\n",
       "</div>"
      ],
      "text/plain": [
       "                    source  user_id\n",
       "2            yandex_direct     4817\n",
       "1    instagram_new_adverts     3347\n",
       "0             facebook_ads     2726\n",
       "3  youtube_channel_reklama     2686"
      ]
     },
     "execution_count": 84,
     "metadata": {},
     "output_type": "execute_result"
    }
   ],
   "source": [
    "users_by_sorce = data_user_source.groupby('source')['user_id'].count().reset_index().sort_values(by = 'user_id', ascending = False)\n",
    "users_by_sorce "
   ]
  },
  {
   "cell_type": "code",
   "execution_count": 85,
   "id": "1195b035-bb38-4312-a4c6-649cb67b778e",
   "metadata": {},
   "outputs": [
    {
     "data": {
      "image/png": "[encoded data removed]",
      "text/plain": [
       "<Figure size 432x288 with 1 Axes>"
      ]
     },
     "metadata": {
      "needs_background": "light"
     },
     "output_type": "display_data"
    }
   ],
   "source": [
    "# визуализация данных по количеству пользователей, пришедших с каждого источника трафика\n",
    "data_user_source.groupby('source')['user_id'].count().sort_values().plot.barh();\n",
    "plt.title('Поток пользователей из каждого источника',fontsize=16);\n",
    "plt.xlabel('количество пользователей');\n",
    "plt.ylabel('сточники трафика');\n",
    "plt.yticks(rotation=0,fontsize=12);"
   ]
  },
  {
   "cell_type": "markdown",
   "id": "ae8ec480-91e8-4326-ba23-f53489ea24c9",
   "metadata": {},
   "source": [
    "Задействовано 4 источника, где пользователи могут скачать приложение, указаны в порядке снижения активности и стоимости: 1.yandex_direct, 2.instagram_new_adverts, 3.facebook_ads, 4.youtube_channel_reklama."
   ]
  },
  {
   "cell_type": "markdown",
   "id": "28d66ebf-a355-4194-aa64-6b8707739d05",
   "metadata": {},
   "source": [
    "### исследование активности пользователей во времени;"
   ]
  },
  {
   "cell_type": "code",
   "execution_count": 86,
   "id": "850c389c-e6bb-4659-9105-a3823651e201",
   "metadata": {},
   "outputs": [
    {
     "data": {
      "text/html": [
       "<div>\n",
       "<style scoped>\n",
       "    .dataframe tbody tr th:only-of-type {\n",
       "        vertical-align: middle;\n",
       "    }\n",
       "\n",
       "    .dataframe tbody tr th {\n",
       "        vertical-align: top;\n",
       "    }\n",
       "\n",
       "    .dataframe thead th {\n",
       "        text-align: right;\n",
       "    }\n",
       "</style>\n",
       "<table border=\"1\" class=\"dataframe\">\n",
       "  <thead>\n",
       "    <tr style=\"text-align: right;\">\n",
       "      <th></th>\n",
       "      <th>event_datetime</th>\n",
       "      <th>event</th>\n",
       "      <th>building_type</th>\n",
       "    </tr>\n",
       "  </thead>\n",
       "  <tbody>\n",
       "    <tr>\n",
       "      <th>44154</th>\n",
       "      <td>2020-05-08 12:20:12</td>\n",
       "      <td>building</td>\n",
       "      <td>assembly_shop</td>\n",
       "    </tr>\n",
       "  </tbody>\n",
       "</table>\n",
       "</div>"
      ],
      "text/plain": [
       "           event_datetime     event  building_type\n",
       "44154 2020-05-08 12:20:12  building  assembly_shop"
      ]
     },
     "execution_count": 86,
     "metadata": {},
     "output_type": "execute_result"
    }
   ],
   "source": [
    "# Активность пользователей\n",
    "game_actions_select = data_game_actions[['event_datetime','event', 'building_type']]\n",
    "game_actions_select.sample()"
   ]
  },
  {
   "cell_type": "code",
   "execution_count": 87,
   "id": "477a63e5-31c5-46de-81b1-e4a81ab3faba",
   "metadata": {},
   "outputs": [
    {
     "data": {
      "image/png": "[encoded data removed]",
      "text/plain": [
       "<Figure size 720x360 with 1 Axes>"
      ]
     },
     "metadata": {
      "needs_background": "light"
     },
     "output_type": "display_data"
    },
    {
     "data": {
      "image/png": "[encoded data removed]",
      "text/plain": [
       "<Figure size 720x360 with 1 Axes>"
      ]
     },
     "metadata": {
      "needs_background": "light"
     },
     "output_type": "display_data"
    },
    {
     "data": {
      "image/png": "[encoded data removed]",
      "text/plain": [
       "<Figure size 720x360 with 1 Axes>"
      ]
     },
     "metadata": {
      "needs_background": "light"
     },
     "output_type": "display_data"
    }
   ],
   "source": [
    "# визуализация данных\n",
    "for i in game_actions_select:\n",
    "    game_actions_select.groupby('event')[i].hist(alpha=0.5, figsize=(10, 5))\n",
    "    plt.legend(game_actions_select['event'].unique())\n",
    "    plt.xlabel(i)\n",
    "    plt.ylabel(\"Частота\")\n",
    "    plt.title(i)\n",
    "    plt.xticks(rotation=15);\n",
    "    plt.show()"
   ]
  },
  {
   "cell_type": "markdown",
   "id": "daf1f92b-9874-48fc-af0b-1f5b7607c402",
   "metadata": {
    "tags": []
   },
   "source": [
    "### Выводы  раздела Исследовательский анализ\n",
    "\n",
    "Количество уникальных пользователей в исследуемом периоде: 13 576, пришедших из 4 источников, где пользователи могут скачать приложение. Самый перспективный - yandex_direct, наименьшее число пользователей привлёк - youtube_channel_reklama.\n",
    "\n",
    "Первый уровень завершили 43% игроков, при этом 68% игроков выбрали завершить уровень через убийство, т.е. агрессивную стратегию. 32% игроков выбрали завершить уровень через проект, т.е. проектную стратегию.\n",
    "\n",
    "Среднее количество построек для игроков с проектной стратегией: 13.\n",
    "\n",
    "Среднее количество построек для игроков с агрессивной стратегией: 10.\n",
    "\n",
    "Среднее количество построек для игроков, незавершивших уровень: 9.0\n",
    "\n",
    "Активность пользователей при строительстве сооружений имеет пик с 10.05.2020 по 13.05.2020, к 16.05.2020 активность резко снижается, к концу иссследуемого периода - практически отсутствует. Чаще всего строили spaceport."
   ]
  },
  {
   "cell_type": "markdown",
   "id": "c2aeba18-8035-4b10-893a-b39a9f3dbc6c",
   "metadata": {},
   "source": [
    "##  Расчет метрик"
   ]
  },
  {
   "cell_type": "code",
   "execution_count": 88,
   "id": "d158c6bd-75e9-4d57-979d-177c836a5a4b",
   "metadata": {},
   "outputs": [
    {
     "data": {
      "text/html": [
       "<div>\n",
       "<style scoped>\n",
       "    .dataframe tbody tr th:only-of-type {\n",
       "        vertical-align: middle;\n",
       "    }\n",
       "\n",
       "    .dataframe tbody tr th {\n",
       "        vertical-align: top;\n",
       "    }\n",
       "\n",
       "    .dataframe thead th {\n",
       "        text-align: right;\n",
       "    }\n",
       "</style>\n",
       "<table border=\"1\" class=\"dataframe\">\n",
       "  <thead>\n",
       "    <tr style=\"text-align: right;\">\n",
       "      <th></th>\n",
       "      <th>event_datetime</th>\n",
       "      <th>event</th>\n",
       "      <th>building_type</th>\n",
       "      <th>user_id</th>\n",
       "      <th>project_type</th>\n",
       "      <th>day</th>\n",
       "      <th>source</th>\n",
       "    </tr>\n",
       "  </thead>\n",
       "  <tbody>\n",
       "    <tr>\n",
       "      <th>86812</th>\n",
       "      <td>2020-05-12 00:41:48</td>\n",
       "      <td>building</td>\n",
       "      <td>spaceport</td>\n",
       "      <td>faf1a633-0fa1-4b5d-943a-dbe8338aa20a</td>\n",
       "      <td>no_finished_project</td>\n",
       "      <td>2020-05-12</td>\n",
       "      <td>instagram_new_adverts</td>\n",
       "    </tr>\n",
       "  </tbody>\n",
       "</table>\n",
       "</div>"
      ],
      "text/plain": [
       "           event_datetime     event building_type  \\\n",
       "86812 2020-05-12 00:41:48  building     spaceport   \n",
       "\n",
       "                                    user_id         project_type        day  \\\n",
       "86812  faf1a633-0fa1-4b5d-943a-dbe8338aa20a  no_finished_project 2020-05-12   \n",
       "\n",
       "                      source  \n",
       "86812  instagram_new_adverts  "
      ]
     },
     "execution_count": 88,
     "metadata": {},
     "output_type": "execute_result"
    }
   ],
   "source": [
    "# объединение датафреймов о действиях с источником\n",
    "activity_source =data_game_actions.merge(data_user_source, how='left', on='user_id')\n",
    "activity_source.sample()"
   ]
  },
  {
   "cell_type": "markdown",
   "id": "487ad0d0-9512-49e0-a82a-e6545d1ae4db",
   "metadata": {},
   "source": [
    "### расчёт доходной части;"
   ]
  },
  {
   "cell_type": "markdown",
   "id": "568f40b2-60fc-4677-ab73-b95e12df61af",
   "metadata": {},
   "source": [
    "Предполагается, что при выборе объекта для строительства происходит демонстрация рекламы. Таким образом, наше количество построенных объектов - это количество просмотров. Найдём доходную часть, исходя из единой ставки в 0,07 условного цента."
   ]
  },
  {
   "cell_type": "code",
   "execution_count": 89,
   "id": "b4238694-2f79-4467-ad5b-3c9c322b67a9",
   "metadata": {},
   "outputs": [
    {
     "data": {
      "text/html": [
       "<div>\n",
       "<style scoped>\n",
       "    .dataframe tbody tr th:only-of-type {\n",
       "        vertical-align: middle;\n",
       "    }\n",
       "\n",
       "    .dataframe tbody tr th {\n",
       "        vertical-align: top;\n",
       "    }\n",
       "\n",
       "    .dataframe thead th {\n",
       "        text-align: right;\n",
       "    }\n",
       "</style>\n",
       "<table border=\"1\" class=\"dataframe\">\n",
       "  <thead>\n",
       "    <tr style=\"text-align: right;\">\n",
       "      <th></th>\n",
       "      <th>event_datetime</th>\n",
       "      <th>event</th>\n",
       "      <th>building_type</th>\n",
       "      <th>user_id</th>\n",
       "      <th>project_type</th>\n",
       "      <th>day</th>\n",
       "    </tr>\n",
       "  </thead>\n",
       "  <tbody>\n",
       "    <tr>\n",
       "      <th>134880</th>\n",
       "      <td>2020-05-26 01:12:42</td>\n",
       "      <td>building</td>\n",
       "      <td>research_center</td>\n",
       "      <td>8577d27f-179f-4870-a1a5-0090f42ef895</td>\n",
       "      <td>no_finished_project</td>\n",
       "      <td>2020-05-26</td>\n",
       "    </tr>\n",
       "  </tbody>\n",
       "</table>\n",
       "</div>"
      ],
      "text/plain": [
       "            event_datetime     event    building_type  \\\n",
       "134880 2020-05-26 01:12:42  building  research_center   \n",
       "\n",
       "                                     user_id         project_type        day  \n",
       "134880  8577d27f-179f-4870-a1a5-0090f42ef895  no_finished_project 2020-05-26  "
      ]
     },
     "execution_count": 89,
     "metadata": {},
     "output_type": "execute_result"
    }
   ],
   "source": [
    "# количество построенных объектов\n",
    "buildings = data_game_actions.loc[data_game_actions.loc[:,'event'] == 'building']\n",
    "buildings.sample()"
   ]
  },
  {
   "cell_type": "code",
   "execution_count": 90,
   "id": "8d4fd171-1e9e-4bc8-8690-0224f0ca2108",
   "metadata": {},
   "outputs": [
    {
     "data": {
      "text/plain": [
       "127956"
      ]
     },
     "execution_count": 90,
     "metadata": {},
     "output_type": "execute_result"
    }
   ],
   "source": [
    "buildings_count = data_game_actions.loc[data_game_actions.loc[:,'event'] == 'building']['event'].count()\n",
    "buildings_count"
   ]
  },
  {
   "cell_type": "code",
   "execution_count": 91,
   "id": "11e8de81-0f91-4ab4-9e44-1b25ada98b36",
   "metadata": {},
   "outputs": [
    {
     "data": {
      "text/plain": [
       "event             source                 \n",
       "building          facebook_ads               26131\n",
       "                  instagram_new_adverts      31815\n",
       "                  yandex_direct              45032\n",
       "                  youtube_channel_reklama    24978\n",
       "finished_stage_1  facebook_ads                1150\n",
       "                  instagram_new_adverts       1466\n",
       "                  yandex_direct               2042\n",
       "                  youtube_channel_reklama     1159\n",
       "project           facebook_ads                 391\n",
       "                  instagram_new_adverts        476\n",
       "                  yandex_direct                620\n",
       "                  youtube_channel_reklama      379\n",
       "Name: user_id, dtype: int64"
      ]
     },
     "execution_count": 91,
     "metadata": {},
     "output_type": "execute_result"
    }
   ],
   "source": [
    "activity_source.groupby(['event','source'])['user_id'].count()"
   ]
  },
  {
   "cell_type": "code",
   "execution_count": 92,
   "id": "79284355-2751-4f8c-9a87-c746e1ce0744",
   "metadata": {},
   "outputs": [
    {
     "name": "stdout",
     "output_type": "stream",
     "text": [
      "<class 'pandas.core.frame.DataFrame'>\n",
      "Int64Index: 127956 entries, 0 to 135636\n",
      "Data columns (total 7 columns):\n",
      " #   Column          Non-Null Count   Dtype         \n",
      "---  ------          --------------   -----         \n",
      " 0   event_datetime  127956 non-null  datetime64[ns]\n",
      " 1   event           127956 non-null  object        \n",
      " 2   building_type   127956 non-null  object        \n",
      " 3   user_id         127956 non-null  object        \n",
      " 4   project_type    127956 non-null  object        \n",
      " 5   day             127956 non-null  datetime64[ns]\n",
      " 6   source          127956 non-null  object        \n",
      "dtypes: datetime64[ns](2), object(5)\n",
      "memory usage: 7.8+ MB\n"
     ]
    }
   ],
   "source": [
    "# датафрейм, в котором отражены только постройки c указанием источника\n",
    "df_building = activity_source.query('event == \"building\"')\n",
    "df_building.info()"
   ]
  },
  {
   "cell_type": "code",
   "execution_count": 93,
   "id": "b92c6b06-e6d1-4b54-92d9-71de881db2de",
   "metadata": {},
   "outputs": [
    {
     "data": {
      "text/html": [
       "<div>\n",
       "<style scoped>\n",
       "    .dataframe tbody tr th:only-of-type {\n",
       "        vertical-align: middle;\n",
       "    }\n",
       "\n",
       "    .dataframe tbody tr th {\n",
       "        vertical-align: top;\n",
       "    }\n",
       "\n",
       "    .dataframe thead th {\n",
       "        text-align: right;\n",
       "    }\n",
       "</style>\n",
       "<table border=\"1\" class=\"dataframe\">\n",
       "  <thead>\n",
       "    <tr style=\"text-align: right;\">\n",
       "      <th></th>\n",
       "      <th>event_datetime</th>\n",
       "      <th>event</th>\n",
       "      <th>building_type</th>\n",
       "      <th>user_id</th>\n",
       "      <th>project_type</th>\n",
       "      <th>day</th>\n",
       "      <th>source</th>\n",
       "    </tr>\n",
       "  </thead>\n",
       "  <tbody>\n",
       "    <tr>\n",
       "      <th>1438</th>\n",
       "      <td>2020-05-04 04:28:44</td>\n",
       "      <td>building</td>\n",
       "      <td>assembly_shop</td>\n",
       "      <td>b3a699ad-cad2-4f1d-8af5-1fa4252efc7a</td>\n",
       "      <td>no_finished_project</td>\n",
       "      <td>2020-05-04</td>\n",
       "      <td>facebook_ads</td>\n",
       "    </tr>\n",
       "  </tbody>\n",
       "</table>\n",
       "</div>"
      ],
      "text/plain": [
       "          event_datetime     event  building_type  \\\n",
       "1438 2020-05-04 04:28:44  building  assembly_shop   \n",
       "\n",
       "                                   user_id         project_type        day  \\\n",
       "1438  b3a699ad-cad2-4f1d-8af5-1fa4252efc7a  no_finished_project 2020-05-04   \n",
       "\n",
       "            source  \n",
       "1438  facebook_ads  "
      ]
     },
     "execution_count": 93,
     "metadata": {},
     "output_type": "execute_result"
    }
   ],
   "source": [
    "df_building.sample()"
   ]
  },
  {
   "cell_type": "code",
   "execution_count": 94,
   "id": "2ba45add-24c0-42a6-bfb7-3d600610d08a",
   "metadata": {},
   "outputs": [],
   "source": [
    "price_of_click=.07"
   ]
  },
  {
   "cell_type": "code",
   "execution_count": 95,
   "id": "92426b86-514b-45d4-a2f0-b2984e48f5f3",
   "metadata": {},
   "outputs": [],
   "source": [
    "df_building['price'] = .07"
   ]
  },
  {
   "cell_type": "code",
   "execution_count": 96,
   "id": "e49bc7fe-da9c-4fe0-a1ed-40f8419da126",
   "metadata": {},
   "outputs": [
    {
     "data": {
      "text/html": [
       "<div>\n",
       "<style scoped>\n",
       "    .dataframe tbody tr th:only-of-type {\n",
       "        vertical-align: middle;\n",
       "    }\n",
       "\n",
       "    .dataframe tbody tr th {\n",
       "        vertical-align: top;\n",
       "    }\n",
       "\n",
       "    .dataframe thead th {\n",
       "        text-align: right;\n",
       "    }\n",
       "</style>\n",
       "<table border=\"1\" class=\"dataframe\">\n",
       "  <thead>\n",
       "    <tr style=\"text-align: right;\">\n",
       "      <th></th>\n",
       "      <th>event_datetime</th>\n",
       "      <th>event</th>\n",
       "      <th>building_type</th>\n",
       "      <th>user_id</th>\n",
       "      <th>project_type</th>\n",
       "      <th>day</th>\n",
       "      <th>source</th>\n",
       "      <th>price</th>\n",
       "    </tr>\n",
       "  </thead>\n",
       "  <tbody>\n",
       "    <tr>\n",
       "      <th>27602</th>\n",
       "      <td>2020-05-07 01:05:50</td>\n",
       "      <td>building</td>\n",
       "      <td>assembly_shop</td>\n",
       "      <td>3fb56dc6-0871-47b2-a180-7e4afb8d3d4e</td>\n",
       "      <td>no_finished_project</td>\n",
       "      <td>2020-05-07</td>\n",
       "      <td>instagram_new_adverts</td>\n",
       "      <td>0.07</td>\n",
       "    </tr>\n",
       "  </tbody>\n",
       "</table>\n",
       "</div>"
      ],
      "text/plain": [
       "           event_datetime     event  building_type  \\\n",
       "27602 2020-05-07 01:05:50  building  assembly_shop   \n",
       "\n",
       "                                    user_id         project_type        day  \\\n",
       "27602  3fb56dc6-0871-47b2-a180-7e4afb8d3d4e  no_finished_project 2020-05-07   \n",
       "\n",
       "                      source  price  \n",
       "27602  instagram_new_adverts   0.07  "
      ]
     },
     "execution_count": 96,
     "metadata": {},
     "output_type": "execute_result"
    }
   ],
   "source": [
    "df_building.sample()"
   ]
  },
  {
   "cell_type": "code",
   "execution_count": 97,
   "id": "e0799dca-4c55-402d-83fa-27faad79d237",
   "metadata": {},
   "outputs": [
    {
     "name": "stdout",
     "output_type": "stream",
     "text": [
      "<class 'pandas.core.frame.DataFrame'>\n",
      "Int64Index: 127956 entries, 0 to 135636\n",
      "Data columns (total 8 columns):\n",
      " #   Column          Non-Null Count   Dtype         \n",
      "---  ------          --------------   -----         \n",
      " 0   event_datetime  127956 non-null  datetime64[ns]\n",
      " 1   event           127956 non-null  object        \n",
      " 2   building_type   127956 non-null  object        \n",
      " 3   user_id         127956 non-null  object        \n",
      " 4   project_type    127956 non-null  object        \n",
      " 5   day             127956 non-null  datetime64[ns]\n",
      " 6   source          127956 non-null  object        \n",
      " 7   price           127956 non-null  float64       \n",
      "dtypes: datetime64[ns](2), float64(1), object(5)\n",
      "memory usage: 8.8+ MB\n"
     ]
    }
   ],
   "source": [
    "df_building.info()"
   ]
  },
  {
   "cell_type": "code",
   "execution_count": 98,
   "id": "13f7de64-2d11-4c01-9bbd-e221dd7780c0",
   "metadata": {},
   "outputs": [
    {
     "data": {
      "text/html": [
       "<div>\n",
       "<style scoped>\n",
       "    .dataframe tbody tr th:only-of-type {\n",
       "        vertical-align: middle;\n",
       "    }\n",
       "\n",
       "    .dataframe tbody tr th {\n",
       "        vertical-align: top;\n",
       "    }\n",
       "\n",
       "    .dataframe thead th {\n",
       "        text-align: right;\n",
       "    }\n",
       "</style>\n",
       "<table border=\"1\" class=\"dataframe\">\n",
       "  <thead>\n",
       "    <tr style=\"text-align: right;\">\n",
       "      <th></th>\n",
       "      <th>price</th>\n",
       "    </tr>\n",
       "    <tr>\n",
       "      <th>source</th>\n",
       "      <th></th>\n",
       "    </tr>\n",
       "  </thead>\n",
       "  <tbody>\n",
       "    <tr>\n",
       "      <th>yandex_direct</th>\n",
       "      <td>3,152.24</td>\n",
       "    </tr>\n",
       "    <tr>\n",
       "      <th>instagram_new_adverts</th>\n",
       "      <td>2,227.05</td>\n",
       "    </tr>\n",
       "    <tr>\n",
       "      <th>facebook_ads</th>\n",
       "      <td>1,829.17</td>\n",
       "    </tr>\n",
       "    <tr>\n",
       "      <th>youtube_channel_reklama</th>\n",
       "      <td>1,748.46</td>\n",
       "    </tr>\n",
       "  </tbody>\n",
       "</table>\n",
       "</div>"
      ],
      "text/plain": [
       "                           price\n",
       "source                          \n",
       "yandex_direct           3,152.24\n",
       "instagram_new_adverts   2,227.05\n",
       "facebook_ads            1,829.17\n",
       "youtube_channel_reklama 1,748.46"
      ]
     },
     "execution_count": 98,
     "metadata": {},
     "output_type": "execute_result"
    }
   ],
   "source": [
    "# сведения о доходности источников в целом\n",
    "profit_by_source = pd.DataFrame(df_building.groupby('source')['price'].sum().sort_values(ascending = False))\n",
    "profit_by_source"
   ]
  },
  {
   "cell_type": "code",
   "execution_count": 99,
   "id": "bda8fcde-9979-4bf7-b15d-d2e86498f0a9",
   "metadata": {},
   "outputs": [
    {
     "data": {
      "image/png": "[encoded data removed]",
      "text/plain": [
       "<Figure size 432x288 with 1 Axes>"
      ]
     },
     "metadata": {
      "needs_background": "light"
     },
     "output_type": "display_data"
    }
   ],
   "source": [
    "# визуализация\n",
    "profit_by_source.plot.barh();\n",
    "plt.title('Доходность источников трафика',fontsize=16);\n",
    "plt.xlabel('доход для каждого источника трафика');\n",
    "plt.ylabel('наименование');\n",
    "plt.yticks(rotation=0,fontsize=12);"
   ]
  },
  {
   "cell_type": "markdown",
   "id": "757b100d-e66f-4684-9972-5acaa39f707e",
   "metadata": {},
   "source": [
    "Самый доходный источник yandex_direct."
   ]
  },
  {
   "cell_type": "code",
   "execution_count": 100,
   "id": "e6c041a7-8b91-4a59-9934-1c2fed89892a",
   "metadata": {},
   "outputs": [
    {
     "data": {
      "text/html": [
       "<div>\n",
       "<style scoped>\n",
       "    .dataframe tbody tr th:only-of-type {\n",
       "        vertical-align: middle;\n",
       "    }\n",
       "\n",
       "    .dataframe tbody tr th {\n",
       "        vertical-align: top;\n",
       "    }\n",
       "\n",
       "    .dataframe thead th {\n",
       "        text-align: right;\n",
       "    }\n",
       "</style>\n",
       "<table border=\"1\" class=\"dataframe\">\n",
       "  <thead>\n",
       "    <tr style=\"text-align: right;\">\n",
       "      <th></th>\n",
       "      <th></th>\n",
       "      <th>price</th>\n",
       "    </tr>\n",
       "    <tr>\n",
       "      <th>source</th>\n",
       "      <th>day</th>\n",
       "      <th></th>\n",
       "    </tr>\n",
       "  </thead>\n",
       "  <tbody>\n",
       "    <tr>\n",
       "      <th rowspan=\"5\" valign=\"top\">facebook_ads</th>\n",
       "      <th>2020-05-04</th>\n",
       "      <td>115.99</td>\n",
       "    </tr>\n",
       "    <tr>\n",
       "      <th>2020-05-05</th>\n",
       "      <td>130.48</td>\n",
       "    </tr>\n",
       "    <tr>\n",
       "      <th>2020-05-06</th>\n",
       "      <td>143.15</td>\n",
       "    </tr>\n",
       "    <tr>\n",
       "      <th>2020-05-07</th>\n",
       "      <td>156.24</td>\n",
       "    </tr>\n",
       "    <tr>\n",
       "      <th>2020-05-08</th>\n",
       "      <td>175.63</td>\n",
       "    </tr>\n",
       "    <tr>\n",
       "      <th>...</th>\n",
       "      <th>...</th>\n",
       "      <td>...</td>\n",
       "    </tr>\n",
       "    <tr>\n",
       "      <th rowspan=\"5\" valign=\"top\">youtube_channel_reklama</th>\n",
       "      <th>2020-05-31</th>\n",
       "      <td>0.49</td>\n",
       "    </tr>\n",
       "    <tr>\n",
       "      <th>2020-06-01</th>\n",
       "      <td>0.14</td>\n",
       "    </tr>\n",
       "    <tr>\n",
       "      <th>2020-06-02</th>\n",
       "      <td>0.07</td>\n",
       "    </tr>\n",
       "    <tr>\n",
       "      <th>2020-06-03</th>\n",
       "      <td>0.07</td>\n",
       "    </tr>\n",
       "    <tr>\n",
       "      <th>2020-06-05</th>\n",
       "      <td>0.07</td>\n",
       "    </tr>\n",
       "  </tbody>\n",
       "</table>\n",
       "<p>127 rows × 1 columns</p>\n",
       "</div>"
      ],
      "text/plain": [
       "                                    price\n",
       "source                  day              \n",
       "facebook_ads            2020-05-04 115.99\n",
       "                        2020-05-05 130.48\n",
       "                        2020-05-06 143.15\n",
       "                        2020-05-07 156.24\n",
       "                        2020-05-08 175.63\n",
       "...                                   ...\n",
       "youtube_channel_reklama 2020-05-31   0.49\n",
       "                        2020-06-01   0.14\n",
       "                        2020-06-02   0.07\n",
       "                        2020-06-03   0.07\n",
       "                        2020-06-05   0.07\n",
       "\n",
       "[127 rows x 1 columns]"
      ]
     },
     "execution_count": 100,
     "metadata": {},
     "output_type": "execute_result"
    }
   ],
   "source": [
    "# сведения о доходности с разбиением по источникам во временном разрезе\n",
    "profit_by_source_and_day = pd.DataFrame(df_building.groupby(['source', 'day'])['price'].sum())\n",
    "profit_by_source_and_day"
   ]
  },
  {
   "cell_type": "code",
   "execution_count": 101,
   "id": "68a21e94-453b-4a0e-8c8e-e05f2e448dc3",
   "metadata": {},
   "outputs": [
    {
     "data": {
      "image/png": "[encoded data removed]",
      "text/plain": [
       "<Figure size 977.125x360 with 1 Axes>"
      ]
     },
     "metadata": {
      "needs_background": "light"
     },
     "output_type": "display_data"
    }
   ],
   "source": [
    "# визуализируем\n",
    "sns.relplot(data=profit_by_source_and_day, x='day', y='price', hue='source', kind='line', aspect=18/8)\n",
    "plt.title('Доходность по времени с разбитием по рекламным источникам')\n",
    "plt.ylabel('доходность, у.е.')\n",
    "plt.xlabel('дата');"
   ]
  },
  {
   "cell_type": "markdown",
   "id": "6e2ac01e-9c06-44b0-aa7e-c7973579cef8",
   "metadata": {},
   "source": [
    "Доходная часть от просмотра рекламы за весь период: 8957 условных центов.\n",
    "\n",
    "Источники по мере снижения доходности:\n",
    "1. yandex_direct\t\n",
    "2. instagram_new_adverts\t\n",
    "3. facebook_ads\n",
    "4. youtube_channel_reklama.\n",
    "\n",
    "Пик доходности совершенно естественно совпадает с активностью строительства объектов 06.05.2020-07.05.2020."
   ]
  },
  {
   "cell_type": "code",
   "execution_count": 102,
   "id": "2ccbdd2d-f4bd-4f94-9659-e4f41ecc85bf",
   "metadata": {},
   "outputs": [],
   "source": [
    "build_total = buildings_total['building_type'].count()"
   ]
  },
  {
   "cell_type": "code",
   "execution_count": 103,
   "id": "204c21b5-2abf-46f1-90c0-b22d54c83d65",
   "metadata": {},
   "outputs": [],
   "source": [
    "# совокупный доход\n",
    "profit_total = build_total*price_of_click"
   ]
  },
  {
   "cell_type": "code",
   "execution_count": 104,
   "id": "d8da9510-1ba5-46bc-85ce-b3ab1a0baf13",
   "metadata": {},
   "outputs": [
    {
     "name": "stdout",
     "output_type": "stream",
     "text": [
      "Совокупный доход: 8957.0\n"
     ]
    }
   ],
   "source": [
    "print(\"Совокупный доход:\", np.ceil(profit_total))"
   ]
  },
  {
   "cell_type": "markdown",
   "id": "b77e4d78-edcb-4e19-b628-5406ee9bc56e",
   "metadata": {},
   "source": [
    "### активность игроков в исследуемом периоде;\n",
    "Так как нам доподлинно неизвестно количество ушедших пользователей, полноценный расчёт Retention Rate невозможен. Я предлагаю установить количество игроков, которые совершали более 1 действия."
   ]
  },
  {
   "cell_type": "code",
   "execution_count": 105,
   "id": "ebaf872b-3db6-43a3-80a5-0268dc2621d8",
   "metadata": {},
   "outputs": [
    {
     "name": "stdout",
     "output_type": "stream",
     "text": [
      "<class 'pandas.core.frame.DataFrame'>\n",
      "Int64Index: 13576 entries, 11329 to 6009\n",
      "Data columns (total 2 columns):\n",
      " #   Column          Non-Null Count  Dtype \n",
      "---  ------          --------------  ----- \n",
      " 0   user_id         13576 non-null  object\n",
      " 1   event_datetime  13576 non-null  int64 \n",
      "dtypes: int64(1), object(1)\n",
      "memory usage: 318.2+ KB\n"
     ]
    }
   ],
   "source": [
    "# датафрейм событие/id\n",
    "users_activity = pd.DataFrame(data_game_actions.groupby(['user_id'])['event_datetime'].count().reset_index().sort_values(by = 'event_datetime',ascending = False))\n",
    "users_activity.info()"
   ]
  },
  {
   "cell_type": "code",
   "execution_count": 106,
   "id": "b19e486a-be6f-4e61-918b-dc1807226bd4",
   "metadata": {},
   "outputs": [
    {
     "name": "stdout",
     "output_type": "stream",
     "text": [
      "<class 'pandas.core.frame.DataFrame'>\n",
      "Int64Index: 13576 entries, 11329 to 6009\n",
      "Data columns (total 2 columns):\n",
      " #   Column    Non-Null Count  Dtype \n",
      "---  ------    --------------  ----- \n",
      " 0   user_id   13576 non-null  object\n",
      " 1   activity  13576 non-null  int64 \n",
      "dtypes: int64(1), object(1)\n",
      "memory usage: 318.2+ KB\n"
     ]
    }
   ],
   "source": [
    "users_activity.rename(columns={'event_datetime': 'activity'}, inplace=True)\n",
    "users_activity.info()"
   ]
  },
  {
   "cell_type": "code",
   "execution_count": 107,
   "id": "81511bab-198c-456e-a64d-9a51948444f2",
   "metadata": {},
   "outputs": [
    {
     "data": {
      "text/html": [
       "<div>\n",
       "<style scoped>\n",
       "    .dataframe tbody tr th:only-of-type {\n",
       "        vertical-align: middle;\n",
       "    }\n",
       "\n",
       "    .dataframe tbody tr th {\n",
       "        vertical-align: top;\n",
       "    }\n",
       "\n",
       "    .dataframe thead th {\n",
       "        text-align: right;\n",
       "    }\n",
       "</style>\n",
       "<table border=\"1\" class=\"dataframe\">\n",
       "  <thead>\n",
       "    <tr style=\"text-align: right;\">\n",
       "      <th></th>\n",
       "      <th>activity</th>\n",
       "    </tr>\n",
       "  </thead>\n",
       "  <tbody>\n",
       "    <tr>\n",
       "      <th>count</th>\n",
       "      <td>13,576.00</td>\n",
       "    </tr>\n",
       "    <tr>\n",
       "      <th>mean</th>\n",
       "      <td>9.99</td>\n",
       "    </tr>\n",
       "    <tr>\n",
       "      <th>std</th>\n",
       "      <td>4.15</td>\n",
       "    </tr>\n",
       "    <tr>\n",
       "      <th>min</th>\n",
       "      <td>1.00</td>\n",
       "    </tr>\n",
       "    <tr>\n",
       "      <th>25%</th>\n",
       "      <td>6.00</td>\n",
       "    </tr>\n",
       "    <tr>\n",
       "      <th>50%</th>\n",
       "      <td>10.00</td>\n",
       "    </tr>\n",
       "    <tr>\n",
       "      <th>75%</th>\n",
       "      <td>13.00</td>\n",
       "    </tr>\n",
       "    <tr>\n",
       "      <th>max</th>\n",
       "      <td>22.00</td>\n",
       "    </tr>\n",
       "  </tbody>\n",
       "</table>\n",
       "</div>"
      ],
      "text/plain": [
       "       activity\n",
       "count 13,576.00\n",
       "mean       9.99\n",
       "std        4.15\n",
       "min        1.00\n",
       "25%        6.00\n",
       "50%       10.00\n",
       "75%       13.00\n",
       "max       22.00"
      ]
     },
     "execution_count": 107,
     "metadata": {},
     "output_type": "execute_result"
    }
   ],
   "source": [
    "users_activity.describe()"
   ]
  },
  {
   "cell_type": "code",
   "execution_count": 108,
   "id": "024ebee4-adff-4672-b21b-37f1a15d1db0",
   "metadata": {},
   "outputs": [
    {
     "data": {
      "text/plain": [
       "activity    57\n",
       "dtype: int64"
      ]
     },
     "execution_count": 108,
     "metadata": {},
     "output_type": "execute_result"
    }
   ],
   "source": [
    "# найду тех, кто совершил одно действие за весь исследуемый период\n",
    "users_activity[users_activity['activity']==1][['activity']].count()"
   ]
  },
  {
   "cell_type": "markdown",
   "id": "4fc411e8-25ce-4e1c-9cca-b9cef598be9b",
   "metadata": {},
   "source": [
    "Лишь 57 игроков (менее 1%) совершили единственное действие в игре. Cредняя активность - 10 действий. Максимальная - 22 действия за весь период."
   ]
  },
  {
   "cell_type": "markdown",
   "id": "aed9aaa8-1cb4-46f4-9915-771123f7526f",
   "metadata": {},
   "source": [
    "### CAC"
   ]
  },
  {
   "cell_type": "markdown",
   "id": "0b92c0b8-7cd6-4dab-bc8b-739bbc4a04ee",
   "metadata": {},
   "source": [
    "Стоимость привлечения клиента (customer acquisition cost — **CAC**) — это итоговая сумма, затраченная на привлечение одного нового клиента."
   ]
  },
  {
   "cell_type": "code",
   "execution_count": 109,
   "id": "d9268359-00a9-4601-ace8-cbc514f124b0",
   "metadata": {},
   "outputs": [
    {
     "data": {
      "text/html": [
       "<div>\n",
       "<style scoped>\n",
       "    .dataframe tbody tr th:only-of-type {\n",
       "        vertical-align: middle;\n",
       "    }\n",
       "\n",
       "    .dataframe tbody tr th {\n",
       "        vertical-align: top;\n",
       "    }\n",
       "\n",
       "    .dataframe thead th {\n",
       "        text-align: right;\n",
       "    }\n",
       "</style>\n",
       "<table border=\"1\" class=\"dataframe\">\n",
       "  <thead>\n",
       "    <tr style=\"text-align: right;\">\n",
       "      <th></th>\n",
       "      <th>source</th>\n",
       "      <th>cost</th>\n",
       "    </tr>\n",
       "  </thead>\n",
       "  <tbody>\n",
       "    <tr>\n",
       "      <th>2</th>\n",
       "      <td>yandex_direct</td>\n",
       "      <td>2,233.11</td>\n",
       "    </tr>\n",
       "    <tr>\n",
       "      <th>1</th>\n",
       "      <td>instagram_new_adverts</td>\n",
       "      <td>2,161.44</td>\n",
       "    </tr>\n",
       "    <tr>\n",
       "      <th>0</th>\n",
       "      <td>facebook_ads</td>\n",
       "      <td>2,140.90</td>\n",
       "    </tr>\n",
       "    <tr>\n",
       "      <th>3</th>\n",
       "      <td>youtube_channel_reklama</td>\n",
       "      <td>1,068.12</td>\n",
       "    </tr>\n",
       "  </tbody>\n",
       "</table>\n",
       "</div>"
      ],
      "text/plain": [
       "                    source     cost\n",
       "2            yandex_direct 2,233.11\n",
       "1    instagram_new_adverts 2,161.44\n",
       "0             facebook_ads 2,140.90\n",
       "3  youtube_channel_reklama 1,068.12"
      ]
     },
     "execution_count": 109,
     "metadata": {},
     "output_type": "execute_result"
    }
   ],
   "source": [
    "# датафрейм, обобщающий сведения о расходах и источников\n",
    "costs_by_source = data_ad_costs.groupby('source')['cost'].sum().reset_index().sort_values(by = 'cost',ascending = False)\n",
    "costs_by_source"
   ]
  },
  {
   "cell_type": "code",
   "execution_count": 110,
   "id": "7a455a4c-9793-466d-8703-1b8b6093fa1a",
   "metadata": {},
   "outputs": [
    {
     "data": {
      "text/html": [
       "<div>\n",
       "<style scoped>\n",
       "    .dataframe tbody tr th:only-of-type {\n",
       "        vertical-align: middle;\n",
       "    }\n",
       "\n",
       "    .dataframe tbody tr th {\n",
       "        vertical-align: top;\n",
       "    }\n",
       "\n",
       "    .dataframe thead th {\n",
       "        text-align: right;\n",
       "    }\n",
       "</style>\n",
       "<table border=\"1\" class=\"dataframe\">\n",
       "  <thead>\n",
       "    <tr style=\"text-align: right;\">\n",
       "      <th></th>\n",
       "      <th>source</th>\n",
       "      <th>cost</th>\n",
       "      <th>price</th>\n",
       "    </tr>\n",
       "  </thead>\n",
       "  <tbody>\n",
       "    <tr>\n",
       "      <th>0</th>\n",
       "      <td>yandex_direct</td>\n",
       "      <td>2,233.11</td>\n",
       "      <td>3,152.24</td>\n",
       "    </tr>\n",
       "    <tr>\n",
       "      <th>1</th>\n",
       "      <td>instagram_new_adverts</td>\n",
       "      <td>2,161.44</td>\n",
       "      <td>2,227.05</td>\n",
       "    </tr>\n",
       "    <tr>\n",
       "      <th>2</th>\n",
       "      <td>facebook_ads</td>\n",
       "      <td>2,140.90</td>\n",
       "      <td>1,829.17</td>\n",
       "    </tr>\n",
       "    <tr>\n",
       "      <th>3</th>\n",
       "      <td>youtube_channel_reklama</td>\n",
       "      <td>1,068.12</td>\n",
       "      <td>1,748.46</td>\n",
       "    </tr>\n",
       "  </tbody>\n",
       "</table>\n",
       "</div>"
      ],
      "text/plain": [
       "                    source     cost    price\n",
       "0            yandex_direct 2,233.11 3,152.24\n",
       "1    instagram_new_adverts 2,161.44 2,227.05\n",
       "2             facebook_ads 2,140.90 1,829.17\n",
       "3  youtube_channel_reklama 1,068.12 1,748.46"
      ]
     },
     "execution_count": 110,
     "metadata": {},
     "output_type": "execute_result"
    }
   ],
   "source": [
    "# объединённый датафрейм расходы/доходы\n",
    "profit_and_costs = costs_by_source.merge(profit_by_source, on='source', how='left')\n",
    "profit_and_costs"
   ]
  },
  {
   "cell_type": "code",
   "execution_count": 111,
   "id": "c0b154c5-bbda-44b6-be35-c1de929ec8b6",
   "metadata": {},
   "outputs": [
    {
     "data": {
      "text/html": [
       "<div>\n",
       "<style scoped>\n",
       "    .dataframe tbody tr th:only-of-type {\n",
       "        vertical-align: middle;\n",
       "    }\n",
       "\n",
       "    .dataframe tbody tr th {\n",
       "        vertical-align: top;\n",
       "    }\n",
       "\n",
       "    .dataframe thead th {\n",
       "        text-align: right;\n",
       "    }\n",
       "</style>\n",
       "<table border=\"1\" class=\"dataframe\">\n",
       "  <thead>\n",
       "    <tr style=\"text-align: right;\">\n",
       "      <th></th>\n",
       "      <th>source</th>\n",
       "      <th>cost</th>\n",
       "      <th>price</th>\n",
       "      <th>user_id</th>\n",
       "    </tr>\n",
       "  </thead>\n",
       "  <tbody>\n",
       "    <tr>\n",
       "      <th>0</th>\n",
       "      <td>yandex_direct</td>\n",
       "      <td>2,233.11</td>\n",
       "      <td>3,152.24</td>\n",
       "      <td>4817</td>\n",
       "    </tr>\n",
       "    <tr>\n",
       "      <th>1</th>\n",
       "      <td>instagram_new_adverts</td>\n",
       "      <td>2,161.44</td>\n",
       "      <td>2,227.05</td>\n",
       "      <td>3347</td>\n",
       "    </tr>\n",
       "    <tr>\n",
       "      <th>2</th>\n",
       "      <td>facebook_ads</td>\n",
       "      <td>2,140.90</td>\n",
       "      <td>1,829.17</td>\n",
       "      <td>2726</td>\n",
       "    </tr>\n",
       "    <tr>\n",
       "      <th>3</th>\n",
       "      <td>youtube_channel_reklama</td>\n",
       "      <td>1,068.12</td>\n",
       "      <td>1,748.46</td>\n",
       "      <td>2686</td>\n",
       "    </tr>\n",
       "  </tbody>\n",
       "</table>\n",
       "</div>"
      ],
      "text/plain": [
       "                    source     cost    price  user_id\n",
       "0            yandex_direct 2,233.11 3,152.24     4817\n",
       "1    instagram_new_adverts 2,161.44 2,227.05     3347\n",
       "2             facebook_ads 2,140.90 1,829.17     2726\n",
       "3  youtube_channel_reklama 1,068.12 1,748.46     2686"
      ]
     },
     "execution_count": 111,
     "metadata": {},
     "output_type": "execute_result"
    }
   ],
   "source": [
    "# объединённый датафрейм расходы/доходы/id\n",
    "profit_and_costs = profit_and_costs.merge(users_by_sorce, on='source', how='left') \n",
    "profit_and_costs"
   ]
  },
  {
   "cell_type": "code",
   "execution_count": 112,
   "id": "227c3203-fa57-4069-a5c7-e9326ae3364b",
   "metadata": {},
   "outputs": [
    {
     "data": {
      "text/plain": [
       "0   0.46\n",
       "1   0.65\n",
       "2   0.79\n",
       "3   0.40\n",
       "Name: cost_by_one, dtype: float64"
      ]
     },
     "execution_count": 112,
     "metadata": {},
     "output_type": "execute_result"
    }
   ],
   "source": [
    "# расходы в расчёте на одного пользователя\n",
    "profit_and_costs['cost_by_one']=profit_and_costs['cost']/profit_and_costs['user_id']\n",
    "profit_and_costs['cost_by_one']"
   ]
  },
  {
   "cell_type": "code",
   "execution_count": 113,
   "id": "f48b2a17-7990-452e-a5b9-9fc4d80e24af",
   "metadata": {},
   "outputs": [],
   "source": [
    "# доходы на одного пользователя\n",
    "profit_and_costs['profit_by_one']=profit_and_costs['price']/profit_and_costs['user_id']"
   ]
  },
  {
   "cell_type": "code",
   "execution_count": 114,
   "id": "2270140c-b645-4e32-ab65-4838d063917d",
   "metadata": {},
   "outputs": [
    {
     "data": {
      "text/html": [
       "<div>\n",
       "<style scoped>\n",
       "    .dataframe tbody tr th:only-of-type {\n",
       "        vertical-align: middle;\n",
       "    }\n",
       "\n",
       "    .dataframe tbody tr th {\n",
       "        vertical-align: top;\n",
       "    }\n",
       "\n",
       "    .dataframe thead th {\n",
       "        text-align: right;\n",
       "    }\n",
       "</style>\n",
       "<table border=\"1\" class=\"dataframe\">\n",
       "  <thead>\n",
       "    <tr style=\"text-align: right;\">\n",
       "      <th></th>\n",
       "      <th>source</th>\n",
       "      <th>cost</th>\n",
       "      <th>price</th>\n",
       "      <th>user_id</th>\n",
       "      <th>cost_by_one</th>\n",
       "      <th>profit_by_one</th>\n",
       "    </tr>\n",
       "  </thead>\n",
       "  <tbody>\n",
       "    <tr>\n",
       "      <th>0</th>\n",
       "      <td>yandex_direct</td>\n",
       "      <td>2,233.11</td>\n",
       "      <td>3,152.24</td>\n",
       "      <td>4817</td>\n",
       "      <td>0.46</td>\n",
       "      <td>0.65</td>\n",
       "    </tr>\n",
       "    <tr>\n",
       "      <th>1</th>\n",
       "      <td>instagram_new_adverts</td>\n",
       "      <td>2,161.44</td>\n",
       "      <td>2,227.05</td>\n",
       "      <td>3347</td>\n",
       "      <td>0.65</td>\n",
       "      <td>0.67</td>\n",
       "    </tr>\n",
       "    <tr>\n",
       "      <th>2</th>\n",
       "      <td>facebook_ads</td>\n",
       "      <td>2,140.90</td>\n",
       "      <td>1,829.17</td>\n",
       "      <td>2726</td>\n",
       "      <td>0.79</td>\n",
       "      <td>0.67</td>\n",
       "    </tr>\n",
       "    <tr>\n",
       "      <th>3</th>\n",
       "      <td>youtube_channel_reklama</td>\n",
       "      <td>1,068.12</td>\n",
       "      <td>1,748.46</td>\n",
       "      <td>2686</td>\n",
       "      <td>0.40</td>\n",
       "      <td>0.65</td>\n",
       "    </tr>\n",
       "  </tbody>\n",
       "</table>\n",
       "</div>"
      ],
      "text/plain": [
       "                    source     cost    price  user_id  cost_by_one  \\\n",
       "0            yandex_direct 2,233.11 3,152.24     4817         0.46   \n",
       "1    instagram_new_adverts 2,161.44 2,227.05     3347         0.65   \n",
       "2             facebook_ads 2,140.90 1,829.17     2726         0.79   \n",
       "3  youtube_channel_reklama 1,068.12 1,748.46     2686         0.40   \n",
       "\n",
       "   profit_by_one  \n",
       "0           0.65  \n",
       "1           0.67  \n",
       "2           0.67  \n",
       "3           0.65  "
      ]
     },
     "execution_count": 114,
     "metadata": {},
     "output_type": "execute_result"
    }
   ],
   "source": [
    "profit_and_costs"
   ]
  },
  {
   "cell_type": "code",
   "execution_count": 115,
   "id": "37e4a953-0c5b-417a-840b-35524e8f80e0",
   "metadata": {},
   "outputs": [
    {
     "data": {
      "text/html": [
       "<div>\n",
       "<style scoped>\n",
       "    .dataframe tbody tr th:only-of-type {\n",
       "        vertical-align: middle;\n",
       "    }\n",
       "\n",
       "    .dataframe tbody tr th {\n",
       "        vertical-align: top;\n",
       "    }\n",
       "\n",
       "    .dataframe thead th {\n",
       "        text-align: right;\n",
       "    }\n",
       "</style>\n",
       "<table border=\"1\" class=\"dataframe\">\n",
       "  <thead>\n",
       "    <tr style=\"text-align: right;\">\n",
       "      <th></th>\n",
       "      <th>cost</th>\n",
       "      <th>price</th>\n",
       "      <th>user_id</th>\n",
       "    </tr>\n",
       "  </thead>\n",
       "  <tbody>\n",
       "    <tr>\n",
       "      <th>yandex_direct</th>\n",
       "      <td>2,233.11</td>\n",
       "      <td>3,152.24</td>\n",
       "      <td>4817</td>\n",
       "    </tr>\n",
       "    <tr>\n",
       "      <th>instagram_new_adverts</th>\n",
       "      <td>2,161.44</td>\n",
       "      <td>2,227.05</td>\n",
       "      <td>3347</td>\n",
       "    </tr>\n",
       "    <tr>\n",
       "      <th>facebook_ads</th>\n",
       "      <td>2,140.90</td>\n",
       "      <td>1,829.17</td>\n",
       "      <td>2726</td>\n",
       "    </tr>\n",
       "    <tr>\n",
       "      <th>youtube_channel_reklama</th>\n",
       "      <td>1,068.12</td>\n",
       "      <td>1,748.46</td>\n",
       "      <td>2686</td>\n",
       "    </tr>\n",
       "  </tbody>\n",
       "</table>\n",
       "</div>"
      ],
      "text/plain": [
       "                            cost    price  user_id\n",
       "yandex_direct           2,233.11 3,152.24     4817\n",
       "instagram_new_adverts   2,161.44 2,227.05     3347\n",
       "facebook_ads            2,140.90 1,829.17     2726\n",
       "youtube_channel_reklama 1,068.12 1,748.46     2686"
      ]
     },
     "execution_count": 115,
     "metadata": {},
     "output_type": "execute_result"
    }
   ],
   "source": [
    "# для визуализации, датафрейм без учёта столбцов \"..by_one\"\n",
    "profit_and_costs_viz = profit_and_costs[['source','cost','price','user_id']]\n",
    "profit_and_costs_viz.set_index('source', inplace=True)\n",
    "profit_and_costs_viz = profit_and_costs_viz.rename_axis(None)\n",
    "profit_and_costs_viz"
   ]
  },
  {
   "cell_type": "code",
   "execution_count": 116,
   "id": "75acd22a-e611-40a5-9ea9-2208b2e5f94b",
   "metadata": {},
   "outputs": [
    {
     "data": {
      "image/png": "[encoded data removed]",
      "text/plain": [
       "<Figure size 432x288 with 1 Axes>"
      ]
     },
     "metadata": {
      "needs_background": "light"
     },
     "output_type": "display_data"
    }
   ],
   "source": [
    "# визуализация источников трафика в разрезах расходов, доходов, id\n",
    "profit_and_costs_viz.plot.barh();\n",
    "plt.title('Анализ источников трафика в разрезах расходов, доходов, id',fontsize=16);\n",
    "plt.xlabel('количественная характеристика');\n",
    "plt.ylabel('источник');\n",
    "plt.yticks(rotation=0,fontsize=12);"
   ]
  },
  {
   "cell_type": "markdown",
   "id": "a1e650ec-75f9-4f56-a757-4b90d552e10b",
   "metadata": {},
   "source": [
    "Первое место занимает yandex_direct, который привлекает наибольший поток, даёт наибольшую доходность при наименьших расходах.\n",
    "\n",
    "На втором месте instagram_new_adverts с высоким трафиком и примерно равными доходами и расходами.\n",
    "\n",
    "youtube_channel_reklama при примерном равенстве потока пользователей и прибыльности в сранении с facebook_ads демонстрирует более низкую расходную часть."
   ]
  },
  {
   "cell_type": "code",
   "execution_count": 117,
   "id": "b87cb437-313d-478c-bf93-0f7c8f5e46a5",
   "metadata": {},
   "outputs": [
    {
     "data": {
      "text/html": [
       "<div>\n",
       "<style scoped>\n",
       "    .dataframe tbody tr th:only-of-type {\n",
       "        vertical-align: middle;\n",
       "    }\n",
       "\n",
       "    .dataframe tbody tr th {\n",
       "        vertical-align: top;\n",
       "    }\n",
       "\n",
       "    .dataframe thead th {\n",
       "        text-align: right;\n",
       "    }\n",
       "</style>\n",
       "<table border=\"1\" class=\"dataframe\">\n",
       "  <thead>\n",
       "    <tr style=\"text-align: right;\">\n",
       "      <th></th>\n",
       "      <th>cost_by_one</th>\n",
       "      <th>profit_by_one</th>\n",
       "    </tr>\n",
       "    <tr>\n",
       "      <th>source</th>\n",
       "      <th></th>\n",
       "      <th></th>\n",
       "    </tr>\n",
       "  </thead>\n",
       "  <tbody>\n",
       "    <tr>\n",
       "      <th>facebook_ads</th>\n",
       "      <td>0.79</td>\n",
       "      <td>0.67</td>\n",
       "    </tr>\n",
       "    <tr>\n",
       "      <th>instagram_new_adverts</th>\n",
       "      <td>0.65</td>\n",
       "      <td>0.67</td>\n",
       "    </tr>\n",
       "    <tr>\n",
       "      <th>yandex_direct</th>\n",
       "      <td>0.46</td>\n",
       "      <td>0.65</td>\n",
       "    </tr>\n",
       "    <tr>\n",
       "      <th>youtube_channel_reklama</th>\n",
       "      <td>0.40</td>\n",
       "      <td>0.65</td>\n",
       "    </tr>\n",
       "  </tbody>\n",
       "</table>\n",
       "</div>"
      ],
      "text/plain": [
       "                         cost_by_one  profit_by_one\n",
       "source                                             \n",
       "facebook_ads                    0.79           0.67\n",
       "instagram_new_adverts           0.65           0.67\n",
       "yandex_direct                   0.46           0.65\n",
       "youtube_channel_reklama         0.40           0.65"
      ]
     },
     "execution_count": 117,
     "metadata": {},
     "output_type": "execute_result"
    }
   ],
   "source": [
    "# для визуализации, датафрейм с расходами на одного пользователя\n",
    "profit_and_costs_by_one = profit_and_costs[['source','cost_by_one','profit_by_one']].sort_values(by = 'profit_by_one', ascending = False)\n",
    "profit_and_costs_by_one.set_index('source', inplace=True)\n",
    "profit_and_costs_by_one"
   ]
  },
  {
   "cell_type": "code",
   "execution_count": 118,
   "id": "eb544acb-8f1a-4489-8155-6daf13c09b1d",
   "metadata": {},
   "outputs": [
    {
     "data": {
      "image/png": "[encoded data removed]",
      "text/plain": [
       "<Figure size 1080x576 with 1 Axes>"
      ]
     },
     "metadata": {
      "needs_background": "light"
     },
     "output_type": "display_data"
    }
   ],
   "source": [
    "profit_and_costs_by_one.plot(kind='barh', figsize=(15,8), grid=True)\n",
    "plt.title('Анализ расходов и доходов в расчёте на одного клиента по источникам')\n",
    "plt.ylabel('источник')\n",
    "plt.xlabel('значение')\n",
    "plt.xticks(rotation=45);"
   ]
  },
  {
   "cell_type": "code",
   "execution_count": 119,
   "id": "d94fa841-4e32-410e-9693-92f0eab11ad9",
   "metadata": {},
   "outputs": [
    {
     "data": {
      "text/html": [
       "<div>\n",
       "<style scoped>\n",
       "    .dataframe tbody tr th:only-of-type {\n",
       "        vertical-align: middle;\n",
       "    }\n",
       "\n",
       "    .dataframe tbody tr th {\n",
       "        vertical-align: top;\n",
       "    }\n",
       "\n",
       "    .dataframe thead th {\n",
       "        text-align: right;\n",
       "    }\n",
       "</style>\n",
       "<table border=\"1\" class=\"dataframe\">\n",
       "  <thead>\n",
       "    <tr style=\"text-align: right;\">\n",
       "      <th></th>\n",
       "      <th>cost_by_one</th>\n",
       "      <th>profit_by_one</th>\n",
       "      <th>share</th>\n",
       "    </tr>\n",
       "    <tr>\n",
       "      <th>source</th>\n",
       "      <th></th>\n",
       "      <th></th>\n",
       "      <th></th>\n",
       "    </tr>\n",
       "  </thead>\n",
       "  <tbody>\n",
       "    <tr>\n",
       "      <th>facebook_ads</th>\n",
       "      <td>0.79</td>\n",
       "      <td>0.67</td>\n",
       "      <td>-17.04</td>\n",
       "    </tr>\n",
       "    <tr>\n",
       "      <th>instagram_new_adverts</th>\n",
       "      <td>0.65</td>\n",
       "      <td>0.67</td>\n",
       "      <td>2.95</td>\n",
       "    </tr>\n",
       "    <tr>\n",
       "      <th>yandex_direct</th>\n",
       "      <td>0.46</td>\n",
       "      <td>0.65</td>\n",
       "      <td>29.16</td>\n",
       "    </tr>\n",
       "    <tr>\n",
       "      <th>youtube_channel_reklama</th>\n",
       "      <td>0.40</td>\n",
       "      <td>0.65</td>\n",
       "      <td>38.91</td>\n",
       "    </tr>\n",
       "  </tbody>\n",
       "</table>\n",
       "</div>"
      ],
      "text/plain": [
       "                         cost_by_one  profit_by_one  share\n",
       "source                                                    \n",
       "facebook_ads                    0.79           0.67 -17.04\n",
       "instagram_new_adverts           0.65           0.67   2.95\n",
       "yandex_direct                   0.46           0.65  29.16\n",
       "youtube_channel_reklama         0.40           0.65  38.91"
      ]
     },
     "execution_count": 119,
     "metadata": {},
     "output_type": "execute_result"
    }
   ],
   "source": [
    "profit_and_costs_by_one['share'] = 100 - profit_and_costs_by_one['cost_by_one']/profit_and_costs_by_one['profit_by_one']*100\n",
    "profit_and_costs_by_one"
   ]
  },
  {
   "cell_type": "code",
   "execution_count": 120,
   "id": "44a3e418-82e4-4671-800a-70e3384db091",
   "metadata": {},
   "outputs": [
    {
     "data": {
      "image/png": "[encoded data removed]",
      "text/plain": [
       "<Figure size 1080x576 with 1 Axes>"
      ]
     },
     "metadata": {
      "needs_background": "light"
     },
     "output_type": "display_data"
    }
   ],
   "source": [
    "# визуализация\n",
    "profit_and_costs_by_one['share'].plot(kind='barh', figsize=(15,8), grid=True)\n",
    "plt.title('Анализ соотношения расходов и доходов в расчёте на одного клиента по источникам')\n",
    "plt.ylabel('источник')\n",
    "plt.xlabel('значение')\n",
    "plt.xticks(rotation=45);"
   ]
  },
  {
   "cell_type": "markdown",
   "id": "9fb94477-1cea-4534-bcdb-72c95ecccc3e",
   "metadata": {},
   "source": [
    "В общем случае, youtube_channel_reklama приносит дохода почти на 40%, чем требует расходов - является самым перспективным.\n",
    "\n",
    "Самый неперспективный источник - facebook_ads - приносящий 17% убытка на каждом пользователе.\t"
   ]
  },
  {
   "cell_type": "markdown",
   "id": "d6252c20-f71d-429e-8b8b-a0fc80b825f2",
   "metadata": {},
   "source": [
    "**Расчёт для кампании в целом.**"
   ]
  },
  {
   "cell_type": "code",
   "execution_count": 121,
   "id": "13076a3a-e0fb-40c9-bc6b-d5ef3a145264",
   "metadata": {},
   "outputs": [],
   "source": [
    "costs_by_source_total = costs_by_source['cost'].sum()"
   ]
  },
  {
   "cell_type": "code",
   "execution_count": 122,
   "id": "7cbb471a-a5e7-4892-9de8-778e7d2d3dd3",
   "metadata": {},
   "outputs": [
    {
     "name": "stdout",
     "output_type": "stream",
     "text": [
      "Общая сумма расходов: 7604.0\n"
     ]
    }
   ],
   "source": [
    "print(\"Общая сумма расходов:\",np.ceil(costs_by_source_total))"
   ]
  },
  {
   "cell_type": "code",
   "execution_count": 123,
   "id": "3fb040d5-51d3-4183-bc3b-1345c5570f1d",
   "metadata": {},
   "outputs": [
    {
     "name": "stdout",
     "output_type": "stream",
     "text": [
      "Совокупный доход: 8957.0\n"
     ]
    }
   ],
   "source": [
    "print(\"Совокупный доход:\", np.ceil(profit_total))"
   ]
  },
  {
   "cell_type": "code",
   "execution_count": 124,
   "id": "0c23f0e6-a43d-4977-9a0c-df359811702a",
   "metadata": {},
   "outputs": [
    {
     "name": "stdout",
     "output_type": "stream",
     "text": [
      "Пользователей всего: 13576.0\n"
     ]
    }
   ],
   "source": [
    "user_total = data_user_source['user_id'].count()\n",
    "print(\"Пользователей всего:\", np.ceil(user_total))"
   ]
  },
  {
   "cell_type": "code",
   "execution_count": 125,
   "id": "4f12556b-5ead-4493-9799-4e9e06bbeff8",
   "metadata": {},
   "outputs": [],
   "source": [
    "profit_total_by_one = profit_total/user_total\n",
    "cost_total_by_one = costs_by_source_total/user_total"
   ]
  },
  {
   "cell_type": "code",
   "execution_count": 126,
   "id": "187021dd-9c5b-464e-8d92-deccb26ea3ec",
   "metadata": {},
   "outputs": [
    {
     "name": "stdout",
     "output_type": "stream",
     "text": [
      "Расходы превысили доходы на сумму: 1354.0 у.е.\n"
     ]
    }
   ],
   "source": [
    "delta_profit_costs = profit_total - costs_by_source_total\n",
    "print(\"Расходы превысили доходы на сумму:\", np.ceil(delta_profit_costs), 'у.е.')"
   ]
  },
  {
   "cell_type": "code",
   "execution_count": 127,
   "id": "267d4902-1da3-4945-a830-9034f805dfc4",
   "metadata": {},
   "outputs": [],
   "source": [
    "# для визуализации соберу данные\n",
    "total = pd.DataFrame({'item': ['profit_total', 'costs_total', 'user_total','profit_total_by_one', 'cost_total_by_one'],\n",
    "                           'count': [profit_total, costs_by_source_total, user_total,profit_total_by_one,cost_total_by_one]})"
   ]
  },
  {
   "cell_type": "code",
   "execution_count": 128,
   "id": "cd50689d-729d-40b6-9927-65e2f69fa4e5",
   "metadata": {},
   "outputs": [
    {
     "data": {
      "text/html": [
       "<div>\n",
       "<style scoped>\n",
       "    .dataframe tbody tr th:only-of-type {\n",
       "        vertical-align: middle;\n",
       "    }\n",
       "\n",
       "    .dataframe tbody tr th {\n",
       "        vertical-align: top;\n",
       "    }\n",
       "\n",
       "    .dataframe thead th {\n",
       "        text-align: right;\n",
       "    }\n",
       "</style>\n",
       "<table border=\"1\" class=\"dataframe\">\n",
       "  <thead>\n",
       "    <tr style=\"text-align: right;\">\n",
       "      <th></th>\n",
       "      <th>item</th>\n",
       "      <th>count</th>\n",
       "    </tr>\n",
       "  </thead>\n",
       "  <tbody>\n",
       "    <tr>\n",
       "      <th>0</th>\n",
       "      <td>profit_total</td>\n",
       "      <td>8,956.92</td>\n",
       "    </tr>\n",
       "    <tr>\n",
       "      <th>1</th>\n",
       "      <td>costs_total</td>\n",
       "      <td>7,603.58</td>\n",
       "    </tr>\n",
       "    <tr>\n",
       "      <th>2</th>\n",
       "      <td>user_total</td>\n",
       "      <td>13,576.00</td>\n",
       "    </tr>\n",
       "    <tr>\n",
       "      <th>3</th>\n",
       "      <td>profit_total_by_one</td>\n",
       "      <td>0.66</td>\n",
       "    </tr>\n",
       "    <tr>\n",
       "      <th>4</th>\n",
       "      <td>cost_total_by_one</td>\n",
       "      <td>0.56</td>\n",
       "    </tr>\n",
       "  </tbody>\n",
       "</table>\n",
       "</div>"
      ],
      "text/plain": [
       "                  item     count\n",
       "0         profit_total  8,956.92\n",
       "1          costs_total  7,603.58\n",
       "2           user_total 13,576.00\n",
       "3  profit_total_by_one      0.66\n",
       "4    cost_total_by_one      0.56"
      ]
     },
     "execution_count": 128,
     "metadata": {},
     "output_type": "execute_result"
    }
   ],
   "source": [
    "total"
   ]
  },
  {
   "cell_type": "code",
   "execution_count": 129,
   "id": "b4324869-bc84-459f-bf62-8a29c6126f51",
   "metadata": {},
   "outputs": [],
   "source": [
    "# для визуализации соберу данные\n",
    "total_V = pd.DataFrame({'item': ['Совокупная прибыль', 'Совокупные расходы', 'Поток пользователей','Доходность на 1 игрока', 'Расходы на 1 игрока'],\n",
    "                           'count': [profit_total, costs_by_source_total, user_total,profit_total_by_one,cost_total_by_one]})"
   ]
  },
  {
   "cell_type": "code",
   "execution_count": 130,
   "id": "a39b154d-56f7-4dc9-a361-73a15cfead43",
   "metadata": {},
   "outputs": [
    {
     "data": {
      "text/html": [
       "<div>\n",
       "<style scoped>\n",
       "    .dataframe tbody tr th:only-of-type {\n",
       "        vertical-align: middle;\n",
       "    }\n",
       "\n",
       "    .dataframe tbody tr th {\n",
       "        vertical-align: top;\n",
       "    }\n",
       "\n",
       "    .dataframe thead th {\n",
       "        text-align: right;\n",
       "    }\n",
       "</style>\n",
       "<table border=\"1\" class=\"dataframe\">\n",
       "  <thead>\n",
       "    <tr style=\"text-align: right;\">\n",
       "      <th></th>\n",
       "      <th>item</th>\n",
       "      <th>count</th>\n",
       "    </tr>\n",
       "  </thead>\n",
       "  <tbody>\n",
       "    <tr>\n",
       "      <th>0</th>\n",
       "      <td>Совокупная прибыль</td>\n",
       "      <td>8,956.92</td>\n",
       "    </tr>\n",
       "    <tr>\n",
       "      <th>1</th>\n",
       "      <td>Совокупные расходы</td>\n",
       "      <td>7,603.58</td>\n",
       "    </tr>\n",
       "    <tr>\n",
       "      <th>2</th>\n",
       "      <td>Поток пользователей</td>\n",
       "      <td>13,576.00</td>\n",
       "    </tr>\n",
       "    <tr>\n",
       "      <th>3</th>\n",
       "      <td>Доходность на 1 игрока</td>\n",
       "      <td>0.66</td>\n",
       "    </tr>\n",
       "    <tr>\n",
       "      <th>4</th>\n",
       "      <td>Расходы на 1 игрока</td>\n",
       "      <td>0.56</td>\n",
       "    </tr>\n",
       "  </tbody>\n",
       "</table>\n",
       "</div>"
      ],
      "text/plain": [
       "                     item     count\n",
       "0      Совокупная прибыль  8,956.92\n",
       "1      Совокупные расходы  7,603.58\n",
       "2     Поток пользователей 13,576.00\n",
       "3  Доходность на 1 игрока      0.66\n",
       "4     Расходы на 1 игрока      0.56"
      ]
     },
     "execution_count": 130,
     "metadata": {},
     "output_type": "execute_result"
    }
   ],
   "source": [
    "total_V"
   ]
  },
  {
   "cell_type": "markdown",
   "id": "aaf045ba-08ab-415b-8be7-e1c6380fad6d",
   "metadata": {},
   "source": [
    "### ROMI"
   ]
  },
  {
   "cell_type": "markdown",
   "id": "defc1b69-0dc6-4720-940f-1be847e23464",
   "metadata": {},
   "source": [
    "ROMI (Return on Marketing Investment)** - возврат на маркетинговые инвестиции за каждую вложенную у.е. в маркетинг. Если вы не располагаете данными о затратах на поддержание офиса, зарплате сотрудников, аренде и т.д., но имеете представление об инвестировании маркетинга, то сможете определить ROMI (return on marketing investment). Многие маркетологи имеют в виду именно его, когда говорят о доходности/убыточности бизнеса.\n",
    "\n",
    "Считается этот показатель по форуме:\n",
    "\n",
    "ROMI = (прибыль/расходы на маркетинг) х 100%\n",
    "\n",
    "В этой формуле:\n",
    "\n",
    "прибыль — это доходы от инвестиций минус расходы на маркетинг;\n",
    "расходы — общие затраты на рекламу\n",
    "Этот коэффициент поможет вам оценить рентабельность вложений в маркетинг и другие мероприятия, направленные на увеличение сбыта.\n",
    "\n",
    "Источник:https://vc.ru/marketing/188458-roi-romi-roas-chem-otlichayutsya-i-kak-ih-poschitat"
   ]
  },
  {
   "cell_type": "code",
   "execution_count": 131,
   "id": "e5b586bf-b61f-4c60-a631-5fe4a466aedd",
   "metadata": {},
   "outputs": [],
   "source": [
    "# датафрейм для расчёта romi и визуализации\n",
    "profit_and_costs_romi = profit_and_costs[['source','cost','price']]"
   ]
  },
  {
   "cell_type": "code",
   "execution_count": 132,
   "id": "2d66da5a-7870-4faf-b9e9-e2a316a8de1a",
   "metadata": {},
   "outputs": [],
   "source": [
    "profit_and_costs_romi['romi'] = (profit_and_costs['price']-profit_and_costs['cost'])/profit_and_costs['cost']*100"
   ]
  },
  {
   "cell_type": "code",
   "execution_count": 133,
   "id": "12d8f28b-7847-4d1f-b110-43cfaf9e66dc",
   "metadata": {},
   "outputs": [
    {
     "data": {
      "text/html": [
       "<div>\n",
       "<style scoped>\n",
       "    .dataframe tbody tr th:only-of-type {\n",
       "        vertical-align: middle;\n",
       "    }\n",
       "\n",
       "    .dataframe tbody tr th {\n",
       "        vertical-align: top;\n",
       "    }\n",
       "\n",
       "    .dataframe thead th {\n",
       "        text-align: right;\n",
       "    }\n",
       "</style>\n",
       "<table border=\"1\" class=\"dataframe\">\n",
       "  <thead>\n",
       "    <tr style=\"text-align: right;\">\n",
       "      <th></th>\n",
       "      <th>cost</th>\n",
       "      <th>price</th>\n",
       "      <th>romi</th>\n",
       "    </tr>\n",
       "    <tr>\n",
       "      <th>source</th>\n",
       "      <th></th>\n",
       "      <th></th>\n",
       "      <th></th>\n",
       "    </tr>\n",
       "  </thead>\n",
       "  <tbody>\n",
       "    <tr>\n",
       "      <th>yandex_direct</th>\n",
       "      <td>2,233.11</td>\n",
       "      <td>3,152.24</td>\n",
       "      <td>41.16</td>\n",
       "    </tr>\n",
       "    <tr>\n",
       "      <th>instagram_new_adverts</th>\n",
       "      <td>2,161.44</td>\n",
       "      <td>2,227.05</td>\n",
       "      <td>3.04</td>\n",
       "    </tr>\n",
       "    <tr>\n",
       "      <th>facebook_ads</th>\n",
       "      <td>2,140.90</td>\n",
       "      <td>1,829.17</td>\n",
       "      <td>-14.56</td>\n",
       "    </tr>\n",
       "    <tr>\n",
       "      <th>youtube_channel_reklama</th>\n",
       "      <td>1,068.12</td>\n",
       "      <td>1,748.46</td>\n",
       "      <td>63.70</td>\n",
       "    </tr>\n",
       "  </tbody>\n",
       "</table>\n",
       "</div>"
      ],
      "text/plain": [
       "                            cost    price   romi\n",
       "source                                          \n",
       "yandex_direct           2,233.11 3,152.24  41.16\n",
       "instagram_new_adverts   2,161.44 2,227.05   3.04\n",
       "facebook_ads            2,140.90 1,829.17 -14.56\n",
       "youtube_channel_reklama 1,068.12 1,748.46  63.70"
      ]
     },
     "execution_count": 133,
     "metadata": {},
     "output_type": "execute_result"
    }
   ],
   "source": [
    "profit_and_costs_romi.set_index('source', inplace=True)\n",
    "profit_and_costs_romi"
   ]
  },
  {
   "cell_type": "code",
   "execution_count": 134,
   "id": "4a0d57c2-7169-458f-92ac-ba6f4499d59a",
   "metadata": {},
   "outputs": [
    {
     "data": {
      "image/png": "[encoded data removed]",
      "text/plain": [
       "<Figure size 1080x576 with 1 Axes>"
      ]
     },
     "metadata": {
      "needs_background": "light"
     },
     "output_type": "display_data"
    }
   ],
   "source": [
    "# визуализация\n",
    "profit_and_costs_romi['romi'].sort_values(ascending = False).plot(kind='barh', figsize=(15,8), grid=True)\n",
    "plt.title('Анализ возврата маркетинговых расходов по источникам')\n",
    "plt.ylabel('источник')\n",
    "plt.xlabel('значение')\n",
    "plt.xticks(rotation=45);"
   ]
  },
  {
   "cell_type": "markdown",
   "id": "e6ab1c4a-cc9d-4631-9ef2-1bd74bc80a22",
   "metadata": {},
   "source": [
    "По показателю ROMI - возврат на маркетинговые инвестиции за каждую вложенную у.е. в маркетинг - youtube_channel_reklama, Самый неперспективный источник - facebook_ads, приносящий 14% убытка."
   ]
  },
  {
   "cell_type": "code",
   "execution_count": 135,
   "id": "76c6baa8-f683-4c8a-a3a5-9504279720ee",
   "metadata": {},
   "outputs": [],
   "source": [
    "romi_total = round(((profit_total - costs_by_source_total)/costs_by_source_total*100),2)\n",
    "total.loc[5] = ['romi_total', 17.8] "
   ]
  },
  {
   "cell_type": "code",
   "execution_count": 136,
   "id": "83137d1a-639d-4a21-83e5-b8c1495ef88f",
   "metadata": {},
   "outputs": [
    {
     "data": {
      "text/html": [
       "<div>\n",
       "<style scoped>\n",
       "    .dataframe tbody tr th:only-of-type {\n",
       "        vertical-align: middle;\n",
       "    }\n",
       "\n",
       "    .dataframe tbody tr th {\n",
       "        vertical-align: top;\n",
       "    }\n",
       "\n",
       "    .dataframe thead th {\n",
       "        text-align: right;\n",
       "    }\n",
       "</style>\n",
       "<table border=\"1\" class=\"dataframe\">\n",
       "  <thead>\n",
       "    <tr style=\"text-align: right;\">\n",
       "      <th></th>\n",
       "      <th>item</th>\n",
       "      <th>count</th>\n",
       "    </tr>\n",
       "  </thead>\n",
       "  <tbody>\n",
       "    <tr>\n",
       "      <th>0</th>\n",
       "      <td>profit_total</td>\n",
       "      <td>8,956.92</td>\n",
       "    </tr>\n",
       "    <tr>\n",
       "      <th>1</th>\n",
       "      <td>costs_total</td>\n",
       "      <td>7,603.58</td>\n",
       "    </tr>\n",
       "    <tr>\n",
       "      <th>2</th>\n",
       "      <td>user_total</td>\n",
       "      <td>13,576.00</td>\n",
       "    </tr>\n",
       "    <tr>\n",
       "      <th>3</th>\n",
       "      <td>profit_total_by_one</td>\n",
       "      <td>0.66</td>\n",
       "    </tr>\n",
       "    <tr>\n",
       "      <th>4</th>\n",
       "      <td>cost_total_by_one</td>\n",
       "      <td>0.56</td>\n",
       "    </tr>\n",
       "    <tr>\n",
       "      <th>5</th>\n",
       "      <td>romi_total</td>\n",
       "      <td>17.80</td>\n",
       "    </tr>\n",
       "  </tbody>\n",
       "</table>\n",
       "</div>"
      ],
      "text/plain": [
       "                  item     count\n",
       "0         profit_total  8,956.92\n",
       "1          costs_total  7,603.58\n",
       "2           user_total 13,576.00\n",
       "3  profit_total_by_one      0.66\n",
       "4    cost_total_by_one      0.56\n",
       "5           romi_total     17.80"
      ]
     },
     "execution_count": 136,
     "metadata": {},
     "output_type": "execute_result"
    }
   ],
   "source": [
    "# показатели по кампании в целом\n",
    "total"
   ]
  },
  {
   "cell_type": "code",
   "execution_count": 137,
   "id": "f6e93c7b-8089-4361-a9a1-080621e60f40",
   "metadata": {},
   "outputs": [],
   "source": [
    "# для визуализации соберу данные\n",
    "total_V = pd.DataFrame({'item': ['Совокупная прибыль', 'Совокупные расходы', 'Поток пользователей','Доходность на 1 игрока', 'Расходы на 1 игрока','Возврат на 1 у.е. маркетинговых расходов' ],\n",
    "                           'count': ['8957', '7603', '13576',' 0,66','0,56', '17,8']})"
   ]
  },
  {
   "cell_type": "code",
   "execution_count": 138,
   "id": "604726fc-ddaf-4511-b7b7-59e6f3f17990",
   "metadata": {},
   "outputs": [
    {
     "data": {
      "text/html": [
       "<div>\n",
       "<style scoped>\n",
       "    .dataframe tbody tr th:only-of-type {\n",
       "        vertical-align: middle;\n",
       "    }\n",
       "\n",
       "    .dataframe tbody tr th {\n",
       "        vertical-align: top;\n",
       "    }\n",
       "\n",
       "    .dataframe thead th {\n",
       "        text-align: right;\n",
       "    }\n",
       "</style>\n",
       "<table border=\"1\" class=\"dataframe\">\n",
       "  <thead>\n",
       "    <tr style=\"text-align: right;\">\n",
       "      <th></th>\n",
       "      <th>item</th>\n",
       "      <th>count</th>\n",
       "    </tr>\n",
       "  </thead>\n",
       "  <tbody>\n",
       "    <tr>\n",
       "      <th>0</th>\n",
       "      <td>Совокупная прибыль</td>\n",
       "      <td>8957</td>\n",
       "    </tr>\n",
       "    <tr>\n",
       "      <th>1</th>\n",
       "      <td>Совокупные расходы</td>\n",
       "      <td>7603</td>\n",
       "    </tr>\n",
       "    <tr>\n",
       "      <th>2</th>\n",
       "      <td>Поток пользователей</td>\n",
       "      <td>13576</td>\n",
       "    </tr>\n",
       "    <tr>\n",
       "      <th>3</th>\n",
       "      <td>Доходность на 1 игрока</td>\n",
       "      <td>0,66</td>\n",
       "    </tr>\n",
       "    <tr>\n",
       "      <th>4</th>\n",
       "      <td>Расходы на 1 игрока</td>\n",
       "      <td>0,56</td>\n",
       "    </tr>\n",
       "    <tr>\n",
       "      <th>5</th>\n",
       "      <td>Возврат на 1 у.е. маркетинговых расходов</td>\n",
       "      <td>17,8</td>\n",
       "    </tr>\n",
       "  </tbody>\n",
       "</table>\n",
       "</div>"
      ],
      "text/plain": [
       "                                       item  count\n",
       "0                        Совокупная прибыль   8957\n",
       "1                        Совокупные расходы   7603\n",
       "2                       Поток пользователей  13576\n",
       "3                    Доходность на 1 игрока   0,66\n",
       "4                       Расходы на 1 игрока   0,56\n",
       "5  Возврат на 1 у.е. маркетинговых расходов   17,8"
      ]
     },
     "execution_count": 138,
     "metadata": {},
     "output_type": "execute_result"
    }
   ],
   "source": [
    "total_V"
   ]
  },
  {
   "cell_type": "markdown",
   "id": "5243c5d2-e37e-4745-a138-10ae3c6fd5ea",
   "metadata": {
    "tags": []
   },
   "source": [
    "### Вывод по исследованию эффективности рекламной кампании.\n",
    "Первое место по привлечению пользователей занимает yandex_direct.\n",
    "\n",
    "На втором месте instagram_new_adverts с высоким трафиком и примерно равными доходами и расходами.\n",
    "\n",
    "youtube_channel_reklama при примерном равенстве потока пользователей и прибыльности в сранении с facebook_ads демонстрирует более низкую расходную часть. Данный источник наимболее эффективен при расчёте показателя на одного пользователя.\n",
    "\n",
    "В общем случае, youtube_channel_reklama приносит дохода, чем требует расходов - является самым перспективным.\n",
    "\n",
    "Самый неперспективный источник - facebook_ads - приносящий 17% убытка на каждом пользователе.\t\n",
    "\n",
    "По показателю ROMI - возврат на маркетинговые инвестиции за каждую вложенную у.е. в маркетинг - лидирует youtube_channel_reklama - 40%. Самый неперспективный источник - facebook_ads, приносящий 14% убытка.\n",
    "\n",
    "Рекламную компанию можно признать успешной: доходность превысила расходы на 1354.0 у.е. ROMI составил 17,8. Доход на одного пользователя 0,66 у.е. при расходе в 0,56 у.е."
   ]
  },
  {
   "cell_type": "markdown",
   "id": "b2406498-073a-4f1c-9f57-4cf810fca168",
   "metadata": {},
   "source": [
    "## Анализ стратегий в разрезе времени.\n",
    "\n",
    "Завершение первого уровня требует от игрока выполнения одного из двух условий:\n",
    "\n",
    "- Победа над первым врагом - агрессивная стретегия - aggressive_strategy.\n",
    "- Реализация проекта - разработка орбитальной сборки спутников - стратегия проекта - project_strategy"
   ]
  },
  {
   "cell_type": "code",
   "execution_count": 139,
   "id": "6527238b-fab3-476e-9764-5a8c2da64a7f",
   "metadata": {},
   "outputs": [
    {
     "data": {
      "text/html": [
       "<div>\n",
       "<style scoped>\n",
       "    .dataframe tbody tr th:only-of-type {\n",
       "        vertical-align: middle;\n",
       "    }\n",
       "\n",
       "    .dataframe tbody tr th {\n",
       "        vertical-align: top;\n",
       "    }\n",
       "\n",
       "    .dataframe thead th {\n",
       "        text-align: right;\n",
       "    }\n",
       "</style>\n",
       "<table border=\"1\" class=\"dataframe\">\n",
       "  <thead>\n",
       "    <tr style=\"text-align: right;\">\n",
       "      <th></th>\n",
       "      <th>user_id</th>\n",
       "      <th>first_event</th>\n",
       "    </tr>\n",
       "  </thead>\n",
       "  <tbody>\n",
       "    <tr>\n",
       "      <th>835</th>\n",
       "      <td>0f562039-f5cb-4227-bf49-f907df089506</td>\n",
       "      <td>2020-05-07 13:52:46</td>\n",
       "    </tr>\n",
       "  </tbody>\n",
       "</table>\n",
       "</div>"
      ],
      "text/plain": [
       "                                  user_id         first_event\n",
       "835  0f562039-f5cb-4227-bf49-f907df089506 2020-05-07 13:52:46"
      ]
     },
     "execution_count": 139,
     "metadata": {},
     "output_type": "execute_result"
    }
   ],
   "source": [
    "# данные о самом раннем событии для пользователей\n",
    "df_first = data_game_actions.groupby('user_id')['event_datetime'].min().reset_index().rename(columns={'event_datetime':'first_event'})\n",
    "df_first.sample()"
   ]
  },
  {
   "cell_type": "code",
   "execution_count": 140,
   "id": "1951b1ee-bfa7-4405-bcfd-89b5d078115b",
   "metadata": {},
   "outputs": [
    {
     "data": {
      "text/html": [
       "<div>\n",
       "<style scoped>\n",
       "    .dataframe tbody tr th:only-of-type {\n",
       "        vertical-align: middle;\n",
       "    }\n",
       "\n",
       "    .dataframe tbody tr th {\n",
       "        vertical-align: top;\n",
       "    }\n",
       "\n",
       "    .dataframe thead th {\n",
       "        text-align: right;\n",
       "    }\n",
       "</style>\n",
       "<table border=\"1\" class=\"dataframe\">\n",
       "  <thead>\n",
       "    <tr style=\"text-align: right;\">\n",
       "      <th></th>\n",
       "      <th>user_id</th>\n",
       "      <th>last_event</th>\n",
       "    </tr>\n",
       "  </thead>\n",
       "  <tbody>\n",
       "    <tr>\n",
       "      <th>1079</th>\n",
       "      <td>13bc29bb-038d-4203-a67f-f231e8e04f0e</td>\n",
       "      <td>2020-05-20 20:36:54</td>\n",
       "    </tr>\n",
       "  </tbody>\n",
       "</table>\n",
       "</div>"
      ],
      "text/plain": [
       "                                   user_id          last_event\n",
       "1079  13bc29bb-038d-4203-a67f-f231e8e04f0e 2020-05-20 20:36:54"
      ]
     },
     "execution_count": 140,
     "metadata": {},
     "output_type": "execute_result"
    }
   ],
   "source": [
    "# данные о самом позднем событии для пользователей\n",
    "df_last = data_game_actions.groupby('user_id')['event_datetime'].max().reset_index().rename(columns={'event_datetime':'last_event'})\n",
    "df_last.sample()"
   ]
  },
  {
   "cell_type": "code",
   "execution_count": 141,
   "id": "ca6d617a-6097-407e-907d-25414006f0ff",
   "metadata": {},
   "outputs": [],
   "source": [
    "# объединение сведений об активности со сведениями о первом действии\n",
    "df = data_game_actions.merge(df_first, how='left', on='user_id')"
   ]
  },
  {
   "cell_type": "code",
   "execution_count": 142,
   "id": "3e239db9-dbb7-415e-ae63-022e06d300fb",
   "metadata": {},
   "outputs": [
    {
     "data": {
      "text/html": [
       "<div>\n",
       "<style scoped>\n",
       "    .dataframe tbody tr th:only-of-type {\n",
       "        vertical-align: middle;\n",
       "    }\n",
       "\n",
       "    .dataframe tbody tr th {\n",
       "        vertical-align: top;\n",
       "    }\n",
       "\n",
       "    .dataframe thead th {\n",
       "        text-align: right;\n",
       "    }\n",
       "</style>\n",
       "<table border=\"1\" class=\"dataframe\">\n",
       "  <thead>\n",
       "    <tr style=\"text-align: right;\">\n",
       "      <th></th>\n",
       "      <th>event_datetime</th>\n",
       "      <th>event</th>\n",
       "      <th>building_type</th>\n",
       "      <th>user_id</th>\n",
       "      <th>project_type</th>\n",
       "      <th>day</th>\n",
       "      <th>first_event</th>\n",
       "    </tr>\n",
       "  </thead>\n",
       "  <tbody>\n",
       "    <tr>\n",
       "      <th>55673</th>\n",
       "      <td>2020-05-09 10:37:55</td>\n",
       "      <td>building</td>\n",
       "      <td>assembly_shop</td>\n",
       "      <td>805e3a39-949a-49ec-81c7-2392d1ccf022</td>\n",
       "      <td>no_finished_project</td>\n",
       "      <td>2020-05-09</td>\n",
       "      <td>2020-05-04 04:51:57</td>\n",
       "    </tr>\n",
       "  </tbody>\n",
       "</table>\n",
       "</div>"
      ],
      "text/plain": [
       "           event_datetime     event  building_type  \\\n",
       "55673 2020-05-09 10:37:55  building  assembly_shop   \n",
       "\n",
       "                                    user_id         project_type        day  \\\n",
       "55673  805e3a39-949a-49ec-81c7-2392d1ccf022  no_finished_project 2020-05-09   \n",
       "\n",
       "              first_event  \n",
       "55673 2020-05-04 04:51:57  "
      ]
     },
     "execution_count": 142,
     "metadata": {},
     "output_type": "execute_result"
    }
   ],
   "source": [
    "df.sample()"
   ]
  },
  {
   "cell_type": "code",
   "execution_count": 143,
   "id": "c91493bc-8daf-43ee-a6ca-ffccce4cd649",
   "metadata": {},
   "outputs": [],
   "source": [
    "# добавление сведений о самом последнем действиии в исследуемом периоде\n",
    "df = df.merge(df_last, how='left', on='user_id')"
   ]
  },
  {
   "cell_type": "code",
   "execution_count": 144,
   "id": "f300787d-9830-4b41-b3bd-cdec458e5988",
   "metadata": {},
   "outputs": [
    {
     "data": {
      "text/html": [
       "<div>\n",
       "<style scoped>\n",
       "    .dataframe tbody tr th:only-of-type {\n",
       "        vertical-align: middle;\n",
       "    }\n",
       "\n",
       "    .dataframe tbody tr th {\n",
       "        vertical-align: top;\n",
       "    }\n",
       "\n",
       "    .dataframe thead th {\n",
       "        text-align: right;\n",
       "    }\n",
       "</style>\n",
       "<table border=\"1\" class=\"dataframe\">\n",
       "  <thead>\n",
       "    <tr style=\"text-align: right;\">\n",
       "      <th></th>\n",
       "      <th>event_datetime</th>\n",
       "      <th>event</th>\n",
       "      <th>building_type</th>\n",
       "      <th>user_id</th>\n",
       "      <th>project_type</th>\n",
       "      <th>day</th>\n",
       "      <th>first_event</th>\n",
       "      <th>last_event</th>\n",
       "    </tr>\n",
       "  </thead>\n",
       "  <tbody>\n",
       "    <tr>\n",
       "      <th>103559</th>\n",
       "      <td>2020-05-14 04:45:29</td>\n",
       "      <td>building</td>\n",
       "      <td>spaceport</td>\n",
       "      <td>c1e1e59c-6bd5-4187-868e-0449ee45cbd2</td>\n",
       "      <td>no_finished_project</td>\n",
       "      <td>2020-05-14</td>\n",
       "      <td>2020-05-07 18:30:10</td>\n",
       "      <td>2020-05-17 20:57:57</td>\n",
       "    </tr>\n",
       "  </tbody>\n",
       "</table>\n",
       "</div>"
      ],
      "text/plain": [
       "            event_datetime     event building_type  \\\n",
       "103559 2020-05-14 04:45:29  building     spaceport   \n",
       "\n",
       "                                     user_id         project_type        day  \\\n",
       "103559  c1e1e59c-6bd5-4187-868e-0449ee45cbd2  no_finished_project 2020-05-14   \n",
       "\n",
       "               first_event          last_event  \n",
       "103559 2020-05-07 18:30:10 2020-05-17 20:57:57  "
      ]
     },
     "execution_count": 144,
     "metadata": {},
     "output_type": "execute_result"
    }
   ],
   "source": [
    "df.sample()"
   ]
  },
  {
   "cell_type": "code",
   "execution_count": 145,
   "id": "419ac05a-1315-470c-a378-231957a3cd8f",
   "metadata": {},
   "outputs": [
    {
     "data": {
      "text/html": [
       "<div>\n",
       "<style scoped>\n",
       "    .dataframe tbody tr th:only-of-type {\n",
       "        vertical-align: middle;\n",
       "    }\n",
       "\n",
       "    .dataframe tbody tr th {\n",
       "        vertical-align: top;\n",
       "    }\n",
       "\n",
       "    .dataframe thead th {\n",
       "        text-align: right;\n",
       "    }\n",
       "</style>\n",
       "<table border=\"1\" class=\"dataframe\">\n",
       "  <thead>\n",
       "    <tr style=\"text-align: right;\">\n",
       "      <th></th>\n",
       "      <th>event_datetime</th>\n",
       "      <th>event</th>\n",
       "      <th>building_type</th>\n",
       "      <th>user_id</th>\n",
       "      <th>project_type</th>\n",
       "      <th>day</th>\n",
       "      <th>first_event</th>\n",
       "      <th>last_event</th>\n",
       "      <th>delta</th>\n",
       "    </tr>\n",
       "  </thead>\n",
       "  <tbody>\n",
       "    <tr>\n",
       "      <th>0</th>\n",
       "      <td>2020-05-04 00:00:01</td>\n",
       "      <td>building</td>\n",
       "      <td>assembly_shop</td>\n",
       "      <td>55e92310-cb8e-4754-b622-597e124b03de</td>\n",
       "      <td>no_finished_project</td>\n",
       "      <td>2020-05-04</td>\n",
       "      <td>2020-05-04 00:00:01</td>\n",
       "      <td>2020-05-10 20:27:01</td>\n",
       "      <td>6 days 20:27:00</td>\n",
       "    </tr>\n",
       "    <tr>\n",
       "      <th>1</th>\n",
       "      <td>2020-05-04 00:00:03</td>\n",
       "      <td>building</td>\n",
       "      <td>assembly_shop</td>\n",
       "      <td>c07b1c10-f477-44dc-81dc-ec82254b1347</td>\n",
       "      <td>no_finished_project</td>\n",
       "      <td>2020-05-04</td>\n",
       "      <td>2020-05-04 00:00:03</td>\n",
       "      <td>2020-05-15 05:29:13</td>\n",
       "      <td>11 days 05:29:10</td>\n",
       "    </tr>\n",
       "  </tbody>\n",
       "</table>\n",
       "</div>"
      ],
      "text/plain": [
       "       event_datetime     event  building_type  \\\n",
       "0 2020-05-04 00:00:01  building  assembly_shop   \n",
       "1 2020-05-04 00:00:03  building  assembly_shop   \n",
       "\n",
       "                                user_id         project_type        day  \\\n",
       "0  55e92310-cb8e-4754-b622-597e124b03de  no_finished_project 2020-05-04   \n",
       "1  c07b1c10-f477-44dc-81dc-ec82254b1347  no_finished_project 2020-05-04   \n",
       "\n",
       "          first_event          last_event            delta  \n",
       "0 2020-05-04 00:00:01 2020-05-10 20:27:01  6 days 20:27:00  \n",
       "1 2020-05-04 00:00:03 2020-05-15 05:29:13 11 days 05:29:10  "
      ]
     },
     "execution_count": 145,
     "metadata": {},
     "output_type": "execute_result"
    }
   ],
   "source": [
    "# добавление столбца с расчётом времени прибывания в игре\n",
    "df['delta'] = df['last_event']-df['first_event']\n",
    "df.head(2)"
   ]
  },
  {
   "cell_type": "code",
   "execution_count": 146,
   "id": "84377d8c-2670-4f68-bb63-7c82f259c938",
   "metadata": {},
   "outputs": [],
   "source": [
    "df['days_in_game'] = df['delta'].dt.days"
   ]
  },
  {
   "cell_type": "code",
   "execution_count": 147,
   "id": "426cbac2-acd6-444d-b030-763a87296778",
   "metadata": {},
   "outputs": [
    {
     "name": "stdout",
     "output_type": "stream",
     "text": [
      "<class 'pandas.core.frame.DataFrame'>\n",
      "Int64Index: 135639 entries, 0 to 135638\n",
      "Data columns (total 10 columns):\n",
      " #   Column          Non-Null Count   Dtype          \n",
      "---  ------          --------------   -----          \n",
      " 0   event_datetime  135639 non-null  datetime64[ns] \n",
      " 1   event           135639 non-null  object         \n",
      " 2   building_type   135639 non-null  object         \n",
      " 3   user_id         135639 non-null  object         \n",
      " 4   project_type    135639 non-null  object         \n",
      " 5   day             135639 non-null  datetime64[ns] \n",
      " 6   first_event     135639 non-null  datetime64[ns] \n",
      " 7   last_event      135639 non-null  datetime64[ns] \n",
      " 8   delta           135639 non-null  timedelta64[ns]\n",
      " 9   days_in_game    135639 non-null  int64          \n",
      "dtypes: datetime64[ns](4), int64(1), object(4), timedelta64[ns](1)\n",
      "memory usage: 11.4+ MB\n"
     ]
    }
   ],
   "source": [
    "df.info()"
   ]
  },
  {
   "cell_type": "code",
   "execution_count": 148,
   "id": "b61af51f-e6bf-4d08-9348-ae55410bda2e",
   "metadata": {},
   "outputs": [
    {
     "data": {
      "text/plain": [
       "event\n",
       "building           0 days 00:00:00\n",
       "finished_stage_1   0 days 09:39:01\n",
       "project            5 days 03:22:27\n",
       "Name: delta, dtype: timedelta64[ns]"
      ]
     },
     "execution_count": 148,
     "metadata": {},
     "output_type": "execute_result"
    }
   ],
   "source": [
    "# самое быстрое прохождение\n",
    "df.groupby('event')['delta'].min()"
   ]
  },
  {
   "cell_type": "markdown",
   "id": "2d301e20-135b-44f7-9f25-00188d0af011",
   "metadata": {},
   "source": [
    "Самое быстрое прохождение 9 часов 39 минут."
   ]
  },
  {
   "cell_type": "code",
   "execution_count": 149,
   "id": "b2f97d47-1208-49f8-adfc-918b5727fb5e",
   "metadata": {},
   "outputs": [
    {
     "data": {
      "text/plain": [
       "event\n",
       "building            30\n",
       "finished_stage_1    30\n",
       "project             29\n",
       "Name: days_in_game, dtype: int64"
      ]
     },
     "execution_count": 149,
     "metadata": {},
     "output_type": "execute_result"
    }
   ],
   "source": [
    "# самое медленное прохождение\n",
    "df.groupby('event')['days_in_game'].max()"
   ]
  },
  {
   "cell_type": "markdown",
   "id": "d4b45cac-4c6f-4af7-b725-4bd050724b0f",
   "metadata": {},
   "source": [
    "Самое медленное прохождение 30 дней."
   ]
  },
  {
   "cell_type": "code",
   "execution_count": 150,
   "id": "72c55804-75a2-43c0-8e7b-ed6e37875e68",
   "metadata": {},
   "outputs": [
    {
     "data": {
      "text/plain": [
       "count   135,639.00\n",
       "mean         11.24\n",
       "std           4.07\n",
       "min           0.00\n",
       "25%           9.00\n",
       "50%          11.00\n",
       "75%          14.00\n",
       "max          30.00\n",
       "Name: days_in_game, dtype: float64"
      ]
     },
     "execution_count": 150,
     "metadata": {},
     "output_type": "execute_result"
    }
   ],
   "source": [
    "df['days_in_game'].describe()"
   ]
  },
  {
   "cell_type": "code",
   "execution_count": 151,
   "id": "26cc2566-926a-48ab-9e07-67c4fa31b9b1",
   "metadata": {},
   "outputs": [
    {
     "data": {
      "text/html": [
       "<div>\n",
       "<style scoped>\n",
       "    .dataframe tbody tr th:only-of-type {\n",
       "        vertical-align: middle;\n",
       "    }\n",
       "\n",
       "    .dataframe tbody tr th {\n",
       "        vertical-align: top;\n",
       "    }\n",
       "\n",
       "    .dataframe thead th {\n",
       "        text-align: right;\n",
       "    }\n",
       "</style>\n",
       "<table border=\"1\" class=\"dataframe\">\n",
       "  <thead>\n",
       "    <tr style=\"text-align: right;\">\n",
       "      <th></th>\n",
       "      <th>event_datetime</th>\n",
       "      <th>event</th>\n",
       "      <th>building_type</th>\n",
       "      <th>user_id</th>\n",
       "      <th>project_type</th>\n",
       "      <th>day</th>\n",
       "      <th>first_event</th>\n",
       "      <th>last_event</th>\n",
       "      <th>delta</th>\n",
       "      <th>days_in_game</th>\n",
       "    </tr>\n",
       "  </thead>\n",
       "  <tbody>\n",
       "    <tr>\n",
       "      <th>0</th>\n",
       "      <td>2020-05-04 00:00:01</td>\n",
       "      <td>building</td>\n",
       "      <td>assembly_shop</td>\n",
       "      <td>55e92310-cb8e-4754-b622-597e124b03de</td>\n",
       "      <td>no_finished_project</td>\n",
       "      <td>2020-05-04</td>\n",
       "      <td>2020-05-04 00:00:01</td>\n",
       "      <td>2020-05-10 20:27:01</td>\n",
       "      <td>6 days 20:27:00</td>\n",
       "      <td>6</td>\n",
       "    </tr>\n",
       "    <tr>\n",
       "      <th>1</th>\n",
       "      <td>2020-05-04 00:00:16</td>\n",
       "      <td>building</td>\n",
       "      <td>assembly_shop</td>\n",
       "      <td>92c69003-d60a-444a-827f-8cc51bf6bf4c</td>\n",
       "      <td>no_finished_project</td>\n",
       "      <td>2020-05-04</td>\n",
       "      <td>2020-05-04 00:00:16</td>\n",
       "      <td>2020-05-12 04:29:54</td>\n",
       "      <td>8 days 04:29:38</td>\n",
       "      <td>8</td>\n",
       "    </tr>\n",
       "  </tbody>\n",
       "</table>\n",
       "</div>"
      ],
      "text/plain": [
       "       event_datetime     event  building_type  \\\n",
       "0 2020-05-04 00:00:01  building  assembly_shop   \n",
       "1 2020-05-04 00:00:16  building  assembly_shop   \n",
       "\n",
       "                                user_id         project_type        day  \\\n",
       "0  55e92310-cb8e-4754-b622-597e124b03de  no_finished_project 2020-05-04   \n",
       "1  92c69003-d60a-444a-827f-8cc51bf6bf4c  no_finished_project 2020-05-04   \n",
       "\n",
       "          first_event          last_event           delta  days_in_game  \n",
       "0 2020-05-04 00:00:01 2020-05-10 20:27:01 6 days 20:27:00             6  \n",
       "1 2020-05-04 00:00:16 2020-05-12 04:29:54 8 days 04:29:38             8  "
      ]
     },
     "execution_count": 151,
     "metadata": {},
     "output_type": "execute_result"
    }
   ],
   "source": [
    "df_building = df.query('user_id not in @total_list').reset_index(drop=True)\n",
    "df_building.head(2)"
   ]
  },
  {
   "cell_type": "code",
   "execution_count": 152,
   "id": "ba0782f0-3165-44e6-b46c-03903588315e",
   "metadata": {},
   "outputs": [
    {
     "name": "stdout",
     "output_type": "stream",
     "text": [
      "Среднее количество дней нахождения в приложении для непрошедших уровень: 10.56 дней\n"
     ]
    }
   ],
   "source": [
    "print(\"Среднее количество дней нахождения в приложении для непрошедших уровень:\",round(df_building['days_in_game'].mean(),2), \"дней\")"
   ]
  },
  {
   "cell_type": "code",
   "execution_count": 153,
   "id": "6b4b9a6f-ba93-402f-8384-8dc98dcc9254",
   "metadata": {},
   "outputs": [
    {
     "data": {
      "image/png": "[encoded data removed]",
      "text/plain": [
       "<Figure size 432x288 with 1 Axes>"
      ]
     },
     "metadata": {
      "needs_background": "light"
     },
     "output_type": "display_data"
    }
   ],
   "source": [
    "# визуализация для среднего количества дней нахождения в приложении для непрошедших уровень\n",
    "df_building['days_in_game'].hist(bins = 100);\n",
    "plt.title('Количество дней нахождения в приложении для непрошедших уровень')\n",
    "plt.ylabel('количество id')\n",
    "plt.xlabel('№ дня исследования')\n",
    "plt.xticks();"
   ]
  },
  {
   "cell_type": "code",
   "execution_count": 154,
   "id": "bd806bee-4c7d-47ca-a2f1-d2628920135a",
   "metadata": {},
   "outputs": [],
   "source": [
    "# игроки, применившие агрессивную стратегию\n",
    "df_aggressive_strategy = df.query('user_id in @users_aggressive_list_2').reset_index(drop=True)"
   ]
  },
  {
   "cell_type": "code",
   "execution_count": 155,
   "id": "a23e070d-e811-4cba-bd1b-d7288df9dd92",
   "metadata": {},
   "outputs": [
    {
     "name": "stdout",
     "output_type": "stream",
     "text": [
      "Среднее количество дней нахождения в приложении игроков с агрессивной стратегией: 11.18 дней\n"
     ]
    }
   ],
   "source": [
    "print(\"Среднее количество дней нахождения в приложении игроков с агрессивной стратегией:\",round(df_aggressive_strategy['days_in_game'].mean(),2), \"дней\")"
   ]
  },
  {
   "cell_type": "code",
   "execution_count": 156,
   "id": "d0d6de24-085b-4101-acc2-51992a8241de",
   "metadata": {},
   "outputs": [
    {
     "data": {
      "image/png": "[encoded data removed]",
      "text/plain": [
       "<Figure size 432x288 with 1 Axes>"
      ]
     },
     "metadata": {
      "needs_background": "light"
     },
     "output_type": "display_data"
    }
   ],
   "source": [
    "# визуализация для среднего количества дней нахождения в игроков с агрессивной стратегией:\n",
    "df_aggressive_strategy['days_in_game'].hist(bins = 100);\n",
    "plt.title('Количество дней нахождения в приложении игроков с агрессивной стратегией')\n",
    "plt.ylabel('количество id')\n",
    "plt.xlabel('№ дня исследования')\n",
    "plt.xticks();"
   ]
  },
  {
   "cell_type": "code",
   "execution_count": 157,
   "id": "57bb592f-a941-42e3-bfdb-21b1a1d4b57d",
   "metadata": {},
   "outputs": [
    {
     "data": {
      "text/plain": [
       "count   41,136.00\n",
       "mean        11.18\n",
       "std          3.95\n",
       "min          0.00\n",
       "25%          9.00\n",
       "50%         11.00\n",
       "75%         13.00\n",
       "max         30.00\n",
       "Name: days_in_game, dtype: float64"
      ]
     },
     "execution_count": 157,
     "metadata": {},
     "output_type": "execute_result"
    }
   ],
   "source": [
    "df_aggressive_strategy['days_in_game'].describe()"
   ]
  },
  {
   "cell_type": "markdown",
   "id": "90281e24-89c7-4acc-aa74-ed1b69d2d8c8",
   "metadata": {},
   "source": [
    "Медианное и среднее значение очень близки, имеет место нормальное распределение для aggressive_strategy."
   ]
  },
  {
   "cell_type": "code",
   "execution_count": 158,
   "id": "2d6b32b2-3fb2-4ec5-824e-b3249166d52e",
   "metadata": {},
   "outputs": [
    {
     "data": {
      "text/html": [
       "<div>\n",
       "<style scoped>\n",
       "    .dataframe tbody tr th:only-of-type {\n",
       "        vertical-align: middle;\n",
       "    }\n",
       "\n",
       "    .dataframe tbody tr th {\n",
       "        vertical-align: top;\n",
       "    }\n",
       "\n",
       "    .dataframe thead th {\n",
       "        text-align: right;\n",
       "    }\n",
       "</style>\n",
       "<table border=\"1\" class=\"dataframe\">\n",
       "  <thead>\n",
       "    <tr style=\"text-align: right;\">\n",
       "      <th></th>\n",
       "      <th>event_datetime</th>\n",
       "      <th>event</th>\n",
       "      <th>building_type</th>\n",
       "      <th>user_id</th>\n",
       "      <th>project_type</th>\n",
       "      <th>day</th>\n",
       "      <th>first_event</th>\n",
       "      <th>last_event</th>\n",
       "      <th>delta</th>\n",
       "      <th>days_in_game</th>\n",
       "    </tr>\n",
       "  </thead>\n",
       "  <tbody>\n",
       "    <tr>\n",
       "      <th>0</th>\n",
       "      <td>2020-05-04 00:00:03</td>\n",
       "      <td>building</td>\n",
       "      <td>assembly_shop</td>\n",
       "      <td>c07b1c10-f477-44dc-81dc-ec82254b1347</td>\n",
       "      <td>no_finished_project</td>\n",
       "      <td>2020-05-04</td>\n",
       "      <td>2020-05-04 00:00:03</td>\n",
       "      <td>2020-05-15 05:29:13</td>\n",
       "      <td>11 days 05:29:10</td>\n",
       "      <td>11</td>\n",
       "    </tr>\n",
       "    <tr>\n",
       "      <th>1</th>\n",
       "      <td>2020-05-04 00:00:44</td>\n",
       "      <td>building</td>\n",
       "      <td>assembly_shop</td>\n",
       "      <td>65a92713-5969-48b1-8945-bfefa5063887</td>\n",
       "      <td>no_finished_project</td>\n",
       "      <td>2020-05-04</td>\n",
       "      <td>2020-05-04 00:00:44</td>\n",
       "      <td>2020-05-18 03:50:27</td>\n",
       "      <td>14 days 03:49:43</td>\n",
       "      <td>14</td>\n",
       "    </tr>\n",
       "  </tbody>\n",
       "</table>\n",
       "</div>"
      ],
      "text/plain": [
       "       event_datetime     event  building_type  \\\n",
       "0 2020-05-04 00:00:03  building  assembly_shop   \n",
       "1 2020-05-04 00:00:44  building  assembly_shop   \n",
       "\n",
       "                                user_id         project_type        day  \\\n",
       "0  c07b1c10-f477-44dc-81dc-ec82254b1347  no_finished_project 2020-05-04   \n",
       "1  65a92713-5969-48b1-8945-bfefa5063887  no_finished_project 2020-05-04   \n",
       "\n",
       "          first_event          last_event            delta  days_in_game  \n",
       "0 2020-05-04 00:00:03 2020-05-15 05:29:13 11 days 05:29:10            11  \n",
       "1 2020-05-04 00:00:44 2020-05-18 03:50:27 14 days 03:49:43            14  "
      ]
     },
     "execution_count": 158,
     "metadata": {},
     "output_type": "execute_result"
    }
   ],
   "source": [
    "# игроки, применившие проектную стратегию\n",
    "df_project_strategy = df.query('user_id in @users_project_list ').reset_index(drop=True)\n",
    "df_project_strategy.head(2)"
   ]
  },
  {
   "cell_type": "code",
   "execution_count": 159,
   "id": "be8435d8-f84f-43d6-8ae6-01a984687ceb",
   "metadata": {},
   "outputs": [
    {
     "name": "stdout",
     "output_type": "stream",
     "text": [
      "Среднее количество дней нахождения в приложении игроков с проектной стратегией: 13.0 дней\n"
     ]
    }
   ],
   "source": [
    "print(\"Среднее количество дней нахождения в приложении игроков с проектной стратегией:\",round(df_project_strategy['days_in_game'].mean(),2), \"дней\")"
   ]
  },
  {
   "cell_type": "code",
   "execution_count": 160,
   "id": "f13d213c-7f5b-4b8d-b4e7-6087e5561148",
   "metadata": {},
   "outputs": [
    {
     "data": {
      "image/png": "[encoded data removed]",
      "text/plain": [
       "<Figure size 432x288 with 1 Axes>"
      ]
     },
     "metadata": {
      "needs_background": "light"
     },
     "output_type": "display_data"
    }
   ],
   "source": [
    "# визуализация для среднего количества дней нахождения в игроков с проектной стратегией:\n",
    "df_project_strategy['days_in_game'].hist(bins=100);\n",
    "plt.title('Количество дней нахождения в приложении игроков с проектной стратегией')\n",
    "plt.ylabel('количество id')\n",
    "plt.xlabel('№ дня исследования')\n",
    "plt.xticks();"
   ]
  },
  {
   "cell_type": "code",
   "execution_count": 161,
   "id": "0797e411-5bbb-4358-a02b-7ee5ac2df399",
   "metadata": {},
   "outputs": [
    {
     "data": {
      "text/plain": [
       "count   27,333.00\n",
       "mean        13.00\n",
       "std          3.51\n",
       "min          5.00\n",
       "25%         10.00\n",
       "50%         13.00\n",
       "75%         15.00\n",
       "max         29.00\n",
       "Name: days_in_game, dtype: float64"
      ]
     },
     "execution_count": 161,
     "metadata": {},
     "output_type": "execute_result"
    }
   ],
   "source": [
    "df_project_strategy['days_in_game'].describe()"
   ]
  },
  {
   "cell_type": "markdown",
   "id": "18ad9b5e-9690-4161-8f1b-d458448b3e9d",
   "metadata": {},
   "source": [
    "Медианное и среднее значение очень близки, имеет место нормальное распределение для df_project_strategy."
   ]
  },
  {
   "cell_type": "markdown",
   "id": "1710ec29-d854-4c56-8dcf-72837923f93a",
   "metadata": {},
   "source": [
    "### Выводы из анализа стратегий по времени\n",
    "\n",
    "Завершение первого уровня требует от игрока выполнения одного из двух условий:\n",
    "\n",
    "- Победа над первым врагом - агрессивная стретегия - aggressive_strategy.\n",
    "- Реализация проекта - разработка орбитальной сборки спутников - стратегия проекта - project_strategy.\n",
    "\n",
    "Время прохожденя уровня колеблется от 9 часов 39 минут до 30 дней. \n",
    "\n",
    "Среднее количество дней нахождения для непрошедших уровень: 10,5 дней.\n",
    "\n",
    "Игроки, выбравшие агрессивную стратегию,завершают уровень в среднем на 2 дня быстрее. \n",
    "\n",
    "Медианное и среднее значение очень близки для обеих стратегий, имеет место нормальное распределение.\n"
   ]
  },
  {
   "cell_type": "markdown",
   "id": "9ff4f0f3-234f-45c8-b5d8-551c096c2071",
   "metadata": {},
   "source": [
    "# Проверка гипотез"
   ]
  },
  {
   "cell_type": "markdown",
   "id": "6336b756-d8f1-4373-8608-6e50d0ac9eb4",
   "metadata": {},
   "source": [
    "## **Менеджером представлена к анализу гипотеза** различия времени прохождения уровня между пользователями, которые заканчивают уровень через реализацию проекта, и пользователями, которые заканчивают уровень победой над другим игроком.\n",
    "\n",
    "Исследуемые группы: df_aggressive_strategy и  df_project_strategy.\n"
   ]
  },
  {
   "cell_type": "code",
   "execution_count": 162,
   "id": "cb00436f-05a6-4753-965f-8fed64255acb",
   "metadata": {},
   "outputs": [
    {
     "data": {
      "image/png": "[encoded data removed]",
      "text/plain": [
       "<Figure size 432x288 with 1 Axes>"
      ]
     },
     "metadata": {
      "needs_background": "light"
     },
     "output_type": "display_data"
    }
   ],
   "source": [
    "# игроки, применившие агрессивную стратегию\n",
    "df_aggressive_strategy['days_in_game'].hist();"
   ]
  },
  {
   "cell_type": "code",
   "execution_count": 163,
   "id": "4ca8cc45-ec0e-44b9-9a1f-f4d91834103a",
   "metadata": {},
   "outputs": [
    {
     "data": {
      "image/png": "[encoded data removed]",
      "text/plain": [
       "<Figure size 432x288 with 1 Axes>"
      ]
     },
     "metadata": {
      "needs_background": "light"
     },
     "output_type": "display_data"
    }
   ],
   "source": [
    "# игроки, применившие проектную стратегию\n",
    "df_project_strategy['days_in_game'].hist();"
   ]
  },
  {
   "cell_type": "code",
   "execution_count": 164,
   "id": "17ccb817-8ba6-48bf-9170-d86277501134",
   "metadata": {},
   "outputs": [],
   "source": [
    "aggressive_strategy_test = df_aggressive_strategy.groupby('days_in_game')['user_id'].nunique()"
   ]
  },
  {
   "cell_type": "code",
   "execution_count": 165,
   "id": "dfb53a4d-f250-420a-b396-fe8fb132e64a",
   "metadata": {},
   "outputs": [],
   "source": [
    "project_strategy_test = df_project_strategy.groupby('days_in_game')['user_id'].nunique()"
   ]
  },
  {
   "cell_type": "markdown",
   "id": "fee03320-f3e1-48b2-b8c0-ef6d95a11971",
   "metadata": {},
   "source": [
    "**Менеджером представлена к анализу гипотеза** различия времени прохождения уровня между пользователями, которые заканчивают уровень через реализацию проекта, и пользователями, которые заканчивают уровень победой над другим игроком.\n",
    "\n",
    "Нулевая гипотеза - H0 - время прохождения уровня не различается в зависимости от выбранной стратегии.\n",
    "\n",
    "Ненулевая гипотеза - H1 - время прохождения уровня различается в зависимости от выбранной стратегии.\n",
    "\n",
    "Применим T-тест также известный как T-тест Стьюдента, который показывает, насколько значительны различия, дает нам представление о том, могли ли эти различия возникнуть случайно. Т-тест – одна из наиболее часто используемых процедур в статистике.\n",
    "Источник: https://pythonpip.ru/osnovy/t-test-na-python"
   ]
  },
  {
   "cell_type": "code",
   "execution_count": 166,
   "id": "7afcc8cd-6fe8-4bac-9e62-dc39f08fe746",
   "metadata": {},
   "outputs": [
    {
     "name": "stdout",
     "output_type": "stream",
     "text": [
      "p-value: 0.09181463160005925\n",
      "Не получилось отвергнуть нулевую гипотезу, следовательно, нет оснований полагать, что  время прохождения уровня различается в зависимости от выбранной стратегии\n"
     ]
    }
   ],
   "source": [
    "alpha = 0.05 # критический уровень статистической значимости,\n",
    "            # чем меньше p-значение, тем больше определенность в том, что нулевая гипотеза является ложной.\n",
    "\n",
    "results = st.ttest_ind(aggressive_strategy_test, project_strategy_test, equal_var = False)\n",
    "\n",
    "print('p-value: {}'.format(results.pvalue))\n",
    "if results.pvalue < alpha:\n",
    "    print(\"Отвергаем нулевую гипотезу, следовательно, время прохождения уровня различается в зависимости от выбранной стратегии\")\n",
    "else:\n",
    "    print(\"Не получилось отвергнуть нулевую гипотезу, следовательно, нет оснований полагать, что  время прохождения уровня различается в зависимости от выбранной стратегии\")"
   ]
  },
  {
   "cell_type": "markdown",
   "id": "0dd233bd-fe8d-42c2-8efa-2d13664f107f",
   "metadata": {},
   "source": [
    "**В процессе расчётов получено значение, которое значительно меньше установленного критического уровня статистической значимости. Время прохождения уровня не различается в зависимости от выбранной стратегии**."
   ]
  },
  {
   "cell_type": "markdown",
   "id": "21410840-8195-4440-b2ec-cf886bd9b495",
   "metadata": {},
   "source": [
    "## **Дополнительная гипотеза для анализа:** различие в количестве построенных объектов между пользователями, которые заканчивают уровень через реализацию проекта, и пользователями, которые заканчивают уровень победой над другим игроком."
   ]
  },
  {
   "cell_type": "code",
   "execution_count": 167,
   "id": "b6aa8547-1c12-4bca-8e42-ad057ab37e99",
   "metadata": {},
   "outputs": [
    {
     "data": {
      "text/plain": [
       "user_id\n",
       "041b49ea-d71e-4454-aa8c-2b789e4d3728    15\n",
       "Name: event, dtype: int64"
      ]
     },
     "execution_count": 167,
     "metadata": {},
     "output_type": "execute_result"
    }
   ],
   "source": [
    "# постройки игроков, применивших проектную стратегию\n",
    "project_build_1.sample()"
   ]
  },
  {
   "cell_type": "code",
   "execution_count": 168,
   "id": "cc85c61f-ed67-4b99-b718-887d400fabb8",
   "metadata": {},
   "outputs": [
    {
     "data": {
      "image/png": "[encoded data removed]",
      "text/plain": [
       "<Figure size 432x288 with 1 Axes>"
      ]
     },
     "metadata": {
      "needs_background": "light"
     },
     "output_type": "display_data"
    }
   ],
   "source": [
    "# визуализация\n",
    "project_build_1.hist();"
   ]
  },
  {
   "cell_type": "code",
   "execution_count": 169,
   "id": "f11dd974-aac4-4da4-aebb-10d53ad9b384",
   "metadata": {},
   "outputs": [
    {
     "data": {
      "text/plain": [
       "user_id\n",
       "ef08b49c-dfd4-4afb-8a74-9e411d7f1c35    13\n",
       "Name: event, dtype: int64"
      ]
     },
     "execution_count": 169,
     "metadata": {},
     "output_type": "execute_result"
    }
   ],
   "source": [
    "# постройки игроков из \"агрессивного\" списка\n",
    "aggress_build_1.sample()"
   ]
  },
  {
   "cell_type": "code",
   "execution_count": 170,
   "id": "95935db1-5688-4574-b09b-1587dd1065cb",
   "metadata": {},
   "outputs": [
    {
     "data": {
      "image/png": "[encoded data removed]",
      "text/plain": [
       "<Figure size 432x288 with 1 Axes>"
      ]
     },
     "metadata": {
      "needs_background": "light"
     },
     "output_type": "display_data"
    }
   ],
   "source": [
    "aggress_build_1.hist();"
   ]
  },
  {
   "cell_type": "markdown",
   "id": "c12d0f3d-e81d-419f-9f77-cf672c54c586",
   "metadata": {},
   "source": [
    "**Предлагаемая альтернативная гипотеза**\n",
    "\n",
    "Имеет место различие в количестве построенных объектов между пользователями, которые заканчивают уровень через реализацию проекта, и пользователями, которые заканчивают уровень победой над другим игроком.\n",
    "\n",
    "Нулевая гипотеза - H0 - количество построек не отличается в зависимости от выбранной стратегии прохождения.\n",
    "\n",
    "Ненулевая гипотеза - H1 - количество построек отличается в зависимости от выбранной стратегии прохождения. \n",
    "\n",
    "alpha = 0.05"
   ]
  },
  {
   "cell_type": "code",
   "execution_count": 171,
   "id": "b50f6b3c-80f1-4c02-ac40-3f5eba870501",
   "metadata": {},
   "outputs": [
    {
     "name": "stdout",
     "output_type": "stream",
     "text": [
      "p-value: 5.211926275022306e-305\n",
      "Отвергаем нулевую гипотезу, следовательно, количество построек отличается в зависимости от выбранной стратегии прохождения\n"
     ]
    }
   ],
   "source": [
    "alpha = 0.05 # критический уровень статистической значимости,\n",
    "            # чем меньше p-значение, тем больше определенность в том, что нулевая гипотеза является ложной\n",
    "pvalue = st.mannwhitneyu(project_build_1, aggress_build_1)[1]\n",
    "\n",
    "print('p-value: {}'.format(pvalue))\n",
    "if pvalue <= alpha: \n",
    "    print(\"Отвергаем нулевую гипотезу, следовательно, количество построек отличается в зависимости от выбранной стратегии прохождения\")\n",
    "else:\n",
    "    print(\"Не получилось отвергнуть нулевую гипотезу, следовательно, нет оснований полагать, что  количество построек отличается в зависимости от выбранной стратегии прохождения\")"
   ]
  },
  {
   "cell_type": "markdown",
   "id": "82b5aec5-4f23-44a8-8d97-4bb3ca8b3978",
   "metadata": {
    "tags": []
   },
   "source": [
    "## Вывод\n",
    "Тест показал, что **время прохождения уровня различается в зависимости от выбранной стратегии**. А также, что **количество построек отличается в зависимости от выбранной стратегии прохождения.**"
   ]
  },
  {
   "cell_type": "code",
   "execution_count": 172,
   "id": "e23ffe95-1aff-4140-a107-476cda746f87",
   "metadata": {},
   "outputs": [],
   "source": [
    "# стоимость клика\n",
    "price_of_click = .07"
   ]
  },
  {
   "cell_type": "code",
   "execution_count": 173,
   "id": "c7adf576-56db-4444-ab4e-aa170e3c97d7",
   "metadata": {},
   "outputs": [],
   "source": [
    "# предполагаемый доход при демонстрации рекламы перед окончанием уровня\n",
    "alleged_profit_finish = (users_finishing['event'].count()) * price_of_click"
   ]
  },
  {
   "cell_type": "code",
   "execution_count": 174,
   "id": "69ff7635-1ec3-4d82-aa83-da67a75a5ad7",
   "metadata": {},
   "outputs": [
    {
     "data": {
      "text/plain": [
       "7603.58"
      ]
     },
     "execution_count": 174,
     "metadata": {},
     "output_type": "execute_result"
    }
   ],
   "source": [
    "# совокупные расходы, объём которых неизменен\n",
    "round((costs_by_source_total),2)"
   ]
  },
  {
   "cell_type": "code",
   "execution_count": 175,
   "id": "ebfc3226-e792-41b4-bc73-b11ec7634479",
   "metadata": {},
   "outputs": [
    {
     "data": {
      "text/plain": [
       "-94.64"
      ]
     },
     "execution_count": 175,
     "metadata": {},
     "output_type": "execute_result"
    }
   ],
   "source": [
    "# ROMI при демонстрации рекламы перед окончанием уровня\n",
    "romi_finish = round(((alleged_profit_finish - costs_by_source_total)/costs_by_source_total * 100 ),2)\n",
    "romi_finish"
   ]
  },
  {
   "cell_type": "code",
   "execution_count": 176,
   "id": "e2f47459-26a6-4994-a3db-f5b4fcb50308",
   "metadata": {},
   "outputs": [
    {
     "data": {
      "text/plain": [
       "130.62"
      ]
     },
     "execution_count": 176,
     "metadata": {},
     "output_type": "execute_result"
    }
   ],
   "source": [
    "# предполагаемый доход при демонстрации рекламы перед реализацией проекта\n",
    "alleged_profit_project = (df_project_strategy['user_id'].nunique())* price_of_click\n",
    "alleged_profit_project"
   ]
  },
  {
   "cell_type": "code",
   "execution_count": 177,
   "id": "5b00155d-95c9-44aa-9075-affd8fb391f5",
   "metadata": {},
   "outputs": [
    {
     "data": {
      "text/plain": [
       "-98.28"
      ]
     },
     "execution_count": 177,
     "metadata": {},
     "output_type": "execute_result"
    }
   ],
   "source": [
    "# ROMI при демонстрации рекламы перед реализацией проекта\n",
    "romi_project = round(((alleged_profit_project - costs_by_source_total)/costs_by_source_total * 100 ),2)\n",
    "romi_project"
   ]
  },
  {
   "cell_type": "code",
   "execution_count": 178,
   "id": "67a305b4-72c4-4cb7-94c8-538a86d78725",
   "metadata": {},
   "outputs": [
    {
     "data": {
      "text/html": [
       "<div>\n",
       "<style scoped>\n",
       "    .dataframe tbody tr th:only-of-type {\n",
       "        vertical-align: middle;\n",
       "    }\n",
       "\n",
       "    .dataframe tbody tr th {\n",
       "        vertical-align: top;\n",
       "    }\n",
       "\n",
       "    .dataframe thead th {\n",
       "        text-align: right;\n",
       "    }\n",
       "</style>\n",
       "<table border=\"1\" class=\"dataframe\">\n",
       "  <thead>\n",
       "    <tr style=\"text-align: right;\">\n",
       "      <th></th>\n",
       "      <th>Событие</th>\n",
       "      <th>Издержки</th>\n",
       "      <th>Доход</th>\n",
       "      <th>ROMI</th>\n",
       "    </tr>\n",
       "  </thead>\n",
       "  <tbody>\n",
       "    <tr>\n",
       "      <th>0</th>\n",
       "      <td>показ при строительстве</td>\n",
       "      <td>7603</td>\n",
       "      <td>8957</td>\n",
       "      <td>17.8</td>\n",
       "    </tr>\n",
       "    <tr>\n",
       "      <th>1</th>\n",
       "      <td>показ перед финалом</td>\n",
       "      <td>7603</td>\n",
       "      <td>407</td>\n",
       "      <td>-94.6</td>\n",
       "    </tr>\n",
       "    <tr>\n",
       "      <th>2</th>\n",
       "      <td>показ при реализации проекта</td>\n",
       "      <td>7603</td>\n",
       "      <td>131</td>\n",
       "      <td>-98.3</td>\n",
       "    </tr>\n",
       "  </tbody>\n",
       "</table>\n",
       "</div>"
      ],
      "text/plain": [
       "                        Событие Издержки Доход   ROMI\n",
       "0       показ при строительстве     7603  8957   17.8\n",
       "1           показ перед финалом     7603   407  -94.6\n",
       "2  показ при реализации проекта     7603   131  -98.3"
      ]
     },
     "execution_count": 178,
     "metadata": {},
     "output_type": "execute_result"
    }
   ],
   "source": [
    "# дата фрейм для визуализации\n",
    "advertising = pd.DataFrame({'Событие':['показ при строительстве','показ перед финалом' ,'показ при реализации проекта'],\n",
    "                            'Издержки':['7603', '7603', '7603'],\n",
    "                           'Доход':['8957', '407', '131'],\n",
    "                           'ROMI':['17.8', '-94.6', '-98.3']})\n",
    "advertising"
   ]
  },
  {
   "cell_type": "code",
   "execution_count": 179,
   "id": "a6989149-4dbd-4f3f-abf9-d898a048b072",
   "metadata": {},
   "outputs": [],
   "source": [
    "advertising['ROMI'] = advertising['ROMI'].astype(float)\n",
    "advertising.set_index('Событие', inplace=True)"
   ]
  },
  {
   "cell_type": "code",
   "execution_count": 180,
   "id": "36e20ea3-26b8-4202-83f2-9d6de2d3d99e",
   "metadata": {},
   "outputs": [
    {
     "data": {
      "image/png": "[encoded data removed]",
      "text/plain": [
       "<Figure size 1080x576 with 1 Axes>"
      ]
     },
     "metadata": {
      "needs_background": "light"
     },
     "output_type": "display_data"
    }
   ],
   "source": [
    "advertising['ROMI'].sort_values(ascending = False).plot(kind='barh', figsize=(15,8), grid=True)\n",
    "plt.title('Анализ возврата маркетинговых расходов по событиям')\n",
    "plt.ylabel('событие')\n",
    "plt.xlabel('значение')\n",
    "plt.xticks(rotation=45);"
   ]
  },
  {
   "cell_type": "markdown",
   "id": "38f77298-4e01-4108-8ffe-8c250cf78c4d",
   "metadata": {},
   "source": [
    "# Итоги"
   ]
  },
  {
   "cell_type": "markdown",
   "id": "70fbc037-0130-4527-8fc2-679297827db9",
   "metadata": {},
   "source": [
    "Анализировались данные об активности пользователей за 33 дня: 04.05.2020-05.06.2020г. Представленные данные содержат информацию о трёх возможных событиях: строительство объекта, завершение уровня, реализация проекта. \n",
    "\n",
    "Информация о расходах на привлечение пользователей проанализирована за 7 дней: 03.05.2020-09.05.2020г. Каждый из 4 источников был активен в исследуемом периоде.\n",
    "\n",
    "Основная монетизация игры — только планируется. Но предполагается, что в приложении будет происходить показ рекламы на экране с выбором типа объекта для постройки. В рамках ТЗ мы не можем разрабатывать иную модель кроме как через события.\n",
    "\n",
    "Концепция, предложенная менеджером - демонстрировать рекламу перед выбором объекта строительства - является успешной и оптимальной. Доходность превысила расходы на 1354.0 у.е. Возврат расходов на маркетинг составил 17,8% на потраченную у.е. Доход на одного пользователя 0,66 у.е. при расходе в 0,56 у.е.\n",
    "\n",
    "При выборе иного варианта момента для показа рекламы, например показ перед завершением уровня или при реализации проекта, прибыльность резко снижается и показатель возврата маркетинговых расходов имеет отрицательные значения. \n",
    "\n",
    "Установлено, что время прохождения уровня не зависит от выбранной стратегии. Количество же возводимых построек завист от стратегиии.\n",
    "\n",
    "68% игроков выбрали завершить уровень через убийство, т.е. агрессивную стратегию и провели в игре в среднем на 2 дня меньше, чем выбравшие реализацию проекта. Однако, пользователи с агрессивной стратегией строят в среднем на 3 объекта меньше, чем реализующие проект.\n",
    "\n",
    "Отмечу, что менее 1% игроков совершили единственное действие в игре, значит, предлагаемая игра интересна пользователям.\n",
    "\n",
    "Рекомендуется, отказаться от самого неперспективного источника трафика - facebook_ads - приносящего 17% убытка на каждом пользователе. А также расширять взаимодействие с самым эффективным по показателю возврата средств на каждую вложенную в маркетинг д.е. - youtube_channel_reklama и yandex_direct, который привлекает наибольший поток, даёт наибольшую доходность.\n",
    "\n",
    "Следует отметить, что первый уровень завершили только 43% игроков, а именно это целевое действие. \n",
    "\n",
    "Рекомендуется также изучить причины нзавершения уровня. Рассмотреть иные концепции монетизации."
   ]
  },
  {
   "cell_type": "markdown",
   "id": "34ce6667-e2d6-453f-af55-73b3a4d1eae8",
   "metadata": {},
   "source": [
    "# Ссылка на презентацию\n",
    "https://disk.yandex.ru/i/mnqTwd6aYQtK3w"
   ]
  },
  {
   "cell_type": "markdown",
   "id": "fcbce22f-b92f-49c5-ada9-0268b4099a80",
   "metadata": {},
   "source": [
    "#  Ссылка на дашборд\n",
    "https://public.tableau.com/app/profile/marinadorato/viz/_1_16585243339370/Dashboard1?publish=yes"
   ]
  },
  {
   "cell_type": "markdown",
   "id": "e1356e57",
   "metadata": {
    "tags": [],
    "toc": true
   },
   "source": [
    "<h1>Table of Contents<span class=\"tocSkip\"></span></h1>\n",
    "<div class=\"toc\"><ul class=\"toc-item\"><li><span><a href=\"#Задача\" data-toc-modified-id=\"Задача-1\"><span class=\"toc-item-num\">1&nbsp;&nbsp;</span>Задача</a></span></li><li><span><a href=\"#Описание-ситуации-и-постановка-задачи.\" data-toc-modified-id=\"Описание-ситуации-и-постановка-задачи.-2\"><span class=\"toc-item-num\">2&nbsp;&nbsp;</span>Описание ситуации и постановка задачи.</a></span><ul class=\"toc-item\"><li><span><a href=\"#Первичное-знакомство-с-данными\" data-toc-modified-id=\"Первичное-знакомство-с-данными-2.1\"><span class=\"toc-item-num\">2.1&nbsp;&nbsp;</span>Первичное знакомство с данными</a></span></li><li><span><a href=\"#Мероприятия-по-подготовке-данных\" data-toc-modified-id=\"Мероприятия-по-подготовке-данных-2.2\"><span class=\"toc-item-num\">2.2&nbsp;&nbsp;</span>Мероприятия по подготовке данных</a></span></li></ul></li><li><span><a href=\"#Основной-датафрем-с-активностью-пользователей\" data-toc-modified-id=\"Основной-датафрем-с-активностью-пользователей-3\"><span class=\"toc-item-num\">3&nbsp;&nbsp;</span>Основной датафрем с активностью пользователей</a></span></li><li><span><a href=\"#Сведения-об-источниках,-с-которых-пришёл-пользователь,-установивший-приложение\" data-toc-modified-id=\"Сведения-об-источниках,-с-которых-пришёл-пользователь,-установивший-приложение-4\"><span class=\"toc-item-num\">4&nbsp;&nbsp;</span>Сведения об источниках, с которых пришёл пользователь, установивший приложение</a></span></li><li><span><a href=\"#Датафрейм-со-стоимостью-кликов\" data-toc-modified-id=\"Датафрейм-со-стоимостью-кликов-5\"><span class=\"toc-item-num\">5&nbsp;&nbsp;</span>Датафрейм со стоимостью кликов</a></span></li><li><span><a href=\"#Результат-подготовки-данных.\" data-toc-modified-id=\"Результат-подготовки-данных.-6\"><span class=\"toc-item-num\">6&nbsp;&nbsp;</span>Результат подготовки данных.</a></span></li><li><span><a href=\"#Расчёт-и-анализ-показателей\" data-toc-modified-id=\"Расчёт-и-анализ-показателей-7\"><span class=\"toc-item-num\">7&nbsp;&nbsp;</span>Расчёт и анализ показателей</a></span><ul class=\"toc-item\"><li><span><a href=\"#количество-пользователей-и-количество-событий-в-исследуемом-периоде;\" data-toc-modified-id=\"количество-пользователей-и-количество-событий-в-исследуемом-периоде;-7.1\"><span class=\"toc-item-num\">7.1&nbsp;&nbsp;</span>количество пользователей и количество событий в исследуемом периоде;</a></span></li><li><span><a href=\"#количество-пользователей,-завершивших-игру-в-целом;\" data-toc-modified-id=\"количество-пользователей,-завершивших-игру-в-целом;-7.2\"><span class=\"toc-item-num\">7.2&nbsp;&nbsp;</span>количество пользователей, завершивших игру в целом;</a></span></li><li><span><a href=\"#Анализ-событий-в-игре.\" data-toc-modified-id=\"Анализ-событий-в-игре.-7.3\"><span class=\"toc-item-num\">7.3&nbsp;&nbsp;</span>Анализ событий в игре.</a></span></li><li><span><a href=\"#количество-построенных-объектов-за-весь-период;\" data-toc-modified-id=\"количество-построенных-объектов-за-весь-период;-7.4\"><span class=\"toc-item-num\">7.4&nbsp;&nbsp;</span>количество построенных объектов за весь период;</a></span></li><li><span><a href=\"#Анализ-источников-трафика.\" data-toc-modified-id=\"Анализ-источников-трафика.-7.5\"><span class=\"toc-item-num\">7.5&nbsp;&nbsp;</span>Анализ источников трафика.</a></span></li><li><span><a href=\"#Исследование-активности-пользователей-во-времени.\" data-toc-modified-id=\"Исследование-активности-пользователей-во-времени.-7.6\"><span class=\"toc-item-num\">7.6&nbsp;&nbsp;</span>Исследование активности пользователей во времени.</a></span></li></ul></li><li><span><a href=\"#Выводы--раздела-Исследовательский-анализ\" data-toc-modified-id=\"Выводы--раздела-Исследовательский-анализ-8\"><span class=\"toc-item-num\">8&nbsp;&nbsp;</span>Выводы  раздела Исследовательский анализ</a></span></li><li><span><a href=\"#Расчет-метрик\" data-toc-modified-id=\"Расчет-метрик-9\"><span class=\"toc-item-num\">9&nbsp;&nbsp;</span>Расчет метрик</a></span><ul class=\"toc-item\"><li><span><a href=\"#DAU\" data-toc-modified-id=\"DAU-9.1\"><span class=\"toc-item-num\">9.1&nbsp;&nbsp;</span>DAU</a></span></li><li><span><a href=\"#Sticky-factor\" data-toc-modified-id=\"Sticky-factor-9.2\"><span class=\"toc-item-num\">9.2&nbsp;&nbsp;</span>Sticky factor</a></span></li><li><span><a href=\"#PCCU-и-ACU\" data-toc-modified-id=\"PCCU-и-ACU-9.3\"><span class=\"toc-item-num\">9.3&nbsp;&nbsp;</span>PCCU и ACU</a></span></li><li><span><a href=\"#Расчёт-доходной-части\" data-toc-modified-id=\"Расчёт-доходной-части-9.4\"><span class=\"toc-item-num\">9.4&nbsp;&nbsp;</span>Расчёт доходной части</a></span></li><li><span><a href=\"#Активность-игроков-в-исследуемом-периоде\" data-toc-modified-id=\"Активность-игроков-в-исследуемом-периоде-9.5\"><span class=\"toc-item-num\">9.5&nbsp;&nbsp;</span>Активность игроков в исследуемом периоде</a></span></li><li><span><a href=\"#CAC\" data-toc-modified-id=\"CAC-9.6\"><span class=\"toc-item-num\">9.6&nbsp;&nbsp;</span>CAC</a></span></li><li><span><a href=\"#ROMI\" data-toc-modified-id=\"ROMI-9.7\"><span class=\"toc-item-num\">9.7&nbsp;&nbsp;</span>ROMI</a></span></li><li><span><a href=\"#ARPU\" data-toc-modified-id=\"ARPU-9.8\"><span class=\"toc-item-num\">9.8&nbsp;&nbsp;</span>ARPU</a></span></li></ul></li><li><span><a href=\"#Анализ-стратегий-в-разрезе-времени\" data-toc-modified-id=\"Анализ-стратегий-в-разрезе-времени-10\"><span class=\"toc-item-num\">10&nbsp;&nbsp;</span>Анализ стратегий в разрезе времени</a></span></li><li><span><a href=\"#Выводы-по-исследовательскому-анализу\" data-toc-modified-id=\"Выводы-по-исследовательскому-анализу-11\"><span class=\"toc-item-num\">11&nbsp;&nbsp;</span>Выводы по исследовательскому анализу</a></span></li><li><span><a href=\"#Менеджером-представлена-к-анализу-гипотеза-различия-времени-прохождения-уровня-между-пользователями,-которые-заканчивают-уровень-через-реализацию-проекта,-и-пользователями,-которые-заканчивают-уровень-победой-над-другим-игроком.\" data-toc-modified-id=\"Менеджером-представлена-к-анализу-гипотеза-различия-времени-прохождения-уровня-между-пользователями,-которые-заканчивают-уровень-через-реализацию-проекта,-и-пользователями,-которые-заканчивают-уровень-победой-над-другим-игроком.-12\"><span class=\"toc-item-num\">12&nbsp;&nbsp;</span><strong>Менеджером представлена к анализу гипотеза</strong> различия времени прохождения уровня между пользователями, которые заканчивают уровень через реализацию проекта, и пользователями, которые заканчивают уровень победой над другим игроком.</a></span><ul class=\"toc-item\"><li><span><a href=\"#Время-прохождения-уровня-различается-в-зависимости-от-выбранной-стратегии.\" data-toc-modified-id=\"Время-прохождения-уровня-различается-в-зависимости-от-выбранной-стратегии.-12.1\"><span class=\"toc-item-num\">12.1&nbsp;&nbsp;</span>Время прохождения уровня различается в зависимости от выбранной стратегии.</a></span></li></ul></li><li><span><a href=\"#Дополнительная-гипотезе-для-анализа:-различие-в-количестве-построенных-объектов-между-пользователями,-которые-заканчивают-уровень-через-реализацию-проекта,-и-пользователями,-которые-заканчивают-уровень-победой-над-другим-игроком.\" data-toc-modified-id=\"Дополнительная-гипотезе-для-анализа:-различие-в-количестве-построенных-объектов-между-пользователями,-которые-заканчивают-уровень-через-реализацию-проекта,-и-пользователями,-которые-заканчивают-уровень-победой-над-другим-игроком.-13\"><span class=\"toc-item-num\">13&nbsp;&nbsp;</span><strong>Дополнительная гипотезе для анализа:</strong> различие в количестве построенных объектов между пользователями, которые заканчивают уровень через реализацию проекта, и пользователями, которые заканчивают уровень победой над другим игроком.</a></span><ul class=\"toc-item\"><li><span><a href=\"#Количество-построек-не-отличается-в-зависимости-от-выбранной-стратегии-прохождения.\" data-toc-modified-id=\"Количество-построек-не-отличается-в-зависимости-от-выбранной-стратегии-прохождения.-13.1\"><span class=\"toc-item-num\">13.1&nbsp;&nbsp;</span>Количество построек не отличается в зависимости от выбранной стратегии прохождения.</a></span></li></ul></li><li><span><a href=\"#Вывод\" data-toc-modified-id=\"Вывод-14\"><span class=\"toc-item-num\">14&nbsp;&nbsp;</span>Вывод</a></span></li><li><span><a href=\"#Рекомендации\" data-toc-modified-id=\"Рекомендации-15\"><span class=\"toc-item-num\">15&nbsp;&nbsp;</span>Рекомендации</a></span></li></ul></div>"
   ]
  },
  {
   "cell_type": "code",
   "execution_count": 181,
   "id": "c84c546c-113f-46c2-a730-63bea91b8c2c",
   "metadata": {},
   "outputs": [],
   "source": [
    "# завершили уровень\n",
    "finished_1 = finished"
   ]
  },
  {
   "cell_type": "code",
   "execution_count": 182,
   "id": "c04fbdef-7bc8-43e1-aa52-d1aa4b39eb30",
   "metadata": {},
   "outputs": [
    {
     "data": {
      "text/plain": [
       "68469"
      ]
     },
     "execution_count": 182,
     "metadata": {},
     "output_type": "execute_result"
    }
   ],
   "source": [
    "# индикация окончания\n",
    "finished_1['stage'] = \"finish_the_game\"\n",
    "len(finished_1)"
   ]
  },
  {
   "cell_type": "code",
   "execution_count": 183,
   "id": "0d759f1e-e12a-46e0-8cfc-e2687a2f3e45",
   "metadata": {},
   "outputs": [
    {
     "data": {
      "text/plain": [
       "67170"
      ]
     },
     "execution_count": 183,
     "metadata": {},
     "output_type": "execute_result"
    }
   ],
   "source": [
    "# не завершили уровень\n",
    "building_not_finish_level['stage'] = \"not_finish_the_game\"\n",
    "len(building_not_finish_level)"
   ]
  },
  {
   "cell_type": "code",
   "execution_count": 184,
   "id": "30d6a584-2abd-4347-8824-cc2efa7476a4",
   "metadata": {},
   "outputs": [],
   "source": [
    "df_append =building_not_finish_level.append(finished_1, ignore_index=True) "
   ]
  },
  {
   "cell_type": "code",
   "execution_count": 185,
   "id": "e5b196b1-fbe7-4b6f-b5d4-0206c21d2e0f",
   "metadata": {},
   "outputs": [
    {
     "data": {
      "text/plain": [
       "135639"
      ]
     },
     "execution_count": 185,
     "metadata": {},
     "output_type": "execute_result"
    }
   ],
   "source": [
    "len(df_append)"
   ]
  },
  {
   "cell_type": "code",
   "execution_count": 186,
   "id": "af793902-1c42-4224-a3d6-5e0604bf2202",
   "metadata": {},
   "outputs": [
    {
     "data": {
      "text/html": [
       "<div>\n",
       "<style scoped>\n",
       "    .dataframe tbody tr th:only-of-type {\n",
       "        vertical-align: middle;\n",
       "    }\n",
       "\n",
       "    .dataframe tbody tr th {\n",
       "        vertical-align: top;\n",
       "    }\n",
       "\n",
       "    .dataframe thead th {\n",
       "        text-align: right;\n",
       "    }\n",
       "</style>\n",
       "<table border=\"1\" class=\"dataframe\">\n",
       "  <thead>\n",
       "    <tr style=\"text-align: right;\">\n",
       "      <th></th>\n",
       "      <th>event_datetime</th>\n",
       "      <th>event</th>\n",
       "      <th>building_type</th>\n",
       "      <th>user_id</th>\n",
       "      <th>project_type</th>\n",
       "      <th>day</th>\n",
       "      <th>stage</th>\n",
       "    </tr>\n",
       "  </thead>\n",
       "  <tbody>\n",
       "    <tr>\n",
       "      <th>0</th>\n",
       "      <td>2020-05-04 00:00:01</td>\n",
       "      <td>building</td>\n",
       "      <td>assembly_shop</td>\n",
       "      <td>55e92310-cb8e-4754-b622-597e124b03de</td>\n",
       "      <td>no_finished_project</td>\n",
       "      <td>2020-05-04</td>\n",
       "      <td>not_finish_the_game</td>\n",
       "    </tr>\n",
       "    <tr>\n",
       "      <th>1</th>\n",
       "      <td>2020-05-04 00:00:16</td>\n",
       "      <td>building</td>\n",
       "      <td>assembly_shop</td>\n",
       "      <td>92c69003-d60a-444a-827f-8cc51bf6bf4c</td>\n",
       "      <td>no_finished_project</td>\n",
       "      <td>2020-05-04</td>\n",
       "      <td>not_finish_the_game</td>\n",
       "    </tr>\n",
       "    <tr>\n",
       "      <th>2</th>\n",
       "      <td>2020-05-04 00:00:36</td>\n",
       "      <td>building</td>\n",
       "      <td>assembly_shop</td>\n",
       "      <td>06c592ca-902d-42bb-bac3-75ce84cca159</td>\n",
       "      <td>no_finished_project</td>\n",
       "      <td>2020-05-04</td>\n",
       "      <td>not_finish_the_game</td>\n",
       "    </tr>\n",
       "    <tr>\n",
       "      <th>3</th>\n",
       "      <td>2020-05-04 00:00:38</td>\n",
       "      <td>building</td>\n",
       "      <td>assembly_shop</td>\n",
       "      <td>beb8ca15-33a9-465d-b47b-89aa96f89c9a</td>\n",
       "      <td>no_finished_project</td>\n",
       "      <td>2020-05-04</td>\n",
       "      <td>not_finish_the_game</td>\n",
       "    </tr>\n",
       "    <tr>\n",
       "      <th>4</th>\n",
       "      <td>2020-05-04 00:01:59</td>\n",
       "      <td>building</td>\n",
       "      <td>assembly_shop</td>\n",
       "      <td>c99ecd61-1a4e-4bd2-b8b5-1f8bbcd2bdb5</td>\n",
       "      <td>no_finished_project</td>\n",
       "      <td>2020-05-04</td>\n",
       "      <td>not_finish_the_game</td>\n",
       "    </tr>\n",
       "    <tr>\n",
       "      <th>...</th>\n",
       "      <td>...</td>\n",
       "      <td>...</td>\n",
       "      <td>...</td>\n",
       "      <td>...</td>\n",
       "      <td>...</td>\n",
       "      <td>...</td>\n",
       "      <td>...</td>\n",
       "    </tr>\n",
       "    <tr>\n",
       "      <th>135634</th>\n",
       "      <td>2020-06-04 18:14:33</td>\n",
       "      <td>building</td>\n",
       "      <td>research_center</td>\n",
       "      <td>515c1952-99aa-4bca-a7ea-d0449eb5385a</td>\n",
       "      <td>no_finished_project</td>\n",
       "      <td>2020-06-04</td>\n",
       "      <td>finish_the_game</td>\n",
       "    </tr>\n",
       "    <tr>\n",
       "      <th>135635</th>\n",
       "      <td>2020-06-05 00:08:06</td>\n",
       "      <td>building</td>\n",
       "      <td>research_center</td>\n",
       "      <td>f21d179f-1c4b-437e-b9c6-ab1976907195</td>\n",
       "      <td>no_finished_project</td>\n",
       "      <td>2020-06-05</td>\n",
       "      <td>finish_the_game</td>\n",
       "    </tr>\n",
       "    <tr>\n",
       "      <th>135636</th>\n",
       "      <td>2020-06-05 02:25:12</td>\n",
       "      <td>finished_stage_1</td>\n",
       "      <td>no_building</td>\n",
       "      <td>515c1952-99aa-4bca-a7ea-d0449eb5385a</td>\n",
       "      <td>no_finished_project</td>\n",
       "      <td>2020-06-05</td>\n",
       "      <td>finish_the_game</td>\n",
       "    </tr>\n",
       "    <tr>\n",
       "      <th>135637</th>\n",
       "      <td>2020-06-05 12:12:27</td>\n",
       "      <td>finished_stage_1</td>\n",
       "      <td>no_building</td>\n",
       "      <td>32572adb-900f-4b5d-a453-1eb1e6d88d8b</td>\n",
       "      <td>no_finished_project</td>\n",
       "      <td>2020-06-05</td>\n",
       "      <td>finish_the_game</td>\n",
       "    </tr>\n",
       "    <tr>\n",
       "      <th>135638</th>\n",
       "      <td>2020-06-05 12:32:49</td>\n",
       "      <td>finished_stage_1</td>\n",
       "      <td>no_building</td>\n",
       "      <td>f21d179f-1c4b-437e-b9c6-ab1976907195</td>\n",
       "      <td>no_finished_project</td>\n",
       "      <td>2020-06-05</td>\n",
       "      <td>finish_the_game</td>\n",
       "    </tr>\n",
       "  </tbody>\n",
       "</table>\n",
       "<p>135639 rows × 7 columns</p>\n",
       "</div>"
      ],
      "text/plain": [
       "            event_datetime             event    building_type  \\\n",
       "0      2020-05-04 00:00:01          building    assembly_shop   \n",
       "1      2020-05-04 00:00:16          building    assembly_shop   \n",
       "2      2020-05-04 00:00:36          building    assembly_shop   \n",
       "3      2020-05-04 00:00:38          building    assembly_shop   \n",
       "4      2020-05-04 00:01:59          building    assembly_shop   \n",
       "...                    ...               ...              ...   \n",
       "135634 2020-06-04 18:14:33          building  research_center   \n",
       "135635 2020-06-05 00:08:06          building  research_center   \n",
       "135636 2020-06-05 02:25:12  finished_stage_1      no_building   \n",
       "135637 2020-06-05 12:12:27  finished_stage_1      no_building   \n",
       "135638 2020-06-05 12:32:49  finished_stage_1      no_building   \n",
       "\n",
       "                                     user_id         project_type        day  \\\n",
       "0       55e92310-cb8e-4754-b622-597e124b03de  no_finished_project 2020-05-04   \n",
       "1       92c69003-d60a-444a-827f-8cc51bf6bf4c  no_finished_project 2020-05-04   \n",
       "2       06c592ca-902d-42bb-bac3-75ce84cca159  no_finished_project 2020-05-04   \n",
       "3       beb8ca15-33a9-465d-b47b-89aa96f89c9a  no_finished_project 2020-05-04   \n",
       "4       c99ecd61-1a4e-4bd2-b8b5-1f8bbcd2bdb5  no_finished_project 2020-05-04   \n",
       "...                                      ...                  ...        ...   \n",
       "135634  515c1952-99aa-4bca-a7ea-d0449eb5385a  no_finished_project 2020-06-04   \n",
       "135635  f21d179f-1c4b-437e-b9c6-ab1976907195  no_finished_project 2020-06-05   \n",
       "135636  515c1952-99aa-4bca-a7ea-d0449eb5385a  no_finished_project 2020-06-05   \n",
       "135637  32572adb-900f-4b5d-a453-1eb1e6d88d8b  no_finished_project 2020-06-05   \n",
       "135638  f21d179f-1c4b-437e-b9c6-ab1976907195  no_finished_project 2020-06-05   \n",
       "\n",
       "                      stage  \n",
       "0       not_finish_the_game  \n",
       "1       not_finish_the_game  \n",
       "2       not_finish_the_game  \n",
       "3       not_finish_the_game  \n",
       "4       not_finish_the_game  \n",
       "...                     ...  \n",
       "135634      finish_the_game  \n",
       "135635      finish_the_game  \n",
       "135636      finish_the_game  \n",
       "135637      finish_the_game  \n",
       "135638      finish_the_game  \n",
       "\n",
       "[135639 rows x 7 columns]"
      ]
     },
     "execution_count": 186,
     "metadata": {},
     "output_type": "execute_result"
    }
   ],
   "source": [
    "df_append"
   ]
  },
  {
   "cell_type": "code",
   "execution_count": 187,
   "id": "c1fa4734-2afc-413b-8f1f-efff7fff484f",
   "metadata": {},
   "outputs": [],
   "source": [
    "df_append.to_csv('df_append.csv', index=False)"
   ]
  }
 ],
 "metadata": {
  "ExecuteTimeLog": [
   {
    "duration": 1537,
    "start_time": "2022-07-19T16:33:56.289Z"
   },
   {
    "duration": 3,
    "start_time": "2022-07-19T16:33:57.828Z"
   },
   {
    "duration": 6,
    "start_time": "2022-07-19T16:33:57.832Z"
   },
   {
    "duration": 6,
    "start_time": "2022-07-19T16:33:57.839Z"
   },
   {
    "duration": 93,
    "start_time": "2022-07-19T16:33:57.846Z"
   },
   {
    "duration": 0,
    "start_time": "2022-07-19T16:33:57.944Z"
   },
   {
    "duration": 0,
    "start_time": "2022-07-19T16:33:57.945Z"
   },
   {
    "duration": 0,
    "start_time": "2022-07-19T16:33:57.946Z"
   },
   {
    "duration": 0,
    "start_time": "2022-07-19T16:33:57.947Z"
   },
   {
    "duration": 0,
    "start_time": "2022-07-19T16:33:57.948Z"
   },
   {
    "duration": 0,
    "start_time": "2022-07-19T16:33:57.949Z"
   },
   {
    "duration": 0,
    "start_time": "2022-07-19T16:33:57.950Z"
   },
   {
    "duration": 0,
    "start_time": "2022-07-19T16:33:57.951Z"
   },
   {
    "duration": 0,
    "start_time": "2022-07-19T16:33:57.952Z"
   },
   {
    "duration": 0,
    "start_time": "2022-07-19T16:33:57.952Z"
   },
   {
    "duration": 0,
    "start_time": "2022-07-19T16:33:57.953Z"
   },
   {
    "duration": 0,
    "start_time": "2022-07-19T16:33:57.954Z"
   },
   {
    "duration": 0,
    "start_time": "2022-07-19T16:33:57.955Z"
   },
   {
    "duration": 0,
    "start_time": "2022-07-19T16:33:57.956Z"
   },
   {
    "duration": 0,
    "start_time": "2022-07-19T16:33:57.957Z"
   },
   {
    "duration": 0,
    "start_time": "2022-07-19T16:33:57.958Z"
   },
   {
    "duration": 0,
    "start_time": "2022-07-19T16:33:57.959Z"
   },
   {
    "duration": 0,
    "start_time": "2022-07-19T16:33:57.960Z"
   },
   {
    "duration": 0,
    "start_time": "2022-07-19T16:33:57.960Z"
   },
   {
    "duration": 0,
    "start_time": "2022-07-19T16:33:57.961Z"
   },
   {
    "duration": 0,
    "start_time": "2022-07-19T16:33:57.962Z"
   },
   {
    "duration": 0,
    "start_time": "2022-07-19T16:33:57.963Z"
   },
   {
    "duration": 0,
    "start_time": "2022-07-19T16:33:57.964Z"
   },
   {
    "duration": 0,
    "start_time": "2022-07-19T16:33:57.964Z"
   },
   {
    "duration": 0,
    "start_time": "2022-07-19T16:33:57.965Z"
   },
   {
    "duration": 0,
    "start_time": "2022-07-19T16:33:57.966Z"
   },
   {
    "duration": 0,
    "start_time": "2022-07-19T16:33:58.002Z"
   },
   {
    "duration": 0,
    "start_time": "2022-07-19T16:33:58.003Z"
   },
   {
    "duration": 0,
    "start_time": "2022-07-19T16:33:58.004Z"
   },
   {
    "duration": 0,
    "start_time": "2022-07-19T16:33:58.005Z"
   },
   {
    "duration": 0,
    "start_time": "2022-07-19T16:33:58.006Z"
   },
   {
    "duration": 0,
    "start_time": "2022-07-19T16:33:58.007Z"
   },
   {
    "duration": 0,
    "start_time": "2022-07-19T16:33:58.008Z"
   },
   {
    "duration": 0,
    "start_time": "2022-07-19T16:33:58.009Z"
   },
   {
    "duration": 0,
    "start_time": "2022-07-19T16:33:58.011Z"
   },
   {
    "duration": 0,
    "start_time": "2022-07-19T16:33:58.011Z"
   },
   {
    "duration": 1,
    "start_time": "2022-07-19T16:33:58.012Z"
   },
   {
    "duration": 0,
    "start_time": "2022-07-19T16:33:58.014Z"
   },
   {
    "duration": 0,
    "start_time": "2022-07-19T16:33:58.015Z"
   },
   {
    "duration": 0,
    "start_time": "2022-07-19T16:33:58.016Z"
   },
   {
    "duration": 0,
    "start_time": "2022-07-19T16:33:58.017Z"
   },
   {
    "duration": 0,
    "start_time": "2022-07-19T16:33:58.018Z"
   },
   {
    "duration": 0,
    "start_time": "2022-07-19T16:33:58.019Z"
   },
   {
    "duration": 0,
    "start_time": "2022-07-19T16:33:58.020Z"
   },
   {
    "duration": 0,
    "start_time": "2022-07-19T16:33:58.020Z"
   },
   {
    "duration": 0,
    "start_time": "2022-07-19T16:33:58.021Z"
   },
   {
    "duration": 0,
    "start_time": "2022-07-19T16:33:58.022Z"
   },
   {
    "duration": 0,
    "start_time": "2022-07-19T16:33:58.023Z"
   },
   {
    "duration": 0,
    "start_time": "2022-07-19T16:33:58.024Z"
   },
   {
    "duration": 0,
    "start_time": "2022-07-19T16:33:58.025Z"
   },
   {
    "duration": 0,
    "start_time": "2022-07-19T16:33:58.025Z"
   },
   {
    "duration": 0,
    "start_time": "2022-07-19T16:33:58.026Z"
   },
   {
    "duration": 0,
    "start_time": "2022-07-19T16:33:58.028Z"
   },
   {
    "duration": 0,
    "start_time": "2022-07-19T16:33:58.028Z"
   },
   {
    "duration": 0,
    "start_time": "2022-07-19T16:33:58.029Z"
   },
   {
    "duration": 0,
    "start_time": "2022-07-19T16:33:58.030Z"
   },
   {
    "duration": 0,
    "start_time": "2022-07-19T16:33:58.031Z"
   },
   {
    "duration": 0,
    "start_time": "2022-07-19T16:33:58.032Z"
   },
   {
    "duration": 0,
    "start_time": "2022-07-19T16:33:58.033Z"
   },
   {
    "duration": 0,
    "start_time": "2022-07-19T16:33:58.034Z"
   },
   {
    "duration": 0,
    "start_time": "2022-07-19T16:33:58.034Z"
   },
   {
    "duration": 0,
    "start_time": "2022-07-19T16:33:58.035Z"
   },
   {
    "duration": 0,
    "start_time": "2022-07-19T16:33:58.036Z"
   },
   {
    "duration": 0,
    "start_time": "2022-07-19T16:33:58.037Z"
   },
   {
    "duration": 0,
    "start_time": "2022-07-19T16:33:58.038Z"
   },
   {
    "duration": 0,
    "start_time": "2022-07-19T16:33:58.039Z"
   },
   {
    "duration": 0,
    "start_time": "2022-07-19T16:33:58.101Z"
   },
   {
    "duration": 0,
    "start_time": "2022-07-19T16:33:58.102Z"
   },
   {
    "duration": 0,
    "start_time": "2022-07-19T16:33:58.103Z"
   },
   {
    "duration": 0,
    "start_time": "2022-07-19T16:33:58.104Z"
   },
   {
    "duration": 0,
    "start_time": "2022-07-19T16:33:58.105Z"
   },
   {
    "duration": 0,
    "start_time": "2022-07-19T16:33:58.106Z"
   },
   {
    "duration": 0,
    "start_time": "2022-07-19T16:33:58.107Z"
   },
   {
    "duration": 0,
    "start_time": "2022-07-19T16:33:58.108Z"
   },
   {
    "duration": 0,
    "start_time": "2022-07-19T16:33:58.109Z"
   },
   {
    "duration": 0,
    "start_time": "2022-07-19T16:33:58.110Z"
   },
   {
    "duration": 0,
    "start_time": "2022-07-19T16:33:58.111Z"
   },
   {
    "duration": 0,
    "start_time": "2022-07-19T16:33:58.112Z"
   },
   {
    "duration": 0,
    "start_time": "2022-07-19T16:33:58.113Z"
   },
   {
    "duration": 0,
    "start_time": "2022-07-19T16:33:58.113Z"
   },
   {
    "duration": 0,
    "start_time": "2022-07-19T16:33:58.114Z"
   },
   {
    "duration": 0,
    "start_time": "2022-07-19T16:33:58.115Z"
   },
   {
    "duration": 0,
    "start_time": "2022-07-19T16:33:58.116Z"
   },
   {
    "duration": 0,
    "start_time": "2022-07-19T16:33:58.117Z"
   },
   {
    "duration": 0,
    "start_time": "2022-07-19T16:33:58.118Z"
   },
   {
    "duration": 0,
    "start_time": "2022-07-19T16:33:58.118Z"
   },
   {
    "duration": 0,
    "start_time": "2022-07-19T16:33:58.119Z"
   },
   {
    "duration": 0,
    "start_time": "2022-07-19T16:33:58.120Z"
   },
   {
    "duration": 0,
    "start_time": "2022-07-19T16:33:58.121Z"
   },
   {
    "duration": 0,
    "start_time": "2022-07-19T16:33:58.121Z"
   },
   {
    "duration": 0,
    "start_time": "2022-07-19T16:33:58.122Z"
   },
   {
    "duration": 0,
    "start_time": "2022-07-19T16:33:58.123Z"
   },
   {
    "duration": 0,
    "start_time": "2022-07-19T16:33:58.124Z"
   },
   {
    "duration": 0,
    "start_time": "2022-07-19T16:33:58.125Z"
   },
   {
    "duration": 0,
    "start_time": "2022-07-19T16:33:58.126Z"
   },
   {
    "duration": 1,
    "start_time": "2022-07-19T16:33:58.126Z"
   },
   {
    "duration": 0,
    "start_time": "2022-07-19T16:33:58.128Z"
   },
   {
    "duration": 0,
    "start_time": "2022-07-19T16:33:58.129Z"
   },
   {
    "duration": 0,
    "start_time": "2022-07-19T16:33:58.130Z"
   },
   {
    "duration": 0,
    "start_time": "2022-07-19T16:33:58.131Z"
   },
   {
    "duration": 0,
    "start_time": "2022-07-19T16:33:58.131Z"
   },
   {
    "duration": 0,
    "start_time": "2022-07-19T16:33:58.132Z"
   },
   {
    "duration": 0,
    "start_time": "2022-07-19T16:33:58.133Z"
   },
   {
    "duration": 0,
    "start_time": "2022-07-19T16:33:58.134Z"
   },
   {
    "duration": 0,
    "start_time": "2022-07-19T16:33:58.135Z"
   },
   {
    "duration": 0,
    "start_time": "2022-07-19T16:33:58.135Z"
   },
   {
    "duration": 0,
    "start_time": "2022-07-19T16:33:58.137Z"
   },
   {
    "duration": 0,
    "start_time": "2022-07-19T16:33:58.138Z"
   },
   {
    "duration": 0,
    "start_time": "2022-07-19T16:33:58.203Z"
   },
   {
    "duration": 0,
    "start_time": "2022-07-19T16:33:58.204Z"
   },
   {
    "duration": 0,
    "start_time": "2022-07-19T16:33:58.205Z"
   },
   {
    "duration": 0,
    "start_time": "2022-07-19T16:33:58.207Z"
   },
   {
    "duration": 0,
    "start_time": "2022-07-19T16:33:58.208Z"
   },
   {
    "duration": 0,
    "start_time": "2022-07-19T16:33:58.210Z"
   },
   {
    "duration": 0,
    "start_time": "2022-07-19T16:33:58.211Z"
   },
   {
    "duration": 0,
    "start_time": "2022-07-19T16:33:58.212Z"
   },
   {
    "duration": 0,
    "start_time": "2022-07-19T16:33:58.213Z"
   },
   {
    "duration": 0,
    "start_time": "2022-07-19T16:33:58.214Z"
   },
   {
    "duration": 0,
    "start_time": "2022-07-19T16:33:58.215Z"
   },
   {
    "duration": 0,
    "start_time": "2022-07-19T16:33:58.216Z"
   },
   {
    "duration": 0,
    "start_time": "2022-07-19T16:33:58.217Z"
   },
   {
    "duration": 0,
    "start_time": "2022-07-19T16:33:58.217Z"
   },
   {
    "duration": 0,
    "start_time": "2022-07-19T16:33:58.219Z"
   },
   {
    "duration": 0,
    "start_time": "2022-07-19T16:33:58.219Z"
   },
   {
    "duration": 0,
    "start_time": "2022-07-19T16:33:58.220Z"
   },
   {
    "duration": 0,
    "start_time": "2022-07-19T16:33:58.221Z"
   },
   {
    "duration": 0,
    "start_time": "2022-07-19T16:33:58.221Z"
   },
   {
    "duration": 0,
    "start_time": "2022-07-19T16:33:58.222Z"
   },
   {
    "duration": 0,
    "start_time": "2022-07-19T16:33:58.223Z"
   },
   {
    "duration": 0,
    "start_time": "2022-07-19T16:33:58.224Z"
   },
   {
    "duration": 0,
    "start_time": "2022-07-19T16:33:58.225Z"
   },
   {
    "duration": 0,
    "start_time": "2022-07-19T16:33:58.225Z"
   },
   {
    "duration": 0,
    "start_time": "2022-07-19T16:33:58.226Z"
   },
   {
    "duration": 0,
    "start_time": "2022-07-19T16:33:58.227Z"
   },
   {
    "duration": 0,
    "start_time": "2022-07-19T16:33:58.228Z"
   },
   {
    "duration": 0,
    "start_time": "2022-07-19T16:33:58.229Z"
   },
   {
    "duration": 0,
    "start_time": "2022-07-19T16:33:58.229Z"
   },
   {
    "duration": 0,
    "start_time": "2022-07-19T16:33:58.230Z"
   },
   {
    "duration": 0,
    "start_time": "2022-07-19T16:33:58.231Z"
   },
   {
    "duration": 0,
    "start_time": "2022-07-19T16:33:58.232Z"
   },
   {
    "duration": 0,
    "start_time": "2022-07-19T16:33:58.233Z"
   },
   {
    "duration": 0,
    "start_time": "2022-07-19T16:33:58.234Z"
   },
   {
    "duration": 0,
    "start_time": "2022-07-19T16:33:58.235Z"
   },
   {
    "duration": 0,
    "start_time": "2022-07-19T16:33:58.236Z"
   },
   {
    "duration": 0,
    "start_time": "2022-07-19T16:33:58.236Z"
   },
   {
    "duration": 0,
    "start_time": "2022-07-19T16:33:58.238Z"
   },
   {
    "duration": 0,
    "start_time": "2022-07-19T16:33:58.239Z"
   },
   {
    "duration": 0,
    "start_time": "2022-07-19T16:33:58.240Z"
   },
   {
    "duration": 0,
    "start_time": "2022-07-19T16:33:58.241Z"
   },
   {
    "duration": 0,
    "start_time": "2022-07-19T16:33:58.242Z"
   },
   {
    "duration": 0,
    "start_time": "2022-07-19T16:33:58.244Z"
   },
   {
    "duration": 0,
    "start_time": "2022-07-19T16:33:58.303Z"
   },
   {
    "duration": 0,
    "start_time": "2022-07-19T16:33:58.304Z"
   },
   {
    "duration": 0,
    "start_time": "2022-07-19T16:33:58.305Z"
   },
   {
    "duration": 0,
    "start_time": "2022-07-19T16:33:58.306Z"
   },
   {
    "duration": 0,
    "start_time": "2022-07-19T16:33:58.307Z"
   },
   {
    "duration": 0,
    "start_time": "2022-07-19T16:33:58.309Z"
   },
   {
    "duration": 0,
    "start_time": "2022-07-19T16:33:58.310Z"
   },
   {
    "duration": 0,
    "start_time": "2022-07-19T16:33:58.311Z"
   },
   {
    "duration": 0,
    "start_time": "2022-07-19T16:33:58.313Z"
   },
   {
    "duration": 0,
    "start_time": "2022-07-19T16:33:58.314Z"
   },
   {
    "duration": 0,
    "start_time": "2022-07-19T16:33:58.315Z"
   },
   {
    "duration": 0,
    "start_time": "2022-07-19T16:33:58.316Z"
   },
   {
    "duration": 0,
    "start_time": "2022-07-19T16:33:58.318Z"
   },
   {
    "duration": 0,
    "start_time": "2022-07-19T16:33:58.319Z"
   },
   {
    "duration": 0,
    "start_time": "2022-07-19T16:33:58.320Z"
   },
   {
    "duration": 0,
    "start_time": "2022-07-19T16:33:58.322Z"
   },
   {
    "duration": 0,
    "start_time": "2022-07-19T16:33:58.323Z"
   },
   {
    "duration": 0,
    "start_time": "2022-07-19T16:33:58.325Z"
   },
   {
    "duration": 0,
    "start_time": "2022-07-19T16:33:58.326Z"
   },
   {
    "duration": 0,
    "start_time": "2022-07-19T16:33:58.326Z"
   },
   {
    "duration": 0,
    "start_time": "2022-07-19T16:33:58.327Z"
   },
   {
    "duration": 0,
    "start_time": "2022-07-19T16:33:58.328Z"
   },
   {
    "duration": 0,
    "start_time": "2022-07-19T16:33:58.329Z"
   },
   {
    "duration": 0,
    "start_time": "2022-07-19T16:33:58.329Z"
   },
   {
    "duration": 0,
    "start_time": "2022-07-19T16:33:58.330Z"
   },
   {
    "duration": 0,
    "start_time": "2022-07-19T16:33:58.331Z"
   },
   {
    "duration": 0,
    "start_time": "2022-07-19T16:33:58.332Z"
   },
   {
    "duration": 0,
    "start_time": "2022-07-19T16:33:58.332Z"
   },
   {
    "duration": 0,
    "start_time": "2022-07-19T16:33:58.333Z"
   },
   {
    "duration": 0,
    "start_time": "2022-07-19T16:33:58.334Z"
   },
   {
    "duration": 0,
    "start_time": "2022-07-19T16:33:58.334Z"
   },
   {
    "duration": 0,
    "start_time": "2022-07-19T16:33:58.335Z"
   },
   {
    "duration": 0,
    "start_time": "2022-07-19T16:33:58.336Z"
   },
   {
    "duration": 0,
    "start_time": "2022-07-19T16:33:58.337Z"
   },
   {
    "duration": 0,
    "start_time": "2022-07-19T16:33:58.338Z"
   },
   {
    "duration": 0,
    "start_time": "2022-07-19T16:33:58.339Z"
   },
   {
    "duration": 0,
    "start_time": "2022-07-19T16:33:58.404Z"
   },
   {
    "duration": 0,
    "start_time": "2022-07-19T16:33:58.405Z"
   },
   {
    "duration": 0,
    "start_time": "2022-07-19T16:33:58.406Z"
   },
   {
    "duration": 0,
    "start_time": "2022-07-19T16:33:58.407Z"
   },
   {
    "duration": 0,
    "start_time": "2022-07-19T16:33:58.408Z"
   },
   {
    "duration": 0,
    "start_time": "2022-07-19T16:33:58.409Z"
   },
   {
    "duration": 0,
    "start_time": "2022-07-19T16:33:58.409Z"
   },
   {
    "duration": 0,
    "start_time": "2022-07-19T16:33:58.410Z"
   },
   {
    "duration": 68,
    "start_time": "2022-07-19T16:34:15.409Z"
   },
   {
    "duration": 8,
    "start_time": "2022-07-19T17:39:41.508Z"
   },
   {
    "duration": 3,
    "start_time": "2022-07-19T17:39:42.569Z"
   },
   {
    "duration": 3,
    "start_time": "2022-07-19T17:39:42.886Z"
   },
   {
    "duration": 3,
    "start_time": "2022-07-19T17:39:43.155Z"
   },
   {
    "duration": 249,
    "start_time": "2022-07-19T17:39:44.047Z"
   },
   {
    "duration": 17,
    "start_time": "2022-07-19T17:39:44.298Z"
   },
   {
    "duration": 39,
    "start_time": "2022-07-19T17:39:44.446Z"
   },
   {
    "duration": 15,
    "start_time": "2022-07-19T17:39:44.974Z"
   },
   {
    "duration": 44,
    "start_time": "2022-07-19T17:39:45.407Z"
   },
   {
    "duration": 13,
    "start_time": "2022-07-19T17:39:46.176Z"
   },
   {
    "duration": 13,
    "start_time": "2022-07-19T17:39:46.791Z"
   },
   {
    "duration": 76,
    "start_time": "2022-07-19T17:39:46.999Z"
   },
   {
    "duration": 11,
    "start_time": "2022-07-19T17:39:48.174Z"
   },
   {
    "duration": 31,
    "start_time": "2022-07-19T17:39:48.570Z"
   },
   {
    "duration": 43,
    "start_time": "2022-07-19T17:39:48.953Z"
   },
   {
    "duration": 29,
    "start_time": "2022-07-19T17:39:49.168Z"
   },
   {
    "duration": 15,
    "start_time": "2022-07-19T17:39:49.351Z"
   },
   {
    "duration": 76,
    "start_time": "2022-07-19T17:39:49.724Z"
   },
   {
    "duration": 94,
    "start_time": "2022-07-19T17:39:49.932Z"
   },
   {
    "duration": 71,
    "start_time": "2022-07-19T17:39:50.367Z"
   },
   {
    "duration": 73,
    "start_time": "2022-07-19T17:39:50.518Z"
   },
   {
    "duration": 28,
    "start_time": "2022-07-19T17:39:50.882Z"
   },
   {
    "duration": 139,
    "start_time": "2022-07-19T17:39:51.074Z"
   },
   {
    "duration": 31,
    "start_time": "2022-07-19T17:39:51.299Z"
   },
   {
    "duration": 22,
    "start_time": "2022-07-19T17:39:51.488Z"
   },
   {
    "duration": 29,
    "start_time": "2022-07-19T17:39:51.711Z"
   },
   {
    "duration": 4,
    "start_time": "2022-07-19T17:39:51.898Z"
   },
   {
    "duration": 4,
    "start_time": "2022-07-19T17:39:52.110Z"
   },
   {
    "duration": 12,
    "start_time": "2022-07-19T17:39:52.869Z"
   },
   {
    "duration": 11,
    "start_time": "2022-07-19T17:39:53.385Z"
   },
   {
    "duration": 6,
    "start_time": "2022-07-19T17:39:53.681Z"
   },
   {
    "duration": 10,
    "start_time": "2022-07-19T17:39:53.971Z"
   },
   {
    "duration": 11,
    "start_time": "2022-07-19T17:39:54.167Z"
   },
   {
    "duration": 10,
    "start_time": "2022-07-19T17:39:54.580Z"
   },
   {
    "duration": 4,
    "start_time": "2022-07-19T17:39:54.903Z"
   },
   {
    "duration": 13,
    "start_time": "2022-07-19T17:39:55.090Z"
   },
   {
    "duration": 6,
    "start_time": "2022-07-19T17:39:55.492Z"
   },
   {
    "duration": 6,
    "start_time": "2022-07-19T17:39:56.290Z"
   },
   {
    "duration": 7,
    "start_time": "2022-07-19T17:39:56.476Z"
   },
   {
    "duration": 13,
    "start_time": "2022-07-19T17:39:56.756Z"
   },
   {
    "duration": 10,
    "start_time": "2022-07-19T17:39:57.001Z"
   },
   {
    "duration": 5,
    "start_time": "2022-07-19T17:39:57.303Z"
   },
   {
    "duration": 4,
    "start_time": "2022-07-19T17:39:57.574Z"
   },
   {
    "duration": 15,
    "start_time": "2022-07-19T17:39:59.075Z"
   },
   {
    "duration": 32,
    "start_time": "2022-07-19T17:39:59.354Z"
   },
   {
    "duration": 4,
    "start_time": "2022-07-19T17:40:00.493Z"
   },
   {
    "duration": 21,
    "start_time": "2022-07-19T17:40:01.493Z"
   },
   {
    "duration": 6,
    "start_time": "2022-07-19T17:40:01.724Z"
   },
   {
    "duration": 8,
    "start_time": "2022-07-19T17:40:01.900Z"
   },
   {
    "duration": 8,
    "start_time": "2022-07-19T17:40:02.109Z"
   },
   {
    "duration": 185,
    "start_time": "2022-07-19T17:40:02.552Z"
   },
   {
    "duration": 14,
    "start_time": "2022-07-19T17:40:03.231Z"
   },
   {
    "duration": 22,
    "start_time": "2022-07-19T17:40:03.975Z"
   },
   {
    "duration": 143,
    "start_time": "2022-07-19T17:40:04.186Z"
   },
   {
    "duration": 19,
    "start_time": "2022-07-19T17:40:04.673Z"
   },
   {
    "duration": 7,
    "start_time": "2022-07-19T17:40:04.870Z"
   },
   {
    "duration": 13,
    "start_time": "2022-07-19T17:40:05.071Z"
   },
   {
    "duration": 5,
    "start_time": "2022-07-19T17:40:05.279Z"
   },
   {
    "duration": 29,
    "start_time": "2022-07-19T17:40:05.494Z"
   },
   {
    "duration": 20,
    "start_time": "2022-07-19T17:40:05.769Z"
   },
   {
    "duration": 17,
    "start_time": "2022-07-19T17:40:05.969Z"
   },
   {
    "duration": 11,
    "start_time": "2022-07-19T17:40:06.175Z"
   },
   {
    "duration": 4,
    "start_time": "2022-07-19T17:40:06.394Z"
   },
   {
    "duration": 26,
    "start_time": "2022-07-19T17:40:06.624Z"
   },
   {
    "duration": 11,
    "start_time": "2022-07-19T17:40:06.832Z"
   },
   {
    "duration": 6,
    "start_time": "2022-07-19T17:40:07.051Z"
   },
   {
    "duration": 4,
    "start_time": "2022-07-19T17:40:07.668Z"
   },
   {
    "duration": 6,
    "start_time": "2022-07-19T17:40:08.047Z"
   },
   {
    "duration": 135,
    "start_time": "2022-07-19T17:40:08.270Z"
   },
   {
    "duration": 11,
    "start_time": "2022-07-19T17:40:08.669Z"
   },
   {
    "duration": 139,
    "start_time": "2022-07-19T17:40:08.875Z"
   },
   {
    "duration": 14,
    "start_time": "2022-07-19T17:40:09.532Z"
   },
   {
    "duration": 18,
    "start_time": "2022-07-19T17:40:09.746Z"
   },
   {
    "duration": 828,
    "start_time": "2022-07-19T17:40:09.971Z"
   },
   {
    "duration": 53,
    "start_time": "2022-07-19T17:40:11.270Z"
   },
   {
    "duration": 201,
    "start_time": "2022-07-19T17:40:11.502Z"
   },
   {
    "duration": 18,
    "start_time": "2022-07-19T17:40:12.090Z"
   },
   {
    "duration": 17,
    "start_time": "2022-07-19T17:40:12.373Z"
   },
   {
    "duration": 52,
    "start_time": "2022-07-19T17:40:12.620Z"
   },
   {
    "duration": 7,
    "start_time": "2022-07-19T17:40:13.414Z"
   },
   {
    "duration": 6,
    "start_time": "2022-07-19T17:40:13.702Z"
   },
   {
    "duration": 6,
    "start_time": "2022-07-19T17:40:14.759Z"
   },
   {
    "duration": 63,
    "start_time": "2022-07-19T17:40:15.187Z"
   },
   {
    "duration": 23,
    "start_time": "2022-07-19T17:40:16.347Z"
   },
   {
    "duration": 19,
    "start_time": "2022-07-19T17:40:16.547Z"
   },
   {
    "duration": 43,
    "start_time": "2022-07-19T17:40:16.767Z"
   },
   {
    "duration": 62,
    "start_time": "2022-07-19T17:40:17.275Z"
   },
   {
    "duration": 17,
    "start_time": "2022-07-19T17:40:17.471Z"
   },
   {
    "duration": 5,
    "start_time": "2022-07-19T17:40:17.708Z"
   },
   {
    "duration": 130,
    "start_time": "2022-07-19T17:40:17.907Z"
   },
   {
    "duration": 4,
    "start_time": "2022-07-19T17:40:18.330Z"
   },
   {
    "duration": 4,
    "start_time": "2022-07-19T17:40:18.747Z"
   },
   {
    "duration": 37,
    "start_time": "2022-07-19T17:40:20.041Z"
   },
   {
    "duration": 38,
    "start_time": "2022-07-19T17:40:20.253Z"
   },
   {
    "duration": 31,
    "start_time": "2022-07-19T17:40:20.516Z"
   },
   {
    "duration": 66,
    "start_time": "2022-07-19T17:40:20.708Z"
   },
   {
    "duration": 19,
    "start_time": "2022-07-19T17:40:32.647Z"
   },
   {
    "duration": 15,
    "start_time": "2022-07-19T17:40:32.923Z"
   },
   {
    "duration": 5,
    "start_time": "2022-07-19T17:40:33.122Z"
   },
   {
    "duration": 3,
    "start_time": "2022-07-19T17:40:33.346Z"
   },
   {
    "duration": 36,
    "start_time": "2022-07-19T17:40:33.554Z"
   },
   {
    "duration": 22,
    "start_time": "2022-07-19T17:40:33.769Z"
   },
   {
    "duration": 5,
    "start_time": "2022-07-19T17:40:33.969Z"
   },
   {
    "duration": 154,
    "start_time": "2022-07-19T17:40:34.150Z"
   },
   {
    "duration": 25,
    "start_time": "2022-07-19T17:40:34.401Z"
   },
   {
    "duration": 682,
    "start_time": "2022-07-19T17:40:34.627Z"
   },
   {
    "duration": 55,
    "start_time": "2022-07-19T17:40:36.467Z"
   },
   {
    "duration": 15,
    "start_time": "2022-07-19T17:40:36.672Z"
   },
   {
    "duration": 15,
    "start_time": "2022-07-19T17:40:36.868Z"
   },
   {
    "duration": 9,
    "start_time": "2022-07-19T17:40:37.072Z"
   },
   {
    "duration": 11,
    "start_time": "2022-07-19T17:40:37.794Z"
   },
   {
    "duration": 12,
    "start_time": "2022-07-19T17:40:37.990Z"
   },
   {
    "duration": 13,
    "start_time": "2022-07-19T17:40:38.211Z"
   },
   {
    "duration": 7,
    "start_time": "2022-07-19T17:40:39.424Z"
   },
   {
    "duration": 5,
    "start_time": "2022-07-19T17:40:39.635Z"
   },
   {
    "duration": 8,
    "start_time": "2022-07-19T17:40:39.814Z"
   },
   {
    "duration": 11,
    "start_time": "2022-07-19T17:40:40.010Z"
   },
   {
    "duration": 189,
    "start_time": "2022-07-19T17:40:40.210Z"
   },
   {
    "duration": 12,
    "start_time": "2022-07-19T17:40:40.578Z"
   },
   {
    "duration": 207,
    "start_time": "2022-07-19T17:40:40.808Z"
   },
   {
    "duration": 11,
    "start_time": "2022-07-19T17:40:41.018Z"
   },
   {
    "duration": 187,
    "start_time": "2022-07-19T17:40:41.245Z"
   },
   {
    "duration": 8,
    "start_time": "2022-07-19T17:40:42.009Z"
   },
   {
    "duration": 4,
    "start_time": "2022-07-19T17:40:42.246Z"
   },
   {
    "duration": 5,
    "start_time": "2022-07-19T17:40:42.467Z"
   },
   {
    "duration": 5,
    "start_time": "2022-07-19T17:40:42.634Z"
   },
   {
    "duration": 10,
    "start_time": "2022-07-19T17:40:43.046Z"
   },
   {
    "duration": 175,
    "start_time": "2022-07-19T17:40:43.248Z"
   },
   {
    "duration": 3,
    "start_time": "2022-07-19T17:40:44.229Z"
   },
   {
    "duration": 6,
    "start_time": "2022-07-19T17:40:44.480Z"
   },
   {
    "duration": 6,
    "start_time": "2022-07-19T17:40:44.759Z"
   },
   {
    "duration": 4,
    "start_time": "2022-07-19T17:40:45.045Z"
   },
   {
    "duration": 5,
    "start_time": "2022-07-19T17:40:45.359Z"
   },
   {
    "duration": 21,
    "start_time": "2022-07-19T17:40:46.025Z"
   },
   {
    "duration": 51,
    "start_time": "2022-07-19T17:40:46.278Z"
   },
   {
    "duration": 52,
    "start_time": "2022-07-19T17:40:46.553Z"
   },
   {
    "duration": 43,
    "start_time": "2022-07-19T17:40:46.849Z"
   },
   {
    "duration": 19,
    "start_time": "2022-07-19T17:40:49.190Z"
   },
   {
    "duration": 42,
    "start_time": "2022-07-19T17:40:49.383Z"
   },
   {
    "duration": 19,
    "start_time": "2022-07-19T17:40:49.599Z"
   },
   {
    "duration": 18,
    "start_time": "2022-07-19T17:40:49.777Z"
   },
   {
    "duration": 7,
    "start_time": "2022-07-19T17:40:49.977Z"
   },
   {
    "duration": 32,
    "start_time": "2022-07-19T17:40:50.291Z"
   },
   {
    "duration": 16,
    "start_time": "2022-07-19T17:40:50.496Z"
   },
   {
    "duration": 16,
    "start_time": "2022-07-19T17:40:50.704Z"
   },
   {
    "duration": 23,
    "start_time": "2022-07-19T17:40:51.031Z"
   },
   {
    "duration": 12,
    "start_time": "2022-07-19T17:40:51.669Z"
   },
   {
    "duration": 40,
    "start_time": "2022-07-19T17:40:51.870Z"
   },
   {
    "duration": 6,
    "start_time": "2022-07-19T17:40:52.121Z"
   },
   {
    "duration": 293,
    "start_time": "2022-07-19T17:40:52.291Z"
   },
   {
    "duration": 26,
    "start_time": "2022-07-19T17:40:52.595Z"
   },
   {
    "duration": 5,
    "start_time": "2022-07-19T17:40:52.769Z"
   },
   {
    "duration": 257,
    "start_time": "2022-07-19T17:40:53.034Z"
   },
   {
    "duration": 8,
    "start_time": "2022-07-19T17:40:53.469Z"
   },
   {
    "duration": 21,
    "start_time": "2022-07-19T17:40:53.900Z"
   },
   {
    "duration": 5,
    "start_time": "2022-07-19T17:40:54.141Z"
   },
   {
    "duration": 268,
    "start_time": "2022-07-19T17:40:54.345Z"
   },
   {
    "duration": 9,
    "start_time": "2022-07-19T17:40:54.616Z"
   },
   {
    "duration": 1217,
    "start_time": "2022-07-19T17:40:56.130Z"
   },
   {
    "duration": 24,
    "start_time": "2022-07-19T17:40:57.349Z"
   },
   {
    "duration": 9,
    "start_time": "2022-07-19T17:40:57.375Z"
   },
   {
    "duration": 28,
    "start_time": "2022-07-19T17:40:57.705Z"
   },
   {
    "duration": 946,
    "start_time": "2022-07-19T17:40:57.935Z"
   },
   {
    "duration": 19,
    "start_time": "2022-07-19T17:40:58.885Z"
   },
   {
    "duration": 3,
    "start_time": "2022-07-19T17:40:58.905Z"
   },
   {
    "duration": 5,
    "start_time": "2022-07-19T17:40:59.095Z"
   },
   {
    "duration": 26,
    "start_time": "2022-07-19T17:40:59.646Z"
   },
   {
    "duration": 3,
    "start_time": "2022-07-19T17:40:59.869Z"
   },
   {
    "duration": 5,
    "start_time": "2022-07-19T17:41:00.090Z"
   },
   {
    "duration": 7,
    "start_time": "2022-07-19T17:41:00.582Z"
   },
   {
    "duration": 6,
    "start_time": "2022-07-19T17:41:00.923Z"
   },
   {
    "duration": 6,
    "start_time": "2022-07-19T17:41:05.673Z"
   },
   {
    "duration": 24,
    "start_time": "2022-07-19T17:41:06.676Z"
   },
   {
    "duration": 6,
    "start_time": "2022-07-19T17:41:06.885Z"
   },
   {
    "duration": 22,
    "start_time": "2022-07-19T17:41:07.853Z"
   },
   {
    "duration": 5,
    "start_time": "2022-07-19T17:41:08.078Z"
   },
   {
    "duration": 31,
    "start_time": "2022-07-19T17:41:08.309Z"
   },
   {
    "duration": 11,
    "start_time": "2022-07-19T17:41:08.531Z"
   },
   {
    "duration": 26,
    "start_time": "2022-07-19T17:41:08.769Z"
   },
   {
    "duration": 19,
    "start_time": "2022-07-19T17:41:08.970Z"
   },
   {
    "duration": 12,
    "start_time": "2022-07-19T17:41:09.197Z"
   },
   {
    "duration": 7,
    "start_time": "2022-07-19T17:41:09.427Z"
   },
   {
    "duration": 125,
    "start_time": "2022-07-19T17:41:09.669Z"
   },
   {
    "duration": 18,
    "start_time": "2022-07-19T17:41:09.882Z"
   },
   {
    "duration": 12,
    "start_time": "2022-07-19T17:41:10.084Z"
   },
   {
    "duration": 126,
    "start_time": "2022-07-19T17:41:10.321Z"
   },
   {
    "duration": 8,
    "start_time": "2022-07-19T17:41:11.546Z"
   },
   {
    "duration": 16,
    "start_time": "2022-07-19T17:41:12.445Z"
   },
   {
    "duration": 3,
    "start_time": "2022-07-19T17:41:13.491Z"
   },
   {
    "duration": 52,
    "start_time": "2022-07-19T17:41:13.683Z"
   },
   {
    "duration": 4,
    "start_time": "2022-07-19T17:41:14.046Z"
   },
   {
    "duration": 5,
    "start_time": "2022-07-19T17:41:14.428Z"
   },
   {
    "duration": 5,
    "start_time": "2022-07-19T17:41:14.608Z"
   },
   {
    "duration": 4,
    "start_time": "2022-07-19T17:41:15.125Z"
   },
   {
    "duration": 5,
    "start_time": "2022-07-19T17:41:15.497Z"
   },
   {
    "duration": 4,
    "start_time": "2022-07-19T17:41:15.717Z"
   },
   {
    "duration": 3,
    "start_time": "2022-07-19T17:41:16.023Z"
   },
   {
    "duration": 1529,
    "start_time": "2022-07-19T18:18:01.343Z"
   },
   {
    "duration": 3,
    "start_time": "2022-07-19T18:18:02.873Z"
   },
   {
    "duration": 8,
    "start_time": "2022-07-19T18:18:02.878Z"
   },
   {
    "duration": 6,
    "start_time": "2022-07-19T18:18:02.888Z"
   },
   {
    "duration": 201,
    "start_time": "2022-07-19T18:18:02.896Z"
   },
   {
    "duration": 15,
    "start_time": "2022-07-19T18:18:03.098Z"
   },
   {
    "duration": 25,
    "start_time": "2022-07-19T18:18:03.115Z"
   },
   {
    "duration": 11,
    "start_time": "2022-07-19T18:18:03.142Z"
   },
   {
    "duration": 35,
    "start_time": "2022-07-19T18:18:03.155Z"
   },
   {
    "duration": 9,
    "start_time": "2022-07-19T18:18:03.193Z"
   },
   {
    "duration": 8,
    "start_time": "2022-07-19T18:18:03.204Z"
   },
   {
    "duration": 16,
    "start_time": "2022-07-19T18:18:03.214Z"
   },
   {
    "duration": 24,
    "start_time": "2022-07-19T18:18:03.232Z"
   },
   {
    "duration": 62,
    "start_time": "2022-07-19T18:18:03.257Z"
   },
   {
    "duration": 25,
    "start_time": "2022-07-19T18:18:03.321Z"
   },
   {
    "duration": 13,
    "start_time": "2022-07-19T18:18:03.347Z"
   },
   {
    "duration": 153,
    "start_time": "2022-07-19T18:18:03.362Z"
   },
   {
    "duration": 106,
    "start_time": "2022-07-19T18:18:03.518Z"
   },
   {
    "duration": 107,
    "start_time": "2022-07-19T18:18:03.627Z"
   },
   {
    "duration": 76,
    "start_time": "2022-07-19T18:18:03.736Z"
   },
   {
    "duration": 29,
    "start_time": "2022-07-19T18:18:03.814Z"
   },
   {
    "duration": 88,
    "start_time": "2022-07-19T18:18:03.845Z"
   },
   {
    "duration": 41,
    "start_time": "2022-07-19T18:18:03.936Z"
   },
   {
    "duration": 37,
    "start_time": "2022-07-19T18:18:03.978Z"
   },
   {
    "duration": 28,
    "start_time": "2022-07-19T18:18:04.016Z"
   },
   {
    "duration": 6,
    "start_time": "2022-07-19T18:18:04.046Z"
   },
   {
    "duration": 11,
    "start_time": "2022-07-19T18:18:04.053Z"
   },
   {
    "duration": 34,
    "start_time": "2022-07-19T18:18:04.068Z"
   },
   {
    "duration": 9,
    "start_time": "2022-07-19T18:18:04.104Z"
   },
   {
    "duration": 15,
    "start_time": "2022-07-19T18:18:04.115Z"
   },
   {
    "duration": 14,
    "start_time": "2022-07-19T18:18:04.132Z"
   },
   {
    "duration": 10,
    "start_time": "2022-07-19T18:18:04.149Z"
   },
   {
    "duration": 9,
    "start_time": "2022-07-19T18:18:04.160Z"
   },
   {
    "duration": 35,
    "start_time": "2022-07-19T18:18:04.171Z"
   },
   {
    "duration": 13,
    "start_time": "2022-07-19T18:18:04.207Z"
   },
   {
    "duration": 8,
    "start_time": "2022-07-19T18:18:04.222Z"
   },
   {
    "duration": 7,
    "start_time": "2022-07-19T18:18:04.233Z"
   },
   {
    "duration": 6,
    "start_time": "2022-07-19T18:18:04.241Z"
   },
   {
    "duration": 11,
    "start_time": "2022-07-19T18:18:04.248Z"
   },
   {
    "duration": 13,
    "start_time": "2022-07-19T18:18:04.262Z"
   },
   {
    "duration": 4,
    "start_time": "2022-07-19T18:18:04.301Z"
   },
   {
    "duration": 13,
    "start_time": "2022-07-19T18:18:04.307Z"
   },
   {
    "duration": 18,
    "start_time": "2022-07-19T18:18:04.321Z"
   },
   {
    "duration": 27,
    "start_time": "2022-07-19T18:18:04.341Z"
   },
   {
    "duration": 4,
    "start_time": "2022-07-19T18:18:04.371Z"
   },
   {
    "duration": 18,
    "start_time": "2022-07-19T18:18:04.402Z"
   },
   {
    "duration": 6,
    "start_time": "2022-07-19T18:18:04.422Z"
   },
   {
    "duration": 9,
    "start_time": "2022-07-19T18:18:04.430Z"
   },
   {
    "duration": 10,
    "start_time": "2022-07-19T18:18:04.440Z"
   },
   {
    "duration": 269,
    "start_time": "2022-07-19T18:18:04.451Z"
   },
   {
    "duration": 43,
    "start_time": "2022-07-19T18:18:04.722Z"
   },
   {
    "duration": 47,
    "start_time": "2022-07-19T18:18:04.766Z"
   },
   {
    "duration": 222,
    "start_time": "2022-07-19T18:18:04.814Z"
   },
   {
    "duration": 17,
    "start_time": "2022-07-19T18:18:05.037Z"
   },
   {
    "duration": 6,
    "start_time": "2022-07-19T18:18:05.055Z"
   },
   {
    "duration": 40,
    "start_time": "2022-07-19T18:18:05.063Z"
   },
   {
    "duration": 5,
    "start_time": "2022-07-19T18:18:05.105Z"
   },
   {
    "duration": 37,
    "start_time": "2022-07-19T18:18:05.112Z"
   },
   {
    "duration": 51,
    "start_time": "2022-07-19T18:18:05.152Z"
   },
   {
    "duration": 19,
    "start_time": "2022-07-19T18:18:05.205Z"
   },
   {
    "duration": 9,
    "start_time": "2022-07-19T18:18:05.225Z"
   },
   {
    "duration": 8,
    "start_time": "2022-07-19T18:18:05.235Z"
   },
   {
    "duration": 26,
    "start_time": "2022-07-19T18:18:05.245Z"
   },
   {
    "duration": 37,
    "start_time": "2022-07-19T18:18:05.273Z"
   },
   {
    "duration": 4,
    "start_time": "2022-07-19T18:18:05.312Z"
   },
   {
    "duration": 18,
    "start_time": "2022-07-19T18:18:05.318Z"
   },
   {
    "duration": 8,
    "start_time": "2022-07-19T18:18:05.338Z"
   },
   {
    "duration": 201,
    "start_time": "2022-07-19T18:18:05.348Z"
   },
   {
    "duration": 11,
    "start_time": "2022-07-19T18:18:05.551Z"
   },
   {
    "duration": 275,
    "start_time": "2022-07-19T18:18:05.563Z"
   },
   {
    "duration": 16,
    "start_time": "2022-07-19T18:18:05.840Z"
   },
   {
    "duration": 14,
    "start_time": "2022-07-19T18:18:05.859Z"
   },
   {
    "duration": 1207,
    "start_time": "2022-07-19T18:18:05.874Z"
   },
   {
    "duration": 51,
    "start_time": "2022-07-19T18:18:07.083Z"
   },
   {
    "duration": 293,
    "start_time": "2022-07-19T18:18:07.136Z"
   },
   {
    "duration": 22,
    "start_time": "2022-07-19T18:18:07.432Z"
   },
   {
    "duration": 21,
    "start_time": "2022-07-19T18:18:07.457Z"
   },
   {
    "duration": 79,
    "start_time": "2022-07-19T18:18:07.479Z"
   },
   {
    "duration": 8,
    "start_time": "2022-07-19T18:18:07.560Z"
   },
   {
    "duration": 13,
    "start_time": "2022-07-19T18:18:07.570Z"
   },
   {
    "duration": 8,
    "start_time": "2022-07-19T18:18:07.604Z"
   },
   {
    "duration": 65,
    "start_time": "2022-07-19T18:18:07.622Z"
   },
   {
    "duration": 15,
    "start_time": "2022-07-19T18:18:07.689Z"
   },
   {
    "duration": 15,
    "start_time": "2022-07-19T18:18:07.706Z"
   },
   {
    "duration": 26,
    "start_time": "2022-07-19T18:18:07.723Z"
   },
   {
    "duration": 73,
    "start_time": "2022-07-19T18:18:07.750Z"
   },
   {
    "duration": 13,
    "start_time": "2022-07-19T18:18:07.824Z"
   },
   {
    "duration": 6,
    "start_time": "2022-07-19T18:18:07.840Z"
   },
   {
    "duration": 266,
    "start_time": "2022-07-19T18:18:07.848Z"
   },
   {
    "duration": 3,
    "start_time": "2022-07-19T18:18:08.116Z"
   },
   {
    "duration": 7,
    "start_time": "2022-07-19T18:18:08.120Z"
   },
   {
    "duration": 30,
    "start_time": "2022-07-19T18:18:08.129Z"
   },
   {
    "duration": 51,
    "start_time": "2022-07-19T18:18:08.161Z"
   },
   {
    "duration": 27,
    "start_time": "2022-07-19T18:18:08.213Z"
   },
   {
    "duration": 67,
    "start_time": "2022-07-19T18:18:08.242Z"
   },
   {
    "duration": 16,
    "start_time": "2022-07-19T18:18:08.311Z"
   },
   {
    "duration": 18,
    "start_time": "2022-07-19T18:18:08.328Z"
   },
   {
    "duration": 6,
    "start_time": "2022-07-19T18:18:08.348Z"
   },
   {
    "duration": 4,
    "start_time": "2022-07-19T18:18:08.356Z"
   },
   {
    "duration": 50,
    "start_time": "2022-07-19T18:18:08.362Z"
   },
   {
    "duration": 14,
    "start_time": "2022-07-19T18:18:08.414Z"
   },
   {
    "duration": 4,
    "start_time": "2022-07-19T18:18:08.430Z"
   },
   {
    "duration": 218,
    "start_time": "2022-07-19T18:18:08.435Z"
   },
   {
    "duration": 25,
    "start_time": "2022-07-19T18:18:08.655Z"
   },
   {
    "duration": 498,
    "start_time": "2022-07-19T18:18:08.682Z"
   },
   {
    "duration": 49,
    "start_time": "2022-07-19T18:18:09.182Z"
   },
   {
    "duration": 11,
    "start_time": "2022-07-19T18:18:09.233Z"
   },
   {
    "duration": 10,
    "start_time": "2022-07-19T18:18:09.246Z"
   },
   {
    "duration": 8,
    "start_time": "2022-07-19T18:18:09.258Z"
   },
   {
    "duration": 40,
    "start_time": "2022-07-19T18:18:09.267Z"
   },
   {
    "duration": 12,
    "start_time": "2022-07-19T18:18:09.309Z"
   },
   {
    "duration": 12,
    "start_time": "2022-07-19T18:18:09.323Z"
   },
   {
    "duration": 8,
    "start_time": "2022-07-19T18:18:09.337Z"
   },
   {
    "duration": 8,
    "start_time": "2022-07-19T18:18:09.347Z"
   },
   {
    "duration": 13,
    "start_time": "2022-07-19T18:18:09.357Z"
   },
   {
    "duration": 39,
    "start_time": "2022-07-19T18:18:09.372Z"
   },
   {
    "duration": 299,
    "start_time": "2022-07-19T18:18:09.413Z"
   },
   {
    "duration": 13,
    "start_time": "2022-07-19T18:18:09.715Z"
   },
   {
    "duration": 284,
    "start_time": "2022-07-19T18:18:09.731Z"
   },
   {
    "duration": 9,
    "start_time": "2022-07-19T18:18:10.016Z"
   },
   {
    "duration": 259,
    "start_time": "2022-07-19T18:18:10.027Z"
   },
   {
    "duration": 18,
    "start_time": "2022-07-19T18:18:10.288Z"
   },
   {
    "duration": 7,
    "start_time": "2022-07-19T18:18:10.309Z"
   },
   {
    "duration": 7,
    "start_time": "2022-07-19T18:18:10.318Z"
   },
   {
    "duration": 6,
    "start_time": "2022-07-19T18:18:10.327Z"
   },
   {
    "duration": 10,
    "start_time": "2022-07-19T18:18:10.334Z"
   },
   {
    "duration": 379,
    "start_time": "2022-07-19T18:18:10.346Z"
   },
   {
    "duration": 3,
    "start_time": "2022-07-19T18:18:10.726Z"
   },
   {
    "duration": 11,
    "start_time": "2022-07-19T18:18:10.730Z"
   },
   {
    "duration": 7,
    "start_time": "2022-07-19T18:18:10.742Z"
   },
   {
    "duration": 4,
    "start_time": "2022-07-19T18:18:10.750Z"
   },
   {
    "duration": 5,
    "start_time": "2022-07-19T18:18:10.756Z"
   },
   {
    "duration": 45,
    "start_time": "2022-07-19T18:18:10.762Z"
   },
   {
    "duration": 37,
    "start_time": "2022-07-19T18:18:10.808Z"
   },
   {
    "duration": 83,
    "start_time": "2022-07-19T18:18:10.848Z"
   },
   {
    "duration": 40,
    "start_time": "2022-07-19T18:18:10.933Z"
   },
   {
    "duration": 35,
    "start_time": "2022-07-19T18:18:10.974Z"
   },
   {
    "duration": 50,
    "start_time": "2022-07-19T18:18:11.011Z"
   },
   {
    "duration": 19,
    "start_time": "2022-07-19T18:18:11.063Z"
   },
   {
    "duration": 32,
    "start_time": "2022-07-19T18:18:11.083Z"
   },
   {
    "duration": 5,
    "start_time": "2022-07-19T18:18:11.116Z"
   },
   {
    "duration": 43,
    "start_time": "2022-07-19T18:18:11.122Z"
   },
   {
    "duration": 37,
    "start_time": "2022-07-19T18:18:11.167Z"
   },
   {
    "duration": 16,
    "start_time": "2022-07-19T18:18:11.206Z"
   },
   {
    "duration": 12,
    "start_time": "2022-07-19T18:18:11.223Z"
   },
   {
    "duration": 11,
    "start_time": "2022-07-19T18:18:11.236Z"
   },
   {
    "duration": 66,
    "start_time": "2022-07-19T18:18:11.249Z"
   },
   {
    "duration": 4,
    "start_time": "2022-07-19T18:18:11.316Z"
   },
   {
    "duration": 399,
    "start_time": "2022-07-19T18:18:11.322Z"
   },
   {
    "duration": 21,
    "start_time": "2022-07-19T18:18:11.723Z"
   },
   {
    "duration": 5,
    "start_time": "2022-07-19T18:18:11.747Z"
   },
   {
    "duration": 387,
    "start_time": "2022-07-19T18:18:11.753Z"
   },
   {
    "duration": 9,
    "start_time": "2022-07-19T18:18:12.142Z"
   },
   {
    "duration": 21,
    "start_time": "2022-07-19T18:18:12.152Z"
   },
   {
    "duration": 29,
    "start_time": "2022-07-19T18:18:12.174Z"
   },
   {
    "duration": 325,
    "start_time": "2022-07-19T18:18:12.205Z"
   },
   {
    "duration": 8,
    "start_time": "2022-07-19T18:18:12.531Z"
   },
   {
    "duration": 1311,
    "start_time": "2022-07-19T18:18:12.540Z"
   },
   {
    "duration": 5,
    "start_time": "2022-07-19T18:18:13.854Z"
   },
   {
    "duration": 13,
    "start_time": "2022-07-19T18:18:13.861Z"
   },
   {
    "duration": 55,
    "start_time": "2022-07-19T18:18:13.876Z"
   },
   {
    "duration": 1051,
    "start_time": "2022-07-19T18:18:13.933Z"
   },
   {
    "duration": 28,
    "start_time": "2022-07-19T18:18:14.986Z"
   },
   {
    "duration": 5,
    "start_time": "2022-07-19T18:18:15.016Z"
   },
   {
    "duration": 12,
    "start_time": "2022-07-19T18:18:15.022Z"
   },
   {
    "duration": 69,
    "start_time": "2022-07-19T18:18:15.036Z"
   },
   {
    "duration": 4,
    "start_time": "2022-07-19T18:18:15.108Z"
   },
   {
    "duration": 19,
    "start_time": "2022-07-19T18:18:15.113Z"
   },
   {
    "duration": 11,
    "start_time": "2022-07-19T18:18:15.133Z"
   },
   {
    "duration": 56,
    "start_time": "2022-07-19T18:18:15.146Z"
   },
   {
    "duration": 7,
    "start_time": "2022-07-19T18:18:15.208Z"
   },
   {
    "duration": 36,
    "start_time": "2022-07-19T18:18:15.217Z"
   },
   {
    "duration": 9,
    "start_time": "2022-07-19T18:18:15.255Z"
   },
   {
    "duration": 42,
    "start_time": "2022-07-19T18:18:15.265Z"
   },
   {
    "duration": 6,
    "start_time": "2022-07-19T18:18:15.309Z"
   },
   {
    "duration": 22,
    "start_time": "2022-07-19T18:18:15.316Z"
   },
   {
    "duration": 10,
    "start_time": "2022-07-19T18:18:15.340Z"
   },
   {
    "duration": 52,
    "start_time": "2022-07-19T18:18:15.352Z"
   },
   {
    "duration": 25,
    "start_time": "2022-07-19T18:18:15.405Z"
   },
   {
    "duration": 14,
    "start_time": "2022-07-19T18:18:15.433Z"
   },
   {
    "duration": 7,
    "start_time": "2022-07-19T18:18:15.449Z"
   },
   {
    "duration": 314,
    "start_time": "2022-07-19T18:18:15.457Z"
   },
   {
    "duration": 30,
    "start_time": "2022-07-19T18:18:15.773Z"
   },
   {
    "duration": 15,
    "start_time": "2022-07-19T18:18:15.805Z"
   },
   {
    "duration": 228,
    "start_time": "2022-07-19T18:18:15.821Z"
   },
   {
    "duration": 7,
    "start_time": "2022-07-19T18:18:16.051Z"
   },
   {
    "duration": 13,
    "start_time": "2022-07-19T18:18:16.060Z"
   },
   {
    "duration": 14,
    "start_time": "2022-07-19T18:18:16.075Z"
   },
   {
    "duration": 38,
    "start_time": "2022-07-19T18:18:16.090Z"
   },
   {
    "duration": 4,
    "start_time": "2022-07-19T18:18:16.129Z"
   },
   {
    "duration": 7,
    "start_time": "2022-07-19T18:18:16.134Z"
   },
   {
    "duration": 8,
    "start_time": "2022-07-19T18:18:16.143Z"
   },
   {
    "duration": 5,
    "start_time": "2022-07-19T18:18:16.153Z"
   },
   {
    "duration": 9,
    "start_time": "2022-07-19T18:18:16.159Z"
   },
   {
    "duration": 6,
    "start_time": "2022-07-19T18:18:16.202Z"
   },
   {
    "duration": 6,
    "start_time": "2022-07-19T18:18:16.210Z"
   },
   {
    "duration": 25,
    "start_time": "2022-07-19T18:43:16.417Z"
   },
   {
    "duration": 6,
    "start_time": "2022-07-19T18:43:48.731Z"
   },
   {
    "duration": 5,
    "start_time": "2022-07-19T18:44:02.881Z"
   },
   {
    "duration": 5,
    "start_time": "2022-07-19T18:44:21.816Z"
   },
   {
    "duration": 1560,
    "start_time": "2022-07-19T18:46:23.740Z"
   },
   {
    "duration": 3,
    "start_time": "2022-07-19T18:46:25.302Z"
   },
   {
    "duration": 6,
    "start_time": "2022-07-19T18:46:25.306Z"
   },
   {
    "duration": 5,
    "start_time": "2022-07-19T18:46:25.313Z"
   },
   {
    "duration": 206,
    "start_time": "2022-07-19T18:46:25.319Z"
   },
   {
    "duration": 15,
    "start_time": "2022-07-19T18:46:25.526Z"
   },
   {
    "duration": 26,
    "start_time": "2022-07-19T18:46:25.542Z"
   },
   {
    "duration": 11,
    "start_time": "2022-07-19T18:46:25.570Z"
   },
   {
    "duration": 32,
    "start_time": "2022-07-19T18:46:25.583Z"
   },
   {
    "duration": 9,
    "start_time": "2022-07-19T18:46:25.617Z"
   },
   {
    "duration": 15,
    "start_time": "2022-07-19T18:46:25.627Z"
   },
   {
    "duration": 21,
    "start_time": "2022-07-19T18:46:25.643Z"
   },
   {
    "duration": 41,
    "start_time": "2022-07-19T18:46:25.665Z"
   },
   {
    "duration": 5,
    "start_time": "2022-07-19T18:46:25.707Z"
   },
   {
    "duration": 52,
    "start_time": "2022-07-19T18:46:25.714Z"
   },
   {
    "duration": 40,
    "start_time": "2022-07-19T18:46:25.768Z"
   },
   {
    "duration": 5,
    "start_time": "2022-07-19T18:46:25.810Z"
   },
   {
    "duration": 12,
    "start_time": "2022-07-19T18:46:25.817Z"
   },
   {
    "duration": 87,
    "start_time": "2022-07-19T18:46:25.830Z"
   },
   {
    "duration": 98,
    "start_time": "2022-07-19T18:46:25.919Z"
   },
   {
    "duration": 71,
    "start_time": "2022-07-19T18:46:26.018Z"
   },
   {
    "duration": 71,
    "start_time": "2022-07-19T18:46:26.091Z"
   },
   {
    "duration": 42,
    "start_time": "2022-07-19T18:46:26.164Z"
   },
   {
    "duration": 44,
    "start_time": "2022-07-19T18:46:26.207Z"
   },
   {
    "duration": 29,
    "start_time": "2022-07-19T18:46:26.253Z"
   },
   {
    "duration": 32,
    "start_time": "2022-07-19T18:46:26.301Z"
   },
   {
    "duration": 26,
    "start_time": "2022-07-19T18:46:26.335Z"
   },
   {
    "duration": 3,
    "start_time": "2022-07-19T18:46:26.364Z"
   },
   {
    "duration": 5,
    "start_time": "2022-07-19T18:46:26.369Z"
   },
   {
    "duration": 32,
    "start_time": "2022-07-19T18:46:26.375Z"
   },
   {
    "duration": 8,
    "start_time": "2022-07-19T18:46:26.409Z"
   },
   {
    "duration": 6,
    "start_time": "2022-07-19T18:46:26.419Z"
   },
   {
    "duration": 9,
    "start_time": "2022-07-19T18:46:26.427Z"
   },
   {
    "duration": 6,
    "start_time": "2022-07-19T18:46:26.438Z"
   },
   {
    "duration": 12,
    "start_time": "2022-07-19T18:46:26.446Z"
   },
   {
    "duration": 5,
    "start_time": "2022-07-19T18:46:26.460Z"
   },
   {
    "duration": 38,
    "start_time": "2022-07-19T18:46:26.466Z"
   },
   {
    "duration": 8,
    "start_time": "2022-07-19T18:46:26.506Z"
   },
   {
    "duration": 7,
    "start_time": "2022-07-19T18:46:26.516Z"
   },
   {
    "duration": 8,
    "start_time": "2022-07-19T18:46:26.524Z"
   },
   {
    "duration": 9,
    "start_time": "2022-07-19T18:46:26.533Z"
   },
   {
    "duration": 13,
    "start_time": "2022-07-19T18:46:26.544Z"
   },
   {
    "duration": 3,
    "start_time": "2022-07-19T18:46:26.558Z"
   },
   {
    "duration": 11,
    "start_time": "2022-07-19T18:46:26.563Z"
   },
   {
    "duration": 41,
    "start_time": "2022-07-19T18:46:26.576Z"
   },
   {
    "duration": 26,
    "start_time": "2022-07-19T18:46:26.619Z"
   },
   {
    "duration": 4,
    "start_time": "2022-07-19T18:46:26.646Z"
   },
   {
    "duration": 21,
    "start_time": "2022-07-19T18:46:26.651Z"
   },
   {
    "duration": 5,
    "start_time": "2022-07-19T18:46:26.673Z"
   },
   {
    "duration": 32,
    "start_time": "2022-07-19T18:46:26.680Z"
   },
   {
    "duration": 16,
    "start_time": "2022-07-19T18:46:26.713Z"
   },
   {
    "duration": 290,
    "start_time": "2022-07-19T18:46:26.731Z"
   },
   {
    "duration": 47,
    "start_time": "2022-07-19T18:46:27.023Z"
   },
   {
    "duration": 44,
    "start_time": "2022-07-19T18:46:27.071Z"
   },
   {
    "duration": 225,
    "start_time": "2022-07-19T18:46:27.117Z"
   },
   {
    "duration": 20,
    "start_time": "2022-07-19T18:46:27.345Z"
   },
   {
    "duration": 21,
    "start_time": "2022-07-19T18:46:27.368Z"
   },
   {
    "duration": 21,
    "start_time": "2022-07-19T18:46:27.390Z"
   },
   {
    "duration": 20,
    "start_time": "2022-07-19T18:46:27.413Z"
   },
   {
    "duration": 54,
    "start_time": "2022-07-19T18:46:27.435Z"
   },
   {
    "duration": 23,
    "start_time": "2022-07-19T18:46:27.491Z"
   },
   {
    "duration": 26,
    "start_time": "2022-07-19T18:46:27.517Z"
   },
   {
    "duration": 31,
    "start_time": "2022-07-19T18:46:27.545Z"
   },
   {
    "duration": 6,
    "start_time": "2022-07-19T18:46:27.578Z"
   },
   {
    "duration": 34,
    "start_time": "2022-07-19T18:46:27.587Z"
   },
   {
    "duration": 13,
    "start_time": "2022-07-19T18:46:27.623Z"
   },
   {
    "duration": 3,
    "start_time": "2022-07-19T18:46:27.638Z"
   },
   {
    "duration": 4,
    "start_time": "2022-07-19T18:46:27.643Z"
   },
   {
    "duration": 8,
    "start_time": "2022-07-19T18:46:27.649Z"
   },
   {
    "duration": 258,
    "start_time": "2022-07-19T18:46:27.658Z"
   },
   {
    "duration": 10,
    "start_time": "2022-07-19T18:46:27.917Z"
   },
   {
    "duration": 210,
    "start_time": "2022-07-19T18:46:27.929Z"
   },
   {
    "duration": 13,
    "start_time": "2022-07-19T18:46:28.140Z"
   },
   {
    "duration": 14,
    "start_time": "2022-07-19T18:46:28.155Z"
   },
   {
    "duration": 1221,
    "start_time": "2022-07-19T18:46:28.170Z"
   },
   {
    "duration": 55,
    "start_time": "2022-07-19T18:46:29.393Z"
   },
   {
    "duration": 252,
    "start_time": "2022-07-19T18:46:29.450Z"
   },
   {
    "duration": 17,
    "start_time": "2022-07-19T18:46:29.703Z"
   },
   {
    "duration": 13,
    "start_time": "2022-07-19T18:46:29.722Z"
   },
   {
    "duration": 40,
    "start_time": "2022-07-19T18:46:29.737Z"
   },
   {
    "duration": 26,
    "start_time": "2022-07-19T18:46:29.778Z"
   },
   {
    "duration": 5,
    "start_time": "2022-07-19T18:46:29.812Z"
   },
   {
    "duration": 6,
    "start_time": "2022-07-19T18:46:29.819Z"
   },
   {
    "duration": 75,
    "start_time": "2022-07-19T18:46:29.827Z"
   },
   {
    "duration": 12,
    "start_time": "2022-07-19T18:46:29.904Z"
   },
   {
    "duration": 14,
    "start_time": "2022-07-19T18:46:29.918Z"
   },
   {
    "duration": 25,
    "start_time": "2022-07-19T18:46:29.934Z"
   },
   {
    "duration": 66,
    "start_time": "2022-07-19T18:46:29.961Z"
   },
   {
    "duration": 12,
    "start_time": "2022-07-19T18:46:30.029Z"
   },
   {
    "duration": 10,
    "start_time": "2022-07-19T18:46:30.043Z"
   },
   {
    "duration": 185,
    "start_time": "2022-07-19T18:46:30.054Z"
   },
   {
    "duration": 4,
    "start_time": "2022-07-19T18:46:30.240Z"
   },
   {
    "duration": 14,
    "start_time": "2022-07-19T18:46:30.246Z"
   },
   {
    "duration": 73,
    "start_time": "2022-07-19T18:46:30.263Z"
   },
   {
    "duration": 37,
    "start_time": "2022-07-19T18:46:30.337Z"
   },
   {
    "duration": 53,
    "start_time": "2022-07-19T18:46:30.376Z"
   },
   {
    "duration": 53,
    "start_time": "2022-07-19T18:46:30.431Z"
   },
   {
    "duration": 30,
    "start_time": "2022-07-19T18:46:30.485Z"
   },
   {
    "duration": 22,
    "start_time": "2022-07-19T18:46:30.517Z"
   },
   {
    "duration": 9,
    "start_time": "2022-07-19T18:46:30.541Z"
   },
   {
    "duration": 17,
    "start_time": "2022-07-19T18:46:30.551Z"
   },
   {
    "duration": 31,
    "start_time": "2022-07-19T18:46:30.570Z"
   },
   {
    "duration": 17,
    "start_time": "2022-07-19T18:46:30.602Z"
   },
   {
    "duration": 9,
    "start_time": "2022-07-19T18:46:30.621Z"
   },
   {
    "duration": 232,
    "start_time": "2022-07-19T18:46:30.631Z"
   },
   {
    "duration": 38,
    "start_time": "2022-07-19T18:46:30.865Z"
   },
   {
    "duration": 575,
    "start_time": "2022-07-19T18:46:30.905Z"
   },
   {
    "duration": 58,
    "start_time": "2022-07-19T18:46:31.481Z"
   },
   {
    "duration": 11,
    "start_time": "2022-07-19T18:46:31.540Z"
   },
   {
    "duration": 13,
    "start_time": "2022-07-19T18:46:31.552Z"
   },
   {
    "duration": 6,
    "start_time": "2022-07-19T18:46:31.566Z"
   },
   {
    "duration": 28,
    "start_time": "2022-07-19T18:46:31.574Z"
   },
   {
    "duration": 14,
    "start_time": "2022-07-19T18:46:31.604Z"
   },
   {
    "duration": 16,
    "start_time": "2022-07-19T18:46:31.619Z"
   },
   {
    "duration": 9,
    "start_time": "2022-07-19T18:46:31.636Z"
   },
   {
    "duration": 4,
    "start_time": "2022-07-19T18:46:31.646Z"
   },
   {
    "duration": 9,
    "start_time": "2022-07-19T18:46:31.652Z"
   },
   {
    "duration": 9,
    "start_time": "2022-07-19T18:46:31.662Z"
   },
   {
    "duration": 284,
    "start_time": "2022-07-19T18:46:31.673Z"
   },
   {
    "duration": 9,
    "start_time": "2022-07-19T18:46:31.959Z"
   },
   {
    "duration": 319,
    "start_time": "2022-07-19T18:46:31.969Z"
   },
   {
    "duration": 21,
    "start_time": "2022-07-19T18:46:32.290Z"
   },
   {
    "duration": 271,
    "start_time": "2022-07-19T18:46:32.313Z"
   },
   {
    "duration": 8,
    "start_time": "2022-07-19T18:46:32.585Z"
   },
   {
    "duration": 9,
    "start_time": "2022-07-19T18:46:32.594Z"
   },
   {
    "duration": 10,
    "start_time": "2022-07-19T18:46:32.605Z"
   },
   {
    "duration": 5,
    "start_time": "2022-07-19T18:46:32.616Z"
   },
   {
    "duration": 36,
    "start_time": "2022-07-19T18:46:32.622Z"
   },
   {
    "duration": 351,
    "start_time": "2022-07-19T18:46:32.660Z"
   },
   {
    "duration": 2,
    "start_time": "2022-07-19T18:46:33.013Z"
   },
   {
    "duration": 7,
    "start_time": "2022-07-19T18:46:33.017Z"
   },
   {
    "duration": 9,
    "start_time": "2022-07-19T18:46:33.025Z"
   },
   {
    "duration": 5,
    "start_time": "2022-07-19T18:46:33.035Z"
   },
   {
    "duration": 6,
    "start_time": "2022-07-19T18:46:33.041Z"
   },
   {
    "duration": 19,
    "start_time": "2022-07-19T18:46:33.048Z"
   },
   {
    "duration": 61,
    "start_time": "2022-07-19T18:46:33.069Z"
   },
   {
    "duration": 45,
    "start_time": "2022-07-19T18:46:33.132Z"
   },
   {
    "duration": 46,
    "start_time": "2022-07-19T18:46:33.179Z"
   },
   {
    "duration": 18,
    "start_time": "2022-07-19T18:46:33.227Z"
   },
   {
    "duration": 56,
    "start_time": "2022-07-19T18:46:33.247Z"
   },
   {
    "duration": 18,
    "start_time": "2022-07-19T18:46:33.305Z"
   },
   {
    "duration": 15,
    "start_time": "2022-07-19T18:46:33.325Z"
   },
   {
    "duration": 5,
    "start_time": "2022-07-19T18:46:33.341Z"
   },
   {
    "duration": 71,
    "start_time": "2022-07-19T18:46:33.348Z"
   },
   {
    "duration": 15,
    "start_time": "2022-07-19T18:46:33.421Z"
   },
   {
    "duration": 26,
    "start_time": "2022-07-19T18:46:33.438Z"
   },
   {
    "duration": 17,
    "start_time": "2022-07-19T18:46:33.467Z"
   },
   {
    "duration": 12,
    "start_time": "2022-07-19T18:46:33.503Z"
   },
   {
    "duration": 35,
    "start_time": "2022-07-19T18:46:33.517Z"
   },
   {
    "duration": 4,
    "start_time": "2022-07-19T18:46:33.553Z"
   },
   {
    "duration": 363,
    "start_time": "2022-07-19T18:46:33.559Z"
   },
   {
    "duration": 20,
    "start_time": "2022-07-19T18:46:33.924Z"
   },
   {
    "duration": 4,
    "start_time": "2022-07-19T18:46:33.946Z"
   },
   {
    "duration": 355,
    "start_time": "2022-07-19T18:46:33.952Z"
   },
   {
    "duration": 9,
    "start_time": "2022-07-19T18:46:34.309Z"
   },
   {
    "duration": 19,
    "start_time": "2022-07-19T18:46:34.320Z"
   },
   {
    "duration": 4,
    "start_time": "2022-07-19T18:46:34.340Z"
   },
   {
    "duration": 390,
    "start_time": "2022-07-19T18:46:34.345Z"
   },
   {
    "duration": 9,
    "start_time": "2022-07-19T18:46:34.736Z"
   },
   {
    "duration": 1353,
    "start_time": "2022-07-19T18:46:34.747Z"
   },
   {
    "duration": 5,
    "start_time": "2022-07-19T18:46:36.102Z"
   },
   {
    "duration": 8,
    "start_time": "2022-07-19T18:46:36.108Z"
   },
   {
    "duration": 88,
    "start_time": "2022-07-19T18:46:36.118Z"
   },
   {
    "duration": 976,
    "start_time": "2022-07-19T18:46:36.208Z"
   },
   {
    "duration": 31,
    "start_time": "2022-07-19T18:46:37.185Z"
   },
   {
    "duration": 3,
    "start_time": "2022-07-19T18:46:37.218Z"
   },
   {
    "duration": 8,
    "start_time": "2022-07-19T18:46:37.222Z"
   },
   {
    "duration": 77,
    "start_time": "2022-07-19T18:46:37.231Z"
   },
   {
    "duration": 3,
    "start_time": "2022-07-19T18:46:37.310Z"
   },
   {
    "duration": 19,
    "start_time": "2022-07-19T18:46:37.314Z"
   },
   {
    "duration": 71,
    "start_time": "2022-07-19T18:46:37.335Z"
   },
   {
    "duration": 16,
    "start_time": "2022-07-19T18:46:37.409Z"
   },
   {
    "duration": 12,
    "start_time": "2022-07-19T18:46:37.427Z"
   },
   {
    "duration": 34,
    "start_time": "2022-07-19T18:46:37.441Z"
   },
   {
    "duration": 19,
    "start_time": "2022-07-19T18:46:37.477Z"
   },
   {
    "duration": 47,
    "start_time": "2022-07-19T18:46:37.498Z"
   },
   {
    "duration": 27,
    "start_time": "2022-07-19T18:46:37.548Z"
   },
   {
    "duration": 30,
    "start_time": "2022-07-19T18:46:37.577Z"
   },
   {
    "duration": 12,
    "start_time": "2022-07-19T18:46:37.609Z"
   },
   {
    "duration": 35,
    "start_time": "2022-07-19T18:46:37.623Z"
   },
   {
    "duration": 22,
    "start_time": "2022-07-19T18:46:37.660Z"
   },
   {
    "duration": 26,
    "start_time": "2022-07-19T18:46:37.684Z"
   },
   {
    "duration": 9,
    "start_time": "2022-07-19T18:46:37.711Z"
   },
   {
    "duration": 226,
    "start_time": "2022-07-19T18:46:37.722Z"
   },
   {
    "duration": 19,
    "start_time": "2022-07-19T18:46:37.950Z"
   },
   {
    "duration": 10,
    "start_time": "2022-07-19T18:46:37.970Z"
   },
   {
    "duration": 258,
    "start_time": "2022-07-19T18:46:37.981Z"
   },
   {
    "duration": 8,
    "start_time": "2022-07-19T18:46:38.241Z"
   },
   {
    "duration": 7,
    "start_time": "2022-07-19T18:46:38.251Z"
   },
   {
    "duration": 5,
    "start_time": "2022-07-19T18:46:38.260Z"
   },
   {
    "duration": 52,
    "start_time": "2022-07-19T18:46:38.267Z"
   },
   {
    "duration": 4,
    "start_time": "2022-07-19T18:46:38.320Z"
   },
   {
    "duration": 8,
    "start_time": "2022-07-19T18:46:38.325Z"
   },
   {
    "duration": 9,
    "start_time": "2022-07-19T18:46:38.334Z"
   },
   {
    "duration": 6,
    "start_time": "2022-07-19T18:46:38.344Z"
   },
   {
    "duration": 6,
    "start_time": "2022-07-19T18:46:38.351Z"
   },
   {
    "duration": 6,
    "start_time": "2022-07-19T18:46:38.358Z"
   },
   {
    "duration": 4,
    "start_time": "2022-07-19T18:46:38.365Z"
   },
   {
    "duration": 176,
    "start_time": "2022-07-19T19:02:47.429Z"
   },
   {
    "duration": 10,
    "start_time": "2022-07-19T19:03:13.428Z"
   },
   {
    "duration": 5,
    "start_time": "2022-07-19T19:03:39.437Z"
   },
   {
    "duration": 5,
    "start_time": "2022-07-19T19:05:22.104Z"
   },
   {
    "duration": 28,
    "start_time": "2022-07-19T19:05:36.536Z"
   },
   {
    "duration": 20,
    "start_time": "2022-07-19T19:06:29.928Z"
   },
   {
    "duration": 18,
    "start_time": "2022-07-19T19:06:35.909Z"
   },
   {
    "duration": 3,
    "start_time": "2022-07-19T19:40:59.063Z"
   },
   {
    "duration": 2307,
    "start_time": "2022-07-19T19:41:04.286Z"
   },
   {
    "duration": 2,
    "start_time": "2022-07-19T19:41:06.595Z"
   },
   {
    "duration": 5,
    "start_time": "2022-07-19T19:41:06.598Z"
   },
   {
    "duration": 3,
    "start_time": "2022-07-19T19:41:06.605Z"
   },
   {
    "duration": 194,
    "start_time": "2022-07-19T19:41:06.610Z"
   },
   {
    "duration": 15,
    "start_time": "2022-07-19T19:41:06.805Z"
   },
   {
    "duration": 27,
    "start_time": "2022-07-19T19:41:06.822Z"
   },
   {
    "duration": 11,
    "start_time": "2022-07-19T19:41:06.851Z"
   },
   {
    "duration": 31,
    "start_time": "2022-07-19T19:41:06.863Z"
   },
   {
    "duration": 12,
    "start_time": "2022-07-19T19:41:06.897Z"
   },
   {
    "duration": 13,
    "start_time": "2022-07-19T19:41:06.910Z"
   },
   {
    "duration": 12,
    "start_time": "2022-07-19T19:41:06.925Z"
   },
   {
    "duration": 22,
    "start_time": "2022-07-19T19:41:06.938Z"
   },
   {
    "duration": 33,
    "start_time": "2022-07-19T19:41:06.961Z"
   },
   {
    "duration": 30,
    "start_time": "2022-07-19T19:41:06.995Z"
   },
   {
    "duration": 12,
    "start_time": "2022-07-19T19:41:07.026Z"
   },
   {
    "duration": 73,
    "start_time": "2022-07-19T19:41:07.040Z"
   },
   {
    "duration": 95,
    "start_time": "2022-07-19T19:41:07.114Z"
   },
   {
    "duration": 72,
    "start_time": "2022-07-19T19:41:07.210Z"
   },
   {
    "duration": 70,
    "start_time": "2022-07-19T19:41:07.283Z"
   },
   {
    "duration": 25,
    "start_time": "2022-07-19T19:41:07.354Z"
   },
   {
    "duration": 43,
    "start_time": "2022-07-19T19:41:07.380Z"
   },
   {
    "duration": 30,
    "start_time": "2022-07-19T19:41:07.424Z"
   },
   {
    "duration": 209,
    "start_time": "2022-07-19T19:41:07.455Z"
   },
   {
    "duration": 33,
    "start_time": "2022-07-19T19:41:07.666Z"
   },
   {
    "duration": 7,
    "start_time": "2022-07-19T19:41:07.701Z"
   },
   {
    "duration": 8,
    "start_time": "2022-07-19T19:41:07.710Z"
   },
   {
    "duration": 10,
    "start_time": "2022-07-19T19:41:07.723Z"
   },
   {
    "duration": 14,
    "start_time": "2022-07-19T19:41:07.735Z"
   },
   {
    "duration": 11,
    "start_time": "2022-07-19T19:41:07.751Z"
   },
   {
    "duration": 10,
    "start_time": "2022-07-19T19:41:07.764Z"
   },
   {
    "duration": 6,
    "start_time": "2022-07-19T19:41:07.775Z"
   },
   {
    "duration": 9,
    "start_time": "2022-07-19T19:41:07.782Z"
   },
   {
    "duration": 5,
    "start_time": "2022-07-19T19:41:07.792Z"
   },
   {
    "duration": 11,
    "start_time": "2022-07-19T19:41:07.798Z"
   },
   {
    "duration": 7,
    "start_time": "2022-07-19T19:41:07.810Z"
   },
   {
    "duration": 6,
    "start_time": "2022-07-19T19:41:07.818Z"
   },
   {
    "duration": 7,
    "start_time": "2022-07-19T19:41:07.825Z"
   },
   {
    "duration": 7,
    "start_time": "2022-07-19T19:41:07.833Z"
   },
   {
    "duration": 9,
    "start_time": "2022-07-19T19:41:07.842Z"
   },
   {
    "duration": 3,
    "start_time": "2022-07-19T19:41:07.853Z"
   },
   {
    "duration": 4,
    "start_time": "2022-07-19T19:41:07.903Z"
   },
   {
    "duration": 17,
    "start_time": "2022-07-19T19:41:07.908Z"
   },
   {
    "duration": 80,
    "start_time": "2022-07-19T19:41:07.926Z"
   },
   {
    "duration": 3,
    "start_time": "2022-07-19T19:41:08.008Z"
   },
   {
    "duration": 22,
    "start_time": "2022-07-19T19:41:08.012Z"
   },
   {
    "duration": 5,
    "start_time": "2022-07-19T19:41:08.035Z"
   },
   {
    "duration": 64,
    "start_time": "2022-07-19T19:41:08.041Z"
   },
   {
    "duration": 28,
    "start_time": "2022-07-19T19:41:08.106Z"
   },
   {
    "duration": 386,
    "start_time": "2022-07-19T19:41:08.135Z"
   },
   {
    "duration": 99,
    "start_time": "2022-07-19T19:41:08.522Z"
   },
   {
    "duration": 18,
    "start_time": "2022-07-19T19:41:08.623Z"
   },
   {
    "duration": 300,
    "start_time": "2022-07-19T19:41:08.643Z"
   },
   {
    "duration": 71,
    "start_time": "2022-07-19T19:41:08.944Z"
   },
   {
    "duration": 26,
    "start_time": "2022-07-19T19:41:09.016Z"
   },
   {
    "duration": 60,
    "start_time": "2022-07-19T19:41:09.043Z"
   },
   {
    "duration": 10,
    "start_time": "2022-07-19T19:41:09.104Z"
   },
   {
    "duration": 26,
    "start_time": "2022-07-19T19:41:09.116Z"
   },
   {
    "duration": 66,
    "start_time": "2022-07-19T19:41:09.144Z"
   },
   {
    "duration": 12,
    "start_time": "2022-07-19T19:41:09.212Z"
   },
   {
    "duration": 19,
    "start_time": "2022-07-19T19:41:09.225Z"
   },
   {
    "duration": 71,
    "start_time": "2022-07-19T19:41:09.245Z"
   },
   {
    "duration": 19,
    "start_time": "2022-07-19T19:41:09.317Z"
   },
   {
    "duration": 22,
    "start_time": "2022-07-19T19:41:09.337Z"
   },
   {
    "duration": 30,
    "start_time": "2022-07-19T19:41:09.360Z"
   },
   {
    "duration": 10,
    "start_time": "2022-07-19T19:41:09.391Z"
   },
   {
    "duration": 11,
    "start_time": "2022-07-19T19:41:09.402Z"
   },
   {
    "duration": 23,
    "start_time": "2022-07-19T19:41:09.414Z"
   },
   {
    "duration": 27,
    "start_time": "2022-07-19T19:41:09.438Z"
   },
   {
    "duration": 241,
    "start_time": "2022-07-19T19:41:09.467Z"
   },
   {
    "duration": 9,
    "start_time": "2022-07-19T19:41:09.709Z"
   },
   {
    "duration": 215,
    "start_time": "2022-07-19T19:41:09.720Z"
   },
   {
    "duration": 13,
    "start_time": "2022-07-19T19:41:09.937Z"
   },
   {
    "duration": 123,
    "start_time": "2022-07-19T19:41:09.951Z"
   },
   {
    "duration": 1382,
    "start_time": "2022-07-19T19:41:10.075Z"
   },
   {
    "duration": 62,
    "start_time": "2022-07-19T19:41:11.459Z"
   },
   {
    "duration": 383,
    "start_time": "2022-07-19T19:41:11.522Z"
   },
   {
    "duration": 19,
    "start_time": "2022-07-19T19:41:11.906Z"
   },
   {
    "duration": 14,
    "start_time": "2022-07-19T19:41:11.926Z"
   },
   {
    "duration": 95,
    "start_time": "2022-07-19T19:41:11.942Z"
   },
   {
    "duration": 5,
    "start_time": "2022-07-19T19:41:12.038Z"
   },
   {
    "duration": 7,
    "start_time": "2022-07-19T19:41:12.109Z"
   },
   {
    "duration": 8,
    "start_time": "2022-07-19T19:41:12.118Z"
   },
   {
    "duration": 102,
    "start_time": "2022-07-19T19:41:12.128Z"
   },
   {
    "duration": 12,
    "start_time": "2022-07-19T19:41:12.232Z"
   },
   {
    "duration": 14,
    "start_time": "2022-07-19T19:41:12.245Z"
   },
   {
    "duration": 42,
    "start_time": "2022-07-19T19:41:12.260Z"
   },
   {
    "duration": 47,
    "start_time": "2022-07-19T19:41:12.304Z"
   },
   {
    "duration": 12,
    "start_time": "2022-07-19T19:41:12.353Z"
   },
   {
    "duration": 8,
    "start_time": "2022-07-19T19:41:12.366Z"
   },
   {
    "duration": 250,
    "start_time": "2022-07-19T19:41:12.376Z"
   },
   {
    "duration": 4,
    "start_time": "2022-07-19T19:41:12.629Z"
   },
   {
    "duration": 6,
    "start_time": "2022-07-19T19:41:12.635Z"
   },
   {
    "duration": 38,
    "start_time": "2022-07-19T19:41:12.643Z"
   },
   {
    "duration": 27,
    "start_time": "2022-07-19T19:41:12.701Z"
   },
   {
    "duration": 31,
    "start_time": "2022-07-19T19:41:12.729Z"
   },
   {
    "duration": 75,
    "start_time": "2022-07-19T19:41:12.762Z"
   },
   {
    "duration": 18,
    "start_time": "2022-07-19T19:41:12.839Z"
   },
   {
    "duration": 18,
    "start_time": "2022-07-19T19:41:12.858Z"
   },
   {
    "duration": 27,
    "start_time": "2022-07-19T19:41:12.878Z"
   },
   {
    "duration": 5,
    "start_time": "2022-07-19T19:41:12.907Z"
   },
   {
    "duration": 33,
    "start_time": "2022-07-19T19:41:12.914Z"
   },
   {
    "duration": 16,
    "start_time": "2022-07-19T19:41:12.949Z"
   },
   {
    "duration": 4,
    "start_time": "2022-07-19T19:41:12.966Z"
   },
   {
    "duration": 289,
    "start_time": "2022-07-19T19:41:12.971Z"
   },
   {
    "duration": 24,
    "start_time": "2022-07-19T19:41:13.262Z"
   },
   {
    "duration": 552,
    "start_time": "2022-07-19T19:41:13.302Z"
   },
   {
    "duration": 36,
    "start_time": "2022-07-19T19:41:13.856Z"
   },
   {
    "duration": 16,
    "start_time": "2022-07-19T19:41:13.893Z"
   },
   {
    "duration": 10,
    "start_time": "2022-07-19T19:41:13.911Z"
   },
   {
    "duration": 5,
    "start_time": "2022-07-19T19:41:13.923Z"
   },
   {
    "duration": 13,
    "start_time": "2022-07-19T19:41:13.929Z"
   },
   {
    "duration": 11,
    "start_time": "2022-07-19T19:41:13.943Z"
   },
   {
    "duration": 20,
    "start_time": "2022-07-19T19:41:13.955Z"
   },
   {
    "duration": 11,
    "start_time": "2022-07-19T19:41:13.977Z"
   },
   {
    "duration": 3,
    "start_time": "2022-07-19T19:41:14.001Z"
   },
   {
    "duration": 9,
    "start_time": "2022-07-19T19:41:14.006Z"
   },
   {
    "duration": 10,
    "start_time": "2022-07-19T19:41:14.016Z"
   },
   {
    "duration": 252,
    "start_time": "2022-07-19T19:41:14.027Z"
   },
   {
    "duration": 9,
    "start_time": "2022-07-19T19:41:14.280Z"
   },
   {
    "duration": 289,
    "start_time": "2022-07-19T19:41:14.290Z"
   },
   {
    "duration": 7,
    "start_time": "2022-07-19T19:41:14.581Z"
   },
   {
    "duration": 281,
    "start_time": "2022-07-19T19:41:14.589Z"
   },
   {
    "duration": 7,
    "start_time": "2022-07-19T19:41:14.872Z"
   },
   {
    "duration": 5,
    "start_time": "2022-07-19T19:41:14.881Z"
   },
   {
    "duration": 3,
    "start_time": "2022-07-19T19:41:14.901Z"
   },
   {
    "duration": 6,
    "start_time": "2022-07-19T19:41:14.906Z"
   },
   {
    "duration": 8,
    "start_time": "2022-07-19T19:41:14.914Z"
   },
   {
    "duration": 362,
    "start_time": "2022-07-19T19:41:14.924Z"
   },
   {
    "duration": 3,
    "start_time": "2022-07-19T19:41:15.288Z"
   },
   {
    "duration": 5,
    "start_time": "2022-07-19T19:41:15.301Z"
   },
   {
    "duration": 5,
    "start_time": "2022-07-19T19:41:15.308Z"
   },
   {
    "duration": 5,
    "start_time": "2022-07-19T19:41:15.314Z"
   },
   {
    "duration": 6,
    "start_time": "2022-07-19T19:41:15.320Z"
   },
   {
    "duration": 12,
    "start_time": "2022-07-19T19:41:15.327Z"
   },
   {
    "duration": 35,
    "start_time": "2022-07-19T19:41:15.341Z"
   },
   {
    "duration": 64,
    "start_time": "2022-07-19T19:41:15.377Z"
   },
   {
    "duration": 35,
    "start_time": "2022-07-19T19:41:15.443Z"
   },
   {
    "duration": 39,
    "start_time": "2022-07-19T19:41:15.480Z"
   },
   {
    "duration": 43,
    "start_time": "2022-07-19T19:41:15.521Z"
   },
   {
    "duration": 17,
    "start_time": "2022-07-19T19:41:15.566Z"
   },
   {
    "duration": 31,
    "start_time": "2022-07-19T19:41:15.584Z"
   },
   {
    "duration": 5,
    "start_time": "2022-07-19T19:41:15.616Z"
   },
   {
    "duration": 32,
    "start_time": "2022-07-19T19:41:15.623Z"
   },
   {
    "duration": 24,
    "start_time": "2022-07-19T19:41:15.656Z"
   },
   {
    "duration": 28,
    "start_time": "2022-07-19T19:41:15.681Z"
   },
   {
    "duration": 12,
    "start_time": "2022-07-19T19:41:15.711Z"
   },
   {
    "duration": 10,
    "start_time": "2022-07-19T19:41:15.725Z"
   },
   {
    "duration": 40,
    "start_time": "2022-07-19T19:41:15.736Z"
   },
   {
    "duration": 24,
    "start_time": "2022-07-19T19:41:15.778Z"
   },
   {
    "duration": 318,
    "start_time": "2022-07-19T19:41:15.804Z"
   },
   {
    "duration": 21,
    "start_time": "2022-07-19T19:41:16.123Z"
   },
   {
    "duration": 4,
    "start_time": "2022-07-19T19:41:16.145Z"
   },
   {
    "duration": 353,
    "start_time": "2022-07-19T19:41:16.150Z"
   },
   {
    "duration": 8,
    "start_time": "2022-07-19T19:41:16.504Z"
   },
   {
    "duration": 20,
    "start_time": "2022-07-19T19:41:16.513Z"
   },
   {
    "duration": 3,
    "start_time": "2022-07-19T19:41:16.535Z"
   },
   {
    "duration": 353,
    "start_time": "2022-07-19T19:41:16.539Z"
   },
   {
    "duration": 15,
    "start_time": "2022-07-19T19:41:16.893Z"
   },
   {
    "duration": 1296,
    "start_time": "2022-07-19T19:41:16.909Z"
   },
   {
    "duration": 5,
    "start_time": "2022-07-19T19:41:18.207Z"
   },
   {
    "duration": 8,
    "start_time": "2022-07-19T19:41:18.213Z"
   },
   {
    "duration": 80,
    "start_time": "2022-07-19T19:41:18.222Z"
   },
   {
    "duration": 887,
    "start_time": "2022-07-19T19:41:18.304Z"
   },
   {
    "duration": 25,
    "start_time": "2022-07-19T19:41:19.193Z"
   },
   {
    "duration": 3,
    "start_time": "2022-07-19T19:41:19.219Z"
   },
   {
    "duration": 7,
    "start_time": "2022-07-19T19:41:19.223Z"
   },
   {
    "duration": 71,
    "start_time": "2022-07-19T19:41:19.231Z"
   },
   {
    "duration": 4,
    "start_time": "2022-07-19T19:41:19.305Z"
   },
   {
    "duration": 8,
    "start_time": "2022-07-19T19:41:19.310Z"
   },
   {
    "duration": 9,
    "start_time": "2022-07-19T19:41:19.320Z"
   },
   {
    "duration": 4,
    "start_time": "2022-07-19T19:41:19.331Z"
   },
   {
    "duration": 7,
    "start_time": "2022-07-19T19:41:19.336Z"
   },
   {
    "duration": 65,
    "start_time": "2022-07-19T19:41:19.344Z"
   },
   {
    "duration": 13,
    "start_time": "2022-07-19T19:41:19.411Z"
   },
   {
    "duration": 19,
    "start_time": "2022-07-19T19:41:19.425Z"
   },
   {
    "duration": 8,
    "start_time": "2022-07-19T19:41:19.446Z"
   },
   {
    "duration": 49,
    "start_time": "2022-07-19T19:41:19.456Z"
   },
   {
    "duration": 9,
    "start_time": "2022-07-19T19:41:19.507Z"
   },
   {
    "duration": 24,
    "start_time": "2022-07-19T19:41:19.518Z"
   },
   {
    "duration": 16,
    "start_time": "2022-07-19T19:41:19.544Z"
   },
   {
    "duration": 11,
    "start_time": "2022-07-19T19:41:19.562Z"
   },
   {
    "duration": 29,
    "start_time": "2022-07-19T19:41:19.574Z"
   },
   {
    "duration": 234,
    "start_time": "2022-07-19T19:41:19.604Z"
   },
   {
    "duration": 20,
    "start_time": "2022-07-19T19:41:19.839Z"
   },
   {
    "duration": 11,
    "start_time": "2022-07-19T19:41:19.861Z"
   },
   {
    "duration": 267,
    "start_time": "2022-07-19T19:41:19.874Z"
   },
   {
    "duration": 7,
    "start_time": "2022-07-19T19:41:20.143Z"
   },
   {
    "duration": 9,
    "start_time": "2022-07-19T19:41:20.151Z"
   },
   {
    "duration": 5,
    "start_time": "2022-07-19T19:41:20.161Z"
   },
   {
    "duration": 46,
    "start_time": "2022-07-19T19:41:20.167Z"
   },
   {
    "duration": 4,
    "start_time": "2022-07-19T19:41:20.214Z"
   },
   {
    "duration": 5,
    "start_time": "2022-07-19T19:41:20.219Z"
   },
   {
    "duration": 5,
    "start_time": "2022-07-19T19:41:20.226Z"
   },
   {
    "duration": 5,
    "start_time": "2022-07-19T19:41:20.232Z"
   },
   {
    "duration": 18,
    "start_time": "2022-07-19T19:41:20.238Z"
   },
   {
    "duration": 5,
    "start_time": "2022-07-19T19:41:20.257Z"
   },
   {
    "duration": 11,
    "start_time": "2022-07-19T19:41:20.264Z"
   },
   {
    "duration": 3,
    "start_time": "2022-07-19T19:43:17.054Z"
   },
   {
    "duration": 4,
    "start_time": "2022-07-19T19:45:41.500Z"
   },
   {
    "duration": 1679,
    "start_time": "2022-07-20T18:14:51.908Z"
   },
   {
    "duration": 4,
    "start_time": "2022-07-20T18:14:53.589Z"
   },
   {
    "duration": 14,
    "start_time": "2022-07-20T18:14:53.594Z"
   },
   {
    "duration": 24,
    "start_time": "2022-07-20T18:14:53.610Z"
   },
   {
    "duration": 693,
    "start_time": "2022-07-20T18:14:53.637Z"
   },
   {
    "duration": 59,
    "start_time": "2022-07-20T18:14:54.332Z"
   },
   {
    "duration": 232,
    "start_time": "2022-07-20T18:14:54.393Z"
   },
   {
    "duration": 17,
    "start_time": "2022-07-20T18:14:54.627Z"
   },
   {
    "duration": 47,
    "start_time": "2022-07-20T18:14:54.646Z"
   },
   {
    "duration": 12,
    "start_time": "2022-07-20T18:14:54.697Z"
   },
   {
    "duration": 17,
    "start_time": "2022-07-20T18:14:54.721Z"
   },
   {
    "duration": 20,
    "start_time": "2022-07-20T18:14:54.740Z"
   },
   {
    "duration": 33,
    "start_time": "2022-07-20T18:14:54.762Z"
   },
   {
    "duration": 24,
    "start_time": "2022-07-20T18:14:54.797Z"
   },
   {
    "duration": 13,
    "start_time": "2022-07-20T18:14:54.823Z"
   },
   {
    "duration": 34,
    "start_time": "2022-07-20T18:14:54.838Z"
   },
   {
    "duration": 105,
    "start_time": "2022-07-20T18:14:54.873Z"
   },
   {
    "duration": 104,
    "start_time": "2022-07-20T18:14:54.980Z"
   },
   {
    "duration": 114,
    "start_time": "2022-07-20T18:14:55.086Z"
   },
   {
    "duration": 114,
    "start_time": "2022-07-20T18:14:55.202Z"
   },
   {
    "duration": 46,
    "start_time": "2022-07-20T18:14:55.318Z"
   },
   {
    "duration": 68,
    "start_time": "2022-07-20T18:14:55.366Z"
   },
   {
    "duration": 42,
    "start_time": "2022-07-20T18:14:55.436Z"
   },
   {
    "duration": 50,
    "start_time": "2022-07-20T18:14:55.480Z"
   },
   {
    "duration": 41,
    "start_time": "2022-07-20T18:14:55.532Z"
   },
   {
    "duration": 7,
    "start_time": "2022-07-20T18:14:55.575Z"
   },
   {
    "duration": 8,
    "start_time": "2022-07-20T18:14:55.584Z"
   },
   {
    "duration": 27,
    "start_time": "2022-07-20T18:14:55.596Z"
   },
   {
    "duration": 9,
    "start_time": "2022-07-20T18:14:55.627Z"
   },
   {
    "duration": 9,
    "start_time": "2022-07-20T18:14:55.638Z"
   },
   {
    "duration": 11,
    "start_time": "2022-07-20T18:14:55.649Z"
   },
   {
    "duration": 8,
    "start_time": "2022-07-20T18:14:55.662Z"
   },
   {
    "duration": 11,
    "start_time": "2022-07-20T18:14:55.672Z"
   },
   {
    "duration": 7,
    "start_time": "2022-07-20T18:14:55.716Z"
   },
   {
    "duration": 12,
    "start_time": "2022-07-20T18:14:55.726Z"
   },
   {
    "duration": 9,
    "start_time": "2022-07-20T18:14:55.740Z"
   },
   {
    "duration": 8,
    "start_time": "2022-07-20T18:14:55.750Z"
   },
   {
    "duration": 8,
    "start_time": "2022-07-20T18:14:55.760Z"
   },
   {
    "duration": 9,
    "start_time": "2022-07-20T18:14:55.769Z"
   },
   {
    "duration": 42,
    "start_time": "2022-07-20T18:14:55.780Z"
   },
   {
    "duration": 4,
    "start_time": "2022-07-20T18:14:55.824Z"
   },
   {
    "duration": 8,
    "start_time": "2022-07-20T18:14:55.830Z"
   },
   {
    "duration": 15,
    "start_time": "2022-07-20T18:14:55.839Z"
   },
   {
    "duration": 37,
    "start_time": "2022-07-20T18:14:55.856Z"
   },
   {
    "duration": 4,
    "start_time": "2022-07-20T18:14:55.894Z"
   },
   {
    "duration": 35,
    "start_time": "2022-07-20T18:14:55.899Z"
   },
   {
    "duration": 6,
    "start_time": "2022-07-20T18:14:55.936Z"
   },
   {
    "duration": 8,
    "start_time": "2022-07-20T18:14:55.944Z"
   },
   {
    "duration": 6,
    "start_time": "2022-07-20T18:14:55.954Z"
   },
   {
    "duration": 10,
    "start_time": "2022-07-20T18:14:55.962Z"
   },
   {
    "duration": 82,
    "start_time": "2022-07-20T18:14:55.974Z"
   },
   {
    "duration": 210,
    "start_time": "2022-07-20T18:14:56.058Z"
   },
   {
    "duration": 6,
    "start_time": "2022-07-20T18:14:56.270Z"
   },
   {
    "duration": 13,
    "start_time": "2022-07-20T18:14:56.278Z"
   },
   {
    "duration": 12,
    "start_time": "2022-07-20T18:14:56.293Z"
   },
   {
    "duration": 29,
    "start_time": "2022-07-20T18:14:56.306Z"
   },
   {
    "duration": 11,
    "start_time": "2022-07-20T18:14:56.337Z"
   },
   {
    "duration": 9,
    "start_time": "2022-07-20T18:14:56.350Z"
   },
   {
    "duration": 215,
    "start_time": "2022-07-20T18:14:56.361Z"
   },
   {
    "duration": 65,
    "start_time": "2022-07-20T18:14:56.578Z"
   },
   {
    "duration": 24,
    "start_time": "2022-07-20T18:14:56.645Z"
   },
   {
    "duration": 54,
    "start_time": "2022-07-20T18:14:56.671Z"
   },
   {
    "duration": 145,
    "start_time": "2022-07-20T18:14:56.727Z"
   },
   {
    "duration": 24,
    "start_time": "2022-07-20T18:14:56.874Z"
   },
   {
    "duration": 34,
    "start_time": "2022-07-20T18:14:56.900Z"
   },
   {
    "duration": 10,
    "start_time": "2022-07-20T18:14:56.936Z"
   },
   {
    "duration": 5,
    "start_time": "2022-07-20T18:14:56.949Z"
   },
   {
    "duration": 7,
    "start_time": "2022-07-20T18:14:56.955Z"
   },
   {
    "duration": 59,
    "start_time": "2022-07-20T18:14:56.964Z"
   },
   {
    "duration": 23,
    "start_time": "2022-07-20T18:14:57.025Z"
   },
   {
    "duration": 9,
    "start_time": "2022-07-20T18:14:57.050Z"
   },
   {
    "duration": 12,
    "start_time": "2022-07-20T18:14:57.061Z"
   },
   {
    "duration": 59,
    "start_time": "2022-07-20T18:14:57.075Z"
   },
   {
    "duration": 13,
    "start_time": "2022-07-20T18:14:57.135Z"
   },
   {
    "duration": 4,
    "start_time": "2022-07-20T18:14:57.149Z"
   },
   {
    "duration": 10,
    "start_time": "2022-07-20T18:14:57.155Z"
   },
   {
    "duration": 3,
    "start_time": "2022-07-20T18:14:57.167Z"
   },
   {
    "duration": 44,
    "start_time": "2022-07-20T18:14:57.172Z"
   },
   {
    "duration": 5,
    "start_time": "2022-07-20T18:14:57.225Z"
   },
   {
    "duration": 7,
    "start_time": "2022-07-20T18:14:57.232Z"
   },
   {
    "duration": 17,
    "start_time": "2022-07-20T18:14:57.241Z"
   },
   {
    "duration": 4,
    "start_time": "2022-07-20T18:14:57.266Z"
   },
   {
    "duration": 9,
    "start_time": "2022-07-20T18:14:57.271Z"
   },
   {
    "duration": 176,
    "start_time": "2022-07-20T18:14:57.282Z"
   },
   {
    "duration": 11,
    "start_time": "2022-07-20T18:14:57.460Z"
   },
   {
    "duration": 227,
    "start_time": "2022-07-20T18:14:57.473Z"
   },
   {
    "duration": 24,
    "start_time": "2022-07-20T18:14:57.702Z"
   },
   {
    "duration": 998,
    "start_time": "2022-07-20T18:14:57.728Z"
   },
   {
    "duration": 82,
    "start_time": "2022-07-20T18:14:58.728Z"
   },
   {
    "duration": 27,
    "start_time": "2022-07-20T18:14:58.821Z"
   },
   {
    "duration": 24,
    "start_time": "2022-07-20T18:14:58.850Z"
   },
   {
    "duration": 52,
    "start_time": "2022-07-20T18:14:58.876Z"
   },
   {
    "duration": 47,
    "start_time": "2022-07-20T18:14:58.930Z"
   },
   {
    "duration": 12,
    "start_time": "2022-07-20T18:14:58.979Z"
   },
   {
    "duration": 44,
    "start_time": "2022-07-20T18:14:58.993Z"
   },
   {
    "duration": 5,
    "start_time": "2022-07-20T18:14:59.039Z"
   },
   {
    "duration": 4,
    "start_time": "2022-07-20T18:14:59.046Z"
   },
   {
    "duration": 36,
    "start_time": "2022-07-20T18:14:59.052Z"
   },
   {
    "duration": 39,
    "start_time": "2022-07-20T18:14:59.090Z"
   },
   {
    "duration": 191,
    "start_time": "2022-07-20T18:14:59.130Z"
   },
   {
    "duration": 28,
    "start_time": "2022-07-20T18:14:59.323Z"
   },
   {
    "duration": 698,
    "start_time": "2022-07-20T18:14:59.353Z"
   },
   {
    "duration": 8,
    "start_time": "2022-07-20T18:15:00.052Z"
   },
   {
    "duration": 9,
    "start_time": "2022-07-20T18:15:00.062Z"
   },
   {
    "duration": 12,
    "start_time": "2022-07-20T18:15:00.073Z"
   },
   {
    "duration": 60,
    "start_time": "2022-07-20T18:15:00.087Z"
   },
   {
    "duration": 13,
    "start_time": "2022-07-20T18:15:00.148Z"
   },
   {
    "duration": 19,
    "start_time": "2022-07-20T18:15:00.163Z"
   },
   {
    "duration": 14,
    "start_time": "2022-07-20T18:15:00.184Z"
   },
   {
    "duration": 35,
    "start_time": "2022-07-20T18:15:00.210Z"
   },
   {
    "duration": 32,
    "start_time": "2022-07-20T18:15:00.246Z"
   },
   {
    "duration": 17,
    "start_time": "2022-07-20T18:15:00.280Z"
   },
   {
    "duration": 39,
    "start_time": "2022-07-20T18:15:00.300Z"
   },
   {
    "duration": 13,
    "start_time": "2022-07-20T18:15:00.341Z"
   },
   {
    "duration": 23,
    "start_time": "2022-07-20T18:15:00.355Z"
   },
   {
    "duration": 26,
    "start_time": "2022-07-20T18:15:00.380Z"
   },
   {
    "duration": 229,
    "start_time": "2022-07-20T18:15:00.407Z"
   },
   {
    "duration": 10,
    "start_time": "2022-07-20T18:15:00.638Z"
   },
   {
    "duration": 283,
    "start_time": "2022-07-20T18:15:00.650Z"
   },
   {
    "duration": 11,
    "start_time": "2022-07-20T18:15:00.935Z"
   },
   {
    "duration": 225,
    "start_time": "2022-07-20T18:15:00.948Z"
   },
   {
    "duration": 3,
    "start_time": "2022-07-20T18:15:01.175Z"
   },
   {
    "duration": 10,
    "start_time": "2022-07-20T18:15:01.180Z"
   },
   {
    "duration": 18,
    "start_time": "2022-07-20T18:15:01.192Z"
   },
   {
    "duration": 27,
    "start_time": "2022-07-20T18:15:01.213Z"
   },
   {
    "duration": 16,
    "start_time": "2022-07-20T18:15:01.242Z"
   },
   {
    "duration": 23,
    "start_time": "2022-07-20T18:15:01.259Z"
   },
   {
    "duration": 11,
    "start_time": "2022-07-20T18:15:01.284Z"
   },
   {
    "duration": 18,
    "start_time": "2022-07-20T18:15:01.297Z"
   },
   {
    "duration": 16,
    "start_time": "2022-07-20T18:15:01.317Z"
   },
   {
    "duration": 10,
    "start_time": "2022-07-20T18:15:01.335Z"
   },
   {
    "duration": 13,
    "start_time": "2022-07-20T18:15:01.347Z"
   },
   {
    "duration": 207,
    "start_time": "2022-07-20T18:15:01.363Z"
   },
   {
    "duration": 7,
    "start_time": "2022-07-20T18:15:01.572Z"
   },
   {
    "duration": 19,
    "start_time": "2022-07-20T18:15:01.581Z"
   },
   {
    "duration": 64,
    "start_time": "2022-07-20T18:15:01.602Z"
   },
   {
    "duration": 39,
    "start_time": "2022-07-20T18:15:01.668Z"
   },
   {
    "duration": 48,
    "start_time": "2022-07-20T18:15:01.709Z"
   },
   {
    "duration": 18,
    "start_time": "2022-07-20T18:15:01.759Z"
   },
   {
    "duration": 54,
    "start_time": "2022-07-20T18:15:01.779Z"
   },
   {
    "duration": 22,
    "start_time": "2022-07-20T18:15:01.835Z"
   },
   {
    "duration": 21,
    "start_time": "2022-07-20T18:15:01.859Z"
   },
   {
    "duration": 39,
    "start_time": "2022-07-20T18:15:01.882Z"
   },
   {
    "duration": 204,
    "start_time": "2022-07-20T18:15:01.924Z"
   },
   {
    "duration": 15,
    "start_time": "2022-07-20T18:15:02.130Z"
   },
   {
    "duration": 20,
    "start_time": "2022-07-20T18:15:02.146Z"
   },
   {
    "duration": 18,
    "start_time": "2022-07-20T18:15:02.168Z"
   },
   {
    "duration": 50,
    "start_time": "2022-07-20T18:15:02.188Z"
   },
   {
    "duration": 4,
    "start_time": "2022-07-20T18:15:02.240Z"
   },
   {
    "duration": 319,
    "start_time": "2022-07-20T18:15:02.245Z"
   },
   {
    "duration": 20,
    "start_time": "2022-07-20T18:15:02.566Z"
   },
   {
    "duration": 15,
    "start_time": "2022-07-20T18:15:02.588Z"
   },
   {
    "duration": 305,
    "start_time": "2022-07-20T18:15:02.611Z"
   },
   {
    "duration": 11,
    "start_time": "2022-07-20T18:15:02.918Z"
   },
   {
    "duration": 28,
    "start_time": "2022-07-20T18:15:02.931Z"
   },
   {
    "duration": 5,
    "start_time": "2022-07-20T18:15:02.961Z"
   },
   {
    "duration": 335,
    "start_time": "2022-07-20T18:15:02.968Z"
   },
   {
    "duration": 21,
    "start_time": "2022-07-20T18:15:03.305Z"
   },
   {
    "duration": 159,
    "start_time": "2022-07-20T18:15:03.328Z"
   },
   {
    "duration": 137,
    "start_time": "2022-07-20T18:15:03.489Z"
   },
   {
    "duration": 15,
    "start_time": "2022-07-20T18:15:03.629Z"
   },
   {
    "duration": 10,
    "start_time": "2022-07-20T18:15:03.646Z"
   },
   {
    "duration": 5,
    "start_time": "2022-07-20T18:15:03.658Z"
   },
   {
    "duration": 10,
    "start_time": "2022-07-20T18:15:03.664Z"
   },
   {
    "duration": 174,
    "start_time": "2022-07-20T18:15:03.675Z"
   },
   {
    "duration": 5,
    "start_time": "2022-07-20T18:15:03.851Z"
   },
   {
    "duration": 158,
    "start_time": "2022-07-20T18:15:03.858Z"
   },
   {
    "duration": 9,
    "start_time": "2022-07-20T18:15:04.022Z"
   },
   {
    "duration": 4,
    "start_time": "2022-07-20T18:15:04.033Z"
   },
   {
    "duration": 5,
    "start_time": "2022-07-20T18:15:04.039Z"
   },
   {
    "duration": 11,
    "start_time": "2022-07-20T18:15:04.046Z"
   },
   {
    "duration": 7,
    "start_time": "2022-07-20T18:15:04.059Z"
   },
   {
    "duration": 13,
    "start_time": "2022-07-20T18:15:04.067Z"
   },
   {
    "duration": 7,
    "start_time": "2022-07-20T18:15:04.082Z"
   },
   {
    "duration": 25,
    "start_time": "2022-07-20T18:15:04.091Z"
   },
   {
    "duration": 14,
    "start_time": "2022-07-20T18:15:04.121Z"
   },
   {
    "duration": 223,
    "start_time": "2022-07-20T18:15:04.137Z"
   },
   {
    "duration": 1473,
    "start_time": "2022-07-21T10:50:02.637Z"
   },
   {
    "duration": 3,
    "start_time": "2022-07-21T10:50:04.112Z"
   },
   {
    "duration": 7,
    "start_time": "2022-07-21T10:50:04.116Z"
   },
   {
    "duration": 4,
    "start_time": "2022-07-21T10:50:04.125Z"
   },
   {
    "duration": 718,
    "start_time": "2022-07-21T10:50:04.131Z"
   },
   {
    "duration": 59,
    "start_time": "2022-07-21T10:50:04.851Z"
   },
   {
    "duration": 145,
    "start_time": "2022-07-21T10:50:04.912Z"
   },
   {
    "duration": 14,
    "start_time": "2022-07-21T10:50:05.058Z"
   },
   {
    "duration": 37,
    "start_time": "2022-07-21T10:50:05.074Z"
   },
   {
    "duration": 9,
    "start_time": "2022-07-21T10:50:05.113Z"
   },
   {
    "duration": 12,
    "start_time": "2022-07-21T10:50:05.124Z"
   },
   {
    "duration": 17,
    "start_time": "2022-07-21T10:50:05.137Z"
   },
   {
    "duration": 44,
    "start_time": "2022-07-21T10:50:05.155Z"
   },
   {
    "duration": 11,
    "start_time": "2022-07-21T10:50:05.202Z"
   },
   {
    "duration": 14,
    "start_time": "2022-07-21T10:50:05.214Z"
   },
   {
    "duration": 33,
    "start_time": "2022-07-21T10:50:05.229Z"
   },
   {
    "duration": 107,
    "start_time": "2022-07-21T10:50:05.264Z"
   },
   {
    "duration": 95,
    "start_time": "2022-07-21T10:50:05.372Z"
   },
   {
    "duration": 94,
    "start_time": "2022-07-21T10:50:05.469Z"
   },
   {
    "duration": 95,
    "start_time": "2022-07-21T10:50:05.564Z"
   },
   {
    "duration": 43,
    "start_time": "2022-07-21T10:50:05.660Z"
   },
   {
    "duration": 48,
    "start_time": "2022-07-21T10:50:05.705Z"
   },
   {
    "duration": 52,
    "start_time": "2022-07-21T10:50:05.755Z"
   },
   {
    "duration": 23,
    "start_time": "2022-07-21T10:50:05.809Z"
   },
   {
    "duration": 29,
    "start_time": "2022-07-21T10:50:05.834Z"
   },
   {
    "duration": 4,
    "start_time": "2022-07-21T10:50:05.864Z"
   },
   {
    "duration": 5,
    "start_time": "2022-07-21T10:50:05.897Z"
   },
   {
    "duration": 13,
    "start_time": "2022-07-21T10:50:05.903Z"
   },
   {
    "duration": 9,
    "start_time": "2022-07-21T10:50:05.918Z"
   },
   {
    "duration": 9,
    "start_time": "2022-07-21T10:50:05.929Z"
   },
   {
    "duration": 12,
    "start_time": "2022-07-21T10:50:05.940Z"
   },
   {
    "duration": 7,
    "start_time": "2022-07-21T10:50:05.954Z"
   },
   {
    "duration": 45,
    "start_time": "2022-07-21T10:50:05.962Z"
   },
   {
    "duration": 5,
    "start_time": "2022-07-21T10:50:06.009Z"
   },
   {
    "duration": 13,
    "start_time": "2022-07-21T10:50:06.016Z"
   },
   {
    "duration": 8,
    "start_time": "2022-07-21T10:50:06.031Z"
   },
   {
    "duration": 7,
    "start_time": "2022-07-21T10:50:06.040Z"
   },
   {
    "duration": 8,
    "start_time": "2022-07-21T10:50:06.048Z"
   },
   {
    "duration": 42,
    "start_time": "2022-07-21T10:50:06.057Z"
   },
   {
    "duration": 13,
    "start_time": "2022-07-21T10:50:06.101Z"
   },
   {
    "duration": 4,
    "start_time": "2022-07-21T10:50:06.119Z"
   },
   {
    "duration": 5,
    "start_time": "2022-07-21T10:50:06.124Z"
   },
   {
    "duration": 11,
    "start_time": "2022-07-21T10:50:06.131Z"
   },
   {
    "duration": 54,
    "start_time": "2022-07-21T10:50:06.144Z"
   },
   {
    "duration": 4,
    "start_time": "2022-07-21T10:50:06.200Z"
   },
   {
    "duration": 21,
    "start_time": "2022-07-21T10:50:06.206Z"
   },
   {
    "duration": 6,
    "start_time": "2022-07-21T10:50:06.229Z"
   },
   {
    "duration": 7,
    "start_time": "2022-07-21T10:50:06.236Z"
   },
   {
    "duration": 8,
    "start_time": "2022-07-21T10:50:06.244Z"
   },
   {
    "duration": 5,
    "start_time": "2022-07-21T10:50:06.253Z"
   },
   {
    "duration": 85,
    "start_time": "2022-07-21T10:50:06.260Z"
   },
   {
    "duration": 192,
    "start_time": "2022-07-21T10:50:06.346Z"
   },
   {
    "duration": 7,
    "start_time": "2022-07-21T10:50:06.540Z"
   },
   {
    "duration": 6,
    "start_time": "2022-07-21T10:50:06.548Z"
   },
   {
    "duration": 11,
    "start_time": "2022-07-21T10:50:06.555Z"
   },
   {
    "duration": 18,
    "start_time": "2022-07-21T10:50:06.568Z"
   },
   {
    "duration": 10,
    "start_time": "2022-07-21T10:50:06.597Z"
   },
   {
    "duration": 11,
    "start_time": "2022-07-21T10:50:06.609Z"
   },
   {
    "duration": 240,
    "start_time": "2022-07-21T10:50:06.622Z"
   },
   {
    "duration": 56,
    "start_time": "2022-07-21T10:50:06.863Z"
   },
   {
    "duration": 22,
    "start_time": "2022-07-21T10:50:06.921Z"
   },
   {
    "duration": 25,
    "start_time": "2022-07-21T10:50:06.945Z"
   },
   {
    "duration": 160,
    "start_time": "2022-07-21T10:50:06.971Z"
   },
   {
    "duration": 21,
    "start_time": "2022-07-21T10:50:07.133Z"
   },
   {
    "duration": 17,
    "start_time": "2022-07-21T10:50:07.156Z"
   },
   {
    "duration": 32,
    "start_time": "2022-07-21T10:50:07.174Z"
   },
   {
    "duration": 5,
    "start_time": "2022-07-21T10:50:07.208Z"
   },
   {
    "duration": 7,
    "start_time": "2022-07-21T10:50:07.214Z"
   },
   {
    "duration": 30,
    "start_time": "2022-07-21T10:50:07.222Z"
   },
   {
    "duration": 51,
    "start_time": "2022-07-21T10:50:07.254Z"
   },
   {
    "duration": 10,
    "start_time": "2022-07-21T10:50:07.307Z"
   },
   {
    "duration": 13,
    "start_time": "2022-07-21T10:50:07.318Z"
   },
   {
    "duration": 24,
    "start_time": "2022-07-21T10:50:07.333Z"
   },
   {
    "duration": 40,
    "start_time": "2022-07-21T10:50:07.358Z"
   },
   {
    "duration": 4,
    "start_time": "2022-07-21T10:50:07.400Z"
   },
   {
    "duration": 11,
    "start_time": "2022-07-21T10:50:07.405Z"
   },
   {
    "duration": 4,
    "start_time": "2022-07-21T10:50:07.417Z"
   },
   {
    "duration": 21,
    "start_time": "2022-07-21T10:50:07.422Z"
   },
   {
    "duration": 3,
    "start_time": "2022-07-21T10:50:07.445Z"
   },
   {
    "duration": 8,
    "start_time": "2022-07-21T10:50:07.450Z"
   },
   {
    "duration": 51,
    "start_time": "2022-07-21T10:50:07.459Z"
   },
   {
    "duration": 4,
    "start_time": "2022-07-21T10:50:07.511Z"
   },
   {
    "duration": 8,
    "start_time": "2022-07-21T10:50:07.517Z"
   },
   {
    "duration": 158,
    "start_time": "2022-07-21T10:50:07.526Z"
   },
   {
    "duration": 19,
    "start_time": "2022-07-21T10:50:07.686Z"
   },
   {
    "duration": 214,
    "start_time": "2022-07-21T10:50:07.707Z"
   },
   {
    "duration": 14,
    "start_time": "2022-07-21T10:50:07.923Z"
   },
   {
    "duration": 875,
    "start_time": "2022-07-21T10:50:07.938Z"
   },
   {
    "duration": 85,
    "start_time": "2022-07-21T10:50:08.815Z"
   },
   {
    "duration": 25,
    "start_time": "2022-07-21T10:50:08.903Z"
   },
   {
    "duration": 26,
    "start_time": "2022-07-21T10:50:08.930Z"
   },
   {
    "duration": 58,
    "start_time": "2022-07-21T10:50:08.958Z"
   },
   {
    "duration": 43,
    "start_time": "2022-07-21T10:50:09.018Z"
   },
   {
    "duration": 13,
    "start_time": "2022-07-21T10:50:09.063Z"
   },
   {
    "duration": 21,
    "start_time": "2022-07-21T10:50:09.097Z"
   },
   {
    "duration": 5,
    "start_time": "2022-07-21T10:50:09.120Z"
   },
   {
    "duration": 5,
    "start_time": "2022-07-21T10:50:09.127Z"
   },
   {
    "duration": 33,
    "start_time": "2022-07-21T10:50:09.134Z"
   },
   {
    "duration": 39,
    "start_time": "2022-07-21T10:50:09.168Z"
   },
   {
    "duration": 166,
    "start_time": "2022-07-21T10:50:09.209Z"
   },
   {
    "duration": 35,
    "start_time": "2022-07-21T10:50:09.377Z"
   },
   {
    "duration": 636,
    "start_time": "2022-07-21T10:50:09.414Z"
   },
   {
    "duration": 7,
    "start_time": "2022-07-21T10:50:10.052Z"
   },
   {
    "duration": 8,
    "start_time": "2022-07-21T10:50:10.060Z"
   },
   {
    "duration": 7,
    "start_time": "2022-07-21T10:50:10.070Z"
   },
   {
    "duration": 55,
    "start_time": "2022-07-21T10:50:10.079Z"
   },
   {
    "duration": 12,
    "start_time": "2022-07-21T10:50:10.136Z"
   },
   {
    "duration": 11,
    "start_time": "2022-07-21T10:50:10.150Z"
   },
   {
    "duration": 7,
    "start_time": "2022-07-21T10:50:10.163Z"
   },
   {
    "duration": 36,
    "start_time": "2022-07-21T10:50:10.172Z"
   },
   {
    "duration": 13,
    "start_time": "2022-07-21T10:50:10.210Z"
   },
   {
    "duration": 11,
    "start_time": "2022-07-21T10:50:10.225Z"
   },
   {
    "duration": 10,
    "start_time": "2022-07-21T10:50:10.238Z"
   },
   {
    "duration": 6,
    "start_time": "2022-07-21T10:50:10.249Z"
   },
   {
    "duration": 12,
    "start_time": "2022-07-21T10:50:10.256Z"
   },
   {
    "duration": 38,
    "start_time": "2022-07-21T10:50:10.270Z"
   },
   {
    "duration": 198,
    "start_time": "2022-07-21T10:50:10.310Z"
   },
   {
    "duration": 10,
    "start_time": "2022-07-21T10:50:10.510Z"
   },
   {
    "duration": 229,
    "start_time": "2022-07-21T10:50:10.522Z"
   },
   {
    "duration": 9,
    "start_time": "2022-07-21T10:50:10.753Z"
   },
   {
    "duration": 195,
    "start_time": "2022-07-21T10:50:10.764Z"
   },
   {
    "duration": 3,
    "start_time": "2022-07-21T10:50:10.968Z"
   },
   {
    "duration": 6,
    "start_time": "2022-07-21T10:50:10.973Z"
   },
   {
    "duration": 18,
    "start_time": "2022-07-21T10:50:10.981Z"
   },
   {
    "duration": 6,
    "start_time": "2022-07-21T10:50:11.001Z"
   },
   {
    "duration": 6,
    "start_time": "2022-07-21T10:50:11.009Z"
   },
   {
    "duration": 7,
    "start_time": "2022-07-21T10:50:11.016Z"
   },
   {
    "duration": 5,
    "start_time": "2022-07-21T10:50:11.025Z"
   },
   {
    "duration": 12,
    "start_time": "2022-07-21T10:50:11.033Z"
   },
   {
    "duration": 51,
    "start_time": "2022-07-21T10:50:11.047Z"
   },
   {
    "duration": 5,
    "start_time": "2022-07-21T10:50:11.100Z"
   },
   {
    "duration": 11,
    "start_time": "2022-07-21T10:50:11.107Z"
   },
   {
    "duration": 227,
    "start_time": "2022-07-21T10:50:11.120Z"
   },
   {
    "duration": 7,
    "start_time": "2022-07-21T10:50:11.349Z"
   },
   {
    "duration": 10,
    "start_time": "2022-07-21T10:50:11.357Z"
   },
   {
    "duration": 68,
    "start_time": "2022-07-21T10:50:11.369Z"
   },
   {
    "duration": 59,
    "start_time": "2022-07-21T10:50:11.439Z"
   },
   {
    "duration": 40,
    "start_time": "2022-07-21T10:50:11.500Z"
   },
   {
    "duration": 18,
    "start_time": "2022-07-21T10:50:11.542Z"
   },
   {
    "duration": 58,
    "start_time": "2022-07-21T10:50:11.562Z"
   },
   {
    "duration": 16,
    "start_time": "2022-07-21T10:50:11.622Z"
   },
   {
    "duration": 14,
    "start_time": "2022-07-21T10:50:11.640Z"
   },
   {
    "duration": 6,
    "start_time": "2022-07-21T10:50:11.656Z"
   },
   {
    "duration": 154,
    "start_time": "2022-07-21T10:50:11.664Z"
   },
   {
    "duration": 14,
    "start_time": "2022-07-21T10:50:11.820Z"
   },
   {
    "duration": 20,
    "start_time": "2022-07-21T10:50:11.836Z"
   },
   {
    "duration": 23,
    "start_time": "2022-07-21T10:50:11.858Z"
   },
   {
    "duration": 49,
    "start_time": "2022-07-21T10:50:11.883Z"
   },
   {
    "duration": 5,
    "start_time": "2022-07-21T10:50:11.934Z"
   },
   {
    "duration": 307,
    "start_time": "2022-07-21T10:50:11.941Z"
   },
   {
    "duration": 20,
    "start_time": "2022-07-21T10:50:12.250Z"
   },
   {
    "duration": 5,
    "start_time": "2022-07-21T10:50:12.273Z"
   },
   {
    "duration": 277,
    "start_time": "2022-07-21T10:50:12.299Z"
   },
   {
    "duration": 9,
    "start_time": "2022-07-21T10:50:12.578Z"
   },
   {
    "duration": 27,
    "start_time": "2022-07-21T10:50:12.598Z"
   },
   {
    "duration": 5,
    "start_time": "2022-07-21T10:50:12.627Z"
   },
   {
    "duration": 287,
    "start_time": "2022-07-21T10:50:12.633Z"
   },
   {
    "duration": 10,
    "start_time": "2022-07-21T10:50:12.922Z"
   },
   {
    "duration": 157,
    "start_time": "2022-07-21T10:50:12.933Z"
   },
   {
    "duration": 123,
    "start_time": "2022-07-21T10:50:13.092Z"
   },
   {
    "duration": 14,
    "start_time": "2022-07-21T10:50:13.217Z"
   },
   {
    "duration": 10,
    "start_time": "2022-07-21T10:50:13.232Z"
   },
   {
    "duration": 5,
    "start_time": "2022-07-21T10:50:13.244Z"
   },
   {
    "duration": 9,
    "start_time": "2022-07-21T10:50:13.251Z"
   },
   {
    "duration": 176,
    "start_time": "2022-07-21T10:50:13.262Z"
   },
   {
    "duration": 5,
    "start_time": "2022-07-21T10:50:13.439Z"
   },
   {
    "duration": 142,
    "start_time": "2022-07-21T10:50:13.446Z"
   },
   {
    "duration": 17,
    "start_time": "2022-07-21T10:50:13.590Z"
   },
   {
    "duration": 15,
    "start_time": "2022-07-21T10:50:13.611Z"
   },
   {
    "duration": 5,
    "start_time": "2022-07-21T10:50:13.628Z"
   },
   {
    "duration": 7,
    "start_time": "2022-07-21T10:50:13.634Z"
   },
   {
    "duration": 7,
    "start_time": "2022-07-21T10:50:13.642Z"
   },
   {
    "duration": 10,
    "start_time": "2022-07-21T10:50:13.651Z"
   },
   {
    "duration": 4,
    "start_time": "2022-07-21T10:50:13.663Z"
   },
   {
    "duration": 35,
    "start_time": "2022-07-21T10:50:13.668Z"
   },
   {
    "duration": 8,
    "start_time": "2022-07-21T10:50:13.706Z"
   },
   {
    "duration": 192,
    "start_time": "2022-07-21T10:50:13.716Z"
   },
   {
    "duration": 8,
    "start_time": "2022-07-21T11:02:57.734Z"
   },
   {
    "duration": 129,
    "start_time": "2022-07-21T11:03:14.054Z"
   },
   {
    "duration": 8,
    "start_time": "2022-07-21T11:03:31.159Z"
   },
   {
    "duration": 8,
    "start_time": "2022-07-21T11:04:01.311Z"
   },
   {
    "duration": 2102,
    "start_time": "2022-07-21T11:04:29.580Z"
   },
   {
    "duration": 2001,
    "start_time": "2022-07-21T11:04:48.037Z"
   },
   {
    "duration": 2047,
    "start_time": "2022-07-21T11:04:54.965Z"
   },
   {
    "duration": 1847,
    "start_time": "2022-07-21T11:05:08.272Z"
   },
   {
    "duration": 1982,
    "start_time": "2022-07-21T11:05:26.510Z"
   },
   {
    "duration": 2253,
    "start_time": "2022-07-21T11:05:56.811Z"
   },
   {
    "duration": 13,
    "start_time": "2022-07-21T11:06:13.284Z"
   },
   {
    "duration": 2164,
    "start_time": "2022-07-21T11:06:22.064Z"
   },
   {
    "duration": 1994,
    "start_time": "2022-07-21T11:06:26.490Z"
   },
   {
    "duration": 11,
    "start_time": "2022-07-21T11:06:36.110Z"
   },
   {
    "duration": 12,
    "start_time": "2022-07-21T11:08:28.783Z"
   },
   {
    "duration": 14,
    "start_time": "2022-07-21T11:10:20.782Z"
   },
   {
    "duration": 11,
    "start_time": "2022-07-21T11:10:40.406Z"
   },
   {
    "duration": 29,
    "start_time": "2022-07-21T11:18:16.355Z"
   },
   {
    "duration": 7,
    "start_time": "2022-07-21T12:10:22.446Z"
   },
   {
    "duration": 1514,
    "start_time": "2022-07-21T12:25:10.023Z"
   },
   {
    "duration": 4,
    "start_time": "2022-07-21T12:25:11.540Z"
   },
   {
    "duration": 6,
    "start_time": "2022-07-21T12:25:11.546Z"
   },
   {
    "duration": 5,
    "start_time": "2022-07-21T12:25:11.555Z"
   },
   {
    "duration": 257,
    "start_time": "2022-07-21T12:25:11.562Z"
   },
   {
    "duration": 18,
    "start_time": "2022-07-21T12:25:11.822Z"
   },
   {
    "duration": 39,
    "start_time": "2022-07-21T12:25:11.842Z"
   },
   {
    "duration": 18,
    "start_time": "2022-07-21T12:25:11.884Z"
   },
   {
    "duration": 58,
    "start_time": "2022-07-21T12:25:11.905Z"
   },
   {
    "duration": 21,
    "start_time": "2022-07-21T12:25:11.967Z"
   },
   {
    "duration": 23,
    "start_time": "2022-07-21T12:25:11.992Z"
   },
   {
    "duration": 20,
    "start_time": "2022-07-21T12:25:12.017Z"
   },
   {
    "duration": 36,
    "start_time": "2022-07-21T12:25:12.039Z"
   },
   {
    "duration": 31,
    "start_time": "2022-07-21T12:25:12.077Z"
   },
   {
    "duration": 20,
    "start_time": "2022-07-21T12:25:12.110Z"
   },
   {
    "duration": 32,
    "start_time": "2022-07-21T12:25:12.132Z"
   },
   {
    "duration": 147,
    "start_time": "2022-07-21T12:25:12.167Z"
   },
   {
    "duration": 136,
    "start_time": "2022-07-21T12:25:12.316Z"
   },
   {
    "duration": 108,
    "start_time": "2022-07-21T12:25:12.454Z"
   },
   {
    "duration": 109,
    "start_time": "2022-07-21T12:25:12.564Z"
   },
   {
    "duration": 46,
    "start_time": "2022-07-21T12:25:12.675Z"
   },
   {
    "duration": 56,
    "start_time": "2022-07-21T12:25:12.724Z"
   },
   {
    "duration": 77,
    "start_time": "2022-07-21T12:25:12.783Z"
   },
   {
    "duration": 47,
    "start_time": "2022-07-21T12:25:12.862Z"
   },
   {
    "duration": 32,
    "start_time": "2022-07-21T12:25:12.911Z"
   },
   {
    "duration": 5,
    "start_time": "2022-07-21T12:25:12.945Z"
   },
   {
    "duration": 11,
    "start_time": "2022-07-21T12:25:12.951Z"
   },
   {
    "duration": 19,
    "start_time": "2022-07-21T12:25:13.006Z"
   },
   {
    "duration": 10,
    "start_time": "2022-07-21T12:25:13.028Z"
   },
   {
    "duration": 11,
    "start_time": "2022-07-21T12:25:13.040Z"
   },
   {
    "duration": 45,
    "start_time": "2022-07-21T12:25:13.054Z"
   },
   {
    "duration": 12,
    "start_time": "2022-07-21T12:25:13.102Z"
   },
   {
    "duration": 15,
    "start_time": "2022-07-21T12:25:13.117Z"
   },
   {
    "duration": 11,
    "start_time": "2022-07-21T12:25:13.134Z"
   },
   {
    "duration": 15,
    "start_time": "2022-07-21T12:25:13.148Z"
   },
   {
    "duration": 37,
    "start_time": "2022-07-21T12:25:13.164Z"
   },
   {
    "duration": 10,
    "start_time": "2022-07-21T12:25:13.204Z"
   },
   {
    "duration": 14,
    "start_time": "2022-07-21T12:25:13.217Z"
   },
   {
    "duration": 13,
    "start_time": "2022-07-21T12:25:13.235Z"
   },
   {
    "duration": 50,
    "start_time": "2022-07-21T12:25:13.250Z"
   },
   {
    "duration": 6,
    "start_time": "2022-07-21T12:25:13.303Z"
   },
   {
    "duration": 11,
    "start_time": "2022-07-21T12:25:13.311Z"
   },
   {
    "duration": 23,
    "start_time": "2022-07-21T12:25:13.325Z"
   },
   {
    "duration": 72,
    "start_time": "2022-07-21T12:25:13.351Z"
   },
   {
    "duration": 4,
    "start_time": "2022-07-21T12:25:13.426Z"
   },
   {
    "duration": 29,
    "start_time": "2022-07-21T12:25:13.432Z"
   },
   {
    "duration": 8,
    "start_time": "2022-07-21T12:25:13.463Z"
   },
   {
    "duration": 30,
    "start_time": "2022-07-21T12:25:13.474Z"
   },
   {
    "duration": 12,
    "start_time": "2022-07-21T12:25:13.507Z"
   },
   {
    "duration": 7,
    "start_time": "2022-07-21T12:25:13.522Z"
   },
   {
    "duration": 87,
    "start_time": "2022-07-21T12:25:13.531Z"
   },
   {
    "duration": 229,
    "start_time": "2022-07-21T12:25:13.621Z"
   },
   {
    "duration": 10,
    "start_time": "2022-07-21T12:25:13.853Z"
   },
   {
    "duration": 9,
    "start_time": "2022-07-21T12:25:13.866Z"
   },
   {
    "duration": 24,
    "start_time": "2022-07-21T12:25:13.877Z"
   },
   {
    "duration": 11,
    "start_time": "2022-07-21T12:25:13.903Z"
   },
   {
    "duration": 12,
    "start_time": "2022-07-21T12:25:13.916Z"
   },
   {
    "duration": 12,
    "start_time": "2022-07-21T12:25:13.929Z"
   },
   {
    "duration": 251,
    "start_time": "2022-07-21T12:25:13.943Z"
   },
   {
    "duration": 72,
    "start_time": "2022-07-21T12:25:14.197Z"
   },
   {
    "duration": 40,
    "start_time": "2022-07-21T12:25:14.271Z"
   },
   {
    "duration": 26,
    "start_time": "2022-07-21T12:25:14.313Z"
   },
   {
    "duration": 171,
    "start_time": "2022-07-21T12:25:14.341Z"
   },
   {
    "duration": 31,
    "start_time": "2022-07-21T12:25:14.515Z"
   },
   {
    "duration": 25,
    "start_time": "2022-07-21T12:25:14.549Z"
   },
   {
    "duration": 38,
    "start_time": "2022-07-21T12:25:14.599Z"
   },
   {
    "duration": 6,
    "start_time": "2022-07-21T12:25:14.639Z"
   },
   {
    "duration": 17,
    "start_time": "2022-07-21T12:25:14.647Z"
   },
   {
    "duration": 50,
    "start_time": "2022-07-21T12:25:14.667Z"
   },
   {
    "duration": 31,
    "start_time": "2022-07-21T12:25:14.719Z"
   },
   {
    "duration": 15,
    "start_time": "2022-07-21T12:25:14.752Z"
   },
   {
    "duration": 39,
    "start_time": "2022-07-21T12:25:14.769Z"
   },
   {
    "duration": 38,
    "start_time": "2022-07-21T12:25:14.810Z"
   },
   {
    "duration": 13,
    "start_time": "2022-07-21T12:25:14.850Z"
   },
   {
    "duration": 9,
    "start_time": "2022-07-21T12:25:14.865Z"
   },
   {
    "duration": 29,
    "start_time": "2022-07-21T12:25:14.877Z"
   },
   {
    "duration": 6,
    "start_time": "2022-07-21T12:25:14.908Z"
   },
   {
    "duration": 47,
    "start_time": "2022-07-21T12:25:14.916Z"
   },
   {
    "duration": 6,
    "start_time": "2022-07-21T12:25:14.965Z"
   },
   {
    "duration": 31,
    "start_time": "2022-07-21T12:25:14.973Z"
   },
   {
    "duration": 30,
    "start_time": "2022-07-21T12:25:15.006Z"
   },
   {
    "duration": 6,
    "start_time": "2022-07-21T12:25:15.053Z"
   },
   {
    "duration": 40,
    "start_time": "2022-07-21T12:25:15.062Z"
   },
   {
    "duration": 171,
    "start_time": "2022-07-21T12:25:15.105Z"
   },
   {
    "duration": 21,
    "start_time": "2022-07-21T12:25:15.278Z"
   },
   {
    "duration": 244,
    "start_time": "2022-07-21T12:25:15.301Z"
   },
   {
    "duration": 21,
    "start_time": "2022-07-21T12:25:15.548Z"
   },
   {
    "duration": 938,
    "start_time": "2022-07-21T12:25:15.571Z"
   },
   {
    "duration": 96,
    "start_time": "2022-07-21T12:25:16.511Z"
   },
   {
    "duration": 27,
    "start_time": "2022-07-21T12:25:16.609Z"
   },
   {
    "duration": 31,
    "start_time": "2022-07-21T12:25:16.650Z"
   },
   {
    "duration": 54,
    "start_time": "2022-07-21T12:25:16.683Z"
   },
   {
    "duration": 86,
    "start_time": "2022-07-21T12:25:16.740Z"
   },
   {
    "duration": 25,
    "start_time": "2022-07-21T12:25:16.828Z"
   },
   {
    "duration": 28,
    "start_time": "2022-07-21T12:25:16.856Z"
   },
   {
    "duration": 18,
    "start_time": "2022-07-21T12:25:16.887Z"
   },
   {
    "duration": 12,
    "start_time": "2022-07-21T12:25:16.907Z"
   },
   {
    "duration": 36,
    "start_time": "2022-07-21T12:25:16.924Z"
   },
   {
    "duration": 19,
    "start_time": "2022-07-21T12:25:16.961Z"
   },
   {
    "duration": 180,
    "start_time": "2022-07-21T12:25:16.982Z"
   },
   {
    "duration": 58,
    "start_time": "2022-07-21T12:25:17.164Z"
   },
   {
    "duration": 671,
    "start_time": "2022-07-21T12:25:17.225Z"
   },
   {
    "duration": 11,
    "start_time": "2022-07-21T12:25:17.899Z"
   },
   {
    "duration": 5,
    "start_time": "2022-07-21T12:25:17.913Z"
   },
   {
    "duration": 10,
    "start_time": "2022-07-21T12:25:17.921Z"
   },
   {
    "duration": 96,
    "start_time": "2022-07-21T12:25:17.934Z"
   },
   {
    "duration": 15,
    "start_time": "2022-07-21T12:25:18.033Z"
   },
   {
    "duration": 17,
    "start_time": "2022-07-21T12:25:18.051Z"
   },
   {
    "duration": 33,
    "start_time": "2022-07-21T12:25:18.070Z"
   },
   {
    "duration": 15,
    "start_time": "2022-07-21T12:25:18.105Z"
   },
   {
    "duration": 15,
    "start_time": "2022-07-21T12:25:18.122Z"
   },
   {
    "duration": 18,
    "start_time": "2022-07-21T12:25:18.139Z"
   },
   {
    "duration": 43,
    "start_time": "2022-07-21T12:25:18.159Z"
   },
   {
    "duration": 7,
    "start_time": "2022-07-21T12:25:18.205Z"
   },
   {
    "duration": 13,
    "start_time": "2022-07-21T12:25:18.214Z"
   },
   {
    "duration": 15,
    "start_time": "2022-07-21T12:25:18.229Z"
   },
   {
    "duration": 248,
    "start_time": "2022-07-21T12:25:18.247Z"
   },
   {
    "duration": 13,
    "start_time": "2022-07-21T12:25:18.499Z"
   },
   {
    "duration": 259,
    "start_time": "2022-07-21T12:25:18.514Z"
   },
   {
    "duration": 24,
    "start_time": "2022-07-21T12:25:18.777Z"
   },
   {
    "duration": 238,
    "start_time": "2022-07-21T12:25:18.804Z"
   },
   {
    "duration": 5,
    "start_time": "2022-07-21T12:25:19.045Z"
   },
   {
    "duration": 13,
    "start_time": "2022-07-21T12:25:19.052Z"
   },
   {
    "duration": 6,
    "start_time": "2022-07-21T12:25:19.068Z"
   },
   {
    "duration": 29,
    "start_time": "2022-07-21T12:25:19.075Z"
   },
   {
    "duration": 5,
    "start_time": "2022-07-21T12:25:19.107Z"
   },
   {
    "duration": 12,
    "start_time": "2022-07-21T12:25:19.114Z"
   },
   {
    "duration": 8,
    "start_time": "2022-07-21T12:25:19.129Z"
   },
   {
    "duration": 12,
    "start_time": "2022-07-21T12:25:19.139Z"
   },
   {
    "duration": 7,
    "start_time": "2022-07-21T12:25:19.153Z"
   },
   {
    "duration": 41,
    "start_time": "2022-07-21T12:25:19.162Z"
   },
   {
    "duration": 18,
    "start_time": "2022-07-21T12:25:19.205Z"
   },
   {
    "duration": 215,
    "start_time": "2022-07-21T12:25:19.227Z"
   },
   {
    "duration": 8,
    "start_time": "2022-07-21T12:25:19.444Z"
   },
   {
    "duration": 12,
    "start_time": "2022-07-21T12:25:19.454Z"
   },
   {
    "duration": 64,
    "start_time": "2022-07-21T12:25:19.468Z"
   },
   {
    "duration": 65,
    "start_time": "2022-07-21T12:25:19.534Z"
   },
   {
    "duration": 72,
    "start_time": "2022-07-21T12:25:19.610Z"
   },
   {
    "duration": 36,
    "start_time": "2022-07-21T12:25:19.685Z"
   },
   {
    "duration": 43,
    "start_time": "2022-07-21T12:25:19.723Z"
   },
   {
    "duration": 41,
    "start_time": "2022-07-21T12:25:19.768Z"
   },
   {
    "duration": 23,
    "start_time": "2022-07-21T12:25:19.812Z"
   },
   {
    "duration": 9,
    "start_time": "2022-07-21T12:25:19.837Z"
   },
   {
    "duration": 175,
    "start_time": "2022-07-21T12:25:19.848Z"
   },
   {
    "duration": 16,
    "start_time": "2022-07-21T12:25:20.025Z"
   },
   {
    "duration": 22,
    "start_time": "2022-07-21T12:25:20.043Z"
   },
   {
    "duration": 41,
    "start_time": "2022-07-21T12:25:20.067Z"
   },
   {
    "duration": 37,
    "start_time": "2022-07-21T12:25:20.110Z"
   },
   {
    "duration": 7,
    "start_time": "2022-07-21T12:25:20.150Z"
   },
   {
    "duration": 317,
    "start_time": "2022-07-21T12:25:20.159Z"
   },
   {
    "duration": 49,
    "start_time": "2022-07-21T12:25:20.480Z"
   },
   {
    "duration": 6,
    "start_time": "2022-07-21T12:25:20.533Z"
   },
   {
    "duration": 291,
    "start_time": "2022-07-21T12:25:20.542Z"
   },
   {
    "duration": 14,
    "start_time": "2022-07-21T12:25:20.836Z"
   },
   {
    "duration": 50,
    "start_time": "2022-07-21T12:25:20.853Z"
   },
   {
    "duration": 6,
    "start_time": "2022-07-21T12:25:20.906Z"
   },
   {
    "duration": 310,
    "start_time": "2022-07-21T12:25:20.914Z"
   },
   {
    "duration": 12,
    "start_time": "2022-07-21T12:25:21.227Z"
   },
   {
    "duration": 176,
    "start_time": "2022-07-21T12:25:21.241Z"
   },
   {
    "duration": 199,
    "start_time": "2022-07-21T12:25:21.420Z"
   },
   {
    "duration": 22,
    "start_time": "2022-07-21T12:25:21.621Z"
   },
   {
    "duration": 14,
    "start_time": "2022-07-21T12:25:21.648Z"
   },
   {
    "duration": 36,
    "start_time": "2022-07-21T12:25:21.664Z"
   },
   {
    "duration": 9,
    "start_time": "2022-07-21T12:25:21.703Z"
   },
   {
    "duration": 159,
    "start_time": "2022-07-21T12:25:21.714Z"
   },
   {
    "duration": 6,
    "start_time": "2022-07-21T12:25:21.876Z"
   },
   {
    "duration": 176,
    "start_time": "2022-07-21T12:25:21.884Z"
   },
   {
    "duration": 10,
    "start_time": "2022-07-21T12:25:22.061Z"
   },
   {
    "duration": 25,
    "start_time": "2022-07-21T12:25:22.073Z"
   },
   {
    "duration": 5,
    "start_time": "2022-07-21T12:25:22.100Z"
   },
   {
    "duration": 10,
    "start_time": "2022-07-21T12:25:22.108Z"
   },
   {
    "duration": 7,
    "start_time": "2022-07-21T12:25:22.120Z"
   },
   {
    "duration": 16,
    "start_time": "2022-07-21T12:25:22.130Z"
   },
   {
    "duration": 6,
    "start_time": "2022-07-21T12:25:22.149Z"
   },
   {
    "duration": 52,
    "start_time": "2022-07-21T12:25:22.157Z"
   },
   {
    "duration": 9,
    "start_time": "2022-07-21T12:25:22.211Z"
   },
   {
    "duration": 227,
    "start_time": "2022-07-21T12:25:22.223Z"
   },
   {
    "duration": 1662,
    "start_time": "2022-07-21T15:45:31.540Z"
   },
   {
    "duration": 1127,
    "start_time": "2022-07-21T15:45:37.033Z"
   },
   {
    "duration": 71,
    "start_time": "2022-07-21T18:32:43.492Z"
   },
   {
    "duration": 1787,
    "start_time": "2022-07-21T18:32:51.823Z"
   },
   {
    "duration": 4,
    "start_time": "2022-07-21T18:32:53.613Z"
   },
   {
    "duration": 18,
    "start_time": "2022-07-21T18:32:53.619Z"
   },
   {
    "duration": 19,
    "start_time": "2022-07-21T18:32:53.640Z"
   },
   {
    "duration": 647,
    "start_time": "2022-07-21T18:32:53.662Z"
   },
   {
    "duration": 49,
    "start_time": "2022-07-21T18:32:54.312Z"
   },
   {
    "duration": 112,
    "start_time": "2022-07-21T18:32:54.364Z"
   },
   {
    "duration": 112,
    "start_time": "2022-07-21T18:32:54.478Z"
   },
   {
    "duration": 73,
    "start_time": "2022-07-21T18:32:54.593Z"
   },
   {
    "duration": 92,
    "start_time": "2022-07-21T18:32:54.669Z"
   },
   {
    "duration": 106,
    "start_time": "2022-07-21T18:32:54.764Z"
   },
   {
    "duration": 24,
    "start_time": "2022-07-21T18:32:54.872Z"
   },
   {
    "duration": 69,
    "start_time": "2022-07-21T18:32:54.898Z"
   },
   {
    "duration": 101,
    "start_time": "2022-07-21T18:32:54.972Z"
   },
   {
    "duration": 302,
    "start_time": "2022-07-21T18:32:55.076Z"
   },
   {
    "duration": 288,
    "start_time": "2022-07-21T18:32:55.381Z"
   },
   {
    "duration": 235,
    "start_time": "2022-07-21T18:32:55.671Z"
   },
   {
    "duration": 234,
    "start_time": "2022-07-21T18:32:55.962Z"
   },
   {
    "duration": 102,
    "start_time": "2022-07-21T18:32:56.199Z"
   },
   {
    "duration": 186,
    "start_time": "2022-07-21T18:32:56.304Z"
   },
   {
    "duration": 108,
    "start_time": "2022-07-21T18:32:56.492Z"
   },
   {
    "duration": 91,
    "start_time": "2022-07-21T18:32:56.602Z"
   },
   {
    "duration": 175,
    "start_time": "2022-07-21T18:32:56.696Z"
   },
   {
    "duration": 6,
    "start_time": "2022-07-21T18:32:56.874Z"
   },
   {
    "duration": 8,
    "start_time": "2022-07-21T18:32:56.882Z"
   },
   {
    "duration": 77,
    "start_time": "2022-07-21T18:32:56.892Z"
   },
   {
    "duration": 25,
    "start_time": "2022-07-21T18:32:56.971Z"
   },
   {
    "duration": 65,
    "start_time": "2022-07-21T18:32:56.999Z"
   },
   {
    "duration": 33,
    "start_time": "2022-07-21T18:32:57.066Z"
   },
   {
    "duration": 58,
    "start_time": "2022-07-21T18:32:57.102Z"
   },
   {
    "duration": 16,
    "start_time": "2022-07-21T18:32:57.162Z"
   },
   {
    "duration": 13,
    "start_time": "2022-07-21T18:32:57.179Z"
   },
   {
    "duration": 69,
    "start_time": "2022-07-21T18:32:57.194Z"
   },
   {
    "duration": 14,
    "start_time": "2022-07-21T18:32:57.265Z"
   },
   {
    "duration": 17,
    "start_time": "2022-07-21T18:32:57.281Z"
   },
   {
    "duration": 53,
    "start_time": "2022-07-21T18:32:57.315Z"
   },
   {
    "duration": 20,
    "start_time": "2022-07-21T18:32:57.371Z"
   },
   {
    "duration": 25,
    "start_time": "2022-07-21T18:32:57.393Z"
   },
   {
    "duration": 5,
    "start_time": "2022-07-21T18:32:57.463Z"
   },
   {
    "duration": 17,
    "start_time": "2022-07-21T18:32:57.470Z"
   },
   {
    "duration": 67,
    "start_time": "2022-07-21T18:32:57.495Z"
   },
   {
    "duration": 97,
    "start_time": "2022-07-21T18:32:57.564Z"
   },
   {
    "duration": 7,
    "start_time": "2022-07-21T18:32:57.663Z"
   },
   {
    "duration": 32,
    "start_time": "2022-07-21T18:32:57.672Z"
   },
   {
    "duration": 60,
    "start_time": "2022-07-21T18:32:57.706Z"
   },
   {
    "duration": 25,
    "start_time": "2022-07-21T18:32:57.768Z"
   },
   {
    "duration": 12,
    "start_time": "2022-07-21T18:32:57.796Z"
   },
   {
    "duration": 51,
    "start_time": "2022-07-21T18:32:57.810Z"
   },
   {
    "duration": 141,
    "start_time": "2022-07-21T18:32:57.863Z"
   },
   {
    "duration": 570,
    "start_time": "2022-07-21T18:32:58.007Z"
   },
   {
    "duration": 12,
    "start_time": "2022-07-21T18:32:58.580Z"
   },
   {
    "duration": 67,
    "start_time": "2022-07-21T18:32:58.595Z"
   },
   {
    "duration": 29,
    "start_time": "2022-07-21T18:32:58.664Z"
   },
   {
    "duration": 25,
    "start_time": "2022-07-21T18:32:58.696Z"
   },
   {
    "duration": 48,
    "start_time": "2022-07-21T18:32:58.723Z"
   },
   {
    "duration": 9,
    "start_time": "2022-07-21T18:32:58.773Z"
   },
   {
    "duration": 593,
    "start_time": "2022-07-21T18:32:58.785Z"
   },
   {
    "duration": 1839,
    "start_time": "2022-07-21T18:32:59.380Z"
   },
   {
    "duration": 0,
    "start_time": "2022-07-21T18:33:01.224Z"
   },
   {
    "duration": 0,
    "start_time": "2022-07-21T18:33:01.226Z"
   },
   {
    "duration": 0,
    "start_time": "2022-07-21T18:33:01.228Z"
   },
   {
    "duration": 0,
    "start_time": "2022-07-21T18:33:01.229Z"
   },
   {
    "duration": 0,
    "start_time": "2022-07-21T18:33:01.231Z"
   },
   {
    "duration": 0,
    "start_time": "2022-07-21T18:33:01.233Z"
   },
   {
    "duration": 0,
    "start_time": "2022-07-21T18:33:01.235Z"
   },
   {
    "duration": 0,
    "start_time": "2022-07-21T18:33:01.236Z"
   },
   {
    "duration": 0,
    "start_time": "2022-07-21T18:33:01.237Z"
   },
   {
    "duration": 0,
    "start_time": "2022-07-21T18:33:01.239Z"
   },
   {
    "duration": 1,
    "start_time": "2022-07-21T18:33:01.240Z"
   },
   {
    "duration": 0,
    "start_time": "2022-07-21T18:33:01.242Z"
   },
   {
    "duration": 0,
    "start_time": "2022-07-21T18:33:01.244Z"
   },
   {
    "duration": 0,
    "start_time": "2022-07-21T18:33:01.245Z"
   },
   {
    "duration": 0,
    "start_time": "2022-07-21T18:33:01.247Z"
   },
   {
    "duration": 0,
    "start_time": "2022-07-21T18:33:01.248Z"
   },
   {
    "duration": 0,
    "start_time": "2022-07-21T18:33:01.250Z"
   },
   {
    "duration": 0,
    "start_time": "2022-07-21T18:33:01.252Z"
   },
   {
    "duration": 0,
    "start_time": "2022-07-21T18:33:01.254Z"
   },
   {
    "duration": 0,
    "start_time": "2022-07-21T18:33:01.255Z"
   },
   {
    "duration": 0,
    "start_time": "2022-07-21T18:33:01.256Z"
   },
   {
    "duration": 0,
    "start_time": "2022-07-21T18:33:01.258Z"
   },
   {
    "duration": 0,
    "start_time": "2022-07-21T18:33:01.259Z"
   },
   {
    "duration": 0,
    "start_time": "2022-07-21T18:33:01.261Z"
   },
   {
    "duration": 0,
    "start_time": "2022-07-21T18:33:01.262Z"
   },
   {
    "duration": 0,
    "start_time": "2022-07-21T18:33:01.264Z"
   },
   {
    "duration": 0,
    "start_time": "2022-07-21T18:33:01.265Z"
   },
   {
    "duration": 0,
    "start_time": "2022-07-21T18:33:01.267Z"
   },
   {
    "duration": 0,
    "start_time": "2022-07-21T18:33:01.268Z"
   },
   {
    "duration": 0,
    "start_time": "2022-07-21T18:33:01.269Z"
   },
   {
    "duration": 0,
    "start_time": "2022-07-21T18:33:01.271Z"
   },
   {
    "duration": 0,
    "start_time": "2022-07-21T18:33:01.272Z"
   },
   {
    "duration": 0,
    "start_time": "2022-07-21T18:33:01.274Z"
   },
   {
    "duration": 0,
    "start_time": "2022-07-21T18:33:01.275Z"
   },
   {
    "duration": 0,
    "start_time": "2022-07-21T18:33:01.277Z"
   },
   {
    "duration": 0,
    "start_time": "2022-07-21T18:33:01.278Z"
   },
   {
    "duration": 0,
    "start_time": "2022-07-21T18:33:01.279Z"
   },
   {
    "duration": 0,
    "start_time": "2022-07-21T18:33:01.280Z"
   },
   {
    "duration": 0,
    "start_time": "2022-07-21T18:33:01.282Z"
   },
   {
    "duration": 0,
    "start_time": "2022-07-21T18:33:01.283Z"
   },
   {
    "duration": 0,
    "start_time": "2022-07-21T18:33:01.284Z"
   },
   {
    "duration": 0,
    "start_time": "2022-07-21T18:33:01.285Z"
   },
   {
    "duration": 0,
    "start_time": "2022-07-21T18:33:01.286Z"
   },
   {
    "duration": 0,
    "start_time": "2022-07-21T18:33:01.287Z"
   },
   {
    "duration": 0,
    "start_time": "2022-07-21T18:33:01.289Z"
   },
   {
    "duration": 0,
    "start_time": "2022-07-21T18:33:01.290Z"
   },
   {
    "duration": 0,
    "start_time": "2022-07-21T18:33:01.291Z"
   },
   {
    "duration": 0,
    "start_time": "2022-07-21T18:33:01.292Z"
   },
   {
    "duration": 0,
    "start_time": "2022-07-21T18:33:01.293Z"
   },
   {
    "duration": 0,
    "start_time": "2022-07-21T18:33:01.295Z"
   },
   {
    "duration": 0,
    "start_time": "2022-07-21T18:33:01.296Z"
   },
   {
    "duration": 0,
    "start_time": "2022-07-21T18:33:01.297Z"
   },
   {
    "duration": 0,
    "start_time": "2022-07-21T18:33:01.298Z"
   },
   {
    "duration": 0,
    "start_time": "2022-07-21T18:33:01.300Z"
   },
   {
    "duration": 0,
    "start_time": "2022-07-21T18:33:01.301Z"
   },
   {
    "duration": 0,
    "start_time": "2022-07-21T18:33:01.302Z"
   },
   {
    "duration": 0,
    "start_time": "2022-07-21T18:33:01.303Z"
   },
   {
    "duration": 0,
    "start_time": "2022-07-21T18:33:01.305Z"
   },
   {
    "duration": 0,
    "start_time": "2022-07-21T18:33:01.306Z"
   },
   {
    "duration": 0,
    "start_time": "2022-07-21T18:33:01.307Z"
   },
   {
    "duration": 0,
    "start_time": "2022-07-21T18:33:01.308Z"
   },
   {
    "duration": 0,
    "start_time": "2022-07-21T18:33:01.310Z"
   },
   {
    "duration": 0,
    "start_time": "2022-07-21T18:33:01.361Z"
   },
   {
    "duration": 0,
    "start_time": "2022-07-21T18:33:01.363Z"
   },
   {
    "duration": 0,
    "start_time": "2022-07-21T18:33:01.365Z"
   },
   {
    "duration": 0,
    "start_time": "2022-07-21T18:33:01.367Z"
   },
   {
    "duration": 0,
    "start_time": "2022-07-21T18:33:01.368Z"
   },
   {
    "duration": 0,
    "start_time": "2022-07-21T18:33:01.369Z"
   },
   {
    "duration": 0,
    "start_time": "2022-07-21T18:33:01.370Z"
   },
   {
    "duration": 0,
    "start_time": "2022-07-21T18:33:01.374Z"
   },
   {
    "duration": 0,
    "start_time": "2022-07-21T18:33:01.375Z"
   },
   {
    "duration": 0,
    "start_time": "2022-07-21T18:33:01.376Z"
   },
   {
    "duration": 0,
    "start_time": "2022-07-21T18:33:01.377Z"
   },
   {
    "duration": 0,
    "start_time": "2022-07-21T18:33:01.378Z"
   },
   {
    "duration": 0,
    "start_time": "2022-07-21T18:33:01.379Z"
   },
   {
    "duration": 0,
    "start_time": "2022-07-21T18:33:01.380Z"
   },
   {
    "duration": 0,
    "start_time": "2022-07-21T18:33:01.381Z"
   },
   {
    "duration": 0,
    "start_time": "2022-07-21T18:33:01.382Z"
   },
   {
    "duration": 0,
    "start_time": "2022-07-21T18:33:01.383Z"
   },
   {
    "duration": 0,
    "start_time": "2022-07-21T18:33:01.384Z"
   },
   {
    "duration": 0,
    "start_time": "2022-07-21T18:33:01.385Z"
   },
   {
    "duration": 0,
    "start_time": "2022-07-21T18:33:01.387Z"
   },
   {
    "duration": 0,
    "start_time": "2022-07-21T18:33:01.388Z"
   },
   {
    "duration": 0,
    "start_time": "2022-07-21T18:33:01.389Z"
   },
   {
    "duration": 0,
    "start_time": "2022-07-21T18:33:01.391Z"
   },
   {
    "duration": 0,
    "start_time": "2022-07-21T18:33:01.392Z"
   },
   {
    "duration": 0,
    "start_time": "2022-07-21T18:33:01.393Z"
   },
   {
    "duration": 0,
    "start_time": "2022-07-21T18:33:01.395Z"
   },
   {
    "duration": 0,
    "start_time": "2022-07-21T18:33:01.396Z"
   },
   {
    "duration": 0,
    "start_time": "2022-07-21T18:33:01.397Z"
   },
   {
    "duration": 0,
    "start_time": "2022-07-21T18:33:01.398Z"
   },
   {
    "duration": 0,
    "start_time": "2022-07-21T18:33:01.400Z"
   },
   {
    "duration": 0,
    "start_time": "2022-07-21T18:33:01.401Z"
   },
   {
    "duration": 0,
    "start_time": "2022-07-21T18:33:01.402Z"
   },
   {
    "duration": 0,
    "start_time": "2022-07-21T18:33:01.404Z"
   },
   {
    "duration": 0,
    "start_time": "2022-07-21T18:33:01.405Z"
   },
   {
    "duration": 0,
    "start_time": "2022-07-21T18:33:01.460Z"
   },
   {
    "duration": 0,
    "start_time": "2022-07-21T18:33:01.462Z"
   },
   {
    "duration": 0,
    "start_time": "2022-07-21T18:33:01.464Z"
   },
   {
    "duration": 0,
    "start_time": "2022-07-21T18:33:01.465Z"
   },
   {
    "duration": 0,
    "start_time": "2022-07-21T18:33:01.467Z"
   },
   {
    "duration": 0,
    "start_time": "2022-07-21T18:33:01.468Z"
   },
   {
    "duration": 0,
    "start_time": "2022-07-21T18:33:01.469Z"
   },
   {
    "duration": 0,
    "start_time": "2022-07-21T18:33:01.471Z"
   },
   {
    "duration": 0,
    "start_time": "2022-07-21T18:33:01.473Z"
   },
   {
    "duration": 0,
    "start_time": "2022-07-21T18:33:01.475Z"
   },
   {
    "duration": 0,
    "start_time": "2022-07-21T18:33:01.476Z"
   },
   {
    "duration": 0,
    "start_time": "2022-07-21T18:33:01.478Z"
   },
   {
    "duration": 0,
    "start_time": "2022-07-21T18:33:01.479Z"
   },
   {
    "duration": 0,
    "start_time": "2022-07-21T18:33:01.481Z"
   },
   {
    "duration": 0,
    "start_time": "2022-07-21T18:33:01.482Z"
   },
   {
    "duration": 0,
    "start_time": "2022-07-21T18:33:01.484Z"
   },
   {
    "duration": 0,
    "start_time": "2022-07-21T18:33:01.485Z"
   },
   {
    "duration": 0,
    "start_time": "2022-07-21T18:33:01.487Z"
   },
   {
    "duration": 0,
    "start_time": "2022-07-21T18:33:01.489Z"
   },
   {
    "duration": 0,
    "start_time": "2022-07-21T18:33:01.490Z"
   },
   {
    "duration": 0,
    "start_time": "2022-07-21T18:33:01.492Z"
   },
   {
    "duration": 0,
    "start_time": "2022-07-21T18:33:01.494Z"
   },
   {
    "duration": 7,
    "start_time": "2022-07-21T18:33:38.582Z"
   },
   {
    "duration": 18,
    "start_time": "2022-07-21T18:34:01.010Z"
   },
   {
    "duration": 31,
    "start_time": "2022-07-21T18:35:04.612Z"
   },
   {
    "duration": 83,
    "start_time": "2022-07-21T18:36:49.976Z"
   },
   {
    "duration": 31,
    "start_time": "2022-07-21T18:36:55.386Z"
   },
   {
    "duration": 81,
    "start_time": "2022-07-21T18:39:49.259Z"
   },
   {
    "duration": 56,
    "start_time": "2022-07-21T18:40:17.060Z"
   },
   {
    "duration": 65,
    "start_time": "2022-07-21T18:42:25.999Z"
   },
   {
    "duration": 95,
    "start_time": "2022-07-21T18:45:13.165Z"
   },
   {
    "duration": 207,
    "start_time": "2022-07-21T18:45:26.445Z"
   },
   {
    "duration": 83,
    "start_time": "2022-07-21T18:45:38.572Z"
   },
   {
    "duration": 7,
    "start_time": "2022-07-21T18:46:24.529Z"
   },
   {
    "duration": 120,
    "start_time": "2022-07-21T18:48:19.664Z"
   },
   {
    "duration": 123,
    "start_time": "2022-07-21T18:49:20.271Z"
   },
   {
    "duration": 1303,
    "start_time": "2022-07-21T18:50:30.757Z"
   },
   {
    "duration": 3,
    "start_time": "2022-07-21T18:50:32.063Z"
   },
   {
    "duration": 8,
    "start_time": "2022-07-21T18:50:32.068Z"
   },
   {
    "duration": 12,
    "start_time": "2022-07-21T18:50:32.078Z"
   },
   {
    "duration": 247,
    "start_time": "2022-07-21T18:50:32.092Z"
   },
   {
    "duration": 15,
    "start_time": "2022-07-21T18:50:32.341Z"
   },
   {
    "duration": 38,
    "start_time": "2022-07-21T18:50:32.358Z"
   },
   {
    "duration": 40,
    "start_time": "2022-07-21T18:50:32.398Z"
   },
   {
    "duration": 11,
    "start_time": "2022-07-21T18:50:32.440Z"
   },
   {
    "duration": 10,
    "start_time": "2022-07-21T18:50:32.463Z"
   },
   {
    "duration": 35,
    "start_time": "2022-07-21T18:50:32.475Z"
   },
   {
    "duration": 18,
    "start_time": "2022-07-21T18:50:32.512Z"
   },
   {
    "duration": 30,
    "start_time": "2022-07-21T18:50:32.532Z"
   },
   {
    "duration": 31,
    "start_time": "2022-07-21T18:50:32.564Z"
   },
   {
    "duration": 135,
    "start_time": "2022-07-21T18:50:32.597Z"
   },
   {
    "duration": 101,
    "start_time": "2022-07-21T18:50:32.734Z"
   },
   {
    "duration": 97,
    "start_time": "2022-07-21T18:50:32.837Z"
   },
   {
    "duration": 87,
    "start_time": "2022-07-21T18:50:32.935Z"
   },
   {
    "duration": 42,
    "start_time": "2022-07-21T18:50:33.024Z"
   },
   {
    "duration": 56,
    "start_time": "2022-07-21T18:50:33.068Z"
   },
   {
    "duration": 42,
    "start_time": "2022-07-21T18:50:33.126Z"
   },
   {
    "duration": 26,
    "start_time": "2022-07-21T18:50:33.169Z"
   },
   {
    "duration": 44,
    "start_time": "2022-07-21T18:50:33.196Z"
   },
   {
    "duration": 29,
    "start_time": "2022-07-21T18:50:33.241Z"
   },
   {
    "duration": 19,
    "start_time": "2022-07-21T18:50:33.272Z"
   },
   {
    "duration": 14,
    "start_time": "2022-07-21T18:50:33.293Z"
   },
   {
    "duration": 13,
    "start_time": "2022-07-21T18:50:33.309Z"
   },
   {
    "duration": 8,
    "start_time": "2022-07-21T18:50:33.327Z"
   },
   {
    "duration": 17,
    "start_time": "2022-07-21T18:50:33.337Z"
   },
   {
    "duration": 9,
    "start_time": "2022-07-21T18:50:33.356Z"
   },
   {
    "duration": 14,
    "start_time": "2022-07-21T18:50:33.367Z"
   },
   {
    "duration": 11,
    "start_time": "2022-07-21T18:50:33.384Z"
   },
   {
    "duration": 17,
    "start_time": "2022-07-21T18:50:33.397Z"
   },
   {
    "duration": 10,
    "start_time": "2022-07-21T18:50:33.416Z"
   },
   {
    "duration": 16,
    "start_time": "2022-07-21T18:50:33.429Z"
   },
   {
    "duration": 10,
    "start_time": "2022-07-21T18:50:33.461Z"
   },
   {
    "duration": 10,
    "start_time": "2022-07-21T18:50:33.473Z"
   },
   {
    "duration": 18,
    "start_time": "2022-07-21T18:50:33.485Z"
   },
   {
    "duration": 5,
    "start_time": "2022-07-21T18:50:33.505Z"
   },
   {
    "duration": 8,
    "start_time": "2022-07-21T18:50:33.512Z"
   },
   {
    "duration": 12,
    "start_time": "2022-07-21T18:50:33.523Z"
   },
   {
    "duration": 27,
    "start_time": "2022-07-21T18:50:33.561Z"
   },
   {
    "duration": 4,
    "start_time": "2022-07-21T18:50:33.590Z"
   },
   {
    "duration": 25,
    "start_time": "2022-07-21T18:50:33.596Z"
   },
   {
    "duration": 6,
    "start_time": "2022-07-21T18:50:33.623Z"
   },
   {
    "duration": 34,
    "start_time": "2022-07-21T18:50:33.630Z"
   },
   {
    "duration": 8,
    "start_time": "2022-07-21T18:50:33.666Z"
   },
   {
    "duration": 6,
    "start_time": "2022-07-21T18:50:33.676Z"
   },
   {
    "duration": 57,
    "start_time": "2022-07-21T18:50:33.684Z"
   },
   {
    "duration": 179,
    "start_time": "2022-07-21T18:50:33.761Z"
   },
   {
    "duration": 6,
    "start_time": "2022-07-21T18:50:33.942Z"
   },
   {
    "duration": 5,
    "start_time": "2022-07-21T18:50:33.962Z"
   },
   {
    "duration": 10,
    "start_time": "2022-07-21T18:50:33.969Z"
   },
   {
    "duration": 15,
    "start_time": "2022-07-21T18:50:33.981Z"
   },
   {
    "duration": 11,
    "start_time": "2022-07-21T18:50:33.998Z"
   },
   {
    "duration": 19,
    "start_time": "2022-07-21T18:50:34.011Z"
   },
   {
    "duration": 206,
    "start_time": "2022-07-21T18:50:34.032Z"
   },
   {
    "duration": 144,
    "start_time": "2022-07-21T18:50:34.240Z"
   },
   {
    "duration": 48,
    "start_time": "2022-07-21T18:50:34.386Z"
   },
   {
    "duration": 40,
    "start_time": "2022-07-21T18:50:34.435Z"
   },
   {
    "duration": 33,
    "start_time": "2022-07-21T18:50:34.477Z"
   },
   {
    "duration": 155,
    "start_time": "2022-07-21T18:50:34.513Z"
   },
   {
    "duration": 35,
    "start_time": "2022-07-21T18:50:34.670Z"
   },
   {
    "duration": 39,
    "start_time": "2022-07-21T18:50:34.707Z"
   },
   {
    "duration": 14,
    "start_time": "2022-07-21T18:50:34.748Z"
   },
   {
    "duration": 5,
    "start_time": "2022-07-21T18:50:34.764Z"
   },
   {
    "duration": 9,
    "start_time": "2022-07-21T18:50:34.771Z"
   },
   {
    "duration": 44,
    "start_time": "2022-07-21T18:50:34.781Z"
   },
   {
    "duration": 54,
    "start_time": "2022-07-21T18:50:34.826Z"
   },
   {
    "duration": 12,
    "start_time": "2022-07-21T18:50:34.882Z"
   },
   {
    "duration": 16,
    "start_time": "2022-07-21T18:50:34.896Z"
   },
   {
    "duration": 48,
    "start_time": "2022-07-21T18:50:34.913Z"
   },
   {
    "duration": 13,
    "start_time": "2022-07-21T18:50:34.962Z"
   },
   {
    "duration": 3,
    "start_time": "2022-07-21T18:50:34.977Z"
   },
   {
    "duration": 17,
    "start_time": "2022-07-21T18:50:34.982Z"
   },
   {
    "duration": 12,
    "start_time": "2022-07-21T18:50:35.000Z"
   },
   {
    "duration": 24,
    "start_time": "2022-07-21T18:50:35.014Z"
   },
   {
    "duration": 4,
    "start_time": "2022-07-21T18:50:35.040Z"
   },
   {
    "duration": 5,
    "start_time": "2022-07-21T18:50:35.061Z"
   },
   {
    "duration": 29,
    "start_time": "2022-07-21T18:50:35.067Z"
   },
   {
    "duration": 5,
    "start_time": "2022-07-21T18:50:35.097Z"
   },
   {
    "duration": 7,
    "start_time": "2022-07-21T18:50:35.109Z"
   },
   {
    "duration": 183,
    "start_time": "2022-07-21T18:50:35.118Z"
   },
   {
    "duration": 14,
    "start_time": "2022-07-21T18:50:35.302Z"
   },
   {
    "duration": 228,
    "start_time": "2022-07-21T18:50:35.318Z"
   },
   {
    "duration": 17,
    "start_time": "2022-07-21T18:50:35.548Z"
   },
   {
    "duration": 899,
    "start_time": "2022-07-21T18:50:35.567Z"
   },
   {
    "duration": 98,
    "start_time": "2022-07-21T18:50:36.468Z"
   },
   {
    "duration": 35,
    "start_time": "2022-07-21T18:50:36.568Z"
   },
   {
    "duration": 26,
    "start_time": "2022-07-21T18:50:36.605Z"
   },
   {
    "duration": 54,
    "start_time": "2022-07-21T18:50:36.633Z"
   },
   {
    "duration": 49,
    "start_time": "2022-07-21T18:50:36.689Z"
   },
   {
    "duration": 13,
    "start_time": "2022-07-21T18:50:36.760Z"
   },
   {
    "duration": 6,
    "start_time": "2022-07-21T18:50:36.775Z"
   },
   {
    "duration": 5,
    "start_time": "2022-07-21T18:50:36.783Z"
   },
   {
    "duration": 19,
    "start_time": "2022-07-21T18:50:36.790Z"
   },
   {
    "duration": 50,
    "start_time": "2022-07-21T18:50:36.811Z"
   },
   {
    "duration": 17,
    "start_time": "2022-07-21T18:50:36.862Z"
   },
   {
    "duration": 168,
    "start_time": "2022-07-21T18:50:36.881Z"
   },
   {
    "duration": 32,
    "start_time": "2022-07-21T18:50:37.051Z"
   },
   {
    "duration": 588,
    "start_time": "2022-07-21T18:50:37.085Z"
   },
   {
    "duration": 8,
    "start_time": "2022-07-21T18:50:37.675Z"
   },
   {
    "duration": 5,
    "start_time": "2022-07-21T18:50:37.684Z"
   },
   {
    "duration": 9,
    "start_time": "2022-07-21T18:50:37.690Z"
   },
   {
    "duration": 43,
    "start_time": "2022-07-21T18:50:37.701Z"
   },
   {
    "duration": 27,
    "start_time": "2022-07-21T18:50:37.746Z"
   },
   {
    "duration": 17,
    "start_time": "2022-07-21T18:50:37.775Z"
   },
   {
    "duration": 7,
    "start_time": "2022-07-21T18:50:37.794Z"
   },
   {
    "duration": 14,
    "start_time": "2022-07-21T18:50:37.803Z"
   },
   {
    "duration": 44,
    "start_time": "2022-07-21T18:50:37.819Z"
   },
   {
    "duration": 12,
    "start_time": "2022-07-21T18:50:37.865Z"
   },
   {
    "duration": 9,
    "start_time": "2022-07-21T18:50:37.879Z"
   },
   {
    "duration": 8,
    "start_time": "2022-07-21T18:50:37.890Z"
   },
   {
    "duration": 11,
    "start_time": "2022-07-21T18:50:37.900Z"
   },
   {
    "duration": 11,
    "start_time": "2022-07-21T18:50:37.913Z"
   },
   {
    "duration": 193,
    "start_time": "2022-07-21T18:50:37.925Z"
   },
   {
    "duration": 10,
    "start_time": "2022-07-21T18:50:38.120Z"
   },
   {
    "duration": 228,
    "start_time": "2022-07-21T18:50:38.132Z"
   },
   {
    "duration": 10,
    "start_time": "2022-07-21T18:50:38.362Z"
   },
   {
    "duration": 188,
    "start_time": "2022-07-21T18:50:38.374Z"
   },
   {
    "duration": 3,
    "start_time": "2022-07-21T18:50:38.564Z"
   },
   {
    "duration": 6,
    "start_time": "2022-07-21T18:50:38.569Z"
   },
   {
    "duration": 6,
    "start_time": "2022-07-21T18:50:38.577Z"
   },
   {
    "duration": 7,
    "start_time": "2022-07-21T18:50:38.585Z"
   },
   {
    "duration": 4,
    "start_time": "2022-07-21T18:50:38.594Z"
   },
   {
    "duration": 6,
    "start_time": "2022-07-21T18:50:38.600Z"
   },
   {
    "duration": 9,
    "start_time": "2022-07-21T18:50:38.608Z"
   },
   {
    "duration": 26,
    "start_time": "2022-07-21T18:50:38.619Z"
   },
   {
    "duration": 9,
    "start_time": "2022-07-21T18:50:38.661Z"
   },
   {
    "duration": 10,
    "start_time": "2022-07-21T18:50:38.672Z"
   },
   {
    "duration": 11,
    "start_time": "2022-07-21T18:50:38.683Z"
   },
   {
    "duration": 190,
    "start_time": "2022-07-21T18:50:38.696Z"
   },
   {
    "duration": 7,
    "start_time": "2022-07-21T18:50:38.888Z"
   },
   {
    "duration": 12,
    "start_time": "2022-07-21T18:50:38.897Z"
   },
   {
    "duration": 70,
    "start_time": "2022-07-21T18:50:38.911Z"
   },
   {
    "duration": 52,
    "start_time": "2022-07-21T18:50:38.983Z"
   },
   {
    "duration": 60,
    "start_time": "2022-07-21T18:50:39.036Z"
   },
   {
    "duration": 16,
    "start_time": "2022-07-21T18:50:39.098Z"
   },
   {
    "duration": 57,
    "start_time": "2022-07-21T18:50:39.116Z"
   },
   {
    "duration": 16,
    "start_time": "2022-07-21T18:50:39.175Z"
   },
   {
    "duration": 13,
    "start_time": "2022-07-21T18:50:39.193Z"
   },
   {
    "duration": 5,
    "start_time": "2022-07-21T18:50:39.208Z"
   },
   {
    "duration": 156,
    "start_time": "2022-07-21T18:50:39.215Z"
   },
   {
    "duration": 12,
    "start_time": "2022-07-21T18:50:39.373Z"
   },
   {
    "duration": 13,
    "start_time": "2022-07-21T18:50:39.386Z"
   },
   {
    "duration": 10,
    "start_time": "2022-07-21T18:50:39.400Z"
   },
   {
    "duration": 67,
    "start_time": "2022-07-21T18:50:39.412Z"
   },
   {
    "duration": 7,
    "start_time": "2022-07-21T18:50:39.480Z"
   },
   {
    "duration": 300,
    "start_time": "2022-07-21T18:50:39.489Z"
   },
   {
    "duration": 16,
    "start_time": "2022-07-21T18:50:39.791Z"
   },
   {
    "duration": 4,
    "start_time": "2022-07-21T18:50:39.809Z"
   },
   {
    "duration": 260,
    "start_time": "2022-07-21T18:50:39.815Z"
   },
   {
    "duration": 9,
    "start_time": "2022-07-21T18:50:40.076Z"
   },
   {
    "duration": 26,
    "start_time": "2022-07-21T18:50:40.086Z"
   },
   {
    "duration": 5,
    "start_time": "2022-07-21T18:50:40.114Z"
   },
   {
    "duration": 266,
    "start_time": "2022-07-21T18:50:40.120Z"
   },
   {
    "duration": 10,
    "start_time": "2022-07-21T18:50:40.388Z"
   },
   {
    "duration": 155,
    "start_time": "2022-07-21T18:50:40.399Z"
   },
   {
    "duration": 127,
    "start_time": "2022-07-21T18:50:40.556Z"
   },
   {
    "duration": 15,
    "start_time": "2022-07-21T18:50:40.685Z"
   },
   {
    "duration": 18,
    "start_time": "2022-07-21T18:50:40.702Z"
   },
   {
    "duration": 12,
    "start_time": "2022-07-21T18:50:40.721Z"
   },
   {
    "duration": 12,
    "start_time": "2022-07-21T18:50:40.734Z"
   },
   {
    "duration": 134,
    "start_time": "2022-07-21T18:50:40.748Z"
   },
   {
    "duration": 5,
    "start_time": "2022-07-21T18:50:40.883Z"
   },
   {
    "duration": 139,
    "start_time": "2022-07-21T18:50:40.890Z"
   },
   {
    "duration": 8,
    "start_time": "2022-07-21T18:50:41.031Z"
   },
   {
    "duration": 6,
    "start_time": "2022-07-21T18:50:41.042Z"
   },
   {
    "duration": 13,
    "start_time": "2022-07-21T18:50:41.050Z"
   },
   {
    "duration": 6,
    "start_time": "2022-07-21T18:50:41.065Z"
   },
   {
    "duration": 7,
    "start_time": "2022-07-21T18:50:41.073Z"
   },
   {
    "duration": 14,
    "start_time": "2022-07-21T18:50:41.081Z"
   },
   {
    "duration": 5,
    "start_time": "2022-07-21T18:50:41.096Z"
   },
   {
    "duration": 18,
    "start_time": "2022-07-21T18:50:41.103Z"
   },
   {
    "duration": 6,
    "start_time": "2022-07-21T18:50:41.123Z"
   },
   {
    "duration": 188,
    "start_time": "2022-07-21T18:50:41.131Z"
   }
  ],
  "kernelspec": {
   "display_name": "Python 3 (ipykernel)",
   "language": "python",
   "name": "python3"
  },
  "language_info": {
   "codemirror_mode": {
    "name": "ipython",
    "version": 3
   },
   "file_extension": ".py",
   "mimetype": "text/x-python",
   "name": "python",
   "nbconvert_exporter": "python",
   "pygments_lexer": "ipython3",
   "version": "3.9.7"
  },
  "toc": {
   "base_numbering": 1,
   "nav_menu": {},
   "number_sections": true,
   "sideBar": true,
   "skip_h1_title": true,
   "title_cell": "Table of Contents",
   "title_sidebar": "Contents",
   "toc_cell": true,
   "toc_position": {
    "height": "calc(100% - 180px)",
    "left": "10px",
    "top": "150px",
    "width": "320px"
   },
   "toc_section_display": true,
   "toc_window_display": true
  },
  "toc-autonumbering": true,
  "toc-showcode": false,
  "toc-showmarkdowntxt": false,
  "toc-showtags": false
 },
 "nbformat": 4,
 "nbformat_minor": 5
}
