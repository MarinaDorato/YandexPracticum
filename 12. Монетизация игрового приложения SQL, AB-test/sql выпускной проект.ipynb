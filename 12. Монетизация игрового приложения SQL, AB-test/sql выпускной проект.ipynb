{
 "cells": [
  {
   "cell_type": "markdown",
   "id": "ca33e81c-ab6e-4dde-814c-5fb91fca2dbc",
   "metadata": {},
   "source": [
    "⚪\n",
    "SQL"
   ]
  },
  {
   "cell_type": "markdown",
   "id": "31c3dfc7-c9c0-494c-a83d-7d6b52ccf7f4",
   "metadata": {},
   "source": [
    "# Сервис для чтения книг по подписке"
   ]
  },
  {
   "cell_type": "markdown",
   "id": "8b8c4df0-26c6-4ce0-b206-080cf9238283",
   "metadata": {},
   "source": [
    "# Задания\n",
    "\n",
    "Посчитайте, сколько книг вышло после 1 января 2000 года.\n",
    "\n",
    "Для каждой книги посчитайте количество обзоров и среднюю оценку.\n",
    "\n",
    "Определите издательство, которое выпустило наибольшее число книг толще 50 страниц — так вы исключите из анализа брошюры.\n",
    "\n",
    "Определите автора с самой высокой средней оценкой книг — учитывайте только книги с 50 и более оценками.\n",
    "\n",
    "Посчитайте среднее количество обзоров от пользователей, которые поставили больше 50 оценок.\n"
   ]
  },
  {
   "cell_type": "markdown",
   "id": "b1e7a51d-01f2-4207-a19b-7bd4e468775a",
   "metadata": {},
   "source": [
    "# Импорт библиотек и чтение таблиц"
   ]
  },
  {
   "cell_type": "code",
   "execution_count": 1,
   "id": "397b0c1c-7466-442d-b5c1-db991f916b2e",
   "metadata": {},
   "outputs": [],
   "source": [
    "#!/usr/bin/python\n",
    "# -*- coding: utf-8 -*-\n",
    "import pandas as pd\n",
    "from sqlalchemy import create_engine\n",
    "import psycopg2"
   ]
  },
  {
   "cell_type": "code",
   "execution_count": 2,
   "id": "78cb2c04-2c5a-4b3f-94af-1156993c29d4",
   "metadata": {},
   "outputs": [],
   "source": [
    "# устанавливаем параметры\n",
    "db_config = {'user': 'praktikum_student', # имя пользователя\n",
    "             'pwd': 'Sdf4$2;d-d30pp', # пароль\n",
    "             'host': 'rc1b-wcoijxj3yxfsf3fs.mdb.yandexcloud.net',\n",
    "             'port': 6432, # порт подключения\n",
    "             'db': 'data-analyst-final-project-db'} # название базы данных\n",
    "\n",
    "connection_string = 'postgresql://{}:{}@{}:{}/{}'.format(db_config['user'],\n",
    "                                                         db_config['pwd'],\n",
    "                                                         db_config['host'],\n",
    "                                                         db_config['port'],\n",
    "                                                         db_config['db'])\n",
    "\n",
    "# сохраняем коннектор\n",
    "engine = create_engine(connection_string, connect_args={'sslmode':'require'}) "
   ]
  },
  {
   "cell_type": "code",
   "execution_count": 3,
   "id": "49ce8887-9b54-4eb6-864c-0feff41decf9",
   "metadata": {},
   "outputs": [
    {
     "data": {
      "text/html": [
       "<div>\n",
       "<style scoped>\n",
       "    .dataframe tbody tr th:only-of-type {\n",
       "        vertical-align: middle;\n",
       "    }\n",
       "\n",
       "    .dataframe tbody tr th {\n",
       "        vertical-align: top;\n",
       "    }\n",
       "\n",
       "    .dataframe thead th {\n",
       "        text-align: right;\n",
       "    }\n",
       "</style>\n",
       "<table border=\"1\" class=\"dataframe\">\n",
       "  <thead>\n",
       "    <tr style=\"text-align: right;\">\n",
       "      <th></th>\n",
       "      <th>book_id</th>\n",
       "      <th>author_id</th>\n",
       "      <th>title</th>\n",
       "      <th>num_pages</th>\n",
       "      <th>publication_date</th>\n",
       "      <th>publisher_id</th>\n",
       "    </tr>\n",
       "  </thead>\n",
       "  <tbody>\n",
       "    <tr>\n",
       "      <th>0</th>\n",
       "      <td>1</td>\n",
       "      <td>546</td>\n",
       "      <td>'Salem's Lot</td>\n",
       "      <td>594</td>\n",
       "      <td>2005-11-01</td>\n",
       "      <td>93</td>\n",
       "    </tr>\n",
       "    <tr>\n",
       "      <th>1</th>\n",
       "      <td>2</td>\n",
       "      <td>465</td>\n",
       "      <td>1 000 Places to See Before You Die</td>\n",
       "      <td>992</td>\n",
       "      <td>2003-05-22</td>\n",
       "      <td>336</td>\n",
       "    </tr>\n",
       "    <tr>\n",
       "      <th>2</th>\n",
       "      <td>3</td>\n",
       "      <td>407</td>\n",
       "      <td>13 Little Blue Envelopes (Little Blue Envelope...</td>\n",
       "      <td>322</td>\n",
       "      <td>2010-12-21</td>\n",
       "      <td>135</td>\n",
       "    </tr>\n",
       "    <tr>\n",
       "      <th>3</th>\n",
       "      <td>4</td>\n",
       "      <td>82</td>\n",
       "      <td>1491: New Revelations of the Americas Before C...</td>\n",
       "      <td>541</td>\n",
       "      <td>2006-10-10</td>\n",
       "      <td>309</td>\n",
       "    </tr>\n",
       "    <tr>\n",
       "      <th>4</th>\n",
       "      <td>5</td>\n",
       "      <td>125</td>\n",
       "      <td>1776</td>\n",
       "      <td>386</td>\n",
       "      <td>2006-07-04</td>\n",
       "      <td>268</td>\n",
       "    </tr>\n",
       "  </tbody>\n",
       "</table>\n",
       "</div>"
      ],
      "text/plain": [
       "   book_id  author_id                                              title  \\\n",
       "0        1        546                                       'Salem's Lot   \n",
       "1        2        465                 1 000 Places to See Before You Die   \n",
       "2        3        407  13 Little Blue Envelopes (Little Blue Envelope...   \n",
       "3        4         82  1491: New Revelations of the Americas Before C...   \n",
       "4        5        125                                               1776   \n",
       "\n",
       "   num_pages publication_date  publisher_id  \n",
       "0        594       2005-11-01            93  \n",
       "1        992       2003-05-22           336  \n",
       "2        322       2010-12-21           135  \n",
       "3        541       2006-10-10           309  \n",
       "4        386       2006-07-04           268  "
      ]
     },
     "execution_count": 3,
     "metadata": {},
     "output_type": "execute_result"
    }
   ],
   "source": [
    "# Чтение таблиц из базы данных\n",
    "books = ''' SELECT *\n",
    "            FROM books\n",
    "            LIMIT 5;\n",
    "        '''\n",
    "pd.io.sql.read_sql(books, con = engine) "
   ]
  },
  {
   "cell_type": "markdown",
   "id": "7b1689e7-9c14-4ec3-9173-5b751b4b0477",
   "metadata": {},
   "source": [
    "Таблица **books**  содержит данные о книгах:\n",
    "\n",
    "book_id — идентификатор книги;\n",
    "\n",
    "author_id — идентификатор автора;\n",
    "\n",
    "title — название книги;\n",
    "\n",
    "num_pages — количество страниц;\n",
    "\n",
    "publication_date — дата публикации книги;\n",
    "\n",
    "publisher_id — идентификатор издателя."
   ]
  },
  {
   "cell_type": "code",
   "execution_count": 4,
   "id": "065c381a-5083-4b50-a4eb-a51b9d7a65cf",
   "metadata": {},
   "outputs": [
    {
     "data": {
      "text/html": [
       "<div>\n",
       "<style scoped>\n",
       "    .dataframe tbody tr th:only-of-type {\n",
       "        vertical-align: middle;\n",
       "    }\n",
       "\n",
       "    .dataframe tbody tr th {\n",
       "        vertical-align: top;\n",
       "    }\n",
       "\n",
       "    .dataframe thead th {\n",
       "        text-align: right;\n",
       "    }\n",
       "</style>\n",
       "<table border=\"1\" class=\"dataframe\">\n",
       "  <thead>\n",
       "    <tr style=\"text-align: right;\">\n",
       "      <th></th>\n",
       "      <th>author_id</th>\n",
       "      <th>author</th>\n",
       "    </tr>\n",
       "  </thead>\n",
       "  <tbody>\n",
       "    <tr>\n",
       "      <th>0</th>\n",
       "      <td>1</td>\n",
       "      <td>A.S. Byatt</td>\n",
       "    </tr>\n",
       "    <tr>\n",
       "      <th>1</th>\n",
       "      <td>2</td>\n",
       "      <td>Aesop/Laura Harris/Laura Gibbs</td>\n",
       "    </tr>\n",
       "    <tr>\n",
       "      <th>2</th>\n",
       "      <td>3</td>\n",
       "      <td>Agatha Christie</td>\n",
       "    </tr>\n",
       "    <tr>\n",
       "      <th>3</th>\n",
       "      <td>4</td>\n",
       "      <td>Alan Brennert</td>\n",
       "    </tr>\n",
       "    <tr>\n",
       "      <th>4</th>\n",
       "      <td>5</td>\n",
       "      <td>Alan Moore/David   Lloyd</td>\n",
       "    </tr>\n",
       "  </tbody>\n",
       "</table>\n",
       "</div>"
      ],
      "text/plain": [
       "   author_id                          author\n",
       "0          1                      A.S. Byatt\n",
       "1          2  Aesop/Laura Harris/Laura Gibbs\n",
       "2          3                 Agatha Christie\n",
       "3          4                   Alan Brennert\n",
       "4          5        Alan Moore/David   Lloyd"
      ]
     },
     "execution_count": 4,
     "metadata": {},
     "output_type": "execute_result"
    }
   ],
   "source": [
    "authors = ''' SELECT *\n",
    "            FROM authors\n",
    "            LIMIT 5;\n",
    "        '''\n",
    "pd.io.sql.read_sql(authors, con = engine) "
   ]
  },
  {
   "cell_type": "markdown",
   "id": "ede628b3-2687-44d1-8aca-bc08146d2d74",
   "metadata": {},
   "source": [
    "Таблица **authors** содержит данные об авторах:\n",
    "\n",
    "author_id — идентификатор автора;\n",
    "\n",
    "author — имя автора."
   ]
  },
  {
   "cell_type": "code",
   "execution_count": 5,
   "id": "1b1a7ba4-4d68-4557-822c-4c14412f20f0",
   "metadata": {},
   "outputs": [
    {
     "data": {
      "text/html": [
       "<div>\n",
       "<style scoped>\n",
       "    .dataframe tbody tr th:only-of-type {\n",
       "        vertical-align: middle;\n",
       "    }\n",
       "\n",
       "    .dataframe tbody tr th {\n",
       "        vertical-align: top;\n",
       "    }\n",
       "\n",
       "    .dataframe thead th {\n",
       "        text-align: right;\n",
       "    }\n",
       "</style>\n",
       "<table border=\"1\" class=\"dataframe\">\n",
       "  <thead>\n",
       "    <tr style=\"text-align: right;\">\n",
       "      <th></th>\n",
       "      <th>rating_id</th>\n",
       "      <th>book_id</th>\n",
       "      <th>username</th>\n",
       "      <th>rating</th>\n",
       "    </tr>\n",
       "  </thead>\n",
       "  <tbody>\n",
       "    <tr>\n",
       "      <th>0</th>\n",
       "      <td>1</td>\n",
       "      <td>1</td>\n",
       "      <td>ryanfranco</td>\n",
       "      <td>4</td>\n",
       "    </tr>\n",
       "    <tr>\n",
       "      <th>1</th>\n",
       "      <td>2</td>\n",
       "      <td>1</td>\n",
       "      <td>grantpatricia</td>\n",
       "      <td>2</td>\n",
       "    </tr>\n",
       "    <tr>\n",
       "      <th>2</th>\n",
       "      <td>3</td>\n",
       "      <td>1</td>\n",
       "      <td>brandtandrea</td>\n",
       "      <td>5</td>\n",
       "    </tr>\n",
       "    <tr>\n",
       "      <th>3</th>\n",
       "      <td>4</td>\n",
       "      <td>2</td>\n",
       "      <td>lorichen</td>\n",
       "      <td>3</td>\n",
       "    </tr>\n",
       "    <tr>\n",
       "      <th>4</th>\n",
       "      <td>5</td>\n",
       "      <td>2</td>\n",
       "      <td>mariokeller</td>\n",
       "      <td>2</td>\n",
       "    </tr>\n",
       "  </tbody>\n",
       "</table>\n",
       "</div>"
      ],
      "text/plain": [
       "   rating_id  book_id       username  rating\n",
       "0          1        1     ryanfranco       4\n",
       "1          2        1  grantpatricia       2\n",
       "2          3        1   brandtandrea       5\n",
       "3          4        2       lorichen       3\n",
       "4          5        2    mariokeller       2"
      ]
     },
     "execution_count": 5,
     "metadata": {},
     "output_type": "execute_result"
    }
   ],
   "source": [
    "ratings = ''' SELECT *\n",
    "            FROM ratings\n",
    "            LIMIT 5;\n",
    "        '''\n",
    "pd.io.sql.read_sql(ratings, con = engine) "
   ]
  },
  {
   "cell_type": "markdown",
   "id": "41c2234e-ccf0-46fa-a2f6-917255ce5f6c",
   "metadata": {},
   "source": [
    "Таблица **ratings** содержит данные о пользовательских оценках книг:\n",
    "\n",
    "rating_id — идентификатор оценки;\n",
    "\n",
    "book_id — идентификатор книги;\n",
    "\n",
    "username — имя пользователя, оставившего оценку;\n",
    "\n",
    "rating — оценка книги."
   ]
  },
  {
   "cell_type": "code",
   "execution_count": 6,
   "id": "12cfa3a0-3d3e-46a9-acb7-6e15c510fb24",
   "metadata": {},
   "outputs": [
    {
     "data": {
      "text/html": [
       "<div>\n",
       "<style scoped>\n",
       "    .dataframe tbody tr th:only-of-type {\n",
       "        vertical-align: middle;\n",
       "    }\n",
       "\n",
       "    .dataframe tbody tr th {\n",
       "        vertical-align: top;\n",
       "    }\n",
       "\n",
       "    .dataframe thead th {\n",
       "        text-align: right;\n",
       "    }\n",
       "</style>\n",
       "<table border=\"1\" class=\"dataframe\">\n",
       "  <thead>\n",
       "    <tr style=\"text-align: right;\">\n",
       "      <th></th>\n",
       "      <th>review_id</th>\n",
       "      <th>book_id</th>\n",
       "      <th>username</th>\n",
       "      <th>text</th>\n",
       "    </tr>\n",
       "  </thead>\n",
       "  <tbody>\n",
       "    <tr>\n",
       "      <th>0</th>\n",
       "      <td>1</td>\n",
       "      <td>1</td>\n",
       "      <td>brandtandrea</td>\n",
       "      <td>Mention society tell send professor analysis. ...</td>\n",
       "    </tr>\n",
       "    <tr>\n",
       "      <th>1</th>\n",
       "      <td>2</td>\n",
       "      <td>1</td>\n",
       "      <td>ryanfranco</td>\n",
       "      <td>Foot glass pretty audience hit themselves. Amo...</td>\n",
       "    </tr>\n",
       "    <tr>\n",
       "      <th>2</th>\n",
       "      <td>3</td>\n",
       "      <td>2</td>\n",
       "      <td>lorichen</td>\n",
       "      <td>Listen treat keep worry. Miss husband tax but ...</td>\n",
       "    </tr>\n",
       "    <tr>\n",
       "      <th>3</th>\n",
       "      <td>4</td>\n",
       "      <td>3</td>\n",
       "      <td>johnsonamanda</td>\n",
       "      <td>Finally month interesting blue could nature cu...</td>\n",
       "    </tr>\n",
       "    <tr>\n",
       "      <th>4</th>\n",
       "      <td>5</td>\n",
       "      <td>3</td>\n",
       "      <td>scotttamara</td>\n",
       "      <td>Nation purpose heavy give wait song will. List...</td>\n",
       "    </tr>\n",
       "  </tbody>\n",
       "</table>\n",
       "</div>"
      ],
      "text/plain": [
       "   review_id  book_id       username  \\\n",
       "0          1        1   brandtandrea   \n",
       "1          2        1     ryanfranco   \n",
       "2          3        2       lorichen   \n",
       "3          4        3  johnsonamanda   \n",
       "4          5        3    scotttamara   \n",
       "\n",
       "                                                text  \n",
       "0  Mention society tell send professor analysis. ...  \n",
       "1  Foot glass pretty audience hit themselves. Amo...  \n",
       "2  Listen treat keep worry. Miss husband tax but ...  \n",
       "3  Finally month interesting blue could nature cu...  \n",
       "4  Nation purpose heavy give wait song will. List...  "
      ]
     },
     "execution_count": 6,
     "metadata": {},
     "output_type": "execute_result"
    }
   ],
   "source": [
    "reviews = ''' SELECT *\n",
    "            FROM reviews\n",
    "            LIMIT 5;\n",
    "        '''\n",
    "pd.io.sql.read_sql(reviews, con = engine) "
   ]
  },
  {
   "cell_type": "markdown",
   "id": "c7f6b570-deff-49b8-990a-7338a555ab19",
   "metadata": {},
   "source": [
    "Таблица **reviews** содержит данные о пользовательских обзорах на книги:\n",
    "\n",
    "review_id — идентификатор обзора;\n",
    "\n",
    "book_id — идентификатор книги;\n",
    "\n",
    "username — имя пользователя, написавшего обзор;\n",
    "\n",
    "text — текст обзора."
   ]
  },
  {
   "cell_type": "markdown",
   "id": "c4ccde3e-9ebe-4f13-a79b-6318dbd8611c",
   "metadata": {},
   "source": [
    "# Запросы"
   ]
  },
  {
   "cell_type": "markdown",
   "id": "c009be09-925e-4838-9fa9-7894e627fdc1",
   "metadata": {},
   "source": [
    "## 1. Посчитайте, сколько книг вышло после 1 января 2000 года."
   ]
  },
  {
   "cell_type": "code",
   "execution_count": 7,
   "id": "6fafd4af-9b5f-446a-9dda-d7f772cc2205",
   "metadata": {},
   "outputs": [
    {
     "data": {
      "text/html": [
       "<div>\n",
       "<style scoped>\n",
       "    .dataframe tbody tr th:only-of-type {\n",
       "        vertical-align: middle;\n",
       "    }\n",
       "\n",
       "    .dataframe tbody tr th {\n",
       "        vertical-align: top;\n",
       "    }\n",
       "\n",
       "    .dataframe thead th {\n",
       "        text-align: right;\n",
       "    }\n",
       "</style>\n",
       "<table border=\"1\" class=\"dataframe\">\n",
       "  <thead>\n",
       "    <tr style=\"text-align: right;\">\n",
       "      <th></th>\n",
       "      <th>count</th>\n",
       "    </tr>\n",
       "  </thead>\n",
       "  <tbody>\n",
       "    <tr>\n",
       "      <th>0</th>\n",
       "      <td>819</td>\n",
       "    </tr>\n",
       "  </tbody>\n",
       "</table>\n",
       "</div>"
      ],
      "text/plain": [
       "   count\n",
       "0    819"
      ]
     },
     "execution_count": 7,
     "metadata": {},
     "output_type": "execute_result"
    }
   ],
   "source": [
    "b_2000 = ''' SELECT COUNT(book_id)\n",
    "    FROM books\n",
    "    WHERE publication_date > '2000-01-01';\n",
    "'''\n",
    "\n",
    "pd.io.sql.read_sql(b_2000, con = engine) "
   ]
  },
  {
   "cell_type": "markdown",
   "id": "012bd3d1-811c-48b0-aab1-4b486edf1995",
   "metadata": {},
   "source": [
    "После 1 января 2000 года выпущено 819 книг."
   ]
  },
  {
   "cell_type": "markdown",
   "id": "1056d184-0f49-4fc0-b7f1-e648c36fd74f",
   "metadata": {},
   "source": [
    "## 2. Для каждой книги посчитайте количество обзоров и среднюю оценку."
   ]
  },
  {
   "cell_type": "code",
   "execution_count": 8,
   "id": "c6f8affe-f1e4-4347-a2f2-aaff82abc823",
   "metadata": {},
   "outputs": [
    {
     "data": {
      "text/html": [
       "<div>\n",
       "<style scoped>\n",
       "    .dataframe tbody tr th:only-of-type {\n",
       "        vertical-align: middle;\n",
       "    }\n",
       "\n",
       "    .dataframe tbody tr th {\n",
       "        vertical-align: top;\n",
       "    }\n",
       "\n",
       "    .dataframe thead th {\n",
       "        text-align: right;\n",
       "    }\n",
       "</style>\n",
       "<table border=\"1\" class=\"dataframe\">\n",
       "  <thead>\n",
       "    <tr style=\"text-align: right;\">\n",
       "      <th></th>\n",
       "      <th>book_id</th>\n",
       "      <th>count_of_reviews</th>\n",
       "      <th>mean_rating</th>\n",
       "    </tr>\n",
       "  </thead>\n",
       "  <tbody>\n",
       "    <tr>\n",
       "      <th>0</th>\n",
       "      <td>948</td>\n",
       "      <td>7</td>\n",
       "      <td>3.662500</td>\n",
       "    </tr>\n",
       "    <tr>\n",
       "      <th>1</th>\n",
       "      <td>750</td>\n",
       "      <td>6</td>\n",
       "      <td>4.125000</td>\n",
       "    </tr>\n",
       "    <tr>\n",
       "      <th>2</th>\n",
       "      <td>695</td>\n",
       "      <td>6</td>\n",
       "      <td>4.081081</td>\n",
       "    </tr>\n",
       "    <tr>\n",
       "      <th>3</th>\n",
       "      <td>963</td>\n",
       "      <td>6</td>\n",
       "      <td>3.977273</td>\n",
       "    </tr>\n",
       "    <tr>\n",
       "      <th>4</th>\n",
       "      <td>696</td>\n",
       "      <td>6</td>\n",
       "      <td>3.830508</td>\n",
       "    </tr>\n",
       "  </tbody>\n",
       "</table>\n",
       "</div>"
      ],
      "text/plain": [
       "   book_id  count_of_reviews  mean_rating\n",
       "0      948                 7     3.662500\n",
       "1      750                 6     4.125000\n",
       "2      695                 6     4.081081\n",
       "3      963                 6     3.977273\n",
       "4      696                 6     3.830508"
      ]
     },
     "execution_count": 8,
     "metadata": {},
     "output_type": "execute_result"
    }
   ],
   "source": [
    "mean_rating = '''SELECT ratings.book_id AS book_id,\n",
    "        COUNT(reviews.text) AS count_of_reviews,\n",
    "        AVG(ratings.rating) AS mean_rating\n",
    "        FROM ratings LEFT JOIN reviews ON (reviews.book_id = ratings.book_id\n",
    "            AND reviews.username = ratings.username)\n",
    "        GROUP BY ratings.book_id\n",
    "        ORDER BY count_of_reviews DESC\n",
    "        LIMIT 5;    \n",
    "'''\n",
    "pd.io.sql.read_sql(mean_rating, con = engine)"
   ]
  },
  {
   "cell_type": "markdown",
   "id": "68bd5641-a2ac-4351-9410-be9f8390cd50",
   "metadata": {},
   "source": [
    "Максимальное количество обзоров для книги - 7."
   ]
  },
  {
   "cell_type": "markdown",
   "id": "0d97fbf8-c993-4ea9-80d6-d35563a95ee3",
   "metadata": {},
   "source": [
    "## 3. Определите издательство, которое выпустило наибольшее число книг толще 50 страниц — так вы исключите из анализа брошюры."
   ]
  },
  {
   "cell_type": "code",
   "execution_count": 9,
   "id": "5bde1965-e46a-46f4-812b-06370439c594",
   "metadata": {},
   "outputs": [
    {
     "data": {
      "text/html": [
       "<div>\n",
       "<style scoped>\n",
       "    .dataframe tbody tr th:only-of-type {\n",
       "        vertical-align: middle;\n",
       "    }\n",
       "\n",
       "    .dataframe tbody tr th {\n",
       "        vertical-align: top;\n",
       "    }\n",
       "\n",
       "    .dataframe thead th {\n",
       "        text-align: right;\n",
       "    }\n",
       "</style>\n",
       "<table border=\"1\" class=\"dataframe\">\n",
       "  <thead>\n",
       "    <tr style=\"text-align: right;\">\n",
       "      <th></th>\n",
       "      <th>publisher_id</th>\n",
       "      <th>publisher</th>\n",
       "      <th>count_of_books</th>\n",
       "    </tr>\n",
       "  </thead>\n",
       "  <tbody>\n",
       "    <tr>\n",
       "      <th>0</th>\n",
       "      <td>212</td>\n",
       "      <td>Penguin Books</td>\n",
       "      <td>42</td>\n",
       "    </tr>\n",
       "    <tr>\n",
       "      <th>1</th>\n",
       "      <td>309</td>\n",
       "      <td>Vintage</td>\n",
       "      <td>31</td>\n",
       "    </tr>\n",
       "    <tr>\n",
       "      <th>2</th>\n",
       "      <td>116</td>\n",
       "      <td>Grand Central Publishing</td>\n",
       "      <td>25</td>\n",
       "    </tr>\n",
       "    <tr>\n",
       "      <th>3</th>\n",
       "      <td>217</td>\n",
       "      <td>Penguin Classics</td>\n",
       "      <td>24</td>\n",
       "    </tr>\n",
       "    <tr>\n",
       "      <th>4</th>\n",
       "      <td>35</td>\n",
       "      <td>Bantam</td>\n",
       "      <td>19</td>\n",
       "    </tr>\n",
       "    <tr>\n",
       "      <th>5</th>\n",
       "      <td>33</td>\n",
       "      <td>Ballantine Books</td>\n",
       "      <td>19</td>\n",
       "    </tr>\n",
       "    <tr>\n",
       "      <th>6</th>\n",
       "      <td>45</td>\n",
       "      <td>Berkley</td>\n",
       "      <td>17</td>\n",
       "    </tr>\n",
       "    <tr>\n",
       "      <th>7</th>\n",
       "      <td>46</td>\n",
       "      <td>Berkley Books</td>\n",
       "      <td>14</td>\n",
       "    </tr>\n",
       "    <tr>\n",
       "      <th>8</th>\n",
       "      <td>284</td>\n",
       "      <td>St. Martin's Press</td>\n",
       "      <td>14</td>\n",
       "    </tr>\n",
       "    <tr>\n",
       "      <th>9</th>\n",
       "      <td>83</td>\n",
       "      <td>Delta</td>\n",
       "      <td>13</td>\n",
       "    </tr>\n",
       "  </tbody>\n",
       "</table>\n",
       "</div>"
      ],
      "text/plain": [
       "   publisher_id                 publisher  count_of_books\n",
       "0           212             Penguin Books              42\n",
       "1           309                   Vintage              31\n",
       "2           116  Grand Central Publishing              25\n",
       "3           217          Penguin Classics              24\n",
       "4            35                    Bantam              19\n",
       "5            33          Ballantine Books              19\n",
       "6            45                   Berkley              17\n",
       "7            46             Berkley Books              14\n",
       "8           284        St. Martin's Press              14\n",
       "9            83                     Delta              13"
      ]
     },
     "execution_count": 9,
     "metadata": {},
     "output_type": "execute_result"
    }
   ],
   "source": [
    "publishing_house = ''' SELECT M.publisher_id, M.publisher, M.count_of_books\n",
    "    FROM (SELECT books.publisher_id AS publisher_id,\n",
    "        COUNT(books.book_id) AS count_of_books,\n",
    "        publishers.publisher AS publisher \n",
    "    FROM books LEFT JOIN publishers ON books.publisher_id=publishers.publisher_id\n",
    "    WHERE num_pages>50\n",
    "    GROUP BY books.publisher_id, publishers.publisher\n",
    "    ORDER BY count_of_books DESC) AS M\n",
    "    LIMIT 10; \n",
    "''' \n",
    "\n",
    "pd.io.sql.read_sql(publishing_house, con = engine)"
   ]
  },
  {
   "cell_type": "markdown",
   "id": "40543837-c807-47d2-baf1-6c6dfd6278a2",
   "metadata": {},
   "source": [
    "Издательство, выпустившее наибольшее число книг толще 50 страниц - Penguin Books"
   ]
  },
  {
   "cell_type": "markdown",
   "id": "7749d48d-d9a3-4de3-a6e3-3a0067413a32",
   "metadata": {},
   "source": [
    "## 4. Определите автора с самой высокой средней оценкой книг — учитывайте только книги с 50 и более оценками."
   ]
  },
  {
   "cell_type": "code",
   "execution_count": 10,
   "id": "2c4fac1d-2d3c-4a28-87a5-1a807a10a751",
   "metadata": {},
   "outputs": [
    {
     "data": {
      "text/html": [
       "<div>\n",
       "<style scoped>\n",
       "    .dataframe tbody tr th:only-of-type {\n",
       "        vertical-align: middle;\n",
       "    }\n",
       "\n",
       "    .dataframe tbody tr th {\n",
       "        vertical-align: top;\n",
       "    }\n",
       "\n",
       "    .dataframe thead th {\n",
       "        text-align: right;\n",
       "    }\n",
       "</style>\n",
       "<table border=\"1\" class=\"dataframe\">\n",
       "  <thead>\n",
       "    <tr style=\"text-align: right;\">\n",
       "      <th></th>\n",
       "      <th>author</th>\n",
       "      <th>mean_rating</th>\n",
       "    </tr>\n",
       "  </thead>\n",
       "  <tbody>\n",
       "    <tr>\n",
       "      <th>0</th>\n",
       "      <td>J.K. Rowling/Mary GrandPré</td>\n",
       "      <td>4.283844</td>\n",
       "    </tr>\n",
       "  </tbody>\n",
       "</table>\n",
       "</div>"
      ],
      "text/plain": [
       "                       author  mean_rating\n",
       "0  J.K. Rowling/Mary GrandPré     4.283844"
      ]
     },
     "execution_count": 10,
     "metadata": {},
     "output_type": "execute_result"
    }
   ],
   "source": [
    "best_author = '''SELECT author.author,\n",
    "    AVG(avg_rating) as mean_rating\n",
    "    FROM books book INNER JOIN \n",
    "    (SELECT book_id,\n",
    "        COUNT(rating_id) as ratings_count,\n",
    "        AVG(rating) as avg_rating\n",
    "    FROM ratings\n",
    "    GROUP BY book_id \n",
    "    HAVING COUNT(rating_id) >= 50) AS b ON b.book_id = book.book_id \n",
    "    INNER JOIN authors author ON author.author_id = book.author_id\n",
    "    GROUP BY author.author_id, author.author\n",
    "    ORDER BY mean_rating DESC\n",
    "    LIMIT 1;\n",
    "'''\n",
    "pd.io.sql.read_sql(best_author , con = engine)\n"
   ]
  },
  {
   "cell_type": "markdown",
   "id": "5e6e5efe-1fe9-4d66-b20d-9649dd248912",
   "metadata": {},
   "source": [
    "## 5.Посчитайте среднее количество обзоров от пользователей, которые поставили больше 50 оценок."
   ]
  },
  {
   "cell_type": "code",
   "execution_count": 11,
   "id": "fcfdd535-798f-4884-90e6-38e232f15148",
   "metadata": {},
   "outputs": [
    {
     "data": {
      "text/html": [
       "<div>\n",
       "<style scoped>\n",
       "    .dataframe tbody tr th:only-of-type {\n",
       "        vertical-align: middle;\n",
       "    }\n",
       "\n",
       "    .dataframe tbody tr th {\n",
       "        vertical-align: top;\n",
       "    }\n",
       "\n",
       "    .dataframe thead th {\n",
       "        text-align: right;\n",
       "    }\n",
       "</style>\n",
       "<table border=\"1\" class=\"dataframe\">\n",
       "  <thead>\n",
       "    <tr style=\"text-align: right;\">\n",
       "      <th></th>\n",
       "      <th>round</th>\n",
       "    </tr>\n",
       "  </thead>\n",
       "  <tbody>\n",
       "    <tr>\n",
       "      <th>0</th>\n",
       "      <td>24.0</td>\n",
       "    </tr>\n",
       "  </tbody>\n",
       "</table>\n",
       "</div>"
      ],
      "text/plain": [
       "   round\n",
       "0   24.0"
      ]
     },
     "execution_count": 11,
     "metadata": {},
     "output_type": "execute_result"
    }
   ],
   "source": [
    "users_reviews = '''SELECT ROUND(AVG(n.count))\n",
    "FROM (SELECT sum.username, COUNT(sum.username)\n",
    "    FROM \n",
    "    (SELECT username, \n",
    "    COUNT(rating_id) AS count\n",
    "    FROM ratings \n",
    "    GROUP BY username) as sum \n",
    "    JOIN reviews ON reviews.username = sum.username\n",
    "    WHERE sum.count > 50\n",
    "    GROUP BY sum.username) as n;\n",
    "            \n",
    "'''\n",
    "\n",
    "pd.io.sql.read_sql(users_reviews, con = engine)"
   ]
  },
  {
   "cell_type": "markdown",
   "id": "6255be05-7f6f-435f-8164-6aa5dfb19f43",
   "metadata": {},
   "source": [
    "Среднее количество обзоров от пользователей, которые поставили больше 50 оценок - 24."
   ]
  },
  {
   "cell_type": "markdown",
   "id": "cc7253c1-6956-4b2f-a795-d090543b61f0",
   "metadata": {},
   "source": [
    "# Итог.\n",
    "\n",
    "После 1 января 2000 года было выпущено 819 книг.\n",
    "\n",
    "Наибольшее число обзоров - 7.\n",
    "\n",
    "Издательство, которое выпустило наибольшее число книг толще 50 страниц - Penguin Books.\n",
    "\n",
    "Автор с самой высокой средней оценкой книг (только книги с 50 и более оценками) - J.K. Rowling/Mary GrandPré. Рейтинг 4.28.\n",
    "\n",
    "Среднее количество обзоров от пользователей, которые поставили больше 50 оценок - 24."
   ]
  }
 ],
 "metadata": {
  "ExecuteTimeLog": [
   {
    "duration": 9513,
    "start_time": "2022-07-27T17:53:01.079Z"
   },
   {
    "duration": 21,
    "start_time": "2022-07-27T17:53:10.594Z"
   },
   {
    "duration": 230,
    "start_time": "2022-07-27T17:53:10.619Z"
   },
   {
    "duration": 67,
    "start_time": "2022-07-27T17:53:10.851Z"
   },
   {
    "duration": 68,
    "start_time": "2022-07-27T17:53:10.921Z"
   },
   {
    "duration": 70,
    "start_time": "2022-07-27T17:53:10.990Z"
   },
   {
    "duration": 66,
    "start_time": "2022-07-27T17:53:11.062Z"
   },
   {
    "duration": 74,
    "start_time": "2022-07-27T17:53:11.129Z"
   },
   {
    "duration": 69,
    "start_time": "2022-07-27T17:53:11.205Z"
   },
   {
    "duration": 70,
    "start_time": "2022-07-27T17:53:11.276Z"
   },
   {
    "duration": 70,
    "start_time": "2022-07-27T17:53:11.347Z"
   }
  ],
  "kernelspec": {
   "display_name": "Python 3 (ipykernel)",
   "language": "python",
   "name": "python3"
  },
  "language_info": {
   "codemirror_mode": {
    "name": "ipython",
    "version": 3
   },
   "file_extension": ".py",
   "mimetype": "text/x-python",
   "name": "python",
   "nbconvert_exporter": "python",
   "pygments_lexer": "ipython3",
   "version": "3.9.7"
  },
  "toc": {
   "base_numbering": 1,
   "nav_menu": {},
   "number_sections": true,
   "sideBar": true,
   "skip_h1_title": true,
   "title_cell": "Table of Contents",
   "title_sidebar": "Contents",
   "toc_cell": false,
   "toc_position": {},
   "toc_section_display": true,
   "toc_window_display": false
  }
 },
 "nbformat": 4,
 "nbformat_minor": 5
}
