{
 "cells": [
  {
   "cell_type": "markdown",
   "metadata": {
    "toc": true
   },
   "source": [
    "<h1>Table of Contents<span class=\"tocSkip\"></span></h1>\n",
    "<div class=\"toc\"><ul class=\"toc-item\"><li><span><a href=\"#Изучение-общей-информации\" data-toc-modified-id=\"Изучение-общей-информации-1\"><span class=\"toc-item-num\">1&nbsp;&nbsp;</span>Изучение общей информации</a></span></li><li><span><a href=\"#Предобработка-данных\" data-toc-modified-id=\"Предобработка-данных-2\"><span class=\"toc-item-num\">2&nbsp;&nbsp;</span>Предобработка данных</a></span><ul class=\"toc-item\"><li><span><a href=\"#Проведём-исследование-данных-каждого-столбца\" data-toc-modified-id=\"Проведём-исследование-данных-каждого-столбца-2.1\"><span class=\"toc-item-num\">2.1&nbsp;&nbsp;</span>Проведём исследование данных каждого столбца</a></span></li><li><span><a href=\"#Обработка-дубликатов\" data-toc-modified-id=\"Обработка-дубликатов-2.2\"><span class=\"toc-item-num\">2.2&nbsp;&nbsp;</span>Обработка дубликатов</a></span></li><li><span><a href=\"#Категоризация-данных\" data-toc-modified-id=\"Категоризация-данных-2.3\"><span class=\"toc-item-num\">2.3&nbsp;&nbsp;</span>Категоризация данных</a></span></li><li><span><a href=\"#Содание-дополнительных-таблиц\" data-toc-modified-id=\"Содание-дополнительных-таблиц-2.4\"><span class=\"toc-item-num\">2.4&nbsp;&nbsp;</span>Содание дополнительных таблиц</a></span></li></ul></li><li><span><a href=\"#Ответы-на-вопросы,-поставленные-в-начале-исследования\" data-toc-modified-id=\"Ответы-на-вопросы,-поставленные-в-начале-исследования-3\"><span class=\"toc-item-num\">3&nbsp;&nbsp;</span>Ответы на вопросы, поставленные в начале исследования</a></span></li><li><span><a href=\"#Общий-вывод\" data-toc-modified-id=\"Общий-вывод-4\"><span class=\"toc-item-num\">4&nbsp;&nbsp;</span>Общий вывод</a></span></li><li><span><a href=\"#Чек-лист-готовности-проекта\" data-toc-modified-id=\"Чек-лист-готовности-проекта-5\"><span class=\"toc-item-num\">5&nbsp;&nbsp;</span>Чек-лист готовности проекта</a></span></li></ul></div>"
   ]
  },
  {
   "cell_type": "markdown",
   "metadata": {},
   "source": [
    "# Исследование надёжности заёмщиков"
   ]
  },
  {
   "cell_type": "markdown",
   "metadata": {},
   "source": [
    "Необходимо получить ответы на следующие вопросы:\n",
    "\n",
    "•\tЕсть ли зависимость между наличием детей и возвратом кредита в срок?\n",
    "\n",
    "•\tЕсть ли зависимость между семейным положением и возвратом кредита в срок?\n",
    "\n",
    "•\tЕсть ли зависимость между уровнем дохода и возвратом кредита в срок?\n",
    "\n",
    "•\tКак разные цели кредита влияют на его возврат в срок?"
   ]
  },
  {
   "cell_type": "markdown",
   "metadata": {},
   "source": [
    "## Изучение общей информации"
   ]
  },
  {
   "cell_type": "markdown",
   "metadata": {},
   "source": [
    "**Описание данных**\n",
    "\n",
    "•\tchildren — количество детей в семье\n",
    "\n",
    "•\tdays_employed — общий трудовой стаж в днях\n",
    "\n",
    "•\tdob_years — возраст клиента в годах\n",
    "\n",
    "•\teducation — уровень образования клиента\n",
    "\n",
    "•\teducation_id — идентификатор уровня образования\n",
    "\n",
    "•\tfamily_status — семейное положение\n",
    "\n",
    "•\tfamily_status_id — идентификатор семейного положения\n",
    "\n",
    "•\tgender — пол клиента\n",
    "\n",
    "•\tincome_type — тип занятости\n",
    "\n",
    "•\tdebt — имел ли задолженность по возврату кредитов\n",
    "\n",
    "•\ttotal_income — ежемесячный доход\n",
    "\n",
    "•\tpurpose — цель получения кредита"
   ]
  },
  {
   "cell_type": "markdown",
   "metadata": {},
   "source": [
    "Импортируем библиотеки, прочитаем файл, получим информацию о самом файле, его размерах, типах данных"
   ]
  },
  {
   "cell_type": "code",
   "execution_count": 1,
   "metadata": {},
   "outputs": [
    {
     "name": "stdout",
     "output_type": "stream",
     "text": [
      "<class 'pandas.core.frame.DataFrame'>\n",
      "RangeIndex: 21525 entries, 0 to 21524\n",
      "Data columns (total 12 columns):\n",
      "children            21525 non-null int64\n",
      "days_employed       19351 non-null float64\n",
      "dob_years           21525 non-null int64\n",
      "education           21525 non-null object\n",
      "education_id        21525 non-null int64\n",
      "family_status       21525 non-null object\n",
      "family_status_id    21525 non-null int64\n",
      "gender              21525 non-null object\n",
      "income_type         21525 non-null object\n",
      "debt                21525 non-null int64\n",
      "total_income        19351 non-null float64\n",
      "purpose             21525 non-null object\n",
      "dtypes: float64(2), int64(5), object(5)\n",
      "memory usage: 2.0+ MB\n"
     ]
    }
   ],
   "source": [
    "import pandas as pd\n",
    "from nltk.stem import SnowballStemmer\n",
    "russian_stemmer = SnowballStemmer('russian')\n",
    "\n",
    "df = pd.read_csv('/datasets/data.csv')\n",
    "\n",
    "df.info()"
   ]
  },
  {
   "cell_type": "code",
   "execution_count": 2,
   "metadata": {},
   "outputs": [
    {
     "data": {
      "text/html": [
       "<div>\n",
       "<style scoped>\n",
       "    .dataframe tbody tr th:only-of-type {\n",
       "        vertical-align: middle;\n",
       "    }\n",
       "\n",
       "    .dataframe tbody tr th {\n",
       "        vertical-align: top;\n",
       "    }\n",
       "\n",
       "    .dataframe thead th {\n",
       "        text-align: right;\n",
       "    }\n",
       "</style>\n",
       "<table border=\"1\" class=\"dataframe\">\n",
       "  <thead>\n",
       "    <tr style=\"text-align: right;\">\n",
       "      <th></th>\n",
       "      <th>children</th>\n",
       "      <th>days_employed</th>\n",
       "      <th>dob_years</th>\n",
       "      <th>education</th>\n",
       "      <th>education_id</th>\n",
       "      <th>family_status</th>\n",
       "      <th>family_status_id</th>\n",
       "      <th>gender</th>\n",
       "      <th>income_type</th>\n",
       "      <th>debt</th>\n",
       "      <th>total_income</th>\n",
       "      <th>purpose</th>\n",
       "    </tr>\n",
       "  </thead>\n",
       "  <tbody>\n",
       "    <tr>\n",
       "      <td>0</td>\n",
       "      <td>1</td>\n",
       "      <td>-8437.673028</td>\n",
       "      <td>42</td>\n",
       "      <td>высшее</td>\n",
       "      <td>0</td>\n",
       "      <td>женат / замужем</td>\n",
       "      <td>0</td>\n",
       "      <td>F</td>\n",
       "      <td>сотрудник</td>\n",
       "      <td>0</td>\n",
       "      <td>253875.639453</td>\n",
       "      <td>покупка жилья</td>\n",
       "    </tr>\n",
       "    <tr>\n",
       "      <td>1</td>\n",
       "      <td>1</td>\n",
       "      <td>-4024.803754</td>\n",
       "      <td>36</td>\n",
       "      <td>среднее</td>\n",
       "      <td>1</td>\n",
       "      <td>женат / замужем</td>\n",
       "      <td>0</td>\n",
       "      <td>F</td>\n",
       "      <td>сотрудник</td>\n",
       "      <td>0</td>\n",
       "      <td>112080.014102</td>\n",
       "      <td>приобретение автомобиля</td>\n",
       "    </tr>\n",
       "    <tr>\n",
       "      <td>2</td>\n",
       "      <td>0</td>\n",
       "      <td>-5623.422610</td>\n",
       "      <td>33</td>\n",
       "      <td>Среднее</td>\n",
       "      <td>1</td>\n",
       "      <td>женат / замужем</td>\n",
       "      <td>0</td>\n",
       "      <td>M</td>\n",
       "      <td>сотрудник</td>\n",
       "      <td>0</td>\n",
       "      <td>145885.952297</td>\n",
       "      <td>покупка жилья</td>\n",
       "    </tr>\n",
       "    <tr>\n",
       "      <td>3</td>\n",
       "      <td>3</td>\n",
       "      <td>-4124.747207</td>\n",
       "      <td>32</td>\n",
       "      <td>среднее</td>\n",
       "      <td>1</td>\n",
       "      <td>женат / замужем</td>\n",
       "      <td>0</td>\n",
       "      <td>M</td>\n",
       "      <td>сотрудник</td>\n",
       "      <td>0</td>\n",
       "      <td>267628.550329</td>\n",
       "      <td>дополнительное образование</td>\n",
       "    </tr>\n",
       "    <tr>\n",
       "      <td>4</td>\n",
       "      <td>0</td>\n",
       "      <td>340266.072047</td>\n",
       "      <td>53</td>\n",
       "      <td>среднее</td>\n",
       "      <td>1</td>\n",
       "      <td>гражданский брак</td>\n",
       "      <td>1</td>\n",
       "      <td>F</td>\n",
       "      <td>пенсионер</td>\n",
       "      <td>0</td>\n",
       "      <td>158616.077870</td>\n",
       "      <td>сыграть свадьбу</td>\n",
       "    </tr>\n",
       "    <tr>\n",
       "      <td>5</td>\n",
       "      <td>0</td>\n",
       "      <td>-926.185831</td>\n",
       "      <td>27</td>\n",
       "      <td>высшее</td>\n",
       "      <td>0</td>\n",
       "      <td>гражданский брак</td>\n",
       "      <td>1</td>\n",
       "      <td>M</td>\n",
       "      <td>компаньон</td>\n",
       "      <td>0</td>\n",
       "      <td>255763.565419</td>\n",
       "      <td>покупка жилья</td>\n",
       "    </tr>\n",
       "    <tr>\n",
       "      <td>6</td>\n",
       "      <td>0</td>\n",
       "      <td>-2879.202052</td>\n",
       "      <td>43</td>\n",
       "      <td>высшее</td>\n",
       "      <td>0</td>\n",
       "      <td>женат / замужем</td>\n",
       "      <td>0</td>\n",
       "      <td>F</td>\n",
       "      <td>компаньон</td>\n",
       "      <td>0</td>\n",
       "      <td>240525.971920</td>\n",
       "      <td>операции с жильем</td>\n",
       "    </tr>\n",
       "    <tr>\n",
       "      <td>7</td>\n",
       "      <td>0</td>\n",
       "      <td>-152.779569</td>\n",
       "      <td>50</td>\n",
       "      <td>СРЕДНЕЕ</td>\n",
       "      <td>1</td>\n",
       "      <td>женат / замужем</td>\n",
       "      <td>0</td>\n",
       "      <td>M</td>\n",
       "      <td>сотрудник</td>\n",
       "      <td>0</td>\n",
       "      <td>135823.934197</td>\n",
       "      <td>образование</td>\n",
       "    </tr>\n",
       "    <tr>\n",
       "      <td>8</td>\n",
       "      <td>2</td>\n",
       "      <td>-6929.865299</td>\n",
       "      <td>35</td>\n",
       "      <td>ВЫСШЕЕ</td>\n",
       "      <td>0</td>\n",
       "      <td>гражданский брак</td>\n",
       "      <td>1</td>\n",
       "      <td>F</td>\n",
       "      <td>сотрудник</td>\n",
       "      <td>0</td>\n",
       "      <td>95856.832424</td>\n",
       "      <td>на проведение свадьбы</td>\n",
       "    </tr>\n",
       "    <tr>\n",
       "      <td>9</td>\n",
       "      <td>0</td>\n",
       "      <td>-2188.756445</td>\n",
       "      <td>41</td>\n",
       "      <td>среднее</td>\n",
       "      <td>1</td>\n",
       "      <td>женат / замужем</td>\n",
       "      <td>0</td>\n",
       "      <td>M</td>\n",
       "      <td>сотрудник</td>\n",
       "      <td>0</td>\n",
       "      <td>144425.938277</td>\n",
       "      <td>покупка жилья для семьи</td>\n",
       "    </tr>\n",
       "  </tbody>\n",
       "</table>\n",
       "</div>"
      ],
      "text/plain": [
       "   children  days_employed  dob_years education  education_id  \\\n",
       "0         1   -8437.673028         42    высшее             0   \n",
       "1         1   -4024.803754         36   среднее             1   \n",
       "2         0   -5623.422610         33   Среднее             1   \n",
       "3         3   -4124.747207         32   среднее             1   \n",
       "4         0  340266.072047         53   среднее             1   \n",
       "5         0    -926.185831         27    высшее             0   \n",
       "6         0   -2879.202052         43    высшее             0   \n",
       "7         0    -152.779569         50   СРЕДНЕЕ             1   \n",
       "8         2   -6929.865299         35    ВЫСШЕЕ             0   \n",
       "9         0   -2188.756445         41   среднее             1   \n",
       "\n",
       "      family_status  family_status_id gender income_type  debt   total_income  \\\n",
       "0   женат / замужем                 0      F   сотрудник     0  253875.639453   \n",
       "1   женат / замужем                 0      F   сотрудник     0  112080.014102   \n",
       "2   женат / замужем                 0      M   сотрудник     0  145885.952297   \n",
       "3   женат / замужем                 0      M   сотрудник     0  267628.550329   \n",
       "4  гражданский брак                 1      F   пенсионер     0  158616.077870   \n",
       "5  гражданский брак                 1      M   компаньон     0  255763.565419   \n",
       "6   женат / замужем                 0      F   компаньон     0  240525.971920   \n",
       "7   женат / замужем                 0      M   сотрудник     0  135823.934197   \n",
       "8  гражданский брак                 1      F   сотрудник     0   95856.832424   \n",
       "9   женат / замужем                 0      M   сотрудник     0  144425.938277   \n",
       "\n",
       "                      purpose  \n",
       "0               покупка жилья  \n",
       "1     приобретение автомобиля  \n",
       "2               покупка жилья  \n",
       "3  дополнительное образование  \n",
       "4             сыграть свадьбу  \n",
       "5               покупка жилья  \n",
       "6           операции с жильем  \n",
       "7                 образование  \n",
       "8       на проведение свадьбы  \n",
       "9     покупка жилья для семьи  "
      ]
     },
     "execution_count": 2,
     "metadata": {},
     "output_type": "execute_result"
    }
   ],
   "source": [
    "df.head(10)"
   ]
  },
  {
   "cell_type": "code",
   "execution_count": 3,
   "metadata": {},
   "outputs": [
    {
     "data": {
      "text/plain": [
       "(21525, 12)"
      ]
     },
     "execution_count": 3,
     "metadata": {},
     "output_type": "execute_result"
    }
   ],
   "source": [
    "df.shape"
   ]
  },
  {
   "cell_type": "code",
   "execution_count": 4,
   "metadata": {},
   "outputs": [
    {
     "data": {
      "text/html": [
       "<div>\n",
       "<style scoped>\n",
       "    .dataframe tbody tr th:only-of-type {\n",
       "        vertical-align: middle;\n",
       "    }\n",
       "\n",
       "    .dataframe tbody tr th {\n",
       "        vertical-align: top;\n",
       "    }\n",
       "\n",
       "    .dataframe thead th {\n",
       "        text-align: right;\n",
       "    }\n",
       "</style>\n",
       "<table border=\"1\" class=\"dataframe\">\n",
       "  <thead>\n",
       "    <tr style=\"text-align: right;\">\n",
       "      <th></th>\n",
       "      <th>children</th>\n",
       "      <th>days_employed</th>\n",
       "      <th>dob_years</th>\n",
       "      <th>education_id</th>\n",
       "      <th>family_status_id</th>\n",
       "      <th>debt</th>\n",
       "      <th>total_income</th>\n",
       "    </tr>\n",
       "  </thead>\n",
       "  <tbody>\n",
       "    <tr>\n",
       "      <td>count</td>\n",
       "      <td>21525.000000</td>\n",
       "      <td>19351.000000</td>\n",
       "      <td>21525.000000</td>\n",
       "      <td>21525.000000</td>\n",
       "      <td>21525.000000</td>\n",
       "      <td>21525.000000</td>\n",
       "      <td>1.935100e+04</td>\n",
       "    </tr>\n",
       "    <tr>\n",
       "      <td>mean</td>\n",
       "      <td>0.538908</td>\n",
       "      <td>63046.497661</td>\n",
       "      <td>43.293380</td>\n",
       "      <td>0.817236</td>\n",
       "      <td>0.972544</td>\n",
       "      <td>0.080883</td>\n",
       "      <td>1.674223e+05</td>\n",
       "    </tr>\n",
       "    <tr>\n",
       "      <td>std</td>\n",
       "      <td>1.381587</td>\n",
       "      <td>140827.311974</td>\n",
       "      <td>12.574584</td>\n",
       "      <td>0.548138</td>\n",
       "      <td>1.420324</td>\n",
       "      <td>0.272661</td>\n",
       "      <td>1.029716e+05</td>\n",
       "    </tr>\n",
       "    <tr>\n",
       "      <td>min</td>\n",
       "      <td>-1.000000</td>\n",
       "      <td>-18388.949901</td>\n",
       "      <td>0.000000</td>\n",
       "      <td>0.000000</td>\n",
       "      <td>0.000000</td>\n",
       "      <td>0.000000</td>\n",
       "      <td>2.066726e+04</td>\n",
       "    </tr>\n",
       "    <tr>\n",
       "      <td>25%</td>\n",
       "      <td>0.000000</td>\n",
       "      <td>-2747.423625</td>\n",
       "      <td>33.000000</td>\n",
       "      <td>1.000000</td>\n",
       "      <td>0.000000</td>\n",
       "      <td>0.000000</td>\n",
       "      <td>1.030532e+05</td>\n",
       "    </tr>\n",
       "    <tr>\n",
       "      <td>50%</td>\n",
       "      <td>0.000000</td>\n",
       "      <td>-1203.369529</td>\n",
       "      <td>42.000000</td>\n",
       "      <td>1.000000</td>\n",
       "      <td>0.000000</td>\n",
       "      <td>0.000000</td>\n",
       "      <td>1.450179e+05</td>\n",
       "    </tr>\n",
       "    <tr>\n",
       "      <td>75%</td>\n",
       "      <td>1.000000</td>\n",
       "      <td>-291.095954</td>\n",
       "      <td>53.000000</td>\n",
       "      <td>1.000000</td>\n",
       "      <td>1.000000</td>\n",
       "      <td>0.000000</td>\n",
       "      <td>2.034351e+05</td>\n",
       "    </tr>\n",
       "    <tr>\n",
       "      <td>max</td>\n",
       "      <td>20.000000</td>\n",
       "      <td>401755.400475</td>\n",
       "      <td>75.000000</td>\n",
       "      <td>4.000000</td>\n",
       "      <td>4.000000</td>\n",
       "      <td>1.000000</td>\n",
       "      <td>2.265604e+06</td>\n",
       "    </tr>\n",
       "  </tbody>\n",
       "</table>\n",
       "</div>"
      ],
      "text/plain": [
       "           children  days_employed     dob_years  education_id  \\\n",
       "count  21525.000000   19351.000000  21525.000000  21525.000000   \n",
       "mean       0.538908   63046.497661     43.293380      0.817236   \n",
       "std        1.381587  140827.311974     12.574584      0.548138   \n",
       "min       -1.000000  -18388.949901      0.000000      0.000000   \n",
       "25%        0.000000   -2747.423625     33.000000      1.000000   \n",
       "50%        0.000000   -1203.369529     42.000000      1.000000   \n",
       "75%        1.000000    -291.095954     53.000000      1.000000   \n",
       "max       20.000000  401755.400475     75.000000      4.000000   \n",
       "\n",
       "       family_status_id          debt  total_income  \n",
       "count      21525.000000  21525.000000  1.935100e+04  \n",
       "mean           0.972544      0.080883  1.674223e+05  \n",
       "std            1.420324      0.272661  1.029716e+05  \n",
       "min            0.000000      0.000000  2.066726e+04  \n",
       "25%            0.000000      0.000000  1.030532e+05  \n",
       "50%            0.000000      0.000000  1.450179e+05  \n",
       "75%            1.000000      0.000000  2.034351e+05  \n",
       "max            4.000000      1.000000  2.265604e+06  "
      ]
     },
     "execution_count": 4,
     "metadata": {},
     "output_type": "execute_result"
    }
   ],
   "source": [
    "# получим дополнительные сведения о датафрейме\n",
    "df.describe()"
   ]
  },
  {
   "cell_type": "markdown",
   "metadata": {},
   "source": [
    "Вывод из ознакомительной части: таблица содержит 21525 - строк, 12 столбцов. Большая часть числовых данных имеет тип int64(5), 2 столбца - float64 (в них число строк меньше и составляет  19351). Столбец  children — количество детей в семье - имеет отрицательное значение (-1), а также максимальное значение - 20 (что, скорее всего, является некорректным вводом данных); days_employed — общий трудовой стаж в днях - имеет отрицательные значения,а также максимальное значение - 401755.400475 дней!(вероятно количество указано в часах)"
   ]
  },
  {
   "cell_type": "code",
   "execution_count": 5,
   "metadata": {},
   "outputs": [
    {
     "data": {
      "text/html": [
       "<div>\n",
       "<style scoped>\n",
       "    .dataframe tbody tr th:only-of-type {\n",
       "        vertical-align: middle;\n",
       "    }\n",
       "\n",
       "    .dataframe tbody tr th {\n",
       "        vertical-align: top;\n",
       "    }\n",
       "\n",
       "    .dataframe thead th {\n",
       "        text-align: right;\n",
       "    }\n",
       "</style>\n",
       "<table border=\"1\" class=\"dataframe\">\n",
       "  <thead>\n",
       "    <tr style=\"text-align: right;\">\n",
       "      <th></th>\n",
       "      <th>children</th>\n",
       "      <th>dob_years</th>\n",
       "      <th>education_id</th>\n",
       "      <th>family_status_id</th>\n",
       "      <th>debt</th>\n",
       "    </tr>\n",
       "  </thead>\n",
       "  <tbody>\n",
       "    <tr>\n",
       "      <td>count</td>\n",
       "      <td>21525.000000</td>\n",
       "      <td>21525.000000</td>\n",
       "      <td>21525.000000</td>\n",
       "      <td>21525.000000</td>\n",
       "      <td>21525.000000</td>\n",
       "    </tr>\n",
       "    <tr>\n",
       "      <td>mean</td>\n",
       "      <td>0.538908</td>\n",
       "      <td>43.293380</td>\n",
       "      <td>0.817236</td>\n",
       "      <td>0.972544</td>\n",
       "      <td>0.080883</td>\n",
       "    </tr>\n",
       "    <tr>\n",
       "      <td>std</td>\n",
       "      <td>1.381587</td>\n",
       "      <td>12.574584</td>\n",
       "      <td>0.548138</td>\n",
       "      <td>1.420324</td>\n",
       "      <td>0.272661</td>\n",
       "    </tr>\n",
       "    <tr>\n",
       "      <td>min</td>\n",
       "      <td>-1.000000</td>\n",
       "      <td>0.000000</td>\n",
       "      <td>0.000000</td>\n",
       "      <td>0.000000</td>\n",
       "      <td>0.000000</td>\n",
       "    </tr>\n",
       "    <tr>\n",
       "      <td>25%</td>\n",
       "      <td>0.000000</td>\n",
       "      <td>33.000000</td>\n",
       "      <td>1.000000</td>\n",
       "      <td>0.000000</td>\n",
       "      <td>0.000000</td>\n",
       "    </tr>\n",
       "    <tr>\n",
       "      <td>50%</td>\n",
       "      <td>0.000000</td>\n",
       "      <td>42.000000</td>\n",
       "      <td>1.000000</td>\n",
       "      <td>0.000000</td>\n",
       "      <td>0.000000</td>\n",
       "    </tr>\n",
       "    <tr>\n",
       "      <td>75%</td>\n",
       "      <td>1.000000</td>\n",
       "      <td>53.000000</td>\n",
       "      <td>1.000000</td>\n",
       "      <td>1.000000</td>\n",
       "      <td>0.000000</td>\n",
       "    </tr>\n",
       "    <tr>\n",
       "      <td>max</td>\n",
       "      <td>20.000000</td>\n",
       "      <td>75.000000</td>\n",
       "      <td>4.000000</td>\n",
       "      <td>4.000000</td>\n",
       "      <td>1.000000</td>\n",
       "    </tr>\n",
       "  </tbody>\n",
       "</table>\n",
       "</div>"
      ],
      "text/plain": [
       "           children     dob_years  education_id  family_status_id  \\\n",
       "count  21525.000000  21525.000000  21525.000000      21525.000000   \n",
       "mean       0.538908     43.293380      0.817236          0.972544   \n",
       "std        1.381587     12.574584      0.548138          1.420324   \n",
       "min       -1.000000      0.000000      0.000000          0.000000   \n",
       "25%        0.000000     33.000000      1.000000          0.000000   \n",
       "50%        0.000000     42.000000      1.000000          0.000000   \n",
       "75%        1.000000     53.000000      1.000000          1.000000   \n",
       "max       20.000000     75.000000      4.000000          4.000000   \n",
       "\n",
       "               debt  \n",
       "count  21525.000000  \n",
       "mean       0.080883  \n",
       "std        0.272661  \n",
       "min        0.000000  \n",
       "25%        0.000000  \n",
       "50%        0.000000  \n",
       "75%        0.000000  \n",
       "max        1.000000  "
      ]
     },
     "execution_count": 5,
     "metadata": {},
     "output_type": "execute_result"
    }
   ],
   "source": [
    "df.describe(include=['int64'])"
   ]
  },
  {
   "cell_type": "markdown",
   "metadata": {},
   "source": [
    "## Предобработка данных"
   ]
  },
  {
   "cell_type": "markdown",
   "metadata": {},
   "source": [
    "### Проведём исследование данных каждого столбца "
   ]
  },
  {
   "cell_type": "markdown",
   "metadata": {},
   "source": [
    "2.1.Получим информацию об уникальных значениях столбца children — количество детей в семье"
   ]
  },
  {
   "cell_type": "code",
   "execution_count": 6,
   "metadata": {},
   "outputs": [
    {
     "name": "stdout",
     "output_type": "stream",
     "text": [
      " 0     14149\n",
      " 1      4818\n",
      " 2      2055\n",
      " 3       330\n",
      " 20       76\n",
      "-1        47\n",
      " 4        41\n",
      " 5         9\n",
      "Name: children, dtype: int64\n",
      "0\n",
      "21525\n"
     ]
    }
   ],
   "source": [
    "print(df['children'].value_counts()) # вернёт уникальные значения и их количество;\n",
    "print(df['children'].isna().sum()) # вернёт количество пропусков;\n",
    "print(len(df['children'])) # покажет длину столбца"
   ]
  },
  {
   "cell_type": "markdown",
   "metadata": {},
   "source": [
    "**Вывод по children**: Количество строк соответствует общему количеству в датафрейме, пропуски отсутствуют, необходимо внести корректировку; доля отрицательного значения(-1) - 0,2%, полагаю, что имеет место \"человеческий фактор\" - просто заменим -1 на 1; доля значения 20 - 0,3% -\"человеческий фактор\" (может быть соскользнула рука при вводе, 2 и 0 расположены друг под другом). Заменим 20 на 2."
   ]
  },
  {
   "cell_type": "code",
   "execution_count": 7,
   "metadata": {},
   "outputs": [],
   "source": [
    "# чтобы не повредить исходный датафрейм создадим рабочую версию\n",
    "df_work = df"
   ]
  },
  {
   "cell_type": "code",
   "execution_count": 8,
   "metadata": {},
   "outputs": [
    {
     "name": "stdout",
     "output_type": "stream",
     "text": [
      "0    14149\n",
      "1     4865\n",
      "2     2131\n",
      "3      330\n",
      "4       41\n",
      "5        9\n",
      "Name: children, dtype: int64\n"
     ]
    }
   ],
   "source": [
    "# произведём замену в столбце children\n",
    "df_work.loc[df_work['children'] == -1, 'children'] = 1\n",
    "df_work.loc[df_work['children'] == 20, 'children'] = 2\n",
    "print(df['children'].value_counts())"
   ]
  },
  {
   "cell_type": "code",
   "execution_count": 9,
   "metadata": {},
   "outputs": [
    {
     "data": {
      "text/plain": [
       "children\n",
       "0    0.657329\n",
       "1    0.226016\n",
       "2    0.099001\n",
       "3    0.015331\n",
       "4    0.001905\n",
       "5    0.000418\n",
       "dtype: float64"
      ]
     },
     "execution_count": 9,
     "metadata": {},
     "output_type": "execute_result"
    }
   ],
   "source": [
    "# Доля каждой группы:\n",
    "df_work.groupby(df_work['children']).size() / len(df_work['children'])"
   ]
  },
  {
   "cell_type": "markdown",
   "metadata": {},
   "source": [
    "После замены данные вполне реалистичные. Наиболее многочисленная группа - лица, не имеющие детей - 66%, далее, с одним ребёнком - 22,6%, с двумя детьми - 10%"
   ]
  },
  {
   "cell_type": "markdown",
   "metadata": {},
   "source": [
    "2.2.Получим информацию об уникальных значениях столбца days_employed - общий трудовой стаж в днях"
   ]
  },
  {
   "cell_type": "code",
   "execution_count": 10,
   "metadata": {},
   "outputs": [
    {
     "name": "stdout",
     "output_type": "stream",
     "text": [
      "-986.927316     1\n",
      "-7026.359174    1\n",
      "-4236.274243    1\n",
      "-6620.396473    1\n",
      "-1238.560080    1\n",
      "               ..\n",
      "-2849.351119    1\n",
      "-5619.328204    1\n",
      "-448.829898     1\n",
      "-1687.038672    1\n",
      "-582.538413     1\n",
      "Name: days_employed, Length: 19351, dtype: int64\n",
      "2174\n",
      "Доля пропусков в столбце days_employed:10%\n"
     ]
    }
   ],
   "source": [
    "days_employed_un = df_work['days_employed'].value_counts() # уникальные значения в столбце\n",
    "days_employed_pass = df_work['days_employed'].isna().sum() # подсчёт пропусков\n",
    "\n",
    "print(days_employed_un)\n",
    "print(days_employed_pass)\n",
    "days_employed_length = len(df_work['days_employed']) # длина столбца данных\n",
    "\n",
    "share_of_pass = days_employed_pass/days_employed_length\n",
    "\n",
    "print('Доля пропусков в столбце days_employed:{:.0%}'.format(share_of_pass))"
   ]
  },
  {
   "cell_type": "code",
   "execution_count": 11,
   "metadata": {},
   "outputs": [
    {
     "name": "stdout",
     "output_type": "stream",
     "text": [
      "children            15906\n",
      "days_employed       15906\n",
      "dob_years           15906\n",
      "education           15906\n",
      "education_id        15906\n",
      "family_status       15906\n",
      "family_status_id    15906\n",
      "gender              15906\n",
      "income_type         15906\n",
      "debt                15906\n",
      "total_income        15906\n",
      "purpose             15906\n",
      "dtype: int64\n",
      "children            0.738955\n",
      "days_employed       0.738955\n",
      "dob_years           0.738955\n",
      "education           0.738955\n",
      "education_id        0.738955\n",
      "family_status       0.738955\n",
      "family_status_id    0.738955\n",
      "gender              0.738955\n",
      "income_type         0.738955\n",
      "debt                0.738955\n",
      "total_income        0.738955\n",
      "purpose             0.738955\n",
      "dtype: float64\n"
     ]
    }
   ],
   "source": [
    "# дадим оценку отрицательным значениям в столбце days_employed\n",
    "quantity_of_negative_indicator = df_work.loc[df_work['days_employed'] <= 0].count()# количество отрицательных показателей\n",
    "print(quantity_of_negative_indicator)\n",
    "\n",
    "share_of_quantity_of_negative_indicator = quantity_of_negative_indicator/days_employed_length # доля отрицательных показателей\n",
    "print(share_of_quantity_of_negative_indicator)\n"
   ]
  },
  {
   "cell_type": "markdown",
   "metadata": {},
   "source": [
    "**Вывод**: установлено наличие 2174 пропусков, что соответствует 10%. Доля отрицательных показателей в столбце days_employed:74% - для целей настоящего исследования отрицательные и невероятно завышенные показатели в столбце с указанием стажа не имеют значения, однако, необходимо обратиться к разрабочикам, дабы внести ясность."
   ]
  },
  {
   "cell_type": "code",
   "execution_count": 12,
   "metadata": {},
   "outputs": [
    {
     "data": {
      "text/html": [
       "<div>\n",
       "<style scoped>\n",
       "    .dataframe tbody tr th:only-of-type {\n",
       "        vertical-align: middle;\n",
       "    }\n",
       "\n",
       "    .dataframe tbody tr th {\n",
       "        vertical-align: top;\n",
       "    }\n",
       "\n",
       "    .dataframe thead th {\n",
       "        text-align: right;\n",
       "    }\n",
       "</style>\n",
       "<table border=\"1\" class=\"dataframe\">\n",
       "  <thead>\n",
       "    <tr style=\"text-align: right;\">\n",
       "      <th></th>\n",
       "      <th>children</th>\n",
       "      <th>days_employed</th>\n",
       "      <th>dob_years</th>\n",
       "      <th>education</th>\n",
       "      <th>education_id</th>\n",
       "      <th>family_status</th>\n",
       "      <th>family_status_id</th>\n",
       "      <th>gender</th>\n",
       "      <th>income_type</th>\n",
       "      <th>debt</th>\n",
       "      <th>total_income</th>\n",
       "      <th>purpose</th>\n",
       "    </tr>\n",
       "  </thead>\n",
       "  <tbody>\n",
       "    <tr>\n",
       "      <td>0</td>\n",
       "      <td>1</td>\n",
       "      <td>8437.673028</td>\n",
       "      <td>42</td>\n",
       "      <td>высшее</td>\n",
       "      <td>0</td>\n",
       "      <td>женат / замужем</td>\n",
       "      <td>0</td>\n",
       "      <td>F</td>\n",
       "      <td>сотрудник</td>\n",
       "      <td>0</td>\n",
       "      <td>253875.639453</td>\n",
       "      <td>покупка жилья</td>\n",
       "    </tr>\n",
       "    <tr>\n",
       "      <td>1</td>\n",
       "      <td>1</td>\n",
       "      <td>4024.803754</td>\n",
       "      <td>36</td>\n",
       "      <td>среднее</td>\n",
       "      <td>1</td>\n",
       "      <td>женат / замужем</td>\n",
       "      <td>0</td>\n",
       "      <td>F</td>\n",
       "      <td>сотрудник</td>\n",
       "      <td>0</td>\n",
       "      <td>112080.014102</td>\n",
       "      <td>приобретение автомобиля</td>\n",
       "    </tr>\n",
       "    <tr>\n",
       "      <td>2</td>\n",
       "      <td>0</td>\n",
       "      <td>5623.422610</td>\n",
       "      <td>33</td>\n",
       "      <td>Среднее</td>\n",
       "      <td>1</td>\n",
       "      <td>женат / замужем</td>\n",
       "      <td>0</td>\n",
       "      <td>M</td>\n",
       "      <td>сотрудник</td>\n",
       "      <td>0</td>\n",
       "      <td>145885.952297</td>\n",
       "      <td>покупка жилья</td>\n",
       "    </tr>\n",
       "    <tr>\n",
       "      <td>3</td>\n",
       "      <td>3</td>\n",
       "      <td>4124.747207</td>\n",
       "      <td>32</td>\n",
       "      <td>среднее</td>\n",
       "      <td>1</td>\n",
       "      <td>женат / замужем</td>\n",
       "      <td>0</td>\n",
       "      <td>M</td>\n",
       "      <td>сотрудник</td>\n",
       "      <td>0</td>\n",
       "      <td>267628.550329</td>\n",
       "      <td>дополнительное образование</td>\n",
       "    </tr>\n",
       "    <tr>\n",
       "      <td>4</td>\n",
       "      <td>0</td>\n",
       "      <td>340266.072047</td>\n",
       "      <td>53</td>\n",
       "      <td>среднее</td>\n",
       "      <td>1</td>\n",
       "      <td>гражданский брак</td>\n",
       "      <td>1</td>\n",
       "      <td>F</td>\n",
       "      <td>пенсионер</td>\n",
       "      <td>0</td>\n",
       "      <td>158616.077870</td>\n",
       "      <td>сыграть свадьбу</td>\n",
       "    </tr>\n",
       "    <tr>\n",
       "      <td>5</td>\n",
       "      <td>0</td>\n",
       "      <td>926.185831</td>\n",
       "      <td>27</td>\n",
       "      <td>высшее</td>\n",
       "      <td>0</td>\n",
       "      <td>гражданский брак</td>\n",
       "      <td>1</td>\n",
       "      <td>M</td>\n",
       "      <td>компаньон</td>\n",
       "      <td>0</td>\n",
       "      <td>255763.565419</td>\n",
       "      <td>покупка жилья</td>\n",
       "    </tr>\n",
       "    <tr>\n",
       "      <td>6</td>\n",
       "      <td>0</td>\n",
       "      <td>2879.202052</td>\n",
       "      <td>43</td>\n",
       "      <td>высшее</td>\n",
       "      <td>0</td>\n",
       "      <td>женат / замужем</td>\n",
       "      <td>0</td>\n",
       "      <td>F</td>\n",
       "      <td>компаньон</td>\n",
       "      <td>0</td>\n",
       "      <td>240525.971920</td>\n",
       "      <td>операции с жильем</td>\n",
       "    </tr>\n",
       "    <tr>\n",
       "      <td>7</td>\n",
       "      <td>0</td>\n",
       "      <td>152.779569</td>\n",
       "      <td>50</td>\n",
       "      <td>СРЕДНЕЕ</td>\n",
       "      <td>1</td>\n",
       "      <td>женат / замужем</td>\n",
       "      <td>0</td>\n",
       "      <td>M</td>\n",
       "      <td>сотрудник</td>\n",
       "      <td>0</td>\n",
       "      <td>135823.934197</td>\n",
       "      <td>образование</td>\n",
       "    </tr>\n",
       "    <tr>\n",
       "      <td>8</td>\n",
       "      <td>2</td>\n",
       "      <td>6929.865299</td>\n",
       "      <td>35</td>\n",
       "      <td>ВЫСШЕЕ</td>\n",
       "      <td>0</td>\n",
       "      <td>гражданский брак</td>\n",
       "      <td>1</td>\n",
       "      <td>F</td>\n",
       "      <td>сотрудник</td>\n",
       "      <td>0</td>\n",
       "      <td>95856.832424</td>\n",
       "      <td>на проведение свадьбы</td>\n",
       "    </tr>\n",
       "    <tr>\n",
       "      <td>9</td>\n",
       "      <td>0</td>\n",
       "      <td>2188.756445</td>\n",
       "      <td>41</td>\n",
       "      <td>среднее</td>\n",
       "      <td>1</td>\n",
       "      <td>женат / замужем</td>\n",
       "      <td>0</td>\n",
       "      <td>M</td>\n",
       "      <td>сотрудник</td>\n",
       "      <td>0</td>\n",
       "      <td>144425.938277</td>\n",
       "      <td>покупка жилья для семьи</td>\n",
       "    </tr>\n",
       "  </tbody>\n",
       "</table>\n",
       "</div>"
      ],
      "text/plain": [
       "   children  days_employed  dob_years education  education_id  \\\n",
       "0         1    8437.673028         42    высшее             0   \n",
       "1         1    4024.803754         36   среднее             1   \n",
       "2         0    5623.422610         33   Среднее             1   \n",
       "3         3    4124.747207         32   среднее             1   \n",
       "4         0  340266.072047         53   среднее             1   \n",
       "5         0     926.185831         27    высшее             0   \n",
       "6         0    2879.202052         43    высшее             0   \n",
       "7         0     152.779569         50   СРЕДНЕЕ             1   \n",
       "8         2    6929.865299         35    ВЫСШЕЕ             0   \n",
       "9         0    2188.756445         41   среднее             1   \n",
       "\n",
       "      family_status  family_status_id gender income_type  debt   total_income  \\\n",
       "0   женат / замужем                 0      F   сотрудник     0  253875.639453   \n",
       "1   женат / замужем                 0      F   сотрудник     0  112080.014102   \n",
       "2   женат / замужем                 0      M   сотрудник     0  145885.952297   \n",
       "3   женат / замужем                 0      M   сотрудник     0  267628.550329   \n",
       "4  гражданский брак                 1      F   пенсионер     0  158616.077870   \n",
       "5  гражданский брак                 1      M   компаньон     0  255763.565419   \n",
       "6   женат / замужем                 0      F   компаньон     0  240525.971920   \n",
       "7   женат / замужем                 0      M   сотрудник     0  135823.934197   \n",
       "8  гражданский брак                 1      F   сотрудник     0   95856.832424   \n",
       "9   женат / замужем                 0      M   сотрудник     0  144425.938277   \n",
       "\n",
       "                      purpose  \n",
       "0               покупка жилья  \n",
       "1     приобретение автомобиля  \n",
       "2               покупка жилья  \n",
       "3  дополнительное образование  \n",
       "4             сыграть свадьбу  \n",
       "5               покупка жилья  \n",
       "6           операции с жильем  \n",
       "7                 образование  \n",
       "8       на проведение свадьбы  \n",
       "9     покупка жилья для семьи  "
      ]
     },
     "execution_count": 12,
     "metadata": {},
     "output_type": "execute_result"
    }
   ],
   "source": [
    "# Заменим отрицательные значения на положительные\n",
    "df_work['days_employed']=df_work['days_employed'].astype('str')\n",
    "df_work['days_employed']=df_work['days_employed'].str.replace('-','')\n",
    "df_work['days_employed']=df_work['days_employed'].astype('float')\n",
    "df_work.head(10)"
   ]
  },
  {
   "cell_type": "markdown",
   "metadata": {},
   "source": [
    "Так как между максимальными и минимальными значениями в столбце days_employed наблюдается значительный разброс,применим медианное значение."
   ]
  },
  {
   "cell_type": "code",
   "execution_count": 13,
   "metadata": {},
   "outputs": [
    {
     "name": "stdout",
     "output_type": "stream",
     "text": [
      "2194.220566878695\n"
     ]
    },
    {
     "data": {
      "text/html": [
       "<div>\n",
       "<style scoped>\n",
       "    .dataframe tbody tr th:only-of-type {\n",
       "        vertical-align: middle;\n",
       "    }\n",
       "\n",
       "    .dataframe tbody tr th {\n",
       "        vertical-align: top;\n",
       "    }\n",
       "\n",
       "    .dataframe thead th {\n",
       "        text-align: right;\n",
       "    }\n",
       "</style>\n",
       "<table border=\"1\" class=\"dataframe\">\n",
       "  <thead>\n",
       "    <tr style=\"text-align: right;\">\n",
       "      <th></th>\n",
       "      <th>children</th>\n",
       "      <th>days_employed</th>\n",
       "      <th>dob_years</th>\n",
       "      <th>education</th>\n",
       "      <th>education_id</th>\n",
       "      <th>family_status</th>\n",
       "      <th>family_status_id</th>\n",
       "      <th>gender</th>\n",
       "      <th>income_type</th>\n",
       "      <th>debt</th>\n",
       "      <th>total_income</th>\n",
       "      <th>purpose</th>\n",
       "    </tr>\n",
       "  </thead>\n",
       "  <tbody>\n",
       "    <tr>\n",
       "      <td>0</td>\n",
       "      <td>1</td>\n",
       "      <td>8437.673028</td>\n",
       "      <td>42</td>\n",
       "      <td>высшее</td>\n",
       "      <td>0</td>\n",
       "      <td>женат / замужем</td>\n",
       "      <td>0</td>\n",
       "      <td>F</td>\n",
       "      <td>сотрудник</td>\n",
       "      <td>0</td>\n",
       "      <td>253875.639453</td>\n",
       "      <td>покупка жилья</td>\n",
       "    </tr>\n",
       "    <tr>\n",
       "      <td>1</td>\n",
       "      <td>1</td>\n",
       "      <td>4024.803754</td>\n",
       "      <td>36</td>\n",
       "      <td>среднее</td>\n",
       "      <td>1</td>\n",
       "      <td>женат / замужем</td>\n",
       "      <td>0</td>\n",
       "      <td>F</td>\n",
       "      <td>сотрудник</td>\n",
       "      <td>0</td>\n",
       "      <td>112080.014102</td>\n",
       "      <td>приобретение автомобиля</td>\n",
       "    </tr>\n",
       "    <tr>\n",
       "      <td>2</td>\n",
       "      <td>0</td>\n",
       "      <td>5623.422610</td>\n",
       "      <td>33</td>\n",
       "      <td>Среднее</td>\n",
       "      <td>1</td>\n",
       "      <td>женат / замужем</td>\n",
       "      <td>0</td>\n",
       "      <td>M</td>\n",
       "      <td>сотрудник</td>\n",
       "      <td>0</td>\n",
       "      <td>145885.952297</td>\n",
       "      <td>покупка жилья</td>\n",
       "    </tr>\n",
       "    <tr>\n",
       "      <td>3</td>\n",
       "      <td>3</td>\n",
       "      <td>4124.747207</td>\n",
       "      <td>32</td>\n",
       "      <td>среднее</td>\n",
       "      <td>1</td>\n",
       "      <td>женат / замужем</td>\n",
       "      <td>0</td>\n",
       "      <td>M</td>\n",
       "      <td>сотрудник</td>\n",
       "      <td>0</td>\n",
       "      <td>267628.550329</td>\n",
       "      <td>дополнительное образование</td>\n",
       "    </tr>\n",
       "    <tr>\n",
       "      <td>4</td>\n",
       "      <td>0</td>\n",
       "      <td>340266.072047</td>\n",
       "      <td>53</td>\n",
       "      <td>среднее</td>\n",
       "      <td>1</td>\n",
       "      <td>гражданский брак</td>\n",
       "      <td>1</td>\n",
       "      <td>F</td>\n",
       "      <td>пенсионер</td>\n",
       "      <td>0</td>\n",
       "      <td>158616.077870</td>\n",
       "      <td>сыграть свадьбу</td>\n",
       "    </tr>\n",
       "  </tbody>\n",
       "</table>\n",
       "</div>"
      ],
      "text/plain": [
       "   children  days_employed  dob_years education  education_id  \\\n",
       "0         1    8437.673028         42    высшее             0   \n",
       "1         1    4024.803754         36   среднее             1   \n",
       "2         0    5623.422610         33   Среднее             1   \n",
       "3         3    4124.747207         32   среднее             1   \n",
       "4         0  340266.072047         53   среднее             1   \n",
       "\n",
       "      family_status  family_status_id gender income_type  debt   total_income  \\\n",
       "0   женат / замужем                 0      F   сотрудник     0  253875.639453   \n",
       "1   женат / замужем                 0      F   сотрудник     0  112080.014102   \n",
       "2   женат / замужем                 0      M   сотрудник     0  145885.952297   \n",
       "3   женат / замужем                 0      M   сотрудник     0  267628.550329   \n",
       "4  гражданский брак                 1      F   пенсионер     0  158616.077870   \n",
       "\n",
       "                      purpose  \n",
       "0               покупка жилья  \n",
       "1     приобретение автомобиля  \n",
       "2               покупка жилья  \n",
       "3  дополнительное образование  \n",
       "4             сыграть свадьбу  "
      ]
     },
     "execution_count": 13,
     "metadata": {},
     "output_type": "execute_result"
    }
   ],
   "source": [
    "# рассчитаем медианное значение и произведём замену в столбце days_employed\n",
    "days_employed_median = df_work['days_employed'].median()\n",
    "print(days_employed_median)\n",
    "df_work['days_employed'] = df_work['days_employed'].fillna(value = days_employed_median)\n",
    "df_work.head()"
   ]
  },
  {
   "cell_type": "code",
   "execution_count": 14,
   "metadata": {
    "scrolled": true
   },
   "outputs": [
    {
     "name": "stdout",
     "output_type": "stream",
     "text": [
      "2194.220567    2175\n",
      "986.927316        1\n",
      "1893.222792       1\n",
      "4236.274243       1\n",
      "6620.396473       1\n",
      "               ... \n",
      "2849.351119       1\n",
      "5619.328204       1\n",
      "448.829898        1\n",
      "1687.038672       1\n",
      "582.538413        1\n",
      "Name: days_employed, Length: 19351, dtype: int64\n",
      "0\n",
      "21525\n"
     ]
    }
   ],
   "source": [
    "# проверим себя\n",
    "print(df_work['days_employed'].value_counts())\n",
    "print(df_work['days_employed'].isna().sum())\n",
    "print(len(df_work['days_employed']))"
   ]
  },
  {
   "cell_type": "markdown",
   "metadata": {},
   "source": [
    "Пропуски устранены."
   ]
  },
  {
   "cell_type": "markdown",
   "metadata": {},
   "source": [
    "2.3.Получим информацию об уникальных значениях столбца dob_years — возраст клиента в годах"
   ]
  },
  {
   "cell_type": "code",
   "execution_count": 15,
   "metadata": {},
   "outputs": [
    {
     "name": "stdout",
     "output_type": "stream",
     "text": [
      "75      1\n",
      "74      6\n",
      "73      8\n",
      "19     14\n",
      "72     33\n",
      "20     51\n",
      "71     58\n",
      "70     65\n",
      "69     85\n",
      "68     99\n",
      "0     101\n",
      "21    111\n",
      "67    167\n",
      "22    183\n",
      "66    183\n",
      "65    194\n",
      "23    254\n",
      "24    264\n",
      "64    265\n",
      "63    269\n",
      "62    352\n",
      "61    355\n",
      "25    357\n",
      "60    377\n",
      "26    408\n",
      "55    443\n",
      "59    444\n",
      "51    448\n",
      "53    459\n",
      "57    460\n",
      "58    461\n",
      "46    475\n",
      "54    479\n",
      "47    480\n",
      "52    484\n",
      "56    487\n",
      "27    493\n",
      "45    497\n",
      "28    503\n",
      "49    508\n",
      "32    510\n",
      "43    513\n",
      "50    514\n",
      "37    537\n",
      "48    538\n",
      "30    540\n",
      "29    545\n",
      "44    547\n",
      "36    555\n",
      "31    560\n",
      "39    573\n",
      "33    581\n",
      "42    597\n",
      "38    598\n",
      "34    603\n",
      "41    607\n",
      "40    609\n",
      "35    617\n",
      "Name: dob_years, dtype: int64\n",
      "0\n",
      "21525\n"
     ]
    }
   ],
   "source": [
    "print(df_work['dob_years'].value_counts().sort_values())\n",
    "print(df_work['dob_years'].isna().sum()) # вернёт количество пропусков;\n",
    "print(len(df_work['dob_years'])) # покажет длину столбца;"
   ]
  },
  {
   "cell_type": "markdown",
   "metadata": {},
   "source": [
    "в датафрейме в столбце с указанием возраста найден нулевой показатель, подсчитаем количество"
   ]
  },
  {
   "cell_type": "code",
   "execution_count": 16,
   "metadata": {},
   "outputs": [
    {
     "name": "stdout",
     "output_type": "stream",
     "text": [
      "101\n"
     ]
    }
   ],
   "source": [
    "quanity_of_zero = df_work.loc[df_work.loc[:,'dob_years'] == 0]['dob_years'].count()\n",
    "print(quanity_of_zero)"
   ]
  },
  {
   "cell_type": "code",
   "execution_count": 17,
   "metadata": {},
   "outputs": [
    {
     "name": "stdout",
     "output_type": "stream",
     "text": [
      "Доля лиц с указанным возрастом - 0  в столбце dob_years:0.47%\n"
     ]
    }
   ],
   "source": [
    "print('Доля лиц с указанным возрастом - 0  в столбце dob_years:{:.2%}'.format(quanity_of_zero/len(df_work['dob_years'])))"
   ]
  },
  {
   "cell_type": "markdown",
   "metadata": {},
   "source": [
    "Так как между максимальными и минимальными значениями в столбце dob_years наблюдается значительный разброс,применим медианное значение."
   ]
  },
  {
   "cell_type": "code",
   "execution_count": 18,
   "metadata": {
    "scrolled": true
   },
   "outputs": [
    {
     "name": "stdout",
     "output_type": "stream",
     "text": [
      "42\n"
     ]
    }
   ],
   "source": [
    "dob_years_median = int(df_work['dob_years'].median())\n",
    "print(dob_years_median)"
   ]
  },
  {
   "cell_type": "code",
   "execution_count": 19,
   "metadata": {},
   "outputs": [
    {
     "name": "stdout",
     "output_type": "stream",
     "text": [
      "children            101\n",
      "days_employed       101\n",
      "dob_years           101\n",
      "education           101\n",
      "education_id        101\n",
      "family_status       101\n",
      "family_status_id    101\n",
      "gender              101\n",
      "income_type         101\n",
      "debt                101\n",
      "total_income         91\n",
      "purpose             101\n",
      "dtype: int64\n"
     ]
    }
   ],
   "source": [
    "print(df_work.loc[df_work['dob_years'] == 0].count()) \n",
    "        "
   ]
  },
  {
   "cell_type": "code",
   "execution_count": 20,
   "metadata": {},
   "outputs": [
    {
     "name": "stdout",
     "output_type": "stream",
     "text": [
      "children            0\n",
      "days_employed       0\n",
      "dob_years           0\n",
      "education           0\n",
      "education_id        0\n",
      "family_status       0\n",
      "family_status_id    0\n",
      "gender              0\n",
      "income_type         0\n",
      "debt                0\n",
      "total_income        0\n",
      "purpose             0\n",
      "dtype: int64\n"
     ]
    }
   ],
   "source": [
    "df_work.loc[df_work['dob_years'] == 0,'dob_years'] = 42\n",
    "print(df_work.loc[df_work['dob_years'] == 0].count()) "
   ]
  },
  {
   "cell_type": "markdown",
   "metadata": {},
   "source": [
    "Результат: нулевых показателей нет."
   ]
  },
  {
   "cell_type": "markdown",
   "metadata": {},
   "source": [
    "2.4.Получим информацию об уникальных значениях столбца education — уровень образования клиента"
   ]
  },
  {
   "cell_type": "code",
   "execution_count": 21,
   "metadata": {},
   "outputs": [
    {
     "name": "stdout",
     "output_type": "stream",
     "text": [
      "среднее                13750\n",
      "высшее                  4718\n",
      "СРЕДНЕЕ                  772\n",
      "Среднее                  711\n",
      "неоконченное высшее      668\n",
      "ВЫСШЕЕ                   274\n",
      "Высшее                   268\n",
      "начальное                250\n",
      "Неоконченное высшее       47\n",
      "НЕОКОНЧЕННОЕ ВЫСШЕЕ       29\n",
      "НАЧАЛЬНОЕ                 17\n",
      "Начальное                 15\n",
      "ученая степень             4\n",
      "УЧЕНАЯ СТЕПЕНЬ             1\n",
      "Ученая степень             1\n",
      "Name: education, dtype: int64\n",
      "0\n",
      "21525\n"
     ]
    }
   ],
   "source": [
    "print(df_work['education'].value_counts()) # вернёт уникальные значения и их количество;\n",
    "print(df_work['education'].isna().sum()) # вернёт количество пропусков;\n",
    "print(len(df_work['education'])) # покажет длину столбца"
   ]
  },
  {
   "cell_type": "markdown",
   "metadata": {},
   "source": [
    "Данные содержат различные способы упоминания одного и того же явления. Приведём к единому виду."
   ]
  },
  {
   "cell_type": "code",
   "execution_count": 22,
   "metadata": {},
   "outputs": [
    {
     "name": "stdout",
     "output_type": "stream",
     "text": [
      "среднее                15233\n",
      "высшее                  5260\n",
      "неоконченное высшее      744\n",
      "начальное                282\n",
      "ученая степень             6\n",
      "Name: education, dtype: int64\n"
     ]
    }
   ],
   "source": [
    "df_work['education']=df_work['education'].str.lower()\n",
    "print (df_work['education'].value_counts())"
   ]
  },
  {
   "cell_type": "markdown",
   "metadata": {},
   "source": [
    "2.5.Получим информацию об уникальных значениях столбца education_id — идентификатор уровня образования"
   ]
  },
  {
   "cell_type": "code",
   "execution_count": 23,
   "metadata": {},
   "outputs": [
    {
     "name": "stdout",
     "output_type": "stream",
     "text": [
      "4        6\n",
      "3      282\n",
      "2      744\n",
      "0     5260\n",
      "1    15233\n",
      "Name: education_id, dtype: int64\n",
      "0\n"
     ]
    }
   ],
   "source": [
    "print(df_work['education_id'].value_counts().sort_values()) # вернёт уникальные значения и их количество;\n",
    "print(df_work['education_id'].isna().sum()) # вернёт количество пропусков;"
   ]
  },
  {
   "cell_type": "markdown",
   "metadata": {},
   "source": [
    "Все значения уникальные, пропусков нет."
   ]
  },
  {
   "cell_type": "markdown",
   "metadata": {},
   "source": [
    "2.6.Получим информацию об уникальных значениях столбца family_status — семейное положение"
   ]
  },
  {
   "cell_type": "code",
   "execution_count": 24,
   "metadata": {},
   "outputs": [
    {
     "name": "stdout",
     "output_type": "stream",
     "text": [
      "женат / замужем          12380\n",
      "гражданский брак          4177\n",
      "Не женат / не замужем     2813\n",
      "в разводе                 1195\n",
      "вдовец / вдова             960\n",
      "Name: family_status, dtype: int64\n",
      "0\n",
      "21525\n"
     ]
    }
   ],
   "source": [
    "print(df_work['family_status'].value_counts()) # вернёт уникальные значения и их количество;\n",
    "print(df_work['family_status'].isna().sum()) # вернёт количество пропусков;\n",
    "print(len(df_work['family_status'])) # покажет длину столбца"
   ]
  },
  {
   "cell_type": "code",
   "execution_count": 25,
   "metadata": {},
   "outputs": [
    {
     "name": "stdout",
     "output_type": "stream",
     "text": [
      "family_status\n",
      "Не женат / не замужем    0.130685\n",
      "в разводе                0.055517\n",
      "вдовец / вдова           0.044599\n",
      "гражданский брак         0.194053\n",
      "женат / замужем          0.575145\n",
      "dtype: float64\n"
     ]
    }
   ],
   "source": [
    "# Доля каждой группы:\n",
    "print(df.groupby(df_work['family_status']).size() / len(df_work['family_status']))"
   ]
  },
  {
   "cell_type": "markdown",
   "metadata": {},
   "source": [
    "Все значения уникальные, пропусков нет. Самая значительная группа 'женат / замужем ' - 57.5%, далее, лица, состоящие в гражданском браке - 19,4%, Не женат / не замужем - 13%, в разводе - 5,5%, вдовец / вдова - 4,4%"
   ]
  },
  {
   "cell_type": "markdown",
   "metadata": {},
   "source": [
    "2.7.Получим информацию об уникальных значениях столбца family_status_id — идентификатор семейного положения "
   ]
  },
  {
   "cell_type": "code",
   "execution_count": 26,
   "metadata": {},
   "outputs": [
    {
     "name": "stdout",
     "output_type": "stream",
     "text": [
      "2      960\n",
      "3     1195\n",
      "4     2813\n",
      "1     4177\n",
      "0    12380\n",
      "Name: family_status_id, dtype: int64\n",
      "0\n",
      "21525\n"
     ]
    }
   ],
   "source": [
    "print(df_work['family_status_id'].value_counts().sort_values()) # вернёт уникальные значения и их количество;\n",
    "print(df_work['family_status_id'].isna().sum()) # вернёт количество пропусков;\n",
    "print(len(df_work['family_status_id'])) # покажет длину столбца"
   ]
  },
  {
   "cell_type": "markdown",
   "metadata": {},
   "source": [
    "Все значения уникальные, пропусков нет."
   ]
  },
  {
   "cell_type": "markdown",
   "metadata": {},
   "source": [
    "2.8.Получим информацию об уникальных значениях столбца gender — пол клиента"
   ]
  },
  {
   "cell_type": "code",
   "execution_count": 27,
   "metadata": {},
   "outputs": [
    {
     "name": "stdout",
     "output_type": "stream",
     "text": [
      "F      14236\n",
      "M       7288\n",
      "XNA        1\n",
      "Name: gender, dtype: int64\n",
      "0\n",
      "21525\n"
     ]
    }
   ],
   "source": [
    "print(df_work['gender'].value_counts()) \n",
    "print(df_work['gender'].isna().sum())\n",
    "print(len(df_work['gender'])) "
   ]
  },
  {
   "cell_type": "code",
   "execution_count": 28,
   "metadata": {},
   "outputs": [
    {
     "name": "stdout",
     "output_type": "stream",
     "text": [
      "F    14237\n",
      "M     7288\n",
      "Name: gender, dtype: int64\n"
     ]
    }
   ],
   "source": [
    "# так как XNA встретился 1 раз, приобщим к самой многочисленной группе F\n",
    "df_work.loc[df_work['gender'] == 'XNA', 'gender'] = 'F'\n",
    "print (df_work['gender'].value_counts())"
   ]
  },
  {
   "cell_type": "markdown",
   "metadata": {},
   "source": [
    "Аномалий нет"
   ]
  },
  {
   "cell_type": "markdown",
   "metadata": {},
   "source": [
    "2.9.Получим информацию об уникальных значениях столбца income_type — тип занятости"
   ]
  },
  {
   "cell_type": "code",
   "execution_count": 29,
   "metadata": {},
   "outputs": [
    {
     "name": "stdout",
     "output_type": "stream",
     "text": [
      "сотрудник          11119\n",
      "компаньон           5085\n",
      "пенсионер           3856\n",
      "госслужащий         1459\n",
      "безработный            2\n",
      "предприниматель        2\n",
      "студент                1\n",
      "в декрете              1\n",
      "Name: income_type, dtype: int64\n",
      "0\n",
      "21525\n"
     ]
    }
   ],
   "source": [
    "print(df_work['income_type'].value_counts()) \n",
    "print(df_work['income_type'].isna().sum())\n",
    "print(len(df_work['income_type'])) "
   ]
  },
  {
   "cell_type": "code",
   "execution_count": 30,
   "metadata": {},
   "outputs": [
    {
     "name": "stdout",
     "output_type": "stream",
     "text": [
      "сотрудник      11125\n",
      "компаньон       5085\n",
      "пенсионер       3856\n",
      "госслужащий     1459\n",
      "Name: income_type, dtype: int64\n"
     ]
    }
   ],
   "source": [
    "# так как наименование предприниматель,безработный встретились дважды\n",
    "# студент, в декрете - однократно, приобщим эти записи к самой многочисленной группе - сотрудник\n",
    "df_work.loc[df_work['income_type'] == 'предприниматель', 'income_type'] = 'сотрудник'\n",
    "df_work.loc[df_work['income_type'] == 'студент', 'income_type'] = 'сотрудник'\n",
    "df_work.loc[df_work['income_type'] == 'в декрете', 'income_type'] = 'сотрудник'\n",
    "df_work.loc[df_work['income_type'] == 'безработный', 'income_type'] = 'сотрудник'\n",
    "print (df_work['income_type'].value_counts())"
   ]
  },
  {
   "cell_type": "markdown",
   "metadata": {},
   "source": [
    "2.10.Получим информацию об уникальных значениях столбца debt — имел ли задолженность по возврату кредитов"
   ]
  },
  {
   "cell_type": "code",
   "execution_count": 31,
   "metadata": {},
   "outputs": [
    {
     "name": "stdout",
     "output_type": "stream",
     "text": [
      "0    19784\n",
      "1     1741\n",
      "Name: debt, dtype: int64\n",
      "0\n",
      "21525\n"
     ]
    }
   ],
   "source": [
    "print(df_work['debt'].value_counts()) \n",
    "print(df_work['debt'].isna().sum())\n",
    "print(len(df_work['debt'])) "
   ]
  },
  {
   "cell_type": "markdown",
   "metadata": {},
   "source": [
    "Все значения уникальные, пропусков нет. Люди чаще возвращают кредиты."
   ]
  },
  {
   "cell_type": "markdown",
   "metadata": {},
   "source": [
    "2.11.Получим информацию об уникальных значениях столбца total_income — ежемесячный доход"
   ]
  },
  {
   "cell_type": "code",
   "execution_count": 32,
   "metadata": {},
   "outputs": [
    {
     "name": "stdout",
     "output_type": "stream",
     "text": [
      "112874.418757    1\n",
      "133912.272223    1\n",
      "182036.676828    1\n",
      "122421.963500    1\n",
      "198271.837248    1\n",
      "                ..\n",
      "133299.194693    1\n",
      "115080.782380    1\n",
      "84896.781597     1\n",
      "153838.839212    1\n",
      "150014.128510    1\n",
      "Name: total_income, Length: 19351, dtype: int64\n",
      "2174\n",
      "21525\n"
     ]
    }
   ],
   "source": [
    "print(df_work['total_income'].value_counts()) \n",
    "print(df_work['total_income'].isna().sum())\n",
    "print(len(df_work['total_income'])) "
   ]
  },
  {
   "cell_type": "markdown",
   "metadata": {},
   "source": [
    "Столбец total_income содержит такое же количество пропусков - 2174 как и days_employed, что соответствует 10% от общего количества наблюдений. Скорее всего, имеет место технический сбой (только в этих столбцах, к примеру, отражены данные типа float64). Можно предположить, что у человека нет стажа работы и дохода тоже нет. Хотя дожить на постсоветском пространстве до 63, 65 лет (строки 12, 29) со средним образованием и не иметь стажа и пенсии - маловероятная ситуация. Необходимо обратиться к разработчикам. В настоящий момент данные сведения не оказывают прямого воздействия на результат исследования. Произведём замену пропусков. "
   ]
  },
  {
   "cell_type": "code",
   "execution_count": 33,
   "metadata": {},
   "outputs": [
    {
     "name": "stdout",
     "output_type": "stream",
     "text": [
      "20667.26379327158\n",
      "2265604.028722744\n"
     ]
    }
   ],
   "source": [
    "# найдём предельные значения для столбца total_income, чтобы определиться с методом для замены пропусков.\n",
    "print(df_work['total_income'].min())\n",
    "print(df_work['total_income'].max())"
   ]
  },
  {
   "cell_type": "markdown",
   "metadata": {},
   "source": [
    "Так как между максимальными и минимальными значениями наблюдается значитальный разброс, применим медианное значение."
   ]
  },
  {
   "cell_type": "code",
   "execution_count": 34,
   "metadata": {},
   "outputs": [
    {
     "name": "stdout",
     "output_type": "stream",
     "text": [
      "145017\n",
      "0\n"
     ]
    }
   ],
   "source": [
    "# рассчитаем медианное значение и произведём замену в столбце total_income\n",
    "total_income_median = df_work['total_income'].median()\n",
    "print(int(total_income_median))\n",
    "df_work['total_income'] = df_work['total_income'].fillna(value = total_income_median)\n",
    "print(df_work['total_income'].isna().sum())"
   ]
  },
  {
   "cell_type": "markdown",
   "metadata": {},
   "source": [
    "Пропуски устранены. Произведём замену вещественого типа данных в столбце total_income на целочисленный методом astype()."
   ]
  },
  {
   "cell_type": "code",
   "execution_count": 35,
   "metadata": {},
   "outputs": [
    {
     "data": {
      "text/plain": [
       "children              int64\n",
       "days_employed       float64\n",
       "dob_years             int64\n",
       "education            object\n",
       "education_id          int64\n",
       "family_status        object\n",
       "family_status_id      int64\n",
       "gender               object\n",
       "income_type          object\n",
       "debt                  int64\n",
       "total_income          int64\n",
       "purpose              object\n",
       "dtype: object"
      ]
     },
     "execution_count": 35,
     "metadata": {},
     "output_type": "execute_result"
    }
   ],
   "source": [
    "df_work['total_income']=df_work['total_income'].astype('int')\n",
    "df_work.dtypes"
   ]
  },
  {
   "cell_type": "markdown",
   "metadata": {},
   "source": [
    "Теперь значения целочисленные."
   ]
  },
  {
   "cell_type": "markdown",
   "metadata": {},
   "source": [
    "2.12.Получим информацию об уникальных значениях столбца purpose — цель получения кредита"
   ]
  },
  {
   "cell_type": "code",
   "execution_count": 36,
   "metadata": {},
   "outputs": [
    {
     "name": "stdout",
     "output_type": "stream",
     "text": [
      "свадьба                                   797\n",
      "на проведение свадьбы                     777\n",
      "сыграть свадьбу                           774\n",
      "операции с недвижимостью                  676\n",
      "покупка коммерческой недвижимости         664\n",
      "покупка жилья для сдачи                   653\n",
      "операции с жильем                         653\n",
      "операции с коммерческой недвижимостью     651\n",
      "покупка жилья                             647\n",
      "жилье                                     647\n",
      "покупка жилья для семьи                   641\n",
      "строительство собственной недвижимости    635\n",
      "недвижимость                              634\n",
      "операции со своей недвижимостью           630\n",
      "строительство жилой недвижимости          626\n",
      "покупка недвижимости                      624\n",
      "покупка своего жилья                      620\n",
      "строительство недвижимости                620\n",
      "ремонт жилью                              612\n",
      "покупка жилой недвижимости                607\n",
      "на покупку своего автомобиля              505\n",
      "заняться высшим образованием              496\n",
      "автомобиль                                495\n",
      "сделка с подержанным автомобилем          489\n",
      "свой автомобиль                           480\n",
      "на покупку подержанного автомобиля        479\n",
      "автомобили                                478\n",
      "на покупку автомобиля                     472\n",
      "дополнительное образование                462\n",
      "приобретение автомобиля                   462\n",
      "сделка с автомобилем                      455\n",
      "высшее образование                        453\n",
      "получение дополнительного образования     447\n",
      "образование                               447\n",
      "получение образования                     443\n",
      "профильное образование                    436\n",
      "получение высшего образования             426\n",
      "заняться образованием                     412\n",
      "Name: purpose, dtype: int64\n",
      "0\n",
      "21525\n"
     ]
    }
   ],
   "source": [
    "print(df_work['purpose'].value_counts()) \n",
    "print(df_work['purpose'].isna().sum())\n",
    "print(len(df_work['purpose'])) "
   ]
  },
  {
   "cell_type": "markdown",
   "metadata": {},
   "source": [
    "Содержатся различные способы упоминания, представления одного и того же явления. Позже проведём категоризацию."
   ]
  },
  {
   "cell_type": "markdown",
   "metadata": {},
   "source": [
    "### Обработка дубликатов"
   ]
  },
  {
   "cell_type": "markdown",
   "metadata": {},
   "source": [
    "Просмотрим весь датафрейм на предмет дубликатов методом duplicated(), который позволит получить строки с дубликатами. Основные причины возникновения дубликатов — повторные представления, различные способы упоминания, представления одного и того же явления\\события, неправильное соединение данных из разных источников, ошибки пользователя при занесении информации. Отсюда и вытекает необходимость предобработки данных."
   ]
  },
  {
   "cell_type": "code",
   "execution_count": 37,
   "metadata": {},
   "outputs": [
    {
     "data": {
      "text/html": [
       "<div>\n",
       "<style scoped>\n",
       "    .dataframe tbody tr th:only-of-type {\n",
       "        vertical-align: middle;\n",
       "    }\n",
       "\n",
       "    .dataframe tbody tr th {\n",
       "        vertical-align: top;\n",
       "    }\n",
       "\n",
       "    .dataframe thead th {\n",
       "        text-align: right;\n",
       "    }\n",
       "</style>\n",
       "<table border=\"1\" class=\"dataframe\">\n",
       "  <thead>\n",
       "    <tr style=\"text-align: right;\">\n",
       "      <th></th>\n",
       "      <th>children</th>\n",
       "      <th>days_employed</th>\n",
       "      <th>dob_years</th>\n",
       "      <th>education</th>\n",
       "      <th>education_id</th>\n",
       "      <th>family_status</th>\n",
       "      <th>family_status_id</th>\n",
       "      <th>gender</th>\n",
       "      <th>income_type</th>\n",
       "      <th>debt</th>\n",
       "      <th>total_income</th>\n",
       "      <th>purpose</th>\n",
       "    </tr>\n",
       "  </thead>\n",
       "  <tbody>\n",
       "    <tr>\n",
       "      <td>2849</td>\n",
       "      <td>0</td>\n",
       "      <td>2194.220567</td>\n",
       "      <td>41</td>\n",
       "      <td>среднее</td>\n",
       "      <td>1</td>\n",
       "      <td>женат / замужем</td>\n",
       "      <td>0</td>\n",
       "      <td>F</td>\n",
       "      <td>сотрудник</td>\n",
       "      <td>0</td>\n",
       "      <td>145017</td>\n",
       "      <td>покупка жилья для семьи</td>\n",
       "    </tr>\n",
       "    <tr>\n",
       "      <td>3290</td>\n",
       "      <td>0</td>\n",
       "      <td>2194.220567</td>\n",
       "      <td>58</td>\n",
       "      <td>среднее</td>\n",
       "      <td>1</td>\n",
       "      <td>гражданский брак</td>\n",
       "      <td>1</td>\n",
       "      <td>F</td>\n",
       "      <td>пенсионер</td>\n",
       "      <td>0</td>\n",
       "      <td>145017</td>\n",
       "      <td>сыграть свадьбу</td>\n",
       "    </tr>\n",
       "    <tr>\n",
       "      <td>4182</td>\n",
       "      <td>1</td>\n",
       "      <td>2194.220567</td>\n",
       "      <td>34</td>\n",
       "      <td>высшее</td>\n",
       "      <td>0</td>\n",
       "      <td>гражданский брак</td>\n",
       "      <td>1</td>\n",
       "      <td>F</td>\n",
       "      <td>сотрудник</td>\n",
       "      <td>0</td>\n",
       "      <td>145017</td>\n",
       "      <td>свадьба</td>\n",
       "    </tr>\n",
       "    <tr>\n",
       "      <td>4851</td>\n",
       "      <td>0</td>\n",
       "      <td>2194.220567</td>\n",
       "      <td>60</td>\n",
       "      <td>среднее</td>\n",
       "      <td>1</td>\n",
       "      <td>гражданский брак</td>\n",
       "      <td>1</td>\n",
       "      <td>F</td>\n",
       "      <td>пенсионер</td>\n",
       "      <td>0</td>\n",
       "      <td>145017</td>\n",
       "      <td>свадьба</td>\n",
       "    </tr>\n",
       "    <tr>\n",
       "      <td>5557</td>\n",
       "      <td>0</td>\n",
       "      <td>2194.220567</td>\n",
       "      <td>58</td>\n",
       "      <td>среднее</td>\n",
       "      <td>1</td>\n",
       "      <td>гражданский брак</td>\n",
       "      <td>1</td>\n",
       "      <td>F</td>\n",
       "      <td>пенсионер</td>\n",
       "      <td>0</td>\n",
       "      <td>145017</td>\n",
       "      <td>сыграть свадьбу</td>\n",
       "    </tr>\n",
       "    <tr>\n",
       "      <td>...</td>\n",
       "      <td>...</td>\n",
       "      <td>...</td>\n",
       "      <td>...</td>\n",
       "      <td>...</td>\n",
       "      <td>...</td>\n",
       "      <td>...</td>\n",
       "      <td>...</td>\n",
       "      <td>...</td>\n",
       "      <td>...</td>\n",
       "      <td>...</td>\n",
       "      <td>...</td>\n",
       "      <td>...</td>\n",
       "    </tr>\n",
       "    <tr>\n",
       "      <td>20702</td>\n",
       "      <td>0</td>\n",
       "      <td>2194.220567</td>\n",
       "      <td>64</td>\n",
       "      <td>среднее</td>\n",
       "      <td>1</td>\n",
       "      <td>женат / замужем</td>\n",
       "      <td>0</td>\n",
       "      <td>F</td>\n",
       "      <td>пенсионер</td>\n",
       "      <td>0</td>\n",
       "      <td>145017</td>\n",
       "      <td>дополнительное образование</td>\n",
       "    </tr>\n",
       "    <tr>\n",
       "      <td>21032</td>\n",
       "      <td>0</td>\n",
       "      <td>2194.220567</td>\n",
       "      <td>60</td>\n",
       "      <td>среднее</td>\n",
       "      <td>1</td>\n",
       "      <td>женат / замужем</td>\n",
       "      <td>0</td>\n",
       "      <td>F</td>\n",
       "      <td>пенсионер</td>\n",
       "      <td>0</td>\n",
       "      <td>145017</td>\n",
       "      <td>заняться образованием</td>\n",
       "    </tr>\n",
       "    <tr>\n",
       "      <td>21132</td>\n",
       "      <td>0</td>\n",
       "      <td>2194.220567</td>\n",
       "      <td>47</td>\n",
       "      <td>среднее</td>\n",
       "      <td>1</td>\n",
       "      <td>женат / замужем</td>\n",
       "      <td>0</td>\n",
       "      <td>F</td>\n",
       "      <td>сотрудник</td>\n",
       "      <td>0</td>\n",
       "      <td>145017</td>\n",
       "      <td>ремонт жилью</td>\n",
       "    </tr>\n",
       "    <tr>\n",
       "      <td>21281</td>\n",
       "      <td>1</td>\n",
       "      <td>2194.220567</td>\n",
       "      <td>30</td>\n",
       "      <td>высшее</td>\n",
       "      <td>0</td>\n",
       "      <td>женат / замужем</td>\n",
       "      <td>0</td>\n",
       "      <td>F</td>\n",
       "      <td>сотрудник</td>\n",
       "      <td>0</td>\n",
       "      <td>145017</td>\n",
       "      <td>покупка коммерческой недвижимости</td>\n",
       "    </tr>\n",
       "    <tr>\n",
       "      <td>21415</td>\n",
       "      <td>0</td>\n",
       "      <td>2194.220567</td>\n",
       "      <td>54</td>\n",
       "      <td>среднее</td>\n",
       "      <td>1</td>\n",
       "      <td>женат / замужем</td>\n",
       "      <td>0</td>\n",
       "      <td>F</td>\n",
       "      <td>пенсионер</td>\n",
       "      <td>0</td>\n",
       "      <td>145017</td>\n",
       "      <td>операции с жильем</td>\n",
       "    </tr>\n",
       "  </tbody>\n",
       "</table>\n",
       "<p>72 rows × 12 columns</p>\n",
       "</div>"
      ],
      "text/plain": [
       "       children  days_employed  dob_years education  education_id  \\\n",
       "2849          0    2194.220567         41   среднее             1   \n",
       "3290          0    2194.220567         58   среднее             1   \n",
       "4182          1    2194.220567         34    высшее             0   \n",
       "4851          0    2194.220567         60   среднее             1   \n",
       "5557          0    2194.220567         58   среднее             1   \n",
       "...         ...            ...        ...       ...           ...   \n",
       "20702         0    2194.220567         64   среднее             1   \n",
       "21032         0    2194.220567         60   среднее             1   \n",
       "21132         0    2194.220567         47   среднее             1   \n",
       "21281         1    2194.220567         30    высшее             0   \n",
       "21415         0    2194.220567         54   среднее             1   \n",
       "\n",
       "          family_status  family_status_id gender income_type  debt  \\\n",
       "2849    женат / замужем                 0      F   сотрудник     0   \n",
       "3290   гражданский брак                 1      F   пенсионер     0   \n",
       "4182   гражданский брак                 1      F   сотрудник     0   \n",
       "4851   гражданский брак                 1      F   пенсионер     0   \n",
       "5557   гражданский брак                 1      F   пенсионер     0   \n",
       "...                 ...               ...    ...         ...   ...   \n",
       "20702   женат / замужем                 0      F   пенсионер     0   \n",
       "21032   женат / замужем                 0      F   пенсионер     0   \n",
       "21132   женат / замужем                 0      F   сотрудник     0   \n",
       "21281   женат / замужем                 0      F   сотрудник     0   \n",
       "21415   женат / замужем                 0      F   пенсионер     0   \n",
       "\n",
       "       total_income                            purpose  \n",
       "2849         145017            покупка жилья для семьи  \n",
       "3290         145017                    сыграть свадьбу  \n",
       "4182         145017                            свадьба  \n",
       "4851         145017                            свадьба  \n",
       "5557         145017                    сыграть свадьбу  \n",
       "...             ...                                ...  \n",
       "20702        145017         дополнительное образование  \n",
       "21032        145017              заняться образованием  \n",
       "21132        145017                       ремонт жилью  \n",
       "21281        145017  покупка коммерческой недвижимости  \n",
       "21415        145017                  операции с жильем  \n",
       "\n",
       "[72 rows x 12 columns]"
      ]
     },
     "execution_count": 37,
     "metadata": {},
     "output_type": "execute_result"
    }
   ],
   "source": [
    "df_work[df_work.duplicated()]"
   ]
  },
  {
   "cell_type": "code",
   "execution_count": 38,
   "metadata": {},
   "outputs": [
    {
     "data": {
      "text/plain": [
       "72"
      ]
     },
     "execution_count": 38,
     "metadata": {},
     "output_type": "execute_result"
    }
   ],
   "source": [
    "df.duplicated().sum()"
   ]
  },
  {
   "cell_type": "code",
   "execution_count": 39,
   "metadata": {},
   "outputs": [
    {
     "name": "stdout",
     "output_type": "stream",
     "text": [
      "Доля дубликатов в датафрейме:0.33%\n"
     ]
    }
   ],
   "source": [
    "print('Доля дубликатов в датафрейме:{:.2%}'.format(df.duplicated().sum()/len(df_work['days_employed'])))"
   ]
  },
  {
   "cell_type": "markdown",
   "metadata": {},
   "source": [
    "**Вывод**: установлено наличие дубликатов, доля дубликатов в датафрейме:0.33%. Устраним их. "
   ]
  },
  {
   "cell_type": "code",
   "execution_count": 40,
   "metadata": {},
   "outputs": [
    {
     "name": "stdout",
     "output_type": "stream",
     "text": [
      "21453\n"
     ]
    }
   ],
   "source": [
    "df_work = df_work.drop_duplicates().reset_index(drop=True)\n",
    "print(len(df_work))"
   ]
  },
  {
   "cell_type": "markdown",
   "metadata": {},
   "source": [
    "### Категоризация данных"
   ]
  },
  {
   "cell_type": "code",
   "execution_count": 41,
   "metadata": {},
   "outputs": [
    {
     "name": "stdout",
     "output_type": "stream",
     "text": [
      "   children  days_employed  dob_years education  education_id  \\\n",
      "0         1    8437.673028         42    высшее             0   \n",
      "1         1    4024.803754         36   среднее             1   \n",
      "2         0    5623.422610         33   среднее             1   \n",
      "3         3    4124.747207         32   среднее             1   \n",
      "4         0  340266.072047         53   среднее             1   \n",
      "5         0     926.185831         27    высшее             0   \n",
      "6         0    2879.202052         43    высшее             0   \n",
      "7         0     152.779569         50   среднее             1   \n",
      "8         2    6929.865299         35    высшее             0   \n",
      "9         0    2188.756445         41   среднее             1   \n",
      "\n",
      "      family_status  family_status_id gender income_type  debt  total_income  \\\n",
      "0   женат / замужем                 0      F   сотрудник     0        253875   \n",
      "1   женат / замужем                 0      F   сотрудник     0        112080   \n",
      "2   женат / замужем                 0      M   сотрудник     0        145885   \n",
      "3   женат / замужем                 0      M   сотрудник     0        267628   \n",
      "4  гражданский брак                 1      F   пенсионер     0        158616   \n",
      "5  гражданский брак                 1      M   компаньон     0        255763   \n",
      "6   женат / замужем                 0      F   компаньон     0        240525   \n",
      "7   женат / замужем                 0      M   сотрудник     0        135823   \n",
      "8  гражданский брак                 1      F   сотрудник     0         95856   \n",
      "9   женат / замужем                 0      M   сотрудник     0        144425   \n",
      "\n",
      "                      purpose total_income_category  \n",
      "0               покупка жилья           категория B  \n",
      "1     приобретение автомобиля           категория C  \n",
      "2               покупка жилья           категория C  \n",
      "3  дополнительное образование           категория B  \n",
      "4             сыграть свадьбу           категория C  \n",
      "5               покупка жилья           категория B  \n",
      "6           операции с жильем           категория B  \n",
      "7                 образование           категория C  \n",
      "8       на проведение свадьбы           категория C  \n",
      "9     покупка жилья для семьи           категория C  \n"
     ]
    }
   ],
   "source": [
    "def total_income_category(total_income):\n",
    "    if 0 <= total_income <= 30000:\n",
    "        return 'категория E'\n",
    "    if 30001 <= total_income <= 50000:\n",
    "        return 'категория D'\n",
    "    if 50001 <= total_income <= 200000:\n",
    "        return 'категория C'\n",
    "    if 200001 <= total_income <= 1000000:\n",
    "        return 'категория B'\n",
    "\n",
    "    return 'категория A' \n",
    "\n",
    "df_work['total_income_category'] = df_work['total_income'].apply(total_income_category)\n",
    "print(df_work.head(10))"
   ]
  },
  {
   "cell_type": "code",
   "execution_count": 42,
   "metadata": {},
   "outputs": [
    {
     "name": "stdout",
     "output_type": "stream",
     "text": [
      "категория D\n"
     ]
    }
   ],
   "source": [
    "print(total_income_category(32572)) # проверка"
   ]
  },
  {
   "cell_type": "markdown",
   "metadata": {},
   "source": [
    "Замена произведена корректно."
   ]
  },
  {
   "cell_type": "code",
   "execution_count": 43,
   "metadata": {},
   "outputs": [
    {
     "name": "stdout",
     "output_type": "stream",
     "text": [
      "total_income_category\n",
      "категория A    0.001165\n",
      "категория B    0.234979\n",
      "категория C    0.746516\n",
      "категория D    0.016315\n",
      "категория E    0.001025\n",
      "dtype: float64\n"
     ]
    }
   ],
   "source": [
    "# Доля каждой группы:\n",
    "print(df_work.groupby(df_work['total_income_category']).size() / len(df_work['total_income_category']))"
   ]
  },
  {
   "cell_type": "markdown",
   "metadata": {},
   "source": [
    "клиенты, чей доход находится в диапазоне от 0 до 30 000 - категорию 'E'- 0,1%; \n",
    "при доходе от 30 001 до 50 000 — категория 'D' - 1,6% ; \n",
    "50 001–200 000 — категория 'C' - 74,6% ; \n",
    "200 001–1 000 000 — категория 'B' - 23,4%; \n",
    "от 1 000 001 - категория 'A' -0,1%."
   ]
  },
  {
   "cell_type": "markdown",
   "metadata": {},
   "source": [
    "Для столбца **purpose** определим следующие категории: 'операции с автомобилем', 'операции с недвижимостью', 'проведение свадьбы', 'получение образования'. Для обощения наименований в категории, выполним отбор и группировку:"
   ]
  },
  {
   "cell_type": "code",
   "execution_count": 44,
   "metadata": {},
   "outputs": [
    {
     "name": "stdout",
     "output_type": "stream",
     "text": [
      "['на покупку своего автомобиля', 'автомобиль', 'сделка с подержанным автомобилем', 'свой автомобиль', 'на покупку подержанного автомобиля', 'на покупку автомобиля', 'приобретение автомобиля', 'сделка с автомобилем']\n"
     ]
    }
   ],
   "source": [
    "# Для категории  'операции с автомобилем' создадим переменную avto, \n",
    "#которая будет хранить варианты написания подобной причины из столбца purpose\n",
    "\n",
    "avto =[]\n",
    "queries = ['свадьба', 'на проведение свадьбы', 'сыграть свадьбу', \n",
    "        'операции с недвижимостью', 'покупка коммерческой недвижимости', \n",
    "        'покупка жилья для сдачи', 'операции с жильем', 'операции с коммерческой недвижимостью', \n",
    "        'покупка жилья', 'жилье', 'покупка жилья для семьи' , \n",
    "        'строительство собственной недвижимости', 'недвижимость', \n",
    "        'операции со своей недвижимостью', 'строительство жилой недвижимости' , \n",
    "        'покупка недвижимости', 'строительство недвижимости', 'покупка своего жилья', \n",
    "        'ремонт жилью', 'покупка жилой недвижимости', 'на покупку своего автомобиля', \n",
    "        'заняться высшим образованием', 'автомобиль' , 'сделка с подержанным автомобилем' , \n",
    "        'свой автомобиль' , 'на покупку подержанного автомобиля' , 'автомобили', 'на покупку автомобиля', \n",
    "        'дополнительное образование', 'приобретение автомобиля', 'сделка с автомобилем', \n",
    "        'высшее образование' , 'образование', 'получение дополнительного образования', \n",
    "        'получение образования', 'профильное образование', 'получение высшего образования', \n",
    "        'заняться образованием' ]\n",
    "for query in queries:\n",
    "    for word in query.split():\n",
    "        stemmed_word = russian_stemmer.stem(word)\n",
    "        if stemmed_word == 'автомобил':\n",
    "            avto.append(query)\n",
    "print(avto) "
   ]
  },
  {
   "cell_type": "code",
   "execution_count": 45,
   "metadata": {},
   "outputs": [
    {
     "name": "stdout",
     "output_type": "stream",
     "text": [
      "['свадьба', 'на проведение свадьбы', 'сыграть свадьбу']\n"
     ]
    }
   ],
   "source": [
    "# Для категории  'проведение свадьбы' создадим переменную wedding, \n",
    "#которая будет хранить варианты написания подобной причины из столбца purpose\n",
    "\n",
    "wedding =[]\n",
    "for query in queries:\n",
    "    for word in query.split():\n",
    "        stemmed_word = russian_stemmer.stem(word)\n",
    "        if stemmed_word == 'свадьб':\n",
    "            wedding.append(query)\n",
    "print(wedding) "
   ]
  },
  {
   "cell_type": "code",
   "execution_count": 46,
   "metadata": {},
   "outputs": [
    {
     "name": "stdout",
     "output_type": "stream",
     "text": [
      "['заняться высшим образованием', 'дополнительное образование', 'высшее образование', 'образование', 'получение дополнительного образования', 'получение образования', 'профильное образование', 'получение высшего образования', 'заняться образованием']\n"
     ]
    }
   ],
   "source": [
    "# Для категории  'получение образования' создадим переменную education, \n",
    "#которая будет хранить варианты написания подобной причины из столбца purpose\n",
    "\n",
    "education =[]\n",
    "for query in queries:\n",
    "    for word in query.split():\n",
    "        stemmed_word = russian_stemmer.stem(word)\n",
    "        if stemmed_word == 'образован':\n",
    "            education.append(query)\n",
    "print(education)            "
   ]
  },
  {
   "cell_type": "code",
   "execution_count": 47,
   "metadata": {},
   "outputs": [
    {
     "name": "stdout",
     "output_type": "stream",
     "text": [
      "['операции с недвижимостью', 'покупка коммерческой недвижимости', 'операции с коммерческой недвижимостью', 'строительство собственной недвижимости', 'недвижимость', 'операции со своей недвижимостью', 'строительство жилой недвижимости', 'покупка недвижимости', 'строительство недвижимости', 'покупка жилой недвижимости']\n"
     ]
    }
   ],
   "source": [
    "# Для категории  'операции с недвижимостью' создадим переменную realty, \n",
    "#которая будет хранить варианты написания подобной причины из столбца purpose\n",
    "realty = []\n",
    "for query in queries:\n",
    "    for word in query.split():\n",
    "        stemmed_word = russian_stemmer.stem(word)\n",
    "        if stemmed_word == 'недвижим':\n",
    "            realty.append(query)\n",
    "print(realty) "
   ]
  },
  {
   "cell_type": "code",
   "execution_count": 48,
   "metadata": {},
   "outputs": [
    {
     "name": "stdout",
     "output_type": "stream",
     "text": [
      "['операции с недвижимостью', 'покупка коммерческой недвижимости', 'операции с коммерческой недвижимостью', 'строительство собственной недвижимости', 'недвижимость', 'операции со своей недвижимостью', 'строительство жилой недвижимости', 'покупка недвижимости', 'строительство недвижимости', 'покупка жилой недвижимости', 'покупка жилья для сдачи', 'операции с жильем', 'покупка жилья', 'жилье', 'покупка жилья для семьи', 'строительство жилой недвижимости', 'покупка своего жилья', 'ремонт жилью', 'покупка жилой недвижимости']\n"
     ]
    }
   ],
   "source": [
    "# для вариаций с упоминанием \"жильё\"\n",
    "for query in queries:\n",
    "    for word in query.split():\n",
    "        stemmed_word = russian_stemmer.stem(word)\n",
    "        if stemmed_word == 'жил':\n",
    "            realty.append(query)\n",
    "print(realty)  "
   ]
  },
  {
   "cell_type": "markdown",
   "metadata": {},
   "source": [
    "Спасибо, так намного проще, я применила ниже"
   ]
  },
  {
   "cell_type": "code",
   "execution_count": 49,
   "metadata": {},
   "outputs": [
    {
     "name": "stdout",
     "output_type": "stream",
     "text": [
      "   children  days_employed  dob_years education  education_id  \\\n",
      "0         1    8437.673028         42    высшее             0   \n",
      "1         1    4024.803754         36   среднее             1   \n",
      "2         0    5623.422610         33   среднее             1   \n",
      "3         3    4124.747207         32   среднее             1   \n",
      "4         0  340266.072047         53   среднее             1   \n",
      "5         0     926.185831         27    высшее             0   \n",
      "6         0    2879.202052         43    высшее             0   \n",
      "7         0     152.779569         50   среднее             1   \n",
      "8         2    6929.865299         35    высшее             0   \n",
      "9         0    2188.756445         41   среднее             1   \n",
      "\n",
      "      family_status  family_status_id gender income_type  debt  total_income  \\\n",
      "0   женат / замужем                 0      F   сотрудник     0        253875   \n",
      "1   женат / замужем                 0      F   сотрудник     0        112080   \n",
      "2   женат / замужем                 0      M   сотрудник     0        145885   \n",
      "3   женат / замужем                 0      M   сотрудник     0        267628   \n",
      "4  гражданский брак                 1      F   пенсионер     0        158616   \n",
      "5  гражданский брак                 1      M   компаньон     0        255763   \n",
      "6   женат / замужем                 0      F   компаньон     0        240525   \n",
      "7   женат / замужем                 0      M   сотрудник     0        135823   \n",
      "8  гражданский брак                 1      F   сотрудник     0         95856   \n",
      "9   женат / замужем                 0      M   сотрудник     0        144425   \n",
      "\n",
      "                      purpose total_income_category          purpose_category  \n",
      "0               покупка жилья           категория B  операции с недвижимостью  \n",
      "1     приобретение автомобиля           категория C    операции с автомобилем  \n",
      "2               покупка жилья           категория C  операции с недвижимостью  \n",
      "3  дополнительное образование           категория B     получение образования  \n",
      "4             сыграть свадьбу           категория C        проведение свадьбы  \n",
      "5               покупка жилья           категория B  операции с недвижимостью  \n",
      "6           операции с жильем           категория B  операции с недвижимостью  \n",
      "7                 образование           категория C     получение образования  \n",
      "8       на проведение свадьбы           категория C        проведение свадьбы  \n",
      "9     покупка жилья для семьи           категория C  операции с недвижимостью  \n"
     ]
    }
   ],
   "source": [
    "# Функция purpose_category присвоит соответствующие категории, далее добавим столбец purpose_category в датафрейм\n",
    "def purpose_category(purpose):\n",
    "    if purpose in wedding:\n",
    "        return 'проведение свадьбы'\n",
    "    if purpose in education:\n",
    "        return 'получение образования'\n",
    "    if purpose in realty:\n",
    "        return 'операции с недвижимостью'\n",
    "    if purpose in avto:\n",
    "        return 'операции с автомобилем'\n",
    "\n",
    "\n",
    "df_work['purpose_category'] = df_work['purpose'].apply(purpose_category)\n",
    "print(df_work.head(10))"
   ]
  },
  {
   "cell_type": "code",
   "execution_count": 50,
   "metadata": {},
   "outputs": [
    {
     "name": "stdout",
     "output_type": "stream",
     "text": [
      "получение образования\n"
     ]
    }
   ],
   "source": [
    "# проверим корректность на примере\n",
    "print(purpose_category('заняться высшим образованием'))\n"
   ]
  },
  {
   "cell_type": "code",
   "execution_count": 51,
   "metadata": {},
   "outputs": [
    {
     "name": "stdout",
     "output_type": "stream",
     "text": [
      "   children  days_employed  dob_years education  education_id  \\\n",
      "0         1    8437.673028         42    высшее             0   \n",
      "1         1    4024.803754         36   среднее             1   \n",
      "2         0    5623.422610         33   среднее             1   \n",
      "3         3    4124.747207         32   среднее             1   \n",
      "4         0  340266.072047         53   среднее             1   \n",
      "5         0     926.185831         27    высшее             0   \n",
      "6         0    2879.202052         43    высшее             0   \n",
      "7         0     152.779569         50   среднее             1   \n",
      "8         2    6929.865299         35    высшее             0   \n",
      "9         0    2188.756445         41   среднее             1   \n",
      "\n",
      "      family_status  family_status_id gender income_type  debt  total_income  \\\n",
      "0   женат / замужем                 0      F   сотрудник     0        253875   \n",
      "1   женат / замужем                 0      F   сотрудник     0        112080   \n",
      "2   женат / замужем                 0      M   сотрудник     0        145885   \n",
      "3   женат / замужем                 0      M   сотрудник     0        267628   \n",
      "4  гражданский брак                 1      F   пенсионер     0        158616   \n",
      "5  гражданский брак                 1      M   компаньон     0        255763   \n",
      "6   женат / замужем                 0      F   компаньон     0        240525   \n",
      "7   женат / замужем                 0      M   сотрудник     0        135823   \n",
      "8  гражданский брак                 1      F   сотрудник     0         95856   \n",
      "9   женат / замужем                 0      M   сотрудник     0        144425   \n",
      "\n",
      "                      purpose total_income_category          purpose_category  \\\n",
      "0               покупка жилья           категория B  операции с недвижимостью   \n",
      "1     приобретение автомобиля           категория C    операции с автомобилем   \n",
      "2               покупка жилья           категория C  операции с недвижимостью   \n",
      "3  дополнительное образование           категория B     получение образования   \n",
      "4             сыграть свадьбу           категория C        проведение свадьбы   \n",
      "5               покупка жилья           категория B  операции с недвижимостью   \n",
      "6           операции с жильем           категория B  операции с недвижимостью   \n",
      "7                 образование           категория C     получение образования   \n",
      "8       на проведение свадьбы           категория C        проведение свадьбы   \n",
      "9     покупка жилья для семьи           категория C  операции с недвижимостью   \n",
      "\n",
      "       purpose_category_rev  \n",
      "0  операции с недвижимостью  \n",
      "1    операции с автомобилем  \n",
      "2  операции с недвижимостью  \n",
      "3     получение образования  \n",
      "4        проведение свадьбы  \n",
      "5  операции с недвижимостью  \n",
      "6  операции с недвижимостью  \n",
      "7     получение образования  \n",
      "8        проведение свадьбы  \n",
      "9  операции с недвижимостью  \n"
     ]
    }
   ],
   "source": [
    "def purpose_category_rev1(purpose):\n",
    "    if 'свадьб' in purpose:\n",
    "        return 'проведение свадьбы'\n",
    "    elif 'жиль' in purpose or 'недвиж' in purpose:\n",
    "        return 'операции с недвижимостью'\n",
    "    elif 'авто' in purpose:\n",
    "        return 'операции с автомобилем'\n",
    "    elif 'образов' in purpose:\n",
    "        return 'получение образования'\n",
    "    else:\n",
    "        return 'прочее' \n",
    "\n",
    "df_work['purpose_category_rev'] = df_work['purpose'].apply(purpose_category_rev1)\n",
    "df_work['purpose_category_rev'].value_counts() \n",
    "print(df_work.head(10))"
   ]
  },
  {
   "cell_type": "code",
   "execution_count": 52,
   "metadata": {},
   "outputs": [
    {
     "name": "stdout",
     "output_type": "stream",
     "text": [
      "purpose_category\n",
      "операции с автомобилем      0.178437\n",
      "операции с недвижимостью    0.503939\n",
      "получение образования       0.187060\n",
      "проведение свадьбы          0.108283\n",
      "dtype: float64\n"
     ]
    }
   ],
   "source": [
    "# Доля каждой группы:\n",
    "print(df_work.groupby(df_work['purpose_category']).size() / len(df_work['purpose_category']))"
   ]
  },
  {
   "cell_type": "markdown",
   "metadata": {},
   "source": [
    "**Вывод**: функции для присвоения категорий сработали корректно. \n",
    "Назначения кредитов распределились в следующей пропорции:\n",
    "операции с недвижимостью    50%\n",
    "получение образования       18,7%\n",
    "операции с автомобилем      17,8%\n",
    "проведение свадьбы          10%"
   ]
  },
  {
   "cell_type": "markdown",
   "metadata": {},
   "source": [
    "### Содание дополнительных таблиц"
   ]
  },
  {
   "cell_type": "markdown",
   "metadata": {},
   "source": [
    "Продолжим работу по оптимизации данных. Обратим внимание на группу столбцов family_status, family_status_id, education и education_id. \n",
    "Создадим новые датафреймы\n",
    "\n",
    "**family_dict**, куда войдёт информация из family_status, family_status_id.\n",
    "\n",
    "**educ_dict**, куда поместим сведения из education и education_id.\n",
    "\n",
    "**purpose_dict**, куда поместим сведения из purpose и purpose_category.\n",
    "\n",
    "**total_income_dict**, куда поместим сведения из total_income и total_income_category.\n",
    "\n",
    "В рабочем датафрейме оставим family_status_id, education_id, purpose_category, total_income_category, что облегчит восприятие, а сформированные датафреймы могут служить источником справочной информации при необходимости."
   ]
  },
  {
   "cell_type": "code",
   "execution_count": 53,
   "metadata": {},
   "outputs": [
    {
     "name": "stdout",
     "output_type": "stream",
     "text": [
      "<class 'pandas.core.frame.DataFrame'>\n",
      "RangeIndex: 21453 entries, 0 to 21452\n",
      "Data columns (total 15 columns):\n",
      "children                 21453 non-null int64\n",
      "days_employed            21453 non-null float64\n",
      "dob_years                21453 non-null int64\n",
      "education                21453 non-null object\n",
      "education_id             21453 non-null int64\n",
      "family_status            21453 non-null object\n",
      "family_status_id         21453 non-null int64\n",
      "gender                   21453 non-null object\n",
      "income_type              21453 non-null object\n",
      "debt                     21453 non-null int64\n",
      "total_income             21453 non-null int64\n",
      "purpose                  21453 non-null object\n",
      "total_income_category    21453 non-null object\n",
      "purpose_category         20975 non-null object\n",
      "purpose_category_rev     21453 non-null object\n",
      "dtypes: float64(1), int64(6), object(8)\n",
      "memory usage: 2.5+ MB\n"
     ]
    }
   ],
   "source": [
    "df_work.info()"
   ]
  },
  {
   "cell_type": "code",
   "execution_count": 54,
   "metadata": {},
   "outputs": [],
   "source": [
    "family_dict = df_work[['family_status', 'family_status_id']]\n",
    "family_dict = family_dict.drop_duplicates()\n",
    "df_work = df_work.drop(columns=['family_status'])\n",
    "\n",
    "purpose_dict = df_work [['purpose','purpose_category']]\n",
    "purpose_dict = purpose_dict.drop_duplicates()\n",
    "df_work = df_work.drop(columns=['purpose'])\n",
    "\n",
    "total_income_dict = df_work [['total_income','total_income_category']]\n",
    "total_income_dict = total_income_dict.drop_duplicates()\n",
    "df_work = df_work.drop(columns=['total_income'])\n",
    "\n",
    "educ_dict = df_work[['education_id', 'education']]\n",
    "educ_dict = educ_dict.drop_duplicates()\n",
    "df_work = df_work.drop(columns=['education'])\n",
    "df_work = df_work.drop(columns=['purpose_category_rev'])"
   ]
  },
  {
   "cell_type": "code",
   "execution_count": 55,
   "metadata": {
    "scrolled": true
   },
   "outputs": [
    {
     "name": "stdout",
     "output_type": "stream",
     "text": [
      "<class 'pandas.core.frame.DataFrame'>\n",
      "RangeIndex: 21453 entries, 0 to 21452\n",
      "Data columns (total 10 columns):\n",
      "children                 21453 non-null int64\n",
      "days_employed            21453 non-null float64\n",
      "dob_years                21453 non-null int64\n",
      "education_id             21453 non-null int64\n",
      "family_status_id         21453 non-null int64\n",
      "gender                   21453 non-null object\n",
      "income_type              21453 non-null object\n",
      "debt                     21453 non-null int64\n",
      "total_income_category    21453 non-null object\n",
      "purpose_category         20975 non-null object\n",
      "dtypes: float64(1), int64(5), object(4)\n",
      "memory usage: 1.6+ MB\n"
     ]
    }
   ],
   "source": [
    "df_work.info()"
   ]
  },
  {
   "cell_type": "code",
   "execution_count": 56,
   "metadata": {},
   "outputs": [
    {
     "data": {
      "text/plain": [
       "331"
      ]
     },
     "execution_count": 56,
     "metadata": {},
     "output_type": "execute_result"
    }
   ],
   "source": [
    "# проверим не появились ли дубликаты\n",
    "df_work.duplicated().sum()"
   ]
  },
  {
   "cell_type": "code",
   "execution_count": 57,
   "metadata": {},
   "outputs": [
    {
     "name": "stdout",
     "output_type": "stream",
     "text": [
      "Доля дубликатов в датафрейме:1.54%\n"
     ]
    }
   ],
   "source": [
    "print('Доля дубликатов в датафрейме:{:.2%}'.format(df_work.duplicated().sum()/len(df_work['days_employed'])))"
   ]
  },
  {
   "cell_type": "code",
   "execution_count": 58,
   "metadata": {},
   "outputs": [
    {
     "name": "stdout",
     "output_type": "stream",
     "text": [
      "21122\n"
     ]
    }
   ],
   "source": [
    "# очистим данные от дубликатов\n",
    "df_work = df_work.drop_duplicates().reset_index(drop=True)\n",
    "print(len(df_work))"
   ]
  },
  {
   "cell_type": "markdown",
   "metadata": {},
   "source": [
    "## Ответы на вопросы, поставленные в начале исследования"
   ]
  },
  {
   "cell_type": "markdown",
   "metadata": {},
   "source": [
    "**Есть ли зависимость между наличием детей и возвратом кредита в срок?**"
   ]
  },
  {
   "cell_type": "code",
   "execution_count": 59,
   "metadata": {},
   "outputs": [
    {
     "data": {
      "text/html": [
       "<div>\n",
       "<style scoped>\n",
       "    .dataframe tbody tr th:only-of-type {\n",
       "        vertical-align: middle;\n",
       "    }\n",
       "\n",
       "    .dataframe tbody tr th {\n",
       "        vertical-align: top;\n",
       "    }\n",
       "\n",
       "    .dataframe thead th {\n",
       "        text-align: right;\n",
       "    }\n",
       "</style>\n",
       "<table border=\"1\" class=\"dataframe\">\n",
       "  <thead>\n",
       "    <tr style=\"text-align: right;\">\n",
       "      <th></th>\n",
       "      <th>Общее число лиц в группе</th>\n",
       "      <th>Количество должников в группе</th>\n",
       "    </tr>\n",
       "    <tr>\n",
       "      <th>children</th>\n",
       "      <th></th>\n",
       "      <th></th>\n",
       "    </tr>\n",
       "  </thead>\n",
       "  <tbody>\n",
       "    <tr>\n",
       "      <td>0</td>\n",
       "      <td>13831</td>\n",
       "      <td>1061</td>\n",
       "    </tr>\n",
       "    <tr>\n",
       "      <td>1</td>\n",
       "      <td>4798</td>\n",
       "      <td>445</td>\n",
       "    </tr>\n",
       "    <tr>\n",
       "      <td>2</td>\n",
       "      <td>2115</td>\n",
       "      <td>202</td>\n",
       "    </tr>\n",
       "    <tr>\n",
       "      <td>3</td>\n",
       "      <td>329</td>\n",
       "      <td>27</td>\n",
       "    </tr>\n",
       "    <tr>\n",
       "      <td>4</td>\n",
       "      <td>40</td>\n",
       "      <td>4</td>\n",
       "    </tr>\n",
       "    <tr>\n",
       "      <td>5</td>\n",
       "      <td>9</td>\n",
       "      <td>0</td>\n",
       "    </tr>\n",
       "  </tbody>\n",
       "</table>\n",
       "</div>"
      ],
      "text/plain": [
       "          Общее число лиц в группе  Количество должников в группе\n",
       "children                                                         \n",
       "0                            13831                           1061\n",
       "1                             4798                            445\n",
       "2                             2115                            202\n",
       "3                              329                             27\n",
       "4                               40                              4\n",
       "5                                9                              0"
      ]
     },
     "execution_count": 59,
     "metadata": {},
     "output_type": "execute_result"
    }
   ],
   "source": [
    "df_children = df_work.groupby('children')['debt'].agg(['count', 'sum'])\n",
    "df_children.columns = ['Общее число лиц в группе', 'Количество должников в группе']\n",
    "df_children"
   ]
  },
  {
   "cell_type": "code",
   "execution_count": 60,
   "metadata": {},
   "outputs": [
    {
     "name": "stdout",
     "output_type": "stream",
     "text": [
      "1739\n"
     ]
    }
   ],
   "source": [
    "print(df_work.loc[df_work.loc[:,'debt'] == 1]['debt'].count())"
   ]
  },
  {
   "cell_type": "code",
   "execution_count": 61,
   "metadata": {},
   "outputs": [
    {
     "data": {
      "text/html": [
       "<div>\n",
       "<style scoped>\n",
       "    .dataframe tbody tr th:only-of-type {\n",
       "        vertical-align: middle;\n",
       "    }\n",
       "\n",
       "    .dataframe tbody tr th {\n",
       "        vertical-align: top;\n",
       "    }\n",
       "\n",
       "    .dataframe thead th {\n",
       "        text-align: right;\n",
       "    }\n",
       "</style>\n",
       "<table border=\"1\" class=\"dataframe\">\n",
       "  <thead>\n",
       "    <tr style=\"text-align: right;\">\n",
       "      <th></th>\n",
       "      <th>sum</th>\n",
       "    </tr>\n",
       "    <tr>\n",
       "      <th>children</th>\n",
       "      <th></th>\n",
       "    </tr>\n",
       "  </thead>\n",
       "  <tbody>\n",
       "    <tr>\n",
       "      <td>0</td>\n",
       "      <td>1061</td>\n",
       "    </tr>\n",
       "    <tr>\n",
       "      <td>1</td>\n",
       "      <td>445</td>\n",
       "    </tr>\n",
       "    <tr>\n",
       "      <td>2</td>\n",
       "      <td>202</td>\n",
       "    </tr>\n",
       "    <tr>\n",
       "      <td>3</td>\n",
       "      <td>27</td>\n",
       "    </tr>\n",
       "    <tr>\n",
       "      <td>4</td>\n",
       "      <td>4</td>\n",
       "    </tr>\n",
       "    <tr>\n",
       "      <td>5</td>\n",
       "      <td>0</td>\n",
       "    </tr>\n",
       "  </tbody>\n",
       "</table>\n",
       "</div>"
      ],
      "text/plain": [
       "           sum\n",
       "children      \n",
       "0         1061\n",
       "1          445\n",
       "2          202\n",
       "3           27\n",
       "4            4\n",
       "5            0"
      ]
     },
     "execution_count": 61,
     "metadata": {},
     "output_type": "execute_result"
    }
   ],
   "source": [
    "df_children = df_work.groupby('children')['debt'].agg(['sum'])\n",
    "df_children\n"
   ]
  },
  {
   "cell_type": "code",
   "execution_count": 62,
   "metadata": {},
   "outputs": [
    {
     "data": {
      "text/html": [
       "<div>\n",
       "<style scoped>\n",
       "    .dataframe tbody tr th:only-of-type {\n",
       "        vertical-align: middle;\n",
       "    }\n",
       "\n",
       "    .dataframe tbody tr th {\n",
       "        vertical-align: top;\n",
       "    }\n",
       "\n",
       "    .dataframe thead th {\n",
       "        text-align: right;\n",
       "    }\n",
       "</style>\n",
       "<table border=\"1\" class=\"dataframe\">\n",
       "  <thead>\n",
       "    <tr style=\"text-align: right;\">\n",
       "      <th></th>\n",
       "      <th>sum</th>\n",
       "    </tr>\n",
       "    <tr>\n",
       "      <th>children</th>\n",
       "      <th></th>\n",
       "    </tr>\n",
       "  </thead>\n",
       "  <tbody>\n",
       "    <tr>\n",
       "      <td>0</td>\n",
       "      <td>0.610121</td>\n",
       "    </tr>\n",
       "    <tr>\n",
       "      <td>1</td>\n",
       "      <td>0.255894</td>\n",
       "    </tr>\n",
       "    <tr>\n",
       "      <td>2</td>\n",
       "      <td>0.116159</td>\n",
       "    </tr>\n",
       "    <tr>\n",
       "      <td>3</td>\n",
       "      <td>0.015526</td>\n",
       "    </tr>\n",
       "    <tr>\n",
       "      <td>4</td>\n",
       "      <td>0.002300</td>\n",
       "    </tr>\n",
       "    <tr>\n",
       "      <td>5</td>\n",
       "      <td>0.000000</td>\n",
       "    </tr>\n",
       "  </tbody>\n",
       "</table>\n",
       "</div>"
      ],
      "text/plain": [
       "               sum\n",
       "children          \n",
       "0         0.610121\n",
       "1         0.255894\n",
       "2         0.116159\n",
       "3         0.015526\n",
       "4         0.002300\n",
       "5         0.000000"
      ]
     },
     "execution_count": 62,
     "metadata": {},
     "output_type": "execute_result"
    }
   ],
   "source": [
    "share_of_group_children = df_children/df_work.loc[df_work.loc[:,'debt'] == 1]['debt'].count()\n",
    "share_of_group_children"
   ]
  },
  {
   "cell_type": "markdown",
   "metadata": {},
   "source": [
    "**Вывод**: \n",
    "\n",
    "заёмщики, у которых нет детей чаще не возвращают заёмные средства - 61% случаев несвоевременных платежей;\n",
    "\n",
    "заёмщики, у которых 1 ребёнок составляют долю 25,5%;\n",
    "\n",
    "заёмщики, у которых 2 ребёнка составляют долю 11,6%;\n",
    "\n",
    "заёмщики, у которых от 3 до 5 детей - самые безопасные - составляют долю 1,7%.\n"
   ]
  },
  {
   "cell_type": "markdown",
   "metadata": {},
   "source": [
    "**Есть ли зависимость между семейным положением и возвратом кредита в срок?**"
   ]
  },
  {
   "cell_type": "code",
   "execution_count": 63,
   "metadata": {},
   "outputs": [
    {
     "data": {
      "text/html": [
       "<div>\n",
       "<style scoped>\n",
       "    .dataframe tbody tr th:only-of-type {\n",
       "        vertical-align: middle;\n",
       "    }\n",
       "\n",
       "    .dataframe tbody tr th {\n",
       "        vertical-align: top;\n",
       "    }\n",
       "\n",
       "    .dataframe thead th {\n",
       "        text-align: right;\n",
       "    }\n",
       "</style>\n",
       "<table border=\"1\" class=\"dataframe\">\n",
       "  <thead>\n",
       "    <tr style=\"text-align: right;\">\n",
       "      <th></th>\n",
       "      <th>Общее число лиц в группе</th>\n",
       "      <th>Количество должников в группе</th>\n",
       "    </tr>\n",
       "    <tr>\n",
       "      <th>family_status_id</th>\n",
       "      <th></th>\n",
       "      <th></th>\n",
       "    </tr>\n",
       "  </thead>\n",
       "  <tbody>\n",
       "    <tr>\n",
       "      <td>0</td>\n",
       "      <td>12078</td>\n",
       "      <td>929</td>\n",
       "    </tr>\n",
       "    <tr>\n",
       "      <td>1</td>\n",
       "      <td>4123</td>\n",
       "      <td>388</td>\n",
       "    </tr>\n",
       "    <tr>\n",
       "      <td>2</td>\n",
       "      <td>943</td>\n",
       "      <td>63</td>\n",
       "    </tr>\n",
       "    <tr>\n",
       "      <td>3</td>\n",
       "      <td>1193</td>\n",
       "      <td>85</td>\n",
       "    </tr>\n",
       "    <tr>\n",
       "      <td>4</td>\n",
       "      <td>2785</td>\n",
       "      <td>274</td>\n",
       "    </tr>\n",
       "  </tbody>\n",
       "</table>\n",
       "</div>"
      ],
      "text/plain": [
       "                  Общее число лиц в группе  Количество должников в группе\n",
       "family_status_id                                                         \n",
       "0                                    12078                            929\n",
       "1                                     4123                            388\n",
       "2                                      943                             63\n",
       "3                                     1193                             85\n",
       "4                                     2785                            274"
      ]
     },
     "execution_count": 63,
     "metadata": {},
     "output_type": "execute_result"
    }
   ],
   "source": [
    "df_marrige = df_work.groupby('family_status_id')['debt'].agg(['count', 'sum'])\n",
    "df_marrige.columns = ['Общее число лиц в группе', 'Количество должников в группе']\n",
    "df_marrige"
   ]
  },
  {
   "cell_type": "code",
   "execution_count": 64,
   "metadata": {},
   "outputs": [
    {
     "data": {
      "text/html": [
       "<div>\n",
       "<style scoped>\n",
       "    .dataframe tbody tr th:only-of-type {\n",
       "        vertical-align: middle;\n",
       "    }\n",
       "\n",
       "    .dataframe tbody tr th {\n",
       "        vertical-align: top;\n",
       "    }\n",
       "\n",
       "    .dataframe thead th {\n",
       "        text-align: right;\n",
       "    }\n",
       "</style>\n",
       "<table border=\"1\" class=\"dataframe\">\n",
       "  <thead>\n",
       "    <tr style=\"text-align: right;\">\n",
       "      <th></th>\n",
       "      <th>sum</th>\n",
       "    </tr>\n",
       "    <tr>\n",
       "      <th>family_status_id</th>\n",
       "      <th></th>\n",
       "    </tr>\n",
       "  </thead>\n",
       "  <tbody>\n",
       "    <tr>\n",
       "      <td>0</td>\n",
       "      <td>0.534215</td>\n",
       "    </tr>\n",
       "    <tr>\n",
       "      <td>1</td>\n",
       "      <td>0.223117</td>\n",
       "    </tr>\n",
       "    <tr>\n",
       "      <td>2</td>\n",
       "      <td>0.036228</td>\n",
       "    </tr>\n",
       "    <tr>\n",
       "      <td>3</td>\n",
       "      <td>0.048879</td>\n",
       "    </tr>\n",
       "    <tr>\n",
       "      <td>4</td>\n",
       "      <td>0.157562</td>\n",
       "    </tr>\n",
       "  </tbody>\n",
       "</table>\n",
       "</div>"
      ],
      "text/plain": [
       "                       sum\n",
       "family_status_id          \n",
       "0                 0.534215\n",
       "1                 0.223117\n",
       "2                 0.036228\n",
       "3                 0.048879\n",
       "4                 0.157562"
      ]
     },
     "execution_count": 64,
     "metadata": {},
     "output_type": "execute_result"
    }
   ],
   "source": [
    "df_marrige = df_work.groupby('family_status_id')['debt'].agg(['sum'])\n",
    "share_of_group_marrige = df_marrige/df_work.loc[df_work.loc[:,'debt'] == 1]['debt'].count()\n",
    "share_of_group_marrige"
   ]
  },
  {
   "cell_type": "markdown",
   "metadata": {},
   "source": [
    "**Вывод**: \n",
    "\n",
    "клиенты, состоящие в браке, намного чаще допускают просрочки при платежах - 53% случаев.\n",
    "\n",
    "Клиенты, состоящие в гражданском браке, занимают долю - 22% от общего количества несвоевременных платежей.\n",
    "\n",
    "Вдовцы занимают долю - 3,6% от общего количества несвоевременных платежей.\n",
    "\n",
    "Клиенты, находящиеся в разводе, занимают долю - 5% от общего количества несвоевременных платежей.\n",
    "\n",
    "Клиенты, несостоящие в браке, занимают долю - 15,7% от общего количества несвоевременных платежей. "
   ]
  },
  {
   "cell_type": "markdown",
   "metadata": {},
   "source": [
    "**Есть ли зависимость между уровнем дохода и возвратом кредита в срок?**"
   ]
  },
  {
   "cell_type": "code",
   "execution_count": 65,
   "metadata": {},
   "outputs": [
    {
     "data": {
      "text/html": [
       "<div>\n",
       "<style scoped>\n",
       "    .dataframe tbody tr th:only-of-type {\n",
       "        vertical-align: middle;\n",
       "    }\n",
       "\n",
       "    .dataframe tbody tr th {\n",
       "        vertical-align: top;\n",
       "    }\n",
       "\n",
       "    .dataframe thead th {\n",
       "        text-align: right;\n",
       "    }\n",
       "</style>\n",
       "<table border=\"1\" class=\"dataframe\">\n",
       "  <thead>\n",
       "    <tr style=\"text-align: right;\">\n",
       "      <th></th>\n",
       "      <th>Общее число лиц в группе</th>\n",
       "      <th>Количество должников в группе</th>\n",
       "    </tr>\n",
       "    <tr>\n",
       "      <th>total_income_category</th>\n",
       "      <th></th>\n",
       "      <th></th>\n",
       "    </tr>\n",
       "  </thead>\n",
       "  <tbody>\n",
       "    <tr>\n",
       "      <td>категория A</td>\n",
       "      <td>25</td>\n",
       "      <td>2</td>\n",
       "    </tr>\n",
       "    <tr>\n",
       "      <td>категория B</td>\n",
       "      <td>5041</td>\n",
       "      <td>356</td>\n",
       "    </tr>\n",
       "    <tr>\n",
       "      <td>категория C</td>\n",
       "      <td>15684</td>\n",
       "      <td>1358</td>\n",
       "    </tr>\n",
       "    <tr>\n",
       "      <td>категория D</td>\n",
       "      <td>350</td>\n",
       "      <td>21</td>\n",
       "    </tr>\n",
       "    <tr>\n",
       "      <td>категория E</td>\n",
       "      <td>22</td>\n",
       "      <td>2</td>\n",
       "    </tr>\n",
       "  </tbody>\n",
       "</table>\n",
       "</div>"
      ],
      "text/plain": [
       "                       Общее число лиц в группе  Количество должников в группе\n",
       "total_income_category                                                         \n",
       "категория A                                  25                              2\n",
       "категория B                                5041                            356\n",
       "категория C                               15684                           1358\n",
       "категория D                                 350                             21\n",
       "категория E                                  22                              2"
      ]
     },
     "execution_count": 65,
     "metadata": {},
     "output_type": "execute_result"
    }
   ],
   "source": [
    "df_income = df_work.groupby('total_income_category')['debt'].agg(['count', 'sum'])\n",
    "df_income.columns = ['Общее число лиц в группе', 'Количество должников в группе']\n",
    "df_income"
   ]
  },
  {
   "cell_type": "code",
   "execution_count": 66,
   "metadata": {},
   "outputs": [
    {
     "data": {
      "text/html": [
       "<div>\n",
       "<style scoped>\n",
       "    .dataframe tbody tr th:only-of-type {\n",
       "        vertical-align: middle;\n",
       "    }\n",
       "\n",
       "    .dataframe tbody tr th {\n",
       "        vertical-align: top;\n",
       "    }\n",
       "\n",
       "    .dataframe thead th {\n",
       "        text-align: right;\n",
       "    }\n",
       "</style>\n",
       "<table border=\"1\" class=\"dataframe\">\n",
       "  <thead>\n",
       "    <tr style=\"text-align: right;\">\n",
       "      <th></th>\n",
       "      <th>sum</th>\n",
       "    </tr>\n",
       "    <tr>\n",
       "      <th>total_income_category</th>\n",
       "      <th></th>\n",
       "    </tr>\n",
       "  </thead>\n",
       "  <tbody>\n",
       "    <tr>\n",
       "      <td>категория A</td>\n",
       "      <td>0.001150</td>\n",
       "    </tr>\n",
       "    <tr>\n",
       "      <td>категория B</td>\n",
       "      <td>0.204715</td>\n",
       "    </tr>\n",
       "    <tr>\n",
       "      <td>категория C</td>\n",
       "      <td>0.780909</td>\n",
       "    </tr>\n",
       "    <tr>\n",
       "      <td>категория D</td>\n",
       "      <td>0.012076</td>\n",
       "    </tr>\n",
       "    <tr>\n",
       "      <td>категория E</td>\n",
       "      <td>0.001150</td>\n",
       "    </tr>\n",
       "  </tbody>\n",
       "</table>\n",
       "</div>"
      ],
      "text/plain": [
       "                            sum\n",
       "total_income_category          \n",
       "категория A            0.001150\n",
       "категория B            0.204715\n",
       "категория C            0.780909\n",
       "категория D            0.012076\n",
       "категория E            0.001150"
      ]
     },
     "execution_count": 66,
     "metadata": {},
     "output_type": "execute_result"
    }
   ],
   "source": [
    "df_income = df_work.groupby('total_income_category')['debt'].agg(['sum'])\n",
    "share_of_group_income = df_income/df_work.loc[df_work.loc[:,'debt'] == 1]['debt'].count()\n",
    "share_of_group_income"
   ]
  },
  {
   "cell_type": "markdown",
   "metadata": {},
   "source": [
    "**Вывод**: \n",
    "самая неблагонадёжная группа заёмщиков - клиенты с доходом от 50 001 до 200 000. На данную группу приходится 78% случаев несвоевременной оплаты.\n",
    "\n",
    "20% случаев несвоевременной оплаты приходится на лиц с доходом от 200 001–1 000 000 — категория 'B'\n",
    "\n",
    "1.2% случаев несвоевременной оплаты приходится на лиц с доходом от 30 000 до 50 000 - категория 'D'\n",
    "\n",
    "категория 'A'(от 1 000 001) и категория 'E' (0 до 30 000) - самые благонадёжные"
   ]
  },
  {
   "cell_type": "markdown",
   "metadata": {},
   "source": [
    "**Как разные цели кредита влияют на его возврат в срок?**"
   ]
  },
  {
   "cell_type": "code",
   "execution_count": 67,
   "metadata": {},
   "outputs": [
    {
     "data": {
      "text/html": [
       "<div>\n",
       "<style scoped>\n",
       "    .dataframe tbody tr th:only-of-type {\n",
       "        vertical-align: middle;\n",
       "    }\n",
       "\n",
       "    .dataframe tbody tr th {\n",
       "        vertical-align: top;\n",
       "    }\n",
       "\n",
       "    .dataframe thead th {\n",
       "        text-align: right;\n",
       "    }\n",
       "</style>\n",
       "<table border=\"1\" class=\"dataframe\">\n",
       "  <thead>\n",
       "    <tr style=\"text-align: right;\">\n",
       "      <th></th>\n",
       "      <th>Общее число лиц в группе</th>\n",
       "      <th>Количество должников в группе</th>\n",
       "    </tr>\n",
       "    <tr>\n",
       "      <th>purpose_category</th>\n",
       "      <th></th>\n",
       "      <th></th>\n",
       "    </tr>\n",
       "  </thead>\n",
       "  <tbody>\n",
       "    <tr>\n",
       "      <td>операции с автомобилем</td>\n",
       "      <td>3800</td>\n",
       "      <td>358</td>\n",
       "    </tr>\n",
       "    <tr>\n",
       "      <td>операции с недвижимостью</td>\n",
       "      <td>10575</td>\n",
       "      <td>781</td>\n",
       "    </tr>\n",
       "    <tr>\n",
       "      <td>получение образования</td>\n",
       "      <td>3964</td>\n",
       "      <td>370</td>\n",
       "    </tr>\n",
       "    <tr>\n",
       "      <td>проведение свадьбы</td>\n",
       "      <td>2305</td>\n",
       "      <td>186</td>\n",
       "    </tr>\n",
       "  </tbody>\n",
       "</table>\n",
       "</div>"
      ],
      "text/plain": [
       "                          Общее число лиц в группе  \\\n",
       "purpose_category                                     \n",
       "операции с автомобилем                        3800   \n",
       "операции с недвижимостью                     10575   \n",
       "получение образования                         3964   \n",
       "проведение свадьбы                            2305   \n",
       "\n",
       "                          Количество должников в группе  \n",
       "purpose_category                                         \n",
       "операции с автомобилем                              358  \n",
       "операции с недвижимостью                            781  \n",
       "получение образования                               370  \n",
       "проведение свадьбы                                  186  "
      ]
     },
     "execution_count": 67,
     "metadata": {},
     "output_type": "execute_result"
    }
   ],
   "source": [
    "df_purpose = df_work.groupby('purpose_category')['debt'].agg(['count', 'sum'])\n",
    "\n",
    "df_purpose.columns = ['Общее число лиц в группе', 'Количество должников в группе']\n",
    "df_purpose\n"
   ]
  },
  {
   "cell_type": "code",
   "execution_count": 68,
   "metadata": {},
   "outputs": [
    {
     "data": {
      "text/html": [
       "<div>\n",
       "<style scoped>\n",
       "    .dataframe tbody tr th:only-of-type {\n",
       "        vertical-align: middle;\n",
       "    }\n",
       "\n",
       "    .dataframe tbody tr th {\n",
       "        vertical-align: top;\n",
       "    }\n",
       "\n",
       "    .dataframe thead th {\n",
       "        text-align: right;\n",
       "    }\n",
       "</style>\n",
       "<table border=\"1\" class=\"dataframe\">\n",
       "  <thead>\n",
       "    <tr style=\"text-align: right;\">\n",
       "      <th></th>\n",
       "      <th>sum</th>\n",
       "    </tr>\n",
       "    <tr>\n",
       "      <th>purpose_category</th>\n",
       "      <th></th>\n",
       "    </tr>\n",
       "  </thead>\n",
       "  <tbody>\n",
       "    <tr>\n",
       "      <td>операции с автомобилем</td>\n",
       "      <td>0.205865</td>\n",
       "    </tr>\n",
       "    <tr>\n",
       "      <td>операции с недвижимостью</td>\n",
       "      <td>0.449109</td>\n",
       "    </tr>\n",
       "    <tr>\n",
       "      <td>получение образования</td>\n",
       "      <td>0.212766</td>\n",
       "    </tr>\n",
       "    <tr>\n",
       "      <td>проведение свадьбы</td>\n",
       "      <td>0.106958</td>\n",
       "    </tr>\n",
       "  </tbody>\n",
       "</table>\n",
       "</div>"
      ],
      "text/plain": [
       "                               sum\n",
       "purpose_category                  \n",
       "операции с автомобилем    0.205865\n",
       "операции с недвижимостью  0.449109\n",
       "получение образования     0.212766\n",
       "проведение свадьбы        0.106958"
      ]
     },
     "execution_count": 68,
     "metadata": {},
     "output_type": "execute_result"
    }
   ],
   "source": [
    "df_purpose = df_work.groupby('purpose_category')['debt'].agg(['sum'])\n",
    "share_of_group_purpose = df_purpose/df_work.loc[df_work.loc[:,'debt'] == 1]['debt'].count()\n",
    "share_of_group_purpose"
   ]
  },
  {
   "cell_type": "markdown",
   "metadata": {},
   "source": [
    "**Вывод**: \n",
    "\n",
    "наиболее рисковым направлением получения заёмных средств является - операции с недвижимостью - 45% случаев несвоевременных платежей;\n",
    "\n",
    "на втором месте - получение образования - 21%;\n",
    "\n",
    "операции с автомобилем - 20,5%;\n",
    "\n",
    "проведение свадьбы - 11%;"
   ]
  },
  {
   "cell_type": "markdown",
   "metadata": {},
   "source": [
    "Применение сводных таблиц являлось одним из заданий. Предложенный тобой метод мне нравится намного больше. Спасибо. Однако, на мой взгляд, расчёт процентов в последнем столбце даёт некорректные результаты: получается, что самая многочисленная во всех отношениях группа имеет меньшее количество % должников, чем самая малочисленная: 7,5% против 9,7%.  Я считаю, что правильнее соотносить Количество должников в группе с общим числом просрочек."
   ]
  },
  {
   "cell_type": "code",
   "execution_count": 69,
   "metadata": {},
   "outputs": [
    {
     "data": {
      "text/html": [
       "<div>\n",
       "<style scoped>\n",
       "    .dataframe tbody tr th:only-of-type {\n",
       "        vertical-align: middle;\n",
       "    }\n",
       "\n",
       "    .dataframe tbody tr th {\n",
       "        vertical-align: top;\n",
       "    }\n",
       "\n",
       "    .dataframe thead th {\n",
       "        text-align: right;\n",
       "    }\n",
       "</style>\n",
       "<table border=\"1\" class=\"dataframe\">\n",
       "  <thead>\n",
       "    <tr style=\"text-align: right;\">\n",
       "      <th></th>\n",
       "      <th>Кол-во пользователей</th>\n",
       "      <th>Кол-во должников</th>\n",
       "      <th>% должников</th>\n",
       "    </tr>\n",
       "    <tr>\n",
       "      <th>children</th>\n",
       "      <th></th>\n",
       "      <th></th>\n",
       "      <th></th>\n",
       "    </tr>\n",
       "  </thead>\n",
       "  <tbody>\n",
       "    <tr>\n",
       "      <td>0</td>\n",
       "      <td>13831</td>\n",
       "      <td>1061</td>\n",
       "      <td>0.076712</td>\n",
       "    </tr>\n",
       "    <tr>\n",
       "      <td>1</td>\n",
       "      <td>4798</td>\n",
       "      <td>445</td>\n",
       "      <td>0.092747</td>\n",
       "    </tr>\n",
       "    <tr>\n",
       "      <td>2</td>\n",
       "      <td>2115</td>\n",
       "      <td>202</td>\n",
       "      <td>0.095508</td>\n",
       "    </tr>\n",
       "    <tr>\n",
       "      <td>3</td>\n",
       "      <td>329</td>\n",
       "      <td>27</td>\n",
       "      <td>0.082067</td>\n",
       "    </tr>\n",
       "    <tr>\n",
       "      <td>4</td>\n",
       "      <td>40</td>\n",
       "      <td>4</td>\n",
       "      <td>0.100000</td>\n",
       "    </tr>\n",
       "    <tr>\n",
       "      <td>5</td>\n",
       "      <td>9</td>\n",
       "      <td>0</td>\n",
       "      <td>0.000000</td>\n",
       "    </tr>\n",
       "  </tbody>\n",
       "</table>\n",
       "</div>"
      ],
      "text/plain": [
       "          Кол-во пользователей  Кол-во должников  % должников\n",
       "children                                                     \n",
       "0                        13831              1061     0.076712\n",
       "1                         4798               445     0.092747\n",
       "2                         2115               202     0.095508\n",
       "3                          329                27     0.082067\n",
       "4                           40                 4     0.100000\n",
       "5                            9                 0     0.000000"
      ]
     },
     "execution_count": 69,
     "metadata": {},
     "output_type": "execute_result"
    }
   ],
   "source": [
    "df_example = df_work.groupby('children')['debt'].agg(['count', 'sum', 'mean'])\n",
    "df_example.columns = ['Кол-во пользователей', 'Кол-во должников', '% должников']\n",
    "df_example"
   ]
  },
  {
   "cell_type": "markdown",
   "metadata": {},
   "source": [
    "**Можно сделать общие следующие выводы:**\n",
    "\n",
    "**В зависимости от количества детей:**\n",
    "\n",
    "заёмщики, у которых нет детей (66% всех обратившихся за кредитом) чаще не возвращают заёмные средства - 61% случаев несвоевременных платежей;\n",
    "\n",
    "заёмщики, у которых 1 ребёнок (22,6% от общего количества) составляют долю 25,5% от общей суммы несвоевременных платежей;\n",
    "\n",
    "заёмщики, у которых 2 ребёнка (10% от общего количества)составляют долю 11,6% от общей суммы несвоевременных платежей;\n",
    "\n",
    "заёмщики, у которых от 3 до 5 детей (1,4%)- самые безопасные - доля несвоевременных платежей - 1,7%.\n",
    "\n",
    "**В зависимости от семейного положения:**\n",
    "\n",
    "Клиенты, состоящие в браке (самая значительная группа 'женат / замужем ' - 57.5%), намного чаще допускают просрочки при платежах - 53% случаев, причём люди с доходом категории С (50 001–200 000) занимают долю - 40% от общего количества;\n",
    "\n",
    "клиенты, находящиеся в гражданском браке (19,4%) - 22% от общего количества несвоевременных платежей;\n",
    "\n",
    "клиенты, несостоящие в браке (группа \"Не женат / не замужем\" - 13%)- занимают долю - 15,7% от общего количества несвоевременных платежей. \n",
    "\n",
    "клиенты, относящиеся к группе в разводе (5,5% всех обратившихся за кредитом) - 3,6%;\n",
    "\n",
    "клиенты, относящиеся к группе вдовец / вдова (4,4%) - 4,7%.\n",
    "\n",
    "**В зависимости от дохода:**\n",
    "\n",
    "Клиенты с доходом от 50 001 до 200 000 (доля группы 74,6% в общем объёме заёмщиков) - 76% случаев несвоевременной оплаты;\n",
    "\n",
    "от 200 001 до 1 000 000 — категория 'B' (доля группы 23,4% ) - 20% случаев несвоевременной оплаты; \n",
    "\n",
    "при доходе от 30 001 до 50 000 — категория 'D' (доля группы 1,6%) - 1,1% ;\n",
    "\n",
    "от 1 000 001 - категория 'A'(0,1%) - 0,1%;\n",
    "\n",
    "от 0 до 30 000 -категория 'E' (0,1%) - 0,1%.\n",
    "\n",
    "**Назначения кредитов распределились в следующей пропорции:**\n",
    "\n",
    "операции с недвижимостью - 50% - доля случаев несвоевременной оплаты - 45%\n",
    "\n",
    "получение образования - 18,7% - доля случаев несвоевременной оплаты - 21%\n",
    "\n",
    "операции с автомобилем -17,8% - доля случаев несвоевременной оплаты - 21%\n",
    "\n",
    "проведение свадьбы - 10% - доля случаев несвоевременной оплаты - 11%\n",
    "\n",
    "\n",
    "Примечание: доля групп, указанная в скобках, рассчитана при работе с каждым соответствующим столбцом. Доля случаев несвоевременной оплаты рассчитана при помощи калькулятора по отношению к 1 741 случаю невсвоевременной оплаты ('debt')."
   ]
  },
  {
   "cell_type": "markdown",
   "metadata": {},
   "source": [
    "## Общий вывод"
   ]
  },
  {
   "cell_type": "markdown",
   "metadata": {},
   "source": [
    "**Все исследуемые показатели оказывают воздействие на возврат кредита в срок.**\n",
    "\n",
    "**В зависимости от количества детей:**\n",
    "\n",
    "заёмщики, у которых нет детей (66% всех обратившихся за кредитом) чаще не возвращают заёмные средства - 61% случаев несвоевременных платежей;\n",
    "\n",
    "заёмщики, у которых от 3 до 5 детей (1,4%)- самые безопасные - доля несвоевременных платежей - 1,7%.\n",
    "\n",
    "**В зависимости от семейного положения:**\n",
    "\n",
    "клиенты, состоящие в браке (самая значительная группа 'женат / замужем ' - 57.5%), намного чаще допускают просрочки при платежах - 53% случаев;\n",
    "\n",
    "клиенты, относящиеся к группе в разводе (5,5% всех обратившихся за кредитом) - 3,6% - реже, чем представители других групп допускают просрочку платежей;\n",
    "\n",
    "**В зависимости от дохода:**\n",
    "\n",
    "клиенты с доходом от 50 001 до 200 000 (доля группы 74,6% в общем объёме заёмщиков) - 76% случаев несвоевременной оплаты;\n",
    "\n",
    "категория 'A' (от 1 000 001) и категория 'E' (от 0 до 30 000) - реже, чем представители других групп допускают просрочку платежей.\n",
    "\n",
    "**Назначения кредитов распределились в следующей пропорции:**\n",
    "\n",
    "операции с недвижимостью - 50% - доля случаев несвоевременной оплаты - 45% - самый высокий риск несвоевремнной оплаты;\n",
    "\n",
    "проведение свадьбы - 10% - доля случаев несвоевременной оплаты - 11% - наименее рисковое направление.\n",
    "\n",
    "\n",
    "**Резюме**\n",
    "Для банка самыми безопасными по результатм анализа представленных данных явились лица, соответствующие следующим признакам: количество детей - от 3 до 5, находящиеся в разводе, с доходом от 0 до 30 000 или же от 1 000 001 в месяц, намеревающиеся провести свадьбу.\n",
    "\n",
    "Для банка самыми рисковыми по результатм анализа представленных данных явились лица, соответствующие следующим признакам:  не имеющие детей, состоящие в браке, с доходом от 50 001 до 200 000 в месяц, намеревающиеся приобрести недвижимость.\n",
    "\n",
    "Чаще всего за кредитом обращались лица, состоящие в браке и не имеющие детей, с доходом от 50 001 до 200 000 в месяц, наиболее рисковое назначение кредита - операции с недвижимостью.\n"
   ]
  },
  {
   "cell_type": "markdown",
   "metadata": {},
   "source": [
    "При работе с датафреймом были выявлены пропуски в столбцах days_employed и total_income, составившие 10% общего объёма. Была произведена замена на медианный показатель, в связи со значительным разбросом данных в столбцах. Следует отметить, что именно в этих столбцах тип данных отличается от остальных - float64.    \n",
    "\n",
    "Столбец days_employed — общий трудовой стаж в днях - имеет отрицательные значения - доля, которых - 74% ,а также максимальное значение - 401755.400475 дней!(вероятно количество указано в часах). Для целей настоящего исследования отрицательные и невероятно завышенные показатели в столбце с указанием стажа не имеют значения, однако, необходимо обратиться к разрабочикам, дабы внести ясность.\n",
    "\n",
    "Столбец total_income содержит такое же количество пропусков - 2174 как и days_employed, что соответствует 10% от общего количества наблюдений. Скорее всего, имеет место технический сбой (только в этих столбцах, к примеру, отражены данные типа float64). Можно предположить, что у человека нет стажа работы и дохода тоже нет. Хотя дожить на постсоветском пространстве до 63, 65 лет (строки 12, 29) со средним образованием и не иметь стажа и пенсии - маловероятная ситуация. Необходимо обратиться к разработчикам. В настоящий момент данные сведения не оказывают прямого воздействия на результат исследования. Произведена замена пропусков медианным значением.\n",
    "\n",
    "Показатели в children были откорректирован: доля отрицательного значения(-1) - 0,2%, полагаю, что имеет место \"человеческий фактор\" - просто заменены -1 на 1; доля значения 20 - 0,3% -\"человеческий фактор\" (может быть соскользнула рука при вводе, 2 и 0 расположены друг под другом). Заменены 20 на 2.\n",
    "\n",
    "Столбец dob_years - возраст - содержал нулевой показатель, была произведена замена на медианный показатель в 101 случае, так как между максимальными и минимальными значениями в столбце dob_years наблюдается значительный разброс,применим медианное значение.\n",
    "\n",
    "Столбец education — уровень образования клиента - содержит различные способы упоминания одного и того же уровня, поэтому были приведены к единому виду.\n",
    "\n",
    "Столбцы total_income и purpose потребовали категоризации, так как содержали значительное количество записей, затрудняя проведение анализа. \n",
    "\n",
    "Можно предложить клиенту выбирать значения из списка, что позволит сократить время обработки и объём задействованной памяти.\n"
   ]
  },
  {
   "cell_type": "markdown",
   "metadata": {},
   "source": [
    "**Спасибо за время, которое ты уделил моему проекту. Я узнала новое для себя. Мне было интересно.**\n",
    "\n",
    "Воспользуюсь предложением задавать вопросы.\n",
    "\n",
    "1. Метод sort_values() сортирует количество повторов в каждой группе, как отсортировать сами группы (первый столбец)?\n",
    "\n",
    "2      960\n",
    "3     1195\n",
    "4     2813\n",
    "1     4177\n",
    "0    12380\n",
    "\n",
    "2. Как перевести дроби в проценты\n",
    "print(df['family_status'].value_counts())\n",
    "print(df.groupby(df['family_status']).size() / len(df['family_status']))\n",
    "\n",
    "получилось\n",
    "\n",
    "Не женат / не замужем    0.130685\n",
    "в разводе                0.055517\n",
    "вдовец / вдова           0.044599\n",
    "гражданский брак         0.194053\n",
    "женат / замужем          0.57514"
   ]
  },
  {
   "cell_type": "code",
   "execution_count": null,
   "metadata": {},
   "outputs": [
    {
     "data": {
      "text/plain": [
       "19     14\n",
       "20     51\n",
       "21    110\n",
       "22    183\n",
       "23    244\n",
       "24    264\n",
       "25    357\n",
       "26    403\n",
       "27    488\n",
       "28    498\n",
       "29    540\n",
       "30    530\n",
       "31    555\n",
       "32    506\n",
       "33    572\n",
       "34    598\n",
       "35    605\n",
       "36    547\n",
       "37    534\n",
       "38    592\n",
       "39    564\n",
       "40    600\n",
       "41    599\n",
       "42    680\n",
       "43    504\n",
       "44    538\n",
       "45    488\n",
       "46    468\n",
       "47    460\n",
       "48    529\n",
       "49    495\n",
       "50    505\n",
       "51    439\n",
       "52    473\n",
       "53    450\n",
       "54    464\n",
       "55    435\n",
       "56    471\n",
       "57    445\n",
       "58    442\n",
       "59    438\n",
       "60    364\n",
       "61    346\n",
       "62    341\n",
       "63    262\n",
       "64    250\n",
       "65    189\n",
       "66    177\n",
       "67    164\n",
       "68     98\n",
       "69     85\n",
       "70     65\n",
       "71     55\n",
       "72     33\n",
       "73      8\n",
       "74      6\n",
       "75      1\n",
       "Name: dob_years, dtype: int64"
      ]
     },
     "execution_count": 74,
     "metadata": {},
     "output_type": "execute_result"
    }
   ],
   "source": [
    "# Ответ на первый вопрос - добавлять .sort_index()\n",
    "\n",
    "\n",
    "df_work['dob_years'].value_counts().sort_index()"
   ]
  },
  {
   "cell_type": "code",
   "execution_count": 71,
   "metadata": {},
   "outputs": [
    {
     "data": {
      "text/html": [
       "<style  type=\"text/css\" >\n",
       "</style><table id=\"T_55ec954c_8f6d_11ec_978f_02420a392a26\" ><thead>    <tr>        <th class=\"blank level0\" ></th>        <th class=\"col_heading level0 col0\" >0</th>    </tr>    <tr>        <th class=\"index_name level0\" >family_status</th>        <th class=\"blank\" ></th>    </tr></thead><tbody>\n",
       "                <tr>\n",
       "                        <th id=\"T_55ec954c_8f6d_11ec_978f_02420a392a26level0_row0\" class=\"row_heading level0 row0\" >Не женат / не замужем</th>\n",
       "                        <td id=\"T_55ec954c_8f6d_11ec_978f_02420a392a26row0_col0\" class=\"data row0 col0\" >13.07%</td>\n",
       "            </tr>\n",
       "            <tr>\n",
       "                        <th id=\"T_55ec954c_8f6d_11ec_978f_02420a392a26level0_row1\" class=\"row_heading level0 row1\" >в разводе</th>\n",
       "                        <td id=\"T_55ec954c_8f6d_11ec_978f_02420a392a26row1_col0\" class=\"data row1 col0\" >5.55%</td>\n",
       "            </tr>\n",
       "            <tr>\n",
       "                        <th id=\"T_55ec954c_8f6d_11ec_978f_02420a392a26level0_row2\" class=\"row_heading level0 row2\" >вдовец / вдова</th>\n",
       "                        <td id=\"T_55ec954c_8f6d_11ec_978f_02420a392a26row2_col0\" class=\"data row2 col0\" >4.46%</td>\n",
       "            </tr>\n",
       "            <tr>\n",
       "                        <th id=\"T_55ec954c_8f6d_11ec_978f_02420a392a26level0_row3\" class=\"row_heading level0 row3\" >гражданский брак</th>\n",
       "                        <td id=\"T_55ec954c_8f6d_11ec_978f_02420a392a26row3_col0\" class=\"data row3 col0\" >19.41%</td>\n",
       "            </tr>\n",
       "            <tr>\n",
       "                        <th id=\"T_55ec954c_8f6d_11ec_978f_02420a392a26level0_row4\" class=\"row_heading level0 row4\" >женат / замужем</th>\n",
       "                        <td id=\"T_55ec954c_8f6d_11ec_978f_02420a392a26row4_col0\" class=\"data row4 col0\" >57.51%</td>\n",
       "            </tr>\n",
       "    </tbody></table>"
      ],
      "text/plain": [
       "<pandas.io.formats.style.Styler at 0x7f9e9d154390>"
      ]
     },
     "execution_count": 71,
     "metadata": {},
     "output_type": "execute_result"
    }
   ],
   "source": [
    "# ответ на второй вопрос - пришло в голову следующее: \n",
    "# твой код был: df.groupby(df['family_status']).size() / len(df['family_status'])\n",
    "# он даёт Series \n",
    "# заворачиваем Series в Dataframe и к нему применяем .style.format() \n",
    "\n",
    "(df.groupby(df['family_status']).size() / len(df['family_status'])).to_frame().style.format('{:.2%}')"
   ]
  },
  {
   "cell_type": "code",
   "execution_count": null,
   "metadata": {},
   "outputs": [],
   "source": []
  }
 ],
 "metadata": {
  "ExecuteTimeLog": [
   {
    "duration": 811,
    "start_time": "2021-12-11T08:10:03.485Z"
   },
   {
    "duration": 60,
    "start_time": "2021-12-11T08:10:12.742Z"
   },
   {
    "duration": 63,
    "start_time": "2021-12-11T08:11:46.722Z"
   },
   {
    "duration": 58,
    "start_time": "2021-12-11T08:14:08.171Z"
   },
   {
    "duration": 75,
    "start_time": "2021-12-11T08:15:03.793Z"
   },
   {
    "duration": 68,
    "start_time": "2021-12-11T08:16:03.674Z"
   },
   {
    "duration": 81,
    "start_time": "2021-12-11T08:19:13.630Z"
   },
   {
    "duration": 13,
    "start_time": "2021-12-11T08:24:23.482Z"
   },
   {
    "duration": 85,
    "start_time": "2021-12-11T08:25:52.241Z"
   },
   {
    "duration": 84,
    "start_time": "2021-12-11T08:26:07.698Z"
   },
   {
    "duration": 81,
    "start_time": "2021-12-11T08:26:48.896Z"
   },
   {
    "duration": 74,
    "start_time": "2021-12-11T08:34:43.761Z"
   },
   {
    "duration": 80,
    "start_time": "2021-12-11T09:11:01.520Z"
   },
   {
    "duration": 78,
    "start_time": "2021-12-11T09:11:16.664Z"
   },
   {
    "duration": 1186,
    "start_time": "2022-02-09T07:28:37.696Z"
   },
   {
    "duration": 10,
    "start_time": "2022-02-09T07:29:45.059Z"
   },
   {
    "duration": 8,
    "start_time": "2022-02-09T07:31:31.719Z"
   },
   {
    "duration": 34,
    "start_time": "2022-02-09T07:34:52.940Z"
   },
   {
    "duration": 6,
    "start_time": "2022-02-09T07:46:48.877Z"
   },
   {
    "duration": 86,
    "start_time": "2022-02-09T07:48:07.591Z"
   },
   {
    "duration": 7,
    "start_time": "2022-02-09T07:48:26.835Z"
   },
   {
    "duration": 3,
    "start_time": "2022-02-09T07:50:36.601Z"
   },
   {
    "duration": 10,
    "start_time": "2022-02-09T07:51:00.921Z"
   },
   {
    "duration": 6,
    "start_time": "2022-02-09T07:54:53.928Z"
   },
   {
    "duration": 7,
    "start_time": "2022-02-09T07:55:15.534Z"
   },
   {
    "duration": 13,
    "start_time": "2022-02-09T07:55:36.149Z"
   },
   {
    "duration": 10,
    "start_time": "2022-02-09T07:55:54.007Z"
   },
   {
    "duration": 11,
    "start_time": "2022-02-09T07:56:00.680Z"
   },
   {
    "duration": 10,
    "start_time": "2022-02-09T07:56:19.380Z"
   },
   {
    "duration": 3,
    "start_time": "2022-02-09T07:59:41.604Z"
   },
   {
    "duration": 4,
    "start_time": "2022-02-09T08:00:56.200Z"
   },
   {
    "duration": 41,
    "start_time": "2022-02-09T08:04:37.640Z"
   },
   {
    "duration": 13,
    "start_time": "2022-02-09T08:06:15.704Z"
   },
   {
    "duration": 7,
    "start_time": "2022-02-09T08:06:52.909Z"
   },
   {
    "duration": 7,
    "start_time": "2022-02-09T08:11:55.971Z"
   },
   {
    "duration": 3,
    "start_time": "2022-02-09T08:13:53.534Z"
   },
   {
    "duration": 4,
    "start_time": "2022-02-09T08:14:03.108Z"
   },
   {
    "duration": 7,
    "start_time": "2022-02-09T08:16:29.016Z"
   },
   {
    "duration": 21,
    "start_time": "2022-02-09T08:18:34.587Z"
   },
   {
    "duration": 58,
    "start_time": "2022-02-09T08:20:01.660Z"
   },
   {
    "duration": 308,
    "start_time": "2022-02-09T08:20:24.417Z"
   },
   {
    "duration": 185,
    "start_time": "2022-02-09T08:20:59.120Z"
   },
   {
    "duration": 4,
    "start_time": "2022-02-09T08:21:25.515Z"
   },
   {
    "duration": 7,
    "start_time": "2022-02-09T08:21:55.044Z"
   },
   {
    "duration": 52,
    "start_time": "2022-02-09T08:22:22.783Z"
   },
   {
    "duration": 8,
    "start_time": "2022-02-09T08:22:24.697Z"
   },
   {
    "duration": 3,
    "start_time": "2022-02-09T08:22:27.245Z"
   },
   {
    "duration": 32,
    "start_time": "2022-02-09T08:22:31.225Z"
   },
   {
    "duration": 5,
    "start_time": "2022-02-09T08:22:39.421Z"
   },
   {
    "duration": 3,
    "start_time": "2022-02-09T08:22:41.855Z"
   },
   {
    "duration": 11,
    "start_time": "2022-02-09T08:22:42.367Z"
   },
   {
    "duration": 8,
    "start_time": "2022-02-09T08:22:48.026Z"
   },
   {
    "duration": 3,
    "start_time": "2022-02-09T08:22:50.338Z"
   },
   {
    "duration": 11,
    "start_time": "2022-02-09T08:22:51.181Z"
   },
   {
    "duration": 3,
    "start_time": "2022-02-09T08:22:51.930Z"
   },
   {
    "duration": 39,
    "start_time": "2022-02-09T08:22:53.137Z"
   },
   {
    "duration": 12,
    "start_time": "2022-02-09T08:22:54.587Z"
   },
   {
    "duration": 8,
    "start_time": "2022-02-09T08:22:55.275Z"
   },
   {
    "duration": 9,
    "start_time": "2022-02-09T08:22:57.384Z"
   },
   {
    "duration": 3,
    "start_time": "2022-02-09T08:23:07.815Z"
   },
   {
    "duration": 5,
    "start_time": "2022-02-09T08:23:11.982Z"
   },
   {
    "duration": 4,
    "start_time": "2022-02-09T08:23:39.055Z"
   },
   {
    "duration": 117,
    "start_time": "2022-02-09T08:26:21.784Z"
   },
   {
    "duration": 8,
    "start_time": "2022-02-09T08:26:33.593Z"
   },
   {
    "duration": 6,
    "start_time": "2022-02-09T08:33:05.292Z"
   },
   {
    "duration": 10,
    "start_time": "2022-02-09T08:33:14.393Z"
   },
   {
    "duration": 9,
    "start_time": "2022-02-09T08:44:48.603Z"
   },
   {
    "duration": 15,
    "start_time": "2022-02-09T08:50:42.722Z"
   },
   {
    "duration": 9,
    "start_time": "2022-02-09T08:52:24.171Z"
   },
   {
    "duration": 5,
    "start_time": "2022-02-09T08:52:41.496Z"
   },
   {
    "duration": 8,
    "start_time": "2022-02-09T08:54:27.646Z"
   },
   {
    "duration": 6,
    "start_time": "2022-02-09T08:55:50.236Z"
   },
   {
    "duration": 8,
    "start_time": "2022-02-09T09:04:43.752Z"
   },
   {
    "duration": 12,
    "start_time": "2022-02-09T09:05:23.793Z"
   },
   {
    "duration": 8,
    "start_time": "2022-02-09T09:06:36.320Z"
   },
   {
    "duration": 20,
    "start_time": "2022-02-09T09:08:53.291Z"
   },
   {
    "duration": 8,
    "start_time": "2022-02-09T09:09:44.533Z"
   },
   {
    "duration": 6,
    "start_time": "2022-02-09T09:10:05.591Z"
   },
   {
    "duration": 7,
    "start_time": "2022-02-09T09:13:32.245Z"
   },
   {
    "duration": 8,
    "start_time": "2022-02-09T09:13:50.961Z"
   },
   {
    "duration": 5,
    "start_time": "2022-02-09T09:16:32.696Z"
   },
   {
    "duration": 13,
    "start_time": "2022-02-09T09:18:23.244Z"
   },
   {
    "duration": 13,
    "start_time": "2022-02-09T09:18:41.293Z"
   },
   {
    "duration": 7,
    "start_time": "2022-02-09T09:19:03.627Z"
   },
   {
    "duration": 9,
    "start_time": "2022-02-09T09:30:52.742Z"
   },
   {
    "duration": 7,
    "start_time": "2022-02-09T09:36:31.104Z"
   },
   {
    "duration": 10,
    "start_time": "2022-02-09T09:36:58.015Z"
   },
   {
    "duration": 34,
    "start_time": "2022-02-09T09:38:09.417Z"
   },
   {
    "duration": 4,
    "start_time": "2022-02-09T09:39:20.507Z"
   },
   {
    "duration": 21,
    "start_time": "2022-02-09T09:40:30.654Z"
   },
   {
    "duration": 7,
    "start_time": "2022-02-09T09:43:15.752Z"
   },
   {
    "duration": 7,
    "start_time": "2022-02-09T09:43:32.253Z"
   },
   {
    "duration": 17,
    "start_time": "2022-02-09T09:45:35.895Z"
   },
   {
    "duration": 9,
    "start_time": "2022-02-09T09:46:32.199Z"
   },
   {
    "duration": 9,
    "start_time": "2022-02-09T09:46:51.090Z"
   },
   {
    "duration": 10,
    "start_time": "2022-02-09T09:47:09.327Z"
   },
   {
    "duration": 9,
    "start_time": "2022-02-09T09:47:42.391Z"
   },
   {
    "duration": 8,
    "start_time": "2022-02-09T09:47:49.414Z"
   },
   {
    "duration": 8,
    "start_time": "2022-02-09T09:47:58.348Z"
   },
   {
    "duration": 9,
    "start_time": "2022-02-09T09:48:24.866Z"
   },
   {
    "duration": 8,
    "start_time": "2022-02-09T09:48:28.348Z"
   },
   {
    "duration": 9,
    "start_time": "2022-02-09T09:48:30.738Z"
   },
   {
    "duration": 216,
    "start_time": "2022-02-09T09:49:26.196Z"
   },
   {
    "duration": 8,
    "start_time": "2022-02-09T09:49:50.982Z"
   },
   {
    "duration": 8,
    "start_time": "2022-02-09T09:49:53.853Z"
   },
   {
    "duration": 20,
    "start_time": "2022-02-09T09:50:16.048Z"
   },
   {
    "duration": 11,
    "start_time": "2022-02-09T09:52:21.012Z"
   },
   {
    "duration": 7,
    "start_time": "2022-02-09T09:52:41.221Z"
   },
   {
    "duration": 6,
    "start_time": "2022-02-09T10:00:19.967Z"
   },
   {
    "duration": 183,
    "start_time": "2022-02-09T10:01:25.743Z"
   },
   {
    "duration": 6,
    "start_time": "2022-02-09T10:02:05.038Z"
   },
   {
    "duration": 10,
    "start_time": "2022-02-09T10:04:48.898Z"
   },
   {
    "duration": 15,
    "start_time": "2022-02-09T10:05:11.037Z"
   },
   {
    "duration": 21,
    "start_time": "2022-02-09T10:05:32.384Z"
   },
   {
    "duration": 6,
    "start_time": "2022-02-09T10:09:29.982Z"
   },
   {
    "duration": 19,
    "start_time": "2022-02-09T10:10:33.603Z"
   },
   {
    "duration": 21,
    "start_time": "2022-02-09T10:16:29.966Z"
   },
   {
    "duration": 6,
    "start_time": "2022-02-09T10:17:14.401Z"
   },
   {
    "duration": 18,
    "start_time": "2022-02-09T10:17:26.589Z"
   },
   {
    "duration": 7,
    "start_time": "2022-02-09T10:17:52.037Z"
   },
   {
    "duration": 16,
    "start_time": "2022-02-09T10:17:55.661Z"
   },
   {
    "duration": 17,
    "start_time": "2022-02-09T10:27:40.082Z"
   },
   {
    "duration": 6,
    "start_time": "2022-02-09T10:28:17.722Z"
   },
   {
    "duration": 17,
    "start_time": "2022-02-09T10:28:30.710Z"
   },
   {
    "duration": 19,
    "start_time": "2022-02-09T10:28:56.660Z"
   },
   {
    "duration": 18,
    "start_time": "2022-02-09T10:37:05.562Z"
   },
   {
    "duration": 19,
    "start_time": "2022-02-09T10:37:36.236Z"
   },
   {
    "duration": 18,
    "start_time": "2022-02-09T10:39:43.330Z"
   },
   {
    "duration": 21,
    "start_time": "2022-02-09T10:40:05.692Z"
   },
   {
    "duration": 182,
    "start_time": "2022-02-09T10:47:49.283Z"
   },
   {
    "duration": 7,
    "start_time": "2022-02-09T10:52:07.897Z"
   },
   {
    "duration": 21,
    "start_time": "2022-02-09T11:02:02.524Z"
   },
   {
    "duration": 210,
    "start_time": "2022-02-09T11:03:51.037Z"
   },
   {
    "duration": 200,
    "start_time": "2022-02-09T11:05:01.818Z"
   },
   {
    "duration": 5,
    "start_time": "2022-02-09T11:05:20.986Z"
   },
   {
    "duration": 20,
    "start_time": "2022-02-09T11:06:14.488Z"
   },
   {
    "duration": 19,
    "start_time": "2022-02-09T11:09:46.618Z"
   },
   {
    "duration": 7,
    "start_time": "2022-02-09T11:52:24.047Z"
   },
   {
    "duration": 5,
    "start_time": "2022-02-09T14:22:02.734Z"
   },
   {
    "duration": 294,
    "start_time": "2022-02-09T14:23:31.540Z"
   },
   {
    "duration": 494,
    "start_time": "2022-02-09T14:24:23.359Z"
   },
   {
    "duration": 1261,
    "start_time": "2022-02-09T14:24:37.692Z"
   },
   {
    "duration": 13,
    "start_time": "2022-02-09T14:24:46.459Z"
   },
   {
    "duration": 8,
    "start_time": "2022-02-09T14:24:57.466Z"
   },
   {
    "duration": 11,
    "start_time": "2022-02-09T14:25:00.326Z"
   },
   {
    "duration": 34,
    "start_time": "2022-02-09T14:25:01.346Z"
   },
   {
    "duration": 6,
    "start_time": "2022-02-09T14:25:14.348Z"
   },
   {
    "duration": 2,
    "start_time": "2022-02-09T14:25:19.471Z"
   },
   {
    "duration": 14,
    "start_time": "2022-02-09T14:25:20.426Z"
   },
   {
    "duration": 8,
    "start_time": "2022-02-09T14:25:27.427Z"
   },
   {
    "duration": 4,
    "start_time": "2022-02-09T14:25:32.034Z"
   },
   {
    "duration": 11,
    "start_time": "2022-02-09T14:25:32.926Z"
   },
   {
    "duration": 3,
    "start_time": "2022-02-09T14:25:34.434Z"
   },
   {
    "duration": 42,
    "start_time": "2022-02-09T14:25:36.283Z"
   },
   {
    "duration": 14,
    "start_time": "2022-02-09T14:25:37.748Z"
   },
   {
    "duration": 8,
    "start_time": "2022-02-09T14:25:39.112Z"
   },
   {
    "duration": 7,
    "start_time": "2022-02-09T14:25:43.195Z"
   },
   {
    "duration": 3,
    "start_time": "2022-02-09T14:25:45.095Z"
   },
   {
    "duration": 5,
    "start_time": "2022-02-09T14:25:47.296Z"
   },
   {
    "duration": 6,
    "start_time": "2022-02-09T14:25:47.926Z"
   },
   {
    "duration": 8,
    "start_time": "2022-02-09T14:25:49.394Z"
   },
   {
    "duration": 9,
    "start_time": "2022-02-09T14:25:52.347Z"
   },
   {
    "duration": 17,
    "start_time": "2022-02-09T14:25:53.975Z"
   },
   {
    "duration": 7,
    "start_time": "2022-02-09T14:25:55.801Z"
   },
   {
    "duration": 9,
    "start_time": "2022-02-09T14:25:58.621Z"
   },
   {
    "duration": 7,
    "start_time": "2022-02-09T14:26:01.979Z"
   },
   {
    "duration": 8,
    "start_time": "2022-02-09T14:26:04.822Z"
   },
   {
    "duration": 10,
    "start_time": "2022-02-09T14:26:05.467Z"
   },
   {
    "duration": 9,
    "start_time": "2022-02-09T14:26:07.452Z"
   },
   {
    "duration": 22,
    "start_time": "2022-02-09T14:26:08.077Z"
   },
   {
    "duration": 9,
    "start_time": "2022-02-09T14:26:09.604Z"
   },
   {
    "duration": 9,
    "start_time": "2022-02-09T14:26:11.743Z"
   },
   {
    "duration": 4,
    "start_time": "2022-02-09T14:26:13.298Z"
   },
   {
    "duration": 7,
    "start_time": "2022-02-09T14:26:14.588Z"
   },
   {
    "duration": 6,
    "start_time": "2022-02-09T14:26:15.767Z"
   },
   {
    "duration": 8,
    "start_time": "2022-02-09T14:26:21.790Z"
   },
   {
    "duration": 34,
    "start_time": "2022-02-09T14:26:25.138Z"
   },
   {
    "duration": 3,
    "start_time": "2022-02-09T14:26:26.048Z"
   },
   {
    "duration": 20,
    "start_time": "2022-02-09T14:26:34.657Z"
   },
   {
    "duration": 21,
    "start_time": "2022-02-09T14:26:37.417Z"
   },
   {
    "duration": 3,
    "start_time": "2022-02-09T14:26:37.978Z"
   },
   {
    "duration": 9,
    "start_time": "2022-02-09T14:26:42.379Z"
   },
   {
    "duration": 9,
    "start_time": "2022-02-09T14:26:43.040Z"
   },
   {
    "duration": 9,
    "start_time": "2022-02-09T14:26:43.701Z"
   },
   {
    "duration": 7,
    "start_time": "2022-02-09T14:26:44.273Z"
   },
   {
    "duration": 10,
    "start_time": "2022-02-09T14:26:45.048Z"
   },
   {
    "duration": 20,
    "start_time": "2022-02-09T14:26:46.783Z"
   },
   {
    "duration": 20,
    "start_time": "2022-02-09T14:26:50.883Z"
   },
   {
    "duration": 20,
    "start_time": "2022-02-09T14:27:22.924Z"
   },
   {
    "duration": 4,
    "start_time": "2022-02-09T14:27:39.617Z"
   },
   {
    "duration": 9,
    "start_time": "2022-02-09T14:28:20.783Z"
   },
   {
    "duration": 7,
    "start_time": "2022-02-09T14:28:21.563Z"
   },
   {
    "duration": 7,
    "start_time": "2022-02-09T14:28:22.200Z"
   },
   {
    "duration": 17,
    "start_time": "2022-02-09T14:28:23.781Z"
   },
   {
    "duration": 7,
    "start_time": "2022-02-09T14:28:28.023Z"
   },
   {
    "duration": 22,
    "start_time": "2022-02-09T14:28:28.867Z"
   },
   {
    "duration": 22,
    "start_time": "2022-02-09T14:28:31.890Z"
   },
   {
    "duration": 25,
    "start_time": "2022-02-09T14:28:34.038Z"
   },
   {
    "duration": 19,
    "start_time": "2022-02-09T14:28:36.235Z"
   },
   {
    "duration": 255,
    "start_time": "2022-02-09T14:47:38.999Z"
   },
   {
    "duration": 9,
    "start_time": "2022-02-09T14:54:49.424Z"
   },
   {
    "duration": 7,
    "start_time": "2022-02-09T14:59:27.108Z"
   },
   {
    "duration": 8,
    "start_time": "2022-02-09T15:00:05.226Z"
   },
   {
    "duration": 7,
    "start_time": "2022-02-09T15:02:13.637Z"
   },
   {
    "duration": 6962,
    "start_time": "2022-02-09T15:08:39.606Z"
   },
   {
    "duration": 54,
    "start_time": "2022-02-09T15:09:28.034Z"
   },
   {
    "duration": 8,
    "start_time": "2022-02-09T15:09:28.794Z"
   },
   {
    "duration": 4,
    "start_time": "2022-02-09T15:09:29.610Z"
   },
   {
    "duration": 33,
    "start_time": "2022-02-09T15:09:30.535Z"
   },
   {
    "duration": 6,
    "start_time": "2022-02-09T15:09:34.075Z"
   },
   {
    "duration": 4,
    "start_time": "2022-02-09T15:09:35.317Z"
   },
   {
    "duration": 12,
    "start_time": "2022-02-09T15:09:36.147Z"
   },
   {
    "duration": 6,
    "start_time": "2022-02-09T15:09:36.896Z"
   },
   {
    "duration": 9,
    "start_time": "2022-02-09T15:09:45.961Z"
   },
   {
    "duration": 3,
    "start_time": "2022-02-09T15:09:46.858Z"
   },
   {
    "duration": 10,
    "start_time": "2022-02-09T15:09:47.616Z"
   },
   {
    "duration": 3,
    "start_time": "2022-02-09T15:09:48.470Z"
   },
   {
    "duration": 44,
    "start_time": "2022-02-09T15:09:49.811Z"
   },
   {
    "duration": 14,
    "start_time": "2022-02-09T15:09:50.950Z"
   },
   {
    "duration": 8,
    "start_time": "2022-02-09T15:09:51.581Z"
   },
   {
    "duration": 7,
    "start_time": "2022-02-09T15:09:53.498Z"
   },
   {
    "duration": 4,
    "start_time": "2022-02-09T15:09:54.134Z"
   },
   {
    "duration": 5,
    "start_time": "2022-02-09T15:09:55.555Z"
   },
   {
    "duration": 7,
    "start_time": "2022-02-09T15:09:56.108Z"
   },
   {
    "duration": 9,
    "start_time": "2022-02-09T15:09:56.690Z"
   },
   {
    "duration": 8,
    "start_time": "2022-02-09T15:09:58.268Z"
   },
   {
    "duration": 16,
    "start_time": "2022-02-09T15:09:59.160Z"
   },
   {
    "duration": 6,
    "start_time": "2022-02-09T15:09:59.923Z"
   },
   {
    "duration": 9,
    "start_time": "2022-02-09T15:10:01.269Z"
   },
   {
    "duration": 8,
    "start_time": "2022-02-09T15:10:01.704Z"
   },
   {
    "duration": 7,
    "start_time": "2022-02-09T15:10:02.944Z"
   },
   {
    "duration": 12,
    "start_time": "2022-02-09T15:10:04.469Z"
   },
   {
    "duration": 12,
    "start_time": "2022-02-09T15:10:04.854Z"
   },
   {
    "duration": 9,
    "start_time": "2022-02-09T15:10:05.857Z"
   },
   {
    "duration": 22,
    "start_time": "2022-02-09T15:10:06.162Z"
   },
   {
    "duration": 8,
    "start_time": "2022-02-09T15:10:06.748Z"
   },
   {
    "duration": 8,
    "start_time": "2022-02-09T15:10:08.079Z"
   },
   {
    "duration": 5,
    "start_time": "2022-02-09T15:10:09.249Z"
   },
   {
    "duration": 7,
    "start_time": "2022-02-09T15:10:09.963Z"
   },
   {
    "duration": 6,
    "start_time": "2022-02-09T15:10:10.894Z"
   },
   {
    "duration": 13,
    "start_time": "2022-02-09T15:10:15.165Z"
   },
   {
    "duration": 37,
    "start_time": "2022-02-09T15:10:17.457Z"
   },
   {
    "duration": 4,
    "start_time": "2022-02-09T15:10:18.351Z"
   },
   {
    "duration": 21,
    "start_time": "2022-02-09T15:10:20.825Z"
   },
   {
    "duration": 18,
    "start_time": "2022-02-09T15:10:22.560Z"
   },
   {
    "duration": 10,
    "start_time": "2022-02-09T15:10:23.316Z"
   },
   {
    "duration": 7496,
    "start_time": "2022-02-09T15:10:28.168Z"
   },
   {
    "duration": 10,
    "start_time": "2022-02-09T15:11:12.454Z"
   },
   {
    "duration": 10,
    "start_time": "2022-02-09T15:14:00.308Z"
   },
   {
    "duration": 9,
    "start_time": "2022-02-09T15:14:00.981Z"
   },
   {
    "duration": 9,
    "start_time": "2022-02-09T15:14:01.508Z"
   },
   {
    "duration": 9,
    "start_time": "2022-02-09T15:14:02.101Z"
   },
   {
    "duration": 14,
    "start_time": "2022-02-09T15:14:02.766Z"
   },
   {
    "duration": 20,
    "start_time": "2022-02-09T15:14:03.859Z"
   },
   {
    "duration": 4,
    "start_time": "2022-02-09T15:14:07.935Z"
   },
   {
    "duration": 12,
    "start_time": "2022-02-09T15:14:45.427Z"
   },
   {
    "duration": 7,
    "start_time": "2022-02-09T15:16:48.209Z"
   },
   {
    "duration": 7,
    "start_time": "2022-02-09T15:16:48.851Z"
   },
   {
    "duration": 7,
    "start_time": "2022-02-09T15:16:49.487Z"
   },
   {
    "duration": 15,
    "start_time": "2022-02-09T15:16:50.781Z"
   },
   {
    "duration": 7,
    "start_time": "2022-02-09T15:16:52.727Z"
   },
   {
    "duration": 20,
    "start_time": "2022-02-09T15:16:53.524Z"
   },
   {
    "duration": 19,
    "start_time": "2022-02-09T15:16:55.902Z"
   },
   {
    "duration": 18,
    "start_time": "2022-02-09T15:16:57.820Z"
   },
   {
    "duration": 19,
    "start_time": "2022-02-09T15:16:59.665Z"
   },
   {
    "duration": 7,
    "start_time": "2022-02-09T15:53:22.957Z"
   },
   {
    "duration": 1468,
    "start_time": "2022-02-10T07:35:06.249Z"
   },
   {
    "duration": 1372,
    "start_time": "2022-02-10T07:35:28.356Z"
   },
   {
    "duration": 1862,
    "start_time": "2022-02-10T07:35:43.294Z"
   },
   {
    "duration": 9,
    "start_time": "2022-02-10T07:35:45.158Z"
   },
   {
    "duration": 11,
    "start_time": "2022-02-10T07:35:45.170Z"
   },
   {
    "duration": 36,
    "start_time": "2022-02-10T07:35:45.382Z"
   },
   {
    "duration": 7,
    "start_time": "2022-02-10T07:35:49.839Z"
   },
   {
    "duration": 2,
    "start_time": "2022-02-10T07:35:51.279Z"
   },
   {
    "duration": 12,
    "start_time": "2022-02-10T07:35:51.969Z"
   },
   {
    "duration": 7,
    "start_time": "2022-02-10T07:35:52.672Z"
   },
   {
    "duration": 8,
    "start_time": "2022-02-10T07:35:54.697Z"
   },
   {
    "duration": 3,
    "start_time": "2022-02-10T07:35:55.368Z"
   },
   {
    "duration": 12,
    "start_time": "2022-02-10T07:35:56.047Z"
   },
   {
    "duration": 3,
    "start_time": "2022-02-10T07:35:56.665Z"
   },
   {
    "duration": 44,
    "start_time": "2022-02-10T07:35:57.999Z"
   },
   {
    "duration": 15,
    "start_time": "2022-02-10T07:35:59.518Z"
   },
   {
    "duration": 10,
    "start_time": "2022-02-10T07:36:00.242Z"
   },
   {
    "duration": 8,
    "start_time": "2022-02-10T07:36:02.003Z"
   },
   {
    "duration": 3,
    "start_time": "2022-02-10T07:36:02.603Z"
   },
   {
    "duration": 4,
    "start_time": "2022-02-10T07:36:03.764Z"
   },
   {
    "duration": 9,
    "start_time": "2022-02-10T07:36:04.283Z"
   },
   {
    "duration": 10,
    "start_time": "2022-02-10T07:36:04.770Z"
   },
   {
    "duration": 10,
    "start_time": "2022-02-10T07:36:06.162Z"
   },
   {
    "duration": 17,
    "start_time": "2022-02-10T07:36:07.156Z"
   },
   {
    "duration": 7,
    "start_time": "2022-02-10T07:36:08.276Z"
   },
   {
    "duration": 10,
    "start_time": "2022-02-10T07:36:09.794Z"
   },
   {
    "duration": 8,
    "start_time": "2022-02-10T07:36:10.286Z"
   },
   {
    "duration": 7,
    "start_time": "2022-02-10T07:36:11.454Z"
   },
   {
    "duration": 10,
    "start_time": "2022-02-10T07:36:12.445Z"
   },
   {
    "duration": 12,
    "start_time": "2022-02-10T07:36:12.788Z"
   },
   {
    "duration": 9,
    "start_time": "2022-02-10T07:36:13.807Z"
   },
   {
    "duration": 23,
    "start_time": "2022-02-10T07:36:14.150Z"
   },
   {
    "duration": 8,
    "start_time": "2022-02-10T07:36:14.805Z"
   },
   {
    "duration": 9,
    "start_time": "2022-02-10T07:36:15.792Z"
   },
   {
    "duration": 5,
    "start_time": "2022-02-10T07:36:16.410Z"
   },
   {
    "duration": 7,
    "start_time": "2022-02-10T07:36:17.064Z"
   },
   {
    "duration": 6,
    "start_time": "2022-02-10T07:36:17.727Z"
   },
   {
    "duration": 9,
    "start_time": "2022-02-10T07:36:18.817Z"
   },
   {
    "duration": 36,
    "start_time": "2022-02-10T07:36:20.715Z"
   },
   {
    "duration": 4,
    "start_time": "2022-02-10T07:36:21.029Z"
   },
   {
    "duration": 21,
    "start_time": "2022-02-10T07:36:21.738Z"
   },
   {
    "duration": 19,
    "start_time": "2022-02-10T07:36:22.689Z"
   },
   {
    "duration": 5,
    "start_time": "2022-02-10T07:36:23.007Z"
   },
   {
    "duration": 11,
    "start_time": "2022-02-10T07:36:23.675Z"
   },
   {
    "duration": 11,
    "start_time": "2022-02-10T07:36:25.125Z"
   },
   {
    "duration": 23,
    "start_time": "2022-02-10T07:36:25.138Z"
   },
   {
    "duration": 10,
    "start_time": "2022-02-10T07:36:25.182Z"
   },
   {
    "duration": 10,
    "start_time": "2022-02-10T07:36:25.554Z"
   },
   {
    "duration": 10,
    "start_time": "2022-02-10T07:36:25.854Z"
   },
   {
    "duration": 22,
    "start_time": "2022-02-10T07:36:26.168Z"
   },
   {
    "duration": 4,
    "start_time": "2022-02-10T07:36:26.499Z"
   },
   {
    "duration": 13,
    "start_time": "2022-02-10T07:36:26.833Z"
   },
   {
    "duration": 7,
    "start_time": "2022-02-10T07:36:28.092Z"
   },
   {
    "duration": 7,
    "start_time": "2022-02-10T07:36:28.394Z"
   },
   {
    "duration": 6,
    "start_time": "2022-02-10T07:36:28.707Z"
   },
   {
    "duration": 17,
    "start_time": "2022-02-10T07:36:29.379Z"
   },
   {
    "duration": 28,
    "start_time": "2022-02-10T07:36:34.165Z"
   },
   {
    "duration": 4,
    "start_time": "2022-02-10T07:37:28.495Z"
   },
   {
    "duration": 4,
    "start_time": "2022-02-10T07:37:49.024Z"
   },
   {
    "duration": 28,
    "start_time": "2022-02-10T07:38:18.382Z"
   },
   {
    "duration": 7,
    "start_time": "2022-02-10T07:39:03.618Z"
   },
   {
    "duration": 22,
    "start_time": "2022-02-10T07:39:17.019Z"
   },
   {
    "duration": 21,
    "start_time": "2022-02-10T07:39:25.076Z"
   },
   {
    "duration": 19,
    "start_time": "2022-02-10T07:39:27.729Z"
   },
   {
    "duration": 21,
    "start_time": "2022-02-10T07:39:30.097Z"
   },
   {
    "duration": 20,
    "start_time": "2022-02-10T07:40:29.648Z"
   },
   {
    "duration": 26,
    "start_time": "2022-02-10T07:46:27.848Z"
   },
   {
    "duration": 3,
    "start_time": "2022-02-10T07:46:31.427Z"
   },
   {
    "duration": 17,
    "start_time": "2022-02-10T07:46:32.130Z"
   },
   {
    "duration": 8,
    "start_time": "2022-02-10T07:46:36.888Z"
   },
   {
    "duration": 22,
    "start_time": "2022-02-10T07:46:37.665Z"
   },
   {
    "duration": 21,
    "start_time": "2022-02-10T07:46:43.671Z"
   },
   {
    "duration": 20,
    "start_time": "2022-02-10T07:46:46.863Z"
   },
   {
    "duration": 19,
    "start_time": "2022-02-10T07:46:49.553Z"
   },
   {
    "duration": 1325,
    "start_time": "2022-02-15T19:40:57.935Z"
   },
   {
    "duration": 7,
    "start_time": "2022-02-15T19:40:59.261Z"
   },
   {
    "duration": 11,
    "start_time": "2022-02-15T19:40:59.270Z"
   },
   {
    "duration": 32,
    "start_time": "2022-02-15T19:40:59.282Z"
   },
   {
    "duration": 20,
    "start_time": "2022-02-15T19:40:59.315Z"
   },
   {
    "duration": 2,
    "start_time": "2022-02-15T19:40:59.337Z"
   },
   {
    "duration": 12,
    "start_time": "2022-02-15T19:40:59.340Z"
   },
   {
    "duration": 5,
    "start_time": "2022-02-15T19:40:59.355Z"
   },
   {
    "duration": 7,
    "start_time": "2022-02-15T19:40:59.362Z"
   },
   {
    "duration": 2,
    "start_time": "2022-02-15T19:40:59.371Z"
   },
   {
    "duration": 14,
    "start_time": "2022-02-15T19:40:59.375Z"
   },
   {
    "duration": 3,
    "start_time": "2022-02-15T19:40:59.390Z"
   },
   {
    "duration": 73,
    "start_time": "2022-02-15T19:40:59.394Z"
   },
   {
    "duration": 11,
    "start_time": "2022-02-15T19:40:59.468Z"
   },
   {
    "duration": 8,
    "start_time": "2022-02-15T19:40:59.480Z"
   },
   {
    "duration": 7,
    "start_time": "2022-02-15T19:40:59.490Z"
   },
   {
    "duration": 4,
    "start_time": "2022-02-15T19:40:59.498Z"
   },
   {
    "duration": 5,
    "start_time": "2022-02-15T19:40:59.532Z"
   },
   {
    "duration": 7,
    "start_time": "2022-02-15T19:40:59.538Z"
   },
   {
    "duration": 9,
    "start_time": "2022-02-15T19:40:59.547Z"
   },
   {
    "duration": 8,
    "start_time": "2022-02-15T19:40:59.558Z"
   },
   {
    "duration": 24,
    "start_time": "2022-02-15T19:40:59.568Z"
   },
   {
    "duration": 5,
    "start_time": "2022-02-15T19:40:59.632Z"
   },
   {
    "duration": 8,
    "start_time": "2022-02-15T19:40:59.639Z"
   },
   {
    "duration": 13,
    "start_time": "2022-02-15T19:40:59.648Z"
   },
   {
    "duration": 7,
    "start_time": "2022-02-15T19:40:59.662Z"
   },
   {
    "duration": 11,
    "start_time": "2022-02-15T19:40:59.671Z"
   },
   {
    "duration": 15,
    "start_time": "2022-02-15T19:40:59.683Z"
   },
   {
    "duration": 34,
    "start_time": "2022-02-15T19:40:59.699Z"
   },
   {
    "duration": 18,
    "start_time": "2022-02-15T19:40:59.735Z"
   },
   {
    "duration": 7,
    "start_time": "2022-02-15T19:40:59.755Z"
   },
   {
    "duration": 14,
    "start_time": "2022-02-15T19:40:59.764Z"
   },
   {
    "duration": 11,
    "start_time": "2022-02-15T19:40:59.779Z"
   },
   {
    "duration": 10,
    "start_time": "2022-02-15T19:40:59.792Z"
   },
   {
    "duration": 9,
    "start_time": "2022-02-15T19:40:59.804Z"
   },
   {
    "duration": 18,
    "start_time": "2022-02-15T19:40:59.815Z"
   },
   {
    "duration": 33,
    "start_time": "2022-02-15T19:40:59.834Z"
   },
   {
    "duration": 3,
    "start_time": "2022-02-15T19:40:59.869Z"
   },
   {
    "duration": 22,
    "start_time": "2022-02-15T19:40:59.873Z"
   },
   {
    "duration": 36,
    "start_time": "2022-02-15T19:40:59.897Z"
   },
   {
    "duration": 5,
    "start_time": "2022-02-15T19:40:59.935Z"
   },
   {
    "duration": 11,
    "start_time": "2022-02-15T19:40:59.941Z"
   },
   {
    "duration": 8,
    "start_time": "2022-02-15T19:40:59.953Z"
   },
   {
    "duration": 15,
    "start_time": "2022-02-15T19:40:59.963Z"
   },
   {
    "duration": 12,
    "start_time": "2022-02-15T19:40:59.980Z"
   },
   {
    "duration": 13,
    "start_time": "2022-02-15T19:40:59.993Z"
   },
   {
    "duration": 26,
    "start_time": "2022-02-15T19:41:00.008Z"
   },
   {
    "duration": 19,
    "start_time": "2022-02-15T19:41:00.036Z"
   },
   {
    "duration": 8,
    "start_time": "2022-02-15T19:41:00.057Z"
   },
   {
    "duration": 16,
    "start_time": "2022-02-15T19:41:00.066Z"
   },
   {
    "duration": 8,
    "start_time": "2022-02-15T19:41:00.083Z"
   },
   {
    "duration": 9,
    "start_time": "2022-02-15T19:41:00.093Z"
   },
   {
    "duration": 11,
    "start_time": "2022-02-15T19:41:00.104Z"
   },
   {
    "duration": 17,
    "start_time": "2022-02-15T19:41:00.132Z"
   },
   {
    "duration": 27,
    "start_time": "2022-02-15T19:41:00.151Z"
   },
   {
    "duration": 3,
    "start_time": "2022-02-15T19:41:00.180Z"
   },
   {
    "duration": 18,
    "start_time": "2022-02-15T19:41:00.185Z"
   },
   {
    "duration": 7,
    "start_time": "2022-02-15T19:41:00.232Z"
   },
   {
    "duration": 21,
    "start_time": "2022-02-15T19:41:00.241Z"
   },
   {
    "duration": 18,
    "start_time": "2022-02-15T19:41:00.264Z"
   },
   {
    "duration": 49,
    "start_time": "2022-02-15T19:41:00.284Z"
   },
   {
    "duration": 19,
    "start_time": "2022-02-15T19:41:00.335Z"
   },
   {
    "duration": 120,
    "start_time": "2022-02-15T19:55:10.131Z"
   },
   {
    "duration": 113,
    "start_time": "2022-02-15T20:11:29.500Z"
   },
   {
    "duration": 4,
    "start_time": "2022-02-15T20:11:34.723Z"
   },
   {
    "duration": 16,
    "start_time": "2022-02-15T20:11:43.941Z"
   },
   {
    "duration": 21,
    "start_time": "2022-02-15T20:11:57.564Z"
   },
   {
    "duration": 4,
    "start_time": "2022-02-15T20:13:31.462Z"
   },
   {
    "duration": 13,
    "start_time": "2022-02-15T20:13:32.276Z"
   },
   {
    "duration": 432,
    "start_time": "2022-02-15T20:13:48.253Z"
   },
   {
    "duration": 3,
    "start_time": "2022-02-15T20:13:50.503Z"
   },
   {
    "duration": 12,
    "start_time": "2022-02-15T20:13:50.913Z"
   },
   {
    "duration": 124,
    "start_time": "2022-02-15T20:14:48.289Z"
   },
   {
    "duration": 128,
    "start_time": "2022-02-15T20:38:19.952Z"
   },
   {
    "duration": 338,
    "start_time": "2022-02-15T20:38:26.813Z"
   },
   {
    "duration": 340,
    "start_time": "2022-02-15T20:38:35.824Z"
   },
   {
    "duration": 341,
    "start_time": "2022-02-15T20:39:05.012Z"
   },
   {
    "duration": 20,
    "start_time": "2022-02-15T20:39:17.194Z"
   },
   {
    "duration": 9,
    "start_time": "2022-02-15T20:39:39.420Z"
   },
   {
    "duration": 8,
    "start_time": "2022-02-15T20:39:44.028Z"
   },
   {
    "duration": 11,
    "start_time": "2022-02-15T20:39:50.684Z"
   },
   {
    "duration": 19,
    "start_time": "2022-02-15T20:42:39.750Z"
   },
   {
    "duration": 13,
    "start_time": "2022-02-15T20:42:47.529Z"
   },
   {
    "duration": 1211,
    "start_time": "2022-02-15T20:46:20.657Z"
   },
   {
    "duration": 7,
    "start_time": "2022-02-15T20:46:21.870Z"
   },
   {
    "duration": 9,
    "start_time": "2022-02-15T20:46:21.879Z"
   },
   {
    "duration": 46,
    "start_time": "2022-02-15T20:46:21.890Z"
   },
   {
    "duration": 5,
    "start_time": "2022-02-15T20:46:21.938Z"
   },
   {
    "duration": 4,
    "start_time": "2022-02-15T20:46:21.945Z"
   },
   {
    "duration": 11,
    "start_time": "2022-02-15T20:46:21.950Z"
   },
   {
    "duration": 6,
    "start_time": "2022-02-15T20:46:21.963Z"
   },
   {
    "duration": 8,
    "start_time": "2022-02-15T20:46:21.971Z"
   },
   {
    "duration": 4,
    "start_time": "2022-02-15T20:46:21.980Z"
   },
   {
    "duration": 47,
    "start_time": "2022-02-15T20:46:21.985Z"
   },
   {
    "duration": 4,
    "start_time": "2022-02-15T20:46:22.034Z"
   },
   {
    "duration": 51,
    "start_time": "2022-02-15T20:46:22.040Z"
   },
   {
    "duration": 11,
    "start_time": "2022-02-15T20:46:22.092Z"
   },
   {
    "duration": 33,
    "start_time": "2022-02-15T20:46:22.104Z"
   },
   {
    "duration": 7,
    "start_time": "2022-02-15T20:46:22.138Z"
   },
   {
    "duration": 4,
    "start_time": "2022-02-15T20:46:22.146Z"
   },
   {
    "duration": 8,
    "start_time": "2022-02-15T20:46:22.151Z"
   },
   {
    "duration": 10,
    "start_time": "2022-02-15T20:46:22.161Z"
   },
   {
    "duration": 9,
    "start_time": "2022-02-15T20:46:22.172Z"
   },
   {
    "duration": 9,
    "start_time": "2022-02-15T20:46:22.183Z"
   },
   {
    "duration": 52,
    "start_time": "2022-02-15T20:46:22.194Z"
   },
   {
    "duration": 6,
    "start_time": "2022-02-15T20:46:22.251Z"
   },
   {
    "duration": 9,
    "start_time": "2022-02-15T20:46:22.259Z"
   },
   {
    "duration": 10,
    "start_time": "2022-02-15T20:46:22.270Z"
   },
   {
    "duration": 6,
    "start_time": "2022-02-15T20:46:22.282Z"
   },
   {
    "duration": 11,
    "start_time": "2022-02-15T20:46:22.289Z"
   },
   {
    "duration": 13,
    "start_time": "2022-02-15T20:46:22.333Z"
   },
   {
    "duration": 8,
    "start_time": "2022-02-15T20:46:22.348Z"
   },
   {
    "duration": 18,
    "start_time": "2022-02-15T20:46:22.358Z"
   },
   {
    "duration": 6,
    "start_time": "2022-02-15T20:46:22.378Z"
   },
   {
    "duration": 10,
    "start_time": "2022-02-15T20:46:22.385Z"
   },
   {
    "duration": 38,
    "start_time": "2022-02-15T20:46:22.397Z"
   },
   {
    "duration": 6,
    "start_time": "2022-02-15T20:46:22.437Z"
   },
   {
    "duration": 5,
    "start_time": "2022-02-15T20:46:22.445Z"
   },
   {
    "duration": 15,
    "start_time": "2022-02-15T20:46:22.451Z"
   },
   {
    "duration": 78,
    "start_time": "2022-02-15T20:46:22.468Z"
   },
   {
    "duration": 4,
    "start_time": "2022-02-15T20:46:22.548Z"
   },
   {
    "duration": 21,
    "start_time": "2022-02-15T20:46:22.553Z"
   },
   {
    "duration": 16,
    "start_time": "2022-02-15T20:46:22.575Z"
   },
   {
    "duration": 7,
    "start_time": "2022-02-15T20:46:22.592Z"
   },
   {
    "duration": 34,
    "start_time": "2022-02-15T20:46:22.600Z"
   },
   {
    "duration": 9,
    "start_time": "2022-02-15T20:46:22.636Z"
   },
   {
    "duration": 12,
    "start_time": "2022-02-15T20:46:22.646Z"
   },
   {
    "duration": 12,
    "start_time": "2022-02-15T20:46:22.659Z"
   },
   {
    "duration": 14,
    "start_time": "2022-02-15T20:46:22.673Z"
   },
   {
    "duration": 11,
    "start_time": "2022-02-15T20:46:22.689Z"
   },
   {
    "duration": 33,
    "start_time": "2022-02-15T20:46:22.702Z"
   },
   {
    "duration": 3,
    "start_time": "2022-02-15T20:46:22.737Z"
   },
   {
    "duration": 17,
    "start_time": "2022-02-15T20:46:22.741Z"
   },
   {
    "duration": 5,
    "start_time": "2022-02-15T20:46:22.759Z"
   },
   {
    "duration": 9,
    "start_time": "2022-02-15T20:46:22.766Z"
   },
   {
    "duration": 14,
    "start_time": "2022-02-15T20:46:22.777Z"
   },
   {
    "duration": 19,
    "start_time": "2022-02-15T20:46:22.793Z"
   },
   {
    "duration": 39,
    "start_time": "2022-02-15T20:46:22.814Z"
   },
   {
    "duration": 3,
    "start_time": "2022-02-15T20:46:22.855Z"
   },
   {
    "duration": 15,
    "start_time": "2022-02-15T20:46:22.860Z"
   },
   {
    "duration": 6,
    "start_time": "2022-02-15T20:46:22.877Z"
   },
   {
    "duration": 48,
    "start_time": "2022-02-15T20:46:22.885Z"
   },
   {
    "duration": 18,
    "start_time": "2022-02-15T20:46:22.935Z"
   },
   {
    "duration": 16,
    "start_time": "2022-02-15T20:46:22.955Z"
   },
   {
    "duration": 16,
    "start_time": "2022-02-15T20:46:22.973Z"
   },
   {
    "duration": 43,
    "start_time": "2022-02-15T20:46:22.990Z"
   },
   {
    "duration": 431,
    "start_time": "2022-02-16T06:29:45.178Z"
   },
   {
    "duration": 1573,
    "start_time": "2022-02-16T06:30:02.386Z"
   },
   {
    "duration": 52,
    "start_time": "2022-02-16T06:30:17.987Z"
   },
   {
    "duration": 19,
    "start_time": "2022-02-16T06:30:28.120Z"
   },
   {
    "duration": 5,
    "start_time": "2022-02-16T06:30:36.545Z"
   },
   {
    "duration": 35,
    "start_time": "2022-02-16T06:30:37.352Z"
   },
   {
    "duration": 6,
    "start_time": "2022-02-16T06:30:48.370Z"
   },
   {
    "duration": 3,
    "start_time": "2022-02-16T06:30:50.562Z"
   },
   {
    "duration": 11,
    "start_time": "2022-02-16T06:30:52.331Z"
   },
   {
    "duration": 11,
    "start_time": "2022-02-16T06:31:29.656Z"
   },
   {
    "duration": 7,
    "start_time": "2022-02-16T06:31:47.607Z"
   },
   {
    "duration": 8,
    "start_time": "2022-02-16T06:32:13.186Z"
   },
   {
    "duration": 587,
    "start_time": "2022-02-16T06:32:29.999Z"
   },
   {
    "duration": 7,
    "start_time": "2022-02-16T06:33:11.496Z"
   },
   {
    "duration": 7,
    "start_time": "2022-02-16T06:33:17.614Z"
   },
   {
    "duration": 9,
    "start_time": "2022-02-16T06:33:37.826Z"
   },
   {
    "duration": 9,
    "start_time": "2022-02-16T06:41:52.093Z"
   },
   {
    "duration": 11,
    "start_time": "2022-02-16T06:43:23.573Z"
   },
   {
    "duration": 9,
    "start_time": "2022-02-16T06:52:21.626Z"
   },
   {
    "duration": 106,
    "start_time": "2022-02-16T06:56:19.200Z"
   },
   {
    "duration": 9,
    "start_time": "2022-02-16T06:56:48.651Z"
   },
   {
    "duration": 11,
    "start_time": "2022-02-16T07:00:06.418Z"
   },
   {
    "duration": 335,
    "start_time": "2022-02-16T07:01:15.137Z"
   },
   {
    "duration": 307,
    "start_time": "2022-02-16T07:02:00.193Z"
   },
   {
    "duration": 15,
    "start_time": "2022-02-16T07:02:25.217Z"
   },
   {
    "duration": 12,
    "start_time": "2022-02-16T07:02:55.389Z"
   },
   {
    "duration": 319,
    "start_time": "2022-02-16T07:03:24.241Z"
   },
   {
    "duration": 276,
    "start_time": "2022-02-16T07:04:21.933Z"
   },
   {
    "duration": 12,
    "start_time": "2022-02-16T07:09:15.188Z"
   },
   {
    "duration": 269,
    "start_time": "2022-02-16T07:09:19.131Z"
   },
   {
    "duration": 11,
    "start_time": "2022-02-16T07:10:37.436Z"
   },
   {
    "duration": 314,
    "start_time": "2022-02-16T07:11:06.419Z"
   },
   {
    "duration": 246,
    "start_time": "2022-02-16T07:11:56.280Z"
   },
   {
    "duration": 12,
    "start_time": "2022-02-16T07:15:14.950Z"
   },
   {
    "duration": 48,
    "start_time": "2022-02-16T07:17:33.649Z"
   },
   {
    "duration": 21,
    "start_time": "2022-02-16T07:17:52.164Z"
   },
   {
    "duration": 19,
    "start_time": "2022-02-16T07:18:21.817Z"
   },
   {
    "duration": 15,
    "start_time": "2022-02-16T07:18:32.574Z"
   },
   {
    "duration": 256,
    "start_time": "2022-02-16T07:20:28.355Z"
   },
   {
    "duration": 6,
    "start_time": "2022-02-16T07:21:24.988Z"
   },
   {
    "duration": 15,
    "start_time": "2022-02-16T07:23:03.984Z"
   },
   {
    "duration": 8,
    "start_time": "2022-02-16T07:23:06.559Z"
   },
   {
    "duration": 338,
    "start_time": "2022-02-16T07:24:05.760Z"
   },
   {
    "duration": 296,
    "start_time": "2022-02-16T07:25:34.199Z"
   },
   {
    "duration": 7,
    "start_time": "2022-02-16T07:28:10.061Z"
   },
   {
    "duration": 429,
    "start_time": "2022-02-16T07:29:49.382Z"
   },
   {
    "duration": 7,
    "start_time": "2022-02-16T07:30:01.022Z"
   },
   {
    "duration": 16,
    "start_time": "2022-02-16T07:34:11.136Z"
   },
   {
    "duration": 9,
    "start_time": "2022-02-16T07:38:48.592Z"
   },
   {
    "duration": 7,
    "start_time": "2022-02-16T07:39:00.503Z"
   },
   {
    "duration": 10,
    "start_time": "2022-02-16T07:40:50.311Z"
   },
   {
    "duration": 287,
    "start_time": "2022-02-16T07:42:10.545Z"
   },
   {
    "duration": 24,
    "start_time": "2022-02-16T07:42:30.616Z"
   },
   {
    "duration": 6,
    "start_time": "2022-02-16T07:44:36.231Z"
   },
   {
    "duration": 7,
    "start_time": "2022-02-16T07:52:35.433Z"
   },
   {
    "duration": 8,
    "start_time": "2022-02-16T07:55:33.085Z"
   },
   {
    "duration": 5,
    "start_time": "2022-02-16T07:56:34.831Z"
   },
   {
    "duration": 4,
    "start_time": "2022-02-16T07:57:50.506Z"
   },
   {
    "duration": 7,
    "start_time": "2022-02-16T07:57:52.803Z"
   },
   {
    "duration": 10,
    "start_time": "2022-02-16T07:57:55.434Z"
   },
   {
    "duration": 8,
    "start_time": "2022-02-16T07:59:09.698Z"
   },
   {
    "duration": 18,
    "start_time": "2022-02-16T07:59:21.523Z"
   },
   {
    "duration": 7,
    "start_time": "2022-02-16T07:59:27.692Z"
   },
   {
    "duration": 8,
    "start_time": "2022-02-16T08:00:15.399Z"
   },
   {
    "duration": 7,
    "start_time": "2022-02-16T08:02:04.368Z"
   },
   {
    "duration": 6,
    "start_time": "2022-02-16T08:02:33.368Z"
   },
   {
    "duration": 72,
    "start_time": "2022-02-16T08:02:51.815Z"
   },
   {
    "duration": 19,
    "start_time": "2022-02-16T08:02:54.870Z"
   },
   {
    "duration": 5,
    "start_time": "2022-02-16T08:02:58.381Z"
   },
   {
    "duration": 33,
    "start_time": "2022-02-16T08:03:00.622Z"
   },
   {
    "duration": 281,
    "start_time": "2022-02-16T08:03:50.300Z"
   },
   {
    "duration": 19,
    "start_time": "2022-02-16T08:04:19.131Z"
   },
   {
    "duration": 28,
    "start_time": "2022-02-16T08:05:09.715Z"
   },
   {
    "duration": 9,
    "start_time": "2022-02-16T08:05:27.701Z"
   },
   {
    "duration": 2,
    "start_time": "2022-02-16T08:05:29.579Z"
   },
   {
    "duration": 13,
    "start_time": "2022-02-16T08:05:31.124Z"
   },
   {
    "duration": 7,
    "start_time": "2022-02-16T08:05:32.047Z"
   },
   {
    "duration": 8,
    "start_time": "2022-02-16T08:05:36.323Z"
   },
   {
    "duration": 11,
    "start_time": "2022-02-16T08:05:39.188Z"
   },
   {
    "duration": 47,
    "start_time": "2022-02-16T08:05:49.037Z"
   },
   {
    "duration": 13,
    "start_time": "2022-02-16T08:05:54.619Z"
   },
   {
    "duration": 10,
    "start_time": "2022-02-16T08:05:56.400Z"
   },
   {
    "duration": 29,
    "start_time": "2022-02-16T08:06:19.484Z"
   },
   {
    "duration": 7,
    "start_time": "2022-02-16T08:07:05.693Z"
   },
   {
    "duration": 8,
    "start_time": "2022-02-16T08:07:25.038Z"
   },
   {
    "duration": 7,
    "start_time": "2022-02-16T08:08:01.056Z"
   },
   {
    "duration": 3,
    "start_time": "2022-02-16T08:08:38.418Z"
   },
   {
    "duration": 5,
    "start_time": "2022-02-16T08:08:40.126Z"
   },
   {
    "duration": 7,
    "start_time": "2022-02-16T08:08:41.112Z"
   },
   {
    "duration": 9,
    "start_time": "2022-02-16T08:08:43.304Z"
   },
   {
    "duration": 9,
    "start_time": "2022-02-16T08:08:50.256Z"
   },
   {
    "duration": 16,
    "start_time": "2022-02-16T08:08:55.647Z"
   },
   {
    "duration": 7,
    "start_time": "2022-02-16T08:09:06.558Z"
   },
   {
    "duration": 13,
    "start_time": "2022-02-16T08:09:37.884Z"
   },
   {
    "duration": 7,
    "start_time": "2022-02-16T08:09:47.765Z"
   },
   {
    "duration": 7,
    "start_time": "2022-02-16T08:10:23.582Z"
   },
   {
    "duration": 8,
    "start_time": "2022-02-16T08:11:25.732Z"
   },
   {
    "duration": 6,
    "start_time": "2022-02-16T08:11:49.275Z"
   },
   {
    "duration": 8,
    "start_time": "2022-02-16T08:12:03.301Z"
   },
   {
    "duration": 7,
    "start_time": "2022-02-16T08:12:32.330Z"
   },
   {
    "duration": 7,
    "start_time": "2022-02-16T08:12:44.432Z"
   },
   {
    "duration": 9,
    "start_time": "2022-02-16T08:16:09.657Z"
   },
   {
    "duration": 11,
    "start_time": "2022-02-16T08:16:13.992Z"
   },
   {
    "duration": 8,
    "start_time": "2022-02-16T08:16:27.949Z"
   },
   {
    "duration": 9,
    "start_time": "2022-02-16T08:17:14.628Z"
   },
   {
    "duration": 21,
    "start_time": "2022-02-16T08:17:18.031Z"
   },
   {
    "duration": 6,
    "start_time": "2022-02-16T08:17:30.170Z"
   },
   {
    "duration": 8,
    "start_time": "2022-02-16T08:17:39.708Z"
   },
   {
    "duration": 8,
    "start_time": "2022-02-16T08:17:49.255Z"
   },
   {
    "duration": 4,
    "start_time": "2022-02-16T08:17:52.135Z"
   },
   {
    "duration": 7,
    "start_time": "2022-02-16T08:18:06.063Z"
   },
   {
    "duration": 10,
    "start_time": "2022-02-16T08:19:53.840Z"
   },
   {
    "duration": 20,
    "start_time": "2022-02-16T08:21:18.669Z"
   },
   {
    "duration": 17,
    "start_time": "2022-02-16T08:22:39.425Z"
   },
   {
    "duration": 17,
    "start_time": "2022-02-16T08:23:28.900Z"
   },
   {
    "duration": 17,
    "start_time": "2022-02-16T08:23:31.843Z"
   },
   {
    "duration": 21,
    "start_time": "2022-02-16T08:23:47.716Z"
   },
   {
    "duration": 20,
    "start_time": "2022-02-16T08:23:53.738Z"
   },
   {
    "duration": 4,
    "start_time": "2022-02-16T08:24:01.278Z"
   },
   {
    "duration": 19,
    "start_time": "2022-02-16T08:25:15.490Z"
   },
   {
    "duration": 258,
    "start_time": "2022-02-16T08:26:14.775Z"
   },
   {
    "duration": 11,
    "start_time": "2022-02-16T08:26:19.663Z"
   },
   {
    "duration": 11,
    "start_time": "2022-02-16T08:26:30.001Z"
   },
   {
    "duration": 9,
    "start_time": "2022-02-16T08:26:35.940Z"
   },
   {
    "duration": 10,
    "start_time": "2022-02-16T08:26:36.428Z"
   },
   {
    "duration": 11,
    "start_time": "2022-02-16T08:26:36.440Z"
   },
   {
    "duration": 13,
    "start_time": "2022-02-16T08:26:36.454Z"
   },
   {
    "duration": 80,
    "start_time": "2022-02-16T08:28:08.445Z"
   },
   {
    "duration": 82,
    "start_time": "2022-02-16T08:28:38.642Z"
   },
   {
    "duration": 3,
    "start_time": "2022-02-16T08:29:02.655Z"
   },
   {
    "duration": 9,
    "start_time": "2022-02-16T08:29:31.261Z"
   },
   {
    "duration": 11,
    "start_time": "2022-02-16T08:29:44.911Z"
   },
   {
    "duration": 9,
    "start_time": "2022-02-16T08:29:45.547Z"
   },
   {
    "duration": 10,
    "start_time": "2022-02-16T08:29:45.558Z"
   },
   {
    "duration": 10,
    "start_time": "2022-02-16T08:29:46.509Z"
   },
   {
    "duration": 8,
    "start_time": "2022-02-16T08:29:46.625Z"
   },
   {
    "duration": 294,
    "start_time": "2022-02-16T08:30:24.566Z"
   },
   {
    "duration": 22,
    "start_time": "2022-02-16T08:30:33.146Z"
   },
   {
    "duration": 3,
    "start_time": "2022-02-16T08:30:36.863Z"
   },
   {
    "duration": 120,
    "start_time": "2022-02-16T08:32:53.337Z"
   },
   {
    "duration": 16,
    "start_time": "2022-02-16T08:33:17.654Z"
   },
   {
    "duration": 16,
    "start_time": "2022-02-16T08:35:15.850Z"
   },
   {
    "duration": 21,
    "start_time": "2022-02-16T08:35:54.437Z"
   },
   {
    "duration": 12,
    "start_time": "2022-02-16T08:37:25.473Z"
   },
   {
    "duration": 7,
    "start_time": "2022-02-16T08:37:31.453Z"
   },
   {
    "duration": 6,
    "start_time": "2022-02-16T08:37:32.960Z"
   },
   {
    "duration": 316,
    "start_time": "2022-02-16T08:59:04.903Z"
   },
   {
    "duration": 12,
    "start_time": "2022-02-16T09:00:18.413Z"
   },
   {
    "duration": 12,
    "start_time": "2022-02-16T09:01:24.091Z"
   },
   {
    "duration": 14,
    "start_time": "2022-02-16T09:02:39.711Z"
   },
   {
    "duration": 12,
    "start_time": "2022-02-16T09:04:39.916Z"
   },
   {
    "duration": 248,
    "start_time": "2022-02-16T09:04:59.136Z"
   },
   {
    "duration": 286,
    "start_time": "2022-02-16T09:04:59.714Z"
   },
   {
    "duration": 248,
    "start_time": "2022-02-16T09:05:50.983Z"
   },
   {
    "duration": 249,
    "start_time": "2022-02-16T09:05:58.434Z"
   },
   {
    "duration": 339,
    "start_time": "2022-02-16T09:06:02.447Z"
   },
   {
    "duration": 271,
    "start_time": "2022-02-16T09:07:09.990Z"
   },
   {
    "duration": 273,
    "start_time": "2022-02-16T09:10:34.154Z"
   },
   {
    "duration": 267,
    "start_time": "2022-02-16T09:11:07.694Z"
   },
   {
    "duration": 332,
    "start_time": "2022-02-16T09:12:58.419Z"
   },
   {
    "duration": 237,
    "start_time": "2022-02-16T09:13:56.230Z"
   },
   {
    "duration": 274,
    "start_time": "2022-02-16T09:14:03.578Z"
   },
   {
    "duration": 275,
    "start_time": "2022-02-16T09:15:47.083Z"
   },
   {
    "duration": 6,
    "start_time": "2022-02-16T09:16:18.891Z"
   },
   {
    "duration": 299,
    "start_time": "2022-02-16T09:16:24.855Z"
   },
   {
    "duration": 252,
    "start_time": "2022-02-16T09:16:38.294Z"
   },
   {
    "duration": 252,
    "start_time": "2022-02-16T09:17:10.972Z"
   },
   {
    "duration": 12,
    "start_time": "2022-02-16T09:18:06.109Z"
   },
   {
    "duration": 7,
    "start_time": "2022-02-16T09:18:52.393Z"
   },
   {
    "duration": 11,
    "start_time": "2022-02-16T09:18:58.612Z"
   },
   {
    "duration": 57,
    "start_time": "2022-02-16T09:19:28.013Z"
   },
   {
    "duration": 14,
    "start_time": "2022-02-16T09:19:28.789Z"
   },
   {
    "duration": 5,
    "start_time": "2022-02-16T09:19:31.263Z"
   },
   {
    "duration": 32,
    "start_time": "2022-02-16T09:19:32.133Z"
   },
   {
    "duration": 28,
    "start_time": "2022-02-16T09:19:35.206Z"
   },
   {
    "duration": 7,
    "start_time": "2022-02-16T09:19:39.018Z"
   },
   {
    "duration": 2,
    "start_time": "2022-02-16T09:19:41.088Z"
   },
   {
    "duration": 11,
    "start_time": "2022-02-16T09:19:41.766Z"
   },
   {
    "duration": 7,
    "start_time": "2022-02-16T09:19:42.453Z"
   },
   {
    "duration": 9,
    "start_time": "2022-02-16T09:19:45.051Z"
   },
   {
    "duration": 13,
    "start_time": "2022-02-16T09:19:46.281Z"
   },
   {
    "duration": 49,
    "start_time": "2022-02-16T09:19:47.580Z"
   },
   {
    "duration": 15,
    "start_time": "2022-02-16T09:19:49.451Z"
   },
   {
    "duration": 8,
    "start_time": "2022-02-16T09:19:49.990Z"
   },
   {
    "duration": 10,
    "start_time": "2022-02-16T09:19:52.051Z"
   },
   {
    "duration": 6,
    "start_time": "2022-02-16T09:19:53.233Z"
   },
   {
    "duration": 3,
    "start_time": "2022-02-16T09:19:54.338Z"
   },
   {
    "duration": 5,
    "start_time": "2022-02-16T09:19:55.265Z"
   },
   {
    "duration": 7,
    "start_time": "2022-02-16T09:19:55.712Z"
   },
   {
    "duration": 9,
    "start_time": "2022-02-16T09:19:56.102Z"
   },
   {
    "duration": 9,
    "start_time": "2022-02-16T09:19:57.514Z"
   },
   {
    "duration": 17,
    "start_time": "2022-02-16T09:19:58.522Z"
   },
   {
    "duration": 8,
    "start_time": "2022-02-16T09:20:04.881Z"
   },
   {
    "duration": 9,
    "start_time": "2022-02-16T09:20:06.549Z"
   },
   {
    "duration": 7,
    "start_time": "2022-02-16T09:20:07.707Z"
   },
   {
    "duration": 7,
    "start_time": "2022-02-16T09:20:08.961Z"
   },
   {
    "duration": 9,
    "start_time": "2022-02-16T09:20:09.953Z"
   },
   {
    "duration": 11,
    "start_time": "2022-02-16T09:20:10.362Z"
   },
   {
    "duration": 9,
    "start_time": "2022-02-16T09:20:11.627Z"
   },
   {
    "duration": 21,
    "start_time": "2022-02-16T09:20:11.889Z"
   },
   {
    "duration": 7,
    "start_time": "2022-02-16T09:20:12.463Z"
   },
   {
    "duration": 9,
    "start_time": "2022-02-16T09:20:13.201Z"
   },
   {
    "duration": 6,
    "start_time": "2022-02-16T09:20:13.672Z"
   },
   {
    "duration": 9,
    "start_time": "2022-02-16T09:20:14.457Z"
   },
   {
    "duration": 9,
    "start_time": "2022-02-16T09:20:15.375Z"
   },
   {
    "duration": 9,
    "start_time": "2022-02-16T09:20:16.383Z"
   },
   {
    "duration": 37,
    "start_time": "2022-02-16T09:20:18.145Z"
   },
   {
    "duration": 17,
    "start_time": "2022-02-16T09:20:18.463Z"
   },
   {
    "duration": 16,
    "start_time": "2022-02-16T09:20:19.677Z"
   },
   {
    "duration": 22,
    "start_time": "2022-02-16T09:20:21.155Z"
   },
   {
    "duration": 19,
    "start_time": "2022-02-16T09:20:22.459Z"
   },
   {
    "duration": 4,
    "start_time": "2022-02-16T09:20:27.717Z"
   },
   {
    "duration": 13,
    "start_time": "2022-02-16T09:20:30.726Z"
   },
   {
    "duration": 10,
    "start_time": "2022-02-16T09:20:36.794Z"
   },
   {
    "duration": 9,
    "start_time": "2022-02-16T09:20:37.298Z"
   },
   {
    "duration": 14,
    "start_time": "2022-02-16T09:20:37.798Z"
   },
   {
    "duration": 14,
    "start_time": "2022-02-16T09:20:38.269Z"
   },
   {
    "duration": 9,
    "start_time": "2022-02-16T09:20:38.773Z"
   },
   {
    "duration": 23,
    "start_time": "2022-02-16T09:20:42.248Z"
   },
   {
    "duration": 4,
    "start_time": "2022-02-16T09:20:43.963Z"
   },
   {
    "duration": 30,
    "start_time": "2022-02-16T09:20:57.072Z"
   },
   {
    "duration": 13,
    "start_time": "2022-02-16T09:21:00.854Z"
   },
   {
    "duration": 14,
    "start_time": "2022-02-16T09:21:10.868Z"
   },
   {
    "duration": 6,
    "start_time": "2022-02-16T09:21:25.035Z"
   },
   {
    "duration": 310,
    "start_time": "2022-02-16T09:58:22.792Z"
   },
   {
    "duration": 14,
    "start_time": "2022-02-16T09:58:48.044Z"
   },
   {
    "duration": 16,
    "start_time": "2022-02-16T09:58:54.436Z"
   },
   {
    "duration": 16,
    "start_time": "2022-02-16T10:00:11.922Z"
   },
   {
    "duration": 24,
    "start_time": "2022-02-16T10:00:21.922Z"
   },
   {
    "duration": 315,
    "start_time": "2022-02-16T10:01:33.912Z"
   },
   {
    "duration": 21,
    "start_time": "2022-02-16T10:01:42.508Z"
   },
   {
    "duration": 19,
    "start_time": "2022-02-16T10:08:42.274Z"
   },
   {
    "duration": 297,
    "start_time": "2022-02-16T10:08:42.819Z"
   },
   {
    "duration": 268,
    "start_time": "2022-02-16T10:08:44.568Z"
   },
   {
    "duration": 62,
    "start_time": "2022-02-16T10:09:02.045Z"
   },
   {
    "duration": 14,
    "start_time": "2022-02-16T10:09:03.139Z"
   },
   {
    "duration": 5,
    "start_time": "2022-02-16T10:09:05.088Z"
   },
   {
    "duration": 39,
    "start_time": "2022-02-16T10:09:05.713Z"
   },
   {
    "duration": 26,
    "start_time": "2022-02-16T10:09:07.752Z"
   },
   {
    "duration": 8,
    "start_time": "2022-02-16T10:09:10.111Z"
   },
   {
    "duration": 3,
    "start_time": "2022-02-16T10:09:13.205Z"
   },
   {
    "duration": 15,
    "start_time": "2022-02-16T10:09:13.749Z"
   },
   {
    "duration": 7,
    "start_time": "2022-02-16T10:09:14.300Z"
   },
   {
    "duration": 10,
    "start_time": "2022-02-16T10:09:16.172Z"
   },
   {
    "duration": 14,
    "start_time": "2022-02-16T10:09:17.028Z"
   },
   {
    "duration": 47,
    "start_time": "2022-02-16T10:09:18.119Z"
   },
   {
    "duration": 17,
    "start_time": "2022-02-16T10:09:19.547Z"
   },
   {
    "duration": 8,
    "start_time": "2022-02-16T10:09:19.902Z"
   },
   {
    "duration": 7,
    "start_time": "2022-02-16T10:09:21.552Z"
   },
   {
    "duration": 6,
    "start_time": "2022-02-16T10:09:22.106Z"
   },
   {
    "duration": 4,
    "start_time": "2022-02-16T10:09:22.699Z"
   },
   {
    "duration": 4,
    "start_time": "2022-02-16T10:09:23.326Z"
   },
   {
    "duration": 7,
    "start_time": "2022-02-16T10:09:23.657Z"
   },
   {
    "duration": 9,
    "start_time": "2022-02-16T10:09:23.916Z"
   },
   {
    "duration": 9,
    "start_time": "2022-02-16T10:09:24.874Z"
   },
   {
    "duration": 18,
    "start_time": "2022-02-16T10:09:25.471Z"
   },
   {
    "duration": 8,
    "start_time": "2022-02-16T10:09:26.451Z"
   },
   {
    "duration": 10,
    "start_time": "2022-02-16T10:09:27.490Z"
   },
   {
    "duration": 7,
    "start_time": "2022-02-16T10:09:27.765Z"
   },
   {
    "duration": 10,
    "start_time": "2022-02-16T10:09:28.667Z"
   },
   {
    "duration": 8,
    "start_time": "2022-02-16T10:09:29.537Z"
   },
   {
    "duration": 11,
    "start_time": "2022-02-16T10:09:29.839Z"
   },
   {
    "duration": 8,
    "start_time": "2022-02-16T10:09:30.875Z"
   },
   {
    "duration": 29,
    "start_time": "2022-02-16T10:09:31.153Z"
   },
   {
    "duration": 8,
    "start_time": "2022-02-16T10:09:31.642Z"
   },
   {
    "duration": 10,
    "start_time": "2022-02-16T10:09:32.374Z"
   },
   {
    "duration": 5,
    "start_time": "2022-02-16T10:09:32.855Z"
   },
   {
    "duration": 6,
    "start_time": "2022-02-16T10:09:33.385Z"
   },
   {
    "duration": 7,
    "start_time": "2022-02-16T10:09:34.021Z"
   },
   {
    "duration": 9,
    "start_time": "2022-02-16T10:09:34.671Z"
   },
   {
    "duration": 36,
    "start_time": "2022-02-16T10:09:36.107Z"
   },
   {
    "duration": 19,
    "start_time": "2022-02-16T10:09:36.196Z"
   },
   {
    "duration": 16,
    "start_time": "2022-02-16T10:09:37.874Z"
   },
   {
    "duration": 22,
    "start_time": "2022-02-16T10:09:40.403Z"
   },
   {
    "duration": 18,
    "start_time": "2022-02-16T10:09:41.940Z"
   },
   {
    "duration": 4,
    "start_time": "2022-02-16T10:09:42.658Z"
   },
   {
    "duration": 12,
    "start_time": "2022-02-16T10:09:43.235Z"
   },
   {
    "duration": 10,
    "start_time": "2022-02-16T10:09:45.489Z"
   },
   {
    "duration": 9,
    "start_time": "2022-02-16T10:09:45.791Z"
   },
   {
    "duration": 10,
    "start_time": "2022-02-16T10:09:46.141Z"
   },
   {
    "duration": 9,
    "start_time": "2022-02-16T10:09:46.405Z"
   },
   {
    "duration": 9,
    "start_time": "2022-02-16T10:09:46.757Z"
   },
   {
    "duration": 25,
    "start_time": "2022-02-16T10:09:50.247Z"
   },
   {
    "duration": 4,
    "start_time": "2022-02-16T10:09:51.537Z"
   },
   {
    "duration": 20,
    "start_time": "2022-02-16T10:09:57.807Z"
   },
   {
    "duration": 21,
    "start_time": "2022-02-16T10:10:04.434Z"
   },
   {
    "duration": 11,
    "start_time": "2022-02-16T10:10:23.441Z"
   },
   {
    "duration": 23,
    "start_time": "2022-02-16T10:10:43.130Z"
   },
   {
    "duration": 48,
    "start_time": "2022-02-16T10:11:45.597Z"
   },
   {
    "duration": 382,
    "start_time": "2022-02-16T10:12:04.902Z"
   },
   {
    "duration": 11,
    "start_time": "2022-02-16T10:13:26.532Z"
   },
   {
    "duration": 53,
    "start_time": "2022-02-16T10:15:38.978Z"
   },
   {
    "duration": 17,
    "start_time": "2022-02-16T10:15:40.153Z"
   },
   {
    "duration": 4,
    "start_time": "2022-02-16T10:15:42.574Z"
   },
   {
    "duration": 45,
    "start_time": "2022-02-16T10:15:42.580Z"
   },
   {
    "duration": 29,
    "start_time": "2022-02-16T10:15:45.095Z"
   },
   {
    "duration": 6,
    "start_time": "2022-02-16T10:15:47.703Z"
   },
   {
    "duration": 4,
    "start_time": "2022-02-16T10:15:48.793Z"
   },
   {
    "duration": 12,
    "start_time": "2022-02-16T10:15:49.438Z"
   },
   {
    "duration": 7,
    "start_time": "2022-02-16T10:15:49.996Z"
   },
   {
    "duration": 9,
    "start_time": "2022-02-16T10:15:51.928Z"
   },
   {
    "duration": 17,
    "start_time": "2022-02-16T10:15:52.819Z"
   },
   {
    "duration": 47,
    "start_time": "2022-02-16T10:15:53.788Z"
   },
   {
    "duration": 15,
    "start_time": "2022-02-16T10:15:55.275Z"
   },
   {
    "duration": 8,
    "start_time": "2022-02-16T10:15:55.839Z"
   },
   {
    "duration": 8,
    "start_time": "2022-02-16T10:15:57.922Z"
   },
   {
    "duration": 6,
    "start_time": "2022-02-16T10:15:58.762Z"
   },
   {
    "duration": 5,
    "start_time": "2022-02-16T10:15:59.575Z"
   },
   {
    "duration": 6,
    "start_time": "2022-02-16T10:16:00.426Z"
   },
   {
    "duration": 7,
    "start_time": "2022-02-16T10:16:00.904Z"
   },
   {
    "duration": 10,
    "start_time": "2022-02-16T10:16:01.342Z"
   },
   {
    "duration": 9,
    "start_time": "2022-02-16T10:16:02.673Z"
   },
   {
    "duration": 17,
    "start_time": "2022-02-16T10:16:03.559Z"
   },
   {
    "duration": 7,
    "start_time": "2022-02-16T10:16:04.957Z"
   },
   {
    "duration": 9,
    "start_time": "2022-02-16T10:16:06.364Z"
   },
   {
    "duration": 7,
    "start_time": "2022-02-16T10:16:06.746Z"
   },
   {
    "duration": 8,
    "start_time": "2022-02-16T10:16:08.013Z"
   },
   {
    "duration": 9,
    "start_time": "2022-02-16T10:16:09.261Z"
   },
   {
    "duration": 11,
    "start_time": "2022-02-16T10:16:09.694Z"
   },
   {
    "duration": 11,
    "start_time": "2022-02-16T10:16:10.860Z"
   },
   {
    "duration": 22,
    "start_time": "2022-02-16T10:16:11.108Z"
   },
   {
    "duration": 7,
    "start_time": "2022-02-16T10:16:11.508Z"
   },
   {
    "duration": 9,
    "start_time": "2022-02-16T10:16:12.139Z"
   },
   {
    "duration": 5,
    "start_time": "2022-02-16T10:16:12.543Z"
   },
   {
    "duration": 7,
    "start_time": "2022-02-16T10:16:12.934Z"
   },
   {
    "duration": 6,
    "start_time": "2022-02-16T10:16:13.575Z"
   },
   {
    "duration": 11,
    "start_time": "2022-02-16T10:16:14.406Z"
   },
   {
    "duration": 48,
    "start_time": "2022-02-16T10:16:16.195Z"
   },
   {
    "duration": 18,
    "start_time": "2022-02-16T10:16:16.511Z"
   },
   {
    "duration": 17,
    "start_time": "2022-02-16T10:16:17.074Z"
   },
   {
    "duration": 26,
    "start_time": "2022-02-16T10:16:18.725Z"
   },
   {
    "duration": 17,
    "start_time": "2022-02-16T10:16:19.704Z"
   },
   {
    "duration": 4,
    "start_time": "2022-02-16T10:16:20.701Z"
   },
   {
    "duration": 11,
    "start_time": "2022-02-16T10:16:21.653Z"
   },
   {
    "duration": 17,
    "start_time": "2022-02-16T10:16:23.490Z"
   },
   {
    "duration": 9,
    "start_time": "2022-02-16T10:16:24.016Z"
   },
   {
    "duration": 10,
    "start_time": "2022-02-16T10:16:24.493Z"
   },
   {
    "duration": 9,
    "start_time": "2022-02-16T10:16:24.959Z"
   },
   {
    "duration": 10,
    "start_time": "2022-02-16T10:16:25.342Z"
   },
   {
    "duration": 22,
    "start_time": "2022-02-16T10:16:27.244Z"
   },
   {
    "duration": 7,
    "start_time": "2022-02-16T10:16:27.827Z"
   },
   {
    "duration": 27,
    "start_time": "2022-02-16T10:16:30.308Z"
   },
   {
    "duration": 12,
    "start_time": "2022-02-16T10:16:30.713Z"
   },
   {
    "duration": 21,
    "start_time": "2022-02-16T10:16:32.786Z"
   },
   {
    "duration": 33,
    "start_time": "2022-02-16T10:16:33.363Z"
   },
   {
    "duration": 362,
    "start_time": "2022-02-16T10:16:34.640Z"
   },
   {
    "duration": 10,
    "start_time": "2022-02-16T10:16:43.631Z"
   },
   {
    "duration": 24,
    "start_time": "2022-02-16T10:17:07.284Z"
   },
   {
    "duration": 27,
    "start_time": "2022-02-16T10:20:41.500Z"
   },
   {
    "duration": 30,
    "start_time": "2022-02-16T10:21:26.747Z"
   },
   {
    "duration": 87,
    "start_time": "2022-02-16T10:22:20.215Z"
   },
   {
    "duration": 15,
    "start_time": "2022-02-16T10:22:30.888Z"
   },
   {
    "duration": 14,
    "start_time": "2022-02-16T10:22:36.688Z"
   },
   {
    "duration": 243,
    "start_time": "2022-02-16T10:22:38.409Z"
   },
   {
    "duration": 15,
    "start_time": "2022-02-16T10:23:00.676Z"
   },
   {
    "duration": 12,
    "start_time": "2022-02-16T10:27:31.482Z"
   },
   {
    "duration": 13,
    "start_time": "2022-02-16T10:32:01.718Z"
   },
   {
    "duration": 11,
    "start_time": "2022-02-16T10:35:18.537Z"
   },
   {
    "duration": 14,
    "start_time": "2022-02-16T10:35:42.721Z"
   },
   {
    "duration": 6,
    "start_time": "2022-02-16T10:35:51.133Z"
   },
   {
    "duration": 98,
    "start_time": "2022-02-16T10:38:18.759Z"
   },
   {
    "duration": 16,
    "start_time": "2022-02-16T10:38:30.298Z"
   },
   {
    "duration": 12,
    "start_time": "2022-02-16T10:46:03.413Z"
   },
   {
    "duration": 9,
    "start_time": "2022-02-16T10:46:56.532Z"
   },
   {
    "duration": 10,
    "start_time": "2022-02-16T10:47:55.433Z"
   },
   {
    "duration": 11,
    "start_time": "2022-02-16T10:49:18.139Z"
   },
   {
    "duration": 12,
    "start_time": "2022-02-16T10:50:34.906Z"
   },
   {
    "duration": 11,
    "start_time": "2022-02-16T10:50:53.446Z"
   },
   {
    "duration": 15,
    "start_time": "2022-02-16T10:51:57.688Z"
   },
   {
    "duration": 11,
    "start_time": "2022-02-16T10:53:52.652Z"
   },
   {
    "duration": 12,
    "start_time": "2022-02-16T10:54:38.961Z"
   },
   {
    "duration": 14,
    "start_time": "2022-02-16T10:55:13.438Z"
   },
   {
    "duration": 15,
    "start_time": "2022-02-16T11:01:34.689Z"
   },
   {
    "duration": 16,
    "start_time": "2022-02-16T11:01:52.902Z"
   },
   {
    "duration": 15,
    "start_time": "2022-02-16T11:02:10.341Z"
   },
   {
    "duration": 16,
    "start_time": "2022-02-16T11:02:41.359Z"
   },
   {
    "duration": 15,
    "start_time": "2022-02-16T11:03:13.157Z"
   },
   {
    "duration": 16,
    "start_time": "2022-02-16T11:03:32.858Z"
   },
   {
    "duration": 11,
    "start_time": "2022-02-16T11:03:57.623Z"
   },
   {
    "duration": 11,
    "start_time": "2022-02-16T11:04:00.177Z"
   },
   {
    "duration": 15,
    "start_time": "2022-02-16T11:04:29.568Z"
   },
   {
    "duration": 1423,
    "start_time": "2022-02-16T20:20:02.963Z"
   },
   {
    "duration": 22,
    "start_time": "2022-02-16T20:20:04.388Z"
   },
   {
    "duration": 34,
    "start_time": "2022-02-16T20:20:04.413Z"
   },
   {
    "duration": 56,
    "start_time": "2022-02-16T20:20:04.449Z"
   },
   {
    "duration": 33,
    "start_time": "2022-02-16T20:20:04.507Z"
   },
   {
    "duration": 12,
    "start_time": "2022-02-16T20:20:04.543Z"
   },
   {
    "duration": 27,
    "start_time": "2022-02-16T20:20:04.557Z"
   },
   {
    "duration": 29,
    "start_time": "2022-02-16T20:20:04.587Z"
   },
   {
    "duration": 63,
    "start_time": "2022-02-16T20:20:04.619Z"
   },
   {
    "duration": 16,
    "start_time": "2022-02-16T20:20:04.684Z"
   },
   {
    "duration": 14,
    "start_time": "2022-02-16T20:20:04.702Z"
   },
   {
    "duration": 65,
    "start_time": "2022-02-16T20:20:04.718Z"
   },
   {
    "duration": 27,
    "start_time": "2022-02-16T20:20:04.784Z"
   },
   {
    "duration": 9,
    "start_time": "2022-02-16T20:20:04.813Z"
   },
   {
    "duration": 11,
    "start_time": "2022-02-16T20:20:04.825Z"
   },
   {
    "duration": 10,
    "start_time": "2022-02-16T20:20:04.838Z"
   },
   {
    "duration": 8,
    "start_time": "2022-02-16T20:20:04.850Z"
   },
   {
    "duration": 19,
    "start_time": "2022-02-16T20:20:04.860Z"
   },
   {
    "duration": 33,
    "start_time": "2022-02-16T20:20:04.881Z"
   },
   {
    "duration": 38,
    "start_time": "2022-02-16T20:20:04.916Z"
   },
   {
    "duration": 28,
    "start_time": "2022-02-16T20:20:04.956Z"
   },
   {
    "duration": 50,
    "start_time": "2022-02-16T20:20:04.986Z"
   },
   {
    "duration": 21,
    "start_time": "2022-02-16T20:20:05.042Z"
   },
   {
    "duration": 20,
    "start_time": "2022-02-16T20:20:05.066Z"
   },
   {
    "duration": 12,
    "start_time": "2022-02-16T20:20:05.089Z"
   },
   {
    "duration": 45,
    "start_time": "2022-02-16T20:20:05.104Z"
   },
   {
    "duration": 25,
    "start_time": "2022-02-16T20:20:05.150Z"
   },
   {
    "duration": 22,
    "start_time": "2022-02-16T20:20:05.177Z"
   },
   {
    "duration": 19,
    "start_time": "2022-02-16T20:20:05.201Z"
   },
   {
    "duration": 29,
    "start_time": "2022-02-16T20:20:05.221Z"
   },
   {
    "duration": 13,
    "start_time": "2022-02-16T20:20:05.252Z"
   },
   {
    "duration": 15,
    "start_time": "2022-02-16T20:20:05.267Z"
   },
   {
    "duration": 8,
    "start_time": "2022-02-16T20:20:05.284Z"
   },
   {
    "duration": 28,
    "start_time": "2022-02-16T20:20:05.294Z"
   },
   {
    "duration": 12,
    "start_time": "2022-02-16T20:20:05.324Z"
   },
   {
    "duration": 17,
    "start_time": "2022-02-16T20:20:05.339Z"
   },
   {
    "duration": 49,
    "start_time": "2022-02-16T20:20:05.358Z"
   },
   {
    "duration": 21,
    "start_time": "2022-02-16T20:20:05.408Z"
   },
   {
    "duration": 19,
    "start_time": "2022-02-16T20:20:05.431Z"
   },
   {
    "duration": 24,
    "start_time": "2022-02-16T20:20:05.453Z"
   },
   {
    "duration": 46,
    "start_time": "2022-02-16T20:20:05.480Z"
   },
   {
    "duration": 8,
    "start_time": "2022-02-16T20:20:05.528Z"
   },
   {
    "duration": 19,
    "start_time": "2022-02-16T20:20:05.538Z"
   },
   {
    "duration": 13,
    "start_time": "2022-02-16T20:20:05.559Z"
   },
   {
    "duration": 47,
    "start_time": "2022-02-16T20:20:05.575Z"
   },
   {
    "duration": 22,
    "start_time": "2022-02-16T20:20:05.624Z"
   },
   {
    "duration": 37,
    "start_time": "2022-02-16T20:20:05.648Z"
   },
   {
    "duration": 39,
    "start_time": "2022-02-16T20:20:05.687Z"
   },
   {
    "duration": 31,
    "start_time": "2022-02-16T20:20:05.728Z"
   },
   {
    "duration": 15,
    "start_time": "2022-02-16T20:20:05.761Z"
   },
   {
    "duration": 27,
    "start_time": "2022-02-16T20:20:05.777Z"
   },
   {
    "duration": 22,
    "start_time": "2022-02-16T20:20:05.806Z"
   },
   {
    "duration": 14,
    "start_time": "2022-02-16T20:20:05.830Z"
   },
   {
    "duration": 421,
    "start_time": "2022-02-16T20:20:05.846Z"
   },
   {
    "duration": 2098,
    "start_time": "2022-02-16T20:20:04.171Z"
   },
   {
    "duration": 2096,
    "start_time": "2022-02-16T20:20:04.174Z"
   },
   {
    "duration": 2094,
    "start_time": "2022-02-16T20:20:04.178Z"
   },
   {
    "duration": 2091,
    "start_time": "2022-02-16T20:20:04.182Z"
   },
   {
    "duration": 2043,
    "start_time": "2022-02-16T20:20:04.232Z"
   },
   {
    "duration": 2041,
    "start_time": "2022-02-16T20:20:04.235Z"
   },
   {
    "duration": 2039,
    "start_time": "2022-02-16T20:20:04.239Z"
   },
   {
    "duration": 2037,
    "start_time": "2022-02-16T20:20:04.242Z"
   },
   {
    "duration": 2034,
    "start_time": "2022-02-16T20:20:04.246Z"
   },
   {
    "duration": 2027,
    "start_time": "2022-02-16T20:20:04.255Z"
   },
   {
    "duration": 1979,
    "start_time": "2022-02-16T20:20:04.304Z"
   },
   {
    "duration": 1977,
    "start_time": "2022-02-16T20:20:04.307Z"
   },
   {
    "duration": 1969,
    "start_time": "2022-02-16T20:20:04.316Z"
   },
   {
    "duration": 1968,
    "start_time": "2022-02-16T20:20:04.319Z"
   },
   {
    "duration": 1925,
    "start_time": "2022-02-16T20:20:04.364Z"
   },
   {
    "duration": 37,
    "start_time": "2022-02-16T20:23:45.986Z"
   },
   {
    "duration": 12,
    "start_time": "2022-02-16T20:23:50.484Z"
   },
   {
    "duration": 15,
    "start_time": "2022-02-16T20:23:50.904Z"
   },
   {
    "duration": 14,
    "start_time": "2022-02-16T20:23:51.832Z"
   },
   {
    "duration": 17,
    "start_time": "2022-02-16T20:23:54.699Z"
   },
   {
    "duration": 259,
    "start_time": "2022-02-16T20:24:10.445Z"
   },
   {
    "duration": 1383,
    "start_time": "2022-02-16T20:24:18.553Z"
   },
   {
    "duration": 23,
    "start_time": "2022-02-16T20:24:19.938Z"
   },
   {
    "duration": 8,
    "start_time": "2022-02-16T20:24:19.964Z"
   },
   {
    "duration": 64,
    "start_time": "2022-02-16T20:24:19.975Z"
   },
   {
    "duration": 78,
    "start_time": "2022-02-16T20:24:20.041Z"
   },
   {
    "duration": 7,
    "start_time": "2022-02-16T20:24:20.121Z"
   },
   {
    "duration": 8,
    "start_time": "2022-02-16T20:24:20.130Z"
   },
   {
    "duration": 71,
    "start_time": "2022-02-16T20:24:20.140Z"
   },
   {
    "duration": 8,
    "start_time": "2022-02-16T20:24:20.214Z"
   },
   {
    "duration": 9,
    "start_time": "2022-02-16T20:24:20.224Z"
   },
   {
    "duration": 72,
    "start_time": "2022-02-16T20:24:20.235Z"
   },
   {
    "duration": 111,
    "start_time": "2022-02-16T20:24:20.310Z"
   },
   {
    "duration": 21,
    "start_time": "2022-02-16T20:24:20.423Z"
   },
   {
    "duration": 64,
    "start_time": "2022-02-16T20:24:20.446Z"
   },
   {
    "duration": 8,
    "start_time": "2022-02-16T20:24:20.513Z"
   },
   {
    "duration": 28,
    "start_time": "2022-02-16T20:24:20.523Z"
   },
   {
    "duration": 57,
    "start_time": "2022-02-16T20:24:20.554Z"
   },
   {
    "duration": 4,
    "start_time": "2022-02-16T20:24:20.614Z"
   },
   {
    "duration": 17,
    "start_time": "2022-02-16T20:24:20.620Z"
   },
   {
    "duration": 23,
    "start_time": "2022-02-16T20:24:20.639Z"
   },
   {
    "duration": 46,
    "start_time": "2022-02-16T20:24:20.664Z"
   },
   {
    "duration": 22,
    "start_time": "2022-02-16T20:24:20.712Z"
   },
   {
    "duration": 7,
    "start_time": "2022-02-16T20:24:20.740Z"
   },
   {
    "duration": 13,
    "start_time": "2022-02-16T20:24:20.750Z"
   },
   {
    "duration": 14,
    "start_time": "2022-02-16T20:24:20.765Z"
   },
   {
    "duration": 31,
    "start_time": "2022-02-16T20:24:20.781Z"
   },
   {
    "duration": 10,
    "start_time": "2022-02-16T20:24:20.814Z"
   },
   {
    "duration": 18,
    "start_time": "2022-02-16T20:24:20.826Z"
   },
   {
    "duration": 14,
    "start_time": "2022-02-16T20:24:20.847Z"
   },
   {
    "duration": 51,
    "start_time": "2022-02-16T20:24:20.864Z"
   },
   {
    "duration": 7,
    "start_time": "2022-02-16T20:24:20.917Z"
   },
   {
    "duration": 14,
    "start_time": "2022-02-16T20:24:20.926Z"
   },
   {
    "duration": 6,
    "start_time": "2022-02-16T20:24:20.942Z"
   },
   {
    "duration": 15,
    "start_time": "2022-02-16T20:24:20.950Z"
   },
   {
    "duration": 9,
    "start_time": "2022-02-16T20:24:20.968Z"
   },
   {
    "duration": 39,
    "start_time": "2022-02-16T20:24:20.979Z"
   },
   {
    "duration": 41,
    "start_time": "2022-02-16T20:24:21.020Z"
   },
   {
    "duration": 46,
    "start_time": "2022-02-16T20:24:21.063Z"
   },
   {
    "duration": 18,
    "start_time": "2022-02-16T20:24:21.111Z"
   },
   {
    "duration": 22,
    "start_time": "2022-02-16T20:24:21.131Z"
   },
   {
    "duration": 19,
    "start_time": "2022-02-16T20:24:21.155Z"
   },
   {
    "duration": 4,
    "start_time": "2022-02-16T20:24:21.208Z"
   },
   {
    "duration": 15,
    "start_time": "2022-02-16T20:24:21.214Z"
   },
   {
    "duration": 11,
    "start_time": "2022-02-16T20:24:21.232Z"
   },
   {
    "duration": 19,
    "start_time": "2022-02-16T20:24:21.246Z"
   },
   {
    "duration": 40,
    "start_time": "2022-02-16T20:24:21.267Z"
   },
   {
    "duration": 9,
    "start_time": "2022-02-16T20:24:21.310Z"
   },
   {
    "duration": 12,
    "start_time": "2022-02-16T20:24:21.321Z"
   },
   {
    "duration": 30,
    "start_time": "2022-02-16T20:24:21.335Z"
   },
   {
    "duration": 7,
    "start_time": "2022-02-16T20:24:21.367Z"
   },
   {
    "duration": 45,
    "start_time": "2022-02-16T20:24:21.376Z"
   },
   {
    "duration": 17,
    "start_time": "2022-02-16T20:24:21.423Z"
   },
   {
    "duration": 18,
    "start_time": "2022-02-16T20:24:21.441Z"
   },
   {
    "duration": 71,
    "start_time": "2022-02-16T20:24:21.461Z"
   },
   {
    "duration": 13,
    "start_time": "2022-02-16T20:24:21.534Z"
   },
   {
    "duration": 18,
    "start_time": "2022-02-16T20:24:21.549Z"
   },
   {
    "duration": 15,
    "start_time": "2022-02-16T20:24:21.569Z"
   },
   {
    "duration": 18,
    "start_time": "2022-02-16T20:24:21.608Z"
   },
   {
    "duration": 12,
    "start_time": "2022-02-16T20:24:21.628Z"
   },
   {
    "duration": 6,
    "start_time": "2022-02-16T20:24:21.642Z"
   },
   {
    "duration": 14,
    "start_time": "2022-02-16T20:24:21.650Z"
   },
   {
    "duration": 48,
    "start_time": "2022-02-16T20:24:21.666Z"
   },
   {
    "duration": 14,
    "start_time": "2022-02-16T20:24:21.717Z"
   },
   {
    "duration": 15,
    "start_time": "2022-02-16T20:24:21.734Z"
   },
   {
    "duration": 17,
    "start_time": "2022-02-16T20:24:21.751Z"
   },
   {
    "duration": 44,
    "start_time": "2022-02-16T20:24:21.770Z"
   },
   {
    "duration": 19,
    "start_time": "2022-02-16T20:24:21.817Z"
   },
   {
    "duration": 19,
    "start_time": "2022-02-16T20:24:21.841Z"
   },
   {
    "duration": 26,
    "start_time": "2022-02-16T20:24:21.862Z"
   },
   {
    "duration": 8,
    "start_time": "2022-02-16T20:24:32.177Z"
   },
   {
    "duration": 11,
    "start_time": "2022-02-16T20:24:37.798Z"
   },
   {
    "duration": 9,
    "start_time": "2022-02-16T20:25:38.335Z"
   },
   {
    "duration": 8,
    "start_time": "2022-02-16T20:27:17.224Z"
   },
   {
    "duration": 7,
    "start_time": "2022-02-16T20:27:27.980Z"
   },
   {
    "duration": 657,
    "start_time": "2022-02-16T20:27:41.091Z"
   },
   {
    "duration": 7,
    "start_time": "2022-02-16T20:27:49.480Z"
   },
   {
    "duration": 127,
    "start_time": "2022-02-16T20:28:14.062Z"
   },
   {
    "duration": 251,
    "start_time": "2022-02-16T20:28:19.226Z"
   },
   {
    "duration": 7,
    "start_time": "2022-02-16T20:29:09.360Z"
   },
   {
    "duration": 118,
    "start_time": "2022-02-16T20:29:33.025Z"
   },
   {
    "duration": 9,
    "start_time": "2022-02-16T20:29:39.786Z"
   },
   {
    "duration": 8,
    "start_time": "2022-02-16T20:29:45.539Z"
   },
   {
    "duration": 586,
    "start_time": "2022-02-16T20:30:33.024Z"
   },
   {
    "duration": 553,
    "start_time": "2022-02-16T20:30:47.164Z"
   },
   {
    "duration": 298,
    "start_time": "2022-02-16T20:31:03.535Z"
   },
   {
    "duration": 262,
    "start_time": "2022-02-16T20:31:12.964Z"
   },
   {
    "duration": 256,
    "start_time": "2022-02-16T20:31:46.828Z"
   },
   {
    "duration": 252,
    "start_time": "2022-02-16T20:31:55.265Z"
   },
   {
    "duration": 10,
    "start_time": "2022-02-16T20:33:42.193Z"
   },
   {
    "duration": 7,
    "start_time": "2022-02-16T20:34:02.024Z"
   },
   {
    "duration": 241,
    "start_time": "2022-02-16T20:34:08.879Z"
   },
   {
    "duration": 7,
    "start_time": "2022-02-16T20:34:21.478Z"
   },
   {
    "duration": 9,
    "start_time": "2022-02-16T20:34:25.628Z"
   },
   {
    "duration": 89,
    "start_time": "2022-02-16T20:34:36.137Z"
   },
   {
    "duration": 9,
    "start_time": "2022-02-16T20:34:44.327Z"
   },
   {
    "duration": 84,
    "start_time": "2022-02-16T20:35:02.152Z"
   },
   {
    "duration": 84,
    "start_time": "2022-02-16T20:35:06.134Z"
   },
   {
    "duration": 84,
    "start_time": "2022-02-16T20:35:12.185Z"
   },
   {
    "duration": 83,
    "start_time": "2022-02-16T20:35:34.080Z"
   },
   {
    "duration": 10,
    "start_time": "2022-02-16T20:35:38.103Z"
   },
   {
    "duration": 90,
    "start_time": "2022-02-16T20:36:31.736Z"
   },
   {
    "duration": 137,
    "start_time": "2022-02-16T20:37:10.302Z"
   },
   {
    "duration": 87,
    "start_time": "2022-02-16T20:37:55.925Z"
   },
   {
    "duration": 248,
    "start_time": "2022-02-16T20:37:59.751Z"
   },
   {
    "duration": 285,
    "start_time": "2022-02-16T20:38:04.926Z"
   },
   {
    "duration": 311,
    "start_time": "2022-02-16T20:38:23.924Z"
   },
   {
    "duration": 256,
    "start_time": "2022-02-16T20:38:28.253Z"
   },
   {
    "duration": 573,
    "start_time": "2022-02-16T20:39:28.468Z"
   },
   {
    "duration": 7,
    "start_time": "2022-02-16T20:39:56.031Z"
   },
   {
    "duration": 5,
    "start_time": "2022-02-16T20:40:07.004Z"
   },
   {
    "duration": 6,
    "start_time": "2022-02-16T20:40:28.950Z"
   },
   {
    "duration": 190,
    "start_time": "2022-02-16T20:40:33.326Z"
   },
   {
    "duration": 6,
    "start_time": "2022-02-16T20:40:35.665Z"
   },
   {
    "duration": 1366,
    "start_time": "2022-02-16T20:40:45.344Z"
   },
   {
    "duration": 25,
    "start_time": "2022-02-16T20:40:46.712Z"
   },
   {
    "duration": 4,
    "start_time": "2022-02-16T20:40:46.741Z"
   },
   {
    "duration": 60,
    "start_time": "2022-02-16T20:40:46.747Z"
   },
   {
    "duration": 28,
    "start_time": "2022-02-16T20:40:46.809Z"
   },
   {
    "duration": 7,
    "start_time": "2022-02-16T20:40:46.839Z"
   },
   {
    "duration": 10,
    "start_time": "2022-02-16T20:40:46.848Z"
   },
   {
    "duration": 13,
    "start_time": "2022-02-16T20:40:46.861Z"
   },
   {
    "duration": 37,
    "start_time": "2022-02-16T20:40:46.877Z"
   },
   {
    "duration": 9,
    "start_time": "2022-02-16T20:40:46.916Z"
   },
   {
    "duration": 15,
    "start_time": "2022-02-16T20:40:46.927Z"
   },
   {
    "duration": 77,
    "start_time": "2022-02-16T20:40:46.944Z"
   },
   {
    "duration": 17,
    "start_time": "2022-02-16T20:40:47.023Z"
   },
   {
    "duration": 9,
    "start_time": "2022-02-16T20:40:47.042Z"
   },
   {
    "duration": 18,
    "start_time": "2022-02-16T20:40:47.054Z"
   },
   {
    "duration": 21,
    "start_time": "2022-02-16T20:40:47.074Z"
   },
   {
    "duration": 5,
    "start_time": "2022-02-16T20:40:47.108Z"
   },
   {
    "duration": 19,
    "start_time": "2022-02-16T20:40:47.115Z"
   },
   {
    "duration": 26,
    "start_time": "2022-02-16T20:40:47.137Z"
   },
   {
    "duration": 23,
    "start_time": "2022-02-16T20:40:47.165Z"
   },
   {
    "duration": 34,
    "start_time": "2022-02-16T20:40:47.190Z"
   },
   {
    "duration": 33,
    "start_time": "2022-02-16T20:40:47.226Z"
   },
   {
    "duration": 22,
    "start_time": "2022-02-16T20:40:47.261Z"
   },
   {
    "duration": 28,
    "start_time": "2022-02-16T20:40:47.286Z"
   },
   {
    "duration": 15,
    "start_time": "2022-02-16T20:40:47.316Z"
   },
   {
    "duration": 9,
    "start_time": "2022-02-16T20:40:47.336Z"
   },
   {
    "duration": 19,
    "start_time": "2022-02-16T20:40:47.347Z"
   },
   {
    "duration": 16,
    "start_time": "2022-02-16T20:40:47.368Z"
   },
   {
    "duration": 25,
    "start_time": "2022-02-16T20:40:47.386Z"
   },
   {
    "duration": 25,
    "start_time": "2022-02-16T20:40:47.413Z"
   },
   {
    "duration": 7,
    "start_time": "2022-02-16T20:40:47.440Z"
   },
   {
    "duration": 12,
    "start_time": "2022-02-16T20:40:47.449Z"
   },
   {
    "duration": 5,
    "start_time": "2022-02-16T20:40:47.463Z"
   },
   {
    "duration": 44,
    "start_time": "2022-02-16T20:40:47.470Z"
   },
   {
    "duration": 9,
    "start_time": "2022-02-16T20:40:47.516Z"
   },
   {
    "duration": 11,
    "start_time": "2022-02-16T20:40:47.527Z"
   },
   {
    "duration": 42,
    "start_time": "2022-02-16T20:40:47.540Z"
   },
   {
    "duration": 19,
    "start_time": "2022-02-16T20:40:47.607Z"
   },
   {
    "duration": 18,
    "start_time": "2022-02-16T20:40:47.629Z"
   },
   {
    "duration": 23,
    "start_time": "2022-02-16T20:40:47.649Z"
   },
   {
    "duration": 20,
    "start_time": "2022-02-16T20:40:47.708Z"
   },
   {
    "duration": 4,
    "start_time": "2022-02-16T20:40:47.731Z"
   },
   {
    "duration": 16,
    "start_time": "2022-02-16T20:40:47.738Z"
   },
   {
    "duration": 12,
    "start_time": "2022-02-16T20:40:47.757Z"
   },
   {
    "duration": 42,
    "start_time": "2022-02-16T20:40:47.772Z"
   },
   {
    "duration": 26,
    "start_time": "2022-02-16T20:40:47.816Z"
   },
   {
    "duration": 35,
    "start_time": "2022-02-16T20:40:47.844Z"
   },
   {
    "duration": 31,
    "start_time": "2022-02-16T20:40:47.881Z"
   },
   {
    "duration": 38,
    "start_time": "2022-02-16T20:40:47.914Z"
   },
   {
    "duration": 15,
    "start_time": "2022-02-16T20:40:47.954Z"
   },
   {
    "duration": 42,
    "start_time": "2022-02-16T20:40:47.971Z"
   },
   {
    "duration": 29,
    "start_time": "2022-02-16T20:40:48.016Z"
   },
   {
    "duration": 28,
    "start_time": "2022-02-16T20:40:48.047Z"
   },
   {
    "duration": 53,
    "start_time": "2022-02-16T20:40:48.077Z"
   },
   {
    "duration": 10,
    "start_time": "2022-02-16T20:40:48.133Z"
   },
   {
    "duration": 25,
    "start_time": "2022-02-16T20:40:48.145Z"
   },
   {
    "duration": 24,
    "start_time": "2022-02-16T20:40:48.172Z"
   },
   {
    "duration": 24,
    "start_time": "2022-02-16T20:40:48.198Z"
   },
   {
    "duration": 12,
    "start_time": "2022-02-16T20:40:48.224Z"
   },
   {
    "duration": 16,
    "start_time": "2022-02-16T20:40:48.239Z"
   },
   {
    "duration": 23,
    "start_time": "2022-02-16T20:40:48.257Z"
   },
   {
    "duration": 25,
    "start_time": "2022-02-16T20:40:48.282Z"
   },
   {
    "duration": 12,
    "start_time": "2022-02-16T20:40:48.309Z"
   },
   {
    "duration": 30,
    "start_time": "2022-02-16T20:40:48.323Z"
   },
   {
    "duration": 14,
    "start_time": "2022-02-16T20:40:48.355Z"
   },
   {
    "duration": 37,
    "start_time": "2022-02-16T20:40:48.371Z"
   },
   {
    "duration": 28,
    "start_time": "2022-02-16T20:40:48.410Z"
   },
   {
    "duration": 32,
    "start_time": "2022-02-16T20:40:48.440Z"
   },
   {
    "duration": 20,
    "start_time": "2022-02-16T20:40:48.474Z"
   },
   {
    "duration": 20,
    "start_time": "2022-02-16T20:40:48.496Z"
   },
   {
    "duration": 509,
    "start_time": "2022-02-16T20:40:48.518Z"
   },
   {
    "duration": -454,
    "start_time": "2022-02-16T20:40:49.483Z"
   },
   {
    "duration": 5,
    "start_time": "2022-02-16T20:40:56.221Z"
   },
   {
    "duration": 283,
    "start_time": "2022-02-16T20:41:06.083Z"
   },
   {
    "duration": 107,
    "start_time": "2022-02-16T20:41:29.192Z"
   },
   {
    "duration": 8,
    "start_time": "2022-02-16T20:41:31.378Z"
   },
   {
    "duration": 7,
    "start_time": "2022-02-16T20:41:52.449Z"
   },
   {
    "duration": 11,
    "start_time": "2022-02-16T20:41:55.762Z"
   },
   {
    "duration": 93,
    "start_time": "2022-02-16T20:42:52.472Z"
   },
   {
    "duration": 78,
    "start_time": "2022-02-16T20:42:58.499Z"
   },
   {
    "duration": 861,
    "start_time": "2022-02-16T20:43:01.763Z"
   },
   {
    "duration": 266,
    "start_time": "2022-02-16T20:43:33.996Z"
   },
   {
    "duration": 9,
    "start_time": "2022-02-16T20:43:46.532Z"
   },
   {
    "duration": 491,
    "start_time": "2022-02-16T20:43:57.586Z"
   },
   {
    "duration": 108,
    "start_time": "2022-02-16T20:44:30.673Z"
   },
   {
    "duration": 83,
    "start_time": "2022-02-16T20:45:03.330Z"
   },
   {
    "duration": 86,
    "start_time": "2022-02-16T20:45:14.869Z"
   },
   {
    "duration": 76,
    "start_time": "2022-02-16T20:45:27.797Z"
   },
   {
    "duration": 12,
    "start_time": "2022-02-16T20:45:58.239Z"
   },
   {
    "duration": 7,
    "start_time": "2022-02-16T20:46:11.691Z"
   },
   {
    "duration": 13,
    "start_time": "2022-02-16T20:46:14.101Z"
   },
   {
    "duration": 7,
    "start_time": "2022-02-16T20:46:15.222Z"
   },
   {
    "duration": 8,
    "start_time": "2022-02-16T20:46:17.883Z"
   },
   {
    "duration": 10,
    "start_time": "2022-02-16T20:46:24.200Z"
   },
   {
    "duration": 7,
    "start_time": "2022-02-16T20:46:24.943Z"
   },
   {
    "duration": 7,
    "start_time": "2022-02-16T20:47:02.975Z"
   },
   {
    "duration": 7,
    "start_time": "2022-02-16T20:47:04.277Z"
   },
   {
    "duration": 8,
    "start_time": "2022-02-16T20:47:14.059Z"
   },
   {
    "duration": 331,
    "start_time": "2022-02-16T20:47:17.521Z"
   },
   {
    "duration": 8,
    "start_time": "2022-02-16T20:47:26.277Z"
   },
   {
    "duration": 8,
    "start_time": "2022-02-16T20:47:39.652Z"
   },
   {
    "duration": 8,
    "start_time": "2022-02-16T20:47:40.351Z"
   },
   {
    "duration": 4,
    "start_time": "2022-02-16T20:47:47.580Z"
   },
   {
    "duration": 237,
    "start_time": "2022-02-16T20:47:51.368Z"
   },
   {
    "duration": 256,
    "start_time": "2022-02-16T20:47:55.935Z"
   },
   {
    "duration": 10,
    "start_time": "2022-02-16T20:47:58.849Z"
   },
   {
    "duration": 4,
    "start_time": "2022-02-16T20:47:59.115Z"
   },
   {
    "duration": 7,
    "start_time": "2022-02-16T20:48:03.262Z"
   },
   {
    "duration": 88,
    "start_time": "2022-02-16T20:51:00.166Z"
   },
   {
    "duration": 373,
    "start_time": "2022-02-16T20:51:21.498Z"
   },
   {
    "duration": 369,
    "start_time": "2022-02-16T20:51:29.493Z"
   },
   {
    "duration": 285,
    "start_time": "2022-02-16T20:51:35.631Z"
   },
   {
    "duration": 1413,
    "start_time": "2022-02-16T20:51:54.175Z"
   },
   {
    "duration": 34,
    "start_time": "2022-02-16T20:51:55.591Z"
   },
   {
    "duration": 10,
    "start_time": "2022-02-16T20:51:55.628Z"
   },
   {
    "duration": 48,
    "start_time": "2022-02-16T20:51:55.641Z"
   },
   {
    "duration": 41,
    "start_time": "2022-02-16T20:51:55.691Z"
   },
   {
    "duration": 8,
    "start_time": "2022-02-16T20:51:55.734Z"
   },
   {
    "duration": 11,
    "start_time": "2022-02-16T20:51:55.744Z"
   },
   {
    "duration": 31,
    "start_time": "2022-02-16T20:51:55.757Z"
   },
   {
    "duration": 31,
    "start_time": "2022-02-16T20:51:55.791Z"
   },
   {
    "duration": 21,
    "start_time": "2022-02-16T20:51:55.825Z"
   },
   {
    "duration": 40,
    "start_time": "2022-02-16T20:51:55.848Z"
   },
   {
    "duration": 68,
    "start_time": "2022-02-16T20:51:55.889Z"
   },
   {
    "duration": 36,
    "start_time": "2022-02-16T20:51:55.959Z"
   },
   {
    "duration": 30,
    "start_time": "2022-02-16T20:51:55.998Z"
   },
   {
    "duration": 37,
    "start_time": "2022-02-16T20:51:56.030Z"
   },
   {
    "duration": 36,
    "start_time": "2022-02-16T20:51:56.069Z"
   },
   {
    "duration": 43,
    "start_time": "2022-02-16T20:51:56.107Z"
   },
   {
    "duration": 38,
    "start_time": "2022-02-16T20:51:56.152Z"
   },
   {
    "duration": 28,
    "start_time": "2022-02-16T20:51:56.192Z"
   },
   {
    "duration": 26,
    "start_time": "2022-02-16T20:51:56.222Z"
   },
   {
    "duration": 38,
    "start_time": "2022-02-16T20:51:56.250Z"
   },
   {
    "duration": 39,
    "start_time": "2022-02-16T20:51:56.290Z"
   },
   {
    "duration": 49,
    "start_time": "2022-02-16T20:51:56.330Z"
   },
   {
    "duration": 44,
    "start_time": "2022-02-16T20:51:56.380Z"
   },
   {
    "duration": 29,
    "start_time": "2022-02-16T20:51:56.426Z"
   },
   {
    "duration": 26,
    "start_time": "2022-02-16T20:51:56.457Z"
   },
   {
    "duration": 60,
    "start_time": "2022-02-16T20:51:56.488Z"
   },
   {
    "duration": 41,
    "start_time": "2022-02-16T20:51:56.552Z"
   },
   {
    "duration": 47,
    "start_time": "2022-02-16T20:51:56.596Z"
   },
   {
    "duration": 37,
    "start_time": "2022-02-16T20:51:56.645Z"
   },
   {
    "duration": 26,
    "start_time": "2022-02-16T20:51:56.684Z"
   },
   {
    "duration": 27,
    "start_time": "2022-02-16T20:51:56.713Z"
   },
   {
    "duration": 20,
    "start_time": "2022-02-16T20:51:56.742Z"
   },
   {
    "duration": 42,
    "start_time": "2022-02-16T20:51:56.764Z"
   },
   {
    "duration": 37,
    "start_time": "2022-02-16T20:51:56.808Z"
   },
   {
    "duration": 42,
    "start_time": "2022-02-16T20:51:56.848Z"
   },
   {
    "duration": 77,
    "start_time": "2022-02-16T20:51:56.892Z"
   },
   {
    "duration": 26,
    "start_time": "2022-02-16T20:51:56.971Z"
   },
   {
    "duration": 27,
    "start_time": "2022-02-16T20:51:56.999Z"
   },
   {
    "duration": 28,
    "start_time": "2022-02-16T20:51:57.028Z"
   },
   {
    "duration": 19,
    "start_time": "2022-02-16T20:51:57.058Z"
   },
   {
    "duration": 36,
    "start_time": "2022-02-16T20:51:57.079Z"
   },
   {
    "duration": 33,
    "start_time": "2022-02-16T20:51:57.117Z"
   },
   {
    "duration": 17,
    "start_time": "2022-02-16T20:51:57.152Z"
   },
   {
    "duration": 37,
    "start_time": "2022-02-16T20:51:57.171Z"
   },
   {
    "duration": 19,
    "start_time": "2022-02-16T20:51:57.210Z"
   },
   {
    "duration": 24,
    "start_time": "2022-02-16T20:51:57.231Z"
   },
   {
    "duration": 35,
    "start_time": "2022-02-16T20:51:57.257Z"
   },
   {
    "duration": 52,
    "start_time": "2022-02-16T20:51:57.294Z"
   },
   {
    "duration": 6,
    "start_time": "2022-02-16T20:51:57.348Z"
   },
   {
    "duration": 43,
    "start_time": "2022-02-16T20:51:57.356Z"
   },
   {
    "duration": 26,
    "start_time": "2022-02-16T20:51:57.402Z"
   },
   {
    "duration": 19,
    "start_time": "2022-02-16T20:51:57.444Z"
   },
   {
    "duration": 51,
    "start_time": "2022-02-16T20:51:57.466Z"
   },
   {
    "duration": 16,
    "start_time": "2022-02-16T20:51:57.520Z"
   },
   {
    "duration": 34,
    "start_time": "2022-02-16T20:51:57.537Z"
   },
   {
    "duration": 32,
    "start_time": "2022-02-16T20:51:57.573Z"
   },
   {
    "duration": 17,
    "start_time": "2022-02-16T20:51:57.607Z"
   },
   {
    "duration": 27,
    "start_time": "2022-02-16T20:51:57.626Z"
   },
   {
    "duration": 15,
    "start_time": "2022-02-16T20:51:57.655Z"
   },
   {
    "duration": 40,
    "start_time": "2022-02-16T20:51:57.672Z"
   },
   {
    "duration": 24,
    "start_time": "2022-02-16T20:51:57.714Z"
   },
   {
    "duration": 19,
    "start_time": "2022-02-16T20:51:57.740Z"
   },
   {
    "duration": 24,
    "start_time": "2022-02-16T20:51:57.761Z"
   },
   {
    "duration": 21,
    "start_time": "2022-02-16T20:51:57.787Z"
   },
   {
    "duration": 32,
    "start_time": "2022-02-16T20:51:57.811Z"
   },
   {
    "duration": 12,
    "start_time": "2022-02-16T20:51:57.845Z"
   },
   {
    "duration": 30,
    "start_time": "2022-02-16T20:51:57.859Z"
   },
   {
    "duration": 14,
    "start_time": "2022-02-16T20:51:57.891Z"
   },
   {
    "duration": 13,
    "start_time": "2022-02-16T20:51:57.907Z"
   },
   {
    "duration": 408,
    "start_time": "2022-02-16T20:51:57.921Z"
   },
   {
    "duration": 9,
    "start_time": "2022-02-16T20:52:10.541Z"
   },
   {
    "duration": 271,
    "start_time": "2022-02-16T20:52:36.434Z"
   },
   {
    "duration": 255,
    "start_time": "2022-02-16T20:52:45.671Z"
   },
   {
    "duration": 341,
    "start_time": "2022-02-16T20:52:56.027Z"
   },
   {
    "duration": 732,
    "start_time": "2022-02-16T20:53:02.164Z"
   },
   {
    "duration": 9,
    "start_time": "2022-02-16T20:53:27.053Z"
   },
   {
    "duration": 7,
    "start_time": "2022-02-16T20:53:37.592Z"
   },
   {
    "duration": 259,
    "start_time": "2022-02-16T20:54:44.211Z"
   },
   {
    "duration": 11,
    "start_time": "2022-02-16T20:55:18.695Z"
   },
   {
    "duration": 1059,
    "start_time": "2022-02-16T20:55:28.240Z"
   },
   {
    "duration": 76,
    "start_time": "2022-02-16T20:55:44.748Z"
   },
   {
    "duration": 44,
    "start_time": "2022-02-16T20:55:51.139Z"
   },
   {
    "duration": 10,
    "start_time": "2022-02-16T20:56:10.172Z"
   },
   {
    "duration": 10,
    "start_time": "2022-02-16T20:56:26.183Z"
   },
   {
    "duration": 1769,
    "start_time": "2022-02-16T20:57:05.315Z"
   },
   {
    "duration": 25,
    "start_time": "2022-02-16T20:57:07.086Z"
   },
   {
    "duration": 17,
    "start_time": "2022-02-16T20:57:07.113Z"
   },
   {
    "duration": 63,
    "start_time": "2022-02-16T20:57:07.132Z"
   },
   {
    "duration": 30,
    "start_time": "2022-02-16T20:57:07.197Z"
   },
   {
    "duration": 14,
    "start_time": "2022-02-16T20:57:07.229Z"
   },
   {
    "duration": 39,
    "start_time": "2022-02-16T20:57:07.245Z"
   },
   {
    "duration": 25,
    "start_time": "2022-02-16T20:57:07.288Z"
   },
   {
    "duration": 22,
    "start_time": "2022-02-16T20:57:07.315Z"
   },
   {
    "duration": 13,
    "start_time": "2022-02-16T20:57:07.339Z"
   },
   {
    "duration": 19,
    "start_time": "2022-02-16T20:57:07.354Z"
   },
   {
    "duration": 98,
    "start_time": "2022-02-16T20:57:07.375Z"
   },
   {
    "duration": 35,
    "start_time": "2022-02-16T20:57:07.475Z"
   },
   {
    "duration": 10,
    "start_time": "2022-02-16T20:57:07.512Z"
   },
   {
    "duration": 11,
    "start_time": "2022-02-16T20:57:07.524Z"
   },
   {
    "duration": 7,
    "start_time": "2022-02-16T20:57:07.537Z"
   },
   {
    "duration": 6,
    "start_time": "2022-02-16T20:57:07.546Z"
   },
   {
    "duration": 16,
    "start_time": "2022-02-16T20:57:07.555Z"
   },
   {
    "duration": 37,
    "start_time": "2022-02-16T20:57:07.573Z"
   },
   {
    "duration": 12,
    "start_time": "2022-02-16T20:57:07.612Z"
   },
   {
    "duration": 14,
    "start_time": "2022-02-16T20:57:07.626Z"
   },
   {
    "duration": 19,
    "start_time": "2022-02-16T20:57:07.642Z"
   },
   {
    "duration": 39,
    "start_time": "2022-02-16T20:57:07.669Z"
   },
   {
    "duration": 10,
    "start_time": "2022-02-16T20:57:07.712Z"
   },
   {
    "duration": 13,
    "start_time": "2022-02-16T20:57:07.724Z"
   },
   {
    "duration": 8,
    "start_time": "2022-02-16T20:57:07.739Z"
   },
   {
    "duration": 11,
    "start_time": "2022-02-16T20:57:07.749Z"
   },
   {
    "duration": 19,
    "start_time": "2022-02-16T20:57:07.762Z"
   },
   {
    "duration": 10,
    "start_time": "2022-02-16T20:57:07.808Z"
   },
   {
    "duration": 28,
    "start_time": "2022-02-16T20:57:07.820Z"
   },
   {
    "duration": 8,
    "start_time": "2022-02-16T20:57:07.850Z"
   },
   {
    "duration": 13,
    "start_time": "2022-02-16T20:57:07.860Z"
   },
   {
    "duration": 32,
    "start_time": "2022-02-16T20:57:07.875Z"
   },
   {
    "duration": 7,
    "start_time": "2022-02-16T20:57:07.910Z"
   },
   {
    "duration": 9,
    "start_time": "2022-02-16T20:57:07.918Z"
   },
   {
    "duration": 10,
    "start_time": "2022-02-16T20:57:07.929Z"
   },
   {
    "duration": 78,
    "start_time": "2022-02-16T20:57:07.941Z"
   },
   {
    "duration": 19,
    "start_time": "2022-02-16T20:57:08.022Z"
   },
   {
    "duration": 18,
    "start_time": "2022-02-16T20:57:08.043Z"
   },
   {
    "duration": 50,
    "start_time": "2022-02-16T20:57:08.064Z"
   },
   {
    "duration": 19,
    "start_time": "2022-02-16T20:57:08.116Z"
   },
   {
    "duration": 9,
    "start_time": "2022-02-16T20:57:08.137Z"
   },
   {
    "duration": 19,
    "start_time": "2022-02-16T20:57:08.148Z"
   },
   {
    "duration": 11,
    "start_time": "2022-02-16T20:57:08.169Z"
   },
   {
    "duration": 36,
    "start_time": "2022-02-16T20:57:08.182Z"
   },
   {
    "duration": 17,
    "start_time": "2022-02-16T20:57:08.220Z"
   },
   {
    "duration": 23,
    "start_time": "2022-02-16T20:57:08.239Z"
   },
   {
    "duration": 13,
    "start_time": "2022-02-16T20:57:08.264Z"
   },
   {
    "duration": 41,
    "start_time": "2022-02-16T20:57:08.279Z"
   },
   {
    "duration": 11,
    "start_time": "2022-02-16T20:57:08.322Z"
   },
   {
    "duration": 25,
    "start_time": "2022-02-16T20:57:08.336Z"
   },
   {
    "duration": 15,
    "start_time": "2022-02-16T20:57:08.364Z"
   },
   {
    "duration": 34,
    "start_time": "2022-02-16T20:57:08.381Z"
   },
   {
    "duration": 39,
    "start_time": "2022-02-16T20:57:08.418Z"
   },
   {
    "duration": 12,
    "start_time": "2022-02-16T20:57:08.459Z"
   },
   {
    "duration": 37,
    "start_time": "2022-02-16T20:57:08.473Z"
   },
   {
    "duration": 13,
    "start_time": "2022-02-16T20:57:08.512Z"
   },
   {
    "duration": 16,
    "start_time": "2022-02-16T20:57:08.527Z"
   },
   {
    "duration": 11,
    "start_time": "2022-02-16T20:57:08.545Z"
   },
   {
    "duration": 15,
    "start_time": "2022-02-16T20:57:08.558Z"
   },
   {
    "duration": 36,
    "start_time": "2022-02-16T20:57:08.576Z"
   },
   {
    "duration": 11,
    "start_time": "2022-02-16T20:57:08.614Z"
   },
   {
    "duration": 11,
    "start_time": "2022-02-16T20:57:08.627Z"
   },
   {
    "duration": 14,
    "start_time": "2022-02-16T20:57:08.640Z"
   },
   {
    "duration": 52,
    "start_time": "2022-02-16T20:57:08.656Z"
   },
   {
    "duration": 15,
    "start_time": "2022-02-16T20:57:08.710Z"
   },
   {
    "duration": 12,
    "start_time": "2022-02-16T20:57:08.727Z"
   },
   {
    "duration": 15,
    "start_time": "2022-02-16T20:57:08.744Z"
   },
   {
    "duration": 51,
    "start_time": "2022-02-16T20:57:08.761Z"
   },
   {
    "duration": 7,
    "start_time": "2022-02-16T20:57:08.814Z"
   },
   {
    "duration": 838,
    "start_time": "2022-02-16T20:57:08.823Z"
   },
   {
    "duration": 9,
    "start_time": "2022-02-16T20:59:48.569Z"
   },
   {
    "duration": 448,
    "start_time": "2022-02-16T21:02:21.141Z"
   },
   {
    "duration": 262,
    "start_time": "2022-02-16T21:02:26.281Z"
   },
   {
    "duration": 9,
    "start_time": "2022-02-16T21:02:33.802Z"
   },
   {
    "duration": 7,
    "start_time": "2022-02-16T21:03:40.440Z"
   },
   {
    "duration": 270,
    "start_time": "2022-02-16T21:03:45.395Z"
   },
   {
    "duration": 244,
    "start_time": "2022-02-16T21:03:49.127Z"
   },
   {
    "duration": 9,
    "start_time": "2022-02-16T21:03:52.472Z"
   },
   {
    "duration": 257,
    "start_time": "2022-02-16T21:08:56.436Z"
   },
   {
    "duration": 249,
    "start_time": "2022-02-16T21:09:00.901Z"
   },
   {
    "duration": 1311,
    "start_time": "2022-02-16T21:09:47.366Z"
   },
   {
    "duration": 20,
    "start_time": "2022-02-16T21:09:48.679Z"
   },
   {
    "duration": 24,
    "start_time": "2022-02-16T21:09:48.701Z"
   },
   {
    "duration": 73,
    "start_time": "2022-02-16T21:09:48.727Z"
   },
   {
    "duration": 45,
    "start_time": "2022-02-16T21:09:48.802Z"
   },
   {
    "duration": 12,
    "start_time": "2022-02-16T21:09:48.849Z"
   },
   {
    "duration": 32,
    "start_time": "2022-02-16T21:09:48.863Z"
   },
   {
    "duration": 53,
    "start_time": "2022-02-16T21:09:48.898Z"
   },
   {
    "duration": 51,
    "start_time": "2022-02-16T21:09:48.953Z"
   },
   {
    "duration": 37,
    "start_time": "2022-02-16T21:09:49.006Z"
   },
   {
    "duration": 31,
    "start_time": "2022-02-16T21:09:49.046Z"
   },
   {
    "duration": 87,
    "start_time": "2022-02-16T21:09:49.079Z"
   },
   {
    "duration": 24,
    "start_time": "2022-02-16T21:09:49.168Z"
   },
   {
    "duration": 39,
    "start_time": "2022-02-16T21:09:49.194Z"
   },
   {
    "duration": 56,
    "start_time": "2022-02-16T21:09:49.235Z"
   },
   {
    "duration": 48,
    "start_time": "2022-02-16T21:09:49.293Z"
   },
   {
    "duration": 19,
    "start_time": "2022-02-16T21:09:49.343Z"
   },
   {
    "duration": 39,
    "start_time": "2022-02-16T21:09:49.365Z"
   },
   {
    "duration": 39,
    "start_time": "2022-02-16T21:09:49.407Z"
   },
   {
    "duration": 49,
    "start_time": "2022-02-16T21:09:49.449Z"
   },
   {
    "duration": 35,
    "start_time": "2022-02-16T21:09:49.500Z"
   },
   {
    "duration": 57,
    "start_time": "2022-02-16T21:09:49.537Z"
   },
   {
    "duration": 40,
    "start_time": "2022-02-16T21:09:49.599Z"
   },
   {
    "duration": 42,
    "start_time": "2022-02-16T21:09:49.642Z"
   },
   {
    "duration": 37,
    "start_time": "2022-02-16T21:09:49.686Z"
   },
   {
    "duration": 26,
    "start_time": "2022-02-16T21:09:49.725Z"
   },
   {
    "duration": 41,
    "start_time": "2022-02-16T21:09:49.753Z"
   },
   {
    "duration": 33,
    "start_time": "2022-02-16T21:09:49.796Z"
   },
   {
    "duration": 39,
    "start_time": "2022-02-16T21:09:49.831Z"
   },
   {
    "duration": 72,
    "start_time": "2022-02-16T21:09:49.872Z"
   },
   {
    "duration": 36,
    "start_time": "2022-02-16T21:09:49.946Z"
   },
   {
    "duration": 39,
    "start_time": "2022-02-16T21:09:49.984Z"
   },
   {
    "duration": 61,
    "start_time": "2022-02-16T21:09:50.025Z"
   },
   {
    "duration": 63,
    "start_time": "2022-02-16T21:09:50.088Z"
   },
   {
    "duration": 37,
    "start_time": "2022-02-16T21:09:50.153Z"
   },
   {
    "duration": 27,
    "start_time": "2022-02-16T21:09:50.192Z"
   },
   {
    "duration": 95,
    "start_time": "2022-02-16T21:09:50.221Z"
   },
   {
    "duration": 20,
    "start_time": "2022-02-16T21:09:50.319Z"
   },
   {
    "duration": 49,
    "start_time": "2022-02-16T21:09:50.341Z"
   },
   {
    "duration": 47,
    "start_time": "2022-02-16T21:09:50.392Z"
   },
   {
    "duration": 41,
    "start_time": "2022-02-16T21:09:50.442Z"
   },
   {
    "duration": 33,
    "start_time": "2022-02-16T21:09:50.485Z"
   },
   {
    "duration": 35,
    "start_time": "2022-02-16T21:09:50.521Z"
   },
   {
    "duration": 26,
    "start_time": "2022-02-16T21:09:50.558Z"
   },
   {
    "duration": 41,
    "start_time": "2022-02-16T21:09:50.586Z"
   },
   {
    "duration": 26,
    "start_time": "2022-02-16T21:09:50.630Z"
   },
   {
    "duration": 92,
    "start_time": "2022-02-16T21:09:50.658Z"
   },
   {
    "duration": 32,
    "start_time": "2022-02-16T21:09:50.752Z"
   },
   {
    "duration": 68,
    "start_time": "2022-02-16T21:09:50.786Z"
   },
   {
    "duration": 19,
    "start_time": "2022-02-16T21:09:50.856Z"
   },
   {
    "duration": 49,
    "start_time": "2022-02-16T21:09:50.877Z"
   },
   {
    "duration": 49,
    "start_time": "2022-02-16T21:09:50.928Z"
   },
   {
    "duration": 52,
    "start_time": "2022-02-16T21:09:50.980Z"
   },
   {
    "duration": 66,
    "start_time": "2022-02-16T21:09:51.035Z"
   },
   {
    "duration": 37,
    "start_time": "2022-02-16T21:09:51.103Z"
   },
   {
    "duration": 34,
    "start_time": "2022-02-16T21:09:51.142Z"
   },
   {
    "duration": 53,
    "start_time": "2022-02-16T21:09:51.178Z"
   },
   {
    "duration": 37,
    "start_time": "2022-02-16T21:09:51.234Z"
   },
   {
    "duration": 18,
    "start_time": "2022-02-16T21:09:51.273Z"
   },
   {
    "duration": 25,
    "start_time": "2022-02-16T21:09:51.292Z"
   },
   {
    "duration": 36,
    "start_time": "2022-02-16T21:09:51.320Z"
   },
   {
    "duration": 36,
    "start_time": "2022-02-16T21:09:51.358Z"
   },
   {
    "duration": 49,
    "start_time": "2022-02-16T21:09:51.396Z"
   },
   {
    "duration": 42,
    "start_time": "2022-02-16T21:09:51.447Z"
   },
   {
    "duration": 38,
    "start_time": "2022-02-16T21:09:51.490Z"
   },
   {
    "duration": 41,
    "start_time": "2022-02-16T21:09:51.530Z"
   },
   {
    "duration": 30,
    "start_time": "2022-02-16T21:09:51.573Z"
   },
   {
    "duration": 49,
    "start_time": "2022-02-16T21:09:51.609Z"
   },
   {
    "duration": 30,
    "start_time": "2022-02-16T21:09:51.660Z"
   },
   {
    "duration": 73,
    "start_time": "2022-02-16T21:09:51.693Z"
   },
   {
    "duration": 843,
    "start_time": "2022-02-16T21:09:51.768Z"
   },
   {
    "duration": 8,
    "start_time": "2022-02-16T21:11:33.251Z"
   },
   {
    "duration": 5,
    "start_time": "2022-02-16T21:11:37.868Z"
   },
   {
    "duration": 373,
    "start_time": "2022-02-16T21:11:58.956Z"
   },
   {
    "duration": 10,
    "start_time": "2022-02-16T21:13:35.316Z"
   },
   {
    "duration": 1310,
    "start_time": "2022-02-16T21:13:45.824Z"
   },
   {
    "duration": 22,
    "start_time": "2022-02-16T21:13:47.137Z"
   },
   {
    "duration": 4,
    "start_time": "2022-02-16T21:13:47.162Z"
   },
   {
    "duration": 56,
    "start_time": "2022-02-16T21:13:47.168Z"
   },
   {
    "duration": 28,
    "start_time": "2022-02-16T21:13:47.226Z"
   },
   {
    "duration": 9,
    "start_time": "2022-02-16T21:13:47.256Z"
   },
   {
    "duration": 15,
    "start_time": "2022-02-16T21:13:47.267Z"
   },
   {
    "duration": 14,
    "start_time": "2022-02-16T21:13:47.308Z"
   },
   {
    "duration": 9,
    "start_time": "2022-02-16T21:13:47.326Z"
   },
   {
    "duration": 13,
    "start_time": "2022-02-16T21:13:47.337Z"
   },
   {
    "duration": 24,
    "start_time": "2022-02-16T21:13:47.352Z"
   },
   {
    "duration": 72,
    "start_time": "2022-02-16T21:13:47.379Z"
   },
   {
    "duration": 19,
    "start_time": "2022-02-16T21:13:47.453Z"
   },
   {
    "duration": 10,
    "start_time": "2022-02-16T21:13:47.474Z"
   },
   {
    "duration": 8,
    "start_time": "2022-02-16T21:13:47.507Z"
   },
   {
    "duration": 6,
    "start_time": "2022-02-16T21:13:47.517Z"
   },
   {
    "duration": 7,
    "start_time": "2022-02-16T21:13:47.525Z"
   },
   {
    "duration": 9,
    "start_time": "2022-02-16T21:13:47.534Z"
   },
   {
    "duration": 12,
    "start_time": "2022-02-16T21:13:47.545Z"
   },
   {
    "duration": 14,
    "start_time": "2022-02-16T21:13:47.559Z"
   },
   {
    "duration": 37,
    "start_time": "2022-02-16T21:13:47.575Z"
   },
   {
    "duration": 23,
    "start_time": "2022-02-16T21:13:47.614Z"
   },
   {
    "duration": 22,
    "start_time": "2022-02-16T21:13:47.639Z"
   },
   {
    "duration": 12,
    "start_time": "2022-02-16T21:13:47.663Z"
   },
   {
    "duration": 16,
    "start_time": "2022-02-16T21:13:47.677Z"
   },
   {
    "duration": 17,
    "start_time": "2022-02-16T21:13:47.695Z"
   },
   {
    "duration": 11,
    "start_time": "2022-02-16T21:13:47.718Z"
   },
   {
    "duration": 29,
    "start_time": "2022-02-16T21:13:47.732Z"
   },
   {
    "duration": 29,
    "start_time": "2022-02-16T21:13:47.763Z"
   },
   {
    "duration": 31,
    "start_time": "2022-02-16T21:13:47.794Z"
   },
   {
    "duration": 16,
    "start_time": "2022-02-16T21:13:47.827Z"
   },
   {
    "duration": 20,
    "start_time": "2022-02-16T21:13:47.845Z"
   },
   {
    "duration": 13,
    "start_time": "2022-02-16T21:13:47.866Z"
   },
   {
    "duration": 24,
    "start_time": "2022-02-16T21:13:47.881Z"
   },
   {
    "duration": 9,
    "start_time": "2022-02-16T21:13:47.907Z"
   },
   {
    "duration": 25,
    "start_time": "2022-02-16T21:13:47.918Z"
   },
   {
    "duration": 47,
    "start_time": "2022-02-16T21:13:47.945Z"
   },
   {
    "duration": 17,
    "start_time": "2022-02-16T21:13:47.995Z"
   },
   {
    "duration": 28,
    "start_time": "2022-02-16T21:13:48.014Z"
   },
   {
    "duration": 21,
    "start_time": "2022-02-16T21:13:48.044Z"
   },
   {
    "duration": 20,
    "start_time": "2022-02-16T21:13:48.067Z"
   },
   {
    "duration": 18,
    "start_time": "2022-02-16T21:13:48.089Z"
   },
   {
    "duration": 32,
    "start_time": "2022-02-16T21:13:48.109Z"
   },
   {
    "duration": 15,
    "start_time": "2022-02-16T21:13:48.143Z"
   },
   {
    "duration": 39,
    "start_time": "2022-02-16T21:13:48.160Z"
   },
   {
    "duration": 27,
    "start_time": "2022-02-16T21:13:48.201Z"
   },
   {
    "duration": 38,
    "start_time": "2022-02-16T21:13:48.230Z"
   },
   {
    "duration": 35,
    "start_time": "2022-02-16T21:13:48.270Z"
   },
   {
    "duration": 34,
    "start_time": "2022-02-16T21:13:48.307Z"
   },
   {
    "duration": 20,
    "start_time": "2022-02-16T21:13:48.343Z"
   },
   {
    "duration": 41,
    "start_time": "2022-02-16T21:13:48.365Z"
   },
   {
    "duration": 14,
    "start_time": "2022-02-16T21:13:48.408Z"
   },
   {
    "duration": 26,
    "start_time": "2022-02-16T21:13:48.424Z"
   },
   {
    "duration": 48,
    "start_time": "2022-02-16T21:13:48.453Z"
   },
   {
    "duration": 11,
    "start_time": "2022-02-16T21:13:48.504Z"
   },
   {
    "duration": 27,
    "start_time": "2022-02-16T21:13:48.517Z"
   },
   {
    "duration": 32,
    "start_time": "2022-02-16T21:13:48.546Z"
   },
   {
    "duration": 23,
    "start_time": "2022-02-16T21:13:48.580Z"
   },
   {
    "duration": 14,
    "start_time": "2022-02-16T21:13:48.605Z"
   },
   {
    "duration": 18,
    "start_time": "2022-02-16T21:13:48.621Z"
   },
   {
    "duration": 20,
    "start_time": "2022-02-16T21:13:48.641Z"
   },
   {
    "duration": 20,
    "start_time": "2022-02-16T21:13:48.663Z"
   },
   {
    "duration": 20,
    "start_time": "2022-02-16T21:13:48.685Z"
   },
   {
    "duration": 23,
    "start_time": "2022-02-16T21:13:48.707Z"
   },
   {
    "duration": 20,
    "start_time": "2022-02-16T21:13:48.732Z"
   },
   {
    "duration": 23,
    "start_time": "2022-02-16T21:13:48.754Z"
   },
   {
    "duration": 18,
    "start_time": "2022-02-16T21:13:48.779Z"
   },
   {
    "duration": 32,
    "start_time": "2022-02-16T21:13:48.799Z"
   },
   {
    "duration": 27,
    "start_time": "2022-02-16T21:13:48.833Z"
   },
   {
    "duration": 16,
    "start_time": "2022-02-16T21:13:48.861Z"
   },
   {
    "duration": 870,
    "start_time": "2022-02-16T21:13:48.879Z"
   },
   {
    "duration": 9,
    "start_time": "2022-02-16T21:13:58.620Z"
   },
   {
    "duration": 7,
    "start_time": "2022-02-16T21:14:02.167Z"
   },
   {
    "duration": 8,
    "start_time": "2022-02-16T21:14:09.140Z"
   }
  ],
  "kernelspec": {
   "display_name": "Python 3 (ipykernel)",
   "language": "python",
   "name": "python3"
  },
  "language_info": {
   "codemirror_mode": {
    "name": "ipython",
    "version": 3
   },
   "file_extension": ".py",
   "mimetype": "text/x-python",
   "name": "python",
   "nbconvert_exporter": "python",
   "pygments_lexer": "ipython3",
   "version": "3.9.7"
  },
  "toc": {
   "base_numbering": 1,
   "nav_menu": {
    "height": "185.994px",
    "width": "247.216px"
   },
   "number_sections": true,
   "sideBar": true,
   "skip_h1_title": true,
   "title_cell": "Table of Contents",
   "title_sidebar": "Contents",
   "toc_cell": true,
   "toc_position": {
    "height": "calc(100% - 180px)",
    "left": "10px",
    "top": "150px",
    "width": "165.994px"
   },
   "toc_section_display": true,
   "toc_window_display": true
  }
 },
 "nbformat": 4,
 "nbformat_minor": 4
}
