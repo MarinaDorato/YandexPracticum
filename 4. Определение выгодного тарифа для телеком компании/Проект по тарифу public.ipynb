{
 "cells": [
  {
   "cell_type": "markdown",
   "metadata": {
    "toc": true
   },
   "source": [
    "<h1>Table of Contents<span class=\"tocSkip\"></span></h1>\n",
    "<div class=\"toc\"><ul class=\"toc-item\"><li><span><a href=\"#Вводная-часть\" data-toc-modified-id=\"Вводная-часть-1\"><span class=\"toc-item-num\">1&nbsp;&nbsp;</span>Вводная часть</a></span><ul class=\"toc-item\"><li><span><a href=\"#Описание-данных\" data-toc-modified-id=\"Описание-данных-1.1\"><span class=\"toc-item-num\">1.1&nbsp;&nbsp;</span>Описание данных</a></span></li><li><span><a href=\"#Ход-процесса\" data-toc-modified-id=\"Ход-процесса-1.2\"><span class=\"toc-item-num\">1.2&nbsp;&nbsp;</span>Ход процесса</a></span></li></ul></li><li><span><a href=\"#Изучение-общей-информации\" data-toc-modified-id=\"Изучение-общей-информации-2\"><span class=\"toc-item-num\">2&nbsp;&nbsp;</span>Изучение общей информации</a></span></li><li><span><a href=\"#Подготовка-данных-и-проведение-расчётов\" data-toc-modified-id=\"Подготовка-данных-и-проведение-расчётов-3\"><span class=\"toc-item-num\">3&nbsp;&nbsp;</span>Подготовка данных и проведение расчётов</a></span></li><li><span><a href=\"#Расчётная-часть\" data-toc-modified-id=\"Расчётная-часть-4\"><span class=\"toc-item-num\">4&nbsp;&nbsp;</span>Расчётная часть</a></span><ul class=\"toc-item\"><li><span><a href=\"#количество-сделанных-звонков-и-израсходованных-минут-разговора-по-месяцам-для-каждого-пользователя;\" data-toc-modified-id=\"количество-сделанных-звонков-и-израсходованных-минут-разговора-по-месяцам-для-каждого-пользователя;-4.1\"><span class=\"toc-item-num\">4.1&nbsp;&nbsp;</span>количество сделанных звонков и израсходованных минут разговора по месяцам для каждого пользователя;</a></span></li><li><span><a href=\"#количество-отправленных-сообщений-по-месяцам-для-каждого-пользователя;\" data-toc-modified-id=\"количество-отправленных-сообщений-по-месяцам-для-каждого-пользователя;-4.2\"><span class=\"toc-item-num\">4.2&nbsp;&nbsp;</span>количество отправленных сообщений по месяцам для каждого пользователя;</a></span></li><li><span><a href=\"#объем-израсходованного-интернет-трафика-по-месяцам-для-каждого-пользователя;\" data-toc-modified-id=\"объем-израсходованного-интернет-трафика-по-месяцам-для-каждого-пользователя;-4.3\"><span class=\"toc-item-num\">4.3&nbsp;&nbsp;</span>объем израсходованного интернет-трафика по месяцам для каждого пользователя;</a></span></li><li><span><a href=\"#помесячная-выручка-с-каждого-пользователя-(вычтите-бесплатный-лимит-из-суммарного-количества-звонков,-сообщений-и-интернет-трафика;-остаток-умножьте-на-значение-из-тарифного-плана;-прибавьте-абонентскую-плату,-соответствующую-тарифному-плану)\" data-toc-modified-id=\"помесячная-выручка-с-каждого-пользователя-(вычтите-бесплатный-лимит-из-суммарного-количества-звонков,-сообщений-и-интернет-трафика;-остаток-умножьте-на-значение-из-тарифного-плана;-прибавьте-абонентскую-плату,-соответствующую-тарифному-плану)-4.4\"><span class=\"toc-item-num\">4.4&nbsp;&nbsp;</span>помесячная выручка с каждого пользователя (вычтите бесплатный лимит из суммарного количества звонков, сообщений и интернет-трафика; остаток умножьте на значение из тарифного плана; прибавьте абонентскую плату, соответствующую тарифному плану)</a></span></li></ul></li><li><span><a href=\"#Анализ-данных\" data-toc-modified-id=\"Анализ-данных-5\"><span class=\"toc-item-num\">5&nbsp;&nbsp;</span>Анализ данных</a></span><ul class=\"toc-item\"><li><span><a href=\"#Определю-какой-тарифный-план-предпочитается\" data-toc-modified-id=\"Определю-какой-тарифный-план-предпочитается-5.1\"><span class=\"toc-item-num\">5.1&nbsp;&nbsp;</span>Определю какой тарифный план предпочитается</a></span></li><li><span><a href=\"#Создам-рабочие-датафреймы\" data-toc-modified-id=\"Создам-рабочие-датафреймы-5.2\"><span class=\"toc-item-num\">5.2&nbsp;&nbsp;</span>Создам рабочие датафреймы</a></span></li><li><span><a href=\"#Проведу-расчёты-требуемых-показателей\" data-toc-modified-id=\"Проведу-расчёты-требуемых-показателей-5.3\"><span class=\"toc-item-num\">5.3&nbsp;&nbsp;</span>Проведу расчёты требуемых показателей</a></span><ul class=\"toc-item\"><li><span><a href=\"#Продолжительность-звонков-помесячно\" data-toc-modified-id=\"Продолжительность-звонков-помесячно-5.3.1\"><span class=\"toc-item-num\">5.3.1&nbsp;&nbsp;</span>Продолжительность звонков помесячно</a></span></li><li><span><a href=\"#Отправка-сообщений\" data-toc-modified-id=\"Отправка-сообщений-5.3.2\"><span class=\"toc-item-num\">5.3.2&nbsp;&nbsp;</span>Отправка сообщений</a></span></li><li><span><a href=\"#Исследование-интернет-трафика\" data-toc-modified-id=\"Исследование-интернет-трафика-5.3.3\"><span class=\"toc-item-num\">5.3.3&nbsp;&nbsp;</span>Исследование интернет-трафика</a></span></li><li><span><a href=\"#Дисперсия-(variance)-и-стандартное-отклонение-(standard-deviation)\" data-toc-modified-id=\"Дисперсия-(variance)-и-стандартное-отклонение-(standard-deviation)-5.3.4\"><span class=\"toc-item-num\">5.3.4&nbsp;&nbsp;</span>Дисперсия (variance) и стандартное отклонение (standard deviation)</a></span></li></ul></li></ul></li><li><span><a href=\"#Работа-с-гипотезами.\" data-toc-modified-id=\"Работа-с-гипотезами.-6\"><span class=\"toc-item-num\">6&nbsp;&nbsp;</span>Работа с гипотезами.</a></span><ul class=\"toc-item\"><li><span><a href=\"#средняя-выручка-пользователей-тарифов-«Ультра»-и-«Смарт»-различаются;\" data-toc-modified-id=\"средняя-выручка-пользователей-тарифов-«Ультра»-и-«Смарт»-различаются;-6.1\"><span class=\"toc-item-num\">6.1&nbsp;&nbsp;</span>средняя выручка пользователей тарифов «Ультра» и «Смарт» различаются;</a></span></li><li><span><a href=\"#средняя-выручка-пользователей-из-Москвы-отличается-от-выручки-пользователей-из-других-регионов.\" data-toc-modified-id=\"средняя-выручка-пользователей-из-Москвы-отличается-от-выручки-пользователей-из-других-регионов.-6.2\"><span class=\"toc-item-num\">6.2&nbsp;&nbsp;</span>средняя выручка пользователей из Москвы отличается от выручки пользователей из других регионов.</a></span></li></ul></li></ul></div>"
   ]
  },
  {
   "cell_type": "markdown",
   "metadata": {},
   "source": [
    "# Подбор оптимального тарифа для телекоммуникационной компании"
   ]
  },
  {
   "cell_type": "markdown",
   "metadata": {},
   "source": [
    "Компания «Мегалайн» — федеральный оператор сотовой связи предлагает клиентам два тарифных плана: «Смарт» и «Ультра». \n",
    "\n",
    "Чтобы скорректировать рекламный бюджет, коммерческий департамент хочет понять, какой тариф приносит больше денег.\n",
    "\n",
    "## Вводная часть\n",
    "\n",
    "В распоряжении данные 500 пользователей «Мегалайна»: кто они, откуда, каким тарифом пользуются, сколько звонков и сообщений каждый отправил за 2018 год. Нужно проанализировать поведение клиентов и сделать вывод — какой тариф лучше.\n",
    "\n",
    "**Описание тарифов**\n",
    "\n",
    "**Тариф «Смарт»**\n",
    "\n",
    "Ежемесячная плата: 550 рублей\n",
    "Включено 500 минут разговора, 50 сообщений и 15 Гб интернет-трафика\n",
    "Стоимость услуг сверх тарифного пакета:\n",
    "минута разговора: 3 рубля\n",
    "сообщение: 3 рубля\n",
    "1 Гб интернет-трафика: 200 рублей\n",
    "\n",
    "**Тариф «Ультра»**\n",
    "Ежемесячная плата: 1950 рублей\n",
    "Включено 3000 минут разговора, 1000 сообщений и 30 Гб интернет-трафика\n",
    "Стоимость услуг сверх тарифного пакета:\n",
    "минута разговора: 1 рубль\n",
    "сообщение: 1 рубль\n",
    "1 Гб интернет-трафика: 150 рублей\n",
    "\n",
    "**Примечание:**\n",
    "«Мегалайн» всегда округляет секунды до минут, а мегабайты — до гигабайт. Каждый звонок округляется отдельно: даже если он длился всего 1 секунду, будет засчитан как 1 минута.\n",
    "Для веб-трафика отдельные сессии не считаются. Вместо этого общая сумма за месяц округляется в бо́льшую сторону. Если абонент использует 1025 мегабайт в этом месяце, с него возьмут плату за 2 гигабайта.\n"
   ]
  },
  {
   "cell_type": "markdown",
   "metadata": {},
   "source": [
    "### Описание данных\n",
    "\n",
    "**Таблица users (информация о пользователях):**\n",
    "\n",
    "user_id — уникальный идентификатор пользователя\n",
    "\n",
    "first_name — имя пользователя\n",
    "\n",
    "last_name — фамилия пользователя\n",
    "\n",
    "age — возраст пользователя (годы)\n",
    "\n",
    "reg_date — дата подключения тарифа (день, месяц, год)\n",
    "\n",
    "churn_date — дата прекращения пользования тарифом (если значение пропущено, то тариф ещё действовал на момент выгрузки данных)\n",
    "\n",
    "city — город проживания пользователя\n",
    "\n",
    "tarif — название тарифного плана\n",
    "\n",
    "**Таблица calls (информация о звонках):**\n",
    "\n",
    "id — уникальный номер звонка\n",
    "\n",
    "call_date — дата звонка\n",
    "\n",
    "duration — длительность звонка в минутах\n",
    "\n",
    "user_id — идентификатор пользователя, сделавшего звонок\n",
    "\n",
    "**Таблица messages (информация о сообщениях):**\n",
    "id — уникальный номер сообщения\n",
    "\n",
    "message_date — дата сообщения\n",
    "\n",
    "user_id — идентификатор пользователя, отправившего сообщение\n",
    "\n",
    "**Таблица internet (информация об интернет-сессиях):**\n",
    "\n",
    "id — уникальный номер сессии\n",
    "\n",
    "mb_used — объём потраченного за сессию интернет-трафика (в мегабайтах)\n",
    "\n",
    "session_date — дата интернет-сессии\n",
    "\n",
    "user_id — идентификатор пользователя\n",
    "\n",
    "**Таблица tariffs (информация о тарифах):**\n",
    "\n",
    "tariff_name — название тарифа\n",
    "\n",
    "rub_monthly_fee — ежемесячная абонентская плата в рублях\n",
    "\n",
    "minutes_included — количество минут разговора в месяц, включённых в абонентскую плату\n",
    "\n",
    "messages_included — количество сообщений в месяц, включённых в абонентскую плату\n",
    "\n",
    "mb_per_month_included — объём интернет-трафика, включённого в абонентскую плату (в мегабайтах)\n",
    "\n",
    "rub_per_minute — стоимость минуты разговора сверх тарифного пакета (например, если в тарифе 100 минут разговора в месяц, то со 101 минуты будет взиматься плата)\n",
    "\n",
    "rub_per_message — стоимость отправки сообщения сверх тарифного пакета\n",
    "\n",
    "rub_per_gb — стоимость дополнительного гигабайта интернет-трафика сверх тарифного пакета (1 гигабайт = 1024 мегабайта)\n"
   ]
  },
  {
   "cell_type": "markdown",
   "metadata": {},
   "source": [
    "### Ход процесса\n",
    "**1. Изучение общей информации**\n",
    "\n",
    "Путь к файлам:\n",
    "/datasets/calls.csv. Скачать датасет\n",
    "/datasets/internet.csv. Скачать датасет\n",
    "/datasets/messages.csv. Скачать датасет\n",
    "/datasets/tariffs.csv. Скачать датасет\n",
    "/datasets/users.csv. Скачать датасет\n",
    "\n",
    "**2. Подготовка данных**: \n",
    "\n",
    "приведение данных к нужным типам; нахождение и исправление ошибок в данных, если они есть. \n",
    "\n",
    "Дать пояснение. Звонки с нулевой продолжительностью - не ошибка: нулями обозначены пропущенные звонки, поэтому их не нужно удалять.\n",
    "\n",
    "**Расчёт следующих показателей для каждого пользователя:**\n",
    "\n",
    "•\tколичество сделанных звонков и израсходованных минут разговора по месяцам;\n",
    "\n",
    "•\tколичество отправленных сообщений по месяцам;\n",
    "\n",
    "•\tобъем израсходованного интернет-трафика по месяцам;\n",
    "\n",
    "•\tпомесячная выручка с каждого пользователя (механизм расчёта:1.вычитание бесплатного лимита из суммарного количества звонков, сообщений и интернет-трафика; 2.остаток будет умножен на значение из тарифного плана; 3. Далее, добавим абонентскую плату, соответствующую тарифному плану).\n",
    "\n",
    "**3. Анализ данных.**\n",
    "\n",
    "Описание поведения клиентов оператора, исходя из выборки. \n",
    "\n",
    "Сколько минут разговора, сколько сообщений и какой объём интернет-трафика требуется пользователям каждого тарифа в месяц?\n",
    "\n",
    "Будут рассчитаны среднее количество, дисперсия и стандартное отклонение, построены гистограммы и описаны распределения.\n",
    "\n",
    "**4. Выдвижение и проверка гипотез.**\n",
    "\n",
    "1. средняя выручка пользователей тарифов «Ультра» и «Смарт» различаются;\n",
    "\n",
    "2. средняя выручка пользователей из Москвы отличается от выручки пользователей из других регионов.\n",
    "\n",
    "Пороговое значение alpha принимаем 0,05.\n",
    "\n",
    "Пояснения о формулировании нулевой и альтернативной гипотез; применяемый критерий для проверки гипотез и почему.\n",
    "\n",
    "**5. Общий вывод.**\n"
   ]
  },
  {
   "cell_type": "markdown",
   "metadata": {},
   "source": [
    "## Изучение общей информации"
   ]
  },
  {
   "cell_type": "code",
   "execution_count": 1,
   "metadata": {},
   "outputs": [],
   "source": [
    "import pandas as pd\n",
    "from datetime import datetime\n",
    "import numpy as np\n",
    "import matplotlib.pyplot as plt\n",
    "from scipy import stats as st"
   ]
  },
  {
   "cell_type": "code",
   "execution_count": 2,
   "metadata": {},
   "outputs": [],
   "source": [
    "calls = pd.read_csv('/datasets/calls.csv')# **информация о звонках**\n",
    "messages = pd.read_csv('/datasets/messages.csv')# **информация о сообщениях**\n",
    "internet = pd.read_csv('/datasets/internet.csv',index_col=0) # **информация об интернет-сессиях**\n",
    "tariffs = pd.read_csv('/datasets/tariffs.csv') # **информация о тарифах**\n",
    "users = pd.read_csv('/datasets/users.csv') # **информация о пользователях**"
   ]
  },
  {
   "cell_type": "code",
   "execution_count": 3,
   "metadata": {},
   "outputs": [
    {
     "name": "stdout",
     "output_type": "stream",
     "text": [
      "<class 'pandas.core.frame.DataFrame'>\n",
      "RangeIndex: 202607 entries, 0 to 202606\n",
      "Data columns (total 4 columns):\n",
      " #   Column     Non-Null Count   Dtype  \n",
      "---  ------     --------------   -----  \n",
      " 0   id         202607 non-null  object \n",
      " 1   call_date  202607 non-null  object \n",
      " 2   duration   202607 non-null  float64\n",
      " 3   user_id    202607 non-null  int64  \n",
      "dtypes: float64(1), int64(1), object(2)\n",
      "memory usage: 6.2+ MB\n"
     ]
    }
   ],
   "source": [
    "calls.info()"
   ]
  },
  {
   "cell_type": "code",
   "execution_count": 4,
   "metadata": {},
   "outputs": [
    {
     "name": "stdout",
     "output_type": "stream",
     "text": [
      "<class 'pandas.core.frame.DataFrame'>\n",
      "RangeIndex: 123036 entries, 0 to 123035\n",
      "Data columns (total 3 columns):\n",
      " #   Column        Non-Null Count   Dtype \n",
      "---  ------        --------------   ----- \n",
      " 0   id            123036 non-null  object\n",
      " 1   message_date  123036 non-null  object\n",
      " 2   user_id       123036 non-null  int64 \n",
      "dtypes: int64(1), object(2)\n",
      "memory usage: 2.8+ MB\n"
     ]
    }
   ],
   "source": [
    "messages.info()"
   ]
  },
  {
   "cell_type": "code",
   "execution_count": 5,
   "metadata": {},
   "outputs": [
    {
     "data": {
      "text/plain": [
       "106601    2018-12-31\n",
       "53386     2018-12-31\n",
       "120508    2018-12-31\n",
       "72225     2018-12-31\n",
       "46925     2018-12-31\n",
       "             ...    \n",
       "112041    2018-01-02\n",
       "44492     2018-01-02\n",
       "35665     2018-01-02\n",
       "36149     2018-01-02\n",
       "36021     2018-01-02\n",
       "Name: message_date, Length: 123036, dtype: object"
      ]
     },
     "execution_count": 5,
     "metadata": {},
     "output_type": "execute_result"
    }
   ],
   "source": [
    "# оценю временной охват\n",
    "messages['message_date'].sort_values(ascending = False)"
   ]
  },
  {
   "cell_type": "markdown",
   "metadata": {},
   "source": [
    "Смс отправлялись со 2 января по 31 декабря 2018г. "
   ]
  },
  {
   "cell_type": "code",
   "execution_count": 6,
   "metadata": {},
   "outputs": [
    {
     "name": "stdout",
     "output_type": "stream",
     "text": [
      "<class 'pandas.core.frame.DataFrame'>\n",
      "Int64Index: 149396 entries, 0 to 149395\n",
      "Data columns (total 4 columns):\n",
      " #   Column        Non-Null Count   Dtype  \n",
      "---  ------        --------------   -----  \n",
      " 0   id            149396 non-null  object \n",
      " 1   mb_used       149396 non-null  float64\n",
      " 2   session_date  149396 non-null  object \n",
      " 3   user_id       149396 non-null  int64  \n",
      "dtypes: float64(1), int64(1), object(2)\n",
      "memory usage: 5.7+ MB\n"
     ]
    }
   ],
   "source": [
    "internet.info()"
   ]
  },
  {
   "cell_type": "code",
   "execution_count": 7,
   "metadata": {},
   "outputs": [
    {
     "name": "stdout",
     "output_type": "stream",
     "text": [
      "<class 'pandas.core.frame.DataFrame'>\n",
      "RangeIndex: 2 entries, 0 to 1\n",
      "Data columns (total 8 columns):\n",
      " #   Column                 Non-Null Count  Dtype \n",
      "---  ------                 --------------  ----- \n",
      " 0   messages_included      2 non-null      int64 \n",
      " 1   mb_per_month_included  2 non-null      int64 \n",
      " 2   minutes_included       2 non-null      int64 \n",
      " 3   rub_monthly_fee        2 non-null      int64 \n",
      " 4   rub_per_gb             2 non-null      int64 \n",
      " 5   rub_per_message        2 non-null      int64 \n",
      " 6   rub_per_minute         2 non-null      int64 \n",
      " 7   tariff_name            2 non-null      object\n",
      "dtypes: int64(7), object(1)\n",
      "memory usage: 256.0+ bytes\n"
     ]
    }
   ],
   "source": [
    "tariffs.info()"
   ]
  },
  {
   "cell_type": "code",
   "execution_count": 8,
   "metadata": {},
   "outputs": [
    {
     "name": "stdout",
     "output_type": "stream",
     "text": [
      "<class 'pandas.core.frame.DataFrame'>\n",
      "RangeIndex: 500 entries, 0 to 499\n",
      "Data columns (total 8 columns):\n",
      " #   Column      Non-Null Count  Dtype \n",
      "---  ------      --------------  ----- \n",
      " 0   user_id     500 non-null    int64 \n",
      " 1   age         500 non-null    int64 \n",
      " 2   churn_date  38 non-null     object\n",
      " 3   city        500 non-null    object\n",
      " 4   first_name  500 non-null    object\n",
      " 5   last_name   500 non-null    object\n",
      " 6   reg_date    500 non-null    object\n",
      " 7   tariff      500 non-null    object\n",
      "dtypes: int64(2), object(6)\n",
      "memory usage: 31.4+ KB\n"
     ]
    }
   ],
   "source": [
    "users.info()"
   ]
  },
  {
   "cell_type": "markdown",
   "metadata": {},
   "source": [
    "## Подготовка данных и проведение расчётов "
   ]
  },
  {
   "cell_type": "code",
   "execution_count": 9,
   "metadata": {},
   "outputs": [],
   "source": [
    "#приводим в формат datetime, т.к. они некорректные во всех трёх наборах данных\n",
    "calls['call_date'] = pd.to_datetime(calls['call_date'], format='%Y-%m-%d')\n",
    "messages['message_date'] = pd.to_datetime(messages['message_date'], format='%Y-%m-%d')\n",
    "internet['session_date'] = pd.to_datetime(internet['session_date'], format='%Y-%m-%d')"
   ]
  },
  {
   "cell_type": "code",
   "execution_count": 10,
   "metadata": {},
   "outputs": [],
   "source": [
    "#добавляем столбец month\n",
    "calls['month'] = pd.to_datetime(calls['call_date']).dt.month\n",
    "messages['month'] = pd.to_datetime(messages['message_date']).dt.month\n",
    "internet['month'] = pd.to_datetime(internet['session_date']).dt.month"
   ]
  },
  {
   "cell_type": "code",
   "execution_count": 11,
   "metadata": {},
   "outputs": [
    {
     "data": {
      "text/plain": [
       "id           0\n",
       "call_date    0\n",
       "duration     0\n",
       "user_id      0\n",
       "month        0\n",
       "dtype: int64"
      ]
     },
     "execution_count": 11,
     "metadata": {},
     "output_type": "execute_result"
    }
   ],
   "source": [
    "calls.isna().sum()"
   ]
  },
  {
   "cell_type": "code",
   "execution_count": 12,
   "metadata": {},
   "outputs": [
    {
     "name": "stdout",
     "output_type": "stream",
     "text": [
      "<class 'pandas.core.frame.DataFrame'>\n",
      "RangeIndex: 202607 entries, 0 to 202606\n",
      "Data columns (total 5 columns):\n",
      " #   Column     Non-Null Count   Dtype         \n",
      "---  ------     --------------   -----         \n",
      " 0   id         202607 non-null  object        \n",
      " 1   call_date  202607 non-null  datetime64[ns]\n",
      " 2   duration   202607 non-null  float64       \n",
      " 3   user_id    202607 non-null  int64         \n",
      " 4   month      202607 non-null  int64         \n",
      "dtypes: datetime64[ns](1), float64(1), int64(2), object(1)\n",
      "memory usage: 7.7+ MB\n"
     ]
    }
   ],
   "source": [
    "calls.info()"
   ]
  },
  {
   "cell_type": "markdown",
   "metadata": {},
   "source": [
    "call_date приведён к формату даты"
   ]
  },
  {
   "cell_type": "markdown",
   "metadata": {},
   "source": [
    "Необходима замена типа данных: duration - float64 to int64 (так как «Мегалайн» всегда округляет секунды до минут. Каждый звонок округляется отдельно: даже если он длился всего 1 секунду, будет засчитан как 1 минута). id - object/int."
   ]
  },
  {
   "cell_type": "code",
   "execution_count": 13,
   "metadata": {},
   "outputs": [
    {
     "data": {
      "text/plain": [
       "(492, 500)"
      ]
     },
     "execution_count": 13,
     "metadata": {},
     "output_type": "execute_result"
    }
   ],
   "source": [
    "len(calls['user_id'].unique()), len(users['user_id'].unique())"
   ]
  },
  {
   "cell_type": "code",
   "execution_count": 14,
   "metadata": {},
   "outputs": [],
   "source": [
    "# замена типа данных\n",
    "calls['id'] = calls['id'].astype(int)\n",
    "# округление\n",
    "calls['duration'] = np.ceil(calls['duration'])"
   ]
  },
  {
   "cell_type": "code",
   "execution_count": 15,
   "metadata": {},
   "outputs": [],
   "source": [
    "# замена типа данных\n",
    "calls['duration'] = calls['duration'].astype(int)"
   ]
  },
  {
   "cell_type": "code",
   "execution_count": 16,
   "metadata": {},
   "outputs": [
    {
     "data": {
      "text/html": [
       "<div>\n",
       "<style scoped>\n",
       "    .dataframe tbody tr th:only-of-type {\n",
       "        vertical-align: middle;\n",
       "    }\n",
       "\n",
       "    .dataframe tbody tr th {\n",
       "        vertical-align: top;\n",
       "    }\n",
       "\n",
       "    .dataframe thead th {\n",
       "        text-align: right;\n",
       "    }\n",
       "</style>\n",
       "<table border=\"1\" class=\"dataframe\">\n",
       "  <thead>\n",
       "    <tr style=\"text-align: right;\">\n",
       "      <th></th>\n",
       "      <th>id</th>\n",
       "      <th>call_date</th>\n",
       "      <th>duration</th>\n",
       "      <th>user_id</th>\n",
       "      <th>month</th>\n",
       "    </tr>\n",
       "  </thead>\n",
       "  <tbody>\n",
       "    <tr>\n",
       "      <th>0</th>\n",
       "      <td>10000</td>\n",
       "      <td>2018-07-25</td>\n",
       "      <td>0</td>\n",
       "      <td>1000</td>\n",
       "      <td>7</td>\n",
       "    </tr>\n",
       "    <tr>\n",
       "      <th>1</th>\n",
       "      <td>10001</td>\n",
       "      <td>2018-08-17</td>\n",
       "      <td>0</td>\n",
       "      <td>1000</td>\n",
       "      <td>8</td>\n",
       "    </tr>\n",
       "    <tr>\n",
       "      <th>2</th>\n",
       "      <td>10002</td>\n",
       "      <td>2018-06-11</td>\n",
       "      <td>3</td>\n",
       "      <td>1000</td>\n",
       "      <td>6</td>\n",
       "    </tr>\n",
       "    <tr>\n",
       "      <th>3</th>\n",
       "      <td>10003</td>\n",
       "      <td>2018-09-21</td>\n",
       "      <td>14</td>\n",
       "      <td>1000</td>\n",
       "      <td>9</td>\n",
       "    </tr>\n",
       "    <tr>\n",
       "      <th>4</th>\n",
       "      <td>10004</td>\n",
       "      <td>2018-12-15</td>\n",
       "      <td>6</td>\n",
       "      <td>1000</td>\n",
       "      <td>12</td>\n",
       "    </tr>\n",
       "    <tr>\n",
       "      <th>...</th>\n",
       "      <td>...</td>\n",
       "      <td>...</td>\n",
       "      <td>...</td>\n",
       "      <td>...</td>\n",
       "      <td>...</td>\n",
       "    </tr>\n",
       "    <tr>\n",
       "      <th>202602</th>\n",
       "      <td>1499215</td>\n",
       "      <td>2018-12-26</td>\n",
       "      <td>1</td>\n",
       "      <td>1499</td>\n",
       "      <td>12</td>\n",
       "    </tr>\n",
       "    <tr>\n",
       "      <th>202603</th>\n",
       "      <td>1499216</td>\n",
       "      <td>2018-10-18</td>\n",
       "      <td>19</td>\n",
       "      <td>1499</td>\n",
       "      <td>10</td>\n",
       "    </tr>\n",
       "    <tr>\n",
       "      <th>202604</th>\n",
       "      <td>1499217</td>\n",
       "      <td>2018-11-10</td>\n",
       "      <td>11</td>\n",
       "      <td>1499</td>\n",
       "      <td>11</td>\n",
       "    </tr>\n",
       "    <tr>\n",
       "      <th>202605</th>\n",
       "      <td>1499218</td>\n",
       "      <td>2018-10-06</td>\n",
       "      <td>5</td>\n",
       "      <td>1499</td>\n",
       "      <td>10</td>\n",
       "    </tr>\n",
       "    <tr>\n",
       "      <th>202606</th>\n",
       "      <td>1499219</td>\n",
       "      <td>2018-12-14</td>\n",
       "      <td>20</td>\n",
       "      <td>1499</td>\n",
       "      <td>12</td>\n",
       "    </tr>\n",
       "  </tbody>\n",
       "</table>\n",
       "<p>202607 rows × 5 columns</p>\n",
       "</div>"
      ],
      "text/plain": [
       "             id  call_date  duration  user_id  month\n",
       "0         10000 2018-07-25         0     1000      7\n",
       "1         10001 2018-08-17         0     1000      8\n",
       "2         10002 2018-06-11         3     1000      6\n",
       "3         10003 2018-09-21        14     1000      9\n",
       "4         10004 2018-12-15         6     1000     12\n",
       "...         ...        ...       ...      ...    ...\n",
       "202602  1499215 2018-12-26         1     1499     12\n",
       "202603  1499216 2018-10-18        19     1499     10\n",
       "202604  1499217 2018-11-10        11     1499     11\n",
       "202605  1499218 2018-10-06         5     1499     10\n",
       "202606  1499219 2018-12-14        20     1499     12\n",
       "\n",
       "[202607 rows x 5 columns]"
      ]
     },
     "execution_count": 16,
     "metadata": {},
     "output_type": "execute_result"
    }
   ],
   "source": [
    "calls"
   ]
  },
  {
   "cell_type": "code",
   "execution_count": 17,
   "metadata": {},
   "outputs": [
    {
     "data": {
      "text/plain": [
       "id        call_date   duration  user_id  month\n",
       "10000     2018-07-25  0         1000     7        1\n",
       "1303269   2018-08-12  17        1303     8        1\n",
       "1303271   2018-11-13  9         1303     11       1\n",
       "1303272   2018-09-23  18        1303     9        1\n",
       "1303273   2018-08-22  11        1303     8        1\n",
       "                                                 ..\n",
       "1067251   2018-12-22  21        1067     12       1\n",
       "1067252   2018-06-20  7         1067     6        1\n",
       "1067253   2018-06-05  8         1067     6        1\n",
       "1067254   2018-05-21  0         1067     5        1\n",
       "14581154  2018-03-25  15        1458     3        1\n",
       "Length: 202607, dtype: int64"
      ]
     },
     "execution_count": 17,
     "metadata": {},
     "output_type": "execute_result"
    }
   ],
   "source": [
    "calls.value_counts()"
   ]
  },
  {
   "cell_type": "code",
   "execution_count": 18,
   "metadata": {},
   "outputs": [
    {
     "name": "stdout",
     "output_type": "stream",
     "text": [
      "39613\n"
     ]
    }
   ],
   "source": [
    "calls_0 = calls.loc[calls['duration']==0]['duration'].count()\n",
    "print(calls_0)"
   ]
  },
  {
   "cell_type": "code",
   "execution_count": 19,
   "metadata": {},
   "outputs": [
    {
     "data": {
      "text/plain": [
       "0"
      ]
     },
     "execution_count": 19,
     "metadata": {},
     "output_type": "execute_result"
    }
   ],
   "source": [
    "calls.duplicated().sum()"
   ]
  },
  {
   "cell_type": "markdown",
   "metadata": {},
   "source": [
    "в calls call_date приведён к формату даты, проведена замена типа данных, округление, пропусков и дубликатов нет."
   ]
  },
  {
   "cell_type": "code",
   "execution_count": 20,
   "metadata": {},
   "outputs": [
    {
     "name": "stdout",
     "output_type": "stream",
     "text": [
      "<class 'pandas.core.frame.DataFrame'>\n",
      "RangeIndex: 123036 entries, 0 to 123035\n",
      "Data columns (total 4 columns):\n",
      " #   Column        Non-Null Count   Dtype         \n",
      "---  ------        --------------   -----         \n",
      " 0   id            123036 non-null  object        \n",
      " 1   message_date  123036 non-null  datetime64[ns]\n",
      " 2   user_id       123036 non-null  int64         \n",
      " 3   month         123036 non-null  int64         \n",
      "dtypes: datetime64[ns](1), int64(2), object(1)\n",
      "memory usage: 3.8+ MB\n"
     ]
    }
   ],
   "source": [
    "messages.info()"
   ]
  },
  {
   "cell_type": "code",
   "execution_count": 21,
   "metadata": {},
   "outputs": [],
   "source": [
    "# замена типа данных\n",
    "messages['id'] = messages['id'].astype(int)"
   ]
  },
  {
   "cell_type": "code",
   "execution_count": 22,
   "metadata": {},
   "outputs": [
    {
     "data": {
      "text/plain": [
       "id              0\n",
       "message_date    0\n",
       "user_id         0\n",
       "month           0\n",
       "dtype: int64"
      ]
     },
     "execution_count": 22,
     "metadata": {},
     "output_type": "execute_result"
    }
   ],
   "source": [
    "messages.isna().sum()"
   ]
  },
  {
   "cell_type": "code",
   "execution_count": 23,
   "metadata": {},
   "outputs": [
    {
     "data": {
      "text/plain": [
       "0"
      ]
     },
     "execution_count": 23,
     "metadata": {},
     "output_type": "execute_result"
    }
   ],
   "source": [
    "messages.duplicated().sum()"
   ]
  },
  {
   "cell_type": "markdown",
   "metadata": {},
   "source": [
    "в messages messages_date приведён к формату даты, проведена замена типа данных, пропусков и дубликатов нет."
   ]
  },
  {
   "cell_type": "code",
   "execution_count": 24,
   "metadata": {},
   "outputs": [],
   "source": [
    "# замена типа данных\n",
    "internet['id'] = internet['id'].astype(int)"
   ]
  },
  {
   "cell_type": "code",
   "execution_count": 25,
   "metadata": {},
   "outputs": [
    {
     "data": {
      "text/plain": [
       "(10, 10, 1)"
      ]
     },
     "execution_count": 25,
     "metadata": {},
     "output_type": "execute_result"
    }
   ],
   "source": [
    " # check\n",
    "    \n",
    "int (10.99), int (10.21), int (1.53)"
   ]
  },
  {
   "cell_type": "code",
   "execution_count": 26,
   "metadata": {},
   "outputs": [
    {
     "data": {
      "text/plain": [
       "id              0\n",
       "mb_used         0\n",
       "session_date    0\n",
       "user_id         0\n",
       "month           0\n",
       "dtype: int64"
      ]
     },
     "execution_count": 26,
     "metadata": {},
     "output_type": "execute_result"
    }
   ],
   "source": [
    "internet.isna().sum()"
   ]
  },
  {
   "cell_type": "code",
   "execution_count": 27,
   "metadata": {},
   "outputs": [
    {
     "data": {
      "text/plain": [
       "0"
      ]
     },
     "execution_count": 27,
     "metadata": {},
     "output_type": "execute_result"
    }
   ],
   "source": [
    "internet.duplicated().sum()"
   ]
  },
  {
   "cell_type": "code",
   "execution_count": 28,
   "metadata": {},
   "outputs": [
    {
     "name": "stdout",
     "output_type": "stream",
     "text": [
      "<class 'pandas.core.frame.DataFrame'>\n",
      "Int64Index: 149396 entries, 0 to 149395\n",
      "Data columns (total 5 columns):\n",
      " #   Column        Non-Null Count   Dtype         \n",
      "---  ------        --------------   -----         \n",
      " 0   id            149396 non-null  int64         \n",
      " 1   mb_used       149396 non-null  float64       \n",
      " 2   session_date  149396 non-null  datetime64[ns]\n",
      " 3   user_id       149396 non-null  int64         \n",
      " 4   month         149396 non-null  int64         \n",
      "dtypes: datetime64[ns](1), float64(1), int64(3)\n",
      "memory usage: 6.8 MB\n"
     ]
    }
   ],
   "source": [
    "internet.info()"
   ]
  },
  {
   "cell_type": "markdown",
   "metadata": {},
   "source": [
    "в internet session_date приведён к формату даты, проведена замена типа данных, пропусков и дубликатов нет."
   ]
  },
  {
   "cell_type": "markdown",
   "metadata": {},
   "source": [
    "Дадим оценку данным, которые будут применяться при дальнейших расчётах: duration, и mb_used"
   ]
  },
  {
   "cell_type": "code",
   "execution_count": 29,
   "metadata": {},
   "outputs": [
    {
     "data": {
      "image/png": "[encoded data removed]",
      "text/plain": [
       "<Figure size 432x288 with 1 Axes>"
      ]
     },
     "metadata": {
      "needs_background": "light"
     },
     "output_type": "display_data"
    }
   ],
   "source": [
    "pd.Series(calls['duration']).hist(bins=60);"
   ]
  },
  {
   "cell_type": "code",
   "execution_count": 30,
   "metadata": {},
   "outputs": [
    {
     "name": "stdout",
     "output_type": "stream",
     "text": [
      "id           39613\n",
      "call_date    39613\n",
      "duration     39613\n",
      "user_id      39613\n",
      "month        39613\n",
      "dtype: int64\n"
     ]
    }
   ],
   "source": [
    "print(calls.loc[calls['duration'] == 0].count())"
   ]
  },
  {
   "cell_type": "markdown",
   "metadata": {},
   "source": [
    "Получилось следующее: 39613 звонков длились 0 минут. "
   ]
  },
  {
   "cell_type": "code",
   "execution_count": 31,
   "metadata": {},
   "outputs": [
    {
     "data": {
      "image/png": "[encoded data removed]",
      "text/plain": [
       "<Figure size 432x288 with 1 Axes>"
      ]
     },
     "metadata": {
      "needs_background": "light"
     },
     "output_type": "display_data"
    }
   ],
   "source": [
    "pd.Series(internet['mb_used']).hist(bins=100);"
   ]
  },
  {
   "cell_type": "code",
   "execution_count": 32,
   "metadata": {},
   "outputs": [
    {
     "name": "stdout",
     "output_type": "stream",
     "text": [
      "id              19598\n",
      "mb_used         19598\n",
      "session_date    19598\n",
      "user_id         19598\n",
      "month           19598\n",
      "dtype: int64\n"
     ]
    }
   ],
   "source": [
    "print((internet.loc[internet['mb_used'] == 0]).count())"
   ]
  },
  {
   "cell_type": "markdown",
   "metadata": {},
   "source": [
    "Получилось следующее: 19598 соединений длилось 0 минут. Может быть происходили сбои. "
   ]
  },
  {
   "cell_type": "code",
   "execution_count": 33,
   "metadata": {},
   "outputs": [
    {
     "data": {
      "image/png": "[encoded data removed]",
      "text/plain": [
       "<Figure size 432x288 with 1 Axes>"
      ]
     },
     "metadata": {
      "needs_background": "light"
     },
     "output_type": "display_data"
    }
   ],
   "source": [
    "pd.Series(internet['mb_used']).hist(bins=60);"
   ]
  },
  {
   "cell_type": "markdown",
   "metadata": {},
   "source": [
    "**На этапе исследования и подготовки данных выполнены следующие мероприятия:**\n",
    "\n",
    "**Для работы представлены 5 датасетов. Проведено первичное исследование каждого. \n",
    "\n",
    "**Произведена замена типа данных:**\n",
    "call_date, message_date, session_date - object to date - данные позиции отражают даты; \n",
    "id - object to int64 для удобства расчётов.\n",
    "\n",
    "duration - float64 to int64 (так как «Мегалайн» всегда округляет секунды до минут. Каждый звонок округляется отдельно: даже если он длился всего 1 секунду, будет засчитан как 1 минута).\n",
    "\n",
    "mb_used - float64 to int64 (Для веб-трафика отдельные сессии не считаются. Вместо этого общая сумма за месяц округляется в бо́льшую сторону. Если абонент использует 1025 мегабайт в этом месяце, с него возьмут плату за 2 гигабайта).\n",
    "\n",
    "\n",
    "в messages messages_date приведён к формату даты, проведена замена типа данных, пропусков и дубликатов не установлено.\n",
    "\n",
    "в calls call_date приведён к формату даты, проведена замена типа данных, округление, пропусков и дубликатов не установлено.\n",
    "\n",
    "в internet session_date приведён к формату даты, проведена замена типа данных, пропусков и дубликатов не установлено.\n",
    "\n",
    "39613 звонков длились 0 минут - пропущенные вызовы.\n",
    "19699 соединений длилось 0 минут. Может быть происходили сбои."
   ]
  },
  {
   "cell_type": "markdown",
   "metadata": {},
   "source": [
    "## Расчётная часть"
   ]
  },
  {
   "cell_type": "markdown",
   "metadata": {},
   "source": [
    "### количество сделанных звонков и израсходованных минут разговора по месяцам для каждого пользователя;"
   ]
  },
  {
   "cell_type": "code",
   "execution_count": 34,
   "metadata": {},
   "outputs": [
    {
     "data": {
      "text/html": [
       "<div>\n",
       "<style scoped>\n",
       "    .dataframe tbody tr th:only-of-type {\n",
       "        vertical-align: middle;\n",
       "    }\n",
       "\n",
       "    .dataframe tbody tr th {\n",
       "        vertical-align: top;\n",
       "    }\n",
       "\n",
       "    .dataframe thead th {\n",
       "        text-align: right;\n",
       "    }\n",
       "</style>\n",
       "<table border=\"1\" class=\"dataframe\">\n",
       "  <thead>\n",
       "    <tr style=\"text-align: right;\">\n",
       "      <th></th>\n",
       "      <th>user_id</th>\n",
       "      <th>month</th>\n",
       "      <th>count</th>\n",
       "      <th>dur</th>\n",
       "    </tr>\n",
       "  </thead>\n",
       "  <tbody>\n",
       "    <tr>\n",
       "      <th>0</th>\n",
       "      <td>1000</td>\n",
       "      <td>5</td>\n",
       "      <td>22</td>\n",
       "      <td>159</td>\n",
       "    </tr>\n",
       "    <tr>\n",
       "      <th>1</th>\n",
       "      <td>1000</td>\n",
       "      <td>6</td>\n",
       "      <td>43</td>\n",
       "      <td>172</td>\n",
       "    </tr>\n",
       "    <tr>\n",
       "      <th>2</th>\n",
       "      <td>1000</td>\n",
       "      <td>7</td>\n",
       "      <td>47</td>\n",
       "      <td>340</td>\n",
       "    </tr>\n",
       "    <tr>\n",
       "      <th>3</th>\n",
       "      <td>1000</td>\n",
       "      <td>8</td>\n",
       "      <td>52</td>\n",
       "      <td>408</td>\n",
       "    </tr>\n",
       "    <tr>\n",
       "      <th>4</th>\n",
       "      <td>1000</td>\n",
       "      <td>9</td>\n",
       "      <td>58</td>\n",
       "      <td>466</td>\n",
       "    </tr>\n",
       "    <tr>\n",
       "      <th>...</th>\n",
       "      <td>...</td>\n",
       "      <td>...</td>\n",
       "      <td>...</td>\n",
       "      <td>...</td>\n",
       "    </tr>\n",
       "    <tr>\n",
       "      <th>3169</th>\n",
       "      <td>1498</td>\n",
       "      <td>10</td>\n",
       "      <td>41</td>\n",
       "      <td>247</td>\n",
       "    </tr>\n",
       "    <tr>\n",
       "      <th>3170</th>\n",
       "      <td>1499</td>\n",
       "      <td>9</td>\n",
       "      <td>9</td>\n",
       "      <td>70</td>\n",
       "    </tr>\n",
       "    <tr>\n",
       "      <th>3171</th>\n",
       "      <td>1499</td>\n",
       "      <td>10</td>\n",
       "      <td>68</td>\n",
       "      <td>449</td>\n",
       "    </tr>\n",
       "    <tr>\n",
       "      <th>3172</th>\n",
       "      <td>1499</td>\n",
       "      <td>11</td>\n",
       "      <td>74</td>\n",
       "      <td>612</td>\n",
       "    </tr>\n",
       "    <tr>\n",
       "      <th>3173</th>\n",
       "      <td>1499</td>\n",
       "      <td>12</td>\n",
       "      <td>69</td>\n",
       "      <td>492</td>\n",
       "    </tr>\n",
       "  </tbody>\n",
       "</table>\n",
       "<p>3174 rows × 4 columns</p>\n",
       "</div>"
      ],
      "text/plain": [
       "      user_id  month  count  dur\n",
       "0        1000      5     22  159\n",
       "1        1000      6     43  172\n",
       "2        1000      7     47  340\n",
       "3        1000      8     52  408\n",
       "4        1000      9     58  466\n",
       "...       ...    ...    ...  ...\n",
       "3169     1498     10     41  247\n",
       "3170     1499      9      9   70\n",
       "3171     1499     10     68  449\n",
       "3172     1499     11     74  612\n",
       "3173     1499     12     69  492\n",
       "\n",
       "[3174 rows x 4 columns]"
      ]
     },
     "execution_count": 34,
     "metadata": {},
     "output_type": "execute_result"
    }
   ],
   "source": [
    "# создам сводную таблица с расчётом\n",
    "calls_duration = calls.pivot_table(index=['user_id', 'month'],values='duration',aggfunc=('sum', 'count')).reset_index()\n",
    "calls_duration.columns = ('user_id', 'month', 'count', 'dur')\n",
    "calls_duration"
   ]
  },
  {
   "cell_type": "markdown",
   "metadata": {},
   "source": [
    "### количество отправленных сообщений по месяцам для каждого пользователя;"
   ]
  },
  {
   "cell_type": "code",
   "execution_count": 35,
   "metadata": {},
   "outputs": [
    {
     "name": "stdout",
     "output_type": "stream",
     "text": [
      "      user_id  month  quantity_mes\n",
      "0        1000      5            22\n",
      "1        1000      6            60\n",
      "2        1000      7            75\n",
      "3        1000      8            81\n",
      "4        1000      9            57\n",
      "...       ...    ...           ...\n",
      "2712     1498     10            42\n",
      "2713     1499      9            11\n",
      "2714     1499     10            48\n",
      "2715     1499     11            59\n",
      "2716     1499     12            66\n",
      "\n",
      "[2717 rows x 3 columns]\n"
     ]
    }
   ],
   "source": [
    "# сводная таблица с расчётом\n",
    "mes_quantity = messages.pivot_table(index=['user_id', 'month'],\n",
    "                                                    values='id',aggfunc='count').reset_index()\n",
    "mes_quantity.columns = ('user_id', 'month', 'quantity_mes')\n",
    "print(mes_quantity)"
   ]
  },
  {
   "cell_type": "markdown",
   "metadata": {},
   "source": [
    "### объем израсходованного интернет-трафика по месяцам для каждого пользователя;"
   ]
  },
  {
   "cell_type": "code",
   "execution_count": 36,
   "metadata": {},
   "outputs": [
    {
     "data": {
      "text/html": [
       "<div>\n",
       "<style scoped>\n",
       "    .dataframe tbody tr th:only-of-type {\n",
       "        vertical-align: middle;\n",
       "    }\n",
       "\n",
       "    .dataframe tbody tr th {\n",
       "        vertical-align: top;\n",
       "    }\n",
       "\n",
       "    .dataframe thead th {\n",
       "        text-align: right;\n",
       "    }\n",
       "</style>\n",
       "<table border=\"1\" class=\"dataframe\">\n",
       "  <thead>\n",
       "    <tr style=\"text-align: right;\">\n",
       "      <th></th>\n",
       "      <th>user_id</th>\n",
       "      <th>month</th>\n",
       "      <th>quantity_mb_used</th>\n",
       "    </tr>\n",
       "  </thead>\n",
       "  <tbody>\n",
       "    <tr>\n",
       "      <th>0</th>\n",
       "      <td>1000</td>\n",
       "      <td>5</td>\n",
       "      <td>2253.49</td>\n",
       "    </tr>\n",
       "    <tr>\n",
       "      <th>1</th>\n",
       "      <td>1000</td>\n",
       "      <td>6</td>\n",
       "      <td>23233.77</td>\n",
       "    </tr>\n",
       "    <tr>\n",
       "      <th>2</th>\n",
       "      <td>1000</td>\n",
       "      <td>7</td>\n",
       "      <td>14003.64</td>\n",
       "    </tr>\n",
       "    <tr>\n",
       "      <th>3</th>\n",
       "      <td>1000</td>\n",
       "      <td>8</td>\n",
       "      <td>14055.93</td>\n",
       "    </tr>\n",
       "    <tr>\n",
       "      <th>4</th>\n",
       "      <td>1000</td>\n",
       "      <td>9</td>\n",
       "      <td>14568.91</td>\n",
       "    </tr>\n",
       "    <tr>\n",
       "      <th>...</th>\n",
       "      <td>...</td>\n",
       "      <td>...</td>\n",
       "      <td>...</td>\n",
       "    </tr>\n",
       "    <tr>\n",
       "      <th>3198</th>\n",
       "      <td>1498</td>\n",
       "      <td>10</td>\n",
       "      <td>20579.36</td>\n",
       "    </tr>\n",
       "    <tr>\n",
       "      <th>3199</th>\n",
       "      <td>1499</td>\n",
       "      <td>9</td>\n",
       "      <td>1845.75</td>\n",
       "    </tr>\n",
       "    <tr>\n",
       "      <th>3200</th>\n",
       "      <td>1499</td>\n",
       "      <td>10</td>\n",
       "      <td>17788.51</td>\n",
       "    </tr>\n",
       "    <tr>\n",
       "      <th>3201</th>\n",
       "      <td>1499</td>\n",
       "      <td>11</td>\n",
       "      <td>17963.31</td>\n",
       "    </tr>\n",
       "    <tr>\n",
       "      <th>3202</th>\n",
       "      <td>1499</td>\n",
       "      <td>12</td>\n",
       "      <td>13055.58</td>\n",
       "    </tr>\n",
       "  </tbody>\n",
       "</table>\n",
       "<p>3203 rows × 3 columns</p>\n",
       "</div>"
      ],
      "text/plain": [
       "      user_id  month  quantity_mb_used\n",
       "0        1000      5           2253.49\n",
       "1        1000      6          23233.77\n",
       "2        1000      7          14003.64\n",
       "3        1000      8          14055.93\n",
       "4        1000      9          14568.91\n",
       "...       ...    ...               ...\n",
       "3198     1498     10          20579.36\n",
       "3199     1499      9           1845.75\n",
       "3200     1499     10          17788.51\n",
       "3201     1499     11          17963.31\n",
       "3202     1499     12          13055.58\n",
       "\n",
       "[3203 rows x 3 columns]"
      ]
     },
     "execution_count": 36,
     "metadata": {},
     "output_type": "execute_result"
    }
   ],
   "source": [
    "# сводная таблица с расчётом\n",
    "int_traf = internet.pivot_table(index=['user_id', 'month'],\n",
    "                                                    values='mb_used',aggfunc='sum').reset_index()\n",
    "int_traf.columns = ('user_id', 'month', 'quantity_mb_used')\n",
    "int_traf"
   ]
  },
  {
   "cell_type": "markdown",
   "metadata": {},
   "source": [
    "### помесячная выручка с каждого пользователя (вычтите бесплатный лимит из суммарного количества звонков, сообщений и интернет-трафика; остаток умножьте на значение из тарифного плана; прибавьте абонентскую плату, соответствующую тарифному плану)"
   ]
  },
  {
   "cell_type": "code",
   "execution_count": 37,
   "metadata": {},
   "outputs": [],
   "source": [
    "tariffs.columns = ['messages_included', 'mb_per_month_included', 'minutes_included',\n",
    "       'rub_monthly_fee', 'rub_per_gb', 'rub_per_message', 'rub_per_minute',\n",
    "       'tariff']"
   ]
  },
  {
   "cell_type": "code",
   "execution_count": 38,
   "metadata": {},
   "outputs": [
    {
     "data": {
      "text/plain": [
       "(3213, 5)"
      ]
     },
     "execution_count": 38,
     "metadata": {},
     "output_type": "execute_result"
    }
   ],
   "source": [
    "# объединённая таблица учёта расхода времени звонков и отправленных сообщений\n",
    "data_merge = calls_duration.merge(mes_quantity, on=('user_id', 'month'), how='outer')\n",
    "data_merge.shape"
   ]
  },
  {
   "cell_type": "code",
   "execution_count": 39,
   "metadata": {},
   "outputs": [
    {
     "data": {
      "text/plain": [
       "498"
      ]
     },
     "execution_count": 39,
     "metadata": {},
     "output_type": "execute_result"
    }
   ],
   "source": [
    "data_merge['user_id'].value_counts().count()"
   ]
  },
  {
   "cell_type": "code",
   "execution_count": 40,
   "metadata": {},
   "outputs": [
    {
     "data": {
      "text/plain": [
       "(3214, 6)"
      ]
     },
     "metadata": {},
     "output_type": "display_data"
    },
    {
     "name": "stdout",
     "output_type": "stream",
     "text": [
      "<class 'pandas.core.frame.DataFrame'>\n",
      "Int64Index: 3214 entries, 0 to 3213\n",
      "Data columns (total 13 columns):\n",
      " #   Column            Non-Null Count  Dtype  \n",
      "---  ------            --------------  -----  \n",
      " 0   user_id           3214 non-null   int64  \n",
      " 1   month             3214 non-null   int64  \n",
      " 2   count             3174 non-null   float64\n",
      " 3   dur               3174 non-null   float64\n",
      " 4   quantity_mes      2717 non-null   float64\n",
      " 5   quantity_mb_used  3203 non-null   float64\n",
      " 6   age               3214 non-null   int64  \n",
      " 7   churn_date        187 non-null    object \n",
      " 8   city              3214 non-null   object \n",
      " 9   first_name        3214 non-null   object \n",
      " 10  last_name         3214 non-null   object \n",
      " 11  reg_date          3214 non-null   object \n",
      " 12  tariff            3214 non-null   object \n",
      "dtypes: float64(4), int64(3), object(6)\n",
      "memory usage: 351.5+ KB\n"
     ]
    }
   ],
   "source": [
    "# объединённая таблица учёта расхода времени звонков, отправленных сообщений, интернет-трафика\n",
    "data_merge = data_merge.merge(int_traf, on=('user_id', 'month'), how='outer')\n",
    "display(data_merge.shape)\n",
    "# объединённая таблица учёта с добавлением информации о клиенте\n",
    "data_merge = data_merge.merge(users, on=('user_id'), how='left')\n",
    "data_merge.info()"
   ]
  },
  {
   "cell_type": "code",
   "execution_count": 41,
   "metadata": {},
   "outputs": [
    {
     "data": {
      "text/plain": [
       "498"
      ]
     },
     "execution_count": 41,
     "metadata": {},
     "output_type": "execute_result"
    }
   ],
   "source": [
    "data_merge['user_id'].value_counts().count()"
   ]
  },
  {
   "cell_type": "code",
   "execution_count": 42,
   "metadata": {},
   "outputs": [
    {
     "data": {
      "text/html": [
       "<div>\n",
       "<style scoped>\n",
       "    .dataframe tbody tr th:only-of-type {\n",
       "        vertical-align: middle;\n",
       "    }\n",
       "\n",
       "    .dataframe tbody tr th {\n",
       "        vertical-align: top;\n",
       "    }\n",
       "\n",
       "    .dataframe thead th {\n",
       "        text-align: right;\n",
       "    }\n",
       "</style>\n",
       "<table border=\"1\" class=\"dataframe\">\n",
       "  <thead>\n",
       "    <tr style=\"text-align: right;\">\n",
       "      <th></th>\n",
       "      <th>user_id</th>\n",
       "      <th>age</th>\n",
       "      <th>churn_date</th>\n",
       "      <th>city</th>\n",
       "      <th>first_name</th>\n",
       "      <th>last_name</th>\n",
       "      <th>reg_date</th>\n",
       "      <th>tariff</th>\n",
       "    </tr>\n",
       "  </thead>\n",
       "  <tbody>\n",
       "    <tr>\n",
       "      <th>128</th>\n",
       "      <td>1128</td>\n",
       "      <td>51</td>\n",
       "      <td>2018-12-23</td>\n",
       "      <td>Волжский</td>\n",
       "      <td>Ксения</td>\n",
       "      <td>Агаева</td>\n",
       "      <td>2018-12-15</td>\n",
       "      <td>ultra</td>\n",
       "    </tr>\n",
       "    <tr>\n",
       "      <th>371</th>\n",
       "      <td>1371</td>\n",
       "      <td>50</td>\n",
       "      <td>2018-12-30</td>\n",
       "      <td>Омск</td>\n",
       "      <td>Ириней</td>\n",
       "      <td>Трофимов</td>\n",
       "      <td>2018-12-25</td>\n",
       "      <td>smart</td>\n",
       "    </tr>\n",
       "  </tbody>\n",
       "</table>\n",
       "</div>"
      ],
      "text/plain": [
       "     user_id  age  churn_date      city first_name last_name    reg_date  \\\n",
       "128     1128   51  2018-12-23  Волжский     Ксения    Агаева  2018-12-15   \n",
       "371     1371   50  2018-12-30      Омск     Ириней  Трофимов  2018-12-25   \n",
       "\n",
       "    tariff  \n",
       "128  ultra  \n",
       "371  smart  "
      ]
     },
     "execution_count": 42,
     "metadata": {},
     "output_type": "execute_result"
    }
   ],
   "source": [
    "users[users['user_id'].isin(data_merge['user_id'].unique()) == False]"
   ]
  },
  {
   "cell_type": "markdown",
   "metadata": {},
   "source": [
    "Они почти сразу прекратили пользоваться тарифом, то есть их данные не отражаются на общем результате. Предлагаю оставить как есть."
   ]
  },
  {
   "cell_type": "code",
   "execution_count": 43,
   "metadata": {},
   "outputs": [
    {
     "name": "stdout",
     "output_type": "stream",
     "text": [
      "<class 'pandas.core.frame.DataFrame'>\n",
      "Int64Index: 3214 entries, 0 to 3213\n",
      "Data columns (total 20 columns):\n",
      " #   Column                 Non-Null Count  Dtype  \n",
      "---  ------                 --------------  -----  \n",
      " 0   user_id                3214 non-null   int64  \n",
      " 1   month                  3214 non-null   int64  \n",
      " 2   count                  3174 non-null   float64\n",
      " 3   dur                    3174 non-null   float64\n",
      " 4   quantity_mes           2717 non-null   float64\n",
      " 5   quantity_mb_used       3203 non-null   float64\n",
      " 6   age                    3214 non-null   int64  \n",
      " 7   churn_date             187 non-null    object \n",
      " 8   city                   3214 non-null   object \n",
      " 9   first_name             3214 non-null   object \n",
      " 10  last_name              3214 non-null   object \n",
      " 11  reg_date               3214 non-null   object \n",
      " 12  tariff                 3214 non-null   object \n",
      " 13  messages_included      3214 non-null   int64  \n",
      " 14  mb_per_month_included  3214 non-null   int64  \n",
      " 15  minutes_included       3214 non-null   int64  \n",
      " 16  rub_monthly_fee        3214 non-null   int64  \n",
      " 17  rub_per_gb             3214 non-null   int64  \n",
      " 18  rub_per_message        3214 non-null   int64  \n",
      " 19  rub_per_minute         3214 non-null   int64  \n",
      "dtypes: float64(4), int64(10), object(6)\n",
      "memory usage: 527.3+ KB\n"
     ]
    }
   ],
   "source": [
    "# объединённая таблица всех данных, включая тариф\n",
    "data_merge = data_merge.merge(tariffs, on=('tariff'), how='left')\n",
    "data_merge.info()"
   ]
  },
  {
   "cell_type": "code",
   "execution_count": 44,
   "metadata": {},
   "outputs": [
    {
     "data": {
      "text/plain": [
       "user_id                     0\n",
       "month                       0\n",
       "count                      40\n",
       "dur                        40\n",
       "quantity_mes              497\n",
       "quantity_mb_used           11\n",
       "age                         0\n",
       "churn_date               3027\n",
       "city                        0\n",
       "first_name                  0\n",
       "last_name                   0\n",
       "reg_date                    0\n",
       "tariff                      0\n",
       "messages_included           0\n",
       "mb_per_month_included       0\n",
       "minutes_included            0\n",
       "rub_monthly_fee             0\n",
       "rub_per_gb                  0\n",
       "rub_per_message             0\n",
       "rub_per_minute              0\n",
       "dtype: int64"
      ]
     },
     "execution_count": 44,
     "metadata": {},
     "output_type": "execute_result"
    }
   ],
   "source": [
    "# проверка пропусков\n",
    "data_merge.isna().sum()"
   ]
  },
  {
   "cell_type": "code",
   "execution_count": 45,
   "metadata": {},
   "outputs": [],
   "source": [
    "# заполнение пропусков значением 0, так как абонент мог не пользоваться одним из видов услуг\n",
    "# замена типа данных на целочисленный\n",
    "data_merge['count'] = data_merge['count'].fillna(0).astype(int)\n",
    "data_merge['dur'] = data_merge['dur'].fillna(0).astype(int)\n",
    "data_merge['quantity_mes'] = data_merge['quantity_mes'].fillna(0).astype(int)\n",
    "data_merge['quantity_mb_used'] = data_merge['quantity_mb_used'].fillna(0).astype(int)\n",
    "data_merge['churn_date'] = data_merge['churn_date'].fillna(0)\n",
    "data_merge['quantity_mes'] = data_merge['quantity_mes'].fillna(0).astype(int)"
   ]
  },
  {
   "cell_type": "code",
   "execution_count": 46,
   "metadata": {},
   "outputs": [],
   "source": [
    "data_merge['churn_date'] = pd.to_datetime(data_merge['churn_date'], format = '%Y-%m-%d')\n",
    "data_merge['reg_date'] = pd.to_datetime(data_merge['reg_date'], format = '%Y-%m-%d')"
   ]
  },
  {
   "cell_type": "code",
   "execution_count": 47,
   "metadata": {},
   "outputs": [
    {
     "name": "stdout",
     "output_type": "stream",
     "text": [
      "<class 'pandas.core.frame.DataFrame'>\n",
      "Int64Index: 3214 entries, 0 to 3213\n",
      "Data columns (total 20 columns):\n",
      " #   Column                 Non-Null Count  Dtype         \n",
      "---  ------                 --------------  -----         \n",
      " 0   user_id                3214 non-null   int64         \n",
      " 1   month                  3214 non-null   int64         \n",
      " 2   count                  3214 non-null   int64         \n",
      " 3   dur                    3214 non-null   int64         \n",
      " 4   quantity_mes           3214 non-null   int64         \n",
      " 5   quantity_mb_used       3214 non-null   int64         \n",
      " 6   age                    3214 non-null   int64         \n",
      " 7   churn_date             3214 non-null   datetime64[ns]\n",
      " 8   city                   3214 non-null   object        \n",
      " 9   first_name             3214 non-null   object        \n",
      " 10  last_name              3214 non-null   object        \n",
      " 11  reg_date               3214 non-null   datetime64[ns]\n",
      " 12  tariff                 3214 non-null   object        \n",
      " 13  messages_included      3214 non-null   int64         \n",
      " 14  mb_per_month_included  3214 non-null   int64         \n",
      " 15  minutes_included       3214 non-null   int64         \n",
      " 16  rub_monthly_fee        3214 non-null   int64         \n",
      " 17  rub_per_gb             3214 non-null   int64         \n",
      " 18  rub_per_message        3214 non-null   int64         \n",
      " 19  rub_per_minute         3214 non-null   int64         \n",
      "dtypes: datetime64[ns](2), int64(14), object(4)\n",
      "memory usage: 527.3+ KB\n"
     ]
    }
   ],
   "source": [
    "data_merge.info()"
   ]
  },
  {
   "cell_type": "code",
   "execution_count": 48,
   "metadata": {},
   "outputs": [],
   "source": [
    "# функция для выполнения расчёта выручки с последующим добавлением соответствующего столбца profit в датафрейм\n",
    "def revenue_calculation(df):\n",
    "    df['profit'] = df['rub_monthly_fee']\n",
    "    if df['dur'] > df['minutes_included']:\n",
    "        df['profit'] += (df['dur'] - df['minutes_included']) * df['rub_per_minute']\n",
    "    if df['quantity_mes'] > df['messages_included']:\n",
    "        df['profit'] += (df['quantity_mes'] - df['messages_included']) * df['rub_per_message']\n",
    "    if df['quantity_mb_used'] > df['mb_per_month_included']:\n",
    "        df['profit'] += np.ceil(((df['quantity_mb_used'] - df['mb_per_month_included']))/ 1024) * (df['rub_per_gb'] )    \n",
    "    return df   "
   ]
  },
  {
   "cell_type": "code",
   "execution_count": 49,
   "metadata": {},
   "outputs": [
    {
     "data": {
      "text/html": [
       "<div>\n",
       "<style scoped>\n",
       "    .dataframe tbody tr th:only-of-type {\n",
       "        vertical-align: middle;\n",
       "    }\n",
       "\n",
       "    .dataframe tbody tr th {\n",
       "        vertical-align: top;\n",
       "    }\n",
       "\n",
       "    .dataframe thead th {\n",
       "        text-align: right;\n",
       "    }\n",
       "</style>\n",
       "<table border=\"1\" class=\"dataframe\">\n",
       "  <thead>\n",
       "    <tr style=\"text-align: right;\">\n",
       "      <th></th>\n",
       "      <th>user_id</th>\n",
       "      <th>month</th>\n",
       "      <th>count</th>\n",
       "      <th>dur</th>\n",
       "      <th>quantity_mes</th>\n",
       "      <th>quantity_mb_used</th>\n",
       "      <th>age</th>\n",
       "      <th>churn_date</th>\n",
       "      <th>city</th>\n",
       "      <th>first_name</th>\n",
       "      <th>...</th>\n",
       "      <th>reg_date</th>\n",
       "      <th>tariff</th>\n",
       "      <th>messages_included</th>\n",
       "      <th>mb_per_month_included</th>\n",
       "      <th>minutes_included</th>\n",
       "      <th>rub_monthly_fee</th>\n",
       "      <th>rub_per_gb</th>\n",
       "      <th>rub_per_message</th>\n",
       "      <th>rub_per_minute</th>\n",
       "      <th>profit</th>\n",
       "    </tr>\n",
       "  </thead>\n",
       "  <tbody>\n",
       "    <tr>\n",
       "      <th>0</th>\n",
       "      <td>1000</td>\n",
       "      <td>5</td>\n",
       "      <td>22</td>\n",
       "      <td>159</td>\n",
       "      <td>22</td>\n",
       "      <td>2253</td>\n",
       "      <td>52</td>\n",
       "      <td>1970-01-01</td>\n",
       "      <td>Краснодар</td>\n",
       "      <td>Рафаил</td>\n",
       "      <td>...</td>\n",
       "      <td>2018-05-25</td>\n",
       "      <td>ultra</td>\n",
       "      <td>1000</td>\n",
       "      <td>30720</td>\n",
       "      <td>3000</td>\n",
       "      <td>1950</td>\n",
       "      <td>150</td>\n",
       "      <td>1</td>\n",
       "      <td>1</td>\n",
       "      <td>1950</td>\n",
       "    </tr>\n",
       "    <tr>\n",
       "      <th>1</th>\n",
       "      <td>1000</td>\n",
       "      <td>6</td>\n",
       "      <td>43</td>\n",
       "      <td>172</td>\n",
       "      <td>60</td>\n",
       "      <td>23233</td>\n",
       "      <td>52</td>\n",
       "      <td>1970-01-01</td>\n",
       "      <td>Краснодар</td>\n",
       "      <td>Рафаил</td>\n",
       "      <td>...</td>\n",
       "      <td>2018-05-25</td>\n",
       "      <td>ultra</td>\n",
       "      <td>1000</td>\n",
       "      <td>30720</td>\n",
       "      <td>3000</td>\n",
       "      <td>1950</td>\n",
       "      <td>150</td>\n",
       "      <td>1</td>\n",
       "      <td>1</td>\n",
       "      <td>1950</td>\n",
       "    </tr>\n",
       "    <tr>\n",
       "      <th>2</th>\n",
       "      <td>1000</td>\n",
       "      <td>7</td>\n",
       "      <td>47</td>\n",
       "      <td>340</td>\n",
       "      <td>75</td>\n",
       "      <td>14003</td>\n",
       "      <td>52</td>\n",
       "      <td>1970-01-01</td>\n",
       "      <td>Краснодар</td>\n",
       "      <td>Рафаил</td>\n",
       "      <td>...</td>\n",
       "      <td>2018-05-25</td>\n",
       "      <td>ultra</td>\n",
       "      <td>1000</td>\n",
       "      <td>30720</td>\n",
       "      <td>3000</td>\n",
       "      <td>1950</td>\n",
       "      <td>150</td>\n",
       "      <td>1</td>\n",
       "      <td>1</td>\n",
       "      <td>1950</td>\n",
       "    </tr>\n",
       "    <tr>\n",
       "      <th>3</th>\n",
       "      <td>1000</td>\n",
       "      <td>8</td>\n",
       "      <td>52</td>\n",
       "      <td>408</td>\n",
       "      <td>81</td>\n",
       "      <td>14055</td>\n",
       "      <td>52</td>\n",
       "      <td>1970-01-01</td>\n",
       "      <td>Краснодар</td>\n",
       "      <td>Рафаил</td>\n",
       "      <td>...</td>\n",
       "      <td>2018-05-25</td>\n",
       "      <td>ultra</td>\n",
       "      <td>1000</td>\n",
       "      <td>30720</td>\n",
       "      <td>3000</td>\n",
       "      <td>1950</td>\n",
       "      <td>150</td>\n",
       "      <td>1</td>\n",
       "      <td>1</td>\n",
       "      <td>1950</td>\n",
       "    </tr>\n",
       "    <tr>\n",
       "      <th>4</th>\n",
       "      <td>1000</td>\n",
       "      <td>9</td>\n",
       "      <td>58</td>\n",
       "      <td>466</td>\n",
       "      <td>57</td>\n",
       "      <td>14568</td>\n",
       "      <td>52</td>\n",
       "      <td>1970-01-01</td>\n",
       "      <td>Краснодар</td>\n",
       "      <td>Рафаил</td>\n",
       "      <td>...</td>\n",
       "      <td>2018-05-25</td>\n",
       "      <td>ultra</td>\n",
       "      <td>1000</td>\n",
       "      <td>30720</td>\n",
       "      <td>3000</td>\n",
       "      <td>1950</td>\n",
       "      <td>150</td>\n",
       "      <td>1</td>\n",
       "      <td>1</td>\n",
       "      <td>1950</td>\n",
       "    </tr>\n",
       "    <tr>\n",
       "      <th>...</th>\n",
       "      <td>...</td>\n",
       "      <td>...</td>\n",
       "      <td>...</td>\n",
       "      <td>...</td>\n",
       "      <td>...</td>\n",
       "      <td>...</td>\n",
       "      <td>...</td>\n",
       "      <td>...</td>\n",
       "      <td>...</td>\n",
       "      <td>...</td>\n",
       "      <td>...</td>\n",
       "      <td>...</td>\n",
       "      <td>...</td>\n",
       "      <td>...</td>\n",
       "      <td>...</td>\n",
       "      <td>...</td>\n",
       "      <td>...</td>\n",
       "      <td>...</td>\n",
       "      <td>...</td>\n",
       "      <td>...</td>\n",
       "      <td>...</td>\n",
       "    </tr>\n",
       "    <tr>\n",
       "      <th>3209</th>\n",
       "      <td>1489</td>\n",
       "      <td>9</td>\n",
       "      <td>0</td>\n",
       "      <td>0</td>\n",
       "      <td>32</td>\n",
       "      <td>17206</td>\n",
       "      <td>35</td>\n",
       "      <td>1970-01-01</td>\n",
       "      <td>Санкт-Петербург</td>\n",
       "      <td>Павел</td>\n",
       "      <td>...</td>\n",
       "      <td>2018-08-15</td>\n",
       "      <td>smart</td>\n",
       "      <td>50</td>\n",
       "      <td>15360</td>\n",
       "      <td>500</td>\n",
       "      <td>550</td>\n",
       "      <td>200</td>\n",
       "      <td>3</td>\n",
       "      <td>3</td>\n",
       "      <td>950</td>\n",
       "    </tr>\n",
       "    <tr>\n",
       "      <th>3210</th>\n",
       "      <td>1489</td>\n",
       "      <td>10</td>\n",
       "      <td>0</td>\n",
       "      <td>0</td>\n",
       "      <td>21</td>\n",
       "      <td>19559</td>\n",
       "      <td>35</td>\n",
       "      <td>1970-01-01</td>\n",
       "      <td>Санкт-Петербург</td>\n",
       "      <td>Павел</td>\n",
       "      <td>...</td>\n",
       "      <td>2018-08-15</td>\n",
       "      <td>smart</td>\n",
       "      <td>50</td>\n",
       "      <td>15360</td>\n",
       "      <td>500</td>\n",
       "      <td>550</td>\n",
       "      <td>200</td>\n",
       "      <td>3</td>\n",
       "      <td>3</td>\n",
       "      <td>1550</td>\n",
       "    </tr>\n",
       "    <tr>\n",
       "      <th>3211</th>\n",
       "      <td>1489</td>\n",
       "      <td>11</td>\n",
       "      <td>0</td>\n",
       "      <td>0</td>\n",
       "      <td>20</td>\n",
       "      <td>17491</td>\n",
       "      <td>35</td>\n",
       "      <td>1970-01-01</td>\n",
       "      <td>Санкт-Петербург</td>\n",
       "      <td>Павел</td>\n",
       "      <td>...</td>\n",
       "      <td>2018-08-15</td>\n",
       "      <td>smart</td>\n",
       "      <td>50</td>\n",
       "      <td>15360</td>\n",
       "      <td>500</td>\n",
       "      <td>550</td>\n",
       "      <td>200</td>\n",
       "      <td>3</td>\n",
       "      <td>3</td>\n",
       "      <td>1150</td>\n",
       "    </tr>\n",
       "    <tr>\n",
       "      <th>3212</th>\n",
       "      <td>1489</td>\n",
       "      <td>12</td>\n",
       "      <td>0</td>\n",
       "      <td>0</td>\n",
       "      <td>35</td>\n",
       "      <td>17322</td>\n",
       "      <td>35</td>\n",
       "      <td>1970-01-01</td>\n",
       "      <td>Санкт-Петербург</td>\n",
       "      <td>Павел</td>\n",
       "      <td>...</td>\n",
       "      <td>2018-08-15</td>\n",
       "      <td>smart</td>\n",
       "      <td>50</td>\n",
       "      <td>15360</td>\n",
       "      <td>500</td>\n",
       "      <td>550</td>\n",
       "      <td>200</td>\n",
       "      <td>3</td>\n",
       "      <td>3</td>\n",
       "      <td>950</td>\n",
       "    </tr>\n",
       "    <tr>\n",
       "      <th>3213</th>\n",
       "      <td>1476</td>\n",
       "      <td>4</td>\n",
       "      <td>0</td>\n",
       "      <td>0</td>\n",
       "      <td>0</td>\n",
       "      <td>530</td>\n",
       "      <td>50</td>\n",
       "      <td>1970-01-01</td>\n",
       "      <td>Москва</td>\n",
       "      <td>Валентина</td>\n",
       "      <td>...</td>\n",
       "      <td>2018-04-30</td>\n",
       "      <td>ultra</td>\n",
       "      <td>1000</td>\n",
       "      <td>30720</td>\n",
       "      <td>3000</td>\n",
       "      <td>1950</td>\n",
       "      <td>150</td>\n",
       "      <td>1</td>\n",
       "      <td>1</td>\n",
       "      <td>1950</td>\n",
       "    </tr>\n",
       "  </tbody>\n",
       "</table>\n",
       "<p>3214 rows × 21 columns</p>\n",
       "</div>"
      ],
      "text/plain": [
       "      user_id  month  count  dur  quantity_mes  quantity_mb_used  age  \\\n",
       "0        1000      5     22  159            22              2253   52   \n",
       "1        1000      6     43  172            60             23233   52   \n",
       "2        1000      7     47  340            75             14003   52   \n",
       "3        1000      8     52  408            81             14055   52   \n",
       "4        1000      9     58  466            57             14568   52   \n",
       "...       ...    ...    ...  ...           ...               ...  ...   \n",
       "3209     1489      9      0    0            32             17206   35   \n",
       "3210     1489     10      0    0            21             19559   35   \n",
       "3211     1489     11      0    0            20             17491   35   \n",
       "3212     1489     12      0    0            35             17322   35   \n",
       "3213     1476      4      0    0             0               530   50   \n",
       "\n",
       "     churn_date             city first_name  ...   reg_date tariff  \\\n",
       "0    1970-01-01        Краснодар     Рафаил  ... 2018-05-25  ultra   \n",
       "1    1970-01-01        Краснодар     Рафаил  ... 2018-05-25  ultra   \n",
       "2    1970-01-01        Краснодар     Рафаил  ... 2018-05-25  ultra   \n",
       "3    1970-01-01        Краснодар     Рафаил  ... 2018-05-25  ultra   \n",
       "4    1970-01-01        Краснодар     Рафаил  ... 2018-05-25  ultra   \n",
       "...         ...              ...        ...  ...        ...    ...   \n",
       "3209 1970-01-01  Санкт-Петербург      Павел  ... 2018-08-15  smart   \n",
       "3210 1970-01-01  Санкт-Петербург      Павел  ... 2018-08-15  smart   \n",
       "3211 1970-01-01  Санкт-Петербург      Павел  ... 2018-08-15  smart   \n",
       "3212 1970-01-01  Санкт-Петербург      Павел  ... 2018-08-15  smart   \n",
       "3213 1970-01-01           Москва  Валентина  ... 2018-04-30  ultra   \n",
       "\n",
       "     messages_included  mb_per_month_included  minutes_included  \\\n",
       "0                 1000                  30720              3000   \n",
       "1                 1000                  30720              3000   \n",
       "2                 1000                  30720              3000   \n",
       "3                 1000                  30720              3000   \n",
       "4                 1000                  30720              3000   \n",
       "...                ...                    ...               ...   \n",
       "3209                50                  15360               500   \n",
       "3210                50                  15360               500   \n",
       "3211                50                  15360               500   \n",
       "3212                50                  15360               500   \n",
       "3213              1000                  30720              3000   \n",
       "\n",
       "      rub_monthly_fee  rub_per_gb  rub_per_message  rub_per_minute  profit  \n",
       "0                1950         150                1               1    1950  \n",
       "1                1950         150                1               1    1950  \n",
       "2                1950         150                1               1    1950  \n",
       "3                1950         150                1               1    1950  \n",
       "4                1950         150                1               1    1950  \n",
       "...               ...         ...              ...             ...     ...  \n",
       "3209              550         200                3               3     950  \n",
       "3210              550         200                3               3    1550  \n",
       "3211              550         200                3               3    1150  \n",
       "3212              550         200                3               3     950  \n",
       "3213             1950         150                1               1    1950  \n",
       "\n",
       "[3214 rows x 21 columns]"
      ]
     },
     "execution_count": 49,
     "metadata": {},
     "output_type": "execute_result"
    }
   ],
   "source": [
    "data_merge = data_merge.apply(revenue_calculation, axis=1)\n",
    "data_merge['profit'] = data_merge['profit'].astype(int)\n",
    "data_merge"
   ]
  },
  {
   "cell_type": "markdown",
   "metadata": {},
   "source": [
    "Расчёты выполены."
   ]
  },
  {
   "cell_type": "markdown",
   "metadata": {},
   "source": [
    "**Блок проверки расчетов**"
   ]
  },
  {
   "cell_type": "code",
   "execution_count": 50,
   "metadata": {},
   "outputs": [
    {
     "data": {
      "text/html": [
       "<div>\n",
       "<style scoped>\n",
       "    .dataframe tbody tr th:only-of-type {\n",
       "        vertical-align: middle;\n",
       "    }\n",
       "\n",
       "    .dataframe tbody tr th {\n",
       "        vertical-align: top;\n",
       "    }\n",
       "\n",
       "    .dataframe thead th {\n",
       "        text-align: right;\n",
       "    }\n",
       "</style>\n",
       "<table border=\"1\" class=\"dataframe\">\n",
       "  <thead>\n",
       "    <tr style=\"text-align: right;\">\n",
       "      <th></th>\n",
       "      <th>tariff</th>\n",
       "      <th>user_id</th>\n",
       "      <th>profit</th>\n",
       "    </tr>\n",
       "  </thead>\n",
       "  <tbody>\n",
       "    <tr>\n",
       "      <th>0</th>\n",
       "      <td>smart</td>\n",
       "      <td>2229</td>\n",
       "      <td>2875351</td>\n",
       "    </tr>\n",
       "    <tr>\n",
       "      <th>1</th>\n",
       "      <td>ultra</td>\n",
       "      <td>985</td>\n",
       "      <td>2039100</td>\n",
       "    </tr>\n",
       "  </tbody>\n",
       "</table>\n",
       "</div>"
      ],
      "text/plain": [
       "  tariff  user_id   profit\n",
       "0  smart     2229  2875351\n",
       "1  ultra      985  2039100"
      ]
     },
     "execution_count": 50,
     "metadata": {},
     "output_type": "execute_result"
    }
   ],
   "source": [
    "data_merge.groupby('user_id')['profit'].sum()\n",
    "data_merge.groupby('tariff').agg({'user_id':'count', 'profit':'sum'}).reset_index()"
   ]
  },
  {
   "cell_type": "code",
   "execution_count": 51,
   "metadata": {},
   "outputs": [
    {
     "data": {
      "text/plain": [
       "4914451"
      ]
     },
     "execution_count": 51,
     "metadata": {},
     "output_type": "execute_result"
    }
   ],
   "source": [
    "data_merge['profit'].sum()"
   ]
  },
  {
   "cell_type": "markdown",
   "metadata": {},
   "source": [
    "## Анализ данных\n",
    "\n",
    "Задачи: опиcание поведения клиентов оператора, исходя из выборки. Сколько минут разговора, сколько сообщений и какой объём интернет-трафика требуется пользователям каждого тарифа в месяц? Расчёт среднего количества (mean), дисперсии (variance) и стандартного отклонения (standard deviation). Построение гистограмм и описание распределения."
   ]
  },
  {
   "cell_type": "markdown",
   "metadata": {},
   "source": [
    "### Определю какой тарифный план предпочитается"
   ]
  },
  {
   "cell_type": "code",
   "execution_count": 53,
   "metadata": {},
   "outputs": [
    {
     "name": "stdout",
     "output_type": "stream",
     "text": [
      "351\n"
     ]
    }
   ],
   "source": [
    "quanity_of_smart = users.loc[users.loc[:,'tariff'] == 'smart']['tariff'].count()\n",
    "print(quanity_of_smart)"
   ]
  },
  {
   "cell_type": "code",
   "execution_count": 54,
   "metadata": {},
   "outputs": [
    {
     "name": "stdout",
     "output_type": "stream",
     "text": [
      "Доля лиц применяющих тариф Смарт:70.2%\n",
      "Доля лиц применяющих тариф Ультра:29.8%\n"
     ]
    }
   ],
   "source": [
    "print('Доля лиц применяющих тариф Смарт:{:.1%}'.format(quanity_of_smart/len(users['tariff'])))\n",
    "print('Доля лиц применяющих тариф Ультра:{:.1%}'.format(1-(quanity_of_smart/len(users['tariff']))))"
   ]
  },
  {
   "cell_type": "code",
   "execution_count": 55,
   "metadata": {},
   "outputs": [
    {
     "data": {
      "image/png": "[encoded data removed]",
      "text/plain": [
       "<Figure size 432x288 with 1 Axes>"
      ]
     },
     "metadata": {},
     "output_type": "display_data"
    }
   ],
   "source": [
    "# визуализирую \n",
    "df_tariff = data_merge.groupby('tariff')['tariff'].count().plot.pie();\n",
    "plt.title('Предпочтение тарифа', fontsize=14);"
   ]
  },
  {
   "cell_type": "markdown",
   "metadata": {},
   "source": [
    "**Абоненты предпочитают Смарт**\n",
    "\n",
    "Доля лиц применяющих тариф Смарт:70.2%\n",
    "\n",
    "Доля лиц применяющих тариф Ультра:29.8%"
   ]
  },
  {
   "cell_type": "markdown",
   "metadata": {},
   "source": [
    "### Создам рабочие датафреймы"
   ]
  },
  {
   "cell_type": "code",
   "execution_count": 56,
   "metadata": {},
   "outputs": [
    {
     "name": "stdout",
     "output_type": "stream",
     "text": [
      "<class 'pandas.core.frame.DataFrame'>\n",
      "Int64Index: 2229 entries, 8 to 3212\n",
      "Data columns (total 21 columns):\n",
      " #   Column                 Non-Null Count  Dtype         \n",
      "---  ------                 --------------  -----         \n",
      " 0   user_id                2229 non-null   int64         \n",
      " 1   month                  2229 non-null   int64         \n",
      " 2   count                  2229 non-null   int64         \n",
      " 3   dur                    2229 non-null   int64         \n",
      " 4   quantity_mes           2229 non-null   int64         \n",
      " 5   quantity_mb_used       2229 non-null   int64         \n",
      " 6   age                    2229 non-null   int64         \n",
      " 7   churn_date             2229 non-null   datetime64[ns]\n",
      " 8   city                   2229 non-null   object        \n",
      " 9   first_name             2229 non-null   object        \n",
      " 10  last_name              2229 non-null   object        \n",
      " 11  reg_date               2229 non-null   datetime64[ns]\n",
      " 12  tariff                 2229 non-null   object        \n",
      " 13  messages_included      2229 non-null   int64         \n",
      " 14  mb_per_month_included  2229 non-null   int64         \n",
      " 15  minutes_included       2229 non-null   int64         \n",
      " 16  rub_monthly_fee        2229 non-null   int64         \n",
      " 17  rub_per_gb             2229 non-null   int64         \n",
      " 18  rub_per_message        2229 non-null   int64         \n",
      " 19  rub_per_minute         2229 non-null   int64         \n",
      " 20  profit                 2229 non-null   int64         \n",
      "dtypes: datetime64[ns](2), int64(15), object(4)\n",
      "memory usage: 383.1+ KB\n"
     ]
    }
   ],
   "source": [
    "# датафрейм для пользователей тарифа smart\n",
    "df_smart = data_merge.query('tariff == \"smart\"')\n",
    "df_smart.info()"
   ]
  },
  {
   "cell_type": "code",
   "execution_count": 57,
   "metadata": {},
   "outputs": [
    {
     "name": "stdout",
     "output_type": "stream",
     "text": [
      "Средняя выручка на тарифе Смарт: 1289\n"
     ]
    }
   ],
   "source": [
    "print('Средняя выручка на тарифе Смарт:', int(df_smart['profit'].mean()))"
   ]
  },
  {
   "cell_type": "code",
   "execution_count": 58,
   "metadata": {},
   "outputs": [
    {
     "data": {
      "text/plain": [
       "city\n",
       "Оренбург            2304\n",
       "Воронеж             2212\n",
       "Череповец           2162\n",
       "Чебоксары           1926\n",
       "Нижний Новгород     1853\n",
       "Мурманск            1837\n",
       "Саранск             1722\n",
       "Севастополь         1693\n",
       "Новосибирск         1640\n",
       "Красноярск          1617\n",
       "Хабаровск           1602\n",
       "Вологда             1553\n",
       "Якутск              1552\n",
       "Челябинск           1548\n",
       "Нижний Тагил        1543\n",
       "Тула                1532\n",
       "Ижевск              1525\n",
       "Киров               1514\n",
       "Сочи                1504\n",
       "Курск               1462\n",
       "Санкт-Петербург     1458\n",
       "Улан-Удэ            1443\n",
       "Набережные Челны    1422\n",
       "Саратов             1410\n",
       "Ярославль           1404\n",
       "Кемерово            1365\n",
       "Пермь               1363\n",
       "Липецк              1342\n",
       "Уфа                 1340\n",
       "Петрозаводск        1336\n",
       "Астрахань           1299\n",
       "Тольятти            1297\n",
       "Архангельск         1296\n",
       "Владикавказ         1283\n",
       "Грозный             1273\n",
       "Ульяновск           1249\n",
       "Ростов-на-Дону      1244\n",
       "Москва              1239\n",
       "Екатеринбург        1236\n",
       "Самара              1231\n",
       "Владивосток         1229\n",
       "Махачкала           1223\n",
       "Ставрополь          1218\n",
       "Балашиха            1209\n",
       "Стерлитамак         1206\n",
       "Чита                1204\n",
       "Казань              1192\n",
       "Омск                1188\n",
       "Рязань              1183\n",
       "Пенза               1177\n",
       "Name: profit, dtype: int64"
      ]
     },
     "execution_count": 58,
     "metadata": {},
     "output_type": "execute_result"
    }
   ],
   "source": [
    "city_profit_smart = df_smart.groupby('city')['profit'].mean().astype(int).sort_values(ascending = False)\n",
    "city_profit_smart.head(50)"
   ]
  },
  {
   "cell_type": "code",
   "execution_count": 59,
   "metadata": {},
   "outputs": [
    {
     "data": {
      "text/plain": [
       "count      72.000000\n",
       "mean     1288.305556\n",
       "std       355.684131\n",
       "min       593.000000\n",
       "25%      1085.750000\n",
       "50%      1246.500000\n",
       "75%      1506.500000\n",
       "max      2304.000000\n",
       "Name: profit, dtype: float64"
      ]
     },
     "execution_count": 59,
     "metadata": {},
     "output_type": "execute_result"
    }
   ],
   "source": [
    "city_profit_smart.describe()"
   ]
  },
  {
   "cell_type": "code",
   "execution_count": 60,
   "metadata": {},
   "outputs": [
    {
     "name": "stdout",
     "output_type": "stream",
     "text": [
      "<class 'pandas.core.frame.DataFrame'>\n",
      "Int64Index: 985 entries, 0 to 3213\n",
      "Data columns (total 21 columns):\n",
      " #   Column                 Non-Null Count  Dtype         \n",
      "---  ------                 --------------  -----         \n",
      " 0   user_id                985 non-null    int64         \n",
      " 1   month                  985 non-null    int64         \n",
      " 2   count                  985 non-null    int64         \n",
      " 3   dur                    985 non-null    int64         \n",
      " 4   quantity_mes           985 non-null    int64         \n",
      " 5   quantity_mb_used       985 non-null    int64         \n",
      " 6   age                    985 non-null    int64         \n",
      " 7   churn_date             985 non-null    datetime64[ns]\n",
      " 8   city                   985 non-null    object        \n",
      " 9   first_name             985 non-null    object        \n",
      " 10  last_name              985 non-null    object        \n",
      " 11  reg_date               985 non-null    datetime64[ns]\n",
      " 12  tariff                 985 non-null    object        \n",
      " 13  messages_included      985 non-null    int64         \n",
      " 14  mb_per_month_included  985 non-null    int64         \n",
      " 15  minutes_included       985 non-null    int64         \n",
      " 16  rub_monthly_fee        985 non-null    int64         \n",
      " 17  rub_per_gb             985 non-null    int64         \n",
      " 18  rub_per_message        985 non-null    int64         \n",
      " 19  rub_per_minute         985 non-null    int64         \n",
      " 20  profit                 985 non-null    int64         \n",
      "dtypes: datetime64[ns](2), int64(15), object(4)\n",
      "memory usage: 169.3+ KB\n"
     ]
    }
   ],
   "source": [
    "# датафрейм для пользователей тарифа ultra\n",
    "df_ultra = data_merge.query('tariff == \"ultra\"')\n",
    "df_ultra.info()"
   ]
  },
  {
   "cell_type": "code",
   "execution_count": 61,
   "metadata": {},
   "outputs": [
    {
     "data": {
      "text/html": [
       "<div>\n",
       "<style scoped>\n",
       "    .dataframe tbody tr th:only-of-type {\n",
       "        vertical-align: middle;\n",
       "    }\n",
       "\n",
       "    .dataframe tbody tr th {\n",
       "        vertical-align: top;\n",
       "    }\n",
       "\n",
       "    .dataframe thead th {\n",
       "        text-align: right;\n",
       "    }\n",
       "</style>\n",
       "<table border=\"1\" class=\"dataframe\">\n",
       "  <thead>\n",
       "    <tr style=\"text-align: right;\">\n",
       "      <th></th>\n",
       "      <th>user_id</th>\n",
       "      <th>month</th>\n",
       "      <th>count</th>\n",
       "      <th>dur</th>\n",
       "      <th>quantity_mes</th>\n",
       "      <th>quantity_mb_used</th>\n",
       "      <th>age</th>\n",
       "      <th>churn_date</th>\n",
       "      <th>city</th>\n",
       "      <th>first_name</th>\n",
       "      <th>...</th>\n",
       "      <th>reg_date</th>\n",
       "      <th>tariff</th>\n",
       "      <th>messages_included</th>\n",
       "      <th>mb_per_month_included</th>\n",
       "      <th>minutes_included</th>\n",
       "      <th>rub_monthly_fee</th>\n",
       "      <th>rub_per_gb</th>\n",
       "      <th>rub_per_message</th>\n",
       "      <th>rub_per_minute</th>\n",
       "      <th>profit</th>\n",
       "    </tr>\n",
       "  </thead>\n",
       "  <tbody>\n",
       "    <tr>\n",
       "      <th>0</th>\n",
       "      <td>1000</td>\n",
       "      <td>5</td>\n",
       "      <td>22</td>\n",
       "      <td>159</td>\n",
       "      <td>22</td>\n",
       "      <td>2253</td>\n",
       "      <td>52</td>\n",
       "      <td>1970-01-01</td>\n",
       "      <td>Краснодар</td>\n",
       "      <td>Рафаил</td>\n",
       "      <td>...</td>\n",
       "      <td>2018-05-25</td>\n",
       "      <td>ultra</td>\n",
       "      <td>1000</td>\n",
       "      <td>30720</td>\n",
       "      <td>3000</td>\n",
       "      <td>1950</td>\n",
       "      <td>150</td>\n",
       "      <td>1</td>\n",
       "      <td>1</td>\n",
       "      <td>1950</td>\n",
       "    </tr>\n",
       "    <tr>\n",
       "      <th>1</th>\n",
       "      <td>1000</td>\n",
       "      <td>6</td>\n",
       "      <td>43</td>\n",
       "      <td>172</td>\n",
       "      <td>60</td>\n",
       "      <td>23233</td>\n",
       "      <td>52</td>\n",
       "      <td>1970-01-01</td>\n",
       "      <td>Краснодар</td>\n",
       "      <td>Рафаил</td>\n",
       "      <td>...</td>\n",
       "      <td>2018-05-25</td>\n",
       "      <td>ultra</td>\n",
       "      <td>1000</td>\n",
       "      <td>30720</td>\n",
       "      <td>3000</td>\n",
       "      <td>1950</td>\n",
       "      <td>150</td>\n",
       "      <td>1</td>\n",
       "      <td>1</td>\n",
       "      <td>1950</td>\n",
       "    </tr>\n",
       "    <tr>\n",
       "      <th>2</th>\n",
       "      <td>1000</td>\n",
       "      <td>7</td>\n",
       "      <td>47</td>\n",
       "      <td>340</td>\n",
       "      <td>75</td>\n",
       "      <td>14003</td>\n",
       "      <td>52</td>\n",
       "      <td>1970-01-01</td>\n",
       "      <td>Краснодар</td>\n",
       "      <td>Рафаил</td>\n",
       "      <td>...</td>\n",
       "      <td>2018-05-25</td>\n",
       "      <td>ultra</td>\n",
       "      <td>1000</td>\n",
       "      <td>30720</td>\n",
       "      <td>3000</td>\n",
       "      <td>1950</td>\n",
       "      <td>150</td>\n",
       "      <td>1</td>\n",
       "      <td>1</td>\n",
       "      <td>1950</td>\n",
       "    </tr>\n",
       "    <tr>\n",
       "      <th>3</th>\n",
       "      <td>1000</td>\n",
       "      <td>8</td>\n",
       "      <td>52</td>\n",
       "      <td>408</td>\n",
       "      <td>81</td>\n",
       "      <td>14055</td>\n",
       "      <td>52</td>\n",
       "      <td>1970-01-01</td>\n",
       "      <td>Краснодар</td>\n",
       "      <td>Рафаил</td>\n",
       "      <td>...</td>\n",
       "      <td>2018-05-25</td>\n",
       "      <td>ultra</td>\n",
       "      <td>1000</td>\n",
       "      <td>30720</td>\n",
       "      <td>3000</td>\n",
       "      <td>1950</td>\n",
       "      <td>150</td>\n",
       "      <td>1</td>\n",
       "      <td>1</td>\n",
       "      <td>1950</td>\n",
       "    </tr>\n",
       "    <tr>\n",
       "      <th>4</th>\n",
       "      <td>1000</td>\n",
       "      <td>9</td>\n",
       "      <td>58</td>\n",
       "      <td>466</td>\n",
       "      <td>57</td>\n",
       "      <td>14568</td>\n",
       "      <td>52</td>\n",
       "      <td>1970-01-01</td>\n",
       "      <td>Краснодар</td>\n",
       "      <td>Рафаил</td>\n",
       "      <td>...</td>\n",
       "      <td>2018-05-25</td>\n",
       "      <td>ultra</td>\n",
       "      <td>1000</td>\n",
       "      <td>30720</td>\n",
       "      <td>3000</td>\n",
       "      <td>1950</td>\n",
       "      <td>150</td>\n",
       "      <td>1</td>\n",
       "      <td>1</td>\n",
       "      <td>1950</td>\n",
       "    </tr>\n",
       "  </tbody>\n",
       "</table>\n",
       "<p>5 rows × 21 columns</p>\n",
       "</div>"
      ],
      "text/plain": [
       "   user_id  month  count  dur  quantity_mes  quantity_mb_used  age churn_date  \\\n",
       "0     1000      5     22  159            22              2253   52 1970-01-01   \n",
       "1     1000      6     43  172            60             23233   52 1970-01-01   \n",
       "2     1000      7     47  340            75             14003   52 1970-01-01   \n",
       "3     1000      8     52  408            81             14055   52 1970-01-01   \n",
       "4     1000      9     58  466            57             14568   52 1970-01-01   \n",
       "\n",
       "        city first_name  ...   reg_date tariff messages_included  \\\n",
       "0  Краснодар     Рафаил  ... 2018-05-25  ultra              1000   \n",
       "1  Краснодар     Рафаил  ... 2018-05-25  ultra              1000   \n",
       "2  Краснодар     Рафаил  ... 2018-05-25  ultra              1000   \n",
       "3  Краснодар     Рафаил  ... 2018-05-25  ultra              1000   \n",
       "4  Краснодар     Рафаил  ... 2018-05-25  ultra              1000   \n",
       "\n",
       "   mb_per_month_included  minutes_included  rub_monthly_fee  rub_per_gb  \\\n",
       "0                  30720              3000             1950         150   \n",
       "1                  30720              3000             1950         150   \n",
       "2                  30720              3000             1950         150   \n",
       "3                  30720              3000             1950         150   \n",
       "4                  30720              3000             1950         150   \n",
       "\n",
       "   rub_per_message  rub_per_minute  profit  \n",
       "0                1               1    1950  \n",
       "1                1               1    1950  \n",
       "2                1               1    1950  \n",
       "3                1               1    1950  \n",
       "4                1               1    1950  \n",
       "\n",
       "[5 rows x 21 columns]"
      ]
     },
     "execution_count": 61,
     "metadata": {},
     "output_type": "execute_result"
    }
   ],
   "source": [
    "df_ultra.head()"
   ]
  },
  {
   "cell_type": "code",
   "execution_count": 62,
   "metadata": {},
   "outputs": [
    {
     "name": "stdout",
     "output_type": "stream",
     "text": [
      "Средняя выручка на тарифе Ультра: 2070\n"
     ]
    }
   ],
   "source": [
    "print('Средняя выручка на тарифе Ультра:', int(df_ultra['profit'].mean()))"
   ]
  },
  {
   "cell_type": "code",
   "execution_count": 63,
   "metadata": {},
   "outputs": [
    {
     "data": {
      "text/plain": [
       "city\n",
       "Махачкала           3225\n",
       "Владимир            3225\n",
       "Саранск             2833\n",
       "Ульяновск           2625\n",
       "Ростов-на-Дону      2512\n",
       "Волгоград           2335\n",
       "Красноярск          2325\n",
       "Воронеж             2317\n",
       "Сочи                2300\n",
       "Тольятти            2218\n",
       "Санкт-Петербург     2180\n",
       "Калуга              2127\n",
       "Омск                2123\n",
       "Самара              2111\n",
       "Тюмень              2100\n",
       "Чебоксары           2100\n",
       "Мурманск            2100\n",
       "Кострома            2080\n",
       "Москва              2074\n",
       "Набережные Челны    2070\n",
       "Иркутск             2062\n",
       "Стерлитамак         2043\n",
       "Брянск              2030\n",
       "Нижний Новгород     2021\n",
       "Пермь               1955\n",
       "Уфа                 1955\n",
       "Пенза               1953\n",
       "Новосибирск         1953\n",
       "Саратов             1950\n",
       "Севастополь         1950\n",
       "Астрахань           1950\n",
       "Смоленск            1950\n",
       "Сургут              1950\n",
       "Томск               1950\n",
       "Тула                1950\n",
       "Челябинск           1950\n",
       "Череповец           1950\n",
       "Тверь               1950\n",
       "Новокузнецк         1950\n",
       "Рязань              1950\n",
       "Name: profit, dtype: int64"
      ]
     },
     "execution_count": 63,
     "metadata": {},
     "output_type": "execute_result"
    }
   ],
   "source": [
    "city_profit_ultra = df_ultra.groupby('city')['profit'].mean().astype(int).sort_values(ascending = False)\n",
    "city_profit_ultra.head(40)"
   ]
  },
  {
   "cell_type": "markdown",
   "metadata": {},
   "source": [
    "В результате проведённого анализа установлено, что средняя выручка на тарифе Смарт составляет - 1298 и имеет колебания в зависимости от города от min - 593 до max 2304, что обусловлено количеством дополнительных расходов абонентов. И в среднем составляет 1288.\n",
    "\n",
    "Средняя выручка на тарифе Ультра:2070, и имеет колебания в зависимости от города от min - 1950 до max 3225. И в среднем составляет 2099."
   ]
  },
  {
   "cell_type": "code",
   "execution_count": 64,
   "metadata": {},
   "outputs": [
    {
     "data": {
      "text/plain": [
       "count      56.000000\n",
       "mean     2099.142857\n",
       "std       284.815310\n",
       "min      1950.000000\n",
       "25%      1950.000000\n",
       "50%      1951.500000\n",
       "75%      2102.750000\n",
       "max      3225.000000\n",
       "Name: profit, dtype: float64"
      ]
     },
     "execution_count": 64,
     "metadata": {},
     "output_type": "execute_result"
    }
   ],
   "source": [
    "city_profit_ultra.describe()"
   ]
  },
  {
   "cell_type": "markdown",
   "metadata": {},
   "source": [
    "### Проведу расчёты требуемых показателей\n",
    "\n",
    "#### Продолжительность звонков помесячно"
   ]
  },
  {
   "cell_type": "markdown",
   "metadata": {},
   "source": [
    "1. Тариф Смарт"
   ]
  },
  {
   "cell_type": "code",
   "execution_count": 65,
   "metadata": {},
   "outputs": [
    {
     "name": "stdout",
     "output_type": "stream",
     "text": [
      "417\n"
     ]
    }
   ],
   "source": [
    "# продолжительность звонков на тарифе Смарт  в среднем\n",
    "print(int(df_smart['dur'].mean()))"
   ]
  },
  {
   "cell_type": "code",
   "execution_count": 66,
   "metadata": {},
   "outputs": [
    {
     "data": {
      "text/plain": [
       "1435"
      ]
     },
     "execution_count": 66,
     "metadata": {},
     "output_type": "execute_result"
    }
   ],
   "source": [
    "# Максимальное продолжительность звонков в месяц на тарифе Смарт\n",
    "df_smart['dur'].max()"
   ]
  },
  {
   "cell_type": "code",
   "execution_count": 67,
   "metadata": {},
   "outputs": [
    {
     "data": {
      "text/plain": [
       "757"
      ]
     },
     "execution_count": 67,
     "metadata": {},
     "output_type": "execute_result"
    }
   ],
   "source": [
    "# Количество абонентов, чей трафик превышает объём, включённый в абонентскую плату тарифа Смарт\n",
    "(df_smart.loc[df_smart ['dur']>= 500])['dur'].count()"
   ]
  },
  {
   "cell_type": "code",
   "execution_count": 68,
   "metadata": {},
   "outputs": [
    {
     "name": "stdout",
     "output_type": "stream",
     "text": [
      "Доля от общего количества человеко-месяцев, когда клиентами превышался лимит по продолжительности звоноков на тарифе Смарт:34.0%\n"
     ]
    }
   ],
   "source": [
    "# Количество абонентов, чей трафик превышает объём, включённый в абонентскую плату тарифа Смарт\n",
    "unlum_smart = (df_smart.loc[df_smart ['dur']>= 500])['dur'].count()/len(df_smart ['dur'])\n",
    "print('Доля от общего количества человеко-месяцев, когда клиентами превышался лимит по продолжительности звоноков на тарифе Смарт:{:.1%}'.format(unlum_smart))"
   ]
  },
  {
   "cell_type": "markdown",
   "metadata": {},
   "source": [
    "2. Тариф Ультра"
   ]
  },
  {
   "cell_type": "code",
   "execution_count": 69,
   "metadata": {},
   "outputs": [
    {
     "name": "stdout",
     "output_type": "stream",
     "text": [
      "526\n"
     ]
    }
   ],
   "source": [
    "# количество звонков на тарифе Ультра в среднем\n",
    "print(int(df_ultra['dur'].mean()))"
   ]
  },
  {
   "cell_type": "code",
   "execution_count": 70,
   "metadata": {},
   "outputs": [
    {
     "data": {
      "text/plain": [
       "1673"
      ]
     },
     "execution_count": 70,
     "metadata": {},
     "output_type": "execute_result"
    }
   ],
   "source": [
    "# Максимальное продолжительность звонков в месяц на тарифе Ультра\n",
    "df_ultra['dur'].max()"
   ]
  },
  {
   "cell_type": "code",
   "execution_count": 71,
   "metadata": {},
   "outputs": [
    {
     "data": {
      "text/plain": [
       "0"
      ]
     },
     "execution_count": 71,
     "metadata": {},
     "output_type": "execute_result"
    }
   ],
   "source": [
    "# Количество абонентов, чей трафик превышает объём, включённый в абонентскую плату тарифа Ультра\n",
    "(df_ultra.loc[df_ultra ['dur']>= 3000])['dur'].count()"
   ]
  },
  {
   "cell_type": "code",
   "execution_count": 72,
   "metadata": {},
   "outputs": [
    {
     "data": {
      "text/plain": [
       "38"
      ]
     },
     "execution_count": 72,
     "metadata": {},
     "output_type": "execute_result"
    }
   ],
   "source": [
    "(df_ultra.loc[df_ultra ['dur']== 0])['dur'].count()"
   ]
  },
  {
   "cell_type": "code",
   "execution_count": 73,
   "metadata": {},
   "outputs": [
    {
     "data": {
      "text/plain": [
       "0"
      ]
     },
     "execution_count": 73,
     "metadata": {},
     "output_type": "execute_result"
    }
   ],
   "source": [
    "# Количество абонентов, чей трафик превышает объём 2000 мин/мес тарифа Ультра\n",
    "(df_ultra.loc[df_ultra ['dur']>= 2000])['dur'].count()"
   ]
  },
  {
   "cell_type": "code",
   "execution_count": 74,
   "metadata": {},
   "outputs": [
    {
     "data": {
      "text/plain": [
       "2"
      ]
     },
     "execution_count": 74,
     "metadata": {},
     "output_type": "execute_result"
    }
   ],
   "source": [
    "# Количество абонентов, чей трафик превышает объём 1500 мин/мес тарифа Ультра\n",
    "(df_ultra.loc[df_ultra ['dur']>= 1500])['dur'].count()"
   ]
  },
  {
   "cell_type": "code",
   "execution_count": 75,
   "metadata": {},
   "outputs": [
    {
     "data": {
      "image/png": "[encoded data removed]",
      "text/plain": [
       "<Figure size 720x360 with 1 Axes>"
      ]
     },
     "metadata": {
      "needs_background": "light"
     },
     "output_type": "display_data"
    }
   ],
   "source": [
    "# визуализация по количеству звонков на тарифе Смарт\n",
    "pd.Series(df_smart['dur']).hist(bins=100, figsize=(10, 5));\n",
    "plt.axvline(df_smart['dur'].mean(), color='b', linestyle='--')\n",
    "plt.axvline(x=500, color='r');\n",
    "plt.legend(['среднее для Смарт','включенные минуты \"Smart\"', \"Smart\"]);\n",
    "plt.title('Количество звонков на тарифе Смарт', fontsize=14);"
   ]
  },
  {
   "cell_type": "code",
   "execution_count": 76,
   "metadata": {},
   "outputs": [
    {
     "data": {
      "image/png": "[encoded data removed]",
      "text/plain": [
       "<Figure size 720x360 with 1 Axes>"
      ]
     },
     "metadata": {
      "needs_background": "light"
     },
     "output_type": "display_data"
    }
   ],
   "source": [
    "# визуализация по количеству звонков на обоих тарифах \n",
    "pd.Series(df_smart['dur']).hist(bins=100, figsize=(10, 5));\n",
    "pd.Series(df_ultra['dur']).hist(bins=100, figsize=(10, 5));\n",
    "plt.axvline(df_smart['dur'].mean(), color='b', linestyle='--')\n",
    "plt.axvline(df_ultra['dur'].mean(), color='orange', linestyle='--')\n",
    "plt.axvline(x=500, color='r');\n",
    "plt.axvline(x=3000, color='g');\n",
    "plt.legend(['среднее для Смарт','среднее для Ультра', 'включенные минуты \"Smart\"', 'включенные минуты \"Ultra\"', \"Smart\", \"Ultra\"], loc=1);\n",
    "plt.title('Количество звонков на тарифах', fontsize=14);"
   ]
  },
  {
   "cell_type": "markdown",
   "metadata": {},
   "source": [
    "**Вывод**\n",
    "\n",
    "**в отношении продолжительности звонков**\n",
    "\n",
    "Данные представлены с 2 января 2018г. по 31 декабря 2018г. \n",
    "\n",
    "В среднем на тарифе Смарт продолжительность звонков 417 минут в месяц. Отмечу, что количество минут, включённых в абонентскую плату - 500. Данный показатель не достигается в среднем. Доля от общего количества человеко-месяцев, когда клиентами превышался лимит по продолжительности звоноков на тарифе Смарт:34.0%\n",
    "\n",
    "В среднем на тарифе Ультра продолжительность звонков 526 минут в месяц. При этом предусмотренный трафик в 3000 мин\\мес не расходуется. Даже 1500 мин\\мес выговаривают только 2 абонента.\n",
    "\n",
    "Распределение для Смарт близко к нормальному, имеет пик вблизи среднего значения. Что говорит об однородности наблюдений. \n",
    "\n",
    "Распределение Ультра не имеет ярко выраженного пика, выявлены совпадения со средним показателем, однако, имеется \"хвост\". Очевидно, абоненты данной группы демонстрируют различные типы поведения. \n",
    "\n",
    "Значительный всплеск наблюдается в районе нулевой отметки, что свидетельствует о пропущенных звонках."
   ]
  },
  {
   "cell_type": "markdown",
   "metadata": {},
   "source": [
    "#### Отправка сообщений\n",
    "\n",
    "1 Тариф Смарт"
   ]
  },
  {
   "cell_type": "code",
   "execution_count": 77,
   "metadata": {},
   "outputs": [
    {
     "name": "stdout",
     "output_type": "stream",
     "text": [
      "33\n",
      "143\n"
     ]
    }
   ],
   "source": [
    "# количество отправленных смс на тарифе Смарт \n",
    "print(int(df_smart['quantity_mes'].mean())) # в среднем\n",
    "print(int(df_smart['quantity_mes'].max())) # максимум"
   ]
  },
  {
   "cell_type": "code",
   "execution_count": 78,
   "metadata": {},
   "outputs": [
    {
     "name": "stdout",
     "output_type": "stream",
     "text": [
      "Доля от общего количества человеко-месяцев, когда клиентами превышался по смс на тарифе Смарт:26.1%\n"
     ]
    }
   ],
   "source": [
    "# Количество абоненотов, чей смс-трафик превышает объём, включённый в абонентскую плату тарифа Смарт\n",
    "unlum_smart_m = (df_smart.loc[df_smart ['quantity_mes']>= 50])['quantity_mes'].count()/len(df_smart ['quantity_mes'])\n",
    "print('Доля от общего количества человеко-месяцев, когда клиентами превышался по смс на тарифе Смарт:{:.1%}'.format(unlum_smart_m))"
   ]
  },
  {
   "cell_type": "code",
   "execution_count": 79,
   "metadata": {},
   "outputs": [
    {
     "name": "stdout",
     "output_type": "stream",
     "text": [
      "49\n",
      "224\n"
     ]
    }
   ],
   "source": [
    "# количество отправленных смс на тарифе Ультра\n",
    "print(int(df_ultra['quantity_mes'].mean())) # в среднем\n",
    "print(int(df_ultra['quantity_mes'].max())) # максимум"
   ]
  },
  {
   "cell_type": "code",
   "execution_count": 80,
   "metadata": {},
   "outputs": [
    {
     "name": "stdout",
     "output_type": "stream",
     "text": [
      "190\n"
     ]
    }
   ],
   "source": [
    "# количество абонентов тарифа Ультра, которые не используют смс\n",
    "print(df_ultra.loc[df_ultra['quantity_mes'] == 0]['user_id'].count())"
   ]
  },
  {
   "cell_type": "code",
   "execution_count": 81,
   "metadata": {},
   "outputs": [
    {
     "data": {
      "image/png": "[encoded data removed]",
      "text/plain": [
       "<Figure size 720x360 with 1 Axes>"
      ]
     },
     "metadata": {
      "needs_background": "light"
     },
     "output_type": "display_data"
    }
   ],
   "source": [
    "# визуализация по количеству смс на тарифе Смарт \n",
    "pd.Series(df_smart['quantity_mes']).hist(bins=50, figsize=(10, 5));\n",
    "plt.axvline(df_smart['quantity_mes'].mean(), color='b', linestyle='--')\n",
    "plt.axvline(x=50, color='r');\n",
    "plt.title('Количество смс на тарифе Смарт', fontsize=14);\n",
    "plt.legend(['среднее для Смарт','включенные смс \"Smart\"', \"Smart\"]);"
   ]
  },
  {
   "cell_type": "code",
   "execution_count": 82,
   "metadata": {},
   "outputs": [
    {
     "data": {
      "image/png": "[encoded data removed]",
      "text/plain": [
       "<Figure size 720x360 with 1 Axes>"
      ]
     },
     "metadata": {
      "needs_background": "light"
     },
     "output_type": "display_data"
    }
   ],
   "source": [
    "# визуализация по количеству смс на обоих тарифах \n",
    "pd.Series(df_smart['quantity_mes']).hist(bins=50, figsize=(10, 5));\n",
    "pd.Series(df_ultra['quantity_mes']).hist(bins=50, figsize=(10, 5));\n",
    "plt.axvline(df_smart['quantity_mes'].mean(), color='b', linestyle='--')\n",
    "plt.axvline(df_ultra['quantity_mes'].mean(), color='orange', linestyle='--')\n",
    "plt.axvline(x=50, color='r');\n",
    "plt.title('Количество смс на тарифах', fontsize=14);\n",
    "plt.legend(['среднее для Смарт','среднее для Ультра','включенные смс \"Smart\"', \"Smart\", \"Ultra\"]);"
   ]
  },
  {
   "cell_type": "markdown",
   "metadata": {},
   "source": [
    "**Описание**\n",
    "\n",
    "Распределение в обоих группах ассиметричное, пиковые позиции расположены в районе отметки в 30-35 сообщений, не совпадают со средними значениями, имеются \"хвосты\", что свидетельствует о неоднородности поведения внутри групп. Доля от общего количества человеко-месяцев, когда клиентами превышался по смс на тарифе Смарт:26.1%. На тарифе Ультра \"хвост\" значительно больше, чем в Смарт. При этом предусмотренный трафик в 1000 смс\\мес не расходуется даже в приближении. Максимальное количество сообщений - 224.\n",
    "\n",
    "Значительный всплеск, наблюдаемый в районе нулевой отметки, что свидетельствует о неиспользовании смс значительным числом абонентов."
   ]
  },
  {
   "cell_type": "markdown",
   "metadata": {},
   "source": [
    "#### Исследование интернет-трафика\n",
    "1. Тариф Смарт"
   ]
  },
  {
   "cell_type": "code",
   "execution_count": 83,
   "metadata": {},
   "outputs": [
    {
     "name": "stdout",
     "output_type": "stream",
     "text": [
      "16207\n",
      "38552\n"
     ]
    }
   ],
   "source": [
    "# потребление интернет-трафика\n",
    "print(int(df_smart['quantity_mb_used'].mean())) # в среднем\n",
    "print(int(df_smart['quantity_mb_used'].max())) # максимум"
   ]
  },
  {
   "cell_type": "code",
   "execution_count": 84,
   "metadata": {},
   "outputs": [
    {
     "name": "stdout",
     "output_type": "stream",
     "text": [
      "Доля от общего количества человеко-месяцев, когда клиентами превышался лимит по интренет-трафику на тарифе Смарт:58.5%\n"
     ]
    }
   ],
   "source": [
    "# Количество абоненотов, чей смс-трафик превышает объём, включённый в абонентскую плату тарифа Смарт\n",
    "unlum_smart_i = (df_smart.loc[df_smart ['quantity_mb_used']>= 15360])['quantity_mb_used'].count()/len(df_smart ['quantity_mb_used'])\n",
    "print('Доля от общего количества человеко-месяцев, когда клиентами превышался лимит по интренет-трафику на тарифе Смарт:{:.1%}'.format(unlum_smart_i))"
   ]
  },
  {
   "cell_type": "markdown",
   "metadata": {},
   "source": [
    "2 Тариф Ультра"
   ]
  },
  {
   "cell_type": "code",
   "execution_count": 85,
   "metadata": {},
   "outputs": [
    {
     "name": "stdout",
     "output_type": "stream",
     "text": [
      "19468\n",
      "49745\n"
     ]
    }
   ],
   "source": [
    "# потребление интернет-трафика\n",
    "print(int(df_ultra['quantity_mb_used'].mean())) # в среднем\n",
    "print(int(df_ultra['quantity_mb_used'].max())) # максимум"
   ]
  },
  {
   "cell_type": "code",
   "execution_count": 86,
   "metadata": {},
   "outputs": [
    {
     "name": "stdout",
     "output_type": "stream",
     "text": [
      "Доля от общего количества человеко-месяцев, когда клиентами превышался лимит по интренет-трафику на тарифе Ультра:6.0%\n"
     ]
    }
   ],
   "source": [
    "# Количество абоненотов, чей смс-трафик превышает объём, включённый в абонентскую плату тарифа Смарт\n",
    "unlum_ultra_i = (df_ultra.loc[df_ultra ['quantity_mb_used']>= 30720])['quantity_mb_used'].count()/len(df_smart ['quantity_mb_used'])\n",
    "print('Доля от общего количества человеко-месяцев, когда клиентами превышался лимит по интренет-трафику на тарифе Ультра:{:.1%}'.format(unlum_ultra_i))"
   ]
  },
  {
   "cell_type": "code",
   "execution_count": 87,
   "metadata": {},
   "outputs": [
    {
     "data": {
      "image/png": "[encoded data removed]",
      "text/plain": [
       "<Figure size 720x360 with 1 Axes>"
      ]
     },
     "metadata": {
      "needs_background": "light"
     },
     "output_type": "display_data"
    }
   ],
   "source": [
    "# визуализация по количеству по интренет-трафику на тарифе Смарт \n",
    "pd.Series(df_smart['quantity_mb_used']).hist(bins=200, figsize=(10, 5));\n",
    "plt.axvline(df_smart['quantity_mb_used'].mean(), color='b', linestyle='--')\n",
    "plt.axvline(x=15360, color='r');\n",
    "plt.legend(['среднее для Смарт','включенные Мб \"Smart\"', \"Smart\"]);\n",
    "plt.title('Количество потреблённых Мб на тарифе Смарт', fontsize=14);"
   ]
  },
  {
   "cell_type": "code",
   "execution_count": 88,
   "metadata": {},
   "outputs": [
    {
     "data": {
      "image/png": "[encoded data removed]",
      "text/plain": [
       "<Figure size 720x360 with 1 Axes>"
      ]
     },
     "metadata": {
      "needs_background": "light"
     },
     "output_type": "display_data"
    }
   ],
   "source": [
    "# визуализация по количеству по интренет-трафику \n",
    "pd.Series(df_smart['quantity_mb_used']).hist(bins=100, figsize=(10, 5));\n",
    "pd.Series(df_ultra['quantity_mb_used']).hist(bins=100, figsize=(10, 5));\n",
    "plt.axvline(df_smart['quantity_mb_used'].mean(), color='b', linestyle='--')\n",
    "plt.axvline(df_ultra['quantity_mb_used'].mean(), color='orange', linestyle='--')\n",
    "plt.axvline(x=15360, color='r');\n",
    "plt.axvline(x=30720, color='g');\n",
    "plt.legend(['среднее для Смарт','среднее для Ультра','включенные Мб \"Smart\"', 'включенные Мб \"Ultra\"',\"Smart\", \"Ultra\"], loc=1);\n",
    "plt.title('Количество потреблённых Мб на тарифах', fontsize=14);"
   ]
  },
  {
   "cell_type": "markdown",
   "metadata": {},
   "source": [
    "**Описание**\n",
    "\n",
    "Распределение для абонентов Смарт нормальное, пик максимально близок к среднему значению. Что свидетельствует о том, что значительная доля абоенентов потребляет интернет-трафик в объёме, предусмотренном тарифом.\n",
    "\n",
    "Распределение для абонентов тарифа Ультра имеет пологий вид, несколько пиков и провалов. Один из пиков соответствует среднему значению. Поведение абонентов на тарифе Ультра носит в целом однородный характер. "
   ]
  },
  {
   "cell_type": "code",
   "execution_count": 89,
   "metadata": {},
   "outputs": [
    {
     "name": "stdout",
     "output_type": "stream",
     "text": [
      "351\n"
     ]
    }
   ],
   "source": [
    "# количество пользователей в Смарт в данной выборке\n",
    "quanity_of_smart = users.loc[users.loc[:,'tariff'] == 'smart']['tariff'].count()\n",
    "print(quanity_of_smart)"
   ]
  },
  {
   "cell_type": "code",
   "execution_count": 90,
   "metadata": {},
   "outputs": [
    {
     "name": "stdout",
     "output_type": "stream",
     "text": [
      "Средняя выручка на тарифе Смарт: 1289\n"
     ]
    }
   ],
   "source": [
    "print('Средняя выручка на тарифе Смарт:', int(df_smart['profit'].mean()))"
   ]
  },
  {
   "cell_type": "code",
   "execution_count": 91,
   "metadata": {},
   "outputs": [
    {
     "name": "stdout",
     "output_type": "stream",
     "text": [
      "Средняя выручка на тарифе Ультра: 2070\n"
     ]
    }
   ],
   "source": [
    "print('Средняя выручка на тарифе Ультра:', int(df_ultra['profit'].mean()))"
   ]
  },
  {
   "cell_type": "code",
   "execution_count": 92,
   "metadata": {},
   "outputs": [
    {
     "name": "stdout",
     "output_type": "stream",
     "text": [
      "Средняя выручка на тарифе Смарт в месяц со всех абонентов: 452439\n"
     ]
    }
   ],
   "source": [
    "smart_avg_profit = quanity_of_smart * (int(df_smart['profit'].mean()))\n",
    "print('Средняя выручка на тарифе Смарт в месяц со всех абонентов:', smart_avg_profit)"
   ]
  },
  {
   "cell_type": "code",
   "execution_count": 93,
   "metadata": {},
   "outputs": [
    {
     "name": "stdout",
     "output_type": "stream",
     "text": [
      "Средняя выручка на тарифе Ультра в месяц со всех абонентов: 308430\n"
     ]
    }
   ],
   "source": [
    "sample_total = 500 #  вся выборка\n",
    "ultra_avg_profit = (sample_total - quanity_of_smart)*(int(df_ultra['profit'].mean())) # пользователи Ультра\n",
    "print('Средняя выручка на тарифе Ультра в месяц со всех абонентов:', ultra_avg_profit)"
   ]
  },
  {
   "cell_type": "markdown",
   "metadata": {},
   "source": [
    "**Вывод по тарифам**\n",
    "\n",
    "**Абоненты предпочитают Смарт**\n",
    "\n",
    "Доля лиц применяющих тариф Смарт:70.2%\n",
    "\n",
    "Доля лиц применяющих тариф Ультра:29.8%\n",
    "\n",
    "В среднем на тарифе Смарт продолжительность звонков 417 минут в месяц. Отмечу, что количество минут, включённых в абонентскую плату - 500. Данный показатель не достигается в среднем. Доля от общего количества человеко-месяцев, когда клиентами превышался лимит по продолжительности звоноков на тарифе Смарт:34.0%\n",
    "\n",
    "В среднем на тарифе Ультра продолжительность звонков 526 минут в месяц. При этом предусмотренный трафик в 3000 мин\\мес не расходуется. Даже 1500 мин\\мес выговаривают только 2 абонента.\n",
    "\n",
    "Распределение для Смарт близко к нормальному, имеет пик вблизи среднего значения. Что говорит об однородности наблюдений. \n",
    "\n",
    "Распределение Ультра не имеет ярко выраженного пика, выявлены совпадения со средним показателем, однако, имеется \"хвост\". Очевидно, абоненты данной группы демонстрируют различные типы поведения. Значительный всплеск наблюдается в районе нулевой отметки, что свидетельствует о пропущенных вызовах большого числв абонентов.\n",
    "\n",
    "Распределение в отношении СМС в обоих группах ассиметричное, пиковые позиции расположены в районе отметки в 30-35 сообщений, не совпадают со средними значениями, имеются \"хвосты\", что свидетельствует о неоднородности поведения внутри групп. Доля от общего количества человеко-месяцев, когда клиентами превышался по смс на тарифе Смарт:26.1%. На тарифе Ультра \"хвост\" значительно больше, чем в Смарт. При этом предусмотренный трафик в 1000 смс\\мес не расходуется даже в приближении. Максимальное количество сообщений - 224.Значительный всплеск, наблюдаемый в районе нулевой отметки, что свидетельствует о неиспользовании смс значительным числом абонентов.\n",
    "\n",
    "\n",
    "Распределение для абонентов Смарт нормальное, пик максимально близок к среднему значению. Что свидетельствует о том, что значительная доля абоенентов потребляет интернет-трафик в объёме, предусмотренном тарифом.\n",
    "\n",
    "Распределение для абонентов тарифа Ультра имеет пологий вид, несколько пиков и провалов. Один из пиков соответствует среднему значению. Поведение абонентов на тарифе Ультра носит в целом однородный характер. \n",
    "\n",
    "В результате проведённого анализа установлено, что средняя выручка на тарифе Смарт составляет - 1298 и имеет колебания в зависимости от города от min - 593 до max 2304, что обусловлено количеством дополнительных расходов абонентов. И в среднем составляет 1288.\n",
    "\n",
    "Средняя выручка на тарифе Ультра:2070, и имеет колебания в зависимости от города от min - 1950 до max 3225. И в среднем составляет 2099.\n",
    "\n",
    "\n",
    "**Можно сделать однозначный вывод, что тариф Смарт предусматривает значительное количество дополнительных затрат со стороны абонентов в связи с всеобъемлющим перерасходом трафика. И является наиболее выгодным для компании при учёте предпочтения со стороны потребителей.**\n",
    "\n",
    "\n",
    "**Следует отметить недружелюбность оператора связи к своим клиентам: один из тарифов (Смарт) предусматривает низкую плату при недостаточности включённых пакетов услуг, требуя от клиента постоянных дополнительных расходов. Другой тариф предусматривает значительный объём абонентской платы, почти в 4 раза превышающий значение для Смарт. При этом включённые объёмы услуг не потребляются клиентами. Хочется верить, что есть и промежуточный вариант.**\n"
   ]
  },
  {
   "cell_type": "markdown",
   "metadata": {},
   "source": [
    "#### Дисперсия (variance) и стандартное отклонение (standard deviation)"
   ]
  },
  {
   "cell_type": "markdown",
   "metadata": {},
   "source": [
    "1. Для звонков на тарифах"
   ]
  },
  {
   "cell_type": "code",
   "execution_count": 94,
   "metadata": {},
   "outputs": [
    {
     "name": "stdout",
     "output_type": "stream",
     "text": [
      "36219\n",
      "190\n"
     ]
    }
   ],
   "source": [
    "# для звонков на тарифе Смарт\n",
    "print(int(df_smart['dur'].var())) # дисперсия (variance)\n",
    "print(int(df_smart['dur'].std())) # стандартное отклонение (standard deviation)"
   ]
  },
  {
   "cell_type": "code",
   "execution_count": 95,
   "metadata": {},
   "outputs": [
    {
     "name": "stdout",
     "output_type": "stream",
     "text": [
      "100873\n",
      "317\n"
     ]
    }
   ],
   "source": [
    "# для звонков на тарифе Ультра\n",
    "print(int(df_ultra['dur'].var())) # дисперсия (variance)\n",
    "print(int(df_ultra['dur'].std())) # стандартное отклонение (standard deviation)"
   ]
  },
  {
   "cell_type": "markdown",
   "metadata": {},
   "source": [
    "2. Для смс"
   ]
  },
  {
   "cell_type": "code",
   "execution_count": 96,
   "metadata": {},
   "outputs": [
    {
     "name": "stdout",
     "output_type": "stream",
     "text": [
      "796\n",
      "28\n"
     ]
    }
   ],
   "source": [
    "# для смс на тарифе Смарт\n",
    "print(int(df_smart['quantity_mes'].var())) # дисперсия (variance)\n",
    "print(int(df_smart['quantity_mes'].std())) # стандартное отклонение (standard deviation)"
   ]
  },
  {
   "cell_type": "code",
   "execution_count": 97,
   "metadata": {},
   "outputs": [
    {
     "name": "stdout",
     "output_type": "stream",
     "text": [
      "2285\n",
      "47\n"
     ]
    }
   ],
   "source": [
    "# для смс на тарифе Ультра\n",
    "print(int(df_ultra['quantity_mes'].var())) # дисперсия (variance)\n",
    "print(int(df_ultra['quantity_mes'].std())) # стандартное отклонение (standard deviation)"
   ]
  },
  {
   "cell_type": "markdown",
   "metadata": {},
   "source": [
    "3. Для интернет-трафика"
   ]
  },
  {
   "cell_type": "code",
   "execution_count": 98,
   "metadata": {},
   "outputs": [
    {
     "name": "stdout",
     "output_type": "stream",
     "text": [
      "34462537\n",
      "5870\n"
     ]
    }
   ],
   "source": [
    "# для интернет-трафика на тарифе Смарт\n",
    "print(int(df_smart['quantity_mb_used'].var())) # дисперсия (variance)\n",
    "print(int(df_smart['quantity_mb_used'].std())) # стандартное отклонение (standard deviation)"
   ]
  },
  {
   "cell_type": "code",
   "execution_count": 99,
   "metadata": {},
   "outputs": [
    {
     "name": "stdout",
     "output_type": "stream",
     "text": [
      "101751075\n",
      "10087\n"
     ]
    }
   ],
   "source": [
    "# для интернет-трафика на тарифе Ультра\n",
    "print(int(df_ultra['quantity_mb_used'].var())) # дисперсия (variance)\n",
    "print(int(df_ultra['quantity_mb_used'].std())) # стандартное отклонение (standard deviation)"
   ]
  },
  {
   "cell_type": "markdown",
   "metadata": {},
   "source": [
    "4 Для показателя выручки "
   ]
  },
  {
   "cell_type": "code",
   "execution_count": 100,
   "metadata": {},
   "outputs": [
    {
     "name": "stdout",
     "output_type": "stream",
     "text": [
      "669785\n",
      "818\n"
     ]
    }
   ],
   "source": [
    "# для интернет-трафика на тарифе Смарт\n",
    "print(int(df_smart['profit'].var())) # дисперсия (variance)\n",
    "print(int(df_smart['profit'].std())) # стандартное отклонение (standard deviation)"
   ]
  },
  {
   "cell_type": "code",
   "execution_count": 101,
   "metadata": {},
   "outputs": [
    {
     "name": "stdout",
     "output_type": "stream",
     "text": [
      "141516\n",
      "376\n"
     ]
    }
   ],
   "source": [
    "# для интернет-трафика на тарифе Ультра\n",
    "print(int(df_ultra['profit'].var())) # дисперсия (variance)\n",
    "print(int(df_ultra['profit'].std())) # стандартное отклонение (standard deviation)"
   ]
  },
  {
   "cell_type": "code",
   "execution_count": 102,
   "metadata": {},
   "outputs": [],
   "source": [
    "pd.options.display.float_format = '{:,.2f}'.format"
   ]
  },
  {
   "cell_type": "code",
   "execution_count": 103,
   "metadata": {},
   "outputs": [
    {
     "data": {
      "text/html": [
       "<div>\n",
       "<style scoped>\n",
       "    .dataframe tbody tr th:only-of-type {\n",
       "        vertical-align: middle;\n",
       "    }\n",
       "\n",
       "    .dataframe tbody tr th {\n",
       "        vertical-align: top;\n",
       "    }\n",
       "\n",
       "    .dataframe thead th {\n",
       "        text-align: right;\n",
       "    }\n",
       "</style>\n",
       "<table border=\"1\" class=\"dataframe\">\n",
       "  <thead>\n",
       "    <tr style=\"text-align: right;\">\n",
       "      <th></th>\n",
       "      <th>tariff</th>\n",
       "      <th>smart</th>\n",
       "      <th>ultra</th>\n",
       "    </tr>\n",
       "  </thead>\n",
       "  <tbody>\n",
       "    <tr>\n",
       "      <th rowspan=\"4\" valign=\"top\">mean</th>\n",
       "      <th>dur</th>\n",
       "      <td>417.93</td>\n",
       "      <td>526.62</td>\n",
       "    </tr>\n",
       "    <tr>\n",
       "      <th>profit</th>\n",
       "      <td>1,289.97</td>\n",
       "      <td>2,070.15</td>\n",
       "    </tr>\n",
       "    <tr>\n",
       "      <th>quantity_mb_used</th>\n",
       "      <td>16,207.88</td>\n",
       "      <td>19,468.32</td>\n",
       "    </tr>\n",
       "    <tr>\n",
       "      <th>quantity_mes</th>\n",
       "      <td>33.38</td>\n",
       "      <td>49.36</td>\n",
       "    </tr>\n",
       "    <tr>\n",
       "      <th rowspan=\"4\" valign=\"top\">std</th>\n",
       "      <th>dur</th>\n",
       "      <td>190.31</td>\n",
       "      <td>317.61</td>\n",
       "    </tr>\n",
       "    <tr>\n",
       "      <th>profit</th>\n",
       "      <td>818.40</td>\n",
       "      <td>376.19</td>\n",
       "    </tr>\n",
       "    <tr>\n",
       "      <th>quantity_mb_used</th>\n",
       "      <td>5,870.48</td>\n",
       "      <td>10,087.17</td>\n",
       "    </tr>\n",
       "    <tr>\n",
       "      <th>quantity_mes</th>\n",
       "      <td>28.23</td>\n",
       "      <td>47.80</td>\n",
       "    </tr>\n",
       "    <tr>\n",
       "      <th rowspan=\"4\" valign=\"top\">var</th>\n",
       "      <th>dur</th>\n",
       "      <td>36,219.32</td>\n",
       "      <td>100,873.63</td>\n",
       "    </tr>\n",
       "    <tr>\n",
       "      <th>profit</th>\n",
       "      <td>669,785.71</td>\n",
       "      <td>141,516.75</td>\n",
       "    </tr>\n",
       "    <tr>\n",
       "      <th>quantity_mb_used</th>\n",
       "      <td>34,462,537.49</td>\n",
       "      <td>101,751,075.02</td>\n",
       "    </tr>\n",
       "    <tr>\n",
       "      <th>quantity_mes</th>\n",
       "      <td>796.81</td>\n",
       "      <td>2,285.27</td>\n",
       "    </tr>\n",
       "  </tbody>\n",
       "</table>\n",
       "</div>"
      ],
      "text/plain": [
       "tariff                        smart          ultra\n",
       "mean dur                     417.93         526.62\n",
       "     profit                1,289.97       2,070.15\n",
       "     quantity_mb_used     16,207.88      19,468.32\n",
       "     quantity_mes             33.38          49.36\n",
       "std  dur                     190.31         317.61\n",
       "     profit                  818.40         376.19\n",
       "     quantity_mb_used      5,870.48      10,087.17\n",
       "     quantity_mes             28.23          47.80\n",
       "var  dur                  36,219.32     100,873.63\n",
       "     profit              669,785.71     141,516.75\n",
       "     quantity_mb_used 34,462,537.49 101,751,075.02\n",
       "     quantity_mes            796.81       2,285.27"
      ]
     },
     "execution_count": 103,
     "metadata": {},
     "output_type": "execute_result"
    }
   ],
   "source": [
    "(\n",
    "    data_merge\n",
    "         .pivot_table(index = 'tariff', values = ['dur', 'quantity_mes', 'quantity_mb_used', 'profit'], \n",
    "                                                                  aggfunc = ['mean', 'std', 'var'])\n",
    "         .transpose() # переворачивает таблицу\n",
    ")"
   ]
  },
  {
   "cell_type": "code",
   "execution_count": 104,
   "metadata": {},
   "outputs": [
    {
     "data": {
      "text/html": [
       "<div>\n",
       "<style scoped>\n",
       "    .dataframe tbody tr th:only-of-type {\n",
       "        vertical-align: middle;\n",
       "    }\n",
       "\n",
       "    .dataframe tbody tr th {\n",
       "        vertical-align: top;\n",
       "    }\n",
       "\n",
       "    .dataframe thead th {\n",
       "        text-align: right;\n",
       "    }\n",
       "</style>\n",
       "<table border=\"1\" class=\"dataframe\">\n",
       "  <thead>\n",
       "    <tr style=\"text-align: right;\">\n",
       "      <th></th>\n",
       "      <th>tariff</th>\n",
       "      <th>smart</th>\n",
       "      <th>ultra</th>\n",
       "    </tr>\n",
       "  </thead>\n",
       "  <tbody>\n",
       "    <tr>\n",
       "      <th rowspan=\"4\" valign=\"top\">mean</th>\n",
       "      <th>dur</th>\n",
       "      <td>417.93</td>\n",
       "      <td>526.62</td>\n",
       "    </tr>\n",
       "    <tr>\n",
       "      <th>profit</th>\n",
       "      <td>1,289.97</td>\n",
       "      <td>2,070.15</td>\n",
       "    </tr>\n",
       "    <tr>\n",
       "      <th>quantity_mb_used</th>\n",
       "      <td>16,207.88</td>\n",
       "      <td>19,468.32</td>\n",
       "    </tr>\n",
       "    <tr>\n",
       "      <th>quantity_mes</th>\n",
       "      <td>33.38</td>\n",
       "      <td>49.36</td>\n",
       "    </tr>\n",
       "    <tr>\n",
       "      <th rowspan=\"4\" valign=\"top\">std</th>\n",
       "      <th>dur</th>\n",
       "      <td>190.31</td>\n",
       "      <td>317.61</td>\n",
       "    </tr>\n",
       "    <tr>\n",
       "      <th>profit</th>\n",
       "      <td>818.40</td>\n",
       "      <td>376.19</td>\n",
       "    </tr>\n",
       "    <tr>\n",
       "      <th>quantity_mb_used</th>\n",
       "      <td>5,870.48</td>\n",
       "      <td>10,087.17</td>\n",
       "    </tr>\n",
       "    <tr>\n",
       "      <th>quantity_mes</th>\n",
       "      <td>28.23</td>\n",
       "      <td>47.80</td>\n",
       "    </tr>\n",
       "    <tr>\n",
       "      <th rowspan=\"4\" valign=\"top\">var</th>\n",
       "      <th>dur</th>\n",
       "      <td>36,219.32</td>\n",
       "      <td>100,873.63</td>\n",
       "    </tr>\n",
       "    <tr>\n",
       "      <th>profit</th>\n",
       "      <td>669,785.71</td>\n",
       "      <td>141,516.75</td>\n",
       "    </tr>\n",
       "    <tr>\n",
       "      <th>quantity_mb_used</th>\n",
       "      <td>34,462,537.49</td>\n",
       "      <td>101,751,075.02</td>\n",
       "    </tr>\n",
       "    <tr>\n",
       "      <th>quantity_mes</th>\n",
       "      <td>796.81</td>\n",
       "      <td>2,285.27</td>\n",
       "    </tr>\n",
       "  </tbody>\n",
       "</table>\n",
       "</div>"
      ],
      "text/plain": [
       "tariff                        smart          ultra\n",
       "mean dur                     417.93         526.62\n",
       "     profit                1,289.97       2,070.15\n",
       "     quantity_mb_used     16,207.88      19,468.32\n",
       "     quantity_mes             33.38          49.36\n",
       "std  dur                     190.31         317.61\n",
       "     profit                  818.40         376.19\n",
       "     quantity_mb_used      5,870.48      10,087.17\n",
       "     quantity_mes             28.23          47.80\n",
       "var  dur                  36,219.32     100,873.63\n",
       "     profit              669,785.71     141,516.75\n",
       "     quantity_mb_used 34,462,537.49 101,751,075.02\n",
       "     quantity_mes            796.81       2,285.27"
      ]
     },
     "execution_count": 104,
     "metadata": {},
     "output_type": "execute_result"
    }
   ],
   "source": [
    "(\n",
    "    data_merge\n",
    "         .pivot_table(index = 'tariff', values = ['dur', 'quantity_mes', 'quantity_mb_used', 'profit'], \n",
    "                                                                  aggfunc = ['mean', 'std', 'var'])\n",
    "         .transpose() # переворачивает таблицу\n",
    ")"
   ]
  },
  {
   "cell_type": "markdown",
   "metadata": {},
   "source": [
    "## Работа с гипотезами."
   ]
  },
  {
   "cell_type": "markdown",
   "metadata": {},
   "source": [
    "### средняя выручка пользователей тарифов «Ультра» и «Смарт» различаются;"
   ]
  },
  {
   "cell_type": "markdown",
   "metadata": {},
   "source": [
    "**Двусторонняя гипотеза H_0, которую можно сформулировать таким образом, что выручка в среднем на тарифе Смарт равна средней выручке на тарифе Ультра **\n",
    "\n",
    "Я при помощи метода st.ttest_ind() выполню расчёт"
   ]
  },
  {
   "cell_type": "code",
   "execution_count": 105,
   "metadata": {},
   "outputs": [
    {
     "name": "stdout",
     "output_type": "stream",
     "text": [
      "p-значение: 1.4229814360764067e-160\n",
      "Отвергаем нулевую гипотезу\n"
     ]
    }
   ],
   "source": [
    "df_smart = data_merge[data_merge['tariff'] == 'smart']\n",
    "df_ultra = data_merge[data_merge['tariff'] == 'ultra']\n",
    "alpha = 0.05\n",
    "\n",
    "result = st.ttest_ind(df_smart['profit'], df_ultra['profit'])\n",
    "\n",
    "print('p-значение:', result.pvalue)\n",
    "\n",
    "if result.pvalue < alpha:\n",
    "    print('Отвергаем нулевую гипотезу')\n",
    "else:\n",
    "    print('Не получилось отвергнуть нулевую гипотезу')"
   ]
  },
  {
   "cell_type": "markdown",
   "metadata": {},
   "source": [
    "**В результате отвергается гипотеза о том, что выручки на тарифах не различаются. Данные подтверждаются расчётами.**\n",
    "\n",
    "Средняя выручка на тарифе Смарт: 1288.\n",
    "\n",
    "Средняя выручка на тарифе Смарт: 2099.\n",
    "\n",
    "**средняя выручка пользователей тарифов «Ультра» и «Смарт» различаются не отвергнута**"
   ]
  },
  {
   "cell_type": "markdown",
   "metadata": {},
   "source": [
    "### средняя выручка пользователей из Москвы отличается от выручки пользователей из других регионов."
   ]
  },
  {
   "cell_type": "code",
   "execution_count": 106,
   "metadata": {},
   "outputs": [
    {
     "data": {
      "text/plain": [
       "1546"
      ]
     },
     "execution_count": 106,
     "metadata": {},
     "output_type": "execute_result"
    }
   ],
   "source": [
    "# датафрейм для исследования выручки для Москвы\n",
    "from_Moscow_city = data_merge.query('city == \"Москва\"')\n",
    "# рассчёт средней выручки для перепроверки\n",
    "from_Moscow_city['profit'].mean().astype(int)"
   ]
  },
  {
   "cell_type": "code",
   "execution_count": 107,
   "metadata": {},
   "outputs": [
    {
     "data": {
      "text/plain": [
       "city\n",
       "Архангельск    1296\n",
       "Астрахань      1407\n",
       "Балашиха       1440\n",
       "Барнаул        1484\n",
       "Белгород        737\n",
       "               ... \n",
       "Челябинск      1718\n",
       "Череповец      2116\n",
       "Чита           1204\n",
       "Якутск         1552\n",
       "Ярославль      1563\n",
       "Name: profit, Length: 75, dtype: int64"
      ]
     },
     "execution_count": 107,
     "metadata": {},
     "output_type": "execute_result"
    }
   ],
   "source": [
    "# датафрейм для исследования выручки для иных городов\n",
    "from_another_city = data_merge.query('city != \"Москва\"')\n",
    "# рассчёт средней выручки по городам для перепроверки\n",
    "from_another_city.groupby('city')['profit'].mean().astype(int)"
   ]
  },
  {
   "cell_type": "markdown",
   "metadata": {},
   "source": [
    "Сформулирую гипотезы следущим образом: \n",
    "\n",
    "H_0: средняя выручка пользователей из Москвы совпадает с размером выручки пользователей из других регионов.\n",
    "\n",
    "H_1: средняя выручка пользователей из Москвы отличается от выручки пользователей из других регионов.\n",
    "\n",
    "Я при помощи метода st.ttest_ind() выполню расчёт"
   ]
  },
  {
   "cell_type": "code",
   "execution_count": 108,
   "metadata": {},
   "outputs": [
    {
     "name": "stdout",
     "output_type": "stream",
     "text": [
      "p-значение: 0.5440152911670224\n",
      "Не получилось отвергнуть нулевую гипотезу\n"
     ]
    }
   ],
   "source": [
    "alpha = 0.05\n",
    "\n",
    "result = st.ttest_ind(from_Moscow_city['profit'], from_another_city['profit'])\n",
    "\n",
    "print('p-значение:', result.pvalue)\n",
    "\n",
    "if result.pvalue < alpha:\n",
    "    print('Отвергаем нулевую гипотезу')\n",
    "else:\n",
    "    print('Не получилось отвергнуть нулевую гипотезу')  \n"
   ]
  },
  {
   "cell_type": "code",
   "execution_count": 109,
   "metadata": {},
   "outputs": [
    {
     "name": "stdout",
     "output_type": "stream",
     "text": [
      "p-значение: 0.1912450522572209\n",
      "Не получилось отвергнуть нулевую гипотезу\n"
     ]
    }
   ],
   "source": [
    "# Приведены два датасета: сумма покупок, совершённых за месяц посетителями ...\n",
    "\n",
    "sample_1 = [3071, 3636, 3454, 3151, 2185, 3259, 1727, 2263, 2015,\n",
    "2582, 4815, 633, 3186, 887, 2028, 3589, 2564, 1422, 1785,\n",
    "3180, 1770, 2716, 2546, 1848, 4644, 3134, 475, 2686,\n",
    "1838, 3352]\n",
    "sample_2 = [1211, 1228, 2157, 3699, 600, 1898, 1688, 1420, 5048, 3007,\n",
    "509, 3777, 5583, 3949, 121, 1674, 4300, 1338, 3066,\n",
    "3562, 1010, 2311, 462, 863, 2021, 528, 1849, 255,\n",
    "1740, 2596]\n",
    "alpha = .05 # критический уровень статистической значимости\n",
    "# если p-value окажется меньше него - отвергнем гипотезу\n",
    "results = st.ttest_ind(\n",
    "sample_1,\n",
    "sample_2)\n",
    "print('p-значение:', results.pvalue)\n",
    "if (results.pvalue < alpha):\n",
    "    print(\"Отвергаем нулевую гипотезу\")\n",
    "else:\n",
    "    print(\"Не получилось отвергнуть нулевую гипотезу\")"
   ]
  },
  {
   "cell_type": "code",
   "execution_count": 110,
   "metadata": {},
   "outputs": [
    {
     "data": {
      "text/plain": [
       "city\n",
       "Оренбург           2304\n",
       "Воронеж            2212\n",
       "Череповец          2162\n",
       "Чебоксары          1926\n",
       "Нижний Новгород    1853\n",
       "                   ... \n",
       "Барнаул             752\n",
       "Белгород            737\n",
       "Химки               638\n",
       "Тамбов              596\n",
       "Смоленск            593\n",
       "Name: profit, Length: 72, dtype: int64"
      ]
     },
     "execution_count": 110,
     "metadata": {},
     "output_type": "execute_result"
    }
   ],
   "source": [
    "city_profit_smart"
   ]
  },
  {
   "cell_type": "markdown",
   "metadata": {},
   "source": [
    "**Выводы:**\n",
    "\n",
    "**H_0: средняя выручка пользователей из Москвы совпадает с размером выручки пользователей из других регионов. Не получилось отвергнуть нулевую гипотезу.**\n",
    "\n",
    "**Гипотезу о том, что средняя выручка для жителей г. Москва и иных городов отличается подтвердить не удалось.**"
   ]
  },
  {
   "cell_type": "markdown",
   "metadata": {},
   "source": [
    "# Итоговое описание проекта\n",
    "\n",
    "\n",
    "Компания «Мегалайн» — федеральный оператор сотовой связи предлагает клиентам два тарифных плана: «Смарт» и «Ультра». Чтобы скорректировать рекламный бюджет, коммерческий департамент хочет понять, какой тариф приносит больше денег.\n",
    "\n",
    "**Вывод по тарифам**\n",
    "\n",
    "**Абоненты предпочитают Смарт**\n",
    "\n",
    "Доля лиц применяющих тариф Смарт:70.2%\n",
    "\n",
    "Доля лиц применяющих тариф Ультра:29.8%\n",
    "\n",
    "В среднем на тарифе Смарт продолжительность звонков 417 минут в месяц. Отмечу, что количество минут, включённых в абонентскую плату - 500. Данный показатель не достигается в среднем. Доля от общего количества человеко-месяцев, когда клиентами превышался лимит по продолжительности звоноков на тарифе Смарт:34.0%\n",
    "\n",
    "В среднем на тарифе Ультра продолжительность звонков 526 минут в месяц. При этом предусмотренный трафик в 3000 мин\\мес не расходуется. Даже 1500 мин\\мес выговаривают только 2 абонента.\n",
    "\n",
    "Распределение для Смарт близко к нормальному, имеет пик вблизи среднего значения. Что говорит об однородности наблюдений. \n",
    "\n",
    "Распределение Ультра не имеет ярко выраженного пика, выявлены совпадения со средним показателем, однако, имеется \"хвост\". Очевидно, абоненты данной группы демонстрируют различные типы поведения. Значительный всплеск наблюдается в районе нулевой отметки, что свидетельствует о пропущенных звонках значительным числом абонентов.\n",
    "\n",
    "Распределение в отношении СМС в обоих группах ассиметричное, пиковые позиции расположены в районе отметки в 30-35 сообщений, не совпадают со средними значениями, имеются \"хвосты\", что свидетельствует о неоднородности поведения внутри групп. Доля от общего количества человеко-месяцев, когда клиентами превышался по смс на тарифе Смарт:26.1%. На тарифе Ультра \"хвост\" значительно больше, чем в Смарт. При этом предусмотренный трафик в 1000 смс\\мес не расходуется даже в приближении. Максимальное количество сообщений - 224.Значительный всплеск, наблюдаемый в районе нулевой отметки, что свидетельствует о неиспользовании смс значительным числом абонентов.\n",
    "\n",
    "Распределение для абонентов Смарт нормальное, пик максимально близок к среднему значению. Что свидетельствует о том, что значительная доля абоенентов потребляет интернет-трафик в объёме, предусмотренном тарифом.\n",
    "\n",
    "Распределение для абонентов тарифа Ультра имеет пологий вид, несколько пиков и провалов. Один из пиков соответствует среднему значению. Поведение абонентов на тарифе Ультра носит в целом однородный характер. \n",
    "\n",
    "Исследование интернет-трафика:\n",
    "\n",
    "выявлена интересная закономерность на тарифах средняя продолжительность разговоров в минутах и израсходованный трафик в Мб равны по 417 и 526.\n",
    "\n",
    "В результате проведённого анализа установлено, что средняя выручка на тарифе Смарт составляет - 1298 и имеет колебания в зависимости от города от min - 593 до max 2304, что обусловлено количеством дополнительных расходов абонентов. И в среднем составляет 1288.\n",
    "\n",
    "Средняя выручка на тарифе Ультра:2070, и имеет колебания в зависимости от города от min - 1950 до max 3225. И в среднем составляет 2099.\n",
    "\n",
    "\n",
    "**Можно сделать однозначный вывод, что тариф Смарт предусматривает значительное количество дополнительных затрат со стороны абонентов в связи с всеобъемлющим перерасходом трафика. И является наиболее выгодным для компании при учёте предпочтения со стороны потребителей.**\n",
    "\n",
    "**Для работы представлены 5 датасетов. Проведено первичное исследование каждого. \n",
    "\n",
    "Произведена замена типа данных\n",
    "call_date, message_date, session_date - object to date - данные позиции отражают даты; \n",
    "id - object to int64 для удобства расчётов.\n",
    "\n",
    "duration - float64 to int64 (так как «Мегалайн» всегда округляет секунды до минут. Каждый звонок округляется отдельно: даже если он длился всего 1 секунду, будет засчитан как 1 минута).\n",
    "\n",
    "mb_used - float64 to int64 (Для веб-трафика отдельные сессии не считаются. Вместо этого общая сумма за месяц округляется в бо́льшую сторону. Если абонент использует 1025 мегабайт в этом месяце, с него возьмут плату за 2 гигабайта).\n",
    "\n",
    "в messages messages_date приведён к формату даты, проведена замена типа данных, пропусков и дубликатов не установлено.\n",
    "\n",
    "в calls call_date приведён к формату даты, проведена замена типа данных, округление, пропусков и дубликатов не установлено.\n",
    "\n",
    "в internet session_date приведён к формату даты, проведена замена типа данных, пропусков и дубликатов не установлено.\n",
    "\n",
    "Получилось следующее: 39613 звонков длились 0 минут.\n",
    "19699 соединений длилось 0 минут. Может быть происходили сбои.\n",
    "\n",
    "В расчётной части выполнены расчёты:\n",
    "\n",
    "количества сделанных звонков и израсходованных минут разговора по месяцам для каждого пользователя;\n",
    "\n",
    "количества отправленных сообщений по месяцам для каждого пользователя;\n",
    "\n",
    "объема израсходованного интернет-трафика по месяцам для каждого пользователя;\n",
    "\n",
    "помесячной выручки с каждого пользователя.\n",
    "\n",
    "**Работа с гипотезами:**\n",
    "\n",
    "**средняя выручка пользователей тарифов «Ультра» и «Смарт» различаются не получилось отвергнуть**\n",
    "\n",
    "**Гипотезу о том, что средняя выручка для жителей г. Москва и иных городов отличается подтвердить не удалось.**"
   ]
  },
  {
   "cell_type": "code",
   "execution_count": 111,
   "metadata": {},
   "outputs": [],
   "source": [
    "import seaborn as sns"
   ]
  },
  {
   "cell_type": "code",
   "execution_count": 112,
   "metadata": {},
   "outputs": [
    {
     "data": {
      "image/png": "[encoded data removed]",
      "text/plain": [
       "<Figure size 864x144 with 1 Axes>"
      ]
     },
     "metadata": {
      "needs_background": "light"
     },
     "output_type": "display_data"
    },
    {
     "data": {
      "image/png": "[encoded data removed]",
      "text/plain": [
       "<Figure size 864x144 with 1 Axes>"
      ]
     },
     "metadata": {
      "needs_background": "light"
     },
     "output_type": "display_data"
    },
    {
     "data": {
      "image/png": "[encoded data removed]",
      "text/plain": [
       "<Figure size 864x144 with 1 Axes>"
      ]
     },
     "metadata": {
      "needs_background": "light"
     },
     "output_type": "display_data"
    },
    {
     "data": {
      "image/png": "[encoded data removed]",
      "text/plain": [
       "<Figure size 864x144 with 1 Axes>"
      ]
     },
     "metadata": {
      "needs_background": "light"
     },
     "output_type": "display_data"
    }
   ],
   "source": [
    "for column in ['dur', 'quantity_mes', 'quantity_mb_used', 'profit']:    \n",
    "    g = sns.catplot(y='tariff', x=column, kind=\"box\", data=data_merge, orient='h', palette = 'pastel')\n",
    "    g.fig.set_figwidth(12)\n",
    "    g.fig.set_figheight(2)"
   ]
  },
  {
   "cell_type": "markdown",
   "metadata": {},
   "source": [
    "# Доп. анализ"
   ]
  },
  {
   "cell_type": "code",
   "execution_count": 113,
   "metadata": {},
   "outputs": [
    {
     "data": {
      "image/png": "[encoded data removed]",
      "text/plain": [
       "<Figure size 720x288 with 1 Axes>"
      ]
     },
     "metadata": {
      "needs_background": "light"
     },
     "output_type": "display_data"
    }
   ],
   "source": [
    "(data_merge\n",
    " .pivot_table(index='tariff', columns='month', values='user_id', aggfunc='count')\n",
    " .T\n",
    " .plot(kind='line', figsize=(10,4),  style = 'o-')\n",
    ")\n",
    "plt.title('Рост кол-ва клиентов по 2-м тарифам за год'+ \"\\n\")\n",
    "plt.xlabel('Месяц')\n",
    "plt.ylabel('кол-во');"
   ]
  },
  {
   "cell_type": "code",
   "execution_count": 114,
   "metadata": {},
   "outputs": [
    {
     "data": {
      "image/png": "[encoded data removed]",
      "text/plain": [
       "<Figure size 720x288 with 1 Axes>"
      ]
     },
     "metadata": {
      "needs_background": "light"
     },
     "output_type": "display_data"
    }
   ],
   "source": [
    "(data_merge\n",
    " .pivot_table(index='tariff', columns='month', values='profit', aggfunc='mean')\n",
    " .T\n",
    " .plot(kind='line', figsize=(10,4),  style = 'o-')\n",
    ")\n",
    "plt.title('Средняя ежемесячная выручка по 2-м тарифам за год'+ \"\\n\")\n",
    "plt.xlabel('Месяц')\n",
    "plt.ylabel('Рубли');"
   ]
  },
  {
   "cell_type": "code",
   "execution_count": 115,
   "metadata": {},
   "outputs": [
    {
     "data": {
      "image/png": "[encoded data removed]",
      "text/plain": [
       "<Figure size 720x288 with 1 Axes>"
      ]
     },
     "metadata": {
      "needs_background": "light"
     },
     "output_type": "display_data"
    }
   ],
   "source": [
    "(data_merge\n",
    " .pivot_table(index='tariff', columns='month', values='profit', aggfunc='sum')\n",
    " .T\n",
    " .plot(kind='line', figsize=(10,4),  style = 'o-')\n",
    ")\n",
    "plt.title('Суммарная ежемесячная выручка по 2-м тарифам за год'+ \"\\n\")\n",
    "plt.xlabel('Месяц')\n",
    "plt.ylabel('Рубли');"
   ]
  },
  {
   "cell_type": "markdown",
   "metadata": {},
   "source": [
    "# выручка от смартов уже в два раза выше выручки от ультры, но есть опасность - убегут клиенты смарт от такой счастливой жизни к конкурентам :)"
   ]
  },
  {
   "cell_type": "code",
   "execution_count": 116,
   "metadata": {},
   "outputs": [
    {
     "name": "stdout",
     "output_type": "stream",
     "text": [
      "Кол-во клентов покинувших компанию за год 38\n",
      "Кол-во клентов покинувших компанию за посл. 4 мес. 2018 г. на двух тарифах 35\n",
      "%  от общего кол-ва всех клиентов, покинувших компанию за посл. 4 мес. 2018 г. на двух тарифах 92.1\n",
      "Распределение оттока клиентов на тарифах за посл. 4 мес. 2018 г.\n"
     ]
    },
    {
     "data": {
      "text/html": [
       "<div>\n",
       "<style scoped>\n",
       "    .dataframe tbody tr th:only-of-type {\n",
       "        vertical-align: middle;\n",
       "    }\n",
       "\n",
       "    .dataframe tbody tr th {\n",
       "        vertical-align: top;\n",
       "    }\n",
       "\n",
       "    .dataframe thead th {\n",
       "        text-align: right;\n",
       "    }\n",
       "</style>\n",
       "<table border=\"1\" class=\"dataframe\">\n",
       "  <thead>\n",
       "    <tr style=\"text-align: right;\">\n",
       "      <th></th>\n",
       "      <th>churn_date</th>\n",
       "    </tr>\n",
       "    <tr>\n",
       "      <th>tariff</th>\n",
       "      <th></th>\n",
       "    </tr>\n",
       "  </thead>\n",
       "  <tbody>\n",
       "    <tr>\n",
       "      <th>smart</th>\n",
       "      <td>22</td>\n",
       "    </tr>\n",
       "    <tr>\n",
       "      <th>ultra</th>\n",
       "      <td>13</td>\n",
       "    </tr>\n",
       "  </tbody>\n",
       "</table>\n",
       "</div>"
      ],
      "text/plain": [
       "        churn_date\n",
       "tariff            \n",
       "smart           22\n",
       "ultra           13"
      ]
     },
     "execution_count": 116,
     "metadata": {},
     "output_type": "execute_result"
    }
   ],
   "source": [
    "# на скорую руку\n",
    "df_users = pd.read_csv('/datasets/users.csv')\n",
    "\n",
    "print ('Кол-во клентов покинувших компанию за год', df_users.churn_date.notna().sum())\n",
    "\n",
    "print ('Кол-во клентов покинувших компанию за посл. 4 мес. 2018 г. на двух тарифах',\n",
    "       df_users.query('churn_date > \"2018-09-25\"').churn_date.notna().sum()\n",
    "      )\n",
    "print ('%  от общего кол-ва всех клиентов, покинувших компанию за посл. 4 мес. 2018 г. на двух тарифах',\n",
    "    (df_users.query('churn_date > \"2018-09-25\"').churn_date.notna().sum()/df_users.churn_date.notna().sum()*100).round(1)\n",
    ")\n",
    "\n",
    "print ('Распределение оттока клиентов на тарифах за посл. 4 мес. 2018 г.')\n",
    "df_users.query('churn_date > \"2018-09-25\"').groupby('tariff')['churn_date'].count().to_frame()"
   ]
  }
 ],
 "metadata": {
  "ExecuteTimeLog": [
   {
    "duration": 4,
    "start_time": "2022-03-18T10:02:45.028Z"
   },
   {
    "duration": 1407,
    "start_time": "2022-03-18T10:03:33.434Z"
   },
   {
    "duration": 224,
    "start_time": "2022-03-18T10:03:46.664Z"
   },
   {
    "duration": 99,
    "start_time": "2022-03-18T10:04:21.624Z"
   },
   {
    "duration": 471,
    "start_time": "2022-03-18T10:05:31.167Z"
   },
   {
    "duration": 28,
    "start_time": "2022-03-18T10:05:50.524Z"
   },
   {
    "duration": 20,
    "start_time": "2022-03-18T10:06:24.722Z"
   },
   {
    "duration": 89,
    "start_time": "2022-03-18T10:06:41.093Z"
   },
   {
    "duration": 24,
    "start_time": "2022-03-18T10:07:46.815Z"
   },
   {
    "duration": 11,
    "start_time": "2022-03-18T10:07:59.444Z"
   },
   {
    "duration": 12,
    "start_time": "2022-03-18T10:08:11.240Z"
   },
   {
    "duration": 120,
    "start_time": "2022-03-18T10:22:16.182Z"
   },
   {
    "duration": 69,
    "start_time": "2022-03-18T10:22:33.999Z"
   },
   {
    "duration": 45,
    "start_time": "2022-03-18T10:28:43.158Z"
   },
   {
    "duration": 120,
    "start_time": "2022-03-18T10:28:55.490Z"
   },
   {
    "duration": 47,
    "start_time": "2022-03-18T10:29:08.766Z"
   },
   {
    "duration": 134,
    "start_time": "2022-03-18T10:29:23.575Z"
   },
   {
    "duration": 72,
    "start_time": "2022-03-18T10:29:51.956Z"
   },
   {
    "duration": 43,
    "start_time": "2022-03-18T10:30:27.158Z"
   },
   {
    "duration": 29,
    "start_time": "2022-03-18T10:31:15.473Z"
   },
   {
    "duration": 73,
    "start_time": "2022-03-18T10:32:41.633Z"
   },
   {
    "duration": 71,
    "start_time": "2022-03-18T10:32:53.793Z"
   },
   {
    "duration": 33,
    "start_time": "2022-03-18T10:33:14.265Z"
   },
   {
    "duration": 94,
    "start_time": "2022-03-18T10:38:53.595Z"
   },
   {
    "duration": 57,
    "start_time": "2022-03-18T10:38:58.408Z"
   },
   {
    "duration": 38,
    "start_time": "2022-03-18T10:40:13.364Z"
   },
   {
    "duration": 101,
    "start_time": "2022-03-18T10:40:26.602Z"
   },
   {
    "duration": 99,
    "start_time": "2022-03-18T10:40:37.715Z"
   },
   {
    "duration": 18,
    "start_time": "2022-03-18T10:41:03.656Z"
   },
   {
    "duration": 5,
    "start_time": "2022-03-18T10:41:20.415Z"
   },
   {
    "duration": 36,
    "start_time": "2022-03-18T10:42:10.720Z"
   },
   {
    "duration": 245,
    "start_time": "2022-03-18T10:42:56.133Z"
   },
   {
    "duration": 29,
    "start_time": "2022-03-18T10:43:23.495Z"
   },
   {
    "duration": 221,
    "start_time": "2022-03-18T10:47:14.404Z"
   },
   {
    "duration": 267,
    "start_time": "2022-03-18T10:47:51.968Z"
   },
   {
    "duration": 266,
    "start_time": "2022-03-18T10:47:55.718Z"
   },
   {
    "duration": 15,
    "start_time": "2022-03-18T10:50:21.723Z"
   },
   {
    "duration": 15,
    "start_time": "2022-03-18T10:50:42.609Z"
   },
   {
    "duration": 208,
    "start_time": "2022-03-18T10:50:59.893Z"
   },
   {
    "duration": 327,
    "start_time": "2022-03-18T10:52:29.893Z"
   },
   {
    "duration": 207,
    "start_time": "2022-03-18T10:52:45.889Z"
   },
   {
    "duration": 246,
    "start_time": "2022-03-18T10:52:52.637Z"
   },
   {
    "duration": 20,
    "start_time": "2022-03-18T10:55:20.758Z"
   },
   {
    "duration": 39,
    "start_time": "2022-03-18T10:55:31.340Z"
   },
   {
    "duration": 15,
    "start_time": "2022-03-18T10:56:02.199Z"
   },
   {
    "duration": 22,
    "start_time": "2022-03-18T10:56:20.199Z"
   },
   {
    "duration": 26,
    "start_time": "2022-03-18T10:56:48.268Z"
   },
   {
    "duration": 27,
    "start_time": "2022-03-18T10:57:05.981Z"
   },
   {
    "duration": 3,
    "start_time": "2022-03-18T10:58:11.272Z"
   },
   {
    "duration": 8,
    "start_time": "2022-03-18T10:58:21.325Z"
   },
   {
    "duration": 20,
    "start_time": "2022-03-18T10:58:31.450Z"
   },
   {
    "duration": 17,
    "start_time": "2022-03-18T10:58:55.518Z"
   },
   {
    "duration": 7,
    "start_time": "2022-03-18T10:59:06.420Z"
   },
   {
    "duration": 5,
    "start_time": "2022-03-18T10:59:18.535Z"
   },
   {
    "duration": 5,
    "start_time": "2022-03-18T10:59:31.176Z"
   },
   {
    "duration": 13,
    "start_time": "2022-03-18T10:59:41.139Z"
   },
   {
    "duration": 20,
    "start_time": "2022-03-18T11:00:33.384Z"
   },
   {
    "duration": 8,
    "start_time": "2022-03-18T11:00:48.145Z"
   },
   {
    "duration": 11,
    "start_time": "2022-03-18T11:01:11.352Z"
   },
   {
    "duration": 4,
    "start_time": "2022-03-18T11:01:16.336Z"
   },
   {
    "duration": 1916,
    "start_time": "2022-03-18T11:01:19.180Z"
   },
   {
    "duration": 7,
    "start_time": "2022-03-18T11:03:26.837Z"
   },
   {
    "duration": 4,
    "start_time": "2022-03-18T11:03:39.360Z"
   },
   {
    "duration": 76,
    "start_time": "2022-03-18T11:03:53.346Z"
   },
   {
    "duration": 15,
    "start_time": "2022-03-18T11:05:11.660Z"
   },
   {
    "duration": 4,
    "start_time": "2022-03-18T11:05:27.113Z"
   },
   {
    "duration": 9,
    "start_time": "2022-03-18T11:05:42.661Z"
   },
   {
    "duration": 15,
    "start_time": "2022-03-18T11:06:01.459Z"
   },
   {
    "duration": 14,
    "start_time": "2022-03-18T11:06:18.506Z"
   },
   {
    "duration": 4,
    "start_time": "2022-03-18T11:07:03.369Z"
   },
   {
    "duration": 7,
    "start_time": "2022-03-18T11:07:19.096Z"
   },
   {
    "duration": 4,
    "start_time": "2022-03-18T11:09:42.507Z"
   },
   {
    "duration": 4,
    "start_time": "2022-03-18T11:09:57.270Z"
   },
   {
    "duration": 6,
    "start_time": "2022-03-18T11:10:08.456Z"
   },
   {
    "duration": 6,
    "start_time": "2022-03-18T11:10:20.206Z"
   },
   {
    "duration": 3,
    "start_time": "2022-03-18T11:11:05.043Z"
   },
   {
    "duration": 5,
    "start_time": "2022-03-18T11:11:15.270Z"
   },
   {
    "duration": 5,
    "start_time": "2022-03-18T11:11:29.030Z"
   },
   {
    "duration": 5,
    "start_time": "2022-03-18T11:11:54.789Z"
   },
   {
    "duration": 5,
    "start_time": "2022-03-18T11:12:11.823Z"
   },
   {
    "duration": 5,
    "start_time": "2022-03-18T11:12:31.071Z"
   },
   {
    "duration": 512,
    "start_time": "2022-03-18T11:12:49.985Z"
   },
   {
    "duration": 485,
    "start_time": "2022-03-18T11:13:14.857Z"
   },
   {
    "duration": 533,
    "start_time": "2022-03-18T11:13:43.486Z"
   },
   {
    "duration": 4,
    "start_time": "2022-03-18T11:15:45.468Z"
   },
   {
    "duration": 5,
    "start_time": "2022-03-18T11:15:58.546Z"
   },
   {
    "duration": 4,
    "start_time": "2022-03-18T11:16:33.516Z"
   },
   {
    "duration": 705,
    "start_time": "2022-03-18T11:16:55.058Z"
   },
   {
    "duration": 905,
    "start_time": "2022-03-18T11:17:13.191Z"
   },
   {
    "duration": 5,
    "start_time": "2022-03-18T11:18:21.709Z"
   },
   {
    "duration": 6,
    "start_time": "2022-03-18T11:18:34.080Z"
   },
   {
    "duration": 5,
    "start_time": "2022-03-18T11:19:17.015Z"
   },
   {
    "duration": 5,
    "start_time": "2022-03-18T11:19:28.880Z"
   },
   {
    "duration": 614,
    "start_time": "2022-03-18T11:22:14.292Z"
   },
   {
    "duration": 930,
    "start_time": "2022-03-18T11:22:31.744Z"
   },
   {
    "duration": 5,
    "start_time": "2022-03-18T11:24:57.625Z"
   },
   {
    "duration": 5,
    "start_time": "2022-03-18T11:25:13.423Z"
   },
   {
    "duration": 4,
    "start_time": "2022-03-18T11:25:56.051Z"
   },
   {
    "duration": 4,
    "start_time": "2022-03-18T11:26:07.951Z"
   },
   {
    "duration": 163,
    "start_time": "2022-03-18T11:26:21.336Z"
   },
   {
    "duration": 5,
    "start_time": "2022-03-18T11:26:40.003Z"
   },
   {
    "duration": 4,
    "start_time": "2022-03-18T11:26:53.472Z"
   },
   {
    "duration": 5,
    "start_time": "2022-03-18T11:27:37.596Z"
   },
   {
    "duration": 6,
    "start_time": "2022-03-18T11:27:51.872Z"
   },
   {
    "duration": 5,
    "start_time": "2022-03-18T11:29:27.450Z"
   },
   {
    "duration": 5,
    "start_time": "2022-03-18T11:29:42.863Z"
   },
   {
    "duration": 171,
    "start_time": "2022-03-18T11:30:42.882Z"
   },
   {
    "duration": 5,
    "start_time": "2022-03-18T11:33:24.094Z"
   },
   {
    "duration": 4,
    "start_time": "2022-03-18T11:33:40.074Z"
   },
   {
    "duration": 5,
    "start_time": "2022-03-18T11:34:26.253Z"
   },
   {
    "duration": 5,
    "start_time": "2022-03-18T11:34:53.862Z"
   },
   {
    "duration": 5,
    "start_time": "2022-03-18T11:37:25.954Z"
   },
   {
    "duration": 5,
    "start_time": "2022-03-18T11:37:58.518Z"
   },
   {
    "duration": 5,
    "start_time": "2022-03-18T11:38:38.873Z"
   },
   {
    "duration": 6,
    "start_time": "2022-03-18T11:45:21.577Z"
   },
   {
    "duration": 17,
    "start_time": "2022-03-18T11:46:10.669Z"
   },
   {
    "duration": 7,
    "start_time": "2022-03-18T11:46:32.205Z"
   },
   {
    "duration": 4,
    "start_time": "2022-03-18T11:47:09.150Z"
   },
   {
    "duration": 5,
    "start_time": "2022-03-18T12:07:44.841Z"
   },
   {
    "duration": 5,
    "start_time": "2022-03-18T12:08:21.461Z"
   },
   {
    "duration": 4,
    "start_time": "2022-03-18T12:08:34.418Z"
   },
   {
    "duration": 4,
    "start_time": "2022-03-18T12:08:48.478Z"
   },
   {
    "duration": 5,
    "start_time": "2022-03-18T12:23:53.025Z"
   },
   {
    "duration": 1219,
    "start_time": "2022-03-29T11:38:04.049Z"
   },
   {
    "duration": 383,
    "start_time": "2022-03-29T11:38:05.270Z"
   },
   {
    "duration": 27,
    "start_time": "2022-03-29T11:38:05.655Z"
   },
   {
    "duration": 19,
    "start_time": "2022-03-29T11:38:05.684Z"
   },
   {
    "duration": 83,
    "start_time": "2022-03-29T11:38:05.705Z"
   },
   {
    "duration": 31,
    "start_time": "2022-03-29T11:38:05.790Z"
   },
   {
    "duration": 11,
    "start_time": "2022-03-29T11:38:05.823Z"
   },
   {
    "duration": 10,
    "start_time": "2022-03-29T11:38:05.836Z"
   },
   {
    "duration": 135,
    "start_time": "2022-03-29T11:38:05.848Z"
   },
   {
    "duration": 70,
    "start_time": "2022-03-29T11:38:05.986Z"
   },
   {
    "duration": 56,
    "start_time": "2022-03-29T11:38:06.057Z"
   },
   {
    "duration": 125,
    "start_time": "2022-03-29T11:38:06.115Z"
   },
   {
    "duration": 45,
    "start_time": "2022-03-29T11:38:06.242Z"
   },
   {
    "duration": 144,
    "start_time": "2022-03-29T11:38:06.289Z"
   },
   {
    "duration": 74,
    "start_time": "2022-03-29T11:38:06.435Z"
   },
   {
    "duration": 42,
    "start_time": "2022-03-29T11:38:06.510Z"
   },
   {
    "duration": 27,
    "start_time": "2022-03-29T11:38:06.553Z"
   },
   {
    "duration": 83,
    "start_time": "2022-03-29T11:38:06.581Z"
   },
   {
    "duration": 95,
    "start_time": "2022-03-29T11:38:06.666Z"
   },
   {
    "duration": 30,
    "start_time": "2022-03-29T11:38:06.763Z"
   },
   {
    "duration": 93,
    "start_time": "2022-03-29T11:38:06.808Z"
   },
   {
    "duration": 54,
    "start_time": "2022-03-29T11:38:06.909Z"
   },
   {
    "duration": 52,
    "start_time": "2022-03-29T11:38:06.964Z"
   },
   {
    "duration": 79,
    "start_time": "2022-03-29T11:38:07.018Z"
   },
   {
    "duration": 104,
    "start_time": "2022-03-29T11:38:07.108Z"
   },
   {
    "duration": 17,
    "start_time": "2022-03-29T11:38:07.213Z"
   },
   {
    "duration": 4,
    "start_time": "2022-03-29T11:38:07.231Z"
   },
   {
    "duration": 36,
    "start_time": "2022-03-29T11:38:07.240Z"
   },
   {
    "duration": 241,
    "start_time": "2022-03-29T11:38:07.278Z"
   },
   {
    "duration": 36,
    "start_time": "2022-03-29T11:38:07.521Z"
   },
   {
    "duration": 230,
    "start_time": "2022-03-29T11:38:07.559Z"
   },
   {
    "duration": 259,
    "start_time": "2022-03-29T11:38:07.791Z"
   },
   {
    "duration": 15,
    "start_time": "2022-03-29T11:38:08.052Z"
   },
   {
    "duration": 13,
    "start_time": "2022-03-29T11:38:08.069Z"
   },
   {
    "duration": 221,
    "start_time": "2022-03-29T11:38:08.083Z"
   },
   {
    "duration": 256,
    "start_time": "2022-03-29T11:38:08.309Z"
   },
   {
    "duration": 19,
    "start_time": "2022-03-29T11:38:08.567Z"
   },
   {
    "duration": 128,
    "start_time": "2022-03-29T11:38:08.587Z"
   },
   {
    "duration": 15,
    "start_time": "2022-03-29T11:38:08.716Z"
   },
   {
    "duration": 20,
    "start_time": "2022-03-29T11:38:08.733Z"
   },
   {
    "duration": 25,
    "start_time": "2022-03-29T11:38:08.754Z"
   },
   {
    "duration": 26,
    "start_time": "2022-03-29T11:38:08.808Z"
   },
   {
    "duration": 3,
    "start_time": "2022-03-29T11:38:08.836Z"
   },
   {
    "duration": 15,
    "start_time": "2022-03-29T11:38:08.841Z"
   },
   {
    "duration": 51,
    "start_time": "2022-03-29T11:38:08.858Z"
   },
   {
    "duration": 22,
    "start_time": "2022-03-29T11:38:08.911Z"
   },
   {
    "duration": 10,
    "start_time": "2022-03-29T11:38:08.935Z"
   },
   {
    "duration": 6,
    "start_time": "2022-03-29T11:38:08.947Z"
   },
   {
    "duration": 7,
    "start_time": "2022-03-29T11:38:08.954Z"
   },
   {
    "duration": 48,
    "start_time": "2022-03-29T11:38:08.963Z"
   },
   {
    "duration": 21,
    "start_time": "2022-03-29T11:38:09.013Z"
   },
   {
    "duration": 9,
    "start_time": "2022-03-29T11:38:09.036Z"
   },
   {
    "duration": 6,
    "start_time": "2022-03-29T11:38:09.047Z"
   },
   {
    "duration": 1854,
    "start_time": "2022-03-29T11:38:09.055Z"
   },
   {
    "duration": 5,
    "start_time": "2022-03-29T11:38:10.911Z"
   },
   {
    "duration": 6,
    "start_time": "2022-03-29T11:38:10.917Z"
   },
   {
    "duration": 97,
    "start_time": "2022-03-29T11:38:10.925Z"
   },
   {
    "duration": 18,
    "start_time": "2022-03-29T11:38:11.023Z"
   },
   {
    "duration": 5,
    "start_time": "2022-03-29T11:38:11.042Z"
   },
   {
    "duration": 9,
    "start_time": "2022-03-29T11:38:11.048Z"
   },
   {
    "duration": 15,
    "start_time": "2022-03-29T11:38:11.059Z"
   },
   {
    "duration": 4,
    "start_time": "2022-03-29T11:38:11.108Z"
   },
   {
    "duration": 13,
    "start_time": "2022-03-29T11:38:11.114Z"
   },
   {
    "duration": 4,
    "start_time": "2022-03-29T11:38:11.129Z"
   },
   {
    "duration": 8,
    "start_time": "2022-03-29T11:38:11.134Z"
   },
   {
    "duration": 8,
    "start_time": "2022-03-29T11:38:11.143Z"
   },
   {
    "duration": 5,
    "start_time": "2022-03-29T11:38:11.153Z"
   },
   {
    "duration": 5,
    "start_time": "2022-03-29T11:38:11.159Z"
   },
   {
    "duration": 44,
    "start_time": "2022-03-29T11:38:11.165Z"
   },
   {
    "duration": 6,
    "start_time": "2022-03-29T11:38:11.211Z"
   },
   {
    "duration": 6,
    "start_time": "2022-03-29T11:38:11.218Z"
   },
   {
    "duration": 8,
    "start_time": "2022-03-29T11:38:11.226Z"
   },
   {
    "duration": 8,
    "start_time": "2022-03-29T11:38:11.236Z"
   },
   {
    "duration": 461,
    "start_time": "2022-03-29T11:38:11.245Z"
   },
   {
    "duration": 591,
    "start_time": "2022-03-29T11:38:11.707Z"
   },
   {
    "duration": 11,
    "start_time": "2022-03-29T11:38:12.300Z"
   },
   {
    "duration": 6,
    "start_time": "2022-03-29T11:38:12.312Z"
   },
   {
    "duration": 5,
    "start_time": "2022-03-29T11:38:12.320Z"
   },
   {
    "duration": 609,
    "start_time": "2022-03-29T11:38:12.327Z"
   },
   {
    "duration": 986,
    "start_time": "2022-03-29T11:38:12.938Z"
   },
   {
    "duration": 4,
    "start_time": "2022-03-29T11:38:13.927Z"
   },
   {
    "duration": 6,
    "start_time": "2022-03-29T11:38:13.938Z"
   },
   {
    "duration": 12,
    "start_time": "2022-03-29T11:38:13.946Z"
   },
   {
    "duration": 9,
    "start_time": "2022-03-29T11:38:13.960Z"
   },
   {
    "duration": 649,
    "start_time": "2022-03-29T11:38:13.971Z"
   },
   {
    "duration": 797,
    "start_time": "2022-03-29T11:38:14.622Z"
   },
   {
    "duration": 5,
    "start_time": "2022-03-29T11:38:15.420Z"
   },
   {
    "duration": 9,
    "start_time": "2022-03-29T11:38:15.427Z"
   },
   {
    "duration": 6,
    "start_time": "2022-03-29T11:38:15.438Z"
   },
   {
    "duration": 6,
    "start_time": "2022-03-29T11:38:15.446Z"
   },
   {
    "duration": 5,
    "start_time": "2022-03-29T11:38:15.454Z"
   },
   {
    "duration": 5,
    "start_time": "2022-03-29T11:38:15.461Z"
   },
   {
    "duration": 43,
    "start_time": "2022-03-29T11:38:15.468Z"
   },
   {
    "duration": 5,
    "start_time": "2022-03-29T11:38:15.513Z"
   },
   {
    "duration": 6,
    "start_time": "2022-03-29T11:38:15.520Z"
   },
   {
    "duration": 5,
    "start_time": "2022-03-29T11:38:15.528Z"
   },
   {
    "duration": 7,
    "start_time": "2022-03-29T11:38:15.535Z"
   },
   {
    "duration": 5,
    "start_time": "2022-03-29T11:38:15.544Z"
   },
   {
    "duration": 5,
    "start_time": "2022-03-29T11:38:15.551Z"
   },
   {
    "duration": 5,
    "start_time": "2022-03-29T11:38:15.558Z"
   },
   {
    "duration": 47,
    "start_time": "2022-03-29T11:38:15.565Z"
   },
   {
    "duration": 6,
    "start_time": "2022-03-29T11:38:15.613Z"
   },
   {
    "duration": 7,
    "start_time": "2022-03-29T11:38:15.620Z"
   },
   {
    "duration": 5,
    "start_time": "2022-03-29T11:38:15.629Z"
   },
   {
    "duration": 6,
    "start_time": "2022-03-29T11:38:15.636Z"
   },
   {
    "duration": 7,
    "start_time": "2022-03-29T11:38:15.643Z"
   },
   {
    "duration": 182,
    "start_time": "2022-03-29T11:38:15.652Z"
   },
   {
    "duration": 6,
    "start_time": "2022-03-29T11:38:15.837Z"
   },
   {
    "duration": 19,
    "start_time": "2022-03-29T11:40:39.084Z"
   },
   {
    "duration": 101,
    "start_time": "2022-03-29T11:41:08.948Z"
   },
   {
    "duration": 1166,
    "start_time": "2022-03-29T11:44:53.868Z"
   },
   {
    "duration": 357,
    "start_time": "2022-03-29T11:44:55.036Z"
   },
   {
    "duration": 25,
    "start_time": "2022-03-29T11:44:55.395Z"
   },
   {
    "duration": 19,
    "start_time": "2022-03-29T11:44:55.421Z"
   },
   {
    "duration": 89,
    "start_time": "2022-03-29T11:44:55.442Z"
   },
   {
    "duration": 20,
    "start_time": "2022-03-29T11:44:55.533Z"
   },
   {
    "duration": 17,
    "start_time": "2022-03-29T11:44:55.555Z"
   },
   {
    "duration": 17,
    "start_time": "2022-03-29T11:44:55.573Z"
   },
   {
    "duration": 113,
    "start_time": "2022-03-29T11:44:55.591Z"
   },
   {
    "duration": 61,
    "start_time": "2022-03-29T11:44:55.708Z"
   },
   {
    "duration": 56,
    "start_time": "2022-03-29T11:44:55.770Z"
   },
   {
    "duration": 119,
    "start_time": "2022-03-29T11:44:55.827Z"
   },
   {
    "duration": 40,
    "start_time": "2022-03-29T11:44:55.948Z"
   },
   {
    "duration": 130,
    "start_time": "2022-03-29T11:44:55.992Z"
   },
   {
    "duration": 58,
    "start_time": "2022-03-29T11:44:56.123Z"
   },
   {
    "duration": 51,
    "start_time": "2022-03-29T11:44:56.182Z"
   },
   {
    "duration": 24,
    "start_time": "2022-03-29T11:44:56.235Z"
   },
   {
    "duration": 75,
    "start_time": "2022-03-29T11:44:56.260Z"
   },
   {
    "duration": 62,
    "start_time": "2022-03-29T11:44:56.337Z"
   },
   {
    "duration": 28,
    "start_time": "2022-03-29T11:44:56.408Z"
   },
   {
    "duration": 86,
    "start_time": "2022-03-29T11:44:56.438Z"
   },
   {
    "duration": 46,
    "start_time": "2022-03-29T11:44:56.526Z"
   },
   {
    "duration": 43,
    "start_time": "2022-03-29T11:44:56.573Z"
   },
   {
    "duration": 75,
    "start_time": "2022-03-29T11:44:56.618Z"
   },
   {
    "duration": 99,
    "start_time": "2022-03-29T11:44:56.695Z"
   },
   {
    "duration": 24,
    "start_time": "2022-03-29T11:44:56.795Z"
   },
   {
    "duration": 4,
    "start_time": "2022-03-29T11:44:56.821Z"
   },
   {
    "duration": 40,
    "start_time": "2022-03-29T11:44:56.827Z"
   },
   {
    "duration": 221,
    "start_time": "2022-03-29T11:44:56.869Z"
   },
   {
    "duration": 35,
    "start_time": "2022-03-29T11:44:57.092Z"
   },
   {
    "duration": 199,
    "start_time": "2022-03-29T11:44:57.129Z"
   },
   {
    "duration": 251,
    "start_time": "2022-03-29T11:44:57.330Z"
   },
   {
    "duration": 26,
    "start_time": "2022-03-29T11:44:57.583Z"
   },
   {
    "duration": 12,
    "start_time": "2022-03-29T11:44:57.610Z"
   },
   {
    "duration": 192,
    "start_time": "2022-03-29T11:44:57.624Z"
   },
   {
    "duration": 246,
    "start_time": "2022-03-29T11:44:57.818Z"
   },
   {
    "duration": 19,
    "start_time": "2022-03-29T11:44:58.066Z"
   },
   {
    "duration": 115,
    "start_time": "2022-03-29T11:44:58.086Z"
   },
   {
    "duration": 14,
    "start_time": "2022-03-29T11:44:58.203Z"
   },
   {
    "duration": 19,
    "start_time": "2022-03-29T11:44:58.219Z"
   },
   {
    "duration": 24,
    "start_time": "2022-03-29T11:44:58.243Z"
   },
   {
    "duration": 52,
    "start_time": "2022-03-29T11:44:58.269Z"
   },
   {
    "duration": 3,
    "start_time": "2022-03-29T11:44:58.323Z"
   },
   {
    "duration": 13,
    "start_time": "2022-03-29T11:44:58.327Z"
   },
   {
    "duration": 20,
    "start_time": "2022-03-29T11:44:58.342Z"
   },
   {
    "duration": 17,
    "start_time": "2022-03-29T11:44:58.364Z"
   },
   {
    "duration": 33,
    "start_time": "2022-03-29T11:44:58.382Z"
   },
   {
    "duration": 4,
    "start_time": "2022-03-29T11:44:58.416Z"
   },
   {
    "duration": 9,
    "start_time": "2022-03-29T11:44:58.422Z"
   },
   {
    "duration": 14,
    "start_time": "2022-03-29T11:44:58.432Z"
   },
   {
    "duration": 18,
    "start_time": "2022-03-29T11:44:58.447Z"
   },
   {
    "duration": 8,
    "start_time": "2022-03-29T11:44:58.466Z"
   },
   {
    "duration": 4,
    "start_time": "2022-03-29T11:44:58.475Z"
   },
   {
    "duration": 1708,
    "start_time": "2022-03-29T11:44:58.508Z"
   },
   {
    "duration": 4,
    "start_time": "2022-03-29T11:45:00.218Z"
   },
   {
    "duration": 14,
    "start_time": "2022-03-29T11:45:00.223Z"
   },
   {
    "duration": 86,
    "start_time": "2022-03-29T11:45:00.239Z"
   },
   {
    "duration": 15,
    "start_time": "2022-03-29T11:45:00.327Z"
   },
   {
    "duration": 3,
    "start_time": "2022-03-29T11:45:00.344Z"
   },
   {
    "duration": 10,
    "start_time": "2022-03-29T11:45:00.348Z"
   },
   {
    "duration": 20,
    "start_time": "2022-03-29T11:45:00.359Z"
   },
   {
    "duration": 28,
    "start_time": "2022-03-29T11:45:00.380Z"
   },
   {
    "duration": 8,
    "start_time": "2022-03-29T11:45:00.410Z"
   },
   {
    "duration": 11,
    "start_time": "2022-03-29T11:45:00.419Z"
   },
   {
    "duration": 6,
    "start_time": "2022-03-29T11:45:00.432Z"
   },
   {
    "duration": 11,
    "start_time": "2022-03-29T11:45:00.440Z"
   },
   {
    "duration": 19,
    "start_time": "2022-03-29T11:45:00.453Z"
   },
   {
    "duration": 12,
    "start_time": "2022-03-29T11:45:00.474Z"
   },
   {
    "duration": 20,
    "start_time": "2022-03-29T11:45:00.488Z"
   },
   {
    "duration": 16,
    "start_time": "2022-03-29T11:45:00.510Z"
   },
   {
    "duration": 8,
    "start_time": "2022-03-29T11:45:00.528Z"
   },
   {
    "duration": 8,
    "start_time": "2022-03-29T11:45:00.538Z"
   },
   {
    "duration": 15,
    "start_time": "2022-03-29T11:45:00.547Z"
   },
   {
    "duration": 453,
    "start_time": "2022-03-29T11:45:00.565Z"
   },
   {
    "duration": 632,
    "start_time": "2022-03-29T11:45:01.020Z"
   },
   {
    "duration": 4,
    "start_time": "2022-03-29T11:45:01.653Z"
   },
   {
    "duration": 9,
    "start_time": "2022-03-29T11:45:01.659Z"
   },
   {
    "duration": 11,
    "start_time": "2022-03-29T11:45:01.670Z"
   },
   {
    "duration": 586,
    "start_time": "2022-03-29T11:45:01.682Z"
   },
   {
    "duration": 942,
    "start_time": "2022-03-29T11:45:02.270Z"
   },
   {
    "duration": 3,
    "start_time": "2022-03-29T11:45:03.214Z"
   },
   {
    "duration": 8,
    "start_time": "2022-03-29T11:45:03.219Z"
   },
   {
    "duration": 6,
    "start_time": "2022-03-29T11:45:03.228Z"
   },
   {
    "duration": 11,
    "start_time": "2022-03-29T11:45:03.235Z"
   },
   {
    "duration": 576,
    "start_time": "2022-03-29T11:45:03.247Z"
   },
   {
    "duration": 793,
    "start_time": "2022-03-29T11:45:03.825Z"
   },
   {
    "duration": 5,
    "start_time": "2022-03-29T11:45:04.620Z"
   },
   {
    "duration": 5,
    "start_time": "2022-03-29T11:45:04.627Z"
   },
   {
    "duration": 5,
    "start_time": "2022-03-29T11:45:04.634Z"
   },
   {
    "duration": 4,
    "start_time": "2022-03-29T11:45:04.641Z"
   },
   {
    "duration": 7,
    "start_time": "2022-03-29T11:45:04.647Z"
   },
   {
    "duration": 4,
    "start_time": "2022-03-29T11:45:04.656Z"
   },
   {
    "duration": 6,
    "start_time": "2022-03-29T11:45:04.662Z"
   },
   {
    "duration": 39,
    "start_time": "2022-03-29T11:45:04.670Z"
   },
   {
    "duration": 5,
    "start_time": "2022-03-29T11:45:04.711Z"
   },
   {
    "duration": 5,
    "start_time": "2022-03-29T11:45:04.718Z"
   },
   {
    "duration": 5,
    "start_time": "2022-03-29T11:45:04.724Z"
   },
   {
    "duration": 4,
    "start_time": "2022-03-29T11:45:04.731Z"
   },
   {
    "duration": 9,
    "start_time": "2022-03-29T11:45:04.737Z"
   },
   {
    "duration": 6,
    "start_time": "2022-03-29T11:45:04.747Z"
   },
   {
    "duration": 5,
    "start_time": "2022-03-29T11:45:04.755Z"
   },
   {
    "duration": 48,
    "start_time": "2022-03-29T11:45:04.761Z"
   },
   {
    "duration": 5,
    "start_time": "2022-03-29T11:45:04.811Z"
   },
   {
    "duration": 5,
    "start_time": "2022-03-29T11:45:04.817Z"
   },
   {
    "duration": 9,
    "start_time": "2022-03-29T11:45:04.823Z"
   },
   {
    "duration": 5,
    "start_time": "2022-03-29T11:45:04.833Z"
   },
   {
    "duration": 1056,
    "start_time": "2022-03-29T11:45:34.390Z"
   },
   {
    "duration": 341,
    "start_time": "2022-03-29T11:45:35.447Z"
   },
   {
    "duration": 27,
    "start_time": "2022-03-29T11:45:35.789Z"
   },
   {
    "duration": 19,
    "start_time": "2022-03-29T11:45:35.818Z"
   },
   {
    "duration": 92,
    "start_time": "2022-03-29T11:45:35.839Z"
   },
   {
    "duration": 22,
    "start_time": "2022-03-29T11:45:35.932Z"
   },
   {
    "duration": 10,
    "start_time": "2022-03-29T11:45:35.956Z"
   },
   {
    "duration": 19,
    "start_time": "2022-03-29T11:45:35.967Z"
   },
   {
    "duration": 127,
    "start_time": "2022-03-29T11:45:35.987Z"
   },
   {
    "duration": 59,
    "start_time": "2022-03-29T11:45:36.117Z"
   },
   {
    "duration": 48,
    "start_time": "2022-03-29T11:45:36.177Z"
   },
   {
    "duration": 118,
    "start_time": "2022-03-29T11:45:36.227Z"
   },
   {
    "duration": 41,
    "start_time": "2022-03-29T11:45:36.346Z"
   },
   {
    "duration": 129,
    "start_time": "2022-03-29T11:45:36.388Z"
   },
   {
    "duration": 57,
    "start_time": "2022-03-29T11:45:36.519Z"
   },
   {
    "duration": 52,
    "start_time": "2022-03-29T11:45:36.578Z"
   },
   {
    "duration": 27,
    "start_time": "2022-03-29T11:45:36.632Z"
   },
   {
    "duration": 83,
    "start_time": "2022-03-29T11:45:36.661Z"
   },
   {
    "duration": 77,
    "start_time": "2022-03-29T11:45:36.746Z"
   },
   {
    "duration": 30,
    "start_time": "2022-03-29T11:45:36.825Z"
   },
   {
    "duration": 95,
    "start_time": "2022-03-29T11:45:36.857Z"
   },
   {
    "duration": 58,
    "start_time": "2022-03-29T11:45:36.954Z"
   },
   {
    "duration": 32,
    "start_time": "2022-03-29T11:45:37.014Z"
   },
   {
    "duration": 89,
    "start_time": "2022-03-29T11:45:37.048Z"
   },
   {
    "duration": 97,
    "start_time": "2022-03-29T11:45:37.139Z"
   },
   {
    "duration": 15,
    "start_time": "2022-03-29T11:45:37.238Z"
   },
   {
    "duration": 5,
    "start_time": "2022-03-29T11:45:37.255Z"
   },
   {
    "duration": 53,
    "start_time": "2022-03-29T11:45:37.265Z"
   },
   {
    "duration": 215,
    "start_time": "2022-03-29T11:45:37.319Z"
   },
   {
    "duration": 25,
    "start_time": "2022-03-29T11:45:37.535Z"
   },
   {
    "duration": 214,
    "start_time": "2022-03-29T11:45:37.562Z"
   },
   {
    "duration": 257,
    "start_time": "2022-03-29T11:45:37.778Z"
   },
   {
    "duration": 15,
    "start_time": "2022-03-29T11:45:38.037Z"
   },
   {
    "duration": 13,
    "start_time": "2022-03-29T11:45:38.054Z"
   },
   {
    "duration": 198,
    "start_time": "2022-03-29T11:45:38.069Z"
   },
   {
    "duration": 241,
    "start_time": "2022-03-29T11:45:38.269Z"
   },
   {
    "duration": 19,
    "start_time": "2022-03-29T11:45:38.512Z"
   },
   {
    "duration": 123,
    "start_time": "2022-03-29T11:45:38.532Z"
   },
   {
    "duration": 15,
    "start_time": "2022-03-29T11:45:38.657Z"
   },
   {
    "duration": 35,
    "start_time": "2022-03-29T11:45:38.674Z"
   },
   {
    "duration": 26,
    "start_time": "2022-03-29T11:45:38.710Z"
   },
   {
    "duration": 23,
    "start_time": "2022-03-29T11:45:38.738Z"
   },
   {
    "duration": 4,
    "start_time": "2022-03-29T11:45:38.763Z"
   },
   {
    "duration": 41,
    "start_time": "2022-03-29T11:45:38.769Z"
   },
   {
    "duration": 21,
    "start_time": "2022-03-29T11:45:38.812Z"
   },
   {
    "duration": 14,
    "start_time": "2022-03-29T11:45:38.835Z"
   },
   {
    "duration": 7,
    "start_time": "2022-03-29T11:45:38.850Z"
   },
   {
    "duration": 4,
    "start_time": "2022-03-29T11:45:38.858Z"
   },
   {
    "duration": 8,
    "start_time": "2022-03-29T11:45:38.864Z"
   },
   {
    "duration": 44,
    "start_time": "2022-03-29T11:45:38.873Z"
   },
   {
    "duration": 17,
    "start_time": "2022-03-29T11:45:38.918Z"
   },
   {
    "duration": 6,
    "start_time": "2022-03-29T11:45:38.937Z"
   },
   {
    "duration": 3,
    "start_time": "2022-03-29T11:45:38.945Z"
   },
   {
    "duration": 1696,
    "start_time": "2022-03-29T11:45:38.950Z"
   },
   {
    "duration": 4,
    "start_time": "2022-03-29T11:45:40.648Z"
   },
   {
    "duration": 10,
    "start_time": "2022-03-29T11:45:40.653Z"
   },
   {
    "duration": 84,
    "start_time": "2022-03-29T11:45:40.665Z"
   },
   {
    "duration": 16,
    "start_time": "2022-03-29T11:45:40.750Z"
   },
   {
    "duration": 3,
    "start_time": "2022-03-29T11:45:40.768Z"
   },
   {
    "duration": 8,
    "start_time": "2022-03-29T11:45:40.773Z"
   },
   {
    "duration": 30,
    "start_time": "2022-03-29T11:45:40.782Z"
   },
   {
    "duration": 3,
    "start_time": "2022-03-29T11:45:40.814Z"
   },
   {
    "duration": 10,
    "start_time": "2022-03-29T11:45:40.819Z"
   },
   {
    "duration": 4,
    "start_time": "2022-03-29T11:45:40.830Z"
   },
   {
    "duration": 7,
    "start_time": "2022-03-29T11:45:40.836Z"
   },
   {
    "duration": 8,
    "start_time": "2022-03-29T11:45:40.844Z"
   },
   {
    "duration": 5,
    "start_time": "2022-03-29T11:45:40.853Z"
   },
   {
    "duration": 6,
    "start_time": "2022-03-29T11:45:40.860Z"
   },
   {
    "duration": 42,
    "start_time": "2022-03-29T11:45:40.868Z"
   },
   {
    "duration": 6,
    "start_time": "2022-03-29T11:45:40.911Z"
   },
   {
    "duration": 6,
    "start_time": "2022-03-29T11:45:40.918Z"
   },
   {
    "duration": 9,
    "start_time": "2022-03-29T11:45:40.926Z"
   },
   {
    "duration": 5,
    "start_time": "2022-03-29T11:45:40.936Z"
   },
   {
    "duration": 455,
    "start_time": "2022-03-29T11:45:40.943Z"
   },
   {
    "duration": 597,
    "start_time": "2022-03-29T11:45:41.400Z"
   },
   {
    "duration": 4,
    "start_time": "2022-03-29T11:45:41.999Z"
   },
   {
    "duration": 5,
    "start_time": "2022-03-29T11:45:42.009Z"
   },
   {
    "duration": 5,
    "start_time": "2022-03-29T11:45:42.016Z"
   },
   {
    "duration": 589,
    "start_time": "2022-03-29T11:45:42.022Z"
   },
   {
    "duration": 962,
    "start_time": "2022-03-29T11:45:42.613Z"
   },
   {
    "duration": 5,
    "start_time": "2022-03-29T11:45:43.576Z"
   },
   {
    "duration": 21,
    "start_time": "2022-03-29T11:45:43.588Z"
   },
   {
    "duration": 5,
    "start_time": "2022-03-29T11:45:43.610Z"
   },
   {
    "duration": 9,
    "start_time": "2022-03-29T11:45:43.617Z"
   },
   {
    "duration": 592,
    "start_time": "2022-03-29T11:45:43.628Z"
   },
   {
    "duration": 770,
    "start_time": "2022-03-29T11:45:44.222Z"
   },
   {
    "duration": 5,
    "start_time": "2022-03-29T11:45:44.993Z"
   },
   {
    "duration": 9,
    "start_time": "2022-03-29T11:45:45.008Z"
   },
   {
    "duration": 9,
    "start_time": "2022-03-29T11:45:45.020Z"
   },
   {
    "duration": 7,
    "start_time": "2022-03-29T11:45:45.031Z"
   },
   {
    "duration": 7,
    "start_time": "2022-03-29T11:45:45.040Z"
   },
   {
    "duration": 9,
    "start_time": "2022-03-29T11:45:45.049Z"
   },
   {
    "duration": 6,
    "start_time": "2022-03-29T11:45:45.060Z"
   },
   {
    "duration": 10,
    "start_time": "2022-03-29T11:45:45.068Z"
   },
   {
    "duration": 29,
    "start_time": "2022-03-29T11:45:45.080Z"
   },
   {
    "duration": 4,
    "start_time": "2022-03-29T11:45:45.112Z"
   },
   {
    "duration": 6,
    "start_time": "2022-03-29T11:45:45.118Z"
   },
   {
    "duration": 5,
    "start_time": "2022-03-29T11:45:45.126Z"
   },
   {
    "duration": 8,
    "start_time": "2022-03-29T11:45:45.133Z"
   },
   {
    "duration": 5,
    "start_time": "2022-03-29T11:45:45.143Z"
   },
   {
    "duration": 8,
    "start_time": "2022-03-29T11:45:45.150Z"
   },
   {
    "duration": 49,
    "start_time": "2022-03-29T11:45:45.160Z"
   },
   {
    "duration": 5,
    "start_time": "2022-03-29T11:45:45.211Z"
   },
   {
    "duration": 6,
    "start_time": "2022-03-29T11:45:45.218Z"
   },
   {
    "duration": 11,
    "start_time": "2022-03-29T11:45:45.226Z"
   },
   {
    "duration": 6,
    "start_time": "2022-03-29T11:45:45.239Z"
   },
   {
    "duration": 9,
    "start_time": "2022-03-29T11:45:58.882Z"
   },
   {
    "duration": 20,
    "start_time": "2022-03-29T11:46:09.827Z"
   },
   {
    "duration": 5,
    "start_time": "2022-03-29T11:47:17.172Z"
   },
   {
    "duration": 20,
    "start_time": "2022-03-29T11:47:30.117Z"
   },
   {
    "duration": 110,
    "start_time": "2022-03-29T11:48:07.824Z"
   },
   {
    "duration": 19,
    "start_time": "2022-03-29T11:48:12.808Z"
   },
   {
    "duration": 19,
    "start_time": "2022-03-29T11:48:31.680Z"
   },
   {
    "duration": 19,
    "start_time": "2022-03-29T11:48:40.743Z"
   },
   {
    "duration": 11,
    "start_time": "2022-03-29T11:49:35.001Z"
   },
   {
    "duration": 4,
    "start_time": "2022-03-29T11:49:48.601Z"
   },
   {
    "duration": 70,
    "start_time": "2022-03-29T11:59:02.368Z"
   },
   {
    "duration": 1792,
    "start_time": "2022-03-29T11:59:08.968Z"
   },
   {
    "duration": 478,
    "start_time": "2022-03-29T11:59:10.767Z"
   },
   {
    "duration": 37,
    "start_time": "2022-03-29T11:59:11.248Z"
   },
   {
    "duration": 27,
    "start_time": "2022-03-29T11:59:11.289Z"
   },
   {
    "duration": 135,
    "start_time": "2022-03-29T11:59:11.319Z"
   },
   {
    "duration": 36,
    "start_time": "2022-03-29T11:59:11.458Z"
   },
   {
    "duration": 16,
    "start_time": "2022-03-29T11:59:11.496Z"
   },
   {
    "duration": 17,
    "start_time": "2022-03-29T11:59:11.515Z"
   },
   {
    "duration": 153,
    "start_time": "2022-03-29T11:59:11.569Z"
   },
   {
    "duration": 94,
    "start_time": "2022-03-29T11:59:11.726Z"
   },
   {
    "duration": 72,
    "start_time": "2022-03-29T11:59:11.823Z"
   },
   {
    "duration": 161,
    "start_time": "2022-03-29T11:59:11.897Z"
   },
   {
    "duration": 63,
    "start_time": "2022-03-29T11:59:12.060Z"
   },
   {
    "duration": 222,
    "start_time": "2022-03-29T11:59:12.125Z"
   },
   {
    "duration": 89,
    "start_time": "2022-03-29T11:59:12.349Z"
   },
   {
    "duration": 91,
    "start_time": "2022-03-29T11:59:12.440Z"
   },
   {
    "duration": 53,
    "start_time": "2022-03-29T11:59:12.533Z"
   },
   {
    "duration": 103,
    "start_time": "2022-03-29T11:59:12.588Z"
   },
   {
    "duration": 138,
    "start_time": "2022-03-29T11:59:12.695Z"
   },
   {
    "duration": 45,
    "start_time": "2022-03-29T11:59:12.836Z"
   },
   {
    "duration": 124,
    "start_time": "2022-03-29T11:59:12.884Z"
   },
   {
    "duration": 71,
    "start_time": "2022-03-29T11:59:13.010Z"
   },
   {
    "duration": 41,
    "start_time": "2022-03-29T11:59:13.083Z"
   },
   {
    "duration": 136,
    "start_time": "2022-03-29T11:59:13.126Z"
   },
   {
    "duration": 191,
    "start_time": "2022-03-29T11:59:13.267Z"
   },
   {
    "duration": 28,
    "start_time": "2022-03-29T11:59:13.460Z"
   },
   {
    "duration": 6,
    "start_time": "2022-03-29T11:59:13.490Z"
   },
   {
    "duration": 69,
    "start_time": "2022-03-29T11:59:13.503Z"
   },
   {
    "duration": 339,
    "start_time": "2022-03-29T11:59:13.575Z"
   },
   {
    "duration": 32,
    "start_time": "2022-03-29T11:59:13.916Z"
   },
   {
    "duration": 343,
    "start_time": "2022-03-29T11:59:13.950Z"
   },
   {
    "duration": 391,
    "start_time": "2022-03-29T11:59:14.295Z"
   },
   {
    "duration": 19,
    "start_time": "2022-03-29T11:59:14.689Z"
   },
   {
    "duration": 19,
    "start_time": "2022-03-29T11:59:14.711Z"
   },
   {
    "duration": 328,
    "start_time": "2022-03-29T11:59:14.732Z"
   },
   {
    "duration": 391,
    "start_time": "2022-03-29T11:59:15.062Z"
   },
   {
    "duration": 33,
    "start_time": "2022-03-29T11:59:15.456Z"
   },
   {
    "duration": 156,
    "start_time": "2022-03-29T11:59:15.491Z"
   },
   {
    "duration": 30,
    "start_time": "2022-03-29T11:59:15.649Z"
   },
   {
    "duration": 30,
    "start_time": "2022-03-29T11:59:15.681Z"
   },
   {
    "duration": 58,
    "start_time": "2022-03-29T11:59:15.713Z"
   },
   {
    "duration": 33,
    "start_time": "2022-03-29T11:59:15.774Z"
   },
   {
    "duration": 4,
    "start_time": "2022-03-29T11:59:15.810Z"
   },
   {
    "duration": 17,
    "start_time": "2022-03-29T11:59:15.816Z"
   },
   {
    "duration": 61,
    "start_time": "2022-03-29T11:59:15.835Z"
   },
   {
    "duration": 25,
    "start_time": "2022-03-29T11:59:15.898Z"
   },
   {
    "duration": 10,
    "start_time": "2022-03-29T11:59:15.925Z"
   },
   {
    "duration": 6,
    "start_time": "2022-03-29T11:59:15.968Z"
   },
   {
    "duration": 16,
    "start_time": "2022-03-29T11:59:15.977Z"
   },
   {
    "duration": 28,
    "start_time": "2022-03-29T11:59:15.995Z"
   },
   {
    "duration": 47,
    "start_time": "2022-03-29T11:59:16.027Z"
   },
   {
    "duration": 16,
    "start_time": "2022-03-29T11:59:16.077Z"
   },
   {
    "duration": 9,
    "start_time": "2022-03-29T11:59:16.096Z"
   },
   {
    "duration": 3979,
    "start_time": "2022-03-29T11:59:16.107Z"
   },
   {
    "duration": 6,
    "start_time": "2022-03-29T11:59:20.088Z"
   },
   {
    "duration": 7,
    "start_time": "2022-03-29T11:59:20.096Z"
   },
   {
    "duration": 6,
    "start_time": "2022-03-29T11:59:20.105Z"
   },
   {
    "duration": 142,
    "start_time": "2022-03-29T11:59:20.113Z"
   },
   {
    "duration": 26,
    "start_time": "2022-03-29T11:59:20.257Z"
   },
   {
    "duration": 5,
    "start_time": "2022-03-29T11:59:20.285Z"
   },
   {
    "duration": 11,
    "start_time": "2022-03-29T11:59:20.292Z"
   },
   {
    "duration": 21,
    "start_time": "2022-03-29T11:59:20.305Z"
   },
   {
    "duration": 6,
    "start_time": "2022-03-29T11:59:20.368Z"
   },
   {
    "duration": 17,
    "start_time": "2022-03-29T11:59:20.376Z"
   },
   {
    "duration": 6,
    "start_time": "2022-03-29T11:59:20.395Z"
   },
   {
    "duration": 8,
    "start_time": "2022-03-29T11:59:20.403Z"
   },
   {
    "duration": 8,
    "start_time": "2022-03-29T11:59:20.413Z"
   },
   {
    "duration": 47,
    "start_time": "2022-03-29T11:59:20.423Z"
   },
   {
    "duration": 5,
    "start_time": "2022-03-29T11:59:20.472Z"
   },
   {
    "duration": 7,
    "start_time": "2022-03-29T11:59:20.479Z"
   },
   {
    "duration": 7,
    "start_time": "2022-03-29T11:59:20.488Z"
   },
   {
    "duration": 9,
    "start_time": "2022-03-29T11:59:20.497Z"
   },
   {
    "duration": 11,
    "start_time": "2022-03-29T11:59:20.508Z"
   },
   {
    "duration": 9,
    "start_time": "2022-03-29T11:59:20.567Z"
   },
   {
    "duration": 693,
    "start_time": "2022-03-29T11:59:20.579Z"
   },
   {
    "duration": 944,
    "start_time": "2022-03-29T11:59:21.275Z"
   },
   {
    "duration": 6,
    "start_time": "2022-03-29T11:59:22.221Z"
   },
   {
    "duration": 9,
    "start_time": "2022-03-29T11:59:22.229Z"
   },
   {
    "duration": 7,
    "start_time": "2022-03-29T11:59:22.268Z"
   },
   {
    "duration": 880,
    "start_time": "2022-03-29T11:59:22.278Z"
   },
   {
    "duration": 1508,
    "start_time": "2022-03-29T11:59:23.160Z"
   },
   {
    "duration": 6,
    "start_time": "2022-03-29T11:59:24.677Z"
   },
   {
    "duration": 7,
    "start_time": "2022-03-29T11:59:24.686Z"
   },
   {
    "duration": 6,
    "start_time": "2022-03-29T11:59:24.695Z"
   },
   {
    "duration": 10,
    "start_time": "2022-03-29T11:59:24.703Z"
   },
   {
    "duration": 923,
    "start_time": "2022-03-29T11:59:24.716Z"
   },
   {
    "duration": 1245,
    "start_time": "2022-03-29T11:59:25.641Z"
   },
   {
    "duration": 6,
    "start_time": "2022-03-29T11:59:26.889Z"
   },
   {
    "duration": 11,
    "start_time": "2022-03-29T11:59:26.898Z"
   },
   {
    "duration": 8,
    "start_time": "2022-03-29T11:59:26.911Z"
   },
   {
    "duration": 6,
    "start_time": "2022-03-29T11:59:26.921Z"
   },
   {
    "duration": 40,
    "start_time": "2022-03-29T11:59:26.929Z"
   },
   {
    "duration": 6,
    "start_time": "2022-03-29T11:59:26.971Z"
   },
   {
    "duration": 7,
    "start_time": "2022-03-29T11:59:26.980Z"
   },
   {
    "duration": 18,
    "start_time": "2022-03-29T11:59:26.989Z"
   },
   {
    "duration": 6,
    "start_time": "2022-03-29T11:59:27.009Z"
   },
   {
    "duration": 6,
    "start_time": "2022-03-29T11:59:27.017Z"
   },
   {
    "duration": 6,
    "start_time": "2022-03-29T11:59:27.068Z"
   },
   {
    "duration": 5,
    "start_time": "2022-03-29T11:59:27.077Z"
   },
   {
    "duration": 9,
    "start_time": "2022-03-29T11:59:27.084Z"
   },
   {
    "duration": 7,
    "start_time": "2022-03-29T11:59:27.095Z"
   },
   {
    "duration": 8,
    "start_time": "2022-03-29T11:59:27.104Z"
   },
   {
    "duration": 56,
    "start_time": "2022-03-29T11:59:27.115Z"
   },
   {
    "duration": 14,
    "start_time": "2022-03-29T11:59:27.174Z"
   },
   {
    "duration": 16,
    "start_time": "2022-03-29T11:59:27.190Z"
   },
   {
    "duration": 19,
    "start_time": "2022-03-29T11:59:27.209Z"
   },
   {
    "duration": 11,
    "start_time": "2022-03-29T11:59:27.230Z"
   },
   {
    "duration": 1969,
    "start_time": "2022-03-29T11:59:52.057Z"
   },
   {
    "duration": 691,
    "start_time": "2022-03-29T11:59:54.029Z"
   },
   {
    "duration": 60,
    "start_time": "2022-03-29T11:59:54.722Z"
   },
   {
    "duration": 41,
    "start_time": "2022-03-29T11:59:54.785Z"
   },
   {
    "duration": 213,
    "start_time": "2022-03-29T11:59:54.829Z"
   },
   {
    "duration": 53,
    "start_time": "2022-03-29T11:59:55.045Z"
   },
   {
    "duration": 15,
    "start_time": "2022-03-29T11:59:55.100Z"
   },
   {
    "duration": 20,
    "start_time": "2022-03-29T11:59:55.119Z"
   },
   {
    "duration": 159,
    "start_time": "2022-03-29T11:59:55.168Z"
   },
   {
    "duration": 101,
    "start_time": "2022-03-29T11:59:55.331Z"
   },
   {
    "duration": 70,
    "start_time": "2022-03-29T11:59:55.435Z"
   },
   {
    "duration": 194,
    "start_time": "2022-03-29T11:59:55.507Z"
   },
   {
    "duration": 64,
    "start_time": "2022-03-29T11:59:55.703Z"
   },
   {
    "duration": 210,
    "start_time": "2022-03-29T11:59:55.770Z"
   },
   {
    "duration": 116,
    "start_time": "2022-03-29T11:59:55.982Z"
   },
   {
    "duration": 53,
    "start_time": "2022-03-29T11:59:56.100Z"
   },
   {
    "duration": 35,
    "start_time": "2022-03-29T11:59:56.167Z"
   },
   {
    "duration": 111,
    "start_time": "2022-03-29T11:59:56.204Z"
   },
   {
    "duration": 114,
    "start_time": "2022-03-29T11:59:56.318Z"
   },
   {
    "duration": 52,
    "start_time": "2022-03-29T11:59:56.435Z"
   },
   {
    "duration": 133,
    "start_time": "2022-03-29T11:59:56.489Z"
   },
   {
    "duration": 81,
    "start_time": "2022-03-29T11:59:56.625Z"
   },
   {
    "duration": 71,
    "start_time": "2022-03-29T11:59:56.709Z"
   },
   {
    "duration": 123,
    "start_time": "2022-03-29T11:59:56.782Z"
   },
   {
    "duration": 192,
    "start_time": "2022-03-29T11:59:56.908Z"
   },
   {
    "duration": 24,
    "start_time": "2022-03-29T11:59:57.102Z"
   },
   {
    "duration": 6,
    "start_time": "2022-03-29T11:59:57.129Z"
   },
   {
    "duration": 69,
    "start_time": "2022-03-29T11:59:57.142Z"
   },
   {
    "duration": 363,
    "start_time": "2022-03-29T11:59:57.215Z"
   },
   {
    "duration": 32,
    "start_time": "2022-03-29T11:59:57.581Z"
   },
   {
    "duration": 340,
    "start_time": "2022-03-29T11:59:57.616Z"
   },
   {
    "duration": 414,
    "start_time": "2022-03-29T11:59:57.959Z"
   },
   {
    "duration": 20,
    "start_time": "2022-03-29T11:59:58.376Z"
   },
   {
    "duration": 20,
    "start_time": "2022-03-29T11:59:58.398Z"
   },
   {
    "duration": 345,
    "start_time": "2022-03-29T11:59:58.421Z"
   },
   {
    "duration": 404,
    "start_time": "2022-03-29T11:59:58.768Z"
   },
   {
    "duration": 25,
    "start_time": "2022-03-29T11:59:59.174Z"
   },
   {
    "duration": 159,
    "start_time": "2022-03-29T11:59:59.201Z"
   },
   {
    "duration": 20,
    "start_time": "2022-03-29T11:59:59.367Z"
   },
   {
    "duration": 28,
    "start_time": "2022-03-29T11:59:59.389Z"
   },
   {
    "duration": 59,
    "start_time": "2022-03-29T11:59:59.419Z"
   },
   {
    "duration": 35,
    "start_time": "2022-03-29T11:59:59.480Z"
   },
   {
    "duration": 4,
    "start_time": "2022-03-29T11:59:59.517Z"
   },
   {
    "duration": 44,
    "start_time": "2022-03-29T11:59:59.524Z"
   },
   {
    "duration": 32,
    "start_time": "2022-03-29T11:59:59.570Z"
   },
   {
    "duration": 24,
    "start_time": "2022-03-29T11:59:59.605Z"
   },
   {
    "duration": 41,
    "start_time": "2022-03-29T11:59:59.631Z"
   },
   {
    "duration": 6,
    "start_time": "2022-03-29T11:59:59.675Z"
   },
   {
    "duration": 10,
    "start_time": "2022-03-29T11:59:59.683Z"
   },
   {
    "duration": 19,
    "start_time": "2022-03-29T11:59:59.695Z"
   },
   {
    "duration": 65,
    "start_time": "2022-03-29T11:59:59.717Z"
   },
   {
    "duration": 19,
    "start_time": "2022-03-29T11:59:59.785Z"
   },
   {
    "duration": 9,
    "start_time": "2022-03-29T11:59:59.807Z"
   },
   {
    "duration": 4160,
    "start_time": "2022-03-29T11:59:59.819Z"
   },
   {
    "duration": 6,
    "start_time": "2022-03-29T12:00:03.982Z"
   },
   {
    "duration": 10,
    "start_time": "2022-03-29T12:00:03.990Z"
   },
   {
    "duration": 9,
    "start_time": "2022-03-29T12:00:04.002Z"
   },
   {
    "duration": 145,
    "start_time": "2022-03-29T12:00:04.013Z"
   },
   {
    "duration": 23,
    "start_time": "2022-03-29T12:00:04.168Z"
   },
   {
    "duration": 6,
    "start_time": "2022-03-29T12:00:04.193Z"
   },
   {
    "duration": 16,
    "start_time": "2022-03-29T12:00:04.201Z"
   },
   {
    "duration": 107,
    "start_time": "2022-03-29T12:00:04.219Z"
   },
   {
    "duration": 5,
    "start_time": "2022-03-29T12:00:04.328Z"
   },
   {
    "duration": 34,
    "start_time": "2022-03-29T12:00:04.335Z"
   },
   {
    "duration": 5,
    "start_time": "2022-03-29T12:00:04.372Z"
   },
   {
    "duration": 18,
    "start_time": "2022-03-29T12:00:04.380Z"
   },
   {
    "duration": 12,
    "start_time": "2022-03-29T12:00:04.401Z"
   },
   {
    "duration": 11,
    "start_time": "2022-03-29T12:00:04.416Z"
   },
   {
    "duration": 6,
    "start_time": "2022-03-29T12:00:04.430Z"
   },
   {
    "duration": 8,
    "start_time": "2022-03-29T12:00:04.469Z"
   },
   {
    "duration": 8,
    "start_time": "2022-03-29T12:00:04.479Z"
   },
   {
    "duration": 12,
    "start_time": "2022-03-29T12:00:04.489Z"
   },
   {
    "duration": 13,
    "start_time": "2022-03-29T12:00:04.504Z"
   },
   {
    "duration": 14,
    "start_time": "2022-03-29T12:00:04.519Z"
   },
   {
    "duration": 618,
    "start_time": "2022-03-29T12:00:04.567Z"
   },
   {
    "duration": 794,
    "start_time": "2022-03-29T12:00:05.188Z"
   },
   {
    "duration": 7,
    "start_time": "2022-03-29T12:00:05.985Z"
   },
   {
    "duration": 8,
    "start_time": "2022-03-29T12:00:05.995Z"
   },
   {
    "duration": 7,
    "start_time": "2022-03-29T12:00:06.006Z"
   },
   {
    "duration": 856,
    "start_time": "2022-03-29T12:00:06.015Z"
   },
   {
    "duration": 1417,
    "start_time": "2022-03-29T12:00:06.873Z"
   },
   {
    "duration": 6,
    "start_time": "2022-03-29T12:00:08.299Z"
   },
   {
    "duration": 14,
    "start_time": "2022-03-29T12:00:08.307Z"
   },
   {
    "duration": 12,
    "start_time": "2022-03-29T12:00:08.323Z"
   },
   {
    "duration": 30,
    "start_time": "2022-03-29T12:00:08.338Z"
   },
   {
    "duration": 853,
    "start_time": "2022-03-29T12:00:08.370Z"
   },
   {
    "duration": 1126,
    "start_time": "2022-03-29T12:00:09.225Z"
   },
   {
    "duration": 14,
    "start_time": "2022-03-29T12:00:10.353Z"
   },
   {
    "duration": 5,
    "start_time": "2022-03-29T12:00:10.370Z"
   },
   {
    "duration": 9,
    "start_time": "2022-03-29T12:00:10.378Z"
   },
   {
    "duration": 9,
    "start_time": "2022-03-29T12:00:10.389Z"
   },
   {
    "duration": 7,
    "start_time": "2022-03-29T12:00:10.400Z"
   },
   {
    "duration": 6,
    "start_time": "2022-03-29T12:00:10.409Z"
   },
   {
    "duration": 7,
    "start_time": "2022-03-29T12:00:10.469Z"
   },
   {
    "duration": 8,
    "start_time": "2022-03-29T12:00:10.478Z"
   },
   {
    "duration": 13,
    "start_time": "2022-03-29T12:00:10.488Z"
   },
   {
    "duration": 8,
    "start_time": "2022-03-29T12:00:10.503Z"
   },
   {
    "duration": 10,
    "start_time": "2022-03-29T12:00:10.513Z"
   },
   {
    "duration": 47,
    "start_time": "2022-03-29T12:00:10.525Z"
   },
   {
    "duration": 13,
    "start_time": "2022-03-29T12:00:10.574Z"
   },
   {
    "duration": 8,
    "start_time": "2022-03-29T12:00:10.589Z"
   },
   {
    "duration": 8,
    "start_time": "2022-03-29T12:00:10.599Z"
   },
   {
    "duration": 8,
    "start_time": "2022-03-29T12:00:10.609Z"
   },
   {
    "duration": 52,
    "start_time": "2022-03-29T12:00:10.619Z"
   },
   {
    "duration": 12,
    "start_time": "2022-03-29T12:00:10.674Z"
   },
   {
    "duration": 6,
    "start_time": "2022-03-29T12:00:10.688Z"
   },
   {
    "duration": 10,
    "start_time": "2022-03-29T12:00:10.696Z"
   },
   {
    "duration": 7,
    "start_time": "2022-03-29T12:01:26.541Z"
   },
   {
    "duration": 671,
    "start_time": "2022-03-29T12:01:28.926Z"
   },
   {
    "duration": 6,
    "start_time": "2022-03-29T12:01:32.532Z"
   },
   {
    "duration": 11,
    "start_time": "2022-03-29T12:02:12.399Z"
   },
   {
    "duration": 9,
    "start_time": "2022-03-29T12:02:19.751Z"
   },
   {
    "duration": 9,
    "start_time": "2022-03-29T12:02:26.015Z"
   },
   {
    "duration": 18,
    "start_time": "2022-03-29T12:03:19.618Z"
   },
   {
    "duration": 14,
    "start_time": "2022-03-29T12:04:04.011Z"
   },
   {
    "duration": 16,
    "start_time": "2022-03-29T12:04:53.471Z"
   },
   {
    "duration": 1561,
    "start_time": "2022-03-29T12:24:50.432Z"
   },
   {
    "duration": 519,
    "start_time": "2022-03-29T12:24:51.996Z"
   },
   {
    "duration": 36,
    "start_time": "2022-03-29T12:24:52.517Z"
   },
   {
    "duration": 26,
    "start_time": "2022-03-29T12:24:52.556Z"
   },
   {
    "duration": 130,
    "start_time": "2022-03-29T12:24:52.584Z"
   },
   {
    "duration": 32,
    "start_time": "2022-03-29T12:24:52.716Z"
   },
   {
    "duration": 16,
    "start_time": "2022-03-29T12:24:52.768Z"
   },
   {
    "duration": 19,
    "start_time": "2022-03-29T12:24:52.786Z"
   },
   {
    "duration": 181,
    "start_time": "2022-03-29T12:24:52.807Z"
   },
   {
    "duration": 99,
    "start_time": "2022-03-29T12:24:52.992Z"
   },
   {
    "duration": 57,
    "start_time": "2022-03-29T12:24:53.093Z"
   },
   {
    "duration": 195,
    "start_time": "2022-03-29T12:24:53.152Z"
   },
   {
    "duration": 65,
    "start_time": "2022-03-29T12:24:53.350Z"
   },
   {
    "duration": 230,
    "start_time": "2022-03-29T12:24:53.417Z"
   },
   {
    "duration": 92,
    "start_time": "2022-03-29T12:24:53.650Z"
   },
   {
    "duration": 71,
    "start_time": "2022-03-29T12:24:53.745Z"
   },
   {
    "duration": 64,
    "start_time": "2022-03-29T12:24:53.818Z"
   },
   {
    "duration": 105,
    "start_time": "2022-03-29T12:24:53.885Z"
   },
   {
    "duration": 118,
    "start_time": "2022-03-29T12:24:53.993Z"
   },
   {
    "duration": 39,
    "start_time": "2022-03-29T12:24:54.114Z"
   },
   {
    "duration": 135,
    "start_time": "2022-03-29T12:24:54.168Z"
   },
   {
    "duration": 83,
    "start_time": "2022-03-29T12:24:54.306Z"
   },
   {
    "duration": 45,
    "start_time": "2022-03-29T12:24:54.391Z"
   },
   {
    "duration": 136,
    "start_time": "2022-03-29T12:24:54.438Z"
   },
   {
    "duration": 230,
    "start_time": "2022-03-29T12:24:54.576Z"
   },
   {
    "duration": 26,
    "start_time": "2022-03-29T12:24:54.808Z"
   },
   {
    "duration": 31,
    "start_time": "2022-03-29T12:24:54.837Z"
   },
   {
    "duration": 44,
    "start_time": "2022-03-29T12:24:54.878Z"
   },
   {
    "duration": 370,
    "start_time": "2022-03-29T12:24:54.925Z"
   },
   {
    "duration": 34,
    "start_time": "2022-03-29T12:24:55.297Z"
   },
   {
    "duration": 373,
    "start_time": "2022-03-29T12:24:55.333Z"
   },
   {
    "duration": 386,
    "start_time": "2022-03-29T12:24:55.719Z"
   },
   {
    "duration": 20,
    "start_time": "2022-03-29T12:24:56.108Z"
   },
   {
    "duration": 51,
    "start_time": "2022-03-29T12:24:56.131Z"
   },
   {
    "duration": 523,
    "start_time": "2022-03-29T12:24:56.185Z"
   },
   {
    "duration": 419,
    "start_time": "2022-03-29T12:24:56.710Z"
   },
   {
    "duration": 39,
    "start_time": "2022-03-29T12:24:57.131Z"
   },
   {
    "duration": 207,
    "start_time": "2022-03-29T12:24:57.173Z"
   },
   {
    "duration": 26,
    "start_time": "2022-03-29T12:24:57.383Z"
   },
   {
    "duration": 66,
    "start_time": "2022-03-29T12:24:57.412Z"
   },
   {
    "duration": 47,
    "start_time": "2022-03-29T12:24:57.481Z"
   },
   {
    "duration": 71,
    "start_time": "2022-03-29T12:24:57.531Z"
   },
   {
    "duration": 5,
    "start_time": "2022-03-29T12:24:57.605Z"
   },
   {
    "duration": 20,
    "start_time": "2022-03-29T12:24:57.613Z"
   },
   {
    "duration": 71,
    "start_time": "2022-03-29T12:24:57.635Z"
   },
   {
    "duration": 28,
    "start_time": "2022-03-29T12:24:57.709Z"
   },
   {
    "duration": 35,
    "start_time": "2022-03-29T12:24:57.739Z"
   },
   {
    "duration": 11,
    "start_time": "2022-03-29T12:24:57.777Z"
   },
   {
    "duration": 10,
    "start_time": "2022-03-29T12:24:57.790Z"
   },
   {
    "duration": 26,
    "start_time": "2022-03-29T12:24:57.803Z"
   },
   {
    "duration": 74,
    "start_time": "2022-03-29T12:24:57.831Z"
   },
   {
    "duration": 18,
    "start_time": "2022-03-29T12:24:57.908Z"
   },
   {
    "duration": 9,
    "start_time": "2022-03-29T12:24:57.929Z"
   },
   {
    "duration": 3576,
    "start_time": "2022-03-29T12:24:57.969Z"
   },
   {
    "duration": 22,
    "start_time": "2022-03-29T12:25:01.547Z"
   },
   {
    "duration": 17,
    "start_time": "2022-03-29T12:25:01.571Z"
   },
   {
    "duration": 12,
    "start_time": "2022-03-29T12:25:01.591Z"
   },
   {
    "duration": 14,
    "start_time": "2022-03-29T12:25:01.606Z"
   },
   {
    "duration": 152,
    "start_time": "2022-03-29T12:25:01.623Z"
   },
   {
    "duration": 32,
    "start_time": "2022-03-29T12:25:01.778Z"
   },
   {
    "duration": 7,
    "start_time": "2022-03-29T12:25:01.813Z"
   },
   {
    "duration": 51,
    "start_time": "2022-03-29T12:25:01.822Z"
   },
   {
    "duration": 30,
    "start_time": "2022-03-29T12:25:01.876Z"
   },
   {
    "duration": 25,
    "start_time": "2022-03-29T12:25:01.909Z"
   },
   {
    "duration": 34,
    "start_time": "2022-03-29T12:25:01.937Z"
   },
   {
    "duration": 7,
    "start_time": "2022-03-29T12:25:01.973Z"
   },
   {
    "duration": 38,
    "start_time": "2022-03-29T12:25:01.983Z"
   },
   {
    "duration": 20,
    "start_time": "2022-03-29T12:25:02.025Z"
   },
   {
    "duration": 23,
    "start_time": "2022-03-29T12:25:02.048Z"
   },
   {
    "duration": 23,
    "start_time": "2022-03-29T12:25:02.073Z"
   },
   {
    "duration": 23,
    "start_time": "2022-03-29T12:25:02.099Z"
   },
   {
    "duration": 17,
    "start_time": "2022-03-29T12:25:02.125Z"
   },
   {
    "duration": 18,
    "start_time": "2022-03-29T12:25:02.145Z"
   },
   {
    "duration": 11,
    "start_time": "2022-03-29T12:25:02.168Z"
   },
   {
    "duration": 30,
    "start_time": "2022-03-29T12:25:02.182Z"
   },
   {
    "duration": 907,
    "start_time": "2022-03-29T12:25:02.214Z"
   },
   {
    "duration": 1236,
    "start_time": "2022-03-29T12:25:03.124Z"
   },
   {
    "duration": 7,
    "start_time": "2022-03-29T12:25:04.367Z"
   },
   {
    "duration": 9,
    "start_time": "2022-03-29T12:25:04.376Z"
   },
   {
    "duration": 10,
    "start_time": "2022-03-29T12:25:04.387Z"
   },
   {
    "duration": 893,
    "start_time": "2022-03-29T12:25:04.399Z"
   },
   {
    "duration": 2025,
    "start_time": "2022-03-29T12:25:05.300Z"
   },
   {
    "duration": 7,
    "start_time": "2022-03-29T12:25:07.329Z"
   },
   {
    "duration": 32,
    "start_time": "2022-03-29T12:25:07.339Z"
   },
   {
    "duration": 9,
    "start_time": "2022-03-29T12:25:07.374Z"
   },
   {
    "duration": 8,
    "start_time": "2022-03-29T12:25:07.386Z"
   },
   {
    "duration": 903,
    "start_time": "2022-03-29T12:25:07.397Z"
   },
   {
    "duration": 1352,
    "start_time": "2022-03-29T12:25:08.303Z"
   },
   {
    "duration": 13,
    "start_time": "2022-03-29T12:25:09.658Z"
   },
   {
    "duration": 7,
    "start_time": "2022-03-29T12:25:09.674Z"
   },
   {
    "duration": 7,
    "start_time": "2022-03-29T12:25:09.684Z"
   },
   {
    "duration": 7,
    "start_time": "2022-03-29T12:25:09.694Z"
   },
   {
    "duration": 7,
    "start_time": "2022-03-29T12:25:09.704Z"
   },
   {
    "duration": 58,
    "start_time": "2022-03-29T12:25:09.714Z"
   },
   {
    "duration": 13,
    "start_time": "2022-03-29T12:25:09.775Z"
   },
   {
    "duration": 9,
    "start_time": "2022-03-29T12:25:09.790Z"
   },
   {
    "duration": 8,
    "start_time": "2022-03-29T12:25:09.801Z"
   },
   {
    "duration": 8,
    "start_time": "2022-03-29T12:25:09.811Z"
   },
   {
    "duration": 53,
    "start_time": "2022-03-29T12:25:09.821Z"
   },
   {
    "duration": 9,
    "start_time": "2022-03-29T12:25:09.876Z"
   },
   {
    "duration": 10,
    "start_time": "2022-03-29T12:25:09.887Z"
   },
   {
    "duration": 8,
    "start_time": "2022-03-29T12:25:09.899Z"
   },
   {
    "duration": 7,
    "start_time": "2022-03-29T12:25:09.909Z"
   },
   {
    "duration": 53,
    "start_time": "2022-03-29T12:25:09.919Z"
   },
   {
    "duration": 10,
    "start_time": "2022-03-29T12:25:09.974Z"
   },
   {
    "duration": 9,
    "start_time": "2022-03-29T12:25:09.986Z"
   },
   {
    "duration": 10,
    "start_time": "2022-03-29T12:25:09.998Z"
   },
   {
    "duration": 7,
    "start_time": "2022-03-29T12:25:10.011Z"
   },
   {
    "duration": 94,
    "start_time": "2022-03-29T12:34:23.086Z"
   },
   {
    "duration": 405,
    "start_time": "2022-03-29T12:38:48.017Z"
   },
   {
    "duration": 112,
    "start_time": "2022-03-29T12:40:06.716Z"
   },
   {
    "duration": 8,
    "start_time": "2022-03-29T12:49:10.088Z"
   },
   {
    "duration": 1953,
    "start_time": "2022-03-29T12:59:17.445Z"
   },
   {
    "duration": 507,
    "start_time": "2022-03-29T12:59:19.401Z"
   },
   {
    "duration": 36,
    "start_time": "2022-03-29T12:59:19.911Z"
   },
   {
    "duration": 30,
    "start_time": "2022-03-29T12:59:19.950Z"
   },
   {
    "duration": 124,
    "start_time": "2022-03-29T12:59:19.984Z"
   },
   {
    "duration": 30,
    "start_time": "2022-03-29T12:59:20.111Z"
   },
   {
    "duration": 34,
    "start_time": "2022-03-29T12:59:20.143Z"
   },
   {
    "duration": 16,
    "start_time": "2022-03-29T12:59:20.179Z"
   },
   {
    "duration": 161,
    "start_time": "2022-03-29T12:59:20.198Z"
   },
   {
    "duration": 81,
    "start_time": "2022-03-29T12:59:20.362Z"
   },
   {
    "duration": 65,
    "start_time": "2022-03-29T12:59:20.445Z"
   },
   {
    "duration": 176,
    "start_time": "2022-03-29T12:59:20.512Z"
   },
   {
    "duration": 54,
    "start_time": "2022-03-29T12:59:20.690Z"
   },
   {
    "duration": 205,
    "start_time": "2022-03-29T12:59:20.749Z"
   },
   {
    "duration": 89,
    "start_time": "2022-03-29T12:59:20.956Z"
   },
   {
    "duration": 60,
    "start_time": "2022-03-29T12:59:21.048Z"
   },
   {
    "duration": 36,
    "start_time": "2022-03-29T12:59:21.110Z"
   },
   {
    "duration": 139,
    "start_time": "2022-03-29T12:59:21.148Z"
   },
   {
    "duration": 114,
    "start_time": "2022-03-29T12:59:21.289Z"
   },
   {
    "duration": 36,
    "start_time": "2022-03-29T12:59:21.405Z"
   },
   {
    "duration": 126,
    "start_time": "2022-03-29T12:59:21.443Z"
   },
   {
    "duration": 61,
    "start_time": "2022-03-29T12:59:21.571Z"
   },
   {
    "duration": 60,
    "start_time": "2022-03-29T12:59:21.634Z"
   },
   {
    "duration": 121,
    "start_time": "2022-03-29T12:59:21.696Z"
   },
   {
    "duration": 172,
    "start_time": "2022-03-29T12:59:21.820Z"
   },
   {
    "duration": 23,
    "start_time": "2022-03-29T12:59:21.995Z"
   },
   {
    "duration": 8,
    "start_time": "2022-03-29T12:59:22.021Z"
   },
   {
    "duration": 79,
    "start_time": "2022-03-29T12:59:22.031Z"
   },
   {
    "duration": 342,
    "start_time": "2022-03-29T12:59:22.113Z"
   },
   {
    "duration": 39,
    "start_time": "2022-03-29T12:59:22.457Z"
   },
   {
    "duration": 328,
    "start_time": "2022-03-29T12:59:22.499Z"
   },
   {
    "duration": 390,
    "start_time": "2022-03-29T12:59:22.829Z"
   },
   {
    "duration": 19,
    "start_time": "2022-03-29T12:59:23.222Z"
   },
   {
    "duration": 37,
    "start_time": "2022-03-29T12:59:23.243Z"
   },
   {
    "duration": 325,
    "start_time": "2022-03-29T12:59:23.282Z"
   },
   {
    "duration": 384,
    "start_time": "2022-03-29T12:59:23.609Z"
   },
   {
    "duration": 26,
    "start_time": "2022-03-29T12:59:23.995Z"
   },
   {
    "duration": 159,
    "start_time": "2022-03-29T12:59:24.023Z"
   },
   {
    "duration": 21,
    "start_time": "2022-03-29T12:59:24.184Z"
   },
   {
    "duration": 28,
    "start_time": "2022-03-29T12:59:24.207Z"
   },
   {
    "duration": 35,
    "start_time": "2022-03-29T12:59:24.268Z"
   },
   {
    "duration": 35,
    "start_time": "2022-03-29T12:59:24.305Z"
   },
   {
    "duration": 29,
    "start_time": "2022-03-29T12:59:24.342Z"
   },
   {
    "duration": 22,
    "start_time": "2022-03-29T12:59:24.373Z"
   },
   {
    "duration": 39,
    "start_time": "2022-03-29T12:59:24.397Z"
   },
   {
    "duration": 48,
    "start_time": "2022-03-29T12:59:24.438Z"
   },
   {
    "duration": 11,
    "start_time": "2022-03-29T12:59:24.488Z"
   },
   {
    "duration": 7,
    "start_time": "2022-03-29T12:59:24.501Z"
   },
   {
    "duration": 10,
    "start_time": "2022-03-29T12:59:24.510Z"
   },
   {
    "duration": 50,
    "start_time": "2022-03-29T12:59:24.523Z"
   },
   {
    "duration": 29,
    "start_time": "2022-03-29T12:59:24.576Z"
   },
   {
    "duration": 13,
    "start_time": "2022-03-29T12:59:24.607Z"
   },
   {
    "duration": 6,
    "start_time": "2022-03-29T12:59:24.622Z"
   },
   {
    "duration": 3090,
    "start_time": "2022-03-29T12:59:24.630Z"
   },
   {
    "duration": 9,
    "start_time": "2022-03-29T12:59:27.722Z"
   },
   {
    "duration": 40,
    "start_time": "2022-03-29T12:59:27.733Z"
   },
   {
    "duration": 7,
    "start_time": "2022-03-29T12:59:27.775Z"
   },
   {
    "duration": 12,
    "start_time": "2022-03-29T12:59:27.784Z"
   },
   {
    "duration": 134,
    "start_time": "2022-03-29T12:59:27.798Z"
   },
   {
    "duration": 32,
    "start_time": "2022-03-29T12:59:27.935Z"
   },
   {
    "duration": 5,
    "start_time": "2022-03-29T12:59:27.969Z"
   },
   {
    "duration": 14,
    "start_time": "2022-03-29T12:59:27.976Z"
   },
   {
    "duration": 22,
    "start_time": "2022-03-29T12:59:27.993Z"
   },
   {
    "duration": 6,
    "start_time": "2022-03-29T12:59:28.018Z"
   },
   {
    "duration": 56,
    "start_time": "2022-03-29T12:59:28.027Z"
   },
   {
    "duration": 5,
    "start_time": "2022-03-29T12:59:28.086Z"
   },
   {
    "duration": 8,
    "start_time": "2022-03-29T12:59:28.094Z"
   },
   {
    "duration": 8,
    "start_time": "2022-03-29T12:59:28.105Z"
   },
   {
    "duration": 11,
    "start_time": "2022-03-29T12:59:28.116Z"
   },
   {
    "duration": 6,
    "start_time": "2022-03-29T12:59:28.169Z"
   },
   {
    "duration": 17,
    "start_time": "2022-03-29T12:59:28.177Z"
   },
   {
    "duration": 9,
    "start_time": "2022-03-29T12:59:28.196Z"
   },
   {
    "duration": 10,
    "start_time": "2022-03-29T12:59:28.208Z"
   },
   {
    "duration": 9,
    "start_time": "2022-03-29T12:59:28.220Z"
   },
   {
    "duration": 39,
    "start_time": "2022-03-29T12:59:28.231Z"
   },
   {
    "duration": 629,
    "start_time": "2022-03-29T12:59:28.272Z"
   },
   {
    "duration": 864,
    "start_time": "2022-03-29T12:59:28.903Z"
   },
   {
    "duration": 6,
    "start_time": "2022-03-29T12:59:29.769Z"
   },
   {
    "duration": 12,
    "start_time": "2022-03-29T12:59:29.777Z"
   },
   {
    "duration": 8,
    "start_time": "2022-03-29T12:59:29.791Z"
   },
   {
    "duration": 879,
    "start_time": "2022-03-29T12:59:29.801Z"
   },
   {
    "duration": 1438,
    "start_time": "2022-03-29T12:59:30.683Z"
   },
   {
    "duration": 7,
    "start_time": "2022-03-29T12:59:32.123Z"
   },
   {
    "duration": 12,
    "start_time": "2022-03-29T12:59:32.132Z"
   },
   {
    "duration": 26,
    "start_time": "2022-03-29T12:59:32.146Z"
   },
   {
    "duration": 12,
    "start_time": "2022-03-29T12:59:32.174Z"
   },
   {
    "duration": 910,
    "start_time": "2022-03-29T12:59:32.188Z"
   },
   {
    "duration": 1142,
    "start_time": "2022-03-29T12:59:33.100Z"
   },
   {
    "duration": 6,
    "start_time": "2022-03-29T12:59:34.244Z"
   },
   {
    "duration": 18,
    "start_time": "2022-03-29T12:59:34.252Z"
   },
   {
    "duration": 7,
    "start_time": "2022-03-29T12:59:34.272Z"
   },
   {
    "duration": 9,
    "start_time": "2022-03-29T12:59:34.281Z"
   },
   {
    "duration": 7,
    "start_time": "2022-03-29T12:59:34.293Z"
   },
   {
    "duration": 11,
    "start_time": "2022-03-29T12:59:34.302Z"
   },
   {
    "duration": 9,
    "start_time": "2022-03-29T12:59:34.315Z"
   },
   {
    "duration": 6,
    "start_time": "2022-03-29T12:59:34.369Z"
   },
   {
    "duration": 6,
    "start_time": "2022-03-29T12:59:34.378Z"
   },
   {
    "duration": 7,
    "start_time": "2022-03-29T12:59:34.387Z"
   },
   {
    "duration": 7,
    "start_time": "2022-03-29T12:59:34.397Z"
   },
   {
    "duration": 6,
    "start_time": "2022-03-29T12:59:34.407Z"
   },
   {
    "duration": 8,
    "start_time": "2022-03-29T12:59:34.468Z"
   },
   {
    "duration": 7,
    "start_time": "2022-03-29T12:59:34.478Z"
   },
   {
    "duration": 6,
    "start_time": "2022-03-29T12:59:34.488Z"
   },
   {
    "duration": 10,
    "start_time": "2022-03-29T12:59:34.497Z"
   },
   {
    "duration": 7,
    "start_time": "2022-03-29T12:59:34.509Z"
   },
   {
    "duration": 53,
    "start_time": "2022-03-29T12:59:34.518Z"
   },
   {
    "duration": 6,
    "start_time": "2022-03-29T12:59:34.574Z"
   },
   {
    "duration": 7,
    "start_time": "2022-03-29T12:59:34.582Z"
   },
   {
    "duration": 7,
    "start_time": "2022-03-29T12:59:34.591Z"
   },
   {
    "duration": 1586,
    "start_time": "2022-03-31T07:08:03.765Z"
   },
   {
    "duration": 469,
    "start_time": "2022-03-31T07:08:06.267Z"
   },
   {
    "duration": 35,
    "start_time": "2022-03-31T07:08:08.816Z"
   },
   {
    "duration": 26,
    "start_time": "2022-03-31T07:08:09.919Z"
   },
   {
    "duration": 108,
    "start_time": "2022-03-31T07:08:11.081Z"
   },
   {
    "duration": 29,
    "start_time": "2022-03-31T07:08:16.813Z"
   },
   {
    "duration": 109,
    "start_time": "2022-03-31T08:32:52.417Z"
   },
   {
    "duration": 108,
    "start_time": "2022-03-31T08:33:56.083Z"
   },
   {
    "duration": 20,
    "start_time": "2022-03-31T08:36:48.340Z"
   },
   {
    "duration": 26,
    "start_time": "2022-03-31T08:37:42.266Z"
   },
   {
    "duration": 148,
    "start_time": "2022-03-31T08:40:20.005Z"
   },
   {
    "duration": 46,
    "start_time": "2022-03-31T08:40:42.712Z"
   },
   {
    "duration": 14,
    "start_time": "2022-03-31T08:43:42.535Z"
   },
   {
    "duration": 6,
    "start_time": "2022-03-31T08:46:36.861Z"
   },
   {
    "duration": 5,
    "start_time": "2022-03-31T08:46:42.569Z"
   },
   {
    "duration": 22,
    "start_time": "2022-03-31T08:46:54.038Z"
   },
   {
    "duration": 170,
    "start_time": "2022-03-31T08:52:53.406Z"
   },
   {
    "duration": 147,
    "start_time": "2022-03-31T08:53:05.528Z"
   },
   {
    "duration": 185,
    "start_time": "2022-03-31T08:53:12.472Z"
   },
   {
    "duration": 15,
    "start_time": "2022-03-31T08:56:31.273Z"
   },
   {
    "duration": 24,
    "start_time": "2022-03-31T08:56:40.268Z"
   },
   {
    "duration": 8,
    "start_time": "2022-03-31T08:56:56.858Z"
   },
   {
    "duration": 10,
    "start_time": "2022-03-31T08:57:11.191Z"
   },
   {
    "duration": 10,
    "start_time": "2022-03-31T08:57:49.748Z"
   },
   {
    "duration": 11,
    "start_time": "2022-03-31T08:57:57.813Z"
   },
   {
    "duration": 10,
    "start_time": "2022-03-31T08:58:13.496Z"
   },
   {
    "duration": 30,
    "start_time": "2022-03-31T09:04:16.919Z"
   },
   {
    "duration": 15,
    "start_time": "2022-03-31T09:04:39.294Z"
   },
   {
    "duration": 22,
    "start_time": "2022-03-31T09:05:13.478Z"
   },
   {
    "duration": 13,
    "start_time": "2022-03-31T09:10:43.928Z"
   },
   {
    "duration": 12,
    "start_time": "2022-03-31T09:10:50.650Z"
   },
   {
    "duration": 71,
    "start_time": "2022-03-31T09:10:58.746Z"
   },
   {
    "duration": 9,
    "start_time": "2022-03-31T09:13:53.988Z"
   },
   {
    "duration": 17,
    "start_time": "2022-03-31T09:16:01.143Z"
   },
   {
    "duration": 35,
    "start_time": "2022-03-31T09:16:43.325Z"
   },
   {
    "duration": 18,
    "start_time": "2022-03-31T09:17:39.783Z"
   },
   {
    "duration": 68,
    "start_time": "2022-03-31T09:18:00.604Z"
   },
   {
    "duration": 26,
    "start_time": "2022-03-31T09:18:38.174Z"
   },
   {
    "duration": 4,
    "start_time": "2022-03-31T09:18:57.966Z"
   },
   {
    "duration": 18,
    "start_time": "2022-03-31T09:19:01.121Z"
   },
   {
    "duration": 59,
    "start_time": "2022-03-31T09:19:06.483Z"
   },
   {
    "duration": 23,
    "start_time": "2022-03-31T09:19:08.301Z"
   },
   {
    "duration": 26,
    "start_time": "2022-03-31T09:19:25.364Z"
   },
   {
    "duration": 10,
    "start_time": "2022-03-31T09:19:26.625Z"
   },
   {
    "duration": 48,
    "start_time": "2022-03-31T09:19:27.352Z"
   },
   {
    "duration": 17,
    "start_time": "2022-03-31T09:19:29.380Z"
   },
   {
    "duration": 6,
    "start_time": "2022-03-31T09:28:43.579Z"
   },
   {
    "duration": 6,
    "start_time": "2022-03-31T09:29:09.386Z"
   },
   {
    "duration": 16,
    "start_time": "2022-03-31T09:29:18.010Z"
   },
   {
    "duration": 337,
    "start_time": "2022-03-31T09:30:01.471Z"
   },
   {
    "duration": 13,
    "start_time": "2022-03-31T09:30:09.749Z"
   },
   {
    "duration": 11,
    "start_time": "2022-03-31T09:30:20.261Z"
   },
   {
    "duration": 307,
    "start_time": "2022-03-31T09:31:10.166Z"
   },
   {
    "duration": 364,
    "start_time": "2022-03-31T09:31:37.939Z"
   },
   {
    "duration": 378,
    "start_time": "2022-03-31T09:31:58.215Z"
   },
   {
    "duration": 17,
    "start_time": "2022-03-31T09:32:43.396Z"
   },
   {
    "duration": 11,
    "start_time": "2022-03-31T09:33:00.858Z"
   },
   {
    "duration": 405,
    "start_time": "2022-03-31T09:33:08.173Z"
   },
   {
    "duration": 60,
    "start_time": "2022-03-31T09:36:27.131Z"
   },
   {
    "duration": 12,
    "start_time": "2022-03-31T09:37:07.744Z"
   },
   {
    "duration": 28,
    "start_time": "2022-03-31T09:37:19.316Z"
   },
   {
    "duration": 34,
    "start_time": "2022-03-31T09:39:03.425Z"
   },
   {
    "duration": 48,
    "start_time": "2022-03-31T11:41:13.388Z"
   },
   {
    "duration": 1673,
    "start_time": "2022-03-31T11:41:33.117Z"
   },
   {
    "duration": 601,
    "start_time": "2022-03-31T11:41:34.793Z"
   },
   {
    "duration": 49,
    "start_time": "2022-03-31T11:41:35.396Z"
   },
   {
    "duration": 31,
    "start_time": "2022-03-31T11:41:35.448Z"
   },
   {
    "duration": 83,
    "start_time": "2022-03-31T11:41:36.688Z"
   },
   {
    "duration": 23,
    "start_time": "2022-03-31T11:41:38.328Z"
   },
   {
    "duration": 18,
    "start_time": "2022-03-31T11:41:38.972Z"
   },
   {
    "duration": 10,
    "start_time": "2022-03-31T11:41:39.581Z"
   },
   {
    "duration": 75,
    "start_time": "2022-03-31T11:41:40.719Z"
   },
   {
    "duration": 81,
    "start_time": "2022-03-31T11:41:41.307Z"
   },
   {
    "duration": 14,
    "start_time": "2022-03-31T11:41:42.970Z"
   },
   {
    "duration": 18,
    "start_time": "2022-03-31T11:41:43.542Z"
   },
   {
    "duration": 24,
    "start_time": "2022-03-31T11:41:45.818Z"
   },
   {
    "duration": 4,
    "start_time": "2022-03-31T11:41:46.373Z"
   },
   {
    "duration": 13,
    "start_time": "2022-03-31T11:41:46.946Z"
   },
   {
    "duration": 130,
    "start_time": "2022-03-31T11:41:47.597Z"
   },
   {
    "duration": 16,
    "start_time": "2022-03-31T11:41:48.147Z"
   },
   {
    "duration": 45,
    "start_time": "2022-03-31T11:41:48.735Z"
   },
   {
    "duration": 16,
    "start_time": "2022-03-31T11:41:51.104Z"
   },
   {
    "duration": 14,
    "start_time": "2022-03-31T11:41:51.805Z"
   },
   {
    "duration": 6,
    "start_time": "2022-03-31T11:41:52.394Z"
   },
   {
    "duration": 24,
    "start_time": "2022-03-31T11:41:52.901Z"
   },
   {
    "duration": 202,
    "start_time": "2022-03-31T11:41:53.588Z"
   },
   {
    "duration": 18,
    "start_time": "2022-03-31T11:41:55.445Z"
   },
   {
    "duration": 7,
    "start_time": "2022-03-31T11:41:56.009Z"
   },
   {
    "duration": 22,
    "start_time": "2022-03-31T11:41:56.829Z"
   },
   {
    "duration": 11,
    "start_time": "2022-03-31T11:41:57.587Z"
   },
   {
    "duration": 210,
    "start_time": "2022-03-31T11:42:01.723Z"
   },
   {
    "duration": 8,
    "start_time": "2022-03-31T11:42:02.276Z"
   },
   {
    "duration": 175,
    "start_time": "2022-03-31T11:42:03.483Z"
   },
   {
    "duration": 210,
    "start_time": "2022-03-31T11:42:04.742Z"
   },
   {
    "duration": 11,
    "start_time": "2022-03-31T11:42:05.420Z"
   },
   {
    "duration": 8,
    "start_time": "2022-03-31T11:42:07.180Z"
   },
   {
    "duration": 244,
    "start_time": "2022-03-31T11:42:08.070Z"
   },
   {
    "duration": 40,
    "start_time": "2022-03-31T11:42:36.287Z"
   },
   {
    "duration": 19,
    "start_time": "2022-03-31T11:42:38.079Z"
   },
   {
    "duration": 23,
    "start_time": "2022-03-31T11:42:40.255Z"
   },
   {
    "duration": 809,
    "start_time": "2022-03-31T11:42:44.514Z"
   },
   {
    "duration": 7,
    "start_time": "2022-03-31T11:49:02.628Z"
   },
   {
    "duration": 8,
    "start_time": "2022-03-31T11:49:19.658Z"
   },
   {
    "duration": 48,
    "start_time": "2022-03-31T11:49:44.346Z"
   },
   {
    "duration": 52,
    "start_time": "2022-03-31T11:50:21.889Z"
   },
   {
    "duration": 31,
    "start_time": "2022-03-31T11:51:14.911Z"
   },
   {
    "duration": 46,
    "start_time": "2022-03-31T11:53:07.125Z"
   },
   {
    "duration": 51,
    "start_time": "2022-03-31T11:58:56.600Z"
   },
   {
    "duration": 89,
    "start_time": "2022-03-31T11:59:41.788Z"
   },
   {
    "duration": 122,
    "start_time": "2022-03-31T12:00:05.388Z"
   },
   {
    "duration": 60,
    "start_time": "2022-03-31T12:06:25.004Z"
   },
   {
    "duration": 837,
    "start_time": "2022-03-31T12:07:16.387Z"
   },
   {
    "duration": 39,
    "start_time": "2022-03-31T12:10:51.380Z"
   },
   {
    "duration": 54,
    "start_time": "2022-03-31T12:11:15.358Z"
   },
   {
    "duration": 52,
    "start_time": "2022-03-31T12:13:22.762Z"
   },
   {
    "duration": 45,
    "start_time": "2022-03-31T12:14:35.759Z"
   },
   {
    "duration": 47,
    "start_time": "2022-03-31T12:20:59.989Z"
   },
   {
    "duration": 164,
    "start_time": "2022-03-31T12:21:04.827Z"
   },
   {
    "duration": 39,
    "start_time": "2022-03-31T12:21:40.919Z"
   },
   {
    "duration": 82,
    "start_time": "2022-03-31T12:21:44.406Z"
   },
   {
    "duration": 21,
    "start_time": "2022-03-31T12:24:30.810Z"
   },
   {
    "duration": 33,
    "start_time": "2022-03-31T12:26:06.532Z"
   },
   {
    "duration": 42,
    "start_time": "2022-03-31T12:26:21.522Z"
   },
   {
    "duration": 45,
    "start_time": "2022-03-31T12:27:52.649Z"
   },
   {
    "duration": 52,
    "start_time": "2022-03-31T12:27:56.941Z"
   },
   {
    "duration": 43,
    "start_time": "2022-03-31T12:28:05.684Z"
   },
   {
    "duration": 88,
    "start_time": "2022-03-31T12:28:12.716Z"
   },
   {
    "duration": 500,
    "start_time": "2022-03-31T12:31:26.686Z"
   },
   {
    "duration": 34,
    "start_time": "2022-03-31T12:33:25.945Z"
   },
   {
    "duration": 45,
    "start_time": "2022-03-31T12:33:37.735Z"
   },
   {
    "duration": 60,
    "start_time": "2022-03-31T12:39:11.411Z"
   },
   {
    "duration": 1365,
    "start_time": "2022-03-31T12:40:26.867Z"
   },
   {
    "duration": 413,
    "start_time": "2022-03-31T12:40:28.234Z"
   },
   {
    "duration": 26,
    "start_time": "2022-03-31T12:40:28.649Z"
   },
   {
    "duration": 19,
    "start_time": "2022-03-31T12:40:28.677Z"
   },
   {
    "duration": 83,
    "start_time": "2022-03-31T12:40:29.655Z"
   },
   {
    "duration": 22,
    "start_time": "2022-03-31T12:40:30.137Z"
   },
   {
    "duration": 11,
    "start_time": "2022-03-31T12:40:30.351Z"
   },
   {
    "duration": 11,
    "start_time": "2022-03-31T12:40:30.595Z"
   },
   {
    "duration": 79,
    "start_time": "2022-03-31T12:40:30.997Z"
   },
   {
    "duration": 83,
    "start_time": "2022-03-31T12:40:31.397Z"
   },
   {
    "duration": 16,
    "start_time": "2022-03-31T12:40:33.733Z"
   },
   {
    "duration": 20,
    "start_time": "2022-03-31T12:40:33.956Z"
   },
   {
    "duration": 26,
    "start_time": "2022-03-31T12:40:34.657Z"
   },
   {
    "duration": 4,
    "start_time": "2022-03-31T12:41:14.728Z"
   },
   {
    "duration": 20,
    "start_time": "2022-03-31T12:41:14.734Z"
   },
   {
    "duration": 142,
    "start_time": "2022-03-31T12:41:14.756Z"
   },
   {
    "duration": 15,
    "start_time": "2022-03-31T12:41:14.899Z"
   },
   {
    "duration": 51,
    "start_time": "2022-03-31T12:41:14.916Z"
   },
   {
    "duration": 33,
    "start_time": "2022-03-31T12:41:14.968Z"
   },
   {
    "duration": 16,
    "start_time": "2022-03-31T12:41:15.003Z"
   },
   {
    "duration": 7,
    "start_time": "2022-03-31T12:41:15.021Z"
   },
   {
    "duration": 24,
    "start_time": "2022-03-31T12:41:15.029Z"
   },
   {
    "duration": 306,
    "start_time": "2022-03-31T12:41:15.055Z"
   },
   {
    "duration": 0,
    "start_time": "2022-03-31T12:41:15.363Z"
   },
   {
    "duration": 0,
    "start_time": "2022-03-31T12:41:15.364Z"
   },
   {
    "duration": 0,
    "start_time": "2022-03-31T12:41:15.365Z"
   },
   {
    "duration": 0,
    "start_time": "2022-03-31T12:41:15.366Z"
   },
   {
    "duration": 0,
    "start_time": "2022-03-31T12:41:15.367Z"
   },
   {
    "duration": 0,
    "start_time": "2022-03-31T12:41:15.368Z"
   },
   {
    "duration": 0,
    "start_time": "2022-03-31T12:41:15.369Z"
   },
   {
    "duration": 0,
    "start_time": "2022-03-31T12:41:15.370Z"
   },
   {
    "duration": 0,
    "start_time": "2022-03-31T12:41:15.371Z"
   },
   {
    "duration": 0,
    "start_time": "2022-03-31T12:41:15.372Z"
   },
   {
    "duration": 0,
    "start_time": "2022-03-31T12:41:15.373Z"
   },
   {
    "duration": 0,
    "start_time": "2022-03-31T12:41:15.374Z"
   },
   {
    "duration": 0,
    "start_time": "2022-03-31T12:41:15.375Z"
   },
   {
    "duration": 195,
    "start_time": "2022-03-31T12:41:26.020Z"
   },
   {
    "duration": 9,
    "start_time": "2022-03-31T12:41:28.674Z"
   },
   {
    "duration": 177,
    "start_time": "2022-03-31T12:41:30.533Z"
   },
   {
    "duration": 219,
    "start_time": "2022-03-31T12:41:33.338Z"
   },
   {
    "duration": 13,
    "start_time": "2022-03-31T12:41:34.276Z"
   },
   {
    "duration": 11,
    "start_time": "2022-03-31T12:41:36.873Z"
   },
   {
    "duration": 237,
    "start_time": "2022-03-31T12:41:37.629Z"
   },
   {
    "duration": 40,
    "start_time": "2022-03-31T12:41:42.241Z"
   },
   {
    "duration": 19,
    "start_time": "2022-03-31T12:41:43.382Z"
   },
   {
    "duration": 29,
    "start_time": "2022-03-31T12:41:44.581Z"
   },
   {
    "duration": 7,
    "start_time": "2022-03-31T12:41:45.646Z"
   },
   {
    "duration": 43,
    "start_time": "2022-03-31T12:41:46.182Z"
   },
   {
    "duration": 57,
    "start_time": "2022-03-31T12:41:46.789Z"
   },
   {
    "duration": 50,
    "start_time": "2022-03-31T12:41:47.379Z"
   },
   {
    "duration": 114,
    "start_time": "2022-03-31T12:41:48.073Z"
   },
   {
    "duration": 507,
    "start_time": "2022-03-31T12:41:49.325Z"
   },
   {
    "duration": 44,
    "start_time": "2022-03-31T12:41:49.849Z"
   },
   {
    "duration": 52,
    "start_time": "2022-03-31T12:41:50.398Z"
   },
   {
    "duration": 28,
    "start_time": "2022-03-31T12:41:50.947Z"
   },
   {
    "duration": 42,
    "start_time": "2022-03-31T12:41:51.443Z"
   },
   {
    "duration": 40,
    "start_time": "2022-03-31T12:41:51.853Z"
   },
   {
    "duration": 91,
    "start_time": "2022-03-31T12:41:52.267Z"
   },
   {
    "duration": 19,
    "start_time": "2022-03-31T12:41:53.706Z"
   },
   {
    "duration": 33,
    "start_time": "2022-03-31T12:41:54.285Z"
   },
   {
    "duration": 45,
    "start_time": "2022-03-31T12:41:54.833Z"
   },
   {
    "duration": 38,
    "start_time": "2022-03-31T12:41:55.403Z"
   },
   {
    "duration": 54,
    "start_time": "2022-03-31T12:41:56.009Z"
   },
   {
    "duration": 44,
    "start_time": "2022-03-31T12:41:56.706Z"
   },
   {
    "duration": 136,
    "start_time": "2022-03-31T12:41:57.325Z"
   },
   {
    "duration": 532,
    "start_time": "2022-03-31T12:41:58.685Z"
   },
   {
    "duration": 44,
    "start_time": "2022-03-31T12:41:59.448Z"
   },
   {
    "duration": 46,
    "start_time": "2022-03-31T12:42:00.431Z"
   },
   {
    "duration": 3,
    "start_time": "2022-03-31T12:43:46.636Z"
   },
   {
    "duration": 3,
    "start_time": "2022-03-31T12:44:28.662Z"
   },
   {
    "duration": 103437,
    "start_time": "2022-03-31T12:45:22.965Z"
   },
   {
    "duration": 60,
    "start_time": "2022-03-31T12:48:30.065Z"
   },
   {
    "duration": 81,
    "start_time": "2022-03-31T12:48:48.036Z"
   },
   {
    "duration": 24,
    "start_time": "2022-03-31T12:49:13.702Z"
   },
   {
    "duration": 24,
    "start_time": "2022-03-31T12:49:27.746Z"
   },
   {
    "duration": 3,
    "start_time": "2022-03-31T12:49:31.561Z"
   },
   {
    "duration": 3869,
    "start_time": "2022-03-31T12:50:14.224Z"
   },
   {
    "duration": 9,
    "start_time": "2022-03-31T12:58:38.271Z"
   },
   {
    "duration": 16,
    "start_time": "2022-03-31T12:59:22.006Z"
   },
   {
    "duration": 9,
    "start_time": "2022-03-31T13:06:18.233Z"
   },
   {
    "duration": 4,
    "start_time": "2022-03-31T13:06:19.247Z"
   },
   {
    "duration": 4,
    "start_time": "2022-03-31T13:06:38.381Z"
   },
   {
    "duration": 14,
    "start_time": "2022-03-31T13:06:54.447Z"
   },
   {
    "duration": 13,
    "start_time": "2022-03-31T13:10:54.961Z"
   },
   {
    "duration": 13,
    "start_time": "2022-03-31T13:11:08.453Z"
   },
   {
    "duration": 17,
    "start_time": "2022-03-31T13:11:42.505Z"
   },
   {
    "duration": 18,
    "start_time": "2022-03-31T13:13:26.986Z"
   },
   {
    "duration": 15,
    "start_time": "2022-03-31T13:14:03.396Z"
   },
   {
    "duration": 4,
    "start_time": "2022-03-31T13:14:28.236Z"
   },
   {
    "duration": 4,
    "start_time": "2022-03-31T13:14:47.356Z"
   },
   {
    "duration": 8,
    "start_time": "2022-03-31T13:16:05.277Z"
   },
   {
    "duration": 4,
    "start_time": "2022-03-31T13:16:24.467Z"
   },
   {
    "duration": 7,
    "start_time": "2022-03-31T13:17:27.849Z"
   },
   {
    "duration": 4,
    "start_time": "2022-03-31T13:17:29.945Z"
   },
   {
    "duration": 8,
    "start_time": "2022-03-31T13:17:45.677Z"
   },
   {
    "duration": 8,
    "start_time": "2022-03-31T13:17:46.410Z"
   },
   {
    "duration": 3,
    "start_time": "2022-03-31T13:17:49.944Z"
   },
   {
    "duration": 14,
    "start_time": "2022-03-31T13:21:48.659Z"
   },
   {
    "duration": 377,
    "start_time": "2022-03-31T13:24:23.916Z"
   },
   {
    "duration": 28,
    "start_time": "2022-03-31T13:24:24.946Z"
   },
   {
    "duration": 18,
    "start_time": "2022-03-31T13:24:25.811Z"
   },
   {
    "duration": 78,
    "start_time": "2022-03-31T13:24:26.517Z"
   },
   {
    "duration": 22,
    "start_time": "2022-03-31T13:24:27.864Z"
   },
   {
    "duration": 10,
    "start_time": "2022-03-31T13:24:28.619Z"
   },
   {
    "duration": 11,
    "start_time": "2022-03-31T13:24:29.391Z"
   },
   {
    "duration": 70,
    "start_time": "2022-03-31T13:24:30.820Z"
   },
   {
    "duration": 73,
    "start_time": "2022-03-31T13:24:31.477Z"
   },
   {
    "duration": 15,
    "start_time": "2022-03-31T13:24:33.557Z"
   },
   {
    "duration": 21,
    "start_time": "2022-03-31T13:24:34.308Z"
   },
   {
    "duration": 29,
    "start_time": "2022-03-31T13:24:36.958Z"
   },
   {
    "duration": 5,
    "start_time": "2022-03-31T13:24:37.630Z"
   },
   {
    "duration": 11,
    "start_time": "2022-03-31T13:24:38.373Z"
   },
   {
    "duration": 104,
    "start_time": "2022-03-31T13:24:40.947Z"
   },
   {
    "duration": 10,
    "start_time": "2022-03-31T13:24:41.895Z"
   },
   {
    "duration": 41,
    "start_time": "2022-03-31T13:24:42.697Z"
   },
   {
    "duration": 14,
    "start_time": "2022-03-31T13:24:45.183Z"
   },
   {
    "duration": 14,
    "start_time": "2022-03-31T13:24:45.761Z"
   },
   {
    "duration": 8,
    "start_time": "2022-03-31T13:24:46.222Z"
   },
   {
    "duration": 26,
    "start_time": "2022-03-31T13:24:46.800Z"
   },
   {
    "duration": 196,
    "start_time": "2022-03-31T13:24:47.272Z"
   },
   {
    "duration": 20,
    "start_time": "2022-03-31T13:25:09.023Z"
   },
   {
    "duration": 7,
    "start_time": "2022-03-31T13:25:09.790Z"
   },
   {
    "duration": 24,
    "start_time": "2022-03-31T13:25:10.501Z"
   },
   {
    "duration": 13,
    "start_time": "2022-03-31T13:25:11.150Z"
   },
   {
    "duration": 185,
    "start_time": "2022-03-31T13:25:16.603Z"
   },
   {
    "duration": 10,
    "start_time": "2022-03-31T13:25:17.512Z"
   },
   {
    "duration": 179,
    "start_time": "2022-03-31T13:25:18.737Z"
   },
   {
    "duration": 223,
    "start_time": "2022-03-31T13:25:19.779Z"
   },
   {
    "duration": 11,
    "start_time": "2022-03-31T13:25:20.379Z"
   },
   {
    "duration": 8,
    "start_time": "2022-03-31T13:25:21.999Z"
   },
   {
    "duration": 173,
    "start_time": "2022-03-31T13:25:22.709Z"
   },
   {
    "duration": 31,
    "start_time": "2022-03-31T13:25:31.263Z"
   },
   {
    "duration": 19,
    "start_time": "2022-03-31T13:25:35.568Z"
   },
   {
    "duration": 21,
    "start_time": "2022-03-31T13:25:40.616Z"
   },
   {
    "duration": 3,
    "start_time": "2022-03-31T13:26:03.951Z"
   },
   {
    "duration": 9,
    "start_time": "2022-03-31T13:26:24.393Z"
   },
   {
    "duration": 22,
    "start_time": "2022-03-31T13:26:37.270Z"
   },
   {
    "duration": 16,
    "start_time": "2022-03-31T13:27:11.426Z"
   },
   {
    "duration": 9,
    "start_time": "2022-03-31T13:27:16.139Z"
   },
   {
    "duration": 7,
    "start_time": "2022-03-31T13:32:45.954Z"
   },
   {
    "duration": 8,
    "start_time": "2022-03-31T13:33:11.804Z"
   },
   {
    "duration": 7,
    "start_time": "2022-03-31T13:33:38.256Z"
   },
   {
    "duration": 8,
    "start_time": "2022-03-31T13:33:40.143Z"
   },
   {
    "duration": 12,
    "start_time": "2022-03-31T13:34:01.951Z"
   },
   {
    "duration": 8,
    "start_time": "2022-03-31T13:35:20.906Z"
   },
   {
    "duration": 15,
    "start_time": "2022-03-31T13:35:22.080Z"
   },
   {
    "duration": 8,
    "start_time": "2022-03-31T13:35:34.674Z"
   },
   {
    "duration": 13,
    "start_time": "2022-03-31T13:35:37.406Z"
   },
   {
    "duration": 4,
    "start_time": "2022-03-31T13:40:47.782Z"
   },
   {
    "duration": 5,
    "start_time": "2022-03-31T13:41:10.478Z"
   },
   {
    "duration": 2027,
    "start_time": "2022-03-31T13:41:36.065Z"
   },
   {
    "duration": 8,
    "start_time": "2022-03-31T13:44:58.091Z"
   },
   {
    "duration": 12,
    "start_time": "2022-03-31T13:45:00.092Z"
   },
   {
    "duration": 5,
    "start_time": "2022-03-31T13:45:13.772Z"
   },
   {
    "duration": 4,
    "start_time": "2022-03-31T13:45:15.057Z"
   },
   {
    "duration": 68,
    "start_time": "2022-03-31T13:45:17.995Z"
   },
   {
    "duration": 16,
    "start_time": "2022-03-31T13:46:01.440Z"
   },
   {
    "duration": 4,
    "start_time": "2022-03-31T13:46:02.325Z"
   },
   {
    "duration": 8,
    "start_time": "2022-03-31T13:46:04.462Z"
   },
   {
    "duration": 14,
    "start_time": "2022-03-31T13:46:07.139Z"
   },
   {
    "duration": 4,
    "start_time": "2022-03-31T13:46:29.399Z"
   },
   {
    "duration": 8,
    "start_time": "2022-03-31T13:46:34.343Z"
   },
   {
    "duration": 22,
    "start_time": "2022-03-31T13:49:23.694Z"
   },
   {
    "duration": 4,
    "start_time": "2022-03-31T13:50:12.329Z"
   },
   {
    "duration": 5,
    "start_time": "2022-03-31T13:50:13.312Z"
   },
   {
    "duration": 6,
    "start_time": "2022-03-31T13:50:14.656Z"
   },
   {
    "duration": 5,
    "start_time": "2022-03-31T13:50:18.270Z"
   },
   {
    "duration": 4,
    "start_time": "2022-03-31T13:53:53.038Z"
   },
   {
    "duration": 4,
    "start_time": "2022-03-31T13:53:53.662Z"
   },
   {
    "duration": 5,
    "start_time": "2022-03-31T13:53:54.398Z"
   },
   {
    "duration": 6,
    "start_time": "2022-03-31T13:53:55.095Z"
   },
   {
    "duration": 5,
    "start_time": "2022-03-31T13:53:55.785Z"
   },
   {
    "duration": 6,
    "start_time": "2022-03-31T13:53:56.792Z"
   },
   {
    "duration": 388,
    "start_time": "2022-03-31T13:53:58.102Z"
   },
   {
    "duration": 500,
    "start_time": "2022-03-31T13:53:59.352Z"
   },
   {
    "duration": 5,
    "start_time": "2022-03-31T13:54:06.521Z"
   },
   {
    "duration": 6,
    "start_time": "2022-03-31T13:54:07.168Z"
   },
   {
    "duration": 4,
    "start_time": "2022-03-31T13:54:07.806Z"
   },
   {
    "duration": 560,
    "start_time": "2022-03-31T13:54:08.513Z"
   },
   {
    "duration": 831,
    "start_time": "2022-03-31T13:54:09.229Z"
   },
   {
    "duration": 4,
    "start_time": "2022-03-31T13:54:11.712Z"
   },
   {
    "duration": 5,
    "start_time": "2022-03-31T13:54:12.549Z"
   },
   {
    "duration": 4,
    "start_time": "2022-03-31T13:54:14.224Z"
   },
   {
    "duration": 5,
    "start_time": "2022-03-31T13:54:15.475Z"
   },
   {
    "duration": 550,
    "start_time": "2022-03-31T13:54:16.484Z"
   },
   {
    "duration": 721,
    "start_time": "2022-03-31T13:54:17.227Z"
   },
   {
    "duration": 5,
    "start_time": "2022-03-31T13:54:18.767Z"
   },
   {
    "duration": 3,
    "start_time": "2022-03-31T13:54:19.662Z"
   },
   {
    "duration": 4,
    "start_time": "2022-03-31T13:54:20.724Z"
   },
   {
    "duration": 4,
    "start_time": "2022-03-31T13:54:23.114Z"
   },
   {
    "duration": 5,
    "start_time": "2022-03-31T13:58:30.305Z"
   },
   {
    "duration": 399,
    "start_time": "2022-03-31T14:02:56.262Z"
   },
   {
    "duration": 892,
    "start_time": "2022-03-31T14:03:01.797Z"
   },
   {
    "duration": 321,
    "start_time": "2022-03-31T14:03:16.415Z"
   },
   {
    "duration": 387,
    "start_time": "2022-03-31T14:03:45.380Z"
   },
   {
    "duration": 6,
    "start_time": "2022-03-31T14:05:13.870Z"
   },
   {
    "duration": 4,
    "start_time": "2022-03-31T14:07:33.867Z"
   },
   {
    "duration": 8,
    "start_time": "2022-03-31T14:07:59.861Z"
   },
   {
    "duration": 520,
    "start_time": "2022-03-31T14:09:08.464Z"
   },
   {
    "duration": 520,
    "start_time": "2022-03-31T14:10:43.075Z"
   },
   {
    "duration": 496,
    "start_time": "2022-03-31T14:10:44.087Z"
   },
   {
    "duration": 5,
    "start_time": "2022-03-31T14:10:47.394Z"
   },
   {
    "duration": 4,
    "start_time": "2022-03-31T14:10:48.178Z"
   },
   {
    "duration": 4,
    "start_time": "2022-03-31T14:10:48.949Z"
   },
   {
    "duration": 4,
    "start_time": "2022-03-31T14:10:49.720Z"
   },
   {
    "duration": 244,
    "start_time": "2022-03-31T14:12:46.411Z"
   },
   {
    "duration": 12,
    "start_time": "2022-03-31T14:13:01.520Z"
   },
   {
    "duration": 9,
    "start_time": "2022-03-31T14:14:12.479Z"
   },
   {
    "duration": 26,
    "start_time": "2022-03-31T14:14:22.724Z"
   },
   {
    "duration": 25,
    "start_time": "2022-03-31T14:14:36.242Z"
   },
   {
    "duration": 6,
    "start_time": "2022-03-31T14:14:45.246Z"
   },
   {
    "duration": 11,
    "start_time": "2022-03-31T14:15:28.348Z"
   },
   {
    "duration": 6,
    "start_time": "2022-03-31T14:15:52.077Z"
   },
   {
    "duration": 25,
    "start_time": "2022-03-31T14:17:10.619Z"
   },
   {
    "duration": 7,
    "start_time": "2022-03-31T14:20:06.974Z"
   },
   {
    "duration": 5,
    "start_time": "2022-03-31T14:26:02.182Z"
   },
   {
    "duration": 4,
    "start_time": "2022-03-31T14:26:02.929Z"
   },
   {
    "duration": 4,
    "start_time": "2022-03-31T14:26:04.474Z"
   },
   {
    "duration": 4,
    "start_time": "2022-03-31T14:26:05.145Z"
   },
   {
    "duration": 4,
    "start_time": "2022-03-31T14:26:07.072Z"
   },
   {
    "duration": 5,
    "start_time": "2022-03-31T14:26:07.796Z"
   },
   {
    "duration": 5,
    "start_time": "2022-03-31T14:26:08.793Z"
   },
   {
    "duration": 5,
    "start_time": "2022-03-31T14:26:09.229Z"
   },
   {
    "duration": 9,
    "start_time": "2022-03-31T14:34:28.413Z"
   },
   {
    "duration": 6,
    "start_time": "2022-03-31T14:35:43.927Z"
   },
   {
    "duration": 9,
    "start_time": "2022-03-31T14:35:48.824Z"
   },
   {
    "duration": 12,
    "start_time": "2022-03-31T14:36:30.015Z"
   },
   {
    "duration": 5,
    "start_time": "2022-03-31T14:36:41.981Z"
   },
   {
    "duration": 6,
    "start_time": "2022-03-31T14:36:50.802Z"
   },
   {
    "duration": 6,
    "start_time": "2022-03-31T14:37:00.557Z"
   },
   {
    "duration": 24,
    "start_time": "2022-03-31T14:44:06.600Z"
   },
   {
    "duration": 25,
    "start_time": "2022-03-31T14:44:19.795Z"
   },
   {
    "duration": 5,
    "start_time": "2022-03-31T14:48:12.747Z"
   },
   {
    "duration": 8,
    "start_time": "2022-03-31T14:48:49.202Z"
   },
   {
    "duration": 9,
    "start_time": "2022-03-31T14:49:00.186Z"
   },
   {
    "duration": 8,
    "start_time": "2022-03-31T14:49:31.366Z"
   },
   {
    "duration": 11,
    "start_time": "2022-03-31T14:53:25.662Z"
   },
   {
    "duration": 7,
    "start_time": "2022-03-31T14:53:52.259Z"
   },
   {
    "duration": 5,
    "start_time": "2022-03-31T14:59:05.024Z"
   },
   {
    "duration": 5,
    "start_time": "2022-03-31T14:59:52.914Z"
   },
   {
    "duration": 6,
    "start_time": "2022-03-31T14:59:59.316Z"
   },
   {
    "duration": 8,
    "start_time": "2022-03-31T15:03:08.788Z"
   },
   {
    "duration": 11,
    "start_time": "2022-03-31T15:03:17.893Z"
   },
   {
    "duration": 3187,
    "start_time": "2022-03-31T15:24:14.426Z"
   },
   {
    "duration": 3181,
    "start_time": "2022-03-31T15:24:47.579Z"
   },
   {
    "duration": 3290,
    "start_time": "2022-03-31T15:26:00.690Z"
   },
   {
    "duration": 3179,
    "start_time": "2022-03-31T15:26:12.867Z"
   },
   {
    "duration": 189,
    "start_time": "2022-03-31T15:27:02.085Z"
   },
   {
    "duration": 8,
    "start_time": "2022-03-31T15:27:11.586Z"
   },
   {
    "duration": 9,
    "start_time": "2022-03-31T15:27:33.636Z"
   },
   {
    "duration": 6,
    "start_time": "2022-03-31T15:27:44.945Z"
   },
   {
    "duration": 179,
    "start_time": "2022-03-31T15:30:20.598Z"
   },
   {
    "duration": 167,
    "start_time": "2022-03-31T15:30:43.703Z"
   },
   {
    "duration": 3,
    "start_time": "2022-03-31T15:30:59.130Z"
   },
   {
    "duration": 375,
    "start_time": "2022-03-31T15:31:20.638Z"
   },
   {
    "duration": 27,
    "start_time": "2022-03-31T15:31:21.294Z"
   },
   {
    "duration": 19,
    "start_time": "2022-03-31T15:31:22.182Z"
   },
   {
    "duration": 84,
    "start_time": "2022-03-31T15:31:22.889Z"
   },
   {
    "duration": 21,
    "start_time": "2022-03-31T15:31:24.443Z"
   },
   {
    "duration": 11,
    "start_time": "2022-03-31T15:31:25.127Z"
   },
   {
    "duration": 11,
    "start_time": "2022-03-31T15:31:25.844Z"
   },
   {
    "duration": 69,
    "start_time": "2022-03-31T15:31:27.155Z"
   },
   {
    "duration": 79,
    "start_time": "2022-03-31T15:31:27.851Z"
   },
   {
    "duration": 15,
    "start_time": "2022-03-31T15:31:29.746Z"
   },
   {
    "duration": 20,
    "start_time": "2022-03-31T15:31:30.375Z"
   },
   {
    "duration": 24,
    "start_time": "2022-03-31T15:31:32.965Z"
   },
   {
    "duration": 4,
    "start_time": "2022-03-31T15:31:33.624Z"
   },
   {
    "duration": 11,
    "start_time": "2022-03-31T15:31:34.416Z"
   },
   {
    "duration": 105,
    "start_time": "2022-03-31T15:31:35.026Z"
   },
   {
    "duration": 10,
    "start_time": "2022-03-31T15:31:35.712Z"
   },
   {
    "duration": 42,
    "start_time": "2022-03-31T15:31:36.374Z"
   },
   {
    "duration": 15,
    "start_time": "2022-03-31T15:31:38.866Z"
   },
   {
    "duration": 15,
    "start_time": "2022-03-31T15:31:39.376Z"
   },
   {
    "duration": 7,
    "start_time": "2022-03-31T15:31:39.957Z"
   },
   {
    "duration": 24,
    "start_time": "2022-03-31T15:31:40.488Z"
   },
   {
    "duration": 19,
    "start_time": "2022-03-31T15:31:43.119Z"
   },
   {
    "duration": 7,
    "start_time": "2022-03-31T15:31:43.576Z"
   },
   {
    "duration": 22,
    "start_time": "2022-03-31T15:31:44.103Z"
   },
   {
    "duration": 11,
    "start_time": "2022-03-31T15:31:44.556Z"
   },
   {
    "duration": 190,
    "start_time": "2022-03-31T15:31:48.238Z"
   },
   {
    "duration": 9,
    "start_time": "2022-03-31T15:32:02.186Z"
   },
   {
    "duration": 178,
    "start_time": "2022-03-31T15:32:31.946Z"
   },
   {
    "duration": 560,
    "start_time": "2022-03-31T15:32:40.151Z"
   },
   {
    "duration": 204,
    "start_time": "2022-03-31T15:32:47.923Z"
   },
   {
    "duration": 11,
    "start_time": "2022-03-31T15:32:52.369Z"
   },
   {
    "duration": 157,
    "start_time": "2022-03-31T15:33:02.043Z"
   },
   {
    "duration": 32,
    "start_time": "2022-03-31T15:33:22.034Z"
   },
   {
    "duration": 20,
    "start_time": "2022-03-31T15:33:23.870Z"
   },
   {
    "duration": 30,
    "start_time": "2022-03-31T15:33:25.256Z"
   },
   {
    "duration": 3,
    "start_time": "2022-03-31T15:33:26.563Z"
   },
   {
    "duration": 13,
    "start_time": "2022-03-31T15:33:27.219Z"
   },
   {
    "duration": 30,
    "start_time": "2022-03-31T15:33:27.835Z"
   },
   {
    "duration": 16,
    "start_time": "2022-03-31T15:33:29.113Z"
   },
   {
    "duration": 8,
    "start_time": "2022-03-31T15:33:29.188Z"
   },
   {
    "duration": 9,
    "start_time": "2022-03-31T15:33:29.881Z"
   },
   {
    "duration": 7,
    "start_time": "2022-03-31T15:33:30.647Z"
   },
   {
    "duration": 14,
    "start_time": "2022-03-31T15:33:31.537Z"
   },
   {
    "duration": 4,
    "start_time": "2022-03-31T15:33:32.316Z"
   },
   {
    "duration": 2019,
    "start_time": "2022-03-31T15:33:33.031Z"
   },
   {
    "duration": 13,
    "start_time": "2022-03-31T15:33:36.746Z"
   },
   {
    "duration": 6,
    "start_time": "2022-03-31T15:33:39.078Z"
   },
   {
    "duration": 4,
    "start_time": "2022-03-31T15:33:39.654Z"
   },
   {
    "duration": 62,
    "start_time": "2022-03-31T15:33:40.274Z"
   },
   {
    "duration": 15,
    "start_time": "2022-03-31T15:33:42.079Z"
   },
   {
    "duration": 5,
    "start_time": "2022-03-31T15:33:42.917Z"
   },
   {
    "duration": 8,
    "start_time": "2022-03-31T15:33:43.529Z"
   },
   {
    "duration": 6,
    "start_time": "2022-03-31T15:33:44.112Z"
   },
   {
    "duration": 17,
    "start_time": "2022-03-31T15:33:44.769Z"
   },
   {
    "duration": 16,
    "start_time": "2022-03-31T15:33:45.437Z"
   },
   {
    "duration": 4,
    "start_time": "2022-03-31T15:33:46.158Z"
   },
   {
    "duration": 8,
    "start_time": "2022-03-31T15:33:46.911Z"
   },
   {
    "duration": 4,
    "start_time": "2022-03-31T15:33:50.261Z"
   },
   {
    "duration": 4,
    "start_time": "2022-03-31T15:33:50.940Z"
   },
   {
    "duration": 6,
    "start_time": "2022-03-31T15:33:51.594Z"
   },
   {
    "duration": 6,
    "start_time": "2022-03-31T15:33:52.193Z"
   },
   {
    "duration": 4,
    "start_time": "2022-03-31T15:33:53.971Z"
   },
   {
    "duration": 5,
    "start_time": "2022-03-31T15:33:54.557Z"
   },
   {
    "duration": 5,
    "start_time": "2022-03-31T15:33:55.153Z"
   },
   {
    "duration": 6,
    "start_time": "2022-03-31T15:33:55.683Z"
   },
   {
    "duration": 6,
    "start_time": "2022-03-31T15:33:56.183Z"
   },
   {
    "duration": 6,
    "start_time": "2022-03-31T15:33:56.701Z"
   },
   {
    "duration": 517,
    "start_time": "2022-03-31T15:33:57.166Z"
   },
   {
    "duration": 490,
    "start_time": "2022-03-31T15:33:57.938Z"
   },
   {
    "duration": 5,
    "start_time": "2022-03-31T15:34:00.306Z"
   },
   {
    "duration": 6,
    "start_time": "2022-03-31T15:34:00.964Z"
   },
   {
    "duration": 4,
    "start_time": "2022-03-31T15:34:01.527Z"
   },
   {
    "duration": 5,
    "start_time": "2022-03-31T15:34:02.148Z"
   },
   {
    "duration": 352,
    "start_time": "2022-03-31T15:34:02.885Z"
   },
   {
    "duration": 409,
    "start_time": "2022-03-31T15:34:03.669Z"
   },
   {
    "duration": 5,
    "start_time": "2022-03-31T15:34:05.703Z"
   },
   {
    "duration": 5,
    "start_time": "2022-03-31T15:34:06.269Z"
   },
   {
    "duration": 4,
    "start_time": "2022-03-31T15:34:07.389Z"
   },
   {
    "duration": 5,
    "start_time": "2022-03-31T15:34:07.877Z"
   },
   {
    "duration": 610,
    "start_time": "2022-03-31T15:34:08.402Z"
   },
   {
    "duration": 538,
    "start_time": "2022-03-31T15:34:09.013Z"
   },
   {
    "duration": 5,
    "start_time": "2022-03-31T15:34:10.142Z"
   },
   {
    "duration": 3,
    "start_time": "2022-03-31T15:34:10.791Z"
   },
   {
    "duration": 4,
    "start_time": "2022-03-31T15:34:11.330Z"
   },
   {
    "duration": 4,
    "start_time": "2022-03-31T15:34:11.878Z"
   },
   {
    "duration": 4,
    "start_time": "2022-03-31T15:34:15.835Z"
   },
   {
    "duration": 4,
    "start_time": "2022-03-31T15:34:16.412Z"
   },
   {
    "duration": 4,
    "start_time": "2022-03-31T15:34:17.510Z"
   },
   {
    "duration": 4,
    "start_time": "2022-03-31T15:34:17.968Z"
   },
   {
    "duration": 5,
    "start_time": "2022-03-31T15:34:18.926Z"
   },
   {
    "duration": 5,
    "start_time": "2022-03-31T15:34:19.431Z"
   },
   {
    "duration": 5,
    "start_time": "2022-03-31T15:34:20.202Z"
   },
   {
    "duration": 4,
    "start_time": "2022-03-31T15:34:20.563Z"
   },
   {
    "duration": 9,
    "start_time": "2022-03-31T15:34:23.125Z"
   },
   {
    "duration": 7,
    "start_time": "2022-03-31T15:34:41.256Z"
   },
   {
    "duration": 192,
    "start_time": "2022-03-31T15:34:42.895Z"
   },
   {
    "duration": 11,
    "start_time": "2022-03-31T15:34:53.723Z"
   },
   {
    "duration": 6,
    "start_time": "2022-03-31T15:35:06.173Z"
   },
   {
    "duration": 6,
    "start_time": "2022-03-31T15:35:11.751Z"
   },
   {
    "duration": 397,
    "start_time": "2022-03-31T15:44:16.686Z"
   },
   {
    "duration": 357,
    "start_time": "2022-03-31T17:11:14.904Z"
   },
   {
    "duration": 6,
    "start_time": "2022-03-31T17:16:57.514Z"
   },
   {
    "duration": 5,
    "start_time": "2022-03-31T17:17:13.002Z"
   },
   {
    "duration": 6,
    "start_time": "2022-03-31T17:17:47.601Z"
   },
   {
    "duration": 4,
    "start_time": "2022-03-31T17:24:56.583Z"
   },
   {
    "duration": 4,
    "start_time": "2022-03-31T17:25:31.855Z"
   },
   {
    "duration": 4,
    "start_time": "2022-03-31T17:28:46.232Z"
   },
   {
    "duration": 5,
    "start_time": "2022-03-31T17:29:18.977Z"
   },
   {
    "duration": 4,
    "start_time": "2022-03-31T17:30:26.205Z"
   },
   {
    "duration": 5,
    "start_time": "2022-03-31T17:32:43.278Z"
   },
   {
    "duration": 5,
    "start_time": "2022-03-31T17:32:44.210Z"
   },
   {
    "duration": 4,
    "start_time": "2022-03-31T17:32:45.591Z"
   },
   {
    "duration": 5,
    "start_time": "2022-03-31T17:32:45.929Z"
   },
   {
    "duration": 4,
    "start_time": "2022-03-31T17:32:46.447Z"
   },
   {
    "duration": 4,
    "start_time": "2022-03-31T17:32:46.728Z"
   },
   {
    "duration": 5,
    "start_time": "2022-03-31T17:32:47.680Z"
   },
   {
    "duration": 4,
    "start_time": "2022-03-31T17:32:48.452Z"
   },
   {
    "duration": 3,
    "start_time": "2022-03-31T17:42:32.512Z"
   },
   {
    "duration": 357,
    "start_time": "2022-03-31T17:42:33.156Z"
   },
   {
    "duration": 25,
    "start_time": "2022-03-31T17:42:33.757Z"
   },
   {
    "duration": 21,
    "start_time": "2022-03-31T17:42:34.334Z"
   },
   {
    "duration": 78,
    "start_time": "2022-03-31T17:42:34.957Z"
   },
   {
    "duration": 24,
    "start_time": "2022-03-31T17:42:36.120Z"
   },
   {
    "duration": 11,
    "start_time": "2022-03-31T17:42:36.724Z"
   },
   {
    "duration": 11,
    "start_time": "2022-03-31T17:42:37.325Z"
   },
   {
    "duration": 73,
    "start_time": "2022-03-31T17:42:38.512Z"
   },
   {
    "duration": 79,
    "start_time": "2022-03-31T17:42:39.038Z"
   },
   {
    "duration": 18,
    "start_time": "2022-03-31T17:42:40.840Z"
   },
   {
    "duration": 23,
    "start_time": "2022-03-31T17:42:41.437Z"
   },
   {
    "duration": 25,
    "start_time": "2022-03-31T17:42:43.822Z"
   },
   {
    "duration": 5,
    "start_time": "2022-03-31T17:42:44.374Z"
   },
   {
    "duration": 12,
    "start_time": "2022-03-31T17:42:44.920Z"
   },
   {
    "duration": 96,
    "start_time": "2022-03-31T17:42:45.505Z"
   },
   {
    "duration": 10,
    "start_time": "2022-03-31T17:42:46.006Z"
   },
   {
    "duration": 38,
    "start_time": "2022-03-31T17:42:46.615Z"
   },
   {
    "duration": 16,
    "start_time": "2022-03-31T17:42:48.806Z"
   },
   {
    "duration": 15,
    "start_time": "2022-03-31T17:42:49.246Z"
   },
   {
    "duration": 7,
    "start_time": "2022-03-31T17:42:49.750Z"
   },
   {
    "duration": 24,
    "start_time": "2022-03-31T17:42:50.278Z"
   },
   {
    "duration": 19,
    "start_time": "2022-03-31T17:42:52.327Z"
   },
   {
    "duration": 7,
    "start_time": "2022-03-31T17:42:52.785Z"
   },
   {
    "duration": 21,
    "start_time": "2022-03-31T17:42:53.209Z"
   },
   {
    "duration": 10,
    "start_time": "2022-03-31T17:42:53.647Z"
   },
   {
    "duration": 185,
    "start_time": "2022-03-31T17:42:55.982Z"
   },
   {
    "duration": 8,
    "start_time": "2022-03-31T17:42:56.320Z"
   },
   {
    "duration": 200,
    "start_time": "2022-03-31T17:42:57.334Z"
   },
   {
    "duration": 10,
    "start_time": "2022-03-31T17:42:57.536Z"
   },
   {
    "duration": 172,
    "start_time": "2022-03-31T17:42:58.490Z"
   },
   {
    "duration": 33,
    "start_time": "2022-03-31T17:43:00.090Z"
   },
   {
    "duration": 20,
    "start_time": "2022-03-31T17:43:00.873Z"
   },
   {
    "duration": 25,
    "start_time": "2022-03-31T17:43:01.593Z"
   },
   {
    "duration": 3,
    "start_time": "2022-03-31T17:43:02.172Z"
   },
   {
    "duration": 10,
    "start_time": "2022-03-31T17:43:02.521Z"
   },
   {
    "duration": 22,
    "start_time": "2022-03-31T17:43:02.867Z"
   },
   {
    "duration": 20,
    "start_time": "2022-03-31T17:43:03.194Z"
   },
   {
    "duration": 7,
    "start_time": "2022-03-31T17:43:03.587Z"
   },
   {
    "duration": 9,
    "start_time": "2022-03-31T17:43:03.933Z"
   },
   {
    "duration": 7,
    "start_time": "2022-03-31T17:43:04.301Z"
   },
   {
    "duration": 15,
    "start_time": "2022-03-31T17:43:04.668Z"
   },
   {
    "duration": 5,
    "start_time": "2022-03-31T17:43:04.973Z"
   },
   {
    "duration": 2177,
    "start_time": "2022-03-31T17:43:05.327Z"
   },
   {
    "duration": 11,
    "start_time": "2022-03-31T17:43:07.506Z"
   },
   {
    "duration": 6,
    "start_time": "2022-03-31T17:43:08.147Z"
   },
   {
    "duration": 4,
    "start_time": "2022-03-31T17:43:08.521Z"
   },
   {
    "duration": 113,
    "start_time": "2022-03-31T17:43:08.801Z"
   },
   {
    "duration": 18,
    "start_time": "2022-03-31T17:43:09.825Z"
   },
   {
    "duration": 5,
    "start_time": "2022-03-31T17:43:10.166Z"
   },
   {
    "duration": 9,
    "start_time": "2022-03-31T17:43:10.512Z"
   },
   {
    "duration": 9,
    "start_time": "2022-03-31T17:43:10.916Z"
   },
   {
    "duration": 15,
    "start_time": "2022-03-31T17:43:12.039Z"
   },
   {
    "duration": 16,
    "start_time": "2022-03-31T17:43:12.681Z"
   },
   {
    "duration": 3,
    "start_time": "2022-03-31T17:43:13.616Z"
   },
   {
    "duration": 8,
    "start_time": "2022-03-31T17:43:14.965Z"
   },
   {
    "duration": 3,
    "start_time": "2022-03-31T17:43:18.005Z"
   },
   {
    "duration": 4,
    "start_time": "2022-03-31T17:43:18.534Z"
   },
   {
    "duration": 6,
    "start_time": "2022-03-31T17:43:19.047Z"
   },
   {
    "duration": 6,
    "start_time": "2022-03-31T17:43:19.501Z"
   },
   {
    "duration": 3,
    "start_time": "2022-03-31T17:43:20.786Z"
   },
   {
    "duration": 5,
    "start_time": "2022-03-31T17:43:21.131Z"
   },
   {
    "duration": 6,
    "start_time": "2022-03-31T17:43:21.469Z"
   },
   {
    "duration": 5,
    "start_time": "2022-03-31T17:43:21.803Z"
   },
   {
    "duration": 5,
    "start_time": "2022-03-31T17:43:22.138Z"
   },
   {
    "duration": 6,
    "start_time": "2022-03-31T17:43:22.489Z"
   },
   {
    "duration": 389,
    "start_time": "2022-03-31T17:43:22.917Z"
   },
   {
    "duration": 512,
    "start_time": "2022-03-31T17:43:23.308Z"
   },
   {
    "duration": 4,
    "start_time": "2022-03-31T17:43:24.511Z"
   },
   {
    "duration": 5,
    "start_time": "2022-03-31T17:43:25.347Z"
   },
   {
    "duration": 5,
    "start_time": "2022-03-31T17:43:25.880Z"
   },
   {
    "duration": 4,
    "start_time": "2022-03-31T17:43:27.002Z"
   },
   {
    "duration": 340,
    "start_time": "2022-03-31T17:43:28.013Z"
   },
   {
    "duration": 432,
    "start_time": "2022-03-31T17:43:32.350Z"
   },
   {
    "duration": 3,
    "start_time": "2022-03-31T17:43:34.748Z"
   },
   {
    "duration": 5,
    "start_time": "2022-03-31T17:43:35.398Z"
   },
   {
    "duration": 4,
    "start_time": "2022-03-31T17:43:36.577Z"
   },
   {
    "duration": 5,
    "start_time": "2022-03-31T17:43:37.180Z"
   },
   {
    "duration": 537,
    "start_time": "2022-03-31T17:43:37.859Z"
   },
   {
    "duration": 574,
    "start_time": "2022-03-31T17:43:38.465Z"
   },
   {
    "duration": 5,
    "start_time": "2022-03-31T17:43:40.020Z"
   },
   {
    "duration": 4,
    "start_time": "2022-03-31T17:43:41.282Z"
   },
   {
    "duration": 4,
    "start_time": "2022-03-31T17:43:41.975Z"
   },
   {
    "duration": 4,
    "start_time": "2022-03-31T17:43:42.641Z"
   },
   {
    "duration": 5,
    "start_time": "2022-03-31T17:43:43.296Z"
   },
   {
    "duration": 5,
    "start_time": "2022-03-31T17:43:47.048Z"
   },
   {
    "duration": 5,
    "start_time": "2022-03-31T17:43:47.493Z"
   },
   {
    "duration": 5,
    "start_time": "2022-03-31T17:43:48.020Z"
   },
   {
    "duration": 5,
    "start_time": "2022-03-31T17:43:48.282Z"
   },
   {
    "duration": 5,
    "start_time": "2022-03-31T17:43:48.779Z"
   },
   {
    "duration": 5,
    "start_time": "2022-03-31T17:43:49.046Z"
   },
   {
    "duration": 5,
    "start_time": "2022-03-31T17:43:49.562Z"
   },
   {
    "duration": 4,
    "start_time": "2022-03-31T17:43:49.816Z"
   },
   {
    "duration": 10,
    "start_time": "2022-03-31T17:43:51.718Z"
   },
   {
    "duration": 7,
    "start_time": "2022-03-31T17:43:53.365Z"
   },
   {
    "duration": 11,
    "start_time": "2022-03-31T17:43:53.740Z"
   },
   {
    "duration": 5,
    "start_time": "2022-03-31T17:43:54.412Z"
   },
   {
    "duration": 5,
    "start_time": "2022-03-31T17:43:55.015Z"
   },
   {
    "duration": 120,
    "start_time": "2022-04-01T13:50:04.019Z"
   },
   {
    "duration": 105,
    "start_time": "2022-04-01T13:53:58.864Z"
   },
   {
    "duration": 13,
    "start_time": "2022-04-01T13:54:10.878Z"
   },
   {
    "duration": 6,
    "start_time": "2022-04-01T13:54:19.588Z"
   },
   {
    "duration": 6,
    "start_time": "2022-04-01T13:54:30.807Z"
   },
   {
    "duration": 124,
    "start_time": "2022-04-01T13:56:03.081Z"
   },
   {
    "duration": 1569,
    "start_time": "2022-04-01T13:58:26.776Z"
   },
   {
    "duration": 522,
    "start_time": "2022-04-01T13:58:28.347Z"
   },
   {
    "duration": 55,
    "start_time": "2022-04-01T13:58:28.872Z"
   },
   {
    "duration": 26,
    "start_time": "2022-04-01T13:58:28.929Z"
   },
   {
    "duration": 134,
    "start_time": "2022-04-01T13:58:28.958Z"
   },
   {
    "duration": 29,
    "start_time": "2022-04-01T13:58:29.095Z"
   },
   {
    "duration": 16,
    "start_time": "2022-04-01T13:58:29.126Z"
   },
   {
    "duration": 48,
    "start_time": "2022-04-01T13:58:29.145Z"
   },
   {
    "duration": 120,
    "start_time": "2022-04-01T13:58:29.196Z"
   },
   {
    "duration": 183,
    "start_time": "2022-04-01T13:58:29.319Z"
   },
   {
    "duration": 31,
    "start_time": "2022-04-01T13:58:29.505Z"
   },
   {
    "duration": 47,
    "start_time": "2022-04-01T13:58:29.539Z"
   },
   {
    "duration": 35,
    "start_time": "2022-04-01T13:58:29.588Z"
   },
   {
    "duration": 6,
    "start_time": "2022-04-01T13:58:29.628Z"
   },
   {
    "duration": 25,
    "start_time": "2022-04-01T13:58:29.637Z"
   },
   {
    "duration": 224,
    "start_time": "2022-04-01T13:58:29.663Z"
   },
   {
    "duration": 21,
    "start_time": "2022-04-01T13:58:29.890Z"
   },
   {
    "duration": 109,
    "start_time": "2022-04-01T13:58:29.914Z"
   },
   {
    "duration": 23,
    "start_time": "2022-04-01T13:58:30.026Z"
   },
   {
    "duration": 43,
    "start_time": "2022-04-01T13:58:30.052Z"
   },
   {
    "duration": 12,
    "start_time": "2022-04-01T13:58:30.098Z"
   },
   {
    "duration": 41,
    "start_time": "2022-04-01T13:58:30.112Z"
   },
   {
    "duration": 62,
    "start_time": "2022-04-01T13:58:30.157Z"
   },
   {
    "duration": 21,
    "start_time": "2022-04-01T13:58:30.221Z"
   },
   {
    "duration": 24,
    "start_time": "2022-04-01T13:58:30.244Z"
   },
   {
    "duration": 50,
    "start_time": "2022-04-01T13:58:30.271Z"
   },
   {
    "duration": 17,
    "start_time": "2022-04-01T13:58:30.323Z"
   },
   {
    "duration": 452,
    "start_time": "2022-04-01T13:58:30.342Z"
   },
   {
    "duration": 11,
    "start_time": "2022-04-01T13:58:30.796Z"
   },
   {
    "duration": 385,
    "start_time": "2022-04-01T13:58:30.809Z"
   },
   {
    "duration": 14,
    "start_time": "2022-04-01T13:58:31.197Z"
   },
   {
    "duration": 316,
    "start_time": "2022-04-01T13:58:31.213Z"
   },
   {
    "duration": 76,
    "start_time": "2022-04-01T13:58:31.532Z"
   },
   {
    "duration": 28,
    "start_time": "2022-04-01T13:58:31.610Z"
   },
   {
    "duration": 135,
    "start_time": "2022-04-01T13:58:31.640Z"
   },
   {
    "duration": 5,
    "start_time": "2022-04-01T13:58:31.784Z"
   },
   {
    "duration": 31,
    "start_time": "2022-04-01T13:58:31.792Z"
   },
   {
    "duration": 58,
    "start_time": "2022-04-01T13:58:31.826Z"
   },
   {
    "duration": 27,
    "start_time": "2022-04-01T13:58:31.886Z"
   },
   {
    "duration": 25,
    "start_time": "2022-04-01T13:58:31.916Z"
   },
   {
    "duration": 34,
    "start_time": "2022-04-01T13:58:31.949Z"
   },
   {
    "duration": 46,
    "start_time": "2022-04-01T13:58:31.986Z"
   },
   {
    "duration": 61,
    "start_time": "2022-04-01T13:58:32.035Z"
   },
   {
    "duration": 26,
    "start_time": "2022-04-01T13:58:32.098Z"
   },
   {
    "duration": 4812,
    "start_time": "2022-04-01T13:58:32.126Z"
   },
   {
    "duration": 17,
    "start_time": "2022-04-01T13:58:36.940Z"
   },
   {
    "duration": 53,
    "start_time": "2022-04-01T13:58:36.960Z"
   },
   {
    "duration": 8,
    "start_time": "2022-04-01T13:58:37.016Z"
   },
   {
    "duration": 117,
    "start_time": "2022-04-01T13:58:37.026Z"
   },
   {
    "duration": 24,
    "start_time": "2022-04-01T13:58:37.146Z"
   },
   {
    "duration": 6,
    "start_time": "2022-04-01T13:58:37.184Z"
   },
   {
    "duration": 14,
    "start_time": "2022-04-01T13:58:37.192Z"
   },
   {
    "duration": 109,
    "start_time": "2022-04-01T13:58:37.208Z"
   },
   {
    "duration": 24,
    "start_time": "2022-04-01T13:58:37.320Z"
   },
   {
    "duration": 47,
    "start_time": "2022-04-01T13:58:37.347Z"
   },
   {
    "duration": 7,
    "start_time": "2022-04-01T13:58:37.397Z"
   },
   {
    "duration": 13,
    "start_time": "2022-04-01T13:58:37.406Z"
   },
   {
    "duration": 7,
    "start_time": "2022-04-01T13:58:37.422Z"
   },
   {
    "duration": 8,
    "start_time": "2022-04-01T13:58:37.432Z"
   },
   {
    "duration": 9,
    "start_time": "2022-04-01T13:58:37.485Z"
   },
   {
    "duration": 8,
    "start_time": "2022-04-01T13:58:37.497Z"
   },
   {
    "duration": 10,
    "start_time": "2022-04-01T13:58:37.507Z"
   },
   {
    "duration": 16,
    "start_time": "2022-04-01T13:58:37.519Z"
   },
   {
    "duration": 13,
    "start_time": "2022-04-01T13:58:37.538Z"
   },
   {
    "duration": 7,
    "start_time": "2022-04-01T13:58:37.585Z"
   },
   {
    "duration": 15,
    "start_time": "2022-04-01T13:58:37.594Z"
   },
   {
    "duration": 10,
    "start_time": "2022-04-01T13:58:37.611Z"
   },
   {
    "duration": 652,
    "start_time": "2022-04-01T13:58:37.623Z"
   },
   {
    "duration": 813,
    "start_time": "2022-04-01T13:58:38.277Z"
   },
   {
    "duration": 6,
    "start_time": "2022-04-01T13:58:39.093Z"
   },
   {
    "duration": 15,
    "start_time": "2022-04-01T13:58:39.101Z"
   },
   {
    "duration": 13,
    "start_time": "2022-04-01T13:58:39.119Z"
   },
   {
    "duration": 12,
    "start_time": "2022-04-01T13:58:39.134Z"
   },
   {
    "duration": 522,
    "start_time": "2022-04-01T13:58:39.149Z"
   },
   {
    "duration": 668,
    "start_time": "2022-04-01T13:58:39.673Z"
   },
   {
    "duration": 6,
    "start_time": "2022-04-01T13:58:40.343Z"
   },
   {
    "duration": 15,
    "start_time": "2022-04-01T13:58:40.351Z"
   },
   {
    "duration": 17,
    "start_time": "2022-04-01T13:58:40.368Z"
   },
   {
    "duration": 10,
    "start_time": "2022-04-01T13:58:40.387Z"
   },
   {
    "duration": 1065,
    "start_time": "2022-04-01T13:58:40.399Z"
   },
   {
    "duration": 813,
    "start_time": "2022-04-01T13:58:41.467Z"
   },
   {
    "duration": 6,
    "start_time": "2022-04-01T13:58:42.284Z"
   },
   {
    "duration": 8,
    "start_time": "2022-04-01T13:58:42.293Z"
   },
   {
    "duration": 8,
    "start_time": "2022-04-01T13:58:42.303Z"
   },
   {
    "duration": 9,
    "start_time": "2022-04-01T13:58:42.313Z"
   },
   {
    "duration": 5,
    "start_time": "2022-04-01T13:58:42.324Z"
   },
   {
    "duration": 53,
    "start_time": "2022-04-01T13:58:42.331Z"
   },
   {
    "duration": 8,
    "start_time": "2022-04-01T13:58:42.387Z"
   },
   {
    "duration": 10,
    "start_time": "2022-04-01T13:58:42.398Z"
   },
   {
    "duration": 7,
    "start_time": "2022-04-01T13:58:42.410Z"
   },
   {
    "duration": 9,
    "start_time": "2022-04-01T13:58:42.419Z"
   },
   {
    "duration": 11,
    "start_time": "2022-04-01T13:58:42.430Z"
   },
   {
    "duration": 43,
    "start_time": "2022-04-01T13:58:42.443Z"
   },
   {
    "duration": 6,
    "start_time": "2022-04-01T13:58:42.488Z"
   },
   {
    "duration": 14,
    "start_time": "2022-04-01T13:58:42.496Z"
   },
   {
    "duration": 10,
    "start_time": "2022-04-01T13:58:42.512Z"
   },
   {
    "duration": 23,
    "start_time": "2022-04-01T13:58:42.524Z"
   },
   {
    "duration": 41,
    "start_time": "2022-04-01T13:58:42.549Z"
   },
   {
    "duration": 8,
    "start_time": "2022-04-01T13:58:42.592Z"
   },
   {
    "duration": 6,
    "start_time": "2022-04-01T13:58:42.608Z"
   },
   {
    "duration": 6,
    "start_time": "2022-04-01T13:59:10.839Z"
   },
   {
    "duration": 17,
    "start_time": "2022-04-01T14:00:26.714Z"
   },
   {
    "duration": 114,
    "start_time": "2022-04-01T14:02:00.519Z"
   },
   {
    "duration": 1465,
    "start_time": "2022-04-01T14:04:18.222Z"
   },
   {
    "duration": 512,
    "start_time": "2022-04-01T14:04:19.690Z"
   },
   {
    "duration": 34,
    "start_time": "2022-04-01T14:04:20.204Z"
   },
   {
    "duration": 25,
    "start_time": "2022-04-01T14:04:20.241Z"
   },
   {
    "duration": 122,
    "start_time": "2022-04-01T14:04:20.268Z"
   },
   {
    "duration": 28,
    "start_time": "2022-04-01T14:04:20.392Z"
   },
   {
    "duration": 65,
    "start_time": "2022-04-01T14:04:20.422Z"
   },
   {
    "duration": 20,
    "start_time": "2022-04-01T14:04:20.489Z"
   },
   {
    "duration": 211,
    "start_time": "2022-04-01T14:04:20.511Z"
   },
   {
    "duration": 265,
    "start_time": "2022-04-01T14:04:20.726Z"
   },
   {
    "duration": 19,
    "start_time": "2022-04-01T14:04:20.993Z"
   },
   {
    "duration": 75,
    "start_time": "2022-04-01T14:04:21.014Z"
   },
   {
    "duration": 35,
    "start_time": "2022-04-01T14:04:21.092Z"
   },
   {
    "duration": 58,
    "start_time": "2022-04-01T14:04:21.129Z"
   },
   {
    "duration": 23,
    "start_time": "2022-04-01T14:04:21.189Z"
   },
   {
    "duration": 397,
    "start_time": "2022-04-01T14:04:21.214Z"
   },
   {
    "duration": 73,
    "start_time": "2022-04-01T14:04:21.612Z"
   },
   {
    "duration": 129,
    "start_time": "2022-04-01T14:04:21.687Z"
   },
   {
    "duration": 77,
    "start_time": "2022-04-01T14:04:21.818Z"
   },
   {
    "duration": 22,
    "start_time": "2022-04-01T14:04:21.897Z"
   },
   {
    "duration": 65,
    "start_time": "2022-04-01T14:04:21.921Z"
   },
   {
    "duration": 97,
    "start_time": "2022-04-01T14:04:21.988Z"
   },
   {
    "duration": 28,
    "start_time": "2022-04-01T14:04:22.087Z"
   },
   {
    "duration": 12,
    "start_time": "2022-04-01T14:04:22.117Z"
   },
   {
    "duration": 11,
    "start_time": "2022-04-01T14:04:22.184Z"
   },
   {
    "duration": 91,
    "start_time": "2022-04-01T14:04:22.197Z"
   },
   {
    "duration": 16,
    "start_time": "2022-04-01T14:04:22.290Z"
   },
   {
    "duration": 692,
    "start_time": "2022-04-01T14:04:22.313Z"
   },
   {
    "duration": 11,
    "start_time": "2022-04-01T14:04:23.008Z"
   },
   {
    "duration": 592,
    "start_time": "2022-04-01T14:04:23.021Z"
   },
   {
    "duration": 15,
    "start_time": "2022-04-01T14:04:23.616Z"
   },
   {
    "duration": 308,
    "start_time": "2022-04-01T14:04:23.634Z"
   },
   {
    "duration": 60,
    "start_time": "2022-04-01T14:04:23.944Z"
   },
   {
    "duration": 29,
    "start_time": "2022-04-01T14:04:24.006Z"
   },
   {
    "duration": 144,
    "start_time": "2022-04-01T14:04:24.037Z"
   },
   {
    "duration": 5,
    "start_time": "2022-04-01T14:04:24.183Z"
   },
   {
    "duration": 28,
    "start_time": "2022-04-01T14:04:24.190Z"
   },
   {
    "duration": 33,
    "start_time": "2022-04-01T14:04:24.220Z"
   },
   {
    "duration": 48,
    "start_time": "2022-04-01T14:04:24.255Z"
   },
   {
    "duration": 11,
    "start_time": "2022-04-01T14:04:24.305Z"
   },
   {
    "duration": 24,
    "start_time": "2022-04-01T14:04:24.318Z"
   },
   {
    "duration": 42,
    "start_time": "2022-04-01T14:04:24.344Z"
   },
   {
    "duration": 36,
    "start_time": "2022-04-01T14:04:24.388Z"
   },
   {
    "duration": 49,
    "start_time": "2022-04-01T14:04:24.426Z"
   },
   {
    "duration": 3877,
    "start_time": "2022-04-01T14:04:24.477Z"
   },
   {
    "duration": 29,
    "start_time": "2022-04-01T14:04:28.356Z"
   },
   {
    "duration": 8,
    "start_time": "2022-04-01T14:04:28.388Z"
   },
   {
    "duration": 7,
    "start_time": "2022-04-01T14:04:28.399Z"
   },
   {
    "duration": 20,
    "start_time": "2022-04-01T14:04:28.408Z"
   },
   {
    "duration": 7,
    "start_time": "2022-04-01T14:04:28.431Z"
   },
   {
    "duration": 7,
    "start_time": "2022-04-01T14:04:28.485Z"
   },
   {
    "duration": 136,
    "start_time": "2022-04-01T14:04:28.494Z"
   },
   {
    "duration": 94,
    "start_time": "2022-04-01T14:04:28.633Z"
   },
   {
    "duration": 6,
    "start_time": "2022-04-01T14:04:28.729Z"
   },
   {
    "duration": 23,
    "start_time": "2022-04-01T14:04:28.738Z"
   },
   {
    "duration": 27,
    "start_time": "2022-04-01T14:04:28.763Z"
   },
   {
    "duration": 23,
    "start_time": "2022-04-01T14:04:28.792Z"
   },
   {
    "duration": 23,
    "start_time": "2022-04-01T14:04:28.817Z"
   },
   {
    "duration": 8,
    "start_time": "2022-04-01T14:04:28.842Z"
   },
   {
    "duration": 40,
    "start_time": "2022-04-01T14:04:28.852Z"
   },
   {
    "duration": 5,
    "start_time": "2022-04-01T14:04:28.894Z"
   },
   {
    "duration": 12,
    "start_time": "2022-04-01T14:04:28.901Z"
   },
   {
    "duration": 10,
    "start_time": "2022-04-01T14:04:28.915Z"
   },
   {
    "duration": 12,
    "start_time": "2022-04-01T14:04:28.927Z"
   },
   {
    "duration": 44,
    "start_time": "2022-04-01T14:04:28.941Z"
   },
   {
    "duration": 20,
    "start_time": "2022-04-01T14:04:28.987Z"
   },
   {
    "duration": 17,
    "start_time": "2022-04-01T14:04:29.009Z"
   },
   {
    "duration": 12,
    "start_time": "2022-04-01T14:04:29.028Z"
   },
   {
    "duration": 19,
    "start_time": "2022-04-01T14:04:29.043Z"
   },
   {
    "duration": 19,
    "start_time": "2022-04-01T14:04:29.064Z"
   },
   {
    "duration": 638,
    "start_time": "2022-04-01T14:04:29.085Z"
   },
   {
    "duration": 807,
    "start_time": "2022-04-01T14:04:29.725Z"
   },
   {
    "duration": 7,
    "start_time": "2022-04-01T14:04:30.535Z"
   },
   {
    "duration": 17,
    "start_time": "2022-04-01T14:04:30.545Z"
   },
   {
    "duration": 7,
    "start_time": "2022-04-01T14:04:30.583Z"
   },
   {
    "duration": 25,
    "start_time": "2022-04-01T14:04:30.592Z"
   },
   {
    "duration": 528,
    "start_time": "2022-04-01T14:04:30.620Z"
   },
   {
    "duration": 672,
    "start_time": "2022-04-01T14:04:31.151Z"
   },
   {
    "duration": 7,
    "start_time": "2022-04-01T14:04:31.825Z"
   },
   {
    "duration": 44,
    "start_time": "2022-04-01T14:04:31.835Z"
   },
   {
    "duration": 63,
    "start_time": "2022-04-01T14:04:31.881Z"
   },
   {
    "duration": 21,
    "start_time": "2022-04-01T14:04:31.954Z"
   },
   {
    "duration": 1007,
    "start_time": "2022-04-01T14:04:31.977Z"
   },
   {
    "duration": 856,
    "start_time": "2022-04-01T14:04:32.986Z"
   },
   {
    "duration": 7,
    "start_time": "2022-04-01T14:04:33.844Z"
   },
   {
    "duration": 22,
    "start_time": "2022-04-01T14:04:33.853Z"
   },
   {
    "duration": 20,
    "start_time": "2022-04-01T14:04:33.877Z"
   },
   {
    "duration": 20,
    "start_time": "2022-04-01T14:04:33.899Z"
   },
   {
    "duration": 14,
    "start_time": "2022-04-01T14:04:33.921Z"
   },
   {
    "duration": 19,
    "start_time": "2022-04-01T14:04:33.937Z"
   },
   {
    "duration": 15,
    "start_time": "2022-04-01T14:04:33.959Z"
   },
   {
    "duration": 20,
    "start_time": "2022-04-01T14:04:33.977Z"
   },
   {
    "duration": 23,
    "start_time": "2022-04-01T14:04:33.999Z"
   },
   {
    "duration": 26,
    "start_time": "2022-04-01T14:04:34.024Z"
   },
   {
    "duration": 17,
    "start_time": "2022-04-01T14:04:34.053Z"
   },
   {
    "duration": 32,
    "start_time": "2022-04-01T14:04:34.072Z"
   },
   {
    "duration": 22,
    "start_time": "2022-04-01T14:04:34.106Z"
   },
   {
    "duration": 21,
    "start_time": "2022-04-01T14:04:34.130Z"
   },
   {
    "duration": 22,
    "start_time": "2022-04-01T14:04:34.153Z"
   },
   {
    "duration": 30,
    "start_time": "2022-04-01T14:04:34.178Z"
   },
   {
    "duration": 23,
    "start_time": "2022-04-01T14:04:34.210Z"
   },
   {
    "duration": 18,
    "start_time": "2022-04-01T14:04:34.235Z"
   },
   {
    "duration": 18,
    "start_time": "2022-04-01T14:04:56.642Z"
   },
   {
    "duration": 103,
    "start_time": "2022-04-01T14:08:23.546Z"
   },
   {
    "duration": 1619,
    "start_time": "2022-04-01T14:13:37.369Z"
   },
   {
    "duration": 762,
    "start_time": "2022-04-01T14:13:38.991Z"
   },
   {
    "duration": 58,
    "start_time": "2022-04-01T14:13:39.756Z"
   },
   {
    "duration": 43,
    "start_time": "2022-04-01T14:13:39.818Z"
   },
   {
    "duration": 192,
    "start_time": "2022-04-01T14:13:39.863Z"
   },
   {
    "duration": 49,
    "start_time": "2022-04-01T14:13:40.058Z"
   },
   {
    "duration": 22,
    "start_time": "2022-04-01T14:13:40.110Z"
   },
   {
    "duration": 30,
    "start_time": "2022-04-01T14:13:40.135Z"
   },
   {
    "duration": 148,
    "start_time": "2022-04-01T14:13:40.168Z"
   },
   {
    "duration": 140,
    "start_time": "2022-04-01T14:13:40.320Z"
   },
   {
    "duration": 28,
    "start_time": "2022-04-01T14:13:40.462Z"
   },
   {
    "duration": 51,
    "start_time": "2022-04-01T14:13:40.492Z"
   },
   {
    "duration": 45,
    "start_time": "2022-04-01T14:13:40.545Z"
   },
   {
    "duration": 42,
    "start_time": "2022-04-01T14:13:40.592Z"
   },
   {
    "duration": 51,
    "start_time": "2022-04-01T14:13:40.637Z"
   },
   {
    "duration": 294,
    "start_time": "2022-04-01T14:13:40.692Z"
   },
   {
    "duration": 22,
    "start_time": "2022-04-01T14:13:40.988Z"
   },
   {
    "duration": 114,
    "start_time": "2022-04-01T14:13:41.012Z"
   },
   {
    "duration": 23,
    "start_time": "2022-04-01T14:13:41.128Z"
   },
   {
    "duration": 43,
    "start_time": "2022-04-01T14:13:41.153Z"
   },
   {
    "duration": 32,
    "start_time": "2022-04-01T14:13:41.198Z"
   },
   {
    "duration": 52,
    "start_time": "2022-04-01T14:13:41.233Z"
   },
   {
    "duration": 30,
    "start_time": "2022-04-01T14:13:41.287Z"
   },
   {
    "duration": 18,
    "start_time": "2022-04-01T14:13:41.320Z"
   },
   {
    "duration": 18,
    "start_time": "2022-04-01T14:13:41.341Z"
   },
   {
    "duration": 67,
    "start_time": "2022-04-01T14:13:41.361Z"
   },
   {
    "duration": 19,
    "start_time": "2022-04-01T14:13:41.431Z"
   },
   {
    "duration": 452,
    "start_time": "2022-04-01T14:13:41.456Z"
   },
   {
    "duration": 15,
    "start_time": "2022-04-01T14:13:41.912Z"
   },
   {
    "duration": 479,
    "start_time": "2022-04-01T14:13:41.929Z"
   },
   {
    "duration": 17,
    "start_time": "2022-04-01T14:13:42.410Z"
   },
   {
    "duration": 314,
    "start_time": "2022-04-01T14:13:42.430Z"
   },
   {
    "duration": 70,
    "start_time": "2022-04-01T14:13:42.747Z"
   },
   {
    "duration": 30,
    "start_time": "2022-04-01T14:13:42.820Z"
   },
   {
    "duration": 149,
    "start_time": "2022-04-01T14:13:42.853Z"
   },
   {
    "duration": 5,
    "start_time": "2022-04-01T14:13:43.004Z"
   },
   {
    "duration": 16,
    "start_time": "2022-04-01T14:13:43.011Z"
   },
   {
    "duration": 68,
    "start_time": "2022-04-01T14:13:43.030Z"
   },
   {
    "duration": 23,
    "start_time": "2022-04-01T14:13:43.101Z"
   },
   {
    "duration": 10,
    "start_time": "2022-04-01T14:13:43.126Z"
   },
   {
    "duration": 47,
    "start_time": "2022-04-01T14:13:43.139Z"
   },
   {
    "duration": 17,
    "start_time": "2022-04-01T14:13:43.188Z"
   },
   {
    "duration": 21,
    "start_time": "2022-04-01T14:13:43.208Z"
   },
   {
    "duration": 6,
    "start_time": "2022-04-01T14:13:43.232Z"
   },
   {
    "duration": 3966,
    "start_time": "2022-04-01T14:13:43.241Z"
   },
   {
    "duration": 19,
    "start_time": "2022-04-01T14:13:47.209Z"
   },
   {
    "duration": 6,
    "start_time": "2022-04-01T14:13:47.231Z"
   },
   {
    "duration": 10,
    "start_time": "2022-04-01T14:13:47.240Z"
   },
   {
    "duration": 22,
    "start_time": "2022-04-01T14:13:47.285Z"
   },
   {
    "duration": 7,
    "start_time": "2022-04-01T14:13:47.310Z"
   },
   {
    "duration": 12,
    "start_time": "2022-04-01T14:13:47.319Z"
   },
   {
    "duration": 159,
    "start_time": "2022-04-01T14:13:47.334Z"
   },
   {
    "duration": 96,
    "start_time": "2022-04-01T14:13:47.495Z"
   },
   {
    "duration": 6,
    "start_time": "2022-04-01T14:13:47.593Z"
   },
   {
    "duration": 19,
    "start_time": "2022-04-01T14:13:47.602Z"
   },
   {
    "duration": 37,
    "start_time": "2022-04-01T14:13:47.623Z"
   },
   {
    "duration": 32,
    "start_time": "2022-04-01T14:13:47.662Z"
   },
   {
    "duration": 24,
    "start_time": "2022-04-01T14:13:47.697Z"
   },
   {
    "duration": 7,
    "start_time": "2022-04-01T14:13:47.724Z"
   },
   {
    "duration": 16,
    "start_time": "2022-04-01T14:13:47.734Z"
   },
   {
    "duration": 36,
    "start_time": "2022-04-01T14:13:47.752Z"
   },
   {
    "duration": 10,
    "start_time": "2022-04-01T14:13:47.791Z"
   },
   {
    "duration": 11,
    "start_time": "2022-04-01T14:13:47.803Z"
   },
   {
    "duration": 10,
    "start_time": "2022-04-01T14:13:47.816Z"
   },
   {
    "duration": 13,
    "start_time": "2022-04-01T14:13:47.828Z"
   },
   {
    "duration": 14,
    "start_time": "2022-04-01T14:13:47.843Z"
   },
   {
    "duration": 10,
    "start_time": "2022-04-01T14:13:47.884Z"
   },
   {
    "duration": 13,
    "start_time": "2022-04-01T14:13:47.896Z"
   },
   {
    "duration": 11,
    "start_time": "2022-04-01T14:13:47.911Z"
   },
   {
    "duration": 17,
    "start_time": "2022-04-01T14:13:47.924Z"
   },
   {
    "duration": 710,
    "start_time": "2022-04-01T14:13:47.943Z"
   },
   {
    "duration": 811,
    "start_time": "2022-04-01T14:13:48.656Z"
   },
   {
    "duration": 16,
    "start_time": "2022-04-01T14:13:49.471Z"
   },
   {
    "duration": 46,
    "start_time": "2022-04-01T14:13:49.490Z"
   },
   {
    "duration": 22,
    "start_time": "2022-04-01T14:13:49.539Z"
   },
   {
    "duration": 20,
    "start_time": "2022-04-01T14:13:49.565Z"
   },
   {
    "duration": 877,
    "start_time": "2022-04-01T14:13:49.589Z"
   },
   {
    "duration": 676,
    "start_time": "2022-04-01T14:13:50.469Z"
   },
   {
    "duration": 6,
    "start_time": "2022-04-01T14:13:51.147Z"
   },
   {
    "duration": 10,
    "start_time": "2022-04-01T14:13:51.156Z"
   },
   {
    "duration": 8,
    "start_time": "2022-04-01T14:13:51.183Z"
   },
   {
    "duration": 13,
    "start_time": "2022-04-01T14:13:51.200Z"
   },
   {
    "duration": 1134,
    "start_time": "2022-04-01T14:13:51.216Z"
   },
   {
    "duration": 801,
    "start_time": "2022-04-01T14:13:52.352Z"
   },
   {
    "duration": 7,
    "start_time": "2022-04-01T14:13:53.156Z"
   },
   {
    "duration": 22,
    "start_time": "2022-04-01T14:13:53.166Z"
   },
   {
    "duration": 17,
    "start_time": "2022-04-01T14:13:53.191Z"
   },
   {
    "duration": 7,
    "start_time": "2022-04-01T14:13:53.211Z"
   },
   {
    "duration": 15,
    "start_time": "2022-04-01T14:13:53.220Z"
   },
   {
    "duration": 9,
    "start_time": "2022-04-01T14:13:53.237Z"
   },
   {
    "duration": 47,
    "start_time": "2022-04-01T14:13:53.249Z"
   },
   {
    "duration": 8,
    "start_time": "2022-04-01T14:13:53.299Z"
   },
   {
    "duration": 11,
    "start_time": "2022-04-01T14:13:53.309Z"
   },
   {
    "duration": 13,
    "start_time": "2022-04-01T14:13:53.322Z"
   },
   {
    "duration": 10,
    "start_time": "2022-04-01T14:13:53.337Z"
   },
   {
    "duration": 7,
    "start_time": "2022-04-01T14:13:53.384Z"
   },
   {
    "duration": 8,
    "start_time": "2022-04-01T14:13:53.393Z"
   },
   {
    "duration": 13,
    "start_time": "2022-04-01T14:13:53.403Z"
   },
   {
    "duration": 11,
    "start_time": "2022-04-01T14:13:53.418Z"
   },
   {
    "duration": 65,
    "start_time": "2022-04-01T14:13:53.431Z"
   },
   {
    "duration": 8,
    "start_time": "2022-04-01T14:13:53.498Z"
   },
   {
    "duration": 15,
    "start_time": "2022-04-01T14:13:53.508Z"
   },
   {
    "duration": 175,
    "start_time": "2022-04-02T08:21:23.028Z"
   },
   {
    "duration": 46,
    "start_time": "2022-04-02T08:22:10.806Z"
   },
   {
    "duration": 1367,
    "start_time": "2022-04-02T08:23:09.628Z"
   },
   {
    "duration": 438,
    "start_time": "2022-04-02T08:23:10.997Z"
   },
   {
    "duration": 29,
    "start_time": "2022-04-02T08:23:11.437Z"
   },
   {
    "duration": 20,
    "start_time": "2022-04-02T08:23:11.469Z"
   },
   {
    "duration": 106,
    "start_time": "2022-04-02T08:23:11.491Z"
   },
   {
    "duration": 23,
    "start_time": "2022-04-02T08:23:12.434Z"
   },
   {
    "duration": 11,
    "start_time": "2022-04-02T08:23:13.056Z"
   },
   {
    "duration": 12,
    "start_time": "2022-04-02T08:23:13.903Z"
   },
   {
    "duration": 77,
    "start_time": "2022-04-02T08:23:15.625Z"
   },
   {
    "duration": 84,
    "start_time": "2022-04-02T08:23:16.399Z"
   },
   {
    "duration": 14,
    "start_time": "2022-04-02T08:23:19.002Z"
   },
   {
    "duration": 19,
    "start_time": "2022-04-02T08:23:19.885Z"
   },
   {
    "duration": 27,
    "start_time": "2022-04-02T08:23:23.356Z"
   },
   {
    "duration": 4,
    "start_time": "2022-04-02T08:23:24.271Z"
   },
   {
    "duration": 15,
    "start_time": "2022-04-02T08:23:25.375Z"
   },
   {
    "duration": 136,
    "start_time": "2022-04-02T08:23:26.018Z"
   },
   {
    "duration": 16,
    "start_time": "2022-04-02T08:23:26.830Z"
   },
   {
    "duration": 50,
    "start_time": "2022-04-02T08:23:27.848Z"
   },
   {
    "duration": 16,
    "start_time": "2022-04-02T08:23:32.382Z"
   },
   {
    "duration": 16,
    "start_time": "2022-04-02T08:23:33.083Z"
   },
   {
    "duration": 7,
    "start_time": "2022-04-02T08:23:34.158Z"
   },
   {
    "duration": 24,
    "start_time": "2022-04-02T08:23:34.897Z"
   },
   {
    "duration": 19,
    "start_time": "2022-04-02T08:23:38.128Z"
   },
   {
    "duration": 4,
    "start_time": "2022-04-02T08:23:42.016Z"
   },
   {
    "duration": 12,
    "start_time": "2022-04-02T08:26:10.170Z"
   },
   {
    "duration": 228,
    "start_time": "2022-04-02T08:26:14.029Z"
   },
   {
    "duration": 9,
    "start_time": "2022-04-02T08:26:14.654Z"
   },
   {
    "duration": 272,
    "start_time": "2022-04-02T08:26:15.943Z"
   },
   {
    "duration": 10,
    "start_time": "2022-04-02T08:26:16.594Z"
   },
   {
    "duration": 201,
    "start_time": "2022-04-02T08:26:18.111Z"
   },
   {
    "duration": 36,
    "start_time": "2022-04-02T08:26:26.606Z"
   },
   {
    "duration": 20,
    "start_time": "2022-04-02T08:26:27.788Z"
   },
   {
    "duration": 27,
    "start_time": "2022-04-02T08:26:28.960Z"
   },
   {
    "duration": 3,
    "start_time": "2022-04-02T08:26:30.756Z"
   },
   {
    "duration": 9,
    "start_time": "2022-04-02T08:26:31.601Z"
   },
   {
    "duration": 92,
    "start_time": "2022-04-02T08:26:33.107Z"
   },
   {
    "duration": 17,
    "start_time": "2022-04-02T08:26:35.495Z"
   },
   {
    "duration": 8,
    "start_time": "2022-04-02T08:26:36.991Z"
   },
   {
    "duration": 3803,
    "start_time": "2022-04-02T08:27:07.183Z"
   },
   {
    "duration": 18,
    "start_time": "2022-04-02T08:27:18.175Z"
   },
   {
    "duration": 12,
    "start_time": "2022-04-02T08:27:21.370Z"
   },
   {
    "duration": 3498,
    "start_time": "2022-04-02T08:27:22.284Z"
   },
   {
    "duration": 0,
    "start_time": "2022-04-02T08:27:25.784Z"
   },
   {
    "duration": 15,
    "start_time": "2022-04-02T08:27:26.496Z"
   },
   {
    "duration": 4,
    "start_time": "2022-04-02T08:27:27.387Z"
   },
   {
    "duration": 3434,
    "start_time": "2022-04-02T08:27:28.224Z"
   },
   {
    "duration": 12,
    "start_time": "2022-04-02T08:27:33.114Z"
   },
   {
    "duration": 3439,
    "start_time": "2022-04-02T08:27:34.607Z"
   },
   {
    "duration": 0,
    "start_time": "2022-04-02T08:27:38.048Z"
   },
   {
    "duration": 9,
    "start_time": "2022-04-02T08:28:04.997Z"
   },
   {
    "duration": 14,
    "start_time": "2022-04-02T08:28:09.395Z"
   },
   {
    "duration": 4,
    "start_time": "2022-04-02T08:28:10.535Z"
   },
   {
    "duration": 3559,
    "start_time": "2022-04-02T08:28:11.614Z"
   },
   {
    "duration": 13,
    "start_time": "2022-04-02T08:28:53.207Z"
   },
   {
    "duration": 2044,
    "start_time": "2022-04-02T08:28:55.944Z"
   },
   {
    "duration": 0,
    "start_time": "2022-04-02T08:28:57.990Z"
   },
   {
    "duration": 0,
    "start_time": "2022-04-02T08:28:57.991Z"
   },
   {
    "duration": 2731,
    "start_time": "2022-04-02T08:28:58.894Z"
   },
   {
    "duration": 6,
    "start_time": "2022-04-02T08:32:12.851Z"
   },
   {
    "duration": 5,
    "start_time": "2022-04-02T08:32:57.233Z"
   },
   {
    "duration": 5,
    "start_time": "2022-04-02T08:33:33.036Z"
   },
   {
    "duration": 23,
    "start_time": "2022-04-02T08:39:31.446Z"
   },
   {
    "duration": 9,
    "start_time": "2022-04-02T08:39:32.537Z"
   },
   {
    "duration": 11,
    "start_time": "2022-04-02T08:39:33.826Z"
   },
   {
    "duration": 2179,
    "start_time": "2022-04-02T08:39:36.110Z"
   },
   {
    "duration": 4558,
    "start_time": "2022-04-02T08:40:26.584Z"
   },
   {
    "duration": 4,
    "start_time": "2022-04-02T08:49:18.137Z"
   },
   {
    "duration": 443,
    "start_time": "2022-04-02T08:49:18.734Z"
   },
   {
    "duration": 28,
    "start_time": "2022-04-02T08:49:19.330Z"
   },
   {
    "duration": 19,
    "start_time": "2022-04-02T08:49:19.905Z"
   },
   {
    "duration": 84,
    "start_time": "2022-04-02T08:49:20.526Z"
   },
   {
    "duration": 23,
    "start_time": "2022-04-02T08:49:21.645Z"
   },
   {
    "duration": 11,
    "start_time": "2022-04-02T08:49:22.215Z"
   },
   {
    "duration": 11,
    "start_time": "2022-04-02T08:49:22.759Z"
   },
   {
    "duration": 71,
    "start_time": "2022-04-02T08:49:23.883Z"
   },
   {
    "duration": 84,
    "start_time": "2022-04-02T08:49:24.515Z"
   },
   {
    "duration": 16,
    "start_time": "2022-04-02T08:49:26.187Z"
   },
   {
    "duration": 21,
    "start_time": "2022-04-02T08:49:26.705Z"
   },
   {
    "duration": 27,
    "start_time": "2022-04-02T08:49:28.612Z"
   },
   {
    "duration": 5,
    "start_time": "2022-04-02T08:49:29.007Z"
   },
   {
    "duration": 14,
    "start_time": "2022-04-02T08:49:29.379Z"
   },
   {
    "duration": 128,
    "start_time": "2022-04-02T08:49:29.741Z"
   },
   {
    "duration": 15,
    "start_time": "2022-04-02T08:49:30.066Z"
   },
   {
    "duration": 47,
    "start_time": "2022-04-02T08:49:30.797Z"
   },
   {
    "duration": 16,
    "start_time": "2022-04-02T08:49:33.327Z"
   },
   {
    "duration": 16,
    "start_time": "2022-04-02T08:49:33.711Z"
   },
   {
    "duration": 7,
    "start_time": "2022-04-02T08:49:34.175Z"
   },
   {
    "duration": 23,
    "start_time": "2022-04-02T08:49:34.784Z"
   },
   {
    "duration": 19,
    "start_time": "2022-04-02T08:49:45.075Z"
   },
   {
    "duration": 5,
    "start_time": "2022-04-02T08:51:15.914Z"
   },
   {
    "duration": 7,
    "start_time": "2022-04-02T08:51:29.678Z"
   },
   {
    "duration": 29,
    "start_time": "2022-04-02T08:51:30.722Z"
   },
   {
    "duration": 12,
    "start_time": "2022-04-02T08:51:32.930Z"
   },
   {
    "duration": 217,
    "start_time": "2022-04-02T08:51:41.114Z"
   },
   {
    "duration": 10,
    "start_time": "2022-04-02T08:51:42.034Z"
   },
   {
    "duration": 260,
    "start_time": "2022-04-02T08:51:43.411Z"
   },
   {
    "duration": 10,
    "start_time": "2022-04-02T08:51:44.068Z"
   },
   {
    "duration": 202,
    "start_time": "2022-04-02T08:51:45.368Z"
   },
   {
    "duration": 33,
    "start_time": "2022-04-02T08:51:49.615Z"
   },
   {
    "duration": 20,
    "start_time": "2022-04-02T08:51:51.362Z"
   },
   {
    "duration": 27,
    "start_time": "2022-04-02T08:51:53.006Z"
   },
   {
    "duration": 3,
    "start_time": "2022-04-02T08:51:55.726Z"
   },
   {
    "duration": 10,
    "start_time": "2022-04-02T08:51:56.423Z"
   },
   {
    "duration": 7,
    "start_time": "2022-04-02T08:51:57.218Z"
   },
   {
    "duration": 25,
    "start_time": "2022-04-02T08:51:58.356Z"
   },
   {
    "duration": 5,
    "start_time": "2022-04-02T08:51:59.226Z"
   },
   {
    "duration": 19,
    "start_time": "2022-04-02T08:52:02.479Z"
   },
   {
    "duration": 10,
    "start_time": "2022-04-02T08:52:03.818Z"
   },
   {
    "duration": 11,
    "start_time": "2022-04-02T08:52:05.340Z"
   },
   {
    "duration": 9,
    "start_time": "2022-04-02T08:52:07.681Z"
   },
   {
    "duration": 17,
    "start_time": "2022-04-02T08:52:11.598Z"
   },
   {
    "duration": 6,
    "start_time": "2022-04-02T08:52:15.265Z"
   },
   {
    "duration": 2491,
    "start_time": "2022-04-02T08:52:16.110Z"
   },
   {
    "duration": 13,
    "start_time": "2022-04-02T08:52:31.633Z"
   },
   {
    "duration": 5,
    "start_time": "2022-04-02T08:52:33.419Z"
   },
   {
    "duration": 5,
    "start_time": "2022-04-02T08:52:52.337Z"
   },
   {
    "duration": 18,
    "start_time": "2022-04-02T08:52:55.234Z"
   },
   {
    "duration": 5,
    "start_time": "2022-04-02T08:52:58.973Z"
   },
   {
    "duration": 4,
    "start_time": "2022-04-02T08:52:59.788Z"
   },
   {
    "duration": 78,
    "start_time": "2022-04-02T08:53:01.132Z"
   },
   {
    "duration": 16,
    "start_time": "2022-04-02T08:53:03.480Z"
   },
   {
    "duration": 3,
    "start_time": "2022-04-02T08:53:04.328Z"
   },
   {
    "duration": 10,
    "start_time": "2022-04-02T08:53:05.021Z"
   },
   {
    "duration": 10,
    "start_time": "2022-04-02T08:53:05.904Z"
   },
   {
    "duration": 18,
    "start_time": "2022-04-02T08:53:06.638Z"
   },
   {
    "duration": 22,
    "start_time": "2022-04-02T08:53:07.375Z"
   },
   {
    "duration": 4,
    "start_time": "2022-04-02T08:53:08.186Z"
   },
   {
    "duration": 8,
    "start_time": "2022-04-02T08:53:08.930Z"
   },
   {
    "duration": 3,
    "start_time": "2022-04-02T08:53:15.789Z"
   },
   {
    "duration": 5,
    "start_time": "2022-04-02T08:53:16.549Z"
   },
   {
    "duration": 6,
    "start_time": "2022-04-02T08:53:17.205Z"
   },
   {
    "duration": 6,
    "start_time": "2022-04-02T08:53:17.824Z"
   },
   {
    "duration": 4,
    "start_time": "2022-04-02T08:54:59.015Z"
   },
   {
    "duration": 5,
    "start_time": "2022-04-02T08:54:59.861Z"
   },
   {
    "duration": 6,
    "start_time": "2022-04-02T08:55:00.932Z"
   },
   {
    "duration": 7,
    "start_time": "2022-04-02T08:55:01.631Z"
   },
   {
    "duration": 7,
    "start_time": "2022-04-02T08:55:02.352Z"
   },
   {
    "duration": 7,
    "start_time": "2022-04-02T08:55:03.014Z"
   },
   {
    "duration": 599,
    "start_time": "2022-04-02T08:55:03.760Z"
   },
   {
    "duration": 591,
    "start_time": "2022-04-02T08:55:04.401Z"
   },
   {
    "duration": 4,
    "start_time": "2022-04-02T08:55:06.202Z"
   },
   {
    "duration": 6,
    "start_time": "2022-04-02T08:55:06.852Z"
   },
   {
    "duration": 4,
    "start_time": "2022-04-02T08:55:07.461Z"
   },
   {
    "duration": 5,
    "start_time": "2022-04-02T08:55:07.859Z"
   },
   {
    "duration": 353,
    "start_time": "2022-04-02T08:55:08.257Z"
   },
   {
    "duration": 449,
    "start_time": "2022-04-02T08:55:08.612Z"
   },
   {
    "duration": 5,
    "start_time": "2022-04-02T08:55:09.422Z"
   },
   {
    "duration": 6,
    "start_time": "2022-04-02T08:55:09.699Z"
   },
   {
    "duration": 4,
    "start_time": "2022-04-02T08:55:12.504Z"
   },
   {
    "duration": 6,
    "start_time": "2022-04-02T08:55:12.972Z"
   },
   {
    "duration": 634,
    "start_time": "2022-04-02T08:55:13.324Z"
   },
   {
    "duration": 669,
    "start_time": "2022-04-02T08:55:13.960Z"
   },
   {
    "duration": 5,
    "start_time": "2022-04-02T08:55:14.632Z"
   },
   {
    "duration": 7,
    "start_time": "2022-04-02T08:55:14.639Z"
   },
   {
    "duration": 4,
    "start_time": "2022-04-02T08:55:15.149Z"
   },
   {
    "duration": 4,
    "start_time": "2022-04-02T08:55:15.436Z"
   },
   {
    "duration": 5,
    "start_time": "2022-04-02T08:55:15.727Z"
   },
   {
    "duration": 5,
    "start_time": "2022-04-02T08:55:17.745Z"
   },
   {
    "duration": 5,
    "start_time": "2022-04-02T08:55:17.973Z"
   },
   {
    "duration": 6,
    "start_time": "2022-04-02T08:55:18.400Z"
   },
   {
    "duration": 5,
    "start_time": "2022-04-02T08:55:18.599Z"
   },
   {
    "duration": 5,
    "start_time": "2022-04-02T08:55:19.026Z"
   },
   {
    "duration": 5,
    "start_time": "2022-04-02T08:55:19.207Z"
   },
   {
    "duration": 6,
    "start_time": "2022-04-02T08:55:20.149Z"
   },
   {
    "duration": 5,
    "start_time": "2022-04-02T08:55:20.626Z"
   },
   {
    "duration": 11,
    "start_time": "2022-04-02T08:55:22.309Z"
   },
   {
    "duration": 9,
    "start_time": "2022-04-02T08:55:41.204Z"
   },
   {
    "duration": 14,
    "start_time": "2022-04-02T08:55:42.287Z"
   },
   {
    "duration": 6,
    "start_time": "2022-04-02T08:55:44.535Z"
   },
   {
    "duration": 12,
    "start_time": "2022-04-02T10:19:42.133Z"
   },
   {
    "duration": 45,
    "start_time": "2022-04-02T13:59:20.094Z"
   },
   {
    "duration": 1268,
    "start_time": "2022-04-02T13:59:37.409Z"
   },
   {
    "duration": 402,
    "start_time": "2022-04-02T13:59:38.679Z"
   },
   {
    "duration": 26,
    "start_time": "2022-04-02T13:59:40.250Z"
   },
   {
    "duration": 20,
    "start_time": "2022-04-02T13:59:40.717Z"
   },
   {
    "duration": 82,
    "start_time": "2022-04-02T13:59:41.027Z"
   },
   {
    "duration": 22,
    "start_time": "2022-04-02T13:59:41.664Z"
   },
   {
    "duration": 11,
    "start_time": "2022-04-02T13:59:42.082Z"
   },
   {
    "duration": 10,
    "start_time": "2022-04-02T13:59:42.488Z"
   },
   {
    "duration": 75,
    "start_time": "2022-04-02T13:59:43.871Z"
   },
   {
    "duration": 78,
    "start_time": "2022-04-02T13:59:44.260Z"
   },
   {
    "duration": 15,
    "start_time": "2022-04-02T13:59:45.466Z"
   },
   {
    "duration": 18,
    "start_time": "2022-04-02T13:59:45.942Z"
   },
   {
    "duration": 25,
    "start_time": "2022-04-02T13:59:48.005Z"
   },
   {
    "duration": 5,
    "start_time": "2022-04-02T13:59:48.365Z"
   },
   {
    "duration": 14,
    "start_time": "2022-04-02T13:59:49.207Z"
   },
   {
    "duration": 140,
    "start_time": "2022-04-02T13:59:49.591Z"
   },
   {
    "duration": 16,
    "start_time": "2022-04-02T13:59:49.924Z"
   },
   {
    "duration": 51,
    "start_time": "2022-04-02T13:59:50.486Z"
   },
   {
    "duration": 16,
    "start_time": "2022-04-02T13:59:53.341Z"
   },
   {
    "duration": 16,
    "start_time": "2022-04-02T13:59:53.803Z"
   },
   {
    "duration": 6,
    "start_time": "2022-04-02T13:59:54.329Z"
   },
   {
    "duration": 25,
    "start_time": "2022-04-02T13:59:54.913Z"
   },
   {
    "duration": 18,
    "start_time": "2022-04-02T13:59:57.006Z"
   },
   {
    "duration": 4,
    "start_time": "2022-04-02T14:00:00.363Z"
   },
   {
    "duration": 7,
    "start_time": "2022-04-02T14:00:00.961Z"
   },
   {
    "duration": 32,
    "start_time": "2022-04-02T14:00:02.096Z"
   },
   {
    "duration": 107,
    "start_time": "2022-04-02T14:00:29.372Z"
   },
   {
    "duration": 8,
    "start_time": "2022-04-02T14:00:47.468Z"
   },
   {
    "duration": 28,
    "start_time": "2022-04-02T14:00:48.121Z"
   },
   {
    "duration": 13,
    "start_time": "2022-04-02T14:00:48.726Z"
   },
   {
    "duration": 199,
    "start_time": "2022-04-02T14:00:51.654Z"
   },
   {
    "duration": 9,
    "start_time": "2022-04-02T14:00:51.990Z"
   },
   {
    "duration": 271,
    "start_time": "2022-04-02T14:00:52.771Z"
   },
   {
    "duration": 11,
    "start_time": "2022-04-02T14:00:53.070Z"
   },
   {
    "duration": 178,
    "start_time": "2022-04-02T14:00:53.797Z"
   },
   {
    "duration": 75,
    "start_time": "2022-04-02T14:05:44.730Z"
   },
   {
    "duration": 9,
    "start_time": "2022-04-02T14:05:49.704Z"
   },
   {
    "duration": 3,
    "start_time": "2022-04-02T14:05:58.968Z"
   },
   {
    "duration": 8,
    "start_time": "2022-04-02T14:05:59.681Z"
   },
   {
    "duration": 4,
    "start_time": "2022-04-02T14:06:31.296Z"
   },
   {
    "duration": 10,
    "start_time": "2022-04-02T14:06:39.000Z"
   },
   {
    "duration": 5,
    "start_time": "2022-04-02T14:06:39.745Z"
   },
   {
    "duration": 7,
    "start_time": "2022-04-02T14:06:40.371Z"
   },
   {
    "duration": 34,
    "start_time": "2022-04-02T14:06:40.978Z"
   },
   {
    "duration": 4,
    "start_time": "2022-04-02T14:06:43.477Z"
   },
   {
    "duration": 4,
    "start_time": "2022-04-02T14:06:45.433Z"
   },
   {
    "duration": 7,
    "start_time": "2022-04-02T14:06:46.839Z"
   },
   {
    "duration": 30,
    "start_time": "2022-04-02T14:06:47.530Z"
   },
   {
    "duration": 16,
    "start_time": "2022-04-02T14:06:48.102Z"
   },
   {
    "duration": 312,
    "start_time": "2022-04-02T14:06:51.851Z"
   },
   {
    "duration": 10,
    "start_time": "2022-04-02T14:06:52.813Z"
   },
   {
    "duration": 234,
    "start_time": "2022-04-02T14:06:54.080Z"
   },
   {
    "duration": 8,
    "start_time": "2022-04-02T14:06:54.698Z"
   },
   {
    "duration": 179,
    "start_time": "2022-04-02T14:06:56.073Z"
   },
   {
    "duration": 36,
    "start_time": "2022-04-02T14:07:00.054Z"
   },
   {
    "duration": 23,
    "start_time": "2022-04-02T14:07:01.460Z"
   },
   {
    "duration": 34,
    "start_time": "2022-04-02T14:07:02.747Z"
   },
   {
    "duration": 3,
    "start_time": "2022-04-02T14:07:04.109Z"
   },
   {
    "duration": 10,
    "start_time": "2022-04-02T14:07:04.806Z"
   },
   {
    "duration": 6,
    "start_time": "2022-04-02T14:07:05.533Z"
   },
   {
    "duration": 22,
    "start_time": "2022-04-02T14:07:06.272Z"
   },
   {
    "duration": 5,
    "start_time": "2022-04-02T14:07:06.977Z"
   },
   {
    "duration": 11,
    "start_time": "2022-04-02T14:07:07.674Z"
   },
   {
    "duration": 18,
    "start_time": "2022-04-02T14:07:10.509Z"
   },
   {
    "duration": 8,
    "start_time": "2022-04-02T14:07:11.208Z"
   },
   {
    "duration": 9,
    "start_time": "2022-04-02T14:07:11.967Z"
   },
   {
    "duration": 12,
    "start_time": "2022-04-02T14:07:14.147Z"
   },
   {
    "duration": 27,
    "start_time": "2022-04-02T14:07:15.035Z"
   },
   {
    "duration": 5,
    "start_time": "2022-04-02T14:07:15.727Z"
   },
   {
    "duration": 2576,
    "start_time": "2022-04-02T14:07:16.557Z"
   },
   {
    "duration": 12,
    "start_time": "2022-04-02T14:07:20.058Z"
   },
   {
    "duration": 4,
    "start_time": "2022-04-02T14:07:20.794Z"
   },
   {
    "duration": 4,
    "start_time": "2022-04-02T14:07:21.526Z"
   },
   {
    "duration": 14,
    "start_time": "2022-04-02T14:07:22.205Z"
   },
   {
    "duration": 5,
    "start_time": "2022-04-02T14:07:24.278Z"
   },
   {
    "duration": 4,
    "start_time": "2022-04-02T14:07:24.899Z"
   },
   {
    "duration": 79,
    "start_time": "2022-04-02T14:07:26.536Z"
   },
   {
    "duration": 67,
    "start_time": "2022-04-02T14:07:38.930Z"
   },
   {
    "duration": 26,
    "start_time": "2022-04-02T14:07:41.138Z"
   },
   {
    "duration": 4,
    "start_time": "2022-04-02T14:07:41.808Z"
   },
   {
    "duration": 8,
    "start_time": "2022-04-02T14:07:42.567Z"
   },
   {
    "duration": 10,
    "start_time": "2022-04-02T14:07:48.633Z"
   },
   {
    "duration": 12,
    "start_time": "2022-04-02T14:08:13.634Z"
   },
   {
    "duration": 14,
    "start_time": "2022-04-02T14:08:14.317Z"
   },
   {
    "duration": 25,
    "start_time": "2022-04-02T14:08:15.042Z"
   },
   {
    "duration": 4,
    "start_time": "2022-04-02T14:08:16.067Z"
   },
   {
    "duration": 13,
    "start_time": "2022-04-02T14:08:16.866Z"
   },
   {
    "duration": 8,
    "start_time": "2022-04-02T14:09:07.070Z"
   },
   {
    "duration": 3,
    "start_time": "2022-04-02T14:12:49.495Z"
   },
   {
    "duration": 4,
    "start_time": "2022-04-02T14:12:50.092Z"
   },
   {
    "duration": 5,
    "start_time": "2022-04-02T14:12:50.686Z"
   },
   {
    "duration": 6,
    "start_time": "2022-04-02T14:12:51.304Z"
   },
   {
    "duration": 3,
    "start_time": "2022-04-02T14:12:53.515Z"
   },
   {
    "duration": 4,
    "start_time": "2022-04-02T14:12:54.027Z"
   },
   {
    "duration": 6,
    "start_time": "2022-04-02T14:12:54.609Z"
   },
   {
    "duration": 7,
    "start_time": "2022-04-02T14:12:55.119Z"
   },
   {
    "duration": 6,
    "start_time": "2022-04-02T14:12:55.504Z"
   },
   {
    "duration": 6,
    "start_time": "2022-04-02T14:12:55.804Z"
   },
   {
    "duration": 472,
    "start_time": "2022-04-02T14:12:56.086Z"
   },
   {
    "duration": 635,
    "start_time": "2022-04-02T14:12:56.560Z"
   },
   {
    "duration": 4,
    "start_time": "2022-04-02T14:12:57.690Z"
   },
   {
    "duration": 5,
    "start_time": "2022-04-02T14:12:58.017Z"
   },
   {
    "duration": 4,
    "start_time": "2022-04-02T14:12:58.284Z"
   },
   {
    "duration": 4,
    "start_time": "2022-04-02T14:12:58.587Z"
   },
   {
    "duration": 360,
    "start_time": "2022-04-02T14:12:59.274Z"
   },
   {
    "duration": 479,
    "start_time": "2022-04-02T14:12:59.869Z"
   },
   {
    "duration": 5,
    "start_time": "2022-04-02T14:13:01.956Z"
   },
   {
    "duration": 6,
    "start_time": "2022-04-02T14:13:02.574Z"
   },
   {
    "duration": 4,
    "start_time": "2022-04-02T14:13:03.719Z"
   },
   {
    "duration": 5,
    "start_time": "2022-04-02T14:13:04.208Z"
   },
   {
    "duration": 640,
    "start_time": "2022-04-02T14:13:04.643Z"
   },
   {
    "duration": 549,
    "start_time": "2022-04-02T14:13:05.285Z"
   },
   {
    "duration": 6,
    "start_time": "2022-04-02T14:13:06.267Z"
   },
   {
    "duration": 3,
    "start_time": "2022-04-02T14:13:07.082Z"
   },
   {
    "duration": 3,
    "start_time": "2022-04-02T14:13:07.380Z"
   },
   {
    "duration": 4,
    "start_time": "2022-04-02T14:13:07.661Z"
   },
   {
    "duration": 4,
    "start_time": "2022-04-02T14:13:08.721Z"
   },
   {
    "duration": 5,
    "start_time": "2022-04-02T14:14:08.813Z"
   },
   {
    "duration": 8,
    "start_time": "2022-04-02T14:14:09.154Z"
   },
   {
    "duration": 8,
    "start_time": "2022-04-02T14:14:09.847Z"
   },
   {
    "duration": 5,
    "start_time": "2022-04-02T14:14:10.157Z"
   },
   {
    "duration": 5,
    "start_time": "2022-04-02T14:14:10.765Z"
   },
   {
    "duration": 4,
    "start_time": "2022-04-02T14:14:11.104Z"
   },
   {
    "duration": 4,
    "start_time": "2022-04-02T14:14:11.728Z"
   },
   {
    "duration": 5,
    "start_time": "2022-04-02T14:14:12.291Z"
   },
   {
    "duration": 11,
    "start_time": "2022-04-02T14:14:14.757Z"
   },
   {
    "duration": 8,
    "start_time": "2022-04-02T14:15:13.158Z"
   },
   {
    "duration": 12,
    "start_time": "2022-04-02T14:15:14.352Z"
   },
   {
    "duration": 6,
    "start_time": "2022-04-02T14:15:16.760Z"
   },
   {
    "duration": 5,
    "start_time": "2022-04-02T14:15:32.378Z"
   },
   {
    "duration": 6,
    "start_time": "2022-04-02T14:15:35.366Z"
   },
   {
    "duration": 13,
    "start_time": "2022-04-02T14:54:01.929Z"
   },
   {
    "duration": 1765,
    "start_time": "2022-04-03T10:41:23.833Z"
   },
   {
    "duration": 517,
    "start_time": "2022-04-03T10:41:25.601Z"
   },
   {
    "duration": 34,
    "start_time": "2022-04-03T10:41:26.120Z"
   },
   {
    "duration": 26,
    "start_time": "2022-04-03T10:41:26.157Z"
   },
   {
    "duration": 125,
    "start_time": "2022-04-03T10:41:26.185Z"
   },
   {
    "duration": 40,
    "start_time": "2022-04-03T10:41:26.312Z"
   },
   {
    "duration": 14,
    "start_time": "2022-04-03T10:41:26.354Z"
   },
   {
    "duration": 33,
    "start_time": "2022-04-03T10:41:26.370Z"
   },
   {
    "duration": 124,
    "start_time": "2022-04-03T10:41:26.405Z"
   },
   {
    "duration": 131,
    "start_time": "2022-04-03T10:41:26.532Z"
   },
   {
    "duration": 21,
    "start_time": "2022-04-03T10:41:26.665Z"
   },
   {
    "duration": 26,
    "start_time": "2022-04-03T10:41:26.688Z"
   },
   {
    "duration": 62,
    "start_time": "2022-04-03T10:41:26.716Z"
   },
   {
    "duration": 5,
    "start_time": "2022-04-03T10:41:26.780Z"
   },
   {
    "duration": 23,
    "start_time": "2022-04-03T10:41:26.787Z"
   },
   {
    "duration": 200,
    "start_time": "2022-04-03T10:41:26.812Z"
   },
   {
    "duration": 20,
    "start_time": "2022-04-03T10:41:27.014Z"
   },
   {
    "duration": 76,
    "start_time": "2022-04-03T10:41:27.043Z"
   },
   {
    "duration": 33,
    "start_time": "2022-04-03T10:41:27.121Z"
   },
   {
    "duration": 24,
    "start_time": "2022-04-03T10:41:27.156Z"
   },
   {
    "duration": 15,
    "start_time": "2022-04-03T10:41:27.182Z"
   },
   {
    "duration": 67,
    "start_time": "2022-04-03T10:41:27.199Z"
   },
   {
    "duration": 28,
    "start_time": "2022-04-03T10:41:27.268Z"
   },
   {
    "duration": 8,
    "start_time": "2022-04-03T10:41:27.299Z"
   },
   {
    "duration": 37,
    "start_time": "2022-04-03T10:41:27.310Z"
   },
   {
    "duration": 41,
    "start_time": "2022-04-03T10:41:27.349Z"
   },
   {
    "duration": 15,
    "start_time": "2022-04-03T10:41:27.392Z"
   },
   {
    "duration": 350,
    "start_time": "2022-04-03T10:41:27.413Z"
   },
   {
    "duration": 12,
    "start_time": "2022-04-03T10:41:27.764Z"
   },
   {
    "duration": 399,
    "start_time": "2022-04-03T10:41:27.778Z"
   },
   {
    "duration": 13,
    "start_time": "2022-04-03T10:41:28.179Z"
   },
   {
    "duration": 314,
    "start_time": "2022-04-03T10:41:28.194Z"
   },
   {
    "duration": 65,
    "start_time": "2022-04-03T10:41:28.511Z"
   },
   {
    "duration": 28,
    "start_time": "2022-04-03T10:41:28.578Z"
   },
   {
    "duration": 115,
    "start_time": "2022-04-03T10:41:28.609Z"
   },
   {
    "duration": 5,
    "start_time": "2022-04-03T10:41:28.726Z"
   },
   {
    "duration": 18,
    "start_time": "2022-04-03T10:41:28.743Z"
   },
   {
    "duration": 7,
    "start_time": "2022-04-03T10:41:28.764Z"
   },
   {
    "duration": 34,
    "start_time": "2022-04-03T10:41:28.774Z"
   },
   {
    "duration": 7,
    "start_time": "2022-04-03T10:41:28.844Z"
   },
   {
    "duration": 18,
    "start_time": "2022-04-03T10:41:28.854Z"
   },
   {
    "duration": 23,
    "start_time": "2022-04-03T10:41:28.874Z"
   },
   {
    "duration": 45,
    "start_time": "2022-04-03T10:41:28.900Z"
   },
   {
    "duration": 12,
    "start_time": "2022-04-03T10:41:28.947Z"
   },
   {
    "duration": 11,
    "start_time": "2022-04-03T10:41:28.961Z"
   },
   {
    "duration": 19,
    "start_time": "2022-04-03T10:41:28.974Z"
   },
   {
    "duration": 6,
    "start_time": "2022-04-03T10:41:28.995Z"
   },
   {
    "duration": 3875,
    "start_time": "2022-04-03T10:41:29.043Z"
   },
   {
    "duration": 24,
    "start_time": "2022-04-03T10:41:32.920Z"
   },
   {
    "duration": 5,
    "start_time": "2022-04-03T10:41:32.946Z"
   },
   {
    "duration": 17,
    "start_time": "2022-04-03T10:41:32.952Z"
   },
   {
    "duration": 34,
    "start_time": "2022-04-03T10:41:32.971Z"
   },
   {
    "duration": 9,
    "start_time": "2022-04-03T10:41:33.007Z"
   },
   {
    "duration": 26,
    "start_time": "2022-04-03T10:41:33.019Z"
   },
   {
    "duration": 112,
    "start_time": "2022-04-03T10:41:33.047Z"
   },
   {
    "duration": 84,
    "start_time": "2022-04-03T10:41:33.161Z"
   },
   {
    "duration": 5,
    "start_time": "2022-04-03T10:41:33.247Z"
   },
   {
    "duration": 19,
    "start_time": "2022-04-03T10:41:33.254Z"
   },
   {
    "duration": 20,
    "start_time": "2022-04-03T10:41:33.275Z"
   },
   {
    "duration": 35,
    "start_time": "2022-04-03T10:41:33.297Z"
   },
   {
    "duration": 24,
    "start_time": "2022-04-03T10:41:33.342Z"
   },
   {
    "duration": 5,
    "start_time": "2022-04-03T10:41:33.368Z"
   },
   {
    "duration": 12,
    "start_time": "2022-04-03T10:41:33.375Z"
   },
   {
    "duration": 9,
    "start_time": "2022-04-03T10:41:33.389Z"
   },
   {
    "duration": 44,
    "start_time": "2022-04-03T10:41:33.400Z"
   },
   {
    "duration": 7,
    "start_time": "2022-04-03T10:41:33.446Z"
   },
   {
    "duration": 8,
    "start_time": "2022-04-03T10:41:33.455Z"
   },
   {
    "duration": 8,
    "start_time": "2022-04-03T10:41:33.465Z"
   },
   {
    "duration": 5,
    "start_time": "2022-04-03T10:41:33.475Z"
   },
   {
    "duration": 8,
    "start_time": "2022-04-03T10:41:33.482Z"
   },
   {
    "duration": 52,
    "start_time": "2022-04-03T10:41:33.492Z"
   },
   {
    "duration": 7,
    "start_time": "2022-04-03T10:41:33.546Z"
   },
   {
    "duration": 7,
    "start_time": "2022-04-03T10:41:33.555Z"
   },
   {
    "duration": 7,
    "start_time": "2022-04-03T10:41:33.564Z"
   },
   {
    "duration": 715,
    "start_time": "2022-04-03T10:41:33.573Z"
   },
   {
    "duration": 779,
    "start_time": "2022-04-03T10:41:34.290Z"
   },
   {
    "duration": 5,
    "start_time": "2022-04-03T10:41:35.072Z"
   },
   {
    "duration": 8,
    "start_time": "2022-04-03T10:41:35.080Z"
   },
   {
    "duration": 7,
    "start_time": "2022-04-03T10:41:35.090Z"
   },
   {
    "duration": 43,
    "start_time": "2022-04-03T10:41:35.099Z"
   },
   {
    "duration": 474,
    "start_time": "2022-04-03T10:41:35.145Z"
   },
   {
    "duration": 634,
    "start_time": "2022-04-03T10:41:35.627Z"
   },
   {
    "duration": 6,
    "start_time": "2022-04-03T10:41:36.263Z"
   },
   {
    "duration": 8,
    "start_time": "2022-04-03T10:41:36.271Z"
   },
   {
    "duration": 5,
    "start_time": "2022-04-03T10:41:36.282Z"
   },
   {
    "duration": 8,
    "start_time": "2022-04-03T10:41:36.289Z"
   },
   {
    "duration": 944,
    "start_time": "2022-04-03T10:41:36.299Z"
   },
   {
    "duration": 755,
    "start_time": "2022-04-03T10:41:37.245Z"
   },
   {
    "duration": 6,
    "start_time": "2022-04-03T10:41:38.003Z"
   },
   {
    "duration": 6,
    "start_time": "2022-04-03T10:41:38.011Z"
   },
   {
    "duration": 26,
    "start_time": "2022-04-03T10:41:38.019Z"
   },
   {
    "duration": 5,
    "start_time": "2022-04-03T10:41:38.048Z"
   },
   {
    "duration": 6,
    "start_time": "2022-04-03T10:41:38.055Z"
   },
   {
    "duration": 6,
    "start_time": "2022-04-03T10:41:38.063Z"
   },
   {
    "duration": 6,
    "start_time": "2022-04-03T10:41:38.071Z"
   },
   {
    "duration": 7,
    "start_time": "2022-04-03T10:41:38.079Z"
   },
   {
    "duration": 55,
    "start_time": "2022-04-03T10:41:38.088Z"
   },
   {
    "duration": 6,
    "start_time": "2022-04-03T10:41:38.145Z"
   },
   {
    "duration": 8,
    "start_time": "2022-04-03T10:41:38.153Z"
   },
   {
    "duration": 12,
    "start_time": "2022-04-03T10:41:38.163Z"
   },
   {
    "duration": 7,
    "start_time": "2022-04-03T10:41:38.177Z"
   },
   {
    "duration": 11,
    "start_time": "2022-04-03T10:41:38.186Z"
   },
   {
    "duration": 11,
    "start_time": "2022-04-03T10:41:38.243Z"
   },
   {
    "duration": 18,
    "start_time": "2022-04-03T10:41:38.256Z"
   },
   {
    "duration": 7,
    "start_time": "2022-04-03T10:41:38.276Z"
   },
   {
    "duration": 14,
    "start_time": "2022-04-03T10:41:38.284Z"
   },
   {
    "duration": 7,
    "start_time": "2022-04-03T10:42:29.812Z"
   },
   {
    "duration": 9,
    "start_time": "2022-04-03T10:42:57.999Z"
   },
   {
    "duration": 18,
    "start_time": "2022-04-03T10:45:01.235Z"
   },
   {
    "duration": 55,
    "start_time": "2022-04-03T11:29:46.959Z"
   },
   {
    "duration": 63,
    "start_time": "2022-04-03T11:29:50.127Z"
   },
   {
    "duration": 4,
    "start_time": "2022-04-03T11:31:02.489Z"
   },
   {
    "duration": 62,
    "start_time": "2022-04-03T11:31:04.057Z"
   },
   {
    "duration": 58,
    "start_time": "2022-04-03T11:31:11.674Z"
   },
   {
    "duration": 209,
    "start_time": "2022-04-03T11:31:28.634Z"
   },
   {
    "duration": 50,
    "start_time": "2022-04-03T11:32:22.323Z"
   },
   {
    "duration": 11,
    "start_time": "2022-04-03T11:34:47.217Z"
   },
   {
    "duration": 231,
    "start_time": "2022-04-03T11:37:01.807Z"
   },
   {
    "duration": 132,
    "start_time": "2022-04-03T11:37:11.501Z"
   },
   {
    "duration": 1609,
    "start_time": "2022-04-03T11:37:53.729Z"
   },
   {
    "duration": 163,
    "start_time": "2022-04-03T11:38:03.969Z"
   },
   {
    "duration": 5,
    "start_time": "2022-04-03T11:38:10.489Z"
   },
   {
    "duration": 243,
    "start_time": "2022-04-03T11:38:26.827Z"
   },
   {
    "duration": 257,
    "start_time": "2022-04-03T11:39:12.516Z"
   },
   {
    "duration": 281,
    "start_time": "2022-04-03T11:39:16.203Z"
   },
   {
    "duration": 272,
    "start_time": "2022-04-03T11:39:27.986Z"
   },
   {
    "duration": 4,
    "start_time": "2022-04-03T11:51:05.654Z"
   },
   {
    "duration": 1769,
    "start_time": "2022-04-03T11:51:34.299Z"
   },
   {
    "duration": 555,
    "start_time": "2022-04-03T11:51:36.071Z"
   },
   {
    "duration": 36,
    "start_time": "2022-04-03T11:51:36.628Z"
   },
   {
    "duration": 27,
    "start_time": "2022-04-03T11:51:36.666Z"
   },
   {
    "duration": 200,
    "start_time": "2022-04-03T11:51:36.697Z"
   },
   {
    "duration": 43,
    "start_time": "2022-04-03T11:51:36.900Z"
   },
   {
    "duration": 17,
    "start_time": "2022-04-03T11:51:36.945Z"
   },
   {
    "duration": 24,
    "start_time": "2022-04-03T11:51:36.964Z"
   },
   {
    "duration": 139,
    "start_time": "2022-04-03T11:51:36.990Z"
   },
   {
    "duration": 132,
    "start_time": "2022-04-03T11:51:37.131Z"
   },
   {
    "duration": 21,
    "start_time": "2022-04-03T11:51:37.265Z"
   },
   {
    "duration": 70,
    "start_time": "2022-04-03T11:51:37.289Z"
   },
   {
    "duration": 12,
    "start_time": "2022-04-03T11:51:37.362Z"
   },
   {
    "duration": 90,
    "start_time": "2022-04-03T11:51:37.381Z"
   },
   {
    "duration": 6,
    "start_time": "2022-04-03T11:51:37.474Z"
   },
   {
    "duration": 39,
    "start_time": "2022-04-03T11:51:37.483Z"
   },
   {
    "duration": 269,
    "start_time": "2022-04-03T11:51:37.525Z"
   },
   {
    "duration": 23,
    "start_time": "2022-04-03T11:51:37.797Z"
   },
   {
    "duration": 122,
    "start_time": "2022-04-03T11:51:37.822Z"
   },
   {
    "duration": 22,
    "start_time": "2022-04-03T11:51:37.947Z"
   },
   {
    "duration": 21,
    "start_time": "2022-04-03T11:51:37.971Z"
   },
   {
    "duration": 16,
    "start_time": "2022-04-03T11:51:37.994Z"
   },
   {
    "duration": 66,
    "start_time": "2022-04-03T11:51:38.012Z"
   },
   {
    "duration": 26,
    "start_time": "2022-04-03T11:51:38.080Z"
   },
   {
    "duration": 22,
    "start_time": "2022-04-03T11:51:38.108Z"
   },
   {
    "duration": 27,
    "start_time": "2022-04-03T11:51:38.131Z"
   },
   {
    "duration": 48,
    "start_time": "2022-04-03T11:51:38.160Z"
   },
   {
    "duration": 35,
    "start_time": "2022-04-03T11:51:38.211Z"
   },
   {
    "duration": 338,
    "start_time": "2022-04-03T11:51:38.248Z"
   },
   {
    "duration": 12,
    "start_time": "2022-04-03T11:51:38.588Z"
   },
   {
    "duration": 419,
    "start_time": "2022-04-03T11:51:38.602Z"
   },
   {
    "duration": 22,
    "start_time": "2022-04-03T11:51:39.023Z"
   },
   {
    "duration": 298,
    "start_time": "2022-04-03T11:51:39.048Z"
   },
   {
    "duration": 52,
    "start_time": "2022-04-03T11:51:39.349Z"
   },
   {
    "duration": 50,
    "start_time": "2022-04-03T11:51:39.404Z"
   },
   {
    "duration": 107,
    "start_time": "2022-04-03T11:51:39.456Z"
   },
   {
    "duration": 4,
    "start_time": "2022-04-03T11:51:39.566Z"
   },
   {
    "duration": 18,
    "start_time": "2022-04-03T11:51:39.572Z"
   },
   {
    "duration": 22,
    "start_time": "2022-04-03T11:51:39.592Z"
   },
   {
    "duration": 59,
    "start_time": "2022-04-03T11:51:39.616Z"
   },
   {
    "duration": 6,
    "start_time": "2022-04-03T11:51:39.683Z"
   },
   {
    "duration": 18,
    "start_time": "2022-04-03T11:51:39.692Z"
   },
   {
    "duration": 48,
    "start_time": "2022-04-03T11:51:39.712Z"
   },
   {
    "duration": 10,
    "start_time": "2022-04-03T11:51:39.762Z"
   },
   {
    "duration": 11,
    "start_time": "2022-04-03T11:51:39.774Z"
   },
   {
    "duration": 11,
    "start_time": "2022-04-03T11:51:39.787Z"
   },
   {
    "duration": 60,
    "start_time": "2022-04-03T11:51:39.800Z"
   },
   {
    "duration": 7,
    "start_time": "2022-04-03T11:51:39.862Z"
   },
   {
    "duration": 5459,
    "start_time": "2022-04-03T11:51:39.871Z"
   },
   {
    "duration": 23,
    "start_time": "2022-04-03T11:51:45.333Z"
   },
   {
    "duration": 25,
    "start_time": "2022-04-03T11:51:45.358Z"
   },
   {
    "duration": 23,
    "start_time": "2022-04-03T11:51:45.385Z"
   },
   {
    "duration": 12,
    "start_time": "2022-04-03T11:51:45.410Z"
   },
   {
    "duration": 13,
    "start_time": "2022-04-03T11:51:45.424Z"
   },
   {
    "duration": 109,
    "start_time": "2022-04-03T11:51:45.442Z"
   },
   {
    "duration": 72,
    "start_time": "2022-04-03T11:51:45.553Z"
   },
   {
    "duration": 5,
    "start_time": "2022-04-03T11:51:45.642Z"
   },
   {
    "duration": 17,
    "start_time": "2022-04-03T11:51:45.650Z"
   },
   {
    "duration": 12,
    "start_time": "2022-04-03T11:51:45.669Z"
   },
   {
    "duration": 21,
    "start_time": "2022-04-03T11:51:45.683Z"
   },
   {
    "duration": 53,
    "start_time": "2022-04-03T11:51:45.706Z"
   },
   {
    "duration": 7,
    "start_time": "2022-04-03T11:51:45.761Z"
   },
   {
    "duration": 26,
    "start_time": "2022-04-03T11:51:45.770Z"
   },
   {
    "duration": 16,
    "start_time": "2022-04-03T11:51:45.798Z"
   },
   {
    "duration": 16,
    "start_time": "2022-04-03T11:51:45.817Z"
   },
   {
    "duration": 22,
    "start_time": "2022-04-03T11:51:45.843Z"
   },
   {
    "duration": 21,
    "start_time": "2022-04-03T11:51:45.867Z"
   },
   {
    "duration": 18,
    "start_time": "2022-04-03T11:51:45.890Z"
   },
   {
    "duration": 22,
    "start_time": "2022-04-03T11:51:45.910Z"
   },
   {
    "duration": 17,
    "start_time": "2022-04-03T11:51:45.935Z"
   },
   {
    "duration": 27,
    "start_time": "2022-04-03T11:51:45.955Z"
   },
   {
    "duration": 16,
    "start_time": "2022-04-03T11:51:45.985Z"
   },
   {
    "duration": 15,
    "start_time": "2022-04-03T11:51:46.003Z"
   },
   {
    "duration": 20,
    "start_time": "2022-04-03T11:51:46.020Z"
   },
   {
    "duration": 639,
    "start_time": "2022-04-03T11:51:46.042Z"
   },
   {
    "duration": 867,
    "start_time": "2022-04-03T11:51:46.683Z"
   },
   {
    "duration": 5,
    "start_time": "2022-04-03T11:51:47.552Z"
   },
   {
    "duration": 9,
    "start_time": "2022-04-03T11:51:47.559Z"
   },
   {
    "duration": 6,
    "start_time": "2022-04-03T11:51:47.570Z"
   },
   {
    "duration": 11,
    "start_time": "2022-04-03T11:51:47.578Z"
   },
   {
    "duration": 500,
    "start_time": "2022-04-03T11:51:47.591Z"
   },
   {
    "duration": 595,
    "start_time": "2022-04-03T11:51:48.093Z"
   },
   {
    "duration": 6,
    "start_time": "2022-04-03T11:51:48.691Z"
   },
   {
    "duration": 9,
    "start_time": "2022-04-03T11:51:48.700Z"
   },
   {
    "duration": 32,
    "start_time": "2022-04-03T11:51:48.711Z"
   },
   {
    "duration": 9,
    "start_time": "2022-04-03T11:51:48.746Z"
   },
   {
    "duration": 964,
    "start_time": "2022-04-03T11:51:48.758Z"
   },
   {
    "duration": 730,
    "start_time": "2022-04-03T11:51:49.725Z"
   },
   {
    "duration": 8,
    "start_time": "2022-04-03T11:51:50.458Z"
   },
   {
    "duration": 9,
    "start_time": "2022-04-03T11:51:50.467Z"
   },
   {
    "duration": 9,
    "start_time": "2022-04-03T11:51:50.478Z"
   },
   {
    "duration": 7,
    "start_time": "2022-04-03T11:51:50.489Z"
   },
   {
    "duration": 45,
    "start_time": "2022-04-03T11:51:50.498Z"
   },
   {
    "duration": 7,
    "start_time": "2022-04-03T11:51:50.545Z"
   },
   {
    "duration": 7,
    "start_time": "2022-04-03T11:51:50.554Z"
   },
   {
    "duration": 9,
    "start_time": "2022-04-03T11:51:50.563Z"
   },
   {
    "duration": 10,
    "start_time": "2022-04-03T11:51:50.574Z"
   },
   {
    "duration": 11,
    "start_time": "2022-04-03T11:51:50.586Z"
   },
   {
    "duration": 6,
    "start_time": "2022-04-03T11:51:50.599Z"
   },
   {
    "duration": 5,
    "start_time": "2022-04-03T11:51:50.642Z"
   },
   {
    "duration": 6,
    "start_time": "2022-04-03T11:51:50.649Z"
   },
   {
    "duration": 4,
    "start_time": "2022-04-03T11:51:50.657Z"
   },
   {
    "duration": 80,
    "start_time": "2022-04-03T11:51:50.663Z"
   },
   {
    "duration": 50,
    "start_time": "2022-04-03T11:51:50.745Z"
   },
   {
    "duration": 12,
    "start_time": "2022-04-03T11:51:50.797Z"
   },
   {
    "duration": 36,
    "start_time": "2022-04-03T11:51:50.811Z"
   },
   {
    "duration": 17,
    "start_time": "2022-04-03T11:51:50.850Z"
   },
   {
    "duration": 6,
    "start_time": "2022-04-03T11:51:50.869Z"
   },
   {
    "duration": 8,
    "start_time": "2022-04-03T11:51:50.878Z"
   },
   {
    "duration": 22,
    "start_time": "2022-04-03T11:51:50.888Z"
   },
   {
    "duration": 110,
    "start_time": "2022-04-03T11:51:50.912Z"
   },
   {
    "duration": 1612,
    "start_time": "2022-04-03T11:51:51.024Z"
   },
   {
    "duration": 355,
    "start_time": "2022-04-03T11:51:52.638Z"
   },
   {
    "duration": 280,
    "start_time": "2022-04-03T11:51:52.995Z"
   },
   {
    "duration": 261,
    "start_time": "2022-04-03T11:51:53.277Z"
   },
   {
    "duration": 62,
    "start_time": "2022-04-03T11:51:53.543Z"
   }
  ],
  "kernelspec": {
   "display_name": "Python 3 (ipykernel)",
   "language": "python",
   "name": "python3"
  },
  "language_info": {
   "codemirror_mode": {
    "name": "ipython",
    "version": 3
   },
   "file_extension": ".py",
   "mimetype": "text/x-python",
   "name": "python",
   "nbconvert_exporter": "python",
   "pygments_lexer": "ipython3",
   "version": "3.9.7"
  },
  "toc": {
   "base_numbering": 1,
   "nav_menu": {
    "height": "229.757px",
    "width": "394.549px"
   },
   "number_sections": true,
   "sideBar": true,
   "skip_h1_title": true,
   "title_cell": "Table of Contents",
   "title_sidebar": "Contents",
   "toc_cell": true,
   "toc_position": {},
   "toc_section_display": true,
   "toc_window_display": true
  }
 },
 "nbformat": 4,
 "nbformat_minor": 4
}
