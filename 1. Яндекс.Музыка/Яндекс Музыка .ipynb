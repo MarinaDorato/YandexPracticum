{
 "cells": [
  {
   "cell_type": "markdown",
   "metadata": {
    "id": "E0vqbgi9ay0H"
   },
   "source": [
    "# Яндекс.Музыка"
   ]
  },
  {
   "cell_type": "markdown",
   "metadata": {
    "id": "VUC88oWjTJw2"
   },
   "source": [
    "**Цель исследования** — проверьте три гипотезы:\n",
    "1. Активность пользователей зависит от дня недели и проявляется по-разному.\n",
    "2. В понедельник утром в Москве преобладают одни жанры, а в Петербурге — другие. Так же и вечером пятницы преобладают разные жанры — в зависимости от города. \n",
    "3. Москва и Петербург предпочитают разные жанры музыки. В Москве чаще слушают поп-музыку, в Петербурге — русский рэп.\n",
    "\n"
   ]
  },
  {
   "cell_type": "markdown",
   "metadata": {
    "id": "Ml1hmfXC_Zcs"
   },
   "source": [
    "<a id = id_1></a>\n",
    "# Обзор данных\n",
    "\n",
    "Составьте первое представление о данных Яндекс.Музыки.\n",
    "\n",
    "\n"
   ]
  },
  {
   "cell_type": "markdown",
   "metadata": {
    "id": "57eAOGIz_Zcs"
   },
   "source": [
    "Основной инструмент аналитика — `pandas`. Импортируйте эту библиотеку."
   ]
  },
  {
   "cell_type": "code",
   "execution_count": 1,
   "metadata": {
    "id": "AXN7PHPN_Zcs"
   },
   "outputs": [],
   "source": [
    "import pandas as pd # импорт библиотеки pandas"
   ]
  },
  {
   "cell_type": "markdown",
   "metadata": {
    "id": "rDoOMd3uTqnZ"
   },
   "source": [
    "Выведите на экран первые десять строк таблицы:"
   ]
  },
  {
   "cell_type": "code",
   "execution_count": null,
   "metadata": {
    "id": "oWTVX3gW_Zct"
   },
   "outputs": [],
   "source": [
    "df.head(10) # получение первых 10 строк таблицы df"
   ]
  },
  {
   "cell_type": "markdown",
   "metadata": {
    "id": "EO73Kwic_Zct"
   },
   "source": [
    "Одной командой получить общую информацию о таблице:"
   ]
  },
  {
   "cell_type": "code",
   "execution_count": null,
   "metadata": {
    "id": "DSf2kIb-_Zct"
   },
   "outputs": [],
   "source": [
    "df.info() # получение общей информации о данных в таблице df"
   ]
  },
  {
   "cell_type": "markdown",
   "metadata": {
    "id": "TaQ2Iwbr_Zct"
   },
   "source": [
    "В названиях колонок видны три нарушения стиля:\n",
    "1. Строчные буквы сочетаются с прописными.\n",
    "2. Встречаются пробелы.\n",
    "3. Найдите ещё одну проблему в названии колонок и опишите её в этом пункте.\n",
    "\n",
    "\n",
    "\n",
    "Количество значений в столбцах различается. Значит, в данных есть пропущенные значения.\n"
   ]
  },
  {
   "cell_type": "markdown",
   "metadata": {
    "id": "MCB6-dXG_Zct"
   },
   "source": [
    "**Выводы**\n",
    "\n",
    "В каждой строке таблицы — данные о прослушанном треке. Часть колонок описывает саму композицию: название, исполнителя и жанр. Остальные данные рассказывают о пользователе: из какого он города, когда он слушал музыку. \n",
    "\n",
    "Предварительно можно утверждать, что, данных достаточно для проверки гипотез. Но встречаются пропуски в данных, а в названиях колонок — расхождения с хорошим стилем.\n",
    "\n",
    "Чтобы двигаться дальше, нужно устранить проблемы в данных."
   ]
  },
  {
   "cell_type": "markdown",
   "metadata": {
    "id": "SjYF6Ub9_Zct"
   },
   "source": [
    "## Предобработка данных"
   ]
  },
  {
   "cell_type": "markdown",
   "metadata": {
    "id": "dIaKXr29_Zct"
   },
   "source": [
    "### Стиль заголовков\n",
    "Выведите на экран названия столбцов:"
   ]
  },
  {
   "cell_type": "code",
   "execution_count": null,
   "metadata": {
    "id": "oKOTdF_Q_Zct"
   },
   "outputs": [],
   "source": [
    "df.columns # перечень названий столбцов таблицы df"
   ]
  },
  {
   "cell_type": "markdown",
   "metadata": {
    "id": "zj5534cv_Zct"
   },
   "source": [
    "Приведите названия в соответствие с хорошим стилем:\n",
    "* несколько слов в названии запишите в «змеином_регистре»,\n",
    "* все символы сделайте строчными,\n",
    "* устраните пробелы.\n",
    "\n",
    "Для этого переименуйте колонки так:\n",
    "* `'  userID'` → `'user_id'`;\n",
    "* `'Track'` → `'track'`;\n",
    "* `'  City  '` → `'city'`;\n",
    "* `'Day'` → `'day'`."
   ]
  },
  {
   "cell_type": "code",
   "execution_count": null,
   "metadata": {
    "id": "ISlFqs5y_Zct"
   },
   "outputs": [],
   "source": [
    "df = df.rename(columns={'  userID': 'user_id', 'Track': 'track', '  City  ': 'city', 'Day': 'day' }) # переименование столбцов"
   ]
  },
  {
   "cell_type": "markdown",
   "metadata": {
    "id": "1dqbh00J_Zct"
   },
   "source": [
    "Проверьте результат. Для этого ещё раз выведите на экран названия столбцов:"
   ]
  },
  {
   "cell_type": "code",
   "execution_count": null,
   "metadata": {
    "id": "d4NOAmTW_Zct"
   },
   "outputs": [],
   "source": [
    "df.columns # проверка результатов - перечень названий столбцов"
   ]
  },
  {
   "cell_type": "markdown",
   "metadata": {
    "id": "5ISfbcfY_Zct"
   },
   "source": [
    "### Пропуски значений\n",
    "Сначала посчитайте, сколько в таблице пропущенных значений. Для этого достаточно двух методов `pandas`:"
   ]
  },
  {
   "cell_type": "code",
   "execution_count": null,
   "metadata": {
    "id": "RskX29qr_Zct"
   },
   "outputs": [],
   "source": [
    "df.isna().sum() # подсчёт пропусков"
   ]
  },
  {
   "cell_type": "markdown",
   "metadata": {
    "id": "qubhgnlO_Zct"
   },
   "source": [
    "Не все пропущенные значения влияют на исследование. Так в `track` и `artist` пропуски не важны для вашей работы. Достаточно заменить их явными обозначениями.\n",
    "\n",
    "Но пропуски в `genre` могут помешать сравнению музыкальных вкусов в Москве и Санкт-Петербурге. На практике было бы правильно установить причину пропусков и восстановить данные. Такой возможности нет в учебном проекте. Придётся:\n",
    "* заполнить и эти пропуски явными обозначениями,\n",
    "* оценить, насколько они повредят расчётам. "
   ]
  },
  {
   "cell_type": "markdown",
   "metadata": {
    "id": "fSv2laPA_Zct"
   },
   "source": [
    "Замените пропущенные значения в столбцах `track`, `artist` и `genre` на строку `'unknown'`. Для этого создайте список `columns_to_replace`, переберите его элементы циклом `for` и для каждого столбца выполните замену пропущенных значений:"
   ]
  },
  {
   "cell_type": "code",
   "execution_count": null,
   "metadata": {
    "id": "KplB5qWs_Zct"
   },
   "outputs": [],
   "source": [
    "\n",
    "columns_to_replace = ['track', 'artist', 'genre']# \n",
    "for column in columns_to_replace:\n",
    "    df[column] = df[column].fillna('unknown')  # перебор названий столбцов в цикле и замена пропущенных значений на 'unknown'"
   ]
  },
  {
   "cell_type": "markdown",
   "metadata": {
    "id": "Ilsm-MZo_Zct"
   },
   "source": [
    "Убедитесь, что в таблице не осталось пропусков. Для этого ещё раз посчитайте пропущенные значения."
   ]
  },
  {
   "cell_type": "code",
   "execution_count": null,
   "metadata": {
    "id": "Tq4nYRX4_Zct"
   },
   "outputs": [],
   "source": [
    "display(df.isna().sum()) # подсчёт пропусков"
   ]
  },
  {
   "cell_type": "markdown",
   "metadata": {
    "id": "BWKRtBJ3_Zct"
   },
   "source": [
    "### Дубликаты\n",
    "Посчитайте явные дубликаты в таблице одной командой:"
   ]
  },
  {
   "cell_type": "code",
   "execution_count": null,
   "metadata": {
    "id": "36eES_S0_Zct"
   },
   "outputs": [],
   "source": [
    "display(df.duplicated().sum()) # подсчёт явных дубликатов"
   ]
  },
  {
   "cell_type": "markdown",
   "metadata": {
    "id": "Ot25h6XR_Zct"
   },
   "source": [
    "Вызовите специальный метод `pandas`, чтобы удалить явные дубликаты:"
   ]
  },
  {
   "cell_type": "code",
   "execution_count": null,
   "metadata": {
    "id": "exFHq6tt_Zct"
   },
   "outputs": [],
   "source": [
    "df = df.drop_duplicates().reset_index(drop=True) # удаление явных дубликатов (с удалением старых индексов и формированием новых)"
   ]
  },
  {
   "cell_type": "markdown",
   "metadata": {
    "id": "Im2YwBEG_Zct"
   },
   "source": [
    "Ещё раз посчитайте явные дубликаты в таблице — убедитесь, что полностью от них избавились:"
   ]
  },
  {
   "cell_type": "code",
   "execution_count": null,
   "metadata": {
    "id": "-8PuNWQ0_Zct"
   },
   "outputs": [],
   "source": [
    "display(df.duplicated().sum()) # проверка на отсутствие дубликатов"
   ]
  },
  {
   "cell_type": "markdown",
   "metadata": {
    "id": "QlFBsxAr_Zct"
   },
   "source": [
    "Теперь избавьтесь от неявных дубликатов в колонке `genre`. Например, название одного и того же жанра может быть записано немного по-разному. Такие ошибки тоже повлияют на результат исследования."
   ]
  },
  {
   "cell_type": "markdown",
   "metadata": {
    "id": "eSjWwsOh_Zct"
   },
   "source": [
    "Выведите на экран список уникальных названий жанров, отсортированный в алфавитном порядке. Для этого:\n",
    "* извлеките нужный столбец датафрейма, \n",
    "* примените к нему метод сортировки,\n",
    "* для отсортированного столбца вызовите метод, который вернёт уникальные значения из столбца."
   ]
  },
  {
   "cell_type": "code",
   "execution_count": null,
   "metadata": {
    "id": "JIUcqzZN_Zct"
   },
   "outputs": [],
   "source": [
    "print(df['genre'].sort_values(ascending=False).unique()) # Просмотр уникальных названий жанров"
   ]
  },
  {
   "cell_type": "markdown",
   "metadata": {
    "id": "qej-Qmuo_Zct"
   },
   "source": [
    "Просмотрите список и найдите неявные дубликаты названия `hiphop`. Это могут быть названия с ошибками или альтернативные названия того же жанра.\n",
    "\n",
    "Вы увидите следующие неявные дубликаты:\n",
    "* *hip*,\n",
    "* *hop*,\n",
    "* *hip-hop*.\n",
    "\n",
    "Чтобы очистить от них таблицу, напишите функцию `replace_wrong_genres()` с двумя параметрами: \n",
    "* `wrong_genres` — список дубликатов,\n",
    "* `correct_genre` — строка с правильным значением.\n",
    "\n",
    "Функция должна исправить колонку `genre` в таблице `df`: заменить каждое значение из списка `wrong_genres` на значение из `correct_genre`."
   ]
  },
  {
   "cell_type": "code",
   "execution_count": null,
   "metadata": {
    "id": "ErNDkmns_Zct"
   },
   "outputs": [],
   "source": [
    "# Функция для замены неявных дубликатов\n",
    "def replace_wrong_genres(wrong_genres, correct_genre):    # на вход функции подаются список неправильных значений и строка с правильным значением\n",
    "    for wrong_genre in wrong_genres: # перебираем неправильные имена\n",
    "        df['genre'] = df['genre'].replace(wrong_genres, correct_genre) # и для каждого неправильного имени вызываем метод replace()"
   ]
  },
  {
   "cell_type": "markdown",
   "metadata": {
    "id": "aDoBJxbA_Zct"
   },
   "source": [
    "Вызовите `replace_wrong_genres()` и передайте ей такие аргументы, чтобы она устранила неявные дубликаты: вместо `hip`, `hop` и `hip-hop` в таблице должно быть значение `hiphop`:"
   ]
  },
  {
   "cell_type": "code",
   "execution_count": null,
   "metadata": {
    "id": "YN5i2hpmSo09"
   },
   "outputs": [],
   "source": [
    "replace_wrong_genres(['hip', 'hop', 'hip-hop'], 'hiphop')"
   ]
  },
  {
   "cell_type": "markdown",
   "metadata": {},
   "source": [
    "Проверьте, что заменили неправильные названия:\n",
    "\n",
    "*   hip\n",
    "*   hop\n",
    "*   hip-hop\n",
    "\n",
    "Выведите отсортированный список уникальных значений столбца `genre`:"
   ]
  },
  {
   "cell_type": "code",
   "execution_count": null,
   "metadata": {
    "id": "wvixALnFG15m"
   },
   "outputs": [],
   "source": [
    "print(df['genre'].sort_values().unique())\n",
    "# Проверка на неявные дубликаты"
   ]
  },
  {
   "cell_type": "markdown",
   "metadata": {
    "id": "jz6a9-7HQUDd"
   },
   "source": [
    "**Выводы**\n",
    "\n",
    "Предобработка обнаружила три проблемы в данных:\n",
    "\n",
    "- нарушения в стиле заголовков,\n",
    "- пропущенные значения,\n",
    "- дубликаты — явные и неявные.\n",
    "\n",
    "Вы исправили заголовки, чтобы упростить работу с таблицей. Без дубликатов исследование станет более точным.\n",
    "\n",
    "Пропущенные значения вы заменили на `'unknown'`. Ещё предстоит увидеть, не повредят ли исследованию пропуски в колонке `genre`.\n",
    "\n",
    "Теперь можно перейти к проверке гипотез. "
   ]
  },
  {
   "cell_type": "markdown",
   "metadata": {
    "id": "WttZHXH0SqKk"
   },
   "source": [
    "## Проверка гипотез"
   ]
  },
  {
   "cell_type": "markdown",
   "metadata": {
    "id": "Im936VVi_Zcu"
   },
   "source": [
    "### Сравнение поведения пользователей двух столиц"
   ]
  },
  {
   "cell_type": "markdown",
   "metadata": {
    "id": "nwt_MuaL_Zcu"
   },
   "source": [
    "Первая гипотеза утверждает, что пользователи по-разному слушают музыку в Москве и Санкт-Петербурге. Проверьте это предположение по данным о трёх днях недели — понедельнике, среде и пятнице. Для этого:\n",
    "\n",
    "* Разделите пользователей Москвы и Санкт-Петербурга\n",
    "* Сравните, сколько треков послушала каждая группа пользователей в понедельник, среду и пятницу.\n"
   ]
  },
  {
   "cell_type": "markdown",
   "metadata": {
    "id": "8Dw_YMmT_Zcu"
   },
   "source": [
    "Для тренировки сначала выполните каждый из расчётов по отдельности. \n",
    "\n",
    "Оцените активность пользователей в каждом городе. Сгруппируйте данные по городу и посчитайте прослушивания в каждой группе.\n",
    "\n"
   ]
  },
  {
   "cell_type": "code",
   "execution_count": null,
   "metadata": {
    "id": "0_Qs96oh_Zcu"
   },
   "outputs": [],
   "source": [
    "df.groupby('city')['user_id'].count() # Подсчёт прослушиваний в каждом городе"
   ]
  },
  {
   "cell_type": "markdown",
   "metadata": {
    "id": "dzli3w8o_Zcu"
   },
   "source": [
    "В Москве прослушиваний больше, чем в Петербурге. Из этого не следует, что московские пользователи чаще слушают музыку. Просто самих пользователей в Москве больше.\n",
    "\n",
    "Теперь сгруппируйте данные по дню недели и подсчитайте прослушивания в понедельник, среду и пятницу. Учтите, что в данных есть информация только о прослушиваниях только за эти дни.\n"
   ]
  },
  {
   "cell_type": "code",
   "execution_count": null,
   "metadata": {
    "id": "uZMKjiJz_Zcu"
   },
   "outputs": [],
   "source": [
    "df.groupby('day')['city'].count()\n",
    "\n",
    "#  Подсчёт прослушиваний в каждый из трёх дней"
   ]
  },
  {
   "cell_type": "markdown",
   "metadata": {
    "id": "cC2tNrlL_Zcu"
   },
   "source": [
    "В среднем пользователи из двух городов менее активны по средам. Но картина может измениться, если рассмотреть каждый город в отдельности."
   ]
  },
  {
   "cell_type": "markdown",
   "metadata": {
    "id": "POzs8bGa_Zcu"
   },
   "source": [
    "Вы видели, как работает группировка по городу и по дням недели. Теперь напишите функцию, которая объединит два эти расчёта.\n",
    "\n",
    "Создайте функцию `number_tracks()`, которая посчитает прослушивания для заданного дня и города. Ей понадобятся два параметра:\n",
    "* день недели,\n",
    "* название города.\n",
    "\n",
    "В функции сохраните в переменную строки исходной таблицы, у которых значение:\n",
    "  * в колонке `day` равно параметру `day`,\n",
    "  * в колонке `city` равно параметру `city`.\n",
    "\n",
    "Для этого примените последовательную фильтрацию с логической индексацией.\n",
    "\n",
    "Затем посчитайте значения в столбце `user_id` получившейся таблицы. Результат сохраните в новую переменную. Верните эту переменную из функции."
   ]
  },
  {
   "cell_type": "code",
   "execution_count": null,
   "metadata": {
    "id": "Nz3GdQB1_Zcu"
   },
   "outputs": [],
   "source": [
    "def number_tracks(day, city): # <создание функции number_tracks()>\n",
    "# Объявляется функция с двумя параметрами: day, city.\n",
    "    track_list = df[(df['day']==day) & (df['city']==city)]# В переменной track_list сохраняются те строки таблицы df, для которых \n",
    "# значение в столбце 'day' равно параметру day и одновременно значение\n",
    "# в столбце 'city' равно параметру city (используйте последовательную фильтрацию\n",
    "# с помощью логической индексации).\n",
    "    track_list_count = track_list['user_id'].count()# В переменной track_list_count сохраняется число значений столбца 'user_id',\n",
    "# рассчитанное методом count() для таблицы track_list.\n",
    "# Функция возвращает число - значение track_list_count.\n",
    "    return track_list_count\n",
    "# Функция для подсчёта прослушиваний для конкретного города и дня.\n",
    "# С помощью последовательной фильтрации с логической индексацией она \n",
    "# сначала получит из исходной таблицы строки с нужным днём,\n",
    "# затем из результата отфильтрует строки с нужным городом,\n",
    "# методом count() посчитает количество значений в колонке user_id. \n",
    "# Это количество функция вернёт в качестве результата"
   ]
  },
  {
   "cell_type": "markdown",
   "metadata": {
    "id": "ytf7xFrFJQ2r"
   },
   "source": [
    "Вызовите `number_tracks()` шесть раз, меняя значение параметров — так, чтобы получить данные для каждого города в каждый из трёх дней."
   ]
  },
  {
   "cell_type": "code",
   "execution_count": null,
   "metadata": {
    "id": "rJcRATNQ_Zcu"
   },
   "outputs": [],
   "source": [
    "number_tracks('Monday', 'Moscow') # количество прослушиваний в Москве по понедельникам"
   ]
  },
  {
   "cell_type": "code",
   "execution_count": null,
   "metadata": {
    "id": "hq_ncZ5T_Zcu"
   },
   "outputs": [],
   "source": [
    "number_tracks('Monday', 'Saint-Petersburg') # количество прослушиваний в Санкт-Петербурге по понедельникам"
   ]
  },
  {
   "cell_type": "code",
   "execution_count": null,
   "metadata": {
    "id": "_NTy2VPU_Zcu"
   },
   "outputs": [],
   "source": [
    "number_tracks('Wednesday', 'Moscow') # количество прослушиваний в Москве по средам"
   ]
  },
  {
   "cell_type": "code",
   "execution_count": null,
   "metadata": {
    "id": "j2y3TAwo_Zcu"
   },
   "outputs": [],
   "source": [
    "number_tracks('Wednesday', 'Saint-Petersburg') # количество прослушиваний в Санкт-Петербурге по средам"
   ]
  },
  {
   "cell_type": "code",
   "execution_count": null,
   "metadata": {
    "id": "vYDw5u_K_Zcu"
   },
   "outputs": [],
   "source": [
    "number_tracks('Friday', 'Moscow')# количество прослушиваний в Москве по пятницам"
   ]
  },
  {
   "cell_type": "code",
   "execution_count": null,
   "metadata": {
    "id": "8_yzFtW3_Zcu"
   },
   "outputs": [],
   "source": [
    "number_tracks('Friday', 'Saint-Petersburg')# количество прослушиваний в Санкт-Петербурге по пятницам"
   ]
  },
  {
   "cell_type": "markdown",
   "metadata": {
    "id": "7QXffbO-_Zcu"
   },
   "source": [
    "Создайте c помощью конструктора `pd.DataFrame` таблицу, где\n",
    "* названия колонок — `['city', 'monday', 'wednesday', 'friday']`;\n",
    "* данные — результаты, которые вы получили с помощью `number_tracks`."
   ]
  },
  {
   "cell_type": "code",
   "execution_count": null,
   "metadata": {
    "id": "APAcLpOr_Zcu"
   },
   "outputs": [],
   "source": [
    "# Таблица с результатами\n",
    "data = [['Moscow', 15740, 11056, 15945], ['Saint-Petersburg', 5614, 7003, 5895]]\n",
    "\n",
    "# подготавливаем данные и названия столбцов\n",
    "columns = ['city', 'monday', 'wednesday', 'friday']\n",
    "# создаём таблицу\n",
    "\n",
    "table = pd.DataFrame(data=data, columns=columns) # создаём таблицу и сохраняем её в переменную table\n",
    "display(table)\n"
   ]
  },
  {
   "cell_type": "markdown",
   "metadata": {
    "id": "-EgPIHYu_Zcu"
   },
   "source": [
    "**Выводы**\n",
    "\n",
    "Данные показывают разницу поведения пользователей:\n",
    "\n",
    "- В Москве пик прослушиваний приходится на понедельник и пятницу, а в среду заметен спад.\n",
    "- В Петербурге, наоборот, больше слушают музыку по средам. Активность в понедельник и пятницу здесь почти в равной мере уступает среде.\n",
    "\n",
    "Значит, данные говорят в пользу первой гипотезы."
   ]
  },
  {
   "cell_type": "markdown",
   "metadata": {
    "id": "atZAxtq4_Zcu"
   },
   "source": [
    "### Музыка в начале и в конце недели"
   ]
  },
  {
   "cell_type": "markdown",
   "metadata": {
    "id": "eXrQqXFH_Zcu"
   },
   "source": [
    "Согласно второй гипотезе, утром в понедельник в Москве преобладают одни жанры, а в Петербурге — другие. Так же и вечером пятницы преобладают разные жанры — в зависимости от города."
   ]
  },
  {
   "cell_type": "markdown",
   "metadata": {
    "id": "S8UcW6Hw_Zcu"
   },
   "source": [
    "Сохраните таблицы с данными в две переменные:\n",
    "* по Москве — в `moscow_general`;\n",
    "* по Санкт-Петербургу — в `spb_general`."
   ]
  },
  {
   "cell_type": "code",
   "execution_count": null,
   "metadata": {
    "id": "qeaFfM_P_Zcu"
   },
   "outputs": [],
   "source": [
    "# получение таблицы moscow_general из тех строк таблицы df, \n",
    "# для которых значение в столбце 'city' равно 'Moscow'\n",
    "moscow_general = df[df['city'] == 'Moscow']\n"
   ]
  },
  {
   "cell_type": "code",
   "execution_count": null,
   "metadata": {
    "id": "ORaVRKto_Zcu"
   },
   "outputs": [],
   "source": [
    "# получение таблицы spb_general из тех строк таблицы df,\n",
    "# для которых значение в столбце 'city' равно 'Saint-Petersburg'\n",
    "spb_general=df[df['city']=='Saint-Petersburg']\n"
   ]
  },
  {
   "cell_type": "markdown",
   "metadata": {
    "id": "MEJV-CX2_Zcu"
   },
   "source": [
    "Создайте функцию `genre_weekday()` с четырьмя параметрами:\n",
    "* таблица (датафрейм) с данными,\n",
    "* день недели,\n",
    "* начальная временная метка в формате 'hh:mm', \n",
    "* последняя временная метка в формате 'hh:mm'.\n",
    "\n",
    "Функция должна вернуть информацию о топ-10 жанров тех треков, которые прослушивали в указанный день, в промежутке между двумя отметками времени."
   ]
  },
  {
   "cell_type": "code",
   "execution_count": null,
   "metadata": {
    "id": "laJT9BYl_Zcu"
   },
   "outputs": [],
   "source": [
    "# Объявление функции genre_weekday() с параметрами table, day, time1, time2,\n",
    "def genre_weekday(table, day, time1, time2):\n",
    "# которая возвращает информацию о самых популярных жанрах в указанный день в\n",
    "# заданное время:\n",
    "# 1) в переменную genre_df сохраняются те строки переданного датафрейма table, для\n",
    "#    которых одновременно:\n",
    "#    - значение в столбце day равно значению аргумента day\n",
    "#    - значение в столбце time больше значения аргумента time1\n",
    "#    - значение в столбце time меньше значения аргумента time2\n",
    "\n",
    "    genre_df = table[(table['day']==day) & (df['time']>time1) & (df['time']<=time2)]\n",
    "#    Используйте последовательную фильтрацию с помощью логической индексации.\n",
    "# 2) сгруппировать датафрейм genre_df по столбцу genre, взять один из его\n",
    "#    столбцов и посчитать методом count() количество записей для каждого из\n",
    "#    присутствующих жанров, получившийся Series записать в переменную\n",
    "#    genre_df_count\n",
    "    genre_df_count = genre_df.groupby('genre')['genre'].count()\n",
    "   \n",
    " # 3) отсортировать genre_df_coun по убыванию встречаемости и сохранить\n",
    "#    в переменную genre_df_sorted\n",
    "    genre_df_sorted = genre_df_count.sort_values(ascending = False)\n",
    "# 4) вернуть Series из 10 первых значений genre_df_sorted, это будут топ-10\n",
    "#    популярных жанров (в указанный день, в заданное время)\n",
    "    return genre_df_sorted.head(10)\n"
   ]
  },
  {
   "cell_type": "markdown",
   "metadata": {
    "id": "la2s2_PF_Zcu"
   },
   "source": [
    "Cравните результаты функции `genre_weekday()` для Москвы и Санкт-Петербурга в понедельник утром (с 7:00 до 11:00) и в пятницу вечером (с 17:00 до 23:00):"
   ]
  },
  {
   "cell_type": "code",
   "execution_count": null,
   "metadata": {
    "id": "yz7itPUQ_Zcu"
   },
   "outputs": [],
   "source": [
    "# вызов функции для утра понедельника в Москве (вместо df — таблица moscow_general)\n",
    "# объекты, хранящие время, являются строками и сравниваются как строки\n",
    "# пример вызова: genre_weekday(moscow_general, 'Monday', '07:00', '11:00')\n",
    "\n",
    "genre_weekday(moscow_general, 'Monday', '07:00', '11:00')"
   ]
  },
  {
   "cell_type": "code",
   "execution_count": null,
   "metadata": {
    "id": "kwUcHPdy_Zcu"
   },
   "outputs": [],
   "source": [
    "# вызов функции для утра понедельника в Петербурге (вместо df — таблица spb_general)\n",
    "genre_weekday(spb_general, 'Monday', '07:00', '11:00')"
   ]
  },
  {
   "cell_type": "code",
   "execution_count": null,
   "metadata": {
    "id": "EzXVRE1o_Zcu"
   },
   "outputs": [],
   "source": [
    "# вызов функции для вечера пятницы в Москве\n",
    "genre_weekday(moscow_general,'Friday', '17:00', '23:00')"
   ]
  },
  {
   "cell_type": "code",
   "execution_count": null,
   "metadata": {
    "id": "JZaEKu5v_Zcu"
   },
   "outputs": [],
   "source": [
    "# вызов функции для вечера пятницы в Петербурге\n",
    "genre_weekday(spb_general, 'Friday', '17:00', '23:00')"
   ]
  },
  {
   "cell_type": "markdown",
   "metadata": {
    "id": "wrCe4MNX_Zcu"
   },
   "source": [
    "**Выводы**\n",
    "\n",
    "Если сравнить топ-10 жанров в понедельник утром, можно сделать такие выводы:\n",
    "\n",
    "1. В Москве и Петербурге слушают похожую музыку. Единственное отличие — в московский рейтинг вошёл жанр “world”, а в петербургский — джаз и классика.\n",
    "\n",
    "2. В Москве пропущенных значений оказалось так много, что значение `'unknown'` заняло десятое место среди самых популярных жанров. Значит, пропущенные значения занимают существенную долю в данных и угрожают достоверности исследования.\n",
    "\n",
    "Вечер пятницы не меняет эту картину. Некоторые жанры поднимаются немного выше, другие спускаются, но в целом топ-10 остаётся тем же самым.\n",
    "\n",
    "Таким образом, вторая гипотеза подтвердилась лишь частично:\n",
    "* Пользователи слушают похожую музыку в начале недели и в конце.\n",
    "* Разница между Москвой и Петербургом не слишком выражена. В Москве чаще слушают русскую популярную музыку, в Петербурге — джаз.\n",
    "\n",
    "Однако пропуски в данных ставят под сомнение этот результат. В Москве их так много, что рейтинг топ-10 мог бы выглядеть иначе, если бы не утерянные  данные о жанрах."
   ]
  },
  {
   "cell_type": "markdown",
   "metadata": {
    "id": "JolODAqr_Zcu"
   },
   "source": [
    "### Жанровые предпочтения в Москве и Петербурге\n",
    "\n",
    "Гипотеза: Петербург — столица рэпа, музыку этого жанра там слушают чаще, чем в Москве.  А Москва — город контрастов, в котором, тем не менее, преобладает поп-музыка."
   ]
  },
  {
   "cell_type": "markdown",
   "metadata": {
    "id": "DlegSvaT_Zcu"
   },
   "source": [
    "Сгруппируйте таблицу `moscow_general` по жанру и посчитайте прослушивания треков каждого жанра методом `count()`. Затем отсортируйте результат в порядке убывания и сохраните его в таблице `moscow_genres`."
   ]
  },
  {
   "cell_type": "code",
   "execution_count": null,
   "metadata": {
    "id": "r19lIPke_Zcu"
   },
   "outputs": [],
   "source": [
    "# одной строкой: группировка таблицы moscow_general по столбцу 'genre', \n",
    "# подсчёт числа значений 'genre' в этой группировке методом count(), \n",
    "# сортировка получившегося Series в порядке убывания и сохранение в moscow_genres\n",
    "moscow_genres=moscow_general.groupby('genre')['genre'].count().sort_values(ascending = False)"
   ]
  },
  {
   "cell_type": "markdown",
   "metadata": {
    "id": "6kMuomxTiIr8"
   },
   "source": [
    "Выведите на экран первые десять строк `moscow_genres`:"
   ]
  },
  {
   "cell_type": "code",
   "execution_count": null,
   "metadata": {
    "id": "WhCSooF8_Zcv"
   },
   "outputs": [],
   "source": [
    "moscow_genres.head(10)# просмотр первых 10 строк moscow_genres"
   ]
  },
  {
   "cell_type": "markdown",
   "metadata": {
    "id": "cnPG2vnN_Zcv"
   },
   "source": [
    "Теперь повторите то же и для Петербурга.\n",
    "\n",
    "Сгруппируйте таблицу `spb_general` по жанру. Посчитайте прослушивания треков каждого жанра. Результат отсортируйте в порядке убывания и сохраните в таблице `spb_genres`:\n"
   ]
  },
  {
   "cell_type": "code",
   "execution_count": null,
   "metadata": {
    "id": "gluLIpE7_Zcv"
   },
   "outputs": [],
   "source": [
    "# одной строкой: группировка таблицы spb_general по столбцу 'genre', \n",
    "# подсчёт числа значений 'genre' в этой группировке методом count(), \n",
    "# сортировка получившегося Series в порядке убывания и сохранение в spb_genres\n",
    "spb_genres=spb_general.groupby('genre')['genre'].count().sort_values(ascending = False)\n"
   ]
  },
  {
   "cell_type": "markdown",
   "metadata": {
    "id": "5Doha_ODgyQ8"
   },
   "source": [
    "Выведите на экран первые десять строк `spb_genres`:"
   ]
  },
  {
   "cell_type": "code",
   "execution_count": null,
   "metadata": {
    "id": "uaGJHjVU_Zcv"
   },
   "outputs": [],
   "source": [
    "# просмотр первых 10 строк spb_genres\n",
    "spb_genres.head(10)"
   ]
  },
  {
   "cell_type": "markdown",
   "metadata": {
    "id": "RY51YJYu_Zcv"
   },
   "source": [
    "**Выводы**"
   ]
  },
  {
   "cell_type": "markdown",
   "metadata": {
    "id": "nVhnJEm__Zcv"
   },
   "source": [
    "Гипотеза частично подтвердилась:\n",
    "* Поп-музыка — самый популярный жанр в Москве, как и предполагала гипотеза. Более того, в топ-10 жанров встречается близкий жанр — русская популярная музыка.\n",
    "* Вопреки ожиданиям, рэп одинаково популярен в Москве и Петербурге. \n"
   ]
  },
  {
   "cell_type": "markdown",
   "metadata": {
    "id": "ykKQ0N65_Zcv"
   },
   "source": [
    "## Итоги исследования"
   ]
  },
  {
   "cell_type": "markdown",
   "metadata": {
    "id": "tjUwbHb3_Zcv"
   },
   "source": [
    "Вы проверили три гипотезы и установили:\n",
    "\n",
    "1. День недели по-разному влияет на активность пользователей в Москве и Петербурге. \n",
    "\n",
    "Первая гипотеза полностью подтвердилась.\n",
    "\n",
    "2. Музыкальные предпочтения не сильно меняются в течение недели — будь то Москва или Петербург. Небольшие различия заметны в начале недели, по понедельникам:\n",
    "* в Москве слушают музыку жанра “world”,\n",
    "* в Петербурге — джаз и классику.\n",
    "\n",
    "Таким образом, вторая гипотеза подтвердилась лишь отчасти. Этот результат мог оказаться иным, если бы не пропуски в данных.\n",
    "\n",
    "3. Во вкусах пользователей Москвы и Петербурга больше общего чем различий. Вопреки ожиданиям, предпочтения жанров в Петербурге напоминают московские.\n",
    "\n",
    "Третья гипотеза не подтвердилась. Если различия в предпочтениях и существуют, на основной массе пользователей они незаметны.\n",
    "\n",
    "**На практике исследования содержат проверки статистических гипотез.**\n",
    "Из данных одного сервиса не всегда можно сделать вывод о всех жителях города.\n",
    "Проверки статистических гипотез покажут, насколько они достоверны, исходя из имеющихся данных. \n",
    "С методами проверок гипотез вы ещё познакомитесь в следующих темах."
   ]
  }
 ],
 "metadata": {
  "ExecuteTimeLog": [
   {
    "duration": 706,
    "start_time": "2021-11-27T09:38:36.902Z"
   },
   {
    "duration": 525,
    "start_time": "2021-11-27T09:45:50.143Z"
   },
   {
    "duration": 4,
    "start_time": "2021-11-27T09:46:04.000Z"
   },
   {
    "duration": 178,
    "start_time": "2021-11-27T09:46:08.784Z"
   },
   {
    "duration": 27,
    "start_time": "2021-11-27T09:46:13.888Z"
   },
   {
    "duration": 33,
    "start_time": "2021-11-27T09:46:22.765Z"
   },
   {
    "duration": 6,
    "start_time": "2021-11-27T09:55:34.793Z"
   },
   {
    "duration": 25,
    "start_time": "2021-11-27T10:10:00.758Z"
   },
   {
    "duration": 6,
    "start_time": "2021-11-27T10:10:21.637Z"
   },
   {
    "duration": 34,
    "start_time": "2021-11-27T10:14:04.674Z"
   },
   {
    "duration": 130,
    "start_time": "2021-11-27T10:23:47.623Z"
   },
   {
    "duration": 24,
    "start_time": "2021-11-27T10:25:02.524Z"
   },
   {
    "duration": 35,
    "start_time": "2021-11-27T10:28:26.582Z"
   },
   {
    "duration": 77,
    "start_time": "2021-11-27T10:29:22.331Z"
   },
   {
    "duration": 91,
    "start_time": "2021-11-27T10:30:51.729Z"
   },
   {
    "duration": 91,
    "start_time": "2021-11-27T10:30:55.168Z"
   },
   {
    "duration": 76,
    "start_time": "2021-11-27T10:31:12.769Z"
   },
   {
    "duration": 8,
    "start_time": "2021-11-27T10:32:22.866Z"
   },
   {
    "duration": 4,
    "start_time": "2021-11-27T10:37:27.561Z"
   },
   {
    "duration": 4,
    "start_time": "2021-11-27T10:37:30.272Z"
   },
   {
    "duration": 22,
    "start_time": "2021-11-27T10:39:17.564Z"
   },
   {
    "duration": 18,
    "start_time": "2021-11-27T10:39:59.427Z"
   },
   {
    "duration": 8,
    "start_time": "2021-11-27T10:40:58.581Z"
   },
   {
    "duration": 379,
    "start_time": "2021-11-27T10:45:21.783Z"
   },
   {
    "duration": 404,
    "start_time": "2021-11-27T10:45:49.130Z"
   },
   {
    "duration": 434,
    "start_time": "2021-11-27T10:46:24.262Z"
   },
   {
    "duration": 365,
    "start_time": "2021-11-27T10:48:47.280Z"
   },
   {
    "duration": 9,
    "start_time": "2021-11-27T10:49:58.165Z"
   },
   {
    "duration": 10,
    "start_time": "2021-11-27T10:53:43.744Z"
   },
   {
    "duration": 13,
    "start_time": "2021-11-27T10:54:49.366Z"
   },
   {
    "duration": 48,
    "start_time": "2021-11-27T10:57:50.259Z"
   },
   {
    "duration": 29,
    "start_time": "2021-11-27T10:59:09.662Z"
   },
   {
    "duration": 9,
    "start_time": "2021-11-27T11:00:00.066Z"
   },
   {
    "duration": 9,
    "start_time": "2021-11-27T11:01:48.883Z"
   },
   {
    "duration": 124,
    "start_time": "2021-11-27T11:04:54.964Z"
   },
   {
    "duration": -1701,
    "start_time": "2021-11-27T11:06:13.140Z"
   },
   {
    "duration": 9305,
    "start_time": "2021-11-27T11:06:12.752Z"
   },
   {
    "duration": 30,
    "start_time": "2021-11-27T11:07:28.521Z"
   },
   {
    "duration": 46,
    "start_time": "2021-11-27T11:08:07.455Z"
   },
   {
    "duration": 14,
    "start_time": "2021-11-27T11:10:35.122Z"
   },
   {
    "duration": 349,
    "start_time": "2021-11-27T11:18:11.675Z"
   },
   {
    "duration": 120,
    "start_time": "2021-11-27T11:18:20.104Z"
   },
   {
    "duration": 5,
    "start_time": "2021-11-27T11:18:33.422Z"
   },
   {
    "duration": 20,
    "start_time": "2021-11-27T11:18:39.186Z"
   },
   {
    "duration": 18,
    "start_time": "2021-11-27T11:19:07.363Z"
   },
   {
    "duration": 19,
    "start_time": "2021-11-27T11:20:46.264Z"
   },
   {
    "duration": 19,
    "start_time": "2021-11-27T11:20:52.893Z"
   },
   {
    "duration": 23,
    "start_time": "2021-11-27T11:20:56.030Z"
   },
   {
    "duration": 18,
    "start_time": "2021-11-27T11:20:59.689Z"
   },
   {
    "duration": 30,
    "start_time": "2021-11-27T11:21:04.696Z"
   },
   {
    "duration": 380,
    "start_time": "2021-11-27T11:25:45.695Z"
   },
   {
    "duration": 360,
    "start_time": "2021-11-27T11:30:09.346Z"
   },
   {
    "duration": 14,
    "start_time": "2021-11-27T11:32:26.633Z"
   },
   {
    "duration": 843,
    "start_time": "2021-11-28T06:31:02.071Z"
   },
   {
    "duration": 232,
    "start_time": "2021-11-28T06:31:02.917Z"
   },
   {
    "duration": 26,
    "start_time": "2021-11-28T06:31:03.154Z"
   },
   {
    "duration": 58,
    "start_time": "2021-11-28T06:31:03.183Z"
   },
   {
    "duration": 6,
    "start_time": "2021-11-28T06:31:03.249Z"
   },
   {
    "duration": 30,
    "start_time": "2021-11-28T06:31:03.259Z"
   },
   {
    "duration": 7,
    "start_time": "2021-11-28T06:31:03.292Z"
   },
   {
    "duration": 72,
    "start_time": "2021-11-28T06:31:03.301Z"
   },
   {
    "duration": 24,
    "start_time": "2021-11-28T06:31:03.377Z"
   },
   {
    "duration": 43,
    "start_time": "2021-11-28T06:31:03.428Z"
   },
   {
    "duration": 111,
    "start_time": "2021-11-28T06:31:03.473Z"
   },
   {
    "duration": 124,
    "start_time": "2021-11-28T06:31:03.586Z"
   },
   {
    "duration": 95,
    "start_time": "2021-11-28T06:31:03.713Z"
   },
   {
    "duration": 19,
    "start_time": "2021-11-28T06:31:03.811Z"
   },
   {
    "duration": 9,
    "start_time": "2021-11-28T06:31:03.834Z"
   },
   {
    "duration": 30,
    "start_time": "2021-11-28T06:31:03.846Z"
   },
   {
    "duration": 14,
    "start_time": "2021-11-28T06:31:03.878Z"
   },
   {
    "duration": 95,
    "start_time": "2021-11-28T06:31:03.894Z"
   },
   {
    "duration": 13,
    "start_time": "2021-11-28T06:31:03.991Z"
   },
   {
    "duration": 5,
    "start_time": "2021-11-28T06:31:04.006Z"
   },
   {
    "duration": 47,
    "start_time": "2021-11-28T06:31:04.014Z"
   },
   {
    "duration": 18,
    "start_time": "2021-11-28T06:31:04.064Z"
   },
   {
    "duration": 57,
    "start_time": "2021-11-28T06:31:04.085Z"
   },
   {
    "duration": 25,
    "start_time": "2021-11-28T06:31:04.146Z"
   },
   {
    "duration": 19,
    "start_time": "2021-11-28T06:31:04.175Z"
   },
   {
    "duration": 57,
    "start_time": "2021-11-28T06:31:04.197Z"
   },
   {
    "duration": 12,
    "start_time": "2021-11-28T06:31:04.261Z"
   },
   {
    "duration": 12,
    "start_time": "2021-11-28T06:31:04.276Z"
   },
   {
    "duration": 5,
    "start_time": "2021-11-28T06:31:04.291Z"
   },
   {
    "duration": 34,
    "start_time": "2021-11-28T06:31:04.298Z"
   },
   {
    "duration": 8,
    "start_time": "2021-11-28T06:31:04.336Z"
   },
   {
    "duration": 6,
    "start_time": "2021-11-28T06:31:04.348Z"
   },
   {
    "duration": 10,
    "start_time": "2021-11-28T06:31:04.357Z"
   },
   {
    "duration": 6,
    "start_time": "2021-11-28T06:31:04.370Z"
   },
   {
    "duration": 7,
    "start_time": "2021-11-28T06:31:04.378Z"
   },
   {
    "duration": 42,
    "start_time": "2021-11-28T06:31:04.387Z"
   },
   {
    "duration": 8,
    "start_time": "2021-11-28T06:31:04.433Z"
   },
   {
    "duration": 8,
    "start_time": "2021-11-28T06:31:04.444Z"
   },
   {
    "duration": 376,
    "start_time": "2021-11-28T08:03:04.774Z"
   },
   {
    "duration": 388,
    "start_time": "2021-11-28T08:05:29.398Z"
   },
   {
    "duration": 291,
    "start_time": "2021-11-28T08:09:50.902Z"
   },
   {
    "duration": 570,
    "start_time": "2021-11-28T08:10:17.172Z"
   },
   {
    "duration": 135,
    "start_time": "2021-11-28T08:10:23.445Z"
   },
   {
    "duration": 27,
    "start_time": "2021-11-28T08:10:28.517Z"
   },
   {
    "duration": 26,
    "start_time": "2021-11-28T08:10:34.944Z"
   },
   {
    "duration": 4,
    "start_time": "2021-11-28T08:10:42.925Z"
   },
   {
    "duration": 20,
    "start_time": "2021-11-28T08:10:49.301Z"
   },
   {
    "duration": 4,
    "start_time": "2021-11-28T08:10:53.206Z"
   },
   {
    "duration": 23,
    "start_time": "2021-11-28T08:10:57.492Z"
   },
   {
    "duration": 17,
    "start_time": "2021-11-28T08:11:07.804Z"
   },
   {
    "duration": 22,
    "start_time": "2021-11-28T08:11:13.461Z"
   },
   {
    "duration": 55,
    "start_time": "2021-11-28T08:11:17.676Z"
   },
   {
    "duration": 67,
    "start_time": "2021-11-28T08:11:21.103Z"
   },
   {
    "duration": 51,
    "start_time": "2021-11-28T08:11:24.595Z"
   },
   {
    "duration": 42,
    "start_time": "2021-11-28T08:11:29.815Z"
   },
   {
    "duration": 340,
    "start_time": "2021-11-28T08:12:46.294Z"
   },
   {
    "duration": 264,
    "start_time": "2021-11-28T08:12:58.341Z"
   },
   {
    "duration": 4,
    "start_time": "2021-11-28T08:13:41.303Z"
   },
   {
    "duration": 14,
    "start_time": "2021-11-28T08:13:44.271Z"
   },
   {
    "duration": 14,
    "start_time": "2021-11-28T08:13:57.652Z"
   },
   {
    "duration": 87,
    "start_time": "2021-11-28T08:14:29.956Z"
   },
   {
    "duration": 38,
    "start_time": "2021-11-28T08:15:08.773Z"
   },
   {
    "duration": 11,
    "start_time": "2021-11-28T08:17:22.070Z"
   },
   {
    "duration": 11,
    "start_time": "2021-11-28T08:19:57.718Z"
   },
   {
    "duration": 9,
    "start_time": "2021-11-28T08:20:00.124Z"
   },
   {
    "duration": 272,
    "start_time": "2021-11-28T08:27:06.995Z"
   },
   {
    "duration": 4,
    "start_time": "2021-11-28T08:27:27.976Z"
   },
   {
    "duration": 712,
    "start_time": "2021-11-28T08:27:31.973Z"
   },
   {
    "duration": 3,
    "start_time": "2021-11-28T08:28:00.624Z"
   },
   {
    "duration": 51,
    "start_time": "2021-11-28T08:28:04.306Z"
   },
   {
    "duration": 46,
    "start_time": "2021-11-28T08:30:04.377Z"
   },
   {
    "duration": 47,
    "start_time": "2021-11-28T08:30:45.044Z"
   },
   {
    "duration": 57,
    "start_time": "2021-11-28T08:31:26.281Z"
   },
   {
    "duration": 3,
    "start_time": "2021-11-28T08:32:09.786Z"
   },
   {
    "duration": 1585,
    "start_time": "2021-11-28T08:32:14.957Z"
   },
   {
    "duration": 5,
    "start_time": "2021-11-28T08:33:07.440Z"
   },
   {
    "duration": 1390,
    "start_time": "2021-11-28T08:33:12.137Z"
   },
   {
    "duration": 4,
    "start_time": "2021-11-28T08:33:50.272Z"
   },
   {
    "duration": 1427,
    "start_time": "2021-11-28T08:33:54.125Z"
   },
   {
    "duration": 4,
    "start_time": "2021-11-28T08:38:27.372Z"
   },
   {
    "duration": 4,
    "start_time": "2021-11-28T08:38:33.038Z"
   },
   {
    "duration": 52,
    "start_time": "2021-11-28T08:38:35.885Z"
   },
   {
    "duration": 63,
    "start_time": "2021-11-28T08:38:51.365Z"
   },
   {
    "duration": 2,
    "start_time": "2021-11-28T08:39:25.514Z"
   },
   {
    "duration": 49,
    "start_time": "2021-11-28T08:40:03.045Z"
   },
   {
    "duration": 4,
    "start_time": "2021-11-28T08:40:32.748Z"
   },
   {
    "duration": 49,
    "start_time": "2021-11-28T08:40:36.993Z"
   },
   {
    "duration": 67,
    "start_time": "2021-11-28T08:40:46.087Z"
   },
   {
    "duration": 51,
    "start_time": "2021-11-28T08:40:51.724Z"
   },
   {
    "duration": 62,
    "start_time": "2021-11-28T08:41:36.143Z"
   },
   {
    "duration": 9,
    "start_time": "2021-11-28T08:44:38.071Z"
   },
   {
    "duration": 11,
    "start_time": "2021-11-28T08:44:40.981Z"
   },
   {
    "duration": 9,
    "start_time": "2021-11-28T08:46:02.645Z"
   },
   {
    "duration": 6,
    "start_time": "2021-11-28T08:46:09.255Z"
   },
   {
    "duration": 7,
    "start_time": "2021-11-28T08:47:37.412Z"
   },
   {
    "duration": 6,
    "start_time": "2021-11-28T08:47:53.286Z"
   },
   {
    "duration": 601,
    "start_time": "2021-11-28T17:14:07.218Z"
   },
   {
    "duration": 138,
    "start_time": "2021-11-28T17:14:07.821Z"
   },
   {
    "duration": 18,
    "start_time": "2021-11-28T17:14:07.962Z"
   },
   {
    "duration": 36,
    "start_time": "2021-11-28T17:14:07.983Z"
   },
   {
    "duration": 3,
    "start_time": "2021-11-28T17:14:08.021Z"
   },
   {
    "duration": 6,
    "start_time": "2021-11-28T17:14:08.026Z"
   },
   {
    "duration": 20,
    "start_time": "2021-11-28T17:14:08.034Z"
   },
   {
    "duration": 7,
    "start_time": "2021-11-28T17:14:08.056Z"
   },
   {
    "duration": 54,
    "start_time": "2021-11-28T17:14:08.065Z"
   },
   {
    "duration": 17,
    "start_time": "2021-11-28T17:14:08.121Z"
   },
   {
    "duration": 29,
    "start_time": "2021-11-28T17:14:08.140Z"
   },
   {
    "duration": 82,
    "start_time": "2021-11-28T17:14:08.171Z"
   },
   {
    "duration": 74,
    "start_time": "2021-11-28T17:14:08.255Z"
   },
   {
    "duration": 53,
    "start_time": "2021-11-28T17:14:08.331Z"
   },
   {
    "duration": 56,
    "start_time": "2021-11-28T17:14:08.386Z"
   },
   {
    "duration": 3,
    "start_time": "2021-11-28T17:14:08.444Z"
   },
   {
    "duration": 20,
    "start_time": "2021-11-28T17:14:08.449Z"
   },
   {
    "duration": 54,
    "start_time": "2021-11-28T17:14:08.470Z"
   },
   {
    "duration": 11,
    "start_time": "2021-11-28T17:14:08.526Z"
   },
   {
    "duration": 14,
    "start_time": "2021-11-28T17:14:08.539Z"
   },
   {
    "duration": 4,
    "start_time": "2021-11-28T17:14:08.555Z"
   },
   {
    "duration": 34,
    "start_time": "2021-11-28T17:14:08.560Z"
   },
   {
    "duration": 24,
    "start_time": "2021-11-28T17:14:08.596Z"
   },
   {
    "duration": 16,
    "start_time": "2021-11-28T17:14:08.622Z"
   },
   {
    "duration": 16,
    "start_time": "2021-11-28T17:14:08.640Z"
   },
   {
    "duration": 21,
    "start_time": "2021-11-28T17:14:08.658Z"
   },
   {
    "duration": 15,
    "start_time": "2021-11-28T17:14:08.710Z"
   },
   {
    "duration": 35,
    "start_time": "2021-11-28T17:14:08.727Z"
   },
   {
    "duration": 25,
    "start_time": "2021-11-28T17:14:08.764Z"
   },
   {
    "duration": 21,
    "start_time": "2021-11-28T17:14:08.791Z"
   },
   {
    "duration": 8,
    "start_time": "2021-11-28T17:14:08.814Z"
   },
   {
    "duration": 59,
    "start_time": "2021-11-28T17:14:08.824Z"
   },
   {
    "duration": 68,
    "start_time": "2021-11-28T17:14:08.885Z"
   },
   {
    "duration": 60,
    "start_time": "2021-11-28T17:14:08.955Z"
   },
   {
    "duration": 64,
    "start_time": "2021-11-28T17:14:09.017Z"
   },
   {
    "duration": 32,
    "start_time": "2021-11-28T17:14:09.083Z"
   },
   {
    "duration": 6,
    "start_time": "2021-11-28T17:14:09.117Z"
   },
   {
    "duration": 9,
    "start_time": "2021-11-28T17:14:09.125Z"
   },
   {
    "duration": 11,
    "start_time": "2021-11-28T17:14:09.135Z"
   },
   {
    "duration": 638,
    "start_time": "2021-11-28T17:19:17.581Z"
   },
   {
    "duration": 138,
    "start_time": "2021-11-28T17:19:18.221Z"
   },
   {
    "duration": 18,
    "start_time": "2021-11-28T17:19:18.361Z"
   },
   {
    "duration": 38,
    "start_time": "2021-11-28T17:19:18.381Z"
   },
   {
    "duration": 4,
    "start_time": "2021-11-28T17:19:18.421Z"
   },
   {
    "duration": 8,
    "start_time": "2021-11-28T17:19:18.426Z"
   },
   {
    "duration": 21,
    "start_time": "2021-11-28T17:19:18.436Z"
   },
   {
    "duration": 4,
    "start_time": "2021-11-28T17:19:18.459Z"
   },
   {
    "duration": 46,
    "start_time": "2021-11-28T17:19:18.466Z"
   },
   {
    "duration": 16,
    "start_time": "2021-11-28T17:19:18.515Z"
   },
   {
    "duration": 32,
    "start_time": "2021-11-28T17:19:18.533Z"
   },
   {
    "duration": 76,
    "start_time": "2021-11-28T17:19:18.568Z"
   },
   {
    "duration": 78,
    "start_time": "2021-11-28T17:19:18.646Z"
   },
   {
    "duration": 50,
    "start_time": "2021-11-28T17:19:18.726Z"
   },
   {
    "duration": 52,
    "start_time": "2021-11-28T17:19:18.777Z"
   },
   {
    "duration": 3,
    "start_time": "2021-11-28T17:19:18.831Z"
   },
   {
    "duration": 28,
    "start_time": "2021-11-28T17:19:18.835Z"
   },
   {
    "duration": 43,
    "start_time": "2021-11-28T17:19:18.865Z"
   },
   {
    "duration": 11,
    "start_time": "2021-11-28T17:19:18.910Z"
   },
   {
    "duration": 9,
    "start_time": "2021-11-28T17:19:18.923Z"
   },
   {
    "duration": 4,
    "start_time": "2021-11-28T17:19:18.934Z"
   },
   {
    "duration": 35,
    "start_time": "2021-11-28T17:19:18.939Z"
   },
   {
    "duration": 34,
    "start_time": "2021-11-28T17:19:18.976Z"
   },
   {
    "duration": 15,
    "start_time": "2021-11-28T17:19:19.012Z"
   },
   {
    "duration": 13,
    "start_time": "2021-11-28T17:19:19.029Z"
   },
   {
    "duration": 18,
    "start_time": "2021-11-28T17:19:19.044Z"
   },
   {
    "duration": 14,
    "start_time": "2021-11-28T17:19:19.066Z"
   },
   {
    "duration": 27,
    "start_time": "2021-11-28T17:19:19.087Z"
   },
   {
    "duration": 13,
    "start_time": "2021-11-28T17:19:19.116Z"
   },
   {
    "duration": 10,
    "start_time": "2021-11-28T17:19:19.131Z"
   },
   {
    "duration": 6,
    "start_time": "2021-11-28T17:19:19.142Z"
   },
   {
    "duration": 75,
    "start_time": "2021-11-28T17:19:19.150Z"
   },
   {
    "duration": 64,
    "start_time": "2021-11-28T17:19:19.227Z"
   },
   {
    "duration": 58,
    "start_time": "2021-11-28T17:19:19.292Z"
   },
   {
    "duration": 83,
    "start_time": "2021-11-28T17:19:19.352Z"
   },
   {
    "duration": 10,
    "start_time": "2021-11-28T17:19:19.437Z"
   },
   {
    "duration": 15,
    "start_time": "2021-11-28T17:19:19.449Z"
   },
   {
    "duration": 17,
    "start_time": "2021-11-28T17:19:19.466Z"
   },
   {
    "duration": 13,
    "start_time": "2021-11-28T17:19:19.485Z"
   }
  ],
  "colab": {
   "collapsed_sections": [
    "E0vqbgi9ay0H",
    "VUC88oWjTJw2"
   ],
   "name": "yandex_music_project_2021.2.ipynb",
   "provenance": []
  },
  "kernelspec": {
   "display_name": "Python 3 (ipykernel)",
   "language": "python",
   "name": "python3"
  },
  "language_info": {
   "codemirror_mode": {
    "name": "ipython",
    "version": 3
   },
   "file_extension": ".py",
   "mimetype": "text/x-python",
   "name": "python",
   "nbconvert_exporter": "python",
   "pygments_lexer": "ipython3",
   "version": "3.9.7"
  },
  "toc": {
   "base_numbering": 1,
   "nav_menu": {
    "height": "196px",
    "width": "394px"
   },
   "number_sections": true,
   "sideBar": true,
   "skip_h1_title": true,
   "title_cell": "Table of Contents",
   "title_sidebar": "Contents",
   "toc_cell": false,
   "toc_position": {
    "height": "calc(100% - 180px)",
    "left": "10px",
    "top": "150px",
    "width": "165px"
   },
   "toc_section_display": true,
   "toc_window_display": true
  },
  "toc-autonumbering": false,
  "toc-showcode": true,
  "toc-showmarkdowntxt": false,
  "toc-showtags": false
 },
 "nbformat": 4,
 "nbformat_minor": 4
}
