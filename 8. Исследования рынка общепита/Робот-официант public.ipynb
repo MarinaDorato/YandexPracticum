{
 "cells": [
  {
   "cell_type": "markdown",
   "id": "695c431c",
   "metadata": {
    "toc": true
   },
   "source": [
    "<h1>Table of Contents<span class=\"tocSkip\"></span></h1>\n",
    "<div class=\"toc\"><ul class=\"toc-item\"><li><span><a href=\"#Инструкция\" data-toc-modified-id=\"Инструкция-1\"><span class=\"toc-item-num\">1&nbsp;&nbsp;</span>Инструкция</a></span></li><li><span><a href=\"#Шаг-№1.-Загрузка-данных-и-подготовка-к-анализу.\" data-toc-modified-id=\"Шаг-№1.-Загрузка-данных-и-подготовка-к-анализу.-2\"><span class=\"toc-item-num\">2&nbsp;&nbsp;</span>Шаг №1. Загрузка данных и подготовка к анализу.</a></span><ul class=\"toc-item\"><li><span><a href=\"#Первичное-знакомство-с-данными,-проведённые-подготовительные-операции.\" data-toc-modified-id=\"Первичное-знакомство-с-данными,-проведённые-подготовительные-операции.-2.1\"><span class=\"toc-item-num\">2.1&nbsp;&nbsp;</span>Первичное знакомство с данными, проведённые подготовительные операции.</a></span></li></ul></li><li><span><a href=\"#Шаг-№2.-Анализ-данных.\" data-toc-modified-id=\"Шаг-№2.-Анализ-данных.-3\"><span class=\"toc-item-num\">3&nbsp;&nbsp;</span>Шаг №2. Анализ данных.</a></span><ul class=\"toc-item\"><li><span><a href=\"#Исследование-соотношения-видов-объектов-общественного-питания-по-количеству.-Построение-графика.\" data-toc-modified-id=\"Исследование-соотношения-видов-объектов-общественного-питания-по-количеству.-Построение-графика.-3.1\"><span class=\"toc-item-num\">3.1&nbsp;&nbsp;</span>Исследование соотношения видов объектов общественного питания по количеству. Построение графика.</a></span><ul class=\"toc-item\"><li><span><a href=\"#Вывод-исследования-соотношения-видов-объектов-общественного-питания-по-количеству.\" data-toc-modified-id=\"Вывод-исследования-соотношения-видов-объектов-общественного-питания-по-количеству.-3.1.1\"><span class=\"toc-item-num\">3.1.1&nbsp;&nbsp;</span>Вывод исследования соотношения видов объектов общественного питания по количеству.</a></span></li></ul></li><li><span><a href=\"#Исследование-соотношения-сетевых-и-несетевых-заведений-по-количеству.-Построение-графика.\" data-toc-modified-id=\"Исследование-соотношения-сетевых-и-несетевых-заведений-по-количеству.-Построение-графика.-3.2\"><span class=\"toc-item-num\">3.2&nbsp;&nbsp;</span>Исследование соотношения сетевых и несетевых заведений по количеству. Построение графика.</a></span><ul class=\"toc-item\"><li><span><a href=\"#Вывод-исследования-соотношения-сетевых-и-несетевых-заведений-по-количеству.\" data-toc-modified-id=\"Вывод-исследования-соотношения-сетевых-и-несетевых-заведений-по-количеству.-3.2.1\"><span class=\"toc-item-num\">3.2.1&nbsp;&nbsp;</span>Вывод исследования соотношения сетевых и несетевых заведений по количеству.</a></span></li></ul></li><li><span><a href=\"#Для-какого-вида-объекта-общественного-питания-характерно-сетевое-распространение?\" data-toc-modified-id=\"Для-какого-вида-объекта-общественного-питания-характерно-сетевое-распространение?-3.3\"><span class=\"toc-item-num\">3.3&nbsp;&nbsp;</span>Для какого вида объекта общественного питания характерно сетевое распространение?</a></span><ul class=\"toc-item\"><li><span><a href=\"#Вывод.\" data-toc-modified-id=\"Вывод.-3.3.1\"><span class=\"toc-item-num\">3.3.1&nbsp;&nbsp;</span>Вывод.</a></span></li></ul></li><li><span><a href=\"#Что-характерно-для-сетевых-заведений:-много-заведений-с-небольшим-числом-посадочных-мест-в-каждом-или-мало-заведений-с-большим-количеством-посадочных-мест?\" data-toc-modified-id=\"Что-характерно-для-сетевых-заведений:-много-заведений-с-небольшим-числом-посадочных-мест-в-каждом-или-мало-заведений-с-большим-количеством-посадочных-мест?-3.4\"><span class=\"toc-item-num\">3.4&nbsp;&nbsp;</span>Что характерно для сетевых заведений: много заведений с небольшим числом посадочных мест в каждом или мало заведений с большим количеством посадочных мест?</a></span><ul class=\"toc-item\"><li><span><a href=\"#Вывод.\" data-toc-modified-id=\"Вывод.-3.4.1\"><span class=\"toc-item-num\">3.4.1&nbsp;&nbsp;</span>Вывод.</a></span></li></ul></li><li><span><a href=\"#Для-каждого-вида-объекта-общественного-питания-опишем-среднее-количество-посадочных-мест.-Какой-вид-предоставляет-в-среднем-самое-большое-количество-посадочных-мест?-Построение-графика.\" data-toc-modified-id=\"Для-каждого-вида-объекта-общественного-питания-опишем-среднее-количество-посадочных-мест.-Какой-вид-предоставляет-в-среднем-самое-большое-количество-посадочных-мест?-Построение-графика.-3.5\"><span class=\"toc-item-num\">3.5&nbsp;&nbsp;</span>Для каждого вида объекта общественного питания опишем среднее количество посадочных мест. Какой вид предоставляет в среднем самое большое количество посадочных мест? Построение графика.</a></span><ul class=\"toc-item\"><li><span><a href=\"#Вывод.\" data-toc-modified-id=\"Вывод.-3.5.1\"><span class=\"toc-item-num\">3.5.1&nbsp;&nbsp;</span>Вывод.</a></span></li></ul></li><li><span><a href=\"#Выделим-в-отдельный-столбец-информацию-об-улице-из-столбца-address-.\" data-toc-modified-id=\"Выделим-в-отдельный-столбец-информацию-об-улице-из-столбца-address-.-3.6\"><span class=\"toc-item-num\">3.6&nbsp;&nbsp;</span>Выделим в отдельный столбец информацию об улице из столбца address .</a></span></li><li><span><a href=\"#Построение-графика-топ-10-улиц-по-количеству-объектов-общественного-питания.-С-применением-внешней-информации-получим--ответ-на-вопрос-—-в-каких-районах-Москвы-находятся-эти-улицы?\" data-toc-modified-id=\"Построение-графика-топ-10-улиц-по-количеству-объектов-общественного-питания.-С-применением-внешней-информации-получим--ответ-на-вопрос-—-в-каких-районах-Москвы-находятся-эти-улицы?-3.7\"><span class=\"toc-item-num\">3.7&nbsp;&nbsp;</span>Построение графика топ-10 улиц по количеству объектов общественного питания. С применением внешней информации получим  ответ на вопрос — в каких районах Москвы находятся эти улицы?</a></span><ul class=\"toc-item\"><li><span><a href=\"#Вывод.\" data-toc-modified-id=\"Вывод.-3.7.1\"><span class=\"toc-item-num\">3.7.1&nbsp;&nbsp;</span>Вывод.</a></span></li></ul></li><li><span><a href=\"#Определим-число-улиц-с-одним-объектом-общественного-питания.-С-применением-внешней-информации-получим--ответ-на-вопрос-—-в-каких-районах-Москвы-находятся-эти-улицы?\" data-toc-modified-id=\"Определим-число-улиц-с-одним-объектом-общественного-питания.-С-применением-внешней-информации-получим--ответ-на-вопрос-—-в-каких-районах-Москвы-находятся-эти-улицы?-3.8\"><span class=\"toc-item-num\">3.8&nbsp;&nbsp;</span>Определим число улиц с одним объектом общественного питания. С применением внешней информации получим  ответ на вопрос — в каких районах Москвы находятся эти улицы?</a></span><ul class=\"toc-item\"><li><span><a href=\"#Вывод.\" data-toc-modified-id=\"Вывод.-3.8.1\"><span class=\"toc-item-num\">3.8.1&nbsp;&nbsp;</span>Вывод.</a></span></li></ul></li><li><span><a href=\"#Посмотрим-на-распределение-количества-посадочных-мест-для-улиц-с-большим-количеством-объектов-общественного-питания.-Какие-закономерности-можно-выявить?\" data-toc-modified-id=\"Посмотрим-на-распределение-количества-посадочных-мест-для-улиц-с-большим-количеством-объектов-общественного-питания.-Какие-закономерности-можно-выявить?-3.9\"><span class=\"toc-item-num\">3.9&nbsp;&nbsp;</span>Посмотрим на распределение количества посадочных мест для улиц с большим количеством объектов общественного питания. Какие закономерности можно выявить?</a></span><ul class=\"toc-item\"><li><span><a href=\"#Проспект-Мира\" data-toc-modified-id=\"Проспект-Мира-3.9.1\"><span class=\"toc-item-num\">3.9.1&nbsp;&nbsp;</span>Проспект Мира</a></span></li><li><span><a href=\"#Профсоюзная-улица\" data-toc-modified-id=\"Профсоюзная-улица-3.9.2\"><span class=\"toc-item-num\">3.9.2&nbsp;&nbsp;</span>Профсоюзная улица</a></span></li><li><span><a href=\"#Ленинградский-проспект\" data-toc-modified-id=\"Ленинградский-проспект-3.9.3\"><span class=\"toc-item-num\">3.9.3&nbsp;&nbsp;</span>Ленинградский проспект</a></span></li><li><span><a href=\"#Пресненская-набережная\" data-toc-modified-id=\"Пресненская-набережная-3.9.4\"><span class=\"toc-item-num\">3.9.4&nbsp;&nbsp;</span>Пресненская набережная</a></span></li><li><span><a href=\"#Варшавское-шоссе\" data-toc-modified-id=\"Варшавское-шоссе-3.9.5\"><span class=\"toc-item-num\">3.9.5&nbsp;&nbsp;</span>Варшавское шоссе</a></span></li><li><span><a href=\"#Ленинский-проспект\" data-toc-modified-id=\"Ленинский-проспект-3.9.6\"><span class=\"toc-item-num\">3.9.6&nbsp;&nbsp;</span>Ленинский проспект</a></span></li><li><span><a href=\"#проспект-Вернадского\" data-toc-modified-id=\"проспект-Вернадского-3.9.7\"><span class=\"toc-item-num\">3.9.7&nbsp;&nbsp;</span>проспект Вернадского</a></span></li><li><span><a href=\"#Кутузовский-проспект\" data-toc-modified-id=\"Кутузовский-проспект-3.9.8\"><span class=\"toc-item-num\">3.9.8&nbsp;&nbsp;</span>Кутузовский проспект</a></span></li><li><span><a href=\"#Каширское-шоссе\" data-toc-modified-id=\"Каширское-шоссе-3.9.9\"><span class=\"toc-item-num\">3.9.9&nbsp;&nbsp;</span>Каширское шоссе</a></span></li><li><span><a href=\"#Кировоградская-улица\" data-toc-modified-id=\"Кировоградская-улица-3.9.10\"><span class=\"toc-item-num\">3.9.10&nbsp;&nbsp;</span>Кировоградская улица</a></span></li><li><span><a href=\"#Закономерности.\" data-toc-modified-id=\"Закономерности.-3.9.11\"><span class=\"toc-item-num\">3.9.11&nbsp;&nbsp;</span>Закономерности.</a></span></li></ul></li><li><span><a href=\"#Сделаем-общий-вывод-и-дадим-рекомендации-о-виде-заведения,-количестве-посадочных-мест,-а-также-районе-расположения.-Прокомментируем-возможность-развития-сети.\" data-toc-modified-id=\"Сделаем-общий-вывод-и-дадим-рекомендации-о-виде-заведения,-количестве-посадочных-мест,-а-также-районе-расположения.-Прокомментируем-возможность-развития-сети.-3.10\"><span class=\"toc-item-num\">3.10&nbsp;&nbsp;</span>Сделаем общий вывод и дадим рекомендации о виде заведения, количестве посадочных мест, а также районе расположения. Прокомментируем возможность развития сети.</a></span></li></ul></li><li><span><a href=\"#Итоговая-часть.\" data-toc-modified-id=\"Итоговая-часть.-4\"><span class=\"toc-item-num\">4&nbsp;&nbsp;</span>Итоговая часть.</a></span></li></ul></div>"
   ]
  },
  {
   "cell_type": "markdown",
   "id": "30aac097",
   "metadata": {},
   "source": [
    "# AZIMOV@CAFE"
   ]
  },
  {
   "cell_type": "markdown",
   "id": "fd9bf38a",
   "metadata": {},
   "source": [
    "Что будет сделано, чтобы ответить на этот вопрос: выбраны самые перспективные локации, наиболее распространённый формат по количеству мест."
   ]
  },
  {
   "cell_type": "markdown",
   "id": "ddfa903e",
   "metadata": {},
   "source": [
    "Прежде чем начнём - небольшая история. 2 января 1920 года в деревне Петровичи Смоленской губернии родился  А́йзек Ази́мов, который создал  Четыре закона робототехники:\n",
    "\n",
    "0. Робот не может нанести вред человечеству или своим бездействием допустить, чтобы человечеству был нанесён вред.\n",
    "1. Робот не может причинить вред человеку или своим бездействием допустить, чтобы человеку был причинён вред.\n",
    "2. Робот должен повиноваться всем приказам, которые даёт человек, кроме тех случаев, когда эти приказы противоречат Первому Закону.\n",
    "3. Робот должен заботиться о своей безопасности в той мере, в которой это не противоречит Первому или Второму Законам.\n",
    "\n",
    "Отсюда и название.\n",
    "\n",
    "Источник: https://robotrends.ru/pub/1730/kodeks-robotov.-versiya-0001"
   ]
  },
  {
   "cell_type": "markdown",
   "id": "3585df05",
   "metadata": {},
   "source": [
    "## Шаг №1. Загрузка данных и подготовка к анализу."
   ]
  },
  {
   "cell_type": "code",
   "execution_count": 1,
   "id": "3c5acfd1",
   "metadata": {},
   "outputs": [],
   "source": [
    "# импорт библиотек\n",
    "import plotly.express as px\n",
    "from plotly import graph_objects as go\n",
    "import pandas as pd\n",
    "import numpy as np\n",
    "import time\n",
    "from datetime import datetime\n",
    "from datetime import date, timedelta as td\n",
    "from matplotlib import pyplot as plt\n",
    "import seaborn as sns\n",
    "from tqdm import tqdm\n",
    "%matplotlib inline\n",
    "import re\n",
    "import scipy.stats as stats\n",
    "from pandas.plotting import register_matplotlib_converters\n",
    "import warnings"
   ]
  },
  {
   "cell_type": "code",
   "execution_count": 2,
   "id": "a628ce84",
   "metadata": {},
   "outputs": [],
   "source": [
    "# конвертеры, которые позволяют использовать типы pandas в matplotlib  \n",
    "register_matplotlib_converters()"
   ]
  },
  {
   "cell_type": "code",
   "execution_count": 3,
   "id": "38c8b36e",
   "metadata": {},
   "outputs": [],
   "source": [
    "#снижает размерность чисел для вывода на экран на всем проекте + помогает с экспоненциальной записью чисел\n",
    "pd.set_option(\"display.float_format\", \"{:.2f}\".format);"
   ]
  },
  {
   "cell_type": "code",
   "execution_count": 4,
   "id": "5a7a7cda",
   "metadata": {},
   "outputs": [],
   "source": [
    "pd.options.display.max_colwidth = 400"
   ]
  },
  {
   "cell_type": "code",
   "execution_count": 6,
   "id": "6af81ba8",
   "metadata": {},
   "outputs": [
    {
     "data": {
      "text/html": [
       "<div>\n",
       "<style scoped>\n",
       "    .dataframe tbody tr th:only-of-type {\n",
       "        vertical-align: middle;\n",
       "    }\n",
       "\n",
       "    .dataframe tbody tr th {\n",
       "        vertical-align: top;\n",
       "    }\n",
       "\n",
       "    .dataframe thead th {\n",
       "        text-align: right;\n",
       "    }\n",
       "</style>\n",
       "<table border=\"1\" class=\"dataframe\">\n",
       "  <thead>\n",
       "    <tr style=\"text-align: right;\">\n",
       "      <th></th>\n",
       "      <th>id</th>\n",
       "      <th>object_name</th>\n",
       "      <th>chain</th>\n",
       "      <th>object_type</th>\n",
       "      <th>address</th>\n",
       "      <th>number</th>\n",
       "    </tr>\n",
       "  </thead>\n",
       "  <tbody>\n",
       "    <tr>\n",
       "      <th>0</th>\n",
       "      <td>151635</td>\n",
       "      <td>СМЕТАНА</td>\n",
       "      <td>нет</td>\n",
       "      <td>кафе</td>\n",
       "      <td>город Москва, улица Егора Абакумова, дом 9</td>\n",
       "      <td>48</td>\n",
       "    </tr>\n",
       "    <tr>\n",
       "      <th>1</th>\n",
       "      <td>77874</td>\n",
       "      <td>Родник</td>\n",
       "      <td>нет</td>\n",
       "      <td>кафе</td>\n",
       "      <td>город Москва, улица Талалихина, дом 2/1, корпус 1</td>\n",
       "      <td>35</td>\n",
       "    </tr>\n",
       "    <tr>\n",
       "      <th>2</th>\n",
       "      <td>24309</td>\n",
       "      <td>Кафе «Академия»</td>\n",
       "      <td>нет</td>\n",
       "      <td>кафе</td>\n",
       "      <td>город Москва, Абельмановская улица, дом 6</td>\n",
       "      <td>95</td>\n",
       "    </tr>\n",
       "    <tr>\n",
       "      <th>3</th>\n",
       "      <td>21894</td>\n",
       "      <td>ПИЦЦЕТОРИЯ</td>\n",
       "      <td>да</td>\n",
       "      <td>кафе</td>\n",
       "      <td>город Москва, Абрамцевская улица, дом 1</td>\n",
       "      <td>40</td>\n",
       "    </tr>\n",
       "    <tr>\n",
       "      <th>4</th>\n",
       "      <td>119365</td>\n",
       "      <td>Кафе «Вишневая метель»</td>\n",
       "      <td>нет</td>\n",
       "      <td>кафе</td>\n",
       "      <td>город Москва, Абрамцевская улица, дом 9, корпус 1</td>\n",
       "      <td>50</td>\n",
       "    </tr>\n",
       "    <tr>\n",
       "      <th>...</th>\n",
       "      <td>...</td>\n",
       "      <td>...</td>\n",
       "      <td>...</td>\n",
       "      <td>...</td>\n",
       "      <td>...</td>\n",
       "      <td>...</td>\n",
       "    </tr>\n",
       "    <tr>\n",
       "      <th>15361</th>\n",
       "      <td>208537</td>\n",
       "      <td>Шоколадница</td>\n",
       "      <td>да</td>\n",
       "      <td>кафе</td>\n",
       "      <td>город Москва, 3-й Крутицкий переулок, дом 18</td>\n",
       "      <td>50</td>\n",
       "    </tr>\n",
       "    <tr>\n",
       "      <th>15362</th>\n",
       "      <td>209264</td>\n",
       "      <td>Шоколадница</td>\n",
       "      <td>да</td>\n",
       "      <td>кафе</td>\n",
       "      <td>город Москва, улица Земляной Вал, дом 33</td>\n",
       "      <td>10</td>\n",
       "    </tr>\n",
       "    <tr>\n",
       "      <th>15363</th>\n",
       "      <td>209186</td>\n",
       "      <td>Шоколадница</td>\n",
       "      <td>да</td>\n",
       "      <td>кафе</td>\n",
       "      <td>город Москва, улица Земляной Вал, дом 33</td>\n",
       "      <td>20</td>\n",
       "    </tr>\n",
       "    <tr>\n",
       "      <th>15364</th>\n",
       "      <td>221900</td>\n",
       "      <td>Шоколадница</td>\n",
       "      <td>да</td>\n",
       "      <td>кафе</td>\n",
       "      <td>город Москва, поселение Московский, Киевское шоссе, 22-й километр, домовладение 4, строение 1</td>\n",
       "      <td>36</td>\n",
       "    </tr>\n",
       "    <tr>\n",
       "      <th>15365</th>\n",
       "      <td>222535</td>\n",
       "      <td>Шоколадница</td>\n",
       "      <td>да</td>\n",
       "      <td>кафе</td>\n",
       "      <td>город Москва, Ходынский бульвар, дом 4</td>\n",
       "      <td>10</td>\n",
       "    </tr>\n",
       "  </tbody>\n",
       "</table>\n",
       "<p>15366 rows × 6 columns</p>\n",
       "</div>"
      ],
      "text/plain": [
       "           id             object_name chain object_type  \\\n",
       "0      151635                 СМЕТАНА   нет        кафе   \n",
       "1       77874                  Родник   нет        кафе   \n",
       "2       24309         Кафе «Академия»   нет        кафе   \n",
       "3       21894              ПИЦЦЕТОРИЯ    да        кафе   \n",
       "4      119365  Кафе «Вишневая метель»   нет        кафе   \n",
       "...       ...                     ...   ...         ...   \n",
       "15361  208537             Шоколадница    да        кафе   \n",
       "15362  209264             Шоколадница    да        кафе   \n",
       "15363  209186             Шоколадница    да        кафе   \n",
       "15364  221900             Шоколадница    да        кафе   \n",
       "15365  222535             Шоколадница    да        кафе   \n",
       "\n",
       "                                                                                             address  \\\n",
       "0                                                         город Москва, улица Егора Абакумова, дом 9   \n",
       "1                                                  город Москва, улица Талалихина, дом 2/1, корпус 1   \n",
       "2                                                          город Москва, Абельмановская улица, дом 6   \n",
       "3                                                            город Москва, Абрамцевская улица, дом 1   \n",
       "4                                                  город Москва, Абрамцевская улица, дом 9, корпус 1   \n",
       "...                                                                                              ...   \n",
       "15361                                                   город Москва, 3-й Крутицкий переулок, дом 18   \n",
       "15362                                                       город Москва, улица Земляной Вал, дом 33   \n",
       "15363                                                       город Москва, улица Земляной Вал, дом 33   \n",
       "15364  город Москва, поселение Московский, Киевское шоссе, 22-й километр, домовладение 4, строение 1   \n",
       "15365                                                         город Москва, Ходынский бульвар, дом 4   \n",
       "\n",
       "       number  \n",
       "0          48  \n",
       "1          35  \n",
       "2          95  \n",
       "3          40  \n",
       "4          50  \n",
       "...       ...  \n",
       "15361      50  \n",
       "15362      10  \n",
       "15363      20  \n",
       "15364      36  \n",
       "15365      10  \n",
       "\n",
       "[15366 rows x 6 columns]"
      ]
     },
     "execution_count": 6,
     "metadata": {},
     "output_type": "execute_result"
    }
   ],
   "source": [
    "data"
   ]
  },
  {
   "cell_type": "code",
   "execution_count": 7,
   "id": "356e3b72",
   "metadata": {},
   "outputs": [
    {
     "data": {
      "text/plain": [
       "(15366, 6)"
      ]
     },
     "execution_count": 7,
     "metadata": {},
     "output_type": "execute_result"
    }
   ],
   "source": [
    "# Создам копию первичного датафрейма.\n",
    "df = data.copy()\n",
    "df.shape"
   ]
  },
  {
   "cell_type": "code",
   "execution_count": 8,
   "id": "8c3ebed5",
   "metadata": {},
   "outputs": [
    {
     "data": {
      "text/plain": [
       "0"
      ]
     },
     "execution_count": 8,
     "metadata": {},
     "output_type": "execute_result"
    }
   ],
   "source": [
    "# поищем полные дубли\n",
    "df.duplicated().sum()"
   ]
  },
  {
   "cell_type": "code",
   "execution_count": 9,
   "id": "9aff94b6",
   "metadata": {},
   "outputs": [
    {
     "data": {
      "text/html": [
       "<div>\n",
       "<style scoped>\n",
       "    .dataframe tbody tr th:only-of-type {\n",
       "        vertical-align: middle;\n",
       "    }\n",
       "\n",
       "    .dataframe tbody tr th {\n",
       "        vertical-align: top;\n",
       "    }\n",
       "\n",
       "    .dataframe thead th {\n",
       "        text-align: right;\n",
       "    }\n",
       "</style>\n",
       "<table border=\"1\" class=\"dataframe\">\n",
       "  <thead>\n",
       "    <tr style=\"text-align: right;\">\n",
       "      <th></th>\n",
       "      <th>id</th>\n",
       "      <th>object_name</th>\n",
       "      <th>chain</th>\n",
       "      <th>object_type</th>\n",
       "      <th>address</th>\n",
       "      <th>number</th>\n",
       "    </tr>\n",
       "  </thead>\n",
       "  <tbody>\n",
       "    <tr>\n",
       "      <th>2381</th>\n",
       "      <td>28611</td>\n",
       "      <td>КОМБИНАТ ПИТАНИЯ МГТУ ИМ.Н.Э.БАУМАНА</td>\n",
       "      <td>нет</td>\n",
       "      <td>столовая</td>\n",
       "      <td>город Москва, 2-я Бауманская улица, дом 5, строение 1</td>\n",
       "      <td>100</td>\n",
       "    </tr>\n",
       "    <tr>\n",
       "      <th>3481</th>\n",
       "      <td>20914</td>\n",
       "      <td>Буфет Мади</td>\n",
       "      <td>нет</td>\n",
       "      <td>буфет</td>\n",
       "      <td>город Москва, Ленинградский проспект, дом 64</td>\n",
       "      <td>40</td>\n",
       "    </tr>\n",
       "    <tr>\n",
       "      <th>4431</th>\n",
       "      <td>23759</td>\n",
       "      <td>СТОЛОВАЯ ГБОУ города Москвы № 384</td>\n",
       "      <td>нет</td>\n",
       "      <td>буфет</td>\n",
       "      <td>город Москва, Беловежская улица, дом 67</td>\n",
       "      <td>100</td>\n",
       "    </tr>\n",
       "    <tr>\n",
       "      <th>4537</th>\n",
       "      <td>23391</td>\n",
       "      <td>Столовая «Комбинат питания КОСМОС»</td>\n",
       "      <td>нет</td>\n",
       "      <td>столовая</td>\n",
       "      <td>город Москва, Новозаводская улица, дом 12/11</td>\n",
       "      <td>15</td>\n",
       "    </tr>\n",
       "    <tr>\n",
       "      <th>5059</th>\n",
       "      <td>20021</td>\n",
       "      <td>LIFT</td>\n",
       "      <td>нет</td>\n",
       "      <td>кафе</td>\n",
       "      <td>город Москва, Багратионовский проезд, дом 7, корпус 1</td>\n",
       "      <td>20</td>\n",
       "    </tr>\n",
       "    <tr>\n",
       "      <th>...</th>\n",
       "      <td>...</td>\n",
       "      <td>...</td>\n",
       "      <td>...</td>\n",
       "      <td>...</td>\n",
       "      <td>...</td>\n",
       "      <td>...</td>\n",
       "    </tr>\n",
       "    <tr>\n",
       "      <th>14578</th>\n",
       "      <td>222932</td>\n",
       "      <td>Старый Баку</td>\n",
       "      <td>нет</td>\n",
       "      <td>кафе</td>\n",
       "      <td>город Москва, Кировоградская улица, владение 15А</td>\n",
       "      <td>120</td>\n",
       "    </tr>\n",
       "    <tr>\n",
       "      <th>14596</th>\n",
       "      <td>204947</td>\n",
       "      <td>Буфет при кинотеатре</td>\n",
       "      <td>нет</td>\n",
       "      <td>буфет</td>\n",
       "      <td>город Москва, Ореховый бульвар, дом 22А</td>\n",
       "      <td>0</td>\n",
       "    </tr>\n",
       "    <tr>\n",
       "      <th>14844</th>\n",
       "      <td>219518</td>\n",
       "      <td>Sushi-Make</td>\n",
       "      <td>нет</td>\n",
       "      <td>предприятие быстрого обслуживания</td>\n",
       "      <td>город Москва, Ярцевская улица, дом 19</td>\n",
       "      <td>0</td>\n",
       "    </tr>\n",
       "    <tr>\n",
       "      <th>15173</th>\n",
       "      <td>218542</td>\n",
       "      <td>Кофе с собой</td>\n",
       "      <td>да</td>\n",
       "      <td>предприятие быстрого обслуживания</td>\n",
       "      <td>город Москва, Алтуфьевское шоссе, дом 70, корпус 1</td>\n",
       "      <td>0</td>\n",
       "    </tr>\n",
       "    <tr>\n",
       "      <th>15217</th>\n",
       "      <td>214146</td>\n",
       "      <td>Макдоналдс</td>\n",
       "      <td>да</td>\n",
       "      <td>предприятие быстрого обслуживания</td>\n",
       "      <td>город Москва, Кировоградская улица, дом 13А</td>\n",
       "      <td>0</td>\n",
       "    </tr>\n",
       "  </tbody>\n",
       "</table>\n",
       "<p>82 rows × 6 columns</p>\n",
       "</div>"
      ],
      "text/plain": [
       "           id                           object_name chain  \\\n",
       "2381    28611  КОМБИНАТ ПИТАНИЯ МГТУ ИМ.Н.Э.БАУМАНА   нет   \n",
       "3481    20914                            Буфет Мади   нет   \n",
       "4431    23759     СТОЛОВАЯ ГБОУ города Москвы № 384   нет   \n",
       "4537    23391    Столовая «Комбинат питания КОСМОС»   нет   \n",
       "5059    20021                                  LIFT   нет   \n",
       "...       ...                                   ...   ...   \n",
       "14578  222932                           Старый Баку   нет   \n",
       "14596  204947                  Буфет при кинотеатре   нет   \n",
       "14844  219518                            Sushi-Make   нет   \n",
       "15173  218542                          Кофе с собой    да   \n",
       "15217  214146                            Макдоналдс    да   \n",
       "\n",
       "                             object_type  \\\n",
       "2381                            столовая   \n",
       "3481                               буфет   \n",
       "4431                               буфет   \n",
       "4537                            столовая   \n",
       "5059                                кафе   \n",
       "...                                  ...   \n",
       "14578                               кафе   \n",
       "14596                              буфет   \n",
       "14844  предприятие быстрого обслуживания   \n",
       "15173  предприятие быстрого обслуживания   \n",
       "15217  предприятие быстрого обслуживания   \n",
       "\n",
       "                                                     address  number  \n",
       "2381   город Москва, 2-я Бауманская улица, дом 5, строение 1     100  \n",
       "3481            город Москва, Ленинградский проспект, дом 64      40  \n",
       "4431                 город Москва, Беловежская улица, дом 67     100  \n",
       "4537            город Москва, Новозаводская улица, дом 12/11      15  \n",
       "5059   город Москва, Багратионовский проезд, дом 7, корпус 1      20  \n",
       "...                                                      ...     ...  \n",
       "14578       город Москва, Кировоградская улица, владение 15А     120  \n",
       "14596                город Москва, Ореховый бульвар, дом 22А       0  \n",
       "14844                  город Москва, Ярцевская улица, дом 19       0  \n",
       "15173     город Москва, Алтуфьевское шоссе, дом 70, корпус 1       0  \n",
       "15217            город Москва, Кировоградская улица, дом 13А       0  \n",
       "\n",
       "[82 rows x 6 columns]"
      ]
     },
     "execution_count": 9,
     "metadata": {},
     "output_type": "execute_result"
    }
   ],
   "source": [
    "# Полных дубликатов нет, посмотрим без учёта id\n",
    "df[df.duplicated(['object_name', 'chain', 'object_type', 'address', 'number'])] \n",
    "#результат — датафрейм с дубликатами"
   ]
  },
  {
   "cell_type": "markdown",
   "id": "c10b5ae8",
   "metadata": {},
   "source": [
    "Выявлено 82 записи, которые отличаются только id."
   ]
  },
  {
   "cell_type": "code",
   "execution_count": 10,
   "id": "f843f619",
   "metadata": {},
   "outputs": [
    {
     "data": {
      "text/plain": [
       "id             0\n",
       "object_name    0\n",
       "chain          0\n",
       "object_type    0\n",
       "address        0\n",
       "number         0\n",
       "dtype: int64"
      ]
     },
     "execution_count": 10,
     "metadata": {},
     "output_type": "execute_result"
    }
   ],
   "source": [
    "# поищем пропуски\n",
    "df.isna().sum()"
   ]
  },
  {
   "cell_type": "markdown",
   "id": "85bb09c8",
   "metadata": {},
   "source": [
    "Пропуски отсутствуют."
   ]
  },
  {
   "cell_type": "code",
   "execution_count": 11,
   "id": "d07f3839",
   "metadata": {},
   "outputs": [
    {
     "data": {
      "text/plain": [
       "15366"
      ]
     },
     "execution_count": 11,
     "metadata": {},
     "output_type": "execute_result"
    }
   ],
   "source": [
    "# просмотрим каждый столбец.\n",
    "#1 id, уникальность позиций.\n",
    "df['id'].nunique()"
   ]
  },
  {
   "cell_type": "code",
   "execution_count": 12,
   "id": "b986eed5",
   "metadata": {},
   "outputs": [
    {
     "data": {
      "text/plain": [
       "0"
      ]
     },
     "execution_count": 12,
     "metadata": {},
     "output_type": "execute_result"
    }
   ],
   "source": [
    "#1 id, наличие дубликатов(проверка).\n",
    "df['id'].duplicated().sum()"
   ]
  },
  {
   "cell_type": "code",
   "execution_count": 13,
   "id": "8e744216",
   "metadata": {},
   "outputs": [
    {
     "data": {
      "text/plain": [
       "0                       СМЕТАНА\n",
       "1                        Родник\n",
       "2               Кафе «Академия»\n",
       "3                    ПИЦЦЕТОРИЯ\n",
       "4        Кафе «Вишневая метель»\n",
       "                  ...          \n",
       "15361               Шоколадница\n",
       "15362               Шоколадница\n",
       "15363               Шоколадница\n",
       "15364               Шоколадница\n",
       "15365               Шоколадница\n",
       "Name: object_name, Length: 15366, dtype: object"
      ]
     },
     "execution_count": 13,
     "metadata": {},
     "output_type": "execute_result"
    }
   ],
   "source": [
    "#2 object_name - название объекта общественного питания.\n",
    "df['object_name']"
   ]
  },
  {
   "cell_type": "code",
   "execution_count": 14,
   "id": "3256ea17",
   "metadata": {},
   "outputs": [
    {
     "data": {
      "text/plain": [
       "0                       сметана\n",
       "1                        родник\n",
       "2               кафе «академия»\n",
       "3                    пиццетория\n",
       "4        кафе «вишневая метель»\n",
       "                  ...          \n",
       "15361               шоколадница\n",
       "15362               шоколадница\n",
       "15363               шоколадница\n",
       "15364               шоколадница\n",
       "15365               шоколадница\n",
       "Name: object_name, Length: 15366, dtype: object"
      ]
     },
     "execution_count": 14,
     "metadata": {},
     "output_type": "execute_result"
    }
   ],
   "source": [
    "#2 object_name, приведение к нижнему регистру названий для удобства восприятия.\n",
    "df['object_name']=df['object_name'].str.lower()\n",
    "df['object_name']"
   ]
  },
  {
   "cell_type": "code",
   "execution_count": 15,
   "id": "ee3849b5",
   "metadata": {},
   "outputs": [
    {
     "data": {
      "text/plain": [
       "5442"
      ]
     },
     "execution_count": 15,
     "metadata": {},
     "output_type": "execute_result"
    }
   ],
   "source": [
    "#2 object_name, наличие дубликатов.\n",
    "df['object_name'].duplicated().sum()"
   ]
  },
  {
   "cell_type": "code",
   "execution_count": 16,
   "id": "3279b34a",
   "metadata": {},
   "outputs": [
    {
     "data": {
      "text/plain": [
       "9924"
      ]
     },
     "execution_count": 16,
     "metadata": {},
     "output_type": "execute_result"
    }
   ],
   "source": [
    "# удостоверимся в уникальности записей.\n",
    "df['object_name'].nunique()"
   ]
  },
  {
   "cell_type": "markdown",
   "id": "315091bb",
   "metadata": {},
   "source": [
    "В рассмотрении 9 924 уникальных названия заведений общественного питания."
   ]
  },
  {
   "cell_type": "code",
   "execution_count": 17,
   "id": "9eb3a3f3",
   "metadata": {},
   "outputs": [
    {
     "data": {
      "text/plain": [
       "0        нет\n",
       "1        нет\n",
       "2        нет\n",
       "3         да\n",
       "4        нет\n",
       "        ... \n",
       "15361     да\n",
       "15362     да\n",
       "15363     да\n",
       "15364     да\n",
       "15365     да\n",
       "Name: chain, Length: 15366, dtype: object"
      ]
     },
     "execution_count": 17,
     "metadata": {},
     "output_type": "execute_result"
    }
   ],
   "source": [
    "#3 chain - сетевой ресторан.\n",
    "df['chain']"
   ]
  },
  {
   "cell_type": "code",
   "execution_count": 18,
   "id": "429bf436",
   "metadata": {},
   "outputs": [
    {
     "data": {
      "text/plain": [
       "2"
      ]
     },
     "execution_count": 18,
     "metadata": {},
     "output_type": "execute_result"
    }
   ],
   "source": [
    "#3 chain, уникальность позиций.\n",
    "df['chain'].nunique()"
   ]
  },
  {
   "cell_type": "code",
   "execution_count": 19,
   "id": "1245c586",
   "metadata": {},
   "outputs": [
    {
     "data": {
      "text/plain": [
       "0"
      ]
     },
     "execution_count": 19,
     "metadata": {},
     "output_type": "execute_result"
    }
   ],
   "source": [
    "#3 chain, наличие пропусков.\n",
    "df['chain'].isna().sum()"
   ]
  },
  {
   "cell_type": "code",
   "execution_count": 20,
   "id": "2cf67f49",
   "metadata": {},
   "outputs": [
    {
     "data": {
      "text/plain": [
       "0        кафе\n",
       "1        кафе\n",
       "2        кафе\n",
       "3        кафе\n",
       "4        кафе\n",
       "         ... \n",
       "15361    кафе\n",
       "15362    кафе\n",
       "15363    кафе\n",
       "15364    кафе\n",
       "15365    кафе\n",
       "Name: object_type, Length: 15366, dtype: object"
      ]
     },
     "execution_count": 20,
     "metadata": {},
     "output_type": "execute_result"
    }
   ],
   "source": [
    "#4 object_type — тип объекта общественного питания.\n",
    "df['object_type']"
   ]
  },
  {
   "cell_type": "code",
   "execution_count": 21,
   "id": "d474e083",
   "metadata": {},
   "outputs": [
    {
     "data": {
      "text/plain": [
       "кафе                                 6099\n",
       "столовая                             2587\n",
       "ресторан                             2285\n",
       "предприятие быстрого обслуживания    1923\n",
       "бар                                   856\n",
       "буфет                                 585\n",
       "кафетерий                             398\n",
       "закусочная                            360\n",
       "магазин (отдел кулинарии)             273\n",
       "Name: object_type, dtype: int64"
      ]
     },
     "execution_count": 21,
     "metadata": {},
     "output_type": "execute_result"
    }
   ],
   "source": [
    "#4 object_type, уникальность позиций.\n",
    "df['object_type'].value_counts()"
   ]
  },
  {
   "cell_type": "code",
   "execution_count": 22,
   "id": "7be8448b",
   "metadata": {},
   "outputs": [
    {
     "data": {
      "text/plain": [
       "9"
      ]
     },
     "execution_count": 22,
     "metadata": {},
     "output_type": "execute_result"
    }
   ],
   "source": [
    "#4 object_type, удостоверимся в уникальности записей.\n",
    "df['object_type'].nunique()"
   ]
  },
  {
   "cell_type": "code",
   "execution_count": 23,
   "id": "9b7043c4",
   "metadata": {},
   "outputs": [
    {
     "data": {
      "text/plain": [
       "0"
      ]
     },
     "execution_count": 23,
     "metadata": {},
     "output_type": "execute_result"
    }
   ],
   "source": [
    "#4 object_type, наличие пропусков.\n",
    "df['object_type'].isna().sum()"
   ]
  },
  {
   "cell_type": "code",
   "execution_count": 24,
   "id": "a6d10a8d",
   "metadata": {},
   "outputs": [
    {
     "data": {
      "text/plain": [
       "0                                                           город Москва, улица Егора Абакумова, дом 9\n",
       "1                                                    город Москва, улица Талалихина, дом 2/1, корпус 1\n",
       "2                                                            город Москва, Абельмановская улица, дом 6\n",
       "3                                                              город Москва, Абрамцевская улица, дом 1\n",
       "4                                                    город Москва, Абрамцевская улица, дом 9, корпус 1\n",
       "                                                     ...                                              \n",
       "15361                                                     город Москва, 3-й Крутицкий переулок, дом 18\n",
       "15362                                                         город Москва, улица Земляной Вал, дом 33\n",
       "15363                                                         город Москва, улица Земляной Вал, дом 33\n",
       "15364    город Москва, поселение Московский, Киевское шоссе, 22-й километр, домовладение 4, строение 1\n",
       "15365                                                           город Москва, Ходынский бульвар, дом 4\n",
       "Name: address, Length: 15366, dtype: object"
      ]
     },
     "execution_count": 24,
     "metadata": {},
     "output_type": "execute_result"
    }
   ],
   "source": [
    "#5 address — адрес.\n",
    "df['address']"
   ]
  },
  {
   "cell_type": "code",
   "execution_count": 25,
   "id": "b517f0e4",
   "metadata": {},
   "outputs": [
    {
     "data": {
      "text/plain": [
       "9108"
      ]
     },
     "execution_count": 25,
     "metadata": {},
     "output_type": "execute_result"
    }
   ],
   "source": [
    "#4 address, удостоверимся в уникальности записей.\n",
    "df['address'].nunique()"
   ]
  },
  {
   "cell_type": "code",
   "execution_count": 26,
   "id": "3dbae4d3",
   "metadata": {},
   "outputs": [
    {
     "data": {
      "text/plain": [
       "0"
      ]
     },
     "execution_count": 26,
     "metadata": {},
     "output_type": "execute_result"
    }
   ],
   "source": [
    "#4 address, наличие пропусков.\n",
    "df['address'].isna().sum()"
   ]
  },
  {
   "cell_type": "code",
   "execution_count": 27,
   "id": "b0ec5323",
   "metadata": {},
   "outputs": [
    {
     "data": {
      "text/plain": [
       "0      1621\n",
       "40      835\n",
       "20      727\n",
       "30      685\n",
       "10      644\n",
       "       ... \n",
       "229       1\n",
       "356       1\n",
       "481       1\n",
       "167       1\n",
       "119       1\n",
       "Name: number, Length: 315, dtype: int64"
      ]
     },
     "execution_count": 27,
     "metadata": {},
     "output_type": "execute_result"
    }
   ],
   "source": [
    "#6 number — количество посадочных мест.\n",
    "df['number'].value_counts()"
   ]
  },
  {
   "cell_type": "code",
   "execution_count": 28,
   "id": "13e9d728",
   "metadata": {},
   "outputs": [
    {
     "data": {
      "text/plain": [
       "count   15366.00\n",
       "mean       59.55\n",
       "std        74.74\n",
       "min         0.00\n",
       "25%        12.00\n",
       "50%        40.00\n",
       "75%        80.00\n",
       "max      1700.00\n",
       "Name: number, dtype: float64"
      ]
     },
     "execution_count": 28,
     "metadata": {},
     "output_type": "execute_result"
    }
   ],
   "source": [
    "df['number'].describe()"
   ]
  },
  {
   "cell_type": "code",
   "execution_count": 29,
   "id": "6075d239",
   "metadata": {},
   "outputs": [
    {
     "data": {
      "text/html": [
       "<div>\n",
       "<style scoped>\n",
       "    .dataframe tbody tr th:only-of-type {\n",
       "        vertical-align: middle;\n",
       "    }\n",
       "\n",
       "    .dataframe tbody tr th {\n",
       "        vertical-align: top;\n",
       "    }\n",
       "\n",
       "    .dataframe thead th {\n",
       "        text-align: right;\n",
       "    }\n",
       "</style>\n",
       "<table border=\"1\" class=\"dataframe\">\n",
       "  <thead>\n",
       "    <tr style=\"text-align: right;\">\n",
       "      <th></th>\n",
       "      <th>id</th>\n",
       "      <th>object_name</th>\n",
       "      <th>chain</th>\n",
       "      <th>object_type</th>\n",
       "      <th>address</th>\n",
       "      <th>number</th>\n",
       "    </tr>\n",
       "  </thead>\n",
       "  <tbody>\n",
       "    <tr>\n",
       "      <th>12723</th>\n",
       "      <td>199696</td>\n",
       "      <td>arena by soho family</td>\n",
       "      <td>нет</td>\n",
       "      <td>бар</td>\n",
       "      <td>город Москва, Кутузовский проспект, дом 36, строение 11</td>\n",
       "      <td>1700</td>\n",
       "    </tr>\n",
       "  </tbody>\n",
       "</table>\n",
       "</div>"
      ],
      "text/plain": [
       "           id           object_name chain object_type  \\\n",
       "12723  199696  arena by soho family   нет         бар   \n",
       "\n",
       "                                                       address  number  \n",
       "12723  город Москва, Кутузовский проспект, дом 36, строение 11    1700  "
      ]
     },
     "execution_count": 29,
     "metadata": {},
     "output_type": "execute_result"
    }
   ],
   "source": [
    "# самое большое количество посадочных мест\n",
    "df.loc[df['number']==1700]"
   ]
  },
  {
   "cell_type": "code",
   "execution_count": 30,
   "id": "8d751c44",
   "metadata": {},
   "outputs": [
    {
     "data": {
      "text/html": [
       "<div>\n",
       "<style scoped>\n",
       "    .dataframe tbody tr th:only-of-type {\n",
       "        vertical-align: middle;\n",
       "    }\n",
       "\n",
       "    .dataframe tbody tr th {\n",
       "        vertical-align: top;\n",
       "    }\n",
       "\n",
       "    .dataframe thead th {\n",
       "        text-align: right;\n",
       "    }\n",
       "</style>\n",
       "<table border=\"1\" class=\"dataframe\">\n",
       "  <thead>\n",
       "    <tr style=\"text-align: right;\">\n",
       "      <th></th>\n",
       "      <th>id</th>\n",
       "      <th>object_name</th>\n",
       "      <th>chain</th>\n",
       "      <th>object_type</th>\n",
       "      <th>address</th>\n",
       "      <th>number</th>\n",
       "    </tr>\n",
       "  </thead>\n",
       "  <tbody>\n",
       "    <tr>\n",
       "      <th>137</th>\n",
       "      <td>115498</td>\n",
       "      <td>пекарня &amp; донер</td>\n",
       "      <td>нет</td>\n",
       "      <td>закусочная</td>\n",
       "      <td>город Москва, Бутырская улица, дом 9, корпус 2</td>\n",
       "      <td>0</td>\n",
       "    </tr>\n",
       "    <tr>\n",
       "      <th>154</th>\n",
       "      <td>152556</td>\n",
       "      <td>шаурма в пите</td>\n",
       "      <td>нет</td>\n",
       "      <td>предприятие быстрого обслуживания</td>\n",
       "      <td>город Москва, Варшавское шоссе, дом 72, корпус 2</td>\n",
       "      <td>0</td>\n",
       "    </tr>\n",
       "    <tr>\n",
       "      <th>157</th>\n",
       "      <td>149568</td>\n",
       "      <td>суши</td>\n",
       "      <td>нет</td>\n",
       "      <td>предприятие быстрого обслуживания</td>\n",
       "      <td>город Москва, улица Маршала Василевского, дом 3, корпус 1</td>\n",
       "      <td>0</td>\n",
       "    </tr>\n",
       "    <tr>\n",
       "      <th>190</th>\n",
       "      <td>126956</td>\n",
       "      <td>шаурма, куры-гриль</td>\n",
       "      <td>нет</td>\n",
       "      <td>предприятие быстрого обслуживания</td>\n",
       "      <td>город Москва, 1-я Владимирская улица, дом 21</td>\n",
       "      <td>0</td>\n",
       "    </tr>\n",
       "    <tr>\n",
       "      <th>195</th>\n",
       "      <td>149531</td>\n",
       "      <td>шаурма, куры-гриль</td>\n",
       "      <td>нет</td>\n",
       "      <td>предприятие быстрого обслуживания</td>\n",
       "      <td>город Москва, 2-я Владимирская улица, дом 44/10</td>\n",
       "      <td>0</td>\n",
       "    </tr>\n",
       "    <tr>\n",
       "      <th>...</th>\n",
       "      <td>...</td>\n",
       "      <td>...</td>\n",
       "      <td>...</td>\n",
       "      <td>...</td>\n",
       "      <td>...</td>\n",
       "      <td>...</td>\n",
       "    </tr>\n",
       "    <tr>\n",
       "      <th>15334</th>\n",
       "      <td>211228</td>\n",
       "      <td>милти</td>\n",
       "      <td>да</td>\n",
       "      <td>магазин (отдел кулинарии)</td>\n",
       "      <td>город Москва, Дубравная улица, дом 34/29</td>\n",
       "      <td>0</td>\n",
       "    </tr>\n",
       "    <tr>\n",
       "      <th>15335</th>\n",
       "      <td>211221</td>\n",
       "      <td>милти</td>\n",
       "      <td>да</td>\n",
       "      <td>магазин (отдел кулинарии)</td>\n",
       "      <td>город Москва, Пятницкое шоссе, дом 3</td>\n",
       "      <td>0</td>\n",
       "    </tr>\n",
       "    <tr>\n",
       "      <th>15336</th>\n",
       "      <td>211209</td>\n",
       "      <td>готовые блюда милти</td>\n",
       "      <td>да</td>\n",
       "      <td>предприятие быстрого обслуживания</td>\n",
       "      <td>город Москва, Ореховый бульвар, дом 22А</td>\n",
       "      <td>0</td>\n",
       "    </tr>\n",
       "    <tr>\n",
       "      <th>15337</th>\n",
       "      <td>208477</td>\n",
       "      <td>милти</td>\n",
       "      <td>да</td>\n",
       "      <td>предприятие быстрого обслуживания</td>\n",
       "      <td>город Москва, 3-й Крутицкий переулок, дом 18</td>\n",
       "      <td>0</td>\n",
       "    </tr>\n",
       "    <tr>\n",
       "      <th>15338</th>\n",
       "      <td>211201</td>\n",
       "      <td>милти</td>\n",
       "      <td>да</td>\n",
       "      <td>магазин (отдел кулинарии)</td>\n",
       "      <td>город Москва, Новослободская улица, дом 4</td>\n",
       "      <td>0</td>\n",
       "    </tr>\n",
       "  </tbody>\n",
       "</table>\n",
       "<p>1621 rows × 6 columns</p>\n",
       "</div>"
      ],
      "text/plain": [
       "           id          object_name chain                        object_type  \\\n",
       "137    115498      пекарня & донер   нет                         закусочная   \n",
       "154    152556        шаурма в пите   нет  предприятие быстрого обслуживания   \n",
       "157    149568                 суши   нет  предприятие быстрого обслуживания   \n",
       "190    126956   шаурма, куры-гриль   нет  предприятие быстрого обслуживания   \n",
       "195    149531   шаурма, куры-гриль   нет  предприятие быстрого обслуживания   \n",
       "...       ...                  ...   ...                                ...   \n",
       "15334  211228                милти    да          магазин (отдел кулинарии)   \n",
       "15335  211221                милти    да          магазин (отдел кулинарии)   \n",
       "15336  211209  готовые блюда милти    да  предприятие быстрого обслуживания   \n",
       "15337  208477                милти    да  предприятие быстрого обслуживания   \n",
       "15338  211201                милти    да          магазин (отдел кулинарии)   \n",
       "\n",
       "                                                         address  number  \n",
       "137               город Москва, Бутырская улица, дом 9, корпус 2       0  \n",
       "154             город Москва, Варшавское шоссе, дом 72, корпус 2       0  \n",
       "157    город Москва, улица Маршала Василевского, дом 3, корпус 1       0  \n",
       "190                 город Москва, 1-я Владимирская улица, дом 21       0  \n",
       "195              город Москва, 2-я Владимирская улица, дом 44/10       0  \n",
       "...                                                          ...     ...  \n",
       "15334                   город Москва, Дубравная улица, дом 34/29       0  \n",
       "15335                       город Москва, Пятницкое шоссе, дом 3       0  \n",
       "15336                    город Москва, Ореховый бульвар, дом 22А       0  \n",
       "15337               город Москва, 3-й Крутицкий переулок, дом 18       0  \n",
       "15338                  город Москва, Новослободская улица, дом 4       0  \n",
       "\n",
       "[1621 rows x 6 columns]"
      ]
     },
     "execution_count": 30,
     "metadata": {},
     "output_type": "execute_result"
    }
   ],
   "source": [
    "# выявлен нулевой показатель в данном столбце в 1589 случаях\n",
    "df.loc[df['number']==0]"
   ]
  },
  {
   "cell_type": "code",
   "execution_count": 31,
   "id": "f7956c7a",
   "metadata": {},
   "outputs": [
    {
     "data": {
      "text/html": [
       "<div>\n",
       "<style scoped>\n",
       "    .dataframe tbody tr th:only-of-type {\n",
       "        vertical-align: middle;\n",
       "    }\n",
       "\n",
       "    .dataframe tbody tr th {\n",
       "        vertical-align: top;\n",
       "    }\n",
       "\n",
       "    .dataframe thead th {\n",
       "        text-align: right;\n",
       "    }\n",
       "</style>\n",
       "<table border=\"1\" class=\"dataframe\">\n",
       "  <thead>\n",
       "    <tr style=\"text-align: right;\">\n",
       "      <th></th>\n",
       "      <th>id</th>\n",
       "      <th>object_name</th>\n",
       "      <th>chain</th>\n",
       "      <th>object_type</th>\n",
       "      <th>address</th>\n",
       "      <th>number</th>\n",
       "    </tr>\n",
       "  </thead>\n",
       "  <tbody>\n",
       "    <tr>\n",
       "      <th>137</th>\n",
       "      <td>115498</td>\n",
       "      <td>пекарня &amp; донер</td>\n",
       "      <td>нет</td>\n",
       "      <td>закусочная</td>\n",
       "      <td>город Москва, Бутырская улица, дом 9, корпус 2</td>\n",
       "      <td>0</td>\n",
       "    </tr>\n",
       "    <tr>\n",
       "      <th>154</th>\n",
       "      <td>152556</td>\n",
       "      <td>шаурма в пите</td>\n",
       "      <td>нет</td>\n",
       "      <td>предприятие быстрого обслуживания</td>\n",
       "      <td>город Москва, Варшавское шоссе, дом 72, корпус 2</td>\n",
       "      <td>0</td>\n",
       "    </tr>\n",
       "    <tr>\n",
       "      <th>157</th>\n",
       "      <td>149568</td>\n",
       "      <td>суши</td>\n",
       "      <td>нет</td>\n",
       "      <td>предприятие быстрого обслуживания</td>\n",
       "      <td>город Москва, улица Маршала Василевского, дом 3, корпус 1</td>\n",
       "      <td>0</td>\n",
       "    </tr>\n",
       "    <tr>\n",
       "      <th>190</th>\n",
       "      <td>126956</td>\n",
       "      <td>шаурма, куры-гриль</td>\n",
       "      <td>нет</td>\n",
       "      <td>предприятие быстрого обслуживания</td>\n",
       "      <td>город Москва, 1-я Владимирская улица, дом 21</td>\n",
       "      <td>0</td>\n",
       "    </tr>\n",
       "    <tr>\n",
       "      <th>195</th>\n",
       "      <td>149531</td>\n",
       "      <td>шаурма, куры-гриль</td>\n",
       "      <td>нет</td>\n",
       "      <td>предприятие быстрого обслуживания</td>\n",
       "      <td>город Москва, 2-я Владимирская улица, дом 44/10</td>\n",
       "      <td>0</td>\n",
       "    </tr>\n",
       "    <tr>\n",
       "      <th>...</th>\n",
       "      <td>...</td>\n",
       "      <td>...</td>\n",
       "      <td>...</td>\n",
       "      <td>...</td>\n",
       "      <td>...</td>\n",
       "      <td>...</td>\n",
       "    </tr>\n",
       "    <tr>\n",
       "      <th>15334</th>\n",
       "      <td>211228</td>\n",
       "      <td>милти</td>\n",
       "      <td>да</td>\n",
       "      <td>магазин (отдел кулинарии)</td>\n",
       "      <td>город Москва, Дубравная улица, дом 34/29</td>\n",
       "      <td>0</td>\n",
       "    </tr>\n",
       "    <tr>\n",
       "      <th>15335</th>\n",
       "      <td>211221</td>\n",
       "      <td>милти</td>\n",
       "      <td>да</td>\n",
       "      <td>магазин (отдел кулинарии)</td>\n",
       "      <td>город Москва, Пятницкое шоссе, дом 3</td>\n",
       "      <td>0</td>\n",
       "    </tr>\n",
       "    <tr>\n",
       "      <th>15336</th>\n",
       "      <td>211209</td>\n",
       "      <td>готовые блюда милти</td>\n",
       "      <td>да</td>\n",
       "      <td>предприятие быстрого обслуживания</td>\n",
       "      <td>город Москва, Ореховый бульвар, дом 22А</td>\n",
       "      <td>0</td>\n",
       "    </tr>\n",
       "    <tr>\n",
       "      <th>15337</th>\n",
       "      <td>208477</td>\n",
       "      <td>милти</td>\n",
       "      <td>да</td>\n",
       "      <td>предприятие быстрого обслуживания</td>\n",
       "      <td>город Москва, 3-й Крутицкий переулок, дом 18</td>\n",
       "      <td>0</td>\n",
       "    </tr>\n",
       "    <tr>\n",
       "      <th>15338</th>\n",
       "      <td>211201</td>\n",
       "      <td>милти</td>\n",
       "      <td>да</td>\n",
       "      <td>магазин (отдел кулинарии)</td>\n",
       "      <td>город Москва, Новослободская улица, дом 4</td>\n",
       "      <td>0</td>\n",
       "    </tr>\n",
       "  </tbody>\n",
       "</table>\n",
       "<p>1621 rows × 6 columns</p>\n",
       "</div>"
      ],
      "text/plain": [
       "           id          object_name chain                        object_type  \\\n",
       "137    115498      пекарня & донер   нет                         закусочная   \n",
       "154    152556        шаурма в пите   нет  предприятие быстрого обслуживания   \n",
       "157    149568                 суши   нет  предприятие быстрого обслуживания   \n",
       "190    126956   шаурма, куры-гриль   нет  предприятие быстрого обслуживания   \n",
       "195    149531   шаурма, куры-гриль   нет  предприятие быстрого обслуживания   \n",
       "...       ...                  ...   ...                                ...   \n",
       "15334  211228                милти    да          магазин (отдел кулинарии)   \n",
       "15335  211221                милти    да          магазин (отдел кулинарии)   \n",
       "15336  211209  готовые блюда милти    да  предприятие быстрого обслуживания   \n",
       "15337  208477                милти    да  предприятие быстрого обслуживания   \n",
       "15338  211201                милти    да          магазин (отдел кулинарии)   \n",
       "\n",
       "                                                         address  number  \n",
       "137               город Москва, Бутырская улица, дом 9, корпус 2       0  \n",
       "154             город Москва, Варшавское шоссе, дом 72, корпус 2       0  \n",
       "157    город Москва, улица Маршала Василевского, дом 3, корпус 1       0  \n",
       "190                 город Москва, 1-я Владимирская улица, дом 21       0  \n",
       "195              город Москва, 2-я Владимирская улица, дом 44/10       0  \n",
       "...                                                          ...     ...  \n",
       "15334                   город Москва, Дубравная улица, дом 34/29       0  \n",
       "15335                       город Москва, Пятницкое шоссе, дом 3       0  \n",
       "15336                    город Москва, Ореховый бульвар, дом 22А       0  \n",
       "15337               город Москва, 3-й Крутицкий переулок, дом 18       0  \n",
       "15338                  город Москва, Новослободская улица, дом 4       0  \n",
       "\n",
       "[1621 rows x 6 columns]"
      ]
     },
     "execution_count": 31,
     "metadata": {},
     "output_type": "execute_result"
    }
   ],
   "source": [
    "# сформирую датафрейм с нулевым показателем\n",
    "df_zero=df.query('number==0')\n",
    "df_zero"
   ]
  },
  {
   "cell_type": "code",
   "execution_count": 32,
   "id": "5d563228",
   "metadata": {},
   "outputs": [
    {
     "data": {
      "text/plain": [
       "object_type\n",
       "предприятие быстрого обслуживания    704\n",
       "кафе                                 310\n",
       "закусочная                           189\n",
       "магазин (отдел кулинарии)            145\n",
       "кафетерий                            113\n",
       "буфет                                 68\n",
       "ресторан                              45\n",
       "бар                                   28\n",
       "столовая                              19\n",
       "Name: number, dtype: int64"
      ]
     },
     "execution_count": 32,
     "metadata": {},
     "output_type": "execute_result"
    }
   ],
   "source": [
    "# поищем подробности, сгруппирую по типу предприятия\n",
    "df_zero_1=df_zero.groupby(['object_type'])['number'].count().sort_values(ascending=False)\n",
    "df_zero_1"
   ]
  },
  {
   "cell_type": "markdown",
   "id": "c8af24bb",
   "metadata": {},
   "source": [
    "Чаще всего нулевая отметка стоит у 'предприятие быстрого обслуживания'."
   ]
  },
  {
   "cell_type": "code",
   "execution_count": 33,
   "id": "de09bf2f",
   "metadata": {},
   "outputs": [
    {
     "data": {
      "text/plain": [
       "object_name\n",
       "шаурма                205\n",
       "милти                  57\n",
       "пекарня                42\n",
       "кофе с собой           35\n",
       "донер кебаб            28\n",
       "                     ... \n",
       "да, еда                 1\n",
       "дагестанская лавка      1\n",
       "дагестанские лави       1\n",
       "дай краба               1\n",
       "ёбидоёби                1\n",
       "Name: number, Length: 843, dtype: int64"
      ]
     },
     "execution_count": 33,
     "metadata": {},
     "output_type": "execute_result"
    }
   ],
   "source": [
    "# поищем подробности, сгруппирую по наименованию предприятия\n",
    "df_zero_2=df_zero.groupby(['object_name'])['number'].count().sort_values(ascending=False)\n",
    "df_zero_2"
   ]
  },
  {
   "cell_type": "markdown",
   "id": "86d7b861",
   "metadata": {},
   "source": [
    "При группировке по наименованию - группа лидеров: шаурма, милти, пекарня, кофе с собой, донер кебаб. И кстати, именно в этом случае можно и согласиться, так как посетители могут, стоя ждать. Эти заведения действительно не имеют посадочных мест, по причине того, что представляют собой киоски, \"островки\" в торговых центрах или просто работают только на вынос."
   ]
  },
  {
   "cell_type": "markdown",
   "id": "abc48642",
   "metadata": {},
   "source": [
    "### Первичное знакомство с данными, проведённые подготовительные операции.\n",
    "\n",
    "1. Исследуем датафрейм, в составе которого 15366 строк и 6 колонок.\n",
    "\n",
    "**Описание данных:**\n",
    "\n",
    "id — идентификатор объекта; int64. Замена типа данных не требуется. Все значения уникальны. Пропуски отсутствуют. Замена регистра не требуется.\n",
    "\n",
    "object_name — название объекта общественного питания; object. Замена типа данных не требуется. Значения неуникальны, однако полных дублей нет. Пропуски отсутствуют. Приведение к нижнему регистру названий для удобства восприятия.\n",
    "\n",
    "chain — сетевой ресторан; object. Замена типа данных не требуется. Присутствует только 2 вида значений, что соответствует условиям. Пропуски отсутствуют. \n",
    "\n",
    "object_type — тип объекта общественного питания; object. Замена типа данных не требуется. Замена регистра не требуется. Присутствует только 9 видов значений, полностью уникальных. Пропуски отсутствуют. \n",
    "\n",
    "address — адрес; object. Замена типа данных не требуется. Замена регистра не требуется. Создан датафрейм, подтвердивший отсутствие полных дублей, несмотря на неполную уникальность адресов. Пропуски отсутствуют. \n",
    "\n",
    "number — количество посадочных мест, int64. Замена типа данных не требуется. Пропуски отсутствуют. \n",
    "\n",
    "2. Создана копия данных для работы - df.\n",
    "\n",
    "3. Анализируются 9 924 уникальных заведения, часть из которых имеет подразделения в разных частях города; 9 типов предприятий общественного питания: кафе,столовая, ресторан, предприятие быстрого обслуживания, бар, буфет, кафетерий, закусочная, магазин (отдел кулинарии). \n",
    "\n",
    "**Рестора́н** — предприятие общественного питания с широким ассортиментом блюд сложного приготовления, включая заказные и фирменные.\n",
    "\n",
    "**Кафе** - заведение общественного питания и отдыха, похожее на небольшой ресторан, но с ограниченным по сравнению с рестораном ассортиментом продукции, также, возможно, — с самообслуживанием.\n",
    "\n",
    "**Кафете́рий** — небольшое кафе с ограниченным ассортиментом блюд, работающее по системе самообслуживания. Кафетерий является одним из видов предприятия общественного питания с минимальным количеством обслуживающего персонала, «столовым сервисом» — оборудованный столиками и стульями, расположенный в здании офиса, на территории колледжа, института или какого-либо другого учреждения.\n",
    "\n",
    "**Буфе́т** — предприятие общественного питания, расположенное в жилых или общественных зданиях, реализующее ограниченный ассортимент продукции из полуфабрикатов высокой степени готовности, холодные блюда, закуски, горячие, сладкие блюда несложного изготовления, мучные кулинарные, булочные и кондитерские изделия, а также покупные товары с возможностью съесть их непосредственно в месте приобретения.\n",
    "\n",
    "**Столо́вая** — предприятие общественного питания. Все блюда в столовых готовят заранее, а не по индивидуальному заказу как в ресторане. Распространённой формой обслуживания посетителей является самообслуживание. Специализированные столовые открыты по месту учёбы, работы, службы, лечения или отдыха людей.\n",
    "\n",
    "**Бар** — предприятие общественного питания, оборудованное барной стойкой и реализующее в зависимости от специализации алкогольные и (или) безалкогольные напитки, горячие и прохладительные напитки, коктейли, холодные и горячие закуски и блюда в ограниченном ассортименте, покупные товары.\n",
    "\n",
    "**Заку́сочная** — в общественном питании предприятие быстрого обслуживания. Имеет ограниченный ассортимент блюд несложного приготовления. По ассортименту реализуемой продукции закусочные бывают общего типа и специализированные. Специализированными закусочными являются сосисочная, пельменная, блинная, пирожковая, пончиковая, шашлычная, чебуречная, чайная, пиццерия, гамбургерная.\n",
    "\n",
    "**Магазин кулинарии** — предприятие общественного питания, имеющее собственное кулинарное производство и реализующее потребителям кулинарные изделия, полуфабрикаты, мучные булочные и кондитерские изделия и покупные продовольственные товары.\n",
    "\n",
    "Источник: https://ru.wikipedia.org/\n",
    "\n",
    "**Предприятие быстрого обслуживания** - предприятие общественного питания, реализующее узкий ассортимент блюд, изделий, напитков несложного изготовления, как правило, из полуфабрикатов высокой степени готовности, и обеспечивающее минимальные затраты времени на обслуживание потребителей.(http://www.consultant.ru/document/cons_doc_LAW_135474/53a2c9fb24fa23a594c4eb96dac214ef0d67e48f/)\n",
    "\n",
    "5. При анализе данных о посадочных местах выявлены нулевые показатели. Сформирован датафрейм df_zero, позволивший установить: чаще всего нулевая отметка стоит у 'предприятие быстрого обслуживания'. При группировке по наименованию - группа лидеров: **шаурма, милти, пекарня, кофе с собой, донер кебаб**.ти заведения действительно не имеют посадочных мест, по причине того, что представляют собой киоски, \"островки\" в торговых центрах или просто работают только на вынос.\n",
    "\n",
    "В среднем количество мест - 60. Самое большое количество посадочных мест - arena by soho family\tна Кутузовском проспекте-1700."
   ]
  },
  {
   "cell_type": "markdown",
   "id": "303198b3",
   "metadata": {},
   "source": [
    "## Шаг №2. Анализ данных.\n",
    "### Исследование соотношения видов объектов общественного питания по количеству. Построение графика."
   ]
  },
  {
   "cell_type": "code",
   "execution_count": 34,
   "id": "4ea4ec47",
   "metadata": {},
   "outputs": [
    {
     "data": {
      "text/html": [
       "<div>\n",
       "<style scoped>\n",
       "    .dataframe tbody tr th:only-of-type {\n",
       "        vertical-align: middle;\n",
       "    }\n",
       "\n",
       "    .dataframe tbody tr th {\n",
       "        vertical-align: top;\n",
       "    }\n",
       "\n",
       "    .dataframe thead th {\n",
       "        text-align: right;\n",
       "    }\n",
       "</style>\n",
       "<table border=\"1\" class=\"dataframe\">\n",
       "  <thead>\n",
       "    <tr style=\"text-align: right;\">\n",
       "      <th></th>\n",
       "      <th>id</th>\n",
       "      <th>object_name</th>\n",
       "      <th>chain</th>\n",
       "      <th>object_type</th>\n",
       "      <th>address</th>\n",
       "      <th>number</th>\n",
       "    </tr>\n",
       "  </thead>\n",
       "  <tbody>\n",
       "    <tr>\n",
       "      <th>0</th>\n",
       "      <td>151635</td>\n",
       "      <td>сметана</td>\n",
       "      <td>нет</td>\n",
       "      <td>кафе</td>\n",
       "      <td>город Москва, улица Егора Абакумова, дом 9</td>\n",
       "      <td>48</td>\n",
       "    </tr>\n",
       "    <tr>\n",
       "      <th>1</th>\n",
       "      <td>77874</td>\n",
       "      <td>родник</td>\n",
       "      <td>нет</td>\n",
       "      <td>кафе</td>\n",
       "      <td>город Москва, улица Талалихина, дом 2/1, корпус 1</td>\n",
       "      <td>35</td>\n",
       "    </tr>\n",
       "    <tr>\n",
       "      <th>2</th>\n",
       "      <td>24309</td>\n",
       "      <td>кафе «академия»</td>\n",
       "      <td>нет</td>\n",
       "      <td>кафе</td>\n",
       "      <td>город Москва, Абельмановская улица, дом 6</td>\n",
       "      <td>95</td>\n",
       "    </tr>\n",
       "    <tr>\n",
       "      <th>3</th>\n",
       "      <td>21894</td>\n",
       "      <td>пиццетория</td>\n",
       "      <td>да</td>\n",
       "      <td>кафе</td>\n",
       "      <td>город Москва, Абрамцевская улица, дом 1</td>\n",
       "      <td>40</td>\n",
       "    </tr>\n",
       "    <tr>\n",
       "      <th>4</th>\n",
       "      <td>119365</td>\n",
       "      <td>кафе «вишневая метель»</td>\n",
       "      <td>нет</td>\n",
       "      <td>кафе</td>\n",
       "      <td>город Москва, Абрамцевская улица, дом 9, корпус 1</td>\n",
       "      <td>50</td>\n",
       "    </tr>\n",
       "  </tbody>\n",
       "</table>\n",
       "</div>"
      ],
      "text/plain": [
       "       id             object_name chain object_type  \\\n",
       "0  151635                 сметана   нет        кафе   \n",
       "1   77874                  родник   нет        кафе   \n",
       "2   24309         кафе «академия»   нет        кафе   \n",
       "3   21894              пиццетория    да        кафе   \n",
       "4  119365  кафе «вишневая метель»   нет        кафе   \n",
       "\n",
       "                                             address  number  \n",
       "0         город Москва, улица Егора Абакумова, дом 9      48  \n",
       "1  город Москва, улица Талалихина, дом 2/1, корпус 1      35  \n",
       "2          город Москва, Абельмановская улица, дом 6      95  \n",
       "3            город Москва, Абрамцевская улица, дом 1      40  \n",
       "4  город Москва, Абрамцевская улица, дом 9, корпус 1      50  "
      ]
     },
     "execution_count": 34,
     "metadata": {},
     "output_type": "execute_result"
    }
   ],
   "source": [
    "df.head()"
   ]
  },
  {
   "cell_type": "code",
   "execution_count": 35,
   "id": "a2f66159",
   "metadata": {},
   "outputs": [
    {
     "data": {
      "text/html": [
       "<div>\n",
       "<style scoped>\n",
       "    .dataframe tbody tr th:only-of-type {\n",
       "        vertical-align: middle;\n",
       "    }\n",
       "\n",
       "    .dataframe tbody tr th {\n",
       "        vertical-align: top;\n",
       "    }\n",
       "\n",
       "    .dataframe thead th {\n",
       "        text-align: right;\n",
       "    }\n",
       "</style>\n",
       "<table border=\"1\" class=\"dataframe\">\n",
       "  <thead>\n",
       "    <tr style=\"text-align: right;\">\n",
       "      <th></th>\n",
       "      <th>id</th>\n",
       "    </tr>\n",
       "    <tr>\n",
       "      <th>object_type</th>\n",
       "      <th></th>\n",
       "    </tr>\n",
       "  </thead>\n",
       "  <tbody>\n",
       "    <tr>\n",
       "      <th>магазин (отдел кулинарии)</th>\n",
       "      <td>273</td>\n",
       "    </tr>\n",
       "    <tr>\n",
       "      <th>закусочная</th>\n",
       "      <td>360</td>\n",
       "    </tr>\n",
       "    <tr>\n",
       "      <th>кафетерий</th>\n",
       "      <td>398</td>\n",
       "    </tr>\n",
       "    <tr>\n",
       "      <th>буфет</th>\n",
       "      <td>585</td>\n",
       "    </tr>\n",
       "    <tr>\n",
       "      <th>бар</th>\n",
       "      <td>856</td>\n",
       "    </tr>\n",
       "    <tr>\n",
       "      <th>предприятие быстрого обслуживания</th>\n",
       "      <td>1923</td>\n",
       "    </tr>\n",
       "    <tr>\n",
       "      <th>ресторан</th>\n",
       "      <td>2285</td>\n",
       "    </tr>\n",
       "    <tr>\n",
       "      <th>столовая</th>\n",
       "      <td>2587</td>\n",
       "    </tr>\n",
       "    <tr>\n",
       "      <th>кафе</th>\n",
       "      <td>6099</td>\n",
       "    </tr>\n",
       "  </tbody>\n",
       "</table>\n",
       "</div>"
      ],
      "text/plain": [
       "                                     id\n",
       "object_type                            \n",
       "магазин (отдел кулинарии)           273\n",
       "закусочная                          360\n",
       "кафетерий                           398\n",
       "буфет                               585\n",
       "бар                                 856\n",
       "предприятие быстрого обслуживания  1923\n",
       "ресторан                           2285\n",
       "столовая                           2587\n",
       "кафе                               6099"
      ]
     },
     "execution_count": 35,
     "metadata": {},
     "output_type": "execute_result"
    }
   ],
   "source": [
    "# найдём количество заведений каждого вида\n",
    "df.pivot_table(index='object_type', values='id',aggfunc='count').sort_values(by='id')"
   ]
  },
  {
   "cell_type": "code",
   "execution_count": 36,
   "id": "f2000cf4",
   "metadata": {},
   "outputs": [
    {
     "data": {
      "image/png": "[encoded data removed]",
      "text/plain": [
       "<Figure size 432x288 with 1 Axes>"
      ]
     },
     "metadata": {
      "needs_background": "light"
     },
     "output_type": "display_data"
    }
   ],
   "source": [
    "# визуализация\n",
    "df.pivot_table(index='object_type', values='id',aggfunc='count').sort_values(by='id').plot.barh(rot=45);\n",
    "plt.title('Количество заведений в каждом виде');\n",
    "plt.xlabel('количество');\n",
    "plt.ylabel('вид');\n",
    "plt.yticks(rotation=0,fontsize=12);"
   ]
  },
  {
   "cell_type": "markdown",
   "id": "d07c17c3",
   "metadata": {},
   "source": [
    "Наиболее распространённый вид заведения - кафе, далее следуют столовые и рестораны. Наименьшая доля приходится на кулинарные отделы магазинов."
   ]
  },
  {
   "cell_type": "markdown",
   "id": "e3c640e4",
   "metadata": {},
   "source": [
    "#### Вывод исследования соотношения видов объектов общественного питания по количеству.\n",
    "Наиболее распространённый вид заведения - кафе, далее следуют столовые и рестораны. Наименьшая доля приходится на кулинарные отделы магазинов."
   ]
  },
  {
   "cell_type": "markdown",
   "id": "c2b8c016",
   "metadata": {},
   "source": [
    "### Исследование соотношения сетевых и несетевых заведений по количеству. Построение графика."
   ]
  },
  {
   "cell_type": "code",
   "execution_count": 37,
   "id": "c023ad5f",
   "metadata": {},
   "outputs": [
    {
     "data": {
      "text/html": [
       "<div>\n",
       "<style scoped>\n",
       "    .dataframe tbody tr th:only-of-type {\n",
       "        vertical-align: middle;\n",
       "    }\n",
       "\n",
       "    .dataframe tbody tr th {\n",
       "        vertical-align: top;\n",
       "    }\n",
       "\n",
       "    .dataframe thead th {\n",
       "        text-align: right;\n",
       "    }\n",
       "</style>\n",
       "<table border=\"1\" class=\"dataframe\">\n",
       "  <thead>\n",
       "    <tr style=\"text-align: right;\">\n",
       "      <th></th>\n",
       "      <th>id</th>\n",
       "      <th>object_name</th>\n",
       "      <th>chain</th>\n",
       "      <th>object_type</th>\n",
       "      <th>address</th>\n",
       "      <th>number</th>\n",
       "    </tr>\n",
       "  </thead>\n",
       "  <tbody>\n",
       "    <tr>\n",
       "      <th>0</th>\n",
       "      <td>151635</td>\n",
       "      <td>сметана</td>\n",
       "      <td>несетевое заведение</td>\n",
       "      <td>кафе</td>\n",
       "      <td>город Москва, улица Егора Абакумова, дом 9</td>\n",
       "      <td>48</td>\n",
       "    </tr>\n",
       "    <tr>\n",
       "      <th>1</th>\n",
       "      <td>77874</td>\n",
       "      <td>родник</td>\n",
       "      <td>несетевое заведение</td>\n",
       "      <td>кафе</td>\n",
       "      <td>город Москва, улица Талалихина, дом 2/1, корпус 1</td>\n",
       "      <td>35</td>\n",
       "    </tr>\n",
       "    <tr>\n",
       "      <th>2</th>\n",
       "      <td>24309</td>\n",
       "      <td>кафе «академия»</td>\n",
       "      <td>несетевое заведение</td>\n",
       "      <td>кафе</td>\n",
       "      <td>город Москва, Абельмановская улица, дом 6</td>\n",
       "      <td>95</td>\n",
       "    </tr>\n",
       "    <tr>\n",
       "      <th>3</th>\n",
       "      <td>21894</td>\n",
       "      <td>пиццетория</td>\n",
       "      <td>сетевое заведение</td>\n",
       "      <td>кафе</td>\n",
       "      <td>город Москва, Абрамцевская улица, дом 1</td>\n",
       "      <td>40</td>\n",
       "    </tr>\n",
       "    <tr>\n",
       "      <th>4</th>\n",
       "      <td>119365</td>\n",
       "      <td>кафе «вишневая метель»</td>\n",
       "      <td>несетевое заведение</td>\n",
       "      <td>кафе</td>\n",
       "      <td>город Москва, Абрамцевская улица, дом 9, корпус 1</td>\n",
       "      <td>50</td>\n",
       "    </tr>\n",
       "  </tbody>\n",
       "</table>\n",
       "</div>"
      ],
      "text/plain": [
       "       id             object_name                chain object_type  \\\n",
       "0  151635                 сметана  несетевое заведение        кафе   \n",
       "1   77874                  родник  несетевое заведение        кафе   \n",
       "2   24309         кафе «академия»  несетевое заведение        кафе   \n",
       "3   21894              пиццетория    сетевое заведение        кафе   \n",
       "4  119365  кафе «вишневая метель»  несетевое заведение        кафе   \n",
       "\n",
       "                                             address  number  \n",
       "0         город Москва, улица Егора Абакумова, дом 9      48  \n",
       "1  город Москва, улица Талалихина, дом 2/1, корпус 1      35  \n",
       "2          город Москва, Абельмановская улица, дом 6      95  \n",
       "3            город Москва, Абрамцевская улица, дом 1      40  \n",
       "4  город Москва, Абрамцевская улица, дом 9, корпус 1      50  "
      ]
     },
     "execution_count": 37,
     "metadata": {},
     "output_type": "execute_result"
    }
   ],
   "source": [
    "# произведу замену, чтобы облегчить отражение на графике\n",
    "df.loc[df['chain'] == 'нет', 'chain'] = 'несетевое заведение'\n",
    "df.loc[df['chain'] == 'да', 'chain'] = 'сетевое заведение'\n",
    "df.head()"
   ]
  },
  {
   "cell_type": "code",
   "execution_count": 38,
   "id": "91d731e5",
   "metadata": {},
   "outputs": [
    {
     "data": {
      "text/plain": [
       "chain\n",
       "несетевое заведение    12398\n",
       "сетевое заведение       2968\n",
       "Name: chain, dtype: int64"
      ]
     },
     "execution_count": 38,
     "metadata": {},
     "output_type": "execute_result"
    }
   ],
   "source": [
    "# посмотрим соотношение сетевых и несетевых заведений\n",
    "df_chain = df.groupby('chain')['chain'].count()\n",
    "df_chain"
   ]
  },
  {
   "cell_type": "code",
   "execution_count": 39,
   "id": "929025dd",
   "metadata": {},
   "outputs": [
    {
     "data": {
      "text/html": [
       "<style type=\"text/css\">\n",
       "</style>\n",
       "<table id=\"T_c2066_\">\n",
       "  <thead>\n",
       "    <tr>\n",
       "      <th class=\"blank level0\" >&nbsp;</th>\n",
       "      <th class=\"col_heading level0 col0\" >0</th>\n",
       "    </tr>\n",
       "    <tr>\n",
       "      <th class=\"index_name level0\" >chain</th>\n",
       "      <th class=\"blank col0\" >&nbsp;</th>\n",
       "    </tr>\n",
       "  </thead>\n",
       "  <tbody>\n",
       "    <tr>\n",
       "      <th id=\"T_c2066_level0_row0\" class=\"row_heading level0 row0\" >несетевое заведение</th>\n",
       "      <td id=\"T_c2066_row0_col0\" class=\"data row0 col0\" >81%</td>\n",
       "    </tr>\n",
       "    <tr>\n",
       "      <th id=\"T_c2066_level0_row1\" class=\"row_heading level0 row1\" >сетевое заведение</th>\n",
       "      <td id=\"T_c2066_row1_col0\" class=\"data row1 col0\" >19%</td>\n",
       "    </tr>\n",
       "  </tbody>\n",
       "</table>\n"
      ],
      "text/plain": [
       "<pandas.io.formats.style.Styler at 0x22521b53ac0>"
      ]
     },
     "execution_count": 39,
     "metadata": {},
     "output_type": "execute_result"
    }
   ],
   "source": [
    "(df.groupby(df['chain']).size()/len(df['chain'])).to_frame().style.format('{:.0%}')"
   ]
  },
  {
   "cell_type": "code",
   "execution_count": 40,
   "id": "327710ad",
   "metadata": {},
   "outputs": [
    {
     "data": {
      "image/png": "[encoded data removed]",
      "text/plain": [
       "<Figure size 504x504 with 1 Axes>"
      ]
     },
     "metadata": {},
     "output_type": "display_data"
    }
   ],
   "source": [
    "# визуализация\n",
    "df_chain.plot(y='id', kind='pie', figsize=(7, 7),autopct='%1.0f%%');\n",
    "plt.title('Сравнение по количеству сетевых и несетевых заведений');"
   ]
  },
  {
   "cell_type": "markdown",
   "id": "2498396a",
   "metadata": {},
   "source": [
    "#### Вывод исследования соотношения сетевых и несетевых заведений по количеству.\n",
    "\n",
    "В подавляющем числе случаев заведения являются несетевыми."
   ]
  },
  {
   "cell_type": "markdown",
   "id": "90efcfcf",
   "metadata": {},
   "source": [
    "### Для какого вида объекта общественного питания характерно сетевое распространение?"
   ]
  },
  {
   "cell_type": "code",
   "execution_count": 41,
   "id": "df4c55d5",
   "metadata": {},
   "outputs": [
    {
     "data": {
      "text/html": [
       "<div>\n",
       "<style scoped>\n",
       "    .dataframe tbody tr th:only-of-type {\n",
       "        vertical-align: middle;\n",
       "    }\n",
       "\n",
       "    .dataframe tbody tr th {\n",
       "        vertical-align: top;\n",
       "    }\n",
       "\n",
       "    .dataframe thead tr th {\n",
       "        text-align: left;\n",
       "    }\n",
       "\n",
       "    .dataframe thead tr:last-of-type th {\n",
       "        text-align: right;\n",
       "    }\n",
       "</style>\n",
       "<table border=\"1\" class=\"dataframe\">\n",
       "  <thead>\n",
       "    <tr>\n",
       "      <th></th>\n",
       "      <th colspan=\"2\" halign=\"left\">count</th>\n",
       "    </tr>\n",
       "    <tr>\n",
       "      <th>chain</th>\n",
       "      <th>несетевое заведение</th>\n",
       "      <th>сетевое заведение</th>\n",
       "    </tr>\n",
       "    <tr>\n",
       "      <th>object_type</th>\n",
       "      <th></th>\n",
       "      <th></th>\n",
       "    </tr>\n",
       "  </thead>\n",
       "  <tbody>\n",
       "    <tr>\n",
       "      <th>бар</th>\n",
       "      <td>819</td>\n",
       "      <td>37</td>\n",
       "    </tr>\n",
       "    <tr>\n",
       "      <th>буфет</th>\n",
       "      <td>574</td>\n",
       "      <td>11</td>\n",
       "    </tr>\n",
       "    <tr>\n",
       "      <th>закусочная</th>\n",
       "      <td>304</td>\n",
       "      <td>56</td>\n",
       "    </tr>\n",
       "    <tr>\n",
       "      <th>кафе</th>\n",
       "      <td>4703</td>\n",
       "      <td>1396</td>\n",
       "    </tr>\n",
       "    <tr>\n",
       "      <th>кафетерий</th>\n",
       "      <td>346</td>\n",
       "      <td>52</td>\n",
       "    </tr>\n",
       "    <tr>\n",
       "      <th>магазин (отдел кулинарии)</th>\n",
       "      <td>195</td>\n",
       "      <td>78</td>\n",
       "    </tr>\n",
       "    <tr>\n",
       "      <th>предприятие быстрого обслуживания</th>\n",
       "      <td>1132</td>\n",
       "      <td>791</td>\n",
       "    </tr>\n",
       "    <tr>\n",
       "      <th>ресторан</th>\n",
       "      <td>1741</td>\n",
       "      <td>544</td>\n",
       "    </tr>\n",
       "    <tr>\n",
       "      <th>столовая</th>\n",
       "      <td>2584</td>\n",
       "      <td>3</td>\n",
       "    </tr>\n",
       "  </tbody>\n",
       "</table>\n",
       "</div>"
      ],
      "text/plain": [
       "                                                count                  \n",
       "chain                             несетевое заведение сетевое заведение\n",
       "object_type                                                            \n",
       "бар                                               819                37\n",
       "буфет                                             574                11\n",
       "закусочная                                        304                56\n",
       "кафе                                             4703              1396\n",
       "кафетерий                                         346                52\n",
       "магазин (отдел кулинарии)                         195                78\n",
       "предприятие быстрого обслуживания                1132               791\n",
       "ресторан                                         1741               544\n",
       "столовая                                         2584                 3"
      ]
     },
     "execution_count": 41,
     "metadata": {},
     "output_type": "execute_result"
    }
   ],
   "source": [
    "# посмотрим соотношение видов сетевых и несетевых заведений\n",
    "df_chain_1 = df.pivot_table(index = 'object_type', columns='chain', values = 'id',aggfunc=['count'])\n",
    "df_chain_1"
   ]
  },
  {
   "cell_type": "code",
   "execution_count": 42,
   "id": "ec23e159",
   "metadata": {},
   "outputs": [
    {
     "data": {
      "text/html": [
       "<div>\n",
       "<style scoped>\n",
       "    .dataframe tbody tr th:only-of-type {\n",
       "        vertical-align: middle;\n",
       "    }\n",
       "\n",
       "    .dataframe tbody tr th {\n",
       "        vertical-align: top;\n",
       "    }\n",
       "\n",
       "    .dataframe thead th {\n",
       "        text-align: right;\n",
       "    }\n",
       "</style>\n",
       "<table border=\"1\" class=\"dataframe\">\n",
       "  <thead>\n",
       "    <tr style=\"text-align: right;\">\n",
       "      <th></th>\n",
       "      <th>несетевое заведение</th>\n",
       "      <th>сетевое заведение</th>\n",
       "      <th>всего</th>\n",
       "      <th>доля_несетевых_заведений</th>\n",
       "      <th>доля_сетевых_заведений</th>\n",
       "    </tr>\n",
       "    <tr>\n",
       "      <th>object_type</th>\n",
       "      <th></th>\n",
       "      <th></th>\n",
       "      <th></th>\n",
       "      <th></th>\n",
       "      <th></th>\n",
       "    </tr>\n",
       "  </thead>\n",
       "  <tbody>\n",
       "    <tr>\n",
       "      <th>предприятие быстрого обслуживания</th>\n",
       "      <td>1132</td>\n",
       "      <td>791</td>\n",
       "      <td>1923</td>\n",
       "      <td>0.59</td>\n",
       "      <td>0.41</td>\n",
       "    </tr>\n",
       "    <tr>\n",
       "      <th>магазин (отдел кулинарии)</th>\n",
       "      <td>195</td>\n",
       "      <td>78</td>\n",
       "      <td>273</td>\n",
       "      <td>0.71</td>\n",
       "      <td>0.29</td>\n",
       "    </tr>\n",
       "    <tr>\n",
       "      <th>ресторан</th>\n",
       "      <td>1741</td>\n",
       "      <td>544</td>\n",
       "      <td>2285</td>\n",
       "      <td>0.76</td>\n",
       "      <td>0.24</td>\n",
       "    </tr>\n",
       "    <tr>\n",
       "      <th>кафе</th>\n",
       "      <td>4703</td>\n",
       "      <td>1396</td>\n",
       "      <td>6099</td>\n",
       "      <td>0.77</td>\n",
       "      <td>0.23</td>\n",
       "    </tr>\n",
       "    <tr>\n",
       "      <th>закусочная</th>\n",
       "      <td>304</td>\n",
       "      <td>56</td>\n",
       "      <td>360</td>\n",
       "      <td>0.84</td>\n",
       "      <td>0.16</td>\n",
       "    </tr>\n",
       "    <tr>\n",
       "      <th>кафетерий</th>\n",
       "      <td>346</td>\n",
       "      <td>52</td>\n",
       "      <td>398</td>\n",
       "      <td>0.87</td>\n",
       "      <td>0.13</td>\n",
       "    </tr>\n",
       "    <tr>\n",
       "      <th>бар</th>\n",
       "      <td>819</td>\n",
       "      <td>37</td>\n",
       "      <td>856</td>\n",
       "      <td>0.96</td>\n",
       "      <td>0.04</td>\n",
       "    </tr>\n",
       "    <tr>\n",
       "      <th>буфет</th>\n",
       "      <td>574</td>\n",
       "      <td>11</td>\n",
       "      <td>585</td>\n",
       "      <td>0.98</td>\n",
       "      <td>0.02</td>\n",
       "    </tr>\n",
       "    <tr>\n",
       "      <th>столовая</th>\n",
       "      <td>2584</td>\n",
       "      <td>3</td>\n",
       "      <td>2587</td>\n",
       "      <td>1.00</td>\n",
       "      <td>0.00</td>\n",
       "    </tr>\n",
       "  </tbody>\n",
       "</table>\n",
       "</div>"
      ],
      "text/plain": [
       "                                   несетевое заведение  сетевое заведение  \\\n",
       "object_type                                                                 \n",
       "предприятие быстрого обслуживания                 1132                791   \n",
       "магазин (отдел кулинарии)                          195                 78   \n",
       "ресторан                                          1741                544   \n",
       "кафе                                              4703               1396   \n",
       "закусочная                                         304                 56   \n",
       "кафетерий                                          346                 52   \n",
       "бар                                                819                 37   \n",
       "буфет                                              574                 11   \n",
       "столовая                                          2584                  3   \n",
       "\n",
       "                                   всего  доля_несетевых_заведений  \\\n",
       "object_type                                                          \n",
       "предприятие быстрого обслуживания   1923                      0.59   \n",
       "магазин (отдел кулинарии)            273                      0.71   \n",
       "ресторан                            2285                      0.76   \n",
       "кафе                                6099                      0.77   \n",
       "закусочная                           360                      0.84   \n",
       "кафетерий                            398                      0.87   \n",
       "бар                                  856                      0.96   \n",
       "буфет                                585                      0.98   \n",
       "столовая                            2587                      1.00   \n",
       "\n",
       "                                   доля_сетевых_заведений  \n",
       "object_type                                                \n",
       "предприятие быстрого обслуживания                    0.41  \n",
       "магазин (отдел кулинарии)                            0.29  \n",
       "ресторан                                             0.24  \n",
       "кафе                                                 0.23  \n",
       "закусочная                                           0.16  \n",
       "кафетерий                                            0.13  \n",
       "бар                                                  0.04  \n",
       "буфет                                                0.02  \n",
       "столовая                                             0.00  "
      ]
     },
     "execution_count": 42,
     "metadata": {},
     "output_type": "execute_result"
    }
   ],
   "source": [
    "# посмотрим соотношение видов сетевых и несетевых заведений\n",
    "df_chain_1 = df.pivot_table(index = 'object_type', columns='chain', values = 'id',aggfunc=['count'])\n",
    "df_chain_1.columns=['несетевое заведение','сетевое заведение']\n",
    "df_chain_1['всего']=df_chain_1['несетевое заведение']+df_chain_1['сетевое заведение']\n",
    "df_chain_1['доля_несетевых_заведений'] = df_chain_1['несетевое заведение']/df_chain_1['всего']\n",
    "df_chain_1['доля_сетевых_заведений']=df_chain_1['сетевое заведение']/df_chain_1['всего']\n",
    "df_chain_1.sort_values(by='доля_сетевых_заведений',ascending=False)"
   ]
  },
  {
   "cell_type": "markdown",
   "id": "d10eecb0",
   "metadata": {},
   "source": [
    "Для предприятий быстрого обслуживания наиболее характерно сетевое распространение (41%)."
   ]
  },
  {
   "cell_type": "code",
   "execution_count": 43,
   "id": "21a24cd5",
   "metadata": {},
   "outputs": [
    {
     "data": {
      "image/png": "[encoded data removed]",
      "text/plain": [
       "<Figure size 432x288 with 1 Axes>"
      ]
     },
     "metadata": {
      "needs_background": "light"
     },
     "output_type": "display_data"
    }
   ],
   "source": [
    "df_chain_1[['несетевое заведение', 'сетевое заведение']].sort_values('несетевое заведение').plot.barh();"
   ]
  },
  {
   "cell_type": "code",
   "execution_count": 44,
   "id": "ca4fdc32",
   "metadata": {},
   "outputs": [
    {
     "data": {
      "image/png": "[encoded data removed]",
      "text/plain": [
       "<Figure size 432x288 with 1 Axes>"
      ]
     },
     "metadata": {
      "needs_background": "light"
     },
     "output_type": "display_data"
    }
   ],
   "source": [
    "df_chain_1[['несетевое заведение', 'сетевое заведение']].sort_values('сетевое заведение').plot.barh();"
   ]
  },
  {
   "cell_type": "markdown",
   "id": "29ab814b",
   "metadata": {},
   "source": [
    "#### Вывод.\n",
    "Для предприятий быстрого обслуживания наиболее характерно сетевое распространение (41%).\n",
    "Среди несетевых предприятий самые распространённые - кафе."
   ]
  },
  {
   "cell_type": "markdown",
   "id": "6bb96b1b",
   "metadata": {},
   "source": [
    "### Что характерно для сетевых заведений: много заведений с небольшим числом посадочных мест в каждом или мало заведений с большим количеством посадочных мест?"
   ]
  },
  {
   "cell_type": "markdown",
   "id": "967129ff",
   "metadata": {},
   "source": [
    "Создам категории для определения вместимости залов:\n",
    "1.\t'категория A' свыше 150 мест.\n",
    "2.\t'категория B' от 101 до 150 мест.\n",
    "3.\t'категория C' от 71 до 100 мест.\n",
    "4.\t'категория D' от 51 до 70 мест.\n",
    "5.\t'категория E' от 26 до 50 мест.\n",
    "6.\t'категория F' до 25 мест.\n",
    "7.\t'категория без мест'.\n",
    "\n",
    "Введу дополнительный столбец."
   ]
  },
  {
   "cell_type": "code",
   "execution_count": 45,
   "id": "119266f8",
   "metadata": {},
   "outputs": [],
   "source": [
    "# функция для категоризации\n",
    "def total_number_category(number):\n",
    "    if  number == 0:\n",
    "        return 'без мест'\n",
    "    if 1 <= number <= 25:\n",
    "        return 'категория F'\n",
    "    if 26 <= number <= 50:\n",
    "        return 'категория E'\n",
    "    if 51 <= number <= 70:\n",
    "        return 'категория D'\n",
    "    if 71 <= number <= 100:\n",
    "        return 'категория C'\n",
    "    if 101 <= number <= 150:\n",
    "        return 'категория B'\n",
    " \n",
    "    \n",
    "    \n",
    "    return 'категория A' "
   ]
  },
  {
   "cell_type": "code",
   "execution_count": 46,
   "id": "5b5f731e",
   "metadata": {},
   "outputs": [
    {
     "data": {
      "text/html": [
       "<div>\n",
       "<style scoped>\n",
       "    .dataframe tbody tr th:only-of-type {\n",
       "        vertical-align: middle;\n",
       "    }\n",
       "\n",
       "    .dataframe tbody tr th {\n",
       "        vertical-align: top;\n",
       "    }\n",
       "\n",
       "    .dataframe thead th {\n",
       "        text-align: right;\n",
       "    }\n",
       "</style>\n",
       "<table border=\"1\" class=\"dataframe\">\n",
       "  <thead>\n",
       "    <tr style=\"text-align: right;\">\n",
       "      <th></th>\n",
       "      <th>id</th>\n",
       "      <th>object_name</th>\n",
       "      <th>chain</th>\n",
       "      <th>object_type</th>\n",
       "      <th>address</th>\n",
       "      <th>number</th>\n",
       "      <th>number_category</th>\n",
       "    </tr>\n",
       "  </thead>\n",
       "  <tbody>\n",
       "    <tr>\n",
       "      <th>0</th>\n",
       "      <td>151635</td>\n",
       "      <td>сметана</td>\n",
       "      <td>несетевое заведение</td>\n",
       "      <td>кафе</td>\n",
       "      <td>город Москва, улица Егора Абакумова, дом 9</td>\n",
       "      <td>48</td>\n",
       "      <td>категория E</td>\n",
       "    </tr>\n",
       "    <tr>\n",
       "      <th>1</th>\n",
       "      <td>77874</td>\n",
       "      <td>родник</td>\n",
       "      <td>несетевое заведение</td>\n",
       "      <td>кафе</td>\n",
       "      <td>город Москва, улица Талалихина, дом 2/1, корпус 1</td>\n",
       "      <td>35</td>\n",
       "      <td>категория E</td>\n",
       "    </tr>\n",
       "    <tr>\n",
       "      <th>2</th>\n",
       "      <td>24309</td>\n",
       "      <td>кафе «академия»</td>\n",
       "      <td>несетевое заведение</td>\n",
       "      <td>кафе</td>\n",
       "      <td>город Москва, Абельмановская улица, дом 6</td>\n",
       "      <td>95</td>\n",
       "      <td>категория C</td>\n",
       "    </tr>\n",
       "    <tr>\n",
       "      <th>3</th>\n",
       "      <td>21894</td>\n",
       "      <td>пиццетория</td>\n",
       "      <td>сетевое заведение</td>\n",
       "      <td>кафе</td>\n",
       "      <td>город Москва, Абрамцевская улица, дом 1</td>\n",
       "      <td>40</td>\n",
       "      <td>категория E</td>\n",
       "    </tr>\n",
       "    <tr>\n",
       "      <th>4</th>\n",
       "      <td>119365</td>\n",
       "      <td>кафе «вишневая метель»</td>\n",
       "      <td>несетевое заведение</td>\n",
       "      <td>кафе</td>\n",
       "      <td>город Москва, Абрамцевская улица, дом 9, корпус 1</td>\n",
       "      <td>50</td>\n",
       "      <td>категория E</td>\n",
       "    </tr>\n",
       "    <tr>\n",
       "      <th>5</th>\n",
       "      <td>27429</td>\n",
       "      <td>стол. при гоу сош № 1051</td>\n",
       "      <td>несетевое заведение</td>\n",
       "      <td>столовая</td>\n",
       "      <td>город Москва, Абрамцевская улица, дом 15, корпус 1</td>\n",
       "      <td>240</td>\n",
       "      <td>категория A</td>\n",
       "    </tr>\n",
       "    <tr>\n",
       "      <th>6</th>\n",
       "      <td>148815</td>\n",
       "      <td>брусника</td>\n",
       "      <td>сетевое заведение</td>\n",
       "      <td>кафе</td>\n",
       "      <td>город Москва, переулок Сивцев Вражек, дом 6/2</td>\n",
       "      <td>10</td>\n",
       "      <td>категория F</td>\n",
       "    </tr>\n",
       "    <tr>\n",
       "      <th>7</th>\n",
       "      <td>20957</td>\n",
       "      <td>буфет мтуси</td>\n",
       "      <td>несетевое заведение</td>\n",
       "      <td>столовая</td>\n",
       "      <td>город Москва, Авиамоторная улица, дом 8, строение 1</td>\n",
       "      <td>90</td>\n",
       "      <td>категория C</td>\n",
       "    </tr>\n",
       "    <tr>\n",
       "      <th>8</th>\n",
       "      <td>20958</td>\n",
       "      <td>кпф семья-1</td>\n",
       "      <td>несетевое заведение</td>\n",
       "      <td>столовая</td>\n",
       "      <td>город Москва, Авиамоторная улица, дом 8, строение 1</td>\n",
       "      <td>150</td>\n",
       "      <td>категория B</td>\n",
       "    </tr>\n",
       "    <tr>\n",
       "      <th>9</th>\n",
       "      <td>28858</td>\n",
       "      <td>столовая мтуси</td>\n",
       "      <td>несетевое заведение</td>\n",
       "      <td>столовая</td>\n",
       "      <td>город Москва, Авиамоторная улица, дом 8, строение 1</td>\n",
       "      <td>120</td>\n",
       "      <td>категория B</td>\n",
       "    </tr>\n",
       "  </tbody>\n",
       "</table>\n",
       "</div>"
      ],
      "text/plain": [
       "       id               object_name                chain object_type  \\\n",
       "0  151635                   сметана  несетевое заведение        кафе   \n",
       "1   77874                    родник  несетевое заведение        кафе   \n",
       "2   24309           кафе «академия»  несетевое заведение        кафе   \n",
       "3   21894                пиццетория    сетевое заведение        кафе   \n",
       "4  119365    кафе «вишневая метель»  несетевое заведение        кафе   \n",
       "5   27429  стол. при гоу сош № 1051  несетевое заведение    столовая   \n",
       "6  148815                  брусника    сетевое заведение        кафе   \n",
       "7   20957               буфет мтуси  несетевое заведение    столовая   \n",
       "8   20958               кпф семья-1  несетевое заведение    столовая   \n",
       "9   28858            столовая мтуси  несетевое заведение    столовая   \n",
       "\n",
       "                                               address  number number_category  \n",
       "0           город Москва, улица Егора Абакумова, дом 9      48     категория E  \n",
       "1    город Москва, улица Талалихина, дом 2/1, корпус 1      35     категория E  \n",
       "2            город Москва, Абельмановская улица, дом 6      95     категория C  \n",
       "3              город Москва, Абрамцевская улица, дом 1      40     категория E  \n",
       "4    город Москва, Абрамцевская улица, дом 9, корпус 1      50     категория E  \n",
       "5   город Москва, Абрамцевская улица, дом 15, корпус 1     240     категория A  \n",
       "6        город Москва, переулок Сивцев Вражек, дом 6/2      10     категория F  \n",
       "7  город Москва, Авиамоторная улица, дом 8, строение 1      90     категория C  \n",
       "8  город Москва, Авиамоторная улица, дом 8, строение 1     150     категория B  \n",
       "9  город Москва, Авиамоторная улица, дом 8, строение 1     120     категория B  "
      ]
     },
     "execution_count": 46,
     "metadata": {},
     "output_type": "execute_result"
    }
   ],
   "source": [
    "# добавление столбца\n",
    "df['number_category'] = df['number'].apply(total_number_category)\n",
    "df.head(10)"
   ]
  },
  {
   "cell_type": "code",
   "execution_count": 47,
   "id": "94820b58",
   "metadata": {},
   "outputs": [
    {
     "data": {
      "text/plain": [
       "number_category\n",
       "без мест       1621\n",
       "категория A    1420\n",
       "категория B     935\n",
       "категория C    1850\n",
       "категория D    1208\n",
       "категория E    4021\n",
       "категория F    4311\n",
       "Name: id, dtype: int64"
      ]
     },
     "execution_count": 47,
     "metadata": {},
     "output_type": "execute_result"
    }
   ],
   "source": [
    "df_number_category = df.groupby('number_category')['id'].count()\n",
    "df_number_category"
   ]
  },
  {
   "cell_type": "markdown",
   "id": "aef989bb",
   "metadata": {},
   "source": [
    "Самая значительная группа - это заведения вместимостью до 25 мест."
   ]
  },
  {
   "cell_type": "code",
   "execution_count": 48,
   "id": "c0a49143",
   "metadata": {},
   "outputs": [
    {
     "data": {
      "text/html": [
       "<div>\n",
       "<style scoped>\n",
       "    .dataframe tbody tr th:only-of-type {\n",
       "        vertical-align: middle;\n",
       "    }\n",
       "\n",
       "    .dataframe tbody tr th {\n",
       "        vertical-align: top;\n",
       "    }\n",
       "\n",
       "    .dataframe thead th {\n",
       "        text-align: right;\n",
       "    }\n",
       "</style>\n",
       "<table border=\"1\" class=\"dataframe\">\n",
       "  <thead>\n",
       "    <tr style=\"text-align: right;\">\n",
       "      <th></th>\n",
       "      <th>id</th>\n",
       "      <th>object_name</th>\n",
       "      <th>chain</th>\n",
       "      <th>object_type</th>\n",
       "      <th>address</th>\n",
       "      <th>number</th>\n",
       "      <th>number_category</th>\n",
       "    </tr>\n",
       "  </thead>\n",
       "  <tbody>\n",
       "    <tr>\n",
       "      <th>3</th>\n",
       "      <td>21894</td>\n",
       "      <td>пиццетория</td>\n",
       "      <td>сетевое заведение</td>\n",
       "      <td>кафе</td>\n",
       "      <td>город Москва, Абрамцевская улица, дом 1</td>\n",
       "      <td>40</td>\n",
       "      <td>категория E</td>\n",
       "    </tr>\n",
       "    <tr>\n",
       "      <th>6</th>\n",
       "      <td>148815</td>\n",
       "      <td>брусника</td>\n",
       "      <td>сетевое заведение</td>\n",
       "      <td>кафе</td>\n",
       "      <td>город Москва, переулок Сивцев Вражек, дом 6/2</td>\n",
       "      <td>10</td>\n",
       "      <td>категория F</td>\n",
       "    </tr>\n",
       "    <tr>\n",
       "      <th>13</th>\n",
       "      <td>22579</td>\n",
       "      <td>алло пицца</td>\n",
       "      <td>сетевое заведение</td>\n",
       "      <td>кафе</td>\n",
       "      <td>город Москва, улица Авиаторов, дом 14</td>\n",
       "      <td>32</td>\n",
       "      <td>категория E</td>\n",
       "    </tr>\n",
       "    <tr>\n",
       "      <th>16</th>\n",
       "      <td>144107</td>\n",
       "      <td>суши wok</td>\n",
       "      <td>сетевое заведение</td>\n",
       "      <td>предприятие быстрого обслуживания</td>\n",
       "      <td>город Москва, Азовская улица, дом 3</td>\n",
       "      <td>7</td>\n",
       "      <td>категория F</td>\n",
       "    </tr>\n",
       "    <tr>\n",
       "      <th>18</th>\n",
       "      <td>58565</td>\n",
       "      <td>тануки</td>\n",
       "      <td>сетевое заведение</td>\n",
       "      <td>ресторан</td>\n",
       "      <td>город Москва, Большая Академическая улица, дом 65</td>\n",
       "      <td>160</td>\n",
       "      <td>категория A</td>\n",
       "    </tr>\n",
       "  </tbody>\n",
       "</table>\n",
       "</div>"
      ],
      "text/plain": [
       "        id object_name              chain                        object_type  \\\n",
       "3    21894  пиццетория  сетевое заведение                               кафе   \n",
       "6   148815    брусника  сетевое заведение                               кафе   \n",
       "13   22579  алло пицца  сетевое заведение                               кафе   \n",
       "16  144107    суши wok  сетевое заведение  предприятие быстрого обслуживания   \n",
       "18   58565      тануки  сетевое заведение                           ресторан   \n",
       "\n",
       "                                              address  number number_category  \n",
       "3             город Москва, Абрамцевская улица, дом 1      40     категория E  \n",
       "6       город Москва, переулок Сивцев Вражек, дом 6/2      10     категория F  \n",
       "13              город Москва, улица Авиаторов, дом 14      32     категория E  \n",
       "16                город Москва, Азовская улица, дом 3       7     категория F  \n",
       "18  город Москва, Большая Академическая улица, дом 65     160     категория A  "
      ]
     },
     "execution_count": 48,
     "metadata": {},
     "output_type": "execute_result"
    }
   ],
   "source": [
    "# датафрейм только сетевых заведений\n",
    "df_chain_2=df.query('chain == \"сетевое заведение\"')\n",
    "df_chain_2.head()"
   ]
  },
  {
   "cell_type": "code",
   "execution_count": 49,
   "id": "c15de48e",
   "metadata": {},
   "outputs": [
    {
     "data": {
      "text/plain": [
       "number_category\n",
       "категория A    157\n",
       "категория B    189\n",
       "без мест       268\n",
       "категория D    289\n",
       "категория C    401\n",
       "категория E    776\n",
       "категория F    888\n",
       "Name: id, dtype: int64"
      ]
     },
     "execution_count": 49,
     "metadata": {},
     "output_type": "execute_result"
    }
   ],
   "source": [
    "df_chain_2.groupby('number_category')['id'].count().sort_values()"
   ]
  },
  {
   "cell_type": "markdown",
   "id": "369b4d68",
   "metadata": {},
   "source": [
    "Наиболее широко представлена категория заведений вместимостью до 25 мест."
   ]
  },
  {
   "cell_type": "code",
   "execution_count": 50,
   "id": "48f540f8",
   "metadata": {},
   "outputs": [
    {
     "data": {
      "text/html": [
       "<style type=\"text/css\">\n",
       "</style>\n",
       "<table id=\"T_3ecd1_\">\n",
       "  <thead>\n",
       "    <tr>\n",
       "      <th class=\"blank level0\" >&nbsp;</th>\n",
       "      <th class=\"col_heading level0 col0\" >0</th>\n",
       "    </tr>\n",
       "    <tr>\n",
       "      <th class=\"index_name level0\" >number_category</th>\n",
       "      <th class=\"blank col0\" >&nbsp;</th>\n",
       "    </tr>\n",
       "  </thead>\n",
       "  <tbody>\n",
       "    <tr>\n",
       "      <th id=\"T_3ecd1_level0_row0\" class=\"row_heading level0 row0\" >без мест</th>\n",
       "      <td id=\"T_3ecd1_row0_col0\" class=\"data row0 col0\" >9%</td>\n",
       "    </tr>\n",
       "    <tr>\n",
       "      <th id=\"T_3ecd1_level0_row1\" class=\"row_heading level0 row1\" >категория A</th>\n",
       "      <td id=\"T_3ecd1_row1_col0\" class=\"data row1 col0\" >5%</td>\n",
       "    </tr>\n",
       "    <tr>\n",
       "      <th id=\"T_3ecd1_level0_row2\" class=\"row_heading level0 row2\" >категория B</th>\n",
       "      <td id=\"T_3ecd1_row2_col0\" class=\"data row2 col0\" >6%</td>\n",
       "    </tr>\n",
       "    <tr>\n",
       "      <th id=\"T_3ecd1_level0_row3\" class=\"row_heading level0 row3\" >категория C</th>\n",
       "      <td id=\"T_3ecd1_row3_col0\" class=\"data row3 col0\" >14%</td>\n",
       "    </tr>\n",
       "    <tr>\n",
       "      <th id=\"T_3ecd1_level0_row4\" class=\"row_heading level0 row4\" >категория D</th>\n",
       "      <td id=\"T_3ecd1_row4_col0\" class=\"data row4 col0\" >10%</td>\n",
       "    </tr>\n",
       "    <tr>\n",
       "      <th id=\"T_3ecd1_level0_row5\" class=\"row_heading level0 row5\" >категория E</th>\n",
       "      <td id=\"T_3ecd1_row5_col0\" class=\"data row5 col0\" >26%</td>\n",
       "    </tr>\n",
       "    <tr>\n",
       "      <th id=\"T_3ecd1_level0_row6\" class=\"row_heading level0 row6\" >категория F</th>\n",
       "      <td id=\"T_3ecd1_row6_col0\" class=\"data row6 col0\" >30%</td>\n",
       "    </tr>\n",
       "  </tbody>\n",
       "</table>\n"
      ],
      "text/plain": [
       "<pandas.io.formats.style.Styler at 0x22521ea8fa0>"
      ]
     },
     "execution_count": 50,
     "metadata": {},
     "output_type": "execute_result"
    }
   ],
   "source": [
    "# представим данные в процентах\n",
    "(df_chain_2.groupby(df_chain_2['number_category']).size()/len(df_chain_2['number_category'])).to_frame().style.format('{:.0%}')"
   ]
  },
  {
   "cell_type": "markdown",
   "id": "9405188e",
   "metadata": {},
   "source": [
    "Среди сетевых заведений самая многочисленная категория - заведения вместимостью до 25 мест - 30%, как и в целом в исследуемой выборке данных.\n",
    "\n",
    "В целом категории представлены следующим образом:\n",
    "\n",
    "'категория A' свыше 150 мест - 5%.\n",
    "\n",
    "'категория B' от 101 до 150 мест - 6%.\n",
    "\n",
    "'категория C' от 71 до 100 мест - 14%.\n",
    "\n",
    "'категория D' от 51 до 70 мест - 10%.\n",
    "\n",
    "'категория E' от 26 до 50 мест - 26%.\n",
    "\n",
    "'категория F' до 25 мест - 30%.\n",
    "\n",
    "'категория без мест' - 9%."
   ]
  },
  {
   "cell_type": "code",
   "execution_count": 51,
   "id": "d9f0fb05",
   "metadata": {},
   "outputs": [
    {
     "data": {
      "text/plain": [
       "object_type                        number_category\n",
       "бар                                без мест             1\n",
       "                                   категория B          4\n",
       "                                   категория C          6\n",
       "                                   категория D          4\n",
       "                                   категория E         13\n",
       "                                   категория F          9\n",
       "буфет                              без мест             8\n",
       "                                   категория D          1\n",
       "                                   категория E          1\n",
       "                                   категория F          1\n",
       "закусочная                         без мест            18\n",
       "                                   категория C          1\n",
       "                                   категория D          1\n",
       "                                   категория E          9\n",
       "                                   категория F         27\n",
       "кафе                               без мест            55\n",
       "                                   категория A         40\n",
       "                                   категория B         60\n",
       "                                   категория C        169\n",
       "                                   категория D        161\n",
       "                                   категория E        453\n",
       "                                   категория F        458\n",
       "кафетерий                          без мест            15\n",
       "                                   категория C          1\n",
       "                                   категория D          1\n",
       "                                   категория E          5\n",
       "                                   категория F         30\n",
       "магазин (отдел кулинарии)          без мест            33\n",
       "                                   категория E          8\n",
       "                                   категория F         37\n",
       "предприятие быстрого обслуживания  без мест           120\n",
       "                                   категория A         20\n",
       "                                   категория B         39\n",
       "                                   категория C         80\n",
       "                                   категория D         62\n",
       "                                   категория E        189\n",
       "                                   категория F        281\n",
       "ресторан                           без мест            18\n",
       "                                   категория A         96\n",
       "                                   категория B         85\n",
       "                                   категория C        144\n",
       "                                   категория D         58\n",
       "                                   категория E         98\n",
       "                                   категория F         45\n",
       "столовая                           категория A          1\n",
       "                                   категория B          1\n",
       "                                   категория D          1\n",
       "Name: number_category, dtype: int64"
      ]
     },
     "execution_count": 51,
     "metadata": {},
     "output_type": "execute_result"
    }
   ],
   "source": [
    "# сруппируем данные для определения сетей в каждом виде\n",
    "df_chain_2.groupby(['object_type','number_category'])['number_category'].count()"
   ]
  },
  {
   "cell_type": "markdown",
   "id": "caa4389c",
   "metadata": {},
   "source": [
    "Далее рассмотрим сетевые заведения в разрезе типа и категории посадки на предмет распространённости."
   ]
  },
  {
   "cell_type": "code",
   "execution_count": 52,
   "id": "d1ae3990",
   "metadata": {},
   "outputs": [
    {
     "data": {
      "image/png": "[encoded data removed]",
      "text/plain": [
       "<Figure size 432x288 with 1 Axes>"
      ]
     },
     "metadata": {
      "needs_background": "light"
     },
     "output_type": "display_data"
    }
   ],
   "source": [
    "# Сети баров, данные и визуализация\n",
    "(df_chain_2[df_chain_2['object_type']==\"бар\"]).groupby(['object_type','number_category'])['object_type'].count().sort_values(ascending = False).plot.barh(rot=45);\n",
    "plt.title('Сети баров');\n",
    "plt.xlabel('количество');\n",
    "plt.ylabel('категория');\n",
    "plt.yticks(rotation=0,fontsize=12);"
   ]
  },
  {
   "cell_type": "markdown",
   "id": "2ec62481",
   "metadata": {},
   "source": [
    "Для сетевых баров характерны заведения вместимостью от 26 до 50 мест."
   ]
  },
  {
   "cell_type": "code",
   "execution_count": 53,
   "id": "b8db062e",
   "metadata": {},
   "outputs": [
    {
     "data": {
      "image/png": "[encoded data removed]",
      "text/plain": [
       "<Figure size 432x288 with 1 Axes>"
      ]
     },
     "metadata": {
      "needs_background": "light"
     },
     "output_type": "display_data"
    }
   ],
   "source": [
    "# Сети буфетов, данные и визуализация\n",
    "(df_chain_2[df_chain_2['object_type']==\"буфет\"]).groupby('number_category')['number_category'].count().sort_values(ascending = False).plot.barh(rot=45);\n",
    "plt.title('Сети буфетов');\n",
    "plt.xlabel('количество');\n",
    "plt.ylabel('категория');\n",
    "plt.yticks(rotation=0,fontsize=12);"
   ]
  },
  {
   "cell_type": "markdown",
   "id": "5102bb00",
   "metadata": {},
   "source": [
    "Для сетевых буфетов характерно распространение заведений без мест."
   ]
  },
  {
   "cell_type": "code",
   "execution_count": 54,
   "id": "7471b6e2",
   "metadata": {},
   "outputs": [
    {
     "data": {
      "image/png": "[encoded data removed]",
      "text/plain": [
       "<Figure size 432x288 with 1 Axes>"
      ]
     },
     "metadata": {
      "needs_background": "light"
     },
     "output_type": "display_data"
    }
   ],
   "source": [
    "# Сети закусочных, данные и визуализация\n",
    "(df_chain_2[df_chain_2['object_type']==\"закусочная\"]).groupby('number_category')['number_category'].count().sort_values(ascending = False).plot.barh(rot=45);\n",
    "plt.title('Сети закусочных');\n",
    "plt.xlabel('количество');\n",
    "plt.ylabel('категория');\n",
    "plt.yticks(rotation=0,fontsize=12);"
   ]
  },
  {
   "cell_type": "markdown",
   "id": "32177321",
   "metadata": {},
   "source": [
    "Для сетей закусочных характерны заведения вместимостью до 25 мест."
   ]
  },
  {
   "cell_type": "code",
   "execution_count": 55,
   "id": "e42d32c8",
   "metadata": {},
   "outputs": [
    {
     "data": {
      "image/png": "[encoded data removed]",
      "text/plain": [
       "<Figure size 432x288 with 1 Axes>"
      ]
     },
     "metadata": {
      "needs_background": "light"
     },
     "output_type": "display_data"
    }
   ],
   "source": [
    "# Сети кафе, данные и визуализация\n",
    "(df_chain_2[df_chain_2['object_type']==\"кафе\"]).groupby('number_category')['number_category'].count().sort_values(ascending = False).plot.barh(rot=45);\n",
    "plt.title('Сети кафе');\n",
    "plt.xlabel('количество');\n",
    "plt.ylabel('категория');\n",
    "plt.yticks(rotation=0,fontsize=12);"
   ]
  },
  {
   "cell_type": "markdown",
   "id": "144ca375",
   "metadata": {},
   "source": [
    "Для сетей кафе характерны заведения вместимостью до 50 мест."
   ]
  },
  {
   "cell_type": "code",
   "execution_count": 56,
   "id": "a48a46bc",
   "metadata": {},
   "outputs": [
    {
     "data": {
      "image/png": "[encoded data removed]",
      "text/plain": [
       "<Figure size 432x288 with 1 Axes>"
      ]
     },
     "metadata": {
      "needs_background": "light"
     },
     "output_type": "display_data"
    }
   ],
   "source": [
    "# Сети кафетериев, данные и визуализация\n",
    "(df_chain_2[df_chain_2['object_type']==\"кафетерий\"]).groupby('number_category')['number_category'].count().sort_values(ascending = False).plot.barh(rot=45);\n",
    "plt.title('Сети кафетериев');\n",
    "plt.xlabel('количество');\n",
    "plt.ylabel('категория');\n",
    "plt.yticks(rotation=0,fontsize=12);"
   ]
  },
  {
   "cell_type": "markdown",
   "id": "4559a62e",
   "metadata": {},
   "source": [
    "Для сетей кафетериев характерны заведения вместимостью до 25 мест."
   ]
  },
  {
   "cell_type": "code",
   "execution_count": 57,
   "id": "0bca704c",
   "metadata": {},
   "outputs": [
    {
     "data": {
      "image/png": "[encoded data removed]",
      "text/plain": [
       "<Figure size 432x288 with 1 Axes>"
      ]
     },
     "metadata": {
      "needs_background": "light"
     },
     "output_type": "display_data"
    }
   ],
   "source": [
    "# Сети кулинарий, данные и визуализация\n",
    "(df_chain_2[df_chain_2['object_type']==\"магазин (отдел кулинарии)\"]).groupby('number_category')['number_category'].count().sort_values(ascending = False).plot.barh(rot=45);\n",
    "plt.title('Сети кулинарий');\n",
    "plt.xlabel('количество');\n",
    "plt.ylabel('категория');\n",
    "plt.yticks(rotation=0,fontsize=12);"
   ]
  },
  {
   "cell_type": "markdown",
   "id": "11c2ba3d",
   "metadata": {},
   "source": [
    "Для сетей кулинарий характерны заведения вместимостью либо до 25 мест, либо без мест."
   ]
  },
  {
   "cell_type": "code",
   "execution_count": 58,
   "id": "a1b89dbe",
   "metadata": {
    "scrolled": true
   },
   "outputs": [
    {
     "data": {
      "image/png": "[encoded data removed]",
      "text/plain": [
       "<Figure size 432x288 with 1 Axes>"
      ]
     },
     "metadata": {
      "needs_background": "light"
     },
     "output_type": "display_data"
    }
   ],
   "source": [
    "# Сети предприятий быстрого обслуживания, данные и визуализация\n",
    "(df_chain_2[df_chain_2['object_type']==\"предприятие быстрого обслуживания\"]).groupby('number_category')['number_category'].count().sort_values(ascending = False).plot.barh(rot=45);\n",
    "plt.title('Сети предприятий быстрого обслуживания');\n",
    "plt.xlabel('количество');\n",
    "plt.ylabel('категория');\n",
    "plt.yticks(rotation=0,fontsize=12);"
   ]
  },
  {
   "cell_type": "markdown",
   "id": "245a1a81",
   "metadata": {},
   "source": [
    "Для сетей предприятий быстрого обслуживания характерны заведения вместимостью до 25 мест."
   ]
  },
  {
   "cell_type": "code",
   "execution_count": 59,
   "id": "cb53102e",
   "metadata": {},
   "outputs": [
    {
     "data": {
      "image/png": "[encoded data removed]",
      "text/plain": [
       "<Figure size 432x288 with 1 Axes>"
      ]
     },
     "metadata": {
      "needs_background": "light"
     },
     "output_type": "display_data"
    }
   ],
   "source": [
    "# Сети ресторанов, данные и визуализация\n",
    "(df_chain_2[df_chain_2['object_type']==\"ресторан\"]).groupby('number_category')['number_category'].count().sort_values(ascending = False).plot.barh(rot=45);\n",
    "plt.title('Сети ресторанов');\n",
    "plt.xlabel('количество');\n",
    "plt.ylabel('категория');\n",
    "plt.yticks(rotation=0,fontsize=12);"
   ]
  },
  {
   "cell_type": "markdown",
   "id": "e42ccd8a",
   "metadata": {},
   "source": [
    "Для сетевых ресторанов характерны заведения вместимостью от 71 до 100 мест."
   ]
  },
  {
   "cell_type": "code",
   "execution_count": 60,
   "id": "be3adbd0",
   "metadata": {},
   "outputs": [
    {
     "data": {
      "text/plain": [
       "object_type  number_category\n",
       "столовая     категория A        1\n",
       "             категория B        1\n",
       "             категория D        1\n",
       "Name: object_type, dtype: int64"
      ]
     },
     "execution_count": 60,
     "metadata": {},
     "output_type": "execute_result"
    }
   ],
   "source": [
    "# Сетевые столовые представлены крайне скудно\n",
    "(df_chain_2[df_chain_2['object_type']==\"столовая\"]).groupby(['object_type','number_category'])['object_type'].count().sort_values(ascending = False)"
   ]
  },
  {
   "cell_type": "markdown",
   "id": "d0ae666b",
   "metadata": {},
   "source": [
    "Для сетевых столовых характерны заведения от 101 и свыше 150 мест, но их всего 2, поэтому они не несут статистической значимости."
   ]
  },
  {
   "cell_type": "markdown",
   "id": "780b777c",
   "metadata": {},
   "source": [
    "\n",
    "\n",
    "Для сетевых организаций характерно преобладание заведений с небольшим числом посадочных мест в каждом (до25).\n",
    "\n",
    "Для сетевых баров характерны заведения вместимостью от 26 до 50 мест.\n",
    "\n",
    "Для сетевых буфетов характерно распространение заведений без мест.\n",
    "\n",
    "Для сетей закусочных характерны заведения вместимостью до 25 мест.\n",
    "\n",
    "Для сетей кафе характерны заведения вместимостью до 50 мест.\n",
    "\n",
    "Для сетей кафетериев характерны заведения вместимостью до 25 мест.\n",
    "\n",
    "Для сетей кулинарий характерны заведения вместимостью либо до 25 мест, либо без мест.\n",
    "\n",
    "Для сетей предприятий быстрого обслуживания характерны заведения вместимостью до 25 мест.\n",
    "\n",
    "Для сетевых ресторанов характерны заведения вместимостью от 71 до 100 мест.\n",
    "\n",
    "Для сетевых столовых характерны заведения от 101 и свыше 150 мест, но их всего 2, поэтому они не несут статистической значимости.\n",
    "\n",
    "**Таким образом, для сетевых заведений характерно много заведений с небольшим числом посадочных мест в каждом.**\n"
   ]
  },
  {
   "cell_type": "code",
   "execution_count": 61,
   "id": "4a9241fa",
   "metadata": {},
   "outputs": [
    {
     "data": {
      "text/plain": [
       "шоколадница                    157\n",
       "kfc                            155\n",
       "макдоналдс                     151\n",
       "бургер кинг                    137\n",
       "теремок                         94\n",
       "                              ... \n",
       "кафе «кофейня старбакс»          1\n",
       "кафе «меленка»                   1\n",
       "ресторан «джардино да пино»      1\n",
       "кафе «менза»                     1\n",
       "мята                             1\n",
       "Name: object_name, Length: 577, dtype: int64"
      ]
     },
     "execution_count": 61,
     "metadata": {},
     "output_type": "execute_result"
    }
   ],
   "source": [
    "# Количество заведений под одним именем.\n",
    "df[df['chain'] == 'сетевое заведение']['object_name'].value_counts()"
   ]
  },
  {
   "cell_type": "code",
   "execution_count": 62,
   "id": "5518b326",
   "metadata": {},
   "outputs": [],
   "source": [
    "df_chain_object = df[df['chain'] == 'сетевое заведение'].reset_index()"
   ]
  },
  {
   "cell_type": "code",
   "execution_count": 63,
   "id": "52757b66",
   "metadata": {},
   "outputs": [
    {
     "data": {
      "text/plain": [
       "шоколадница                    157\n",
       "kfc                            155\n",
       "макдоналдс                     151\n",
       "бургер кинг                    137\n",
       "теремок                         94\n",
       "                              ... \n",
       "кафе «кофейня старбакс»          1\n",
       "кафе «меленка»                   1\n",
       "ресторан «джардино да пино»      1\n",
       "кафе «менза»                     1\n",
       "мята                             1\n",
       "Name: object_name, Length: 577, dtype: int64"
      ]
     },
     "execution_count": 63,
     "metadata": {},
     "output_type": "execute_result"
    }
   ],
   "source": [
    "df_chain_object['object_name'].value_counts()"
   ]
  },
  {
   "cell_type": "code",
   "execution_count": 64,
   "id": "5fab2776",
   "metadata": {},
   "outputs": [
    {
     "data": {
      "text/plain": [
       "577"
      ]
     },
     "execution_count": 64,
     "metadata": {},
     "output_type": "execute_result"
    }
   ],
   "source": [
    "# уникальных записей в датафрейме\n",
    "df_chain_object['object_name'].nunique()"
   ]
  },
  {
   "cell_type": "markdown",
   "id": "b98b9393",
   "metadata": {},
   "source": [
    "Необходимо избавиться от кавычек, видов и т.п."
   ]
  },
  {
   "cell_type": "code",
   "execution_count": 65,
   "id": "8e5ddf54",
   "metadata": {},
   "outputs": [],
   "source": [
    "# проведу унификацию названий\n",
    "# создам список значений, подлежащих замене\n",
    "names = ['«', '»', 'кафе ', 'бар ', 'закусочная ', 'кондитерская ', 'кондитерская-пекарня', 'кофейня ', 'пбо ', \\\n",
    "                'пицца ', 'пиццерия ', 'предприятие быстрого обслуживания ', 'ресторан ', 'быстрого питания ', 'ресторан']"
   ]
  },
  {
   "cell_type": "code",
   "execution_count": 66,
   "id": "a04ad8b9",
   "metadata": {},
   "outputs": [],
   "source": [
    "# цикл пройдётся и произведёт замены, чтобы в итоге были только названия\n",
    "for i in names:\n",
    "    df_chain_object['object_name'] = df_chain_object['object_name'].str.replace(i, '')"
   ]
  },
  {
   "cell_type": "code",
   "execution_count": 67,
   "id": "986c0ed5",
   "metadata": {},
   "outputs": [
    {
     "data": {
      "text/plain": [
       "шоколадница    183\n",
       "kfc            177\n",
       "макдоналдс     172\n",
       "бургер кинг    151\n",
       "теремок        109\n",
       "              ... \n",
       "лето             1\n",
       "ямми микс        1\n",
       "баракат          1\n",
       "при азс          1\n",
       "мята             1\n",
       "Name: object_name, Length: 428, dtype: int64"
      ]
     },
     "execution_count": 67,
     "metadata": {},
     "output_type": "execute_result"
    }
   ],
   "source": [
    "df_chain_object['object_name'].value_counts()"
   ]
  },
  {
   "cell_type": "code",
   "execution_count": 68,
   "id": "145fe1d4",
   "metadata": {},
   "outputs": [
    {
     "data": {
      "text/plain": [
       "428"
      ]
     },
     "execution_count": 68,
     "metadata": {},
     "output_type": "execute_result"
    }
   ],
   "source": [
    "# уникальных записей в датафрейме\n",
    "df_chain_object['object_name'].nunique()"
   ]
  },
  {
   "cell_type": "code",
   "execution_count": 69,
   "id": "46bc911b",
   "metadata": {},
   "outputs": [
    {
     "data": {
      "text/html": [
       "<div>\n",
       "<style scoped>\n",
       "    .dataframe tbody tr th:only-of-type {\n",
       "        vertical-align: middle;\n",
       "    }\n",
       "\n",
       "    .dataframe tbody tr th {\n",
       "        vertical-align: top;\n",
       "    }\n",
       "\n",
       "    .dataframe thead th {\n",
       "        text-align: right;\n",
       "    }\n",
       "</style>\n",
       "<table border=\"1\" class=\"dataframe\">\n",
       "  <thead>\n",
       "    <tr style=\"text-align: right;\">\n",
       "      <th></th>\n",
       "      <th>object_name</th>\n",
       "      <th>id</th>\n",
       "      <th>number</th>\n",
       "    </tr>\n",
       "  </thead>\n",
       "  <tbody>\n",
       "    <tr>\n",
       "      <th>412</th>\n",
       "      <td>шоколадница</td>\n",
       "      <td>183</td>\n",
       "      <td>50.00</td>\n",
       "    </tr>\n",
       "    <tr>\n",
       "      <th>26</th>\n",
       "      <td>kfc</td>\n",
       "      <td>177</td>\n",
       "      <td>46.00</td>\n",
       "    </tr>\n",
       "    <tr>\n",
       "      <th>237</th>\n",
       "      <td>макдоналдс</td>\n",
       "      <td>172</td>\n",
       "      <td>76.00</td>\n",
       "    </tr>\n",
       "    <tr>\n",
       "      <th>111</th>\n",
       "      <td>бургер кинг</td>\n",
       "      <td>151</td>\n",
       "      <td>44.00</td>\n",
       "    </tr>\n",
       "    <tr>\n",
       "      <th>365</th>\n",
       "      <td>теремок</td>\n",
       "      <td>109</td>\n",
       "      <td>24.00</td>\n",
       "    </tr>\n",
       "    <tr>\n",
       "      <th>164</th>\n",
       "      <td>домино'с пицца</td>\n",
       "      <td>98</td>\n",
       "      <td>16.00</td>\n",
       "    </tr>\n",
       "    <tr>\n",
       "      <th>218</th>\n",
       "      <td>крошка картошка</td>\n",
       "      <td>95</td>\n",
       "      <td>15.00</td>\n",
       "    </tr>\n",
       "    <tr>\n",
       "      <th>350</th>\n",
       "      <td>суши wok</td>\n",
       "      <td>75</td>\n",
       "      <td>6.00</td>\n",
       "    </tr>\n",
       "    <tr>\n",
       "      <th>247</th>\n",
       "      <td>милти</td>\n",
       "      <td>75</td>\n",
       "      <td>0.00</td>\n",
       "    </tr>\n",
       "    <tr>\n",
       "      <th>278</th>\n",
       "      <td>папа джонс</td>\n",
       "      <td>65</td>\n",
       "      <td>20.00</td>\n",
       "    </tr>\n",
       "  </tbody>\n",
       "</table>\n",
       "</div>"
      ],
      "text/plain": [
       "         object_name   id  number\n",
       "412      шоколадница  183   50.00\n",
       "26               kfc  177   46.00\n",
       "237       макдоналдс  172   76.00\n",
       "111      бургер кинг  151   44.00\n",
       "365          теремок  109   24.00\n",
       "164   домино'с пицца   98   16.00\n",
       "218  крошка картошка   95   15.00\n",
       "350         суши wok   75    6.00\n",
       "247            милти   75    0.00\n",
       "278       папа джонс   65   20.00"
      ]
     },
     "execution_count": 69,
     "metadata": {},
     "output_type": "execute_result"
    }
   ],
   "source": [
    "# Создам таблицу с названиями сетей, количеством заведений в каждой и средним (медианным) числом посадочных мест. \n",
    "df_chain_object_group = df_chain_object.groupby('object_name').agg({'id': 'count','number': 'median'}).reset_index().sort_values(by='id', ascending=False)\n",
    "df_chain_object_group.head(10)"
   ]
  },
  {
   "cell_type": "code",
   "execution_count": 70,
   "id": "9ca34b41",
   "metadata": {},
   "outputs": [
    {
     "data": {
      "image/png": "[encoded data removed]",
      "text/plain": [
       "<Figure size 864x504 with 1 Axes>"
      ]
     },
     "metadata": {
      "needs_background": "light"
     },
     "output_type": "display_data"
    }
   ],
   "source": [
    "# визуализация\n",
    "plt.figure(figsize=(12, 7))\n",
    "plt.grid(True)\n",
    "plt.title('Диаграмма среднего числа мест на количество заведений в сети')\n",
    "sns.scatterplot(data=df_chain_object_group, x=\"id\", y=\"number\")\n",
    "ax = plt.gca();\n",
    "ax.set_xlabel('количество заведений в сети');\n",
    "ax.set_ylabel('среднее число мест');"
   ]
  },
  {
   "cell_type": "markdown",
   "id": "66f2e83a",
   "metadata": {},
   "source": [
    "#### Вывод.\n",
    "\n",
    "**Для сетевых заведений характерно малое число заведений с большим количеством посадочных мест.**\n",
    "\n",
    "\n",
    "Для сетевых баров характерны заведения вместимостью от 26 до 50 мест.\n",
    "\n",
    "Для сетевых буфетов характерно распространение заведений без мест.\n",
    "\n",
    "Для сетей закусочных характерны заведения вместимостью до 25 мест.\n",
    "\n",
    "Для сетей кафе характерны заведения вместимостью до 50 мест.\n",
    "\n",
    "Для сетей кафетериев характерны заведения вместимостью до 25 мест.\n",
    "\n",
    "Для сетей кулинарий характерны заведения вместимостью либо до 25 мест, либо без мест.\n",
    "\n",
    "Для сетей предприятий быстрого обслуживания характерны заведения вместимостью до 25 мест.\n",
    "\n",
    "Для сетевых ресторанов характерны заведения вместимостью от 71 до 100 мест.\n",
    "\n",
    "Для сетевых столовых характерны заведения от 101 и свыше 150 мест, но их всего 2, поэтому они не несут статистической значимости.\n",
    "\n"
   ]
  },
  {
   "cell_type": "markdown",
   "id": "b91683ba",
   "metadata": {},
   "source": [
    "### Для каждого вида объекта общественного питания опишем среднее количество посадочных мест. Какой вид предоставляет в среднем самое большое количество посадочных мест? Построение графика."
   ]
  },
  {
   "cell_type": "code",
   "execution_count": 71,
   "id": "f47c5f45",
   "metadata": {},
   "outputs": [
    {
     "data": {
      "text/html": [
       "<div>\n",
       "<style scoped>\n",
       "    .dataframe tbody tr th:only-of-type {\n",
       "        vertical-align: middle;\n",
       "    }\n",
       "\n",
       "    .dataframe tbody tr th {\n",
       "        vertical-align: top;\n",
       "    }\n",
       "\n",
       "    .dataframe thead th {\n",
       "        text-align: right;\n",
       "    }\n",
       "</style>\n",
       "<table border=\"1\" class=\"dataframe\">\n",
       "  <thead>\n",
       "    <tr style=\"text-align: right;\">\n",
       "      <th></th>\n",
       "      <th>среднее число мест</th>\n",
       "    </tr>\n",
       "    <tr>\n",
       "      <th>object_type</th>\n",
       "      <th></th>\n",
       "    </tr>\n",
       "  </thead>\n",
       "  <tbody>\n",
       "    <tr>\n",
       "      <th>столовая</th>\n",
       "      <td>103.00</td>\n",
       "    </tr>\n",
       "    <tr>\n",
       "      <th>ресторан</th>\n",
       "      <td>80.00</td>\n",
       "    </tr>\n",
       "    <tr>\n",
       "      <th>бар</th>\n",
       "      <td>35.00</td>\n",
       "    </tr>\n",
       "    <tr>\n",
       "      <th>буфет</th>\n",
       "      <td>32.00</td>\n",
       "    </tr>\n",
       "    <tr>\n",
       "      <th>кафе</th>\n",
       "      <td>30.00</td>\n",
       "    </tr>\n",
       "    <tr>\n",
       "      <th>кафетерий</th>\n",
       "      <td>6.00</td>\n",
       "    </tr>\n",
       "    <tr>\n",
       "      <th>предприятие быстрого обслуживания</th>\n",
       "      <td>5.00</td>\n",
       "    </tr>\n",
       "    <tr>\n",
       "      <th>закусочная</th>\n",
       "      <td>0.00</td>\n",
       "    </tr>\n",
       "    <tr>\n",
       "      <th>магазин (отдел кулинарии)</th>\n",
       "      <td>0.00</td>\n",
       "    </tr>\n",
       "  </tbody>\n",
       "</table>\n",
       "</div>"
      ],
      "text/plain": [
       "                                   среднее число мест\n",
       "object_type                                          \n",
       "столовая                                       103.00\n",
       "ресторан                                        80.00\n",
       "бар                                             35.00\n",
       "буфет                                           32.00\n",
       "кафе                                            30.00\n",
       "кафетерий                                        6.00\n",
       "предприятие быстрого обслуживания                5.00\n",
       "закусочная                                       0.00\n",
       "магазин (отдел кулинарии)                        0.00"
      ]
     },
     "execution_count": 71,
     "metadata": {},
     "output_type": "execute_result"
    }
   ],
   "source": [
    "# найдём медианное значение количества мест в заведениях каждого вида\n",
    "# так как медиана устраняет искажения выбросов\n",
    "df_place_median=df.groupby('object_type').agg({'number':['median']})\n",
    "df_place_median.columns = ['среднее число мест']\n",
    "df_place_median.sort_values(by='среднее число мест', ascending=False)"
   ]
  },
  {
   "cell_type": "code",
   "execution_count": 72,
   "id": "cc3f17af",
   "metadata": {},
   "outputs": [
    {
     "data": {
      "image/png": "[encoded data removed]",
      "text/plain": [
       "<Figure size 432x288 with 1 Axes>"
      ]
     },
     "metadata": {
      "needs_background": "light"
     },
     "output_type": "display_data"
    }
   ],
   "source": [
    "# визуализация\n",
    "df_place_median.sort_values(by='среднее число мест', ascending=False).plot.barh();\n",
    "plt.title('Среднее количество посадочных мест');\n",
    "plt.xlabel('количество');\n",
    "plt.ylabel('вид');\n",
    "plt.yticks(rotation=0,fontsize=12);"
   ]
  },
  {
   "cell_type": "code",
   "execution_count": 73,
   "id": "c719baa4",
   "metadata": {},
   "outputs": [
    {
     "data": {
      "image/png": "[encoded data removed]",
      "text/plain": [
       "<Figure size 576x432 with 1 Axes>"
      ]
     },
     "metadata": {
      "needs_background": "light"
     },
     "output_type": "display_data"
    }
   ],
   "source": [
    "# для презентации\n",
    "x = [\"столовая\", \"ресторан\", \"бар\", \"буфет\", \"кафе\", \"кафетерий\", \"фаст-фуд\", \"закусочная\", \"кулинария\"]\n",
    "y = [103,80, 35,32, 30, 6, 5, 0, 0 ]\n",
    "      \n",
    "plt.figure(figsize=(8, 6))\n",
    "splot=sns.barplot(x=x,y=y)\n",
    "for p in splot.patches:\n",
    "    splot.annotate(format(p.get_height(), '.1f'), \n",
    "                   (p.get_x() + p.get_width() / 2., p.get_height()), \n",
    "                   ha = 'center', va = 'center', \n",
    "                   size=15,\n",
    "                   xytext = (0, -12), \n",
    "                   textcoords = 'offset points')\n",
    "plt.xlabel(\"вид заведения\", size=14, )\n",
    "plt.ylabel(\"среднее количество мест\", size=14)\n",
    "plt.savefig(\"add_annotation_to_bars_in_barplot_Seaborn_Python.png\")\n",
    "plt.xticks(rotation=60,fontsize=12);\n",
    "plt.title('Среднее (медианное) количество посадочных мест');"
   ]
  },
  {
   "cell_type": "code",
   "execution_count": 74,
   "id": "47fe7ac0",
   "metadata": {},
   "outputs": [
    {
     "data": {
      "text/html": [
       "<div>\n",
       "<style scoped>\n",
       "    .dataframe tbody tr th:only-of-type {\n",
       "        vertical-align: middle;\n",
       "    }\n",
       "\n",
       "    .dataframe tbody tr th {\n",
       "        vertical-align: top;\n",
       "    }\n",
       "\n",
       "    .dataframe thead th {\n",
       "        text-align: right;\n",
       "    }\n",
       "</style>\n",
       "<table border=\"1\" class=\"dataframe\">\n",
       "  <thead>\n",
       "    <tr style=\"text-align: right;\">\n",
       "      <th></th>\n",
       "      <th>id</th>\n",
       "      <th>object_name</th>\n",
       "      <th>chain</th>\n",
       "      <th>object_type</th>\n",
       "      <th>address</th>\n",
       "      <th>number</th>\n",
       "      <th>number_category</th>\n",
       "    </tr>\n",
       "  </thead>\n",
       "  <tbody>\n",
       "    <tr>\n",
       "      <th>8</th>\n",
       "      <td>20958</td>\n",
       "      <td>кпф семья-1</td>\n",
       "      <td>несетевое заведение</td>\n",
       "      <td>столовая</td>\n",
       "      <td>город Москва, Авиамоторная улица, дом 8, строение 1</td>\n",
       "      <td>150</td>\n",
       "      <td>категория B</td>\n",
       "    </tr>\n",
       "    <tr>\n",
       "      <th>9</th>\n",
       "      <td>28858</td>\n",
       "      <td>столовая мтуси</td>\n",
       "      <td>несетевое заведение</td>\n",
       "      <td>столовая</td>\n",
       "      <td>город Москва, Авиамоторная улица, дом 8, строение 1</td>\n",
       "      <td>120</td>\n",
       "      <td>категория B</td>\n",
       "    </tr>\n",
       "    <tr>\n",
       "      <th>12</th>\n",
       "      <td>28582</td>\n",
       "      <td>школа 735</td>\n",
       "      <td>несетевое заведение</td>\n",
       "      <td>столовая</td>\n",
       "      <td>город Москва, Авиамоторная улица, дом 51</td>\n",
       "      <td>140</td>\n",
       "      <td>категория B</td>\n",
       "    </tr>\n",
       "    <tr>\n",
       "      <th>23</th>\n",
       "      <td>28751</td>\n",
       "      <td>гбоу школа № 1411 (970)</td>\n",
       "      <td>несетевое заведение</td>\n",
       "      <td>столовая</td>\n",
       "      <td>город Москва, Алтуфьевское шоссе, дом 42Б</td>\n",
       "      <td>120</td>\n",
       "      <td>категория B</td>\n",
       "    </tr>\n",
       "    <tr>\n",
       "      <th>64</th>\n",
       "      <td>27474</td>\n",
       "      <td>гбоу школа № 1078</td>\n",
       "      <td>несетевое заведение</td>\n",
       "      <td>столовая</td>\n",
       "      <td>город Москва, Байкальская улица, дом 29</td>\n",
       "      <td>110</td>\n",
       "      <td>категория B</td>\n",
       "    </tr>\n",
       "  </tbody>\n",
       "</table>\n",
       "</div>"
      ],
      "text/plain": [
       "       id              object_name                chain object_type  \\\n",
       "8   20958              кпф семья-1  несетевое заведение    столовая   \n",
       "9   28858           столовая мтуси  несетевое заведение    столовая   \n",
       "12  28582                школа 735  несетевое заведение    столовая   \n",
       "23  28751  гбоу школа № 1411 (970)  несетевое заведение    столовая   \n",
       "64  27474        гбоу школа № 1078  несетевое заведение    столовая   \n",
       "\n",
       "                                                address  number  \\\n",
       "8   город Москва, Авиамоторная улица, дом 8, строение 1     150   \n",
       "9   город Москва, Авиамоторная улица, дом 8, строение 1     120   \n",
       "12             город Москва, Авиамоторная улица, дом 51     140   \n",
       "23            город Москва, Алтуфьевское шоссе, дом 42Б     120   \n",
       "64              город Москва, Байкальская улица, дом 29     110   \n",
       "\n",
       "   number_category  \n",
       "8      категория B  \n",
       "9      категория B  \n",
       "12     категория B  \n",
       "23     категория B  \n",
       "64     категория B  "
      ]
     },
     "execution_count": 74,
     "metadata": {},
     "output_type": "execute_result"
    }
   ],
   "source": [
    "# посмотрим, может быть такое значительное количество посадочных мест - это выброс и единичный случай\n",
    "# категория В означает количество от 101 до 150 мест\n",
    "df_num=df.query('number_category == \"категория B\"')\n",
    "df_num=df_num.query('object_type == \"столовая\"')\n",
    "df_num.head()"
   ]
  },
  {
   "cell_type": "markdown",
   "id": "14e0a91b",
   "metadata": {},
   "source": [
    "Выявлено 376 столовых с количеством посадочных мест свыше 100."
   ]
  },
  {
   "cell_type": "markdown",
   "id": "ede103b3",
   "metadata": {},
   "source": [
    "#### Вывод.\n",
    "\n",
    "При расчёте среднего(медианного) количества посадочных мест установлены тенденции: наибольшим количеством располагают столовые, далее следуют рестораны, буфеты и бары, кафе замыкают пятёрку лидеров."
   ]
  },
  {
   "cell_type": "markdown",
   "id": "e925947b",
   "metadata": {},
   "source": [
    "### Выделим в отдельный столбец информацию об улице из столбца address ."
   ]
  },
  {
   "cell_type": "code",
   "execution_count": 75,
   "id": "34885ae1",
   "metadata": {},
   "outputs": [
    {
     "data": {
      "text/html": [
       "<div>\n",
       "<style scoped>\n",
       "    .dataframe tbody tr th:only-of-type {\n",
       "        vertical-align: middle;\n",
       "    }\n",
       "\n",
       "    .dataframe tbody tr th {\n",
       "        vertical-align: top;\n",
       "    }\n",
       "\n",
       "    .dataframe thead th {\n",
       "        text-align: right;\n",
       "    }\n",
       "</style>\n",
       "<table border=\"1\" class=\"dataframe\">\n",
       "  <thead>\n",
       "    <tr style=\"text-align: right;\">\n",
       "      <th></th>\n",
       "      <th>id</th>\n",
       "      <th>object_name</th>\n",
       "      <th>chain</th>\n",
       "      <th>object_type</th>\n",
       "      <th>address</th>\n",
       "      <th>number</th>\n",
       "      <th>number_category</th>\n",
       "      <th>street</th>\n",
       "    </tr>\n",
       "  </thead>\n",
       "  <tbody>\n",
       "    <tr>\n",
       "      <th>0</th>\n",
       "      <td>151635</td>\n",
       "      <td>сметана</td>\n",
       "      <td>несетевое заведение</td>\n",
       "      <td>кафе</td>\n",
       "      <td>город Москва, улица Егора Абакумова, дом 9</td>\n",
       "      <td>48</td>\n",
       "      <td>категория E</td>\n",
       "      <td>улица Егора Абакумова</td>\n",
       "    </tr>\n",
       "    <tr>\n",
       "      <th>1</th>\n",
       "      <td>77874</td>\n",
       "      <td>родник</td>\n",
       "      <td>несетевое заведение</td>\n",
       "      <td>кафе</td>\n",
       "      <td>город Москва, улица Талалихина, дом 2/1, корпус 1</td>\n",
       "      <td>35</td>\n",
       "      <td>категория E</td>\n",
       "      <td>улица Талалихина</td>\n",
       "    </tr>\n",
       "    <tr>\n",
       "      <th>2</th>\n",
       "      <td>24309</td>\n",
       "      <td>кафе «академия»</td>\n",
       "      <td>несетевое заведение</td>\n",
       "      <td>кафе</td>\n",
       "      <td>город Москва, Абельмановская улица, дом 6</td>\n",
       "      <td>95</td>\n",
       "      <td>категория C</td>\n",
       "      <td>Абельмановская улица</td>\n",
       "    </tr>\n",
       "    <tr>\n",
       "      <th>3</th>\n",
       "      <td>21894</td>\n",
       "      <td>пиццетория</td>\n",
       "      <td>сетевое заведение</td>\n",
       "      <td>кафе</td>\n",
       "      <td>город Москва, Абрамцевская улица, дом 1</td>\n",
       "      <td>40</td>\n",
       "      <td>категория E</td>\n",
       "      <td>Абрамцевская улица</td>\n",
       "    </tr>\n",
       "    <tr>\n",
       "      <th>4</th>\n",
       "      <td>119365</td>\n",
       "      <td>кафе «вишневая метель»</td>\n",
       "      <td>несетевое заведение</td>\n",
       "      <td>кафе</td>\n",
       "      <td>город Москва, Абрамцевская улица, дом 9, корпус 1</td>\n",
       "      <td>50</td>\n",
       "      <td>категория E</td>\n",
       "      <td>Абрамцевская улица</td>\n",
       "    </tr>\n",
       "  </tbody>\n",
       "</table>\n",
       "</div>"
      ],
      "text/plain": [
       "       id             object_name                chain object_type  \\\n",
       "0  151635                 сметана  несетевое заведение        кафе   \n",
       "1   77874                  родник  несетевое заведение        кафе   \n",
       "2   24309         кафе «академия»  несетевое заведение        кафе   \n",
       "3   21894              пиццетория    сетевое заведение        кафе   \n",
       "4  119365  кафе «вишневая метель»  несетевое заведение        кафе   \n",
       "\n",
       "                                             address  number number_category  \\\n",
       "0         город Москва, улица Егора Абакумова, дом 9      48     категория E   \n",
       "1  город Москва, улица Талалихина, дом 2/1, корпус 1      35     категория E   \n",
       "2          город Москва, Абельмановская улица, дом 6      95     категория C   \n",
       "3            город Москва, Абрамцевская улица, дом 1      40     категория E   \n",
       "4  город Москва, Абрамцевская улица, дом 9, корпус 1      50     категория E   \n",
       "\n",
       "                  street  \n",
       "0  улица Егора Абакумова  \n",
       "1       улица Талалихина  \n",
       "2   Абельмановская улица  \n",
       "3     Абрамцевская улица  \n",
       "4     Абрамцевская улица  "
      ]
     },
     "execution_count": 75,
     "metadata": {},
     "output_type": "execute_result"
    }
   ],
   "source": [
    "# Создаю регулярное выражение и добавляю столбец\n",
    "words = ['улица','ул','переулок','шоссе','проспект','площадь','проезд',\n",
    "         'село','аллея','бульвар','набережная','тупик','линия', 'просек']\n",
    "\n",
    "str_pat = r\".*,\\s*\\b([^,]*?(?:{})\\b[^,]*)[,$]+\".format(\"|\".join(words))\n",
    "\n",
    "df[\"street\"] = df[\"address\"].str.extract(str_pat, flags=re.I)\n",
    "\n",
    "df.head()"
   ]
  },
  {
   "cell_type": "code",
   "execution_count": 76,
   "id": "398e699d",
   "metadata": {},
   "outputs": [],
   "source": [
    "\n",
    "def address_search(address):\n",
    "\n",
    "    st = address.split(',')\n",
    "\n",
    "    words = ['улица','ул','переулок','шоссе','проспект','площадь','проезд',\n",
    "         'село','аллея','бульвар','набережная','тупик','линия', 'просек']\n",
    "\n",
    "    for x in words:\n",
    "        for i in range(len(st)):\n",
    "            if x in st[i]:\n",
    "                return st[i]"
   ]
  },
  {
   "cell_type": "code",
   "execution_count": 77,
   "id": "debe8475",
   "metadata": {},
   "outputs": [
    {
     "data": {
      "text/html": [
       "<div>\n",
       "<style scoped>\n",
       "    .dataframe tbody tr th:only-of-type {\n",
       "        vertical-align: middle;\n",
       "    }\n",
       "\n",
       "    .dataframe tbody tr th {\n",
       "        vertical-align: top;\n",
       "    }\n",
       "\n",
       "    .dataframe thead th {\n",
       "        text-align: right;\n",
       "    }\n",
       "</style>\n",
       "<table border=\"1\" class=\"dataframe\">\n",
       "  <thead>\n",
       "    <tr style=\"text-align: right;\">\n",
       "      <th></th>\n",
       "      <th>id</th>\n",
       "      <th>object_name</th>\n",
       "      <th>chain</th>\n",
       "      <th>object_type</th>\n",
       "      <th>address</th>\n",
       "      <th>number</th>\n",
       "      <th>number_category</th>\n",
       "      <th>street</th>\n",
       "      <th>address_search</th>\n",
       "    </tr>\n",
       "  </thead>\n",
       "  <tbody>\n",
       "    <tr>\n",
       "      <th>0</th>\n",
       "      <td>151635</td>\n",
       "      <td>сметана</td>\n",
       "      <td>несетевое заведение</td>\n",
       "      <td>кафе</td>\n",
       "      <td>город Москва, улица Егора Абакумова, дом 9</td>\n",
       "      <td>48</td>\n",
       "      <td>категория E</td>\n",
       "      <td>улица Егора Абакумова</td>\n",
       "      <td>улица Егора Абакумова</td>\n",
       "    </tr>\n",
       "    <tr>\n",
       "      <th>1</th>\n",
       "      <td>77874</td>\n",
       "      <td>родник</td>\n",
       "      <td>несетевое заведение</td>\n",
       "      <td>кафе</td>\n",
       "      <td>город Москва, улица Талалихина, дом 2/1, корпус 1</td>\n",
       "      <td>35</td>\n",
       "      <td>категория E</td>\n",
       "      <td>улица Талалихина</td>\n",
       "      <td>улица Талалихина</td>\n",
       "    </tr>\n",
       "    <tr>\n",
       "      <th>2</th>\n",
       "      <td>24309</td>\n",
       "      <td>кафе «академия»</td>\n",
       "      <td>несетевое заведение</td>\n",
       "      <td>кафе</td>\n",
       "      <td>город Москва, Абельмановская улица, дом 6</td>\n",
       "      <td>95</td>\n",
       "      <td>категория C</td>\n",
       "      <td>Абельмановская улица</td>\n",
       "      <td>Абельмановская улица</td>\n",
       "    </tr>\n",
       "    <tr>\n",
       "      <th>3</th>\n",
       "      <td>21894</td>\n",
       "      <td>пиццетория</td>\n",
       "      <td>сетевое заведение</td>\n",
       "      <td>кафе</td>\n",
       "      <td>город Москва, Абрамцевская улица, дом 1</td>\n",
       "      <td>40</td>\n",
       "      <td>категория E</td>\n",
       "      <td>Абрамцевская улица</td>\n",
       "      <td>Абрамцевская улица</td>\n",
       "    </tr>\n",
       "    <tr>\n",
       "      <th>4</th>\n",
       "      <td>119365</td>\n",
       "      <td>кафе «вишневая метель»</td>\n",
       "      <td>несетевое заведение</td>\n",
       "      <td>кафе</td>\n",
       "      <td>город Москва, Абрамцевская улица, дом 9, корпус 1</td>\n",
       "      <td>50</td>\n",
       "      <td>категория E</td>\n",
       "      <td>Абрамцевская улица</td>\n",
       "      <td>Абрамцевская улица</td>\n",
       "    </tr>\n",
       "    <tr>\n",
       "      <th>5</th>\n",
       "      <td>27429</td>\n",
       "      <td>стол. при гоу сош № 1051</td>\n",
       "      <td>несетевое заведение</td>\n",
       "      <td>столовая</td>\n",
       "      <td>город Москва, Абрамцевская улица, дом 15, корпус 1</td>\n",
       "      <td>240</td>\n",
       "      <td>категория A</td>\n",
       "      <td>Абрамцевская улица</td>\n",
       "      <td>Абрамцевская улица</td>\n",
       "    </tr>\n",
       "    <tr>\n",
       "      <th>6</th>\n",
       "      <td>148815</td>\n",
       "      <td>брусника</td>\n",
       "      <td>сетевое заведение</td>\n",
       "      <td>кафе</td>\n",
       "      <td>город Москва, переулок Сивцев Вражек, дом 6/2</td>\n",
       "      <td>10</td>\n",
       "      <td>категория F</td>\n",
       "      <td>переулок Сивцев Вражек</td>\n",
       "      <td>переулок Сивцев Вражек</td>\n",
       "    </tr>\n",
       "    <tr>\n",
       "      <th>7</th>\n",
       "      <td>20957</td>\n",
       "      <td>буфет мтуси</td>\n",
       "      <td>несетевое заведение</td>\n",
       "      <td>столовая</td>\n",
       "      <td>город Москва, Авиамоторная улица, дом 8, строение 1</td>\n",
       "      <td>90</td>\n",
       "      <td>категория C</td>\n",
       "      <td>Авиамоторная улица</td>\n",
       "      <td>Авиамоторная улица</td>\n",
       "    </tr>\n",
       "    <tr>\n",
       "      <th>8</th>\n",
       "      <td>20958</td>\n",
       "      <td>кпф семья-1</td>\n",
       "      <td>несетевое заведение</td>\n",
       "      <td>столовая</td>\n",
       "      <td>город Москва, Авиамоторная улица, дом 8, строение 1</td>\n",
       "      <td>150</td>\n",
       "      <td>категория B</td>\n",
       "      <td>Авиамоторная улица</td>\n",
       "      <td>Авиамоторная улица</td>\n",
       "    </tr>\n",
       "    <tr>\n",
       "      <th>9</th>\n",
       "      <td>28858</td>\n",
       "      <td>столовая мтуси</td>\n",
       "      <td>несетевое заведение</td>\n",
       "      <td>столовая</td>\n",
       "      <td>город Москва, Авиамоторная улица, дом 8, строение 1</td>\n",
       "      <td>120</td>\n",
       "      <td>категория B</td>\n",
       "      <td>Авиамоторная улица</td>\n",
       "      <td>Авиамоторная улица</td>\n",
       "    </tr>\n",
       "  </tbody>\n",
       "</table>\n",
       "</div>"
      ],
      "text/plain": [
       "       id               object_name                chain object_type  \\\n",
       "0  151635                   сметана  несетевое заведение        кафе   \n",
       "1   77874                    родник  несетевое заведение        кафе   \n",
       "2   24309           кафе «академия»  несетевое заведение        кафе   \n",
       "3   21894                пиццетория    сетевое заведение        кафе   \n",
       "4  119365    кафе «вишневая метель»  несетевое заведение        кафе   \n",
       "5   27429  стол. при гоу сош № 1051  несетевое заведение    столовая   \n",
       "6  148815                  брусника    сетевое заведение        кафе   \n",
       "7   20957               буфет мтуси  несетевое заведение    столовая   \n",
       "8   20958               кпф семья-1  несетевое заведение    столовая   \n",
       "9   28858            столовая мтуси  несетевое заведение    столовая   \n",
       "\n",
       "                                               address  number  \\\n",
       "0           город Москва, улица Егора Абакумова, дом 9      48   \n",
       "1    город Москва, улица Талалихина, дом 2/1, корпус 1      35   \n",
       "2            город Москва, Абельмановская улица, дом 6      95   \n",
       "3              город Москва, Абрамцевская улица, дом 1      40   \n",
       "4    город Москва, Абрамцевская улица, дом 9, корпус 1      50   \n",
       "5   город Москва, Абрамцевская улица, дом 15, корпус 1     240   \n",
       "6        город Москва, переулок Сивцев Вражек, дом 6/2      10   \n",
       "7  город Москва, Авиамоторная улица, дом 8, строение 1      90   \n",
       "8  город Москва, Авиамоторная улица, дом 8, строение 1     150   \n",
       "9  город Москва, Авиамоторная улица, дом 8, строение 1     120   \n",
       "\n",
       "  number_category                  street           address_search  \n",
       "0     категория E   улица Егора Абакумова    улица Егора Абакумова  \n",
       "1     категория E        улица Талалихина         улица Талалихина  \n",
       "2     категория C    Абельмановская улица     Абельмановская улица  \n",
       "3     категория E      Абрамцевская улица       Абрамцевская улица  \n",
       "4     категория E      Абрамцевская улица       Абрамцевская улица  \n",
       "5     категория A      Абрамцевская улица       Абрамцевская улица  \n",
       "6     категория F  переулок Сивцев Вражек   переулок Сивцев Вражек  \n",
       "7     категория C      Авиамоторная улица       Авиамоторная улица  \n",
       "8     категория B      Авиамоторная улица       Авиамоторная улица  \n",
       "9     категория B      Авиамоторная улица       Авиамоторная улица  "
      ]
     },
     "execution_count": 77,
     "metadata": {},
     "output_type": "execute_result"
    }
   ],
   "source": [
    "df['address_search'] = df['address'].apply(address_search)\n",
    "df.head(10)"
   ]
  },
  {
   "cell_type": "markdown",
   "id": "4cc451d7",
   "metadata": {},
   "source": [
    "### Построение графика топ-10 улиц по количеству объектов общественного питания. С применением внешней информации получим  ответ на вопрос — в каких районах Москвы находятся эти улицы?"
   ]
  },
  {
   "cell_type": "code",
   "execution_count": 78,
   "id": "0ba3274a",
   "metadata": {},
   "outputs": [
    {
     "data": {
      "text/html": [
       "<div>\n",
       "<style scoped>\n",
       "    .dataframe tbody tr th:only-of-type {\n",
       "        vertical-align: middle;\n",
       "    }\n",
       "\n",
       "    .dataframe tbody tr th {\n",
       "        vertical-align: top;\n",
       "    }\n",
       "\n",
       "    .dataframe thead th {\n",
       "        text-align: right;\n",
       "    }\n",
       "</style>\n",
       "<table border=\"1\" class=\"dataframe\">\n",
       "  <thead>\n",
       "    <tr style=\"text-align: right;\">\n",
       "      <th></th>\n",
       "      <th>streetname</th>\n",
       "      <th>areaid</th>\n",
       "      <th>okrug</th>\n",
       "      <th>area</th>\n",
       "    </tr>\n",
       "  </thead>\n",
       "  <tbody>\n",
       "    <tr>\n",
       "      <th>0</th>\n",
       "      <td>Выставочный переулок</td>\n",
       "      <td>17</td>\n",
       "      <td>ЦАО</td>\n",
       "      <td>Пресненский район</td>\n",
       "    </tr>\n",
       "    <tr>\n",
       "      <th>1</th>\n",
       "      <td>улица Гашека</td>\n",
       "      <td>17</td>\n",
       "      <td>ЦАО</td>\n",
       "      <td>Пресненский район</td>\n",
       "    </tr>\n",
       "    <tr>\n",
       "      <th>2</th>\n",
       "      <td>Большая Никитская улица</td>\n",
       "      <td>17</td>\n",
       "      <td>ЦАО</td>\n",
       "      <td>Пресненский район</td>\n",
       "    </tr>\n",
       "    <tr>\n",
       "      <th>3</th>\n",
       "      <td>Глубокий переулок</td>\n",
       "      <td>17</td>\n",
       "      <td>ЦАО</td>\n",
       "      <td>Пресненский район</td>\n",
       "    </tr>\n",
       "    <tr>\n",
       "      <th>4</th>\n",
       "      <td>Большой Гнездниковский переулок</td>\n",
       "      <td>17</td>\n",
       "      <td>ЦАО</td>\n",
       "      <td>Пресненский район</td>\n",
       "    </tr>\n",
       "  </tbody>\n",
       "</table>\n",
       "</div>"
      ],
      "text/plain": [
       "                        streetname  areaid okrug               area\n",
       "0             Выставочный переулок      17   ЦАО  Пресненский район\n",
       "1                     улица Гашека      17   ЦАО  Пресненский район\n",
       "2          Большая Никитская улица      17   ЦАО  Пресненский район\n",
       "3                Глубокий переулок      17   ЦАО  Пресненский район\n",
       "4  Большой Гнездниковский переулок      17   ЦАО  Пресненский район"
      ]
     },
     "execution_count": 78,
     "metadata": {},
     "output_type": "execute_result"
    }
   ],
   "source": [
    "# Применение внешних источников для определения района\n",
    "from io import BytesIO\n",
    "import requests\n",
    "spreadsheet_id = '1jB0T2q4XbQMUOSVmjCMS8cJDhBjdmhJcWcwsV_WcsQM'\n",
    "file_name = 'https://docs.google.com/spreadsheets/d/{}/export?format=csv'.format(spreadsheet_id)\n",
    "r = requests.get(file_name)\n",
    "moscow_districts = pd.read_csv(BytesIO(r.content))\n",
    "moscow_districts.head()"
   ]
  },
  {
   "cell_type": "code",
   "execution_count": 79,
   "id": "aa19d79e",
   "metadata": {},
   "outputs": [
    {
     "name": "stdout",
     "output_type": "stream",
     "text": [
      "<class 'pandas.core.frame.DataFrame'>\n",
      "RangeIndex: 4398 entries, 0 to 4397\n",
      "Data columns (total 4 columns):\n",
      " #   Column   Non-Null Count  Dtype \n",
      "---  ------   --------------  ----- \n",
      " 0   street   4398 non-null   object\n",
      " 1   area_id  4398 non-null   int64 \n",
      " 2   okrug    4398 non-null   object\n",
      " 3   area     4398 non-null   object\n",
      "dtypes: int64(1), object(3)\n",
      "memory usage: 137.6+ KB\n"
     ]
    }
   ],
   "source": [
    "# переименуем столбцы, подготовимся к объединению\n",
    "moscow_districts.rename(columns={'streetname' : 'street', 'areaid' : 'area_id'}, inplace = True)\n",
    "moscow_districts.info()"
   ]
  },
  {
   "cell_type": "code",
   "execution_count": 80,
   "id": "74ee86d0",
   "metadata": {},
   "outputs": [
    {
     "data": {
      "text/plain": [
       "street\n",
       "проспект Мира             204\n",
       "Профсоюзная улица         182\n",
       "Ленинградский проспект    171\n",
       "Пресненская набережная    167\n",
       "Варшавское шоссе          164\n",
       "Ленинский проспект        147\n",
       "проспект Вернадского      132\n",
       "Кутузовский проспект      114\n",
       "Каширское шоссе           112\n",
       "Кировоградская улица      110\n",
       "Name: id, dtype: int64"
      ]
     },
     "execution_count": 80,
     "metadata": {},
     "output_type": "execute_result"
    }
   ],
   "source": [
    "# определим количество заведений и составим топ-10\n",
    "df_object_top=df.groupby('street')['id'].count().sort_values(ascending=False).head(10)\n",
    "df_object_top"
   ]
  },
  {
   "cell_type": "code",
   "execution_count": 81,
   "id": "d7c2a6df",
   "metadata": {},
   "outputs": [
    {
     "data": {
      "image/png": "[encoded data removed]",
      "text/plain": [
       "<Figure size 432x288 with 1 Axes>"
      ]
     },
     "metadata": {
      "needs_background": "light"
     },
     "output_type": "display_data"
    }
   ],
   "source": [
    "# визуализация\n",
    "df_object_top.plot.barh();\n",
    "plt.title('Топ-10 улиц',fontsize=16);\n",
    "plt.xlabel('количество заведений');\n",
    "plt.ylabel('улица');\n",
    "plt.yticks(rotation=0,fontsize=12);"
   ]
  },
  {
   "cell_type": "code",
   "execution_count": 82,
   "id": "29f90f35",
   "metadata": {},
   "outputs": [],
   "source": [
    "# создам список топовых улиц\n",
    "list_street =['проспект Мира', 'Профсоюзная улица', 'Ленинградский проспект', 'Пресненская набережная','Варшавское шоссе','Ленинский проспект','проспект Вернадского','Кутузовский проспект','Каширское шоссе','Кировоградская улица']"
   ]
  },
  {
   "cell_type": "code",
   "execution_count": 83,
   "id": "b56a4366",
   "metadata": {},
   "outputs": [
    {
     "data": {
      "text/html": [
       "<div>\n",
       "<style scoped>\n",
       "    .dataframe tbody tr th:only-of-type {\n",
       "        vertical-align: middle;\n",
       "    }\n",
       "\n",
       "    .dataframe tbody tr th {\n",
       "        vertical-align: top;\n",
       "    }\n",
       "\n",
       "    .dataframe thead th {\n",
       "        text-align: right;\n",
       "    }\n",
       "</style>\n",
       "<table border=\"1\" class=\"dataframe\">\n",
       "  <thead>\n",
       "    <tr style=\"text-align: right;\">\n",
       "      <th></th>\n",
       "      <th>id</th>\n",
       "      <th>object_name</th>\n",
       "      <th>chain</th>\n",
       "      <th>object_type</th>\n",
       "      <th>address</th>\n",
       "      <th>number</th>\n",
       "      <th>number_category</th>\n",
       "      <th>street</th>\n",
       "      <th>address_search</th>\n",
       "    </tr>\n",
       "  </thead>\n",
       "  <tbody>\n",
       "    <tr>\n",
       "      <th>151</th>\n",
       "      <td>155973</td>\n",
       "      <td>кафе «андерсон»</td>\n",
       "      <td>сетевое заведение</td>\n",
       "      <td>кафе</td>\n",
       "      <td>город Москва, Варшавское шоссе, дом 2</td>\n",
       "      <td>150</td>\n",
       "      <td>категория B</td>\n",
       "      <td>Варшавское шоссе</td>\n",
       "      <td>Варшавское шоссе</td>\n",
       "    </tr>\n",
       "    <tr>\n",
       "      <th>152</th>\n",
       "      <td>23618</td>\n",
       "      <td>кафе «subway»</td>\n",
       "      <td>сетевое заведение</td>\n",
       "      <td>кафе</td>\n",
       "      <td>город Москва, Варшавское шоссе, дом 7, корпус 1</td>\n",
       "      <td>36</td>\n",
       "      <td>категория E</td>\n",
       "      <td>Варшавское шоссе</td>\n",
       "      <td>Варшавское шоссе</td>\n",
       "    </tr>\n",
       "    <tr>\n",
       "      <th>153</th>\n",
       "      <td>155852</td>\n",
       "      <td>кафе «ламаджо»</td>\n",
       "      <td>несетевое заведение</td>\n",
       "      <td>кафе</td>\n",
       "      <td>город Москва, Варшавское шоссе, дом 29</td>\n",
       "      <td>30</td>\n",
       "      <td>категория E</td>\n",
       "      <td>Варшавское шоссе</td>\n",
       "      <td>Варшавское шоссе</td>\n",
       "    </tr>\n",
       "    <tr>\n",
       "      <th>154</th>\n",
       "      <td>152556</td>\n",
       "      <td>шаурма в пите</td>\n",
       "      <td>несетевое заведение</td>\n",
       "      <td>предприятие быстрого обслуживания</td>\n",
       "      <td>город Москва, Варшавское шоссе, дом 72, корпус 2</td>\n",
       "      <td>0</td>\n",
       "      <td>без мест</td>\n",
       "      <td>Варшавское шоссе</td>\n",
       "      <td>Варшавское шоссе</td>\n",
       "    </tr>\n",
       "    <tr>\n",
       "      <th>155</th>\n",
       "      <td>120658</td>\n",
       "      <td>выпечка</td>\n",
       "      <td>несетевое заведение</td>\n",
       "      <td>кафетерий</td>\n",
       "      <td>город Москва, Варшавское шоссе, дом 100</td>\n",
       "      <td>2</td>\n",
       "      <td>категория F</td>\n",
       "      <td>Варшавское шоссе</td>\n",
       "      <td>Варшавское шоссе</td>\n",
       "    </tr>\n",
       "    <tr>\n",
       "      <th>...</th>\n",
       "      <td>...</td>\n",
       "      <td>...</td>\n",
       "      <td>...</td>\n",
       "      <td>...</td>\n",
       "      <td>...</td>\n",
       "      <td>...</td>\n",
       "      <td>...</td>\n",
       "      <td>...</td>\n",
       "      <td>...</td>\n",
       "    </tr>\n",
       "    <tr>\n",
       "      <th>15308</th>\n",
       "      <td>213629</td>\n",
       "      <td>додо пицца</td>\n",
       "      <td>сетевое заведение</td>\n",
       "      <td>кафе</td>\n",
       "      <td>город Москва, Пресненская набережная, дом 12</td>\n",
       "      <td>25</td>\n",
       "      <td>категория F</td>\n",
       "      <td>Пресненская набережная</td>\n",
       "      <td>Пресненская набережная</td>\n",
       "    </tr>\n",
       "    <tr>\n",
       "      <th>15325</th>\n",
       "      <td>198436</td>\n",
       "      <td>милти</td>\n",
       "      <td>сетевое заведение</td>\n",
       "      <td>предприятие быстрого обслуживания</td>\n",
       "      <td>город Москва, Ленинградский проспект, дом 80, корпус 17</td>\n",
       "      <td>0</td>\n",
       "      <td>без мест</td>\n",
       "      <td>Ленинградский проспект</td>\n",
       "      <td>Ленинградский проспект</td>\n",
       "    </tr>\n",
       "    <tr>\n",
       "      <th>15347</th>\n",
       "      <td>222491</td>\n",
       "      <td>кальянная «мята lounge»</td>\n",
       "      <td>сетевое заведение</td>\n",
       "      <td>кафе</td>\n",
       "      <td>город Москва, Профсоюзная улица, дом 142, корпус 1, строение 1</td>\n",
       "      <td>40</td>\n",
       "      <td>категория E</td>\n",
       "      <td>Профсоюзная улица</td>\n",
       "      <td>Профсоюзная улица</td>\n",
       "    </tr>\n",
       "    <tr>\n",
       "      <th>15350</th>\n",
       "      <td>213061</td>\n",
       "      <td>мята</td>\n",
       "      <td>сетевое заведение</td>\n",
       "      <td>кафетерий</td>\n",
       "      <td>город Москва, Каширское шоссе, дом 96, корпус 1</td>\n",
       "      <td>35</td>\n",
       "      <td>категория E</td>\n",
       "      <td>Каширское шоссе</td>\n",
       "      <td>Каширское шоссе</td>\n",
       "    </tr>\n",
       "    <tr>\n",
       "      <th>15358</th>\n",
       "      <td>213724</td>\n",
       "      <td>шоколадница</td>\n",
       "      <td>сетевое заведение</td>\n",
       "      <td>кафе</td>\n",
       "      <td>город Москва, Варшавское шоссе, дом 87Б</td>\n",
       "      <td>54</td>\n",
       "      <td>категория D</td>\n",
       "      <td>Варшавское шоссе</td>\n",
       "      <td>Варшавское шоссе</td>\n",
       "    </tr>\n",
       "  </tbody>\n",
       "</table>\n",
       "<p>1503 rows × 9 columns</p>\n",
       "</div>"
      ],
      "text/plain": [
       "           id              object_name                chain  \\\n",
       "151    155973          кафе «андерсон»    сетевое заведение   \n",
       "152     23618            кафе «subway»    сетевое заведение   \n",
       "153    155852           кафе «ламаджо»  несетевое заведение   \n",
       "154    152556            шаурма в пите  несетевое заведение   \n",
       "155    120658                  выпечка  несетевое заведение   \n",
       "...       ...                      ...                  ...   \n",
       "15308  213629               додо пицца    сетевое заведение   \n",
       "15325  198436                    милти    сетевое заведение   \n",
       "15347  222491  кальянная «мята lounge»    сетевое заведение   \n",
       "15350  213061                     мята    сетевое заведение   \n",
       "15358  213724              шоколадница    сетевое заведение   \n",
       "\n",
       "                             object_type  \\\n",
       "151                                 кафе   \n",
       "152                                 кафе   \n",
       "153                                 кафе   \n",
       "154    предприятие быстрого обслуживания   \n",
       "155                            кафетерий   \n",
       "...                                  ...   \n",
       "15308                               кафе   \n",
       "15325  предприятие быстрого обслуживания   \n",
       "15347                               кафе   \n",
       "15350                          кафетерий   \n",
       "15358                               кафе   \n",
       "\n",
       "                                                              address  number  \\\n",
       "151                             город Москва, Варшавское шоссе, дом 2     150   \n",
       "152                   город Москва, Варшавское шоссе, дом 7, корпус 1      36   \n",
       "153                            город Москва, Варшавское шоссе, дом 29      30   \n",
       "154                  город Москва, Варшавское шоссе, дом 72, корпус 2       0   \n",
       "155                           город Москва, Варшавское шоссе, дом 100       2   \n",
       "...                                                               ...     ...   \n",
       "15308                    город Москва, Пресненская набережная, дом 12      25   \n",
       "15325         город Москва, Ленинградский проспект, дом 80, корпус 17       0   \n",
       "15347  город Москва, Профсоюзная улица, дом 142, корпус 1, строение 1      40   \n",
       "15350                 город Москва, Каширское шоссе, дом 96, корпус 1      35   \n",
       "15358                         город Москва, Варшавское шоссе, дом 87Б      54   \n",
       "\n",
       "      number_category                  street           address_search  \n",
       "151       категория B        Варшавское шоссе         Варшавское шоссе  \n",
       "152       категория E        Варшавское шоссе         Варшавское шоссе  \n",
       "153       категория E        Варшавское шоссе         Варшавское шоссе  \n",
       "154          без мест        Варшавское шоссе         Варшавское шоссе  \n",
       "155       категория F        Варшавское шоссе         Варшавское шоссе  \n",
       "...               ...                     ...                      ...  \n",
       "15308     категория F  Пресненская набережная   Пресненская набережная  \n",
       "15325        без мест  Ленинградский проспект   Ленинградский проспект  \n",
       "15347     категория E       Профсоюзная улица        Профсоюзная улица  \n",
       "15350     категория E         Каширское шоссе          Каширское шоссе  \n",
       "15358     категория D        Варшавское шоссе         Варшавское шоссе  \n",
       "\n",
       "[1503 rows x 9 columns]"
      ]
     },
     "execution_count": 83,
     "metadata": {},
     "output_type": "execute_result"
    }
   ],
   "source": [
    "# датафрейм для топовых улиц\n",
    "df_top_street =df.query('street in @list_street')\n",
    "df_top_street"
   ]
  },
  {
   "cell_type": "code",
   "execution_count": 84,
   "id": "73bdfc5a",
   "metadata": {},
   "outputs": [
    {
     "data": {
      "text/html": [
       "<div>\n",
       "<style scoped>\n",
       "    .dataframe tbody tr th:only-of-type {\n",
       "        vertical-align: middle;\n",
       "    }\n",
       "\n",
       "    .dataframe tbody tr th {\n",
       "        vertical-align: top;\n",
       "    }\n",
       "\n",
       "    .dataframe thead th {\n",
       "        text-align: right;\n",
       "    }\n",
       "</style>\n",
       "<table border=\"1\" class=\"dataframe\">\n",
       "  <thead>\n",
       "    <tr style=\"text-align: right;\">\n",
       "      <th></th>\n",
       "      <th>street</th>\n",
       "      <th>Варшавское шоссе</th>\n",
       "      <th>Каширское шоссе</th>\n",
       "      <th>Кировоградская улица</th>\n",
       "      <th>Кутузовский проспект</th>\n",
       "      <th>Ленинградский проспект</th>\n",
       "      <th>Ленинский проспект</th>\n",
       "      <th>Пресненская набережная</th>\n",
       "      <th>Профсоюзная улица</th>\n",
       "      <th>проспект Вернадского</th>\n",
       "      <th>проспект Мира</th>\n",
       "    </tr>\n",
       "    <tr>\n",
       "      <th></th>\n",
       "      <th>object_type</th>\n",
       "      <th></th>\n",
       "      <th></th>\n",
       "      <th></th>\n",
       "      <th></th>\n",
       "      <th></th>\n",
       "      <th></th>\n",
       "      <th></th>\n",
       "      <th></th>\n",
       "      <th></th>\n",
       "      <th></th>\n",
       "    </tr>\n",
       "  </thead>\n",
       "  <tbody>\n",
       "    <tr>\n",
       "      <th rowspan=\"9\" valign=\"top\">count</th>\n",
       "      <th>бар</th>\n",
       "      <td>6.00</td>\n",
       "      <td>2.00</td>\n",
       "      <td>4.00</td>\n",
       "      <td>6.00</td>\n",
       "      <td>10.00</td>\n",
       "      <td>6.00</td>\n",
       "      <td>5.00</td>\n",
       "      <td>5.00</td>\n",
       "      <td>4.00</td>\n",
       "      <td>15.00</td>\n",
       "    </tr>\n",
       "    <tr>\n",
       "      <th>буфет</th>\n",
       "      <td>6.00</td>\n",
       "      <td>3.00</td>\n",
       "      <td>1.00</td>\n",
       "      <td>1.00</td>\n",
       "      <td>6.00</td>\n",
       "      <td>1.00</td>\n",
       "      <td>1.00</td>\n",
       "      <td>5.00</td>\n",
       "      <td>5.00</td>\n",
       "      <td>3.00</td>\n",
       "    </tr>\n",
       "    <tr>\n",
       "      <th>закусочная</th>\n",
       "      <td>2.00</td>\n",
       "      <td>NaN</td>\n",
       "      <td>4.00</td>\n",
       "      <td>2.00</td>\n",
       "      <td>NaN</td>\n",
       "      <td>1.00</td>\n",
       "      <td>NaN</td>\n",
       "      <td>2.00</td>\n",
       "      <td>2.00</td>\n",
       "      <td>4.00</td>\n",
       "    </tr>\n",
       "    <tr>\n",
       "      <th>кафе</th>\n",
       "      <td>66.00</td>\n",
       "      <td>30.00</td>\n",
       "      <td>17.00</td>\n",
       "      <td>41.00</td>\n",
       "      <td>70.00</td>\n",
       "      <td>64.00</td>\n",
       "      <td>98.00</td>\n",
       "      <td>90.00</td>\n",
       "      <td>56.00</td>\n",
       "      <td>103.00</td>\n",
       "    </tr>\n",
       "    <tr>\n",
       "      <th>кафетерий</th>\n",
       "      <td>8.00</td>\n",
       "      <td>8.00</td>\n",
       "      <td>2.00</td>\n",
       "      <td>NaN</td>\n",
       "      <td>3.00</td>\n",
       "      <td>3.00</td>\n",
       "      <td>5.00</td>\n",
       "      <td>10.00</td>\n",
       "      <td>3.00</td>\n",
       "      <td>5.00</td>\n",
       "    </tr>\n",
       "    <tr>\n",
       "      <th>магазин (отдел кулинарии)</th>\n",
       "      <td>2.00</td>\n",
       "      <td>NaN</td>\n",
       "      <td>3.00</td>\n",
       "      <td>2.00</td>\n",
       "      <td>5.00</td>\n",
       "      <td>NaN</td>\n",
       "      <td>NaN</td>\n",
       "      <td>2.00</td>\n",
       "      <td>2.00</td>\n",
       "      <td>8.00</td>\n",
       "    </tr>\n",
       "    <tr>\n",
       "      <th>предприятие быстрого обслуживания</th>\n",
       "      <td>40.00</td>\n",
       "      <td>43.00</td>\n",
       "      <td>47.00</td>\n",
       "      <td>8.00</td>\n",
       "      <td>16.00</td>\n",
       "      <td>9.00</td>\n",
       "      <td>18.00</td>\n",
       "      <td>23.00</td>\n",
       "      <td>27.00</td>\n",
       "      <td>26.00</td>\n",
       "    </tr>\n",
       "    <tr>\n",
       "      <th>ресторан</th>\n",
       "      <td>9.00</td>\n",
       "      <td>9.00</td>\n",
       "      <td>18.00</td>\n",
       "      <td>48.00</td>\n",
       "      <td>48.00</td>\n",
       "      <td>37.00</td>\n",
       "      <td>40.00</td>\n",
       "      <td>31.00</td>\n",
       "      <td>19.00</td>\n",
       "      <td>32.00</td>\n",
       "    </tr>\n",
       "    <tr>\n",
       "      <th>столовая</th>\n",
       "      <td>25.00</td>\n",
       "      <td>17.00</td>\n",
       "      <td>14.00</td>\n",
       "      <td>6.00</td>\n",
       "      <td>13.00</td>\n",
       "      <td>26.00</td>\n",
       "      <td>NaN</td>\n",
       "      <td>14.00</td>\n",
       "      <td>14.00</td>\n",
       "      <td>8.00</td>\n",
       "    </tr>\n",
       "  </tbody>\n",
       "</table>\n",
       "</div>"
      ],
      "text/plain": [
       "street                                   Варшавское шоссе  Каширское шоссе  \\\n",
       "      object_type                                                            \n",
       "count бар                                            6.00             2.00   \n",
       "      буфет                                          6.00             3.00   \n",
       "      закусочная                                     2.00              NaN   \n",
       "      кафе                                          66.00            30.00   \n",
       "      кафетерий                                      8.00             8.00   \n",
       "      магазин (отдел кулинарии)                      2.00              NaN   \n",
       "      предприятие быстрого обслуживания             40.00            43.00   \n",
       "      ресторан                                       9.00             9.00   \n",
       "      столовая                                      25.00            17.00   \n",
       "\n",
       "street                                   Кировоградская улица  \\\n",
       "      object_type                                               \n",
       "count бар                                                4.00   \n",
       "      буфет                                              1.00   \n",
       "      закусочная                                         4.00   \n",
       "      кафе                                              17.00   \n",
       "      кафетерий                                          2.00   \n",
       "      магазин (отдел кулинарии)                          3.00   \n",
       "      предприятие быстрого обслуживания                 47.00   \n",
       "      ресторан                                          18.00   \n",
       "      столовая                                          14.00   \n",
       "\n",
       "street                                   Кутузовский проспект  \\\n",
       "      object_type                                               \n",
       "count бар                                                6.00   \n",
       "      буфет                                              1.00   \n",
       "      закусочная                                         2.00   \n",
       "      кафе                                              41.00   \n",
       "      кафетерий                                           NaN   \n",
       "      магазин (отдел кулинарии)                          2.00   \n",
       "      предприятие быстрого обслуживания                  8.00   \n",
       "      ресторан                                          48.00   \n",
       "      столовая                                           6.00   \n",
       "\n",
       "street                                   Ленинградский проспект  \\\n",
       "      object_type                                                 \n",
       "count бар                                                 10.00   \n",
       "      буфет                                                6.00   \n",
       "      закусочная                                            NaN   \n",
       "      кафе                                                70.00   \n",
       "      кафетерий                                            3.00   \n",
       "      магазин (отдел кулинарии)                            5.00   \n",
       "      предприятие быстрого обслуживания                   16.00   \n",
       "      ресторан                                            48.00   \n",
       "      столовая                                            13.00   \n",
       "\n",
       "street                                   Ленинский проспект  \\\n",
       "      object_type                                             \n",
       "count бар                                              6.00   \n",
       "      буфет                                            1.00   \n",
       "      закусочная                                       1.00   \n",
       "      кафе                                            64.00   \n",
       "      кафетерий                                        3.00   \n",
       "      магазин (отдел кулинарии)                         NaN   \n",
       "      предприятие быстрого обслуживания                9.00   \n",
       "      ресторан                                        37.00   \n",
       "      столовая                                        26.00   \n",
       "\n",
       "street                                   Пресненская набережная  \\\n",
       "      object_type                                                 \n",
       "count бар                                                  5.00   \n",
       "      буфет                                                1.00   \n",
       "      закусочная                                            NaN   \n",
       "      кафе                                                98.00   \n",
       "      кафетерий                                            5.00   \n",
       "      магазин (отдел кулинарии)                             NaN   \n",
       "      предприятие быстрого обслуживания                   18.00   \n",
       "      ресторан                                            40.00   \n",
       "      столовая                                              NaN   \n",
       "\n",
       "street                                   Профсоюзная улица  \\\n",
       "      object_type                                            \n",
       "count бар                                             5.00   \n",
       "      буфет                                           5.00   \n",
       "      закусочная                                      2.00   \n",
       "      кафе                                           90.00   \n",
       "      кафетерий                                      10.00   \n",
       "      магазин (отдел кулинарии)                       2.00   \n",
       "      предприятие быстрого обслуживания              23.00   \n",
       "      ресторан                                       31.00   \n",
       "      столовая                                       14.00   \n",
       "\n",
       "street                                   проспект Вернадского  проспект Мира  \n",
       "      object_type                                                             \n",
       "count бар                                                4.00          15.00  \n",
       "      буфет                                              5.00           3.00  \n",
       "      закусочная                                         2.00           4.00  \n",
       "      кафе                                              56.00         103.00  \n",
       "      кафетерий                                          3.00           5.00  \n",
       "      магазин (отдел кулинарии)                          2.00           8.00  \n",
       "      предприятие быстрого обслуживания                 27.00          26.00  \n",
       "      ресторан                                          19.00          32.00  \n",
       "      столовая                                          14.00           8.00  "
      ]
     },
     "execution_count": 84,
     "metadata": {},
     "output_type": "execute_result"
    }
   ],
   "source": [
    "# посмотрим какие заведения наиболее распространены на основных улицах города\n",
    "df_top_street_pivot_table = df_top_street.pivot_table(index='street', columns = 'object_type', values = 'id', aggfunc = ['count'])\n",
    "df_top_street_pivot_table.T"
   ]
  },
  {
   "cell_type": "markdown",
   "id": "37f4e61a",
   "metadata": {},
   "source": [
    "**Развёрнутые данные по видам заведений в топ-10**\n",
    "\n",
    "проспект Мира             204, в т.ч 103 кафе, 32 ресторана, меньше всего баров и закусочных.\n",
    "\n",
    "Профсоюзная улица         181, в т.ч 90 кафе, 30 ресторанов, меньше всего баров и закусочных.\n",
    "\n",
    "Ленинградский проспект    170, в т.ч 70 кафе, 48 ресторанов, меньше всего буфетов, кулинарий и кафетериев.\n",
    "\n",
    "Пресненская набережная    167, в т.ч 98 кафе, 40 ресторанов, меньше всего буфетов, нет закусочных, кулинарий и столовых.\n",
    "\n",
    "Варшавское шоссе          164, в т.ч 66 кафе, 40 предприятий быстрого обслуживания, меньше всего закусочных, кулинарий.\n",
    "\n",
    "Ленинский проспект        147, в т.ч 64 кафе, 37 ресторанов, меньше всего закусочных и буфетов, нет кулинарий.\n",
    "\n",
    "проспект Вернадского      128, в т.ч 55 кафе, 24 предприятий быстрого обслуживания, меньше всего закусочных, кулинарий.\n",
    "\n",
    "Кутузовский проспект      114, в т.ч 48 ресторанов, 41 кафе меньше всего закусочных и буфетов, нет кафетериев.\n",
    "\n",
    "Каширское шоссе           111, в т.ч 42 предприятия быстрого обслуживания, 30 кафе, нет закусочных, кулинарий.\n",
    "\n",
    "Кировоградская улица      108, в т.ч 46 предприятий быстрого обслуживания, 18 ресторанов, меньше всего буфетов и кулинарий."
   ]
  },
  {
   "cell_type": "code",
   "execution_count": 85,
   "id": "4706298c",
   "metadata": {},
   "outputs": [
    {
     "data": {
      "text/html": [
       "<div>\n",
       "<style scoped>\n",
       "    .dataframe tbody tr th:only-of-type {\n",
       "        vertical-align: middle;\n",
       "    }\n",
       "\n",
       "    .dataframe tbody tr th {\n",
       "        vertical-align: top;\n",
       "    }\n",
       "\n",
       "    .dataframe thead th {\n",
       "        text-align: right;\n",
       "    }\n",
       "</style>\n",
       "<table border=\"1\" class=\"dataframe\">\n",
       "  <thead>\n",
       "    <tr style=\"text-align: right;\">\n",
       "      <th></th>\n",
       "      <th>id</th>\n",
       "      <th>object_name</th>\n",
       "      <th>chain</th>\n",
       "      <th>object_type</th>\n",
       "      <th>address</th>\n",
       "      <th>number</th>\n",
       "      <th>number_category</th>\n",
       "      <th>street</th>\n",
       "      <th>address_search</th>\n",
       "      <th>area_id</th>\n",
       "      <th>okrug</th>\n",
       "      <th>area</th>\n",
       "    </tr>\n",
       "  </thead>\n",
       "  <tbody>\n",
       "    <tr>\n",
       "      <th>0</th>\n",
       "      <td>155973</td>\n",
       "      <td>кафе «андерсон»</td>\n",
       "      <td>сетевое заведение</td>\n",
       "      <td>кафе</td>\n",
       "      <td>город Москва, Варшавское шоссе, дом 2</td>\n",
       "      <td>150</td>\n",
       "      <td>категория B</td>\n",
       "      <td>Варшавское шоссе</td>\n",
       "      <td>Варшавское шоссе</td>\n",
       "      <td>109</td>\n",
       "      <td>ЮАО</td>\n",
       "      <td>Район Чертаново Центральное</td>\n",
       "    </tr>\n",
       "    <tr>\n",
       "      <th>1</th>\n",
       "      <td>155973</td>\n",
       "      <td>кафе «андерсон»</td>\n",
       "      <td>сетевое заведение</td>\n",
       "      <td>кафе</td>\n",
       "      <td>город Москва, Варшавское шоссе, дом 2</td>\n",
       "      <td>150</td>\n",
       "      <td>категория B</td>\n",
       "      <td>Варшавское шоссе</td>\n",
       "      <td>Варшавское шоссе</td>\n",
       "      <td>108</td>\n",
       "      <td>ЮАО</td>\n",
       "      <td>Район Чертаново Северное</td>\n",
       "    </tr>\n",
       "    <tr>\n",
       "      <th>2</th>\n",
       "      <td>155973</td>\n",
       "      <td>кафе «андерсон»</td>\n",
       "      <td>сетевое заведение</td>\n",
       "      <td>кафе</td>\n",
       "      <td>город Москва, Варшавское шоссе, дом 2</td>\n",
       "      <td>150</td>\n",
       "      <td>категория B</td>\n",
       "      <td>Варшавское шоссе</td>\n",
       "      <td>Варшавское шоссе</td>\n",
       "      <td>110</td>\n",
       "      <td>ЮАО</td>\n",
       "      <td>Район Чертаново Южное</td>\n",
       "    </tr>\n",
       "    <tr>\n",
       "      <th>3</th>\n",
       "      <td>155973</td>\n",
       "      <td>кафе «андерсон»</td>\n",
       "      <td>сетевое заведение</td>\n",
       "      <td>кафе</td>\n",
       "      <td>город Москва, Варшавское шоссе, дом 2</td>\n",
       "      <td>150</td>\n",
       "      <td>категория B</td>\n",
       "      <td>Варшавское шоссе</td>\n",
       "      <td>Варшавское шоссе</td>\n",
       "      <td>99</td>\n",
       "      <td>ЮАО</td>\n",
       "      <td>Донской район</td>\n",
       "    </tr>\n",
       "    <tr>\n",
       "      <th>4</th>\n",
       "      <td>155973</td>\n",
       "      <td>кафе «андерсон»</td>\n",
       "      <td>сетевое заведение</td>\n",
       "      <td>кафе</td>\n",
       "      <td>город Москва, Варшавское шоссе, дом 2</td>\n",
       "      <td>150</td>\n",
       "      <td>категория B</td>\n",
       "      <td>Варшавское шоссе</td>\n",
       "      <td>Варшавское шоссе</td>\n",
       "      <td>102</td>\n",
       "      <td>ЮАО</td>\n",
       "      <td>Район Нагатино-Садовники</td>\n",
       "    </tr>\n",
       "  </tbody>\n",
       "</table>\n",
       "</div>"
      ],
      "text/plain": [
       "       id      object_name              chain object_type  \\\n",
       "0  155973  кафе «андерсон»  сетевое заведение        кафе   \n",
       "1  155973  кафе «андерсон»  сетевое заведение        кафе   \n",
       "2  155973  кафе «андерсон»  сетевое заведение        кафе   \n",
       "3  155973  кафе «андерсон»  сетевое заведение        кафе   \n",
       "4  155973  кафе «андерсон»  сетевое заведение        кафе   \n",
       "\n",
       "                                 address  number number_category  \\\n",
       "0  город Москва, Варшавское шоссе, дом 2     150     категория B   \n",
       "1  город Москва, Варшавское шоссе, дом 2     150     категория B   \n",
       "2  город Москва, Варшавское шоссе, дом 2     150     категория B   \n",
       "3  город Москва, Варшавское шоссе, дом 2     150     категория B   \n",
       "4  город Москва, Варшавское шоссе, дом 2     150     категория B   \n",
       "\n",
       "             street     address_search  area_id okrug  \\\n",
       "0  Варшавское шоссе   Варшавское шоссе      109   ЮАО   \n",
       "1  Варшавское шоссе   Варшавское шоссе      108   ЮАО   \n",
       "2  Варшавское шоссе   Варшавское шоссе      110   ЮАО   \n",
       "3  Варшавское шоссе   Варшавское шоссе       99   ЮАО   \n",
       "4  Варшавское шоссе   Варшавское шоссе      102   ЮАО   \n",
       "\n",
       "                          area  \n",
       "0  Район Чертаново Центральное  \n",
       "1     Район Чертаново Северное  \n",
       "2        Район Чертаново Южное  \n",
       "3                Донской район  \n",
       "4     Район Нагатино-Садовники  "
      ]
     },
     "execution_count": 85,
     "metadata": {},
     "output_type": "execute_result"
    }
   ],
   "source": [
    "# датафрейм топовых улиц с указанием района\n",
    "df_top10 = df_top_street.merge(moscow_districts, on='street', how='left')\n",
    "df_top10.head()"
   ]
  },
  {
   "cell_type": "code",
   "execution_count": 86,
   "id": "1c5f9305",
   "metadata": {},
   "outputs": [
    {
     "data": {
      "image/png": "[encoded data removed]",
      "text/plain": [
       "<Figure size 432x288 with 1 Axes>"
      ]
     },
     "metadata": {
      "needs_background": "light"
     },
     "output_type": "display_data"
    }
   ],
   "source": [
    "# Определим самые насыщенные районы и визуализируем\n",
    "df_top10.groupby('area')['id'].count().sort_values(ascending=False).head(10).plot.barh();\n",
    "plt.title('Топ - 10 районов',fontsize=16);\n",
    "plt.xlabel('количество заведений');\n",
    "plt.ylabel('район');\n",
    "plt.yticks(rotation=0,fontsize=12);"
   ]
  },
  {
   "cell_type": "markdown",
   "id": "ee749f1f",
   "metadata": {},
   "source": [
    "Лидеры среди районов Тёплый Стан, Обручевский и Донской."
   ]
  },
  {
   "cell_type": "code",
   "execution_count": 87,
   "id": "5c2be58e",
   "metadata": {},
   "outputs": [
    {
     "data": {
      "text/plain": [
       "street                  area                           \n",
       "проспект Мира           Ярославский Район                  204\n",
       "                        Район Свиблово                     204\n",
       "                        Район Ростокино                    204\n",
       "                        Район Марьина роща                 204\n",
       "                        Останкинский район                 204\n",
       "                        Мещанский район                    204\n",
       "                        Алексеевский район                 204\n",
       "Профсоюзная улица       Район Коньково                     182\n",
       "                        Академический район                182\n",
       "                        Обручевский район                  182\n",
       "                        Район Черемушки                    182\n",
       "                        Район Теплый Стан                  182\n",
       "                        Район Ясенево                      182\n",
       "Ленинградский проспект  Район Сокол                        171\n",
       "                        Хорошевский район                  171\n",
       "                        Район Аэропорт                     171\n",
       "                        Район Беговой                      171\n",
       "Пресненская набережная  Пресненский район                  167\n",
       "Варшавское шоссе        Нагорный район                     164\n",
       "                        Донской район                      164\n",
       "                        Район Северное Бутово              164\n",
       "                        Район Южное Бутово                 164\n",
       "                        Район Нагатино-Садовники           164\n",
       "                        Район Чертаново Южное              164\n",
       "                        Район Чертаново Центральное        164\n",
       "                        Район Чертаново Северное           164\n",
       "Ленинский проспект      Район Якиманка                     147\n",
       "                        Донской район                      147\n",
       "                        Район Гагаринский                  147\n",
       "                        Район Тропарево-Никулино           147\n",
       "                        Район Теплый Стан                  147\n",
       "                        Район Проспект Вернадского         147\n",
       "                        Обручевский район                  147\n",
       "                        Ломоносовский район                147\n",
       "проспект Вернадского    Район Раменки                      132\n",
       "                        Район Тропарево-Никулино           132\n",
       "                        Ломоносовский район                132\n",
       "                        Район Гагаринский                  132\n",
       "                        Район Проспект Вернадского         132\n",
       "Кутузовский проспект    Район Фили-Давыдково               114\n",
       "                        Район Дорогомилово                 114\n",
       "Каширское шоссе         Район Москворечье-Сабурово         112\n",
       "                        Район Орехово-Борисово Северное    112\n",
       "                        Район Орехово-Борисово Южное       112\n",
       "                        Район Нагатино-Садовники           112\n",
       "Кировоградская улица    Район Чертаново Северное           110\n",
       "                        Район Чертаново Центральное        110\n",
       "                        Район Чертаново Южное              110\n",
       "Name: id, dtype: int64"
      ]
     },
     "execution_count": 87,
     "metadata": {},
     "output_type": "execute_result"
    }
   ],
   "source": [
    "df_top10.groupby(['street','area'])['id'].count().sort_values(ascending=False)\n"
   ]
  },
  {
   "cell_type": "markdown",
   "id": "bde89435",
   "metadata": {},
   "source": [
    "#### Вывод.\n",
    "\n",
    "**В список самых насыщенных заведениями улиц попали:**\n",
    "\n",
    "проспект Мира, Профсоюзная улица, Ленинградский проспект, Пресненская набережная,Варшавское шоссе,Ленинский проспект,проспект Вернадского,Кутузовский проспект,Каширское шоссе,Кировоградская улица.\n",
    "\n",
    "**Развёрнутые данные по видам заведений в топ-10**\n",
    "\n",
    "проспект Мира 204, в т.ч 103 кафе, 32 ресторана, меньше всего баров и закусочных.\n",
    "\n",
    "Профсоюзная улица 181, в т.ч 90 кафе, 30 ресторанов, меньше всего баров и закусочных.\n",
    "\n",
    "Ленинградский проспект 170, в т.ч 70 кафе, 48 ресторанов, меньше всего буфетов, кулинарий и кафетериев.\n",
    "\n",
    "Пресненская набережная 167, в т.ч 98 кафе, 40 ресторанов, меньше всего буфетов, нет закусочных, кулинарий и столовых.\n",
    "\n",
    "Варшавское шоссе 164, в т.ч 66 кафе, 40 предприятий быстрого обслуживания, меньше всего закусочных, кулинарий.\n",
    "\n",
    "Ленинский проспект 147, в т.ч 64 кафе, 37 ресторанов, меньше всего закусочных и буфетов, нет кулинарий.\n",
    "\n",
    "проспект Вернадского 128, в т.ч 55 кафе, 24 предприятий быстрого обслуживания, меньше всего закусочных, кулинарий.\n",
    "\n",
    "Кутузовский проспект 114, в т.ч 48 ресторанов, 41 кафе меньше всего закусочных и буфетов, нет кафетериев.\n",
    "\n",
    "Каширское шоссе 111, в т.ч 42 предприятия быстрого обслуживания, 30 кафе, нет закусочных, кулинарий.\n",
    "\n",
    "Кировоградская улица 108, в т.ч 46 предприятий быстрого обслуживания, 18 ресторанов, меньше всего буфетов и кулинарий.\n",
    "\n",
    "**Лидеры среди районов Тёплый Стан, Обручевский и Донской.**\n",
    "\n",
    "**Проспект Мира** включает следующие районы: Ярославский, Свиблово, \n",
    "Ростокино, Марьина роща, Останкинский, Мещанский, Алексеевский.\n",
    "\n",
    "**Профсоюзная улица**: Коньково, Академический, Обручевский, Черемушки, Теплый Стан,Ясенево.\n",
    "\n",
    "**Ленинградский проспект, районы**: Сокол, Хорошевский, Аэропорт, Беговой.\n",
    "\n",
    "**Пресненская набережная** -  Пресненский район. \n",
    "\n",
    "**Варшавское шоссе** включает районы: Нагорный, Донской, Северное Бутово, Южное Бутово, Нагатино-Садовники, Чертаново Южное, Чертаново Центральное, Чертаново Северное.\n",
    "\n",
    "**Ленинский проспект** – это Якиманка, Донской район, районы Гагаринский,                \n",
    "Тропарево-Никулино, Тёплый Стан, Проспект Вернадского, Обручевский, Ломоносовский районы.\n",
    "\n",
    "**Проспект Вернадского**: Раменки,Тропарево-Никулино, Ломоносовский, Гагаринский, Проспект Вернадского\n",
    "\n",
    "**Кутузовский проспект**:Фили-Давыдково, Дорогомилово.\n",
    "\n",
    "**Каширское шоссе**: Москворечье-Сабурово, Орехово-Борисово Северное, Орехово-Борисово Южное, Нагатино-Садовники.\n",
    "\n",
    "**Кировоградская улица**: Чертаново Северное, Чертаново Центральное, Чертаново Южное. "
   ]
  },
  {
   "cell_type": "markdown",
   "id": "6f8fdcf0",
   "metadata": {},
   "source": [
    "### Определим число улиц с одним объектом общественного питания. С применением внешней информации получим  ответ на вопрос — в каких районах Москвы находятся эти улицы?"
   ]
  },
  {
   "cell_type": "code",
   "execution_count": 88,
   "id": "8c182795",
   "metadata": {},
   "outputs": [
    {
     "data": {
      "text/html": [
       "<div>\n",
       "<style scoped>\n",
       "    .dataframe tbody tr th:only-of-type {\n",
       "        vertical-align: middle;\n",
       "    }\n",
       "\n",
       "    .dataframe tbody tr th {\n",
       "        vertical-align: top;\n",
       "    }\n",
       "\n",
       "    .dataframe thead th {\n",
       "        text-align: right;\n",
       "    }\n",
       "</style>\n",
       "<table border=\"1\" class=\"dataframe\">\n",
       "  <thead>\n",
       "    <tr style=\"text-align: right;\">\n",
       "      <th></th>\n",
       "      <th>object_name</th>\n",
       "    </tr>\n",
       "    <tr>\n",
       "      <th>street</th>\n",
       "      <th></th>\n",
       "    </tr>\n",
       "  </thead>\n",
       "  <tbody>\n",
       "    <tr>\n",
       "      <th>1-й Балтийский переулок</th>\n",
       "      <td>1</td>\n",
       "    </tr>\n",
       "    <tr>\n",
       "      <th>1-й Басманный переулок</th>\n",
       "      <td>1</td>\n",
       "    </tr>\n",
       "    <tr>\n",
       "      <th>1-й Ботанический проезд</th>\n",
       "      <td>1</td>\n",
       "    </tr>\n",
       "    <tr>\n",
       "      <th>1-й Варшавский проезд</th>\n",
       "      <td>1</td>\n",
       "    </tr>\n",
       "    <tr>\n",
       "      <th>1-й Вешняковский проезд</th>\n",
       "      <td>1</td>\n",
       "    </tr>\n",
       "    <tr>\n",
       "      <th>...</th>\n",
       "      <td>...</td>\n",
       "    </tr>\n",
       "    <tr>\n",
       "      <th>улица Шумилова</th>\n",
       "      <td>1</td>\n",
       "    </tr>\n",
       "    <tr>\n",
       "      <th>улица Шумкина</th>\n",
       "      <td>1</td>\n",
       "    </tr>\n",
       "    <tr>\n",
       "      <th>улица Щорса</th>\n",
       "      <td>1</td>\n",
       "    </tr>\n",
       "    <tr>\n",
       "      <th>улица Энгельса</th>\n",
       "      <td>1</td>\n",
       "    </tr>\n",
       "    <tr>\n",
       "      <th>шоссе Фрезер</th>\n",
       "      <td>1</td>\n",
       "    </tr>\n",
       "  </tbody>\n",
       "</table>\n",
       "<p>566 rows × 1 columns</p>\n",
       "</div>"
      ],
      "text/plain": [
       "                         object_name\n",
       "street                              \n",
       "1-й Балтийский переулок            1\n",
       "1-й Басманный переулок             1\n",
       "1-й Ботанический проезд            1\n",
       "1-й Варшавский проезд              1\n",
       "1-й Вешняковский проезд            1\n",
       "...                              ...\n",
       "улица Шумилова                     1\n",
       "улица Шумкина                      1\n",
       "улица Щорса                        1\n",
       "улица Энгельса                     1\n",
       "шоссе Фрезер                       1\n",
       "\n",
       "[566 rows x 1 columns]"
      ]
     },
     "execution_count": 88,
     "metadata": {},
     "output_type": "execute_result"
    }
   ],
   "source": [
    "# датафрейм улиц с единственным заведением\n",
    "df_single = df.groupby('street').agg({'object_name':'nunique'})\n",
    "df_single  = df_single[df_single['object_name']==1]\n",
    "df_single"
   ]
  },
  {
   "cell_type": "markdown",
   "id": "b67ce8de",
   "metadata": {},
   "source": [
    "Улиц с единственным заведением 566."
   ]
  },
  {
   "cell_type": "code",
   "execution_count": 89,
   "id": "7441718a",
   "metadata": {},
   "outputs": [
    {
     "data": {
      "text/html": [
       "<div>\n",
       "<style scoped>\n",
       "    .dataframe tbody tr th:only-of-type {\n",
       "        vertical-align: middle;\n",
       "    }\n",
       "\n",
       "    .dataframe tbody tr th {\n",
       "        vertical-align: top;\n",
       "    }\n",
       "\n",
       "    .dataframe thead th {\n",
       "        text-align: right;\n",
       "    }\n",
       "</style>\n",
       "<table border=\"1\" class=\"dataframe\">\n",
       "  <thead>\n",
       "    <tr style=\"text-align: right;\">\n",
       "      <th></th>\n",
       "      <th>street</th>\n",
       "      <th>object_name</th>\n",
       "      <th>area_id</th>\n",
       "      <th>okrug</th>\n",
       "      <th>area</th>\n",
       "    </tr>\n",
       "  </thead>\n",
       "  <tbody>\n",
       "    <tr>\n",
       "      <th>0</th>\n",
       "      <td>1-й Балтийский переулок</td>\n",
       "      <td>1</td>\n",
       "      <td>54.00</td>\n",
       "      <td>САО</td>\n",
       "      <td>Район Аэропорт</td>\n",
       "    </tr>\n",
       "    <tr>\n",
       "      <th>1</th>\n",
       "      <td>1-й Басманный переулок</td>\n",
       "      <td>1</td>\n",
       "      <td>13.00</td>\n",
       "      <td>ЦАО</td>\n",
       "      <td>Басманный район</td>\n",
       "    </tr>\n",
       "    <tr>\n",
       "      <th>2</th>\n",
       "      <td>1-й Басманный переулок</td>\n",
       "      <td>1</td>\n",
       "      <td>15.00</td>\n",
       "      <td>ЦАО</td>\n",
       "      <td>Красносельский район</td>\n",
       "    </tr>\n",
       "    <tr>\n",
       "      <th>3</th>\n",
       "      <td>1-й Ботанический проезд</td>\n",
       "      <td>1</td>\n",
       "      <td>82.00</td>\n",
       "      <td>СВАО</td>\n",
       "      <td>Район Свиблово</td>\n",
       "    </tr>\n",
       "    <tr>\n",
       "      <th>4</th>\n",
       "      <td>1-й Варшавский проезд</td>\n",
       "      <td>1</td>\n",
       "      <td>101.00</td>\n",
       "      <td>ЮАО</td>\n",
       "      <td>Район Москворечье-Сабурово</td>\n",
       "    </tr>\n",
       "    <tr>\n",
       "      <th>...</th>\n",
       "      <td>...</td>\n",
       "      <td>...</td>\n",
       "      <td>...</td>\n",
       "      <td>...</td>\n",
       "      <td>...</td>\n",
       "    </tr>\n",
       "    <tr>\n",
       "      <th>609</th>\n",
       "      <td>улица Шумилова</td>\n",
       "      <td>1</td>\n",
       "      <td>113.00</td>\n",
       "      <td>ЮВАО</td>\n",
       "      <td>Район Кузьминки</td>\n",
       "    </tr>\n",
       "    <tr>\n",
       "      <th>610</th>\n",
       "      <td>улица Шумкина</td>\n",
       "      <td>1</td>\n",
       "      <td>26.00</td>\n",
       "      <td>ВАО</td>\n",
       "      <td>Район Сокольники</td>\n",
       "    </tr>\n",
       "    <tr>\n",
       "      <th>611</th>\n",
       "      <td>улица Щорса</td>\n",
       "      <td>1</td>\n",
       "      <td>46.00</td>\n",
       "      <td>ЗАО</td>\n",
       "      <td>Район Солнцево</td>\n",
       "    </tr>\n",
       "    <tr>\n",
       "      <th>612</th>\n",
       "      <td>улица Энгельса</td>\n",
       "      <td>1</td>\n",
       "      <td>NaN</td>\n",
       "      <td>NaN</td>\n",
       "      <td>NaN</td>\n",
       "    </tr>\n",
       "    <tr>\n",
       "      <th>613</th>\n",
       "      <td>шоссе Фрезер</td>\n",
       "      <td>1</td>\n",
       "      <td>117.00</td>\n",
       "      <td>ЮВАО</td>\n",
       "      <td>Нижегородский район</td>\n",
       "    </tr>\n",
       "  </tbody>\n",
       "</table>\n",
       "<p>614 rows × 5 columns</p>\n",
       "</div>"
      ],
      "text/plain": [
       "                      street  object_name  area_id okrug  \\\n",
       "0    1-й Балтийский переулок            1    54.00   САО   \n",
       "1     1-й Басманный переулок            1    13.00   ЦАО   \n",
       "2     1-й Басманный переулок            1    15.00   ЦАО   \n",
       "3    1-й Ботанический проезд            1    82.00  СВАО   \n",
       "4      1-й Варшавский проезд            1   101.00   ЮАО   \n",
       "..                       ...          ...      ...   ...   \n",
       "609           улица Шумилова            1   113.00  ЮВАО   \n",
       "610            улица Шумкина            1    26.00   ВАО   \n",
       "611              улица Щорса            1    46.00   ЗАО   \n",
       "612           улица Энгельса            1      NaN   NaN   \n",
       "613             шоссе Фрезер            1   117.00  ЮВАО   \n",
       "\n",
       "                           area  \n",
       "0                Район Аэропорт  \n",
       "1               Басманный район  \n",
       "2          Красносельский район  \n",
       "3                Район Свиблово  \n",
       "4    Район Москворечье-Сабурово  \n",
       "..                          ...  \n",
       "609             Район Кузьминки  \n",
       "610            Район Сокольники  \n",
       "611              Район Солнцево  \n",
       "612                         NaN  \n",
       "613         Нижегородский район  \n",
       "\n",
       "[614 rows x 5 columns]"
      ]
     },
     "execution_count": 89,
     "metadata": {},
     "output_type": "execute_result"
    }
   ],
   "source": [
    "# датафрейм улиц с единственным заведением с указанием района\n",
    "df_single_area = df_single.merge(moscow_districts, on='street', how='left')\n",
    "df_single_area"
   ]
  },
  {
   "cell_type": "code",
   "execution_count": 90,
   "id": "32ffa92d",
   "metadata": {},
   "outputs": [
    {
     "data": {
      "text/plain": [
       "area\n",
       "Таганский район        27\n",
       "Басманный район        27\n",
       "Район Хамовники        26\n",
       "Тверской район         20\n",
       "Пресненский район      20\n",
       "Район Марьина роща     18\n",
       "Мещанский район        17\n",
       "Район Арбат            17\n",
       "Район Сокольники       15\n",
       "Район Замоскворечье    14\n",
       "Name: area_id, dtype: int64"
      ]
     },
     "execution_count": 90,
     "metadata": {},
     "output_type": "execute_result"
    }
   ],
   "source": [
    "# Районы, в которых находятся единичные предприятия общественного питания.\n",
    "df_single_area.groupby('area')['area_id'].count().sort_values(ascending=False).head(10)"
   ]
  },
  {
   "cell_type": "code",
   "execution_count": 91,
   "id": "5114691d",
   "metadata": {},
   "outputs": [
    {
     "data": {
      "image/png": "[encoded data removed]",
      "text/plain": [
       "<Figure size 432x288 with 1 Axes>"
      ]
     },
     "metadata": {
      "needs_background": "light"
     },
     "output_type": "display_data"
    }
   ],
   "source": [
    "# Визуализация топ-10.\n",
    "df_single_area.groupby('area')['area_id'].count().sort_values(ascending=False).head(10).plot.barh();\n",
    "plt.title('Районы с единичными заведениями',fontsize=16);\n",
    "plt.xlabel('количество единичных заведений');\n",
    "plt.ylabel('район');\n",
    "plt.yticks(rotation=0,fontsize=12);"
   ]
  },
  {
   "cell_type": "markdown",
   "id": "9d8a98df",
   "metadata": {},
   "source": [
    "**Десятка районов, на которых находятся единичные предприятия общественного питания (количество единичных предприятий в районе):**\n",
    "\n",
    "1. Таганский район        27\n",
    "2. Басманный район        27\n",
    "3. Район Хамовники        26\n",
    "4. Тверской район         20\n",
    "5. Пресненский район      20\n",
    "6. Район Марьина роща     18\n",
    "7. Мещанский район        17\n",
    "8. Район Арбат            17\n",
    "9. Район Сокольники       15\n",
    "10. Район Замоскворечье    14"
   ]
  },
  {
   "cell_type": "markdown",
   "id": "cb6b1f56",
   "metadata": {},
   "source": [
    "#### Вывод.\n",
    "\n",
    "Всего в городе 566 улиц с единичными заведениями.\n",
    "\n",
    "**Десятку районов, на которых находятся единичные предприятия общественного питания открывают (количество единичных предприятий в районе):**\n",
    "\n",
    "1. Таганский район        27 ЦАО\n",
    "2. Басманный район        27 ЦАО\n",
    "3. Район Хамовники        26 ЦАО\n",
    "4. Тверской район         20 ЦАО\n",
    "5. Пресненский район      20 ЦАО\n",
    "\n",
    "**Все вышеуказанные районы относятся к Центральному административному округу (ЦАО) города Москвы.**"
   ]
  },
  {
   "cell_type": "markdown",
   "id": "b734df4f",
   "metadata": {},
   "source": [
    "### Посмотрим на распределение количества посадочных мест для улиц с большим количеством объектов общественного питания. Какие закономерности можно выявить?"
   ]
  },
  {
   "cell_type": "code",
   "execution_count": 92,
   "id": "71ac1a34",
   "metadata": {},
   "outputs": [
    {
     "data": {
      "text/html": [
       "<div>\n",
       "<style scoped>\n",
       "    .dataframe tbody tr th:only-of-type {\n",
       "        vertical-align: middle;\n",
       "    }\n",
       "\n",
       "    .dataframe tbody tr th {\n",
       "        vertical-align: top;\n",
       "    }\n",
       "\n",
       "    .dataframe thead th {\n",
       "        text-align: right;\n",
       "    }\n",
       "</style>\n",
       "<table border=\"1\" class=\"dataframe\">\n",
       "  <thead>\n",
       "    <tr style=\"text-align: right;\">\n",
       "      <th></th>\n",
       "      <th>id</th>\n",
       "      <th>object_name</th>\n",
       "      <th>chain</th>\n",
       "      <th>object_type</th>\n",
       "      <th>address</th>\n",
       "      <th>number</th>\n",
       "      <th>number_category</th>\n",
       "      <th>street</th>\n",
       "      <th>address_search</th>\n",
       "      <th>area_id</th>\n",
       "      <th>okrug</th>\n",
       "      <th>area</th>\n",
       "    </tr>\n",
       "  </thead>\n",
       "  <tbody>\n",
       "    <tr>\n",
       "      <th>0</th>\n",
       "      <td>155973</td>\n",
       "      <td>кафе «андерсон»</td>\n",
       "      <td>сетевое заведение</td>\n",
       "      <td>кафе</td>\n",
       "      <td>город Москва, Варшавское шоссе, дом 2</td>\n",
       "      <td>150</td>\n",
       "      <td>категория B</td>\n",
       "      <td>Варшавское шоссе</td>\n",
       "      <td>Варшавское шоссе</td>\n",
       "      <td>109</td>\n",
       "      <td>ЮАО</td>\n",
       "      <td>Район Чертаново Центральное</td>\n",
       "    </tr>\n",
       "    <tr>\n",
       "      <th>1</th>\n",
       "      <td>155973</td>\n",
       "      <td>кафе «андерсон»</td>\n",
       "      <td>сетевое заведение</td>\n",
       "      <td>кафе</td>\n",
       "      <td>город Москва, Варшавское шоссе, дом 2</td>\n",
       "      <td>150</td>\n",
       "      <td>категория B</td>\n",
       "      <td>Варшавское шоссе</td>\n",
       "      <td>Варшавское шоссе</td>\n",
       "      <td>108</td>\n",
       "      <td>ЮАО</td>\n",
       "      <td>Район Чертаново Северное</td>\n",
       "    </tr>\n",
       "    <tr>\n",
       "      <th>2</th>\n",
       "      <td>155973</td>\n",
       "      <td>кафе «андерсон»</td>\n",
       "      <td>сетевое заведение</td>\n",
       "      <td>кафе</td>\n",
       "      <td>город Москва, Варшавское шоссе, дом 2</td>\n",
       "      <td>150</td>\n",
       "      <td>категория B</td>\n",
       "      <td>Варшавское шоссе</td>\n",
       "      <td>Варшавское шоссе</td>\n",
       "      <td>110</td>\n",
       "      <td>ЮАО</td>\n",
       "      <td>Район Чертаново Южное</td>\n",
       "    </tr>\n",
       "    <tr>\n",
       "      <th>3</th>\n",
       "      <td>155973</td>\n",
       "      <td>кафе «андерсон»</td>\n",
       "      <td>сетевое заведение</td>\n",
       "      <td>кафе</td>\n",
       "      <td>город Москва, Варшавское шоссе, дом 2</td>\n",
       "      <td>150</td>\n",
       "      <td>категория B</td>\n",
       "      <td>Варшавское шоссе</td>\n",
       "      <td>Варшавское шоссе</td>\n",
       "      <td>99</td>\n",
       "      <td>ЮАО</td>\n",
       "      <td>Донской район</td>\n",
       "    </tr>\n",
       "    <tr>\n",
       "      <th>4</th>\n",
       "      <td>155973</td>\n",
       "      <td>кафе «андерсон»</td>\n",
       "      <td>сетевое заведение</td>\n",
       "      <td>кафе</td>\n",
       "      <td>город Москва, Варшавское шоссе, дом 2</td>\n",
       "      <td>150</td>\n",
       "      <td>категория B</td>\n",
       "      <td>Варшавское шоссе</td>\n",
       "      <td>Варшавское шоссе</td>\n",
       "      <td>102</td>\n",
       "      <td>ЮАО</td>\n",
       "      <td>Район Нагатино-Садовники</td>\n",
       "    </tr>\n",
       "  </tbody>\n",
       "</table>\n",
       "</div>"
      ],
      "text/plain": [
       "       id      object_name              chain object_type  \\\n",
       "0  155973  кафе «андерсон»  сетевое заведение        кафе   \n",
       "1  155973  кафе «андерсон»  сетевое заведение        кафе   \n",
       "2  155973  кафе «андерсон»  сетевое заведение        кафе   \n",
       "3  155973  кафе «андерсон»  сетевое заведение        кафе   \n",
       "4  155973  кафе «андерсон»  сетевое заведение        кафе   \n",
       "\n",
       "                                 address  number number_category  \\\n",
       "0  город Москва, Варшавское шоссе, дом 2     150     категория B   \n",
       "1  город Москва, Варшавское шоссе, дом 2     150     категория B   \n",
       "2  город Москва, Варшавское шоссе, дом 2     150     категория B   \n",
       "3  город Москва, Варшавское шоссе, дом 2     150     категория B   \n",
       "4  город Москва, Варшавское шоссе, дом 2     150     категория B   \n",
       "\n",
       "             street     address_search  area_id okrug  \\\n",
       "0  Варшавское шоссе   Варшавское шоссе      109   ЮАО   \n",
       "1  Варшавское шоссе   Варшавское шоссе      108   ЮАО   \n",
       "2  Варшавское шоссе   Варшавское шоссе      110   ЮАО   \n",
       "3  Варшавское шоссе   Варшавское шоссе       99   ЮАО   \n",
       "4  Варшавское шоссе   Варшавское шоссе      102   ЮАО   \n",
       "\n",
       "                          area  \n",
       "0  Район Чертаново Центральное  \n",
       "1     Район Чертаново Северное  \n",
       "2        Район Чертаново Южное  \n",
       "3                Донской район  \n",
       "4     Район Нагатино-Садовники  "
      ]
     },
     "execution_count": 92,
     "metadata": {},
     "output_type": "execute_result"
    }
   ],
   "source": [
    "df_top10.head()"
   ]
  },
  {
   "cell_type": "markdown",
   "id": "2fb8a464",
   "metadata": {},
   "source": [
    "Ранее были созданы категории для определения вместимости залов:\n",
    "1.\t'категория A' свыше 150 мест.\n",
    "2.\t'категория B' от 101 до 150 мест.\n",
    "3.\t'категория C' от 71 до 100 мест.\n",
    "4.\t'категория D' от 51 до 70 мест.\n",
    "5.\t'категория E' от 26 до 50 мест.\n",
    "6.\t'категория F' до 25 мест.\n",
    "7.\t'категория без мест'."
   ]
  },
  {
   "cell_type": "code",
   "execution_count": 93,
   "id": "daef45fa",
   "metadata": {},
   "outputs": [
    {
     "data": {
      "text/plain": [
       "count   7525.00\n",
       "mean      57.86\n",
       "std       80.44\n",
       "min        0.00\n",
       "25%       13.00\n",
       "50%       40.00\n",
       "75%       80.00\n",
       "max     1700.00\n",
       "Name: number, dtype: float64"
      ]
     },
     "execution_count": 93,
     "metadata": {},
     "output_type": "execute_result"
    }
   ],
   "source": [
    "df_top10['number'].describe()"
   ]
  },
  {
   "cell_type": "code",
   "execution_count": 94,
   "id": "5c7d94ee",
   "metadata": {},
   "outputs": [
    {
     "data": {
      "text/html": [
       "<div>\n",
       "<style scoped>\n",
       "    .dataframe tbody tr th:only-of-type {\n",
       "        vertical-align: middle;\n",
       "    }\n",
       "\n",
       "    .dataframe tbody tr th {\n",
       "        vertical-align: top;\n",
       "    }\n",
       "\n",
       "    .dataframe thead tr th {\n",
       "        text-align: left;\n",
       "    }\n",
       "\n",
       "    .dataframe thead tr:last-of-type th {\n",
       "        text-align: right;\n",
       "    }\n",
       "</style>\n",
       "<table border=\"1\" class=\"dataframe\">\n",
       "  <thead>\n",
       "    <tr>\n",
       "      <th></th>\n",
       "      <th></th>\n",
       "      <th colspan=\"7\" halign=\"left\">count</th>\n",
       "    </tr>\n",
       "    <tr>\n",
       "      <th></th>\n",
       "      <th>number_category</th>\n",
       "      <th>без мест</th>\n",
       "      <th>категория A</th>\n",
       "      <th>категория B</th>\n",
       "      <th>категория C</th>\n",
       "      <th>категория D</th>\n",
       "      <th>категория E</th>\n",
       "      <th>категория F</th>\n",
       "    </tr>\n",
       "    <tr>\n",
       "      <th>area</th>\n",
       "      <th>okrug</th>\n",
       "      <th></th>\n",
       "      <th></th>\n",
       "      <th></th>\n",
       "      <th></th>\n",
       "      <th></th>\n",
       "      <th></th>\n",
       "      <th></th>\n",
       "    </tr>\n",
       "  </thead>\n",
       "  <tbody>\n",
       "    <tr>\n",
       "      <th>Академический район</th>\n",
       "      <th>ЮЗАО</th>\n",
       "      <td>40</td>\n",
       "      <td>14</td>\n",
       "      <td>10</td>\n",
       "      <td>17</td>\n",
       "      <td>16</td>\n",
       "      <td>31</td>\n",
       "      <td>54</td>\n",
       "    </tr>\n",
       "    <tr>\n",
       "      <th>Алексеевский район</th>\n",
       "      <th>СВАО</th>\n",
       "      <td>12</td>\n",
       "      <td>13</td>\n",
       "      <td>22</td>\n",
       "      <td>28</td>\n",
       "      <td>20</td>\n",
       "      <td>50</td>\n",
       "      <td>59</td>\n",
       "    </tr>\n",
       "    <tr>\n",
       "      <th>Донской район</th>\n",
       "      <th>ЮАО</th>\n",
       "      <td>31</td>\n",
       "      <td>22</td>\n",
       "      <td>11</td>\n",
       "      <td>53</td>\n",
       "      <td>26</td>\n",
       "      <td>77</td>\n",
       "      <td>91</td>\n",
       "    </tr>\n",
       "    <tr>\n",
       "      <th>Ломоносовский район</th>\n",
       "      <th>ЮЗАО</th>\n",
       "      <td>12</td>\n",
       "      <td>23</td>\n",
       "      <td>12</td>\n",
       "      <td>52</td>\n",
       "      <td>22</td>\n",
       "      <td>82</td>\n",
       "      <td>76</td>\n",
       "    </tr>\n",
       "    <tr>\n",
       "      <th>Мещанский район</th>\n",
       "      <th>ЦАО</th>\n",
       "      <td>12</td>\n",
       "      <td>13</td>\n",
       "      <td>22</td>\n",
       "      <td>28</td>\n",
       "      <td>20</td>\n",
       "      <td>50</td>\n",
       "      <td>59</td>\n",
       "    </tr>\n",
       "    <tr>\n",
       "      <th>Нагорный район</th>\n",
       "      <th>ЮАО</th>\n",
       "      <td>21</td>\n",
       "      <td>11</td>\n",
       "      <td>5</td>\n",
       "      <td>19</td>\n",
       "      <td>15</td>\n",
       "      <td>36</td>\n",
       "      <td>57</td>\n",
       "    </tr>\n",
       "    <tr>\n",
       "      <th>Обручевский район</th>\n",
       "      <th>ЮЗАО</th>\n",
       "      <td>50</td>\n",
       "      <td>25</td>\n",
       "      <td>16</td>\n",
       "      <td>51</td>\n",
       "      <td>27</td>\n",
       "      <td>72</td>\n",
       "      <td>88</td>\n",
       "    </tr>\n",
       "    <tr>\n",
       "      <th>Останкинский район</th>\n",
       "      <th>СВАО</th>\n",
       "      <td>12</td>\n",
       "      <td>13</td>\n",
       "      <td>22</td>\n",
       "      <td>28</td>\n",
       "      <td>20</td>\n",
       "      <td>50</td>\n",
       "      <td>59</td>\n",
       "    </tr>\n",
       "    <tr>\n",
       "      <th>Пресненский район</th>\n",
       "      <th>ЦАО</th>\n",
       "      <td>11</td>\n",
       "      <td>7</td>\n",
       "      <td>9</td>\n",
       "      <td>8</td>\n",
       "      <td>16</td>\n",
       "      <td>47</td>\n",
       "      <td>69</td>\n",
       "    </tr>\n",
       "    <tr>\n",
       "      <th>Район Аэропорт</th>\n",
       "      <th>САО</th>\n",
       "      <td>13</td>\n",
       "      <td>6</td>\n",
       "      <td>7</td>\n",
       "      <td>28</td>\n",
       "      <td>24</td>\n",
       "      <td>46</td>\n",
       "      <td>47</td>\n",
       "    </tr>\n",
       "    <tr>\n",
       "      <th>Район Беговой</th>\n",
       "      <th>САО</th>\n",
       "      <td>13</td>\n",
       "      <td>6</td>\n",
       "      <td>7</td>\n",
       "      <td>28</td>\n",
       "      <td>24</td>\n",
       "      <td>46</td>\n",
       "      <td>47</td>\n",
       "    </tr>\n",
       "    <tr>\n",
       "      <th>Район Гагаринский</th>\n",
       "      <th>ЮЗАО</th>\n",
       "      <td>12</td>\n",
       "      <td>23</td>\n",
       "      <td>12</td>\n",
       "      <td>52</td>\n",
       "      <td>22</td>\n",
       "      <td>82</td>\n",
       "      <td>76</td>\n",
       "    </tr>\n",
       "    <tr>\n",
       "      <th>Район Дорогомилово</th>\n",
       "      <th>ЗАО</th>\n",
       "      <td>16</td>\n",
       "      <td>13</td>\n",
       "      <td>5</td>\n",
       "      <td>21</td>\n",
       "      <td>8</td>\n",
       "      <td>36</td>\n",
       "      <td>15</td>\n",
       "    </tr>\n",
       "    <tr>\n",
       "      <th>Район Коньково</th>\n",
       "      <th>ЮЗАО</th>\n",
       "      <td>40</td>\n",
       "      <td>14</td>\n",
       "      <td>10</td>\n",
       "      <td>17</td>\n",
       "      <td>16</td>\n",
       "      <td>31</td>\n",
       "      <td>54</td>\n",
       "    </tr>\n",
       "    <tr>\n",
       "      <th>Район Марьина роща</th>\n",
       "      <th>СВАО</th>\n",
       "      <td>12</td>\n",
       "      <td>13</td>\n",
       "      <td>22</td>\n",
       "      <td>28</td>\n",
       "      <td>20</td>\n",
       "      <td>50</td>\n",
       "      <td>59</td>\n",
       "    </tr>\n",
       "    <tr>\n",
       "      <th>Район Москворечье-Сабурово</th>\n",
       "      <th>ЮАО</th>\n",
       "      <td>15</td>\n",
       "      <td>12</td>\n",
       "      <td>2</td>\n",
       "      <td>16</td>\n",
       "      <td>2</td>\n",
       "      <td>22</td>\n",
       "      <td>43</td>\n",
       "    </tr>\n",
       "    <tr>\n",
       "      <th>Район Нагатино-Садовники</th>\n",
       "      <th>ЮАО</th>\n",
       "      <td>36</td>\n",
       "      <td>23</td>\n",
       "      <td>7</td>\n",
       "      <td>35</td>\n",
       "      <td>17</td>\n",
       "      <td>58</td>\n",
       "      <td>100</td>\n",
       "    </tr>\n",
       "    <tr>\n",
       "      <th>Район Орехово-Борисово Северное</th>\n",
       "      <th>ЮАО</th>\n",
       "      <td>15</td>\n",
       "      <td>12</td>\n",
       "      <td>2</td>\n",
       "      <td>16</td>\n",
       "      <td>2</td>\n",
       "      <td>22</td>\n",
       "      <td>43</td>\n",
       "    </tr>\n",
       "    <tr>\n",
       "      <th>Район Орехово-Борисово Южное</th>\n",
       "      <th>ЮАО</th>\n",
       "      <td>15</td>\n",
       "      <td>12</td>\n",
       "      <td>2</td>\n",
       "      <td>16</td>\n",
       "      <td>2</td>\n",
       "      <td>22</td>\n",
       "      <td>43</td>\n",
       "    </tr>\n",
       "    <tr>\n",
       "      <th>Район Проспект Вернадского</th>\n",
       "      <th>ЗАО</th>\n",
       "      <td>12</td>\n",
       "      <td>23</td>\n",
       "      <td>12</td>\n",
       "      <td>52</td>\n",
       "      <td>22</td>\n",
       "      <td>82</td>\n",
       "      <td>76</td>\n",
       "    </tr>\n",
       "    <tr>\n",
       "      <th>Район Раменки</th>\n",
       "      <th>ЗАО</th>\n",
       "      <td>2</td>\n",
       "      <td>12</td>\n",
       "      <td>6</td>\n",
       "      <td>18</td>\n",
       "      <td>11</td>\n",
       "      <td>41</td>\n",
       "      <td>42</td>\n",
       "    </tr>\n",
       "    <tr>\n",
       "      <th>Район Ростокино</th>\n",
       "      <th>СВАО</th>\n",
       "      <td>12</td>\n",
       "      <td>13</td>\n",
       "      <td>22</td>\n",
       "      <td>28</td>\n",
       "      <td>20</td>\n",
       "      <td>50</td>\n",
       "      <td>59</td>\n",
       "    </tr>\n",
       "    <tr>\n",
       "      <th>Район Свиблово</th>\n",
       "      <th>СВАО</th>\n",
       "      <td>12</td>\n",
       "      <td>13</td>\n",
       "      <td>22</td>\n",
       "      <td>28</td>\n",
       "      <td>20</td>\n",
       "      <td>50</td>\n",
       "      <td>59</td>\n",
       "    </tr>\n",
       "    <tr>\n",
       "      <th>Район Северное Бутово</th>\n",
       "      <th>ЮЗАО</th>\n",
       "      <td>21</td>\n",
       "      <td>11</td>\n",
       "      <td>5</td>\n",
       "      <td>19</td>\n",
       "      <td>15</td>\n",
       "      <td>36</td>\n",
       "      <td>57</td>\n",
       "    </tr>\n",
       "    <tr>\n",
       "      <th>Район Сокол</th>\n",
       "      <th>САО</th>\n",
       "      <td>13</td>\n",
       "      <td>6</td>\n",
       "      <td>7</td>\n",
       "      <td>28</td>\n",
       "      <td>24</td>\n",
       "      <td>46</td>\n",
       "      <td>47</td>\n",
       "    </tr>\n",
       "    <tr>\n",
       "      <th>Район Теплый Стан</th>\n",
       "      <th>ЮЗАО</th>\n",
       "      <td>50</td>\n",
       "      <td>25</td>\n",
       "      <td>16</td>\n",
       "      <td>51</td>\n",
       "      <td>27</td>\n",
       "      <td>72</td>\n",
       "      <td>88</td>\n",
       "    </tr>\n",
       "    <tr>\n",
       "      <th>Район Тропарево-Никулино</th>\n",
       "      <th>ЗАО</th>\n",
       "      <td>12</td>\n",
       "      <td>23</td>\n",
       "      <td>12</td>\n",
       "      <td>52</td>\n",
       "      <td>22</td>\n",
       "      <td>82</td>\n",
       "      <td>76</td>\n",
       "    </tr>\n",
       "    <tr>\n",
       "      <th>Район Фили-Давыдково</th>\n",
       "      <th>ЗАО</th>\n",
       "      <td>16</td>\n",
       "      <td>13</td>\n",
       "      <td>5</td>\n",
       "      <td>21</td>\n",
       "      <td>8</td>\n",
       "      <td>36</td>\n",
       "      <td>15</td>\n",
       "    </tr>\n",
       "    <tr>\n",
       "      <th>Район Черемушки</th>\n",
       "      <th>ЮЗАО</th>\n",
       "      <td>40</td>\n",
       "      <td>14</td>\n",
       "      <td>10</td>\n",
       "      <td>17</td>\n",
       "      <td>16</td>\n",
       "      <td>31</td>\n",
       "      <td>54</td>\n",
       "    </tr>\n",
       "    <tr>\n",
       "      <th>Район Чертаново Северное</th>\n",
       "      <th>ЮАО</th>\n",
       "      <td>45</td>\n",
       "      <td>25</td>\n",
       "      <td>11</td>\n",
       "      <td>26</td>\n",
       "      <td>24</td>\n",
       "      <td>57</td>\n",
       "      <td>86</td>\n",
       "    </tr>\n",
       "    <tr>\n",
       "      <th>Район Чертаново Центральное</th>\n",
       "      <th>ЮАО</th>\n",
       "      <td>45</td>\n",
       "      <td>25</td>\n",
       "      <td>11</td>\n",
       "      <td>26</td>\n",
       "      <td>24</td>\n",
       "      <td>57</td>\n",
       "      <td>86</td>\n",
       "    </tr>\n",
       "    <tr>\n",
       "      <th>Район Чертаново Южное</th>\n",
       "      <th>ЮАО</th>\n",
       "      <td>45</td>\n",
       "      <td>25</td>\n",
       "      <td>11</td>\n",
       "      <td>26</td>\n",
       "      <td>24</td>\n",
       "      <td>57</td>\n",
       "      <td>86</td>\n",
       "    </tr>\n",
       "    <tr>\n",
       "      <th>Район Южное Бутово</th>\n",
       "      <th>ЮЗАО</th>\n",
       "      <td>21</td>\n",
       "      <td>11</td>\n",
       "      <td>5</td>\n",
       "      <td>19</td>\n",
       "      <td>15</td>\n",
       "      <td>36</td>\n",
       "      <td>57</td>\n",
       "    </tr>\n",
       "    <tr>\n",
       "      <th>Район Якиманка</th>\n",
       "      <th>ЦАО</th>\n",
       "      <td>10</td>\n",
       "      <td>11</td>\n",
       "      <td>6</td>\n",
       "      <td>34</td>\n",
       "      <td>11</td>\n",
       "      <td>41</td>\n",
       "      <td>34</td>\n",
       "    </tr>\n",
       "    <tr>\n",
       "      <th>Район Ясенево</th>\n",
       "      <th>ЮЗАО</th>\n",
       "      <td>40</td>\n",
       "      <td>14</td>\n",
       "      <td>10</td>\n",
       "      <td>17</td>\n",
       "      <td>16</td>\n",
       "      <td>31</td>\n",
       "      <td>54</td>\n",
       "    </tr>\n",
       "    <tr>\n",
       "      <th>Хорошевский район</th>\n",
       "      <th>САО</th>\n",
       "      <td>13</td>\n",
       "      <td>6</td>\n",
       "      <td>7</td>\n",
       "      <td>28</td>\n",
       "      <td>24</td>\n",
       "      <td>46</td>\n",
       "      <td>47</td>\n",
       "    </tr>\n",
       "    <tr>\n",
       "      <th>Ярославский Район</th>\n",
       "      <th>СВАО</th>\n",
       "      <td>12</td>\n",
       "      <td>13</td>\n",
       "      <td>22</td>\n",
       "      <td>28</td>\n",
       "      <td>20</td>\n",
       "      <td>50</td>\n",
       "      <td>59</td>\n",
       "    </tr>\n",
       "  </tbody>\n",
       "</table>\n",
       "</div>"
      ],
      "text/plain": [
       "                                         count                          \\\n",
       "number_category                       без мест категория A категория B   \n",
       "area                            okrug                                    \n",
       "Академический район             ЮЗАО        40          14          10   \n",
       "Алексеевский район              СВАО        12          13          22   \n",
       "Донской район                   ЮАО         31          22          11   \n",
       "Ломоносовский район             ЮЗАО        12          23          12   \n",
       "Мещанский район                 ЦАО         12          13          22   \n",
       "Нагорный район                  ЮАО         21          11           5   \n",
       "Обручевский район               ЮЗАО        50          25          16   \n",
       "Останкинский район              СВАО        12          13          22   \n",
       "Пресненский район               ЦАО         11           7           9   \n",
       "Район Аэропорт                  САО         13           6           7   \n",
       "Район Беговой                   САО         13           6           7   \n",
       "Район Гагаринский               ЮЗАО        12          23          12   \n",
       "Район Дорогомилово              ЗАО         16          13           5   \n",
       "Район Коньково                  ЮЗАО        40          14          10   \n",
       "Район Марьина роща              СВАО        12          13          22   \n",
       "Район Москворечье-Сабурово      ЮАО         15          12           2   \n",
       "Район Нагатино-Садовники        ЮАО         36          23           7   \n",
       "Район Орехово-Борисово Северное ЮАО         15          12           2   \n",
       "Район Орехово-Борисово Южное    ЮАО         15          12           2   \n",
       "Район Проспект Вернадского      ЗАО         12          23          12   \n",
       "Район Раменки                   ЗАО          2          12           6   \n",
       "Район Ростокино                 СВАО        12          13          22   \n",
       "Район Свиблово                  СВАО        12          13          22   \n",
       "Район Северное Бутово           ЮЗАО        21          11           5   \n",
       "Район Сокол                     САО         13           6           7   \n",
       "Район Теплый Стан               ЮЗАО        50          25          16   \n",
       "Район Тропарево-Никулино        ЗАО         12          23          12   \n",
       "Район Фили-Давыдково            ЗАО         16          13           5   \n",
       "Район Черемушки                 ЮЗАО        40          14          10   \n",
       "Район Чертаново Северное        ЮАО         45          25          11   \n",
       "Район Чертаново Центральное     ЮАО         45          25          11   \n",
       "Район Чертаново Южное           ЮАО         45          25          11   \n",
       "Район Южное Бутово              ЮЗАО        21          11           5   \n",
       "Район Якиманка                  ЦАО         10          11           6   \n",
       "Район Ясенево                   ЮЗАО        40          14          10   \n",
       "Хорошевский район               САО         13           6           7   \n",
       "Ярославский Район               СВАО        12          13          22   \n",
       "\n",
       "                                                                           \\\n",
       "number_category                       категория C категория D категория E   \n",
       "area                            okrug                                       \n",
       "Академический район             ЮЗАО           17          16          31   \n",
       "Алексеевский район              СВАО           28          20          50   \n",
       "Донской район                   ЮАО            53          26          77   \n",
       "Ломоносовский район             ЮЗАО           52          22          82   \n",
       "Мещанский район                 ЦАО            28          20          50   \n",
       "Нагорный район                  ЮАО            19          15          36   \n",
       "Обручевский район               ЮЗАО           51          27          72   \n",
       "Останкинский район              СВАО           28          20          50   \n",
       "Пресненский район               ЦАО             8          16          47   \n",
       "Район Аэропорт                  САО            28          24          46   \n",
       "Район Беговой                   САО            28          24          46   \n",
       "Район Гагаринский               ЮЗАО           52          22          82   \n",
       "Район Дорогомилово              ЗАО            21           8          36   \n",
       "Район Коньково                  ЮЗАО           17          16          31   \n",
       "Район Марьина роща              СВАО           28          20          50   \n",
       "Район Москворечье-Сабурово      ЮАО            16           2          22   \n",
       "Район Нагатино-Садовники        ЮАО            35          17          58   \n",
       "Район Орехово-Борисово Северное ЮАО            16           2          22   \n",
       "Район Орехово-Борисово Южное    ЮАО            16           2          22   \n",
       "Район Проспект Вернадского      ЗАО            52          22          82   \n",
       "Район Раменки                   ЗАО            18          11          41   \n",
       "Район Ростокино                 СВАО           28          20          50   \n",
       "Район Свиблово                  СВАО           28          20          50   \n",
       "Район Северное Бутово           ЮЗАО           19          15          36   \n",
       "Район Сокол                     САО            28          24          46   \n",
       "Район Теплый Стан               ЮЗАО           51          27          72   \n",
       "Район Тропарево-Никулино        ЗАО            52          22          82   \n",
       "Район Фили-Давыдково            ЗАО            21           8          36   \n",
       "Район Черемушки                 ЮЗАО           17          16          31   \n",
       "Район Чертаново Северное        ЮАО            26          24          57   \n",
       "Район Чертаново Центральное     ЮАО            26          24          57   \n",
       "Район Чертаново Южное           ЮАО            26          24          57   \n",
       "Район Южное Бутово              ЮЗАО           19          15          36   \n",
       "Район Якиманка                  ЦАО            34          11          41   \n",
       "Район Ясенево                   ЮЗАО           17          16          31   \n",
       "Хорошевский район               САО            28          24          46   \n",
       "Ярославский Район               СВАО           28          20          50   \n",
       "\n",
       "                                                   \n",
       "number_category                       категория F  \n",
       "area                            okrug              \n",
       "Академический район             ЮЗАО           54  \n",
       "Алексеевский район              СВАО           59  \n",
       "Донской район                   ЮАО            91  \n",
       "Ломоносовский район             ЮЗАО           76  \n",
       "Мещанский район                 ЦАО            59  \n",
       "Нагорный район                  ЮАО            57  \n",
       "Обручевский район               ЮЗАО           88  \n",
       "Останкинский район              СВАО           59  \n",
       "Пресненский район               ЦАО            69  \n",
       "Район Аэропорт                  САО            47  \n",
       "Район Беговой                   САО            47  \n",
       "Район Гагаринский               ЮЗАО           76  \n",
       "Район Дорогомилово              ЗАО            15  \n",
       "Район Коньково                  ЮЗАО           54  \n",
       "Район Марьина роща              СВАО           59  \n",
       "Район Москворечье-Сабурово      ЮАО            43  \n",
       "Район Нагатино-Садовники        ЮАО           100  \n",
       "Район Орехово-Борисово Северное ЮАО            43  \n",
       "Район Орехово-Борисово Южное    ЮАО            43  \n",
       "Район Проспект Вернадского      ЗАО            76  \n",
       "Район Раменки                   ЗАО            42  \n",
       "Район Ростокино                 СВАО           59  \n",
       "Район Свиблово                  СВАО           59  \n",
       "Район Северное Бутово           ЮЗАО           57  \n",
       "Район Сокол                     САО            47  \n",
       "Район Теплый Стан               ЮЗАО           88  \n",
       "Район Тропарево-Никулино        ЗАО            76  \n",
       "Район Фили-Давыдково            ЗАО            15  \n",
       "Район Черемушки                 ЮЗАО           54  \n",
       "Район Чертаново Северное        ЮАО            86  \n",
       "Район Чертаново Центральное     ЮАО            86  \n",
       "Район Чертаново Южное           ЮАО            86  \n",
       "Район Южное Бутово              ЮЗАО           57  \n",
       "Район Якиманка                  ЦАО            34  \n",
       "Район Ясенево                   ЮЗАО           54  \n",
       "Хорошевский район               САО            47  \n",
       "Ярославский Район               СВАО           59  "
      ]
     },
     "execution_count": 94,
     "metadata": {},
     "output_type": "execute_result"
    }
   ],
   "source": [
    "df_top10_area = df_top10.pivot_table(index=('area','okrug'), columns='number_category', values ='id', aggfunc=['count'])\n",
    "df_top10_area"
   ]
  },
  {
   "cell_type": "code",
   "execution_count": 95,
   "id": "66e47409",
   "metadata": {},
   "outputs": [
    {
     "data": {
      "text/html": [
       "<div>\n",
       "<style scoped>\n",
       "    .dataframe tbody tr th:only-of-type {\n",
       "        vertical-align: middle;\n",
       "    }\n",
       "\n",
       "    .dataframe tbody tr th {\n",
       "        vertical-align: top;\n",
       "    }\n",
       "\n",
       "    .dataframe thead tr th {\n",
       "        text-align: left;\n",
       "    }\n",
       "\n",
       "    .dataframe thead tr:last-of-type th {\n",
       "        text-align: right;\n",
       "    }\n",
       "</style>\n",
       "<table border=\"1\" class=\"dataframe\">\n",
       "  <thead>\n",
       "    <tr>\n",
       "      <th></th>\n",
       "      <th></th>\n",
       "      <th></th>\n",
       "      <th colspan=\"7\" halign=\"left\">count</th>\n",
       "    </tr>\n",
       "    <tr>\n",
       "      <th></th>\n",
       "      <th></th>\n",
       "      <th>number_category</th>\n",
       "      <th>без мест</th>\n",
       "      <th>категория A</th>\n",
       "      <th>категория B</th>\n",
       "      <th>категория C</th>\n",
       "      <th>категория D</th>\n",
       "      <th>категория E</th>\n",
       "      <th>категория F</th>\n",
       "    </tr>\n",
       "    <tr>\n",
       "      <th>okrug</th>\n",
       "      <th>street</th>\n",
       "      <th>object_type</th>\n",
       "      <th></th>\n",
       "      <th></th>\n",
       "      <th></th>\n",
       "      <th></th>\n",
       "      <th></th>\n",
       "      <th></th>\n",
       "      <th></th>\n",
       "    </tr>\n",
       "  </thead>\n",
       "  <tbody>\n",
       "    <tr>\n",
       "      <th rowspan=\"10\" valign=\"top\">ЗАО</th>\n",
       "      <th rowspan=\"8\" valign=\"top\">Кутузовский проспект</th>\n",
       "      <th>бар</th>\n",
       "      <td>NaN</td>\n",
       "      <td>2.00</td>\n",
       "      <td>NaN</td>\n",
       "      <td>2.00</td>\n",
       "      <td>NaN</td>\n",
       "      <td>6.00</td>\n",
       "      <td>2.00</td>\n",
       "    </tr>\n",
       "    <tr>\n",
       "      <th>буфет</th>\n",
       "      <td>NaN</td>\n",
       "      <td>NaN</td>\n",
       "      <td>NaN</td>\n",
       "      <td>NaN</td>\n",
       "      <td>NaN</td>\n",
       "      <td>NaN</td>\n",
       "      <td>2.00</td>\n",
       "    </tr>\n",
       "    <tr>\n",
       "      <th>закусочная</th>\n",
       "      <td>4.00</td>\n",
       "      <td>NaN</td>\n",
       "      <td>NaN</td>\n",
       "      <td>NaN</td>\n",
       "      <td>NaN</td>\n",
       "      <td>NaN</td>\n",
       "      <td>NaN</td>\n",
       "    </tr>\n",
       "    <tr>\n",
       "      <th>кафе</th>\n",
       "      <td>22.00</td>\n",
       "      <td>2.00</td>\n",
       "      <td>NaN</td>\n",
       "      <td>4.00</td>\n",
       "      <td>6.00</td>\n",
       "      <td>30.00</td>\n",
       "      <td>18.00</td>\n",
       "    </tr>\n",
       "    <tr>\n",
       "      <th>магазин (отдел кулинарии)</th>\n",
       "      <td>2.00</td>\n",
       "      <td>NaN</td>\n",
       "      <td>NaN</td>\n",
       "      <td>NaN</td>\n",
       "      <td>NaN</td>\n",
       "      <td>NaN</td>\n",
       "      <td>2.00</td>\n",
       "    </tr>\n",
       "    <tr>\n",
       "      <th>предприятие быстрого обслуживания</th>\n",
       "      <td>2.00</td>\n",
       "      <td>NaN</td>\n",
       "      <td>NaN</td>\n",
       "      <td>NaN</td>\n",
       "      <td>NaN</td>\n",
       "      <td>12.00</td>\n",
       "      <td>2.00</td>\n",
       "    </tr>\n",
       "    <tr>\n",
       "      <th>ресторан</th>\n",
       "      <td>2.00</td>\n",
       "      <td>16.00</td>\n",
       "      <td>10.00</td>\n",
       "      <td>36.00</td>\n",
       "      <td>8.00</td>\n",
       "      <td>22.00</td>\n",
       "      <td>2.00</td>\n",
       "    </tr>\n",
       "    <tr>\n",
       "      <th>столовая</th>\n",
       "      <td>NaN</td>\n",
       "      <td>6.00</td>\n",
       "      <td>NaN</td>\n",
       "      <td>NaN</td>\n",
       "      <td>2.00</td>\n",
       "      <td>2.00</td>\n",
       "      <td>2.00</td>\n",
       "    </tr>\n",
       "    <tr>\n",
       "      <th rowspan=\"2\" valign=\"top\">Ленинский проспект</th>\n",
       "      <th>бар</th>\n",
       "      <td>NaN</td>\n",
       "      <td>NaN</td>\n",
       "      <td>NaN</td>\n",
       "      <td>NaN</td>\n",
       "      <td>2.00</td>\n",
       "      <td>2.00</td>\n",
       "      <td>8.00</td>\n",
       "    </tr>\n",
       "    <tr>\n",
       "      <th>буфет</th>\n",
       "      <td>NaN</td>\n",
       "      <td>2.00</td>\n",
       "      <td>NaN</td>\n",
       "      <td>NaN</td>\n",
       "      <td>NaN</td>\n",
       "      <td>NaN</td>\n",
       "      <td>NaN</td>\n",
       "    </tr>\n",
       "  </tbody>\n",
       "</table>\n",
       "</div>"
      ],
      "text/plain": [
       "                                                                count  \\\n",
       "number_category                                              без мест   \n",
       "okrug street               object_type                                  \n",
       "ЗАО   Кутузовский проспект бар                                    NaN   \n",
       "                           буфет                                  NaN   \n",
       "                           закусочная                            4.00   \n",
       "                           кафе                                 22.00   \n",
       "                           магазин (отдел кулинарии)             2.00   \n",
       "                           предприятие быстрого обслуживания     2.00   \n",
       "                           ресторан                              2.00   \n",
       "                           столовая                               NaN   \n",
       "      Ленинский проспект   бар                                    NaN   \n",
       "                           буфет                                  NaN   \n",
       "\n",
       "                                                                          \\\n",
       "number_category                                              категория A   \n",
       "okrug street               object_type                                     \n",
       "ЗАО   Кутузовский проспект бар                                      2.00   \n",
       "                           буфет                                     NaN   \n",
       "                           закусочная                                NaN   \n",
       "                           кафе                                     2.00   \n",
       "                           магазин (отдел кулинарии)                 NaN   \n",
       "                           предприятие быстрого обслуживания         NaN   \n",
       "                           ресторан                                16.00   \n",
       "                           столовая                                 6.00   \n",
       "      Ленинский проспект   бар                                       NaN   \n",
       "                           буфет                                    2.00   \n",
       "\n",
       "                                                                          \\\n",
       "number_category                                              категория B   \n",
       "okrug street               object_type                                     \n",
       "ЗАО   Кутузовский проспект бар                                       NaN   \n",
       "                           буфет                                     NaN   \n",
       "                           закусочная                                NaN   \n",
       "                           кафе                                      NaN   \n",
       "                           магазин (отдел кулинарии)                 NaN   \n",
       "                           предприятие быстрого обслуживания         NaN   \n",
       "                           ресторан                                10.00   \n",
       "                           столовая                                  NaN   \n",
       "      Ленинский проспект   бар                                       NaN   \n",
       "                           буфет                                     NaN   \n",
       "\n",
       "                                                                          \\\n",
       "number_category                                              категория C   \n",
       "okrug street               object_type                                     \n",
       "ЗАО   Кутузовский проспект бар                                      2.00   \n",
       "                           буфет                                     NaN   \n",
       "                           закусочная                                NaN   \n",
       "                           кафе                                     4.00   \n",
       "                           магазин (отдел кулинарии)                 NaN   \n",
       "                           предприятие быстрого обслуживания         NaN   \n",
       "                           ресторан                                36.00   \n",
       "                           столовая                                  NaN   \n",
       "      Ленинский проспект   бар                                       NaN   \n",
       "                           буфет                                     NaN   \n",
       "\n",
       "                                                                          \\\n",
       "number_category                                              категория D   \n",
       "okrug street               object_type                                     \n",
       "ЗАО   Кутузовский проспект бар                                       NaN   \n",
       "                           буфет                                     NaN   \n",
       "                           закусочная                                NaN   \n",
       "                           кафе                                     6.00   \n",
       "                           магазин (отдел кулинарии)                 NaN   \n",
       "                           предприятие быстрого обслуживания         NaN   \n",
       "                           ресторан                                 8.00   \n",
       "                           столовая                                 2.00   \n",
       "      Ленинский проспект   бар                                      2.00   \n",
       "                           буфет                                     NaN   \n",
       "\n",
       "                                                                          \\\n",
       "number_category                                              категория E   \n",
       "okrug street               object_type                                     \n",
       "ЗАО   Кутузовский проспект бар                                      6.00   \n",
       "                           буфет                                     NaN   \n",
       "                           закусочная                                NaN   \n",
       "                           кафе                                    30.00   \n",
       "                           магазин (отдел кулинарии)                 NaN   \n",
       "                           предприятие быстрого обслуживания       12.00   \n",
       "                           ресторан                                22.00   \n",
       "                           столовая                                 2.00   \n",
       "      Ленинский проспект   бар                                      2.00   \n",
       "                           буфет                                     NaN   \n",
       "\n",
       "                                                                          \n",
       "number_category                                              категория F  \n",
       "okrug street               object_type                                    \n",
       "ЗАО   Кутузовский проспект бар                                      2.00  \n",
       "                           буфет                                    2.00  \n",
       "                           закусочная                                NaN  \n",
       "                           кафе                                    18.00  \n",
       "                           магазин (отдел кулинарии)                2.00  \n",
       "                           предприятие быстрого обслуживания        2.00  \n",
       "                           ресторан                                 2.00  \n",
       "                           столовая                                 2.00  \n",
       "      Ленинский проспект   бар                                      8.00  \n",
       "                           буфет                                     NaN  "
      ]
     },
     "execution_count": 95,
     "metadata": {},
     "output_type": "execute_result"
    }
   ],
   "source": [
    "# Сводная таблица для улиц с максимальной группировкой заведений\n",
    "df_numb = df_top10.pivot_table(index=('okrug','street','object_type'), columns='number_category', values ='id', aggfunc=['count'])\n",
    "df_numb.head(10)"
   ]
  },
  {
   "cell_type": "markdown",
   "id": "4853ae2c",
   "metadata": {},
   "source": [
    "Далее буду рассматривать каждую по отдельности. Создавать отдельный фрейм для улицы и исследовать."
   ]
  },
  {
   "cell_type": "markdown",
   "id": "2e3cd5e0",
   "metadata": {},
   "source": [
    "#### Проспект Мира"
   ]
  },
  {
   "cell_type": "code",
   "execution_count": 96,
   "id": "59d95c28",
   "metadata": {},
   "outputs": [
    {
     "data": {
      "text/plain": [
       "Алексеевский район    204\n",
       "Ярославский Район     204\n",
       "Район Марьина роща    204\n",
       "Останкинский район    204\n",
       "Район Ростокино       204\n",
       "Район Свиблово        204\n",
       "Мещанский район       204\n",
       "Name: area, dtype: int64"
      ]
     },
     "execution_count": 96,
     "metadata": {},
     "output_type": "execute_result"
    }
   ],
   "source": [
    "df_top10_prMira = df_top10.query('street == \"проспект Мира\"')\n",
    "df_top10_prMira_pt = df_top10_prMira.pivot_table(index=('okrug','area','object_type'), columns='number_category', values ='id', aggfunc=['count'])\n",
    "df_top10_prMira['area'].value_counts()"
   ]
  },
  {
   "cell_type": "code",
   "execution_count": 97,
   "id": "6b0d651c",
   "metadata": {},
   "outputs": [
    {
     "data": {
      "text/plain": [
       "СВАО    1224\n",
       "ЦАО      204\n",
       "Name: okrug, dtype: int64"
      ]
     },
     "execution_count": 97,
     "metadata": {},
     "output_type": "execute_result"
    }
   ],
   "source": [
    "df_top10_prMira['okrug'].value_counts()"
   ]
  },
  {
   "cell_type": "code",
   "execution_count": 98,
   "id": "ef2be0bd",
   "metadata": {},
   "outputs": [
    {
     "data": {
      "text/html": [
       "<div>\n",
       "<style scoped>\n",
       "    .dataframe tbody tr th:only-of-type {\n",
       "        vertical-align: middle;\n",
       "    }\n",
       "\n",
       "    .dataframe tbody tr th {\n",
       "        vertical-align: top;\n",
       "    }\n",
       "\n",
       "    .dataframe thead tr th {\n",
       "        text-align: left;\n",
       "    }\n",
       "\n",
       "    .dataframe thead tr:last-of-type th {\n",
       "        text-align: right;\n",
       "    }\n",
       "</style>\n",
       "<table border=\"1\" class=\"dataframe\">\n",
       "  <thead>\n",
       "    <tr>\n",
       "      <th></th>\n",
       "      <th></th>\n",
       "      <th colspan=\"7\" halign=\"left\">count</th>\n",
       "    </tr>\n",
       "    <tr>\n",
       "      <th></th>\n",
       "      <th>number_category</th>\n",
       "      <th>без мест</th>\n",
       "      <th>категория A</th>\n",
       "      <th>категория B</th>\n",
       "      <th>категория C</th>\n",
       "      <th>категория D</th>\n",
       "      <th>категория E</th>\n",
       "      <th>категория F</th>\n",
       "    </tr>\n",
       "    <tr>\n",
       "      <th>street</th>\n",
       "      <th>object_type</th>\n",
       "      <th></th>\n",
       "      <th></th>\n",
       "      <th></th>\n",
       "      <th></th>\n",
       "      <th></th>\n",
       "      <th></th>\n",
       "      <th></th>\n",
       "    </tr>\n",
       "  </thead>\n",
       "  <tbody>\n",
       "    <tr>\n",
       "      <th rowspan=\"9\" valign=\"top\">проспект Мира</th>\n",
       "      <th>бар</th>\n",
       "      <td>NaN</td>\n",
       "      <td>NaN</td>\n",
       "      <td>14.00</td>\n",
       "      <td>14.00</td>\n",
       "      <td>14.00</td>\n",
       "      <td>35.00</td>\n",
       "      <td>28.00</td>\n",
       "    </tr>\n",
       "    <tr>\n",
       "      <th>буфет</th>\n",
       "      <td>NaN</td>\n",
       "      <td>NaN</td>\n",
       "      <td>NaN</td>\n",
       "      <td>NaN</td>\n",
       "      <td>7.00</td>\n",
       "      <td>7.00</td>\n",
       "      <td>7.00</td>\n",
       "    </tr>\n",
       "    <tr>\n",
       "      <th>закусочная</th>\n",
       "      <td>21.00</td>\n",
       "      <td>NaN</td>\n",
       "      <td>NaN</td>\n",
       "      <td>7.00</td>\n",
       "      <td>NaN</td>\n",
       "      <td>NaN</td>\n",
       "      <td>NaN</td>\n",
       "    </tr>\n",
       "    <tr>\n",
       "      <th>кафе</th>\n",
       "      <td>14.00</td>\n",
       "      <td>28.00</td>\n",
       "      <td>63.00</td>\n",
       "      <td>98.00</td>\n",
       "      <td>84.00</td>\n",
       "      <td>252.00</td>\n",
       "      <td>182.00</td>\n",
       "    </tr>\n",
       "    <tr>\n",
       "      <th>кафетерий</th>\n",
       "      <td>14.00</td>\n",
       "      <td>NaN</td>\n",
       "      <td>NaN</td>\n",
       "      <td>NaN</td>\n",
       "      <td>NaN</td>\n",
       "      <td>NaN</td>\n",
       "      <td>21.00</td>\n",
       "    </tr>\n",
       "    <tr>\n",
       "      <th>магазин (отдел кулинарии)</th>\n",
       "      <td>21.00</td>\n",
       "      <td>NaN</td>\n",
       "      <td>NaN</td>\n",
       "      <td>NaN</td>\n",
       "      <td>NaN</td>\n",
       "      <td>NaN</td>\n",
       "      <td>35.00</td>\n",
       "    </tr>\n",
       "    <tr>\n",
       "      <th>предприятие быстрого обслуживания</th>\n",
       "      <td>14.00</td>\n",
       "      <td>7.00</td>\n",
       "      <td>21.00</td>\n",
       "      <td>14.00</td>\n",
       "      <td>NaN</td>\n",
       "      <td>14.00</td>\n",
       "      <td>112.00</td>\n",
       "    </tr>\n",
       "    <tr>\n",
       "      <th>ресторан</th>\n",
       "      <td>NaN</td>\n",
       "      <td>42.00</td>\n",
       "      <td>49.00</td>\n",
       "      <td>56.00</td>\n",
       "      <td>35.00</td>\n",
       "      <td>21.00</td>\n",
       "      <td>21.00</td>\n",
       "    </tr>\n",
       "    <tr>\n",
       "      <th>столовая</th>\n",
       "      <td>NaN</td>\n",
       "      <td>14.00</td>\n",
       "      <td>7.00</td>\n",
       "      <td>7.00</td>\n",
       "      <td>NaN</td>\n",
       "      <td>21.00</td>\n",
       "      <td>7.00</td>\n",
       "    </tr>\n",
       "  </tbody>\n",
       "</table>\n",
       "</div>"
      ],
      "text/plain": [
       "                                                   count              \\\n",
       "number_category                                 без мест категория A   \n",
       "street        object_type                                              \n",
       "проспект Мира бар                                    NaN         NaN   \n",
       "              буфет                                  NaN         NaN   \n",
       "              закусочная                           21.00         NaN   \n",
       "              кафе                                 14.00       28.00   \n",
       "              кафетерий                            14.00         NaN   \n",
       "              магазин (отдел кулинарии)            21.00         NaN   \n",
       "              предприятие быстрого обслуживания    14.00        7.00   \n",
       "              ресторан                               NaN       42.00   \n",
       "              столовая                               NaN       14.00   \n",
       "\n",
       "                                                                         \\\n",
       "number_category                                 категория B категория C   \n",
       "street        object_type                                                 \n",
       "проспект Мира бар                                     14.00       14.00   \n",
       "              буфет                                     NaN         NaN   \n",
       "              закусочная                                NaN        7.00   \n",
       "              кафе                                    63.00       98.00   \n",
       "              кафетерий                                 NaN         NaN   \n",
       "              магазин (отдел кулинарии)                 NaN         NaN   \n",
       "              предприятие быстрого обслуживания       21.00       14.00   \n",
       "              ресторан                                49.00       56.00   \n",
       "              столовая                                 7.00        7.00   \n",
       "\n",
       "                                                                         \\\n",
       "number_category                                 категория D категория E   \n",
       "street        object_type                                                 \n",
       "проспект Мира бар                                     14.00       35.00   \n",
       "              буфет                                    7.00        7.00   \n",
       "              закусочная                                NaN         NaN   \n",
       "              кафе                                    84.00      252.00   \n",
       "              кафетерий                                 NaN         NaN   \n",
       "              магазин (отдел кулинарии)                 NaN         NaN   \n",
       "              предприятие быстрого обслуживания         NaN       14.00   \n",
       "              ресторан                                35.00       21.00   \n",
       "              столовая                                  NaN       21.00   \n",
       "\n",
       "                                                             \n",
       "number_category                                 категория F  \n",
       "street        object_type                                    \n",
       "проспект Мира бар                                     28.00  \n",
       "              буфет                                    7.00  \n",
       "              закусочная                                NaN  \n",
       "              кафе                                   182.00  \n",
       "              кафетерий                               21.00  \n",
       "              магазин (отдел кулинарии)               35.00  \n",
       "              предприятие быстрого обслуживания      112.00  \n",
       "              ресторан                                21.00  \n",
       "              столовая                                 7.00  "
      ]
     },
     "execution_count": 98,
     "metadata": {},
     "output_type": "execute_result"
    }
   ],
   "source": [
    "df_top10_prMira_pt = df_top10_prMira.pivot_table(index=('street','object_type'), columns='number_category', values ='id', aggfunc=['count'])\n",
    "df_top10_prMira_pt"
   ]
  },
  {
   "cell_type": "markdown",
   "id": "e13fd596",
   "metadata": {},
   "source": [
    "Проспе́кт Ми́ра  — проспект на северо-востоке Москвы. Начинается от Сухаревской площади на Садовом кольце, являясь продолжением Сретенки. Заканчивается на Северянинском путепроводе, переходя в Ярославское шоссе. \n",
    "\n",
    "Занимает второе место по проходимости в городе(https://ru.wikipedia.org/wiki/Проспект_Мира_(Москва), https://1-by-1.ru/news/news_20.html) \n",
    "\n",
    "Включает в себя 7 районов (Алексеевский,Ярославский, Марьина роща, Останкинский, Ростокин, Свиблово, Мещанский) и 2 округа (СВАО и ЦАО). Протяжённость почти 9 км.\n",
    "\n",
    "Преобладают на проспекте Мира кафе вместимостью от 26 до 50 мест, а также кафе с количеством мест до 25. Имеют место рестораны вместимостью от 101 места.  Больше всего ресторанов вместимостью от 71 до 100 мест.\n"
   ]
  },
  {
   "cell_type": "markdown",
   "id": "0413de27",
   "metadata": {},
   "source": [
    "#### Профсоюзная улица"
   ]
  },
  {
   "cell_type": "code",
   "execution_count": 99,
   "id": "3a8bb604",
   "metadata": {},
   "outputs": [
    {
     "data": {
      "text/html": [
       "<div>\n",
       "<style scoped>\n",
       "    .dataframe tbody tr th:only-of-type {\n",
       "        vertical-align: middle;\n",
       "    }\n",
       "\n",
       "    .dataframe tbody tr th {\n",
       "        vertical-align: top;\n",
       "    }\n",
       "\n",
       "    .dataframe thead tr th {\n",
       "        text-align: left;\n",
       "    }\n",
       "\n",
       "    .dataframe thead tr:last-of-type th {\n",
       "        text-align: right;\n",
       "    }\n",
       "</style>\n",
       "<table border=\"1\" class=\"dataframe\">\n",
       "  <thead>\n",
       "    <tr>\n",
       "      <th></th>\n",
       "      <th></th>\n",
       "      <th colspan=\"7\" halign=\"left\">count</th>\n",
       "    </tr>\n",
       "    <tr>\n",
       "      <th></th>\n",
       "      <th>number_category</th>\n",
       "      <th>без мест</th>\n",
       "      <th>категория A</th>\n",
       "      <th>категория B</th>\n",
       "      <th>категория C</th>\n",
       "      <th>категория D</th>\n",
       "      <th>категория E</th>\n",
       "      <th>категория F</th>\n",
       "    </tr>\n",
       "    <tr>\n",
       "      <th>street</th>\n",
       "      <th>object_type</th>\n",
       "      <th></th>\n",
       "      <th></th>\n",
       "      <th></th>\n",
       "      <th></th>\n",
       "      <th></th>\n",
       "      <th></th>\n",
       "      <th></th>\n",
       "    </tr>\n",
       "  </thead>\n",
       "  <tbody>\n",
       "    <tr>\n",
       "      <th rowspan=\"9\" valign=\"top\">Профсоюзная улица</th>\n",
       "      <th>бар</th>\n",
       "      <td>6.00</td>\n",
       "      <td>NaN</td>\n",
       "      <td>NaN</td>\n",
       "      <td>6.00</td>\n",
       "      <td>NaN</td>\n",
       "      <td>12.00</td>\n",
       "      <td>6.00</td>\n",
       "    </tr>\n",
       "    <tr>\n",
       "      <th>буфет</th>\n",
       "      <td>12.00</td>\n",
       "      <td>NaN</td>\n",
       "      <td>6.00</td>\n",
       "      <td>6.00</td>\n",
       "      <td>NaN</td>\n",
       "      <td>6.00</td>\n",
       "      <td>NaN</td>\n",
       "    </tr>\n",
       "    <tr>\n",
       "      <th>закусочная</th>\n",
       "      <td>6.00</td>\n",
       "      <td>NaN</td>\n",
       "      <td>NaN</td>\n",
       "      <td>NaN</td>\n",
       "      <td>NaN</td>\n",
       "      <td>NaN</td>\n",
       "      <td>6.00</td>\n",
       "    </tr>\n",
       "    <tr>\n",
       "      <th>кафе</th>\n",
       "      <td>48.00</td>\n",
       "      <td>24.00</td>\n",
       "      <td>18.00</td>\n",
       "      <td>36.00</td>\n",
       "      <td>60.00</td>\n",
       "      <td>138.00</td>\n",
       "      <td>216.00</td>\n",
       "    </tr>\n",
       "    <tr>\n",
       "      <th>кафетерий</th>\n",
       "      <td>24.00</td>\n",
       "      <td>NaN</td>\n",
       "      <td>NaN</td>\n",
       "      <td>NaN</td>\n",
       "      <td>NaN</td>\n",
       "      <td>NaN</td>\n",
       "      <td>36.00</td>\n",
       "    </tr>\n",
       "    <tr>\n",
       "      <th>магазин (отдел кулинарии)</th>\n",
       "      <td>6.00</td>\n",
       "      <td>NaN</td>\n",
       "      <td>NaN</td>\n",
       "      <td>NaN</td>\n",
       "      <td>NaN</td>\n",
       "      <td>NaN</td>\n",
       "      <td>6.00</td>\n",
       "    </tr>\n",
       "    <tr>\n",
       "      <th>предприятие быстрого обслуживания</th>\n",
       "      <td>72.00</td>\n",
       "      <td>NaN</td>\n",
       "      <td>NaN</td>\n",
       "      <td>NaN</td>\n",
       "      <td>12.00</td>\n",
       "      <td>18.00</td>\n",
       "      <td>36.00</td>\n",
       "    </tr>\n",
       "    <tr>\n",
       "      <th>ресторан</th>\n",
       "      <td>66.00</td>\n",
       "      <td>18.00</td>\n",
       "      <td>30.00</td>\n",
       "      <td>36.00</td>\n",
       "      <td>24.00</td>\n",
       "      <td>NaN</td>\n",
       "      <td>12.00</td>\n",
       "    </tr>\n",
       "    <tr>\n",
       "      <th>столовая</th>\n",
       "      <td>NaN</td>\n",
       "      <td>42.00</td>\n",
       "      <td>6.00</td>\n",
       "      <td>18.00</td>\n",
       "      <td>NaN</td>\n",
       "      <td>12.00</td>\n",
       "      <td>6.00</td>\n",
       "    </tr>\n",
       "  </tbody>\n",
       "</table>\n",
       "</div>"
      ],
      "text/plain": [
       "                                                       count              \\\n",
       "number_category                                     без мест категория A   \n",
       "street            object_type                                              \n",
       "Профсоюзная улица бар                                   6.00         NaN   \n",
       "                  буфет                                12.00         NaN   \n",
       "                  закусочная                            6.00         NaN   \n",
       "                  кафе                                 48.00       24.00   \n",
       "                  кафетерий                            24.00         NaN   \n",
       "                  магазин (отдел кулинарии)             6.00         NaN   \n",
       "                  предприятие быстрого обслуживания    72.00         NaN   \n",
       "                  ресторан                             66.00       18.00   \n",
       "                  столовая                               NaN       42.00   \n",
       "\n",
       "                                                                             \\\n",
       "number_category                                     категория B категория C   \n",
       "street            object_type                                                 \n",
       "Профсоюзная улица бар                                       NaN        6.00   \n",
       "                  буфет                                    6.00        6.00   \n",
       "                  закусочная                                NaN         NaN   \n",
       "                  кафе                                    18.00       36.00   \n",
       "                  кафетерий                                 NaN         NaN   \n",
       "                  магазин (отдел кулинарии)                 NaN         NaN   \n",
       "                  предприятие быстрого обслуживания         NaN         NaN   \n",
       "                  ресторан                                30.00       36.00   \n",
       "                  столовая                                 6.00       18.00   \n",
       "\n",
       "                                                                             \\\n",
       "number_category                                     категория D категория E   \n",
       "street            object_type                                                 \n",
       "Профсоюзная улица бар                                       NaN       12.00   \n",
       "                  буфет                                     NaN        6.00   \n",
       "                  закусочная                                NaN         NaN   \n",
       "                  кафе                                    60.00      138.00   \n",
       "                  кафетерий                                 NaN         NaN   \n",
       "                  магазин (отдел кулинарии)                 NaN         NaN   \n",
       "                  предприятие быстрого обслуживания       12.00       18.00   \n",
       "                  ресторан                                24.00         NaN   \n",
       "                  столовая                                  NaN       12.00   \n",
       "\n",
       "                                                                 \n",
       "number_category                                     категория F  \n",
       "street            object_type                                    \n",
       "Профсоюзная улица бар                                      6.00  \n",
       "                  буфет                                     NaN  \n",
       "                  закусочная                               6.00  \n",
       "                  кафе                                   216.00  \n",
       "                  кафетерий                               36.00  \n",
       "                  магазин (отдел кулинарии)                6.00  \n",
       "                  предприятие быстрого обслуживания       36.00  \n",
       "                  ресторан                                12.00  \n",
       "                  столовая                                 6.00  "
      ]
     },
     "execution_count": 99,
     "metadata": {},
     "output_type": "execute_result"
    }
   ],
   "source": [
    "df_top10_Prof = df_top10.query('street == \"Профсоюзная улица\"')\n",
    "df_top10_Prof_pt = df_top10_Prof.pivot_table(index=('street','object_type'), columns='number_category', values ='id', aggfunc=['count'])\n",
    "df_top10_Prof_pt"
   ]
  },
  {
   "cell_type": "code",
   "execution_count": 100,
   "id": "997d9321",
   "metadata": {},
   "outputs": [
    {
     "data": {
      "text/plain": [
       "Академический район    182\n",
       "Район Черемушки        182\n",
       "Район Ясенево          182\n",
       "Район Коньково         182\n",
       "Обручевский район      182\n",
       "Район Теплый Стан      182\n",
       "Name: area, dtype: int64"
      ]
     },
     "execution_count": 100,
     "metadata": {},
     "output_type": "execute_result"
    }
   ],
   "source": [
    "df_top10_Prof['area'].value_counts()"
   ]
  },
  {
   "cell_type": "code",
   "execution_count": 101,
   "id": "d7a98e5b",
   "metadata": {},
   "outputs": [
    {
     "data": {
      "text/plain": [
       "ЮЗАО    1092\n",
       "Name: okrug, dtype: int64"
      ]
     },
     "execution_count": 101,
     "metadata": {},
     "output_type": "execute_result"
    }
   ],
   "source": [
    "df_top10_Prof['okrug'].value_counts()"
   ]
  },
  {
   "cell_type": "markdown",
   "id": "81d92b21",
   "metadata": {},
   "source": [
    "**Профсоюзная улица** — улица в Юго-Западном административном округе города Москвы на территории районов Академический, Коньково, Обручевский, Тёплый Стан, Черёмушки, Ясенево.(https://ru.wikipedia.org/wiki/Профсоюзная_улица_(Москва)). \n",
    "\n",
    "Протяженность составляет 14 километров. \n",
    "\n",
    "Самая длинная пешеходная улица не только в России, но и в Европе. Ее протяженность – 6,5 километра. Пешеходный маршрут тянется от площади Гагарина, проходит через Ленинский проспект, Нескучный сад, по Александровскому мосту и заканчивается на площади Европы. Все улицы, входящие в пешеходную зону, были благоустроены: городские власти распорядились отремонтировать фасады зданий, установить фонари и дорожное покрытие. Седьмое место в нашем списке.\n",
    "Источник: https://everychild.ru/reyting/samye-dlinnye-ulitsy-moskvy-top-10\n",
    "\n",
    "Для Профсоюзной улицы характерны кафе вместимостью до 25,а также кафе с количеством мест от 26 до 50 мест. Имеют место рестораны вместимостью от 101 места.  Больше всего ресторанов вместимостью от 71 до 100 мест.\n"
   ]
  },
  {
   "cell_type": "markdown",
   "id": "97ae8c4d",
   "metadata": {},
   "source": [
    "#### Ленинградский проспект"
   ]
  },
  {
   "cell_type": "code",
   "execution_count": 102,
   "id": "27111194",
   "metadata": {},
   "outputs": [
    {
     "data": {
      "text/html": [
       "<div>\n",
       "<style scoped>\n",
       "    .dataframe tbody tr th:only-of-type {\n",
       "        vertical-align: middle;\n",
       "    }\n",
       "\n",
       "    .dataframe tbody tr th {\n",
       "        vertical-align: top;\n",
       "    }\n",
       "\n",
       "    .dataframe thead tr th {\n",
       "        text-align: left;\n",
       "    }\n",
       "\n",
       "    .dataframe thead tr:last-of-type th {\n",
       "        text-align: right;\n",
       "    }\n",
       "</style>\n",
       "<table border=\"1\" class=\"dataframe\">\n",
       "  <thead>\n",
       "    <tr>\n",
       "      <th></th>\n",
       "      <th></th>\n",
       "      <th colspan=\"7\" halign=\"left\">count</th>\n",
       "    </tr>\n",
       "    <tr>\n",
       "      <th></th>\n",
       "      <th>number_category</th>\n",
       "      <th>без мест</th>\n",
       "      <th>категория A</th>\n",
       "      <th>категория B</th>\n",
       "      <th>категория C</th>\n",
       "      <th>категория D</th>\n",
       "      <th>категория E</th>\n",
       "      <th>категория F</th>\n",
       "    </tr>\n",
       "    <tr>\n",
       "      <th>street</th>\n",
       "      <th>object_type</th>\n",
       "      <th></th>\n",
       "      <th></th>\n",
       "      <th></th>\n",
       "      <th></th>\n",
       "      <th></th>\n",
       "      <th></th>\n",
       "      <th></th>\n",
       "    </tr>\n",
       "  </thead>\n",
       "  <tbody>\n",
       "    <tr>\n",
       "      <th rowspan=\"8\" valign=\"top\">Ленинградский проспект</th>\n",
       "      <th>бар</th>\n",
       "      <td>NaN</td>\n",
       "      <td>NaN</td>\n",
       "      <td>NaN</td>\n",
       "      <td>12.00</td>\n",
       "      <td>8.00</td>\n",
       "      <td>4.00</td>\n",
       "      <td>16.00</td>\n",
       "    </tr>\n",
       "    <tr>\n",
       "      <th>буфет</th>\n",
       "      <td>NaN</td>\n",
       "      <td>NaN</td>\n",
       "      <td>NaN</td>\n",
       "      <td>NaN</td>\n",
       "      <td>NaN</td>\n",
       "      <td>16.00</td>\n",
       "      <td>8.00</td>\n",
       "    </tr>\n",
       "    <tr>\n",
       "      <th>кафе</th>\n",
       "      <td>4.00</td>\n",
       "      <td>NaN</td>\n",
       "      <td>4.00</td>\n",
       "      <td>24.00</td>\n",
       "      <td>44.00</td>\n",
       "      <td>96.00</td>\n",
       "      <td>108.00</td>\n",
       "    </tr>\n",
       "    <tr>\n",
       "      <th>кафетерий</th>\n",
       "      <td>NaN</td>\n",
       "      <td>NaN</td>\n",
       "      <td>NaN</td>\n",
       "      <td>NaN</td>\n",
       "      <td>NaN</td>\n",
       "      <td>NaN</td>\n",
       "      <td>12.00</td>\n",
       "    </tr>\n",
       "    <tr>\n",
       "      <th>магазин (отдел кулинарии)</th>\n",
       "      <td>4.00</td>\n",
       "      <td>NaN</td>\n",
       "      <td>NaN</td>\n",
       "      <td>NaN</td>\n",
       "      <td>NaN</td>\n",
       "      <td>8.00</td>\n",
       "      <td>8.00</td>\n",
       "    </tr>\n",
       "    <tr>\n",
       "      <th>предприятие быстрого обслуживания</th>\n",
       "      <td>44.00</td>\n",
       "      <td>NaN</td>\n",
       "      <td>8.00</td>\n",
       "      <td>4.00</td>\n",
       "      <td>NaN</td>\n",
       "      <td>NaN</td>\n",
       "      <td>8.00</td>\n",
       "    </tr>\n",
       "    <tr>\n",
       "      <th>ресторан</th>\n",
       "      <td>NaN</td>\n",
       "      <td>16.00</td>\n",
       "      <td>16.00</td>\n",
       "      <td>52.00</td>\n",
       "      <td>44.00</td>\n",
       "      <td>44.00</td>\n",
       "      <td>20.00</td>\n",
       "    </tr>\n",
       "    <tr>\n",
       "      <th>столовая</th>\n",
       "      <td>NaN</td>\n",
       "      <td>8.00</td>\n",
       "      <td>NaN</td>\n",
       "      <td>20.00</td>\n",
       "      <td>NaN</td>\n",
       "      <td>16.00</td>\n",
       "      <td>8.00</td>\n",
       "    </tr>\n",
       "  </tbody>\n",
       "</table>\n",
       "</div>"
      ],
      "text/plain": [
       "                                                            count              \\\n",
       "number_category                                          без мест категория A   \n",
       "street                 object_type                                              \n",
       "Ленинградский проспект бар                                    NaN         NaN   \n",
       "                       буфет                                  NaN         NaN   \n",
       "                       кафе                                  4.00         NaN   \n",
       "                       кафетерий                              NaN         NaN   \n",
       "                       магазин (отдел кулинарии)             4.00         NaN   \n",
       "                       предприятие быстрого обслуживания    44.00         NaN   \n",
       "                       ресторан                               NaN       16.00   \n",
       "                       столовая                               NaN        8.00   \n",
       "\n",
       "                                                                      \\\n",
       "number_category                                          категория B   \n",
       "street                 object_type                                     \n",
       "Ленинградский проспект бар                                       NaN   \n",
       "                       буфет                                     NaN   \n",
       "                       кафе                                     4.00   \n",
       "                       кафетерий                                 NaN   \n",
       "                       магазин (отдел кулинарии)                 NaN   \n",
       "                       предприятие быстрого обслуживания        8.00   \n",
       "                       ресторан                                16.00   \n",
       "                       столовая                                  NaN   \n",
       "\n",
       "                                                                      \\\n",
       "number_category                                          категория C   \n",
       "street                 object_type                                     \n",
       "Ленинградский проспект бар                                     12.00   \n",
       "                       буфет                                     NaN   \n",
       "                       кафе                                    24.00   \n",
       "                       кафетерий                                 NaN   \n",
       "                       магазин (отдел кулинарии)                 NaN   \n",
       "                       предприятие быстрого обслуживания        4.00   \n",
       "                       ресторан                                52.00   \n",
       "                       столовая                                20.00   \n",
       "\n",
       "                                                                      \\\n",
       "number_category                                          категория D   \n",
       "street                 object_type                                     \n",
       "Ленинградский проспект бар                                      8.00   \n",
       "                       буфет                                     NaN   \n",
       "                       кафе                                    44.00   \n",
       "                       кафетерий                                 NaN   \n",
       "                       магазин (отдел кулинарии)                 NaN   \n",
       "                       предприятие быстрого обслуживания         NaN   \n",
       "                       ресторан                                44.00   \n",
       "                       столовая                                  NaN   \n",
       "\n",
       "                                                                      \\\n",
       "number_category                                          категория E   \n",
       "street                 object_type                                     \n",
       "Ленинградский проспект бар                                      4.00   \n",
       "                       буфет                                   16.00   \n",
       "                       кафе                                    96.00   \n",
       "                       кафетерий                                 NaN   \n",
       "                       магазин (отдел кулинарии)                8.00   \n",
       "                       предприятие быстрого обслуживания         NaN   \n",
       "                       ресторан                                44.00   \n",
       "                       столовая                                16.00   \n",
       "\n",
       "                                                                      \n",
       "number_category                                          категория F  \n",
       "street                 object_type                                    \n",
       "Ленинградский проспект бар                                     16.00  \n",
       "                       буфет                                    8.00  \n",
       "                       кафе                                   108.00  \n",
       "                       кафетерий                               12.00  \n",
       "                       магазин (отдел кулинарии)                8.00  \n",
       "                       предприятие быстрого обслуживания        8.00  \n",
       "                       ресторан                                20.00  \n",
       "                       столовая                                 8.00  "
      ]
     },
     "execution_count": 102,
     "metadata": {},
     "output_type": "execute_result"
    }
   ],
   "source": [
    "df_top10_SPb = df_top10.query('street == \"Ленинградский проспект\"')\n",
    "df_top10_SPb_pt = df_top10_SPb.pivot_table(index=('street','object_type'), columns='number_category', values ='id', aggfunc=['count'])\n",
    "df_top10_SPb_pt"
   ]
  },
  {
   "cell_type": "code",
   "execution_count": 103,
   "id": "22755930",
   "metadata": {},
   "outputs": [
    {
     "data": {
      "text/plain": [
       "Район Аэропорт       171\n",
       "Район Беговой        171\n",
       "Хорошевский район    171\n",
       "Район Сокол          171\n",
       "Name: area, dtype: int64"
      ]
     },
     "execution_count": 103,
     "metadata": {},
     "output_type": "execute_result"
    }
   ],
   "source": [
    "df_top10_SPb['area'].value_counts()"
   ]
  },
  {
   "cell_type": "markdown",
   "id": "20ff7148",
   "metadata": {},
   "source": [
    "**Ленинградский проспект** расположен в Северном округе Москвы, держит первенство в статусе самой широкой улицы Москвы (до 120 м).\n",
    "Источник: https://touristam.com/samaya-dlinnaya-ulitsa-v-moskve.html\n",
    "\n",
    "Для Ленинградского проспекта характерны кафе вместимостью до 25,а также кафе с количеством мест от 26 до 50 мест. Имеют место рестораны вместимостью от 71 до 100 мест. А также рестораны вместимостью от 51 до 70 мест."
   ]
  },
  {
   "cell_type": "markdown",
   "id": "47386f32",
   "metadata": {},
   "source": [
    "#### Пресненская набережная"
   ]
  },
  {
   "cell_type": "code",
   "execution_count": 104,
   "id": "56a15d1d",
   "metadata": {},
   "outputs": [
    {
     "data": {
      "text/html": [
       "<div>\n",
       "<style scoped>\n",
       "    .dataframe tbody tr th:only-of-type {\n",
       "        vertical-align: middle;\n",
       "    }\n",
       "\n",
       "    .dataframe tbody tr th {\n",
       "        vertical-align: top;\n",
       "    }\n",
       "\n",
       "    .dataframe thead tr th {\n",
       "        text-align: left;\n",
       "    }\n",
       "\n",
       "    .dataframe thead tr:last-of-type th {\n",
       "        text-align: right;\n",
       "    }\n",
       "</style>\n",
       "<table border=\"1\" class=\"dataframe\">\n",
       "  <thead>\n",
       "    <tr>\n",
       "      <th></th>\n",
       "      <th></th>\n",
       "      <th colspan=\"7\" halign=\"left\">count</th>\n",
       "    </tr>\n",
       "    <tr>\n",
       "      <th></th>\n",
       "      <th>number_category</th>\n",
       "      <th>без мест</th>\n",
       "      <th>категория A</th>\n",
       "      <th>категория B</th>\n",
       "      <th>категория C</th>\n",
       "      <th>категория D</th>\n",
       "      <th>категория E</th>\n",
       "      <th>категория F</th>\n",
       "    </tr>\n",
       "    <tr>\n",
       "      <th>street</th>\n",
       "      <th>object_type</th>\n",
       "      <th></th>\n",
       "      <th></th>\n",
       "      <th></th>\n",
       "      <th></th>\n",
       "      <th></th>\n",
       "      <th></th>\n",
       "      <th></th>\n",
       "    </tr>\n",
       "  </thead>\n",
       "  <tbody>\n",
       "    <tr>\n",
       "      <th rowspan=\"6\" valign=\"top\">Пресненская набережная</th>\n",
       "      <th>бар</th>\n",
       "      <td>NaN</td>\n",
       "      <td>NaN</td>\n",
       "      <td>NaN</td>\n",
       "      <td>1.00</td>\n",
       "      <td>NaN</td>\n",
       "      <td>3.00</td>\n",
       "      <td>1.00</td>\n",
       "    </tr>\n",
       "    <tr>\n",
       "      <th>буфет</th>\n",
       "      <td>NaN</td>\n",
       "      <td>1.00</td>\n",
       "      <td>NaN</td>\n",
       "      <td>NaN</td>\n",
       "      <td>NaN</td>\n",
       "      <td>NaN</td>\n",
       "      <td>NaN</td>\n",
       "    </tr>\n",
       "    <tr>\n",
       "      <th>кафе</th>\n",
       "      <td>4.00</td>\n",
       "      <td>1.00</td>\n",
       "      <td>4.00</td>\n",
       "      <td>4.00</td>\n",
       "      <td>10.00</td>\n",
       "      <td>28.00</td>\n",
       "      <td>47.00</td>\n",
       "    </tr>\n",
       "    <tr>\n",
       "      <th>кафетерий</th>\n",
       "      <td>1.00</td>\n",
       "      <td>NaN</td>\n",
       "      <td>NaN</td>\n",
       "      <td>NaN</td>\n",
       "      <td>NaN</td>\n",
       "      <td>NaN</td>\n",
       "      <td>4.00</td>\n",
       "    </tr>\n",
       "    <tr>\n",
       "      <th>предприятие быстрого обслуживания</th>\n",
       "      <td>6.00</td>\n",
       "      <td>NaN</td>\n",
       "      <td>NaN</td>\n",
       "      <td>NaN</td>\n",
       "      <td>NaN</td>\n",
       "      <td>NaN</td>\n",
       "      <td>12.00</td>\n",
       "    </tr>\n",
       "    <tr>\n",
       "      <th>ресторан</th>\n",
       "      <td>NaN</td>\n",
       "      <td>5.00</td>\n",
       "      <td>5.00</td>\n",
       "      <td>3.00</td>\n",
       "      <td>6.00</td>\n",
       "      <td>16.00</td>\n",
       "      <td>5.00</td>\n",
       "    </tr>\n",
       "  </tbody>\n",
       "</table>\n",
       "</div>"
      ],
      "text/plain": [
       "                                                            count              \\\n",
       "number_category                                          без мест категория A   \n",
       "street                 object_type                                              \n",
       "Пресненская набережная бар                                    NaN         NaN   \n",
       "                       буфет                                  NaN        1.00   \n",
       "                       кафе                                  4.00        1.00   \n",
       "                       кафетерий                             1.00         NaN   \n",
       "                       предприятие быстрого обслуживания     6.00         NaN   \n",
       "                       ресторан                               NaN        5.00   \n",
       "\n",
       "                                                                      \\\n",
       "number_category                                          категория B   \n",
       "street                 object_type                                     \n",
       "Пресненская набережная бар                                       NaN   \n",
       "                       буфет                                     NaN   \n",
       "                       кафе                                     4.00   \n",
       "                       кафетерий                                 NaN   \n",
       "                       предприятие быстрого обслуживания         NaN   \n",
       "                       ресторан                                 5.00   \n",
       "\n",
       "                                                                      \\\n",
       "number_category                                          категория C   \n",
       "street                 object_type                                     \n",
       "Пресненская набережная бар                                      1.00   \n",
       "                       буфет                                     NaN   \n",
       "                       кафе                                     4.00   \n",
       "                       кафетерий                                 NaN   \n",
       "                       предприятие быстрого обслуживания         NaN   \n",
       "                       ресторан                                 3.00   \n",
       "\n",
       "                                                                      \\\n",
       "number_category                                          категория D   \n",
       "street                 object_type                                     \n",
       "Пресненская набережная бар                                       NaN   \n",
       "                       буфет                                     NaN   \n",
       "                       кафе                                    10.00   \n",
       "                       кафетерий                                 NaN   \n",
       "                       предприятие быстрого обслуживания         NaN   \n",
       "                       ресторан                                 6.00   \n",
       "\n",
       "                                                                      \\\n",
       "number_category                                          категория E   \n",
       "street                 object_type                                     \n",
       "Пресненская набережная бар                                      3.00   \n",
       "                       буфет                                     NaN   \n",
       "                       кафе                                    28.00   \n",
       "                       кафетерий                                 NaN   \n",
       "                       предприятие быстрого обслуживания         NaN   \n",
       "                       ресторан                                16.00   \n",
       "\n",
       "                                                                      \n",
       "number_category                                          категория F  \n",
       "street                 object_type                                    \n",
       "Пресненская набережная бар                                      1.00  \n",
       "                       буфет                                     NaN  \n",
       "                       кафе                                    47.00  \n",
       "                       кафетерий                                4.00  \n",
       "                       предприятие быстрого обслуживания       12.00  \n",
       "                       ресторан                                 5.00  "
      ]
     },
     "execution_count": 104,
     "metadata": {},
     "output_type": "execute_result"
    }
   ],
   "source": [
    "df_top10_PresNab = df_top10.query('street == \"Пресненская набережная\"')\n",
    "df_top10_PresNab_pt = df_top10_PresNab.pivot_table(index=('street','object_type'), columns='number_category', values ='id', aggfunc=['count'])\n",
    "df_top10_PresNab_pt"
   ]
  },
  {
   "cell_type": "code",
   "execution_count": 105,
   "id": "e59a2a60",
   "metadata": {},
   "outputs": [
    {
     "data": {
      "text/plain": [
       "Пресненский район    167\n",
       "Name: area, dtype: int64"
      ]
     },
     "execution_count": 105,
     "metadata": {},
     "output_type": "execute_result"
    }
   ],
   "source": [
    "df_top10_PresNab['area'].value_counts()"
   ]
  },
  {
   "cell_type": "markdown",
   "id": "2904ada8",
   "metadata": {},
   "source": [
    "**Пресненская набережная** находится в центре столицы в Пресненском районе и тянется по левому берегу Москвы-реки. \n",
    "\n",
    "Идёт вдоль делового центра Москва-Сити. \n",
    "\n",
    "Прогуливаясь по Пресненской набережной можно полюбоваться на живописные виды современной Москвы. Особенно красиво город выглядит по ночам, когда зажигаются многочисленные огни. Сюда приезжает множество туристов, чтобы сделать красивые фотографии на фоне «Москва-Сити».\n",
    "Источник: https://mos-holidays.ru/presnenskaya-naberezhnaya/\n",
    "\n",
    "Для Пресненской набережной характерны кафе вместимостью до 25,а также кафе с количеством мест от 26 до 50 мест. Имеют место рестораны вместимостью от 71 до 100 мест. А также рестораны вместимостью от 51 до 70 мест."
   ]
  },
  {
   "cell_type": "markdown",
   "id": "38c2544e",
   "metadata": {},
   "source": [
    "#### Варшавское шоссе"
   ]
  },
  {
   "cell_type": "code",
   "execution_count": 106,
   "id": "3cec333d",
   "metadata": {},
   "outputs": [
    {
     "data": {
      "text/html": [
       "<div>\n",
       "<style scoped>\n",
       "    .dataframe tbody tr th:only-of-type {\n",
       "        vertical-align: middle;\n",
       "    }\n",
       "\n",
       "    .dataframe tbody tr th {\n",
       "        vertical-align: top;\n",
       "    }\n",
       "\n",
       "    .dataframe thead tr th {\n",
       "        text-align: left;\n",
       "    }\n",
       "\n",
       "    .dataframe thead tr:last-of-type th {\n",
       "        text-align: right;\n",
       "    }\n",
       "</style>\n",
       "<table border=\"1\" class=\"dataframe\">\n",
       "  <thead>\n",
       "    <tr>\n",
       "      <th></th>\n",
       "      <th></th>\n",
       "      <th colspan=\"7\" halign=\"left\">count</th>\n",
       "    </tr>\n",
       "    <tr>\n",
       "      <th></th>\n",
       "      <th>number_category</th>\n",
       "      <th>без мест</th>\n",
       "      <th>категория A</th>\n",
       "      <th>категория B</th>\n",
       "      <th>категория C</th>\n",
       "      <th>категория D</th>\n",
       "      <th>категория E</th>\n",
       "      <th>категория F</th>\n",
       "    </tr>\n",
       "    <tr>\n",
       "      <th>street</th>\n",
       "      <th>object_type</th>\n",
       "      <th></th>\n",
       "      <th></th>\n",
       "      <th></th>\n",
       "      <th></th>\n",
       "      <th></th>\n",
       "      <th></th>\n",
       "      <th></th>\n",
       "    </tr>\n",
       "  </thead>\n",
       "  <tbody>\n",
       "    <tr>\n",
       "      <th rowspan=\"9\" valign=\"top\">Варшавское шоссе</th>\n",
       "      <th>бар</th>\n",
       "      <td>NaN</td>\n",
       "      <td>NaN</td>\n",
       "      <td>NaN</td>\n",
       "      <td>NaN</td>\n",
       "      <td>8.00</td>\n",
       "      <td>32.00</td>\n",
       "      <td>8.00</td>\n",
       "    </tr>\n",
       "    <tr>\n",
       "      <th>буфет</th>\n",
       "      <td>8.00</td>\n",
       "      <td>NaN</td>\n",
       "      <td>NaN</td>\n",
       "      <td>NaN</td>\n",
       "      <td>NaN</td>\n",
       "      <td>NaN</td>\n",
       "      <td>40.00</td>\n",
       "    </tr>\n",
       "    <tr>\n",
       "      <th>закусочная</th>\n",
       "      <td>NaN</td>\n",
       "      <td>NaN</td>\n",
       "      <td>NaN</td>\n",
       "      <td>NaN</td>\n",
       "      <td>NaN</td>\n",
       "      <td>NaN</td>\n",
       "      <td>16.00</td>\n",
       "    </tr>\n",
       "    <tr>\n",
       "      <th>кафе</th>\n",
       "      <td>8.00</td>\n",
       "      <td>8.00</td>\n",
       "      <td>8.00</td>\n",
       "      <td>80.00</td>\n",
       "      <td>48.00</td>\n",
       "      <td>136.00</td>\n",
       "      <td>240.00</td>\n",
       "    </tr>\n",
       "    <tr>\n",
       "      <th>кафетерий</th>\n",
       "      <td>8.00</td>\n",
       "      <td>NaN</td>\n",
       "      <td>NaN</td>\n",
       "      <td>NaN</td>\n",
       "      <td>NaN</td>\n",
       "      <td>16.00</td>\n",
       "      <td>40.00</td>\n",
       "    </tr>\n",
       "    <tr>\n",
       "      <th>магазин (отдел кулинарии)</th>\n",
       "      <td>8.00</td>\n",
       "      <td>NaN</td>\n",
       "      <td>NaN</td>\n",
       "      <td>NaN</td>\n",
       "      <td>NaN</td>\n",
       "      <td>NaN</td>\n",
       "      <td>8.00</td>\n",
       "    </tr>\n",
       "    <tr>\n",
       "      <th>предприятие быстрого обслуживания</th>\n",
       "      <td>136.00</td>\n",
       "      <td>8.00</td>\n",
       "      <td>NaN</td>\n",
       "      <td>16.00</td>\n",
       "      <td>40.00</td>\n",
       "      <td>40.00</td>\n",
       "      <td>80.00</td>\n",
       "    </tr>\n",
       "    <tr>\n",
       "      <th>ресторан</th>\n",
       "      <td>NaN</td>\n",
       "      <td>16.00</td>\n",
       "      <td>16.00</td>\n",
       "      <td>40.00</td>\n",
       "      <td>NaN</td>\n",
       "      <td>NaN</td>\n",
       "      <td>NaN</td>\n",
       "    </tr>\n",
       "    <tr>\n",
       "      <th>столовая</th>\n",
       "      <td>NaN</td>\n",
       "      <td>56.00</td>\n",
       "      <td>16.00</td>\n",
       "      <td>16.00</td>\n",
       "      <td>24.00</td>\n",
       "      <td>64.00</td>\n",
       "      <td>24.00</td>\n",
       "    </tr>\n",
       "  </tbody>\n",
       "</table>\n",
       "</div>"
      ],
      "text/plain": [
       "                                                      count              \\\n",
       "number_category                                    без мест категория A   \n",
       "street           object_type                                              \n",
       "Варшавское шоссе бар                                    NaN         NaN   \n",
       "                 буфет                                 8.00         NaN   \n",
       "                 закусочная                             NaN         NaN   \n",
       "                 кафе                                  8.00        8.00   \n",
       "                 кафетерий                             8.00         NaN   \n",
       "                 магазин (отдел кулинарии)             8.00         NaN   \n",
       "                 предприятие быстрого обслуживания   136.00        8.00   \n",
       "                 ресторан                               NaN       16.00   \n",
       "                 столовая                               NaN       56.00   \n",
       "\n",
       "                                                                            \\\n",
       "number_category                                    категория B категория C   \n",
       "street           object_type                                                 \n",
       "Варшавское шоссе бар                                       NaN         NaN   \n",
       "                 буфет                                     NaN         NaN   \n",
       "                 закусочная                                NaN         NaN   \n",
       "                 кафе                                     8.00       80.00   \n",
       "                 кафетерий                                 NaN         NaN   \n",
       "                 магазин (отдел кулинарии)                 NaN         NaN   \n",
       "                 предприятие быстрого обслуживания         NaN       16.00   \n",
       "                 ресторан                                16.00       40.00   \n",
       "                 столовая                                16.00       16.00   \n",
       "\n",
       "                                                                            \\\n",
       "number_category                                    категория D категория E   \n",
       "street           object_type                                                 \n",
       "Варшавское шоссе бар                                      8.00       32.00   \n",
       "                 буфет                                     NaN         NaN   \n",
       "                 закусочная                                NaN         NaN   \n",
       "                 кафе                                    48.00      136.00   \n",
       "                 кафетерий                                 NaN       16.00   \n",
       "                 магазин (отдел кулинарии)                 NaN         NaN   \n",
       "                 предприятие быстрого обслуживания       40.00       40.00   \n",
       "                 ресторан                                  NaN         NaN   \n",
       "                 столовая                                24.00       64.00   \n",
       "\n",
       "                                                                \n",
       "number_category                                    категория F  \n",
       "street           object_type                                    \n",
       "Варшавское шоссе бар                                      8.00  \n",
       "                 буфет                                   40.00  \n",
       "                 закусочная                              16.00  \n",
       "                 кафе                                   240.00  \n",
       "                 кафетерий                               40.00  \n",
       "                 магазин (отдел кулинарии)                8.00  \n",
       "                 предприятие быстрого обслуживания       80.00  \n",
       "                 ресторан                                  NaN  \n",
       "                 столовая                                24.00  "
      ]
     },
     "execution_count": 106,
     "metadata": {},
     "output_type": "execute_result"
    }
   ],
   "source": [
    "df_top10_Varsh = df_top10.query('street == \"Варшавское шоссе\"')\n",
    "df_top10_Varsh_pt = df_top10_Varsh.pivot_table(index=('street','object_type'), columns='number_category', values ='id', aggfunc=['count'])\n",
    "df_top10_Varsh_pt"
   ]
  },
  {
   "cell_type": "code",
   "execution_count": 107,
   "id": "b2d6187a",
   "metadata": {},
   "outputs": [
    {
     "data": {
      "text/plain": [
       "Район Чертаново Центральное    164\n",
       "Район Чертаново Северное       164\n",
       "Район Чертаново Южное          164\n",
       "Донской район                  164\n",
       "Район Нагатино-Садовники       164\n",
       "Нагорный район                 164\n",
       "Район Северное Бутово          164\n",
       "Район Южное Бутово             164\n",
       "Name: area, dtype: int64"
      ]
     },
     "execution_count": 107,
     "metadata": {},
     "output_type": "execute_result"
    }
   ],
   "source": [
    "df_top10_Varsh['area'].value_counts()"
   ]
  },
  {
   "cell_type": "markdown",
   "id": "110d152f",
   "metadata": {},
   "source": [
    "**Варшавское шоссе** проходит по районам Донской, Нагатино-Садовники, Нагорный, Северное Чертаново, Центральное Чертаново, Южное Чертаново (все — ЮАО), а также: Южное Бутово (ЮЗАО) от Большой Тульской улицы до МКАД. Длина – около 19 км.\n",
    " \n",
    "Представляет собой интерес и дом №125, расположенный на Варшавском шоссе, который является одним из самых длинных зданий Москвы. Здесь находится Научно-исследовательский центр электронно-вычислительной техники. По адресу Варшавское шоссе, 118 располагается Московский центр боевых искусств, являющийся самым крупным спортивным комплексом Европы по развитию различных видов боевых искусств.\n",
    "\n",
    "Гостям и жителям столицы будет интересно посетить Московский еврейский театр «Шалом», расположенный по адресу Варшавское шоссе, 71. Театр был построен и открыт в 1986 году. Здесь можно посетить театральные постановки для детей и для взрослых.\n",
    "\n",
    "В конце Варшавского шоссе, недалеко от МКАД находится красивый Аннинский лесопарк, который будет приятно посетить в хорошую погоду и насладиться прекрасными видами живой природы.\n",
    " \n",
    " Источники: http://plusnin1975.blogspot.com/2016/10/blog-post_29.html, https://101hotels.com/recreation/russia/moskva/infrastructure/main_streets/varshavskoe_shosseb\n",
    " \n",
    "На Варшавском шоссе расположены кафе вместимостью до 25,а также кафе с количеством мест от 26 до 50 мест. Имеют место рестораны вместимостью от 71 до 100 мест. А также рестораны вместимостью свыше 100 мест. "
   ]
  },
  {
   "cell_type": "markdown",
   "id": "0e0c4385",
   "metadata": {},
   "source": [
    "#### Ленинский проспект "
   ]
  },
  {
   "cell_type": "code",
   "execution_count": 108,
   "id": "f92c8e44",
   "metadata": {},
   "outputs": [
    {
     "data": {
      "text/html": [
       "<div>\n",
       "<style scoped>\n",
       "    .dataframe tbody tr th:only-of-type {\n",
       "        vertical-align: middle;\n",
       "    }\n",
       "\n",
       "    .dataframe tbody tr th {\n",
       "        vertical-align: top;\n",
       "    }\n",
       "\n",
       "    .dataframe thead tr th {\n",
       "        text-align: left;\n",
       "    }\n",
       "\n",
       "    .dataframe thead tr:last-of-type th {\n",
       "        text-align: right;\n",
       "    }\n",
       "</style>\n",
       "<table border=\"1\" class=\"dataframe\">\n",
       "  <thead>\n",
       "    <tr>\n",
       "      <th></th>\n",
       "      <th></th>\n",
       "      <th colspan=\"7\" halign=\"left\">count</th>\n",
       "    </tr>\n",
       "    <tr>\n",
       "      <th></th>\n",
       "      <th>number_category</th>\n",
       "      <th>без мест</th>\n",
       "      <th>категория A</th>\n",
       "      <th>категория B</th>\n",
       "      <th>категория C</th>\n",
       "      <th>категория D</th>\n",
       "      <th>категория E</th>\n",
       "      <th>категория F</th>\n",
       "    </tr>\n",
       "    <tr>\n",
       "      <th>street</th>\n",
       "      <th>object_type</th>\n",
       "      <th></th>\n",
       "      <th></th>\n",
       "      <th></th>\n",
       "      <th></th>\n",
       "      <th></th>\n",
       "      <th></th>\n",
       "      <th></th>\n",
       "    </tr>\n",
       "  </thead>\n",
       "  <tbody>\n",
       "    <tr>\n",
       "      <th rowspan=\"8\" valign=\"top\">Ленинский проспект</th>\n",
       "      <th>бар</th>\n",
       "      <td>NaN</td>\n",
       "      <td>NaN</td>\n",
       "      <td>NaN</td>\n",
       "      <td>NaN</td>\n",
       "      <td>8.00</td>\n",
       "      <td>8.00</td>\n",
       "      <td>32.00</td>\n",
       "    </tr>\n",
       "    <tr>\n",
       "      <th>буфет</th>\n",
       "      <td>NaN</td>\n",
       "      <td>8.00</td>\n",
       "      <td>NaN</td>\n",
       "      <td>NaN</td>\n",
       "      <td>NaN</td>\n",
       "      <td>NaN</td>\n",
       "      <td>NaN</td>\n",
       "    </tr>\n",
       "    <tr>\n",
       "      <th>закусочная</th>\n",
       "      <td>NaN</td>\n",
       "      <td>NaN</td>\n",
       "      <td>NaN</td>\n",
       "      <td>NaN</td>\n",
       "      <td>NaN</td>\n",
       "      <td>NaN</td>\n",
       "      <td>8.00</td>\n",
       "    </tr>\n",
       "    <tr>\n",
       "      <th>кафе</th>\n",
       "      <td>40.00</td>\n",
       "      <td>NaN</td>\n",
       "      <td>16.00</td>\n",
       "      <td>64.00</td>\n",
       "      <td>16.00</td>\n",
       "      <td>232.00</td>\n",
       "      <td>144.00</td>\n",
       "    </tr>\n",
       "    <tr>\n",
       "      <th>кафетерий</th>\n",
       "      <td>8.00</td>\n",
       "      <td>NaN</td>\n",
       "      <td>NaN</td>\n",
       "      <td>NaN</td>\n",
       "      <td>NaN</td>\n",
       "      <td>NaN</td>\n",
       "      <td>16.00</td>\n",
       "    </tr>\n",
       "    <tr>\n",
       "      <th>предприятие быстрого обслуживания</th>\n",
       "      <td>24.00</td>\n",
       "      <td>NaN</td>\n",
       "      <td>8.00</td>\n",
       "      <td>NaN</td>\n",
       "      <td>NaN</td>\n",
       "      <td>NaN</td>\n",
       "      <td>40.00</td>\n",
       "    </tr>\n",
       "    <tr>\n",
       "      <th>ресторан</th>\n",
       "      <td>NaN</td>\n",
       "      <td>48.00</td>\n",
       "      <td>24.00</td>\n",
       "      <td>136.00</td>\n",
       "      <td>24.00</td>\n",
       "      <td>48.00</td>\n",
       "      <td>16.00</td>\n",
       "    </tr>\n",
       "    <tr>\n",
       "      <th>столовая</th>\n",
       "      <td>8.00</td>\n",
       "      <td>32.00</td>\n",
       "      <td>NaN</td>\n",
       "      <td>72.00</td>\n",
       "      <td>40.00</td>\n",
       "      <td>40.00</td>\n",
       "      <td>16.00</td>\n",
       "    </tr>\n",
       "  </tbody>\n",
       "</table>\n",
       "</div>"
      ],
      "text/plain": [
       "                                                        count              \\\n",
       "number_category                                      без мест категория A   \n",
       "street             object_type                                              \n",
       "Ленинский проспект бар                                    NaN         NaN   \n",
       "                   буфет                                  NaN        8.00   \n",
       "                   закусочная                             NaN         NaN   \n",
       "                   кафе                                 40.00         NaN   \n",
       "                   кафетерий                             8.00         NaN   \n",
       "                   предприятие быстрого обслуживания    24.00         NaN   \n",
       "                   ресторан                               NaN       48.00   \n",
       "                   столовая                              8.00       32.00   \n",
       "\n",
       "                                                                              \\\n",
       "number_category                                      категория B категория C   \n",
       "street             object_type                                                 \n",
       "Ленинский проспект бар                                       NaN         NaN   \n",
       "                   буфет                                     NaN         NaN   \n",
       "                   закусочная                                NaN         NaN   \n",
       "                   кафе                                    16.00       64.00   \n",
       "                   кафетерий                                 NaN         NaN   \n",
       "                   предприятие быстрого обслуживания        8.00         NaN   \n",
       "                   ресторан                                24.00      136.00   \n",
       "                   столовая                                  NaN       72.00   \n",
       "\n",
       "                                                                              \\\n",
       "number_category                                      категория D категория E   \n",
       "street             object_type                                                 \n",
       "Ленинский проспект бар                                      8.00        8.00   \n",
       "                   буфет                                     NaN         NaN   \n",
       "                   закусочная                                NaN         NaN   \n",
       "                   кафе                                    16.00      232.00   \n",
       "                   кафетерий                                 NaN         NaN   \n",
       "                   предприятие быстрого обслуживания         NaN         NaN   \n",
       "                   ресторан                                24.00       48.00   \n",
       "                   столовая                                40.00       40.00   \n",
       "\n",
       "                                                                  \n",
       "number_category                                      категория F  \n",
       "street             object_type                                    \n",
       "Ленинский проспект бар                                     32.00  \n",
       "                   буфет                                     NaN  \n",
       "                   закусочная                               8.00  \n",
       "                   кафе                                   144.00  \n",
       "                   кафетерий                               16.00  \n",
       "                   предприятие быстрого обслуживания       40.00  \n",
       "                   ресторан                                16.00  \n",
       "                   столовая                                16.00  "
      ]
     },
     "execution_count": 108,
     "metadata": {},
     "output_type": "execute_result"
    }
   ],
   "source": [
    "df_top10_Len = df_top10.query('street == \"Ленинский проспект\"')\n",
    "df_top10_Len_pt = df_top10_Len.pivot_table(index=('street','object_type'), columns='number_category', values ='id', aggfunc=['count'])\n",
    "df_top10_Len_pt"
   ]
  },
  {
   "cell_type": "code",
   "execution_count": 109,
   "id": "1a16ef0d",
   "metadata": {},
   "outputs": [
    {
     "data": {
      "text/plain": [
       "Район Проспект Вернадского    147\n",
       "Район Тропарево-Никулино      147\n",
       "Донской район                 147\n",
       "Район Гагаринский             147\n",
       "Ломоносовский район           147\n",
       "Обручевский район             147\n",
       "Район Теплый Стан             147\n",
       "Район Якиманка                147\n",
       "Name: area, dtype: int64"
      ]
     },
     "execution_count": 109,
     "metadata": {},
     "output_type": "execute_result"
    }
   ],
   "source": [
    "df_top10_Len['area'].value_counts()"
   ]
  },
  {
   "cell_type": "markdown",
   "id": "4f58c61a",
   "metadata": {},
   "source": [
    "**Ленинский проспект** находится в нескольких административных округах Москвы, а именно в Центральном, Южном, Юго-Западном и Западном административных округах. Располагается в таких районах столицы, как Якиманка, Донской, Гагаринский, Ломоносовский, Обручевский, Теплый Стан, Проспект Вернадского и Тропарево-Никулино. Общая протяженность проспекта составляет 14 километров.\n",
    "\n",
    "По Ленинскому проспекту и в шаговой доступности от него располагается много красивых мест для отдыха на природе: парк культуры и отдыха имени Горького, живописные Нескучный сад и Воронцовский парк, а также Топаревский лесопарк. В конце Ленинского проспекта возле МКАД располагается ландшафтный заказник Теплый стан.\n",
    "\n",
    "Среди других интересных мест для досуга и отдыха можно отметить киноклуб «Эльдар», природный памятник-усадьба «Богородицкое», клуб «Точка», гостиница «Спорт», которая была возведена к Олимпиаде-80, гостиница «Центральный Дом Туриста», гостиница «Салют» и другие. Важной достопримечательностью, которую, несомненно, стоит посетить, является Минералогический музей имени Ферсмана. Музей является одним из наиболее известных минералогических музеев мира и самым крупным в России.\n",
    "\n",
    "Источник:https://101hotels.com/recreation/russia/moskva/infrastructure/main_streets/leninsky_prospekt\n",
    "\n",
    "На Ленинском проспекте расположены кафе с количеством мест от 26 до 50 мест,а также кафе вместимостью до 25. Имеют место рестораны вместимостью от 71 до 100 мест. А также рестораны вместимостью свыше 100 мест."
   ]
  },
  {
   "cell_type": "markdown",
   "id": "5d7189a2",
   "metadata": {},
   "source": [
    "#### проспект Вернадского"
   ]
  },
  {
   "cell_type": "code",
   "execution_count": 110,
   "id": "619ea16c",
   "metadata": {},
   "outputs": [
    {
     "data": {
      "text/html": [
       "<div>\n",
       "<style scoped>\n",
       "    .dataframe tbody tr th:only-of-type {\n",
       "        vertical-align: middle;\n",
       "    }\n",
       "\n",
       "    .dataframe tbody tr th {\n",
       "        vertical-align: top;\n",
       "    }\n",
       "\n",
       "    .dataframe thead tr th {\n",
       "        text-align: left;\n",
       "    }\n",
       "\n",
       "    .dataframe thead tr:last-of-type th {\n",
       "        text-align: right;\n",
       "    }\n",
       "</style>\n",
       "<table border=\"1\" class=\"dataframe\">\n",
       "  <thead>\n",
       "    <tr>\n",
       "      <th></th>\n",
       "      <th></th>\n",
       "      <th colspan=\"7\" halign=\"left\">count</th>\n",
       "    </tr>\n",
       "    <tr>\n",
       "      <th></th>\n",
       "      <th>number_category</th>\n",
       "      <th>без мест</th>\n",
       "      <th>категория A</th>\n",
       "      <th>категория B</th>\n",
       "      <th>категория C</th>\n",
       "      <th>категория D</th>\n",
       "      <th>категория E</th>\n",
       "      <th>категория F</th>\n",
       "    </tr>\n",
       "    <tr>\n",
       "      <th>street</th>\n",
       "      <th>object_type</th>\n",
       "      <th></th>\n",
       "      <th></th>\n",
       "      <th></th>\n",
       "      <th></th>\n",
       "      <th></th>\n",
       "      <th></th>\n",
       "      <th></th>\n",
       "    </tr>\n",
       "  </thead>\n",
       "  <tbody>\n",
       "    <tr>\n",
       "      <th rowspan=\"9\" valign=\"top\">проспект Вернадского</th>\n",
       "      <th>бар</th>\n",
       "      <td>NaN</td>\n",
       "      <td>NaN</td>\n",
       "      <td>NaN</td>\n",
       "      <td>NaN</td>\n",
       "      <td>NaN</td>\n",
       "      <td>5.00</td>\n",
       "      <td>15.00</td>\n",
       "    </tr>\n",
       "    <tr>\n",
       "      <th>буфет</th>\n",
       "      <td>NaN</td>\n",
       "      <td>NaN</td>\n",
       "      <td>NaN</td>\n",
       "      <td>5.00</td>\n",
       "      <td>NaN</td>\n",
       "      <td>15.00</td>\n",
       "      <td>5.00</td>\n",
       "    </tr>\n",
       "    <tr>\n",
       "      <th>закусочная</th>\n",
       "      <td>NaN</td>\n",
       "      <td>NaN</td>\n",
       "      <td>NaN</td>\n",
       "      <td>NaN</td>\n",
       "      <td>NaN</td>\n",
       "      <td>5.00</td>\n",
       "      <td>5.00</td>\n",
       "    </tr>\n",
       "    <tr>\n",
       "      <th>кафе</th>\n",
       "      <td>5.00</td>\n",
       "      <td>5.00</td>\n",
       "      <td>NaN</td>\n",
       "      <td>45.00</td>\n",
       "      <td>10.00</td>\n",
       "      <td>110.00</td>\n",
       "      <td>105.00</td>\n",
       "    </tr>\n",
       "    <tr>\n",
       "      <th>кафетерий</th>\n",
       "      <td>NaN</td>\n",
       "      <td>NaN</td>\n",
       "      <td>NaN</td>\n",
       "      <td>NaN</td>\n",
       "      <td>NaN</td>\n",
       "      <td>5.00</td>\n",
       "      <td>10.00</td>\n",
       "    </tr>\n",
       "    <tr>\n",
       "      <th>магазин (отдел кулинарии)</th>\n",
       "      <td>NaN</td>\n",
       "      <td>NaN</td>\n",
       "      <td>NaN</td>\n",
       "      <td>NaN</td>\n",
       "      <td>NaN</td>\n",
       "      <td>NaN</td>\n",
       "      <td>10.00</td>\n",
       "    </tr>\n",
       "    <tr>\n",
       "      <th>предприятие быстрого обслуживания</th>\n",
       "      <td>5.00</td>\n",
       "      <td>NaN</td>\n",
       "      <td>NaN</td>\n",
       "      <td>NaN</td>\n",
       "      <td>30.00</td>\n",
       "      <td>45.00</td>\n",
       "      <td>55.00</td>\n",
       "    </tr>\n",
       "    <tr>\n",
       "      <th>ресторан</th>\n",
       "      <td>NaN</td>\n",
       "      <td>15.00</td>\n",
       "      <td>20.00</td>\n",
       "      <td>35.00</td>\n",
       "      <td>5.00</td>\n",
       "      <td>15.00</td>\n",
       "      <td>5.00</td>\n",
       "    </tr>\n",
       "    <tr>\n",
       "      <th>столовая</th>\n",
       "      <td>NaN</td>\n",
       "      <td>40.00</td>\n",
       "      <td>10.00</td>\n",
       "      <td>5.00</td>\n",
       "      <td>10.00</td>\n",
       "      <td>5.00</td>\n",
       "      <td>NaN</td>\n",
       "    </tr>\n",
       "  </tbody>\n",
       "</table>\n",
       "</div>"
      ],
      "text/plain": [
       "                                                          count              \\\n",
       "number_category                                        без мест категория A   \n",
       "street               object_type                                              \n",
       "проспект Вернадского бар                                    NaN         NaN   \n",
       "                     буфет                                  NaN         NaN   \n",
       "                     закусочная                             NaN         NaN   \n",
       "                     кафе                                  5.00        5.00   \n",
       "                     кафетерий                              NaN         NaN   \n",
       "                     магазин (отдел кулинарии)              NaN         NaN   \n",
       "                     предприятие быстрого обслуживания     5.00         NaN   \n",
       "                     ресторан                               NaN       15.00   \n",
       "                     столовая                               NaN       40.00   \n",
       "\n",
       "                                                                    \\\n",
       "number_category                                        категория B   \n",
       "street               object_type                                     \n",
       "проспект Вернадского бар                                       NaN   \n",
       "                     буфет                                     NaN   \n",
       "                     закусочная                                NaN   \n",
       "                     кафе                                      NaN   \n",
       "                     кафетерий                                 NaN   \n",
       "                     магазин (отдел кулинарии)                 NaN   \n",
       "                     предприятие быстрого обслуживания         NaN   \n",
       "                     ресторан                                20.00   \n",
       "                     столовая                                10.00   \n",
       "\n",
       "                                                                    \\\n",
       "number_category                                        категория C   \n",
       "street               object_type                                     \n",
       "проспект Вернадского бар                                       NaN   \n",
       "                     буфет                                    5.00   \n",
       "                     закусочная                                NaN   \n",
       "                     кафе                                    45.00   \n",
       "                     кафетерий                                 NaN   \n",
       "                     магазин (отдел кулинарии)                 NaN   \n",
       "                     предприятие быстрого обслуживания         NaN   \n",
       "                     ресторан                                35.00   \n",
       "                     столовая                                 5.00   \n",
       "\n",
       "                                                                    \\\n",
       "number_category                                        категория D   \n",
       "street               object_type                                     \n",
       "проспект Вернадского бар                                       NaN   \n",
       "                     буфет                                     NaN   \n",
       "                     закусочная                                NaN   \n",
       "                     кафе                                    10.00   \n",
       "                     кафетерий                                 NaN   \n",
       "                     магазин (отдел кулинарии)                 NaN   \n",
       "                     предприятие быстрого обслуживания       30.00   \n",
       "                     ресторан                                 5.00   \n",
       "                     столовая                                10.00   \n",
       "\n",
       "                                                                                \n",
       "number_category                                        категория E категория F  \n",
       "street               object_type                                                \n",
       "проспект Вернадского бар                                      5.00       15.00  \n",
       "                     буфет                                   15.00        5.00  \n",
       "                     закусочная                               5.00        5.00  \n",
       "                     кафе                                   110.00      105.00  \n",
       "                     кафетерий                                5.00       10.00  \n",
       "                     магазин (отдел кулинарии)                 NaN       10.00  \n",
       "                     предприятие быстрого обслуживания       45.00       55.00  \n",
       "                     ресторан                                15.00        5.00  \n",
       "                     столовая                                 5.00         NaN  "
      ]
     },
     "execution_count": 110,
     "metadata": {},
     "output_type": "execute_result"
    }
   ],
   "source": [
    "df_top10_VerPr = df_top10.query('street == \"проспект Вернадского\"')\n",
    "df_top10_VerPr_pt = df_top10_VerPr.pivot_table(index=('street','object_type'), columns='number_category', values ='id', aggfunc=['count'])\n",
    "df_top10_VerPr_pt"
   ]
  },
  {
   "cell_type": "code",
   "execution_count": 111,
   "id": "106e50ad",
   "metadata": {},
   "outputs": [
    {
     "data": {
      "text/plain": [
       "Район Проспект Вернадского    132\n",
       "Район Раменки                 132\n",
       "Район Тропарево-Никулино      132\n",
       "Район Гагаринский             132\n",
       "Ломоносовский район           132\n",
       "Name: area, dtype: int64"
      ]
     },
     "execution_count": 111,
     "metadata": {},
     "output_type": "execute_result"
    }
   ],
   "source": [
    "df_top10_VerPr['area'].value_counts()"
   ]
  },
  {
   "cell_type": "code",
   "execution_count": 112,
   "id": "acef1f41",
   "metadata": {},
   "outputs": [
    {
     "data": {
      "text/plain": [
       "ЗАО     396\n",
       "ЮЗАО    264\n",
       "Name: okrug, dtype: int64"
      ]
     },
     "execution_count": 112,
     "metadata": {},
     "output_type": "execute_result"
    }
   ],
   "source": [
    "df_top10_VerPr['okrug'].value_counts()"
   ]
  },
  {
   "cell_type": "markdown",
   "id": "c5b43550",
   "metadata": {},
   "source": [
    "**Проспект Вернадского** проспект в Юго-Западном и Западном административных округах города Москвы. \n",
    "\n",
    "Здесь расположены: Московский академический детский музыкальный театр (д. 5, 1979; архитекторы А. Великанов, В. Красильников), Большой Московский Государственный цирк на проспекте Вернадского (д. 7, 1971, архитекторы Я. Белопольский, Е. Вулых и др.). Университет международных отношений (МГУМО; д. 76), Институт радиотехники, электроники и автоматики (МИРЭА; д. 78), Академия народного хозяйства Российской Федерации (д. 82), Академия тонкой химической технологии имени М. Ломоносова (д. 86), Педагогический университет имени В. Ленина (МПГУ; д. 88). \n",
    "\n",
    "Источник: http://plusnin1975.blogspot.com/2016/10/blog-post_4.html\n",
    "\n",
    "На проспекте Вернадского расположены кафе с количеством мест от 26 до 50 мест,а также кафе вместимостью до 25. Имеют место рестораны вместимостью от 71 до 100 мест. А также рестораны вместимостью свыше 100 мест."
   ]
  },
  {
   "cell_type": "markdown",
   "id": "00be13c9",
   "metadata": {},
   "source": [
    "#### Кутузовский проспект"
   ]
  },
  {
   "cell_type": "code",
   "execution_count": 113,
   "id": "a1a9d7d4",
   "metadata": {},
   "outputs": [
    {
     "data": {
      "text/html": [
       "<div>\n",
       "<style scoped>\n",
       "    .dataframe tbody tr th:only-of-type {\n",
       "        vertical-align: middle;\n",
       "    }\n",
       "\n",
       "    .dataframe tbody tr th {\n",
       "        vertical-align: top;\n",
       "    }\n",
       "\n",
       "    .dataframe thead tr th {\n",
       "        text-align: left;\n",
       "    }\n",
       "\n",
       "    .dataframe thead tr:last-of-type th {\n",
       "        text-align: right;\n",
       "    }\n",
       "</style>\n",
       "<table border=\"1\" class=\"dataframe\">\n",
       "  <thead>\n",
       "    <tr>\n",
       "      <th></th>\n",
       "      <th></th>\n",
       "      <th colspan=\"7\" halign=\"left\">count</th>\n",
       "    </tr>\n",
       "    <tr>\n",
       "      <th></th>\n",
       "      <th>number_category</th>\n",
       "      <th>без мест</th>\n",
       "      <th>категория A</th>\n",
       "      <th>категория B</th>\n",
       "      <th>категория C</th>\n",
       "      <th>категория D</th>\n",
       "      <th>категория E</th>\n",
       "      <th>категория F</th>\n",
       "    </tr>\n",
       "    <tr>\n",
       "      <th>street</th>\n",
       "      <th>object_type</th>\n",
       "      <th></th>\n",
       "      <th></th>\n",
       "      <th></th>\n",
       "      <th></th>\n",
       "      <th></th>\n",
       "      <th></th>\n",
       "      <th></th>\n",
       "    </tr>\n",
       "  </thead>\n",
       "  <tbody>\n",
       "    <tr>\n",
       "      <th rowspan=\"8\" valign=\"top\">Кутузовский проспект</th>\n",
       "      <th>бар</th>\n",
       "      <td>NaN</td>\n",
       "      <td>2.00</td>\n",
       "      <td>NaN</td>\n",
       "      <td>2.00</td>\n",
       "      <td>NaN</td>\n",
       "      <td>6.00</td>\n",
       "      <td>2.00</td>\n",
       "    </tr>\n",
       "    <tr>\n",
       "      <th>буфет</th>\n",
       "      <td>NaN</td>\n",
       "      <td>NaN</td>\n",
       "      <td>NaN</td>\n",
       "      <td>NaN</td>\n",
       "      <td>NaN</td>\n",
       "      <td>NaN</td>\n",
       "      <td>2.00</td>\n",
       "    </tr>\n",
       "    <tr>\n",
       "      <th>закусочная</th>\n",
       "      <td>4.00</td>\n",
       "      <td>NaN</td>\n",
       "      <td>NaN</td>\n",
       "      <td>NaN</td>\n",
       "      <td>NaN</td>\n",
       "      <td>NaN</td>\n",
       "      <td>NaN</td>\n",
       "    </tr>\n",
       "    <tr>\n",
       "      <th>кафе</th>\n",
       "      <td>22.00</td>\n",
       "      <td>2.00</td>\n",
       "      <td>NaN</td>\n",
       "      <td>4.00</td>\n",
       "      <td>6.00</td>\n",
       "      <td>30.00</td>\n",
       "      <td>18.00</td>\n",
       "    </tr>\n",
       "    <tr>\n",
       "      <th>магазин (отдел кулинарии)</th>\n",
       "      <td>2.00</td>\n",
       "      <td>NaN</td>\n",
       "      <td>NaN</td>\n",
       "      <td>NaN</td>\n",
       "      <td>NaN</td>\n",
       "      <td>NaN</td>\n",
       "      <td>2.00</td>\n",
       "    </tr>\n",
       "    <tr>\n",
       "      <th>предприятие быстрого обслуживания</th>\n",
       "      <td>2.00</td>\n",
       "      <td>NaN</td>\n",
       "      <td>NaN</td>\n",
       "      <td>NaN</td>\n",
       "      <td>NaN</td>\n",
       "      <td>12.00</td>\n",
       "      <td>2.00</td>\n",
       "    </tr>\n",
       "    <tr>\n",
       "      <th>ресторан</th>\n",
       "      <td>2.00</td>\n",
       "      <td>16.00</td>\n",
       "      <td>10.00</td>\n",
       "      <td>36.00</td>\n",
       "      <td>8.00</td>\n",
       "      <td>22.00</td>\n",
       "      <td>2.00</td>\n",
       "    </tr>\n",
       "    <tr>\n",
       "      <th>столовая</th>\n",
       "      <td>NaN</td>\n",
       "      <td>6.00</td>\n",
       "      <td>NaN</td>\n",
       "      <td>NaN</td>\n",
       "      <td>2.00</td>\n",
       "      <td>2.00</td>\n",
       "      <td>2.00</td>\n",
       "    </tr>\n",
       "  </tbody>\n",
       "</table>\n",
       "</div>"
      ],
      "text/plain": [
       "                                                          count              \\\n",
       "number_category                                        без мест категория A   \n",
       "street               object_type                                              \n",
       "Кутузовский проспект бар                                    NaN        2.00   \n",
       "                     буфет                                  NaN         NaN   \n",
       "                     закусочная                            4.00         NaN   \n",
       "                     кафе                                 22.00        2.00   \n",
       "                     магазин (отдел кулинарии)             2.00         NaN   \n",
       "                     предприятие быстрого обслуживания     2.00         NaN   \n",
       "                     ресторан                              2.00       16.00   \n",
       "                     столовая                               NaN        6.00   \n",
       "\n",
       "                                                                    \\\n",
       "number_category                                        категория B   \n",
       "street               object_type                                     \n",
       "Кутузовский проспект бар                                       NaN   \n",
       "                     буфет                                     NaN   \n",
       "                     закусочная                                NaN   \n",
       "                     кафе                                      NaN   \n",
       "                     магазин (отдел кулинарии)                 NaN   \n",
       "                     предприятие быстрого обслуживания         NaN   \n",
       "                     ресторан                                10.00   \n",
       "                     столовая                                  NaN   \n",
       "\n",
       "                                                                    \\\n",
       "number_category                                        категория C   \n",
       "street               object_type                                     \n",
       "Кутузовский проспект бар                                      2.00   \n",
       "                     буфет                                     NaN   \n",
       "                     закусочная                                NaN   \n",
       "                     кафе                                     4.00   \n",
       "                     магазин (отдел кулинарии)                 NaN   \n",
       "                     предприятие быстрого обслуживания         NaN   \n",
       "                     ресторан                                36.00   \n",
       "                     столовая                                  NaN   \n",
       "\n",
       "                                                                    \\\n",
       "number_category                                        категория D   \n",
       "street               object_type                                     \n",
       "Кутузовский проспект бар                                       NaN   \n",
       "                     буфет                                     NaN   \n",
       "                     закусочная                                NaN   \n",
       "                     кафе                                     6.00   \n",
       "                     магазин (отдел кулинарии)                 NaN   \n",
       "                     предприятие быстрого обслуживания         NaN   \n",
       "                     ресторан                                 8.00   \n",
       "                     столовая                                 2.00   \n",
       "\n",
       "                                                                                \n",
       "number_category                                        категория E категория F  \n",
       "street               object_type                                                \n",
       "Кутузовский проспект бар                                      6.00        2.00  \n",
       "                     буфет                                     NaN        2.00  \n",
       "                     закусочная                                NaN         NaN  \n",
       "                     кафе                                    30.00       18.00  \n",
       "                     магазин (отдел кулинарии)                 NaN        2.00  \n",
       "                     предприятие быстрого обслуживания       12.00        2.00  \n",
       "                     ресторан                                22.00        2.00  \n",
       "                     столовая                                 2.00        2.00  "
      ]
     },
     "execution_count": 113,
     "metadata": {},
     "output_type": "execute_result"
    }
   ],
   "source": [
    "df_top10_Kutuz = df_top10.query('street == \"Кутузовский проспект\"')\n",
    "df_top10_Kutuz_pt = df_top10_Kutuz.pivot_table(index=('street','object_type'), columns='number_category', values ='id', aggfunc=['count'])\n",
    "df_top10_Kutuz_pt"
   ]
  },
  {
   "cell_type": "code",
   "execution_count": 114,
   "id": "195a127d",
   "metadata": {},
   "outputs": [
    {
     "data": {
      "text/plain": [
       "Район Дорогомилово      114\n",
       "Район Фили-Давыдково    114\n",
       "Name: area, dtype: int64"
      ]
     },
     "execution_count": 114,
     "metadata": {},
     "output_type": "execute_result"
    }
   ],
   "source": [
    "df_top10_Kutuz['area'].value_counts()"
   ]
  },
  {
   "cell_type": "markdown",
   "id": "69083da1",
   "metadata": {},
   "source": [
    "**Кутузовский проспект** находится в Западном административном округе Москвы и пролегает в двух районах города – Дорогомилово и Фили-Давыдково.\n",
    "\n",
    "Недалеко от Кутузовского проспекта располагается природный заказник «Долина реки Сетунь», к нему примыкает просторный и живописный Матвее лес. Чуть дальше возле улицы Минская на Поклонной горе находится Парк Победы. Также здесь можно полюбоваться 225 фонтанами.\n",
    "\n",
    "На всем Кутузовском проспекте располагается 240 зданий, среди которых жилые дома с различной архитектурой и разной этажностью. Имеются здесь и достопримечательности. Здесь располагается жилой дом, в котором проживал главный секретарь ЦК КПСС Леонид Брежнев, а также политический деятель Андропов и министр внутренних дел Щеголов.  \n",
    "\n",
    "Архитектурной достопримечательностью времен Советского Союза является здание бывшей гостиницы «Украина». Немало на Кутузовском проспекте и других достопримечательностей.\n",
    "\n",
    "Источник: https://101hotels.com/recreation/russia/moskva/infrastructure/main_streets/kutuzovsky_prospekt\n",
    "\n",
    "На Кутузовском проспекте расположены кафе с количеством мест от 26 до 50 мест,а также кафе вместимостью до 25. Имеют место рестораны вместимостью от 71 до 100 мест. А также рестораны вместимостью свыше 100 мест."
   ]
  },
  {
   "cell_type": "markdown",
   "id": "1c604f77",
   "metadata": {},
   "source": [
    "#### Каширское шоссе"
   ]
  },
  {
   "cell_type": "code",
   "execution_count": 115,
   "id": "47f7f2c4",
   "metadata": {},
   "outputs": [
    {
     "data": {
      "text/html": [
       "<div>\n",
       "<style scoped>\n",
       "    .dataframe tbody tr th:only-of-type {\n",
       "        vertical-align: middle;\n",
       "    }\n",
       "\n",
       "    .dataframe tbody tr th {\n",
       "        vertical-align: top;\n",
       "    }\n",
       "\n",
       "    .dataframe thead tr th {\n",
       "        text-align: left;\n",
       "    }\n",
       "\n",
       "    .dataframe thead tr:last-of-type th {\n",
       "        text-align: right;\n",
       "    }\n",
       "</style>\n",
       "<table border=\"1\" class=\"dataframe\">\n",
       "  <thead>\n",
       "    <tr>\n",
       "      <th></th>\n",
       "      <th></th>\n",
       "      <th colspan=\"7\" halign=\"left\">count</th>\n",
       "    </tr>\n",
       "    <tr>\n",
       "      <th></th>\n",
       "      <th>number_category</th>\n",
       "      <th>без мест</th>\n",
       "      <th>категория A</th>\n",
       "      <th>категория B</th>\n",
       "      <th>категория C</th>\n",
       "      <th>категория D</th>\n",
       "      <th>категория E</th>\n",
       "      <th>категория F</th>\n",
       "    </tr>\n",
       "    <tr>\n",
       "      <th>street</th>\n",
       "      <th>object_type</th>\n",
       "      <th></th>\n",
       "      <th></th>\n",
       "      <th></th>\n",
       "      <th></th>\n",
       "      <th></th>\n",
       "      <th></th>\n",
       "      <th></th>\n",
       "    </tr>\n",
       "  </thead>\n",
       "  <tbody>\n",
       "    <tr>\n",
       "      <th rowspan=\"7\" valign=\"top\">Каширское шоссе</th>\n",
       "      <th>бар</th>\n",
       "      <td>NaN</td>\n",
       "      <td>NaN</td>\n",
       "      <td>NaN</td>\n",
       "      <td>NaN</td>\n",
       "      <td>NaN</td>\n",
       "      <td>NaN</td>\n",
       "      <td>8.00</td>\n",
       "    </tr>\n",
       "    <tr>\n",
       "      <th>буфет</th>\n",
       "      <td>NaN</td>\n",
       "      <td>NaN</td>\n",
       "      <td>NaN</td>\n",
       "      <td>4.00</td>\n",
       "      <td>NaN</td>\n",
       "      <td>NaN</td>\n",
       "      <td>8.00</td>\n",
       "    </tr>\n",
       "    <tr>\n",
       "      <th>кафе</th>\n",
       "      <td>NaN</td>\n",
       "      <td>4.00</td>\n",
       "      <td>4.00</td>\n",
       "      <td>12.00</td>\n",
       "      <td>8.00</td>\n",
       "      <td>40.00</td>\n",
       "      <td>52.00</td>\n",
       "    </tr>\n",
       "    <tr>\n",
       "      <th>кафетерий</th>\n",
       "      <td>12.00</td>\n",
       "      <td>NaN</td>\n",
       "      <td>NaN</td>\n",
       "      <td>NaN</td>\n",
       "      <td>NaN</td>\n",
       "      <td>4.00</td>\n",
       "      <td>16.00</td>\n",
       "    </tr>\n",
       "    <tr>\n",
       "      <th>предприятие быстрого обслуживания</th>\n",
       "      <td>48.00</td>\n",
       "      <td>NaN</td>\n",
       "      <td>4.00</td>\n",
       "      <td>28.00</td>\n",
       "      <td>NaN</td>\n",
       "      <td>16.00</td>\n",
       "      <td>76.00</td>\n",
       "    </tr>\n",
       "    <tr>\n",
       "      <th>ресторан</th>\n",
       "      <td>NaN</td>\n",
       "      <td>12.00</td>\n",
       "      <td>NaN</td>\n",
       "      <td>12.00</td>\n",
       "      <td>NaN</td>\n",
       "      <td>12.00</td>\n",
       "      <td>NaN</td>\n",
       "    </tr>\n",
       "    <tr>\n",
       "      <th>столовая</th>\n",
       "      <td>NaN</td>\n",
       "      <td>32.00</td>\n",
       "      <td>NaN</td>\n",
       "      <td>8.00</td>\n",
       "      <td>NaN</td>\n",
       "      <td>16.00</td>\n",
       "      <td>12.00</td>\n",
       "    </tr>\n",
       "  </tbody>\n",
       "</table>\n",
       "</div>"
      ],
      "text/plain": [
       "                                                     count              \\\n",
       "number_category                                   без мест категория A   \n",
       "street          object_type                                              \n",
       "Каширское шоссе бар                                    NaN         NaN   \n",
       "                буфет                                  NaN         NaN   \n",
       "                кафе                                   NaN        4.00   \n",
       "                кафетерий                            12.00         NaN   \n",
       "                предприятие быстрого обслуживания    48.00         NaN   \n",
       "                ресторан                               NaN       12.00   \n",
       "                столовая                               NaN       32.00   \n",
       "\n",
       "                                                                           \\\n",
       "number_category                                   категория B категория C   \n",
       "street          object_type                                                 \n",
       "Каширское шоссе бар                                       NaN         NaN   \n",
       "                буфет                                     NaN        4.00   \n",
       "                кафе                                     4.00       12.00   \n",
       "                кафетерий                                 NaN         NaN   \n",
       "                предприятие быстрого обслуживания        4.00       28.00   \n",
       "                ресторан                                  NaN       12.00   \n",
       "                столовая                                  NaN        8.00   \n",
       "\n",
       "                                                                           \\\n",
       "number_category                                   категория D категория E   \n",
       "street          object_type                                                 \n",
       "Каширское шоссе бар                                       NaN         NaN   \n",
       "                буфет                                     NaN         NaN   \n",
       "                кафе                                     8.00       40.00   \n",
       "                кафетерий                                 NaN        4.00   \n",
       "                предприятие быстрого обслуживания         NaN       16.00   \n",
       "                ресторан                                  NaN       12.00   \n",
       "                столовая                                  NaN       16.00   \n",
       "\n",
       "                                                               \n",
       "number_category                                   категория F  \n",
       "street          object_type                                    \n",
       "Каширское шоссе бар                                      8.00  \n",
       "                буфет                                    8.00  \n",
       "                кафе                                    52.00  \n",
       "                кафетерий                               16.00  \n",
       "                предприятие быстрого обслуживания       76.00  \n",
       "                ресторан                                  NaN  \n",
       "                столовая                                12.00  "
      ]
     },
     "execution_count": 115,
     "metadata": {},
     "output_type": "execute_result"
    }
   ],
   "source": [
    "df_top10_KaS = df_top10.query('street == \"Каширское шоссе\"')\n",
    "df_top10_KaS_pt = df_top10_KaS.pivot_table(index=('street','object_type'), columns='number_category', values ='id', aggfunc=['count'])\n",
    "df_top10_KaS_pt"
   ]
  },
  {
   "cell_type": "code",
   "execution_count": 116,
   "id": "e1249727",
   "metadata": {},
   "outputs": [
    {
     "data": {
      "text/plain": [
       "Район Москворечье-Сабурово         112\n",
       "Район Нагатино-Садовники           112\n",
       "Район Орехово-Борисово Южное       112\n",
       "Район Орехово-Борисово Северное    112\n",
       "Name: area, dtype: int64"
      ]
     },
     "execution_count": 116,
     "metadata": {},
     "output_type": "execute_result"
    }
   ],
   "source": [
    "df_top10_KaS['area'].value_counts()"
   ]
  },
  {
   "cell_type": "markdown",
   "id": "6e9f5900",
   "metadata": {},
   "source": [
    "**Каширское шоссе** – важная московская автомагистраль, проходящая от Варшавского шоссе до города Каширы через рынок «Каширский двор» и развязку на аэропорт «Домодедово». Дорога примечательна в плане интересных зданий, находящихся по обе стороны. Более того, Каширское шоссе проходит по касательной мимо двух красивейших музеев-заповедников: «Царицына» и «Коломенского».\n",
    "\n",
    "Источник: https://ovedma.ru/kashirskoe-shosse/\n",
    "\n",
    "На Каширском шоссе преобладают предприятия быстрого обслуживания, кафе вместимостью до 25,кафе с количеством мест от 26 до 50 мест. Имеют место столовые вместимостью свыше 100 мест."
   ]
  },
  {
   "cell_type": "markdown",
   "id": "278089e6",
   "metadata": {},
   "source": [
    "#### Кировоградская улица"
   ]
  },
  {
   "cell_type": "code",
   "execution_count": 117,
   "id": "b9a85af3",
   "metadata": {},
   "outputs": [
    {
     "data": {
      "text/html": [
       "<div>\n",
       "<style scoped>\n",
       "    .dataframe tbody tr th:only-of-type {\n",
       "        vertical-align: middle;\n",
       "    }\n",
       "\n",
       "    .dataframe tbody tr th {\n",
       "        vertical-align: top;\n",
       "    }\n",
       "\n",
       "    .dataframe thead tr th {\n",
       "        text-align: left;\n",
       "    }\n",
       "\n",
       "    .dataframe thead tr:last-of-type th {\n",
       "        text-align: right;\n",
       "    }\n",
       "</style>\n",
       "<table border=\"1\" class=\"dataframe\">\n",
       "  <thead>\n",
       "    <tr>\n",
       "      <th></th>\n",
       "      <th></th>\n",
       "      <th colspan=\"7\" halign=\"left\">count</th>\n",
       "    </tr>\n",
       "    <tr>\n",
       "      <th></th>\n",
       "      <th>number_category</th>\n",
       "      <th>без мест</th>\n",
       "      <th>категория A</th>\n",
       "      <th>категория B</th>\n",
       "      <th>категория C</th>\n",
       "      <th>категория D</th>\n",
       "      <th>категория E</th>\n",
       "      <th>категория F</th>\n",
       "    </tr>\n",
       "    <tr>\n",
       "      <th>street</th>\n",
       "      <th>object_type</th>\n",
       "      <th></th>\n",
       "      <th></th>\n",
       "      <th></th>\n",
       "      <th></th>\n",
       "      <th></th>\n",
       "      <th></th>\n",
       "      <th></th>\n",
       "    </tr>\n",
       "  </thead>\n",
       "  <tbody>\n",
       "    <tr>\n",
       "      <th rowspan=\"9\" valign=\"top\">Кировоградская улица</th>\n",
       "      <th>бар</th>\n",
       "      <td>NaN</td>\n",
       "      <td>NaN</td>\n",
       "      <td>NaN</td>\n",
       "      <td>3.00</td>\n",
       "      <td>3.00</td>\n",
       "      <td>6.00</td>\n",
       "      <td>NaN</td>\n",
       "    </tr>\n",
       "    <tr>\n",
       "      <th>буфет</th>\n",
       "      <td>NaN</td>\n",
       "      <td>NaN</td>\n",
       "      <td>NaN</td>\n",
       "      <td>NaN</td>\n",
       "      <td>NaN</td>\n",
       "      <td>NaN</td>\n",
       "      <td>3.00</td>\n",
       "    </tr>\n",
       "    <tr>\n",
       "      <th>закусочная</th>\n",
       "      <td>NaN</td>\n",
       "      <td>NaN</td>\n",
       "      <td>NaN</td>\n",
       "      <td>NaN</td>\n",
       "      <td>3.00</td>\n",
       "      <td>3.00</td>\n",
       "      <td>6.00</td>\n",
       "    </tr>\n",
       "    <tr>\n",
       "      <th>кафе</th>\n",
       "      <td>NaN</td>\n",
       "      <td>NaN</td>\n",
       "      <td>6.00</td>\n",
       "      <td>3.00</td>\n",
       "      <td>9.00</td>\n",
       "      <td>15.00</td>\n",
       "      <td>18.00</td>\n",
       "    </tr>\n",
       "    <tr>\n",
       "      <th>кафетерий</th>\n",
       "      <td>3.00</td>\n",
       "      <td>NaN</td>\n",
       "      <td>NaN</td>\n",
       "      <td>NaN</td>\n",
       "      <td>NaN</td>\n",
       "      <td>NaN</td>\n",
       "      <td>3.00</td>\n",
       "    </tr>\n",
       "    <tr>\n",
       "      <th>магазин (отдел кулинарии)</th>\n",
       "      <td>NaN</td>\n",
       "      <td>NaN</td>\n",
       "      <td>NaN</td>\n",
       "      <td>NaN</td>\n",
       "      <td>NaN</td>\n",
       "      <td>NaN</td>\n",
       "      <td>9.00</td>\n",
       "    </tr>\n",
       "    <tr>\n",
       "      <th>предприятие быстрого обслуживания</th>\n",
       "      <td>69.00</td>\n",
       "      <td>NaN</td>\n",
       "      <td>NaN</td>\n",
       "      <td>3.00</td>\n",
       "      <td>NaN</td>\n",
       "      <td>27.00</td>\n",
       "      <td>42.00</td>\n",
       "    </tr>\n",
       "    <tr>\n",
       "      <th>ресторан</th>\n",
       "      <td>NaN</td>\n",
       "      <td>9.00</td>\n",
       "      <td>6.00</td>\n",
       "      <td>12.00</td>\n",
       "      <td>12.00</td>\n",
       "      <td>12.00</td>\n",
       "      <td>3.00</td>\n",
       "    </tr>\n",
       "    <tr>\n",
       "      <th>столовая</th>\n",
       "      <td>NaN</td>\n",
       "      <td>33.00</td>\n",
       "      <td>6.00</td>\n",
       "      <td>NaN</td>\n",
       "      <td>NaN</td>\n",
       "      <td>NaN</td>\n",
       "      <td>3.00</td>\n",
       "    </tr>\n",
       "  </tbody>\n",
       "</table>\n",
       "</div>"
      ],
      "text/plain": [
       "                                                          count              \\\n",
       "number_category                                        без мест категория A   \n",
       "street               object_type                                              \n",
       "Кировоградская улица бар                                    NaN         NaN   \n",
       "                     буфет                                  NaN         NaN   \n",
       "                     закусочная                             NaN         NaN   \n",
       "                     кафе                                   NaN         NaN   \n",
       "                     кафетерий                             3.00         NaN   \n",
       "                     магазин (отдел кулинарии)              NaN         NaN   \n",
       "                     предприятие быстрого обслуживания    69.00         NaN   \n",
       "                     ресторан                               NaN        9.00   \n",
       "                     столовая                               NaN       33.00   \n",
       "\n",
       "                                                                    \\\n",
       "number_category                                        категория B   \n",
       "street               object_type                                     \n",
       "Кировоградская улица бар                                       NaN   \n",
       "                     буфет                                     NaN   \n",
       "                     закусочная                                NaN   \n",
       "                     кафе                                     6.00   \n",
       "                     кафетерий                                 NaN   \n",
       "                     магазин (отдел кулинарии)                 NaN   \n",
       "                     предприятие быстрого обслуживания         NaN   \n",
       "                     ресторан                                 6.00   \n",
       "                     столовая                                 6.00   \n",
       "\n",
       "                                                                    \\\n",
       "number_category                                        категория C   \n",
       "street               object_type                                     \n",
       "Кировоградская улица бар                                      3.00   \n",
       "                     буфет                                     NaN   \n",
       "                     закусочная                                NaN   \n",
       "                     кафе                                     3.00   \n",
       "                     кафетерий                                 NaN   \n",
       "                     магазин (отдел кулинарии)                 NaN   \n",
       "                     предприятие быстрого обслуживания        3.00   \n",
       "                     ресторан                                12.00   \n",
       "                     столовая                                  NaN   \n",
       "\n",
       "                                                                    \\\n",
       "number_category                                        категория D   \n",
       "street               object_type                                     \n",
       "Кировоградская улица бар                                      3.00   \n",
       "                     буфет                                     NaN   \n",
       "                     закусочная                               3.00   \n",
       "                     кафе                                     9.00   \n",
       "                     кафетерий                                 NaN   \n",
       "                     магазин (отдел кулинарии)                 NaN   \n",
       "                     предприятие быстрого обслуживания         NaN   \n",
       "                     ресторан                                12.00   \n",
       "                     столовая                                  NaN   \n",
       "\n",
       "                                                                                \n",
       "number_category                                        категория E категория F  \n",
       "street               object_type                                                \n",
       "Кировоградская улица бар                                      6.00         NaN  \n",
       "                     буфет                                     NaN        3.00  \n",
       "                     закусочная                               3.00        6.00  \n",
       "                     кафе                                    15.00       18.00  \n",
       "                     кафетерий                                 NaN        3.00  \n",
       "                     магазин (отдел кулинарии)                 NaN        9.00  \n",
       "                     предприятие быстрого обслуживания       27.00       42.00  \n",
       "                     ресторан                                12.00        3.00  \n",
       "                     столовая                                  NaN        3.00  "
      ]
     },
     "execution_count": 117,
     "metadata": {},
     "output_type": "execute_result"
    }
   ],
   "source": [
    "df_top10_Kir = df_top10.query('street == \"Кировоградская улица\"')\n",
    "df_top10_Kir_pt = df_top10_Kir.pivot_table(index=('street','object_type'), columns='number_category', values ='id', aggfunc=['count'])\n",
    "df_top10_Kir_pt"
   ]
  },
  {
   "cell_type": "code",
   "execution_count": 118,
   "id": "eb88bdcc",
   "metadata": {},
   "outputs": [
    {
     "data": {
      "text/plain": [
       "Район Чертаново Центральное    110\n",
       "Район Чертаново Северное       110\n",
       "Район Чертаново Южное          110\n",
       "Name: area, dtype: int64"
      ]
     },
     "execution_count": 118,
     "metadata": {},
     "output_type": "execute_result"
    }
   ],
   "source": [
    "df_top10_Kir['area'].value_counts()"
   ]
  },
  {
   "cell_type": "markdown",
   "id": "e85d76b0",
   "metadata": {},
   "source": [
    "**Улица Кировоградская** находится в Южном административном округе города, в одной из его самых старых, но тем не менее достаточно развитых частях. Помимо наличия памятников истории и архитектуры на улице присутствует достаточно много современных магазинов, гипермаркетов, заведений быстрого и общественного питания. Общая протяженность улицы составляет чуть менее 10 километров.\n",
    "\n",
    "Источник:https://101hotels.com/recreation/russia/moskva/infrastructure/main_streets/ulica_kirovogradskaya\n",
    "\n",
    "На Кировоградской улице преобладают предприятия быстрого обслуживания, расположены столовые вместимостью свыше 100 мест."
   ]
  },
  {
   "cell_type": "markdown",
   "id": "42532f94",
   "metadata": {},
   "source": [
    "#### Закономерности.\n",
    "\n",
    "1. Основной вид заведения - кафе вместимостью до 50 мест.\n",
    "2. Улица Кировоградская и Каширское шоссе оснащены в большей степени предприятиями быстрого обслуживания.\n",
    "3. Буфет, бар, закусочная не имеют широкого распространения.\n",
    "4. Среднее коилчество посадочных мест - 58, медианное - 40."
   ]
  },
  {
   "cell_type": "markdown",
   "id": "cb252313",
   "metadata": {},
   "source": [
    "### Сделаем общий вывод и дадим рекомендации о виде заведения, количестве посадочных мест, а также районе расположения. Прокомментируем возможность развития сети."
   ]
  },
  {
   "cell_type": "markdown",
   "id": "bf78771a",
   "metadata": {},
   "source": [
    "Основы моего выбора для рекомендации следующие:\n",
    "1. район должен быть востребован у пешеходов и гостей столицы, чтобы интерес не угасал;\n",
    "2. публика должна быть любопытной;\n",
    "3. безопасность,так как техника дорогая."
   ]
  },
  {
   "cell_type": "markdown",
   "id": "cad5996c",
   "metadata": {},
   "source": [
    "Я убеждена, что ориентироваться в случае с роботами-официантами можно только зоны, в которых уже сейчас рынок общепита представлен широко, где публика  привыкла есть в заведении, а не дома. Ориентироваться на районы, в которых объекты представлены в малой доле, на мой взгляд, прямой путь к неудаче.\n",
    "\n",
    "Наша зона интереса - дети, молодёжь и молодые женщины - это самые любопытные и \"лёгкие на подъём\" категории.\n",
    "\n",
    "Для заведения подойдут улицы с широким пешеходным трафиком.\n",
    "\n",
    "**Предлагаю следующие улицы:**\n",
    "\n",
    "Проспект Вернадского с его насыщенностью образовательными учреждениями широкого уровня известности, привлекающими многочисленных молодых людей. Ленинский проспект с его парками, где находится отличный источник новых впечатлений и красивых фото для странички. Один из самых безопасных районов данной улицы, предлагается для рассмотрения - Гагаринский район.\n",
    "\n",
    "Варшавское шоссе. Рекомендуемый Нагорный — спокойный район, расположенный недалеко от центра. Тут находится горнолыжный комплекс «Кант», который ежегодно посещают около 500 тысяч человек, и популярный у экстремалов велосквер «Нагорный».(https://www.mos.ru/moi-raion/nagornyj/)\n",
    "\n",
    "Данные улицы являются относительно безопасными. Источники:https://everychild.ru/reyting/top-opasnyh-rayonov-moskvy-2021/, https://www.novostroy-m.ru/statyi/gde_bezopasno_jit_v\n",
    "\n",
    "Предлагаю открыть кафе вместимостью до 50 мест, так как это самый востребованный формат и будет достаточно по 2 робота в каждое заведение. Предлагается название - \"AZIMOV@CAFE\".\n",
    "\n",
    "Рекомендую рассмотреть возможность открытия кафе \"#azekAZIMOV\". Отлично подходит для экстремальных мужчин, которые катаются в велосквере. \n",
    "\n",
    "Не рекомендуется начинать с создания сети. На рынке общепита г. Москва сетевые заведения составляют лишь 19%."
   ]
  },
  {
   "cell_type": "markdown",
   "id": "7a652ab7",
   "metadata": {},
   "source": [
    "## Итоговая часть.\n",
    "\n",
    "Исследовался датафрейм, в составе которого 15366 строк и 6 колонок. \n",
    "\n",
    "Анализировались 9 924 уникальных заведения, часть из которых имеет подразделения в разных частях города; 9 типов предприятий общественного питания: кафе,столовая, ресторан, предприятие быстрого обслуживания, бар, буфет, кафетерий, закусочная, магазин (отдел кулинарии).\n",
    "\n",
    "**Получены следующие результаты:**\n",
    "\n",
    "1.\tНаиболее распространённый вид заведения - кафе, далее следуют столовые и рестораны. Наименьшая доля приходится на кулинарные отделы магазинов.\n",
    "\n",
    "2.\tВ подавляющем числе случаев заведения являются несетевыми – 81%.\n",
    "\n",
    "3.\tДля предприятий быстрого обслуживания наиболее характерно сетевое распространение (41%).\n",
    "Среди несетевых предприятий самые распространённые - кафе.\n",
    "\n",
    "4.\tДля сетевых организаций характерно преобладание заведений с небольшим числом посадочных мест в каждом (до25).\n",
    "\n",
    "5.\t**Для сетевых заведений характерно много заведений с небольшим числом посадочных мест в каждом.**\n",
    "\n",
    "Для сетевых баров характерны заведения вместимостью от 26 до 50 мест.\n",
    "\n",
    "Для сетевых буфетов характерно распространение заведений без мест.\n",
    "\n",
    "Для сетей закусочных характерны заведения вместимостью до 25 мест.\n",
    "\n",
    "Для сетей кафе характерны заведения вместимостью до 50 мест.\n",
    "\n",
    "Для сетей кафетериев характерны заведения вместимостью до 25 мест.\n",
    "\n",
    "Для сетей кулинарий характерны заведения вместимостью либо до 25 мест, либо без мест.\n",
    "\n",
    "Для сетей предприятий быстрого обслуживания характерны заведения вместимостью до 25 мест.\n",
    "\n",
    "Для сетевых ресторанов характерны заведения вместимостью от 71 до 100 мест.\n",
    "\n",
    "Для сетевых столовых характерны заведения от 101 и свыше 150 мест, но их всего 2, поэтому они не несут статистической значимости.\n",
    "\n",
    "6.\tПри расчёте среднего(медианного) количества посадочных мест установлены тенденции: наибольшим количеством располагают столовые, далее следуют рестораны, буфеты и бары, кафе замыкают пятёрку лидеров.\n",
    "\n",
    "7.\t**В список самых насыщенных заведениями улиц попали:**\n",
    "\n",
    "проспект Мира, Профсоюзная улица, Ленинградский проспект, Пресненская набережная,Варшавское шоссе,Ленинский проспект,проспект Вернадского,Кутузовский проспект,Каширское шоссе,Кировоградская улица.\n",
    "\n",
    "**Развёрнутые данные по видам заведений в топ-10**\n",
    "\n",
    "проспект Мира 204, в т.ч 103 кафе, 32 ресторана, меньше всего баров и закусочных.\n",
    "\n",
    "Профсоюзная улица 181, в т.ч 90 кафе, 30 ресторанов, меньше всего баров и закусочных.\n",
    "\n",
    "Ленинградский проспект 170, в т.ч 70 кафе, 48 ресторанов, меньше всего буфетов, кулинарий и кафетериев.\n",
    "\n",
    "Пресненская набережная 167, в т.ч 98 кафе, 40 ресторанов, меньше всего буфетов, нет закусочных, кулинарий и столовых.\n",
    "\n",
    "Варшавское шоссе 164, в т.ч 66 кафе, 40 предприятий быстрого обслуживания, меньше всего закусочных, кулинарий.\n",
    "\n",
    "Ленинский проспект 147, в т.ч 64 кафе, 37 ресторанов, меньше всего закусочных и буфетов, нет кулинарий.\n",
    "\n",
    "проспект Вернадского 128, в т.ч 55 кафе, 24 предприятий быстрого обслуживания, меньше всего закусочных, кулинарий.\n",
    "\n",
    "Кутузовский проспект 114, в т.ч 48 ресторанов, 41 кафе меньше всего закусочных и буфетов, нет кафетериев.\n",
    "\n",
    "Каширское шоссе 111, в т.ч 42 предприятия быстрого обслуживания, 30 кафе, нет закусочных, кулинарий.\n",
    "\n",
    "Кировоградская улица 108, в т.ч 46 предприятий быстрого обслуживания, 18 ресторанов, меньше всего буфетов и кулинарий.\n",
    "\n",
    "**Лидеры среди районов Тёплый Стан, Обручевский и Донской.**\n",
    "\n",
    "**Проспект Мира** включает следующие районы: Ярославский, Свиблово, \n",
    "Ростокино, Марьина роща, Останкинский, Мещанский, Алексеевский.\n",
    "\n",
    "**Профсоюзная улица**: Коньково, Академический, Обручевский, Черемушки, Теплый Стан,Ясенево.\n",
    "\n",
    "**Ленинградский проспект, районы**: Сокол, Хорошевский, Аэропорт, Беговой.\n",
    "\n",
    "**Пресненская набережная** -  Пресненский район. \n",
    "\n",
    "**Варшавское шоссе** включает районы: Нагорный, Донской, Северное Бутово, Южное Бутово, Нагатино-Садовники, Чертаново Южное, Чертаново Центральное, Чертаново Северное.\n",
    "\n",
    "**Ленинский проспект** – это Якиманка, Донской район, районы Гагаринский,                \n",
    "Тропарево-Никулино, Тёплый Стан, Проспект Вернадского, Обручевский, Ломоносовский районы.\n",
    "\n",
    "**Проспект Вернадского**: Раменки,Тропарево-Никулино, Ломоносовский, Гагаринский, Проспект Вернадского\n",
    "\n",
    "**Кутузовский проспект**:Фили-Давыдково, Дорогомилово.\n",
    "\n",
    "**Каширское шоссе**: Москворечье-Сабурово, Орехово-Борисово Северное, Орехово-Борисово Южное, Нагатино-Садовники.\n",
    "\n",
    "**Кировоградская улица**: Чертаново Северное, Чертаново Центральное, Чертаново Южное.\n",
    "\n",
    "Всего в городе 566 улиц с единичными заведениями.\n",
    "\n",
    "8.\t**Десятку районов, на которых находятся единичные предприятия общественного питания открывают (количество единичных предприятий в районе):**\n",
    "\n",
    "1. Таганский район        27 ЦАО\n",
    "2. Басманный район        27 ЦАО\n",
    "3. Район Хамовники        26 ЦАО\n",
    "4. Тверской район         20 ЦАО\n",
    "5. Пресненский район      20 ЦАО\n",
    "\n",
    "**Все вышеуказанные районы относятся к Центральному административному округу (ЦАО) города Москвы.**\n",
    "\n",
    "8. Характеристика улиц:\n",
    "\n",
    "**Проспе́кт Ми́ра**  — проспект на северо-востоке Москвы. Начинается от Сухаревской площади на Садовом кольце, являясь продолжением Сретенки. Заканчивается на Северянинском путепроводе, переходя в Ярославское шоссе. \n",
    "\n",
    "Занимает второе место по проходимости в городе(https://ru.wikipedia.org/wiki/Проспект_Мира_(Москва), https://1-by-1.ru/news/news_20.html) \n",
    "\n",
    "Включает в себя 7 районов (Алексеевский,Ярославский, Марьина роща, Останкинский, Ростокин, Свиблово, Мещанский) и 2 округа (СВАО и ЦАО). Протяжённость почти 9 км.\n",
    "\n",
    "Преобладают на проспекте Мира кафе вместимостью от 26 до 50 мест, а также кафе с количеством мест до 25. Имеют место рестораны вместимостью от 101 места.  Больше всего ресторанов вместимостью от 71 до 100 мест.\n",
    "\n",
    "**Профсоюзная улица** — улица в Юго-Западном административном округе города Москвы на территории районов Академический, Коньково, Обручевский, Тёплый Стан, Черёмушки, Ясенево.(https://ru.wikipedia.org/wiki/Профсоюзная_улица_(Москва)). \n",
    "\n",
    "Протяженность составляет 14 километров. \n",
    "\n",
    "Самая длинная пешеходная улица не только в России, но и в Европе. Ее протяженность – 6,5 километра. Пешеходный маршрут тянется от площади Гагарина, проходит через Ленинский проспект, Нескучный сад, по Александровскому мосту и заканчивается на площади Европы. Все улицы, входящие в пешеходную зону, были благоустроены: городские власти распорядились отремонтировать фасады зданий, установить фонари и дорожное покрытие. Седьмое место в нашем списке.\n",
    "Источник: https://everychild.ru/reyting/samye-dlinnye-ulitsy-moskvy-top-10\n",
    "\n",
    "Для Профсоюзной улицы характерны кафе вместимостью до 25,а также кафе с количеством мест от 26 до 50 мест. Имеют место рестораны вместимостью от 101 места.  Больше всего ресторанов вместимостью от 71 до 100 мест.\n",
    "\n",
    "**Ленинградский проспект** расположен в Северном округе Москвы, держит первенство в статусе самой широкой улицы Москвы (до 120 м).\n",
    "Источник: https://touristam.com/samaya-dlinnaya-ulitsa-v-moskve.html\n",
    "\n",
    "Для Ленинградского проспекта характерны кафе вместимостью до 25,а также кафе с количеством мест от 26 до 50 мест. Имеют место рестораны вместимостью от 71 до 100 мест. А также рестораны вместимостью от 51 до 70 мест.\n",
    "\n",
    "**Пресненская набережная** находится в центре столицы в Пресненском районе и тянется по левому берегу Москвы-реки. \n",
    "\n",
    "Идёт вдоль делового центра Москва-Сити. \n",
    "\n",
    "Прогуливаясь по Пресненской набережной можно полюбоваться на живописные виды современной Москвы. Особенно красиво город выглядит по ночам, когда зажигаются многочисленные огни. Сюда приезжает множество туристов, чтобы сделать красивые фотографии на фоне «Москва-Сити».\n",
    "Источник: https://mos-holidays.ru/presnenskaya-naberezhnaya/\n",
    "\n",
    "Для Пресненской набережной характерны кафе вместимостью до 25,а также кафе с количеством мест от 26 до 50 мест. Имеют место рестораны вместимостью от 71 до 100 мест. А также рестораны вместимостью от 51 до 70 мест.\n",
    "\n",
    "**Варшавское шоссе** проходит по районам Донской, Нагатино-Садовники, Нагорный, Северное Чертаново, Центральное Чертаново, Южное Чертаново (все — ЮАО), а также: Южное Бутово (ЮЗАО) от Большой Тульской улицы до МКАД. Длина – около 19 км.\n",
    " \n",
    "Представляет собой интерес и дом №125, расположенный на Варшавском шоссе, который является одним из самых длинных зданий Москвы. Здесь находится Научно-исследовательский центр электронно-вычислительной техники. По адресу Варшавское шоссе, 118 располагается Московский центр боевых искусств, являющийся самым крупным спортивным комплексом Европы по развитию различных видов боевых искусств.\n",
    "\n",
    "Гостям и жителям столицы будет интересно посетить Московский еврейский театр «Шалом», расположенный по адресу Варшавское шоссе, 71. Театр был построен и открыт в 1986 году. Здесь можно посетить театральные постановки для детей и для взрослых.\n",
    "\n",
    "В конце Варшавского шоссе, недалеко от МКАД находится красивый Аннинский лесопарк, который будет приятно посетить в хорошую погоду и насладиться прекрасными видами живой природы.\n",
    " \n",
    " Источники: http://plusnin1975.blogspot.com/2016/10/blog-post_29.html, https://101hotels.com/recreation/russia/moskva/infrastructure/main_streets/varshavskoe_shosseb\n",
    " \n",
    "На Варшавском шоссе расположены кафе вместимостью до 25,а также кафе с количеством мест от 26 до 50 мест. Имеют место рестораны вместимостью от 71 до 100 мест. А также рестораны вместимостью свыше 100 мест. \n",
    "\n",
    "**Ленинский проспект** находится в нескольких административных округах Москвы, а именно в Центральном, Южном, Юго-Западном и Западном административных округах. Располагается в таких районах столицы, как Якиманка, Донской, Гагаринский, Ломоносовский, Обручевский, Теплый Стан, Проспект Вернадского и Тропарево-Никулино. Общая протяженность проспекта составляет 14 километров.\n",
    "\n",
    "По Ленинскому проспекту и в шаговой доступности от него располагается много красивых мест для отдыха на природе: парк культуры и отдыха имени Горького, живописные Нескучный сад и Воронцовский парк, а также Топаревский лесопарк. В конце Ленинского проспекта возле МКАД располагается ландшафтный заказник Теплый стан.\n",
    "\n",
    "Среди других интересных мест для досуга и отдыха можно отметить киноклуб «Эльдар», природный памятник-усадьба «Богородицкое», клуб «Точка», гостиница «Спорт», которая была возведена к Олимпиаде-80, гостиница «Центральный Дом Туриста», гостиница «Салют» и другие. Важной достопримечательностью, которую, несомненно, стоит посетить, является Минералогический музей имени Ферсмана. Музей является одним из наиболее известных минералогических музеев мира и самым крупным в России.\n",
    "\n",
    "Источник:https://101hotels.com/recreation/russia/moskva/infrastructure/main_streets/leninsky_prospekt\n",
    "\n",
    "На Ленинском проспекте расположены кафе с количеством мест от 26 до 50 мест,а также кафе вместимостью до 25. Имеют место рестораны вместимостью от 71 до 100 мест. А также рестораны вместимостью свыше 100 мест.\n",
    "\n",
    "**Проспект Вернадского** проспект в Юго-Западном и Западном административных округах города Москвы. \n",
    "\n",
    "Здесь расположены: Московский академический детский музыкальный театр (д. 5, 1979; архитекторы А. Великанов, В. Красильников), Большой Московский Государственный цирк на проспекте Вернадского (д. 7, 1971, архитекторы Я. Белопольский, Е. Вулых и др.). Университет международных отношений (МГУМО; д. 76), Институт радиотехники, электроники и автоматики (МИРЭА; д. 78), Академия народного хозяйства Российской Федерации (д. 82), Академия тонкой химической технологии имени М. Ломоносова (д. 86), Педагогический университет имени В. Ленина (МПГУ; д. 88). \n",
    "\n",
    "Источник: http://plusnin1975.blogspot.com/2016/10/blog-post_4.html\n",
    "\n",
    "На проспекте Вернадского расположены кафе с количеством мест от 26 до 50 мест,а также кафе вместимостью до 25. Имеют место рестораны вместимостью от 71 до 100 мест. А также рестораны вместимостью свыше 100 мест.\n",
    "\n",
    "**Кутузовский проспект** находится в Западном административном округе Москвы и пролегает в двух районах города – Дорогомилово и Фили-Давыдково.\n",
    "\n",
    "Недалеко от Кутузовского проспекта располагается природный заказник «Долина реки Сетунь», к нему примыкает просторный и живописный Матвее лес. Чуть дальше возле улицы Минская на Поклонной горе находится Парк Победы. Также здесь можно полюбоваться 225 фонтанами.\n",
    "\n",
    "На всем Кутузовском проспекте располагается 240 зданий, среди которых жилые дома с различной архитектурой и разной этажностью. \n",
    "Источник: https://101hotels.com/recreation/russia/moskva/infrastructure/main_streets/kutuzovsky_prospekt\n",
    "\n",
    "На Кутузовском проспекте расположены кафе с количеством мест от 26 до 50 мест,а также кафе вместимостью до 25. Имеют место рестораны вместимостью от 71 до 100 мест. А также рестораны вместимостью свыше 100 мест.\n",
    "\n",
    "**Каширское шоссе** – важная московская автомагистраль, проходящая от Варшавского шоссе до города Каширы через рынок «Каширский двор» и развязку на аэропорт «Домодедово». Дорога примечательна в плане интересных зданий, находящихся по обе стороны. Более того, Каширское шоссе проходит по касательной мимо двух красивейших музеев-заповедников: «Царицына» и «Коломенского».\n",
    "\n",
    "Источник: https://ovedma.ru/kashirskoe-shosse/\n",
    "\n",
    "На Каширском шоссе преобладают предприятия быстрого обслуживания, кафе вместимостью до 25,кафе с количеством мест от 26 до 50 мест. Имеют место столовые вместимостью свыше 100 мест.\n",
    "\n",
    "**Улица Кировоградская** находится в Южном административном округе города, в одной из его самых старых, но тем не менее достаточно развитых частях. Помимо наличия памятников истории и архитектуры на улице присутствует достаточно много современных магазинов, гипермаркетов, заведений быстрого и общественного питания. Общая протяженность улицы составляет чуть менее 10 километров.\n",
    "\n",
    "Источник:https://101hotels.com/recreation/russia/moskva/infrastructure/main_streets/ulica_kirovogradskaya\n",
    "\n",
    "На Кировоградской улице преобладают предприятия быстрого обслуживания, расположены столовые вместимостью свыше 100 мест.\n",
    "\n",
    "Выявлены закономерности при исследовании улиц:\n",
    "\n",
    "1. Основной вид заведения - кафе вместимостью до 50 мест.\n",
    "2. Улица Кировоградская и Каширское шоссе оснащены в большей степени предприятиями быстрого обслуживания.\n",
    "3. Буфет, бар, закусочная не имеют широкого распространения.\n",
    "4. Среднее коилчество посадочных мест - 58, медианное - 40.\n",
    "\n",
    "9. Рекомендации.\n",
    "\n",
    "**Основы моего выбора для рекомендации следующие:**\n",
    "\n",
    "1. район должен быть востребован у пешеходов и гостей столицы, чтобы интерес не угасал;\n",
    "2. публика должна быть любопытной;\n",
    "3. безопасность,так как техника дорогая.\n",
    "\n",
    "Я убеждена, что ориентироваться в случае с роботами-официантами можно только зоны, в которых уже сейчас рынок общепита представлен широко, где публика  привыкла есть в заведении, а не дома. Ориентироваться на районы, в которых объекты представлены в малой доле, на мой взгляд, прямой путь к неудаче.\n",
    "\n",
    "Наша зона интереса - дети, молодёжь и молодые женщины - это самые любопытные и \"лёгкие на подъём\" категории.\n",
    "\n",
    "Для заведения подойдут улицы с широким пешеходным трафиком.\n",
    "\n",
    "**Предложение на выбор:**\n",
    "\n",
    "Проспект Вернадского с его насыщенностью образовательными учреждениями широкого уровня известности, привлекающими многочисленных молодых людей. Ленинский проспект с его парками, где находится отличный источник новых впечатлений и красивых фото для странички. Один из самых безопасных районов данной улицы, предлагается для рассмотрения - Гагаринский район.\n",
    "\n",
    "Варшавское шоссе. Рекомендуемый Нагорный — спокойный район, расположенный недалеко от центра. Тут находится горнолыжный комплекс «Кант», который ежегодно посещают около 500 тысяч человек, и популярный у экстремалов велосквер «Нагорный».(https://www.mos.ru/moi-raion/nagornyj/)\n",
    "\n",
    "Данные улицы являются относительно безопасными. Источники:https://everychild.ru/reyting/top-opasnyh-rayonov-moskvy-2021/, https://www.novostroy-m.ru/statyi/gde_bezopasno_jit_v\n",
    "\n",
    "Предлагаю открыть кафе вместимостью до 50 мест, так как это самый востребованный формат и будет достаточно по 2 робота в каждое заведение. Предлагается название - \"AZIMOV@CAFE\".\n",
    "\n",
    "Рекомендую рассмотреть возможность открытия кафе \"#azekAZIMOV\". Отлично подходит для экстремальных мужчин, которые катаются в велосквере. \n",
    "\n",
    "На рынке общепита г. Москва сетевые заведения составляют лишь 19%. Не рекомендуется начинать с создания сети."
   ]
  },
  {
   "cell_type": "markdown",
   "id": "60058328",
   "metadata": {},
   "source": [
    "**Предлагаю также ознакомиться с обновлённой презентацией.**\n",
    "\n",
    "https://disk.yandex.ru/i/mgSz2hfPNOH1KQ"
   ]
  }
 ],
 "metadata": {
  "ExecuteTimeLog": [
   {
    "duration": 1399,
    "start_time": "2022-05-20T09:34:49.480Z"
   },
   {
    "duration": 7,
    "start_time": "2022-05-20T09:34:58.334Z"
   },
   {
    "duration": 12,
    "start_time": "2022-05-20T09:34:58.343Z"
   },
   {
    "duration": 3,
    "start_time": "2022-05-20T09:34:59.268Z"
   },
   {
    "duration": 270,
    "start_time": "2022-05-20T09:34:59.273Z"
   },
   {
    "duration": 13,
    "start_time": "2022-05-20T09:34:59.545Z"
   },
   {
    "duration": 7,
    "start_time": "2022-05-20T09:34:59.560Z"
   },
   {
    "duration": 18,
    "start_time": "2022-05-20T09:34:59.569Z"
   },
   {
    "duration": 20,
    "start_time": "2022-05-20T09:34:59.589Z"
   },
   {
    "duration": 21,
    "start_time": "2022-05-20T09:35:00.562Z"
   },
   {
    "duration": 9,
    "start_time": "2022-05-20T09:35:00.585Z"
   },
   {
    "duration": 13,
    "start_time": "2022-05-20T09:35:00.596Z"
   },
   {
    "duration": 8,
    "start_time": "2022-05-20T09:35:00.611Z"
   },
   {
    "duration": 21,
    "start_time": "2022-05-20T09:35:00.621Z"
   },
   {
    "duration": 15,
    "start_time": "2022-05-20T09:35:00.645Z"
   },
   {
    "duration": 20,
    "start_time": "2022-05-20T09:35:00.663Z"
   },
   {
    "duration": 15,
    "start_time": "2022-05-20T09:35:00.685Z"
   },
   {
    "duration": 5,
    "start_time": "2022-05-20T09:35:00.702Z"
   },
   {
    "duration": 12,
    "start_time": "2022-05-20T09:35:00.708Z"
   },
   {
    "duration": 6,
    "start_time": "2022-05-20T09:35:00.721Z"
   },
   {
    "duration": 8,
    "start_time": "2022-05-20T09:35:00.729Z"
   },
   {
    "duration": 9,
    "start_time": "2022-05-20T09:35:00.739Z"
   },
   {
    "duration": 8,
    "start_time": "2022-05-20T09:35:00.749Z"
   },
   {
    "duration": 17,
    "start_time": "2022-05-20T09:35:00.759Z"
   },
   {
    "duration": 5,
    "start_time": "2022-05-20T09:35:00.777Z"
   },
   {
    "duration": 12,
    "start_time": "2022-05-20T09:35:00.783Z"
   },
   {
    "duration": 18,
    "start_time": "2022-05-20T09:35:00.797Z"
   },
   {
    "duration": 4,
    "start_time": "2022-05-20T09:35:00.817Z"
   },
   {
    "duration": 14,
    "start_time": "2022-05-20T09:35:00.822Z"
   },
   {
    "duration": 10,
    "start_time": "2022-05-20T09:35:00.837Z"
   },
   {
    "duration": 27,
    "start_time": "2022-05-20T09:35:00.849Z"
   },
   {
    "duration": 11,
    "start_time": "2022-05-20T09:35:00.878Z"
   },
   {
    "duration": 28,
    "start_time": "2022-05-20T09:35:00.891Z"
   },
   {
    "duration": 7,
    "start_time": "2022-05-20T09:35:00.921Z"
   },
   {
    "duration": 17,
    "start_time": "2022-05-20T09:35:00.929Z"
   },
   {
    "duration": 17,
    "start_time": "2022-05-20T09:35:00.947Z"
   },
   {
    "duration": 18,
    "start_time": "2022-05-20T09:35:00.966Z"
   },
   {
    "duration": 173,
    "start_time": "2022-05-20T09:35:00.985Z"
   },
   {
    "duration": 565,
    "start_time": "2022-05-20T09:35:01.160Z"
   },
   {
    "duration": 10,
    "start_time": "2022-05-20T09:35:01.727Z"
   },
   {
    "duration": 166,
    "start_time": "2022-05-20T09:35:02.163Z"
   },
   {
    "duration": 13,
    "start_time": "2022-05-20T09:35:02.331Z"
   },
   {
    "duration": 28,
    "start_time": "2022-05-20T09:35:02.345Z"
   },
   {
    "duration": 60,
    "start_time": "2022-05-20T09:35:02.374Z"
   },
   {
    "duration": 99,
    "start_time": "2022-05-20T09:35:04.626Z"
   },
   {
    "duration": 17,
    "start_time": "2022-05-20T09:35:04.728Z"
   },
   {
    "duration": 197,
    "start_time": "2022-05-20T09:35:04.747Z"
   },
   {
    "duration": 4,
    "start_time": "2022-05-20T09:35:04.945Z"
   },
   {
    "duration": 14,
    "start_time": "2022-05-20T09:35:04.951Z"
   },
   {
    "duration": 6,
    "start_time": "2022-05-20T09:35:04.974Z"
   },
   {
    "duration": 12,
    "start_time": "2022-05-20T09:35:04.981Z"
   },
   {
    "duration": 5,
    "start_time": "2022-05-20T09:35:04.995Z"
   },
   {
    "duration": 9,
    "start_time": "2022-05-20T09:35:05.001Z"
   },
   {
    "duration": 12,
    "start_time": "2022-05-20T09:35:05.012Z"
   },
   {
    "duration": 50,
    "start_time": "2022-05-20T09:35:05.026Z"
   },
   {
    "duration": 186,
    "start_time": "2022-05-20T09:35:05.078Z"
   },
   {
    "duration": 181,
    "start_time": "2022-05-20T09:35:05.266Z"
   },
   {
    "duration": 1354,
    "start_time": "2022-05-20T09:35:05.449Z"
   },
   {
    "duration": 10,
    "start_time": "2022-05-20T09:35:06.805Z"
   },
   {
    "duration": 14,
    "start_time": "2022-05-20T09:35:06.816Z"
   },
   {
    "duration": 168,
    "start_time": "2022-05-20T09:35:06.831Z"
   },
   {
    "duration": 2,
    "start_time": "2022-05-20T09:35:07.001Z"
   },
   {
    "duration": 25,
    "start_time": "2022-05-20T09:35:07.005Z"
   },
   {
    "duration": 24,
    "start_time": "2022-05-20T09:35:09.038Z"
   },
   {
    "duration": 19,
    "start_time": "2022-05-20T09:35:09.063Z"
   },
   {
    "duration": 182,
    "start_time": "2022-05-20T09:35:09.084Z"
   },
   {
    "duration": 19,
    "start_time": "2022-05-20T09:35:09.267Z"
   },
   {
    "duration": 23,
    "start_time": "2022-05-20T09:35:10.478Z"
   },
   {
    "duration": 7,
    "start_time": "2022-05-20T09:35:10.502Z"
   },
   {
    "duration": 168,
    "start_time": "2022-05-20T09:35:10.510Z"
   },
   {
    "duration": 11,
    "start_time": "2022-05-20T09:35:10.680Z"
   },
   {
    "duration": 13,
    "start_time": "2022-05-20T09:35:10.692Z"
   },
   {
    "duration": 27,
    "start_time": "2022-05-20T09:35:10.707Z"
   },
   {
    "duration": 40,
    "start_time": "2022-05-20T09:35:10.736Z"
   },
   {
    "duration": 18,
    "start_time": "2022-05-20T09:35:10.777Z"
   },
   {
    "duration": 6,
    "start_time": "2022-05-20T09:35:10.796Z"
   },
   {
    "duration": 32,
    "start_time": "2022-05-20T09:35:10.803Z"
   },
   {
    "duration": 43,
    "start_time": "2022-05-20T09:35:10.837Z"
   },
   {
    "duration": 7,
    "start_time": "2022-05-20T09:35:10.882Z"
   },
   {
    "duration": 8,
    "start_time": "2022-05-20T09:35:10.890Z"
   },
   {
    "duration": 23,
    "start_time": "2022-05-20T09:35:10.900Z"
   },
   {
    "duration": 5,
    "start_time": "2022-05-20T09:35:10.924Z"
   },
   {
    "duration": 47,
    "start_time": "2022-05-20T09:35:10.930Z"
   },
   {
    "duration": 5,
    "start_time": "2022-05-20T09:35:10.979Z"
   },
   {
    "duration": 24,
    "start_time": "2022-05-20T09:35:10.986Z"
   },
   {
    "duration": 4,
    "start_time": "2022-05-20T09:35:11.012Z"
   },
   {
    "duration": 32,
    "start_time": "2022-05-20T09:35:11.018Z"
   },
   {
    "duration": 23,
    "start_time": "2022-05-20T09:35:11.051Z"
   },
   {
    "duration": 20,
    "start_time": "2022-05-20T09:35:11.076Z"
   },
   {
    "duration": 5,
    "start_time": "2022-05-20T09:35:11.097Z"
   },
   {
    "duration": 6,
    "start_time": "2022-05-20T09:35:11.103Z"
   },
   {
    "duration": 21,
    "start_time": "2022-05-20T09:35:11.110Z"
   },
   {
    "duration": 5,
    "start_time": "2022-05-20T09:35:11.132Z"
   },
   {
    "duration": 22,
    "start_time": "2022-05-20T09:35:11.174Z"
   },
   {
    "duration": 8,
    "start_time": "2022-05-20T09:35:11.197Z"
   },
   {
    "duration": 23,
    "start_time": "2022-05-20T09:35:11.206Z"
   },
   {
    "duration": 5,
    "start_time": "2022-05-20T09:35:11.230Z"
   },
   {
    "duration": 14,
    "start_time": "2022-05-20T10:17:24.909Z"
   },
   {
    "duration": 1380,
    "start_time": "2022-05-20T10:22:43.499Z"
   },
   {
    "duration": 83,
    "start_time": "2022-05-20T10:22:44.881Z"
   },
   {
    "duration": 9,
    "start_time": "2022-05-20T10:22:44.966Z"
   },
   {
    "duration": 4,
    "start_time": "2022-05-20T10:22:44.978Z"
   },
   {
    "duration": 89,
    "start_time": "2022-05-20T10:22:44.984Z"
   },
   {
    "duration": 16,
    "start_time": "2022-05-20T10:22:45.076Z"
   },
   {
    "duration": 5,
    "start_time": "2022-05-20T10:22:45.094Z"
   },
   {
    "duration": 25,
    "start_time": "2022-05-20T10:22:45.100Z"
   },
   {
    "duration": 51,
    "start_time": "2022-05-20T10:22:45.127Z"
   },
   {
    "duration": 24,
    "start_time": "2022-05-20T10:22:45.181Z"
   },
   {
    "duration": 12,
    "start_time": "2022-05-20T10:22:45.207Z"
   },
   {
    "duration": 6,
    "start_time": "2022-05-20T10:22:45.221Z"
   },
   {
    "duration": 6,
    "start_time": "2022-05-20T10:22:45.229Z"
   },
   {
    "duration": 43,
    "start_time": "2022-05-20T10:22:45.237Z"
   },
   {
    "duration": 14,
    "start_time": "2022-05-20T10:22:45.282Z"
   },
   {
    "duration": 7,
    "start_time": "2022-05-20T10:22:45.297Z"
   },
   {
    "duration": 14,
    "start_time": "2022-05-20T10:22:45.306Z"
   },
   {
    "duration": 8,
    "start_time": "2022-05-20T10:22:45.321Z"
   },
   {
    "duration": 43,
    "start_time": "2022-05-20T10:22:45.331Z"
   },
   {
    "duration": 6,
    "start_time": "2022-05-20T10:22:45.377Z"
   },
   {
    "duration": 12,
    "start_time": "2022-05-20T10:22:45.385Z"
   },
   {
    "duration": 11,
    "start_time": "2022-05-20T10:22:45.399Z"
   },
   {
    "duration": 13,
    "start_time": "2022-05-20T10:22:45.412Z"
   },
   {
    "duration": 7,
    "start_time": "2022-05-20T10:22:45.427Z"
   },
   {
    "duration": 11,
    "start_time": "2022-05-20T10:22:45.436Z"
   },
   {
    "duration": 33,
    "start_time": "2022-05-20T10:22:45.448Z"
   },
   {
    "duration": 26,
    "start_time": "2022-05-20T10:22:45.482Z"
   },
   {
    "duration": 7,
    "start_time": "2022-05-20T10:22:45.514Z"
   },
   {
    "duration": 11,
    "start_time": "2022-05-20T10:22:45.522Z"
   },
   {
    "duration": 41,
    "start_time": "2022-05-20T10:22:45.534Z"
   },
   {
    "duration": 10,
    "start_time": "2022-05-20T10:22:45.577Z"
   },
   {
    "duration": 13,
    "start_time": "2022-05-20T10:22:45.589Z"
   },
   {
    "duration": 22,
    "start_time": "2022-05-20T10:22:45.604Z"
   },
   {
    "duration": 6,
    "start_time": "2022-05-20T10:22:45.628Z"
   },
   {
    "duration": 47,
    "start_time": "2022-05-20T10:22:45.636Z"
   },
   {
    "duration": 15,
    "start_time": "2022-05-20T10:22:45.685Z"
   },
   {
    "duration": 18,
    "start_time": "2022-05-20T10:22:45.702Z"
   },
   {
    "duration": 228,
    "start_time": "2022-05-20T10:22:45.722Z"
   },
   {
    "duration": 654,
    "start_time": "2022-05-20T10:22:45.952Z"
   },
   {
    "duration": 12,
    "start_time": "2022-05-20T10:22:46.608Z"
   },
   {
    "duration": 187,
    "start_time": "2022-05-20T10:22:46.622Z"
   },
   {
    "duration": 15,
    "start_time": "2022-05-20T10:22:46.811Z"
   },
   {
    "duration": 9,
    "start_time": "2022-05-20T10:22:46.828Z"
   },
   {
    "duration": 78,
    "start_time": "2022-05-20T10:22:46.839Z"
   },
   {
    "duration": 159,
    "start_time": "2022-05-20T10:22:46.919Z"
   },
   {
    "duration": 27,
    "start_time": "2022-05-20T10:22:47.079Z"
   },
   {
    "duration": 267,
    "start_time": "2022-05-20T10:22:47.108Z"
   },
   {
    "duration": 4,
    "start_time": "2022-05-20T10:22:47.377Z"
   },
   {
    "duration": 21,
    "start_time": "2022-05-20T10:22:47.382Z"
   },
   {
    "duration": 8,
    "start_time": "2022-05-20T10:22:47.406Z"
   },
   {
    "duration": 18,
    "start_time": "2022-05-20T10:22:47.416Z"
   },
   {
    "duration": 7,
    "start_time": "2022-05-20T10:22:47.436Z"
   },
   {
    "duration": 8,
    "start_time": "2022-05-20T10:22:47.475Z"
   },
   {
    "duration": 14,
    "start_time": "2022-05-20T10:22:47.485Z"
   },
   {
    "duration": 21,
    "start_time": "2022-05-20T10:22:47.501Z"
   },
   {
    "duration": 245,
    "start_time": "2022-05-20T10:22:47.524Z"
   },
   {
    "duration": 235,
    "start_time": "2022-05-20T10:22:47.775Z"
   },
   {
    "duration": 1045,
    "start_time": "2022-05-20T10:22:48.012Z"
   },
   {
    "duration": 14,
    "start_time": "2022-05-20T10:22:49.059Z"
   },
   {
    "duration": 19,
    "start_time": "2022-05-20T10:22:49.075Z"
   },
   {
    "duration": 297,
    "start_time": "2022-05-20T10:22:49.096Z"
   },
   {
    "duration": 5,
    "start_time": "2022-05-20T10:22:49.395Z"
   },
   {
    "duration": 26,
    "start_time": "2022-05-20T10:22:49.402Z"
   },
   {
    "duration": 46,
    "start_time": "2022-05-20T10:22:49.430Z"
   },
   {
    "duration": 18,
    "start_time": "2022-05-20T10:22:49.478Z"
   },
   {
    "duration": 189,
    "start_time": "2022-05-20T10:22:49.498Z"
   },
   {
    "duration": 24,
    "start_time": "2022-05-20T10:22:49.689Z"
   },
   {
    "duration": 23,
    "start_time": "2022-05-20T10:22:49.715Z"
   },
   {
    "duration": 7,
    "start_time": "2022-05-20T10:22:49.739Z"
   },
   {
    "duration": 229,
    "start_time": "2022-05-20T10:22:49.748Z"
   },
   {
    "duration": 14,
    "start_time": "2022-05-20T10:22:49.979Z"
   },
   {
    "duration": 13,
    "start_time": "2022-05-20T10:22:49.994Z"
   },
   {
    "duration": 42,
    "start_time": "2022-05-20T10:22:50.009Z"
   },
   {
    "duration": 26,
    "start_time": "2022-05-20T10:22:50.075Z"
   },
   {
    "duration": 25,
    "start_time": "2022-05-20T10:22:50.103Z"
   },
   {
    "duration": 5,
    "start_time": "2022-05-20T10:22:50.130Z"
   },
   {
    "duration": 47,
    "start_time": "2022-05-20T10:22:50.136Z"
   },
   {
    "duration": 30,
    "start_time": "2022-05-20T10:22:50.185Z"
   },
   {
    "duration": 7,
    "start_time": "2022-05-20T10:22:50.217Z"
   },
   {
    "duration": 28,
    "start_time": "2022-05-20T10:22:50.226Z"
   },
   {
    "duration": 34,
    "start_time": "2022-05-20T10:22:50.255Z"
   },
   {
    "duration": 5,
    "start_time": "2022-05-20T10:22:50.294Z"
   },
   {
    "duration": 31,
    "start_time": "2022-05-20T10:22:50.300Z"
   },
   {
    "duration": 5,
    "start_time": "2022-05-20T10:22:50.333Z"
   },
   {
    "duration": 49,
    "start_time": "2022-05-20T10:22:50.341Z"
   },
   {
    "duration": 5,
    "start_time": "2022-05-20T10:22:50.391Z"
   },
   {
    "duration": 28,
    "start_time": "2022-05-20T10:22:50.398Z"
   },
   {
    "duration": 6,
    "start_time": "2022-05-20T10:22:50.428Z"
   },
   {
    "duration": 54,
    "start_time": "2022-05-20T10:22:50.436Z"
   },
   {
    "duration": 5,
    "start_time": "2022-05-20T10:22:50.492Z"
   },
   {
    "duration": 12,
    "start_time": "2022-05-20T10:22:50.499Z"
   },
   {
    "duration": 33,
    "start_time": "2022-05-20T10:22:50.513Z"
   },
   {
    "duration": 6,
    "start_time": "2022-05-20T10:22:50.548Z"
   },
   {
    "duration": 36,
    "start_time": "2022-05-20T10:22:50.575Z"
   },
   {
    "duration": 6,
    "start_time": "2022-05-20T10:22:50.613Z"
   },
   {
    "duration": 26,
    "start_time": "2022-05-20T10:22:50.621Z"
   },
   {
    "duration": 27,
    "start_time": "2022-05-20T10:22:50.649Z"
   },
   {
    "duration": 58,
    "start_time": "2022-05-20T20:02:46.636Z"
   },
   {
    "duration": 1447,
    "start_time": "2022-05-20T20:03:19.815Z"
   },
   {
    "duration": 8,
    "start_time": "2022-05-20T20:03:21.264Z"
   },
   {
    "duration": 2,
    "start_time": "2022-05-20T20:03:21.274Z"
   },
   {
    "duration": 4,
    "start_time": "2022-05-20T20:03:21.278Z"
   },
   {
    "duration": 262,
    "start_time": "2022-05-20T20:03:21.284Z"
   },
   {
    "duration": 15,
    "start_time": "2022-05-20T20:03:21.547Z"
   },
   {
    "duration": 4,
    "start_time": "2022-05-20T20:03:21.563Z"
   },
   {
    "duration": 18,
    "start_time": "2022-05-20T20:03:21.569Z"
   },
   {
    "duration": 20,
    "start_time": "2022-05-20T20:03:21.589Z"
   },
   {
    "duration": 20,
    "start_time": "2022-05-20T20:03:21.612Z"
   },
   {
    "duration": 7,
    "start_time": "2022-05-20T20:03:21.634Z"
   },
   {
    "duration": 8,
    "start_time": "2022-05-20T20:03:21.642Z"
   },
   {
    "duration": 4,
    "start_time": "2022-05-20T20:03:21.675Z"
   },
   {
    "duration": 6,
    "start_time": "2022-05-20T20:03:21.680Z"
   },
   {
    "duration": 15,
    "start_time": "2022-05-20T20:03:21.688Z"
   },
   {
    "duration": 6,
    "start_time": "2022-05-20T20:03:21.704Z"
   },
   {
    "duration": 11,
    "start_time": "2022-05-20T20:03:21.711Z"
   },
   {
    "duration": 5,
    "start_time": "2022-05-20T20:03:21.724Z"
   },
   {
    "duration": 6,
    "start_time": "2022-05-20T20:03:21.731Z"
   },
   {
    "duration": 36,
    "start_time": "2022-05-20T20:03:21.739Z"
   },
   {
    "duration": 5,
    "start_time": "2022-05-20T20:03:21.776Z"
   },
   {
    "duration": 8,
    "start_time": "2022-05-20T20:03:21.782Z"
   },
   {
    "duration": 7,
    "start_time": "2022-05-20T20:03:21.791Z"
   },
   {
    "duration": 5,
    "start_time": "2022-05-20T20:03:21.800Z"
   },
   {
    "duration": 6,
    "start_time": "2022-05-20T20:03:21.806Z"
   },
   {
    "duration": 9,
    "start_time": "2022-05-20T20:03:21.813Z"
   },
   {
    "duration": 16,
    "start_time": "2022-05-20T20:03:21.824Z"
   },
   {
    "duration": 6,
    "start_time": "2022-05-20T20:03:21.874Z"
   },
   {
    "duration": 7,
    "start_time": "2022-05-20T20:03:21.881Z"
   },
   {
    "duration": 10,
    "start_time": "2022-05-20T20:03:21.890Z"
   },
   {
    "duration": 9,
    "start_time": "2022-05-20T20:03:21.902Z"
   },
   {
    "duration": 12,
    "start_time": "2022-05-20T20:03:21.913Z"
   },
   {
    "duration": 49,
    "start_time": "2022-05-20T20:03:21.926Z"
   },
   {
    "duration": 5,
    "start_time": "2022-05-20T20:03:21.977Z"
   },
   {
    "duration": 8,
    "start_time": "2022-05-20T20:03:21.984Z"
   },
   {
    "duration": 7,
    "start_time": "2022-05-20T20:03:21.994Z"
   },
   {
    "duration": 13,
    "start_time": "2022-05-20T20:03:22.002Z"
   },
   {
    "duration": 215,
    "start_time": "2022-05-20T20:03:22.016Z"
   },
   {
    "duration": 584,
    "start_time": "2022-05-20T20:03:22.233Z"
   },
   {
    "duration": 11,
    "start_time": "2022-05-20T20:03:22.820Z"
   },
   {
    "duration": 200,
    "start_time": "2022-05-20T20:03:22.833Z"
   },
   {
    "duration": 13,
    "start_time": "2022-05-20T20:03:23.034Z"
   },
   {
    "duration": 13,
    "start_time": "2022-05-20T20:03:23.048Z"
   },
   {
    "duration": 52,
    "start_time": "2022-05-20T20:03:23.062Z"
   },
   {
    "duration": 103,
    "start_time": "2022-05-20T20:03:23.115Z"
   },
   {
    "duration": 18,
    "start_time": "2022-05-20T20:03:23.219Z"
   },
   {
    "duration": 207,
    "start_time": "2022-05-20T20:03:23.239Z"
   },
   {
    "duration": 4,
    "start_time": "2022-05-20T20:03:23.448Z"
   },
   {
    "duration": 32,
    "start_time": "2022-05-20T20:03:23.453Z"
   },
   {
    "duration": 7,
    "start_time": "2022-05-20T20:03:23.487Z"
   },
   {
    "duration": 13,
    "start_time": "2022-05-20T20:03:23.496Z"
   },
   {
    "duration": 7,
    "start_time": "2022-05-20T20:03:23.510Z"
   },
   {
    "duration": 8,
    "start_time": "2022-05-20T20:03:23.518Z"
   },
   {
    "duration": 13,
    "start_time": "2022-05-20T20:03:23.528Z"
   },
   {
    "duration": 49,
    "start_time": "2022-05-20T20:03:23.542Z"
   },
   {
    "duration": 209,
    "start_time": "2022-05-20T20:03:23.593Z"
   },
   {
    "duration": 183,
    "start_time": "2022-05-20T20:03:23.804Z"
   },
   {
    "duration": 1355,
    "start_time": "2022-05-20T20:03:23.989Z"
   },
   {
    "duration": 11,
    "start_time": "2022-05-20T20:03:25.346Z"
   },
   {
    "duration": 12,
    "start_time": "2022-05-20T20:03:25.359Z"
   },
   {
    "duration": 173,
    "start_time": "2022-05-20T20:03:25.372Z"
   },
   {
    "duration": 3,
    "start_time": "2022-05-20T20:03:25.547Z"
   },
   {
    "duration": 29,
    "start_time": "2022-05-20T20:03:25.552Z"
   },
   {
    "duration": 20,
    "start_time": "2022-05-20T20:03:25.583Z"
   },
   {
    "duration": 16,
    "start_time": "2022-05-20T20:03:25.605Z"
   },
   {
    "duration": 186,
    "start_time": "2022-05-20T20:03:25.622Z"
   },
   {
    "duration": 16,
    "start_time": "2022-05-20T20:03:25.810Z"
   },
   {
    "duration": 16,
    "start_time": "2022-05-20T20:03:25.827Z"
   },
   {
    "duration": 5,
    "start_time": "2022-05-20T20:03:25.845Z"
   },
   {
    "duration": 180,
    "start_time": "2022-05-20T20:03:25.852Z"
   },
   {
    "duration": 11,
    "start_time": "2022-05-20T20:03:26.034Z"
   },
   {
    "duration": 8,
    "start_time": "2022-05-20T20:03:26.047Z"
   },
   {
    "duration": 39,
    "start_time": "2022-05-20T20:03:26.057Z"
   },
   {
    "duration": 23,
    "start_time": "2022-05-20T20:03:26.097Z"
   },
   {
    "duration": 16,
    "start_time": "2022-05-20T20:03:26.122Z"
   },
   {
    "duration": 4,
    "start_time": "2022-05-20T20:03:26.140Z"
   },
   {
    "duration": 46,
    "start_time": "2022-05-20T20:03:26.145Z"
   },
   {
    "duration": 29,
    "start_time": "2022-05-20T20:03:26.193Z"
   },
   {
    "duration": 9,
    "start_time": "2022-05-20T20:03:26.232Z"
   },
   {
    "duration": 14,
    "start_time": "2022-05-20T20:03:26.242Z"
   },
   {
    "duration": 41,
    "start_time": "2022-05-20T20:03:26.257Z"
   },
   {
    "duration": 4,
    "start_time": "2022-05-20T20:03:26.305Z"
   },
   {
    "duration": 29,
    "start_time": "2022-05-20T20:03:26.311Z"
   },
   {
    "duration": 5,
    "start_time": "2022-05-20T20:03:26.342Z"
   },
   {
    "duration": 41,
    "start_time": "2022-05-20T20:03:26.349Z"
   },
   {
    "duration": 6,
    "start_time": "2022-05-20T20:03:26.392Z"
   },
   {
    "duration": 25,
    "start_time": "2022-05-20T20:03:26.399Z"
   },
   {
    "duration": 5,
    "start_time": "2022-05-20T20:03:26.426Z"
   },
   {
    "duration": 47,
    "start_time": "2022-05-20T20:03:26.432Z"
   },
   {
    "duration": 5,
    "start_time": "2022-05-20T20:03:26.480Z"
   },
   {
    "duration": 7,
    "start_time": "2022-05-20T20:03:26.486Z"
   },
   {
    "duration": 22,
    "start_time": "2022-05-20T20:03:26.495Z"
   },
   {
    "duration": 4,
    "start_time": "2022-05-20T20:03:26.519Z"
   },
   {
    "duration": 22,
    "start_time": "2022-05-20T20:03:26.525Z"
   },
   {
    "duration": 27,
    "start_time": "2022-05-20T20:03:26.549Z"
   },
   {
    "duration": 26,
    "start_time": "2022-05-20T20:03:26.578Z"
   },
   {
    "duration": 4,
    "start_time": "2022-05-20T20:03:26.606Z"
   },
   {
    "duration": 1169,
    "start_time": "2022-05-20T20:05:17.444Z"
   },
   {
    "duration": 74,
    "start_time": "2022-05-20T20:05:18.615Z"
   },
   {
    "duration": 2,
    "start_time": "2022-05-20T20:05:18.691Z"
   },
   {
    "duration": 6,
    "start_time": "2022-05-20T20:05:18.695Z"
   },
   {
    "duration": 78,
    "start_time": "2022-05-20T20:05:18.703Z"
   },
   {
    "duration": 14,
    "start_time": "2022-05-20T20:05:18.782Z"
   },
   {
    "duration": 5,
    "start_time": "2022-05-20T20:05:18.798Z"
   },
   {
    "duration": 19,
    "start_time": "2022-05-20T20:05:18.804Z"
   },
   {
    "duration": 19,
    "start_time": "2022-05-20T20:05:18.825Z"
   },
   {
    "duration": 43,
    "start_time": "2022-05-20T20:05:18.846Z"
   },
   {
    "duration": 7,
    "start_time": "2022-05-20T20:05:18.891Z"
   },
   {
    "duration": 7,
    "start_time": "2022-05-20T20:05:18.899Z"
   },
   {
    "duration": 7,
    "start_time": "2022-05-20T20:05:18.908Z"
   },
   {
    "duration": 5,
    "start_time": "2022-05-20T20:05:18.917Z"
   },
   {
    "duration": 22,
    "start_time": "2022-05-20T20:05:18.924Z"
   },
   {
    "duration": 30,
    "start_time": "2022-05-20T20:05:18.947Z"
   },
   {
    "duration": 11,
    "start_time": "2022-05-20T20:05:18.978Z"
   },
   {
    "duration": 5,
    "start_time": "2022-05-20T20:05:18.991Z"
   },
   {
    "duration": 8,
    "start_time": "2022-05-20T20:05:18.997Z"
   },
   {
    "duration": 7,
    "start_time": "2022-05-20T20:05:19.007Z"
   },
   {
    "duration": 7,
    "start_time": "2022-05-20T20:05:19.016Z"
   },
   {
    "duration": 8,
    "start_time": "2022-05-20T20:05:19.025Z"
   },
   {
    "duration": 40,
    "start_time": "2022-05-20T20:05:19.035Z"
   },
   {
    "duration": 5,
    "start_time": "2022-05-20T20:05:19.077Z"
   },
   {
    "duration": 7,
    "start_time": "2022-05-20T20:05:19.084Z"
   },
   {
    "duration": 11,
    "start_time": "2022-05-20T20:05:19.092Z"
   },
   {
    "duration": 18,
    "start_time": "2022-05-20T20:05:19.105Z"
   },
   {
    "duration": 4,
    "start_time": "2022-05-20T20:05:19.127Z"
   },
   {
    "duration": 7,
    "start_time": "2022-05-20T20:05:19.133Z"
   },
   {
    "duration": 35,
    "start_time": "2022-05-20T20:05:19.141Z"
   },
   {
    "duration": 11,
    "start_time": "2022-05-20T20:05:19.178Z"
   },
   {
    "duration": 11,
    "start_time": "2022-05-20T20:05:19.190Z"
   },
   {
    "duration": 17,
    "start_time": "2022-05-20T20:05:19.203Z"
   },
   {
    "duration": 6,
    "start_time": "2022-05-20T20:05:19.221Z"
   },
   {
    "duration": 10,
    "start_time": "2022-05-20T20:05:19.229Z"
   },
   {
    "duration": 36,
    "start_time": "2022-05-20T20:05:19.240Z"
   },
   {
    "duration": 13,
    "start_time": "2022-05-20T20:05:19.277Z"
   },
   {
    "duration": 184,
    "start_time": "2022-05-20T20:05:19.291Z"
   },
   {
    "duration": 593,
    "start_time": "2022-05-20T20:05:19.476Z"
   },
   {
    "duration": 10,
    "start_time": "2022-05-20T20:05:20.071Z"
   },
   {
    "duration": 168,
    "start_time": "2022-05-20T20:05:20.083Z"
   },
   {
    "duration": 11,
    "start_time": "2022-05-20T20:05:20.253Z"
   },
   {
    "duration": 6,
    "start_time": "2022-05-20T20:05:20.274Z"
   },
   {
    "duration": 41,
    "start_time": "2022-05-20T20:05:20.282Z"
   },
   {
    "duration": 120,
    "start_time": "2022-05-20T20:05:20.325Z"
   },
   {
    "duration": 18,
    "start_time": "2022-05-20T20:05:20.447Z"
   },
   {
    "duration": 188,
    "start_time": "2022-05-20T20:05:20.466Z"
   },
   {
    "duration": 4,
    "start_time": "2022-05-20T20:05:20.655Z"
   },
   {
    "duration": 24,
    "start_time": "2022-05-20T20:05:20.660Z"
   },
   {
    "duration": 10,
    "start_time": "2022-05-20T20:05:20.685Z"
   },
   {
    "duration": 14,
    "start_time": "2022-05-20T20:05:20.697Z"
   },
   {
    "duration": 5,
    "start_time": "2022-05-20T20:05:20.713Z"
   },
   {
    "duration": 9,
    "start_time": "2022-05-20T20:05:20.720Z"
   },
   {
    "duration": 46,
    "start_time": "2022-05-20T20:05:20.731Z"
   },
   {
    "duration": 22,
    "start_time": "2022-05-20T20:05:20.778Z"
   },
   {
    "duration": 196,
    "start_time": "2022-05-20T20:05:20.801Z"
   },
   {
    "duration": 193,
    "start_time": "2022-05-20T20:05:20.999Z"
   },
   {
    "duration": 958,
    "start_time": "2022-05-20T20:05:21.194Z"
   },
   {
    "duration": 13,
    "start_time": "2022-05-20T20:05:22.154Z"
   },
   {
    "duration": 13,
    "start_time": "2022-05-20T20:05:22.168Z"
   },
   {
    "duration": 262,
    "start_time": "2022-05-20T20:05:22.182Z"
   },
   {
    "duration": 3,
    "start_time": "2022-05-20T20:05:22.446Z"
   },
   {
    "duration": 29,
    "start_time": "2022-05-20T20:05:22.450Z"
   },
   {
    "duration": 20,
    "start_time": "2022-05-20T20:05:22.481Z"
   },
   {
    "duration": 17,
    "start_time": "2022-05-20T20:05:22.503Z"
   },
   {
    "duration": 199,
    "start_time": "2022-05-20T20:05:22.522Z"
   },
   {
    "duration": 38,
    "start_time": "2022-05-20T20:05:22.723Z"
   },
   {
    "duration": 26,
    "start_time": "2022-05-20T20:05:22.763Z"
   },
   {
    "duration": 14,
    "start_time": "2022-05-20T20:05:22.791Z"
   },
   {
    "duration": 205,
    "start_time": "2022-05-20T20:05:22.807Z"
   },
   {
    "duration": 12,
    "start_time": "2022-05-20T20:05:23.014Z"
   },
   {
    "duration": 12,
    "start_time": "2022-05-20T20:05:23.027Z"
   },
   {
    "duration": 36,
    "start_time": "2022-05-20T20:05:23.040Z"
   },
   {
    "duration": 30,
    "start_time": "2022-05-20T20:05:23.077Z"
   },
   {
    "duration": 18,
    "start_time": "2022-05-20T20:05:23.109Z"
   },
   {
    "duration": 5,
    "start_time": "2022-05-20T20:05:23.128Z"
   },
   {
    "duration": 61,
    "start_time": "2022-05-20T20:05:23.135Z"
   },
   {
    "duration": 23,
    "start_time": "2022-05-20T20:05:23.197Z"
   },
   {
    "duration": 5,
    "start_time": "2022-05-20T20:05:23.222Z"
   },
   {
    "duration": 7,
    "start_time": "2022-05-20T20:05:23.229Z"
   },
   {
    "duration": 42,
    "start_time": "2022-05-20T20:05:23.238Z"
   },
   {
    "duration": 5,
    "start_time": "2022-05-20T20:05:23.285Z"
   },
   {
    "duration": 23,
    "start_time": "2022-05-20T20:05:23.292Z"
   },
   {
    "duration": 6,
    "start_time": "2022-05-20T20:05:23.316Z"
   },
   {
    "duration": 24,
    "start_time": "2022-05-20T20:05:23.323Z"
   },
   {
    "duration": 7,
    "start_time": "2022-05-20T20:05:23.375Z"
   },
   {
    "duration": 32,
    "start_time": "2022-05-20T20:05:23.384Z"
   },
   {
    "duration": 5,
    "start_time": "2022-05-20T20:05:23.418Z"
   },
   {
    "duration": 26,
    "start_time": "2022-05-20T20:05:23.425Z"
   },
   {
    "duration": 24,
    "start_time": "2022-05-20T20:05:23.453Z"
   },
   {
    "duration": 7,
    "start_time": "2022-05-20T20:05:23.479Z"
   },
   {
    "duration": 28,
    "start_time": "2022-05-20T20:05:23.488Z"
   },
   {
    "duration": 6,
    "start_time": "2022-05-20T20:05:23.517Z"
   },
   {
    "duration": 51,
    "start_time": "2022-05-20T20:05:23.524Z"
   },
   {
    "duration": 5,
    "start_time": "2022-05-20T20:05:23.577Z"
   },
   {
    "duration": 26,
    "start_time": "2022-05-20T20:05:23.584Z"
   },
   {
    "duration": 5,
    "start_time": "2022-05-20T20:05:23.611Z"
   },
   {
    "duration": 121,
    "start_time": "2022-05-20T20:05:43.893Z"
   },
   {
    "duration": 13,
    "start_time": "2022-05-20T20:06:31.115Z"
   },
   {
    "duration": 596,
    "start_time": "2022-05-20T20:06:55.603Z"
   },
   {
    "duration": 8,
    "start_time": "2022-05-20T20:42:32.068Z"
   },
   {
    "duration": 8,
    "start_time": "2022-05-20T20:42:47.000Z"
   },
   {
    "duration": 17,
    "start_time": "2022-05-20T20:44:33.686Z"
   },
   {
    "duration": 8,
    "start_time": "2022-05-20T20:57:11.161Z"
   },
   {
    "duration": 6,
    "start_time": "2022-05-20T20:57:23.185Z"
   },
   {
    "duration": 15,
    "start_time": "2022-05-20T20:57:33.584Z"
   },
   {
    "duration": 61,
    "start_time": "2022-05-23T13:59:28.658Z"
   },
   {
    "duration": 1463,
    "start_time": "2022-05-23T14:20:39.855Z"
   },
   {
    "duration": 7,
    "start_time": "2022-05-23T14:20:41.320Z"
   },
   {
    "duration": 3,
    "start_time": "2022-05-23T14:20:41.329Z"
   },
   {
    "duration": 6,
    "start_time": "2022-05-23T14:20:41.333Z"
   },
   {
    "duration": 125,
    "start_time": "2022-05-23T14:20:41.342Z"
   },
   {
    "duration": 16,
    "start_time": "2022-05-23T14:20:41.468Z"
   },
   {
    "duration": 4,
    "start_time": "2022-05-23T14:20:41.486Z"
   },
   {
    "duration": 24,
    "start_time": "2022-05-23T14:20:41.492Z"
   },
   {
    "duration": 52,
    "start_time": "2022-05-23T14:20:41.518Z"
   },
   {
    "duration": 9,
    "start_time": "2022-05-23T14:20:41.572Z"
   },
   {
    "duration": 11,
    "start_time": "2022-05-23T14:20:41.583Z"
   },
   {
    "duration": 9,
    "start_time": "2022-05-23T14:20:41.595Z"
   },
   {
    "duration": 9,
    "start_time": "2022-05-23T14:20:41.605Z"
   },
   {
    "duration": 43,
    "start_time": "2022-05-23T14:20:41.617Z"
   },
   {
    "duration": 8,
    "start_time": "2022-05-23T14:20:41.661Z"
   },
   {
    "duration": 13,
    "start_time": "2022-05-23T14:20:41.671Z"
   },
   {
    "duration": 9,
    "start_time": "2022-05-23T14:20:41.686Z"
   },
   {
    "duration": 14,
    "start_time": "2022-05-23T14:20:41.696Z"
   },
   {
    "duration": 14,
    "start_time": "2022-05-23T14:20:41.712Z"
   },
   {
    "duration": 32,
    "start_time": "2022-05-23T14:20:41.728Z"
   },
   {
    "duration": 10,
    "start_time": "2022-05-23T14:20:41.762Z"
   },
   {
    "duration": 12,
    "start_time": "2022-05-23T14:20:41.774Z"
   },
   {
    "duration": 12,
    "start_time": "2022-05-23T14:20:41.788Z"
   },
   {
    "duration": 17,
    "start_time": "2022-05-23T14:20:41.801Z"
   },
   {
    "duration": 16,
    "start_time": "2022-05-23T14:20:41.820Z"
   },
   {
    "duration": 7,
    "start_time": "2022-05-23T14:20:41.837Z"
   },
   {
    "duration": 6,
    "start_time": "2022-05-23T14:20:41.858Z"
   },
   {
    "duration": 15,
    "start_time": "2022-05-23T14:20:41.865Z"
   },
   {
    "duration": 17,
    "start_time": "2022-05-23T14:20:41.882Z"
   },
   {
    "duration": 14,
    "start_time": "2022-05-23T14:20:41.901Z"
   },
   {
    "duration": 43,
    "start_time": "2022-05-23T14:20:41.916Z"
   },
   {
    "duration": 7,
    "start_time": "2022-05-23T14:20:41.961Z"
   },
   {
    "duration": 14,
    "start_time": "2022-05-23T14:20:41.969Z"
   },
   {
    "duration": 16,
    "start_time": "2022-05-23T14:20:41.985Z"
   },
   {
    "duration": 16,
    "start_time": "2022-05-23T14:20:42.003Z"
   },
   {
    "duration": 213,
    "start_time": "2022-05-23T14:20:42.021Z"
   },
   {
    "duration": 25,
    "start_time": "2022-05-23T14:20:42.235Z"
   },
   {
    "duration": 10,
    "start_time": "2022-05-23T14:20:42.262Z"
   },
   {
    "duration": 40,
    "start_time": "2022-05-23T14:20:42.274Z"
   },
   {
    "duration": 127,
    "start_time": "2022-05-23T14:20:42.316Z"
   },
   {
    "duration": 26,
    "start_time": "2022-05-23T14:20:42.448Z"
   },
   {
    "duration": 22,
    "start_time": "2022-05-23T14:20:42.475Z"
   },
   {
    "duration": 315,
    "start_time": "2022-05-23T14:20:42.499Z"
   },
   {
    "duration": 4,
    "start_time": "2022-05-23T14:20:42.816Z"
   },
   {
    "duration": 39,
    "start_time": "2022-05-23T14:20:42.822Z"
   },
   {
    "duration": 9,
    "start_time": "2022-05-23T14:20:42.864Z"
   },
   {
    "duration": 15,
    "start_time": "2022-05-23T14:20:42.875Z"
   },
   {
    "duration": 9,
    "start_time": "2022-05-23T14:20:42.892Z"
   },
   {
    "duration": 14,
    "start_time": "2022-05-23T14:20:42.903Z"
   },
   {
    "duration": 42,
    "start_time": "2022-05-23T14:20:42.919Z"
   },
   {
    "duration": 186,
    "start_time": "2022-05-23T14:20:42.963Z"
   },
   {
    "duration": 146,
    "start_time": "2022-05-23T14:20:43.150Z"
   },
   {
    "duration": 136,
    "start_time": "2022-05-23T14:20:43.297Z"
   },
   {
    "duration": 148,
    "start_time": "2022-05-23T14:20:43.434Z"
   },
   {
    "duration": 230,
    "start_time": "2022-05-23T14:20:43.584Z"
   },
   {
    "duration": 149,
    "start_time": "2022-05-23T14:20:43.815Z"
   },
   {
    "duration": 162,
    "start_time": "2022-05-23T14:20:43.966Z"
   },
   {
    "duration": 152,
    "start_time": "2022-05-23T14:20:44.131Z"
   },
   {
    "duration": 9,
    "start_time": "2022-05-23T14:20:44.284Z"
   },
   {
    "duration": 22,
    "start_time": "2022-05-23T14:20:44.295Z"
   },
   {
    "duration": 189,
    "start_time": "2022-05-23T14:20:44.319Z"
   },
   {
    "duration": 326,
    "start_time": "2022-05-23T14:20:44.511Z"
   },
   {
    "duration": 23,
    "start_time": "2022-05-23T14:20:44.838Z"
   },
   {
    "duration": 218,
    "start_time": "2022-05-23T14:20:44.862Z"
   },
   {
    "duration": 4,
    "start_time": "2022-05-23T14:20:45.082Z"
   },
   {
    "duration": 84,
    "start_time": "2022-05-23T14:20:45.088Z"
   },
   {
    "duration": 0,
    "start_time": "2022-05-23T14:20:45.173Z"
   },
   {
    "duration": 0,
    "start_time": "2022-05-23T14:20:45.175Z"
   },
   {
    "duration": 0,
    "start_time": "2022-05-23T14:20:45.176Z"
   },
   {
    "duration": 0,
    "start_time": "2022-05-23T14:20:45.177Z"
   },
   {
    "duration": 0,
    "start_time": "2022-05-23T14:20:45.178Z"
   },
   {
    "duration": 0,
    "start_time": "2022-05-23T14:20:45.179Z"
   },
   {
    "duration": 0,
    "start_time": "2022-05-23T14:20:45.180Z"
   },
   {
    "duration": 0,
    "start_time": "2022-05-23T14:20:45.181Z"
   },
   {
    "duration": 0,
    "start_time": "2022-05-23T14:20:45.182Z"
   },
   {
    "duration": 0,
    "start_time": "2022-05-23T14:20:45.183Z"
   },
   {
    "duration": 0,
    "start_time": "2022-05-23T14:20:45.185Z"
   },
   {
    "duration": 0,
    "start_time": "2022-05-23T14:20:45.186Z"
   },
   {
    "duration": 0,
    "start_time": "2022-05-23T14:20:45.187Z"
   },
   {
    "duration": 0,
    "start_time": "2022-05-23T14:20:45.188Z"
   },
   {
    "duration": 0,
    "start_time": "2022-05-23T14:20:45.189Z"
   },
   {
    "duration": 0,
    "start_time": "2022-05-23T14:20:45.190Z"
   },
   {
    "duration": 0,
    "start_time": "2022-05-23T14:20:45.192Z"
   },
   {
    "duration": 0,
    "start_time": "2022-05-23T14:20:45.192Z"
   },
   {
    "duration": 0,
    "start_time": "2022-05-23T14:20:45.193Z"
   },
   {
    "duration": 0,
    "start_time": "2022-05-23T14:20:45.194Z"
   },
   {
    "duration": 0,
    "start_time": "2022-05-23T14:20:45.195Z"
   },
   {
    "duration": 0,
    "start_time": "2022-05-23T14:20:45.197Z"
   },
   {
    "duration": 0,
    "start_time": "2022-05-23T14:20:45.199Z"
   },
   {
    "duration": 0,
    "start_time": "2022-05-23T14:20:45.200Z"
   },
   {
    "duration": 0,
    "start_time": "2022-05-23T14:20:45.202Z"
   },
   {
    "duration": 0,
    "start_time": "2022-05-23T14:20:45.203Z"
   },
   {
    "duration": 0,
    "start_time": "2022-05-23T14:20:45.258Z"
   },
   {
    "duration": 0,
    "start_time": "2022-05-23T14:20:45.260Z"
   },
   {
    "duration": 0,
    "start_time": "2022-05-23T14:20:45.261Z"
   },
   {
    "duration": 0,
    "start_time": "2022-05-23T14:20:45.263Z"
   },
   {
    "duration": 0,
    "start_time": "2022-05-23T14:20:45.264Z"
   },
   {
    "duration": 0,
    "start_time": "2022-05-23T14:20:45.265Z"
   },
   {
    "duration": 0,
    "start_time": "2022-05-23T14:20:45.267Z"
   },
   {
    "duration": 0,
    "start_time": "2022-05-23T14:20:45.268Z"
   },
   {
    "duration": 0,
    "start_time": "2022-05-23T14:20:45.269Z"
   },
   {
    "duration": 0,
    "start_time": "2022-05-23T14:20:45.271Z"
   },
   {
    "duration": 0,
    "start_time": "2022-05-23T14:20:45.272Z"
   },
   {
    "duration": 0,
    "start_time": "2022-05-23T14:20:45.274Z"
   },
   {
    "duration": 0,
    "start_time": "2022-05-23T14:20:45.275Z"
   },
   {
    "duration": 0,
    "start_time": "2022-05-23T14:20:45.276Z"
   },
   {
    "duration": 0,
    "start_time": "2022-05-23T14:20:45.278Z"
   },
   {
    "duration": 4,
    "start_time": "2022-05-23T14:21:46.459Z"
   },
   {
    "duration": 37,
    "start_time": "2022-05-23T14:21:51.637Z"
   },
   {
    "duration": 1288,
    "start_time": "2022-05-23T14:22:00.173Z"
   },
   {
    "duration": 19,
    "start_time": "2022-05-23T14:22:01.464Z"
   },
   {
    "duration": 87,
    "start_time": "2022-05-23T14:22:01.484Z"
   },
   {
    "duration": 242,
    "start_time": "2022-05-23T14:22:01.574Z"
   },
   {
    "duration": 4,
    "start_time": "2022-05-23T14:22:01.818Z"
   },
   {
    "duration": 46,
    "start_time": "2022-05-23T14:22:01.823Z"
   },
   {
    "duration": 69,
    "start_time": "2022-05-23T14:22:01.871Z"
   },
   {
    "duration": 23,
    "start_time": "2022-05-23T14:22:01.942Z"
   },
   {
    "duration": 283,
    "start_time": "2022-05-23T14:22:01.967Z"
   },
   {
    "duration": 24,
    "start_time": "2022-05-23T14:22:02.252Z"
   },
   {
    "duration": 33,
    "start_time": "2022-05-23T14:22:02.278Z"
   },
   {
    "duration": 16,
    "start_time": "2022-05-23T14:22:02.312Z"
   },
   {
    "duration": 14,
    "start_time": "2022-05-23T14:22:02.330Z"
   },
   {
    "duration": 298,
    "start_time": "2022-05-23T14:22:02.345Z"
   },
   {
    "duration": 29,
    "start_time": "2022-05-23T14:22:02.645Z"
   },
   {
    "duration": 13,
    "start_time": "2022-05-23T14:22:02.676Z"
   },
   {
    "duration": 33,
    "start_time": "2022-05-23T14:22:02.690Z"
   },
   {
    "duration": 43,
    "start_time": "2022-05-23T14:22:02.724Z"
   },
   {
    "duration": 22,
    "start_time": "2022-05-23T14:22:02.769Z"
   },
   {
    "duration": 11,
    "start_time": "2022-05-23T14:22:02.793Z"
   },
   {
    "duration": 29,
    "start_time": "2022-05-23T14:22:02.806Z"
   },
   {
    "duration": 50,
    "start_time": "2022-05-23T14:22:02.837Z"
   },
   {
    "duration": 60,
    "start_time": "2022-05-23T14:22:02.889Z"
   },
   {
    "duration": 42,
    "start_time": "2022-05-23T14:22:02.951Z"
   },
   {
    "duration": 34,
    "start_time": "2022-05-23T14:22:02.995Z"
   },
   {
    "duration": 6,
    "start_time": "2022-05-23T14:22:03.030Z"
   },
   {
    "duration": 49,
    "start_time": "2022-05-23T14:22:03.038Z"
   },
   {
    "duration": 6,
    "start_time": "2022-05-23T14:22:03.092Z"
   },
   {
    "duration": 29,
    "start_time": "2022-05-23T14:22:03.100Z"
   },
   {
    "duration": 5,
    "start_time": "2022-05-23T14:22:03.131Z"
   },
   {
    "duration": 93,
    "start_time": "2022-05-23T14:22:03.138Z"
   },
   {
    "duration": 6,
    "start_time": "2022-05-23T14:22:03.233Z"
   },
   {
    "duration": 38,
    "start_time": "2022-05-23T14:22:03.241Z"
   },
   {
    "duration": 9,
    "start_time": "2022-05-23T14:22:03.281Z"
   },
   {
    "duration": 59,
    "start_time": "2022-05-23T14:22:03.293Z"
   },
   {
    "duration": 44,
    "start_time": "2022-05-23T14:22:03.355Z"
   },
   {
    "duration": 44,
    "start_time": "2022-05-23T14:22:03.401Z"
   },
   {
    "duration": 31,
    "start_time": "2022-05-23T14:22:03.448Z"
   },
   {
    "duration": 8,
    "start_time": "2022-05-23T14:22:03.481Z"
   },
   {
    "duration": 46,
    "start_time": "2022-05-23T14:22:03.490Z"
   },
   {
    "duration": 6,
    "start_time": "2022-05-23T14:22:03.538Z"
   },
   {
    "duration": 244,
    "start_time": "2022-05-23T14:23:45.135Z"
   },
   {
    "duration": 179,
    "start_time": "2022-05-23T14:26:00.185Z"
   },
   {
    "duration": 15,
    "start_time": "2022-05-23T15:32:04.648Z"
   },
   {
    "duration": 10,
    "start_time": "2022-05-23T15:32:46.106Z"
   }
  ],
  "kernelspec": {
   "display_name": "Python 3 (ipykernel)",
   "language": "python",
   "name": "python3"
  },
  "language_info": {
   "codemirror_mode": {
    "name": "ipython",
    "version": 3
   },
   "file_extension": ".py",
   "mimetype": "text/x-python",
   "name": "python",
   "nbconvert_exporter": "python",
   "pygments_lexer": "ipython3",
   "version": "3.9.7"
  },
  "toc": {
   "base_numbering": 1,
   "nav_menu": {
    "height": "11.9886px",
    "width": "205px"
   },
   "number_sections": true,
   "sideBar": true,
   "skip_h1_title": true,
   "title_cell": "Table of Contents",
   "title_sidebar": "Contents",
   "toc_cell": true,
   "toc_position": {
    "height": "calc(100% - 180px)",
    "left": "10px",
    "top": "150px",
    "width": "463.891px"
   },
   "toc_section_display": true,
   "toc_window_display": false
  }
 },
 "nbformat": 4,
 "nbformat_minor": 5
}
